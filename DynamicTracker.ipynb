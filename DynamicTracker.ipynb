{
 "cells": [
  {
   "cell_type": "code",
   "execution_count": 5,
   "id": "c1a9ca53",
   "metadata": {},
   "outputs": [],
   "source": [
    "from nuscenes.nuscenes import NuScenes\n",
    "directory = r\"/home/kfir/workspace/nuScenes/v1.0-trainval\"\n",
    "nusc = NuScenes(version=\"v1.0-trainval\", dataroot=directory, verbose=False)"
   ]
  },
  {
   "cell_type": "code",
   "execution_count": 41,
   "id": "a2f090cf",
   "metadata": {},
   "outputs": [
    {
     "name": "stdout",
     "output_type": "stream",
     "text": [
      "The autoreload extension is already loaded. To reload it, use:\n",
      "  %reload_ext autoreload\n"
     ]
    }
   ],
   "source": [
    "%load_ext autoreload\n",
    "%autoreload 2\n",
    "from dataset import *\n",
    "from dynamic_tracker import *"
   ]
  },
  {
   "cell_type": "code",
   "execution_count": 7,
   "id": "52197da6",
   "metadata": {},
   "outputs": [
    {
     "name": "stdout",
     "output_type": "stream",
     "text": [
      "scene_id=690 scene_name=scene-0904 map_name=boston-seaport\n"
     ]
    },
    {
     "name": "stderr",
     "output_type": "stream",
     "text": [
      "/home/kfir/workspace/RadarLocalization/dataset.py:313: VisibleDeprecationWarning: Creating an ndarray from ragged nested sequences (which is a list-or-tuple of lists-or-tuples-or ndarrays with different lengths or shapes) is deprecated. If you meant to do this, you must specify 'dtype=object' when creating the ndarray\n",
      "  rot_imu = np.array([(m['utime'], m['q']) for m in self.imu])\n"
     ]
    },
    {
     "name": "stdout",
     "output_type": "stream",
     "text": [
      "odom_speed [[1.53729795e+15 9.00000000e+00]\n",
      " [1.53729795e+15 9.00000000e+00]\n",
      " [1.53729795e+15 9.00000000e+00]\n",
      " ...\n",
      " [1.53729811e+15 3.70000000e+01]\n",
      " [1.53729811e+15 3.70000000e+01]\n",
      " [1.53729811e+15 3.70000000e+01]]\n"
     ]
    }
   ],
   "source": [
    "scene_id = 690\n",
    "N = 800\n",
    "\n",
    "dataset = NuscenesDataset(nusc=nusc, directory=directory, scene_id=scene_id, N=N)"
   ]
  },
  {
   "cell_type": "code",
   "execution_count": 26,
   "id": "61286c86",
   "metadata": {},
   "outputs": [
    {
     "name": "stderr",
     "output_type": "stream",
     "text": [
      "/home/kfir/workspace/RadarLocalization/dataset.py:263: VisibleDeprecationWarning: Creating an ndarray from ragged nested sequences (which is a list-or-tuple of lists-or-tuples-or ndarrays with different lengths or shapes) is deprecated. If you meant to do this, you must specify 'dtype=object' when creating the ndarray\n",
      "  veh_speed = np.array([(m['utime'], m['vel']) for m in self.veh_pose])\n",
      "/home/kfir/workspace/RadarLocalization/dataset.py:263: VisibleDeprecationWarning: Creating an ndarray from ragged nested sequences (which is a list-or-tuple of lists-or-tuples-or ndarrays with different lengths or shapes) is deprecated. If you meant to do this, you must specify 'dtype=object' when creating the ndarray\n",
      "  veh_speed = np.array([(m['utime'], m['vel']) for m in self.veh_pose])\n",
      "/home/kfir/workspace/RadarLocalization/dataset.py:263: VisibleDeprecationWarning: Creating an ndarray from ragged nested sequences (which is a list-or-tuple of lists-or-tuples-or ndarrays with different lengths or shapes) is deprecated. If you meant to do this, you must specify 'dtype=object' when creating the ndarray\n",
      "  veh_speed = np.array([(m['utime'], m['vel']) for m in self.veh_pose])\n",
      "/home/kfir/workspace/RadarLocalization/dataset.py:263: VisibleDeprecationWarning: Creating an ndarray from ragged nested sequences (which is a list-or-tuple of lists-or-tuples-or ndarrays with different lengths or shapes) is deprecated. If you meant to do this, you must specify 'dtype=object' when creating the ndarray\n",
      "  veh_speed = np.array([(m['utime'], m['vel']) for m in self.veh_pose])\n",
      "/home/kfir/workspace/RadarLocalization/dataset.py:263: VisibleDeprecationWarning: Creating an ndarray from ragged nested sequences (which is a list-or-tuple of lists-or-tuples-or ndarrays with different lengths or shapes) is deprecated. If you meant to do this, you must specify 'dtype=object' when creating the ndarray\n",
      "  veh_speed = np.array([(m['utime'], m['vel']) for m in self.veh_pose])\n",
      "/home/kfir/workspace/RadarLocalization/dataset.py:263: VisibleDeprecationWarning: Creating an ndarray from ragged nested sequences (which is a list-or-tuple of lists-or-tuples-or ndarrays with different lengths or shapes) is deprecated. If you meant to do this, you must specify 'dtype=object' when creating the ndarray\n",
      "  veh_speed = np.array([(m['utime'], m['vel']) for m in self.veh_pose])\n",
      "/home/kfir/workspace/RadarLocalization/dataset.py:263: VisibleDeprecationWarning: Creating an ndarray from ragged nested sequences (which is a list-or-tuple of lists-or-tuples-or ndarrays with different lengths or shapes) is deprecated. If you meant to do this, you must specify 'dtype=object' when creating the ndarray\n",
      "  veh_speed = np.array([(m['utime'], m['vel']) for m in self.veh_pose])\n",
      "/home/kfir/workspace/RadarLocalization/dataset.py:263: VisibleDeprecationWarning: Creating an ndarray from ragged nested sequences (which is a list-or-tuple of lists-or-tuples-or ndarrays with different lengths or shapes) is deprecated. If you meant to do this, you must specify 'dtype=object' when creating the ndarray\n",
      "  veh_speed = np.array([(m['utime'], m['vel']) for m in self.veh_pose])\n",
      "/home/kfir/workspace/RadarLocalization/dataset.py:263: VisibleDeprecationWarning: Creating an ndarray from ragged nested sequences (which is a list-or-tuple of lists-or-tuples-or ndarrays with different lengths or shapes) is deprecated. If you meant to do this, you must specify 'dtype=object' when creating the ndarray\n",
      "  veh_speed = np.array([(m['utime'], m['vel']) for m in self.veh_pose])\n",
      "/home/kfir/workspace/RadarLocalization/dataset.py:263: VisibleDeprecationWarning: Creating an ndarray from ragged nested sequences (which is a list-or-tuple of lists-or-tuples-or ndarrays with different lengths or shapes) is deprecated. If you meant to do this, you must specify 'dtype=object' when creating the ndarray\n",
      "  veh_speed = np.array([(m['utime'], m['vel']) for m in self.veh_pose])\n",
      "/home/kfir/workspace/RadarLocalization/dataset.py:263: VisibleDeprecationWarning: Creating an ndarray from ragged nested sequences (which is a list-or-tuple of lists-or-tuples-or ndarrays with different lengths or shapes) is deprecated. If you meant to do this, you must specify 'dtype=object' when creating the ndarray\n",
      "  veh_speed = np.array([(m['utime'], m['vel']) for m in self.veh_pose])\n",
      "/home/kfir/workspace/RadarLocalization/dataset.py:263: VisibleDeprecationWarning: Creating an ndarray from ragged nested sequences (which is a list-or-tuple of lists-or-tuples-or ndarrays with different lengths or shapes) is deprecated. If you meant to do this, you must specify 'dtype=object' when creating the ndarray\n",
      "  veh_speed = np.array([(m['utime'], m['vel']) for m in self.veh_pose])\n",
      "/home/kfir/workspace/RadarLocalization/dataset.py:263: VisibleDeprecationWarning: Creating an ndarray from ragged nested sequences (which is a list-or-tuple of lists-or-tuples-or ndarrays with different lengths or shapes) is deprecated. If you meant to do this, you must specify 'dtype=object' when creating the ndarray\n",
      "  veh_speed = np.array([(m['utime'], m['vel']) for m in self.veh_pose])\n",
      "/home/kfir/workspace/RadarLocalization/dataset.py:263: VisibleDeprecationWarning: Creating an ndarray from ragged nested sequences (which is a list-or-tuple of lists-or-tuples-or ndarrays with different lengths or shapes) is deprecated. If you meant to do this, you must specify 'dtype=object' when creating the ndarray\n",
      "  veh_speed = np.array([(m['utime'], m['vel']) for m in self.veh_pose])\n",
      "/home/kfir/workspace/RadarLocalization/dataset.py:263: VisibleDeprecationWarning: Creating an ndarray from ragged nested sequences (which is a list-or-tuple of lists-or-tuples-or ndarrays with different lengths or shapes) is deprecated. If you meant to do this, you must specify 'dtype=object' when creating the ndarray\n",
      "  veh_speed = np.array([(m['utime'], m['vel']) for m in self.veh_pose])\n",
      "/home/kfir/workspace/RadarLocalization/dataset.py:263: VisibleDeprecationWarning: Creating an ndarray from ragged nested sequences (which is a list-or-tuple of lists-or-tuples-or ndarrays with different lengths or shapes) is deprecated. If you meant to do this, you must specify 'dtype=object' when creating the ndarray\n",
      "  veh_speed = np.array([(m['utime'], m['vel']) for m in self.veh_pose])\n",
      "/home/kfir/workspace/RadarLocalization/dataset.py:263: VisibleDeprecationWarning: Creating an ndarray from ragged nested sequences (which is a list-or-tuple of lists-or-tuples-or ndarrays with different lengths or shapes) is deprecated. If you meant to do this, you must specify 'dtype=object' when creating the ndarray\n",
      "  veh_speed = np.array([(m['utime'], m['vel']) for m in self.veh_pose])\n",
      "/home/kfir/workspace/RadarLocalization/dataset.py:263: VisibleDeprecationWarning: Creating an ndarray from ragged nested sequences (which is a list-or-tuple of lists-or-tuples-or ndarrays with different lengths or shapes) is deprecated. If you meant to do this, you must specify 'dtype=object' when creating the ndarray\n",
      "  veh_speed = np.array([(m['utime'], m['vel']) for m in self.veh_pose])\n",
      "/home/kfir/workspace/RadarLocalization/dataset.py:263: VisibleDeprecationWarning: Creating an ndarray from ragged nested sequences (which is a list-or-tuple of lists-or-tuples-or ndarrays with different lengths or shapes) is deprecated. If you meant to do this, you must specify 'dtype=object' when creating the ndarray\n",
      "  veh_speed = np.array([(m['utime'], m['vel']) for m in self.veh_pose])\n",
      "/home/kfir/workspace/RadarLocalization/dataset.py:263: VisibleDeprecationWarning: Creating an ndarray from ragged nested sequences (which is a list-or-tuple of lists-or-tuples-or ndarrays with different lengths or shapes) is deprecated. If you meant to do this, you must specify 'dtype=object' when creating the ndarray\n",
      "  veh_speed = np.array([(m['utime'], m['vel']) for m in self.veh_pose])\n",
      "/home/kfir/workspace/RadarLocalization/dataset.py:263: VisibleDeprecationWarning: Creating an ndarray from ragged nested sequences (which is a list-or-tuple of lists-or-tuples-or ndarrays with different lengths or shapes) is deprecated. If you meant to do this, you must specify 'dtype=object' when creating the ndarray\n",
      "  veh_speed = np.array([(m['utime'], m['vel']) for m in self.veh_pose])\n"
     ]
    },
    {
     "name": "stderr",
     "output_type": "stream",
     "text": [
      "/home/kfir/workspace/RadarLocalization/dataset.py:263: VisibleDeprecationWarning: Creating an ndarray from ragged nested sequences (which is a list-or-tuple of lists-or-tuples-or ndarrays with different lengths or shapes) is deprecated. If you meant to do this, you must specify 'dtype=object' when creating the ndarray\n",
      "  veh_speed = np.array([(m['utime'], m['vel']) for m in self.veh_pose])\n",
      "/home/kfir/workspace/RadarLocalization/dataset.py:263: VisibleDeprecationWarning: Creating an ndarray from ragged nested sequences (which is a list-or-tuple of lists-or-tuples-or ndarrays with different lengths or shapes) is deprecated. If you meant to do this, you must specify 'dtype=object' when creating the ndarray\n",
      "  veh_speed = np.array([(m['utime'], m['vel']) for m in self.veh_pose])\n",
      "/home/kfir/workspace/RadarLocalization/dataset.py:263: VisibleDeprecationWarning: Creating an ndarray from ragged nested sequences (which is a list-or-tuple of lists-or-tuples-or ndarrays with different lengths or shapes) is deprecated. If you meant to do this, you must specify 'dtype=object' when creating the ndarray\n",
      "  veh_speed = np.array([(m['utime'], m['vel']) for m in self.veh_pose])\n",
      "/home/kfir/workspace/RadarLocalization/dataset.py:263: VisibleDeprecationWarning: Creating an ndarray from ragged nested sequences (which is a list-or-tuple of lists-or-tuples-or ndarrays with different lengths or shapes) is deprecated. If you meant to do this, you must specify 'dtype=object' when creating the ndarray\n",
      "  veh_speed = np.array([(m['utime'], m['vel']) for m in self.veh_pose])\n",
      "/home/kfir/workspace/RadarLocalization/dataset.py:263: VisibleDeprecationWarning: Creating an ndarray from ragged nested sequences (which is a list-or-tuple of lists-or-tuples-or ndarrays with different lengths or shapes) is deprecated. If you meant to do this, you must specify 'dtype=object' when creating the ndarray\n",
      "  veh_speed = np.array([(m['utime'], m['vel']) for m in self.veh_pose])\n",
      "/home/kfir/workspace/RadarLocalization/dataset.py:263: VisibleDeprecationWarning: Creating an ndarray from ragged nested sequences (which is a list-or-tuple of lists-or-tuples-or ndarrays with different lengths or shapes) is deprecated. If you meant to do this, you must specify 'dtype=object' when creating the ndarray\n",
      "  veh_speed = np.array([(m['utime'], m['vel']) for m in self.veh_pose])\n",
      "/home/kfir/workspace/RadarLocalization/dataset.py:263: VisibleDeprecationWarning: Creating an ndarray from ragged nested sequences (which is a list-or-tuple of lists-or-tuples-or ndarrays with different lengths or shapes) is deprecated. If you meant to do this, you must specify 'dtype=object' when creating the ndarray\n",
      "  veh_speed = np.array([(m['utime'], m['vel']) for m in self.veh_pose])\n",
      "/home/kfir/workspace/RadarLocalization/dataset.py:263: VisibleDeprecationWarning: Creating an ndarray from ragged nested sequences (which is a list-or-tuple of lists-or-tuples-or ndarrays with different lengths or shapes) is deprecated. If you meant to do this, you must specify 'dtype=object' when creating the ndarray\n",
      "  veh_speed = np.array([(m['utime'], m['vel']) for m in self.veh_pose])\n",
      "/home/kfir/workspace/RadarLocalization/dataset.py:263: VisibleDeprecationWarning: Creating an ndarray from ragged nested sequences (which is a list-or-tuple of lists-or-tuples-or ndarrays with different lengths or shapes) is deprecated. If you meant to do this, you must specify 'dtype=object' when creating the ndarray\n",
      "  veh_speed = np.array([(m['utime'], m['vel']) for m in self.veh_pose])\n",
      "/home/kfir/workspace/RadarLocalization/dataset.py:263: VisibleDeprecationWarning: Creating an ndarray from ragged nested sequences (which is a list-or-tuple of lists-or-tuples-or ndarrays with different lengths or shapes) is deprecated. If you meant to do this, you must specify 'dtype=object' when creating the ndarray\n",
      "  veh_speed = np.array([(m['utime'], m['vel']) for m in self.veh_pose])\n",
      "/home/kfir/workspace/RadarLocalization/dataset.py:263: VisibleDeprecationWarning: Creating an ndarray from ragged nested sequences (which is a list-or-tuple of lists-or-tuples-or ndarrays with different lengths or shapes) is deprecated. If you meant to do this, you must specify 'dtype=object' when creating the ndarray\n",
      "  veh_speed = np.array([(m['utime'], m['vel']) for m in self.veh_pose])\n",
      "/home/kfir/workspace/RadarLocalization/dataset.py:263: VisibleDeprecationWarning: Creating an ndarray from ragged nested sequences (which is a list-or-tuple of lists-or-tuples-or ndarrays with different lengths or shapes) is deprecated. If you meant to do this, you must specify 'dtype=object' when creating the ndarray\n",
      "  veh_speed = np.array([(m['utime'], m['vel']) for m in self.veh_pose])\n",
      "/home/kfir/workspace/RadarLocalization/dataset.py:263: VisibleDeprecationWarning: Creating an ndarray from ragged nested sequences (which is a list-or-tuple of lists-or-tuples-or ndarrays with different lengths or shapes) is deprecated. If you meant to do this, you must specify 'dtype=object' when creating the ndarray\n",
      "  veh_speed = np.array([(m['utime'], m['vel']) for m in self.veh_pose])\n",
      "/home/kfir/workspace/RadarLocalization/dataset.py:263: VisibleDeprecationWarning: Creating an ndarray from ragged nested sequences (which is a list-or-tuple of lists-or-tuples-or ndarrays with different lengths or shapes) is deprecated. If you meant to do this, you must specify 'dtype=object' when creating the ndarray\n",
      "  veh_speed = np.array([(m['utime'], m['vel']) for m in self.veh_pose])\n",
      "/home/kfir/workspace/RadarLocalization/dataset.py:263: VisibleDeprecationWarning: Creating an ndarray from ragged nested sequences (which is a list-or-tuple of lists-or-tuples-or ndarrays with different lengths or shapes) is deprecated. If you meant to do this, you must specify 'dtype=object' when creating the ndarray\n",
      "  veh_speed = np.array([(m['utime'], m['vel']) for m in self.veh_pose])\n",
      "/home/kfir/workspace/RadarLocalization/dataset.py:263: VisibleDeprecationWarning: Creating an ndarray from ragged nested sequences (which is a list-or-tuple of lists-or-tuples-or ndarrays with different lengths or shapes) is deprecated. If you meant to do this, you must specify 'dtype=object' when creating the ndarray\n",
      "  veh_speed = np.array([(m['utime'], m['vel']) for m in self.veh_pose])\n",
      "/home/kfir/workspace/RadarLocalization/dataset.py:263: VisibleDeprecationWarning: Creating an ndarray from ragged nested sequences (which is a list-or-tuple of lists-or-tuples-or ndarrays with different lengths or shapes) is deprecated. If you meant to do this, you must specify 'dtype=object' when creating the ndarray\n",
      "  veh_speed = np.array([(m['utime'], m['vel']) for m in self.veh_pose])\n",
      "/home/kfir/workspace/RadarLocalization/dataset.py:263: VisibleDeprecationWarning: Creating an ndarray from ragged nested sequences (which is a list-or-tuple of lists-or-tuples-or ndarrays with different lengths or shapes) is deprecated. If you meant to do this, you must specify 'dtype=object' when creating the ndarray\n",
      "  veh_speed = np.array([(m['utime'], m['vel']) for m in self.veh_pose])\n",
      "/home/kfir/workspace/RadarLocalization/dataset.py:263: VisibleDeprecationWarning: Creating an ndarray from ragged nested sequences (which is a list-or-tuple of lists-or-tuples-or ndarrays with different lengths or shapes) is deprecated. If you meant to do this, you must specify 'dtype=object' when creating the ndarray\n",
      "  veh_speed = np.array([(m['utime'], m['vel']) for m in self.veh_pose])\n",
      "/home/kfir/workspace/RadarLocalization/dataset.py:263: VisibleDeprecationWarning: Creating an ndarray from ragged nested sequences (which is a list-or-tuple of lists-or-tuples-or ndarrays with different lengths or shapes) is deprecated. If you meant to do this, you must specify 'dtype=object' when creating the ndarray\n",
      "  veh_speed = np.array([(m['utime'], m['vel']) for m in self.veh_pose])\n",
      "/home/kfir/workspace/RadarLocalization/dataset.py:263: VisibleDeprecationWarning: Creating an ndarray from ragged nested sequences (which is a list-or-tuple of lists-or-tuples-or ndarrays with different lengths or shapes) is deprecated. If you meant to do this, you must specify 'dtype=object' when creating the ndarray\n",
      "  veh_speed = np.array([(m['utime'], m['vel']) for m in self.veh_pose])\n"
     ]
    },
    {
     "name": "stderr",
     "output_type": "stream",
     "text": [
      "/home/kfir/workspace/RadarLocalization/dataset.py:263: VisibleDeprecationWarning: Creating an ndarray from ragged nested sequences (which is a list-or-tuple of lists-or-tuples-or ndarrays with different lengths or shapes) is deprecated. If you meant to do this, you must specify 'dtype=object' when creating the ndarray\n",
      "  veh_speed = np.array([(m['utime'], m['vel']) for m in self.veh_pose])\n",
      "/home/kfir/workspace/RadarLocalization/dataset.py:263: VisibleDeprecationWarning: Creating an ndarray from ragged nested sequences (which is a list-or-tuple of lists-or-tuples-or ndarrays with different lengths or shapes) is deprecated. If you meant to do this, you must specify 'dtype=object' when creating the ndarray\n",
      "  veh_speed = np.array([(m['utime'], m['vel']) for m in self.veh_pose])\n",
      "/home/kfir/workspace/RadarLocalization/dataset.py:263: VisibleDeprecationWarning: Creating an ndarray from ragged nested sequences (which is a list-or-tuple of lists-or-tuples-or ndarrays with different lengths or shapes) is deprecated. If you meant to do this, you must specify 'dtype=object' when creating the ndarray\n",
      "  veh_speed = np.array([(m['utime'], m['vel']) for m in self.veh_pose])\n",
      "/home/kfir/workspace/RadarLocalization/dataset.py:263: VisibleDeprecationWarning: Creating an ndarray from ragged nested sequences (which is a list-or-tuple of lists-or-tuples-or ndarrays with different lengths or shapes) is deprecated. If you meant to do this, you must specify 'dtype=object' when creating the ndarray\n",
      "  veh_speed = np.array([(m['utime'], m['vel']) for m in self.veh_pose])\n",
      "/home/kfir/workspace/RadarLocalization/dataset.py:263: VisibleDeprecationWarning: Creating an ndarray from ragged nested sequences (which is a list-or-tuple of lists-or-tuples-or ndarrays with different lengths or shapes) is deprecated. If you meant to do this, you must specify 'dtype=object' when creating the ndarray\n",
      "  veh_speed = np.array([(m['utime'], m['vel']) for m in self.veh_pose])\n",
      "/home/kfir/workspace/RadarLocalization/dataset.py:263: VisibleDeprecationWarning: Creating an ndarray from ragged nested sequences (which is a list-or-tuple of lists-or-tuples-or ndarrays with different lengths or shapes) is deprecated. If you meant to do this, you must specify 'dtype=object' when creating the ndarray\n",
      "  veh_speed = np.array([(m['utime'], m['vel']) for m in self.veh_pose])\n",
      "/home/kfir/workspace/RadarLocalization/dataset.py:263: VisibleDeprecationWarning: Creating an ndarray from ragged nested sequences (which is a list-or-tuple of lists-or-tuples-or ndarrays with different lengths or shapes) is deprecated. If you meant to do this, you must specify 'dtype=object' when creating the ndarray\n",
      "  veh_speed = np.array([(m['utime'], m['vel']) for m in self.veh_pose])\n",
      "/home/kfir/workspace/RadarLocalization/dataset.py:263: VisibleDeprecationWarning: Creating an ndarray from ragged nested sequences (which is a list-or-tuple of lists-or-tuples-or ndarrays with different lengths or shapes) is deprecated. If you meant to do this, you must specify 'dtype=object' when creating the ndarray\n",
      "  veh_speed = np.array([(m['utime'], m['vel']) for m in self.veh_pose])\n",
      "/home/kfir/workspace/RadarLocalization/dataset.py:263: VisibleDeprecationWarning: Creating an ndarray from ragged nested sequences (which is a list-or-tuple of lists-or-tuples-or ndarrays with different lengths or shapes) is deprecated. If you meant to do this, you must specify 'dtype=object' when creating the ndarray\n",
      "  veh_speed = np.array([(m['utime'], m['vel']) for m in self.veh_pose])\n",
      "/home/kfir/workspace/RadarLocalization/dataset.py:263: VisibleDeprecationWarning: Creating an ndarray from ragged nested sequences (which is a list-or-tuple of lists-or-tuples-or ndarrays with different lengths or shapes) is deprecated. If you meant to do this, you must specify 'dtype=object' when creating the ndarray\n",
      "  veh_speed = np.array([(m['utime'], m['vel']) for m in self.veh_pose])\n",
      "/home/kfir/workspace/RadarLocalization/dataset.py:263: VisibleDeprecationWarning: Creating an ndarray from ragged nested sequences (which is a list-or-tuple of lists-or-tuples-or ndarrays with different lengths or shapes) is deprecated. If you meant to do this, you must specify 'dtype=object' when creating the ndarray\n",
      "  veh_speed = np.array([(m['utime'], m['vel']) for m in self.veh_pose])\n",
      "/home/kfir/workspace/RadarLocalization/dataset.py:263: VisibleDeprecationWarning: Creating an ndarray from ragged nested sequences (which is a list-or-tuple of lists-or-tuples-or ndarrays with different lengths or shapes) is deprecated. If you meant to do this, you must specify 'dtype=object' when creating the ndarray\n",
      "  veh_speed = np.array([(m['utime'], m['vel']) for m in self.veh_pose])\n",
      "/home/kfir/workspace/RadarLocalization/dataset.py:263: VisibleDeprecationWarning: Creating an ndarray from ragged nested sequences (which is a list-or-tuple of lists-or-tuples-or ndarrays with different lengths or shapes) is deprecated. If you meant to do this, you must specify 'dtype=object' when creating the ndarray\n",
      "  veh_speed = np.array([(m['utime'], m['vel']) for m in self.veh_pose])\n",
      "/home/kfir/workspace/RadarLocalization/dataset.py:263: VisibleDeprecationWarning: Creating an ndarray from ragged nested sequences (which is a list-or-tuple of lists-or-tuples-or ndarrays with different lengths or shapes) is deprecated. If you meant to do this, you must specify 'dtype=object' when creating the ndarray\n",
      "  veh_speed = np.array([(m['utime'], m['vel']) for m in self.veh_pose])\n",
      "/home/kfir/workspace/RadarLocalization/dataset.py:263: VisibleDeprecationWarning: Creating an ndarray from ragged nested sequences (which is a list-or-tuple of lists-or-tuples-or ndarrays with different lengths or shapes) is deprecated. If you meant to do this, you must specify 'dtype=object' when creating the ndarray\n",
      "  veh_speed = np.array([(m['utime'], m['vel']) for m in self.veh_pose])\n",
      "/home/kfir/workspace/RadarLocalization/dataset.py:263: VisibleDeprecationWarning: Creating an ndarray from ragged nested sequences (which is a list-or-tuple of lists-or-tuples-or ndarrays with different lengths or shapes) is deprecated. If you meant to do this, you must specify 'dtype=object' when creating the ndarray\n",
      "  veh_speed = np.array([(m['utime'], m['vel']) for m in self.veh_pose])\n",
      "/home/kfir/workspace/RadarLocalization/dataset.py:263: VisibleDeprecationWarning: Creating an ndarray from ragged nested sequences (which is a list-or-tuple of lists-or-tuples-or ndarrays with different lengths or shapes) is deprecated. If you meant to do this, you must specify 'dtype=object' when creating the ndarray\n",
      "  veh_speed = np.array([(m['utime'], m['vel']) for m in self.veh_pose])\n",
      "/home/kfir/workspace/RadarLocalization/dataset.py:263: VisibleDeprecationWarning: Creating an ndarray from ragged nested sequences (which is a list-or-tuple of lists-or-tuples-or ndarrays with different lengths or shapes) is deprecated. If you meant to do this, you must specify 'dtype=object' when creating the ndarray\n",
      "  veh_speed = np.array([(m['utime'], m['vel']) for m in self.veh_pose])\n",
      "/home/kfir/workspace/RadarLocalization/dataset.py:263: VisibleDeprecationWarning: Creating an ndarray from ragged nested sequences (which is a list-or-tuple of lists-or-tuples-or ndarrays with different lengths or shapes) is deprecated. If you meant to do this, you must specify 'dtype=object' when creating the ndarray\n",
      "  veh_speed = np.array([(m['utime'], m['vel']) for m in self.veh_pose])\n",
      "/home/kfir/workspace/RadarLocalization/dataset.py:263: VisibleDeprecationWarning: Creating an ndarray from ragged nested sequences (which is a list-or-tuple of lists-or-tuples-or ndarrays with different lengths or shapes) is deprecated. If you meant to do this, you must specify 'dtype=object' when creating the ndarray\n",
      "  veh_speed = np.array([(m['utime'], m['vel']) for m in self.veh_pose])\n",
      "/home/kfir/workspace/RadarLocalization/dataset.py:263: VisibleDeprecationWarning: Creating an ndarray from ragged nested sequences (which is a list-or-tuple of lists-or-tuples-or ndarrays with different lengths or shapes) is deprecated. If you meant to do this, you must specify 'dtype=object' when creating the ndarray\n",
      "  veh_speed = np.array([(m['utime'], m['vel']) for m in self.veh_pose])\n"
     ]
    },
    {
     "name": "stderr",
     "output_type": "stream",
     "text": [
      "/home/kfir/workspace/RadarLocalization/dataset.py:263: VisibleDeprecationWarning: Creating an ndarray from ragged nested sequences (which is a list-or-tuple of lists-or-tuples-or ndarrays with different lengths or shapes) is deprecated. If you meant to do this, you must specify 'dtype=object' when creating the ndarray\n",
      "  veh_speed = np.array([(m['utime'], m['vel']) for m in self.veh_pose])\n",
      "/home/kfir/workspace/RadarLocalization/dataset.py:263: VisibleDeprecationWarning: Creating an ndarray from ragged nested sequences (which is a list-or-tuple of lists-or-tuples-or ndarrays with different lengths or shapes) is deprecated. If you meant to do this, you must specify 'dtype=object' when creating the ndarray\n",
      "  veh_speed = np.array([(m['utime'], m['vel']) for m in self.veh_pose])\n",
      "/home/kfir/workspace/RadarLocalization/dataset.py:263: VisibleDeprecationWarning: Creating an ndarray from ragged nested sequences (which is a list-or-tuple of lists-or-tuples-or ndarrays with different lengths or shapes) is deprecated. If you meant to do this, you must specify 'dtype=object' when creating the ndarray\n",
      "  veh_speed = np.array([(m['utime'], m['vel']) for m in self.veh_pose])\n",
      "/home/kfir/workspace/RadarLocalization/dataset.py:263: VisibleDeprecationWarning: Creating an ndarray from ragged nested sequences (which is a list-or-tuple of lists-or-tuples-or ndarrays with different lengths or shapes) is deprecated. If you meant to do this, you must specify 'dtype=object' when creating the ndarray\n",
      "  veh_speed = np.array([(m['utime'], m['vel']) for m in self.veh_pose])\n",
      "/home/kfir/workspace/RadarLocalization/dataset.py:263: VisibleDeprecationWarning: Creating an ndarray from ragged nested sequences (which is a list-or-tuple of lists-or-tuples-or ndarrays with different lengths or shapes) is deprecated. If you meant to do this, you must specify 'dtype=object' when creating the ndarray\n",
      "  veh_speed = np.array([(m['utime'], m['vel']) for m in self.veh_pose])\n",
      "/home/kfir/workspace/RadarLocalization/dataset.py:263: VisibleDeprecationWarning: Creating an ndarray from ragged nested sequences (which is a list-or-tuple of lists-or-tuples-or ndarrays with different lengths or shapes) is deprecated. If you meant to do this, you must specify 'dtype=object' when creating the ndarray\n",
      "  veh_speed = np.array([(m['utime'], m['vel']) for m in self.veh_pose])\n",
      "/home/kfir/workspace/RadarLocalization/dataset.py:263: VisibleDeprecationWarning: Creating an ndarray from ragged nested sequences (which is a list-or-tuple of lists-or-tuples-or ndarrays with different lengths or shapes) is deprecated. If you meant to do this, you must specify 'dtype=object' when creating the ndarray\n",
      "  veh_speed = np.array([(m['utime'], m['vel']) for m in self.veh_pose])\n",
      "/home/kfir/workspace/RadarLocalization/dataset.py:263: VisibleDeprecationWarning: Creating an ndarray from ragged nested sequences (which is a list-or-tuple of lists-or-tuples-or ndarrays with different lengths or shapes) is deprecated. If you meant to do this, you must specify 'dtype=object' when creating the ndarray\n",
      "  veh_speed = np.array([(m['utime'], m['vel']) for m in self.veh_pose])\n",
      "/home/kfir/workspace/RadarLocalization/dataset.py:263: VisibleDeprecationWarning: Creating an ndarray from ragged nested sequences (which is a list-or-tuple of lists-or-tuples-or ndarrays with different lengths or shapes) is deprecated. If you meant to do this, you must specify 'dtype=object' when creating the ndarray\n",
      "  veh_speed = np.array([(m['utime'], m['vel']) for m in self.veh_pose])\n",
      "/home/kfir/workspace/RadarLocalization/dataset.py:263: VisibleDeprecationWarning: Creating an ndarray from ragged nested sequences (which is a list-or-tuple of lists-or-tuples-or ndarrays with different lengths or shapes) is deprecated. If you meant to do this, you must specify 'dtype=object' when creating the ndarray\n",
      "  veh_speed = np.array([(m['utime'], m['vel']) for m in self.veh_pose])\n",
      "/home/kfir/workspace/RadarLocalization/dataset.py:263: VisibleDeprecationWarning: Creating an ndarray from ragged nested sequences (which is a list-or-tuple of lists-or-tuples-or ndarrays with different lengths or shapes) is deprecated. If you meant to do this, you must specify 'dtype=object' when creating the ndarray\n",
      "  veh_speed = np.array([(m['utime'], m['vel']) for m in self.veh_pose])\n",
      "/home/kfir/workspace/RadarLocalization/dataset.py:263: VisibleDeprecationWarning: Creating an ndarray from ragged nested sequences (which is a list-or-tuple of lists-or-tuples-or ndarrays with different lengths or shapes) is deprecated. If you meant to do this, you must specify 'dtype=object' when creating the ndarray\n",
      "  veh_speed = np.array([(m['utime'], m['vel']) for m in self.veh_pose])\n",
      "/home/kfir/workspace/RadarLocalization/dataset.py:263: VisibleDeprecationWarning: Creating an ndarray from ragged nested sequences (which is a list-or-tuple of lists-or-tuples-or ndarrays with different lengths or shapes) is deprecated. If you meant to do this, you must specify 'dtype=object' when creating the ndarray\n",
      "  veh_speed = np.array([(m['utime'], m['vel']) for m in self.veh_pose])\n",
      "/home/kfir/workspace/RadarLocalization/dataset.py:263: VisibleDeprecationWarning: Creating an ndarray from ragged nested sequences (which is a list-or-tuple of lists-or-tuples-or ndarrays with different lengths or shapes) is deprecated. If you meant to do this, you must specify 'dtype=object' when creating the ndarray\n",
      "  veh_speed = np.array([(m['utime'], m['vel']) for m in self.veh_pose])\n",
      "/home/kfir/workspace/RadarLocalization/dataset.py:263: VisibleDeprecationWarning: Creating an ndarray from ragged nested sequences (which is a list-or-tuple of lists-or-tuples-or ndarrays with different lengths or shapes) is deprecated. If you meant to do this, you must specify 'dtype=object' when creating the ndarray\n",
      "  veh_speed = np.array([(m['utime'], m['vel']) for m in self.veh_pose])\n",
      "/home/kfir/workspace/RadarLocalization/dataset.py:263: VisibleDeprecationWarning: Creating an ndarray from ragged nested sequences (which is a list-or-tuple of lists-or-tuples-or ndarrays with different lengths or shapes) is deprecated. If you meant to do this, you must specify 'dtype=object' when creating the ndarray\n",
      "  veh_speed = np.array([(m['utime'], m['vel']) for m in self.veh_pose])\n",
      "/home/kfir/workspace/RadarLocalization/dataset.py:263: VisibleDeprecationWarning: Creating an ndarray from ragged nested sequences (which is a list-or-tuple of lists-or-tuples-or ndarrays with different lengths or shapes) is deprecated. If you meant to do this, you must specify 'dtype=object' when creating the ndarray\n",
      "  veh_speed = np.array([(m['utime'], m['vel']) for m in self.veh_pose])\n",
      "/home/kfir/workspace/RadarLocalization/dataset.py:263: VisibleDeprecationWarning: Creating an ndarray from ragged nested sequences (which is a list-or-tuple of lists-or-tuples-or ndarrays with different lengths or shapes) is deprecated. If you meant to do this, you must specify 'dtype=object' when creating the ndarray\n",
      "  veh_speed = np.array([(m['utime'], m['vel']) for m in self.veh_pose])\n",
      "/home/kfir/workspace/RadarLocalization/dataset.py:263: VisibleDeprecationWarning: Creating an ndarray from ragged nested sequences (which is a list-or-tuple of lists-or-tuples-or ndarrays with different lengths or shapes) is deprecated. If you meant to do this, you must specify 'dtype=object' when creating the ndarray\n",
      "  veh_speed = np.array([(m['utime'], m['vel']) for m in self.veh_pose])\n",
      "/home/kfir/workspace/RadarLocalization/dataset.py:263: VisibleDeprecationWarning: Creating an ndarray from ragged nested sequences (which is a list-or-tuple of lists-or-tuples-or ndarrays with different lengths or shapes) is deprecated. If you meant to do this, you must specify 'dtype=object' when creating the ndarray\n",
      "  veh_speed = np.array([(m['utime'], m['vel']) for m in self.veh_pose])\n",
      "/home/kfir/workspace/RadarLocalization/dataset.py:263: VisibleDeprecationWarning: Creating an ndarray from ragged nested sequences (which is a list-or-tuple of lists-or-tuples-or ndarrays with different lengths or shapes) is deprecated. If you meant to do this, you must specify 'dtype=object' when creating the ndarray\n",
      "  veh_speed = np.array([(m['utime'], m['vel']) for m in self.veh_pose])\n"
     ]
    },
    {
     "name": "stderr",
     "output_type": "stream",
     "text": [
      "/home/kfir/workspace/RadarLocalization/dataset.py:263: VisibleDeprecationWarning: Creating an ndarray from ragged nested sequences (which is a list-or-tuple of lists-or-tuples-or ndarrays with different lengths or shapes) is deprecated. If you meant to do this, you must specify 'dtype=object' when creating the ndarray\n",
      "  veh_speed = np.array([(m['utime'], m['vel']) for m in self.veh_pose])\n",
      "/home/kfir/workspace/RadarLocalization/dataset.py:263: VisibleDeprecationWarning: Creating an ndarray from ragged nested sequences (which is a list-or-tuple of lists-or-tuples-or ndarrays with different lengths or shapes) is deprecated. If you meant to do this, you must specify 'dtype=object' when creating the ndarray\n",
      "  veh_speed = np.array([(m['utime'], m['vel']) for m in self.veh_pose])\n",
      "/home/kfir/workspace/RadarLocalization/dataset.py:263: VisibleDeprecationWarning: Creating an ndarray from ragged nested sequences (which is a list-or-tuple of lists-or-tuples-or ndarrays with different lengths or shapes) is deprecated. If you meant to do this, you must specify 'dtype=object' when creating the ndarray\n",
      "  veh_speed = np.array([(m['utime'], m['vel']) for m in self.veh_pose])\n",
      "/home/kfir/workspace/RadarLocalization/dataset.py:263: VisibleDeprecationWarning: Creating an ndarray from ragged nested sequences (which is a list-or-tuple of lists-or-tuples-or ndarrays with different lengths or shapes) is deprecated. If you meant to do this, you must specify 'dtype=object' when creating the ndarray\n",
      "  veh_speed = np.array([(m['utime'], m['vel']) for m in self.veh_pose])\n",
      "/home/kfir/workspace/RadarLocalization/dataset.py:263: VisibleDeprecationWarning: Creating an ndarray from ragged nested sequences (which is a list-or-tuple of lists-or-tuples-or ndarrays with different lengths or shapes) is deprecated. If you meant to do this, you must specify 'dtype=object' when creating the ndarray\n",
      "  veh_speed = np.array([(m['utime'], m['vel']) for m in self.veh_pose])\n",
      "/home/kfir/workspace/RadarLocalization/dataset.py:263: VisibleDeprecationWarning: Creating an ndarray from ragged nested sequences (which is a list-or-tuple of lists-or-tuples-or ndarrays with different lengths or shapes) is deprecated. If you meant to do this, you must specify 'dtype=object' when creating the ndarray\n",
      "  veh_speed = np.array([(m['utime'], m['vel']) for m in self.veh_pose])\n",
      "/home/kfir/workspace/RadarLocalization/dataset.py:263: VisibleDeprecationWarning: Creating an ndarray from ragged nested sequences (which is a list-or-tuple of lists-or-tuples-or ndarrays with different lengths or shapes) is deprecated. If you meant to do this, you must specify 'dtype=object' when creating the ndarray\n",
      "  veh_speed = np.array([(m['utime'], m['vel']) for m in self.veh_pose])\n",
      "/home/kfir/workspace/RadarLocalization/dataset.py:263: VisibleDeprecationWarning: Creating an ndarray from ragged nested sequences (which is a list-or-tuple of lists-or-tuples-or ndarrays with different lengths or shapes) is deprecated. If you meant to do this, you must specify 'dtype=object' when creating the ndarray\n",
      "  veh_speed = np.array([(m['utime'], m['vel']) for m in self.veh_pose])\n",
      "/home/kfir/workspace/RadarLocalization/dataset.py:263: VisibleDeprecationWarning: Creating an ndarray from ragged nested sequences (which is a list-or-tuple of lists-or-tuples-or ndarrays with different lengths or shapes) is deprecated. If you meant to do this, you must specify 'dtype=object' when creating the ndarray\n",
      "  veh_speed = np.array([(m['utime'], m['vel']) for m in self.veh_pose])\n",
      "/home/kfir/workspace/RadarLocalization/dataset.py:263: VisibleDeprecationWarning: Creating an ndarray from ragged nested sequences (which is a list-or-tuple of lists-or-tuples-or ndarrays with different lengths or shapes) is deprecated. If you meant to do this, you must specify 'dtype=object' when creating the ndarray\n",
      "  veh_speed = np.array([(m['utime'], m['vel']) for m in self.veh_pose])\n",
      "/home/kfir/workspace/RadarLocalization/dataset.py:263: VisibleDeprecationWarning: Creating an ndarray from ragged nested sequences (which is a list-or-tuple of lists-or-tuples-or ndarrays with different lengths or shapes) is deprecated. If you meant to do this, you must specify 'dtype=object' when creating the ndarray\n",
      "  veh_speed = np.array([(m['utime'], m['vel']) for m in self.veh_pose])\n",
      "/home/kfir/workspace/RadarLocalization/dataset.py:263: VisibleDeprecationWarning: Creating an ndarray from ragged nested sequences (which is a list-or-tuple of lists-or-tuples-or ndarrays with different lengths or shapes) is deprecated. If you meant to do this, you must specify 'dtype=object' when creating the ndarray\n",
      "  veh_speed = np.array([(m['utime'], m['vel']) for m in self.veh_pose])\n",
      "/home/kfir/workspace/RadarLocalization/dataset.py:263: VisibleDeprecationWarning: Creating an ndarray from ragged nested sequences (which is a list-or-tuple of lists-or-tuples-or ndarrays with different lengths or shapes) is deprecated. If you meant to do this, you must specify 'dtype=object' when creating the ndarray\n",
      "  veh_speed = np.array([(m['utime'], m['vel']) for m in self.veh_pose])\n",
      "/home/kfir/workspace/RadarLocalization/dataset.py:263: VisibleDeprecationWarning: Creating an ndarray from ragged nested sequences (which is a list-or-tuple of lists-or-tuples-or ndarrays with different lengths or shapes) is deprecated. If you meant to do this, you must specify 'dtype=object' when creating the ndarray\n",
      "  veh_speed = np.array([(m['utime'], m['vel']) for m in self.veh_pose])\n",
      "/home/kfir/workspace/RadarLocalization/dataset.py:263: VisibleDeprecationWarning: Creating an ndarray from ragged nested sequences (which is a list-or-tuple of lists-or-tuples-or ndarrays with different lengths or shapes) is deprecated. If you meant to do this, you must specify 'dtype=object' when creating the ndarray\n",
      "  veh_speed = np.array([(m['utime'], m['vel']) for m in self.veh_pose])\n",
      "/home/kfir/workspace/RadarLocalization/dataset.py:263: VisibleDeprecationWarning: Creating an ndarray from ragged nested sequences (which is a list-or-tuple of lists-or-tuples-or ndarrays with different lengths or shapes) is deprecated. If you meant to do this, you must specify 'dtype=object' when creating the ndarray\n",
      "  veh_speed = np.array([(m['utime'], m['vel']) for m in self.veh_pose])\n",
      "/home/kfir/workspace/RadarLocalization/dataset.py:263: VisibleDeprecationWarning: Creating an ndarray from ragged nested sequences (which is a list-or-tuple of lists-or-tuples-or ndarrays with different lengths or shapes) is deprecated. If you meant to do this, you must specify 'dtype=object' when creating the ndarray\n",
      "  veh_speed = np.array([(m['utime'], m['vel']) for m in self.veh_pose])\n",
      "/home/kfir/workspace/RadarLocalization/dataset.py:263: VisibleDeprecationWarning: Creating an ndarray from ragged nested sequences (which is a list-or-tuple of lists-or-tuples-or ndarrays with different lengths or shapes) is deprecated. If you meant to do this, you must specify 'dtype=object' when creating the ndarray\n",
      "  veh_speed = np.array([(m['utime'], m['vel']) for m in self.veh_pose])\n",
      "/home/kfir/workspace/RadarLocalization/dataset.py:263: VisibleDeprecationWarning: Creating an ndarray from ragged nested sequences (which is a list-or-tuple of lists-or-tuples-or ndarrays with different lengths or shapes) is deprecated. If you meant to do this, you must specify 'dtype=object' when creating the ndarray\n",
      "  veh_speed = np.array([(m['utime'], m['vel']) for m in self.veh_pose])\n",
      "/home/kfir/workspace/RadarLocalization/dataset.py:263: VisibleDeprecationWarning: Creating an ndarray from ragged nested sequences (which is a list-or-tuple of lists-or-tuples-or ndarrays with different lengths or shapes) is deprecated. If you meant to do this, you must specify 'dtype=object' when creating the ndarray\n",
      "  veh_speed = np.array([(m['utime'], m['vel']) for m in self.veh_pose])\n",
      "/home/kfir/workspace/RadarLocalization/dataset.py:263: VisibleDeprecationWarning: Creating an ndarray from ragged nested sequences (which is a list-or-tuple of lists-or-tuples-or ndarrays with different lengths or shapes) is deprecated. If you meant to do this, you must specify 'dtype=object' when creating the ndarray\n",
      "  veh_speed = np.array([(m['utime'], m['vel']) for m in self.veh_pose])\n"
     ]
    },
    {
     "name": "stderr",
     "output_type": "stream",
     "text": [
      "/home/kfir/workspace/RadarLocalization/dataset.py:263: VisibleDeprecationWarning: Creating an ndarray from ragged nested sequences (which is a list-or-tuple of lists-or-tuples-or ndarrays with different lengths or shapes) is deprecated. If you meant to do this, you must specify 'dtype=object' when creating the ndarray\n",
      "  veh_speed = np.array([(m['utime'], m['vel']) for m in self.veh_pose])\n",
      "/home/kfir/workspace/RadarLocalization/dataset.py:263: VisibleDeprecationWarning: Creating an ndarray from ragged nested sequences (which is a list-or-tuple of lists-or-tuples-or ndarrays with different lengths or shapes) is deprecated. If you meant to do this, you must specify 'dtype=object' when creating the ndarray\n",
      "  veh_speed = np.array([(m['utime'], m['vel']) for m in self.veh_pose])\n",
      "/home/kfir/workspace/RadarLocalization/dataset.py:263: VisibleDeprecationWarning: Creating an ndarray from ragged nested sequences (which is a list-or-tuple of lists-or-tuples-or ndarrays with different lengths or shapes) is deprecated. If you meant to do this, you must specify 'dtype=object' when creating the ndarray\n",
      "  veh_speed = np.array([(m['utime'], m['vel']) for m in self.veh_pose])\n",
      "/home/kfir/workspace/RadarLocalization/dataset.py:263: VisibleDeprecationWarning: Creating an ndarray from ragged nested sequences (which is a list-or-tuple of lists-or-tuples-or ndarrays with different lengths or shapes) is deprecated. If you meant to do this, you must specify 'dtype=object' when creating the ndarray\n",
      "  veh_speed = np.array([(m['utime'], m['vel']) for m in self.veh_pose])\n",
      "/home/kfir/workspace/RadarLocalization/dataset.py:263: VisibleDeprecationWarning: Creating an ndarray from ragged nested sequences (which is a list-or-tuple of lists-or-tuples-or ndarrays with different lengths or shapes) is deprecated. If you meant to do this, you must specify 'dtype=object' when creating the ndarray\n",
      "  veh_speed = np.array([(m['utime'], m['vel']) for m in self.veh_pose])\n",
      "/home/kfir/workspace/RadarLocalization/dataset.py:263: VisibleDeprecationWarning: Creating an ndarray from ragged nested sequences (which is a list-or-tuple of lists-or-tuples-or ndarrays with different lengths or shapes) is deprecated. If you meant to do this, you must specify 'dtype=object' when creating the ndarray\n",
      "  veh_speed = np.array([(m['utime'], m['vel']) for m in self.veh_pose])\n",
      "/home/kfir/workspace/RadarLocalization/dataset.py:263: VisibleDeprecationWarning: Creating an ndarray from ragged nested sequences (which is a list-or-tuple of lists-or-tuples-or ndarrays with different lengths or shapes) is deprecated. If you meant to do this, you must specify 'dtype=object' when creating the ndarray\n",
      "  veh_speed = np.array([(m['utime'], m['vel']) for m in self.veh_pose])\n",
      "/home/kfir/workspace/RadarLocalization/dataset.py:263: VisibleDeprecationWarning: Creating an ndarray from ragged nested sequences (which is a list-or-tuple of lists-or-tuples-or ndarrays with different lengths or shapes) is deprecated. If you meant to do this, you must specify 'dtype=object' when creating the ndarray\n",
      "  veh_speed = np.array([(m['utime'], m['vel']) for m in self.veh_pose])\n",
      "/home/kfir/workspace/RadarLocalization/dataset.py:263: VisibleDeprecationWarning: Creating an ndarray from ragged nested sequences (which is a list-or-tuple of lists-or-tuples-or ndarrays with different lengths or shapes) is deprecated. If you meant to do this, you must specify 'dtype=object' when creating the ndarray\n",
      "  veh_speed = np.array([(m['utime'], m['vel']) for m in self.veh_pose])\n",
      "/home/kfir/workspace/RadarLocalization/dataset.py:263: VisibleDeprecationWarning: Creating an ndarray from ragged nested sequences (which is a list-or-tuple of lists-or-tuples-or ndarrays with different lengths or shapes) is deprecated. If you meant to do this, you must specify 'dtype=object' when creating the ndarray\n",
      "  veh_speed = np.array([(m['utime'], m['vel']) for m in self.veh_pose])\n",
      "/home/kfir/workspace/RadarLocalization/dataset.py:263: VisibleDeprecationWarning: Creating an ndarray from ragged nested sequences (which is a list-or-tuple of lists-or-tuples-or ndarrays with different lengths or shapes) is deprecated. If you meant to do this, you must specify 'dtype=object' when creating the ndarray\n",
      "  veh_speed = np.array([(m['utime'], m['vel']) for m in self.veh_pose])\n",
      "/home/kfir/workspace/RadarLocalization/dataset.py:263: VisibleDeprecationWarning: Creating an ndarray from ragged nested sequences (which is a list-or-tuple of lists-or-tuples-or ndarrays with different lengths or shapes) is deprecated. If you meant to do this, you must specify 'dtype=object' when creating the ndarray\n",
      "  veh_speed = np.array([(m['utime'], m['vel']) for m in self.veh_pose])\n",
      "/home/kfir/workspace/RadarLocalization/dataset.py:263: VisibleDeprecationWarning: Creating an ndarray from ragged nested sequences (which is a list-or-tuple of lists-or-tuples-or ndarrays with different lengths or shapes) is deprecated. If you meant to do this, you must specify 'dtype=object' when creating the ndarray\n",
      "  veh_speed = np.array([(m['utime'], m['vel']) for m in self.veh_pose])\n",
      "/home/kfir/workspace/RadarLocalization/dataset.py:263: VisibleDeprecationWarning: Creating an ndarray from ragged nested sequences (which is a list-or-tuple of lists-or-tuples-or ndarrays with different lengths or shapes) is deprecated. If you meant to do this, you must specify 'dtype=object' when creating the ndarray\n",
      "  veh_speed = np.array([(m['utime'], m['vel']) for m in self.veh_pose])\n",
      "/home/kfir/workspace/RadarLocalization/dataset.py:263: VisibleDeprecationWarning: Creating an ndarray from ragged nested sequences (which is a list-or-tuple of lists-or-tuples-or ndarrays with different lengths or shapes) is deprecated. If you meant to do this, you must specify 'dtype=object' when creating the ndarray\n",
      "  veh_speed = np.array([(m['utime'], m['vel']) for m in self.veh_pose])\n",
      "/home/kfir/workspace/RadarLocalization/dataset.py:263: VisibleDeprecationWarning: Creating an ndarray from ragged nested sequences (which is a list-or-tuple of lists-or-tuples-or ndarrays with different lengths or shapes) is deprecated. If you meant to do this, you must specify 'dtype=object' when creating the ndarray\n",
      "  veh_speed = np.array([(m['utime'], m['vel']) for m in self.veh_pose])\n",
      "/home/kfir/workspace/RadarLocalization/dataset.py:263: VisibleDeprecationWarning: Creating an ndarray from ragged nested sequences (which is a list-or-tuple of lists-or-tuples-or ndarrays with different lengths or shapes) is deprecated. If you meant to do this, you must specify 'dtype=object' when creating the ndarray\n",
      "  veh_speed = np.array([(m['utime'], m['vel']) for m in self.veh_pose])\n",
      "/home/kfir/workspace/RadarLocalization/dataset.py:263: VisibleDeprecationWarning: Creating an ndarray from ragged nested sequences (which is a list-or-tuple of lists-or-tuples-or ndarrays with different lengths or shapes) is deprecated. If you meant to do this, you must specify 'dtype=object' when creating the ndarray\n",
      "  veh_speed = np.array([(m['utime'], m['vel']) for m in self.veh_pose])\n",
      "/home/kfir/workspace/RadarLocalization/dataset.py:263: VisibleDeprecationWarning: Creating an ndarray from ragged nested sequences (which is a list-or-tuple of lists-or-tuples-or ndarrays with different lengths or shapes) is deprecated. If you meant to do this, you must specify 'dtype=object' when creating the ndarray\n",
      "  veh_speed = np.array([(m['utime'], m['vel']) for m in self.veh_pose])\n",
      "/home/kfir/workspace/RadarLocalization/dataset.py:263: VisibleDeprecationWarning: Creating an ndarray from ragged nested sequences (which is a list-or-tuple of lists-or-tuples-or ndarrays with different lengths or shapes) is deprecated. If you meant to do this, you must specify 'dtype=object' when creating the ndarray\n",
      "  veh_speed = np.array([(m['utime'], m['vel']) for m in self.veh_pose])\n",
      "/home/kfir/workspace/RadarLocalization/dataset.py:263: VisibleDeprecationWarning: Creating an ndarray from ragged nested sequences (which is a list-or-tuple of lists-or-tuples-or ndarrays with different lengths or shapes) is deprecated. If you meant to do this, you must specify 'dtype=object' when creating the ndarray\n",
      "  veh_speed = np.array([(m['utime'], m['vel']) for m in self.veh_pose])\n"
     ]
    },
    {
     "name": "stderr",
     "output_type": "stream",
     "text": [
      "/home/kfir/workspace/RadarLocalization/dataset.py:263: VisibleDeprecationWarning: Creating an ndarray from ragged nested sequences (which is a list-or-tuple of lists-or-tuples-or ndarrays with different lengths or shapes) is deprecated. If you meant to do this, you must specify 'dtype=object' when creating the ndarray\n",
      "  veh_speed = np.array([(m['utime'], m['vel']) for m in self.veh_pose])\n",
      "/home/kfir/workspace/RadarLocalization/dataset.py:263: VisibleDeprecationWarning: Creating an ndarray from ragged nested sequences (which is a list-or-tuple of lists-or-tuples-or ndarrays with different lengths or shapes) is deprecated. If you meant to do this, you must specify 'dtype=object' when creating the ndarray\n",
      "  veh_speed = np.array([(m['utime'], m['vel']) for m in self.veh_pose])\n",
      "/home/kfir/workspace/RadarLocalization/dataset.py:263: VisibleDeprecationWarning: Creating an ndarray from ragged nested sequences (which is a list-or-tuple of lists-or-tuples-or ndarrays with different lengths or shapes) is deprecated. If you meant to do this, you must specify 'dtype=object' when creating the ndarray\n",
      "  veh_speed = np.array([(m['utime'], m['vel']) for m in self.veh_pose])\n",
      "/home/kfir/workspace/RadarLocalization/dataset.py:263: VisibleDeprecationWarning: Creating an ndarray from ragged nested sequences (which is a list-or-tuple of lists-or-tuples-or ndarrays with different lengths or shapes) is deprecated. If you meant to do this, you must specify 'dtype=object' when creating the ndarray\n",
      "  veh_speed = np.array([(m['utime'], m['vel']) for m in self.veh_pose])\n",
      "/home/kfir/workspace/RadarLocalization/dataset.py:263: VisibleDeprecationWarning: Creating an ndarray from ragged nested sequences (which is a list-or-tuple of lists-or-tuples-or ndarrays with different lengths or shapes) is deprecated. If you meant to do this, you must specify 'dtype=object' when creating the ndarray\n",
      "  veh_speed = np.array([(m['utime'], m['vel']) for m in self.veh_pose])\n",
      "/home/kfir/workspace/RadarLocalization/dataset.py:263: VisibleDeprecationWarning: Creating an ndarray from ragged nested sequences (which is a list-or-tuple of lists-or-tuples-or ndarrays with different lengths or shapes) is deprecated. If you meant to do this, you must specify 'dtype=object' when creating the ndarray\n",
      "  veh_speed = np.array([(m['utime'], m['vel']) for m in self.veh_pose])\n",
      "/home/kfir/workspace/RadarLocalization/dataset.py:263: VisibleDeprecationWarning: Creating an ndarray from ragged nested sequences (which is a list-or-tuple of lists-or-tuples-or ndarrays with different lengths or shapes) is deprecated. If you meant to do this, you must specify 'dtype=object' when creating the ndarray\n",
      "  veh_speed = np.array([(m['utime'], m['vel']) for m in self.veh_pose])\n",
      "/home/kfir/workspace/RadarLocalization/dataset.py:263: VisibleDeprecationWarning: Creating an ndarray from ragged nested sequences (which is a list-or-tuple of lists-or-tuples-or ndarrays with different lengths or shapes) is deprecated. If you meant to do this, you must specify 'dtype=object' when creating the ndarray\n",
      "  veh_speed = np.array([(m['utime'], m['vel']) for m in self.veh_pose])\n",
      "/home/kfir/workspace/RadarLocalization/dataset.py:263: VisibleDeprecationWarning: Creating an ndarray from ragged nested sequences (which is a list-or-tuple of lists-or-tuples-or ndarrays with different lengths or shapes) is deprecated. If you meant to do this, you must specify 'dtype=object' when creating the ndarray\n",
      "  veh_speed = np.array([(m['utime'], m['vel']) for m in self.veh_pose])\n",
      "/home/kfir/workspace/RadarLocalization/dataset.py:263: VisibleDeprecationWarning: Creating an ndarray from ragged nested sequences (which is a list-or-tuple of lists-or-tuples-or ndarrays with different lengths or shapes) is deprecated. If you meant to do this, you must specify 'dtype=object' when creating the ndarray\n",
      "  veh_speed = np.array([(m['utime'], m['vel']) for m in self.veh_pose])\n",
      "/home/kfir/workspace/RadarLocalization/dataset.py:263: VisibleDeprecationWarning: Creating an ndarray from ragged nested sequences (which is a list-or-tuple of lists-or-tuples-or ndarrays with different lengths or shapes) is deprecated. If you meant to do this, you must specify 'dtype=object' when creating the ndarray\n",
      "  veh_speed = np.array([(m['utime'], m['vel']) for m in self.veh_pose])\n",
      "/home/kfir/workspace/RadarLocalization/dataset.py:263: VisibleDeprecationWarning: Creating an ndarray from ragged nested sequences (which is a list-or-tuple of lists-or-tuples-or ndarrays with different lengths or shapes) is deprecated. If you meant to do this, you must specify 'dtype=object' when creating the ndarray\n",
      "  veh_speed = np.array([(m['utime'], m['vel']) for m in self.veh_pose])\n",
      "/home/kfir/workspace/RadarLocalization/dataset.py:263: VisibleDeprecationWarning: Creating an ndarray from ragged nested sequences (which is a list-or-tuple of lists-or-tuples-or ndarrays with different lengths or shapes) is deprecated. If you meant to do this, you must specify 'dtype=object' when creating the ndarray\n",
      "  veh_speed = np.array([(m['utime'], m['vel']) for m in self.veh_pose])\n",
      "/home/kfir/workspace/RadarLocalization/dataset.py:263: VisibleDeprecationWarning: Creating an ndarray from ragged nested sequences (which is a list-or-tuple of lists-or-tuples-or ndarrays with different lengths or shapes) is deprecated. If you meant to do this, you must specify 'dtype=object' when creating the ndarray\n",
      "  veh_speed = np.array([(m['utime'], m['vel']) for m in self.veh_pose])\n",
      "/home/kfir/workspace/RadarLocalization/dataset.py:263: VisibleDeprecationWarning: Creating an ndarray from ragged nested sequences (which is a list-or-tuple of lists-or-tuples-or ndarrays with different lengths or shapes) is deprecated. If you meant to do this, you must specify 'dtype=object' when creating the ndarray\n",
      "  veh_speed = np.array([(m['utime'], m['vel']) for m in self.veh_pose])\n",
      "/home/kfir/workspace/RadarLocalization/dataset.py:263: VisibleDeprecationWarning: Creating an ndarray from ragged nested sequences (which is a list-or-tuple of lists-or-tuples-or ndarrays with different lengths or shapes) is deprecated. If you meant to do this, you must specify 'dtype=object' when creating the ndarray\n",
      "  veh_speed = np.array([(m['utime'], m['vel']) for m in self.veh_pose])\n",
      "/home/kfir/workspace/RadarLocalization/dataset.py:263: VisibleDeprecationWarning: Creating an ndarray from ragged nested sequences (which is a list-or-tuple of lists-or-tuples-or ndarrays with different lengths or shapes) is deprecated. If you meant to do this, you must specify 'dtype=object' when creating the ndarray\n",
      "  veh_speed = np.array([(m['utime'], m['vel']) for m in self.veh_pose])\n",
      "/home/kfir/workspace/RadarLocalization/dataset.py:263: VisibleDeprecationWarning: Creating an ndarray from ragged nested sequences (which is a list-or-tuple of lists-or-tuples-or ndarrays with different lengths or shapes) is deprecated. If you meant to do this, you must specify 'dtype=object' when creating the ndarray\n",
      "  veh_speed = np.array([(m['utime'], m['vel']) for m in self.veh_pose])\n",
      "/home/kfir/workspace/RadarLocalization/dataset.py:263: VisibleDeprecationWarning: Creating an ndarray from ragged nested sequences (which is a list-or-tuple of lists-or-tuples-or ndarrays with different lengths or shapes) is deprecated. If you meant to do this, you must specify 'dtype=object' when creating the ndarray\n",
      "  veh_speed = np.array([(m['utime'], m['vel']) for m in self.veh_pose])\n",
      "/home/kfir/workspace/RadarLocalization/dataset.py:263: VisibleDeprecationWarning: Creating an ndarray from ragged nested sequences (which is a list-or-tuple of lists-or-tuples-or ndarrays with different lengths or shapes) is deprecated. If you meant to do this, you must specify 'dtype=object' when creating the ndarray\n",
      "  veh_speed = np.array([(m['utime'], m['vel']) for m in self.veh_pose])\n",
      "/home/kfir/workspace/RadarLocalization/dataset.py:263: VisibleDeprecationWarning: Creating an ndarray from ragged nested sequences (which is a list-or-tuple of lists-or-tuples-or ndarrays with different lengths or shapes) is deprecated. If you meant to do this, you must specify 'dtype=object' when creating the ndarray\n",
      "  veh_speed = np.array([(m['utime'], m['vel']) for m in self.veh_pose])\n"
     ]
    },
    {
     "name": "stderr",
     "output_type": "stream",
     "text": [
      "/home/kfir/workspace/RadarLocalization/dataset.py:263: VisibleDeprecationWarning: Creating an ndarray from ragged nested sequences (which is a list-or-tuple of lists-or-tuples-or ndarrays with different lengths or shapes) is deprecated. If you meant to do this, you must specify 'dtype=object' when creating the ndarray\n",
      "  veh_speed = np.array([(m['utime'], m['vel']) for m in self.veh_pose])\n",
      "/home/kfir/workspace/RadarLocalization/dataset.py:263: VisibleDeprecationWarning: Creating an ndarray from ragged nested sequences (which is a list-or-tuple of lists-or-tuples-or ndarrays with different lengths or shapes) is deprecated. If you meant to do this, you must specify 'dtype=object' when creating the ndarray\n",
      "  veh_speed = np.array([(m['utime'], m['vel']) for m in self.veh_pose])\n",
      "/home/kfir/workspace/RadarLocalization/dataset.py:263: VisibleDeprecationWarning: Creating an ndarray from ragged nested sequences (which is a list-or-tuple of lists-or-tuples-or ndarrays with different lengths or shapes) is deprecated. If you meant to do this, you must specify 'dtype=object' when creating the ndarray\n",
      "  veh_speed = np.array([(m['utime'], m['vel']) for m in self.veh_pose])\n",
      "/home/kfir/workspace/RadarLocalization/dataset.py:263: VisibleDeprecationWarning: Creating an ndarray from ragged nested sequences (which is a list-or-tuple of lists-or-tuples-or ndarrays with different lengths or shapes) is deprecated. If you meant to do this, you must specify 'dtype=object' when creating the ndarray\n",
      "  veh_speed = np.array([(m['utime'], m['vel']) for m in self.veh_pose])\n",
      "/home/kfir/workspace/RadarLocalization/dataset.py:263: VisibleDeprecationWarning: Creating an ndarray from ragged nested sequences (which is a list-or-tuple of lists-or-tuples-or ndarrays with different lengths or shapes) is deprecated. If you meant to do this, you must specify 'dtype=object' when creating the ndarray\n",
      "  veh_speed = np.array([(m['utime'], m['vel']) for m in self.veh_pose])\n",
      "/home/kfir/workspace/RadarLocalization/dataset.py:263: VisibleDeprecationWarning: Creating an ndarray from ragged nested sequences (which is a list-or-tuple of lists-or-tuples-or ndarrays with different lengths or shapes) is deprecated. If you meant to do this, you must specify 'dtype=object' when creating the ndarray\n",
      "  veh_speed = np.array([(m['utime'], m['vel']) for m in self.veh_pose])\n",
      "/home/kfir/workspace/RadarLocalization/dataset.py:263: VisibleDeprecationWarning: Creating an ndarray from ragged nested sequences (which is a list-or-tuple of lists-or-tuples-or ndarrays with different lengths or shapes) is deprecated. If you meant to do this, you must specify 'dtype=object' when creating the ndarray\n",
      "  veh_speed = np.array([(m['utime'], m['vel']) for m in self.veh_pose])\n",
      "/home/kfir/workspace/RadarLocalization/dataset.py:263: VisibleDeprecationWarning: Creating an ndarray from ragged nested sequences (which is a list-or-tuple of lists-or-tuples-or ndarrays with different lengths or shapes) is deprecated. If you meant to do this, you must specify 'dtype=object' when creating the ndarray\n",
      "  veh_speed = np.array([(m['utime'], m['vel']) for m in self.veh_pose])\n",
      "/home/kfir/workspace/RadarLocalization/dataset.py:263: VisibleDeprecationWarning: Creating an ndarray from ragged nested sequences (which is a list-or-tuple of lists-or-tuples-or ndarrays with different lengths or shapes) is deprecated. If you meant to do this, you must specify 'dtype=object' when creating the ndarray\n",
      "  veh_speed = np.array([(m['utime'], m['vel']) for m in self.veh_pose])\n",
      "/home/kfir/workspace/RadarLocalization/dataset.py:263: VisibleDeprecationWarning: Creating an ndarray from ragged nested sequences (which is a list-or-tuple of lists-or-tuples-or ndarrays with different lengths or shapes) is deprecated. If you meant to do this, you must specify 'dtype=object' when creating the ndarray\n",
      "  veh_speed = np.array([(m['utime'], m['vel']) for m in self.veh_pose])\n",
      "/home/kfir/workspace/RadarLocalization/dataset.py:263: VisibleDeprecationWarning: Creating an ndarray from ragged nested sequences (which is a list-or-tuple of lists-or-tuples-or ndarrays with different lengths or shapes) is deprecated. If you meant to do this, you must specify 'dtype=object' when creating the ndarray\n",
      "  veh_speed = np.array([(m['utime'], m['vel']) for m in self.veh_pose])\n",
      "/home/kfir/workspace/RadarLocalization/dataset.py:263: VisibleDeprecationWarning: Creating an ndarray from ragged nested sequences (which is a list-or-tuple of lists-or-tuples-or ndarrays with different lengths or shapes) is deprecated. If you meant to do this, you must specify 'dtype=object' when creating the ndarray\n",
      "  veh_speed = np.array([(m['utime'], m['vel']) for m in self.veh_pose])\n",
      "/home/kfir/workspace/RadarLocalization/dataset.py:263: VisibleDeprecationWarning: Creating an ndarray from ragged nested sequences (which is a list-or-tuple of lists-or-tuples-or ndarrays with different lengths or shapes) is deprecated. If you meant to do this, you must specify 'dtype=object' when creating the ndarray\n",
      "  veh_speed = np.array([(m['utime'], m['vel']) for m in self.veh_pose])\n",
      "/home/kfir/workspace/RadarLocalization/dataset.py:263: VisibleDeprecationWarning: Creating an ndarray from ragged nested sequences (which is a list-or-tuple of lists-or-tuples-or ndarrays with different lengths or shapes) is deprecated. If you meant to do this, you must specify 'dtype=object' when creating the ndarray\n",
      "  veh_speed = np.array([(m['utime'], m['vel']) for m in self.veh_pose])\n",
      "/home/kfir/workspace/RadarLocalization/dataset.py:263: VisibleDeprecationWarning: Creating an ndarray from ragged nested sequences (which is a list-or-tuple of lists-or-tuples-or ndarrays with different lengths or shapes) is deprecated. If you meant to do this, you must specify 'dtype=object' when creating the ndarray\n",
      "  veh_speed = np.array([(m['utime'], m['vel']) for m in self.veh_pose])\n",
      "/home/kfir/workspace/RadarLocalization/dataset.py:263: VisibleDeprecationWarning: Creating an ndarray from ragged nested sequences (which is a list-or-tuple of lists-or-tuples-or ndarrays with different lengths or shapes) is deprecated. If you meant to do this, you must specify 'dtype=object' when creating the ndarray\n",
      "  veh_speed = np.array([(m['utime'], m['vel']) for m in self.veh_pose])\n",
      "/home/kfir/workspace/RadarLocalization/dataset.py:263: VisibleDeprecationWarning: Creating an ndarray from ragged nested sequences (which is a list-or-tuple of lists-or-tuples-or ndarrays with different lengths or shapes) is deprecated. If you meant to do this, you must specify 'dtype=object' when creating the ndarray\n",
      "  veh_speed = np.array([(m['utime'], m['vel']) for m in self.veh_pose])\n",
      "/home/kfir/workspace/RadarLocalization/dataset.py:263: VisibleDeprecationWarning: Creating an ndarray from ragged nested sequences (which is a list-or-tuple of lists-or-tuples-or ndarrays with different lengths or shapes) is deprecated. If you meant to do this, you must specify 'dtype=object' when creating the ndarray\n",
      "  veh_speed = np.array([(m['utime'], m['vel']) for m in self.veh_pose])\n",
      "/home/kfir/workspace/RadarLocalization/dataset.py:263: VisibleDeprecationWarning: Creating an ndarray from ragged nested sequences (which is a list-or-tuple of lists-or-tuples-or ndarrays with different lengths or shapes) is deprecated. If you meant to do this, you must specify 'dtype=object' when creating the ndarray\n",
      "  veh_speed = np.array([(m['utime'], m['vel']) for m in self.veh_pose])\n",
      "/home/kfir/workspace/RadarLocalization/dataset.py:263: VisibleDeprecationWarning: Creating an ndarray from ragged nested sequences (which is a list-or-tuple of lists-or-tuples-or ndarrays with different lengths or shapes) is deprecated. If you meant to do this, you must specify 'dtype=object' when creating the ndarray\n",
      "  veh_speed = np.array([(m['utime'], m['vel']) for m in self.veh_pose])\n",
      "/home/kfir/workspace/RadarLocalization/dataset.py:263: VisibleDeprecationWarning: Creating an ndarray from ragged nested sequences (which is a list-or-tuple of lists-or-tuples-or ndarrays with different lengths or shapes) is deprecated. If you meant to do this, you must specify 'dtype=object' when creating the ndarray\n",
      "  veh_speed = np.array([(m['utime'], m['vel']) for m in self.veh_pose])\n"
     ]
    },
    {
     "name": "stderr",
     "output_type": "stream",
     "text": [
      "/home/kfir/workspace/RadarLocalization/dataset.py:263: VisibleDeprecationWarning: Creating an ndarray from ragged nested sequences (which is a list-or-tuple of lists-or-tuples-or ndarrays with different lengths or shapes) is deprecated. If you meant to do this, you must specify 'dtype=object' when creating the ndarray\n",
      "  veh_speed = np.array([(m['utime'], m['vel']) for m in self.veh_pose])\n",
      "/home/kfir/workspace/RadarLocalization/dataset.py:263: VisibleDeprecationWarning: Creating an ndarray from ragged nested sequences (which is a list-or-tuple of lists-or-tuples-or ndarrays with different lengths or shapes) is deprecated. If you meant to do this, you must specify 'dtype=object' when creating the ndarray\n",
      "  veh_speed = np.array([(m['utime'], m['vel']) for m in self.veh_pose])\n",
      "/home/kfir/workspace/RadarLocalization/dataset.py:263: VisibleDeprecationWarning: Creating an ndarray from ragged nested sequences (which is a list-or-tuple of lists-or-tuples-or ndarrays with different lengths or shapes) is deprecated. If you meant to do this, you must specify 'dtype=object' when creating the ndarray\n",
      "  veh_speed = np.array([(m['utime'], m['vel']) for m in self.veh_pose])\n",
      "/home/kfir/workspace/RadarLocalization/dataset.py:263: VisibleDeprecationWarning: Creating an ndarray from ragged nested sequences (which is a list-or-tuple of lists-or-tuples-or ndarrays with different lengths or shapes) is deprecated. If you meant to do this, you must specify 'dtype=object' when creating the ndarray\n",
      "  veh_speed = np.array([(m['utime'], m['vel']) for m in self.veh_pose])\n",
      "/home/kfir/workspace/RadarLocalization/dataset.py:263: VisibleDeprecationWarning: Creating an ndarray from ragged nested sequences (which is a list-or-tuple of lists-or-tuples-or ndarrays with different lengths or shapes) is deprecated. If you meant to do this, you must specify 'dtype=object' when creating the ndarray\n",
      "  veh_speed = np.array([(m['utime'], m['vel']) for m in self.veh_pose])\n",
      "/home/kfir/workspace/RadarLocalization/dataset.py:263: VisibleDeprecationWarning: Creating an ndarray from ragged nested sequences (which is a list-or-tuple of lists-or-tuples-or ndarrays with different lengths or shapes) is deprecated. If you meant to do this, you must specify 'dtype=object' when creating the ndarray\n",
      "  veh_speed = np.array([(m['utime'], m['vel']) for m in self.veh_pose])\n",
      "/home/kfir/workspace/RadarLocalization/dataset.py:263: VisibleDeprecationWarning: Creating an ndarray from ragged nested sequences (which is a list-or-tuple of lists-or-tuples-or ndarrays with different lengths or shapes) is deprecated. If you meant to do this, you must specify 'dtype=object' when creating the ndarray\n",
      "  veh_speed = np.array([(m['utime'], m['vel']) for m in self.veh_pose])\n",
      "/home/kfir/workspace/RadarLocalization/dataset.py:263: VisibleDeprecationWarning: Creating an ndarray from ragged nested sequences (which is a list-or-tuple of lists-or-tuples-or ndarrays with different lengths or shapes) is deprecated. If you meant to do this, you must specify 'dtype=object' when creating the ndarray\n",
      "  veh_speed = np.array([(m['utime'], m['vel']) for m in self.veh_pose])\n",
      "/home/kfir/workspace/RadarLocalization/dataset.py:263: VisibleDeprecationWarning: Creating an ndarray from ragged nested sequences (which is a list-or-tuple of lists-or-tuples-or ndarrays with different lengths or shapes) is deprecated. If you meant to do this, you must specify 'dtype=object' when creating the ndarray\n",
      "  veh_speed = np.array([(m['utime'], m['vel']) for m in self.veh_pose])\n",
      "/home/kfir/workspace/RadarLocalization/dataset.py:263: VisibleDeprecationWarning: Creating an ndarray from ragged nested sequences (which is a list-or-tuple of lists-or-tuples-or ndarrays with different lengths or shapes) is deprecated. If you meant to do this, you must specify 'dtype=object' when creating the ndarray\n",
      "  veh_speed = np.array([(m['utime'], m['vel']) for m in self.veh_pose])\n",
      "/home/kfir/workspace/RadarLocalization/dataset.py:263: VisibleDeprecationWarning: Creating an ndarray from ragged nested sequences (which is a list-or-tuple of lists-or-tuples-or ndarrays with different lengths or shapes) is deprecated. If you meant to do this, you must specify 'dtype=object' when creating the ndarray\n",
      "  veh_speed = np.array([(m['utime'], m['vel']) for m in self.veh_pose])\n",
      "/home/kfir/workspace/RadarLocalization/dataset.py:263: VisibleDeprecationWarning: Creating an ndarray from ragged nested sequences (which is a list-or-tuple of lists-or-tuples-or ndarrays with different lengths or shapes) is deprecated. If you meant to do this, you must specify 'dtype=object' when creating the ndarray\n",
      "  veh_speed = np.array([(m['utime'], m['vel']) for m in self.veh_pose])\n",
      "/home/kfir/workspace/RadarLocalization/dataset.py:263: VisibleDeprecationWarning: Creating an ndarray from ragged nested sequences (which is a list-or-tuple of lists-or-tuples-or ndarrays with different lengths or shapes) is deprecated. If you meant to do this, you must specify 'dtype=object' when creating the ndarray\n",
      "  veh_speed = np.array([(m['utime'], m['vel']) for m in self.veh_pose])\n",
      "/home/kfir/workspace/RadarLocalization/dataset.py:263: VisibleDeprecationWarning: Creating an ndarray from ragged nested sequences (which is a list-or-tuple of lists-or-tuples-or ndarrays with different lengths or shapes) is deprecated. If you meant to do this, you must specify 'dtype=object' when creating the ndarray\n",
      "  veh_speed = np.array([(m['utime'], m['vel']) for m in self.veh_pose])\n",
      "/home/kfir/workspace/RadarLocalization/dataset.py:263: VisibleDeprecationWarning: Creating an ndarray from ragged nested sequences (which is a list-or-tuple of lists-or-tuples-or ndarrays with different lengths or shapes) is deprecated. If you meant to do this, you must specify 'dtype=object' when creating the ndarray\n",
      "  veh_speed = np.array([(m['utime'], m['vel']) for m in self.veh_pose])\n",
      "/home/kfir/workspace/RadarLocalization/dataset.py:263: VisibleDeprecationWarning: Creating an ndarray from ragged nested sequences (which is a list-or-tuple of lists-or-tuples-or ndarrays with different lengths or shapes) is deprecated. If you meant to do this, you must specify 'dtype=object' when creating the ndarray\n",
      "  veh_speed = np.array([(m['utime'], m['vel']) for m in self.veh_pose])\n",
      "/home/kfir/workspace/RadarLocalization/dataset.py:263: VisibleDeprecationWarning: Creating an ndarray from ragged nested sequences (which is a list-or-tuple of lists-or-tuples-or ndarrays with different lengths or shapes) is deprecated. If you meant to do this, you must specify 'dtype=object' when creating the ndarray\n",
      "  veh_speed = np.array([(m['utime'], m['vel']) for m in self.veh_pose])\n",
      "/home/kfir/workspace/RadarLocalization/dataset.py:263: VisibleDeprecationWarning: Creating an ndarray from ragged nested sequences (which is a list-or-tuple of lists-or-tuples-or ndarrays with different lengths or shapes) is deprecated. If you meant to do this, you must specify 'dtype=object' when creating the ndarray\n",
      "  veh_speed = np.array([(m['utime'], m['vel']) for m in self.veh_pose])\n",
      "/home/kfir/workspace/RadarLocalization/dataset.py:263: VisibleDeprecationWarning: Creating an ndarray from ragged nested sequences (which is a list-or-tuple of lists-or-tuples-or ndarrays with different lengths or shapes) is deprecated. If you meant to do this, you must specify 'dtype=object' when creating the ndarray\n",
      "  veh_speed = np.array([(m['utime'], m['vel']) for m in self.veh_pose])\n",
      "/home/kfir/workspace/RadarLocalization/dataset.py:263: VisibleDeprecationWarning: Creating an ndarray from ragged nested sequences (which is a list-or-tuple of lists-or-tuples-or ndarrays with different lengths or shapes) is deprecated. If you meant to do this, you must specify 'dtype=object' when creating the ndarray\n",
      "  veh_speed = np.array([(m['utime'], m['vel']) for m in self.veh_pose])\n",
      "/home/kfir/workspace/RadarLocalization/dataset.py:263: VisibleDeprecationWarning: Creating an ndarray from ragged nested sequences (which is a list-or-tuple of lists-or-tuples-or ndarrays with different lengths or shapes) is deprecated. If you meant to do this, you must specify 'dtype=object' when creating the ndarray\n",
      "  veh_speed = np.array([(m['utime'], m['vel']) for m in self.veh_pose])\n"
     ]
    },
    {
     "name": "stderr",
     "output_type": "stream",
     "text": [
      "/home/kfir/workspace/RadarLocalization/dataset.py:263: VisibleDeprecationWarning: Creating an ndarray from ragged nested sequences (which is a list-or-tuple of lists-or-tuples-or ndarrays with different lengths or shapes) is deprecated. If you meant to do this, you must specify 'dtype=object' when creating the ndarray\n",
      "  veh_speed = np.array([(m['utime'], m['vel']) for m in self.veh_pose])\n",
      "/home/kfir/workspace/RadarLocalization/dataset.py:263: VisibleDeprecationWarning: Creating an ndarray from ragged nested sequences (which is a list-or-tuple of lists-or-tuples-or ndarrays with different lengths or shapes) is deprecated. If you meant to do this, you must specify 'dtype=object' when creating the ndarray\n",
      "  veh_speed = np.array([(m['utime'], m['vel']) for m in self.veh_pose])\n",
      "/home/kfir/workspace/RadarLocalization/dataset.py:263: VisibleDeprecationWarning: Creating an ndarray from ragged nested sequences (which is a list-or-tuple of lists-or-tuples-or ndarrays with different lengths or shapes) is deprecated. If you meant to do this, you must specify 'dtype=object' when creating the ndarray\n",
      "  veh_speed = np.array([(m['utime'], m['vel']) for m in self.veh_pose])\n",
      "/home/kfir/workspace/RadarLocalization/dataset.py:263: VisibleDeprecationWarning: Creating an ndarray from ragged nested sequences (which is a list-or-tuple of lists-or-tuples-or ndarrays with different lengths or shapes) is deprecated. If you meant to do this, you must specify 'dtype=object' when creating the ndarray\n",
      "  veh_speed = np.array([(m['utime'], m['vel']) for m in self.veh_pose])\n",
      "/home/kfir/workspace/RadarLocalization/dataset.py:263: VisibleDeprecationWarning: Creating an ndarray from ragged nested sequences (which is a list-or-tuple of lists-or-tuples-or ndarrays with different lengths or shapes) is deprecated. If you meant to do this, you must specify 'dtype=object' when creating the ndarray\n",
      "  veh_speed = np.array([(m['utime'], m['vel']) for m in self.veh_pose])\n",
      "/home/kfir/workspace/RadarLocalization/dataset.py:263: VisibleDeprecationWarning: Creating an ndarray from ragged nested sequences (which is a list-or-tuple of lists-or-tuples-or ndarrays with different lengths or shapes) is deprecated. If you meant to do this, you must specify 'dtype=object' when creating the ndarray\n",
      "  veh_speed = np.array([(m['utime'], m['vel']) for m in self.veh_pose])\n",
      "/home/kfir/workspace/RadarLocalization/dataset.py:263: VisibleDeprecationWarning: Creating an ndarray from ragged nested sequences (which is a list-or-tuple of lists-or-tuples-or ndarrays with different lengths or shapes) is deprecated. If you meant to do this, you must specify 'dtype=object' when creating the ndarray\n",
      "  veh_speed = np.array([(m['utime'], m['vel']) for m in self.veh_pose])\n",
      "/home/kfir/workspace/RadarLocalization/dataset.py:263: VisibleDeprecationWarning: Creating an ndarray from ragged nested sequences (which is a list-or-tuple of lists-or-tuples-or ndarrays with different lengths or shapes) is deprecated. If you meant to do this, you must specify 'dtype=object' when creating the ndarray\n",
      "  veh_speed = np.array([(m['utime'], m['vel']) for m in self.veh_pose])\n",
      "/home/kfir/workspace/RadarLocalization/dataset.py:263: VisibleDeprecationWarning: Creating an ndarray from ragged nested sequences (which is a list-or-tuple of lists-or-tuples-or ndarrays with different lengths or shapes) is deprecated. If you meant to do this, you must specify 'dtype=object' when creating the ndarray\n",
      "  veh_speed = np.array([(m['utime'], m['vel']) for m in self.veh_pose])\n",
      "/home/kfir/workspace/RadarLocalization/dataset.py:263: VisibleDeprecationWarning: Creating an ndarray from ragged nested sequences (which is a list-or-tuple of lists-or-tuples-or ndarrays with different lengths or shapes) is deprecated. If you meant to do this, you must specify 'dtype=object' when creating the ndarray\n",
      "  veh_speed = np.array([(m['utime'], m['vel']) for m in self.veh_pose])\n",
      "/home/kfir/workspace/RadarLocalization/dataset.py:263: VisibleDeprecationWarning: Creating an ndarray from ragged nested sequences (which is a list-or-tuple of lists-or-tuples-or ndarrays with different lengths or shapes) is deprecated. If you meant to do this, you must specify 'dtype=object' when creating the ndarray\n",
      "  veh_speed = np.array([(m['utime'], m['vel']) for m in self.veh_pose])\n",
      "/home/kfir/workspace/RadarLocalization/dataset.py:263: VisibleDeprecationWarning: Creating an ndarray from ragged nested sequences (which is a list-or-tuple of lists-or-tuples-or ndarrays with different lengths or shapes) is deprecated. If you meant to do this, you must specify 'dtype=object' when creating the ndarray\n",
      "  veh_speed = np.array([(m['utime'], m['vel']) for m in self.veh_pose])\n",
      "/home/kfir/workspace/RadarLocalization/dataset.py:263: VisibleDeprecationWarning: Creating an ndarray from ragged nested sequences (which is a list-or-tuple of lists-or-tuples-or ndarrays with different lengths or shapes) is deprecated. If you meant to do this, you must specify 'dtype=object' when creating the ndarray\n",
      "  veh_speed = np.array([(m['utime'], m['vel']) for m in self.veh_pose])\n",
      "/home/kfir/workspace/RadarLocalization/dataset.py:263: VisibleDeprecationWarning: Creating an ndarray from ragged nested sequences (which is a list-or-tuple of lists-or-tuples-or ndarrays with different lengths or shapes) is deprecated. If you meant to do this, you must specify 'dtype=object' when creating the ndarray\n",
      "  veh_speed = np.array([(m['utime'], m['vel']) for m in self.veh_pose])\n",
      "/home/kfir/workspace/RadarLocalization/dataset.py:263: VisibleDeprecationWarning: Creating an ndarray from ragged nested sequences (which is a list-or-tuple of lists-or-tuples-or ndarrays with different lengths or shapes) is deprecated. If you meant to do this, you must specify 'dtype=object' when creating the ndarray\n",
      "  veh_speed = np.array([(m['utime'], m['vel']) for m in self.veh_pose])\n",
      "/home/kfir/workspace/RadarLocalization/dataset.py:263: VisibleDeprecationWarning: Creating an ndarray from ragged nested sequences (which is a list-or-tuple of lists-or-tuples-or ndarrays with different lengths or shapes) is deprecated. If you meant to do this, you must specify 'dtype=object' when creating the ndarray\n",
      "  veh_speed = np.array([(m['utime'], m['vel']) for m in self.veh_pose])\n",
      "/home/kfir/workspace/RadarLocalization/dataset.py:263: VisibleDeprecationWarning: Creating an ndarray from ragged nested sequences (which is a list-or-tuple of lists-or-tuples-or ndarrays with different lengths or shapes) is deprecated. If you meant to do this, you must specify 'dtype=object' when creating the ndarray\n",
      "  veh_speed = np.array([(m['utime'], m['vel']) for m in self.veh_pose])\n",
      "/home/kfir/workspace/RadarLocalization/dataset.py:263: VisibleDeprecationWarning: Creating an ndarray from ragged nested sequences (which is a list-or-tuple of lists-or-tuples-or ndarrays with different lengths or shapes) is deprecated. If you meant to do this, you must specify 'dtype=object' when creating the ndarray\n",
      "  veh_speed = np.array([(m['utime'], m['vel']) for m in self.veh_pose])\n",
      "/home/kfir/workspace/RadarLocalization/dataset.py:263: VisibleDeprecationWarning: Creating an ndarray from ragged nested sequences (which is a list-or-tuple of lists-or-tuples-or ndarrays with different lengths or shapes) is deprecated. If you meant to do this, you must specify 'dtype=object' when creating the ndarray\n",
      "  veh_speed = np.array([(m['utime'], m['vel']) for m in self.veh_pose])\n",
      "/home/kfir/workspace/RadarLocalization/dataset.py:263: VisibleDeprecationWarning: Creating an ndarray from ragged nested sequences (which is a list-or-tuple of lists-or-tuples-or ndarrays with different lengths or shapes) is deprecated. If you meant to do this, you must specify 'dtype=object' when creating the ndarray\n",
      "  veh_speed = np.array([(m['utime'], m['vel']) for m in self.veh_pose])\n",
      "/home/kfir/workspace/RadarLocalization/dataset.py:263: VisibleDeprecationWarning: Creating an ndarray from ragged nested sequences (which is a list-or-tuple of lists-or-tuples-or ndarrays with different lengths or shapes) is deprecated. If you meant to do this, you must specify 'dtype=object' when creating the ndarray\n",
      "  veh_speed = np.array([(m['utime'], m['vel']) for m in self.veh_pose])\n"
     ]
    },
    {
     "name": "stderr",
     "output_type": "stream",
     "text": [
      "/home/kfir/workspace/RadarLocalization/dataset.py:263: VisibleDeprecationWarning: Creating an ndarray from ragged nested sequences (which is a list-or-tuple of lists-or-tuples-or ndarrays with different lengths or shapes) is deprecated. If you meant to do this, you must specify 'dtype=object' when creating the ndarray\n",
      "  veh_speed = np.array([(m['utime'], m['vel']) for m in self.veh_pose])\n",
      "/home/kfir/workspace/RadarLocalization/dataset.py:263: VisibleDeprecationWarning: Creating an ndarray from ragged nested sequences (which is a list-or-tuple of lists-or-tuples-or ndarrays with different lengths or shapes) is deprecated. If you meant to do this, you must specify 'dtype=object' when creating the ndarray\n",
      "  veh_speed = np.array([(m['utime'], m['vel']) for m in self.veh_pose])\n",
      "/home/kfir/workspace/RadarLocalization/dataset.py:263: VisibleDeprecationWarning: Creating an ndarray from ragged nested sequences (which is a list-or-tuple of lists-or-tuples-or ndarrays with different lengths or shapes) is deprecated. If you meant to do this, you must specify 'dtype=object' when creating the ndarray\n",
      "  veh_speed = np.array([(m['utime'], m['vel']) for m in self.veh_pose])\n",
      "/home/kfir/workspace/RadarLocalization/dataset.py:263: VisibleDeprecationWarning: Creating an ndarray from ragged nested sequences (which is a list-or-tuple of lists-or-tuples-or ndarrays with different lengths or shapes) is deprecated. If you meant to do this, you must specify 'dtype=object' when creating the ndarray\n",
      "  veh_speed = np.array([(m['utime'], m['vel']) for m in self.veh_pose])\n",
      "/home/kfir/workspace/RadarLocalization/dataset.py:263: VisibleDeprecationWarning: Creating an ndarray from ragged nested sequences (which is a list-or-tuple of lists-or-tuples-or ndarrays with different lengths or shapes) is deprecated. If you meant to do this, you must specify 'dtype=object' when creating the ndarray\n",
      "  veh_speed = np.array([(m['utime'], m['vel']) for m in self.veh_pose])\n",
      "/home/kfir/workspace/RadarLocalization/dataset.py:263: VisibleDeprecationWarning: Creating an ndarray from ragged nested sequences (which is a list-or-tuple of lists-or-tuples-or ndarrays with different lengths or shapes) is deprecated. If you meant to do this, you must specify 'dtype=object' when creating the ndarray\n",
      "  veh_speed = np.array([(m['utime'], m['vel']) for m in self.veh_pose])\n",
      "/home/kfir/workspace/RadarLocalization/dataset.py:263: VisibleDeprecationWarning: Creating an ndarray from ragged nested sequences (which is a list-or-tuple of lists-or-tuples-or ndarrays with different lengths or shapes) is deprecated. If you meant to do this, you must specify 'dtype=object' when creating the ndarray\n",
      "  veh_speed = np.array([(m['utime'], m['vel']) for m in self.veh_pose])\n",
      "/home/kfir/workspace/RadarLocalization/dataset.py:263: VisibleDeprecationWarning: Creating an ndarray from ragged nested sequences (which is a list-or-tuple of lists-or-tuples-or ndarrays with different lengths or shapes) is deprecated. If you meant to do this, you must specify 'dtype=object' when creating the ndarray\n",
      "  veh_speed = np.array([(m['utime'], m['vel']) for m in self.veh_pose])\n",
      "/home/kfir/workspace/RadarLocalization/dataset.py:263: VisibleDeprecationWarning: Creating an ndarray from ragged nested sequences (which is a list-or-tuple of lists-or-tuples-or ndarrays with different lengths or shapes) is deprecated. If you meant to do this, you must specify 'dtype=object' when creating the ndarray\n",
      "  veh_speed = np.array([(m['utime'], m['vel']) for m in self.veh_pose])\n",
      "/home/kfir/workspace/RadarLocalization/dataset.py:263: VisibleDeprecationWarning: Creating an ndarray from ragged nested sequences (which is a list-or-tuple of lists-or-tuples-or ndarrays with different lengths or shapes) is deprecated. If you meant to do this, you must specify 'dtype=object' when creating the ndarray\n",
      "  veh_speed = np.array([(m['utime'], m['vel']) for m in self.veh_pose])\n",
      "/home/kfir/workspace/RadarLocalization/dataset.py:263: VisibleDeprecationWarning: Creating an ndarray from ragged nested sequences (which is a list-or-tuple of lists-or-tuples-or ndarrays with different lengths or shapes) is deprecated. If you meant to do this, you must specify 'dtype=object' when creating the ndarray\n",
      "  veh_speed = np.array([(m['utime'], m['vel']) for m in self.veh_pose])\n",
      "/home/kfir/workspace/RadarLocalization/dataset.py:263: VisibleDeprecationWarning: Creating an ndarray from ragged nested sequences (which is a list-or-tuple of lists-or-tuples-or ndarrays with different lengths or shapes) is deprecated. If you meant to do this, you must specify 'dtype=object' when creating the ndarray\n",
      "  veh_speed = np.array([(m['utime'], m['vel']) for m in self.veh_pose])\n",
      "/home/kfir/workspace/RadarLocalization/dataset.py:263: VisibleDeprecationWarning: Creating an ndarray from ragged nested sequences (which is a list-or-tuple of lists-or-tuples-or ndarrays with different lengths or shapes) is deprecated. If you meant to do this, you must specify 'dtype=object' when creating the ndarray\n",
      "  veh_speed = np.array([(m['utime'], m['vel']) for m in self.veh_pose])\n",
      "/home/kfir/workspace/RadarLocalization/dataset.py:263: VisibleDeprecationWarning: Creating an ndarray from ragged nested sequences (which is a list-or-tuple of lists-or-tuples-or ndarrays with different lengths or shapes) is deprecated. If you meant to do this, you must specify 'dtype=object' when creating the ndarray\n",
      "  veh_speed = np.array([(m['utime'], m['vel']) for m in self.veh_pose])\n",
      "/home/kfir/workspace/RadarLocalization/dataset.py:263: VisibleDeprecationWarning: Creating an ndarray from ragged nested sequences (which is a list-or-tuple of lists-or-tuples-or ndarrays with different lengths or shapes) is deprecated. If you meant to do this, you must specify 'dtype=object' when creating the ndarray\n",
      "  veh_speed = np.array([(m['utime'], m['vel']) for m in self.veh_pose])\n",
      "/home/kfir/workspace/RadarLocalization/dataset.py:263: VisibleDeprecationWarning: Creating an ndarray from ragged nested sequences (which is a list-or-tuple of lists-or-tuples-or ndarrays with different lengths or shapes) is deprecated. If you meant to do this, you must specify 'dtype=object' when creating the ndarray\n",
      "  veh_speed = np.array([(m['utime'], m['vel']) for m in self.veh_pose])\n",
      "/home/kfir/workspace/RadarLocalization/dataset.py:263: VisibleDeprecationWarning: Creating an ndarray from ragged nested sequences (which is a list-or-tuple of lists-or-tuples-or ndarrays with different lengths or shapes) is deprecated. If you meant to do this, you must specify 'dtype=object' when creating the ndarray\n",
      "  veh_speed = np.array([(m['utime'], m['vel']) for m in self.veh_pose])\n",
      "/home/kfir/workspace/RadarLocalization/dataset.py:263: VisibleDeprecationWarning: Creating an ndarray from ragged nested sequences (which is a list-or-tuple of lists-or-tuples-or ndarrays with different lengths or shapes) is deprecated. If you meant to do this, you must specify 'dtype=object' when creating the ndarray\n",
      "  veh_speed = np.array([(m['utime'], m['vel']) for m in self.veh_pose])\n",
      "/home/kfir/workspace/RadarLocalization/dataset.py:263: VisibleDeprecationWarning: Creating an ndarray from ragged nested sequences (which is a list-or-tuple of lists-or-tuples-or ndarrays with different lengths or shapes) is deprecated. If you meant to do this, you must specify 'dtype=object' when creating the ndarray\n",
      "  veh_speed = np.array([(m['utime'], m['vel']) for m in self.veh_pose])\n",
      "/home/kfir/workspace/RadarLocalization/dataset.py:263: VisibleDeprecationWarning: Creating an ndarray from ragged nested sequences (which is a list-or-tuple of lists-or-tuples-or ndarrays with different lengths or shapes) is deprecated. If you meant to do this, you must specify 'dtype=object' when creating the ndarray\n",
      "  veh_speed = np.array([(m['utime'], m['vel']) for m in self.veh_pose])\n",
      "/home/kfir/workspace/RadarLocalization/dataset.py:263: VisibleDeprecationWarning: Creating an ndarray from ragged nested sequences (which is a list-or-tuple of lists-or-tuples-or ndarrays with different lengths or shapes) is deprecated. If you meant to do this, you must specify 'dtype=object' when creating the ndarray\n",
      "  veh_speed = np.array([(m['utime'], m['vel']) for m in self.veh_pose])\n"
     ]
    },
    {
     "name": "stderr",
     "output_type": "stream",
     "text": [
      "/home/kfir/workspace/RadarLocalization/dataset.py:263: VisibleDeprecationWarning: Creating an ndarray from ragged nested sequences (which is a list-or-tuple of lists-or-tuples-or ndarrays with different lengths or shapes) is deprecated. If you meant to do this, you must specify 'dtype=object' when creating the ndarray\n",
      "  veh_speed = np.array([(m['utime'], m['vel']) for m in self.veh_pose])\n",
      "/home/kfir/workspace/RadarLocalization/dataset.py:263: VisibleDeprecationWarning: Creating an ndarray from ragged nested sequences (which is a list-or-tuple of lists-or-tuples-or ndarrays with different lengths or shapes) is deprecated. If you meant to do this, you must specify 'dtype=object' when creating the ndarray\n",
      "  veh_speed = np.array([(m['utime'], m['vel']) for m in self.veh_pose])\n",
      "/home/kfir/workspace/RadarLocalization/dataset.py:263: VisibleDeprecationWarning: Creating an ndarray from ragged nested sequences (which is a list-or-tuple of lists-or-tuples-or ndarrays with different lengths or shapes) is deprecated. If you meant to do this, you must specify 'dtype=object' when creating the ndarray\n",
      "  veh_speed = np.array([(m['utime'], m['vel']) for m in self.veh_pose])\n",
      "/home/kfir/workspace/RadarLocalization/dataset.py:263: VisibleDeprecationWarning: Creating an ndarray from ragged nested sequences (which is a list-or-tuple of lists-or-tuples-or ndarrays with different lengths or shapes) is deprecated. If you meant to do this, you must specify 'dtype=object' when creating the ndarray\n",
      "  veh_speed = np.array([(m['utime'], m['vel']) for m in self.veh_pose])\n",
      "/home/kfir/workspace/RadarLocalization/dataset.py:263: VisibleDeprecationWarning: Creating an ndarray from ragged nested sequences (which is a list-or-tuple of lists-or-tuples-or ndarrays with different lengths or shapes) is deprecated. If you meant to do this, you must specify 'dtype=object' when creating the ndarray\n",
      "  veh_speed = np.array([(m['utime'], m['vel']) for m in self.veh_pose])\n",
      "/home/kfir/workspace/RadarLocalization/dataset.py:263: VisibleDeprecationWarning: Creating an ndarray from ragged nested sequences (which is a list-or-tuple of lists-or-tuples-or ndarrays with different lengths or shapes) is deprecated. If you meant to do this, you must specify 'dtype=object' when creating the ndarray\n",
      "  veh_speed = np.array([(m['utime'], m['vel']) for m in self.veh_pose])\n",
      "/home/kfir/workspace/RadarLocalization/dataset.py:263: VisibleDeprecationWarning: Creating an ndarray from ragged nested sequences (which is a list-or-tuple of lists-or-tuples-or ndarrays with different lengths or shapes) is deprecated. If you meant to do this, you must specify 'dtype=object' when creating the ndarray\n",
      "  veh_speed = np.array([(m['utime'], m['vel']) for m in self.veh_pose])\n",
      "/home/kfir/workspace/RadarLocalization/dataset.py:263: VisibleDeprecationWarning: Creating an ndarray from ragged nested sequences (which is a list-or-tuple of lists-or-tuples-or ndarrays with different lengths or shapes) is deprecated. If you meant to do this, you must specify 'dtype=object' when creating the ndarray\n",
      "  veh_speed = np.array([(m['utime'], m['vel']) for m in self.veh_pose])\n",
      "/home/kfir/workspace/RadarLocalization/dataset.py:263: VisibleDeprecationWarning: Creating an ndarray from ragged nested sequences (which is a list-or-tuple of lists-or-tuples-or ndarrays with different lengths or shapes) is deprecated. If you meant to do this, you must specify 'dtype=object' when creating the ndarray\n",
      "  veh_speed = np.array([(m['utime'], m['vel']) for m in self.veh_pose])\n",
      "/home/kfir/workspace/RadarLocalization/dataset.py:263: VisibleDeprecationWarning: Creating an ndarray from ragged nested sequences (which is a list-or-tuple of lists-or-tuples-or ndarrays with different lengths or shapes) is deprecated. If you meant to do this, you must specify 'dtype=object' when creating the ndarray\n",
      "  veh_speed = np.array([(m['utime'], m['vel']) for m in self.veh_pose])\n",
      "/home/kfir/workspace/RadarLocalization/dataset.py:263: VisibleDeprecationWarning: Creating an ndarray from ragged nested sequences (which is a list-or-tuple of lists-or-tuples-or ndarrays with different lengths or shapes) is deprecated. If you meant to do this, you must specify 'dtype=object' when creating the ndarray\n",
      "  veh_speed = np.array([(m['utime'], m['vel']) for m in self.veh_pose])\n",
      "/home/kfir/workspace/RadarLocalization/dataset.py:263: VisibleDeprecationWarning: Creating an ndarray from ragged nested sequences (which is a list-or-tuple of lists-or-tuples-or ndarrays with different lengths or shapes) is deprecated. If you meant to do this, you must specify 'dtype=object' when creating the ndarray\n",
      "  veh_speed = np.array([(m['utime'], m['vel']) for m in self.veh_pose])\n",
      "/home/kfir/workspace/RadarLocalization/dataset.py:263: VisibleDeprecationWarning: Creating an ndarray from ragged nested sequences (which is a list-or-tuple of lists-or-tuples-or ndarrays with different lengths or shapes) is deprecated. If you meant to do this, you must specify 'dtype=object' when creating the ndarray\n",
      "  veh_speed = np.array([(m['utime'], m['vel']) for m in self.veh_pose])\n",
      "/home/kfir/workspace/RadarLocalization/dataset.py:263: VisibleDeprecationWarning: Creating an ndarray from ragged nested sequences (which is a list-or-tuple of lists-or-tuples-or ndarrays with different lengths or shapes) is deprecated. If you meant to do this, you must specify 'dtype=object' when creating the ndarray\n",
      "  veh_speed = np.array([(m['utime'], m['vel']) for m in self.veh_pose])\n",
      "/home/kfir/workspace/RadarLocalization/dataset.py:263: VisibleDeprecationWarning: Creating an ndarray from ragged nested sequences (which is a list-or-tuple of lists-or-tuples-or ndarrays with different lengths or shapes) is deprecated. If you meant to do this, you must specify 'dtype=object' when creating the ndarray\n",
      "  veh_speed = np.array([(m['utime'], m['vel']) for m in self.veh_pose])\n",
      "/home/kfir/workspace/RadarLocalization/dataset.py:263: VisibleDeprecationWarning: Creating an ndarray from ragged nested sequences (which is a list-or-tuple of lists-or-tuples-or ndarrays with different lengths or shapes) is deprecated. If you meant to do this, you must specify 'dtype=object' when creating the ndarray\n",
      "  veh_speed = np.array([(m['utime'], m['vel']) for m in self.veh_pose])\n",
      "/home/kfir/workspace/RadarLocalization/dataset.py:263: VisibleDeprecationWarning: Creating an ndarray from ragged nested sequences (which is a list-or-tuple of lists-or-tuples-or ndarrays with different lengths or shapes) is deprecated. If you meant to do this, you must specify 'dtype=object' when creating the ndarray\n",
      "  veh_speed = np.array([(m['utime'], m['vel']) for m in self.veh_pose])\n",
      "/home/kfir/workspace/RadarLocalization/dataset.py:263: VisibleDeprecationWarning: Creating an ndarray from ragged nested sequences (which is a list-or-tuple of lists-or-tuples-or ndarrays with different lengths or shapes) is deprecated. If you meant to do this, you must specify 'dtype=object' when creating the ndarray\n",
      "  veh_speed = np.array([(m['utime'], m['vel']) for m in self.veh_pose])\n",
      "/home/kfir/workspace/RadarLocalization/dataset.py:263: VisibleDeprecationWarning: Creating an ndarray from ragged nested sequences (which is a list-or-tuple of lists-or-tuples-or ndarrays with different lengths or shapes) is deprecated. If you meant to do this, you must specify 'dtype=object' when creating the ndarray\n",
      "  veh_speed = np.array([(m['utime'], m['vel']) for m in self.veh_pose])\n",
      "/home/kfir/workspace/RadarLocalization/dataset.py:263: VisibleDeprecationWarning: Creating an ndarray from ragged nested sequences (which is a list-or-tuple of lists-or-tuples-or ndarrays with different lengths or shapes) is deprecated. If you meant to do this, you must specify 'dtype=object' when creating the ndarray\n",
      "  veh_speed = np.array([(m['utime'], m['vel']) for m in self.veh_pose])\n",
      "/home/kfir/workspace/RadarLocalization/dataset.py:263: VisibleDeprecationWarning: Creating an ndarray from ragged nested sequences (which is a list-or-tuple of lists-or-tuples-or ndarrays with different lengths or shapes) is deprecated. If you meant to do this, you must specify 'dtype=object' when creating the ndarray\n",
      "  veh_speed = np.array([(m['utime'], m['vel']) for m in self.veh_pose])\n"
     ]
    },
    {
     "name": "stderr",
     "output_type": "stream",
     "text": [
      "/home/kfir/workspace/RadarLocalization/dataset.py:263: VisibleDeprecationWarning: Creating an ndarray from ragged nested sequences (which is a list-or-tuple of lists-or-tuples-or ndarrays with different lengths or shapes) is deprecated. If you meant to do this, you must specify 'dtype=object' when creating the ndarray\n",
      "  veh_speed = np.array([(m['utime'], m['vel']) for m in self.veh_pose])\n",
      "/home/kfir/workspace/RadarLocalization/dataset.py:263: VisibleDeprecationWarning: Creating an ndarray from ragged nested sequences (which is a list-or-tuple of lists-or-tuples-or ndarrays with different lengths or shapes) is deprecated. If you meant to do this, you must specify 'dtype=object' when creating the ndarray\n",
      "  veh_speed = np.array([(m['utime'], m['vel']) for m in self.veh_pose])\n",
      "/home/kfir/workspace/RadarLocalization/dataset.py:263: VisibleDeprecationWarning: Creating an ndarray from ragged nested sequences (which is a list-or-tuple of lists-or-tuples-or ndarrays with different lengths or shapes) is deprecated. If you meant to do this, you must specify 'dtype=object' when creating the ndarray\n",
      "  veh_speed = np.array([(m['utime'], m['vel']) for m in self.veh_pose])\n",
      "/home/kfir/workspace/RadarLocalization/dataset.py:263: VisibleDeprecationWarning: Creating an ndarray from ragged nested sequences (which is a list-or-tuple of lists-or-tuples-or ndarrays with different lengths or shapes) is deprecated. If you meant to do this, you must specify 'dtype=object' when creating the ndarray\n",
      "  veh_speed = np.array([(m['utime'], m['vel']) for m in self.veh_pose])\n",
      "/home/kfir/workspace/RadarLocalization/dataset.py:263: VisibleDeprecationWarning: Creating an ndarray from ragged nested sequences (which is a list-or-tuple of lists-or-tuples-or ndarrays with different lengths or shapes) is deprecated. If you meant to do this, you must specify 'dtype=object' when creating the ndarray\n",
      "  veh_speed = np.array([(m['utime'], m['vel']) for m in self.veh_pose])\n",
      "/home/kfir/workspace/RadarLocalization/dataset.py:263: VisibleDeprecationWarning: Creating an ndarray from ragged nested sequences (which is a list-or-tuple of lists-or-tuples-or ndarrays with different lengths or shapes) is deprecated. If you meant to do this, you must specify 'dtype=object' when creating the ndarray\n",
      "  veh_speed = np.array([(m['utime'], m['vel']) for m in self.veh_pose])\n",
      "/home/kfir/workspace/RadarLocalization/dataset.py:263: VisibleDeprecationWarning: Creating an ndarray from ragged nested sequences (which is a list-or-tuple of lists-or-tuples-or ndarrays with different lengths or shapes) is deprecated. If you meant to do this, you must specify 'dtype=object' when creating the ndarray\n",
      "  veh_speed = np.array([(m['utime'], m['vel']) for m in self.veh_pose])\n",
      "/home/kfir/workspace/RadarLocalization/dataset.py:263: VisibleDeprecationWarning: Creating an ndarray from ragged nested sequences (which is a list-or-tuple of lists-or-tuples-or ndarrays with different lengths or shapes) is deprecated. If you meant to do this, you must specify 'dtype=object' when creating the ndarray\n",
      "  veh_speed = np.array([(m['utime'], m['vel']) for m in self.veh_pose])\n",
      "/home/kfir/workspace/RadarLocalization/dataset.py:263: VisibleDeprecationWarning: Creating an ndarray from ragged nested sequences (which is a list-or-tuple of lists-or-tuples-or ndarrays with different lengths or shapes) is deprecated. If you meant to do this, you must specify 'dtype=object' when creating the ndarray\n",
      "  veh_speed = np.array([(m['utime'], m['vel']) for m in self.veh_pose])\n",
      "/home/kfir/workspace/RadarLocalization/dataset.py:263: VisibleDeprecationWarning: Creating an ndarray from ragged nested sequences (which is a list-or-tuple of lists-or-tuples-or ndarrays with different lengths or shapes) is deprecated. If you meant to do this, you must specify 'dtype=object' when creating the ndarray\n",
      "  veh_speed = np.array([(m['utime'], m['vel']) for m in self.veh_pose])\n",
      "/home/kfir/workspace/RadarLocalization/dataset.py:263: VisibleDeprecationWarning: Creating an ndarray from ragged nested sequences (which is a list-or-tuple of lists-or-tuples-or ndarrays with different lengths or shapes) is deprecated. If you meant to do this, you must specify 'dtype=object' when creating the ndarray\n",
      "  veh_speed = np.array([(m['utime'], m['vel']) for m in self.veh_pose])\n",
      "/home/kfir/workspace/RadarLocalization/dataset.py:263: VisibleDeprecationWarning: Creating an ndarray from ragged nested sequences (which is a list-or-tuple of lists-or-tuples-or ndarrays with different lengths or shapes) is deprecated. If you meant to do this, you must specify 'dtype=object' when creating the ndarray\n",
      "  veh_speed = np.array([(m['utime'], m['vel']) for m in self.veh_pose])\n",
      "/home/kfir/workspace/RadarLocalization/dataset.py:263: VisibleDeprecationWarning: Creating an ndarray from ragged nested sequences (which is a list-or-tuple of lists-or-tuples-or ndarrays with different lengths or shapes) is deprecated. If you meant to do this, you must specify 'dtype=object' when creating the ndarray\n",
      "  veh_speed = np.array([(m['utime'], m['vel']) for m in self.veh_pose])\n",
      "/home/kfir/workspace/RadarLocalization/dataset.py:263: VisibleDeprecationWarning: Creating an ndarray from ragged nested sequences (which is a list-or-tuple of lists-or-tuples-or ndarrays with different lengths or shapes) is deprecated. If you meant to do this, you must specify 'dtype=object' when creating the ndarray\n",
      "  veh_speed = np.array([(m['utime'], m['vel']) for m in self.veh_pose])\n",
      "/home/kfir/workspace/RadarLocalization/dataset.py:263: VisibleDeprecationWarning: Creating an ndarray from ragged nested sequences (which is a list-or-tuple of lists-or-tuples-or ndarrays with different lengths or shapes) is deprecated. If you meant to do this, you must specify 'dtype=object' when creating the ndarray\n",
      "  veh_speed = np.array([(m['utime'], m['vel']) for m in self.veh_pose])\n",
      "/home/kfir/workspace/RadarLocalization/dataset.py:263: VisibleDeprecationWarning: Creating an ndarray from ragged nested sequences (which is a list-or-tuple of lists-or-tuples-or ndarrays with different lengths or shapes) is deprecated. If you meant to do this, you must specify 'dtype=object' when creating the ndarray\n",
      "  veh_speed = np.array([(m['utime'], m['vel']) for m in self.veh_pose])\n",
      "/home/kfir/workspace/RadarLocalization/dataset.py:263: VisibleDeprecationWarning: Creating an ndarray from ragged nested sequences (which is a list-or-tuple of lists-or-tuples-or ndarrays with different lengths or shapes) is deprecated. If you meant to do this, you must specify 'dtype=object' when creating the ndarray\n",
      "  veh_speed = np.array([(m['utime'], m['vel']) for m in self.veh_pose])\n",
      "/home/kfir/workspace/RadarLocalization/dataset.py:263: VisibleDeprecationWarning: Creating an ndarray from ragged nested sequences (which is a list-or-tuple of lists-or-tuples-or ndarrays with different lengths or shapes) is deprecated. If you meant to do this, you must specify 'dtype=object' when creating the ndarray\n",
      "  veh_speed = np.array([(m['utime'], m['vel']) for m in self.veh_pose])\n",
      "/home/kfir/workspace/RadarLocalization/dataset.py:263: VisibleDeprecationWarning: Creating an ndarray from ragged nested sequences (which is a list-or-tuple of lists-or-tuples-or ndarrays with different lengths or shapes) is deprecated. If you meant to do this, you must specify 'dtype=object' when creating the ndarray\n",
      "  veh_speed = np.array([(m['utime'], m['vel']) for m in self.veh_pose])\n",
      "/home/kfir/workspace/RadarLocalization/dataset.py:263: VisibleDeprecationWarning: Creating an ndarray from ragged nested sequences (which is a list-or-tuple of lists-or-tuples-or ndarrays with different lengths or shapes) is deprecated. If you meant to do this, you must specify 'dtype=object' when creating the ndarray\n",
      "  veh_speed = np.array([(m['utime'], m['vel']) for m in self.veh_pose])\n",
      "/home/kfir/workspace/RadarLocalization/dataset.py:263: VisibleDeprecationWarning: Creating an ndarray from ragged nested sequences (which is a list-or-tuple of lists-or-tuples-or ndarrays with different lengths or shapes) is deprecated. If you meant to do this, you must specify 'dtype=object' when creating the ndarray\n",
      "  veh_speed = np.array([(m['utime'], m['vel']) for m in self.veh_pose])\n"
     ]
    },
    {
     "name": "stderr",
     "output_type": "stream",
     "text": [
      "/home/kfir/workspace/RadarLocalization/dataset.py:263: VisibleDeprecationWarning: Creating an ndarray from ragged nested sequences (which is a list-or-tuple of lists-or-tuples-or ndarrays with different lengths or shapes) is deprecated. If you meant to do this, you must specify 'dtype=object' when creating the ndarray\n",
      "  veh_speed = np.array([(m['utime'], m['vel']) for m in self.veh_pose])\n",
      "/home/kfir/workspace/RadarLocalization/dataset.py:263: VisibleDeprecationWarning: Creating an ndarray from ragged nested sequences (which is a list-or-tuple of lists-or-tuples-or ndarrays with different lengths or shapes) is deprecated. If you meant to do this, you must specify 'dtype=object' when creating the ndarray\n",
      "  veh_speed = np.array([(m['utime'], m['vel']) for m in self.veh_pose])\n",
      "/home/kfir/workspace/RadarLocalization/dataset.py:263: VisibleDeprecationWarning: Creating an ndarray from ragged nested sequences (which is a list-or-tuple of lists-or-tuples-or ndarrays with different lengths or shapes) is deprecated. If you meant to do this, you must specify 'dtype=object' when creating the ndarray\n",
      "  veh_speed = np.array([(m['utime'], m['vel']) for m in self.veh_pose])\n",
      "/home/kfir/workspace/RadarLocalization/dataset.py:263: VisibleDeprecationWarning: Creating an ndarray from ragged nested sequences (which is a list-or-tuple of lists-or-tuples-or ndarrays with different lengths or shapes) is deprecated. If you meant to do this, you must specify 'dtype=object' when creating the ndarray\n",
      "  veh_speed = np.array([(m['utime'], m['vel']) for m in self.veh_pose])\n",
      "/home/kfir/workspace/RadarLocalization/dataset.py:263: VisibleDeprecationWarning: Creating an ndarray from ragged nested sequences (which is a list-or-tuple of lists-or-tuples-or ndarrays with different lengths or shapes) is deprecated. If you meant to do this, you must specify 'dtype=object' when creating the ndarray\n",
      "  veh_speed = np.array([(m['utime'], m['vel']) for m in self.veh_pose])\n",
      "/home/kfir/workspace/RadarLocalization/dataset.py:263: VisibleDeprecationWarning: Creating an ndarray from ragged nested sequences (which is a list-or-tuple of lists-or-tuples-or ndarrays with different lengths or shapes) is deprecated. If you meant to do this, you must specify 'dtype=object' when creating the ndarray\n",
      "  veh_speed = np.array([(m['utime'], m['vel']) for m in self.veh_pose])\n",
      "/home/kfir/workspace/RadarLocalization/dataset.py:263: VisibleDeprecationWarning: Creating an ndarray from ragged nested sequences (which is a list-or-tuple of lists-or-tuples-or ndarrays with different lengths or shapes) is deprecated. If you meant to do this, you must specify 'dtype=object' when creating the ndarray\n",
      "  veh_speed = np.array([(m['utime'], m['vel']) for m in self.veh_pose])\n",
      "/home/kfir/workspace/RadarLocalization/dataset.py:263: VisibleDeprecationWarning: Creating an ndarray from ragged nested sequences (which is a list-or-tuple of lists-or-tuples-or ndarrays with different lengths or shapes) is deprecated. If you meant to do this, you must specify 'dtype=object' when creating the ndarray\n",
      "  veh_speed = np.array([(m['utime'], m['vel']) for m in self.veh_pose])\n",
      "/home/kfir/workspace/RadarLocalization/dataset.py:263: VisibleDeprecationWarning: Creating an ndarray from ragged nested sequences (which is a list-or-tuple of lists-or-tuples-or ndarrays with different lengths or shapes) is deprecated. If you meant to do this, you must specify 'dtype=object' when creating the ndarray\n",
      "  veh_speed = np.array([(m['utime'], m['vel']) for m in self.veh_pose])\n",
      "/home/kfir/workspace/RadarLocalization/dataset.py:263: VisibleDeprecationWarning: Creating an ndarray from ragged nested sequences (which is a list-or-tuple of lists-or-tuples-or ndarrays with different lengths or shapes) is deprecated. If you meant to do this, you must specify 'dtype=object' when creating the ndarray\n",
      "  veh_speed = np.array([(m['utime'], m['vel']) for m in self.veh_pose])\n",
      "/home/kfir/workspace/RadarLocalization/dataset.py:263: VisibleDeprecationWarning: Creating an ndarray from ragged nested sequences (which is a list-or-tuple of lists-or-tuples-or ndarrays with different lengths or shapes) is deprecated. If you meant to do this, you must specify 'dtype=object' when creating the ndarray\n",
      "  veh_speed = np.array([(m['utime'], m['vel']) for m in self.veh_pose])\n",
      "/home/kfir/workspace/RadarLocalization/dataset.py:263: VisibleDeprecationWarning: Creating an ndarray from ragged nested sequences (which is a list-or-tuple of lists-or-tuples-or ndarrays with different lengths or shapes) is deprecated. If you meant to do this, you must specify 'dtype=object' when creating the ndarray\n",
      "  veh_speed = np.array([(m['utime'], m['vel']) for m in self.veh_pose])\n",
      "/home/kfir/workspace/RadarLocalization/dataset.py:263: VisibleDeprecationWarning: Creating an ndarray from ragged nested sequences (which is a list-or-tuple of lists-or-tuples-or ndarrays with different lengths or shapes) is deprecated. If you meant to do this, you must specify 'dtype=object' when creating the ndarray\n",
      "  veh_speed = np.array([(m['utime'], m['vel']) for m in self.veh_pose])\n",
      "/home/kfir/workspace/RadarLocalization/dataset.py:263: VisibleDeprecationWarning: Creating an ndarray from ragged nested sequences (which is a list-or-tuple of lists-or-tuples-or ndarrays with different lengths or shapes) is deprecated. If you meant to do this, you must specify 'dtype=object' when creating the ndarray\n",
      "  veh_speed = np.array([(m['utime'], m['vel']) for m in self.veh_pose])\n",
      "/home/kfir/workspace/RadarLocalization/dataset.py:263: VisibleDeprecationWarning: Creating an ndarray from ragged nested sequences (which is a list-or-tuple of lists-or-tuples-or ndarrays with different lengths or shapes) is deprecated. If you meant to do this, you must specify 'dtype=object' when creating the ndarray\n",
      "  veh_speed = np.array([(m['utime'], m['vel']) for m in self.veh_pose])\n",
      "/home/kfir/workspace/RadarLocalization/dataset.py:263: VisibleDeprecationWarning: Creating an ndarray from ragged nested sequences (which is a list-or-tuple of lists-or-tuples-or ndarrays with different lengths or shapes) is deprecated. If you meant to do this, you must specify 'dtype=object' when creating the ndarray\n",
      "  veh_speed = np.array([(m['utime'], m['vel']) for m in self.veh_pose])\n",
      "/home/kfir/workspace/RadarLocalization/dataset.py:263: VisibleDeprecationWarning: Creating an ndarray from ragged nested sequences (which is a list-or-tuple of lists-or-tuples-or ndarrays with different lengths or shapes) is deprecated. If you meant to do this, you must specify 'dtype=object' when creating the ndarray\n",
      "  veh_speed = np.array([(m['utime'], m['vel']) for m in self.veh_pose])\n",
      "/home/kfir/workspace/RadarLocalization/dataset.py:263: VisibleDeprecationWarning: Creating an ndarray from ragged nested sequences (which is a list-or-tuple of lists-or-tuples-or ndarrays with different lengths or shapes) is deprecated. If you meant to do this, you must specify 'dtype=object' when creating the ndarray\n",
      "  veh_speed = np.array([(m['utime'], m['vel']) for m in self.veh_pose])\n",
      "/home/kfir/workspace/RadarLocalization/dataset.py:263: VisibleDeprecationWarning: Creating an ndarray from ragged nested sequences (which is a list-or-tuple of lists-or-tuples-or ndarrays with different lengths or shapes) is deprecated. If you meant to do this, you must specify 'dtype=object' when creating the ndarray\n",
      "  veh_speed = np.array([(m['utime'], m['vel']) for m in self.veh_pose])\n",
      "/home/kfir/workspace/RadarLocalization/dataset.py:263: VisibleDeprecationWarning: Creating an ndarray from ragged nested sequences (which is a list-or-tuple of lists-or-tuples-or ndarrays with different lengths or shapes) is deprecated. If you meant to do this, you must specify 'dtype=object' when creating the ndarray\n",
      "  veh_speed = np.array([(m['utime'], m['vel']) for m in self.veh_pose])\n",
      "/home/kfir/workspace/RadarLocalization/dataset.py:263: VisibleDeprecationWarning: Creating an ndarray from ragged nested sequences (which is a list-or-tuple of lists-or-tuples-or ndarrays with different lengths or shapes) is deprecated. If you meant to do this, you must specify 'dtype=object' when creating the ndarray\n",
      "  veh_speed = np.array([(m['utime'], m['vel']) for m in self.veh_pose])\n"
     ]
    },
    {
     "name": "stderr",
     "output_type": "stream",
     "text": [
      "/home/kfir/workspace/RadarLocalization/dataset.py:263: VisibleDeprecationWarning: Creating an ndarray from ragged nested sequences (which is a list-or-tuple of lists-or-tuples-or ndarrays with different lengths or shapes) is deprecated. If you meant to do this, you must specify 'dtype=object' when creating the ndarray\n",
      "  veh_speed = np.array([(m['utime'], m['vel']) for m in self.veh_pose])\n",
      "/home/kfir/workspace/RadarLocalization/dataset.py:263: VisibleDeprecationWarning: Creating an ndarray from ragged nested sequences (which is a list-or-tuple of lists-or-tuples-or ndarrays with different lengths or shapes) is deprecated. If you meant to do this, you must specify 'dtype=object' when creating the ndarray\n",
      "  veh_speed = np.array([(m['utime'], m['vel']) for m in self.veh_pose])\n",
      "/home/kfir/workspace/RadarLocalization/dataset.py:263: VisibleDeprecationWarning: Creating an ndarray from ragged nested sequences (which is a list-or-tuple of lists-or-tuples-or ndarrays with different lengths or shapes) is deprecated. If you meant to do this, you must specify 'dtype=object' when creating the ndarray\n",
      "  veh_speed = np.array([(m['utime'], m['vel']) for m in self.veh_pose])\n",
      "/home/kfir/workspace/RadarLocalization/dataset.py:263: VisibleDeprecationWarning: Creating an ndarray from ragged nested sequences (which is a list-or-tuple of lists-or-tuples-or ndarrays with different lengths or shapes) is deprecated. If you meant to do this, you must specify 'dtype=object' when creating the ndarray\n",
      "  veh_speed = np.array([(m['utime'], m['vel']) for m in self.veh_pose])\n",
      "/home/kfir/workspace/RadarLocalization/dataset.py:263: VisibleDeprecationWarning: Creating an ndarray from ragged nested sequences (which is a list-or-tuple of lists-or-tuples-or ndarrays with different lengths or shapes) is deprecated. If you meant to do this, you must specify 'dtype=object' when creating the ndarray\n",
      "  veh_speed = np.array([(m['utime'], m['vel']) for m in self.veh_pose])\n",
      "/home/kfir/workspace/RadarLocalization/dataset.py:263: VisibleDeprecationWarning: Creating an ndarray from ragged nested sequences (which is a list-or-tuple of lists-or-tuples-or ndarrays with different lengths or shapes) is deprecated. If you meant to do this, you must specify 'dtype=object' when creating the ndarray\n",
      "  veh_speed = np.array([(m['utime'], m['vel']) for m in self.veh_pose])\n",
      "/home/kfir/workspace/RadarLocalization/dataset.py:263: VisibleDeprecationWarning: Creating an ndarray from ragged nested sequences (which is a list-or-tuple of lists-or-tuples-or ndarrays with different lengths or shapes) is deprecated. If you meant to do this, you must specify 'dtype=object' when creating the ndarray\n",
      "  veh_speed = np.array([(m['utime'], m['vel']) for m in self.veh_pose])\n",
      "/home/kfir/workspace/RadarLocalization/dataset.py:263: VisibleDeprecationWarning: Creating an ndarray from ragged nested sequences (which is a list-or-tuple of lists-or-tuples-or ndarrays with different lengths or shapes) is deprecated. If you meant to do this, you must specify 'dtype=object' when creating the ndarray\n",
      "  veh_speed = np.array([(m['utime'], m['vel']) for m in self.veh_pose])\n",
      "/home/kfir/workspace/RadarLocalization/dataset.py:263: VisibleDeprecationWarning: Creating an ndarray from ragged nested sequences (which is a list-or-tuple of lists-or-tuples-or ndarrays with different lengths or shapes) is deprecated. If you meant to do this, you must specify 'dtype=object' when creating the ndarray\n",
      "  veh_speed = np.array([(m['utime'], m['vel']) for m in self.veh_pose])\n",
      "/home/kfir/workspace/RadarLocalization/dataset.py:263: VisibleDeprecationWarning: Creating an ndarray from ragged nested sequences (which is a list-or-tuple of lists-or-tuples-or ndarrays with different lengths or shapes) is deprecated. If you meant to do this, you must specify 'dtype=object' when creating the ndarray\n",
      "  veh_speed = np.array([(m['utime'], m['vel']) for m in self.veh_pose])\n",
      "/home/kfir/workspace/RadarLocalization/dataset.py:263: VisibleDeprecationWarning: Creating an ndarray from ragged nested sequences (which is a list-or-tuple of lists-or-tuples-or ndarrays with different lengths or shapes) is deprecated. If you meant to do this, you must specify 'dtype=object' when creating the ndarray\n",
      "  veh_speed = np.array([(m['utime'], m['vel']) for m in self.veh_pose])\n",
      "/home/kfir/workspace/RadarLocalization/dataset.py:263: VisibleDeprecationWarning: Creating an ndarray from ragged nested sequences (which is a list-or-tuple of lists-or-tuples-or ndarrays with different lengths or shapes) is deprecated. If you meant to do this, you must specify 'dtype=object' when creating the ndarray\n",
      "  veh_speed = np.array([(m['utime'], m['vel']) for m in self.veh_pose])\n",
      "/home/kfir/workspace/RadarLocalization/dataset.py:263: VisibleDeprecationWarning: Creating an ndarray from ragged nested sequences (which is a list-or-tuple of lists-or-tuples-or ndarrays with different lengths or shapes) is deprecated. If you meant to do this, you must specify 'dtype=object' when creating the ndarray\n",
      "  veh_speed = np.array([(m['utime'], m['vel']) for m in self.veh_pose])\n",
      "/home/kfir/workspace/RadarLocalization/dataset.py:263: VisibleDeprecationWarning: Creating an ndarray from ragged nested sequences (which is a list-or-tuple of lists-or-tuples-or ndarrays with different lengths or shapes) is deprecated. If you meant to do this, you must specify 'dtype=object' when creating the ndarray\n",
      "  veh_speed = np.array([(m['utime'], m['vel']) for m in self.veh_pose])\n",
      "/home/kfir/workspace/RadarLocalization/dataset.py:263: VisibleDeprecationWarning: Creating an ndarray from ragged nested sequences (which is a list-or-tuple of lists-or-tuples-or ndarrays with different lengths or shapes) is deprecated. If you meant to do this, you must specify 'dtype=object' when creating the ndarray\n",
      "  veh_speed = np.array([(m['utime'], m['vel']) for m in self.veh_pose])\n",
      "/home/kfir/workspace/RadarLocalization/dataset.py:263: VisibleDeprecationWarning: Creating an ndarray from ragged nested sequences (which is a list-or-tuple of lists-or-tuples-or ndarrays with different lengths or shapes) is deprecated. If you meant to do this, you must specify 'dtype=object' when creating the ndarray\n",
      "  veh_speed = np.array([(m['utime'], m['vel']) for m in self.veh_pose])\n",
      "/home/kfir/workspace/RadarLocalization/dataset.py:263: VisibleDeprecationWarning: Creating an ndarray from ragged nested sequences (which is a list-or-tuple of lists-or-tuples-or ndarrays with different lengths or shapes) is deprecated. If you meant to do this, you must specify 'dtype=object' when creating the ndarray\n",
      "  veh_speed = np.array([(m['utime'], m['vel']) for m in self.veh_pose])\n",
      "/home/kfir/workspace/RadarLocalization/dataset.py:263: VisibleDeprecationWarning: Creating an ndarray from ragged nested sequences (which is a list-or-tuple of lists-or-tuples-or ndarrays with different lengths or shapes) is deprecated. If you meant to do this, you must specify 'dtype=object' when creating the ndarray\n",
      "  veh_speed = np.array([(m['utime'], m['vel']) for m in self.veh_pose])\n",
      "/home/kfir/workspace/RadarLocalization/dataset.py:263: VisibleDeprecationWarning: Creating an ndarray from ragged nested sequences (which is a list-or-tuple of lists-or-tuples-or ndarrays with different lengths or shapes) is deprecated. If you meant to do this, you must specify 'dtype=object' when creating the ndarray\n",
      "  veh_speed = np.array([(m['utime'], m['vel']) for m in self.veh_pose])\n",
      "/home/kfir/workspace/RadarLocalization/dataset.py:263: VisibleDeprecationWarning: Creating an ndarray from ragged nested sequences (which is a list-or-tuple of lists-or-tuples-or ndarrays with different lengths or shapes) is deprecated. If you meant to do this, you must specify 'dtype=object' when creating the ndarray\n",
      "  veh_speed = np.array([(m['utime'], m['vel']) for m in self.veh_pose])\n",
      "/home/kfir/workspace/RadarLocalization/dataset.py:263: VisibleDeprecationWarning: Creating an ndarray from ragged nested sequences (which is a list-or-tuple of lists-or-tuples-or ndarrays with different lengths or shapes) is deprecated. If you meant to do this, you must specify 'dtype=object' when creating the ndarray\n",
      "  veh_speed = np.array([(m['utime'], m['vel']) for m in self.veh_pose])\n"
     ]
    },
    {
     "name": "stderr",
     "output_type": "stream",
     "text": [
      "/home/kfir/workspace/RadarLocalization/dataset.py:263: VisibleDeprecationWarning: Creating an ndarray from ragged nested sequences (which is a list-or-tuple of lists-or-tuples-or ndarrays with different lengths or shapes) is deprecated. If you meant to do this, you must specify 'dtype=object' when creating the ndarray\n",
      "  veh_speed = np.array([(m['utime'], m['vel']) for m in self.veh_pose])\n",
      "/home/kfir/workspace/RadarLocalization/dataset.py:263: VisibleDeprecationWarning: Creating an ndarray from ragged nested sequences (which is a list-or-tuple of lists-or-tuples-or ndarrays with different lengths or shapes) is deprecated. If you meant to do this, you must specify 'dtype=object' when creating the ndarray\n",
      "  veh_speed = np.array([(m['utime'], m['vel']) for m in self.veh_pose])\n",
      "/home/kfir/workspace/RadarLocalization/dataset.py:263: VisibleDeprecationWarning: Creating an ndarray from ragged nested sequences (which is a list-or-tuple of lists-or-tuples-or ndarrays with different lengths or shapes) is deprecated. If you meant to do this, you must specify 'dtype=object' when creating the ndarray\n",
      "  veh_speed = np.array([(m['utime'], m['vel']) for m in self.veh_pose])\n",
      "/home/kfir/workspace/RadarLocalization/dataset.py:263: VisibleDeprecationWarning: Creating an ndarray from ragged nested sequences (which is a list-or-tuple of lists-or-tuples-or ndarrays with different lengths or shapes) is deprecated. If you meant to do this, you must specify 'dtype=object' when creating the ndarray\n",
      "  veh_speed = np.array([(m['utime'], m['vel']) for m in self.veh_pose])\n",
      "/home/kfir/workspace/RadarLocalization/dataset.py:263: VisibleDeprecationWarning: Creating an ndarray from ragged nested sequences (which is a list-or-tuple of lists-or-tuples-or ndarrays with different lengths or shapes) is deprecated. If you meant to do this, you must specify 'dtype=object' when creating the ndarray\n",
      "  veh_speed = np.array([(m['utime'], m['vel']) for m in self.veh_pose])\n",
      "/home/kfir/workspace/RadarLocalization/dataset.py:263: VisibleDeprecationWarning: Creating an ndarray from ragged nested sequences (which is a list-or-tuple of lists-or-tuples-or ndarrays with different lengths or shapes) is deprecated. If you meant to do this, you must specify 'dtype=object' when creating the ndarray\n",
      "  veh_speed = np.array([(m['utime'], m['vel']) for m in self.veh_pose])\n",
      "/home/kfir/workspace/RadarLocalization/dataset.py:263: VisibleDeprecationWarning: Creating an ndarray from ragged nested sequences (which is a list-or-tuple of lists-or-tuples-or ndarrays with different lengths or shapes) is deprecated. If you meant to do this, you must specify 'dtype=object' when creating the ndarray\n",
      "  veh_speed = np.array([(m['utime'], m['vel']) for m in self.veh_pose])\n",
      "/home/kfir/workspace/RadarLocalization/dataset.py:263: VisibleDeprecationWarning: Creating an ndarray from ragged nested sequences (which is a list-or-tuple of lists-or-tuples-or ndarrays with different lengths or shapes) is deprecated. If you meant to do this, you must specify 'dtype=object' when creating the ndarray\n",
      "  veh_speed = np.array([(m['utime'], m['vel']) for m in self.veh_pose])\n",
      "/home/kfir/workspace/RadarLocalization/dataset.py:263: VisibleDeprecationWarning: Creating an ndarray from ragged nested sequences (which is a list-or-tuple of lists-or-tuples-or ndarrays with different lengths or shapes) is deprecated. If you meant to do this, you must specify 'dtype=object' when creating the ndarray\n",
      "  veh_speed = np.array([(m['utime'], m['vel']) for m in self.veh_pose])\n",
      "/home/kfir/workspace/RadarLocalization/dataset.py:263: VisibleDeprecationWarning: Creating an ndarray from ragged nested sequences (which is a list-or-tuple of lists-or-tuples-or ndarrays with different lengths or shapes) is deprecated. If you meant to do this, you must specify 'dtype=object' when creating the ndarray\n",
      "  veh_speed = np.array([(m['utime'], m['vel']) for m in self.veh_pose])\n",
      "/home/kfir/workspace/RadarLocalization/dataset.py:263: VisibleDeprecationWarning: Creating an ndarray from ragged nested sequences (which is a list-or-tuple of lists-or-tuples-or ndarrays with different lengths or shapes) is deprecated. If you meant to do this, you must specify 'dtype=object' when creating the ndarray\n",
      "  veh_speed = np.array([(m['utime'], m['vel']) for m in self.veh_pose])\n",
      "/home/kfir/workspace/RadarLocalization/dataset.py:263: VisibleDeprecationWarning: Creating an ndarray from ragged nested sequences (which is a list-or-tuple of lists-or-tuples-or ndarrays with different lengths or shapes) is deprecated. If you meant to do this, you must specify 'dtype=object' when creating the ndarray\n",
      "  veh_speed = np.array([(m['utime'], m['vel']) for m in self.veh_pose])\n",
      "/home/kfir/workspace/RadarLocalization/dataset.py:263: VisibleDeprecationWarning: Creating an ndarray from ragged nested sequences (which is a list-or-tuple of lists-or-tuples-or ndarrays with different lengths or shapes) is deprecated. If you meant to do this, you must specify 'dtype=object' when creating the ndarray\n",
      "  veh_speed = np.array([(m['utime'], m['vel']) for m in self.veh_pose])\n",
      "/home/kfir/workspace/RadarLocalization/dataset.py:263: VisibleDeprecationWarning: Creating an ndarray from ragged nested sequences (which is a list-or-tuple of lists-or-tuples-or ndarrays with different lengths or shapes) is deprecated. If you meant to do this, you must specify 'dtype=object' when creating the ndarray\n",
      "  veh_speed = np.array([(m['utime'], m['vel']) for m in self.veh_pose])\n",
      "/home/kfir/workspace/RadarLocalization/dataset.py:263: VisibleDeprecationWarning: Creating an ndarray from ragged nested sequences (which is a list-or-tuple of lists-or-tuples-or ndarrays with different lengths or shapes) is deprecated. If you meant to do this, you must specify 'dtype=object' when creating the ndarray\n",
      "  veh_speed = np.array([(m['utime'], m['vel']) for m in self.veh_pose])\n",
      "/home/kfir/workspace/RadarLocalization/dataset.py:263: VisibleDeprecationWarning: Creating an ndarray from ragged nested sequences (which is a list-or-tuple of lists-or-tuples-or ndarrays with different lengths or shapes) is deprecated. If you meant to do this, you must specify 'dtype=object' when creating the ndarray\n",
      "  veh_speed = np.array([(m['utime'], m['vel']) for m in self.veh_pose])\n",
      "/home/kfir/workspace/RadarLocalization/dataset.py:263: VisibleDeprecationWarning: Creating an ndarray from ragged nested sequences (which is a list-or-tuple of lists-or-tuples-or ndarrays with different lengths or shapes) is deprecated. If you meant to do this, you must specify 'dtype=object' when creating the ndarray\n",
      "  veh_speed = np.array([(m['utime'], m['vel']) for m in self.veh_pose])\n",
      "/home/kfir/workspace/RadarLocalization/dataset.py:263: VisibleDeprecationWarning: Creating an ndarray from ragged nested sequences (which is a list-or-tuple of lists-or-tuples-or ndarrays with different lengths or shapes) is deprecated. If you meant to do this, you must specify 'dtype=object' when creating the ndarray\n",
      "  veh_speed = np.array([(m['utime'], m['vel']) for m in self.veh_pose])\n",
      "/home/kfir/workspace/RadarLocalization/dataset.py:263: VisibleDeprecationWarning: Creating an ndarray from ragged nested sequences (which is a list-or-tuple of lists-or-tuples-or ndarrays with different lengths or shapes) is deprecated. If you meant to do this, you must specify 'dtype=object' when creating the ndarray\n",
      "  veh_speed = np.array([(m['utime'], m['vel']) for m in self.veh_pose])\n",
      "/home/kfir/workspace/RadarLocalization/dataset.py:263: VisibleDeprecationWarning: Creating an ndarray from ragged nested sequences (which is a list-or-tuple of lists-or-tuples-or ndarrays with different lengths or shapes) is deprecated. If you meant to do this, you must specify 'dtype=object' when creating the ndarray\n",
      "  veh_speed = np.array([(m['utime'], m['vel']) for m in self.veh_pose])\n",
      "/home/kfir/workspace/RadarLocalization/dataset.py:263: VisibleDeprecationWarning: Creating an ndarray from ragged nested sequences (which is a list-or-tuple of lists-or-tuples-or ndarrays with different lengths or shapes) is deprecated. If you meant to do this, you must specify 'dtype=object' when creating the ndarray\n",
      "  veh_speed = np.array([(m['utime'], m['vel']) for m in self.veh_pose])\n"
     ]
    },
    {
     "name": "stderr",
     "output_type": "stream",
     "text": [
      "/home/kfir/workspace/RadarLocalization/dataset.py:263: VisibleDeprecationWarning: Creating an ndarray from ragged nested sequences (which is a list-or-tuple of lists-or-tuples-or ndarrays with different lengths or shapes) is deprecated. If you meant to do this, you must specify 'dtype=object' when creating the ndarray\n",
      "  veh_speed = np.array([(m['utime'], m['vel']) for m in self.veh_pose])\n",
      "/home/kfir/workspace/RadarLocalization/dataset.py:263: VisibleDeprecationWarning: Creating an ndarray from ragged nested sequences (which is a list-or-tuple of lists-or-tuples-or ndarrays with different lengths or shapes) is deprecated. If you meant to do this, you must specify 'dtype=object' when creating the ndarray\n",
      "  veh_speed = np.array([(m['utime'], m['vel']) for m in self.veh_pose])\n",
      "/home/kfir/workspace/RadarLocalization/dataset.py:263: VisibleDeprecationWarning: Creating an ndarray from ragged nested sequences (which is a list-or-tuple of lists-or-tuples-or ndarrays with different lengths or shapes) is deprecated. If you meant to do this, you must specify 'dtype=object' when creating the ndarray\n",
      "  veh_speed = np.array([(m['utime'], m['vel']) for m in self.veh_pose])\n",
      "/home/kfir/workspace/RadarLocalization/dataset.py:263: VisibleDeprecationWarning: Creating an ndarray from ragged nested sequences (which is a list-or-tuple of lists-or-tuples-or ndarrays with different lengths or shapes) is deprecated. If you meant to do this, you must specify 'dtype=object' when creating the ndarray\n",
      "  veh_speed = np.array([(m['utime'], m['vel']) for m in self.veh_pose])\n",
      "/home/kfir/workspace/RadarLocalization/dataset.py:263: VisibleDeprecationWarning: Creating an ndarray from ragged nested sequences (which is a list-or-tuple of lists-or-tuples-or ndarrays with different lengths or shapes) is deprecated. If you meant to do this, you must specify 'dtype=object' when creating the ndarray\n",
      "  veh_speed = np.array([(m['utime'], m['vel']) for m in self.veh_pose])\n",
      "/home/kfir/workspace/RadarLocalization/dataset.py:263: VisibleDeprecationWarning: Creating an ndarray from ragged nested sequences (which is a list-or-tuple of lists-or-tuples-or ndarrays with different lengths or shapes) is deprecated. If you meant to do this, you must specify 'dtype=object' when creating the ndarray\n",
      "  veh_speed = np.array([(m['utime'], m['vel']) for m in self.veh_pose])\n",
      "/home/kfir/workspace/RadarLocalization/dataset.py:263: VisibleDeprecationWarning: Creating an ndarray from ragged nested sequences (which is a list-or-tuple of lists-or-tuples-or ndarrays with different lengths or shapes) is deprecated. If you meant to do this, you must specify 'dtype=object' when creating the ndarray\n",
      "  veh_speed = np.array([(m['utime'], m['vel']) for m in self.veh_pose])\n",
      "/home/kfir/workspace/RadarLocalization/dataset.py:263: VisibleDeprecationWarning: Creating an ndarray from ragged nested sequences (which is a list-or-tuple of lists-or-tuples-or ndarrays with different lengths or shapes) is deprecated. If you meant to do this, you must specify 'dtype=object' when creating the ndarray\n",
      "  veh_speed = np.array([(m['utime'], m['vel']) for m in self.veh_pose])\n",
      "/home/kfir/workspace/RadarLocalization/dataset.py:263: VisibleDeprecationWarning: Creating an ndarray from ragged nested sequences (which is a list-or-tuple of lists-or-tuples-or ndarrays with different lengths or shapes) is deprecated. If you meant to do this, you must specify 'dtype=object' when creating the ndarray\n",
      "  veh_speed = np.array([(m['utime'], m['vel']) for m in self.veh_pose])\n",
      "/home/kfir/workspace/RadarLocalization/dataset.py:263: VisibleDeprecationWarning: Creating an ndarray from ragged nested sequences (which is a list-or-tuple of lists-or-tuples-or ndarrays with different lengths or shapes) is deprecated. If you meant to do this, you must specify 'dtype=object' when creating the ndarray\n",
      "  veh_speed = np.array([(m['utime'], m['vel']) for m in self.veh_pose])\n",
      "/home/kfir/workspace/RadarLocalization/dataset.py:263: VisibleDeprecationWarning: Creating an ndarray from ragged nested sequences (which is a list-or-tuple of lists-or-tuples-or ndarrays with different lengths or shapes) is deprecated. If you meant to do this, you must specify 'dtype=object' when creating the ndarray\n",
      "  veh_speed = np.array([(m['utime'], m['vel']) for m in self.veh_pose])\n",
      "/home/kfir/workspace/RadarLocalization/dataset.py:263: VisibleDeprecationWarning: Creating an ndarray from ragged nested sequences (which is a list-or-tuple of lists-or-tuples-or ndarrays with different lengths or shapes) is deprecated. If you meant to do this, you must specify 'dtype=object' when creating the ndarray\n",
      "  veh_speed = np.array([(m['utime'], m['vel']) for m in self.veh_pose])\n",
      "/home/kfir/workspace/RadarLocalization/dataset.py:263: VisibleDeprecationWarning: Creating an ndarray from ragged nested sequences (which is a list-or-tuple of lists-or-tuples-or ndarrays with different lengths or shapes) is deprecated. If you meant to do this, you must specify 'dtype=object' when creating the ndarray\n",
      "  veh_speed = np.array([(m['utime'], m['vel']) for m in self.veh_pose])\n",
      "/home/kfir/workspace/RadarLocalization/dataset.py:263: VisibleDeprecationWarning: Creating an ndarray from ragged nested sequences (which is a list-or-tuple of lists-or-tuples-or ndarrays with different lengths or shapes) is deprecated. If you meant to do this, you must specify 'dtype=object' when creating the ndarray\n",
      "  veh_speed = np.array([(m['utime'], m['vel']) for m in self.veh_pose])\n",
      "/home/kfir/workspace/RadarLocalization/dataset.py:263: VisibleDeprecationWarning: Creating an ndarray from ragged nested sequences (which is a list-or-tuple of lists-or-tuples-or ndarrays with different lengths or shapes) is deprecated. If you meant to do this, you must specify 'dtype=object' when creating the ndarray\n",
      "  veh_speed = np.array([(m['utime'], m['vel']) for m in self.veh_pose])\n",
      "/home/kfir/workspace/RadarLocalization/dataset.py:263: VisibleDeprecationWarning: Creating an ndarray from ragged nested sequences (which is a list-or-tuple of lists-or-tuples-or ndarrays with different lengths or shapes) is deprecated. If you meant to do this, you must specify 'dtype=object' when creating the ndarray\n",
      "  veh_speed = np.array([(m['utime'], m['vel']) for m in self.veh_pose])\n",
      "/home/kfir/workspace/RadarLocalization/dataset.py:263: VisibleDeprecationWarning: Creating an ndarray from ragged nested sequences (which is a list-or-tuple of lists-or-tuples-or ndarrays with different lengths or shapes) is deprecated. If you meant to do this, you must specify 'dtype=object' when creating the ndarray\n",
      "  veh_speed = np.array([(m['utime'], m['vel']) for m in self.veh_pose])\n",
      "/home/kfir/workspace/RadarLocalization/dataset.py:263: VisibleDeprecationWarning: Creating an ndarray from ragged nested sequences (which is a list-or-tuple of lists-or-tuples-or ndarrays with different lengths or shapes) is deprecated. If you meant to do this, you must specify 'dtype=object' when creating the ndarray\n",
      "  veh_speed = np.array([(m['utime'], m['vel']) for m in self.veh_pose])\n",
      "/home/kfir/workspace/RadarLocalization/dataset.py:263: VisibleDeprecationWarning: Creating an ndarray from ragged nested sequences (which is a list-or-tuple of lists-or-tuples-or ndarrays with different lengths or shapes) is deprecated. If you meant to do this, you must specify 'dtype=object' when creating the ndarray\n",
      "  veh_speed = np.array([(m['utime'], m['vel']) for m in self.veh_pose])\n",
      "/home/kfir/workspace/RadarLocalization/dataset.py:263: VisibleDeprecationWarning: Creating an ndarray from ragged nested sequences (which is a list-or-tuple of lists-or-tuples-or ndarrays with different lengths or shapes) is deprecated. If you meant to do this, you must specify 'dtype=object' when creating the ndarray\n",
      "  veh_speed = np.array([(m['utime'], m['vel']) for m in self.veh_pose])\n",
      "/home/kfir/workspace/RadarLocalization/dataset.py:263: VisibleDeprecationWarning: Creating an ndarray from ragged nested sequences (which is a list-or-tuple of lists-or-tuples-or ndarrays with different lengths or shapes) is deprecated. If you meant to do this, you must specify 'dtype=object' when creating the ndarray\n",
      "  veh_speed = np.array([(m['utime'], m['vel']) for m in self.veh_pose])\n"
     ]
    },
    {
     "name": "stderr",
     "output_type": "stream",
     "text": [
      "/home/kfir/workspace/RadarLocalization/dataset.py:263: VisibleDeprecationWarning: Creating an ndarray from ragged nested sequences (which is a list-or-tuple of lists-or-tuples-or ndarrays with different lengths or shapes) is deprecated. If you meant to do this, you must specify 'dtype=object' when creating the ndarray\n",
      "  veh_speed = np.array([(m['utime'], m['vel']) for m in self.veh_pose])\n",
      "/home/kfir/workspace/RadarLocalization/dataset.py:263: VisibleDeprecationWarning: Creating an ndarray from ragged nested sequences (which is a list-or-tuple of lists-or-tuples-or ndarrays with different lengths or shapes) is deprecated. If you meant to do this, you must specify 'dtype=object' when creating the ndarray\n",
      "  veh_speed = np.array([(m['utime'], m['vel']) for m in self.veh_pose])\n",
      "/home/kfir/workspace/RadarLocalization/dataset.py:263: VisibleDeprecationWarning: Creating an ndarray from ragged nested sequences (which is a list-or-tuple of lists-or-tuples-or ndarrays with different lengths or shapes) is deprecated. If you meant to do this, you must specify 'dtype=object' when creating the ndarray\n",
      "  veh_speed = np.array([(m['utime'], m['vel']) for m in self.veh_pose])\n",
      "/home/kfir/workspace/RadarLocalization/dataset.py:263: VisibleDeprecationWarning: Creating an ndarray from ragged nested sequences (which is a list-or-tuple of lists-or-tuples-or ndarrays with different lengths or shapes) is deprecated. If you meant to do this, you must specify 'dtype=object' when creating the ndarray\n",
      "  veh_speed = np.array([(m['utime'], m['vel']) for m in self.veh_pose])\n",
      "/home/kfir/workspace/RadarLocalization/dataset.py:263: VisibleDeprecationWarning: Creating an ndarray from ragged nested sequences (which is a list-or-tuple of lists-or-tuples-or ndarrays with different lengths or shapes) is deprecated. If you meant to do this, you must specify 'dtype=object' when creating the ndarray\n",
      "  veh_speed = np.array([(m['utime'], m['vel']) for m in self.veh_pose])\n",
      "/home/kfir/workspace/RadarLocalization/dataset.py:263: VisibleDeprecationWarning: Creating an ndarray from ragged nested sequences (which is a list-or-tuple of lists-or-tuples-or ndarrays with different lengths or shapes) is deprecated. If you meant to do this, you must specify 'dtype=object' when creating the ndarray\n",
      "  veh_speed = np.array([(m['utime'], m['vel']) for m in self.veh_pose])\n",
      "/home/kfir/workspace/RadarLocalization/dataset.py:263: VisibleDeprecationWarning: Creating an ndarray from ragged nested sequences (which is a list-or-tuple of lists-or-tuples-or ndarrays with different lengths or shapes) is deprecated. If you meant to do this, you must specify 'dtype=object' when creating the ndarray\n",
      "  veh_speed = np.array([(m['utime'], m['vel']) for m in self.veh_pose])\n",
      "/home/kfir/workspace/RadarLocalization/dataset.py:263: VisibleDeprecationWarning: Creating an ndarray from ragged nested sequences (which is a list-or-tuple of lists-or-tuples-or ndarrays with different lengths or shapes) is deprecated. If you meant to do this, you must specify 'dtype=object' when creating the ndarray\n",
      "  veh_speed = np.array([(m['utime'], m['vel']) for m in self.veh_pose])\n",
      "/home/kfir/workspace/RadarLocalization/dataset.py:263: VisibleDeprecationWarning: Creating an ndarray from ragged nested sequences (which is a list-or-tuple of lists-or-tuples-or ndarrays with different lengths or shapes) is deprecated. If you meant to do this, you must specify 'dtype=object' when creating the ndarray\n",
      "  veh_speed = np.array([(m['utime'], m['vel']) for m in self.veh_pose])\n",
      "/home/kfir/workspace/RadarLocalization/dataset.py:263: VisibleDeprecationWarning: Creating an ndarray from ragged nested sequences (which is a list-or-tuple of lists-or-tuples-or ndarrays with different lengths or shapes) is deprecated. If you meant to do this, you must specify 'dtype=object' when creating the ndarray\n",
      "  veh_speed = np.array([(m['utime'], m['vel']) for m in self.veh_pose])\n",
      "/home/kfir/workspace/RadarLocalization/dataset.py:263: VisibleDeprecationWarning: Creating an ndarray from ragged nested sequences (which is a list-or-tuple of lists-or-tuples-or ndarrays with different lengths or shapes) is deprecated. If you meant to do this, you must specify 'dtype=object' when creating the ndarray\n",
      "  veh_speed = np.array([(m['utime'], m['vel']) for m in self.veh_pose])\n",
      "/home/kfir/workspace/RadarLocalization/dataset.py:263: VisibleDeprecationWarning: Creating an ndarray from ragged nested sequences (which is a list-or-tuple of lists-or-tuples-or ndarrays with different lengths or shapes) is deprecated. If you meant to do this, you must specify 'dtype=object' when creating the ndarray\n",
      "  veh_speed = np.array([(m['utime'], m['vel']) for m in self.veh_pose])\n",
      "/home/kfir/workspace/RadarLocalization/dataset.py:263: VisibleDeprecationWarning: Creating an ndarray from ragged nested sequences (which is a list-or-tuple of lists-or-tuples-or ndarrays with different lengths or shapes) is deprecated. If you meant to do this, you must specify 'dtype=object' when creating the ndarray\n",
      "  veh_speed = np.array([(m['utime'], m['vel']) for m in self.veh_pose])\n",
      "/home/kfir/workspace/RadarLocalization/dataset.py:263: VisibleDeprecationWarning: Creating an ndarray from ragged nested sequences (which is a list-or-tuple of lists-or-tuples-or ndarrays with different lengths or shapes) is deprecated. If you meant to do this, you must specify 'dtype=object' when creating the ndarray\n",
      "  veh_speed = np.array([(m['utime'], m['vel']) for m in self.veh_pose])\n",
      "/home/kfir/workspace/RadarLocalization/dataset.py:263: VisibleDeprecationWarning: Creating an ndarray from ragged nested sequences (which is a list-or-tuple of lists-or-tuples-or ndarrays with different lengths or shapes) is deprecated. If you meant to do this, you must specify 'dtype=object' when creating the ndarray\n",
      "  veh_speed = np.array([(m['utime'], m['vel']) for m in self.veh_pose])\n",
      "/home/kfir/workspace/RadarLocalization/dataset.py:263: VisibleDeprecationWarning: Creating an ndarray from ragged nested sequences (which is a list-or-tuple of lists-or-tuples-or ndarrays with different lengths or shapes) is deprecated. If you meant to do this, you must specify 'dtype=object' when creating the ndarray\n",
      "  veh_speed = np.array([(m['utime'], m['vel']) for m in self.veh_pose])\n",
      "/home/kfir/workspace/RadarLocalization/dataset.py:263: VisibleDeprecationWarning: Creating an ndarray from ragged nested sequences (which is a list-or-tuple of lists-or-tuples-or ndarrays with different lengths or shapes) is deprecated. If you meant to do this, you must specify 'dtype=object' when creating the ndarray\n",
      "  veh_speed = np.array([(m['utime'], m['vel']) for m in self.veh_pose])\n",
      "/home/kfir/workspace/RadarLocalization/dataset.py:263: VisibleDeprecationWarning: Creating an ndarray from ragged nested sequences (which is a list-or-tuple of lists-or-tuples-or ndarrays with different lengths or shapes) is deprecated. If you meant to do this, you must specify 'dtype=object' when creating the ndarray\n",
      "  veh_speed = np.array([(m['utime'], m['vel']) for m in self.veh_pose])\n",
      "/home/kfir/workspace/RadarLocalization/dataset.py:263: VisibleDeprecationWarning: Creating an ndarray from ragged nested sequences (which is a list-or-tuple of lists-or-tuples-or ndarrays with different lengths or shapes) is deprecated. If you meant to do this, you must specify 'dtype=object' when creating the ndarray\n",
      "  veh_speed = np.array([(m['utime'], m['vel']) for m in self.veh_pose])\n",
      "/home/kfir/workspace/RadarLocalization/dataset.py:263: VisibleDeprecationWarning: Creating an ndarray from ragged nested sequences (which is a list-or-tuple of lists-or-tuples-or ndarrays with different lengths or shapes) is deprecated. If you meant to do this, you must specify 'dtype=object' when creating the ndarray\n",
      "  veh_speed = np.array([(m['utime'], m['vel']) for m in self.veh_pose])\n",
      "/home/kfir/workspace/RadarLocalization/dataset.py:263: VisibleDeprecationWarning: Creating an ndarray from ragged nested sequences (which is a list-or-tuple of lists-or-tuples-or ndarrays with different lengths or shapes) is deprecated. If you meant to do this, you must specify 'dtype=object' when creating the ndarray\n",
      "  veh_speed = np.array([(m['utime'], m['vel']) for m in self.veh_pose])\n"
     ]
    },
    {
     "name": "stderr",
     "output_type": "stream",
     "text": [
      "/home/kfir/workspace/RadarLocalization/dataset.py:263: VisibleDeprecationWarning: Creating an ndarray from ragged nested sequences (which is a list-or-tuple of lists-or-tuples-or ndarrays with different lengths or shapes) is deprecated. If you meant to do this, you must specify 'dtype=object' when creating the ndarray\n",
      "  veh_speed = np.array([(m['utime'], m['vel']) for m in self.veh_pose])\n",
      "/home/kfir/workspace/RadarLocalization/dataset.py:263: VisibleDeprecationWarning: Creating an ndarray from ragged nested sequences (which is a list-or-tuple of lists-or-tuples-or ndarrays with different lengths or shapes) is deprecated. If you meant to do this, you must specify 'dtype=object' when creating the ndarray\n",
      "  veh_speed = np.array([(m['utime'], m['vel']) for m in self.veh_pose])\n",
      "/home/kfir/workspace/RadarLocalization/dataset.py:263: VisibleDeprecationWarning: Creating an ndarray from ragged nested sequences (which is a list-or-tuple of lists-or-tuples-or ndarrays with different lengths or shapes) is deprecated. If you meant to do this, you must specify 'dtype=object' when creating the ndarray\n",
      "  veh_speed = np.array([(m['utime'], m['vel']) for m in self.veh_pose])\n",
      "/home/kfir/workspace/RadarLocalization/dataset.py:263: VisibleDeprecationWarning: Creating an ndarray from ragged nested sequences (which is a list-or-tuple of lists-or-tuples-or ndarrays with different lengths or shapes) is deprecated. If you meant to do this, you must specify 'dtype=object' when creating the ndarray\n",
      "  veh_speed = np.array([(m['utime'], m['vel']) for m in self.veh_pose])\n",
      "/home/kfir/workspace/RadarLocalization/dataset.py:263: VisibleDeprecationWarning: Creating an ndarray from ragged nested sequences (which is a list-or-tuple of lists-or-tuples-or ndarrays with different lengths or shapes) is deprecated. If you meant to do this, you must specify 'dtype=object' when creating the ndarray\n",
      "  veh_speed = np.array([(m['utime'], m['vel']) for m in self.veh_pose])\n",
      "/home/kfir/workspace/RadarLocalization/dataset.py:263: VisibleDeprecationWarning: Creating an ndarray from ragged nested sequences (which is a list-or-tuple of lists-or-tuples-or ndarrays with different lengths or shapes) is deprecated. If you meant to do this, you must specify 'dtype=object' when creating the ndarray\n",
      "  veh_speed = np.array([(m['utime'], m['vel']) for m in self.veh_pose])\n",
      "/home/kfir/workspace/RadarLocalization/dataset.py:263: VisibleDeprecationWarning: Creating an ndarray from ragged nested sequences (which is a list-or-tuple of lists-or-tuples-or ndarrays with different lengths or shapes) is deprecated. If you meant to do this, you must specify 'dtype=object' when creating the ndarray\n",
      "  veh_speed = np.array([(m['utime'], m['vel']) for m in self.veh_pose])\n",
      "/home/kfir/workspace/RadarLocalization/dataset.py:263: VisibleDeprecationWarning: Creating an ndarray from ragged nested sequences (which is a list-or-tuple of lists-or-tuples-or ndarrays with different lengths or shapes) is deprecated. If you meant to do this, you must specify 'dtype=object' when creating the ndarray\n",
      "  veh_speed = np.array([(m['utime'], m['vel']) for m in self.veh_pose])\n",
      "/home/kfir/workspace/RadarLocalization/dataset.py:263: VisibleDeprecationWarning: Creating an ndarray from ragged nested sequences (which is a list-or-tuple of lists-or-tuples-or ndarrays with different lengths or shapes) is deprecated. If you meant to do this, you must specify 'dtype=object' when creating the ndarray\n",
      "  veh_speed = np.array([(m['utime'], m['vel']) for m in self.veh_pose])\n",
      "/home/kfir/workspace/RadarLocalization/dataset.py:263: VisibleDeprecationWarning: Creating an ndarray from ragged nested sequences (which is a list-or-tuple of lists-or-tuples-or ndarrays with different lengths or shapes) is deprecated. If you meant to do this, you must specify 'dtype=object' when creating the ndarray\n",
      "  veh_speed = np.array([(m['utime'], m['vel']) for m in self.veh_pose])\n",
      "/home/kfir/workspace/RadarLocalization/dataset.py:263: VisibleDeprecationWarning: Creating an ndarray from ragged nested sequences (which is a list-or-tuple of lists-or-tuples-or ndarrays with different lengths or shapes) is deprecated. If you meant to do this, you must specify 'dtype=object' when creating the ndarray\n",
      "  veh_speed = np.array([(m['utime'], m['vel']) for m in self.veh_pose])\n",
      "/home/kfir/workspace/RadarLocalization/dataset.py:263: VisibleDeprecationWarning: Creating an ndarray from ragged nested sequences (which is a list-or-tuple of lists-or-tuples-or ndarrays with different lengths or shapes) is deprecated. If you meant to do this, you must specify 'dtype=object' when creating the ndarray\n",
      "  veh_speed = np.array([(m['utime'], m['vel']) for m in self.veh_pose])\n",
      "/home/kfir/workspace/RadarLocalization/dataset.py:263: VisibleDeprecationWarning: Creating an ndarray from ragged nested sequences (which is a list-or-tuple of lists-or-tuples-or ndarrays with different lengths or shapes) is deprecated. If you meant to do this, you must specify 'dtype=object' when creating the ndarray\n",
      "  veh_speed = np.array([(m['utime'], m['vel']) for m in self.veh_pose])\n",
      "/home/kfir/workspace/RadarLocalization/dataset.py:263: VisibleDeprecationWarning: Creating an ndarray from ragged nested sequences (which is a list-or-tuple of lists-or-tuples-or ndarrays with different lengths or shapes) is deprecated. If you meant to do this, you must specify 'dtype=object' when creating the ndarray\n",
      "  veh_speed = np.array([(m['utime'], m['vel']) for m in self.veh_pose])\n",
      "/home/kfir/workspace/RadarLocalization/dataset.py:263: VisibleDeprecationWarning: Creating an ndarray from ragged nested sequences (which is a list-or-tuple of lists-or-tuples-or ndarrays with different lengths or shapes) is deprecated. If you meant to do this, you must specify 'dtype=object' when creating the ndarray\n",
      "  veh_speed = np.array([(m['utime'], m['vel']) for m in self.veh_pose])\n",
      "/home/kfir/workspace/RadarLocalization/dataset.py:263: VisibleDeprecationWarning: Creating an ndarray from ragged nested sequences (which is a list-or-tuple of lists-or-tuples-or ndarrays with different lengths or shapes) is deprecated. If you meant to do this, you must specify 'dtype=object' when creating the ndarray\n",
      "  veh_speed = np.array([(m['utime'], m['vel']) for m in self.veh_pose])\n",
      "/home/kfir/workspace/RadarLocalization/dataset.py:263: VisibleDeprecationWarning: Creating an ndarray from ragged nested sequences (which is a list-or-tuple of lists-or-tuples-or ndarrays with different lengths or shapes) is deprecated. If you meant to do this, you must specify 'dtype=object' when creating the ndarray\n",
      "  veh_speed = np.array([(m['utime'], m['vel']) for m in self.veh_pose])\n",
      "/home/kfir/workspace/RadarLocalization/dataset.py:263: VisibleDeprecationWarning: Creating an ndarray from ragged nested sequences (which is a list-or-tuple of lists-or-tuples-or ndarrays with different lengths or shapes) is deprecated. If you meant to do this, you must specify 'dtype=object' when creating the ndarray\n",
      "  veh_speed = np.array([(m['utime'], m['vel']) for m in self.veh_pose])\n",
      "/home/kfir/workspace/RadarLocalization/dataset.py:263: VisibleDeprecationWarning: Creating an ndarray from ragged nested sequences (which is a list-or-tuple of lists-or-tuples-or ndarrays with different lengths or shapes) is deprecated. If you meant to do this, you must specify 'dtype=object' when creating the ndarray\n",
      "  veh_speed = np.array([(m['utime'], m['vel']) for m in self.veh_pose])\n",
      "/home/kfir/workspace/RadarLocalization/dataset.py:263: VisibleDeprecationWarning: Creating an ndarray from ragged nested sequences (which is a list-or-tuple of lists-or-tuples-or ndarrays with different lengths or shapes) is deprecated. If you meant to do this, you must specify 'dtype=object' when creating the ndarray\n",
      "  veh_speed = np.array([(m['utime'], m['vel']) for m in self.veh_pose])\n",
      "/home/kfir/workspace/RadarLocalization/dataset.py:263: VisibleDeprecationWarning: Creating an ndarray from ragged nested sequences (which is a list-or-tuple of lists-or-tuples-or ndarrays with different lengths or shapes) is deprecated. If you meant to do this, you must specify 'dtype=object' when creating the ndarray\n",
      "  veh_speed = np.array([(m['utime'], m['vel']) for m in self.veh_pose])\n"
     ]
    },
    {
     "name": "stderr",
     "output_type": "stream",
     "text": [
      "/home/kfir/workspace/RadarLocalization/dataset.py:263: VisibleDeprecationWarning: Creating an ndarray from ragged nested sequences (which is a list-or-tuple of lists-or-tuples-or ndarrays with different lengths or shapes) is deprecated. If you meant to do this, you must specify 'dtype=object' when creating the ndarray\n",
      "  veh_speed = np.array([(m['utime'], m['vel']) for m in self.veh_pose])\n",
      "/home/kfir/workspace/RadarLocalization/dataset.py:263: VisibleDeprecationWarning: Creating an ndarray from ragged nested sequences (which is a list-or-tuple of lists-or-tuples-or ndarrays with different lengths or shapes) is deprecated. If you meant to do this, you must specify 'dtype=object' when creating the ndarray\n",
      "  veh_speed = np.array([(m['utime'], m['vel']) for m in self.veh_pose])\n",
      "/home/kfir/workspace/RadarLocalization/dataset.py:263: VisibleDeprecationWarning: Creating an ndarray from ragged nested sequences (which is a list-or-tuple of lists-or-tuples-or ndarrays with different lengths or shapes) is deprecated. If you meant to do this, you must specify 'dtype=object' when creating the ndarray\n",
      "  veh_speed = np.array([(m['utime'], m['vel']) for m in self.veh_pose])\n",
      "/home/kfir/workspace/RadarLocalization/dataset.py:263: VisibleDeprecationWarning: Creating an ndarray from ragged nested sequences (which is a list-or-tuple of lists-or-tuples-or ndarrays with different lengths or shapes) is deprecated. If you meant to do this, you must specify 'dtype=object' when creating the ndarray\n",
      "  veh_speed = np.array([(m['utime'], m['vel']) for m in self.veh_pose])\n",
      "/home/kfir/workspace/RadarLocalization/dataset.py:263: VisibleDeprecationWarning: Creating an ndarray from ragged nested sequences (which is a list-or-tuple of lists-or-tuples-or ndarrays with different lengths or shapes) is deprecated. If you meant to do this, you must specify 'dtype=object' when creating the ndarray\n",
      "  veh_speed = np.array([(m['utime'], m['vel']) for m in self.veh_pose])\n",
      "/home/kfir/workspace/RadarLocalization/dataset.py:263: VisibleDeprecationWarning: Creating an ndarray from ragged nested sequences (which is a list-or-tuple of lists-or-tuples-or ndarrays with different lengths or shapes) is deprecated. If you meant to do this, you must specify 'dtype=object' when creating the ndarray\n",
      "  veh_speed = np.array([(m['utime'], m['vel']) for m in self.veh_pose])\n",
      "/home/kfir/workspace/RadarLocalization/dataset.py:263: VisibleDeprecationWarning: Creating an ndarray from ragged nested sequences (which is a list-or-tuple of lists-or-tuples-or ndarrays with different lengths or shapes) is deprecated. If you meant to do this, you must specify 'dtype=object' when creating the ndarray\n",
      "  veh_speed = np.array([(m['utime'], m['vel']) for m in self.veh_pose])\n",
      "/home/kfir/workspace/RadarLocalization/dataset.py:263: VisibleDeprecationWarning: Creating an ndarray from ragged nested sequences (which is a list-or-tuple of lists-or-tuples-or ndarrays with different lengths or shapes) is deprecated. If you meant to do this, you must specify 'dtype=object' when creating the ndarray\n",
      "  veh_speed = np.array([(m['utime'], m['vel']) for m in self.veh_pose])\n",
      "/home/kfir/workspace/RadarLocalization/dataset.py:263: VisibleDeprecationWarning: Creating an ndarray from ragged nested sequences (which is a list-or-tuple of lists-or-tuples-or ndarrays with different lengths or shapes) is deprecated. If you meant to do this, you must specify 'dtype=object' when creating the ndarray\n",
      "  veh_speed = np.array([(m['utime'], m['vel']) for m in self.veh_pose])\n",
      "/home/kfir/workspace/RadarLocalization/dataset.py:263: VisibleDeprecationWarning: Creating an ndarray from ragged nested sequences (which is a list-or-tuple of lists-or-tuples-or ndarrays with different lengths or shapes) is deprecated. If you meant to do this, you must specify 'dtype=object' when creating the ndarray\n",
      "  veh_speed = np.array([(m['utime'], m['vel']) for m in self.veh_pose])\n",
      "/home/kfir/workspace/RadarLocalization/dataset.py:263: VisibleDeprecationWarning: Creating an ndarray from ragged nested sequences (which is a list-or-tuple of lists-or-tuples-or ndarrays with different lengths or shapes) is deprecated. If you meant to do this, you must specify 'dtype=object' when creating the ndarray\n",
      "  veh_speed = np.array([(m['utime'], m['vel']) for m in self.veh_pose])\n",
      "/home/kfir/workspace/RadarLocalization/dataset.py:263: VisibleDeprecationWarning: Creating an ndarray from ragged nested sequences (which is a list-or-tuple of lists-or-tuples-or ndarrays with different lengths or shapes) is deprecated. If you meant to do this, you must specify 'dtype=object' when creating the ndarray\n",
      "  veh_speed = np.array([(m['utime'], m['vel']) for m in self.veh_pose])\n",
      "/home/kfir/workspace/RadarLocalization/dataset.py:263: VisibleDeprecationWarning: Creating an ndarray from ragged nested sequences (which is a list-or-tuple of lists-or-tuples-or ndarrays with different lengths or shapes) is deprecated. If you meant to do this, you must specify 'dtype=object' when creating the ndarray\n",
      "  veh_speed = np.array([(m['utime'], m['vel']) for m in self.veh_pose])\n",
      "/home/kfir/workspace/RadarLocalization/dataset.py:263: VisibleDeprecationWarning: Creating an ndarray from ragged nested sequences (which is a list-or-tuple of lists-or-tuples-or ndarrays with different lengths or shapes) is deprecated. If you meant to do this, you must specify 'dtype=object' when creating the ndarray\n",
      "  veh_speed = np.array([(m['utime'], m['vel']) for m in self.veh_pose])\n",
      "/home/kfir/workspace/RadarLocalization/dataset.py:263: VisibleDeprecationWarning: Creating an ndarray from ragged nested sequences (which is a list-or-tuple of lists-or-tuples-or ndarrays with different lengths or shapes) is deprecated. If you meant to do this, you must specify 'dtype=object' when creating the ndarray\n",
      "  veh_speed = np.array([(m['utime'], m['vel']) for m in self.veh_pose])\n",
      "/home/kfir/workspace/RadarLocalization/dataset.py:263: VisibleDeprecationWarning: Creating an ndarray from ragged nested sequences (which is a list-or-tuple of lists-or-tuples-or ndarrays with different lengths or shapes) is deprecated. If you meant to do this, you must specify 'dtype=object' when creating the ndarray\n",
      "  veh_speed = np.array([(m['utime'], m['vel']) for m in self.veh_pose])\n",
      "/home/kfir/workspace/RadarLocalization/dataset.py:263: VisibleDeprecationWarning: Creating an ndarray from ragged nested sequences (which is a list-or-tuple of lists-or-tuples-or ndarrays with different lengths or shapes) is deprecated. If you meant to do this, you must specify 'dtype=object' when creating the ndarray\n",
      "  veh_speed = np.array([(m['utime'], m['vel']) for m in self.veh_pose])\n",
      "/home/kfir/workspace/RadarLocalization/dataset.py:263: VisibleDeprecationWarning: Creating an ndarray from ragged nested sequences (which is a list-or-tuple of lists-or-tuples-or ndarrays with different lengths or shapes) is deprecated. If you meant to do this, you must specify 'dtype=object' when creating the ndarray\n",
      "  veh_speed = np.array([(m['utime'], m['vel']) for m in self.veh_pose])\n",
      "/home/kfir/workspace/RadarLocalization/dataset.py:263: VisibleDeprecationWarning: Creating an ndarray from ragged nested sequences (which is a list-or-tuple of lists-or-tuples-or ndarrays with different lengths or shapes) is deprecated. If you meant to do this, you must specify 'dtype=object' when creating the ndarray\n",
      "  veh_speed = np.array([(m['utime'], m['vel']) for m in self.veh_pose])\n",
      "/home/kfir/workspace/RadarLocalization/dataset.py:263: VisibleDeprecationWarning: Creating an ndarray from ragged nested sequences (which is a list-or-tuple of lists-or-tuples-or ndarrays with different lengths or shapes) is deprecated. If you meant to do this, you must specify 'dtype=object' when creating the ndarray\n",
      "  veh_speed = np.array([(m['utime'], m['vel']) for m in self.veh_pose])\n",
      "/home/kfir/workspace/RadarLocalization/dataset.py:263: VisibleDeprecationWarning: Creating an ndarray from ragged nested sequences (which is a list-or-tuple of lists-or-tuples-or ndarrays with different lengths or shapes) is deprecated. If you meant to do this, you must specify 'dtype=object' when creating the ndarray\n",
      "  veh_speed = np.array([(m['utime'], m['vel']) for m in self.veh_pose])\n"
     ]
    },
    {
     "name": "stderr",
     "output_type": "stream",
     "text": [
      "/home/kfir/workspace/RadarLocalization/dataset.py:263: VisibleDeprecationWarning: Creating an ndarray from ragged nested sequences (which is a list-or-tuple of lists-or-tuples-or ndarrays with different lengths or shapes) is deprecated. If you meant to do this, you must specify 'dtype=object' when creating the ndarray\n",
      "  veh_speed = np.array([(m['utime'], m['vel']) for m in self.veh_pose])\n",
      "/home/kfir/workspace/RadarLocalization/dataset.py:263: VisibleDeprecationWarning: Creating an ndarray from ragged nested sequences (which is a list-or-tuple of lists-or-tuples-or ndarrays with different lengths or shapes) is deprecated. If you meant to do this, you must specify 'dtype=object' when creating the ndarray\n",
      "  veh_speed = np.array([(m['utime'], m['vel']) for m in self.veh_pose])\n",
      "/home/kfir/workspace/RadarLocalization/dataset.py:263: VisibleDeprecationWarning: Creating an ndarray from ragged nested sequences (which is a list-or-tuple of lists-or-tuples-or ndarrays with different lengths or shapes) is deprecated. If you meant to do this, you must specify 'dtype=object' when creating the ndarray\n",
      "  veh_speed = np.array([(m['utime'], m['vel']) for m in self.veh_pose])\n",
      "/home/kfir/workspace/RadarLocalization/dataset.py:263: VisibleDeprecationWarning: Creating an ndarray from ragged nested sequences (which is a list-or-tuple of lists-or-tuples-or ndarrays with different lengths or shapes) is deprecated. If you meant to do this, you must specify 'dtype=object' when creating the ndarray\n",
      "  veh_speed = np.array([(m['utime'], m['vel']) for m in self.veh_pose])\n",
      "/home/kfir/workspace/RadarLocalization/dataset.py:263: VisibleDeprecationWarning: Creating an ndarray from ragged nested sequences (which is a list-or-tuple of lists-or-tuples-or ndarrays with different lengths or shapes) is deprecated. If you meant to do this, you must specify 'dtype=object' when creating the ndarray\n",
      "  veh_speed = np.array([(m['utime'], m['vel']) for m in self.veh_pose])\n",
      "/home/kfir/workspace/RadarLocalization/dataset.py:263: VisibleDeprecationWarning: Creating an ndarray from ragged nested sequences (which is a list-or-tuple of lists-or-tuples-or ndarrays with different lengths or shapes) is deprecated. If you meant to do this, you must specify 'dtype=object' when creating the ndarray\n",
      "  veh_speed = np.array([(m['utime'], m['vel']) for m in self.veh_pose])\n",
      "/home/kfir/workspace/RadarLocalization/dataset.py:263: VisibleDeprecationWarning: Creating an ndarray from ragged nested sequences (which is a list-or-tuple of lists-or-tuples-or ndarrays with different lengths or shapes) is deprecated. If you meant to do this, you must specify 'dtype=object' when creating the ndarray\n",
      "  veh_speed = np.array([(m['utime'], m['vel']) for m in self.veh_pose])\n",
      "/home/kfir/workspace/RadarLocalization/dataset.py:263: VisibleDeprecationWarning: Creating an ndarray from ragged nested sequences (which is a list-or-tuple of lists-or-tuples-or ndarrays with different lengths or shapes) is deprecated. If you meant to do this, you must specify 'dtype=object' when creating the ndarray\n",
      "  veh_speed = np.array([(m['utime'], m['vel']) for m in self.veh_pose])\n",
      "/home/kfir/workspace/RadarLocalization/dataset.py:263: VisibleDeprecationWarning: Creating an ndarray from ragged nested sequences (which is a list-or-tuple of lists-or-tuples-or ndarrays with different lengths or shapes) is deprecated. If you meant to do this, you must specify 'dtype=object' when creating the ndarray\n",
      "  veh_speed = np.array([(m['utime'], m['vel']) for m in self.veh_pose])\n",
      "/home/kfir/workspace/RadarLocalization/dataset.py:263: VisibleDeprecationWarning: Creating an ndarray from ragged nested sequences (which is a list-or-tuple of lists-or-tuples-or ndarrays with different lengths or shapes) is deprecated. If you meant to do this, you must specify 'dtype=object' when creating the ndarray\n",
      "  veh_speed = np.array([(m['utime'], m['vel']) for m in self.veh_pose])\n",
      "/home/kfir/workspace/RadarLocalization/dataset.py:263: VisibleDeprecationWarning: Creating an ndarray from ragged nested sequences (which is a list-or-tuple of lists-or-tuples-or ndarrays with different lengths or shapes) is deprecated. If you meant to do this, you must specify 'dtype=object' when creating the ndarray\n",
      "  veh_speed = np.array([(m['utime'], m['vel']) for m in self.veh_pose])\n",
      "/home/kfir/workspace/RadarLocalization/dataset.py:263: VisibleDeprecationWarning: Creating an ndarray from ragged nested sequences (which is a list-or-tuple of lists-or-tuples-or ndarrays with different lengths or shapes) is deprecated. If you meant to do this, you must specify 'dtype=object' when creating the ndarray\n",
      "  veh_speed = np.array([(m['utime'], m['vel']) for m in self.veh_pose])\n",
      "/home/kfir/workspace/RadarLocalization/dataset.py:263: VisibleDeprecationWarning: Creating an ndarray from ragged nested sequences (which is a list-or-tuple of lists-or-tuples-or ndarrays with different lengths or shapes) is deprecated. If you meant to do this, you must specify 'dtype=object' when creating the ndarray\n",
      "  veh_speed = np.array([(m['utime'], m['vel']) for m in self.veh_pose])\n",
      "/home/kfir/workspace/RadarLocalization/dataset.py:263: VisibleDeprecationWarning: Creating an ndarray from ragged nested sequences (which is a list-or-tuple of lists-or-tuples-or ndarrays with different lengths or shapes) is deprecated. If you meant to do this, you must specify 'dtype=object' when creating the ndarray\n",
      "  veh_speed = np.array([(m['utime'], m['vel']) for m in self.veh_pose])\n",
      "/home/kfir/workspace/RadarLocalization/dataset.py:263: VisibleDeprecationWarning: Creating an ndarray from ragged nested sequences (which is a list-or-tuple of lists-or-tuples-or ndarrays with different lengths or shapes) is deprecated. If you meant to do this, you must specify 'dtype=object' when creating the ndarray\n",
      "  veh_speed = np.array([(m['utime'], m['vel']) for m in self.veh_pose])\n",
      "/home/kfir/workspace/RadarLocalization/dataset.py:263: VisibleDeprecationWarning: Creating an ndarray from ragged nested sequences (which is a list-or-tuple of lists-or-tuples-or ndarrays with different lengths or shapes) is deprecated. If you meant to do this, you must specify 'dtype=object' when creating the ndarray\n",
      "  veh_speed = np.array([(m['utime'], m['vel']) for m in self.veh_pose])\n",
      "/home/kfir/workspace/RadarLocalization/dataset.py:263: VisibleDeprecationWarning: Creating an ndarray from ragged nested sequences (which is a list-or-tuple of lists-or-tuples-or ndarrays with different lengths or shapes) is deprecated. If you meant to do this, you must specify 'dtype=object' when creating the ndarray\n",
      "  veh_speed = np.array([(m['utime'], m['vel']) for m in self.veh_pose])\n",
      "/home/kfir/workspace/RadarLocalization/dataset.py:263: VisibleDeprecationWarning: Creating an ndarray from ragged nested sequences (which is a list-or-tuple of lists-or-tuples-or ndarrays with different lengths or shapes) is deprecated. If you meant to do this, you must specify 'dtype=object' when creating the ndarray\n",
      "  veh_speed = np.array([(m['utime'], m['vel']) for m in self.veh_pose])\n",
      "/home/kfir/workspace/RadarLocalization/dataset.py:263: VisibleDeprecationWarning: Creating an ndarray from ragged nested sequences (which is a list-or-tuple of lists-or-tuples-or ndarrays with different lengths or shapes) is deprecated. If you meant to do this, you must specify 'dtype=object' when creating the ndarray\n",
      "  veh_speed = np.array([(m['utime'], m['vel']) for m in self.veh_pose])\n",
      "/home/kfir/workspace/RadarLocalization/dataset.py:263: VisibleDeprecationWarning: Creating an ndarray from ragged nested sequences (which is a list-or-tuple of lists-or-tuples-or ndarrays with different lengths or shapes) is deprecated. If you meant to do this, you must specify 'dtype=object' when creating the ndarray\n",
      "  veh_speed = np.array([(m['utime'], m['vel']) for m in self.veh_pose])\n",
      "/home/kfir/workspace/RadarLocalization/dataset.py:263: VisibleDeprecationWarning: Creating an ndarray from ragged nested sequences (which is a list-or-tuple of lists-or-tuples-or ndarrays with different lengths or shapes) is deprecated. If you meant to do this, you must specify 'dtype=object' when creating the ndarray\n",
      "  veh_speed = np.array([(m['utime'], m['vel']) for m in self.veh_pose])\n"
     ]
    },
    {
     "name": "stderr",
     "output_type": "stream",
     "text": [
      "/home/kfir/workspace/RadarLocalization/dataset.py:263: VisibleDeprecationWarning: Creating an ndarray from ragged nested sequences (which is a list-or-tuple of lists-or-tuples-or ndarrays with different lengths or shapes) is deprecated. If you meant to do this, you must specify 'dtype=object' when creating the ndarray\n",
      "  veh_speed = np.array([(m['utime'], m['vel']) for m in self.veh_pose])\n",
      "/home/kfir/workspace/RadarLocalization/dataset.py:263: VisibleDeprecationWarning: Creating an ndarray from ragged nested sequences (which is a list-or-tuple of lists-or-tuples-or ndarrays with different lengths or shapes) is deprecated. If you meant to do this, you must specify 'dtype=object' when creating the ndarray\n",
      "  veh_speed = np.array([(m['utime'], m['vel']) for m in self.veh_pose])\n",
      "/home/kfir/workspace/RadarLocalization/dataset.py:263: VisibleDeprecationWarning: Creating an ndarray from ragged nested sequences (which is a list-or-tuple of lists-or-tuples-or ndarrays with different lengths or shapes) is deprecated. If you meant to do this, you must specify 'dtype=object' when creating the ndarray\n",
      "  veh_speed = np.array([(m['utime'], m['vel']) for m in self.veh_pose])\n",
      "/home/kfir/workspace/RadarLocalization/dataset.py:263: VisibleDeprecationWarning: Creating an ndarray from ragged nested sequences (which is a list-or-tuple of lists-or-tuples-or ndarrays with different lengths or shapes) is deprecated. If you meant to do this, you must specify 'dtype=object' when creating the ndarray\n",
      "  veh_speed = np.array([(m['utime'], m['vel']) for m in self.veh_pose])\n",
      "/home/kfir/workspace/RadarLocalization/dataset.py:263: VisibleDeprecationWarning: Creating an ndarray from ragged nested sequences (which is a list-or-tuple of lists-or-tuples-or ndarrays with different lengths or shapes) is deprecated. If you meant to do this, you must specify 'dtype=object' when creating the ndarray\n",
      "  veh_speed = np.array([(m['utime'], m['vel']) for m in self.veh_pose])\n",
      "/home/kfir/workspace/RadarLocalization/dataset.py:263: VisibleDeprecationWarning: Creating an ndarray from ragged nested sequences (which is a list-or-tuple of lists-or-tuples-or ndarrays with different lengths or shapes) is deprecated. If you meant to do this, you must specify 'dtype=object' when creating the ndarray\n",
      "  veh_speed = np.array([(m['utime'], m['vel']) for m in self.veh_pose])\n",
      "/home/kfir/workspace/RadarLocalization/dataset.py:263: VisibleDeprecationWarning: Creating an ndarray from ragged nested sequences (which is a list-or-tuple of lists-or-tuples-or ndarrays with different lengths or shapes) is deprecated. If you meant to do this, you must specify 'dtype=object' when creating the ndarray\n",
      "  veh_speed = np.array([(m['utime'], m['vel']) for m in self.veh_pose])\n",
      "/home/kfir/workspace/RadarLocalization/dataset.py:263: VisibleDeprecationWarning: Creating an ndarray from ragged nested sequences (which is a list-or-tuple of lists-or-tuples-or ndarrays with different lengths or shapes) is deprecated. If you meant to do this, you must specify 'dtype=object' when creating the ndarray\n",
      "  veh_speed = np.array([(m['utime'], m['vel']) for m in self.veh_pose])\n",
      "/home/kfir/workspace/RadarLocalization/dataset.py:263: VisibleDeprecationWarning: Creating an ndarray from ragged nested sequences (which is a list-or-tuple of lists-or-tuples-or ndarrays with different lengths or shapes) is deprecated. If you meant to do this, you must specify 'dtype=object' when creating the ndarray\n",
      "  veh_speed = np.array([(m['utime'], m['vel']) for m in self.veh_pose])\n",
      "/home/kfir/workspace/RadarLocalization/dataset.py:263: VisibleDeprecationWarning: Creating an ndarray from ragged nested sequences (which is a list-or-tuple of lists-or-tuples-or ndarrays with different lengths or shapes) is deprecated. If you meant to do this, you must specify 'dtype=object' when creating the ndarray\n",
      "  veh_speed = np.array([(m['utime'], m['vel']) for m in self.veh_pose])\n",
      "/home/kfir/workspace/RadarLocalization/dataset.py:263: VisibleDeprecationWarning: Creating an ndarray from ragged nested sequences (which is a list-or-tuple of lists-or-tuples-or ndarrays with different lengths or shapes) is deprecated. If you meant to do this, you must specify 'dtype=object' when creating the ndarray\n",
      "  veh_speed = np.array([(m['utime'], m['vel']) for m in self.veh_pose])\n",
      "/home/kfir/workspace/RadarLocalization/dataset.py:263: VisibleDeprecationWarning: Creating an ndarray from ragged nested sequences (which is a list-or-tuple of lists-or-tuples-or ndarrays with different lengths or shapes) is deprecated. If you meant to do this, you must specify 'dtype=object' when creating the ndarray\n",
      "  veh_speed = np.array([(m['utime'], m['vel']) for m in self.veh_pose])\n",
      "/home/kfir/workspace/RadarLocalization/dataset.py:263: VisibleDeprecationWarning: Creating an ndarray from ragged nested sequences (which is a list-or-tuple of lists-or-tuples-or ndarrays with different lengths or shapes) is deprecated. If you meant to do this, you must specify 'dtype=object' when creating the ndarray\n",
      "  veh_speed = np.array([(m['utime'], m['vel']) for m in self.veh_pose])\n",
      "/home/kfir/workspace/RadarLocalization/dataset.py:263: VisibleDeprecationWarning: Creating an ndarray from ragged nested sequences (which is a list-or-tuple of lists-or-tuples-or ndarrays with different lengths or shapes) is deprecated. If you meant to do this, you must specify 'dtype=object' when creating the ndarray\n",
      "  veh_speed = np.array([(m['utime'], m['vel']) for m in self.veh_pose])\n",
      "/home/kfir/workspace/RadarLocalization/dataset.py:263: VisibleDeprecationWarning: Creating an ndarray from ragged nested sequences (which is a list-or-tuple of lists-or-tuples-or ndarrays with different lengths or shapes) is deprecated. If you meant to do this, you must specify 'dtype=object' when creating the ndarray\n",
      "  veh_speed = np.array([(m['utime'], m['vel']) for m in self.veh_pose])\n",
      "/home/kfir/workspace/RadarLocalization/dataset.py:263: VisibleDeprecationWarning: Creating an ndarray from ragged nested sequences (which is a list-or-tuple of lists-or-tuples-or ndarrays with different lengths or shapes) is deprecated. If you meant to do this, you must specify 'dtype=object' when creating the ndarray\n",
      "  veh_speed = np.array([(m['utime'], m['vel']) for m in self.veh_pose])\n",
      "/home/kfir/workspace/RadarLocalization/dataset.py:263: VisibleDeprecationWarning: Creating an ndarray from ragged nested sequences (which is a list-or-tuple of lists-or-tuples-or ndarrays with different lengths or shapes) is deprecated. If you meant to do this, you must specify 'dtype=object' when creating the ndarray\n",
      "  veh_speed = np.array([(m['utime'], m['vel']) for m in self.veh_pose])\n",
      "/home/kfir/workspace/RadarLocalization/dataset.py:263: VisibleDeprecationWarning: Creating an ndarray from ragged nested sequences (which is a list-or-tuple of lists-or-tuples-or ndarrays with different lengths or shapes) is deprecated. If you meant to do this, you must specify 'dtype=object' when creating the ndarray\n",
      "  veh_speed = np.array([(m['utime'], m['vel']) for m in self.veh_pose])\n",
      "/home/kfir/workspace/RadarLocalization/dataset.py:263: VisibleDeprecationWarning: Creating an ndarray from ragged nested sequences (which is a list-or-tuple of lists-or-tuples-or ndarrays with different lengths or shapes) is deprecated. If you meant to do this, you must specify 'dtype=object' when creating the ndarray\n",
      "  veh_speed = np.array([(m['utime'], m['vel']) for m in self.veh_pose])\n",
      "/home/kfir/workspace/RadarLocalization/dataset.py:263: VisibleDeprecationWarning: Creating an ndarray from ragged nested sequences (which is a list-or-tuple of lists-or-tuples-or ndarrays with different lengths or shapes) is deprecated. If you meant to do this, you must specify 'dtype=object' when creating the ndarray\n",
      "  veh_speed = np.array([(m['utime'], m['vel']) for m in self.veh_pose])\n",
      "/home/kfir/workspace/RadarLocalization/dataset.py:263: VisibleDeprecationWarning: Creating an ndarray from ragged nested sequences (which is a list-or-tuple of lists-or-tuples-or ndarrays with different lengths or shapes) is deprecated. If you meant to do this, you must specify 'dtype=object' when creating the ndarray\n",
      "  veh_speed = np.array([(m['utime'], m['vel']) for m in self.veh_pose])\n"
     ]
    },
    {
     "name": "stderr",
     "output_type": "stream",
     "text": [
      "/home/kfir/workspace/RadarLocalization/dataset.py:263: VisibleDeprecationWarning: Creating an ndarray from ragged nested sequences (which is a list-or-tuple of lists-or-tuples-or ndarrays with different lengths or shapes) is deprecated. If you meant to do this, you must specify 'dtype=object' when creating the ndarray\n",
      "  veh_speed = np.array([(m['utime'], m['vel']) for m in self.veh_pose])\n",
      "/home/kfir/workspace/RadarLocalization/dataset.py:263: VisibleDeprecationWarning: Creating an ndarray from ragged nested sequences (which is a list-or-tuple of lists-or-tuples-or ndarrays with different lengths or shapes) is deprecated. If you meant to do this, you must specify 'dtype=object' when creating the ndarray\n",
      "  veh_speed = np.array([(m['utime'], m['vel']) for m in self.veh_pose])\n",
      "/home/kfir/workspace/RadarLocalization/dataset.py:263: VisibleDeprecationWarning: Creating an ndarray from ragged nested sequences (which is a list-or-tuple of lists-or-tuples-or ndarrays with different lengths or shapes) is deprecated. If you meant to do this, you must specify 'dtype=object' when creating the ndarray\n",
      "  veh_speed = np.array([(m['utime'], m['vel']) for m in self.veh_pose])\n",
      "/home/kfir/workspace/RadarLocalization/dataset.py:263: VisibleDeprecationWarning: Creating an ndarray from ragged nested sequences (which is a list-or-tuple of lists-or-tuples-or ndarrays with different lengths or shapes) is deprecated. If you meant to do this, you must specify 'dtype=object' when creating the ndarray\n",
      "  veh_speed = np.array([(m['utime'], m['vel']) for m in self.veh_pose])\n",
      "/home/kfir/workspace/RadarLocalization/dataset.py:263: VisibleDeprecationWarning: Creating an ndarray from ragged nested sequences (which is a list-or-tuple of lists-or-tuples-or ndarrays with different lengths or shapes) is deprecated. If you meant to do this, you must specify 'dtype=object' when creating the ndarray\n",
      "  veh_speed = np.array([(m['utime'], m['vel']) for m in self.veh_pose])\n",
      "/home/kfir/workspace/RadarLocalization/dataset.py:263: VisibleDeprecationWarning: Creating an ndarray from ragged nested sequences (which is a list-or-tuple of lists-or-tuples-or ndarrays with different lengths or shapes) is deprecated. If you meant to do this, you must specify 'dtype=object' when creating the ndarray\n",
      "  veh_speed = np.array([(m['utime'], m['vel']) for m in self.veh_pose])\n",
      "/home/kfir/workspace/RadarLocalization/dataset.py:263: VisibleDeprecationWarning: Creating an ndarray from ragged nested sequences (which is a list-or-tuple of lists-or-tuples-or ndarrays with different lengths or shapes) is deprecated. If you meant to do this, you must specify 'dtype=object' when creating the ndarray\n",
      "  veh_speed = np.array([(m['utime'], m['vel']) for m in self.veh_pose])\n",
      "/home/kfir/workspace/RadarLocalization/dataset.py:263: VisibleDeprecationWarning: Creating an ndarray from ragged nested sequences (which is a list-or-tuple of lists-or-tuples-or ndarrays with different lengths or shapes) is deprecated. If you meant to do this, you must specify 'dtype=object' when creating the ndarray\n",
      "  veh_speed = np.array([(m['utime'], m['vel']) for m in self.veh_pose])\n",
      "/home/kfir/workspace/RadarLocalization/dataset.py:263: VisibleDeprecationWarning: Creating an ndarray from ragged nested sequences (which is a list-or-tuple of lists-or-tuples-or ndarrays with different lengths or shapes) is deprecated. If you meant to do this, you must specify 'dtype=object' when creating the ndarray\n",
      "  veh_speed = np.array([(m['utime'], m['vel']) for m in self.veh_pose])\n",
      "/home/kfir/workspace/RadarLocalization/dataset.py:263: VisibleDeprecationWarning: Creating an ndarray from ragged nested sequences (which is a list-or-tuple of lists-or-tuples-or ndarrays with different lengths or shapes) is deprecated. If you meant to do this, you must specify 'dtype=object' when creating the ndarray\n",
      "  veh_speed = np.array([(m['utime'], m['vel']) for m in self.veh_pose])\n",
      "/home/kfir/workspace/RadarLocalization/dataset.py:263: VisibleDeprecationWarning: Creating an ndarray from ragged nested sequences (which is a list-or-tuple of lists-or-tuples-or ndarrays with different lengths or shapes) is deprecated. If you meant to do this, you must specify 'dtype=object' when creating the ndarray\n",
      "  veh_speed = np.array([(m['utime'], m['vel']) for m in self.veh_pose])\n",
      "/home/kfir/workspace/RadarLocalization/dataset.py:263: VisibleDeprecationWarning: Creating an ndarray from ragged nested sequences (which is a list-or-tuple of lists-or-tuples-or ndarrays with different lengths or shapes) is deprecated. If you meant to do this, you must specify 'dtype=object' when creating the ndarray\n",
      "  veh_speed = np.array([(m['utime'], m['vel']) for m in self.veh_pose])\n",
      "/home/kfir/workspace/RadarLocalization/dataset.py:263: VisibleDeprecationWarning: Creating an ndarray from ragged nested sequences (which is a list-or-tuple of lists-or-tuples-or ndarrays with different lengths or shapes) is deprecated. If you meant to do this, you must specify 'dtype=object' when creating the ndarray\n",
      "  veh_speed = np.array([(m['utime'], m['vel']) for m in self.veh_pose])\n",
      "/home/kfir/workspace/RadarLocalization/dataset.py:263: VisibleDeprecationWarning: Creating an ndarray from ragged nested sequences (which is a list-or-tuple of lists-or-tuples-or ndarrays with different lengths or shapes) is deprecated. If you meant to do this, you must specify 'dtype=object' when creating the ndarray\n",
      "  veh_speed = np.array([(m['utime'], m['vel']) for m in self.veh_pose])\n",
      "/home/kfir/workspace/RadarLocalization/dataset.py:263: VisibleDeprecationWarning: Creating an ndarray from ragged nested sequences (which is a list-or-tuple of lists-or-tuples-or ndarrays with different lengths or shapes) is deprecated. If you meant to do this, you must specify 'dtype=object' when creating the ndarray\n",
      "  veh_speed = np.array([(m['utime'], m['vel']) for m in self.veh_pose])\n",
      "/home/kfir/workspace/RadarLocalization/dataset.py:263: VisibleDeprecationWarning: Creating an ndarray from ragged nested sequences (which is a list-or-tuple of lists-or-tuples-or ndarrays with different lengths or shapes) is deprecated. If you meant to do this, you must specify 'dtype=object' when creating the ndarray\n",
      "  veh_speed = np.array([(m['utime'], m['vel']) for m in self.veh_pose])\n",
      "/home/kfir/workspace/RadarLocalization/dataset.py:263: VisibleDeprecationWarning: Creating an ndarray from ragged nested sequences (which is a list-or-tuple of lists-or-tuples-or ndarrays with different lengths or shapes) is deprecated. If you meant to do this, you must specify 'dtype=object' when creating the ndarray\n",
      "  veh_speed = np.array([(m['utime'], m['vel']) for m in self.veh_pose])\n",
      "/home/kfir/workspace/RadarLocalization/dataset.py:263: VisibleDeprecationWarning: Creating an ndarray from ragged nested sequences (which is a list-or-tuple of lists-or-tuples-or ndarrays with different lengths or shapes) is deprecated. If you meant to do this, you must specify 'dtype=object' when creating the ndarray\n",
      "  veh_speed = np.array([(m['utime'], m['vel']) for m in self.veh_pose])\n",
      "/home/kfir/workspace/RadarLocalization/dataset.py:263: VisibleDeprecationWarning: Creating an ndarray from ragged nested sequences (which is a list-or-tuple of lists-or-tuples-or ndarrays with different lengths or shapes) is deprecated. If you meant to do this, you must specify 'dtype=object' when creating the ndarray\n",
      "  veh_speed = np.array([(m['utime'], m['vel']) for m in self.veh_pose])\n",
      "/home/kfir/workspace/RadarLocalization/dataset.py:263: VisibleDeprecationWarning: Creating an ndarray from ragged nested sequences (which is a list-or-tuple of lists-or-tuples-or ndarrays with different lengths or shapes) is deprecated. If you meant to do this, you must specify 'dtype=object' when creating the ndarray\n",
      "  veh_speed = np.array([(m['utime'], m['vel']) for m in self.veh_pose])\n",
      "/home/kfir/workspace/RadarLocalization/dataset.py:263: VisibleDeprecationWarning: Creating an ndarray from ragged nested sequences (which is a list-or-tuple of lists-or-tuples-or ndarrays with different lengths or shapes) is deprecated. If you meant to do this, you must specify 'dtype=object' when creating the ndarray\n",
      "  veh_speed = np.array([(m['utime'], m['vel']) for m in self.veh_pose])\n"
     ]
    },
    {
     "name": "stderr",
     "output_type": "stream",
     "text": [
      "/home/kfir/workspace/RadarLocalization/dataset.py:263: VisibleDeprecationWarning: Creating an ndarray from ragged nested sequences (which is a list-or-tuple of lists-or-tuples-or ndarrays with different lengths or shapes) is deprecated. If you meant to do this, you must specify 'dtype=object' when creating the ndarray\n",
      "  veh_speed = np.array([(m['utime'], m['vel']) for m in self.veh_pose])\n",
      "/home/kfir/workspace/RadarLocalization/dataset.py:263: VisibleDeprecationWarning: Creating an ndarray from ragged nested sequences (which is a list-or-tuple of lists-or-tuples-or ndarrays with different lengths or shapes) is deprecated. If you meant to do this, you must specify 'dtype=object' when creating the ndarray\n",
      "  veh_speed = np.array([(m['utime'], m['vel']) for m in self.veh_pose])\n",
      "/home/kfir/workspace/RadarLocalization/dataset.py:263: VisibleDeprecationWarning: Creating an ndarray from ragged nested sequences (which is a list-or-tuple of lists-or-tuples-or ndarrays with different lengths or shapes) is deprecated. If you meant to do this, you must specify 'dtype=object' when creating the ndarray\n",
      "  veh_speed = np.array([(m['utime'], m['vel']) for m in self.veh_pose])\n",
      "/home/kfir/workspace/RadarLocalization/dataset.py:263: VisibleDeprecationWarning: Creating an ndarray from ragged nested sequences (which is a list-or-tuple of lists-or-tuples-or ndarrays with different lengths or shapes) is deprecated. If you meant to do this, you must specify 'dtype=object' when creating the ndarray\n",
      "  veh_speed = np.array([(m['utime'], m['vel']) for m in self.veh_pose])\n",
      "/home/kfir/workspace/RadarLocalization/dataset.py:263: VisibleDeprecationWarning: Creating an ndarray from ragged nested sequences (which is a list-or-tuple of lists-or-tuples-or ndarrays with different lengths or shapes) is deprecated. If you meant to do this, you must specify 'dtype=object' when creating the ndarray\n",
      "  veh_speed = np.array([(m['utime'], m['vel']) for m in self.veh_pose])\n",
      "/home/kfir/workspace/RadarLocalization/dataset.py:263: VisibleDeprecationWarning: Creating an ndarray from ragged nested sequences (which is a list-or-tuple of lists-or-tuples-or ndarrays with different lengths or shapes) is deprecated. If you meant to do this, you must specify 'dtype=object' when creating the ndarray\n",
      "  veh_speed = np.array([(m['utime'], m['vel']) for m in self.veh_pose])\n",
      "/home/kfir/workspace/RadarLocalization/dataset.py:263: VisibleDeprecationWarning: Creating an ndarray from ragged nested sequences (which is a list-or-tuple of lists-or-tuples-or ndarrays with different lengths or shapes) is deprecated. If you meant to do this, you must specify 'dtype=object' when creating the ndarray\n",
      "  veh_speed = np.array([(m['utime'], m['vel']) for m in self.veh_pose])\n",
      "/home/kfir/workspace/RadarLocalization/dataset.py:263: VisibleDeprecationWarning: Creating an ndarray from ragged nested sequences (which is a list-or-tuple of lists-or-tuples-or ndarrays with different lengths or shapes) is deprecated. If you meant to do this, you must specify 'dtype=object' when creating the ndarray\n",
      "  veh_speed = np.array([(m['utime'], m['vel']) for m in self.veh_pose])\n",
      "/home/kfir/workspace/RadarLocalization/dataset.py:263: VisibleDeprecationWarning: Creating an ndarray from ragged nested sequences (which is a list-or-tuple of lists-or-tuples-or ndarrays with different lengths or shapes) is deprecated. If you meant to do this, you must specify 'dtype=object' when creating the ndarray\n",
      "  veh_speed = np.array([(m['utime'], m['vel']) for m in self.veh_pose])\n",
      "/home/kfir/workspace/RadarLocalization/dataset.py:263: VisibleDeprecationWarning: Creating an ndarray from ragged nested sequences (which is a list-or-tuple of lists-or-tuples-or ndarrays with different lengths or shapes) is deprecated. If you meant to do this, you must specify 'dtype=object' when creating the ndarray\n",
      "  veh_speed = np.array([(m['utime'], m['vel']) for m in self.veh_pose])\n",
      "/home/kfir/workspace/RadarLocalization/dataset.py:263: VisibleDeprecationWarning: Creating an ndarray from ragged nested sequences (which is a list-or-tuple of lists-or-tuples-or ndarrays with different lengths or shapes) is deprecated. If you meant to do this, you must specify 'dtype=object' when creating the ndarray\n",
      "  veh_speed = np.array([(m['utime'], m['vel']) for m in self.veh_pose])\n",
      "/home/kfir/workspace/RadarLocalization/dataset.py:263: VisibleDeprecationWarning: Creating an ndarray from ragged nested sequences (which is a list-or-tuple of lists-or-tuples-or ndarrays with different lengths or shapes) is deprecated. If you meant to do this, you must specify 'dtype=object' when creating the ndarray\n",
      "  veh_speed = np.array([(m['utime'], m['vel']) for m in self.veh_pose])\n",
      "/home/kfir/workspace/RadarLocalization/dataset.py:263: VisibleDeprecationWarning: Creating an ndarray from ragged nested sequences (which is a list-or-tuple of lists-or-tuples-or ndarrays with different lengths or shapes) is deprecated. If you meant to do this, you must specify 'dtype=object' when creating the ndarray\n",
      "  veh_speed = np.array([(m['utime'], m['vel']) for m in self.veh_pose])\n",
      "/home/kfir/workspace/RadarLocalization/dataset.py:263: VisibleDeprecationWarning: Creating an ndarray from ragged nested sequences (which is a list-or-tuple of lists-or-tuples-or ndarrays with different lengths or shapes) is deprecated. If you meant to do this, you must specify 'dtype=object' when creating the ndarray\n",
      "  veh_speed = np.array([(m['utime'], m['vel']) for m in self.veh_pose])\n",
      "/home/kfir/workspace/RadarLocalization/dataset.py:263: VisibleDeprecationWarning: Creating an ndarray from ragged nested sequences (which is a list-or-tuple of lists-or-tuples-or ndarrays with different lengths or shapes) is deprecated. If you meant to do this, you must specify 'dtype=object' when creating the ndarray\n",
      "  veh_speed = np.array([(m['utime'], m['vel']) for m in self.veh_pose])\n",
      "/home/kfir/workspace/RadarLocalization/dataset.py:263: VisibleDeprecationWarning: Creating an ndarray from ragged nested sequences (which is a list-or-tuple of lists-or-tuples-or ndarrays with different lengths or shapes) is deprecated. If you meant to do this, you must specify 'dtype=object' when creating the ndarray\n",
      "  veh_speed = np.array([(m['utime'], m['vel']) for m in self.veh_pose])\n",
      "/home/kfir/workspace/RadarLocalization/dataset.py:263: VisibleDeprecationWarning: Creating an ndarray from ragged nested sequences (which is a list-or-tuple of lists-or-tuples-or ndarrays with different lengths or shapes) is deprecated. If you meant to do this, you must specify 'dtype=object' when creating the ndarray\n",
      "  veh_speed = np.array([(m['utime'], m['vel']) for m in self.veh_pose])\n",
      "/home/kfir/workspace/RadarLocalization/dataset.py:263: VisibleDeprecationWarning: Creating an ndarray from ragged nested sequences (which is a list-or-tuple of lists-or-tuples-or ndarrays with different lengths or shapes) is deprecated. If you meant to do this, you must specify 'dtype=object' when creating the ndarray\n",
      "  veh_speed = np.array([(m['utime'], m['vel']) for m in self.veh_pose])\n",
      "/home/kfir/workspace/RadarLocalization/dataset.py:263: VisibleDeprecationWarning: Creating an ndarray from ragged nested sequences (which is a list-or-tuple of lists-or-tuples-or ndarrays with different lengths or shapes) is deprecated. If you meant to do this, you must specify 'dtype=object' when creating the ndarray\n",
      "  veh_speed = np.array([(m['utime'], m['vel']) for m in self.veh_pose])\n",
      "/home/kfir/workspace/RadarLocalization/dataset.py:263: VisibleDeprecationWarning: Creating an ndarray from ragged nested sequences (which is a list-or-tuple of lists-or-tuples-or ndarrays with different lengths or shapes) is deprecated. If you meant to do this, you must specify 'dtype=object' when creating the ndarray\n",
      "  veh_speed = np.array([(m['utime'], m['vel']) for m in self.veh_pose])\n",
      "/home/kfir/workspace/RadarLocalization/dataset.py:263: VisibleDeprecationWarning: Creating an ndarray from ragged nested sequences (which is a list-or-tuple of lists-or-tuples-or ndarrays with different lengths or shapes) is deprecated. If you meant to do this, you must specify 'dtype=object' when creating the ndarray\n",
      "  veh_speed = np.array([(m['utime'], m['vel']) for m in self.veh_pose])\n"
     ]
    },
    {
     "name": "stderr",
     "output_type": "stream",
     "text": [
      "/home/kfir/workspace/RadarLocalization/dataset.py:263: VisibleDeprecationWarning: Creating an ndarray from ragged nested sequences (which is a list-or-tuple of lists-or-tuples-or ndarrays with different lengths or shapes) is deprecated. If you meant to do this, you must specify 'dtype=object' when creating the ndarray\n",
      "  veh_speed = np.array([(m['utime'], m['vel']) for m in self.veh_pose])\n",
      "/home/kfir/workspace/RadarLocalization/dataset.py:263: VisibleDeprecationWarning: Creating an ndarray from ragged nested sequences (which is a list-or-tuple of lists-or-tuples-or ndarrays with different lengths or shapes) is deprecated. If you meant to do this, you must specify 'dtype=object' when creating the ndarray\n",
      "  veh_speed = np.array([(m['utime'], m['vel']) for m in self.veh_pose])\n",
      "/home/kfir/workspace/RadarLocalization/dataset.py:263: VisibleDeprecationWarning: Creating an ndarray from ragged nested sequences (which is a list-or-tuple of lists-or-tuples-or ndarrays with different lengths or shapes) is deprecated. If you meant to do this, you must specify 'dtype=object' when creating the ndarray\n",
      "  veh_speed = np.array([(m['utime'], m['vel']) for m in self.veh_pose])\n",
      "/home/kfir/workspace/RadarLocalization/dataset.py:263: VisibleDeprecationWarning: Creating an ndarray from ragged nested sequences (which is a list-or-tuple of lists-or-tuples-or ndarrays with different lengths or shapes) is deprecated. If you meant to do this, you must specify 'dtype=object' when creating the ndarray\n",
      "  veh_speed = np.array([(m['utime'], m['vel']) for m in self.veh_pose])\n",
      "/home/kfir/workspace/RadarLocalization/dataset.py:263: VisibleDeprecationWarning: Creating an ndarray from ragged nested sequences (which is a list-or-tuple of lists-or-tuples-or ndarrays with different lengths or shapes) is deprecated. If you meant to do this, you must specify 'dtype=object' when creating the ndarray\n",
      "  veh_speed = np.array([(m['utime'], m['vel']) for m in self.veh_pose])\n",
      "/home/kfir/workspace/RadarLocalization/dataset.py:263: VisibleDeprecationWarning: Creating an ndarray from ragged nested sequences (which is a list-or-tuple of lists-or-tuples-or ndarrays with different lengths or shapes) is deprecated. If you meant to do this, you must specify 'dtype=object' when creating the ndarray\n",
      "  veh_speed = np.array([(m['utime'], m['vel']) for m in self.veh_pose])\n",
      "/home/kfir/workspace/RadarLocalization/dataset.py:263: VisibleDeprecationWarning: Creating an ndarray from ragged nested sequences (which is a list-or-tuple of lists-or-tuples-or ndarrays with different lengths or shapes) is deprecated. If you meant to do this, you must specify 'dtype=object' when creating the ndarray\n",
      "  veh_speed = np.array([(m['utime'], m['vel']) for m in self.veh_pose])\n",
      "/home/kfir/workspace/RadarLocalization/dataset.py:263: VisibleDeprecationWarning: Creating an ndarray from ragged nested sequences (which is a list-or-tuple of lists-or-tuples-or ndarrays with different lengths or shapes) is deprecated. If you meant to do this, you must specify 'dtype=object' when creating the ndarray\n",
      "  veh_speed = np.array([(m['utime'], m['vel']) for m in self.veh_pose])\n",
      "/home/kfir/workspace/RadarLocalization/dataset.py:263: VisibleDeprecationWarning: Creating an ndarray from ragged nested sequences (which is a list-or-tuple of lists-or-tuples-or ndarrays with different lengths or shapes) is deprecated. If you meant to do this, you must specify 'dtype=object' when creating the ndarray\n",
      "  veh_speed = np.array([(m['utime'], m['vel']) for m in self.veh_pose])\n",
      "/home/kfir/workspace/RadarLocalization/dataset.py:263: VisibleDeprecationWarning: Creating an ndarray from ragged nested sequences (which is a list-or-tuple of lists-or-tuples-or ndarrays with different lengths or shapes) is deprecated. If you meant to do this, you must specify 'dtype=object' when creating the ndarray\n",
      "  veh_speed = np.array([(m['utime'], m['vel']) for m in self.veh_pose])\n",
      "/home/kfir/workspace/RadarLocalization/dataset.py:263: VisibleDeprecationWarning: Creating an ndarray from ragged nested sequences (which is a list-or-tuple of lists-or-tuples-or ndarrays with different lengths or shapes) is deprecated. If you meant to do this, you must specify 'dtype=object' when creating the ndarray\n",
      "  veh_speed = np.array([(m['utime'], m['vel']) for m in self.veh_pose])\n",
      "/home/kfir/workspace/RadarLocalization/dataset.py:263: VisibleDeprecationWarning: Creating an ndarray from ragged nested sequences (which is a list-or-tuple of lists-or-tuples-or ndarrays with different lengths or shapes) is deprecated. If you meant to do this, you must specify 'dtype=object' when creating the ndarray\n",
      "  veh_speed = np.array([(m['utime'], m['vel']) for m in self.veh_pose])\n",
      "/home/kfir/workspace/RadarLocalization/dataset.py:263: VisibleDeprecationWarning: Creating an ndarray from ragged nested sequences (which is a list-or-tuple of lists-or-tuples-or ndarrays with different lengths or shapes) is deprecated. If you meant to do this, you must specify 'dtype=object' when creating the ndarray\n",
      "  veh_speed = np.array([(m['utime'], m['vel']) for m in self.veh_pose])\n",
      "/home/kfir/workspace/RadarLocalization/dataset.py:263: VisibleDeprecationWarning: Creating an ndarray from ragged nested sequences (which is a list-or-tuple of lists-or-tuples-or ndarrays with different lengths or shapes) is deprecated. If you meant to do this, you must specify 'dtype=object' when creating the ndarray\n",
      "  veh_speed = np.array([(m['utime'], m['vel']) for m in self.veh_pose])\n",
      "/home/kfir/workspace/RadarLocalization/dataset.py:263: VisibleDeprecationWarning: Creating an ndarray from ragged nested sequences (which is a list-or-tuple of lists-or-tuples-or ndarrays with different lengths or shapes) is deprecated. If you meant to do this, you must specify 'dtype=object' when creating the ndarray\n",
      "  veh_speed = np.array([(m['utime'], m['vel']) for m in self.veh_pose])\n",
      "/home/kfir/workspace/RadarLocalization/dataset.py:263: VisibleDeprecationWarning: Creating an ndarray from ragged nested sequences (which is a list-or-tuple of lists-or-tuples-or ndarrays with different lengths or shapes) is deprecated. If you meant to do this, you must specify 'dtype=object' when creating the ndarray\n",
      "  veh_speed = np.array([(m['utime'], m['vel']) for m in self.veh_pose])\n",
      "/home/kfir/workspace/RadarLocalization/dataset.py:263: VisibleDeprecationWarning: Creating an ndarray from ragged nested sequences (which is a list-or-tuple of lists-or-tuples-or ndarrays with different lengths or shapes) is deprecated. If you meant to do this, you must specify 'dtype=object' when creating the ndarray\n",
      "  veh_speed = np.array([(m['utime'], m['vel']) for m in self.veh_pose])\n",
      "/home/kfir/workspace/RadarLocalization/dataset.py:263: VisibleDeprecationWarning: Creating an ndarray from ragged nested sequences (which is a list-or-tuple of lists-or-tuples-or ndarrays with different lengths or shapes) is deprecated. If you meant to do this, you must specify 'dtype=object' when creating the ndarray\n",
      "  veh_speed = np.array([(m['utime'], m['vel']) for m in self.veh_pose])\n",
      "/home/kfir/workspace/RadarLocalization/dataset.py:263: VisibleDeprecationWarning: Creating an ndarray from ragged nested sequences (which is a list-or-tuple of lists-or-tuples-or ndarrays with different lengths or shapes) is deprecated. If you meant to do this, you must specify 'dtype=object' when creating the ndarray\n",
      "  veh_speed = np.array([(m['utime'], m['vel']) for m in self.veh_pose])\n",
      "/home/kfir/workspace/RadarLocalization/dataset.py:263: VisibleDeprecationWarning: Creating an ndarray from ragged nested sequences (which is a list-or-tuple of lists-or-tuples-or ndarrays with different lengths or shapes) is deprecated. If you meant to do this, you must specify 'dtype=object' when creating the ndarray\n",
      "  veh_speed = np.array([(m['utime'], m['vel']) for m in self.veh_pose])\n",
      "/home/kfir/workspace/RadarLocalization/dataset.py:263: VisibleDeprecationWarning: Creating an ndarray from ragged nested sequences (which is a list-or-tuple of lists-or-tuples-or ndarrays with different lengths or shapes) is deprecated. If you meant to do this, you must specify 'dtype=object' when creating the ndarray\n",
      "  veh_speed = np.array([(m['utime'], m['vel']) for m in self.veh_pose])\n"
     ]
    },
    {
     "name": "stderr",
     "output_type": "stream",
     "text": [
      "/home/kfir/workspace/RadarLocalization/dataset.py:263: VisibleDeprecationWarning: Creating an ndarray from ragged nested sequences (which is a list-or-tuple of lists-or-tuples-or ndarrays with different lengths or shapes) is deprecated. If you meant to do this, you must specify 'dtype=object' when creating the ndarray\n",
      "  veh_speed = np.array([(m['utime'], m['vel']) for m in self.veh_pose])\n",
      "/home/kfir/workspace/RadarLocalization/dataset.py:263: VisibleDeprecationWarning: Creating an ndarray from ragged nested sequences (which is a list-or-tuple of lists-or-tuples-or ndarrays with different lengths or shapes) is deprecated. If you meant to do this, you must specify 'dtype=object' when creating the ndarray\n",
      "  veh_speed = np.array([(m['utime'], m['vel']) for m in self.veh_pose])\n",
      "/home/kfir/workspace/RadarLocalization/dataset.py:263: VisibleDeprecationWarning: Creating an ndarray from ragged nested sequences (which is a list-or-tuple of lists-or-tuples-or ndarrays with different lengths or shapes) is deprecated. If you meant to do this, you must specify 'dtype=object' when creating the ndarray\n",
      "  veh_speed = np.array([(m['utime'], m['vel']) for m in self.veh_pose])\n",
      "/home/kfir/workspace/RadarLocalization/dataset.py:263: VisibleDeprecationWarning: Creating an ndarray from ragged nested sequences (which is a list-or-tuple of lists-or-tuples-or ndarrays with different lengths or shapes) is deprecated. If you meant to do this, you must specify 'dtype=object' when creating the ndarray\n",
      "  veh_speed = np.array([(m['utime'], m['vel']) for m in self.veh_pose])\n",
      "/home/kfir/workspace/RadarLocalization/dataset.py:263: VisibleDeprecationWarning: Creating an ndarray from ragged nested sequences (which is a list-or-tuple of lists-or-tuples-or ndarrays with different lengths or shapes) is deprecated. If you meant to do this, you must specify 'dtype=object' when creating the ndarray\n",
      "  veh_speed = np.array([(m['utime'], m['vel']) for m in self.veh_pose])\n",
      "/home/kfir/workspace/RadarLocalization/dataset.py:263: VisibleDeprecationWarning: Creating an ndarray from ragged nested sequences (which is a list-or-tuple of lists-or-tuples-or ndarrays with different lengths or shapes) is deprecated. If you meant to do this, you must specify 'dtype=object' when creating the ndarray\n",
      "  veh_speed = np.array([(m['utime'], m['vel']) for m in self.veh_pose])\n",
      "/home/kfir/workspace/RadarLocalization/dataset.py:263: VisibleDeprecationWarning: Creating an ndarray from ragged nested sequences (which is a list-or-tuple of lists-or-tuples-or ndarrays with different lengths or shapes) is deprecated. If you meant to do this, you must specify 'dtype=object' when creating the ndarray\n",
      "  veh_speed = np.array([(m['utime'], m['vel']) for m in self.veh_pose])\n",
      "/home/kfir/workspace/RadarLocalization/dataset.py:263: VisibleDeprecationWarning: Creating an ndarray from ragged nested sequences (which is a list-or-tuple of lists-or-tuples-or ndarrays with different lengths or shapes) is deprecated. If you meant to do this, you must specify 'dtype=object' when creating the ndarray\n",
      "  veh_speed = np.array([(m['utime'], m['vel']) for m in self.veh_pose])\n",
      "/home/kfir/workspace/RadarLocalization/dataset.py:263: VisibleDeprecationWarning: Creating an ndarray from ragged nested sequences (which is a list-or-tuple of lists-or-tuples-or ndarrays with different lengths or shapes) is deprecated. If you meant to do this, you must specify 'dtype=object' when creating the ndarray\n",
      "  veh_speed = np.array([(m['utime'], m['vel']) for m in self.veh_pose])\n",
      "/home/kfir/workspace/RadarLocalization/dataset.py:263: VisibleDeprecationWarning: Creating an ndarray from ragged nested sequences (which is a list-or-tuple of lists-or-tuples-or ndarrays with different lengths or shapes) is deprecated. If you meant to do this, you must specify 'dtype=object' when creating the ndarray\n",
      "  veh_speed = np.array([(m['utime'], m['vel']) for m in self.veh_pose])\n",
      "/home/kfir/workspace/RadarLocalization/dataset.py:263: VisibleDeprecationWarning: Creating an ndarray from ragged nested sequences (which is a list-or-tuple of lists-or-tuples-or ndarrays with different lengths or shapes) is deprecated. If you meant to do this, you must specify 'dtype=object' when creating the ndarray\n",
      "  veh_speed = np.array([(m['utime'], m['vel']) for m in self.veh_pose])\n",
      "/home/kfir/workspace/RadarLocalization/dataset.py:263: VisibleDeprecationWarning: Creating an ndarray from ragged nested sequences (which is a list-or-tuple of lists-or-tuples-or ndarrays with different lengths or shapes) is deprecated. If you meant to do this, you must specify 'dtype=object' when creating the ndarray\n",
      "  veh_speed = np.array([(m['utime'], m['vel']) for m in self.veh_pose])\n",
      "/home/kfir/workspace/RadarLocalization/dataset.py:263: VisibleDeprecationWarning: Creating an ndarray from ragged nested sequences (which is a list-or-tuple of lists-or-tuples-or ndarrays with different lengths or shapes) is deprecated. If you meant to do this, you must specify 'dtype=object' when creating the ndarray\n",
      "  veh_speed = np.array([(m['utime'], m['vel']) for m in self.veh_pose])\n",
      "/home/kfir/workspace/RadarLocalization/dataset.py:263: VisibleDeprecationWarning: Creating an ndarray from ragged nested sequences (which is a list-or-tuple of lists-or-tuples-or ndarrays with different lengths or shapes) is deprecated. If you meant to do this, you must specify 'dtype=object' when creating the ndarray\n",
      "  veh_speed = np.array([(m['utime'], m['vel']) for m in self.veh_pose])\n",
      "/home/kfir/workspace/RadarLocalization/dataset.py:263: VisibleDeprecationWarning: Creating an ndarray from ragged nested sequences (which is a list-or-tuple of lists-or-tuples-or ndarrays with different lengths or shapes) is deprecated. If you meant to do this, you must specify 'dtype=object' when creating the ndarray\n",
      "  veh_speed = np.array([(m['utime'], m['vel']) for m in self.veh_pose])\n",
      "/home/kfir/workspace/RadarLocalization/dataset.py:263: VisibleDeprecationWarning: Creating an ndarray from ragged nested sequences (which is a list-or-tuple of lists-or-tuples-or ndarrays with different lengths or shapes) is deprecated. If you meant to do this, you must specify 'dtype=object' when creating the ndarray\n",
      "  veh_speed = np.array([(m['utime'], m['vel']) for m in self.veh_pose])\n",
      "/home/kfir/workspace/RadarLocalization/dataset.py:263: VisibleDeprecationWarning: Creating an ndarray from ragged nested sequences (which is a list-or-tuple of lists-or-tuples-or ndarrays with different lengths or shapes) is deprecated. If you meant to do this, you must specify 'dtype=object' when creating the ndarray\n",
      "  veh_speed = np.array([(m['utime'], m['vel']) for m in self.veh_pose])\n",
      "/home/kfir/workspace/RadarLocalization/dataset.py:263: VisibleDeprecationWarning: Creating an ndarray from ragged nested sequences (which is a list-or-tuple of lists-or-tuples-or ndarrays with different lengths or shapes) is deprecated. If you meant to do this, you must specify 'dtype=object' when creating the ndarray\n",
      "  veh_speed = np.array([(m['utime'], m['vel']) for m in self.veh_pose])\n",
      "/home/kfir/workspace/RadarLocalization/dataset.py:263: VisibleDeprecationWarning: Creating an ndarray from ragged nested sequences (which is a list-or-tuple of lists-or-tuples-or ndarrays with different lengths or shapes) is deprecated. If you meant to do this, you must specify 'dtype=object' when creating the ndarray\n",
      "  veh_speed = np.array([(m['utime'], m['vel']) for m in self.veh_pose])\n",
      "/home/kfir/workspace/RadarLocalization/dataset.py:263: VisibleDeprecationWarning: Creating an ndarray from ragged nested sequences (which is a list-or-tuple of lists-or-tuples-or ndarrays with different lengths or shapes) is deprecated. If you meant to do this, you must specify 'dtype=object' when creating the ndarray\n",
      "  veh_speed = np.array([(m['utime'], m['vel']) for m in self.veh_pose])\n",
      "/home/kfir/workspace/RadarLocalization/dataset.py:263: VisibleDeprecationWarning: Creating an ndarray from ragged nested sequences (which is a list-or-tuple of lists-or-tuples-or ndarrays with different lengths or shapes) is deprecated. If you meant to do this, you must specify 'dtype=object' when creating the ndarray\n",
      "  veh_speed = np.array([(m['utime'], m['vel']) for m in self.veh_pose])\n"
     ]
    },
    {
     "name": "stderr",
     "output_type": "stream",
     "text": [
      "/home/kfir/workspace/RadarLocalization/dataset.py:263: VisibleDeprecationWarning: Creating an ndarray from ragged nested sequences (which is a list-or-tuple of lists-or-tuples-or ndarrays with different lengths or shapes) is deprecated. If you meant to do this, you must specify 'dtype=object' when creating the ndarray\n",
      "  veh_speed = np.array([(m['utime'], m['vel']) for m in self.veh_pose])\n",
      "/home/kfir/workspace/RadarLocalization/dataset.py:263: VisibleDeprecationWarning: Creating an ndarray from ragged nested sequences (which is a list-or-tuple of lists-or-tuples-or ndarrays with different lengths or shapes) is deprecated. If you meant to do this, you must specify 'dtype=object' when creating the ndarray\n",
      "  veh_speed = np.array([(m['utime'], m['vel']) for m in self.veh_pose])\n",
      "/home/kfir/workspace/RadarLocalization/dataset.py:263: VisibleDeprecationWarning: Creating an ndarray from ragged nested sequences (which is a list-or-tuple of lists-or-tuples-or ndarrays with different lengths or shapes) is deprecated. If you meant to do this, you must specify 'dtype=object' when creating the ndarray\n",
      "  veh_speed = np.array([(m['utime'], m['vel']) for m in self.veh_pose])\n",
      "/home/kfir/workspace/RadarLocalization/dataset.py:263: VisibleDeprecationWarning: Creating an ndarray from ragged nested sequences (which is a list-or-tuple of lists-or-tuples-or ndarrays with different lengths or shapes) is deprecated. If you meant to do this, you must specify 'dtype=object' when creating the ndarray\n",
      "  veh_speed = np.array([(m['utime'], m['vel']) for m in self.veh_pose])\n",
      "/home/kfir/workspace/RadarLocalization/dataset.py:263: VisibleDeprecationWarning: Creating an ndarray from ragged nested sequences (which is a list-or-tuple of lists-or-tuples-or ndarrays with different lengths or shapes) is deprecated. If you meant to do this, you must specify 'dtype=object' when creating the ndarray\n",
      "  veh_speed = np.array([(m['utime'], m['vel']) for m in self.veh_pose])\n",
      "/home/kfir/workspace/RadarLocalization/dataset.py:263: VisibleDeprecationWarning: Creating an ndarray from ragged nested sequences (which is a list-or-tuple of lists-or-tuples-or ndarrays with different lengths or shapes) is deprecated. If you meant to do this, you must specify 'dtype=object' when creating the ndarray\n",
      "  veh_speed = np.array([(m['utime'], m['vel']) for m in self.veh_pose])\n",
      "/home/kfir/workspace/RadarLocalization/dataset.py:263: VisibleDeprecationWarning: Creating an ndarray from ragged nested sequences (which is a list-or-tuple of lists-or-tuples-or ndarrays with different lengths or shapes) is deprecated. If you meant to do this, you must specify 'dtype=object' when creating the ndarray\n",
      "  veh_speed = np.array([(m['utime'], m['vel']) for m in self.veh_pose])\n",
      "/home/kfir/workspace/RadarLocalization/dataset.py:263: VisibleDeprecationWarning: Creating an ndarray from ragged nested sequences (which is a list-or-tuple of lists-or-tuples-or ndarrays with different lengths or shapes) is deprecated. If you meant to do this, you must specify 'dtype=object' when creating the ndarray\n",
      "  veh_speed = np.array([(m['utime'], m['vel']) for m in self.veh_pose])\n",
      "/home/kfir/workspace/RadarLocalization/dataset.py:263: VisibleDeprecationWarning: Creating an ndarray from ragged nested sequences (which is a list-or-tuple of lists-or-tuples-or ndarrays with different lengths or shapes) is deprecated. If you meant to do this, you must specify 'dtype=object' when creating the ndarray\n",
      "  veh_speed = np.array([(m['utime'], m['vel']) for m in self.veh_pose])\n",
      "/home/kfir/workspace/RadarLocalization/dataset.py:263: VisibleDeprecationWarning: Creating an ndarray from ragged nested sequences (which is a list-or-tuple of lists-or-tuples-or ndarrays with different lengths or shapes) is deprecated. If you meant to do this, you must specify 'dtype=object' when creating the ndarray\n",
      "  veh_speed = np.array([(m['utime'], m['vel']) for m in self.veh_pose])\n",
      "/home/kfir/workspace/RadarLocalization/dataset.py:263: VisibleDeprecationWarning: Creating an ndarray from ragged nested sequences (which is a list-or-tuple of lists-or-tuples-or ndarrays with different lengths or shapes) is deprecated. If you meant to do this, you must specify 'dtype=object' when creating the ndarray\n",
      "  veh_speed = np.array([(m['utime'], m['vel']) for m in self.veh_pose])\n",
      "/home/kfir/workspace/RadarLocalization/dataset.py:263: VisibleDeprecationWarning: Creating an ndarray from ragged nested sequences (which is a list-or-tuple of lists-or-tuples-or ndarrays with different lengths or shapes) is deprecated. If you meant to do this, you must specify 'dtype=object' when creating the ndarray\n",
      "  veh_speed = np.array([(m['utime'], m['vel']) for m in self.veh_pose])\n",
      "/home/kfir/workspace/RadarLocalization/dataset.py:263: VisibleDeprecationWarning: Creating an ndarray from ragged nested sequences (which is a list-or-tuple of lists-or-tuples-or ndarrays with different lengths or shapes) is deprecated. If you meant to do this, you must specify 'dtype=object' when creating the ndarray\n",
      "  veh_speed = np.array([(m['utime'], m['vel']) for m in self.veh_pose])\n",
      "/home/kfir/workspace/RadarLocalization/dataset.py:263: VisibleDeprecationWarning: Creating an ndarray from ragged nested sequences (which is a list-or-tuple of lists-or-tuples-or ndarrays with different lengths or shapes) is deprecated. If you meant to do this, you must specify 'dtype=object' when creating the ndarray\n",
      "  veh_speed = np.array([(m['utime'], m['vel']) for m in self.veh_pose])\n",
      "/home/kfir/workspace/RadarLocalization/dataset.py:263: VisibleDeprecationWarning: Creating an ndarray from ragged nested sequences (which is a list-or-tuple of lists-or-tuples-or ndarrays with different lengths or shapes) is deprecated. If you meant to do this, you must specify 'dtype=object' when creating the ndarray\n",
      "  veh_speed = np.array([(m['utime'], m['vel']) for m in self.veh_pose])\n",
      "/home/kfir/workspace/RadarLocalization/dataset.py:263: VisibleDeprecationWarning: Creating an ndarray from ragged nested sequences (which is a list-or-tuple of lists-or-tuples-or ndarrays with different lengths or shapes) is deprecated. If you meant to do this, you must specify 'dtype=object' when creating the ndarray\n",
      "  veh_speed = np.array([(m['utime'], m['vel']) for m in self.veh_pose])\n",
      "/home/kfir/workspace/RadarLocalization/dataset.py:263: VisibleDeprecationWarning: Creating an ndarray from ragged nested sequences (which is a list-or-tuple of lists-or-tuples-or ndarrays with different lengths or shapes) is deprecated. If you meant to do this, you must specify 'dtype=object' when creating the ndarray\n",
      "  veh_speed = np.array([(m['utime'], m['vel']) for m in self.veh_pose])\n",
      "/home/kfir/workspace/RadarLocalization/dataset.py:263: VisibleDeprecationWarning: Creating an ndarray from ragged nested sequences (which is a list-or-tuple of lists-or-tuples-or ndarrays with different lengths or shapes) is deprecated. If you meant to do this, you must specify 'dtype=object' when creating the ndarray\n",
      "  veh_speed = np.array([(m['utime'], m['vel']) for m in self.veh_pose])\n",
      "/home/kfir/workspace/RadarLocalization/dataset.py:263: VisibleDeprecationWarning: Creating an ndarray from ragged nested sequences (which is a list-or-tuple of lists-or-tuples-or ndarrays with different lengths or shapes) is deprecated. If you meant to do this, you must specify 'dtype=object' when creating the ndarray\n",
      "  veh_speed = np.array([(m['utime'], m['vel']) for m in self.veh_pose])\n",
      "/home/kfir/workspace/RadarLocalization/dataset.py:263: VisibleDeprecationWarning: Creating an ndarray from ragged nested sequences (which is a list-or-tuple of lists-or-tuples-or ndarrays with different lengths or shapes) is deprecated. If you meant to do this, you must specify 'dtype=object' when creating the ndarray\n",
      "  veh_speed = np.array([(m['utime'], m['vel']) for m in self.veh_pose])\n",
      "/home/kfir/workspace/RadarLocalization/dataset.py:263: VisibleDeprecationWarning: Creating an ndarray from ragged nested sequences (which is a list-or-tuple of lists-or-tuples-or ndarrays with different lengths or shapes) is deprecated. If you meant to do this, you must specify 'dtype=object' when creating the ndarray\n",
      "  veh_speed = np.array([(m['utime'], m['vel']) for m in self.veh_pose])\n"
     ]
    },
    {
     "name": "stderr",
     "output_type": "stream",
     "text": [
      "/home/kfir/workspace/RadarLocalization/dataset.py:263: VisibleDeprecationWarning: Creating an ndarray from ragged nested sequences (which is a list-or-tuple of lists-or-tuples-or ndarrays with different lengths or shapes) is deprecated. If you meant to do this, you must specify 'dtype=object' when creating the ndarray\n",
      "  veh_speed = np.array([(m['utime'], m['vel']) for m in self.veh_pose])\n",
      "/home/kfir/workspace/RadarLocalization/dataset.py:263: VisibleDeprecationWarning: Creating an ndarray from ragged nested sequences (which is a list-or-tuple of lists-or-tuples-or ndarrays with different lengths or shapes) is deprecated. If you meant to do this, you must specify 'dtype=object' when creating the ndarray\n",
      "  veh_speed = np.array([(m['utime'], m['vel']) for m in self.veh_pose])\n",
      "/home/kfir/workspace/RadarLocalization/dataset.py:263: VisibleDeprecationWarning: Creating an ndarray from ragged nested sequences (which is a list-or-tuple of lists-or-tuples-or ndarrays with different lengths or shapes) is deprecated. If you meant to do this, you must specify 'dtype=object' when creating the ndarray\n",
      "  veh_speed = np.array([(m['utime'], m['vel']) for m in self.veh_pose])\n",
      "/home/kfir/workspace/RadarLocalization/dataset.py:263: VisibleDeprecationWarning: Creating an ndarray from ragged nested sequences (which is a list-or-tuple of lists-or-tuples-or ndarrays with different lengths or shapes) is deprecated. If you meant to do this, you must specify 'dtype=object' when creating the ndarray\n",
      "  veh_speed = np.array([(m['utime'], m['vel']) for m in self.veh_pose])\n",
      "/home/kfir/workspace/RadarLocalization/dataset.py:263: VisibleDeprecationWarning: Creating an ndarray from ragged nested sequences (which is a list-or-tuple of lists-or-tuples-or ndarrays with different lengths or shapes) is deprecated. If you meant to do this, you must specify 'dtype=object' when creating the ndarray\n",
      "  veh_speed = np.array([(m['utime'], m['vel']) for m in self.veh_pose])\n",
      "/home/kfir/workspace/RadarLocalization/dataset.py:263: VisibleDeprecationWarning: Creating an ndarray from ragged nested sequences (which is a list-or-tuple of lists-or-tuples-or ndarrays with different lengths or shapes) is deprecated. If you meant to do this, you must specify 'dtype=object' when creating the ndarray\n",
      "  veh_speed = np.array([(m['utime'], m['vel']) for m in self.veh_pose])\n",
      "/home/kfir/workspace/RadarLocalization/dataset.py:263: VisibleDeprecationWarning: Creating an ndarray from ragged nested sequences (which is a list-or-tuple of lists-or-tuples-or ndarrays with different lengths or shapes) is deprecated. If you meant to do this, you must specify 'dtype=object' when creating the ndarray\n",
      "  veh_speed = np.array([(m['utime'], m['vel']) for m in self.veh_pose])\n",
      "/home/kfir/workspace/RadarLocalization/dataset.py:263: VisibleDeprecationWarning: Creating an ndarray from ragged nested sequences (which is a list-or-tuple of lists-or-tuples-or ndarrays with different lengths or shapes) is deprecated. If you meant to do this, you must specify 'dtype=object' when creating the ndarray\n",
      "  veh_speed = np.array([(m['utime'], m['vel']) for m in self.veh_pose])\n",
      "/home/kfir/workspace/RadarLocalization/dataset.py:263: VisibleDeprecationWarning: Creating an ndarray from ragged nested sequences (which is a list-or-tuple of lists-or-tuples-or ndarrays with different lengths or shapes) is deprecated. If you meant to do this, you must specify 'dtype=object' when creating the ndarray\n",
      "  veh_speed = np.array([(m['utime'], m['vel']) for m in self.veh_pose])\n",
      "/home/kfir/workspace/RadarLocalization/dataset.py:263: VisibleDeprecationWarning: Creating an ndarray from ragged nested sequences (which is a list-or-tuple of lists-or-tuples-or ndarrays with different lengths or shapes) is deprecated. If you meant to do this, you must specify 'dtype=object' when creating the ndarray\n",
      "  veh_speed = np.array([(m['utime'], m['vel']) for m in self.veh_pose])\n",
      "/home/kfir/workspace/RadarLocalization/dataset.py:263: VisibleDeprecationWarning: Creating an ndarray from ragged nested sequences (which is a list-or-tuple of lists-or-tuples-or ndarrays with different lengths or shapes) is deprecated. If you meant to do this, you must specify 'dtype=object' when creating the ndarray\n",
      "  veh_speed = np.array([(m['utime'], m['vel']) for m in self.veh_pose])\n",
      "/home/kfir/workspace/RadarLocalization/dataset.py:263: VisibleDeprecationWarning: Creating an ndarray from ragged nested sequences (which is a list-or-tuple of lists-or-tuples-or ndarrays with different lengths or shapes) is deprecated. If you meant to do this, you must specify 'dtype=object' when creating the ndarray\n",
      "  veh_speed = np.array([(m['utime'], m['vel']) for m in self.veh_pose])\n",
      "/home/kfir/workspace/RadarLocalization/dataset.py:263: VisibleDeprecationWarning: Creating an ndarray from ragged nested sequences (which is a list-or-tuple of lists-or-tuples-or ndarrays with different lengths or shapes) is deprecated. If you meant to do this, you must specify 'dtype=object' when creating the ndarray\n",
      "  veh_speed = np.array([(m['utime'], m['vel']) for m in self.veh_pose])\n",
      "/home/kfir/workspace/RadarLocalization/dataset.py:263: VisibleDeprecationWarning: Creating an ndarray from ragged nested sequences (which is a list-or-tuple of lists-or-tuples-or ndarrays with different lengths or shapes) is deprecated. If you meant to do this, you must specify 'dtype=object' when creating the ndarray\n",
      "  veh_speed = np.array([(m['utime'], m['vel']) for m in self.veh_pose])\n",
      "/home/kfir/workspace/RadarLocalization/dataset.py:263: VisibleDeprecationWarning: Creating an ndarray from ragged nested sequences (which is a list-or-tuple of lists-or-tuples-or ndarrays with different lengths or shapes) is deprecated. If you meant to do this, you must specify 'dtype=object' when creating the ndarray\n",
      "  veh_speed = np.array([(m['utime'], m['vel']) for m in self.veh_pose])\n",
      "/home/kfir/workspace/RadarLocalization/dataset.py:263: VisibleDeprecationWarning: Creating an ndarray from ragged nested sequences (which is a list-or-tuple of lists-or-tuples-or ndarrays with different lengths or shapes) is deprecated. If you meant to do this, you must specify 'dtype=object' when creating the ndarray\n",
      "  veh_speed = np.array([(m['utime'], m['vel']) for m in self.veh_pose])\n",
      "/home/kfir/workspace/RadarLocalization/dataset.py:263: VisibleDeprecationWarning: Creating an ndarray from ragged nested sequences (which is a list-or-tuple of lists-or-tuples-or ndarrays with different lengths or shapes) is deprecated. If you meant to do this, you must specify 'dtype=object' when creating the ndarray\n",
      "  veh_speed = np.array([(m['utime'], m['vel']) for m in self.veh_pose])\n",
      "/home/kfir/workspace/RadarLocalization/dataset.py:263: VisibleDeprecationWarning: Creating an ndarray from ragged nested sequences (which is a list-or-tuple of lists-or-tuples-or ndarrays with different lengths or shapes) is deprecated. If you meant to do this, you must specify 'dtype=object' when creating the ndarray\n",
      "  veh_speed = np.array([(m['utime'], m['vel']) for m in self.veh_pose])\n",
      "/home/kfir/workspace/RadarLocalization/dataset.py:263: VisibleDeprecationWarning: Creating an ndarray from ragged nested sequences (which is a list-or-tuple of lists-or-tuples-or ndarrays with different lengths or shapes) is deprecated. If you meant to do this, you must specify 'dtype=object' when creating the ndarray\n",
      "  veh_speed = np.array([(m['utime'], m['vel']) for m in self.veh_pose])\n",
      "/home/kfir/workspace/RadarLocalization/dataset.py:263: VisibleDeprecationWarning: Creating an ndarray from ragged nested sequences (which is a list-or-tuple of lists-or-tuples-or ndarrays with different lengths or shapes) is deprecated. If you meant to do this, you must specify 'dtype=object' when creating the ndarray\n",
      "  veh_speed = np.array([(m['utime'], m['vel']) for m in self.veh_pose])\n",
      "/home/kfir/workspace/RadarLocalization/dataset.py:263: VisibleDeprecationWarning: Creating an ndarray from ragged nested sequences (which is a list-or-tuple of lists-or-tuples-or ndarrays with different lengths or shapes) is deprecated. If you meant to do this, you must specify 'dtype=object' when creating the ndarray\n",
      "  veh_speed = np.array([(m['utime'], m['vel']) for m in self.veh_pose])\n"
     ]
    },
    {
     "name": "stderr",
     "output_type": "stream",
     "text": [
      "/home/kfir/workspace/RadarLocalization/dataset.py:263: VisibleDeprecationWarning: Creating an ndarray from ragged nested sequences (which is a list-or-tuple of lists-or-tuples-or ndarrays with different lengths or shapes) is deprecated. If you meant to do this, you must specify 'dtype=object' when creating the ndarray\n",
      "  veh_speed = np.array([(m['utime'], m['vel']) for m in self.veh_pose])\n",
      "/home/kfir/workspace/RadarLocalization/dataset.py:263: VisibleDeprecationWarning: Creating an ndarray from ragged nested sequences (which is a list-or-tuple of lists-or-tuples-or ndarrays with different lengths or shapes) is deprecated. If you meant to do this, you must specify 'dtype=object' when creating the ndarray\n",
      "  veh_speed = np.array([(m['utime'], m['vel']) for m in self.veh_pose])\n",
      "/home/kfir/workspace/RadarLocalization/dataset.py:263: VisibleDeprecationWarning: Creating an ndarray from ragged nested sequences (which is a list-or-tuple of lists-or-tuples-or ndarrays with different lengths or shapes) is deprecated. If you meant to do this, you must specify 'dtype=object' when creating the ndarray\n",
      "  veh_speed = np.array([(m['utime'], m['vel']) for m in self.veh_pose])\n",
      "/home/kfir/workspace/RadarLocalization/dataset.py:263: VisibleDeprecationWarning: Creating an ndarray from ragged nested sequences (which is a list-or-tuple of lists-or-tuples-or ndarrays with different lengths or shapes) is deprecated. If you meant to do this, you must specify 'dtype=object' when creating the ndarray\n",
      "  veh_speed = np.array([(m['utime'], m['vel']) for m in self.veh_pose])\n",
      "/home/kfir/workspace/RadarLocalization/dataset.py:263: VisibleDeprecationWarning: Creating an ndarray from ragged nested sequences (which is a list-or-tuple of lists-or-tuples-or ndarrays with different lengths or shapes) is deprecated. If you meant to do this, you must specify 'dtype=object' when creating the ndarray\n",
      "  veh_speed = np.array([(m['utime'], m['vel']) for m in self.veh_pose])\n",
      "/home/kfir/workspace/RadarLocalization/dataset.py:263: VisibleDeprecationWarning: Creating an ndarray from ragged nested sequences (which is a list-or-tuple of lists-or-tuples-or ndarrays with different lengths or shapes) is deprecated. If you meant to do this, you must specify 'dtype=object' when creating the ndarray\n",
      "  veh_speed = np.array([(m['utime'], m['vel']) for m in self.veh_pose])\n",
      "/home/kfir/workspace/RadarLocalization/dataset.py:263: VisibleDeprecationWarning: Creating an ndarray from ragged nested sequences (which is a list-or-tuple of lists-or-tuples-or ndarrays with different lengths or shapes) is deprecated. If you meant to do this, you must specify 'dtype=object' when creating the ndarray\n",
      "  veh_speed = np.array([(m['utime'], m['vel']) for m in self.veh_pose])\n",
      "/home/kfir/workspace/RadarLocalization/dataset.py:263: VisibleDeprecationWarning: Creating an ndarray from ragged nested sequences (which is a list-or-tuple of lists-or-tuples-or ndarrays with different lengths or shapes) is deprecated. If you meant to do this, you must specify 'dtype=object' when creating the ndarray\n",
      "  veh_speed = np.array([(m['utime'], m['vel']) for m in self.veh_pose])\n",
      "/home/kfir/workspace/RadarLocalization/dataset.py:263: VisibleDeprecationWarning: Creating an ndarray from ragged nested sequences (which is a list-or-tuple of lists-or-tuples-or ndarrays with different lengths or shapes) is deprecated. If you meant to do this, you must specify 'dtype=object' when creating the ndarray\n",
      "  veh_speed = np.array([(m['utime'], m['vel']) for m in self.veh_pose])\n",
      "/home/kfir/workspace/RadarLocalization/dataset.py:263: VisibleDeprecationWarning: Creating an ndarray from ragged nested sequences (which is a list-or-tuple of lists-or-tuples-or ndarrays with different lengths or shapes) is deprecated. If you meant to do this, you must specify 'dtype=object' when creating the ndarray\n",
      "  veh_speed = np.array([(m['utime'], m['vel']) for m in self.veh_pose])\n",
      "/home/kfir/workspace/RadarLocalization/dataset.py:263: VisibleDeprecationWarning: Creating an ndarray from ragged nested sequences (which is a list-or-tuple of lists-or-tuples-or ndarrays with different lengths or shapes) is deprecated. If you meant to do this, you must specify 'dtype=object' when creating the ndarray\n",
      "  veh_speed = np.array([(m['utime'], m['vel']) for m in self.veh_pose])\n",
      "/home/kfir/workspace/RadarLocalization/dataset.py:263: VisibleDeprecationWarning: Creating an ndarray from ragged nested sequences (which is a list-or-tuple of lists-or-tuples-or ndarrays with different lengths or shapes) is deprecated. If you meant to do this, you must specify 'dtype=object' when creating the ndarray\n",
      "  veh_speed = np.array([(m['utime'], m['vel']) for m in self.veh_pose])\n",
      "/home/kfir/workspace/RadarLocalization/dataset.py:263: VisibleDeprecationWarning: Creating an ndarray from ragged nested sequences (which is a list-or-tuple of lists-or-tuples-or ndarrays with different lengths or shapes) is deprecated. If you meant to do this, you must specify 'dtype=object' when creating the ndarray\n",
      "  veh_speed = np.array([(m['utime'], m['vel']) for m in self.veh_pose])\n",
      "/home/kfir/workspace/RadarLocalization/dataset.py:263: VisibleDeprecationWarning: Creating an ndarray from ragged nested sequences (which is a list-or-tuple of lists-or-tuples-or ndarrays with different lengths or shapes) is deprecated. If you meant to do this, you must specify 'dtype=object' when creating the ndarray\n",
      "  veh_speed = np.array([(m['utime'], m['vel']) for m in self.veh_pose])\n",
      "/home/kfir/workspace/RadarLocalization/dataset.py:263: VisibleDeprecationWarning: Creating an ndarray from ragged nested sequences (which is a list-or-tuple of lists-or-tuples-or ndarrays with different lengths or shapes) is deprecated. If you meant to do this, you must specify 'dtype=object' when creating the ndarray\n",
      "  veh_speed = np.array([(m['utime'], m['vel']) for m in self.veh_pose])\n",
      "/home/kfir/workspace/RadarLocalization/dataset.py:263: VisibleDeprecationWarning: Creating an ndarray from ragged nested sequences (which is a list-or-tuple of lists-or-tuples-or ndarrays with different lengths or shapes) is deprecated. If you meant to do this, you must specify 'dtype=object' when creating the ndarray\n",
      "  veh_speed = np.array([(m['utime'], m['vel']) for m in self.veh_pose])\n",
      "/home/kfir/workspace/RadarLocalization/dataset.py:263: VisibleDeprecationWarning: Creating an ndarray from ragged nested sequences (which is a list-or-tuple of lists-or-tuples-or ndarrays with different lengths or shapes) is deprecated. If you meant to do this, you must specify 'dtype=object' when creating the ndarray\n",
      "  veh_speed = np.array([(m['utime'], m['vel']) for m in self.veh_pose])\n",
      "/home/kfir/workspace/RadarLocalization/dataset.py:263: VisibleDeprecationWarning: Creating an ndarray from ragged nested sequences (which is a list-or-tuple of lists-or-tuples-or ndarrays with different lengths or shapes) is deprecated. If you meant to do this, you must specify 'dtype=object' when creating the ndarray\n",
      "  veh_speed = np.array([(m['utime'], m['vel']) for m in self.veh_pose])\n",
      "/home/kfir/workspace/RadarLocalization/dataset.py:263: VisibleDeprecationWarning: Creating an ndarray from ragged nested sequences (which is a list-or-tuple of lists-or-tuples-or ndarrays with different lengths or shapes) is deprecated. If you meant to do this, you must specify 'dtype=object' when creating the ndarray\n",
      "  veh_speed = np.array([(m['utime'], m['vel']) for m in self.veh_pose])\n",
      "/home/kfir/workspace/RadarLocalization/dataset.py:263: VisibleDeprecationWarning: Creating an ndarray from ragged nested sequences (which is a list-or-tuple of lists-or-tuples-or ndarrays with different lengths or shapes) is deprecated. If you meant to do this, you must specify 'dtype=object' when creating the ndarray\n",
      "  veh_speed = np.array([(m['utime'], m['vel']) for m in self.veh_pose])\n",
      "/home/kfir/workspace/RadarLocalization/dataset.py:263: VisibleDeprecationWarning: Creating an ndarray from ragged nested sequences (which is a list-or-tuple of lists-or-tuples-or ndarrays with different lengths or shapes) is deprecated. If you meant to do this, you must specify 'dtype=object' when creating the ndarray\n",
      "  veh_speed = np.array([(m['utime'], m['vel']) for m in self.veh_pose])\n"
     ]
    },
    {
     "name": "stderr",
     "output_type": "stream",
     "text": [
      "/home/kfir/workspace/RadarLocalization/dataset.py:263: VisibleDeprecationWarning: Creating an ndarray from ragged nested sequences (which is a list-or-tuple of lists-or-tuples-or ndarrays with different lengths or shapes) is deprecated. If you meant to do this, you must specify 'dtype=object' when creating the ndarray\n",
      "  veh_speed = np.array([(m['utime'], m['vel']) for m in self.veh_pose])\n",
      "/home/kfir/workspace/RadarLocalization/dataset.py:263: VisibleDeprecationWarning: Creating an ndarray from ragged nested sequences (which is a list-or-tuple of lists-or-tuples-or ndarrays with different lengths or shapes) is deprecated. If you meant to do this, you must specify 'dtype=object' when creating the ndarray\n",
      "  veh_speed = np.array([(m['utime'], m['vel']) for m in self.veh_pose])\n",
      "/home/kfir/workspace/RadarLocalization/dataset.py:263: VisibleDeprecationWarning: Creating an ndarray from ragged nested sequences (which is a list-or-tuple of lists-or-tuples-or ndarrays with different lengths or shapes) is deprecated. If you meant to do this, you must specify 'dtype=object' when creating the ndarray\n",
      "  veh_speed = np.array([(m['utime'], m['vel']) for m in self.veh_pose])\n",
      "/home/kfir/workspace/RadarLocalization/dataset.py:263: VisibleDeprecationWarning: Creating an ndarray from ragged nested sequences (which is a list-or-tuple of lists-or-tuples-or ndarrays with different lengths or shapes) is deprecated. If you meant to do this, you must specify 'dtype=object' when creating the ndarray\n",
      "  veh_speed = np.array([(m['utime'], m['vel']) for m in self.veh_pose])\n",
      "/home/kfir/workspace/RadarLocalization/dataset.py:263: VisibleDeprecationWarning: Creating an ndarray from ragged nested sequences (which is a list-or-tuple of lists-or-tuples-or ndarrays with different lengths or shapes) is deprecated. If you meant to do this, you must specify 'dtype=object' when creating the ndarray\n",
      "  veh_speed = np.array([(m['utime'], m['vel']) for m in self.veh_pose])\n",
      "/home/kfir/workspace/RadarLocalization/dataset.py:263: VisibleDeprecationWarning: Creating an ndarray from ragged nested sequences (which is a list-or-tuple of lists-or-tuples-or ndarrays with different lengths or shapes) is deprecated. If you meant to do this, you must specify 'dtype=object' when creating the ndarray\n",
      "  veh_speed = np.array([(m['utime'], m['vel']) for m in self.veh_pose])\n",
      "/home/kfir/workspace/RadarLocalization/dataset.py:263: VisibleDeprecationWarning: Creating an ndarray from ragged nested sequences (which is a list-or-tuple of lists-or-tuples-or ndarrays with different lengths or shapes) is deprecated. If you meant to do this, you must specify 'dtype=object' when creating the ndarray\n",
      "  veh_speed = np.array([(m['utime'], m['vel']) for m in self.veh_pose])\n",
      "/home/kfir/workspace/RadarLocalization/dataset.py:263: VisibleDeprecationWarning: Creating an ndarray from ragged nested sequences (which is a list-or-tuple of lists-or-tuples-or ndarrays with different lengths or shapes) is deprecated. If you meant to do this, you must specify 'dtype=object' when creating the ndarray\n",
      "  veh_speed = np.array([(m['utime'], m['vel']) for m in self.veh_pose])\n",
      "/home/kfir/workspace/RadarLocalization/dataset.py:263: VisibleDeprecationWarning: Creating an ndarray from ragged nested sequences (which is a list-or-tuple of lists-or-tuples-or ndarrays with different lengths or shapes) is deprecated. If you meant to do this, you must specify 'dtype=object' when creating the ndarray\n",
      "  veh_speed = np.array([(m['utime'], m['vel']) for m in self.veh_pose])\n",
      "/home/kfir/workspace/RadarLocalization/dataset.py:263: VisibleDeprecationWarning: Creating an ndarray from ragged nested sequences (which is a list-or-tuple of lists-or-tuples-or ndarrays with different lengths or shapes) is deprecated. If you meant to do this, you must specify 'dtype=object' when creating the ndarray\n",
      "  veh_speed = np.array([(m['utime'], m['vel']) for m in self.veh_pose])\n",
      "/home/kfir/workspace/RadarLocalization/dataset.py:263: VisibleDeprecationWarning: Creating an ndarray from ragged nested sequences (which is a list-or-tuple of lists-or-tuples-or ndarrays with different lengths or shapes) is deprecated. If you meant to do this, you must specify 'dtype=object' when creating the ndarray\n",
      "  veh_speed = np.array([(m['utime'], m['vel']) for m in self.veh_pose])\n",
      "/home/kfir/workspace/RadarLocalization/dataset.py:263: VisibleDeprecationWarning: Creating an ndarray from ragged nested sequences (which is a list-or-tuple of lists-or-tuples-or ndarrays with different lengths or shapes) is deprecated. If you meant to do this, you must specify 'dtype=object' when creating the ndarray\n",
      "  veh_speed = np.array([(m['utime'], m['vel']) for m in self.veh_pose])\n",
      "/home/kfir/workspace/RadarLocalization/dataset.py:263: VisibleDeprecationWarning: Creating an ndarray from ragged nested sequences (which is a list-or-tuple of lists-or-tuples-or ndarrays with different lengths or shapes) is deprecated. If you meant to do this, you must specify 'dtype=object' when creating the ndarray\n",
      "  veh_speed = np.array([(m['utime'], m['vel']) for m in self.veh_pose])\n",
      "/home/kfir/workspace/RadarLocalization/dataset.py:263: VisibleDeprecationWarning: Creating an ndarray from ragged nested sequences (which is a list-or-tuple of lists-or-tuples-or ndarrays with different lengths or shapes) is deprecated. If you meant to do this, you must specify 'dtype=object' when creating the ndarray\n",
      "  veh_speed = np.array([(m['utime'], m['vel']) for m in self.veh_pose])\n",
      "/home/kfir/workspace/RadarLocalization/dataset.py:263: VisibleDeprecationWarning: Creating an ndarray from ragged nested sequences (which is a list-or-tuple of lists-or-tuples-or ndarrays with different lengths or shapes) is deprecated. If you meant to do this, you must specify 'dtype=object' when creating the ndarray\n",
      "  veh_speed = np.array([(m['utime'], m['vel']) for m in self.veh_pose])\n",
      "/home/kfir/workspace/RadarLocalization/dataset.py:263: VisibleDeprecationWarning: Creating an ndarray from ragged nested sequences (which is a list-or-tuple of lists-or-tuples-or ndarrays with different lengths or shapes) is deprecated. If you meant to do this, you must specify 'dtype=object' when creating the ndarray\n",
      "  veh_speed = np.array([(m['utime'], m['vel']) for m in self.veh_pose])\n",
      "/home/kfir/workspace/RadarLocalization/dataset.py:263: VisibleDeprecationWarning: Creating an ndarray from ragged nested sequences (which is a list-or-tuple of lists-or-tuples-or ndarrays with different lengths or shapes) is deprecated. If you meant to do this, you must specify 'dtype=object' when creating the ndarray\n",
      "  veh_speed = np.array([(m['utime'], m['vel']) for m in self.veh_pose])\n",
      "/home/kfir/workspace/RadarLocalization/dataset.py:263: VisibleDeprecationWarning: Creating an ndarray from ragged nested sequences (which is a list-or-tuple of lists-or-tuples-or ndarrays with different lengths or shapes) is deprecated. If you meant to do this, you must specify 'dtype=object' when creating the ndarray\n",
      "  veh_speed = np.array([(m['utime'], m['vel']) for m in self.veh_pose])\n",
      "/home/kfir/workspace/RadarLocalization/dataset.py:263: VisibleDeprecationWarning: Creating an ndarray from ragged nested sequences (which is a list-or-tuple of lists-or-tuples-or ndarrays with different lengths or shapes) is deprecated. If you meant to do this, you must specify 'dtype=object' when creating the ndarray\n",
      "  veh_speed = np.array([(m['utime'], m['vel']) for m in self.veh_pose])\n",
      "/home/kfir/workspace/RadarLocalization/dataset.py:263: VisibleDeprecationWarning: Creating an ndarray from ragged nested sequences (which is a list-or-tuple of lists-or-tuples-or ndarrays with different lengths or shapes) is deprecated. If you meant to do this, you must specify 'dtype=object' when creating the ndarray\n",
      "  veh_speed = np.array([(m['utime'], m['vel']) for m in self.veh_pose])\n",
      "/home/kfir/workspace/RadarLocalization/dataset.py:263: VisibleDeprecationWarning: Creating an ndarray from ragged nested sequences (which is a list-or-tuple of lists-or-tuples-or ndarrays with different lengths or shapes) is deprecated. If you meant to do this, you must specify 'dtype=object' when creating the ndarray\n",
      "  veh_speed = np.array([(m['utime'], m['vel']) for m in self.veh_pose])\n"
     ]
    },
    {
     "name": "stderr",
     "output_type": "stream",
     "text": [
      "/home/kfir/workspace/RadarLocalization/dataset.py:263: VisibleDeprecationWarning: Creating an ndarray from ragged nested sequences (which is a list-or-tuple of lists-or-tuples-or ndarrays with different lengths or shapes) is deprecated. If you meant to do this, you must specify 'dtype=object' when creating the ndarray\n",
      "  veh_speed = np.array([(m['utime'], m['vel']) for m in self.veh_pose])\n",
      "/home/kfir/workspace/RadarLocalization/dataset.py:263: VisibleDeprecationWarning: Creating an ndarray from ragged nested sequences (which is a list-or-tuple of lists-or-tuples-or ndarrays with different lengths or shapes) is deprecated. If you meant to do this, you must specify 'dtype=object' when creating the ndarray\n",
      "  veh_speed = np.array([(m['utime'], m['vel']) for m in self.veh_pose])\n",
      "/home/kfir/workspace/RadarLocalization/dataset.py:263: VisibleDeprecationWarning: Creating an ndarray from ragged nested sequences (which is a list-or-tuple of lists-or-tuples-or ndarrays with different lengths or shapes) is deprecated. If you meant to do this, you must specify 'dtype=object' when creating the ndarray\n",
      "  veh_speed = np.array([(m['utime'], m['vel']) for m in self.veh_pose])\n",
      "/home/kfir/workspace/RadarLocalization/dataset.py:263: VisibleDeprecationWarning: Creating an ndarray from ragged nested sequences (which is a list-or-tuple of lists-or-tuples-or ndarrays with different lengths or shapes) is deprecated. If you meant to do this, you must specify 'dtype=object' when creating the ndarray\n",
      "  veh_speed = np.array([(m['utime'], m['vel']) for m in self.veh_pose])\n",
      "/home/kfir/workspace/RadarLocalization/dataset.py:263: VisibleDeprecationWarning: Creating an ndarray from ragged nested sequences (which is a list-or-tuple of lists-or-tuples-or ndarrays with different lengths or shapes) is deprecated. If you meant to do this, you must specify 'dtype=object' when creating the ndarray\n",
      "  veh_speed = np.array([(m['utime'], m['vel']) for m in self.veh_pose])\n",
      "/home/kfir/workspace/RadarLocalization/dataset.py:263: VisibleDeprecationWarning: Creating an ndarray from ragged nested sequences (which is a list-or-tuple of lists-or-tuples-or ndarrays with different lengths or shapes) is deprecated. If you meant to do this, you must specify 'dtype=object' when creating the ndarray\n",
      "  veh_speed = np.array([(m['utime'], m['vel']) for m in self.veh_pose])\n",
      "/home/kfir/workspace/RadarLocalization/dataset.py:263: VisibleDeprecationWarning: Creating an ndarray from ragged nested sequences (which is a list-or-tuple of lists-or-tuples-or ndarrays with different lengths or shapes) is deprecated. If you meant to do this, you must specify 'dtype=object' when creating the ndarray\n",
      "  veh_speed = np.array([(m['utime'], m['vel']) for m in self.veh_pose])\n",
      "/home/kfir/workspace/RadarLocalization/dataset.py:263: VisibleDeprecationWarning: Creating an ndarray from ragged nested sequences (which is a list-or-tuple of lists-or-tuples-or ndarrays with different lengths or shapes) is deprecated. If you meant to do this, you must specify 'dtype=object' when creating the ndarray\n",
      "  veh_speed = np.array([(m['utime'], m['vel']) for m in self.veh_pose])\n",
      "/home/kfir/workspace/RadarLocalization/dataset.py:263: VisibleDeprecationWarning: Creating an ndarray from ragged nested sequences (which is a list-or-tuple of lists-or-tuples-or ndarrays with different lengths or shapes) is deprecated. If you meant to do this, you must specify 'dtype=object' when creating the ndarray\n",
      "  veh_speed = np.array([(m['utime'], m['vel']) for m in self.veh_pose])\n",
      "/home/kfir/workspace/RadarLocalization/dataset.py:263: VisibleDeprecationWarning: Creating an ndarray from ragged nested sequences (which is a list-or-tuple of lists-or-tuples-or ndarrays with different lengths or shapes) is deprecated. If you meant to do this, you must specify 'dtype=object' when creating the ndarray\n",
      "  veh_speed = np.array([(m['utime'], m['vel']) for m in self.veh_pose])\n",
      "/home/kfir/workspace/RadarLocalization/dataset.py:263: VisibleDeprecationWarning: Creating an ndarray from ragged nested sequences (which is a list-or-tuple of lists-or-tuples-or ndarrays with different lengths or shapes) is deprecated. If you meant to do this, you must specify 'dtype=object' when creating the ndarray\n",
      "  veh_speed = np.array([(m['utime'], m['vel']) for m in self.veh_pose])\n",
      "/home/kfir/workspace/RadarLocalization/dataset.py:263: VisibleDeprecationWarning: Creating an ndarray from ragged nested sequences (which is a list-or-tuple of lists-or-tuples-or ndarrays with different lengths or shapes) is deprecated. If you meant to do this, you must specify 'dtype=object' when creating the ndarray\n",
      "  veh_speed = np.array([(m['utime'], m['vel']) for m in self.veh_pose])\n",
      "/home/kfir/workspace/RadarLocalization/dataset.py:263: VisibleDeprecationWarning: Creating an ndarray from ragged nested sequences (which is a list-or-tuple of lists-or-tuples-or ndarrays with different lengths or shapes) is deprecated. If you meant to do this, you must specify 'dtype=object' when creating the ndarray\n",
      "  veh_speed = np.array([(m['utime'], m['vel']) for m in self.veh_pose])\n",
      "/home/kfir/workspace/RadarLocalization/dataset.py:263: VisibleDeprecationWarning: Creating an ndarray from ragged nested sequences (which is a list-or-tuple of lists-or-tuples-or ndarrays with different lengths or shapes) is deprecated. If you meant to do this, you must specify 'dtype=object' when creating the ndarray\n",
      "  veh_speed = np.array([(m['utime'], m['vel']) for m in self.veh_pose])\n",
      "/home/kfir/workspace/RadarLocalization/dataset.py:263: VisibleDeprecationWarning: Creating an ndarray from ragged nested sequences (which is a list-or-tuple of lists-or-tuples-or ndarrays with different lengths or shapes) is deprecated. If you meant to do this, you must specify 'dtype=object' when creating the ndarray\n",
      "  veh_speed = np.array([(m['utime'], m['vel']) for m in self.veh_pose])\n",
      "/home/kfir/workspace/RadarLocalization/dataset.py:263: VisibleDeprecationWarning: Creating an ndarray from ragged nested sequences (which is a list-or-tuple of lists-or-tuples-or ndarrays with different lengths or shapes) is deprecated. If you meant to do this, you must specify 'dtype=object' when creating the ndarray\n",
      "  veh_speed = np.array([(m['utime'], m['vel']) for m in self.veh_pose])\n",
      "/home/kfir/workspace/RadarLocalization/dataset.py:263: VisibleDeprecationWarning: Creating an ndarray from ragged nested sequences (which is a list-or-tuple of lists-or-tuples-or ndarrays with different lengths or shapes) is deprecated. If you meant to do this, you must specify 'dtype=object' when creating the ndarray\n",
      "  veh_speed = np.array([(m['utime'], m['vel']) for m in self.veh_pose])\n",
      "/home/kfir/workspace/RadarLocalization/dataset.py:263: VisibleDeprecationWarning: Creating an ndarray from ragged nested sequences (which is a list-or-tuple of lists-or-tuples-or ndarrays with different lengths or shapes) is deprecated. If you meant to do this, you must specify 'dtype=object' when creating the ndarray\n",
      "  veh_speed = np.array([(m['utime'], m['vel']) for m in self.veh_pose])\n",
      "/home/kfir/workspace/RadarLocalization/dataset.py:263: VisibleDeprecationWarning: Creating an ndarray from ragged nested sequences (which is a list-or-tuple of lists-or-tuples-or ndarrays with different lengths or shapes) is deprecated. If you meant to do this, you must specify 'dtype=object' when creating the ndarray\n",
      "  veh_speed = np.array([(m['utime'], m['vel']) for m in self.veh_pose])\n",
      "/home/kfir/workspace/RadarLocalization/dataset.py:263: VisibleDeprecationWarning: Creating an ndarray from ragged nested sequences (which is a list-or-tuple of lists-or-tuples-or ndarrays with different lengths or shapes) is deprecated. If you meant to do this, you must specify 'dtype=object' when creating the ndarray\n",
      "  veh_speed = np.array([(m['utime'], m['vel']) for m in self.veh_pose])\n",
      "/home/kfir/workspace/RadarLocalization/dataset.py:263: VisibleDeprecationWarning: Creating an ndarray from ragged nested sequences (which is a list-or-tuple of lists-or-tuples-or ndarrays with different lengths or shapes) is deprecated. If you meant to do this, you must specify 'dtype=object' when creating the ndarray\n",
      "  veh_speed = np.array([(m['utime'], m['vel']) for m in self.veh_pose])\n"
     ]
    },
    {
     "name": "stderr",
     "output_type": "stream",
     "text": [
      "/home/kfir/workspace/RadarLocalization/dataset.py:263: VisibleDeprecationWarning: Creating an ndarray from ragged nested sequences (which is a list-or-tuple of lists-or-tuples-or ndarrays with different lengths or shapes) is deprecated. If you meant to do this, you must specify 'dtype=object' when creating the ndarray\n",
      "  veh_speed = np.array([(m['utime'], m['vel']) for m in self.veh_pose])\n",
      "/home/kfir/workspace/RadarLocalization/dataset.py:263: VisibleDeprecationWarning: Creating an ndarray from ragged nested sequences (which is a list-or-tuple of lists-or-tuples-or ndarrays with different lengths or shapes) is deprecated. If you meant to do this, you must specify 'dtype=object' when creating the ndarray\n",
      "  veh_speed = np.array([(m['utime'], m['vel']) for m in self.veh_pose])\n",
      "/home/kfir/workspace/RadarLocalization/dataset.py:263: VisibleDeprecationWarning: Creating an ndarray from ragged nested sequences (which is a list-or-tuple of lists-or-tuples-or ndarrays with different lengths or shapes) is deprecated. If you meant to do this, you must specify 'dtype=object' when creating the ndarray\n",
      "  veh_speed = np.array([(m['utime'], m['vel']) for m in self.veh_pose])\n",
      "/home/kfir/workspace/RadarLocalization/dataset.py:263: VisibleDeprecationWarning: Creating an ndarray from ragged nested sequences (which is a list-or-tuple of lists-or-tuples-or ndarrays with different lengths or shapes) is deprecated. If you meant to do this, you must specify 'dtype=object' when creating the ndarray\n",
      "  veh_speed = np.array([(m['utime'], m['vel']) for m in self.veh_pose])\n",
      "/home/kfir/workspace/RadarLocalization/dataset.py:263: VisibleDeprecationWarning: Creating an ndarray from ragged nested sequences (which is a list-or-tuple of lists-or-tuples-or ndarrays with different lengths or shapes) is deprecated. If you meant to do this, you must specify 'dtype=object' when creating the ndarray\n",
      "  veh_speed = np.array([(m['utime'], m['vel']) for m in self.veh_pose])\n",
      "/home/kfir/workspace/RadarLocalization/dataset.py:263: VisibleDeprecationWarning: Creating an ndarray from ragged nested sequences (which is a list-or-tuple of lists-or-tuples-or ndarrays with different lengths or shapes) is deprecated. If you meant to do this, you must specify 'dtype=object' when creating the ndarray\n",
      "  veh_speed = np.array([(m['utime'], m['vel']) for m in self.veh_pose])\n",
      "/home/kfir/workspace/RadarLocalization/dataset.py:263: VisibleDeprecationWarning: Creating an ndarray from ragged nested sequences (which is a list-or-tuple of lists-or-tuples-or ndarrays with different lengths or shapes) is deprecated. If you meant to do this, you must specify 'dtype=object' when creating the ndarray\n",
      "  veh_speed = np.array([(m['utime'], m['vel']) for m in self.veh_pose])\n",
      "/home/kfir/workspace/RadarLocalization/dataset.py:263: VisibleDeprecationWarning: Creating an ndarray from ragged nested sequences (which is a list-or-tuple of lists-or-tuples-or ndarrays with different lengths or shapes) is deprecated. If you meant to do this, you must specify 'dtype=object' when creating the ndarray\n",
      "  veh_speed = np.array([(m['utime'], m['vel']) for m in self.veh_pose])\n",
      "/home/kfir/workspace/RadarLocalization/dataset.py:263: VisibleDeprecationWarning: Creating an ndarray from ragged nested sequences (which is a list-or-tuple of lists-or-tuples-or ndarrays with different lengths or shapes) is deprecated. If you meant to do this, you must specify 'dtype=object' when creating the ndarray\n",
      "  veh_speed = np.array([(m['utime'], m['vel']) for m in self.veh_pose])\n",
      "/home/kfir/workspace/RadarLocalization/dataset.py:263: VisibleDeprecationWarning: Creating an ndarray from ragged nested sequences (which is a list-or-tuple of lists-or-tuples-or ndarrays with different lengths or shapes) is deprecated. If you meant to do this, you must specify 'dtype=object' when creating the ndarray\n",
      "  veh_speed = np.array([(m['utime'], m['vel']) for m in self.veh_pose])\n",
      "/home/kfir/workspace/RadarLocalization/dataset.py:263: VisibleDeprecationWarning: Creating an ndarray from ragged nested sequences (which is a list-or-tuple of lists-or-tuples-or ndarrays with different lengths or shapes) is deprecated. If you meant to do this, you must specify 'dtype=object' when creating the ndarray\n",
      "  veh_speed = np.array([(m['utime'], m['vel']) for m in self.veh_pose])\n",
      "/home/kfir/workspace/RadarLocalization/dataset.py:263: VisibleDeprecationWarning: Creating an ndarray from ragged nested sequences (which is a list-or-tuple of lists-or-tuples-or ndarrays with different lengths or shapes) is deprecated. If you meant to do this, you must specify 'dtype=object' when creating the ndarray\n",
      "  veh_speed = np.array([(m['utime'], m['vel']) for m in self.veh_pose])\n",
      "/home/kfir/workspace/RadarLocalization/dataset.py:263: VisibleDeprecationWarning: Creating an ndarray from ragged nested sequences (which is a list-or-tuple of lists-or-tuples-or ndarrays with different lengths or shapes) is deprecated. If you meant to do this, you must specify 'dtype=object' when creating the ndarray\n",
      "  veh_speed = np.array([(m['utime'], m['vel']) for m in self.veh_pose])\n",
      "/home/kfir/workspace/RadarLocalization/dataset.py:263: VisibleDeprecationWarning: Creating an ndarray from ragged nested sequences (which is a list-or-tuple of lists-or-tuples-or ndarrays with different lengths or shapes) is deprecated. If you meant to do this, you must specify 'dtype=object' when creating the ndarray\n",
      "  veh_speed = np.array([(m['utime'], m['vel']) for m in self.veh_pose])\n",
      "/home/kfir/workspace/RadarLocalization/dataset.py:263: VisibleDeprecationWarning: Creating an ndarray from ragged nested sequences (which is a list-or-tuple of lists-or-tuples-or ndarrays with different lengths or shapes) is deprecated. If you meant to do this, you must specify 'dtype=object' when creating the ndarray\n",
      "  veh_speed = np.array([(m['utime'], m['vel']) for m in self.veh_pose])\n",
      "/home/kfir/workspace/RadarLocalization/dataset.py:263: VisibleDeprecationWarning: Creating an ndarray from ragged nested sequences (which is a list-or-tuple of lists-or-tuples-or ndarrays with different lengths or shapes) is deprecated. If you meant to do this, you must specify 'dtype=object' when creating the ndarray\n",
      "  veh_speed = np.array([(m['utime'], m['vel']) for m in self.veh_pose])\n",
      "/home/kfir/workspace/RadarLocalization/dataset.py:263: VisibleDeprecationWarning: Creating an ndarray from ragged nested sequences (which is a list-or-tuple of lists-or-tuples-or ndarrays with different lengths or shapes) is deprecated. If you meant to do this, you must specify 'dtype=object' when creating the ndarray\n",
      "  veh_speed = np.array([(m['utime'], m['vel']) for m in self.veh_pose])\n",
      "/home/kfir/workspace/RadarLocalization/dataset.py:263: VisibleDeprecationWarning: Creating an ndarray from ragged nested sequences (which is a list-or-tuple of lists-or-tuples-or ndarrays with different lengths or shapes) is deprecated. If you meant to do this, you must specify 'dtype=object' when creating the ndarray\n",
      "  veh_speed = np.array([(m['utime'], m['vel']) for m in self.veh_pose])\n",
      "/home/kfir/workspace/RadarLocalization/dataset.py:263: VisibleDeprecationWarning: Creating an ndarray from ragged nested sequences (which is a list-or-tuple of lists-or-tuples-or ndarrays with different lengths or shapes) is deprecated. If you meant to do this, you must specify 'dtype=object' when creating the ndarray\n",
      "  veh_speed = np.array([(m['utime'], m['vel']) for m in self.veh_pose])\n",
      "/home/kfir/workspace/RadarLocalization/dataset.py:263: VisibleDeprecationWarning: Creating an ndarray from ragged nested sequences (which is a list-or-tuple of lists-or-tuples-or ndarrays with different lengths or shapes) is deprecated. If you meant to do this, you must specify 'dtype=object' when creating the ndarray\n",
      "  veh_speed = np.array([(m['utime'], m['vel']) for m in self.veh_pose])\n",
      "/home/kfir/workspace/RadarLocalization/dataset.py:263: VisibleDeprecationWarning: Creating an ndarray from ragged nested sequences (which is a list-or-tuple of lists-or-tuples-or ndarrays with different lengths or shapes) is deprecated. If you meant to do this, you must specify 'dtype=object' when creating the ndarray\n",
      "  veh_speed = np.array([(m['utime'], m['vel']) for m in self.veh_pose])\n"
     ]
    },
    {
     "name": "stderr",
     "output_type": "stream",
     "text": [
      "/home/kfir/workspace/RadarLocalization/dataset.py:263: VisibleDeprecationWarning: Creating an ndarray from ragged nested sequences (which is a list-or-tuple of lists-or-tuples-or ndarrays with different lengths or shapes) is deprecated. If you meant to do this, you must specify 'dtype=object' when creating the ndarray\n",
      "  veh_speed = np.array([(m['utime'], m['vel']) for m in self.veh_pose])\n",
      "/home/kfir/workspace/RadarLocalization/dataset.py:263: VisibleDeprecationWarning: Creating an ndarray from ragged nested sequences (which is a list-or-tuple of lists-or-tuples-or ndarrays with different lengths or shapes) is deprecated. If you meant to do this, you must specify 'dtype=object' when creating the ndarray\n",
      "  veh_speed = np.array([(m['utime'], m['vel']) for m in self.veh_pose])\n",
      "/home/kfir/workspace/RadarLocalization/dataset.py:263: VisibleDeprecationWarning: Creating an ndarray from ragged nested sequences (which is a list-or-tuple of lists-or-tuples-or ndarrays with different lengths or shapes) is deprecated. If you meant to do this, you must specify 'dtype=object' when creating the ndarray\n",
      "  veh_speed = np.array([(m['utime'], m['vel']) for m in self.veh_pose])\n",
      "/home/kfir/workspace/RadarLocalization/dataset.py:263: VisibleDeprecationWarning: Creating an ndarray from ragged nested sequences (which is a list-or-tuple of lists-or-tuples-or ndarrays with different lengths or shapes) is deprecated. If you meant to do this, you must specify 'dtype=object' when creating the ndarray\n",
      "  veh_speed = np.array([(m['utime'], m['vel']) for m in self.veh_pose])\n",
      "/home/kfir/workspace/RadarLocalization/dataset.py:263: VisibleDeprecationWarning: Creating an ndarray from ragged nested sequences (which is a list-or-tuple of lists-or-tuples-or ndarrays with different lengths or shapes) is deprecated. If you meant to do this, you must specify 'dtype=object' when creating the ndarray\n",
      "  veh_speed = np.array([(m['utime'], m['vel']) for m in self.veh_pose])\n",
      "/home/kfir/workspace/RadarLocalization/dataset.py:263: VisibleDeprecationWarning: Creating an ndarray from ragged nested sequences (which is a list-or-tuple of lists-or-tuples-or ndarrays with different lengths or shapes) is deprecated. If you meant to do this, you must specify 'dtype=object' when creating the ndarray\n",
      "  veh_speed = np.array([(m['utime'], m['vel']) for m in self.veh_pose])\n",
      "/home/kfir/workspace/RadarLocalization/dataset.py:263: VisibleDeprecationWarning: Creating an ndarray from ragged nested sequences (which is a list-or-tuple of lists-or-tuples-or ndarrays with different lengths or shapes) is deprecated. If you meant to do this, you must specify 'dtype=object' when creating the ndarray\n",
      "  veh_speed = np.array([(m['utime'], m['vel']) for m in self.veh_pose])\n",
      "/home/kfir/workspace/RadarLocalization/dataset.py:263: VisibleDeprecationWarning: Creating an ndarray from ragged nested sequences (which is a list-or-tuple of lists-or-tuples-or ndarrays with different lengths or shapes) is deprecated. If you meant to do this, you must specify 'dtype=object' when creating the ndarray\n",
      "  veh_speed = np.array([(m['utime'], m['vel']) for m in self.veh_pose])\n",
      "/home/kfir/workspace/RadarLocalization/dataset.py:263: VisibleDeprecationWarning: Creating an ndarray from ragged nested sequences (which is a list-or-tuple of lists-or-tuples-or ndarrays with different lengths or shapes) is deprecated. If you meant to do this, you must specify 'dtype=object' when creating the ndarray\n",
      "  veh_speed = np.array([(m['utime'], m['vel']) for m in self.veh_pose])\n",
      "/home/kfir/workspace/RadarLocalization/dataset.py:263: VisibleDeprecationWarning: Creating an ndarray from ragged nested sequences (which is a list-or-tuple of lists-or-tuples-or ndarrays with different lengths or shapes) is deprecated. If you meant to do this, you must specify 'dtype=object' when creating the ndarray\n",
      "  veh_speed = np.array([(m['utime'], m['vel']) for m in self.veh_pose])\n",
      "/home/kfir/workspace/RadarLocalization/dataset.py:263: VisibleDeprecationWarning: Creating an ndarray from ragged nested sequences (which is a list-or-tuple of lists-or-tuples-or ndarrays with different lengths or shapes) is deprecated. If you meant to do this, you must specify 'dtype=object' when creating the ndarray\n",
      "  veh_speed = np.array([(m['utime'], m['vel']) for m in self.veh_pose])\n",
      "/home/kfir/workspace/RadarLocalization/dataset.py:263: VisibleDeprecationWarning: Creating an ndarray from ragged nested sequences (which is a list-or-tuple of lists-or-tuples-or ndarrays with different lengths or shapes) is deprecated. If you meant to do this, you must specify 'dtype=object' when creating the ndarray\n",
      "  veh_speed = np.array([(m['utime'], m['vel']) for m in self.veh_pose])\n",
      "/home/kfir/workspace/RadarLocalization/dataset.py:263: VisibleDeprecationWarning: Creating an ndarray from ragged nested sequences (which is a list-or-tuple of lists-or-tuples-or ndarrays with different lengths or shapes) is deprecated. If you meant to do this, you must specify 'dtype=object' when creating the ndarray\n",
      "  veh_speed = np.array([(m['utime'], m['vel']) for m in self.veh_pose])\n",
      "/home/kfir/workspace/RadarLocalization/dataset.py:263: VisibleDeprecationWarning: Creating an ndarray from ragged nested sequences (which is a list-or-tuple of lists-or-tuples-or ndarrays with different lengths or shapes) is deprecated. If you meant to do this, you must specify 'dtype=object' when creating the ndarray\n",
      "  veh_speed = np.array([(m['utime'], m['vel']) for m in self.veh_pose])\n",
      "/home/kfir/workspace/RadarLocalization/dataset.py:263: VisibleDeprecationWarning: Creating an ndarray from ragged nested sequences (which is a list-or-tuple of lists-or-tuples-or ndarrays with different lengths or shapes) is deprecated. If you meant to do this, you must specify 'dtype=object' when creating the ndarray\n",
      "  veh_speed = np.array([(m['utime'], m['vel']) for m in self.veh_pose])\n",
      "/home/kfir/workspace/RadarLocalization/dataset.py:263: VisibleDeprecationWarning: Creating an ndarray from ragged nested sequences (which is a list-or-tuple of lists-or-tuples-or ndarrays with different lengths or shapes) is deprecated. If you meant to do this, you must specify 'dtype=object' when creating the ndarray\n",
      "  veh_speed = np.array([(m['utime'], m['vel']) for m in self.veh_pose])\n",
      "/home/kfir/workspace/RadarLocalization/dataset.py:263: VisibleDeprecationWarning: Creating an ndarray from ragged nested sequences (which is a list-or-tuple of lists-or-tuples-or ndarrays with different lengths or shapes) is deprecated. If you meant to do this, you must specify 'dtype=object' when creating the ndarray\n",
      "  veh_speed = np.array([(m['utime'], m['vel']) for m in self.veh_pose])\n",
      "/home/kfir/workspace/RadarLocalization/dataset.py:263: VisibleDeprecationWarning: Creating an ndarray from ragged nested sequences (which is a list-or-tuple of lists-or-tuples-or ndarrays with different lengths or shapes) is deprecated. If you meant to do this, you must specify 'dtype=object' when creating the ndarray\n",
      "  veh_speed = np.array([(m['utime'], m['vel']) for m in self.veh_pose])\n",
      "/home/kfir/workspace/RadarLocalization/dataset.py:263: VisibleDeprecationWarning: Creating an ndarray from ragged nested sequences (which is a list-or-tuple of lists-or-tuples-or ndarrays with different lengths or shapes) is deprecated. If you meant to do this, you must specify 'dtype=object' when creating the ndarray\n",
      "  veh_speed = np.array([(m['utime'], m['vel']) for m in self.veh_pose])\n",
      "/home/kfir/workspace/RadarLocalization/dataset.py:263: VisibleDeprecationWarning: Creating an ndarray from ragged nested sequences (which is a list-or-tuple of lists-or-tuples-or ndarrays with different lengths or shapes) is deprecated. If you meant to do this, you must specify 'dtype=object' when creating the ndarray\n",
      "  veh_speed = np.array([(m['utime'], m['vel']) for m in self.veh_pose])\n",
      "/home/kfir/workspace/RadarLocalization/dataset.py:263: VisibleDeprecationWarning: Creating an ndarray from ragged nested sequences (which is a list-or-tuple of lists-or-tuples-or ndarrays with different lengths or shapes) is deprecated. If you meant to do this, you must specify 'dtype=object' when creating the ndarray\n",
      "  veh_speed = np.array([(m['utime'], m['vel']) for m in self.veh_pose])\n"
     ]
    },
    {
     "name": "stderr",
     "output_type": "stream",
     "text": [
      "/home/kfir/workspace/RadarLocalization/dataset.py:263: VisibleDeprecationWarning: Creating an ndarray from ragged nested sequences (which is a list-or-tuple of lists-or-tuples-or ndarrays with different lengths or shapes) is deprecated. If you meant to do this, you must specify 'dtype=object' when creating the ndarray\n",
      "  veh_speed = np.array([(m['utime'], m['vel']) for m in self.veh_pose])\n",
      "/home/kfir/workspace/RadarLocalization/dataset.py:263: VisibleDeprecationWarning: Creating an ndarray from ragged nested sequences (which is a list-or-tuple of lists-or-tuples-or ndarrays with different lengths or shapes) is deprecated. If you meant to do this, you must specify 'dtype=object' when creating the ndarray\n",
      "  veh_speed = np.array([(m['utime'], m['vel']) for m in self.veh_pose])\n",
      "/home/kfir/workspace/RadarLocalization/dataset.py:263: VisibleDeprecationWarning: Creating an ndarray from ragged nested sequences (which is a list-or-tuple of lists-or-tuples-or ndarrays with different lengths or shapes) is deprecated. If you meant to do this, you must specify 'dtype=object' when creating the ndarray\n",
      "  veh_speed = np.array([(m['utime'], m['vel']) for m in self.veh_pose])\n",
      "/home/kfir/workspace/RadarLocalization/dataset.py:263: VisibleDeprecationWarning: Creating an ndarray from ragged nested sequences (which is a list-or-tuple of lists-or-tuples-or ndarrays with different lengths or shapes) is deprecated. If you meant to do this, you must specify 'dtype=object' when creating the ndarray\n",
      "  veh_speed = np.array([(m['utime'], m['vel']) for m in self.veh_pose])\n",
      "/home/kfir/workspace/RadarLocalization/dataset.py:263: VisibleDeprecationWarning: Creating an ndarray from ragged nested sequences (which is a list-or-tuple of lists-or-tuples-or ndarrays with different lengths or shapes) is deprecated. If you meant to do this, you must specify 'dtype=object' when creating the ndarray\n",
      "  veh_speed = np.array([(m['utime'], m['vel']) for m in self.veh_pose])\n",
      "/home/kfir/workspace/RadarLocalization/dataset.py:263: VisibleDeprecationWarning: Creating an ndarray from ragged nested sequences (which is a list-or-tuple of lists-or-tuples-or ndarrays with different lengths or shapes) is deprecated. If you meant to do this, you must specify 'dtype=object' when creating the ndarray\n",
      "  veh_speed = np.array([(m['utime'], m['vel']) for m in self.veh_pose])\n",
      "/home/kfir/workspace/RadarLocalization/dataset.py:263: VisibleDeprecationWarning: Creating an ndarray from ragged nested sequences (which is a list-or-tuple of lists-or-tuples-or ndarrays with different lengths or shapes) is deprecated. If you meant to do this, you must specify 'dtype=object' when creating the ndarray\n",
      "  veh_speed = np.array([(m['utime'], m['vel']) for m in self.veh_pose])\n",
      "/home/kfir/workspace/RadarLocalization/dataset.py:263: VisibleDeprecationWarning: Creating an ndarray from ragged nested sequences (which is a list-or-tuple of lists-or-tuples-or ndarrays with different lengths or shapes) is deprecated. If you meant to do this, you must specify 'dtype=object' when creating the ndarray\n",
      "  veh_speed = np.array([(m['utime'], m['vel']) for m in self.veh_pose])\n",
      "/home/kfir/workspace/RadarLocalization/dataset.py:263: VisibleDeprecationWarning: Creating an ndarray from ragged nested sequences (which is a list-or-tuple of lists-or-tuples-or ndarrays with different lengths or shapes) is deprecated. If you meant to do this, you must specify 'dtype=object' when creating the ndarray\n",
      "  veh_speed = np.array([(m['utime'], m['vel']) for m in self.veh_pose])\n",
      "/home/kfir/workspace/RadarLocalization/dataset.py:263: VisibleDeprecationWarning: Creating an ndarray from ragged nested sequences (which is a list-or-tuple of lists-or-tuples-or ndarrays with different lengths or shapes) is deprecated. If you meant to do this, you must specify 'dtype=object' when creating the ndarray\n",
      "  veh_speed = np.array([(m['utime'], m['vel']) for m in self.veh_pose])\n",
      "/home/kfir/workspace/RadarLocalization/dataset.py:263: VisibleDeprecationWarning: Creating an ndarray from ragged nested sequences (which is a list-or-tuple of lists-or-tuples-or ndarrays with different lengths or shapes) is deprecated. If you meant to do this, you must specify 'dtype=object' when creating the ndarray\n",
      "  veh_speed = np.array([(m['utime'], m['vel']) for m in self.veh_pose])\n",
      "/home/kfir/workspace/RadarLocalization/dataset.py:263: VisibleDeprecationWarning: Creating an ndarray from ragged nested sequences (which is a list-or-tuple of lists-or-tuples-or ndarrays with different lengths or shapes) is deprecated. If you meant to do this, you must specify 'dtype=object' when creating the ndarray\n",
      "  veh_speed = np.array([(m['utime'], m['vel']) for m in self.veh_pose])\n",
      "/home/kfir/workspace/RadarLocalization/dataset.py:263: VisibleDeprecationWarning: Creating an ndarray from ragged nested sequences (which is a list-or-tuple of lists-or-tuples-or ndarrays with different lengths or shapes) is deprecated. If you meant to do this, you must specify 'dtype=object' when creating the ndarray\n",
      "  veh_speed = np.array([(m['utime'], m['vel']) for m in self.veh_pose])\n",
      "/home/kfir/workspace/RadarLocalization/dataset.py:263: VisibleDeprecationWarning: Creating an ndarray from ragged nested sequences (which is a list-or-tuple of lists-or-tuples-or ndarrays with different lengths or shapes) is deprecated. If you meant to do this, you must specify 'dtype=object' when creating the ndarray\n",
      "  veh_speed = np.array([(m['utime'], m['vel']) for m in self.veh_pose])\n",
      "/home/kfir/workspace/RadarLocalization/dataset.py:263: VisibleDeprecationWarning: Creating an ndarray from ragged nested sequences (which is a list-or-tuple of lists-or-tuples-or ndarrays with different lengths or shapes) is deprecated. If you meant to do this, you must specify 'dtype=object' when creating the ndarray\n",
      "  veh_speed = np.array([(m['utime'], m['vel']) for m in self.veh_pose])\n",
      "/home/kfir/workspace/RadarLocalization/dataset.py:263: VisibleDeprecationWarning: Creating an ndarray from ragged nested sequences (which is a list-or-tuple of lists-or-tuples-or ndarrays with different lengths or shapes) is deprecated. If you meant to do this, you must specify 'dtype=object' when creating the ndarray\n",
      "  veh_speed = np.array([(m['utime'], m['vel']) for m in self.veh_pose])\n",
      "/home/kfir/workspace/RadarLocalization/dataset.py:263: VisibleDeprecationWarning: Creating an ndarray from ragged nested sequences (which is a list-or-tuple of lists-or-tuples-or ndarrays with different lengths or shapes) is deprecated. If you meant to do this, you must specify 'dtype=object' when creating the ndarray\n",
      "  veh_speed = np.array([(m['utime'], m['vel']) for m in self.veh_pose])\n",
      "/home/kfir/workspace/RadarLocalization/dataset.py:263: VisibleDeprecationWarning: Creating an ndarray from ragged nested sequences (which is a list-or-tuple of lists-or-tuples-or ndarrays with different lengths or shapes) is deprecated. If you meant to do this, you must specify 'dtype=object' when creating the ndarray\n",
      "  veh_speed = np.array([(m['utime'], m['vel']) for m in self.veh_pose])\n",
      "/home/kfir/workspace/RadarLocalization/dataset.py:263: VisibleDeprecationWarning: Creating an ndarray from ragged nested sequences (which is a list-or-tuple of lists-or-tuples-or ndarrays with different lengths or shapes) is deprecated. If you meant to do this, you must specify 'dtype=object' when creating the ndarray\n",
      "  veh_speed = np.array([(m['utime'], m['vel']) for m in self.veh_pose])\n",
      "/home/kfir/workspace/RadarLocalization/dataset.py:263: VisibleDeprecationWarning: Creating an ndarray from ragged nested sequences (which is a list-or-tuple of lists-or-tuples-or ndarrays with different lengths or shapes) is deprecated. If you meant to do this, you must specify 'dtype=object' when creating the ndarray\n",
      "  veh_speed = np.array([(m['utime'], m['vel']) for m in self.veh_pose])\n",
      "/home/kfir/workspace/RadarLocalization/dataset.py:263: VisibleDeprecationWarning: Creating an ndarray from ragged nested sequences (which is a list-or-tuple of lists-or-tuples-or ndarrays with different lengths or shapes) is deprecated. If you meant to do this, you must specify 'dtype=object' when creating the ndarray\n",
      "  veh_speed = np.array([(m['utime'], m['vel']) for m in self.veh_pose])\n"
     ]
    },
    {
     "name": "stderr",
     "output_type": "stream",
     "text": [
      "/home/kfir/workspace/RadarLocalization/dataset.py:263: VisibleDeprecationWarning: Creating an ndarray from ragged nested sequences (which is a list-or-tuple of lists-or-tuples-or ndarrays with different lengths or shapes) is deprecated. If you meant to do this, you must specify 'dtype=object' when creating the ndarray\n",
      "  veh_speed = np.array([(m['utime'], m['vel']) for m in self.veh_pose])\n",
      "/home/kfir/workspace/RadarLocalization/dataset.py:263: VisibleDeprecationWarning: Creating an ndarray from ragged nested sequences (which is a list-or-tuple of lists-or-tuples-or ndarrays with different lengths or shapes) is deprecated. If you meant to do this, you must specify 'dtype=object' when creating the ndarray\n",
      "  veh_speed = np.array([(m['utime'], m['vel']) for m in self.veh_pose])\n",
      "/home/kfir/workspace/RadarLocalization/dataset.py:263: VisibleDeprecationWarning: Creating an ndarray from ragged nested sequences (which is a list-or-tuple of lists-or-tuples-or ndarrays with different lengths or shapes) is deprecated. If you meant to do this, you must specify 'dtype=object' when creating the ndarray\n",
      "  veh_speed = np.array([(m['utime'], m['vel']) for m in self.veh_pose])\n",
      "/home/kfir/workspace/RadarLocalization/dataset.py:263: VisibleDeprecationWarning: Creating an ndarray from ragged nested sequences (which is a list-or-tuple of lists-or-tuples-or ndarrays with different lengths or shapes) is deprecated. If you meant to do this, you must specify 'dtype=object' when creating the ndarray\n",
      "  veh_speed = np.array([(m['utime'], m['vel']) for m in self.veh_pose])\n",
      "/home/kfir/workspace/RadarLocalization/dataset.py:263: VisibleDeprecationWarning: Creating an ndarray from ragged nested sequences (which is a list-or-tuple of lists-or-tuples-or ndarrays with different lengths or shapes) is deprecated. If you meant to do this, you must specify 'dtype=object' when creating the ndarray\n",
      "  veh_speed = np.array([(m['utime'], m['vel']) for m in self.veh_pose])\n",
      "/home/kfir/workspace/RadarLocalization/dataset.py:263: VisibleDeprecationWarning: Creating an ndarray from ragged nested sequences (which is a list-or-tuple of lists-or-tuples-or ndarrays with different lengths or shapes) is deprecated. If you meant to do this, you must specify 'dtype=object' when creating the ndarray\n",
      "  veh_speed = np.array([(m['utime'], m['vel']) for m in self.veh_pose])\n",
      "/home/kfir/workspace/RadarLocalization/dataset.py:263: VisibleDeprecationWarning: Creating an ndarray from ragged nested sequences (which is a list-or-tuple of lists-or-tuples-or ndarrays with different lengths or shapes) is deprecated. If you meant to do this, you must specify 'dtype=object' when creating the ndarray\n",
      "  veh_speed = np.array([(m['utime'], m['vel']) for m in self.veh_pose])\n",
      "/home/kfir/workspace/RadarLocalization/dataset.py:263: VisibleDeprecationWarning: Creating an ndarray from ragged nested sequences (which is a list-or-tuple of lists-or-tuples-or ndarrays with different lengths or shapes) is deprecated. If you meant to do this, you must specify 'dtype=object' when creating the ndarray\n",
      "  veh_speed = np.array([(m['utime'], m['vel']) for m in self.veh_pose])\n",
      "/home/kfir/workspace/RadarLocalization/dataset.py:263: VisibleDeprecationWarning: Creating an ndarray from ragged nested sequences (which is a list-or-tuple of lists-or-tuples-or ndarrays with different lengths or shapes) is deprecated. If you meant to do this, you must specify 'dtype=object' when creating the ndarray\n",
      "  veh_speed = np.array([(m['utime'], m['vel']) for m in self.veh_pose])\n",
      "/home/kfir/workspace/RadarLocalization/dataset.py:263: VisibleDeprecationWarning: Creating an ndarray from ragged nested sequences (which is a list-or-tuple of lists-or-tuples-or ndarrays with different lengths or shapes) is deprecated. If you meant to do this, you must specify 'dtype=object' when creating the ndarray\n",
      "  veh_speed = np.array([(m['utime'], m['vel']) for m in self.veh_pose])\n",
      "/home/kfir/workspace/RadarLocalization/dataset.py:263: VisibleDeprecationWarning: Creating an ndarray from ragged nested sequences (which is a list-or-tuple of lists-or-tuples-or ndarrays with different lengths or shapes) is deprecated. If you meant to do this, you must specify 'dtype=object' when creating the ndarray\n",
      "  veh_speed = np.array([(m['utime'], m['vel']) for m in self.veh_pose])\n",
      "/home/kfir/workspace/RadarLocalization/dataset.py:263: VisibleDeprecationWarning: Creating an ndarray from ragged nested sequences (which is a list-or-tuple of lists-or-tuples-or ndarrays with different lengths or shapes) is deprecated. If you meant to do this, you must specify 'dtype=object' when creating the ndarray\n",
      "  veh_speed = np.array([(m['utime'], m['vel']) for m in self.veh_pose])\n",
      "/home/kfir/workspace/RadarLocalization/dataset.py:263: VisibleDeprecationWarning: Creating an ndarray from ragged nested sequences (which is a list-or-tuple of lists-or-tuples-or ndarrays with different lengths or shapes) is deprecated. If you meant to do this, you must specify 'dtype=object' when creating the ndarray\n",
      "  veh_speed = np.array([(m['utime'], m['vel']) for m in self.veh_pose])\n",
      "/home/kfir/workspace/RadarLocalization/dataset.py:263: VisibleDeprecationWarning: Creating an ndarray from ragged nested sequences (which is a list-or-tuple of lists-or-tuples-or ndarrays with different lengths or shapes) is deprecated. If you meant to do this, you must specify 'dtype=object' when creating the ndarray\n",
      "  veh_speed = np.array([(m['utime'], m['vel']) for m in self.veh_pose])\n",
      "/home/kfir/workspace/RadarLocalization/dataset.py:263: VisibleDeprecationWarning: Creating an ndarray from ragged nested sequences (which is a list-or-tuple of lists-or-tuples-or ndarrays with different lengths or shapes) is deprecated. If you meant to do this, you must specify 'dtype=object' when creating the ndarray\n",
      "  veh_speed = np.array([(m['utime'], m['vel']) for m in self.veh_pose])\n",
      "/home/kfir/workspace/RadarLocalization/dataset.py:263: VisibleDeprecationWarning: Creating an ndarray from ragged nested sequences (which is a list-or-tuple of lists-or-tuples-or ndarrays with different lengths or shapes) is deprecated. If you meant to do this, you must specify 'dtype=object' when creating the ndarray\n",
      "  veh_speed = np.array([(m['utime'], m['vel']) for m in self.veh_pose])\n",
      "/home/kfir/workspace/RadarLocalization/dataset.py:263: VisibleDeprecationWarning: Creating an ndarray from ragged nested sequences (which is a list-or-tuple of lists-or-tuples-or ndarrays with different lengths or shapes) is deprecated. If you meant to do this, you must specify 'dtype=object' when creating the ndarray\n",
      "  veh_speed = np.array([(m['utime'], m['vel']) for m in self.veh_pose])\n"
     ]
    },
    {
     "data": {
      "image/png": "[encoded data removed]",
      "text/plain": [
       "<matplotlib.figure.Figure at 0x7fe8f7d4b898>"
      ]
     },
     "metadata": {
      "needs_background": "light"
     },
     "output_type": "display_data"
    }
   ],
   "source": [
    "fig, ax = plt.subplots(1,1,figsize=(15,10))\n",
    "colors = ['blue','orange','green','red','black','pink','yellow','purple',\"brown\",\"firebrick\",\"coral\",\"lime\",\n",
    "                      \"wheat\", \"yellowgreen\", \"lightyellow\", \"skyblue\", \"cyan\", \"chocolate\", \"maroon\", \"peru\", \"blueviolet\"]\n",
    "\n",
    "start_frame = 0\n",
    "n_frames = 800\n",
    "ego_path = dataset.getEgoPath()\n",
    "ax.plot(ego_path[start_frame:n_frames,0], ego_path[start_frame:n_frames,1])\n",
    "model = ClassicDBSCAN(eps=3, min_samples=2)\n",
    "for t in range(start_frame,n_frames):\n",
    "    pc, ts, heading, speed = dataset.getDynamicPoints(t)\n",
    "    if pc.shape[0] < 1:\n",
    "        continue\n",
    "    \n",
    "    Z, X = model.run(pc=pc, ego=ego_path[t], heading=heading)\n",
    "    for z,x in zip(Z,X):\n",
    "        vr = z[2]\n",
    "        x_com = x[0]\n",
    "        y_com = x[1]\n",
    "        v_towards = 0 if vr > 0 else 1\n",
    "        ax.scatter(x_com, y_com, s=10, c=colors[v_towards])\n",
    "        \n",
    "ax.set_title(f\"Dynamic detections scene={scene_id}\", fontsize=20)\n",
    "ax.set(xlabel='x [m]', ylabel='y [m]')\n",
    "ax.legend(['Ego', 'incoming','outgoing'])\n",
    "leg = ax.get_legend()\n",
    "#leg.legendHandles[0].set_color('red')\n",
    "leg.legendHandles[1].set_color('orange')\n",
    "leg.legendHandles[2].set_color('blue')"
   ]
  },
  {
   "cell_type": "code",
   "execution_count": 42,
   "id": "3334ed36",
   "metadata": {},
   "outputs": [
    {
     "name": "stderr",
     "output_type": "stream",
     "text": [
      "/home/kfir/workspace/RadarLocalization/dataset.py:263: VisibleDeprecationWarning: Creating an ndarray from ragged nested sequences (which is a list-or-tuple of lists-or-tuples-or ndarrays with different lengths or shapes) is deprecated. If you meant to do this, you must specify 'dtype=object' when creating the ndarray\n",
      "  veh_speed = np.array([(m['utime'], m['vel']) for m in self.veh_pose])\n"
     ]
    },
    {
     "name": "stdout",
     "output_type": "stream",
     "text": [
      "frame_idx = 1\n",
      "Number of new plots 2\n",
      "Number of dynamic tracks before run() 0\n",
      "Initiating new track: x=[[7.62498588]\n",
      " [2.67594329]\n",
      " [1.17947535]\n",
      " [0.41392983]] for measurement z=[8.0809085  0.33751558 1.25      ]\n",
      "Initiating new track: x=[[7.62498588]\n",
      " [2.67594329]\n",
      " [1.17947535]\n",
      " [0.41392983]] for measurement z=[8.0809085  0.33751558 1.25      ]\n",
      "trk.kf.x = [[7.62498588]\n",
      " [2.67594329]\n",
      " [1.17947535]\n",
      " [0.41392983]] age = 1 hits = 1\n",
      "trk.kf.x = [[7.62498588]\n",
      " [2.67594329]\n",
      " [1.17947535]\n",
      " [0.41392983]] age = 1 hits = 1\n"
     ]
    },
    {
     "name": "stderr",
     "output_type": "stream",
     "text": [
      "/home/kfir/workspace/RadarLocalization/dataset.py:263: VisibleDeprecationWarning: Creating an ndarray from ragged nested sequences (which is a list-or-tuple of lists-or-tuples-or ndarrays with different lengths or shapes) is deprecated. If you meant to do this, you must specify 'dtype=object' when creating the ndarray\n",
      "  veh_speed = np.array([(m['utime'], m['vel']) for m in self.veh_pose])\n"
     ]
    },
    {
     "name": "stdout",
     "output_type": "stream",
     "text": [
      "frame_idx = 2\n",
      "Number of new plots 1\n",
      "Number of dynamic tracks before run() 2\n",
      "Initiating new track: x=[[19.62331081]\n",
      " [ 2.27141077]\n",
      " [ 1.98673494]\n",
      " [ 0.22996584]] for measurement z=[19.75433203  0.11523781  2.        ]\n",
      "trk.kf.x = [[7.70915563]\n",
      " [2.70883855]\n",
      " [1.12796487]\n",
      " [0.41419036]] age = 2 hits = 1\n",
      "trk.kf.x = [[7.70915563]\n",
      " [2.70883855]\n",
      " [1.12796487]\n",
      " [0.41419036]] age = 2 hits = 1\n",
      "trk.kf.x = [[19.62331081]\n",
      " [ 2.27141077]\n",
      " [ 1.98673494]\n",
      " [ 0.22996584]] age = 1 hits = 1\n"
     ]
    },
    {
     "name": "stderr",
     "output_type": "stream",
     "text": [
      "/home/kfir/workspace/RadarLocalization/dataset.py:263: VisibleDeprecationWarning: Creating an ndarray from ragged nested sequences (which is a list-or-tuple of lists-or-tuples-or ndarrays with different lengths or shapes) is deprecated. If you meant to do this, you must specify 'dtype=object' when creating the ndarray\n",
      "  veh_speed = np.array([(m['utime'], m['vel']) for m in self.veh_pose])\n"
     ]
    },
    {
     "name": "stdout",
     "output_type": "stream",
     "text": [
      "frame_idx = 3\n",
      "Number of new plots 2\n",
      "Number of dynamic tracks before run() 3\n",
      "Initiating new track: x=[[ 18.94481003]\n",
      " [-14.97494601]\n",
      " [  2.15740166]\n",
      " [ -1.70532052]] for measurement z=[24.14859903 -0.66889126  2.75      ]\n",
      "trk.kf.x = [[7.78656976]\n",
      " [2.74517914]\n",
      " [1.05719567]\n",
      " [0.41490854]] age = 3 hits = 1\n",
      "trk.kf.x = [[7.78656976]\n",
      " [2.74517914]\n",
      " [1.05719567]\n",
      " [0.41490854]] age = 3 hits = 1\n",
      "trk.kf.x = [[19.84215193]\n",
      " [ 2.32961479]\n",
      " [ 2.01175804]\n",
      " [ 0.24276665]] age = 2 hits = 2\n",
      "trk.kf.x = [[ 18.94481003]\n",
      " [-14.97494601]\n",
      " [  2.15740166]\n",
      " [ -1.70532052]] age = 1 hits = 1\n"
     ]
    },
    {
     "name": "stderr",
     "output_type": "stream",
     "text": [
      "/home/kfir/workspace/RadarLocalization/dataset.py:263: VisibleDeprecationWarning: Creating an ndarray from ragged nested sequences (which is a list-or-tuple of lists-or-tuples-or ndarrays with different lengths or shapes) is deprecated. If you meant to do this, you must specify 'dtype=object' when creating the ndarray\n",
      "  veh_speed = np.array([(m['utime'], m['vel']) for m in self.veh_pose])\n"
     ]
    },
    {
     "name": "stdout",
     "output_type": "stream",
     "text": [
      "frame_idx = 4\n",
      "Number of new plots 2\n",
      "Number of dynamic tracks before run() 4\n",
      "Initiating new track: x=[[9.85689625]\n",
      " [9.66514604]\n",
      " [1.249531  ]\n",
      " [1.22522336]] for measurement z=[13.80483436  0.77557624  1.75      ]\n",
      "Initiating new track: x=[[20.5489798 ]\n",
      " [ 0.58371769]\n",
      " [ 2.99879037]\n",
      " [ 0.08518413]] for measurement z=[20.55726872  0.02839853  3.        ]\n",
      "trk.kf.x = [[7.8591533 ]\n",
      " [2.7803292 ]\n",
      " [0.98732537]\n",
      " [0.41541768]] age = 4 hits = 1\n",
      "trk.kf.x = [[7.8591533 ]\n",
      " [2.7803292 ]\n",
      " [0.98732537]\n",
      " [0.41541768]] age = 4 hits = 1\n",
      "trk.kf.x = [[19.98649924]\n",
      " [ 2.3581158 ]\n",
      " [ 1.94197637]\n",
      " [ 0.243768  ]] age = 3 hits = 2\n",
      "trk.kf.x = [[ 19.10907122]\n",
      " [-15.09290886]\n",
      " [  2.08862443]\n",
      " [ -1.70424382]] age = 2 hits = 1\n",
      "trk.kf.x = [[9.85689625]\n",
      " [9.66514604]\n",
      " [1.249531  ]\n",
      " [1.22522336]] age = 1 hits = 1\n",
      "trk.kf.x = [[20.5489798 ]\n",
      " [ 0.58371769]\n",
      " [ 2.99879037]\n",
      " [ 0.08518413]] age = 1 hits = 1\n"
     ]
    },
    {
     "name": "stderr",
     "output_type": "stream",
     "text": [
      "/home/kfir/workspace/RadarLocalization/dataset.py:263: VisibleDeprecationWarning: Creating an ndarray from ragged nested sequences (which is a list-or-tuple of lists-or-tuples-or ndarrays with different lengths or shapes) is deprecated. If you meant to do this, you must specify 'dtype=object' when creating the ndarray\n",
      "  veh_speed = np.array([(m['utime'], m['vel']) for m in self.veh_pose])\n"
     ]
    },
    {
     "name": "stdout",
     "output_type": "stream",
     "text": [
      "frame_idx = 5\n",
      "Number of new plots 1\n",
      "Number of dynamic tracks before run() 6\n",
      "trk.kf.x = [[7.92727678]\n",
      " [2.81427615]\n",
      " [0.92071462]\n",
      " [0.41573958]] age = 5 hits = 1\n",
      "trk.kf.x = [[7.92727678]\n",
      " [2.81427615]\n",
      " [0.92071462]\n",
      " [0.41573958]] age = 5 hits = 1\n",
      "trk.kf.x = [[20.12641682]\n",
      " [ 2.38344587]\n",
      " [ 1.87542557]\n",
      " [ 0.24442365]] age = 4 hits = 2\n",
      "trk.kf.x = [[ 19.26614611]\n",
      " [-15.21407111]\n",
      " [  2.02275464]\n",
      " [ -1.70353678]] age = 3 hits = 1\n",
      "trk.kf.x = [[9.94226894]\n",
      " [9.76057052]\n",
      " [1.18263713]\n",
      " [1.22563688]] age = 2 hits = 1\n",
      "trk.kf.x = [[20.62226037]\n",
      " [ 0.45201561]\n",
      " [ 3.0399716 ]\n",
      " [ 0.08659511]] age = 2 hits = 2\n"
     ]
    },
    {
     "name": "stderr",
     "output_type": "stream",
     "text": [
      "/home/kfir/workspace/RadarLocalization/dataset.py:263: VisibleDeprecationWarning: Creating an ndarray from ragged nested sequences (which is a list-or-tuple of lists-or-tuples-or ndarrays with different lengths or shapes) is deprecated. If you meant to do this, you must specify 'dtype=object' when creating the ndarray\n",
      "  veh_speed = np.array([(m['utime'], m['vel']) for m in self.veh_pose])\n"
     ]
    },
    {
     "name": "stdout",
     "output_type": "stream",
     "text": [
      "frame_idx = 6\n",
      "Number of new plots 2\n",
      "Number of dynamic tracks before run() 6\n",
      "Initiating new track: x=[[11.223006  ]\n",
      " [ 2.25923638]\n",
      " [ 1.47050109]\n",
      " [ 0.2960178 ]] for measurement z=[11.44814451  0.19864912  1.5       ]\n",
      "trk.kf.x = [[7.99262538]\n",
      " [2.84556015]\n",
      " [0.87228979]\n",
      " [0.41575251]] age = 6 hits = 1\n",
      "trk.kf.x = [[7.99262538]\n",
      " [2.84556015]\n",
      " [0.87228979]\n",
      " [0.41575251]] age = 6 hits = 1\n",
      "trk.kf.x = [[20.26334095]\n",
      " [ 2.40206927]\n",
      " [ 1.82700328]\n",
      " [ 0.24445074]] age = 5 hits = 2\n",
      "trk.kf.x = [[ 19.41437769]\n",
      " [-15.3414872 ]\n",
      " [  1.97436123]\n",
      " [ -1.70350751]] age = 4 hits = 1\n",
      "trk.kf.x = [[10.02714842]\n",
      " [ 9.85259783]\n",
      " [ 1.13420029]\n",
      " [ 1.2256537 ]] age = 3 hits = 1\n",
      "trk.kf.x = [[21.12165739]\n",
      " [ 0.3932662 ]\n",
      " [ 2.9984036 ]\n",
      " [ 0.08326863]] age = 3 hits = 3\n",
      "trk.kf.x = [[11.223006  ]\n",
      " [ 2.25923638]\n",
      " [ 1.47050109]\n",
      " [ 0.2960178 ]] age = 1 hits = 1\n"
     ]
    },
    {
     "name": "stderr",
     "output_type": "stream",
     "text": [
      "/home/kfir/workspace/RadarLocalization/dataset.py:263: VisibleDeprecationWarning: Creating an ndarray from ragged nested sequences (which is a list-or-tuple of lists-or-tuples-or ndarrays with different lengths or shapes) is deprecated. If you meant to do this, you must specify 'dtype=object' when creating the ndarray\n",
      "  veh_speed = np.array([(m['utime'], m['vel']) for m in self.veh_pose])\n"
     ]
    },
    {
     "name": "stdout",
     "output_type": "stream",
     "text": [
      "frame_idx = 7\n",
      "Number of new plots 2\n",
      "Number of dynamic tracks before run() 7\n",
      "trk.kf.x = [[8.40614934]\n",
      " [2.6196606 ]\n",
      " [1.25256972]\n",
      " [0.54044084]] age = 7 hits = 2\n",
      "trk.kf.x = [[8.10588373]\n",
      " [2.90358629]\n",
      " [0.74461018]\n",
      " [0.41535221]] age = 7 hits = 1\n",
      "trk.kf.x = [[20.51960094]\n",
      " [ 2.42771675]\n",
      " [ 1.69923143]\n",
      " [ 0.24353714]] age = 6 hits = 2\n",
      "trk.kf.x = [[ 19.68305152]\n",
      " [-15.60768562]\n",
      " [  1.84554198]\n",
      " [ -1.70450006]] age = 5 hits = 1\n",
      "trk.kf.x = [[10.18353927]\n",
      " [10.03103437]\n",
      " [ 1.00695611]\n",
      " [ 1.22511246]] age = 4 hits = 1\n",
      "trk.kf.x = [[21.82683174]\n",
      " [ 0.53873388]\n",
      " [ 2.69750682]\n",
      " [ 0.09942293]] age = 4 hits = 4\n",
      "trk.kf.x = [[11.42570115]\n",
      " [ 2.29751113]\n",
      " [ 1.34275701]\n",
      " [ 0.29529587]] age = 2 hits = 1\n"
     ]
    },
    {
     "name": "stderr",
     "output_type": "stream",
     "text": [
      "/home/kfir/workspace/RadarLocalization/dataset.py:263: VisibleDeprecationWarning: Creating an ndarray from ragged nested sequences (which is a list-or-tuple of lists-or-tuples-or ndarrays with different lengths or shapes) is deprecated. If you meant to do this, you must specify 'dtype=object' when creating the ndarray\n",
      "  veh_speed = np.array([(m['utime'], m['vel']) for m in self.veh_pose])\n"
     ]
    },
    {
     "name": "stdout",
     "output_type": "stream",
     "text": [
      "frame_idx = 8\n",
      "Number of new plots 2\n",
      "Number of dynamic tracks before run() 6\n",
      "trk.kf.x = [[8.47815274]\n",
      " [2.6668578 ]\n",
      " [1.28289809]\n",
      " [0.56167799]] age = 8 hits = 3\n",
      "trk.kf.x = [[20.6431365 ]\n",
      " [ 2.43934822]\n",
      " [ 1.63593144]\n",
      " [ 0.24301071]] age = 7 hits = 2\n",
      "trk.kf.x = [[ 19.811715  ]\n",
      " [-15.74196241]\n",
      " [  1.78161511]\n",
      " [ -1.70507348]] age = 6 hits = 1\n",
      "trk.kf.x = [[10.25759956]\n",
      " [10.11966277]\n",
      " [ 0.94397203]\n",
      " [ 1.22480875]] age = 5 hits = 1\n",
      "trk.kf.x = [[21.93757667]\n",
      " [ 0.50262187]\n",
      " [ 2.67429967]\n",
      " [ 0.0939581 ]] age = 5 hits = 5\n",
      "trk.kf.x = [[11.52244777]\n",
      " [ 2.31596144]\n",
      " [ 1.2794737 ]\n",
      " [ 0.29488415]] age = 3 hits = 1\n"
     ]
    },
    {
     "name": "stderr",
     "output_type": "stream",
     "text": [
      "/home/kfir/workspace/RadarLocalization/dataset.py:263: VisibleDeprecationWarning: Creating an ndarray from ragged nested sequences (which is a list-or-tuple of lists-or-tuples-or ndarrays with different lengths or shapes) is deprecated. If you meant to do this, you must specify 'dtype=object' when creating the ndarray\n",
      "  veh_speed = np.array([(m['utime'], m['vel']) for m in self.veh_pose])\n"
     ]
    },
    {
     "name": "stdout",
     "output_type": "stream",
     "text": [
      "frame_idx = 9\n",
      "Number of new plots 2\n",
      "Number of dynamic tracks before run() 6\n",
      "trk.kf.x = [[8.71621583]\n",
      " [2.92245989]\n",
      " [1.2754758 ]\n",
      " [0.63431617]] age = 9 hits = 4\n",
      "trk.kf.x = [[20.76377937]\n",
      " [ 2.44512733]\n",
      " [ 1.58869244]\n",
      " [ 0.24205802]] age = 8 hits = 2\n",
      "trk.kf.x = [[ 19.93229627]\n",
      " [-15.88183323]\n",
      " [  1.73320782]\n",
      " [ -1.70611318]] age = 7 hits = 1\n",
      "trk.kf.x = [[10.33098354]\n",
      " [10.20535429]\n",
      " [ 0.89732193]\n",
      " [ 1.22427085]] age = 6 hits = 1\n",
      "trk.kf.x = [[22.07194295]\n",
      " [ 0.48442364]\n",
      " [ 2.66486559]\n",
      " [ 0.09089749]] age = 6 hits = 6\n",
      "trk.kf.x = [[11.61627916]\n",
      " [ 2.33111782]\n",
      " [ 1.23226587]\n",
      " [ 0.29414522]] age = 4 hits = 1\n"
     ]
    },
    {
     "name": "stderr",
     "output_type": "stream",
     "text": [
      "/home/kfir/workspace/RadarLocalization/dataset.py:263: VisibleDeprecationWarning: Creating an ndarray from ragged nested sequences (which is a list-or-tuple of lists-or-tuples-or ndarrays with different lengths or shapes) is deprecated. If you meant to do this, you must specify 'dtype=object' when creating the ndarray\n",
      "  veh_speed = np.array([(m['utime'], m['vel']) for m in self.veh_pose])\n"
     ]
    },
    {
     "name": "stdout",
     "output_type": "stream",
     "text": [
      "frame_idx = 10\n",
      "Number of new plots 1\n",
      "Number of dynamic tracks before run() 4\n",
      "trk.kf.x = [[8.80882818]\n",
      " [2.96448221]\n",
      " [1.20989746]\n",
      " [0.6335519 ]] age = 10 hits = 4\n",
      "trk.kf.x = [[10.3998553 ]\n",
      " [10.29063187]\n",
      " [ 0.8321164 ]\n",
      " [ 1.22374537]] age = 7 hits = 1\n",
      "trk.kf.x = [[22.42106783]\n",
      " [ 0.41393571]\n",
      " [ 2.73298506]\n",
      " [ 0.07183341]] age = 7 hits = 7\n",
      "trk.kf.x = [[11.70525955]\n",
      " [ 2.34579012]\n",
      " [ 1.16647263]\n",
      " [ 0.29340832]] age = 5 hits = 1\n"
     ]
    },
    {
     "name": "stderr",
     "output_type": "stream",
     "text": [
      "/home/kfir/workspace/RadarLocalization/dataset.py:263: VisibleDeprecationWarning: Creating an ndarray from ragged nested sequences (which is a list-or-tuple of lists-or-tuples-or ndarrays with different lengths or shapes) is deprecated. If you meant to do this, you must specify 'dtype=object' when creating the ndarray\n",
      "  veh_speed = np.array([(m['utime'], m['vel']) for m in self.veh_pose])\n"
     ]
    },
    {
     "name": "stdout",
     "output_type": "stream",
     "text": [
      "frame_idx = 11\n",
      "Number of new plots 2\n",
      "Number of dynamic tracks before run() 3\n",
      "trk.kf.x = [[8.93640132]\n",
      " [2.94138513]\n",
      " [1.24121837]\n",
      " [0.60693345]] age = 11 hits = 5\n",
      "trk.kf.x = [[22.5827029 ]\n",
      " [ 0.41463739]\n",
      " [ 2.6900218 ]\n",
      " [ 0.06480234]] age = 8 hits = 8\n",
      "trk.kf.x = [[11.78559613]\n",
      " [ 2.37901923]\n",
      " [ 1.1006058 ]\n",
      " [ 0.29445575]] age = 6 hits = 1\n"
     ]
    },
    {
     "name": "stderr",
     "output_type": "stream",
     "text": [
      "/home/kfir/workspace/RadarLocalization/dataset.py:263: VisibleDeprecationWarning: Creating an ndarray from ragged nested sequences (which is a list-or-tuple of lists-or-tuples-or ndarrays with different lengths or shapes) is deprecated. If you meant to do this, you must specify 'dtype=object' when creating the ndarray\n",
      "  veh_speed = np.array([(m['utime'], m['vel']) for m in self.veh_pose])\n"
     ]
    },
    {
     "name": "stdout",
     "output_type": "stream",
     "text": [
      "frame_idx = 12\n",
      "Number of new plots 1\n",
      "Number of dynamic tracks before run() 3\n",
      "trk.kf.x = [[9.09246471]\n",
      " [3.07349389]\n",
      " [1.12904579]\n",
      " [0.61203131]] age = 12 hits = 5\n",
      "trk.kf.x = [[22.91321102]\n",
      " [ 0.59715468]\n",
      " [ 2.53822921]\n",
      " [ 0.11100764]] age = 9 hits = 9\n",
      "trk.kf.x = [[11.92327868]\n",
      " [ 2.47699915]\n",
      " [ 0.98984383]\n",
      " [ 0.29892267]] age = 7 hits = 1\n"
     ]
    },
    {
     "name": "stderr",
     "output_type": "stream",
     "text": [
      "/home/kfir/workspace/RadarLocalization/dataset.py:263: VisibleDeprecationWarning: Creating an ndarray from ragged nested sequences (which is a list-or-tuple of lists-or-tuples-or ndarrays with different lengths or shapes) is deprecated. If you meant to do this, you must specify 'dtype=object' when creating the ndarray\n",
      "  veh_speed = np.array([(m['utime'], m['vel']) for m in self.veh_pose])\n"
     ]
    },
    {
     "name": "stdout",
     "output_type": "stream",
     "text": [
      "frame_idx = 13\n",
      "Number of new plots 1\n",
      "Number of dynamic tracks before run() 2\n",
      "trk.kf.x = [[9.16278021]\n",
      " [3.15001029]\n",
      " [1.06557115]\n",
      " [0.6155531 ]] age = 13 hits = 5\n",
      "trk.kf.x = [[23.0827166 ]\n",
      " [ 0.64438055]\n",
      " [ 2.57257677]\n",
      " [ 0.10044903]] age = 10 hits = 10\n"
     ]
    },
    {
     "name": "stderr",
     "output_type": "stream",
     "text": [
      "/home/kfir/workspace/RadarLocalization/dataset.py:263: VisibleDeprecationWarning: Creating an ndarray from ragged nested sequences (which is a list-or-tuple of lists-or-tuples-or ndarrays with different lengths or shapes) is deprecated. If you meant to do this, you must specify 'dtype=object' when creating the ndarray\n",
      "  veh_speed = np.array([(m['utime'], m['vel']) for m in self.veh_pose])\n"
     ]
    },
    {
     "name": "stdout",
     "output_type": "stream",
     "text": [
      "frame_idx = 14\n",
      "Number of new plots 1\n",
      "Number of dynamic tracks before run() 2\n",
      "Initiating new track: x=[[23.20891422]\n",
      " [-0.79607765]\n",
      " [ 3.4979429 ]\n",
      " [-0.11998123]] for measurement z=[23.22256314 -0.03428707  3.5       ]\n",
      "trk.kf.x = [[9.23602358]\n",
      " [3.21755017]\n",
      " [1.00157432]\n",
      " [0.61757217]] age = 14 hits = 5\n",
      "trk.kf.x = [[23.28084325]\n",
      " [ 0.69926867]\n",
      " [ 2.50961464]\n",
      " [ 0.10550523]] age = 11 hits = 10\n",
      "trk.kf.x = [[23.20891422]\n",
      " [-0.79607765]\n",
      " [ 3.4979429 ]\n",
      " [-0.11998123]] age = 1 hits = 1\n"
     ]
    },
    {
     "name": "stderr",
     "output_type": "stream",
     "text": [
      "/home/kfir/workspace/RadarLocalization/dataset.py:263: VisibleDeprecationWarning: Creating an ndarray from ragged nested sequences (which is a list-or-tuple of lists-or-tuples-or ndarrays with different lengths or shapes) is deprecated. If you meant to do this, you must specify 'dtype=object' when creating the ndarray\n",
      "  veh_speed = np.array([(m['utime'], m['vel']) for m in self.veh_pose])\n"
     ]
    },
    {
     "name": "stdout",
     "output_type": "stream",
     "text": [
      "frame_idx = 15\n",
      "Number of new plots 1\n",
      "Number of dynamic tracks before run() 3\n",
      "trk.kf.x = [[9.30118524]\n",
      " [3.27891576]\n",
      " [0.93479869]\n",
      " [0.61907042]] age = 15 hits = 5\n",
      "trk.kf.x = [[23.45067252]\n",
      " [ 0.75450604]\n",
      " [ 2.5560541 ]\n",
      " [ 0.11687246]] age = 12 hits = 11\n",
      "trk.kf.x = [[23.46838533]\n",
      " [-0.76751114]\n",
      " [ 3.43234555]\n",
      " [-0.1144831 ]] age = 2 hits = 1\n"
     ]
    },
    {
     "name": "stderr",
     "output_type": "stream",
     "text": [
      "/home/kfir/workspace/RadarLocalization/dataset.py:263: VisibleDeprecationWarning: Creating an ndarray from ragged nested sequences (which is a list-or-tuple of lists-or-tuples-or ndarrays with different lengths or shapes) is deprecated. If you meant to do this, you must specify 'dtype=object' when creating the ndarray\n",
      "  veh_speed = np.array([(m['utime'], m['vel']) for m in self.veh_pose])\n"
     ]
    },
    {
     "name": "stdout",
     "output_type": "stream",
     "text": [
      "frame_idx = 16\n",
      "Number of new plots 2\n",
      "Number of dynamic tracks before run() 3\n",
      "trk.kf.x = [[9.61613976]\n",
      " [3.34386406]\n",
      " [1.3094978 ]\n",
      " [0.69633095]] age = 16 hits = 6\n",
      "trk.kf.x = [[23.61770262]\n",
      " [ 0.77217993]\n",
      " [ 2.59413334]\n",
      " [ 0.10898379]] age = 13 hits = 12\n",
      "trk.kf.x = [[23.72123418]\n",
      " [-0.74980334]\n",
      " [ 3.36816884]\n",
      " [-0.11075252]] age = 3 hits = 1\n"
     ]
    },
    {
     "name": "stderr",
     "output_type": "stream",
     "text": [
      "/home/kfir/workspace/RadarLocalization/dataset.py:263: VisibleDeprecationWarning: Creating an ndarray from ragged nested sequences (which is a list-or-tuple of lists-or-tuples-or ndarrays with different lengths or shapes) is deprecated. If you meant to do this, you must specify 'dtype=object' when creating the ndarray\n",
      "  veh_speed = np.array([(m['utime'], m['vel']) for m in self.veh_pose])\n"
     ]
    },
    {
     "name": "stdout",
     "output_type": "stream",
     "text": [
      "frame_idx = 17\n",
      "Number of new plots 2\n",
      "Number of dynamic tracks before run() 3\n",
      "trk.kf.x = [[9.80402321]\n",
      " [3.35035432]\n",
      " [1.42571616]\n",
      " [0.65787039]] age = 17 hits = 7\n",
      "trk.kf.x = [[23.7973896 ]\n",
      " [ 0.80679749]\n",
      " [ 2.64630906]\n",
      " [ 0.10662273]] age = 14 hits = 13\n",
      "trk.kf.x = [[23.97145114]\n",
      " [-0.72172023]\n",
      " [ 3.32145826]\n",
      " [-0.10571044]] age = 4 hits = 1\n"
     ]
    },
    {
     "name": "stderr",
     "output_type": "stream",
     "text": [
      "/home/kfir/workspace/RadarLocalization/dataset.py:263: VisibleDeprecationWarning: Creating an ndarray from ragged nested sequences (which is a list-or-tuple of lists-or-tuples-or ndarrays with different lengths or shapes) is deprecated. If you meant to do this, you must specify 'dtype=object' when creating the ndarray\n",
      "  veh_speed = np.array([(m['utime'], m['vel']) for m in self.veh_pose])\n"
     ]
    },
    {
     "name": "stdout",
     "output_type": "stream",
     "text": [
      "frame_idx = 18\n",
      "Number of new plots 3\n",
      "Number of dynamic tracks before run() 3\n",
      "Initiating new track: x=[[15.04786772]\n",
      " [ 7.8403567 ]\n",
      " [-1.3486145 ]\n",
      " [-0.70266558]] for measurement z=[16.96789663  0.48032795 -1.52069063]\n",
      "trk.kf.x = [[10.082945  ]\n",
      " [ 3.39476308]\n",
      " [ 1.47821141]\n",
      " [ 0.60966921]] age = 18 hits = 8\n",
      "trk.kf.x = [[24.17828245]\n",
      " [ 0.8738088 ]\n",
      " [ 2.67623413]\n",
      " [ 0.11036273]] age = 15 hits = 14\n",
      "trk.kf.x = [[24.45291768]\n",
      " [-0.6796925 ]\n",
      " [ 3.19759724]\n",
      " [-0.0981404 ]] age = 5 hits = 1\n",
      "trk.kf.x = [[15.04786772]\n",
      " [ 7.8403567 ]\n",
      " [-1.3486145 ]\n",
      " [-0.70266558]] age = 1 hits = 1\n"
     ]
    },
    {
     "name": "stderr",
     "output_type": "stream",
     "text": [
      "/home/kfir/workspace/RadarLocalization/dataset.py:263: VisibleDeprecationWarning: Creating an ndarray from ragged nested sequences (which is a list-or-tuple of lists-or-tuples-or ndarrays with different lengths or shapes) is deprecated. If you meant to do this, you must specify 'dtype=object' when creating the ndarray\n",
      "  veh_speed = np.array([(m['utime'], m['vel']) for m in self.veh_pose])\n"
     ]
    },
    {
     "name": "stdout",
     "output_type": "stream",
     "text": [
      "frame_idx = 19\n",
      "Number of new plots 3\n",
      "Number of dynamic tracks before run() 4\n",
      "trk.kf.x = [[10.24323347]\n",
      " [ 3.38779888]\n",
      " [ 1.52363707]\n",
      " [ 0.55701236]] age = 19 hits = 9\n",
      "trk.kf.x = [[24.37416848]\n",
      " [ 0.91637205]\n",
      " [ 2.70718529]\n",
      " [ 0.11505226]] age = 16 hits = 15\n",
      "trk.kf.x = [[24.68931319]\n",
      " [-0.6523321 ]\n",
      " [ 3.13800991]\n",
      " [-0.09372693]] age = 6 hits = 1\n",
      "trk.kf.x = [[14.90688547]\n",
      " [ 7.90986916]\n",
      " [-1.3742567 ]\n",
      " [-0.68515151]] age = 2 hits = 2\n"
     ]
    },
    {
     "name": "stderr",
     "output_type": "stream",
     "text": [
      "/home/kfir/workspace/RadarLocalization/dataset.py:263: VisibleDeprecationWarning: Creating an ndarray from ragged nested sequences (which is a list-or-tuple of lists-or-tuples-or ndarrays with different lengths or shapes) is deprecated. If you meant to do this, you must specify 'dtype=object' when creating the ndarray\n",
      "  veh_speed = np.array([(m['utime'], m['vel']) for m in self.veh_pose])\n"
     ]
    },
    {
     "name": "stdout",
     "output_type": "stream",
     "text": [
      "frame_idx = 20\n",
      "Number of new plots 3\n",
      "Number of dynamic tracks before run() 4\n",
      "trk.kf.x = [[10.41062885]\n",
      " [ 3.34206313]\n",
      " [ 1.5708478 ]\n",
      " [ 0.46695985]] age = 20 hits = 10\n",
      "trk.kf.x = [[24.58186543]\n",
      " [ 0.94245182]\n",
      " [ 2.76907769]\n",
      " [ 0.11258487]] age = 17 hits = 16\n",
      "trk.kf.x = [[24.92175241]\n",
      " [-0.6326667 ]\n",
      " [ 3.09076283]\n",
      " [-0.09041647]] age = 7 hits = 1\n",
      "trk.kf.x = [[14.96824378]\n",
      " [ 7.89088046]\n",
      " [-1.28575671]\n",
      " [-0.616436  ]] age = 3 hits = 3\n"
     ]
    },
    {
     "name": "stderr",
     "output_type": "stream",
     "text": [
      "/home/kfir/workspace/RadarLocalization/dataset.py:263: VisibleDeprecationWarning: Creating an ndarray from ragged nested sequences (which is a list-or-tuple of lists-or-tuples-or ndarrays with different lengths or shapes) is deprecated. If you meant to do this, you must specify 'dtype=object' when creating the ndarray\n",
      "  veh_speed = np.array([(m['utime'], m['vel']) for m in self.veh_pose])\n"
     ]
    },
    {
     "name": "stdout",
     "output_type": "stream",
     "text": [
      "frame_idx = 21\n",
      "Number of new plots 3\n",
      "Number of dynamic tracks before run() 3\n",
      "trk.kf.x = [[10.58820224]\n",
      " [ 3.30413186]\n",
      " [ 1.60005284]\n",
      " [ 0.38401741]] age = 21 hits = 11\n",
      "trk.kf.x = [[24.80674264]\n",
      " [ 0.95274784]\n",
      " [ 2.80241363]\n",
      " [ 0.09545943]] age = 18 hits = 17\n",
      "trk.kf.x = [[15.14861389]\n",
      " [ 7.98689979]\n",
      " [-1.18037422]\n",
      " [-0.53574944]] age = 4 hits = 4\n"
     ]
    },
    {
     "name": "stderr",
     "output_type": "stream",
     "text": [
      "/home/kfir/workspace/RadarLocalization/dataset.py:263: VisibleDeprecationWarning: Creating an ndarray from ragged nested sequences (which is a list-or-tuple of lists-or-tuples-or ndarrays with different lengths or shapes) is deprecated. If you meant to do this, you must specify 'dtype=object' when creating the ndarray\n",
      "  veh_speed = np.array([(m['utime'], m['vel']) for m in self.veh_pose])\n"
     ]
    },
    {
     "name": "stdout",
     "output_type": "stream",
     "text": [
      "frame_idx = 22\n",
      "Number of new plots 3\n",
      "Number of dynamic tracks before run() 3\n",
      "trk.kf.x = [[10.80713957]\n",
      " [ 3.19382577]\n",
      " [ 1.65708915]\n",
      " [ 0.21859877]] age = 22 hits = 12\n",
      "trk.kf.x = [[25.00943304]\n",
      " [ 0.98581079]\n",
      " [ 2.82205726]\n",
      " [ 0.08048205]] age = 19 hits = 18\n",
      "trk.kf.x = [[14.88534707]\n",
      " [ 8.13816825]\n",
      " [-1.29885055]\n",
      " [-0.53228148]] age = 5 hits = 5\n"
     ]
    },
    {
     "name": "stderr",
     "output_type": "stream",
     "text": [
      "/home/kfir/workspace/RadarLocalization/dataset.py:263: VisibleDeprecationWarning: Creating an ndarray from ragged nested sequences (which is a list-or-tuple of lists-or-tuples-or ndarrays with different lengths or shapes) is deprecated. If you meant to do this, you must specify 'dtype=object' when creating the ndarray\n",
      "  veh_speed = np.array([(m['utime'], m['vel']) for m in self.veh_pose])\n"
     ]
    },
    {
     "name": "stdout",
     "output_type": "stream",
     "text": [
      "frame_idx = 23\n",
      "Number of new plots 3\n",
      "Number of dynamic tracks before run() 3\n",
      "trk.kf.x = [[10.91574583]\n",
      " [ 3.14972871]\n",
      " [ 1.67199867]\n",
      " [ 0.14812303]] age = 23 hits = 13\n",
      "trk.kf.x = [[25.21619657]\n",
      " [ 0.99960761]\n",
      " [ 2.84025408]\n",
      " [ 0.04296195]] age = 20 hits = 19\n",
      "trk.kf.x = [[14.79159852]\n",
      " [ 8.23198857]\n",
      " [-1.27029802]\n",
      " [-0.46626891]] age = 6 hits = 6\n"
     ]
    },
    {
     "name": "stderr",
     "output_type": "stream",
     "text": [
      "/home/kfir/workspace/RadarLocalization/dataset.py:263: VisibleDeprecationWarning: Creating an ndarray from ragged nested sequences (which is a list-or-tuple of lists-or-tuples-or ndarrays with different lengths or shapes) is deprecated. If you meant to do this, you must specify 'dtype=object' when creating the ndarray\n",
      "  veh_speed = np.array([(m['utime'], m['vel']) for m in self.veh_pose])\n"
     ]
    },
    {
     "name": "stdout",
     "output_type": "stream",
     "text": [
      "frame_idx = 24\n",
      "Number of new plots 2\n",
      "Number of dynamic tracks before run() 3\n",
      "trk.kf.x = [[11.14618808]\n",
      " [ 3.11743185]\n",
      " [ 1.6866939 ]\n",
      " [ 0.08818204]] age = 24 hits = 14\n",
      "trk.kf.x = [[25.68748674]\n",
      " [ 1.08931072]\n",
      " [ 2.93074544]\n",
      " [ 0.06344346]] age = 21 hits = 20\n",
      "trk.kf.x = [[14.56587587]\n",
      " [ 8.20325901]\n",
      " [-1.34856736]\n",
      " [-0.47008606]] age = 7 hits = 6\n"
     ]
    },
    {
     "name": "stderr",
     "output_type": "stream",
     "text": [
      "/home/kfir/workspace/RadarLocalization/dataset.py:263: VisibleDeprecationWarning: Creating an ndarray from ragged nested sequences (which is a list-or-tuple of lists-or-tuples-or ndarrays with different lengths or shapes) is deprecated. If you meant to do this, you must specify 'dtype=object' when creating the ndarray\n",
      "  veh_speed = np.array([(m['utime'], m['vel']) for m in self.veh_pose])\n"
     ]
    },
    {
     "name": "stdout",
     "output_type": "stream",
     "text": [
      "frame_idx = 25\n",
      "Number of new plots 3\n",
      "Number of dynamic tracks before run() 3\n",
      "trk.kf.x = [[11.26687539]\n",
      " [ 3.07301311]\n",
      " [ 1.70666098]\n",
      " [ 0.03056573]] age = 25 hits = 15\n",
      "trk.kf.x = [[25.9136582 ]\n",
      " [ 1.14339633]\n",
      " [ 2.97016897]\n",
      " [ 0.06650121]] age = 22 hits = 21\n",
      "trk.kf.x = [[14.39085806]\n",
      " [ 8.46208375]\n",
      " [-1.37104107]\n",
      " [-0.3111489 ]] age = 8 hits = 7\n"
     ]
    },
    {
     "name": "stderr",
     "output_type": "stream",
     "text": [
      "/home/kfir/workspace/RadarLocalization/dataset.py:263: VisibleDeprecationWarning: Creating an ndarray from ragged nested sequences (which is a list-or-tuple of lists-or-tuples-or ndarrays with different lengths or shapes) is deprecated. If you meant to do this, you must specify 'dtype=object' when creating the ndarray\n",
      "  veh_speed = np.array([(m['utime'], m['vel']) for m in self.veh_pose])\n"
     ]
    },
    {
     "name": "stdout",
     "output_type": "stream",
     "text": [
      "frame_idx = 26\n",
      "Number of new plots 3\n",
      "Number of dynamic tracks before run() 3\n",
      "trk.kf.x = [[11.37786997]\n",
      " [ 3.03145791]\n",
      " [ 1.72207859]\n",
      " [-0.01417006]] age = 26 hits = 16\n",
      "trk.kf.x = [[ 2.61664540e+01]\n",
      " [ 1.08371102e+00]\n",
      " [ 3.02831906e+00]\n",
      " [-1.78535925e-03]] age = 23 hits = 22\n",
      "trk.kf.x = [[14.28407666]\n",
      " [ 8.66120401]\n",
      " [-1.33517749]\n",
      " [-0.14430478]] age = 9 hits = 8\n"
     ]
    },
    {
     "name": "stderr",
     "output_type": "stream",
     "text": [
      "/home/kfir/workspace/RadarLocalization/dataset.py:263: VisibleDeprecationWarning: Creating an ndarray from ragged nested sequences (which is a list-or-tuple of lists-or-tuples-or ndarrays with different lengths or shapes) is deprecated. If you meant to do this, you must specify 'dtype=object' when creating the ndarray\n",
      "  veh_speed = np.array([(m['utime'], m['vel']) for m in self.veh_pose])\n"
     ]
    },
    {
     "name": "stdout",
     "output_type": "stream",
     "text": [
      "frame_idx = 27\n",
      "Number of new plots 2\n",
      "Number of dynamic tracks before run() 3\n",
      "trk.kf.x = [[11.49665474]\n",
      " [ 2.99412844]\n",
      " [ 1.73901854]\n",
      " [-0.05502244]] age = 27 hits = 17\n",
      "trk.kf.x = [[ 2.63997420e+01]\n",
      " [ 1.09633111e+00]\n",
      " [ 3.04210357e+00]\n",
      " [-1.60671571e-02]] age = 24 hits = 23\n",
      "trk.kf.x = [[14.16944697]\n",
      " [ 8.67074605]\n",
      " [-1.36132938]\n",
      " [-0.14626133]] age = 10 hits = 8\n"
     ]
    },
    {
     "name": "stderr",
     "output_type": "stream",
     "text": [
      "/home/kfir/workspace/RadarLocalization/dataset.py:263: VisibleDeprecationWarning: Creating an ndarray from ragged nested sequences (which is a list-or-tuple of lists-or-tuples-or ndarrays with different lengths or shapes) is deprecated. If you meant to do this, you must specify 'dtype=object' when creating the ndarray\n",
      "  veh_speed = np.array([(m['utime'], m['vel']) for m in self.veh_pose])\n"
     ]
    },
    {
     "name": "stdout",
     "output_type": "stream",
     "text": [
      "frame_idx = 28\n",
      "Number of new plots 3\n",
      "Number of dynamic tracks before run() 3\n",
      "trk.kf.x = [[11.62354991]\n",
      " [ 3.02818078]\n",
      " [ 1.72616214]\n",
      " [-0.02667653]] age = 28 hits = 18\n",
      "trk.kf.x = [[ 2.66377441e+01]\n",
      " [ 1.11961835e+00]\n",
      " [ 3.07458138e+00]\n",
      " [-2.39765264e-02]] age = 25 hits = 24\n",
      "trk.kf.x = [[14.04920272]\n",
      " [ 8.93753432]\n",
      " [-1.39262221]\n",
      " [ 0.05116702]] age = 11 hits = 9\n"
     ]
    },
    {
     "name": "stderr",
     "output_type": "stream",
     "text": [
      "/home/kfir/workspace/RadarLocalization/dataset.py:263: VisibleDeprecationWarning: Creating an ndarray from ragged nested sequences (which is a list-or-tuple of lists-or-tuples-or ndarrays with different lengths or shapes) is deprecated. If you meant to do this, you must specify 'dtype=object' when creating the ndarray\n",
      "  veh_speed = np.array([(m['utime'], m['vel']) for m in self.veh_pose])\n"
     ]
    },
    {
     "name": "stdout",
     "output_type": "stream",
     "text": [
      "frame_idx = 29\n",
      "Number of new plots 3\n",
      "Number of dynamic tracks before run() 3\n",
      "Initiating new track: x=[[18.07538144]\n",
      " [-8.16959769]\n",
      " [ 0.        ]\n",
      " [-0.        ]] for measurement z=[19.83587005 -0.42449407  0.        ]\n",
      "trk.kf.x = [[11.85954973]\n",
      " [ 3.05638824]\n",
      " [ 1.62820993]\n",
      " [-0.02225609]] age = 29 hits = 18\n",
      "trk.kf.x = [[ 2.70983284e+01]\n",
      " [ 1.18925383e+00]\n",
      " [ 3.09940818e+00]\n",
      " [-1.48909924e-02]] age = 26 hits = 25\n",
      "trk.kf.x = [[13.72815051]\n",
      " [ 9.26765987]\n",
      " [-1.52097775]\n",
      " [ 0.29481785]] age = 12 hits = 10\n",
      "trk.kf.x = [[18.07538144]\n",
      " [-8.16959769]\n",
      " [ 0.        ]\n",
      " [-0.        ]] age = 1 hits = 1\n"
     ]
    },
    {
     "name": "stderr",
     "output_type": "stream",
     "text": [
      "/home/kfir/workspace/RadarLocalization/dataset.py:263: VisibleDeprecationWarning: Creating an ndarray from ragged nested sequences (which is a list-or-tuple of lists-or-tuples-or ndarrays with different lengths or shapes) is deprecated. If you meant to do this, you must specify 'dtype=object' when creating the ndarray\n",
      "  veh_speed = np.array([(m['utime'], m['vel']) for m in self.veh_pose])\n"
     ]
    },
    {
     "name": "stdout",
     "output_type": "stream",
     "text": [
      "frame_idx = 30\n",
      "Number of new plots 3\n",
      "Number of dynamic tracks before run() 4\n",
      "Initiating new track: x=[[11.82648617]\n",
      " [ 3.05964919]\n",
      " [ 1.69421975]\n",
      " [ 0.43831431]] for measurement z=[12.2158597   0.25316086  1.75      ]\n",
      "trk.kf.x = [[1.19850023e+01]\n",
      " [3.07669410e+00]\n",
      " [1.68655171e+00]\n",
      " [3.51666222e-03]] age = 30 hits = 19\n",
      "trk.kf.x = [[ 2.73310497e+01]\n",
      " [ 1.23620358e+00]\n",
      " [ 3.12718476e+00]\n",
      " [-5.44506691e-03]] age = 27 hits = 26\n",
      "trk.kf.x = [[13.59704509]\n",
      " [ 9.31008621]\n",
      " [-1.56232513]\n",
      " [ 0.29248703]] age = 13 hits = 10\n",
      "trk.kf.x = [[ 1.80844807e+01]\n",
      " [-8.14262293e+00]\n",
      " [-4.09091828e-02]\n",
      " [-6.10405856e-05]] age = 2 hits = 1\n",
      "trk.kf.x = [[11.82648617]\n",
      " [ 3.05964919]\n",
      " [ 1.69421975]\n",
      " [ 0.43831431]] age = 1 hits = 1\n"
     ]
    },
    {
     "name": "stderr",
     "output_type": "stream",
     "text": [
      "/home/kfir/workspace/RadarLocalization/dataset.py:263: VisibleDeprecationWarning: Creating an ndarray from ragged nested sequences (which is a list-or-tuple of lists-or-tuples-or ndarrays with different lengths or shapes) is deprecated. If you meant to do this, you must specify 'dtype=object' when creating the ndarray\n",
      "  veh_speed = np.array([(m['utime'], m['vel']) for m in self.veh_pose])\n"
     ]
    },
    {
     "name": "stdout",
     "output_type": "stream",
     "text": [
      "frame_idx = 31\n",
      "Number of new plots 2\n",
      "Number of dynamic tracks before run() 5\n",
      "trk.kf.x = [[1.21298274e+01]\n",
      " [3.08732397e+00]\n",
      " [1.69862616e+00]\n",
      " [1.06336697e-02]] age = 31 hits = 20\n",
      "trk.kf.x = [[ 2.75849996e+01]\n",
      " [ 1.24252727e+00]\n",
      " [ 3.13458753e+00]\n",
      " [-2.16295807e-02]] age = 28 hits = 27\n",
      "trk.kf.x = [[13.45556832]\n",
      " [ 9.35109032]\n",
      " [-1.61525284]\n",
      " [ 0.29037658]] age = 14 hits = 10\n",
      "trk.kf.x = [[ 1.80876244e+01]\n",
      " [-8.11899905e+00]\n",
      " [-9.34559053e-02]\n",
      " [-1.83162650e-04]] age = 3 hits = 1\n",
      "trk.kf.x = [[11.95384624]\n",
      " [ 3.11035895]\n",
      " [ 1.64109871]\n",
      " [ 0.44045916]] age = 2 hits = 1\n"
     ]
    },
    {
     "name": "stderr",
     "output_type": "stream",
     "text": [
      "/home/kfir/workspace/RadarLocalization/dataset.py:263: VisibleDeprecationWarning: Creating an ndarray from ragged nested sequences (which is a list-or-tuple of lists-or-tuples-or ndarrays with different lengths or shapes) is deprecated. If you meant to do this, you must specify 'dtype=object' when creating the ndarray\n",
      "  veh_speed = np.array([(m['utime'], m['vel']) for m in self.veh_pose])\n"
     ]
    },
    {
     "name": "stdout",
     "output_type": "stream",
     "text": [
      "frame_idx = 32\n",
      "Number of new plots 3\n",
      "Number of dynamic tracks before run() 5\n",
      "trk.kf.x = [[12.27115052]\n",
      " [ 3.11381425]\n",
      " [ 1.6935301 ]\n",
      " [ 0.03923496]] age = 32 hits = 21\n",
      "trk.kf.x = [[27.82745336]\n",
      " [ 1.21128536]\n",
      " [ 3.13561419]\n",
      " [-0.04627446]] age = 29 hits = 28\n",
      "trk.kf.x = [[13.15420521]\n",
      " [ 9.74591755]\n",
      " [-1.7085583 ]\n",
      " [ 0.6898577 ]] age = 15 hits = 11\n",
      "trk.kf.x = [[ 1.80788687e+01]\n",
      " [-8.11374911e+00]\n",
      " [-1.48272556e-01]\n",
      " [-2.26335128e-04]] age = 4 hits = 1\n",
      "trk.kf.x = [[12.07188576]\n",
      " [ 3.14690408]\n",
      " [ 1.58615368]\n",
      " [ 0.44092102]] age = 3 hits = 1\n"
     ]
    },
    {
     "name": "stderr",
     "output_type": "stream",
     "text": [
      "/home/kfir/workspace/RadarLocalization/dataset.py:263: VisibleDeprecationWarning: Creating an ndarray from ragged nested sequences (which is a list-or-tuple of lists-or-tuples-or ndarrays with different lengths or shapes) is deprecated. If you meant to do this, you must specify 'dtype=object' when creating the ndarray\n",
      "  veh_speed = np.array([(m['utime'], m['vel']) for m in self.veh_pose])\n"
     ]
    },
    {
     "name": "stdout",
     "output_type": "stream",
     "text": [
      "frame_idx = 33\n",
      "Number of new plots 2\n",
      "Number of dynamic tracks before run() 5\n",
      "trk.kf.x = [[12.38441892]\n",
      " [ 3.0961505 ]\n",
      " [ 1.69217911]\n",
      " [ 0.02241043]] age = 33 hits = 22\n",
      "trk.kf.x = [[28.05888465]\n",
      " [ 1.24082277]\n",
      " [ 3.13778353]\n",
      " [-0.03724448]] age = 30 hits = 29\n",
      "trk.kf.x = [[13.01477664]\n",
      " [ 9.80805079]\n",
      " [-1.75512969]\n",
      " [ 0.6884573 ]] age = 16 hits = 11\n",
      "trk.kf.x = [[ 1.80707644e+01]\n",
      " [-8.09934797e+00]\n",
      " [-1.94293754e-01]\n",
      " [-3.81384184e-04]] age = 5 hits = 1\n",
      "trk.kf.x = [[12.18486491]\n",
      " [ 3.18970094]\n",
      " [ 1.53977989]\n",
      " [ 0.44214992]] age = 4 hits = 1\n"
     ]
    },
    {
     "name": "stderr",
     "output_type": "stream",
     "text": [
      "/home/kfir/workspace/RadarLocalization/dataset.py:263: VisibleDeprecationWarning: Creating an ndarray from ragged nested sequences (which is a list-or-tuple of lists-or-tuples-or ndarrays with different lengths or shapes) is deprecated. If you meant to do this, you must specify 'dtype=object' when creating the ndarray\n",
      "  veh_speed = np.array([(m['utime'], m['vel']) for m in self.veh_pose])\n"
     ]
    },
    {
     "name": "stdout",
     "output_type": "stream",
     "text": [
      "frame_idx = 34\n",
      "Number of new plots 3\n",
      "Number of dynamic tracks before run() 5\n",
      "trk.kf.x = [[12.49209416]\n",
      " [ 3.10148171]\n",
      " [ 1.69315686]\n",
      " [ 0.03234931]] age = 34 hits = 23\n",
      "trk.kf.x = [[28.28668426]\n",
      " [ 1.23836329]\n",
      " [ 3.14785818]\n",
      " [-0.04010388]] age = 31 hits = 30\n",
      "trk.kf.x = [[12.8870961 ]\n",
      " [ 9.85929604]\n",
      " [-1.79039309]\n",
      " [ 0.68803537]] age = 17 hits = 11\n",
      "trk.kf.x = [[ 1.80566098e+01]\n",
      " [-8.09511945e+00]\n",
      " [-2.29394857e-01]\n",
      " [-4.35446282e-04]] age = 6 hits = 1\n",
      "trk.kf.x = [[12.25670762]\n",
      " [ 3.13135887]\n",
      " [ 1.63700238]\n",
      " [ 0.4704789 ]] age = 5 hits = 2\n"
     ]
    },
    {
     "name": "stderr",
     "output_type": "stream",
     "text": [
      "/home/kfir/workspace/RadarLocalization/dataset.py:263: VisibleDeprecationWarning: Creating an ndarray from ragged nested sequences (which is a list-or-tuple of lists-or-tuples-or ndarrays with different lengths or shapes) is deprecated. If you meant to do this, you must specify 'dtype=object' when creating the ndarray\n",
      "  veh_speed = np.array([(m['utime'], m['vel']) for m in self.veh_pose])\n"
     ]
    },
    {
     "name": "stdout",
     "output_type": "stream",
     "text": [
      "frame_idx = 35\n",
      "Number of new plots 2\n",
      "Number of dynamic tracks before run() 5\n",
      "trk.kf.x = [[ 1.28092873e+01]\n",
      " [ 3.05972782e+00]\n",
      " [ 1.72011339e+00]\n",
      " [-9.27779536e-03]] age = 35 hits = 24\n",
      "trk.kf.x = [[28.81411909]\n",
      " [ 1.22097297]\n",
      " [ 3.24129949]\n",
      " [-0.05137041]] age = 32 hits = 31\n",
      "trk.kf.x = [[12.59204765]\n",
      " [ 9.9741263 ]\n",
      " [-1.86187903]\n",
      " [ 0.68682928]] age = 18 hits = 11\n",
      "trk.kf.x = [[ 1.80152723e+01]\n",
      " [-8.08351725e+00]\n",
      " [-3.00435084e-01]\n",
      " [-6.30086838e-04]] age = 7 hits = 1\n",
      "trk.kf.x = [[12.49740951]\n",
      " [ 3.2123973 ]\n",
      " [ 1.56565667]\n",
      " [ 0.47149333]] age = 6 hits = 2\n"
     ]
    },
    {
     "name": "stderr",
     "output_type": "stream",
     "text": [
      "/home/kfir/workspace/RadarLocalization/dataset.py:263: VisibleDeprecationWarning: Creating an ndarray from ragged nested sequences (which is a list-or-tuple of lists-or-tuples-or ndarrays with different lengths or shapes) is deprecated. If you meant to do this, you must specify 'dtype=object' when creating the ndarray\n",
      "  veh_speed = np.array([(m['utime'], m['vel']) for m in self.veh_pose])\n"
     ]
    },
    {
     "name": "stdout",
     "output_type": "stream",
     "text": [
      "frame_idx = 36\n",
      "Number of new plots 2\n",
      "Number of dynamic tracks before run() 4\n",
      "trk.kf.x = [[12.91802495]\n",
      " [ 3.10730513]\n",
      " [ 1.72412617]\n",
      " [ 0.03265499]] age = 36 hits = 25\n",
      "trk.kf.x = [[29.08814658]\n",
      " [ 1.23191064]\n",
      " [ 3.32909766]\n",
      " [-0.05470962]] age = 33 hits = 32\n",
      "trk.kf.x = [[12.44040393]\n",
      " [10.03856   ]\n",
      " [-1.88330806]\n",
      " [ 0.68487692]] age = 19 hits = 11\n",
      "trk.kf.x = [[12.60994428]\n",
      " [ 3.26084758]\n",
      " [ 1.54444907]\n",
      " [ 0.47309496]] age = 7 hits = 2\n"
     ]
    },
    {
     "name": "stderr",
     "output_type": "stream",
     "text": [
      "/home/kfir/workspace/RadarLocalization/dataset.py:263: VisibleDeprecationWarning: Creating an ndarray from ragged nested sequences (which is a list-or-tuple of lists-or-tuples-or ndarrays with different lengths or shapes) is deprecated. If you meant to do this, you must specify 'dtype=object' when creating the ndarray\n",
      "  veh_speed = np.array([(m['utime'], m['vel']) for m in self.veh_pose])\n"
     ]
    },
    {
     "name": "stdout",
     "output_type": "stream",
     "text": [
      "frame_idx = 37\n",
      "Number of new plots 2\n",
      "Number of dynamic tracks before run() 4\n",
      "trk.kf.x = [[13.02972918]\n",
      " [ 3.17206254]\n",
      " [ 1.7183041 ]\n",
      " [ 0.08947649]] age = 37 hits = 26\n",
      "trk.kf.x = [[29.33018477]\n",
      " [ 1.26077159]\n",
      " [ 3.32878449]\n",
      " [-0.04410209]] age = 34 hits = 33\n",
      "trk.kf.x = [[12.29096568]\n",
      " [10.09792653]\n",
      " [-1.90492227]\n",
      " [ 0.68364005]] age = 20 hits = 11\n",
      "trk.kf.x = [[12.72208504]\n",
      " [ 3.30460369]\n",
      " [ 1.52297166]\n",
      " [ 0.47408405]] age = 8 hits = 2\n"
     ]
    },
    {
     "name": "stderr",
     "output_type": "stream",
     "text": [
      "/home/kfir/workspace/RadarLocalization/dataset.py:263: VisibleDeprecationWarning: Creating an ndarray from ragged nested sequences (which is a list-or-tuple of lists-or-tuples-or ndarrays with different lengths or shapes) is deprecated. If you meant to do this, you must specify 'dtype=object' when creating the ndarray\n",
      "  veh_speed = np.array([(m['utime'], m['vel']) for m in self.veh_pose])\n"
     ]
    },
    {
     "name": "stdout",
     "output_type": "stream",
     "text": [
      "frame_idx = 38\n",
      "Number of new plots 2\n",
      "Number of dynamic tracks before run() 4\n",
      "trk.kf.x = [[13.15883454]\n",
      " [ 3.22213726]\n",
      " [ 1.71786801]\n",
      " [ 0.12741011]] age = 38 hits = 27\n",
      "trk.kf.x = [[29.57193362]\n",
      " [ 1.22540777]\n",
      " [ 3.32965154]\n",
      " [-0.07457988]] age = 35 hits = 34\n",
      "trk.kf.x = [[12.14118639]\n",
      " [10.15574803]\n",
      " [-1.92394273]\n",
      " [ 0.6826056 ]] age = 21 hits = 11\n",
      "trk.kf.x = [[12.83315161]\n",
      " [ 3.34707393]\n",
      " [ 1.5040634 ]\n",
      " [ 0.47489288]] age = 9 hits = 2\n"
     ]
    },
    {
     "name": "stderr",
     "output_type": "stream",
     "text": [
      "/home/kfir/workspace/RadarLocalization/dataset.py:263: VisibleDeprecationWarning: Creating an ndarray from ragged nested sequences (which is a list-or-tuple of lists-or-tuples-or ndarrays with different lengths or shapes) is deprecated. If you meant to do this, you must specify 'dtype=object' when creating the ndarray\n",
      "  veh_speed = np.array([(m['utime'], m['vel']) for m in self.veh_pose])\n"
     ]
    },
    {
     "name": "stdout",
     "output_type": "stream",
     "text": [
      "frame_idx = 39\n",
      "Number of new plots 2\n",
      "Number of dynamic tracks before run() 3\n",
      "trk.kf.x = [[13.25529294]\n",
      " [ 3.26357807]\n",
      " [ 1.71148315]\n",
      " [ 0.17076549]] age = 39 hits = 28\n",
      "trk.kf.x = [[29.80553331]\n",
      " [ 1.19684584]\n",
      " [ 3.33618903]\n",
      " [-0.07835737]] age = 36 hits = 35\n",
      "trk.kf.x = [[12.94027728]\n",
      " [ 3.37116216]\n",
      " [ 1.4935593 ]\n",
      " [ 0.47382914]] age = 10 hits = 2\n"
     ]
    },
    {
     "name": "stderr",
     "output_type": "stream",
     "text": [
      "/home/kfir/workspace/RadarLocalization/dataset.py:263: VisibleDeprecationWarning: Creating an ndarray from ragged nested sequences (which is a list-or-tuple of lists-or-tuples-or ndarrays with different lengths or shapes) is deprecated. If you meant to do this, you must specify 'dtype=object' when creating the ndarray\n",
      "  veh_speed = np.array([(m['utime'], m['vel']) for m in self.veh_pose])\n"
     ]
    },
    {
     "name": "stdout",
     "output_type": "stream",
     "text": [
      "frame_idx = 40\n",
      "Number of new plots 2\n",
      "Number of dynamic tracks before run() 3\n",
      "trk.kf.x = [[13.38413794]\n",
      " [ 3.23457332]\n",
      " [ 1.73732805]\n",
      " [ 0.12686722]] age = 40 hits = 29\n",
      "trk.kf.x = [[30.05671173]\n",
      " [ 1.17607269]\n",
      " [ 3.35422815]\n",
      " [-0.10196376]] age = 37 hits = 36\n",
      "trk.kf.x = [[13.04970988]\n",
      " [ 3.41808116]\n",
      " [ 1.49951274]\n",
      " [ 0.47513992]] age = 11 hits = 2\n"
     ]
    },
    {
     "name": "stderr",
     "output_type": "stream",
     "text": [
      "/home/kfir/workspace/RadarLocalization/dataset.py:263: VisibleDeprecationWarning: Creating an ndarray from ragged nested sequences (which is a list-or-tuple of lists-or-tuples-or ndarrays with different lengths or shapes) is deprecated. If you meant to do this, you must specify 'dtype=object' when creating the ndarray\n",
      "  veh_speed = np.array([(m['utime'], m['vel']) for m in self.veh_pose])\n"
     ]
    },
    {
     "name": "stdout",
     "output_type": "stream",
     "text": [
      "frame_idx = 41\n",
      "Number of new plots 2\n",
      "Number of dynamic tracks before run() 2\n",
      "trk.kf.x = [[13.66731516]\n",
      " [ 3.35335614]\n",
      " [ 1.84731637]\n",
      " [ 0.22439628]] age = 41 hits = 30\n",
      "trk.kf.x = [[30.593181  ]\n",
      " [ 1.19984046]\n",
      " [ 3.47517055]\n",
      " [-0.09763015]] age = 38 hits = 37\n"
     ]
    },
    {
     "name": "stderr",
     "output_type": "stream",
     "text": [
      "/home/kfir/workspace/RadarLocalization/dataset.py:263: VisibleDeprecationWarning: Creating an ndarray from ragged nested sequences (which is a list-or-tuple of lists-or-tuples-or ndarrays with different lengths or shapes) is deprecated. If you meant to do this, you must specify 'dtype=object' when creating the ndarray\n",
      "  veh_speed = np.array([(m['utime'], m['vel']) for m in self.veh_pose])\n"
     ]
    },
    {
     "name": "stdout",
     "output_type": "stream",
     "text": [
      "frame_idx = 42\n",
      "Number of new plots 2\n",
      "Number of dynamic tracks before run() 2\n",
      "trk.kf.x = [[13.79797452]\n",
      " [ 3.31995573]\n",
      " [ 1.89573078]\n",
      " [ 0.20684422]] age = 42 hits = 31\n",
      "trk.kf.x = [[30.82153307]\n",
      " [ 1.20251451]\n",
      " [ 3.47458225]\n",
      " [-0.07232126]] age = 39 hits = 38\n"
     ]
    },
    {
     "name": "stderr",
     "output_type": "stream",
     "text": [
      "/home/kfir/workspace/RadarLocalization/dataset.py:263: VisibleDeprecationWarning: Creating an ndarray from ragged nested sequences (which is a list-or-tuple of lists-or-tuples-or ndarrays with different lengths or shapes) is deprecated. If you meant to do this, you must specify 'dtype=object' when creating the ndarray\n",
      "  veh_speed = np.array([(m['utime'], m['vel']) for m in self.veh_pose])\n"
     ]
    },
    {
     "name": "stdout",
     "output_type": "stream",
     "text": [
      "frame_idx = 43\n",
      "Number of new plots 2\n",
      "Number of dynamic tracks before run() 2\n",
      "trk.kf.x = [[13.94046204]\n",
      " [ 3.33996989]\n",
      " [ 1.92867091]\n",
      " [ 0.21181924]] age = 43 hits = 32\n",
      "trk.kf.x = [[31.1368503 ]\n",
      " [ 1.20544175]\n",
      " [ 3.57569032]\n",
      " [-0.07283291]] age = 40 hits = 39\n"
     ]
    },
    {
     "name": "stderr",
     "output_type": "stream",
     "text": [
      "/home/kfir/workspace/RadarLocalization/dataset.py:263: VisibleDeprecationWarning: Creating an ndarray from ragged nested sequences (which is a list-or-tuple of lists-or-tuples-or ndarrays with different lengths or shapes) is deprecated. If you meant to do this, you must specify 'dtype=object' when creating the ndarray\n",
      "  veh_speed = np.array([(m['utime'], m['vel']) for m in self.veh_pose])\n"
     ]
    },
    {
     "name": "stdout",
     "output_type": "stream",
     "text": [
      "frame_idx = 44\n",
      "Number of new plots 2\n",
      "Number of dynamic tracks before run() 2\n",
      "trk.kf.x = [[14.08117406]\n",
      " [ 3.38651994]\n",
      " [ 1.94579816]\n",
      " [ 0.2294357 ]] age = 44 hits = 33\n",
      "trk.kf.x = [[31.4068966 ]\n",
      " [ 1.24142609]\n",
      " [ 3.62710544]\n",
      " [-0.06835991]] age = 41 hits = 40\n"
     ]
    },
    {
     "name": "stderr",
     "output_type": "stream",
     "text": [
      "/home/kfir/workspace/RadarLocalization/dataset.py:263: VisibleDeprecationWarning: Creating an ndarray from ragged nested sequences (which is a list-or-tuple of lists-or-tuples-or ndarrays with different lengths or shapes) is deprecated. If you meant to do this, you must specify 'dtype=object' when creating the ndarray\n",
      "  veh_speed = np.array([(m['utime'], m['vel']) for m in self.veh_pose])\n"
     ]
    },
    {
     "name": "stdout",
     "output_type": "stream",
     "text": [
      "frame_idx = 45\n",
      "Number of new plots 2\n",
      "Number of dynamic tracks before run() 2\n",
      "trk.kf.x = [[14.23222774]\n",
      " [ 3.34313051]\n",
      " [ 1.9496056 ]\n",
      " [ 0.19784227]] age = 45 hits = 34\n",
      "trk.kf.x = [[31.69095549]\n",
      " [ 1.15705985]\n",
      " [ 3.65046792]\n",
      " [-0.0910353 ]] age = 42 hits = 41\n"
     ]
    },
    {
     "name": "stderr",
     "output_type": "stream",
     "text": [
      "/home/kfir/workspace/RadarLocalization/dataset.py:263: VisibleDeprecationWarning: Creating an ndarray from ragged nested sequences (which is a list-or-tuple of lists-or-tuples-or ndarrays with different lengths or shapes) is deprecated. If you meant to do this, you must specify 'dtype=object' when creating the ndarray\n",
      "  veh_speed = np.array([(m['utime'], m['vel']) for m in self.veh_pose])\n"
     ]
    },
    {
     "name": "stdout",
     "output_type": "stream",
     "text": [
      "frame_idx = 46\n",
      "Number of new plots 2\n",
      "Number of dynamic tracks before run() 2\n",
      "trk.kf.x = [[14.50798381]\n",
      " [ 3.33843832]\n",
      " [ 1.92841505]\n",
      " [ 0.20013658]] age = 46 hits = 35\n",
      "trk.kf.x = [[32.23333266]\n",
      " [ 1.12425141]\n",
      " [ 3.65801326]\n",
      " [-0.0713246 ]] age = 43 hits = 42\n"
     ]
    },
    {
     "name": "stderr",
     "output_type": "stream",
     "text": [
      "/home/kfir/workspace/RadarLocalization/dataset.py:263: VisibleDeprecationWarning: Creating an ndarray from ragged nested sequences (which is a list-or-tuple of lists-or-tuples-or ndarrays with different lengths or shapes) is deprecated. If you meant to do this, you must specify 'dtype=object' when creating the ndarray\n",
      "  veh_speed = np.array([(m['utime'], m['vel']) for m in self.veh_pose])\n"
     ]
    },
    {
     "name": "stdout",
     "output_type": "stream",
     "text": [
      "frame_idx = 47\n",
      "Number of new plots 2\n",
      "Number of dynamic tracks before run() 2\n",
      "trk.kf.x = [[14.65562502]\n",
      " [ 3.30609442]\n",
      " [ 1.94264737]\n",
      " [ 0.17554234]] age = 47 hits = 36\n",
      "trk.kf.x = [[32.51161944]\n",
      " [ 1.09711997]\n",
      " [ 3.67667375]\n",
      " [-0.06932793]] age = 44 hits = 43\n"
     ]
    },
    {
     "name": "stderr",
     "output_type": "stream",
     "text": [
      "/home/kfir/workspace/RadarLocalization/dataset.py:263: VisibleDeprecationWarning: Creating an ndarray from ragged nested sequences (which is a list-or-tuple of lists-or-tuples-or ndarrays with different lengths or shapes) is deprecated. If you meant to do this, you must specify 'dtype=object' when creating the ndarray\n",
      "  veh_speed = np.array([(m['utime'], m['vel']) for m in self.veh_pose])\n"
     ]
    },
    {
     "name": "stdout",
     "output_type": "stream",
     "text": [
      "frame_idx = 48\n",
      "Number of new plots 2\n",
      "Number of dynamic tracks before run() 2\n",
      "trk.kf.x = [[14.79705729]\n",
      " [ 3.35353385]\n",
      " [ 1.93843231]\n",
      " [ 0.20782094]] age = 48 hits = 37\n",
      "trk.kf.x = [[32.78922078]\n",
      " [ 1.10730532]\n",
      " [ 3.6819185 ]\n",
      " [-0.06414498]] age = 45 hits = 44\n"
     ]
    },
    {
     "name": "stderr",
     "output_type": "stream",
     "text": [
      "/home/kfir/workspace/RadarLocalization/dataset.py:263: VisibleDeprecationWarning: Creating an ndarray from ragged nested sequences (which is a list-or-tuple of lists-or-tuples-or ndarrays with different lengths or shapes) is deprecated. If you meant to do this, you must specify 'dtype=object' when creating the ndarray\n",
      "  veh_speed = np.array([(m['utime'], m['vel']) for m in self.veh_pose])\n"
     ]
    },
    {
     "name": "stdout",
     "output_type": "stream",
     "text": [
      "frame_idx = 49\n",
      "Number of new plots 2\n",
      "Number of dynamic tracks before run() 2\n",
      "trk.kf.x = [[14.95289878]\n",
      " [ 3.37764436]\n",
      " [ 1.93773764]\n",
      " [ 0.21714854]] age = 49 hits = 38\n",
      "trk.kf.x = [[33.06323555]\n",
      " [ 1.12172054]\n",
      " [ 3.68107941]\n",
      " [-0.05458032]] age = 46 hits = 45\n"
     ]
    },
    {
     "name": "stderr",
     "output_type": "stream",
     "text": [
      "/home/kfir/workspace/RadarLocalization/dataset.py:263: VisibleDeprecationWarning: Creating an ndarray from ragged nested sequences (which is a list-or-tuple of lists-or-tuples-or ndarrays with different lengths or shapes) is deprecated. If you meant to do this, you must specify 'dtype=object' when creating the ndarray\n",
      "  veh_speed = np.array([(m['utime'], m['vel']) for m in self.veh_pose])\n"
     ]
    },
    {
     "name": "stdout",
     "output_type": "stream",
     "text": [
      "frame_idx = 50\n",
      "Number of new plots 2\n",
      "Number of dynamic tracks before run() 2\n",
      "trk.kf.x = [[15.09833209]\n",
      " [ 3.46437825]\n",
      " [ 1.92485506]\n",
      " [ 0.28733714]] age = 50 hits = 39\n",
      "trk.kf.x = [[ 3.33046440e+01]\n",
      " [ 1.17375683e+00]\n",
      " [ 3.62270918e+00]\n",
      " [-1.37835030e-02]] age = 47 hits = 46\n"
     ]
    },
    {
     "name": "stderr",
     "output_type": "stream",
     "text": [
      "/home/kfir/workspace/RadarLocalization/dataset.py:263: VisibleDeprecationWarning: Creating an ndarray from ragged nested sequences (which is a list-or-tuple of lists-or-tuples-or ndarrays with different lengths or shapes) is deprecated. If you meant to do this, you must specify 'dtype=object' when creating the ndarray\n",
      "  veh_speed = np.array([(m['utime'], m['vel']) for m in self.veh_pose])\n"
     ]
    },
    {
     "name": "stdout",
     "output_type": "stream",
     "text": [
      "frame_idx = 51\n",
      "Number of new plots 2\n",
      "Number of dynamic tracks before run() 2\n",
      "trk.kf.x = [[15.24798793]\n",
      " [ 3.4696256 ]\n",
      " [ 1.92293048]\n",
      " [ 0.27212184]] age = 51 hits = 40\n",
      "trk.kf.x = [[ 3.35986031e+01]\n",
      " [ 1.18904996e+00]\n",
      " [ 3.64121440e+00]\n",
      " [-1.14973681e-02]] age = 48 hits = 47\n"
     ]
    },
    {
     "name": "stderr",
     "output_type": "stream",
     "text": [
      "/home/kfir/workspace/RadarLocalization/dataset.py:263: VisibleDeprecationWarning: Creating an ndarray from ragged nested sequences (which is a list-or-tuple of lists-or-tuples-or ndarrays with different lengths or shapes) is deprecated. If you meant to do this, you must specify 'dtype=object' when creating the ndarray\n",
      "  veh_speed = np.array([(m['utime'], m['vel']) for m in self.veh_pose])\n"
     ]
    },
    {
     "name": "stdout",
     "output_type": "stream",
     "text": [
      "frame_idx = 52\n",
      "Number of new plots 2\n",
      "Number of dynamic tracks before run() 2\n",
      "trk.kf.x = [[15.51976633]\n",
      " [ 3.47479728]\n",
      " [ 1.93437292]\n",
      " [ 0.23412028]] age = 52 hits = 41\n",
      "trk.kf.x = [[ 3.41415547e+01]\n",
      " [ 1.23889787e+00]\n",
      " [ 3.72540503e+00]\n",
      " [-3.67702541e-03]] age = 49 hits = 48\n"
     ]
    },
    {
     "name": "stderr",
     "output_type": "stream",
     "text": [
      "/home/kfir/workspace/RadarLocalization/dataset.py:263: VisibleDeprecationWarning: Creating an ndarray from ragged nested sequences (which is a list-or-tuple of lists-or-tuples-or ndarrays with different lengths or shapes) is deprecated. If you meant to do this, you must specify 'dtype=object' when creating the ndarray\n",
      "  veh_speed = np.array([(m['utime'], m['vel']) for m in self.veh_pose])\n"
     ]
    },
    {
     "name": "stdout",
     "output_type": "stream",
     "text": [
      "frame_idx = 53\n",
      "Number of new plots 2\n",
      "Number of dynamic tracks before run() 2\n",
      "trk.kf.x = [[15.6733464 ]\n",
      " [ 3.45358985]\n",
      " [ 1.95183403]\n",
      " [ 0.19408225]] age = 53 hits = 42\n",
      "trk.kf.x = [[ 3.44486697e+01]\n",
      " [ 1.25414771e+00]\n",
      " [ 3.77173417e+00]\n",
      " [-9.95966986e-03]] age = 50 hits = 49\n"
     ]
    },
    {
     "name": "stderr",
     "output_type": "stream",
     "text": [
      "/home/kfir/workspace/RadarLocalization/dataset.py:263: VisibleDeprecationWarning: Creating an ndarray from ragged nested sequences (which is a list-or-tuple of lists-or-tuples-or ndarrays with different lengths or shapes) is deprecated. If you meant to do this, you must specify 'dtype=object' when creating the ndarray\n",
      "  veh_speed = np.array([(m['utime'], m['vel']) for m in self.veh_pose])\n"
     ]
    },
    {
     "name": "stdout",
     "output_type": "stream",
     "text": [
      "frame_idx = 54\n",
      "Number of new plots 2\n",
      "Number of dynamic tracks before run() 2\n",
      "trk.kf.x = [[15.81872984]\n",
      " [ 3.43609904]\n",
      " [ 1.96731661]\n",
      " [ 0.1551915 ]] age = 54 hits = 43\n",
      "trk.kf.x = [[ 3.47311127e+01]\n",
      " [ 1.26917104e+00]\n",
      " [ 3.79817327e+00]\n",
      " [-2.28547647e-02]] age = 51 hits = 50\n"
     ]
    },
    {
     "name": "stderr",
     "output_type": "stream",
     "text": [
      "/home/kfir/workspace/RadarLocalization/dataset.py:263: VisibleDeprecationWarning: Creating an ndarray from ragged nested sequences (which is a list-or-tuple of lists-or-tuples-or ndarrays with different lengths or shapes) is deprecated. If you meant to do this, you must specify 'dtype=object' when creating the ndarray\n",
      "  veh_speed = np.array([(m['utime'], m['vel']) for m in self.veh_pose])\n"
     ]
    },
    {
     "name": "stdout",
     "output_type": "stream",
     "text": [
      "frame_idx = 55\n",
      "Number of new plots 2\n",
      "Number of dynamic tracks before run() 2\n",
      "trk.kf.x = [[15.97026633]\n",
      " [ 3.48601384]\n",
      " [ 2.05313766]\n",
      " [ 0.17643646]] age = 55 hits = 44\n",
      "trk.kf.x = [[ 3.49960584e+01]\n",
      " [ 1.35586583e+00]\n",
      " [ 3.81852557e+00]\n",
      " [-6.77730397e-03]] age = 52 hits = 51\n"
     ]
    },
    {
     "name": "stderr",
     "output_type": "stream",
     "text": [
      "/home/kfir/workspace/RadarLocalization/dataset.py:263: VisibleDeprecationWarning: Creating an ndarray from ragged nested sequences (which is a list-or-tuple of lists-or-tuples-or ndarrays with different lengths or shapes) is deprecated. If you meant to do this, you must specify 'dtype=object' when creating the ndarray\n",
      "  veh_speed = np.array([(m['utime'], m['vel']) for m in self.veh_pose])\n"
     ]
    },
    {
     "name": "stdout",
     "output_type": "stream",
     "text": [
      "frame_idx = 56\n",
      "Number of new plots 2\n",
      "Number of dynamic tracks before run() 2\n",
      "trk.kf.x = [[16.13645205]\n",
      " [ 3.50011256]\n",
      " [ 2.1178826 ]\n",
      " [ 0.16220684]] age = 56 hits = 45\n",
      "trk.kf.x = [[ 3.52892753e+01]\n",
      " [ 1.42198088e+00]\n",
      " [ 3.83429903e+00]\n",
      " [-3.16247529e-03]] age = 53 hits = 52\n"
     ]
    },
    {
     "name": "stderr",
     "output_type": "stream",
     "text": [
      "/home/kfir/workspace/RadarLocalization/dataset.py:263: VisibleDeprecationWarning: Creating an ndarray from ragged nested sequences (which is a list-or-tuple of lists-or-tuples-or ndarrays with different lengths or shapes) is deprecated. If you meant to do this, you must specify 'dtype=object' when creating the ndarray\n",
      "  veh_speed = np.array([(m['utime'], m['vel']) for m in self.veh_pose])\n"
     ]
    },
    {
     "name": "stdout",
     "output_type": "stream",
     "text": [
      "frame_idx = 57\n",
      "Number of new plots 2\n",
      "Number of dynamic tracks before run() 2\n",
      "trk.kf.x = [[16.283366  ]\n",
      " [ 3.5592918 ]\n",
      " [ 2.15788791]\n",
      " [ 0.19343325]] age = 57 hits = 46\n",
      "trk.kf.x = [[3.55778955e+01]\n",
      " [1.47211654e+00]\n",
      " [3.92353622e+00]\n",
      " [4.13140343e-03]] age = 54 hits = 53\n"
     ]
    },
    {
     "name": "stderr",
     "output_type": "stream",
     "text": [
      "/home/kfir/workspace/RadarLocalization/dataset.py:263: VisibleDeprecationWarning: Creating an ndarray from ragged nested sequences (which is a list-or-tuple of lists-or-tuples-or ndarrays with different lengths or shapes) is deprecated. If you meant to do this, you must specify 'dtype=object' when creating the ndarray\n",
      "  veh_speed = np.array([(m['utime'], m['vel']) for m in self.veh_pose])\n"
     ]
    },
    {
     "name": "stdout",
     "output_type": "stream",
     "text": [
      "frame_idx = 58\n",
      "Number of new plots 2\n",
      "Number of dynamic tracks before run() 2\n",
      "trk.kf.x = [[16.61120061]\n",
      " [ 3.6084254 ]\n",
      " [ 2.19215317]\n",
      " [ 0.19066628]] age = 58 hits = 47\n",
      "trk.kf.x = [[3.62029154e+01]\n",
      " [1.54541581e+00]\n",
      " [4.00890608e+00]\n",
      " [8.47751771e-03]] age = 55 hits = 54\n"
     ]
    },
    {
     "name": "stderr",
     "output_type": "stream",
     "text": [
      "/home/kfir/workspace/RadarLocalization/dataset.py:263: VisibleDeprecationWarning: Creating an ndarray from ragged nested sequences (which is a list-or-tuple of lists-or-tuples-or ndarrays with different lengths or shapes) is deprecated. If you meant to do this, you must specify 'dtype=object' when creating the ndarray\n",
      "  veh_speed = np.array([(m['utime'], m['vel']) for m in self.veh_pose])\n"
     ]
    },
    {
     "name": "stdout",
     "output_type": "stream",
     "text": [
      "frame_idx = 59\n",
      "Number of new plots 2\n",
      "Number of dynamic tracks before run() 2\n",
      "trk.kf.x = [[16.76719557]\n",
      " [ 3.68737461]\n",
      " [ 2.20604023]\n",
      " [ 0.22819433]] age = 59 hits = 48\n",
      "trk.kf.x = [[3.65084357e+01]\n",
      " [1.58770261e+00]\n",
      " [4.04814860e+00]\n",
      " [2.84504103e-03]] age = 56 hits = 55\n"
     ]
    },
    {
     "name": "stderr",
     "output_type": "stream",
     "text": [
      "/home/kfir/workspace/RadarLocalization/dataset.py:263: VisibleDeprecationWarning: Creating an ndarray from ragged nested sequences (which is a list-or-tuple of lists-or-tuples-or ndarrays with different lengths or shapes) is deprecated. If you meant to do this, you must specify 'dtype=object' when creating the ndarray\n",
      "  veh_speed = np.array([(m['utime'], m['vel']) for m in self.veh_pose])\n"
     ]
    },
    {
     "name": "stdout",
     "output_type": "stream",
     "text": [
      "frame_idx = 60\n",
      "Number of new plots 2\n",
      "Number of dynamic tracks before run() 2\n",
      "trk.kf.x = [[16.93190537]\n",
      " [ 3.69214135]\n",
      " [ 2.21852837]\n",
      " [ 0.20630434]] age = 60 hits = 49\n",
      "trk.kf.x = [[ 3.68084934e+01]\n",
      " [ 1.60819877e+00]\n",
      " [ 4.06695790e+00]\n",
      " [-7.43343076e-03]] age = 57 hits = 56\n"
     ]
    },
    {
     "name": "stderr",
     "output_type": "stream",
     "text": [
      "/home/kfir/workspace/RadarLocalization/dataset.py:263: VisibleDeprecationWarning: Creating an ndarray from ragged nested sequences (which is a list-or-tuple of lists-or-tuples-or ndarrays with different lengths or shapes) is deprecated. If you meant to do this, you must specify 'dtype=object' when creating the ndarray\n",
      "  veh_speed = np.array([(m['utime'], m['vel']) for m in self.veh_pose])\n"
     ]
    },
    {
     "name": "stdout",
     "output_type": "stream",
     "text": [
      "frame_idx = 61\n",
      "Number of new plots 2\n",
      "Number of dynamic tracks before run() 2\n",
      "trk.kf.x = [[17.09040626]\n",
      " [ 3.74631727]\n",
      " [ 2.2111083 ]\n",
      " [ 0.22308155]] age = 61 hits = 50\n",
      "trk.kf.x = [[ 3.71156307e+01]\n",
      " [ 1.64134833e+00]\n",
      " [ 4.07083293e+00]\n",
      " [-1.42447889e-02]] age = 58 hits = 57\n"
     ]
    },
    {
     "name": "stderr",
     "output_type": "stream",
     "text": [
      "/home/kfir/workspace/RadarLocalization/dataset.py:263: VisibleDeprecationWarning: Creating an ndarray from ragged nested sequences (which is a list-or-tuple of lists-or-tuples-or ndarrays with different lengths or shapes) is deprecated. If you meant to do this, you must specify 'dtype=object' when creating the ndarray\n",
      "  veh_speed = np.array([(m['utime'], m['vel']) for m in self.veh_pose])\n"
     ]
    },
    {
     "name": "stdout",
     "output_type": "stream",
     "text": [
      "frame_idx = 62\n",
      "Number of new plots 2\n",
      "Number of dynamic tracks before run() 2\n",
      "trk.kf.x = [[17.2535531 ]\n",
      " [ 3.78132308]\n",
      " [ 2.20855341]\n",
      " [ 0.21806312]] age = 62 hits = 51\n",
      "trk.kf.x = [[3.74409938e+01]\n",
      " [1.73270412e+00]\n",
      " [4.07575076e+00]\n",
      " [7.14942230e-03]] age = 59 hits = 58\n"
     ]
    },
    {
     "name": "stderr",
     "output_type": "stream",
     "text": [
      "/home/kfir/workspace/RadarLocalization/dataset.py:263: VisibleDeprecationWarning: Creating an ndarray from ragged nested sequences (which is a list-or-tuple of lists-or-tuples-or ndarrays with different lengths or shapes) is deprecated. If you meant to do this, you must specify 'dtype=object' when creating the ndarray\n",
      "  veh_speed = np.array([(m['utime'], m['vel']) for m in self.veh_pose])\n"
     ]
    },
    {
     "name": "stdout",
     "output_type": "stream",
     "text": [
      "frame_idx = 63\n",
      "Number of new plots 2\n",
      "Number of dynamic tracks before run() 2\n",
      "trk.kf.x = [[17.59226122]\n",
      " [ 3.78485749]\n",
      " [ 2.32889708]\n",
      " [ 0.18770591]] age = 63 hits = 52\n",
      "trk.kf.x = [[3.80327942e+01]\n",
      " [1.83352793e+00]\n",
      " [4.08381289e+00]\n",
      " [2.08882387e-02]] age = 60 hits = 59\n"
     ]
    },
    {
     "name": "stderr",
     "output_type": "stream",
     "text": [
      "/home/kfir/workspace/RadarLocalization/dataset.py:263: VisibleDeprecationWarning: Creating an ndarray from ragged nested sequences (which is a list-or-tuple of lists-or-tuples-or ndarrays with different lengths or shapes) is deprecated. If you meant to do this, you must specify 'dtype=object' when creating the ndarray\n",
      "  veh_speed = np.array([(m['utime'], m['vel']) for m in self.veh_pose])\n"
     ]
    },
    {
     "name": "stdout",
     "output_type": "stream",
     "text": [
      "frame_idx = 64\n",
      "Number of new plots 2\n",
      "Number of dynamic tracks before run() 2\n",
      "trk.kf.x = [[17.78910078]\n",
      " [ 3.74913602]\n",
      " [ 2.3949854 ]\n",
      " [ 0.14247881]] age = 64 hits = 53\n",
      "trk.kf.x = [[3.83346641e+01]\n",
      " [1.85297808e+00]\n",
      " [4.08803909e+00]\n",
      " [8.13035200e-03]] age = 61 hits = 60\n"
     ]
    },
    {
     "name": "stderr",
     "output_type": "stream",
     "text": [
      "/home/kfir/workspace/RadarLocalization/dataset.py:263: VisibleDeprecationWarning: Creating an ndarray from ragged nested sequences (which is a list-or-tuple of lists-or-tuples-or ndarrays with different lengths or shapes) is deprecated. If you meant to do this, you must specify 'dtype=object' when creating the ndarray\n",
      "  veh_speed = np.array([(m['utime'], m['vel']) for m in self.veh_pose])\n"
     ]
    },
    {
     "name": "stdout",
     "output_type": "stream",
     "text": [
      "frame_idx = 65\n",
      "Number of new plots 2\n",
      "Number of dynamic tracks before run() 2\n",
      "trk.kf.x = [[17.97586648]\n",
      " [ 3.72796836]\n",
      " [ 2.42697215]\n",
      " [ 0.10309795]] age = 65 hits = 54\n",
      "trk.kf.x = [[3.86319959e+01]\n",
      " [1.92640276e+00]\n",
      " [4.04111661e+00]\n",
      " [1.68923715e-02]] age = 62 hits = 61\n"
     ]
    },
    {
     "name": "stderr",
     "output_type": "stream",
     "text": [
      "/home/kfir/workspace/RadarLocalization/dataset.py:263: VisibleDeprecationWarning: Creating an ndarray from ragged nested sequences (which is a list-or-tuple of lists-or-tuples-or ndarrays with different lengths or shapes) is deprecated. If you meant to do this, you must specify 'dtype=object' when creating the ndarray\n",
      "  veh_speed = np.array([(m['utime'], m['vel']) for m in self.veh_pose])\n"
     ]
    },
    {
     "name": "stdout",
     "output_type": "stream",
     "text": [
      "frame_idx = 66\n",
      "Number of new plots 2\n",
      "Number of dynamic tracks before run() 2\n",
      "trk.kf.x = [[18.14563782]\n",
      " [ 3.7675078 ]\n",
      " [ 2.44539087]\n",
      " [ 0.12104251]] age = 66 hits = 55\n",
      "trk.kf.x = [[3.89525441e+01]\n",
      " [1.94465357e+00]\n",
      " [4.10277668e+00]\n",
      " [1.06211380e-02]] age = 63 hits = 62\n"
     ]
    },
    {
     "name": "stderr",
     "output_type": "stream",
     "text": [
      "/home/kfir/workspace/RadarLocalization/dataset.py:263: VisibleDeprecationWarning: Creating an ndarray from ragged nested sequences (which is a list-or-tuple of lists-or-tuples-or ndarrays with different lengths or shapes) is deprecated. If you meant to do this, you must specify 'dtype=object' when creating the ndarray\n",
      "  veh_speed = np.array([(m['utime'], m['vel']) for m in self.veh_pose])\n"
     ]
    },
    {
     "name": "stdout",
     "output_type": "stream",
     "text": [
      "frame_idx = 67\n",
      "Number of new plots 2\n",
      "Number of dynamic tracks before run() 2\n",
      "trk.kf.x = [[18.32116555]\n",
      " [ 3.78622546]\n",
      " [ 2.44915771]\n",
      " [ 0.13374444]] age = 67 hits = 56\n",
      "trk.kf.x = [[3.92615068e+01]\n",
      " [1.93414958e+00]\n",
      " [4.11319396e+00]\n",
      " [4.59993028e-03]] age = 64 hits = 63\n"
     ]
    },
    {
     "name": "stderr",
     "output_type": "stream",
     "text": [
      "/home/kfir/workspace/RadarLocalization/dataset.py:263: VisibleDeprecationWarning: Creating an ndarray from ragged nested sequences (which is a list-or-tuple of lists-or-tuples-or ndarrays with different lengths or shapes) is deprecated. If you meant to do this, you must specify 'dtype=object' when creating the ndarray\n",
      "  veh_speed = np.array([(m['utime'], m['vel']) for m in self.veh_pose])\n"
     ]
    },
    {
     "name": "stdout",
     "output_type": "stream",
     "text": [
      "frame_idx = 68\n",
      "Number of new plots 2\n",
      "Number of dynamic tracks before run() 2\n",
      "trk.kf.x = [[18.70173876]\n",
      " [ 3.73022189]\n",
      " [ 2.46592833]\n",
      " [ 0.10444713]] age = 68 hits = 57\n",
      "trk.kf.x = [[3.98858600e+01]\n",
      " [1.87339696e+00]\n",
      " [4.10308585e+00]\n",
      " [6.33285545e-03]] age = 65 hits = 64\n"
     ]
    },
    {
     "name": "stderr",
     "output_type": "stream",
     "text": [
      "/home/kfir/workspace/RadarLocalization/dataset.py:263: VisibleDeprecationWarning: Creating an ndarray from ragged nested sequences (which is a list-or-tuple of lists-or-tuples-or ndarrays with different lengths or shapes) is deprecated. If you meant to do this, you must specify 'dtype=object' when creating the ndarray\n",
      "  veh_speed = np.array([(m['utime'], m['vel']) for m in self.veh_pose])\n"
     ]
    },
    {
     "name": "stdout",
     "output_type": "stream",
     "text": [
      "frame_idx = 69\n",
      "Number of new plots 2\n",
      "Number of dynamic tracks before run() 2\n",
      "trk.kf.x = [[18.89829712]\n",
      " [ 3.69823945]\n",
      " [ 2.47453653]\n",
      " [ 0.11521554]] age = 69 hits = 58\n",
      "trk.kf.x = [[ 4.02035899e+01]\n",
      " [ 1.74952184e+00]\n",
      " [ 4.10257363e+00]\n",
      " [-6.74818619e-03]] age = 66 hits = 65\n"
     ]
    },
    {
     "name": "stderr",
     "output_type": "stream",
     "text": [
      "/home/kfir/workspace/RadarLocalization/dataset.py:263: VisibleDeprecationWarning: Creating an ndarray from ragged nested sequences (which is a list-or-tuple of lists-or-tuples-or ndarrays with different lengths or shapes) is deprecated. If you meant to do this, you must specify 'dtype=object' when creating the ndarray\n",
      "  veh_speed = np.array([(m['utime'], m['vel']) for m in self.veh_pose])\n"
     ]
    },
    {
     "name": "stdout",
     "output_type": "stream",
     "text": [
      "frame_idx = 70\n",
      "Number of new plots 2\n",
      "Number of dynamic tracks before run() 2\n",
      "trk.kf.x = [[19.10599409]\n",
      " [ 3.66369445]\n",
      " [ 2.4701429 ]\n",
      " [ 0.12802039]] age = 70 hits = 59\n",
      "trk.kf.x = [[4.04916749e+01]\n",
      " [1.65232901e+00]\n",
      " [4.03868177e+00]\n",
      " [1.76240288e-03]] age = 67 hits = 66\n"
     ]
    },
    {
     "name": "stderr",
     "output_type": "stream",
     "text": [
      "/home/kfir/workspace/RadarLocalization/dataset.py:263: VisibleDeprecationWarning: Creating an ndarray from ragged nested sequences (which is a list-or-tuple of lists-or-tuples-or ndarrays with different lengths or shapes) is deprecated. If you meant to do this, you must specify 'dtype=object' when creating the ndarray\n",
      "  veh_speed = np.array([(m['utime'], m['vel']) for m in self.veh_pose])\n"
     ]
    },
    {
     "name": "stdout",
     "output_type": "stream",
     "text": [
      "frame_idx = 71\n",
      "Number of new plots 2\n",
      "Number of dynamic tracks before run() 2\n",
      "trk.kf.x = [[19.27642978]\n",
      " [ 3.64137259]\n",
      " [ 2.45585641]\n",
      " [ 0.13037891]] age = 71 hits = 60\n",
      "trk.kf.x = [[4.07329625e+01]\n",
      " [1.62430362e+00]\n",
      " [3.98890808e+00]\n",
      " [1.95434027e-02]] age = 68 hits = 67\n"
     ]
    },
    {
     "name": "stderr",
     "output_type": "stream",
     "text": [
      "/home/kfir/workspace/RadarLocalization/dataset.py:263: VisibleDeprecationWarning: Creating an ndarray from ragged nested sequences (which is a list-or-tuple of lists-or-tuples-or ndarrays with different lengths or shapes) is deprecated. If you meant to do this, you must specify 'dtype=object' when creating the ndarray\n",
      "  veh_speed = np.array([(m['utime'], m['vel']) for m in self.veh_pose])\n"
     ]
    },
    {
     "name": "stdout",
     "output_type": "stream",
     "text": [
      "frame_idx = 72\n",
      "Number of new plots 2\n",
      "Number of dynamic tracks before run() 2\n",
      "trk.kf.x = [[19.47685017]\n",
      " [ 3.64025203]\n",
      " [ 2.46103537]\n",
      " [ 0.13558802]] age = 72 hits = 61\n",
      "trk.kf.x = [[4.10508091e+01]\n",
      " [1.56589975e+00]\n",
      " [4.01771031e+00]\n",
      " [4.78222228e-03]] age = 69 hits = 68\n"
     ]
    },
    {
     "name": "stderr",
     "output_type": "stream",
     "text": [
      "/home/kfir/workspace/RadarLocalization/dataset.py:263: VisibleDeprecationWarning: Creating an ndarray from ragged nested sequences (which is a list-or-tuple of lists-or-tuples-or ndarrays with different lengths or shapes) is deprecated. If you meant to do this, you must specify 'dtype=object' when creating the ndarray\n",
      "  veh_speed = np.array([(m['utime'], m['vel']) for m in self.veh_pose])\n"
     ]
    },
    {
     "name": "stdout",
     "output_type": "stream",
     "text": [
      "frame_idx = 73\n",
      "Number of new plots 2\n",
      "Number of dynamic tracks before run() 2\n",
      "trk.kf.x = [[19.65997268]\n",
      " [ 3.69125463]\n",
      " [ 2.46391933]\n",
      " [ 0.18558297]] age = 73 hits = 62\n",
      "trk.kf.x = [[41.40422965]\n",
      " [ 1.43613342]\n",
      " [ 4.09403273]\n",
      " [-0.04317342]] age = 70 hits = 69\n"
     ]
    },
    {
     "name": "stderr",
     "output_type": "stream",
     "text": [
      "/home/kfir/workspace/RadarLocalization/dataset.py:263: VisibleDeprecationWarning: Creating an ndarray from ragged nested sequences (which is a list-or-tuple of lists-or-tuples-or ndarrays with different lengths or shapes) is deprecated. If you meant to do this, you must specify 'dtype=object' when creating the ndarray\n",
      "  veh_speed = np.array([(m['utime'], m['vel']) for m in self.veh_pose])\n"
     ]
    },
    {
     "name": "stdout",
     "output_type": "stream",
     "text": [
      "frame_idx = 74\n",
      "Number of new plots 2\n",
      "Number of dynamic tracks before run() 2\n",
      "trk.kf.x = [[20.05332474]\n",
      " [ 3.59624084]\n",
      " [ 2.46302059]\n",
      " [ 0.14856963]] age = 74 hits = 63\n",
      "trk.kf.x = [[42.03634043]\n",
      " [ 1.24290125]\n",
      " [ 4.03158897]\n",
      " [-0.07222552]] age = 71 hits = 70\n"
     ]
    },
    {
     "name": "stderr",
     "output_type": "stream",
     "text": [
      "/home/kfir/workspace/RadarLocalization/dataset.py:263: VisibleDeprecationWarning: Creating an ndarray from ragged nested sequences (which is a list-or-tuple of lists-or-tuples-or ndarrays with different lengths or shapes) is deprecated. If you meant to do this, you must specify 'dtype=object' when creating the ndarray\n",
      "  veh_speed = np.array([(m['utime'], m['vel']) for m in self.veh_pose])\n"
     ]
    },
    {
     "name": "stdout",
     "output_type": "stream",
     "text": [
      "frame_idx = 75\n",
      "Number of new plots 2\n",
      "Number of dynamic tracks before run() 2\n",
      "trk.kf.x = [[20.25243745]\n",
      " [ 3.46935993]\n",
      " [ 2.47628775]\n",
      " [ 0.08474628]] age = 75 hits = 64\n",
      "trk.kf.x = [[42.34552297]\n",
      " [ 1.08731571]\n",
      " [ 4.01326917]\n",
      " [-0.10179278]] age = 72 hits = 71\n"
     ]
    },
    {
     "name": "stderr",
     "output_type": "stream",
     "text": [
      "/home/kfir/workspace/RadarLocalization/dataset.py:263: VisibleDeprecationWarning: Creating an ndarray from ragged nested sequences (which is a list-or-tuple of lists-or-tuples-or ndarrays with different lengths or shapes) is deprecated. If you meant to do this, you must specify 'dtype=object' when creating the ndarray\n",
      "  veh_speed = np.array([(m['utime'], m['vel']) for m in self.veh_pose])\n"
     ]
    },
    {
     "name": "stdout",
     "output_type": "stream",
     "text": [
      "frame_idx = 76\n",
      "Number of new plots 2\n",
      "Number of dynamic tracks before run() 2\n",
      "trk.kf.x = [[20.44213325]\n",
      " [ 3.36033771]\n",
      " [ 2.49173718]\n",
      " [ 0.03533513]] age = 76 hits = 65\n",
      "trk.kf.x = [[42.65368713]\n",
      " [ 0.97104827]\n",
      " [ 4.01115694]\n",
      " [-0.11298023]] age = 73 hits = 72\n"
     ]
    },
    {
     "name": "stderr",
     "output_type": "stream",
     "text": [
      "/home/kfir/workspace/RadarLocalization/dataset.py:263: VisibleDeprecationWarning: Creating an ndarray from ragged nested sequences (which is a list-or-tuple of lists-or-tuples-or ndarrays with different lengths or shapes) is deprecated. If you meant to do this, you must specify 'dtype=object' when creating the ndarray\n",
      "  veh_speed = np.array([(m['utime'], m['vel']) for m in self.veh_pose])\n"
     ]
    },
    {
     "name": "stdout",
     "output_type": "stream",
     "text": [
      "frame_idx = 77\n",
      "Number of new plots 2\n",
      "Number of dynamic tracks before run() 2\n",
      "trk.kf.x = [[2.06288400e+01]\n",
      " [3.31165477e+00]\n",
      " [2.49603816e+00]\n",
      " [1.07136207e-02]] age = 77 hits = 66\n",
      "trk.kf.x = [[42.95189134]\n",
      " [ 0.91799095]\n",
      " [ 4.00127631]\n",
      " [-0.12069555]] age = 74 hits = 73\n"
     ]
    },
    {
     "name": "stderr",
     "output_type": "stream",
     "text": [
      "/home/kfir/workspace/RadarLocalization/dataset.py:263: VisibleDeprecationWarning: Creating an ndarray from ragged nested sequences (which is a list-or-tuple of lists-or-tuples-or ndarrays with different lengths or shapes) is deprecated. If you meant to do this, you must specify 'dtype=object' when creating the ndarray\n",
      "  veh_speed = np.array([(m['utime'], m['vel']) for m in self.veh_pose])\n"
     ]
    },
    {
     "name": "stdout",
     "output_type": "stream",
     "text": [
      "frame_idx = 78\n",
      "Number of new plots 3\n",
      "Number of dynamic tracks before run() 2\n",
      "Initiating new track: x=[[40.22427247]\n",
      " [ 2.62382595]\n",
      " [ 3.74204735]\n",
      " [ 0.24409344]] for measurement z=[40.30975761  0.06513764  3.75      ]\n",
      "Initiating new track: x=[[46.30878727]\n",
      " [-0.80329501]\n",
      " [ 4.12437953]\n",
      " [-0.07154352]] for measurement z=[ 4.63157539e+01 -1.73447525e-02  4.12500000e+00]\n",
      "trk.kf.x = [[20.84498069]\n",
      " [ 3.23930329]\n",
      " [ 2.49543048]\n",
      " [-0.0363422 ]] age = 78 hits = 67\n",
      "trk.kf.x = [[43.24756971]\n",
      " [ 0.87985493]\n",
      " [ 3.96838318]\n",
      " [-0.12337147]] age = 75 hits = 73\n",
      "trk.kf.x = [[40.22427247]\n",
      " [ 2.62382595]\n",
      " [ 3.74204735]\n",
      " [ 0.24409344]] age = 1 hits = 1\n",
      "trk.kf.x = [[46.30878727]\n",
      " [-0.80329501]\n",
      " [ 4.12437953]\n",
      " [-0.07154352]] age = 1 hits = 1\n"
     ]
    },
    {
     "name": "stderr",
     "output_type": "stream",
     "text": [
      "/home/kfir/workspace/RadarLocalization/dataset.py:263: VisibleDeprecationWarning: Creating an ndarray from ragged nested sequences (which is a list-or-tuple of lists-or-tuples-or ndarrays with different lengths or shapes) is deprecated. If you meant to do this, you must specify 'dtype=object' when creating the ndarray\n",
      "  veh_speed = np.array([(m['utime'], m['vel']) for m in self.veh_pose])\n"
     ]
    },
    {
     "name": "stdout",
     "output_type": "stream",
     "text": [
      "frame_idx = 79\n",
      "Number of new plots 2\n",
      "Number of dynamic tracks before run() 4\n",
      "trk.kf.x = [[21.05916804]\n",
      " [ 3.19660954]\n",
      " [ 2.48680576]\n",
      " [-0.06072364]] age = 79 hits = 68\n",
      "trk.kf.x = [[43.54159459]\n",
      " [ 0.84874723]\n",
      " [ 3.90943224]\n",
      " [-0.1271863 ]] age = 76 hits = 74\n",
      "trk.kf.x = [[40.5049182 ]\n",
      " [ 2.6243752 ]\n",
      " [ 3.70024889]\n",
      " [ 0.24245933]] age = 2 hits = 1\n",
      "trk.kf.x = [[46.61678706]\n",
      " [-0.82928627]\n",
      " [ 4.08244163]\n",
      " [-0.07334644]] age = 2 hits = 1\n"
     ]
    },
    {
     "name": "stderr",
     "output_type": "stream",
     "text": [
      "/home/kfir/workspace/RadarLocalization/dataset.py:263: VisibleDeprecationWarning: Creating an ndarray from ragged nested sequences (which is a list-or-tuple of lists-or-tuples-or ndarrays with different lengths or shapes) is deprecated. If you meant to do this, you must specify 'dtype=object' when creating the ndarray\n",
      "  veh_speed = np.array([(m['utime'], m['vel']) for m in self.veh_pose])\n"
     ]
    },
    {
     "name": "stdout",
     "output_type": "stream",
     "text": [
      "frame_idx = 80\n",
      "Number of new plots 2\n",
      "Number of dynamic tracks before run() 4\n",
      "trk.kf.x = [[21.43647836]\n",
      " [ 3.16996945]\n",
      " [ 2.48023836]\n",
      " [-0.03931781]] age = 80 hits = 69\n",
      "trk.kf.x = [[44.12803575]\n",
      " [ 0.75630311]\n",
      " [ 3.87152808]\n",
      " [-0.12447084]] age = 77 hits = 75\n",
      "trk.kf.x = [[41.05884324]\n",
      " [ 2.57125548]\n",
      " [ 3.65467937]\n",
      " [ 0.23449331]] age = 3 hits = 1\n",
      "trk.kf.x = [[47.22040501]\n",
      " [-0.94322489]\n",
      " [ 4.03618281]\n",
      " [-0.08214483]] age = 3 hits = 1\n"
     ]
    },
    {
     "name": "stderr",
     "output_type": "stream",
     "text": [
      "/home/kfir/workspace/RadarLocalization/dataset.py:263: VisibleDeprecationWarning: Creating an ndarray from ragged nested sequences (which is a list-or-tuple of lists-or-tuples-or ndarrays with different lengths or shapes) is deprecated. If you meant to do this, you must specify 'dtype=object' when creating the ndarray\n",
      "  veh_speed = np.array([(m['utime'], m['vel']) for m in self.veh_pose])\n"
     ]
    },
    {
     "name": "stdout",
     "output_type": "stream",
     "text": [
      "frame_idx = 81\n",
      "Number of new plots 2\n",
      "Number of dynamic tracks before run() 4\n",
      "trk.kf.x = [[21.6255499 ]\n",
      " [ 3.12706957]\n",
      " [ 2.480917  ]\n",
      " [-0.03095114]] age = 81 hits = 70\n",
      "trk.kf.x = [[44.41526005]\n",
      " [ 0.64823721]\n",
      " [ 3.83597564]\n",
      " [-0.12819387]] age = 78 hits = 76\n",
      "trk.kf.x = [[41.33920946]\n",
      " [ 2.48705765]\n",
      " [ 3.63376548]\n",
      " [ 0.22553713]] age = 4 hits = 1\n",
      "trk.kf.x = [[47.52081361]\n",
      " [-1.06655962]\n",
      " [ 4.01448727]\n",
      " [-0.09204041]] age = 4 hits = 1\n"
     ]
    },
    {
     "name": "stderr",
     "output_type": "stream",
     "text": [
      "/home/kfir/workspace/RadarLocalization/dataset.py:263: VisibleDeprecationWarning: Creating an ndarray from ragged nested sequences (which is a list-or-tuple of lists-or-tuples-or ndarrays with different lengths or shapes) is deprecated. If you meant to do this, you must specify 'dtype=object' when creating the ndarray\n",
      "  veh_speed = np.array([(m['utime'], m['vel']) for m in self.veh_pose])\n"
     ]
    },
    {
     "name": "stdout",
     "output_type": "stream",
     "text": [
      "frame_idx = 82\n",
      "Number of new plots 3\n",
      "Number of dynamic tracks before run() 4\n",
      "Initiating new track: x=[[21.62761467]\n",
      " [ 3.00982053]\n",
      " [ 2.2285235 ]\n",
      " [ 0.31013387]] for measurement z=[21.83604213  0.13827751  2.25      ]\n",
      "trk.kf.x = [[21.79445743]\n",
      " [ 3.0890364 ]\n",
      " [ 2.38282447]\n",
      " [-0.04379061]] age = 82 hits = 71\n",
      "trk.kf.x = [[44.69897334]\n",
      " [ 0.57795942]\n",
      " [ 3.7909591 ]\n",
      " [-0.1333431 ]] age = 79 hits = 76\n",
      "trk.kf.x = [[41.63956492]\n",
      " [ 2.46742932]\n",
      " [ 3.70759477]\n",
      " [ 0.22959221]] age = 5 hits = 2\n",
      "trk.kf.x = [[47.81551873]\n",
      " [-1.13837436]\n",
      " [ 3.96951967]\n",
      " [-0.09743214]] age = 5 hits = 1\n",
      "trk.kf.x = [[21.62761467]\n",
      " [ 3.00982053]\n",
      " [ 2.2285235 ]\n",
      " [ 0.31013387]] age = 1 hits = 1\n"
     ]
    },
    {
     "name": "stderr",
     "output_type": "stream",
     "text": [
      "/home/kfir/workspace/RadarLocalization/dataset.py:263: VisibleDeprecationWarning: Creating an ndarray from ragged nested sequences (which is a list-or-tuple of lists-or-tuples-or ndarrays with different lengths or shapes) is deprecated. If you meant to do this, you must specify 'dtype=object' when creating the ndarray\n",
      "  veh_speed = np.array([(m['utime'], m['vel']) for m in self.veh_pose])\n"
     ]
    },
    {
     "name": "stdout",
     "output_type": "stream",
     "text": [
      "frame_idx = 83\n",
      "Number of new plots 3\n",
      "Number of dynamic tracks before run() 5\n",
      "trk.kf.x = [[21.96379979]\n",
      " [ 3.05119287]\n",
      " [ 2.32252246]\n",
      " [-0.06545402]] age = 83 hits = 72\n",
      "trk.kf.x = [[44.97977879]\n",
      " [ 0.55137463]\n",
      " [ 3.75016829]\n",
      " [-0.13472778]] age = 80 hits = 76\n",
      "trk.kf.x = [[41.96894517]\n",
      " [ 2.47649263]\n",
      " [ 3.76248601]\n",
      " [ 0.23454708]] age = 6 hits = 3\n",
      "trk.kf.x = [[48.07061479]\n",
      " [-1.18037925]\n",
      " [ 3.78911453]\n",
      " [-0.09782757]] age = 6 hits = 2\n",
      "trk.kf.x = [[21.7924273 ]\n",
      " [ 3.02497917]\n",
      " [ 2.18789654]\n",
      " [ 0.30932605]] age = 2 hits = 1\n"
     ]
    },
    {
     "name": "stderr",
     "output_type": "stream",
     "text": [
      "/home/kfir/workspace/RadarLocalization/dataset.py:263: VisibleDeprecationWarning: Creating an ndarray from ragged nested sequences (which is a list-or-tuple of lists-or-tuples-or ndarrays with different lengths or shapes) is deprecated. If you meant to do this, you must specify 'dtype=object' when creating the ndarray\n",
      "  veh_speed = np.array([(m['utime'], m['vel']) for m in self.veh_pose])\n"
     ]
    },
    {
     "name": "stdout",
     "output_type": "stream",
     "text": [
      "frame_idx = 84\n",
      "Number of new plots 3\n",
      "Number of dynamic tracks before run() 5\n",
      "trk.kf.x = [[22.14245236]\n",
      " [ 2.97646351]\n",
      " [ 2.2817588 ]\n",
      " [-0.08748794]] age = 84 hits = 73\n",
      "trk.kf.x = [[45.27849662]\n",
      " [ 0.45310529]\n",
      " [ 3.71358432]\n",
      " [-0.14190189]] age = 81 hits = 76\n",
      "trk.kf.x = [[42.28914494]\n",
      " [ 2.38783634]\n",
      " [ 3.78090782]\n",
      " [ 0.22622863]] age = 7 hits = 4\n",
      "trk.kf.x = [[48.33990827]\n",
      " [-1.30651213]\n",
      " [ 3.69033174]\n",
      " [-0.10736595]] age = 7 hits = 3\n",
      "trk.kf.x = [[21.97078075]\n",
      " [ 3.00734215]\n",
      " [ 2.1521733 ]\n",
      " [ 0.30516908]] age = 3 hits = 1\n"
     ]
    },
    {
     "name": "stderr",
     "output_type": "stream",
     "text": [
      "/home/kfir/workspace/RadarLocalization/dataset.py:263: VisibleDeprecationWarning: Creating an ndarray from ragged nested sequences (which is a list-or-tuple of lists-or-tuples-or ndarrays with different lengths or shapes) is deprecated. If you meant to do this, you must specify 'dtype=object' when creating the ndarray\n",
      "  veh_speed = np.array([(m['utime'], m['vel']) for m in self.veh_pose])\n"
     ]
    },
    {
     "name": "stdout",
     "output_type": "stream",
     "text": [
      "frame_idx = 85\n",
      "Number of new plots 2\n",
      "Number of dynamic tracks before run() 5\n",
      "trk.kf.x = [[22.47502051]\n",
      " [ 2.91247261]\n",
      " [ 2.2549066 ]\n",
      " [-0.0980998 ]] age = 85 hits = 74\n",
      "trk.kf.x = [[45.80871015]\n",
      " [ 0.36439721]\n",
      " [ 3.64602389]\n",
      " [-0.1441897 ]] age = 82 hits = 77\n",
      "trk.kf.x = [[42.83584985]\n",
      " [ 2.34730114]\n",
      " [ 3.73467749]\n",
      " [ 0.21982854]] age = 8 hits = 4\n",
      "trk.kf.x = [[48.8670286 ]\n",
      " [-1.40586259]\n",
      " [ 3.64352983]\n",
      " [-0.11361033]] age = 8 hits = 3\n",
      "trk.kf.x = [[22.28193067]\n",
      " [ 3.01350344]\n",
      " [ 2.10608065]\n",
      " [ 0.30156017]] age = 4 hits = 1\n"
     ]
    },
    {
     "name": "stderr",
     "output_type": "stream",
     "text": [
      "/home/kfir/workspace/RadarLocalization/dataset.py:263: VisibleDeprecationWarning: Creating an ndarray from ragged nested sequences (which is a list-or-tuple of lists-or-tuples-or ndarrays with different lengths or shapes) is deprecated. If you meant to do this, you must specify 'dtype=object' when creating the ndarray\n",
      "  veh_speed = np.array([(m['utime'], m['vel']) for m in self.veh_pose])\n"
     ]
    },
    {
     "name": "stdout",
     "output_type": "stream",
     "text": [
      "frame_idx = 86\n",
      "Number of new plots 2\n",
      "Number of dynamic tracks before run() 5\n",
      "trk.kf.x = [[22.65527568]\n",
      " [ 2.86965919]\n",
      " [ 2.24075995]\n",
      " [-0.10981624]] age = 86 hits = 75\n",
      "trk.kf.x = [[46.15431047]\n",
      " [ 0.29310954]\n",
      " [ 3.61283478]\n",
      " [-0.17516631]] age = 83 hits = 78\n",
      "trk.kf.x = [[43.13313775]\n",
      " [ 2.33294035]\n",
      " [ 3.69924478]\n",
      " [ 0.21709057]] age = 9 hits = 4\n",
      "trk.kf.x = [[49.15423468]\n",
      " [-1.45132208]\n",
      " [ 3.60785035]\n",
      " [-0.11628074]] age = 9 hits = 3\n",
      "trk.kf.x = [[22.44960053]\n",
      " [ 3.02098209]\n",
      " [ 2.07070888]\n",
      " [ 0.3000276 ]] age = 5 hits = 1\n"
     ]
    },
    {
     "name": "stderr",
     "output_type": "stream",
     "text": [
      "/home/kfir/workspace/RadarLocalization/dataset.py:263: VisibleDeprecationWarning: Creating an ndarray from ragged nested sequences (which is a list-or-tuple of lists-or-tuples-or ndarrays with different lengths or shapes) is deprecated. If you meant to do this, you must specify 'dtype=object' when creating the ndarray\n",
      "  veh_speed = np.array([(m['utime'], m['vel']) for m in self.veh_pose])\n"
     ]
    },
    {
     "name": "stdout",
     "output_type": "stream",
     "text": [
      "frame_idx = 87\n",
      "Number of new plots 2\n",
      "Number of dynamic tracks before run() 5\n",
      "trk.kf.x = [[22.80096371]\n",
      " [ 2.85490757]\n",
      " [ 2.15320045]\n",
      " [-0.13138926]] age = 87 hits = 76\n",
      "trk.kf.x = [[46.45840815]\n",
      " [ 0.279801  ]\n",
      " [ 3.5462623 ]\n",
      " [-0.20286996]] age = 84 hits = 79\n",
      "trk.kf.x = [[43.40625004]\n",
      " [ 2.38614788]\n",
      " [ 3.67278462]\n",
      " [ 0.22021675]] age = 10 hits = 4\n",
      "trk.kf.x = [[49.42374104]\n",
      " [-1.41796564]\n",
      " [ 3.58167397]\n",
      " [-0.11323223]] age = 10 hits = 3\n",
      "trk.kf.x = [[22.60014234]\n",
      " [ 3.06269321]\n",
      " [ 2.04417872]\n",
      " [ 0.30176761]] age = 6 hits = 1\n"
     ]
    },
    {
     "name": "stderr",
     "output_type": "stream",
     "text": [
      "/home/kfir/workspace/RadarLocalization/dataset.py:263: VisibleDeprecationWarning: Creating an ndarray from ragged nested sequences (which is a list-or-tuple of lists-or-tuples-or ndarrays with different lengths or shapes) is deprecated. If you meant to do this, you must specify 'dtype=object' when creating the ndarray\n",
      "  veh_speed = np.array([(m['utime'], m['vel']) for m in self.veh_pose])\n"
     ]
    },
    {
     "name": "stdout",
     "output_type": "stream",
     "text": [
      "frame_idx = 88\n",
      "Number of new plots 3\n",
      "Number of dynamic tracks before run() 5\n",
      "trk.kf.x = [[22.95537483]\n",
      " [ 2.82709251]\n",
      " [ 2.09824866]\n",
      " [-0.13622347]] age = 88 hits = 77\n",
      "trk.kf.x = [[46.72325957]\n",
      " [ 0.23005484]\n",
      " [ 3.52181672]\n",
      " [-0.20547057]] age = 85 hits = 79\n",
      "trk.kf.x = [[43.66707716]\n",
      " [ 2.310441  ]\n",
      " [ 3.56434103]\n",
      " [ 0.19513812]] age = 11 hits = 5\n",
      "trk.kf.x = [[49.62595896]\n",
      " [-1.46432318]\n",
      " [ 3.37904691]\n",
      " [-0.11138156]] age = 11 hits = 4\n",
      "trk.kf.x = [[22.75420464]\n",
      " [ 3.06856933]\n",
      " [ 2.02010618]\n",
      " [ 0.30027603]] age = 7 hits = 1\n"
     ]
    },
    {
     "name": "stderr",
     "output_type": "stream",
     "text": [
      "/home/kfir/workspace/RadarLocalization/dataset.py:263: VisibleDeprecationWarning: Creating an ndarray from ragged nested sequences (which is a list-or-tuple of lists-or-tuples-or ndarrays with different lengths or shapes) is deprecated. If you meant to do this, you must specify 'dtype=object' when creating the ndarray\n",
      "  veh_speed = np.array([(m['utime'], m['vel']) for m in self.veh_pose])\n"
     ]
    },
    {
     "name": "stdout",
     "output_type": "stream",
     "text": [
      "frame_idx = 89\n",
      "Number of new plots 2\n",
      "Number of dynamic tracks before run() 4\n",
      "trk.kf.x = [[23.10932509]\n",
      " [ 2.77848857]\n",
      " [ 2.06636993]\n",
      " [-0.14478716]] age = 89 hits = 78\n",
      "trk.kf.x = [[46.91529076]\n",
      " [ 0.20645429]\n",
      " [ 3.42213841]\n",
      " [-0.17239046]] age = 86 hits = 80\n",
      "trk.kf.x = [[43.93642575]\n",
      " [ 2.26460946]\n",
      " [ 3.54918353]\n",
      " [ 0.19025351]] age = 12 hits = 5\n",
      "trk.kf.x = [[49.87617685]\n",
      " [-1.54132408]\n",
      " [ 3.36346773]\n",
      " [-0.11601085]] age = 12 hits = 4\n"
     ]
    },
    {
     "name": "stderr",
     "output_type": "stream",
     "text": [
      "/home/kfir/workspace/RadarLocalization/dataset.py:263: VisibleDeprecationWarning: Creating an ndarray from ragged nested sequences (which is a list-or-tuple of lists-or-tuples-or ndarrays with different lengths or shapes) is deprecated. If you meant to do this, you must specify 'dtype=object' when creating the ndarray\n",
      "  veh_speed = np.array([(m['utime'], m['vel']) for m in self.veh_pose])\n"
     ]
    },
    {
     "name": "stdout",
     "output_type": "stream",
     "text": [
      "frame_idx = 90\n",
      "Number of new plots 3\n",
      "Number of dynamic tracks before run() 4\n",
      "trk.kf.x = [[23.26092442]\n",
      " [ 2.76296564]\n",
      " [ 2.0369161 ]\n",
      " [-0.14186684]] age = 90 hits = 79\n",
      "trk.kf.x = [[47.16977839]\n",
      " [ 0.17295061]\n",
      " [ 3.39619233]\n",
      " [-0.17387296]] age = 87 hits = 80\n",
      "trk.kf.x = [[44.21905584]\n",
      " [ 2.21136855]\n",
      " [ 3.51365487]\n",
      " [ 0.17126321]] age = 13 hits = 6\n",
      "trk.kf.x = [[50.10991103]\n",
      " [-1.47016114]\n",
      " [ 3.1873688 ]\n",
      " [-0.08121873]] age = 13 hits = 5\n"
     ]
    },
    {
     "name": "stderr",
     "output_type": "stream",
     "text": [
      "/home/kfir/workspace/RadarLocalization/dataset.py:263: VisibleDeprecationWarning: Creating an ndarray from ragged nested sequences (which is a list-or-tuple of lists-or-tuples-or ndarrays with different lengths or shapes) is deprecated. If you meant to do this, you must specify 'dtype=object' when creating the ndarray\n",
      "  veh_speed = np.array([(m['utime'], m['vel']) for m in self.veh_pose])\n"
     ]
    },
    {
     "name": "stdout",
     "output_type": "stream",
     "text": [
      "frame_idx = 91\n",
      "Number of new plots 3\n",
      "Number of dynamic tracks before run() 4\n",
      "trk.kf.x = [[23.56479106]\n",
      " [ 2.75346465]\n",
      " [ 1.95466125]\n",
      " [-0.14132533]] age = 91 hits = 80\n",
      "trk.kf.x = [[47.69076165]\n",
      " [ 0.15989442]\n",
      " [ 3.35433702]\n",
      " [-0.17289166]] age = 88 hits = 80\n",
      "trk.kf.x = [[44.74623535]\n",
      " [ 2.19467275]\n",
      " [ 3.36181832]\n",
      " [ 0.14567689]] age = 14 hits = 7\n",
      "trk.kf.x = [[50.60752563]\n",
      " [-1.48018711]\n",
      " [ 3.07461111]\n",
      " [-0.08305172]] age = 14 hits = 6\n"
     ]
    },
    {
     "name": "stderr",
     "output_type": "stream",
     "text": [
      "/home/kfir/workspace/RadarLocalization/dataset.py:263: VisibleDeprecationWarning: Creating an ndarray from ragged nested sequences (which is a list-or-tuple of lists-or-tuples-or ndarrays with different lengths or shapes) is deprecated. If you meant to do this, you must specify 'dtype=object' when creating the ndarray\n",
      "  veh_speed = np.array([(m['utime'], m['vel']) for m in self.veh_pose])\n"
     ]
    },
    {
     "name": "stdout",
     "output_type": "stream",
     "text": [
      "frame_idx = 92\n",
      "Number of new plots 2\n",
      "Number of dynamic tracks before run() 4\n",
      "trk.kf.x = [[23.67847851]\n",
      " [ 2.72707127]\n",
      " [ 1.87505138]\n",
      " [-0.16129643]] age = 92 hits = 81\n",
      "trk.kf.x = [[47.8581748 ]\n",
      " [ 0.17352436]\n",
      " [ 3.17195492]\n",
      " [-0.16423129]] age = 89 hits = 81\n",
      "trk.kf.x = [[44.97707413]\n",
      " [ 2.21753   ]\n",
      " [ 3.33977713]\n",
      " [ 0.14662446]] age = 15 hits = 7\n",
      "trk.kf.x = [[50.81950641]\n",
      " [-1.47152442]\n",
      " [ 3.05263483]\n",
      " [-0.08218562]] age = 15 hits = 6\n"
     ]
    },
    {
     "name": "stderr",
     "output_type": "stream",
     "text": [
      "/home/kfir/workspace/RadarLocalization/dataset.py:263: VisibleDeprecationWarning: Creating an ndarray from ragged nested sequences (which is a list-or-tuple of lists-or-tuples-or ndarrays with different lengths or shapes) is deprecated. If you meant to do this, you must specify 'dtype=object' when creating the ndarray\n",
      "  veh_speed = np.array([(m['utime'], m['vel']) for m in self.veh_pose])\n"
     ]
    },
    {
     "name": "stdout",
     "output_type": "stream",
     "text": [
      "frame_idx = 93\n",
      "Number of new plots 3\n",
      "Number of dynamic tracks before run() 4\n",
      "trk.kf.x = [[23.81208007]\n",
      " [ 2.68948458]\n",
      " [ 1.82720213]\n",
      " [-0.18523395]] age = 93 hits = 82\n",
      "trk.kf.x = [[48.09605373]\n",
      " [ 0.17556102]\n",
      " [ 3.14605844]\n",
      " [-0.16328561]] age = 90 hits = 81\n",
      "trk.kf.x = [[45.23372256]\n",
      " [ 2.17736514]\n",
      " [ 3.28810706]\n",
      " [ 0.11947534]] age = 16 hits = 8\n",
      "trk.kf.x = [[51.10064457]\n",
      " [-1.48340576]\n",
      " [ 2.91733439]\n",
      " [-0.08603222]] age = 16 hits = 7\n"
     ]
    },
    {
     "name": "stderr",
     "output_type": "stream",
     "text": [
      "/home/kfir/workspace/RadarLocalization/dataset.py:263: VisibleDeprecationWarning: Creating an ndarray from ragged nested sequences (which is a list-or-tuple of lists-or-tuples-or ndarrays with different lengths or shapes) is deprecated. If you meant to do this, you must specify 'dtype=object' when creating the ndarray\n",
      "  veh_speed = np.array([(m['utime'], m['vel']) for m in self.veh_pose])\n"
     ]
    },
    {
     "name": "stdout",
     "output_type": "stream",
     "text": [
      "frame_idx = 94\n",
      "Number of new plots 2\n",
      "Number of dynamic tracks before run() 4\n",
      "trk.kf.x = [[23.94079   ]\n",
      " [ 2.6699317 ]\n",
      " [ 1.79187414]\n",
      " [-0.20424164]] age = 94 hits = 83\n",
      "trk.kf.x = [[48.27124443]\n",
      " [ 0.27365187]\n",
      " [ 2.99006161]\n",
      " [-0.12973891]] age = 91 hits = 82\n",
      "trk.kf.x = [[45.47526109]\n",
      " [ 2.23149633]\n",
      " [ 3.25686895]\n",
      " [ 0.12271178]] age = 17 hits = 8\n",
      "trk.kf.x = [[51.31808684]\n",
      " [-1.43884925]\n",
      " [ 2.88630068]\n",
      " [-0.08316411]] age = 17 hits = 7\n"
     ]
    },
    {
     "name": "stderr",
     "output_type": "stream",
     "text": [
      "/home/kfir/workspace/RadarLocalization/dataset.py:263: VisibleDeprecationWarning: Creating an ndarray from ragged nested sequences (which is a list-or-tuple of lists-or-tuples-or ndarrays with different lengths or shapes) is deprecated. If you meant to do this, you must specify 'dtype=object' when creating the ndarray\n",
      "  veh_speed = np.array([(m['utime'], m['vel']) for m in self.veh_pose])\n"
     ]
    },
    {
     "name": "stdout",
     "output_type": "stream",
     "text": [
      "frame_idx = 95\n",
      "Number of new plots 3\n",
      "Number of dynamic tracks before run() 4\n",
      "trk.kf.x = [[24.0732491 ]\n",
      " [ 2.6547777 ]\n",
      " [ 1.77139533]\n",
      " [-0.20512155]] age = 95 hits = 84\n",
      "trk.kf.x = [[48.50873428]\n",
      " [ 0.2709707 ]\n",
      " [ 2.96876543]\n",
      " [-0.12926771]] age = 92 hits = 82\n",
      "trk.kf.x = [[45.74920144]\n",
      " [ 2.19039583]\n",
      " [ 3.1448632 ]\n",
      " [ 0.09432885]] age = 18 hits = 9\n",
      "trk.kf.x = [[51.5675545 ]\n",
      " [-1.4365422 ]\n",
      " [ 2.72224681]\n",
      " [-0.07746658]] age = 18 hits = 8\n"
     ]
    },
    {
     "name": "stderr",
     "output_type": "stream",
     "text": [
      "/home/kfir/workspace/RadarLocalization/dataset.py:263: VisibleDeprecationWarning: Creating an ndarray from ragged nested sequences (which is a list-or-tuple of lists-or-tuples-or ndarrays with different lengths or shapes) is deprecated. If you meant to do this, you must specify 'dtype=object' when creating the ndarray\n",
      "  veh_speed = np.array([(m['utime'], m['vel']) for m in self.veh_pose])\n"
     ]
    },
    {
     "name": "stdout",
     "output_type": "stream",
     "text": [
      "frame_idx = 96\n",
      "Number of new plots 2\n",
      "Number of dynamic tracks before run() 4\n",
      "trk.kf.x = [[24.33594818]\n",
      " [ 2.58431602]\n",
      " [ 1.74347196]\n",
      " [-0.21107179]] age = 96 hits = 85\n",
      "trk.kf.x = [[48.86406841]\n",
      " [ 0.22182545]\n",
      " [ 2.72671818]\n",
      " [-0.11660901]] age = 93 hits = 83\n",
      "trk.kf.x = [[46.21626682]\n",
      " [ 2.14695056]\n",
      " [ 3.08863204]\n",
      " [ 0.09047757]] age = 19 hits = 9\n",
      "trk.kf.x = [[51.96652108]\n",
      " [-1.51298967]\n",
      " [ 2.66580176]\n",
      " [-0.08079075]] age = 19 hits = 8\n"
     ]
    },
    {
     "name": "stderr",
     "output_type": "stream",
     "text": [
      "/home/kfir/workspace/RadarLocalization/dataset.py:263: VisibleDeprecationWarning: Creating an ndarray from ragged nested sequences (which is a list-or-tuple of lists-or-tuples-or ndarrays with different lengths or shapes) is deprecated. If you meant to do this, you must specify 'dtype=object' when creating the ndarray\n",
      "  veh_speed = np.array([(m['utime'], m['vel']) for m in self.veh_pose])\n"
     ]
    },
    {
     "name": "stdout",
     "output_type": "stream",
     "text": [
      "frame_idx = 97\n",
      "Number of new plots 2\n",
      "Number of dynamic tracks before run() 4\n",
      "trk.kf.x = [[24.46773728]\n",
      " [ 2.56371667]\n",
      " [ 1.74105653]\n",
      " [-0.22937631]] age = 97 hits = 86\n",
      "trk.kf.x = [[49.0598114 ]\n",
      " [ 0.2112449 ]\n",
      " [ 2.62578177]\n",
      " [-0.13945615]] age = 94 hits = 84\n",
      "trk.kf.x = [[46.44408159]\n",
      " [ 2.20496922]\n",
      " [ 3.0611439 ]\n",
      " [ 0.0938531 ]] age = 20 hits = 9\n",
      "trk.kf.x = [[52.16658379]\n",
      " [-1.4615432 ]\n",
      " [ 2.63850274]\n",
      " [-0.07788137]] age = 20 hits = 8\n"
     ]
    },
    {
     "name": "stderr",
     "output_type": "stream",
     "text": [
      "/home/kfir/workspace/RadarLocalization/dataset.py:263: VisibleDeprecationWarning: Creating an ndarray from ragged nested sequences (which is a list-or-tuple of lists-or-tuples-or ndarrays with different lengths or shapes) is deprecated. If you meant to do this, you must specify 'dtype=object' when creating the ndarray\n",
      "  veh_speed = np.array([(m['utime'], m['vel']) for m in self.veh_pose])\n"
     ]
    },
    {
     "name": "stdout",
     "output_type": "stream",
     "text": [
      "frame_idx = 98\n",
      "Number of new plots 2\n",
      "Number of dynamic tracks before run() 4\n",
      "trk.kf.x = [[24.59479496]\n",
      " [ 2.53760936]\n",
      " [ 1.73495399]\n",
      " [-0.2374347 ]] age = 98 hits = 87\n",
      "trk.kf.x = [[49.24097569]\n",
      " [ 0.19333148]\n",
      " [ 2.50441447]\n",
      " [-0.14733573]] age = 95 hits = 85\n",
      "trk.kf.x = [[46.67142275]\n",
      " [ 2.22288582]\n",
      " [ 3.03403309]\n",
      " [ 0.09455962]] age = 21 hits = 9\n",
      "trk.kf.x = [[52.36304126]\n",
      " [-1.45519858]\n",
      " [ 2.61143193]\n",
      " [-0.07727326]] age = 21 hits = 8\n"
     ]
    },
    {
     "name": "stderr",
     "output_type": "stream",
     "text": [
      "/home/kfir/workspace/RadarLocalization/dataset.py:263: VisibleDeprecationWarning: Creating an ndarray from ragged nested sequences (which is a list-or-tuple of lists-or-tuples-or ndarrays with different lengths or shapes) is deprecated. If you meant to do this, you must specify 'dtype=object' when creating the ndarray\n",
      "  veh_speed = np.array([(m['utime'], m['vel']) for m in self.veh_pose])\n"
     ]
    },
    {
     "name": "stdout",
     "output_type": "stream",
     "text": [
      "frame_idx = 99\n",
      "Number of new plots 2\n",
      "Number of dynamic tracks before run() 4\n",
      "trk.kf.x = [[24.72447282]\n",
      " [ 2.50942161]\n",
      " [ 1.73314906]\n",
      " [-0.2442207 ]] age = 99 hits = 88\n",
      "trk.kf.x = [[49.40777714]\n",
      " [ 0.19713723]\n",
      " [ 2.38889349]\n",
      " [-0.14181918]] age = 96 hits = 86\n",
      "trk.kf.x = [[46.89694298]\n",
      " [ 2.23337344]\n",
      " [ 3.01073231]\n",
      " [ 0.09477787]] age = 22 hits = 9\n",
      "trk.kf.x = [[52.55715127]\n",
      " [-1.45718108]\n",
      " [ 2.5881436 ]\n",
      " [-0.07708564]] age = 22 hits = 8\n",
      "frame_idx = 100\n",
      "Number of new plots 2\n",
      "Number of dynamic tracks before run() 4\n",
      "trk.kf.x = [[24.85860013]\n",
      " [ 2.50100956]\n",
      " [ 1.74086373]\n",
      " [-0.25754815]] age = 100 hits = 89\n",
      "trk.kf.x = [[49.56970296]\n",
      " [ 0.21820068]\n",
      " [ 2.28052646]\n",
      " [-0.15384304]] age = 97 hits = 87\n",
      "trk.kf.x = [[47.11883286]\n",
      " [ 2.30570361]\n",
      " [ 2.99658692]\n",
      " [ 0.09892513]] age = 23 hits = 9\n",
      "trk.kf.x = [[52.75242733]\n",
      " [-1.38996368]\n",
      " [ 2.57423647]\n",
      " [-0.07352307]] age = 23 hits = 8\n"
     ]
    },
    {
     "name": "stderr",
     "output_type": "stream",
     "text": [
      "/home/kfir/workspace/RadarLocalization/dataset.py:263: VisibleDeprecationWarning: Creating an ndarray from ragged nested sequences (which is a list-or-tuple of lists-or-tuples-or ndarrays with different lengths or shapes) is deprecated. If you meant to do this, you must specify 'dtype=object' when creating the ndarray\n",
      "  veh_speed = np.array([(m['utime'], m['vel']) for m in self.veh_pose])\n"
     ]
    }
   ],
   "source": [
    "start_frame=0\n",
    "n_frames = 100\n",
    "ego_path = dataset.getEgoPath()[:n_frames]\n",
    "tracker = DynamicTracker()\n",
    "dbscan_clustering = ClassicDBSCAN()\n",
    "for t in range(start_frame,n_frames):\n",
    "    pc, ts, heading, ego_speed = dataset.getDynamicPoints(t)\n",
    "    Z, _ = dbscan_clustering.run(pc=pc, ego=ego_path[t], heading=np.deg2rad(heading))\n",
    "    tracker.run(Z, ts, {\"heading\": np.deg2rad(heading), \"T\": ego_path[t]}, ego_speed)"
   ]
  },
  {
   "cell_type": "code",
   "execution_count": 43,
   "id": "6b1379ee",
   "metadata": {
    "scrolled": true
   },
   "outputs": [
    {
     "name": "stdout",
     "output_type": "stream",
     "text": [
      "Total number of tracks = 14\n",
      "x_offset -964.9472218653482 y_offset -1408.0590388968385\n",
      "abs_vel =[3.05526878]\n",
      "abs_vel =[6.8729707]\n",
      "abs_vel =[8.44865929]\n"
     ]
    },
    {
     "name": "stderr",
     "output_type": "stream",
     "text": [
      "/home/kfir/.local/lib/python3.6/site-packages/nuscenes/map_expansion/map_api.py:1823: ShapelyDeprecationWarning: Iteration over multi-part geometries is deprecated and will be removed in Shapely 2.0. Use the `geoms` property to access the constituent parts of a multi-part geometry.\n",
      "  exteriors = [int_coords(poly.exterior.coords) for poly in polygons]\n",
      "/home/kfir/.local/lib/python3.6/site-packages/nuscenes/map_expansion/map_api.py:1824: ShapelyDeprecationWarning: Iteration over multi-part geometries is deprecated and will be removed in Shapely 2.0. Use the `geoms` property to access the constituent parts of a multi-part geometry.\n",
      "  interiors = [int_coords(pi.coords) for poly in polygons for pi in poly.interiors]\n"
     ]
    },
    {
     "data": {
      "text/plain": [
       "<matplotlib.legend.Legend at 0x7fe8f1fdee10>"
      ]
     },
     "execution_count": 43,
     "metadata": {},
     "output_type": "execute_result"
    },
    {
     "data": {
      "image/png": "[encoded data removed]",
      "text/plain": [
       "<matplotlib.figure.Figure at 0x7fe8f2556320>"
      ]
     },
     "metadata": {
      "needs_background": "light"
     },
     "output_type": "display_data"
    }
   ],
   "source": [
    "from map_utils import getRoadBorders, getCombinedMap\n",
    "def drawMap(ax, nusc_map, ego_path):\n",
    "    x_min = np.min(ego_path[:,0])\n",
    "    x_max = np.max(ego_path[:,0])\n",
    "    x_mean = 0.5*(x_min+x_max)\n",
    "    y_min = np.min(ego_path[:,1])\n",
    "    y_max = np.max(ego_path[:,1])\n",
    "    y_mean = 0.5*(y_min+y_max)\n",
    "    patch_size = int(max(abs(y_max-y_min), abs(x_max-x_min))) + 300\n",
    "\n",
    "    first_pos = [x_mean, y_mean]\n",
    "    patch_size = patch_size\n",
    "    edges = getCombinedMap(nuscMap=nusc_map, worldRef=first_pos, patchSize=patch_size)\n",
    "\n",
    "    ax.imshow(edges, origin='lower')\n",
    "    ax.grid(False)\n",
    "    #ax.set_xlim([patch_size/2 - (x_mean-x_min) - 100,patch_size/2 + (x_max-x_mean) + 100])\n",
    "    #ax.set_ylim([patch_size/2 - (y_mean-y_min) - 100,patch_size/2 + (y_max-y_mean) + 100])\n",
    "    \n",
    "    x_offset = -first_pos[0]+patch_size*0.5\n",
    "    y_offset = -first_pos[1]+patch_size*0.5\n",
    "    return x_offset, y_offset\n",
    "\n",
    "def drawTrack(ax, trk, x_offset=0, y_offset=0, velThr=2):\n",
    "    if trk.confirmed:\n",
    "        hstate, hego, hspeed = trk.getHistory()\n",
    "        history_len = hstate.shape[0]\n",
    "        if trk.hits > 10:\n",
    "        #rotate translate each state according to hego\n",
    "            tstate = np.zeros((hstate.shape[0], 2, 1))\n",
    "            tspeed = np.zeros((hstate.shape[0], 2, 1))\n",
    "            for i, (state, ego, speed) in enumerate(zip(hstate, hego, hspeed)):\n",
    "                R = np.array([[np.cos(ego[\"heading\"]), -np.sin(ego[\"heading\"])], [np.sin(ego[\"heading\"]), np.cos(ego[\"heading\"])]])\n",
    "                tstate[i, :, :] = np.dot(R, state[0:2]) + ego[\"T\"][0:2].reshape(-1,1)\n",
    "                tspeed[i, :, :] = np.dot(R, state[2:4]) + np.dot(R, speed[0:2].reshape(-1,1))\n",
    "            abs_vel = np.mean(np.linalg.norm(tspeed,axis=1), axis=0)\n",
    "            print(f\"abs_vel ={abs_vel}\")\n",
    "            if abs_vel < velThr:\n",
    "                return\n",
    "            \n",
    "            ax.plot(tstate[:,0]+x_offset, tstate[:,1]+y_offset, color='red',label='track')\n",
    "            dx = tstate[int(history_len / 2) + 1,0]-tstate[int(history_len / 2) - 1,0]\n",
    "            dy = tstate[int(history_len / 2) + 1,1]-tstate[int(history_len / 2) - 1,1]\n",
    "            ax.arrow(np.mean(tstate[:,0]+x_offset), np.mean(tstate[:,1]+y_offset), dx[0], dy[0], shape='full', lw=13, length_includes_head=True, head_width=.05)\n",
    "\n",
    "tracks = tracker.getHistory()\n",
    "N = len(tracks)\n",
    "print(f\"Total number of tracks = {N}\")\n",
    "\n",
    "fig, ax = plt.subplots(1,1,figsize=(15,10))\n",
    "\n",
    "ax.set_title(f\"Dynamic tracks scene={scene_id}\", fontsize=20)\n",
    "ax.set(xlabel='x [m]', ylabel='y [m]')\n",
    "ego_path = dataset.getEgoPath()[:n_frames]\n",
    "nusc_map = dataset.getMap()\n",
    "x_offset, y_offset = drawMap(ax, nusc_map, ego_path)\n",
    "ax.plot(ego_path[start_frame:n_frames,0]+x_offset, ego_path[start_frame:n_frames,1]+y_offset,label='Ego')\n",
    "for idx,trk in enumerate(tracks):\n",
    "    drawTrack(ax, trk, x_offset=x_offset, y_offset=y_offset, velThr=2)\n",
    "ax.legend(loc=\"upper left\")\n",
    "    "
   ]
  },
  {
   "cell_type": "code",
   "execution_count": null,
   "id": "6ac9fd87",
   "metadata": {},
   "outputs": [],
   "source": []
  }
 ],
 "metadata": {
  "kernelspec": {
   "display_name": "Python 3",
   "language": "python",
   "name": "python3"
  },
  "language_info": {
   "codemirror_mode": {
    "name": "ipython",
    "version": 3
   },
   "file_extension": ".py",
   "mimetype": "text/x-python",
   "name": "python",
   "nbconvert_exporter": "python",
   "pygments_lexer": "ipython3",
   "version": "3.6.9"
  }
 },
 "nbformat": 4,
 "nbformat_minor": 5
}
