{
 "cells": [
  {
   "cell_type": "code",
   "execution_count": 4,
   "id": "c1a9ca53",
   "metadata": {},
   "outputs": [],
   "source": [
    "from nuscenes.nuscenes import NuScenes\n",
    "directory = r\"/home/kfir/workspace/nuScenes/v1.0-trainval\"\n",
    "nusc = NuScenes(version=\"v1.0-trainval\", dataroot=directory, verbose=False)"
   ]
  },
  {
   "cell_type": "code",
   "execution_count": 82,
   "id": "a2f090cf",
   "metadata": {},
   "outputs": [
    {
     "name": "stdout",
     "output_type": "stream",
     "text": [
      "The autoreload extension is already loaded. To reload it, use:\n",
      "  %reload_ext autoreload\n"
     ]
    }
   ],
   "source": [
    "%load_ext autoreload\n",
    "%autoreload 2\n",
    "from dataset import *\n",
    "from video import SimulationVideo\n",
    "from video import NuscenesVideo, NuscenesVideoDebug, PFVideo, PFXYVideo\n",
    "from MapMatching import MapMatching"
   ]
  },
  {
   "cell_type": "code",
   "execution_count": 183,
   "id": "32ccf317",
   "metadata": {},
   "outputs": [],
   "source": [
    "class DynamicObjectTrack:\n",
    "    def __init__(self, x, P, create_frame_idx):\n",
    "        self.kf = KalmanFilter(dim_x=6, dim_z=4)\n",
    "        self.kf.x = x.T # x,y,vx,vy\n",
    "        self.kf.F = np.eye(6)\n",
    "        self.kf.P = np.diag([5,5,2,2,1,1])\n",
    "        self.kf.P_post = self.kf.P.copy()\n",
    "        self.kf.Q = np.diag([1,1,1,1,0,0])\n",
    "        self.kf.H = np.zeros([4,6])\n",
    "        self.kf.H[0,0] = 1\n",
    "        self.kf.H[1,1] = 1\n",
    "        self.kf.H[2,2] = 1\n",
    "        self.kf.H[3,3] = 1\n",
    "        self.saver = Saver(self.kf)\n",
    "        self.create_frame_idx = create_frame_idx\n",
    "        self.last_update_frame_idx = create_frame_idx\n",
    "        self.hits = [1]\n",
    "    \n",
    "    def predict(self, dT):\n",
    "        self.kf.F[0, 2] = dT\n",
    "        self.kf.F[0, 4] = 0.5 * dT**2\n",
    "        self.kf.F[1, 3] = dT\n",
    "        self.kf.F[1, 5] = 0.5 * dT**2\n",
    "        self.kf.F[2, 4] = dT\n",
    "        self.kf.F[3, 5] = dT\n",
    "        self.kf.predict()\n",
    "        \n",
    "    def update(self, z, cov, current_frame_idx):\n",
    "        self.kf.update(z,R=cov)\n",
    "        self.last_update_frame_idx = current_frame_idx\n",
    "        \n",
    "    def save(self):\n",
    "        self.saver.save()\n",
    "        \n",
    "    def getHistory(self):\n",
    "        self.saver.to_array()\n",
    "        return self.saver.x\n",
    "    \n",
    "    def getStateVector(self):\n",
    "        return self.kf.x\n",
    "    \n",
    "    def getPredictedStateVector(self):\n",
    "        return self.kf.x_prior\n",
    "        \n",
    "    def getInnovationCovarianceMatrix(self):\n",
    "        return self.kf.S\n",
    "    \n",
    "    def getCovarianceMatrix(self):\n",
    "        return self.kf.P_post\n",
    "    \n",
    "    def getLastUpdateFrameIdx(self):\n",
    "        return self.last_update_frame_idx\n",
    "    \n",
    "\n",
    "class DynamicTracker:\n",
    "    def __init__(self):\n",
    "        self.pnt_data_associator = PointObjectDataAssociator(dim=4,delta=3)\n",
    "        self.dyn_object_list = []\n",
    "        self.dyn_max_non_update_iterations = 5\n",
    "        self.frame_idx = 0\n",
    "        self.history_dyn_object_list = []\n",
    "        self.last_ts = 0\n",
    "\n",
    "    def run(self, z, dz, ts):\n",
    "        self.frame_idx += 1\n",
    "        print(f\"Number of new plots {len(z)}\")\n",
    "        print(f\"Number of dynamic tracks before run() {len(self.dyn_object_list)}\")\n",
    "        \n",
    "        \n",
    "        #Prediction\n",
    "        if self.last_ts > 0:\n",
    "            dT = (ts - self.last_ts) / 1e6\n",
    "            self.last_ts = ts\n",
    "            \n",
    "            for dyn_track in self.dyn_object_list:\n",
    "                dyn_track.predict(dT)\n",
    "        self.last_ts = ts\n",
    "        \n",
    "        #Association\n",
    "        Gp = self.p2t(z)\n",
    "        \n",
    "        #Update\n",
    "        z, dz = self.trackUpdate(z, dz, Gp)\n",
    "        \n",
    "        #Init\n",
    "        self.trackInit(z,dz)\n",
    "            \n",
    "        #Maintenance\n",
    "        self.trackMaintenance()\n",
    "        \n",
    "        return self.getTracks()\n",
    "        \n",
    "    def p2t(self, measurements):\n",
    "        Gp = np.zeros((len(measurements), len(self.dyn_object_list)))\n",
    "        for idx_z, z in enumerate(measurements):\n",
    "            z = z.reshape(-1,1)\n",
    "            for idx_track, dyn_track in enumerate(self.dyn_object_list):\n",
    "                x = dyn_track.getStateVector()\n",
    "                x_pred = dyn_track.getPredictedStateVector()\n",
    "                innov_cov = dyn_track.getCovarianceMatrix()\n",
    "                #print(f\"p2t: z={z}, x_pred={x_pred} innov_cov={innov_cov}\")\n",
    "                Gp[idx_z,idx_track] = self.pnt_data_associator.calcLikelihood(z, x_pred[0:4], innov_cov[0:4,0:4])\n",
    "        \n",
    "        #print(f\"Gp = {Gp}\")\n",
    "        return Gp\n",
    "    \n",
    "    def trackUpdate(self, z, dz, Gp):\n",
    "        assigned_meas_list = []\n",
    "        while(1): #Iterate over GP\n",
    "            i_meas, lp, i_trk = self.getBestAssociation(Gp)\n",
    "            if(lp == 0):\n",
    "                break\n",
    "            self.zeroOutAssociation(Gp, i_meas, i_trk) # Clear from point association matrix\n",
    "            zm = z[i_meas]\n",
    "            cov = dz[i_meas]\n",
    "            assigned_meas_list.append(i_meas)\n",
    "\n",
    "            print(f\"Updating track = {i_trk} z = {zm}\")\n",
    "            self.dyn_object_list[i_trk].update(z=zm.T,cov=cov, current_frame_idx=self.frame_idx)\n",
    "                \n",
    "        for i_meas in sorted(assigned_meas_list, reverse=True):\n",
    "            z = np.delete(z, (i_meas), axis=0)\n",
    "            dz = np.delete(dz, (i_meas), axis=0)\n",
    "        \n",
    "        return z, dz\n",
    "        \n",
    "    def trackInit(self, z, dz):\n",
    "        for z,cov in zip(z,dz):\n",
    "            x = np.zeros(6)\n",
    "            x[0:4] = z\n",
    "            new_trk = DynamicObjectTrack(x=x.reshape(1,-1), P=cov, create_frame_idx=self.frame_idx)\n",
    "            print(f\"Initiating new track: x={x}\")\n",
    "            self.dyn_object_list.append(new_trk)\n",
    "\n",
    "            \n",
    "    def deleteTrack(self, track_list, indices):\n",
    "        delete_indices  = np.unique(indices)\n",
    "        #print(\"deleteTrack is called. track list length:\", len(track_list), \"indices\", indices)\n",
    "        for index in sorted(delete_indices, reverse=True):\n",
    "            self.history_dyn_object_list.append(track_list[index])\n",
    "            del track_list[index]\n",
    "        \n",
    "    def trackMaintenance(self):\n",
    "        dyn_delete_list = []\n",
    "        for i_trk,trk in enumerate(self.dyn_object_list):\n",
    "            trk.save()\n",
    "            if self.frame_idx - trk.getLastUpdateFrameIdx() > self.dyn_max_non_update_iterations:\n",
    "                dyn_delete_list.append(i_trk)\n",
    "\n",
    "        self.deleteTrack(self.dyn_object_list, dyn_delete_list)\n",
    "        \n",
    "    def isTrkSimilar(self, x_cand):\n",
    "        x, y, vx, vy = x_cand[0], x_cand[1], x_cand[2], x_cand[3]\n",
    "        for trk in self.dyn_object_list:\n",
    "            state_adv = trk.getStateVector()\n",
    "            x_adv, y_adv, vx_adv, vy_adv = state_adv[0], state_adv[1], state_adv[2], state_adv[3] \n",
    "            \n",
    "            pos_thr = 4\n",
    "            vel_thr = 1\n",
    "            pos_dist = sqrt((x-x_adv)**2+(y-y_adv)**2)\n",
    "            vel_dist = sqrt((vx-vx_adv)**2+(vy-vy_adv)**2)\n",
    "            if dist > dist_thr or vel_dist > vel_thr:\n",
    "                return True\n",
    "        \n",
    "        return False\n",
    "                \n",
    "                    \n",
    "    @staticmethod\n",
    "    def getBestAssociation(Gp):\n",
    "        i_meas,lp,i_trk_p = None,0,None\n",
    "        if Gp.size > 0:\n",
    "            ind = np.unravel_index(np.argmax(Gp, axis=None), Gp.shape)\n",
    "            i_meas = ind[0]\n",
    "            i_trk_p = ind[1]\n",
    "            lp = Gp[ind]\n",
    "        \n",
    "        return i_meas,lp, i_trk_p\n",
    "    \n",
    "    @staticmethod\n",
    "    def zeroOutAssociation(mat, i, j, k=None):\n",
    "        if mat is not None:\n",
    "            if mat.ndim == 2:\n",
    "                mat[i, :] = 0\n",
    "                mat[:, j] = 0\n",
    "            elif mat.ndim == 3:\n",
    "                mat[i, :, k] = 0\n",
    "                mat[:, j, k] = 0\n",
    "        \n",
    "        return mat\n",
    "          \n",
    "    @staticmethod\n",
    "    def createProbabilityMatrix(pairs):\n",
    "        if pairs:\n",
    "            u_meas = np.unique([item[0] for item in pairs])\n",
    "            u_trk = np.unique([item[1] for item in pairs])\n",
    "            P = np.zeros((len(u_meas),len(u_trk)))\n",
    "            for i in range(0, len(u_meas)):\n",
    "                for j in range(0, len(u_trk)):\n",
    "                    P[i,j] = max([pair[2] if pair[0]==u_meas[i] and pair[1]==u_trk[j] else 0 for pair in pairs])\n",
    "        else:\n",
    "            P = None\n",
    "            \n",
    "        #print(\"createProbabilityMatrix: P = \", P)\n",
    " \n",
    "        return P\n",
    "    \n",
    "    def getTracks(self):\n",
    "        return self.dyn_object_list\n",
    "    \n",
    "    def getHistory(self):\n",
    "        return self.history_dyn_object_list + self.dyn_object_list "
   ]
  },
  {
   "cell_type": "code",
   "execution_count": 31,
   "id": "52197da6",
   "metadata": {},
   "outputs": [
    {
     "name": "stdout",
     "output_type": "stream",
     "text": [
      "scene_id=426 scene_name=scene-0536 map_name=boston-seaport\n"
     ]
    },
    {
     "name": "stderr",
     "output_type": "stream",
     "text": [
      "/home/kfir/workspace/RadarLocalization/dataset.py:304: VisibleDeprecationWarning: Creating an ndarray from ragged nested sequences (which is a list-or-tuple of lists-or-tuples-or ndarrays with different lengths or shapes) is deprecated. If you meant to do this, you must specify 'dtype=object' when creating the ndarray\n",
      "  rot_imu = np.array([(m['utime'], m['q']) for m in self.imu])\n"
     ]
    },
    {
     "name": "stdout",
     "output_type": "stream",
     "text": [
      "odom_speed [[1.53565927e+15 0.00000000e+00]\n",
      " [1.53565927e+15 0.00000000e+00]\n",
      " [1.53565927e+15 0.00000000e+00]\n",
      " ...\n",
      " [1.53565951e+15 1.00000000e+00]\n",
      " [1.53565951e+15 1.00000000e+00]\n",
      " [1.53565951e+15 1.00000000e+00]]\n"
     ]
    }
   ],
   "source": [
    "scene_id = 426\n",
    "N = 800\n",
    "\n",
    "dataset = NuscenesDataset(nusc=nusc, directory=directory, scene_id=scene_id, N=N)"
   ]
  },
  {
   "cell_type": "code",
   "execution_count": 91,
   "id": "4072b235",
   "metadata": {},
   "outputs": [
    {
     "name": "stderr",
     "output_type": "stream",
     "text": [
      "/home/kfir/workspace/RadarLocalization/dataset.py:253: VisibleDeprecationWarning: Creating an ndarray from ragged nested sequences (which is a list-or-tuple of lists-or-tuples-or ndarrays with different lengths or shapes) is deprecated. If you meant to do this, you must specify 'dtype=object' when creating the ndarray\n",
      "  pidx = np.argsort(np.abs(veh_speed[:,0]-ts))[0]\n",
      "/home/kfir/workspace/RadarLocalization/dataset.py:253: VisibleDeprecationWarning: Creating an ndarray from ragged nested sequences (which is a list-or-tuple of lists-or-tuples-or ndarrays with different lengths or shapes) is deprecated. If you meant to do this, you must specify 'dtype=object' when creating the ndarray\n",
      "  pidx = np.argsort(np.abs(veh_speed[:,0]-ts))[0]\n",
      "/home/kfir/workspace/RadarLocalization/dataset.py:253: VisibleDeprecationWarning: Creating an ndarray from ragged nested sequences (which is a list-or-tuple of lists-or-tuples-or ndarrays with different lengths or shapes) is deprecated. If you meant to do this, you must specify 'dtype=object' when creating the ndarray\n",
      "  pidx = np.argsort(np.abs(veh_speed[:,0]-ts))[0]\n",
      "/home/kfir/workspace/RadarLocalization/dataset.py:253: VisibleDeprecationWarning: Creating an ndarray from ragged nested sequences (which is a list-or-tuple of lists-or-tuples-or ndarrays with different lengths or shapes) is deprecated. If you meant to do this, you must specify 'dtype=object' when creating the ndarray\n",
      "  pidx = np.argsort(np.abs(veh_speed[:,0]-ts))[0]\n",
      "/home/kfir/workspace/RadarLocalization/dataset.py:253: VisibleDeprecationWarning: Creating an ndarray from ragged nested sequences (which is a list-or-tuple of lists-or-tuples-or ndarrays with different lengths or shapes) is deprecated. If you meant to do this, you must specify 'dtype=object' when creating the ndarray\n",
      "  pidx = np.argsort(np.abs(veh_speed[:,0]-ts))[0]\n",
      "/home/kfir/workspace/RadarLocalization/dataset.py:253: VisibleDeprecationWarning: Creating an ndarray from ragged nested sequences (which is a list-or-tuple of lists-or-tuples-or ndarrays with different lengths or shapes) is deprecated. If you meant to do this, you must specify 'dtype=object' when creating the ndarray\n",
      "  pidx = np.argsort(np.abs(veh_speed[:,0]-ts))[0]\n",
      "/home/kfir/workspace/RadarLocalization/dataset.py:253: VisibleDeprecationWarning: Creating an ndarray from ragged nested sequences (which is a list-or-tuple of lists-or-tuples-or ndarrays with different lengths or shapes) is deprecated. If you meant to do this, you must specify 'dtype=object' when creating the ndarray\n",
      "  pidx = np.argsort(np.abs(veh_speed[:,0]-ts))[0]\n",
      "/home/kfir/workspace/RadarLocalization/dataset.py:253: VisibleDeprecationWarning: Creating an ndarray from ragged nested sequences (which is a list-or-tuple of lists-or-tuples-or ndarrays with different lengths or shapes) is deprecated. If you meant to do this, you must specify 'dtype=object' when creating the ndarray\n",
      "  pidx = np.argsort(np.abs(veh_speed[:,0]-ts))[0]\n",
      "/home/kfir/workspace/RadarLocalization/dataset.py:253: VisibleDeprecationWarning: Creating an ndarray from ragged nested sequences (which is a list-or-tuple of lists-or-tuples-or ndarrays with different lengths or shapes) is deprecated. If you meant to do this, you must specify 'dtype=object' when creating the ndarray\n",
      "  pidx = np.argsort(np.abs(veh_speed[:,0]-ts))[0]\n",
      "/home/kfir/workspace/RadarLocalization/dataset.py:253: VisibleDeprecationWarning: Creating an ndarray from ragged nested sequences (which is a list-or-tuple of lists-or-tuples-or ndarrays with different lengths or shapes) is deprecated. If you meant to do this, you must specify 'dtype=object' when creating the ndarray\n",
      "  pidx = np.argsort(np.abs(veh_speed[:,0]-ts))[0]\n",
      "/home/kfir/workspace/RadarLocalization/dataset.py:253: VisibleDeprecationWarning: Creating an ndarray from ragged nested sequences (which is a list-or-tuple of lists-or-tuples-or ndarrays with different lengths or shapes) is deprecated. If you meant to do this, you must specify 'dtype=object' when creating the ndarray\n",
      "  pidx = np.argsort(np.abs(veh_speed[:,0]-ts))[0]\n",
      "/home/kfir/workspace/RadarLocalization/dataset.py:253: VisibleDeprecationWarning: Creating an ndarray from ragged nested sequences (which is a list-or-tuple of lists-or-tuples-or ndarrays with different lengths or shapes) is deprecated. If you meant to do this, you must specify 'dtype=object' when creating the ndarray\n",
      "  pidx = np.argsort(np.abs(veh_speed[:,0]-ts))[0]\n",
      "/home/kfir/workspace/RadarLocalization/dataset.py:253: VisibleDeprecationWarning: Creating an ndarray from ragged nested sequences (which is a list-or-tuple of lists-or-tuples-or ndarrays with different lengths or shapes) is deprecated. If you meant to do this, you must specify 'dtype=object' when creating the ndarray\n",
      "  pidx = np.argsort(np.abs(veh_speed[:,0]-ts))[0]\n",
      "/home/kfir/workspace/RadarLocalization/dataset.py:253: VisibleDeprecationWarning: Creating an ndarray from ragged nested sequences (which is a list-or-tuple of lists-or-tuples-or ndarrays with different lengths or shapes) is deprecated. If you meant to do this, you must specify 'dtype=object' when creating the ndarray\n",
      "  pidx = np.argsort(np.abs(veh_speed[:,0]-ts))[0]\n",
      "/home/kfir/workspace/RadarLocalization/dataset.py:253: VisibleDeprecationWarning: Creating an ndarray from ragged nested sequences (which is a list-or-tuple of lists-or-tuples-or ndarrays with different lengths or shapes) is deprecated. If you meant to do this, you must specify 'dtype=object' when creating the ndarray\n",
      "  pidx = np.argsort(np.abs(veh_speed[:,0]-ts))[0]\n",
      "/home/kfir/workspace/RadarLocalization/dataset.py:253: VisibleDeprecationWarning: Creating an ndarray from ragged nested sequences (which is a list-or-tuple of lists-or-tuples-or ndarrays with different lengths or shapes) is deprecated. If you meant to do this, you must specify 'dtype=object' when creating the ndarray\n",
      "  pidx = np.argsort(np.abs(veh_speed[:,0]-ts))[0]\n",
      "/home/kfir/workspace/RadarLocalization/dataset.py:253: VisibleDeprecationWarning: Creating an ndarray from ragged nested sequences (which is a list-or-tuple of lists-or-tuples-or ndarrays with different lengths or shapes) is deprecated. If you meant to do this, you must specify 'dtype=object' when creating the ndarray\n",
      "  pidx = np.argsort(np.abs(veh_speed[:,0]-ts))[0]\n",
      "/home/kfir/workspace/RadarLocalization/dataset.py:253: VisibleDeprecationWarning: Creating an ndarray from ragged nested sequences (which is a list-or-tuple of lists-or-tuples-or ndarrays with different lengths or shapes) is deprecated. If you meant to do this, you must specify 'dtype=object' when creating the ndarray\n",
      "  pidx = np.argsort(np.abs(veh_speed[:,0]-ts))[0]\n",
      "/home/kfir/workspace/RadarLocalization/dataset.py:253: VisibleDeprecationWarning: Creating an ndarray from ragged nested sequences (which is a list-or-tuple of lists-or-tuples-or ndarrays with different lengths or shapes) is deprecated. If you meant to do this, you must specify 'dtype=object' when creating the ndarray\n",
      "  pidx = np.argsort(np.abs(veh_speed[:,0]-ts))[0]\n",
      "/home/kfir/workspace/RadarLocalization/dataset.py:253: VisibleDeprecationWarning: Creating an ndarray from ragged nested sequences (which is a list-or-tuple of lists-or-tuples-or ndarrays with different lengths or shapes) is deprecated. If you meant to do this, you must specify 'dtype=object' when creating the ndarray\n",
      "  pidx = np.argsort(np.abs(veh_speed[:,0]-ts))[0]\n"
     ]
    },
    {
     "data": {
      "image/png": "[encoded data removed]",
      "text/plain": [
       "<matplotlib.figure.Figure at 0x7f6a7293bba8>"
      ]
     },
     "metadata": {},
     "output_type": "display_data"
    }
   ],
   "source": [
    "from sklearn.cluster import DBSCAN\n",
    "\n",
    "fig, ax = plt.subplots(1,1,figsize=(15,10))\n",
    "colors = ['blue','orange','green','red','black','pink','yellow','purple',\"brown\",\"firebrick\",\"coral\",\"lime\",\n",
    "                      \"wheat\", \"yellowgreen\", \"lightyellow\", \"skyblue\", \"cyan\", \"chocolate\", \"maroon\", \"peru\", \"blueviolet\"]\n",
    "\n",
    "for t in range(0,20):\n",
    "    pc = dataset.getDynamicPoints(t)\n",
    "    pc = np.squeeze(pc[np.where(pc[:,3]==0) or np.where(pc[:,3]==2) or np.where(pc[:,3]==6), :], axis=0)\n",
    "    clus = DBSCAN(eps=2, min_samples=2).fit(pc[:,0:2])\n",
    "    c = clus.labels_\n",
    "    for i in range(pc.shape[0]):\n",
    "        v_comp = np.sqrt(pc[i,8]**2 + pc[i,9]**2)\n",
    "        if v_comp > 3:\n",
    "            #c = int(np.round(v_comp) % 17)\n",
    "            ax.scatter(pc[i,0], pc[i,1], s=10, c=colors[c[i]])"
   ]
  },
  {
   "cell_type": "code",
   "execution_count": 99,
   "id": "61286c86",
   "metadata": {},
   "outputs": [
    {
     "name": "stderr",
     "output_type": "stream",
     "text": [
      "/home/kfir/workspace/RadarLocalization/dataset.py:253: VisibleDeprecationWarning: Creating an ndarray from ragged nested sequences (which is a list-or-tuple of lists-or-tuples-or ndarrays with different lengths or shapes) is deprecated. If you meant to do this, you must specify 'dtype=object' when creating the ndarray\n",
      "  pidx = np.argsort(np.abs(veh_speed[:,0]-ts))[0]\n",
      "/home/kfir/workspace/RadarLocalization/dataset.py:253: VisibleDeprecationWarning: Creating an ndarray from ragged nested sequences (which is a list-or-tuple of lists-or-tuples-or ndarrays with different lengths or shapes) is deprecated. If you meant to do this, you must specify 'dtype=object' when creating the ndarray\n",
      "  pidx = np.argsort(np.abs(veh_speed[:,0]-ts))[0]\n",
      "/home/kfir/workspace/RadarLocalization/dataset.py:253: VisibleDeprecationWarning: Creating an ndarray from ragged nested sequences (which is a list-or-tuple of lists-or-tuples-or ndarrays with different lengths or shapes) is deprecated. If you meant to do this, you must specify 'dtype=object' when creating the ndarray\n",
      "  pidx = np.argsort(np.abs(veh_speed[:,0]-ts))[0]\n",
      "/home/kfir/workspace/RadarLocalization/dataset.py:253: VisibleDeprecationWarning: Creating an ndarray from ragged nested sequences (which is a list-or-tuple of lists-or-tuples-or ndarrays with different lengths or shapes) is deprecated. If you meant to do this, you must specify 'dtype=object' when creating the ndarray\n",
      "  pidx = np.argsort(np.abs(veh_speed[:,0]-ts))[0]\n",
      "/home/kfir/workspace/RadarLocalization/dataset.py:253: VisibleDeprecationWarning: Creating an ndarray from ragged nested sequences (which is a list-or-tuple of lists-or-tuples-or ndarrays with different lengths or shapes) is deprecated. If you meant to do this, you must specify 'dtype=object' when creating the ndarray\n",
      "  pidx = np.argsort(np.abs(veh_speed[:,0]-ts))[0]\n",
      "/home/kfir/workspace/RadarLocalization/dataset.py:253: VisibleDeprecationWarning: Creating an ndarray from ragged nested sequences (which is a list-or-tuple of lists-or-tuples-or ndarrays with different lengths or shapes) is deprecated. If you meant to do this, you must specify 'dtype=object' when creating the ndarray\n",
      "  pidx = np.argsort(np.abs(veh_speed[:,0]-ts))[0]\n",
      "/home/kfir/workspace/RadarLocalization/dataset.py:253: VisibleDeprecationWarning: Creating an ndarray from ragged nested sequences (which is a list-or-tuple of lists-or-tuples-or ndarrays with different lengths or shapes) is deprecated. If you meant to do this, you must specify 'dtype=object' when creating the ndarray\n",
      "  pidx = np.argsort(np.abs(veh_speed[:,0]-ts))[0]\n",
      "/home/kfir/workspace/RadarLocalization/dataset.py:253: VisibleDeprecationWarning: Creating an ndarray from ragged nested sequences (which is a list-or-tuple of lists-or-tuples-or ndarrays with different lengths or shapes) is deprecated. If you meant to do this, you must specify 'dtype=object' when creating the ndarray\n",
      "  pidx = np.argsort(np.abs(veh_speed[:,0]-ts))[0]\n",
      "/home/kfir/workspace/RadarLocalization/dataset.py:253: VisibleDeprecationWarning: Creating an ndarray from ragged nested sequences (which is a list-or-tuple of lists-or-tuples-or ndarrays with different lengths or shapes) is deprecated. If you meant to do this, you must specify 'dtype=object' when creating the ndarray\n",
      "  pidx = np.argsort(np.abs(veh_speed[:,0]-ts))[0]\n",
      "/home/kfir/workspace/RadarLocalization/dataset.py:253: VisibleDeprecationWarning: Creating an ndarray from ragged nested sequences (which is a list-or-tuple of lists-or-tuples-or ndarrays with different lengths or shapes) is deprecated. If you meant to do this, you must specify 'dtype=object' when creating the ndarray\n",
      "  pidx = np.argsort(np.abs(veh_speed[:,0]-ts))[0]\n",
      "/home/kfir/workspace/RadarLocalization/dataset.py:253: VisibleDeprecationWarning: Creating an ndarray from ragged nested sequences (which is a list-or-tuple of lists-or-tuples-or ndarrays with different lengths or shapes) is deprecated. If you meant to do this, you must specify 'dtype=object' when creating the ndarray\n",
      "  pidx = np.argsort(np.abs(veh_speed[:,0]-ts))[0]\n",
      "/home/kfir/workspace/RadarLocalization/dataset.py:253: VisibleDeprecationWarning: Creating an ndarray from ragged nested sequences (which is a list-or-tuple of lists-or-tuples-or ndarrays with different lengths or shapes) is deprecated. If you meant to do this, you must specify 'dtype=object' when creating the ndarray\n",
      "  pidx = np.argsort(np.abs(veh_speed[:,0]-ts))[0]\n",
      "/home/kfir/workspace/RadarLocalization/dataset.py:253: VisibleDeprecationWarning: Creating an ndarray from ragged nested sequences (which is a list-or-tuple of lists-or-tuples-or ndarrays with different lengths or shapes) is deprecated. If you meant to do this, you must specify 'dtype=object' when creating the ndarray\n",
      "  pidx = np.argsort(np.abs(veh_speed[:,0]-ts))[0]\n",
      "/home/kfir/workspace/RadarLocalization/dataset.py:253: VisibleDeprecationWarning: Creating an ndarray from ragged nested sequences (which is a list-or-tuple of lists-or-tuples-or ndarrays with different lengths or shapes) is deprecated. If you meant to do this, you must specify 'dtype=object' when creating the ndarray\n",
      "  pidx = np.argsort(np.abs(veh_speed[:,0]-ts))[0]\n",
      "/home/kfir/workspace/RadarLocalization/dataset.py:253: VisibleDeprecationWarning: Creating an ndarray from ragged nested sequences (which is a list-or-tuple of lists-or-tuples-or ndarrays with different lengths or shapes) is deprecated. If you meant to do this, you must specify 'dtype=object' when creating the ndarray\n",
      "  pidx = np.argsort(np.abs(veh_speed[:,0]-ts))[0]\n",
      "/home/kfir/workspace/RadarLocalization/dataset.py:253: VisibleDeprecationWarning: Creating an ndarray from ragged nested sequences (which is a list-or-tuple of lists-or-tuples-or ndarrays with different lengths or shapes) is deprecated. If you meant to do this, you must specify 'dtype=object' when creating the ndarray\n",
      "  pidx = np.argsort(np.abs(veh_speed[:,0]-ts))[0]\n",
      "/home/kfir/.local/lib/python3.6/site-packages/numpy/core/fromnumeric.py:3373: RuntimeWarning: Mean of empty slice.\n",
      "  out=out, **kwargs)\n",
      "/home/kfir/workspace/RadarLocalization/dataset.py:253: VisibleDeprecationWarning: Creating an ndarray from ragged nested sequences (which is a list-or-tuple of lists-or-tuples-or ndarrays with different lengths or shapes) is deprecated. If you meant to do this, you must specify 'dtype=object' when creating the ndarray\n",
      "  pidx = np.argsort(np.abs(veh_speed[:,0]-ts))[0]\n",
      "/home/kfir/workspace/RadarLocalization/dataset.py:253: VisibleDeprecationWarning: Creating an ndarray from ragged nested sequences (which is a list-or-tuple of lists-or-tuples-or ndarrays with different lengths or shapes) is deprecated. If you meant to do this, you must specify 'dtype=object' when creating the ndarray\n",
      "  pidx = np.argsort(np.abs(veh_speed[:,0]-ts))[0]\n",
      "/home/kfir/workspace/RadarLocalization/dataset.py:253: VisibleDeprecationWarning: Creating an ndarray from ragged nested sequences (which is a list-or-tuple of lists-or-tuples-or ndarrays with different lengths or shapes) is deprecated. If you meant to do this, you must specify 'dtype=object' when creating the ndarray\n",
      "  pidx = np.argsort(np.abs(veh_speed[:,0]-ts))[0]\n",
      "/home/kfir/workspace/RadarLocalization/dataset.py:253: VisibleDeprecationWarning: Creating an ndarray from ragged nested sequences (which is a list-or-tuple of lists-or-tuples-or ndarrays with different lengths or shapes) is deprecated. If you meant to do this, you must specify 'dtype=object' when creating the ndarray\n",
      "  pidx = np.argsort(np.abs(veh_speed[:,0]-ts))[0]\n",
      "/home/kfir/workspace/RadarLocalization/dataset.py:253: VisibleDeprecationWarning: Creating an ndarray from ragged nested sequences (which is a list-or-tuple of lists-or-tuples-or ndarrays with different lengths or shapes) is deprecated. If you meant to do this, you must specify 'dtype=object' when creating the ndarray\n",
      "  pidx = np.argsort(np.abs(veh_speed[:,0]-ts))[0]\n",
      "/home/kfir/workspace/RadarLocalization/dataset.py:253: VisibleDeprecationWarning: Creating an ndarray from ragged nested sequences (which is a list-or-tuple of lists-or-tuples-or ndarrays with different lengths or shapes) is deprecated. If you meant to do this, you must specify 'dtype=object' when creating the ndarray\n",
      "  pidx = np.argsort(np.abs(veh_speed[:,0]-ts))[0]\n",
      "/home/kfir/workspace/RadarLocalization/dataset.py:253: VisibleDeprecationWarning: Creating an ndarray from ragged nested sequences (which is a list-or-tuple of lists-or-tuples-or ndarrays with different lengths or shapes) is deprecated. If you meant to do this, you must specify 'dtype=object' when creating the ndarray\n",
      "  pidx = np.argsort(np.abs(veh_speed[:,0]-ts))[0]\n"
     ]
    },
    {
     "name": "stderr",
     "output_type": "stream",
     "text": [
      "/home/kfir/workspace/RadarLocalization/dataset.py:253: VisibleDeprecationWarning: Creating an ndarray from ragged nested sequences (which is a list-or-tuple of lists-or-tuples-or ndarrays with different lengths or shapes) is deprecated. If you meant to do this, you must specify 'dtype=object' when creating the ndarray\n",
      "  pidx = np.argsort(np.abs(veh_speed[:,0]-ts))[0]\n",
      "/home/kfir/.local/lib/python3.6/site-packages/numpy/core/fromnumeric.py:3373: RuntimeWarning: Mean of empty slice.\n",
      "  out=out, **kwargs)\n",
      "/home/kfir/workspace/RadarLocalization/dataset.py:253: VisibleDeprecationWarning: Creating an ndarray from ragged nested sequences (which is a list-or-tuple of lists-or-tuples-or ndarrays with different lengths or shapes) is deprecated. If you meant to do this, you must specify 'dtype=object' when creating the ndarray\n",
      "  pidx = np.argsort(np.abs(veh_speed[:,0]-ts))[0]\n",
      "/home/kfir/workspace/RadarLocalization/dataset.py:253: VisibleDeprecationWarning: Creating an ndarray from ragged nested sequences (which is a list-or-tuple of lists-or-tuples-or ndarrays with different lengths or shapes) is deprecated. If you meant to do this, you must specify 'dtype=object' when creating the ndarray\n",
      "  pidx = np.argsort(np.abs(veh_speed[:,0]-ts))[0]\n",
      "/home/kfir/workspace/RadarLocalization/dataset.py:253: VisibleDeprecationWarning: Creating an ndarray from ragged nested sequences (which is a list-or-tuple of lists-or-tuples-or ndarrays with different lengths or shapes) is deprecated. If you meant to do this, you must specify 'dtype=object' when creating the ndarray\n",
      "  pidx = np.argsort(np.abs(veh_speed[:,0]-ts))[0]\n",
      "/home/kfir/workspace/RadarLocalization/dataset.py:253: VisibleDeprecationWarning: Creating an ndarray from ragged nested sequences (which is a list-or-tuple of lists-or-tuples-or ndarrays with different lengths or shapes) is deprecated. If you meant to do this, you must specify 'dtype=object' when creating the ndarray\n",
      "  pidx = np.argsort(np.abs(veh_speed[:,0]-ts))[0]\n",
      "/home/kfir/workspace/RadarLocalization/dataset.py:253: VisibleDeprecationWarning: Creating an ndarray from ragged nested sequences (which is a list-or-tuple of lists-or-tuples-or ndarrays with different lengths or shapes) is deprecated. If you meant to do this, you must specify 'dtype=object' when creating the ndarray\n",
      "  pidx = np.argsort(np.abs(veh_speed[:,0]-ts))[0]\n",
      "/home/kfir/.local/lib/python3.6/site-packages/numpy/core/fromnumeric.py:3373: RuntimeWarning: Mean of empty slice.\n",
      "  out=out, **kwargs)\n",
      "/home/kfir/workspace/RadarLocalization/dataset.py:253: VisibleDeprecationWarning: Creating an ndarray from ragged nested sequences (which is a list-or-tuple of lists-or-tuples-or ndarrays with different lengths or shapes) is deprecated. If you meant to do this, you must specify 'dtype=object' when creating the ndarray\n",
      "  pidx = np.argsort(np.abs(veh_speed[:,0]-ts))[0]\n",
      "/home/kfir/workspace/RadarLocalization/dataset.py:253: VisibleDeprecationWarning: Creating an ndarray from ragged nested sequences (which is a list-or-tuple of lists-or-tuples-or ndarrays with different lengths or shapes) is deprecated. If you meant to do this, you must specify 'dtype=object' when creating the ndarray\n",
      "  pidx = np.argsort(np.abs(veh_speed[:,0]-ts))[0]\n",
      "/home/kfir/workspace/RadarLocalization/dataset.py:253: VisibleDeprecationWarning: Creating an ndarray from ragged nested sequences (which is a list-or-tuple of lists-or-tuples-or ndarrays with different lengths or shapes) is deprecated. If you meant to do this, you must specify 'dtype=object' when creating the ndarray\n",
      "  pidx = np.argsort(np.abs(veh_speed[:,0]-ts))[0]\n",
      "/home/kfir/workspace/RadarLocalization/dataset.py:253: VisibleDeprecationWarning: Creating an ndarray from ragged nested sequences (which is a list-or-tuple of lists-or-tuples-or ndarrays with different lengths or shapes) is deprecated. If you meant to do this, you must specify 'dtype=object' when creating the ndarray\n",
      "  pidx = np.argsort(np.abs(veh_speed[:,0]-ts))[0]\n",
      "/home/kfir/workspace/RadarLocalization/dataset.py:253: VisibleDeprecationWarning: Creating an ndarray from ragged nested sequences (which is a list-or-tuple of lists-or-tuples-or ndarrays with different lengths or shapes) is deprecated. If you meant to do this, you must specify 'dtype=object' when creating the ndarray\n",
      "  pidx = np.argsort(np.abs(veh_speed[:,0]-ts))[0]\n",
      "/home/kfir/workspace/RadarLocalization/dataset.py:253: VisibleDeprecationWarning: Creating an ndarray from ragged nested sequences (which is a list-or-tuple of lists-or-tuples-or ndarrays with different lengths or shapes) is deprecated. If you meant to do this, you must specify 'dtype=object' when creating the ndarray\n",
      "  pidx = np.argsort(np.abs(veh_speed[:,0]-ts))[0]\n",
      "/home/kfir/.local/lib/python3.6/site-packages/numpy/core/fromnumeric.py:3373: RuntimeWarning: Mean of empty slice.\n",
      "  out=out, **kwargs)\n",
      "/home/kfir/workspace/RadarLocalization/dataset.py:253: VisibleDeprecationWarning: Creating an ndarray from ragged nested sequences (which is a list-or-tuple of lists-or-tuples-or ndarrays with different lengths or shapes) is deprecated. If you meant to do this, you must specify 'dtype=object' when creating the ndarray\n",
      "  pidx = np.argsort(np.abs(veh_speed[:,0]-ts))[0]\n",
      "/home/kfir/workspace/RadarLocalization/dataset.py:253: VisibleDeprecationWarning: Creating an ndarray from ragged nested sequences (which is a list-or-tuple of lists-or-tuples-or ndarrays with different lengths or shapes) is deprecated. If you meant to do this, you must specify 'dtype=object' when creating the ndarray\n",
      "  pidx = np.argsort(np.abs(veh_speed[:,0]-ts))[0]\n",
      "/home/kfir/workspace/RadarLocalization/dataset.py:253: VisibleDeprecationWarning: Creating an ndarray from ragged nested sequences (which is a list-or-tuple of lists-or-tuples-or ndarrays with different lengths or shapes) is deprecated. If you meant to do this, you must specify 'dtype=object' when creating the ndarray\n",
      "  pidx = np.argsort(np.abs(veh_speed[:,0]-ts))[0]\n",
      "/home/kfir/workspace/RadarLocalization/dataset.py:253: VisibleDeprecationWarning: Creating an ndarray from ragged nested sequences (which is a list-or-tuple of lists-or-tuples-or ndarrays with different lengths or shapes) is deprecated. If you meant to do this, you must specify 'dtype=object' when creating the ndarray\n",
      "  pidx = np.argsort(np.abs(veh_speed[:,0]-ts))[0]\n",
      "/home/kfir/workspace/RadarLocalization/dataset.py:253: VisibleDeprecationWarning: Creating an ndarray from ragged nested sequences (which is a list-or-tuple of lists-or-tuples-or ndarrays with different lengths or shapes) is deprecated. If you meant to do this, you must specify 'dtype=object' when creating the ndarray\n",
      "  pidx = np.argsort(np.abs(veh_speed[:,0]-ts))[0]\n",
      "/home/kfir/workspace/RadarLocalization/dataset.py:253: VisibleDeprecationWarning: Creating an ndarray from ragged nested sequences (which is a list-or-tuple of lists-or-tuples-or ndarrays with different lengths or shapes) is deprecated. If you meant to do this, you must specify 'dtype=object' when creating the ndarray\n",
      "  pidx = np.argsort(np.abs(veh_speed[:,0]-ts))[0]\n",
      "/home/kfir/workspace/RadarLocalization/dataset.py:253: VisibleDeprecationWarning: Creating an ndarray from ragged nested sequences (which is a list-or-tuple of lists-or-tuples-or ndarrays with different lengths or shapes) is deprecated. If you meant to do this, you must specify 'dtype=object' when creating the ndarray\n",
      "  pidx = np.argsort(np.abs(veh_speed[:,0]-ts))[0]\n",
      "/home/kfir/workspace/RadarLocalization/dataset.py:253: VisibleDeprecationWarning: Creating an ndarray from ragged nested sequences (which is a list-or-tuple of lists-or-tuples-or ndarrays with different lengths or shapes) is deprecated. If you meant to do this, you must specify 'dtype=object' when creating the ndarray\n",
      "  pidx = np.argsort(np.abs(veh_speed[:,0]-ts))[0]\n",
      "/home/kfir/workspace/RadarLocalization/dataset.py:253: VisibleDeprecationWarning: Creating an ndarray from ragged nested sequences (which is a list-or-tuple of lists-or-tuples-or ndarrays with different lengths or shapes) is deprecated. If you meant to do this, you must specify 'dtype=object' when creating the ndarray\n",
      "  pidx = np.argsort(np.abs(veh_speed[:,0]-ts))[0]\n",
      "/home/kfir/workspace/RadarLocalization/dataset.py:253: VisibleDeprecationWarning: Creating an ndarray from ragged nested sequences (which is a list-or-tuple of lists-or-tuples-or ndarrays with different lengths or shapes) is deprecated. If you meant to do this, you must specify 'dtype=object' when creating the ndarray\n",
      "  pidx = np.argsort(np.abs(veh_speed[:,0]-ts))[0]\n"
     ]
    },
    {
     "name": "stderr",
     "output_type": "stream",
     "text": [
      "/home/kfir/workspace/RadarLocalization/dataset.py:253: VisibleDeprecationWarning: Creating an ndarray from ragged nested sequences (which is a list-or-tuple of lists-or-tuples-or ndarrays with different lengths or shapes) is deprecated. If you meant to do this, you must specify 'dtype=object' when creating the ndarray\n",
      "  pidx = np.argsort(np.abs(veh_speed[:,0]-ts))[0]\n",
      "/home/kfir/workspace/RadarLocalization/dataset.py:253: VisibleDeprecationWarning: Creating an ndarray from ragged nested sequences (which is a list-or-tuple of lists-or-tuples-or ndarrays with different lengths or shapes) is deprecated. If you meant to do this, you must specify 'dtype=object' when creating the ndarray\n",
      "  pidx = np.argsort(np.abs(veh_speed[:,0]-ts))[0]\n",
      "/home/kfir/workspace/RadarLocalization/dataset.py:253: VisibleDeprecationWarning: Creating an ndarray from ragged nested sequences (which is a list-or-tuple of lists-or-tuples-or ndarrays with different lengths or shapes) is deprecated. If you meant to do this, you must specify 'dtype=object' when creating the ndarray\n",
      "  pidx = np.argsort(np.abs(veh_speed[:,0]-ts))[0]\n",
      "/home/kfir/workspace/RadarLocalization/dataset.py:253: VisibleDeprecationWarning: Creating an ndarray from ragged nested sequences (which is a list-or-tuple of lists-or-tuples-or ndarrays with different lengths or shapes) is deprecated. If you meant to do this, you must specify 'dtype=object' when creating the ndarray\n",
      "  pidx = np.argsort(np.abs(veh_speed[:,0]-ts))[0]\n",
      "/home/kfir/workspace/RadarLocalization/dataset.py:253: VisibleDeprecationWarning: Creating an ndarray from ragged nested sequences (which is a list-or-tuple of lists-or-tuples-or ndarrays with different lengths or shapes) is deprecated. If you meant to do this, you must specify 'dtype=object' when creating the ndarray\n",
      "  pidx = np.argsort(np.abs(veh_speed[:,0]-ts))[0]\n",
      "/home/kfir/workspace/RadarLocalization/dataset.py:253: VisibleDeprecationWarning: Creating an ndarray from ragged nested sequences (which is a list-or-tuple of lists-or-tuples-or ndarrays with different lengths or shapes) is deprecated. If you meant to do this, you must specify 'dtype=object' when creating the ndarray\n",
      "  pidx = np.argsort(np.abs(veh_speed[:,0]-ts))[0]\n",
      "/home/kfir/workspace/RadarLocalization/dataset.py:253: VisibleDeprecationWarning: Creating an ndarray from ragged nested sequences (which is a list-or-tuple of lists-or-tuples-or ndarrays with different lengths or shapes) is deprecated. If you meant to do this, you must specify 'dtype=object' when creating the ndarray\n",
      "  pidx = np.argsort(np.abs(veh_speed[:,0]-ts))[0]\n",
      "/home/kfir/.local/lib/python3.6/site-packages/numpy/core/fromnumeric.py:3373: RuntimeWarning: Mean of empty slice.\n",
      "  out=out, **kwargs)\n",
      "/home/kfir/workspace/RadarLocalization/dataset.py:253: VisibleDeprecationWarning: Creating an ndarray from ragged nested sequences (which is a list-or-tuple of lists-or-tuples-or ndarrays with different lengths or shapes) is deprecated. If you meant to do this, you must specify 'dtype=object' when creating the ndarray\n",
      "  pidx = np.argsort(np.abs(veh_speed[:,0]-ts))[0]\n",
      "/home/kfir/.local/lib/python3.6/site-packages/numpy/core/fromnumeric.py:3373: RuntimeWarning: Mean of empty slice.\n",
      "  out=out, **kwargs)\n",
      "/home/kfir/workspace/RadarLocalization/dataset.py:253: VisibleDeprecationWarning: Creating an ndarray from ragged nested sequences (which is a list-or-tuple of lists-or-tuples-or ndarrays with different lengths or shapes) is deprecated. If you meant to do this, you must specify 'dtype=object' when creating the ndarray\n",
      "  pidx = np.argsort(np.abs(veh_speed[:,0]-ts))[0]\n",
      "/home/kfir/workspace/RadarLocalization/dataset.py:253: VisibleDeprecationWarning: Creating an ndarray from ragged nested sequences (which is a list-or-tuple of lists-or-tuples-or ndarrays with different lengths or shapes) is deprecated. If you meant to do this, you must specify 'dtype=object' when creating the ndarray\n",
      "  pidx = np.argsort(np.abs(veh_speed[:,0]-ts))[0]\n",
      "/home/kfir/workspace/RadarLocalization/dataset.py:253: VisibleDeprecationWarning: Creating an ndarray from ragged nested sequences (which is a list-or-tuple of lists-or-tuples-or ndarrays with different lengths or shapes) is deprecated. If you meant to do this, you must specify 'dtype=object' when creating the ndarray\n",
      "  pidx = np.argsort(np.abs(veh_speed[:,0]-ts))[0]\n",
      "/home/kfir/workspace/RadarLocalization/dataset.py:253: VisibleDeprecationWarning: Creating an ndarray from ragged nested sequences (which is a list-or-tuple of lists-or-tuples-or ndarrays with different lengths or shapes) is deprecated. If you meant to do this, you must specify 'dtype=object' when creating the ndarray\n",
      "  pidx = np.argsort(np.abs(veh_speed[:,0]-ts))[0]\n",
      "/home/kfir/.local/lib/python3.6/site-packages/numpy/core/fromnumeric.py:3373: RuntimeWarning: Mean of empty slice.\n",
      "  out=out, **kwargs)\n",
      "/home/kfir/workspace/RadarLocalization/dataset.py:253: VisibleDeprecationWarning: Creating an ndarray from ragged nested sequences (which is a list-or-tuple of lists-or-tuples-or ndarrays with different lengths or shapes) is deprecated. If you meant to do this, you must specify 'dtype=object' when creating the ndarray\n",
      "  pidx = np.argsort(np.abs(veh_speed[:,0]-ts))[0]\n",
      "/home/kfir/.local/lib/python3.6/site-packages/numpy/core/fromnumeric.py:3373: RuntimeWarning: Mean of empty slice.\n",
      "  out=out, **kwargs)\n",
      "/home/kfir/workspace/RadarLocalization/dataset.py:253: VisibleDeprecationWarning: Creating an ndarray from ragged nested sequences (which is a list-or-tuple of lists-or-tuples-or ndarrays with different lengths or shapes) is deprecated. If you meant to do this, you must specify 'dtype=object' when creating the ndarray\n",
      "  pidx = np.argsort(np.abs(veh_speed[:,0]-ts))[0]\n",
      "/home/kfir/.local/lib/python3.6/site-packages/numpy/core/fromnumeric.py:3373: RuntimeWarning: Mean of empty slice.\n",
      "  out=out, **kwargs)\n",
      "/home/kfir/workspace/RadarLocalization/dataset.py:253: VisibleDeprecationWarning: Creating an ndarray from ragged nested sequences (which is a list-or-tuple of lists-or-tuples-or ndarrays with different lengths or shapes) is deprecated. If you meant to do this, you must specify 'dtype=object' when creating the ndarray\n",
      "  pidx = np.argsort(np.abs(veh_speed[:,0]-ts))[0]\n",
      "/home/kfir/.local/lib/python3.6/site-packages/numpy/core/fromnumeric.py:3373: RuntimeWarning: Mean of empty slice.\n",
      "  out=out, **kwargs)\n",
      "/home/kfir/workspace/RadarLocalization/dataset.py:253: VisibleDeprecationWarning: Creating an ndarray from ragged nested sequences (which is a list-or-tuple of lists-or-tuples-or ndarrays with different lengths or shapes) is deprecated. If you meant to do this, you must specify 'dtype=object' when creating the ndarray\n",
      "  pidx = np.argsort(np.abs(veh_speed[:,0]-ts))[0]\n",
      "/home/kfir/workspace/RadarLocalization/dataset.py:253: VisibleDeprecationWarning: Creating an ndarray from ragged nested sequences (which is a list-or-tuple of lists-or-tuples-or ndarrays with different lengths or shapes) is deprecated. If you meant to do this, you must specify 'dtype=object' when creating the ndarray\n",
      "  pidx = np.argsort(np.abs(veh_speed[:,0]-ts))[0]\n",
      "/home/kfir/workspace/RadarLocalization/dataset.py:253: VisibleDeprecationWarning: Creating an ndarray from ragged nested sequences (which is a list-or-tuple of lists-or-tuples-or ndarrays with different lengths or shapes) is deprecated. If you meant to do this, you must specify 'dtype=object' when creating the ndarray\n",
      "  pidx = np.argsort(np.abs(veh_speed[:,0]-ts))[0]\n",
      "/home/kfir/workspace/RadarLocalization/dataset.py:253: VisibleDeprecationWarning: Creating an ndarray from ragged nested sequences (which is a list-or-tuple of lists-or-tuples-or ndarrays with different lengths or shapes) is deprecated. If you meant to do this, you must specify 'dtype=object' when creating the ndarray\n",
      "  pidx = np.argsort(np.abs(veh_speed[:,0]-ts))[0]\n",
      "/home/kfir/.local/lib/python3.6/site-packages/numpy/core/fromnumeric.py:3373: RuntimeWarning: Mean of empty slice.\n",
      "  out=out, **kwargs)\n",
      "/home/kfir/workspace/RadarLocalization/dataset.py:253: VisibleDeprecationWarning: Creating an ndarray from ragged nested sequences (which is a list-or-tuple of lists-or-tuples-or ndarrays with different lengths or shapes) is deprecated. If you meant to do this, you must specify 'dtype=object' when creating the ndarray\n",
      "  pidx = np.argsort(np.abs(veh_speed[:,0]-ts))[0]\n",
      "/home/kfir/workspace/RadarLocalization/dataset.py:253: VisibleDeprecationWarning: Creating an ndarray from ragged nested sequences (which is a list-or-tuple of lists-or-tuples-or ndarrays with different lengths or shapes) is deprecated. If you meant to do this, you must specify 'dtype=object' when creating the ndarray\n",
      "  pidx = np.argsort(np.abs(veh_speed[:,0]-ts))[0]\n",
      "/home/kfir/.local/lib/python3.6/site-packages/numpy/core/fromnumeric.py:3373: RuntimeWarning: Mean of empty slice.\n",
      "  out=out, **kwargs)\n"
     ]
    },
    {
     "name": "stderr",
     "output_type": "stream",
     "text": [
      "/home/kfir/workspace/RadarLocalization/dataset.py:253: VisibleDeprecationWarning: Creating an ndarray from ragged nested sequences (which is a list-or-tuple of lists-or-tuples-or ndarrays with different lengths or shapes) is deprecated. If you meant to do this, you must specify 'dtype=object' when creating the ndarray\n",
      "  pidx = np.argsort(np.abs(veh_speed[:,0]-ts))[0]\n",
      "/home/kfir/workspace/RadarLocalization/dataset.py:253: VisibleDeprecationWarning: Creating an ndarray from ragged nested sequences (which is a list-or-tuple of lists-or-tuples-or ndarrays with different lengths or shapes) is deprecated. If you meant to do this, you must specify 'dtype=object' when creating the ndarray\n",
      "  pidx = np.argsort(np.abs(veh_speed[:,0]-ts))[0]\n",
      "/home/kfir/workspace/RadarLocalization/dataset.py:253: VisibleDeprecationWarning: Creating an ndarray from ragged nested sequences (which is a list-or-tuple of lists-or-tuples-or ndarrays with different lengths or shapes) is deprecated. If you meant to do this, you must specify 'dtype=object' when creating the ndarray\n",
      "  pidx = np.argsort(np.abs(veh_speed[:,0]-ts))[0]\n",
      "/home/kfir/workspace/RadarLocalization/dataset.py:253: VisibleDeprecationWarning: Creating an ndarray from ragged nested sequences (which is a list-or-tuple of lists-or-tuples-or ndarrays with different lengths or shapes) is deprecated. If you meant to do this, you must specify 'dtype=object' when creating the ndarray\n",
      "  pidx = np.argsort(np.abs(veh_speed[:,0]-ts))[0]\n",
      "/home/kfir/workspace/RadarLocalization/dataset.py:253: VisibleDeprecationWarning: Creating an ndarray from ragged nested sequences (which is a list-or-tuple of lists-or-tuples-or ndarrays with different lengths or shapes) is deprecated. If you meant to do this, you must specify 'dtype=object' when creating the ndarray\n",
      "  pidx = np.argsort(np.abs(veh_speed[:,0]-ts))[0]\n",
      "/home/kfir/.local/lib/python3.6/site-packages/numpy/core/fromnumeric.py:3373: RuntimeWarning: Mean of empty slice.\n",
      "  out=out, **kwargs)\n",
      "/home/kfir/workspace/RadarLocalization/dataset.py:253: VisibleDeprecationWarning: Creating an ndarray from ragged nested sequences (which is a list-or-tuple of lists-or-tuples-or ndarrays with different lengths or shapes) is deprecated. If you meant to do this, you must specify 'dtype=object' when creating the ndarray\n",
      "  pidx = np.argsort(np.abs(veh_speed[:,0]-ts))[0]\n",
      "/home/kfir/.local/lib/python3.6/site-packages/numpy/core/fromnumeric.py:3373: RuntimeWarning: Mean of empty slice.\n",
      "  out=out, **kwargs)\n",
      "/home/kfir/workspace/RadarLocalization/dataset.py:253: VisibleDeprecationWarning: Creating an ndarray from ragged nested sequences (which is a list-or-tuple of lists-or-tuples-or ndarrays with different lengths or shapes) is deprecated. If you meant to do this, you must specify 'dtype=object' when creating the ndarray\n",
      "  pidx = np.argsort(np.abs(veh_speed[:,0]-ts))[0]\n",
      "/home/kfir/.local/lib/python3.6/site-packages/numpy/core/fromnumeric.py:3373: RuntimeWarning: Mean of empty slice.\n",
      "  out=out, **kwargs)\n",
      "/home/kfir/workspace/RadarLocalization/dataset.py:253: VisibleDeprecationWarning: Creating an ndarray from ragged nested sequences (which is a list-or-tuple of lists-or-tuples-or ndarrays with different lengths or shapes) is deprecated. If you meant to do this, you must specify 'dtype=object' when creating the ndarray\n",
      "  pidx = np.argsort(np.abs(veh_speed[:,0]-ts))[0]\n",
      "/home/kfir/workspace/RadarLocalization/dataset.py:253: VisibleDeprecationWarning: Creating an ndarray from ragged nested sequences (which is a list-or-tuple of lists-or-tuples-or ndarrays with different lengths or shapes) is deprecated. If you meant to do this, you must specify 'dtype=object' when creating the ndarray\n",
      "  pidx = np.argsort(np.abs(veh_speed[:,0]-ts))[0]\n",
      "/home/kfir/.local/lib/python3.6/site-packages/numpy/core/fromnumeric.py:3373: RuntimeWarning: Mean of empty slice.\n",
      "  out=out, **kwargs)\n",
      "/home/kfir/workspace/RadarLocalization/dataset.py:253: VisibleDeprecationWarning: Creating an ndarray from ragged nested sequences (which is a list-or-tuple of lists-or-tuples-or ndarrays with different lengths or shapes) is deprecated. If you meant to do this, you must specify 'dtype=object' when creating the ndarray\n",
      "  pidx = np.argsort(np.abs(veh_speed[:,0]-ts))[0]\n",
      "/home/kfir/.local/lib/python3.6/site-packages/numpy/core/fromnumeric.py:3373: RuntimeWarning: Mean of empty slice.\n",
      "  out=out, **kwargs)\n",
      "/home/kfir/workspace/RadarLocalization/dataset.py:253: VisibleDeprecationWarning: Creating an ndarray from ragged nested sequences (which is a list-or-tuple of lists-or-tuples-or ndarrays with different lengths or shapes) is deprecated. If you meant to do this, you must specify 'dtype=object' when creating the ndarray\n",
      "  pidx = np.argsort(np.abs(veh_speed[:,0]-ts))[0]\n",
      "/home/kfir/.local/lib/python3.6/site-packages/numpy/core/fromnumeric.py:3373: RuntimeWarning: Mean of empty slice.\n",
      "  out=out, **kwargs)\n",
      "/home/kfir/workspace/RadarLocalization/dataset.py:253: VisibleDeprecationWarning: Creating an ndarray from ragged nested sequences (which is a list-or-tuple of lists-or-tuples-or ndarrays with different lengths or shapes) is deprecated. If you meant to do this, you must specify 'dtype=object' when creating the ndarray\n",
      "  pidx = np.argsort(np.abs(veh_speed[:,0]-ts))[0]\n",
      "/home/kfir/.local/lib/python3.6/site-packages/numpy/core/fromnumeric.py:3373: RuntimeWarning: Mean of empty slice.\n",
      "  out=out, **kwargs)\n",
      "/home/kfir/workspace/RadarLocalization/dataset.py:253: VisibleDeprecationWarning: Creating an ndarray from ragged nested sequences (which is a list-or-tuple of lists-or-tuples-or ndarrays with different lengths or shapes) is deprecated. If you meant to do this, you must specify 'dtype=object' when creating the ndarray\n",
      "  pidx = np.argsort(np.abs(veh_speed[:,0]-ts))[0]\n",
      "/home/kfir/workspace/RadarLocalization/dataset.py:253: VisibleDeprecationWarning: Creating an ndarray from ragged nested sequences (which is a list-or-tuple of lists-or-tuples-or ndarrays with different lengths or shapes) is deprecated. If you meant to do this, you must specify 'dtype=object' when creating the ndarray\n",
      "  pidx = np.argsort(np.abs(veh_speed[:,0]-ts))[0]\n",
      "/home/kfir/workspace/RadarLocalization/dataset.py:253: VisibleDeprecationWarning: Creating an ndarray from ragged nested sequences (which is a list-or-tuple of lists-or-tuples-or ndarrays with different lengths or shapes) is deprecated. If you meant to do this, you must specify 'dtype=object' when creating the ndarray\n",
      "  pidx = np.argsort(np.abs(veh_speed[:,0]-ts))[0]\n",
      "/home/kfir/workspace/RadarLocalization/dataset.py:253: VisibleDeprecationWarning: Creating an ndarray from ragged nested sequences (which is a list-or-tuple of lists-or-tuples-or ndarrays with different lengths or shapes) is deprecated. If you meant to do this, you must specify 'dtype=object' when creating the ndarray\n",
      "  pidx = np.argsort(np.abs(veh_speed[:,0]-ts))[0]\n",
      "/home/kfir/workspace/RadarLocalization/dataset.py:253: VisibleDeprecationWarning: Creating an ndarray from ragged nested sequences (which is a list-or-tuple of lists-or-tuples-or ndarrays with different lengths or shapes) is deprecated. If you meant to do this, you must specify 'dtype=object' when creating the ndarray\n",
      "  pidx = np.argsort(np.abs(veh_speed[:,0]-ts))[0]\n",
      "/home/kfir/workspace/RadarLocalization/dataset.py:253: VisibleDeprecationWarning: Creating an ndarray from ragged nested sequences (which is a list-or-tuple of lists-or-tuples-or ndarrays with different lengths or shapes) is deprecated. If you meant to do this, you must specify 'dtype=object' when creating the ndarray\n",
      "  pidx = np.argsort(np.abs(veh_speed[:,0]-ts))[0]\n",
      "/home/kfir/workspace/RadarLocalization/dataset.py:253: VisibleDeprecationWarning: Creating an ndarray from ragged nested sequences (which is a list-or-tuple of lists-or-tuples-or ndarrays with different lengths or shapes) is deprecated. If you meant to do this, you must specify 'dtype=object' when creating the ndarray\n",
      "  pidx = np.argsort(np.abs(veh_speed[:,0]-ts))[0]\n",
      "/home/kfir/workspace/RadarLocalization/dataset.py:253: VisibleDeprecationWarning: Creating an ndarray from ragged nested sequences (which is a list-or-tuple of lists-or-tuples-or ndarrays with different lengths or shapes) is deprecated. If you meant to do this, you must specify 'dtype=object' when creating the ndarray\n",
      "  pidx = np.argsort(np.abs(veh_speed[:,0]-ts))[0]\n"
     ]
    },
    {
     "name": "stderr",
     "output_type": "stream",
     "text": [
      "/home/kfir/workspace/RadarLocalization/dataset.py:253: VisibleDeprecationWarning: Creating an ndarray from ragged nested sequences (which is a list-or-tuple of lists-or-tuples-or ndarrays with different lengths or shapes) is deprecated. If you meant to do this, you must specify 'dtype=object' when creating the ndarray\n",
      "  pidx = np.argsort(np.abs(veh_speed[:,0]-ts))[0]\n",
      "/home/kfir/.local/lib/python3.6/site-packages/numpy/core/fromnumeric.py:3373: RuntimeWarning: Mean of empty slice.\n",
      "  out=out, **kwargs)\n",
      "/home/kfir/workspace/RadarLocalization/dataset.py:253: VisibleDeprecationWarning: Creating an ndarray from ragged nested sequences (which is a list-or-tuple of lists-or-tuples-or ndarrays with different lengths or shapes) is deprecated. If you meant to do this, you must specify 'dtype=object' when creating the ndarray\n",
      "  pidx = np.argsort(np.abs(veh_speed[:,0]-ts))[0]\n",
      "/home/kfir/workspace/RadarLocalization/dataset.py:253: VisibleDeprecationWarning: Creating an ndarray from ragged nested sequences (which is a list-or-tuple of lists-or-tuples-or ndarrays with different lengths or shapes) is deprecated. If you meant to do this, you must specify 'dtype=object' when creating the ndarray\n",
      "  pidx = np.argsort(np.abs(veh_speed[:,0]-ts))[0]\n",
      "/home/kfir/workspace/RadarLocalization/dataset.py:253: VisibleDeprecationWarning: Creating an ndarray from ragged nested sequences (which is a list-or-tuple of lists-or-tuples-or ndarrays with different lengths or shapes) is deprecated. If you meant to do this, you must specify 'dtype=object' when creating the ndarray\n",
      "  pidx = np.argsort(np.abs(veh_speed[:,0]-ts))[0]\n",
      "/home/kfir/workspace/RadarLocalization/dataset.py:253: VisibleDeprecationWarning: Creating an ndarray from ragged nested sequences (which is a list-or-tuple of lists-or-tuples-or ndarrays with different lengths or shapes) is deprecated. If you meant to do this, you must specify 'dtype=object' when creating the ndarray\n",
      "  pidx = np.argsort(np.abs(veh_speed[:,0]-ts))[0]\n",
      "/home/kfir/workspace/RadarLocalization/dataset.py:253: VisibleDeprecationWarning: Creating an ndarray from ragged nested sequences (which is a list-or-tuple of lists-or-tuples-or ndarrays with different lengths or shapes) is deprecated. If you meant to do this, you must specify 'dtype=object' when creating the ndarray\n",
      "  pidx = np.argsort(np.abs(veh_speed[:,0]-ts))[0]\n",
      "/home/kfir/workspace/RadarLocalization/dataset.py:253: VisibleDeprecationWarning: Creating an ndarray from ragged nested sequences (which is a list-or-tuple of lists-or-tuples-or ndarrays with different lengths or shapes) is deprecated. If you meant to do this, you must specify 'dtype=object' when creating the ndarray\n",
      "  pidx = np.argsort(np.abs(veh_speed[:,0]-ts))[0]\n",
      "/home/kfir/.local/lib/python3.6/site-packages/numpy/core/fromnumeric.py:3373: RuntimeWarning: Mean of empty slice.\n",
      "  out=out, **kwargs)\n",
      "/home/kfir/workspace/RadarLocalization/dataset.py:253: VisibleDeprecationWarning: Creating an ndarray from ragged nested sequences (which is a list-or-tuple of lists-or-tuples-or ndarrays with different lengths or shapes) is deprecated. If you meant to do this, you must specify 'dtype=object' when creating the ndarray\n",
      "  pidx = np.argsort(np.abs(veh_speed[:,0]-ts))[0]\n",
      "/home/kfir/workspace/RadarLocalization/dataset.py:253: VisibleDeprecationWarning: Creating an ndarray from ragged nested sequences (which is a list-or-tuple of lists-or-tuples-or ndarrays with different lengths or shapes) is deprecated. If you meant to do this, you must specify 'dtype=object' when creating the ndarray\n",
      "  pidx = np.argsort(np.abs(veh_speed[:,0]-ts))[0]\n",
      "/home/kfir/.local/lib/python3.6/site-packages/numpy/core/fromnumeric.py:3373: RuntimeWarning: Mean of empty slice.\n",
      "  out=out, **kwargs)\n",
      "/home/kfir/workspace/RadarLocalization/dataset.py:253: VisibleDeprecationWarning: Creating an ndarray from ragged nested sequences (which is a list-or-tuple of lists-or-tuples-or ndarrays with different lengths or shapes) is deprecated. If you meant to do this, you must specify 'dtype=object' when creating the ndarray\n",
      "  pidx = np.argsort(np.abs(veh_speed[:,0]-ts))[0]\n",
      "/home/kfir/.local/lib/python3.6/site-packages/numpy/core/fromnumeric.py:3373: RuntimeWarning: Mean of empty slice.\n",
      "  out=out, **kwargs)\n",
      "/home/kfir/workspace/RadarLocalization/dataset.py:253: VisibleDeprecationWarning: Creating an ndarray from ragged nested sequences (which is a list-or-tuple of lists-or-tuples-or ndarrays with different lengths or shapes) is deprecated. If you meant to do this, you must specify 'dtype=object' when creating the ndarray\n",
      "  pidx = np.argsort(np.abs(veh_speed[:,0]-ts))[0]\n",
      "/home/kfir/.local/lib/python3.6/site-packages/numpy/core/fromnumeric.py:3373: RuntimeWarning: Mean of empty slice.\n",
      "  out=out, **kwargs)\n",
      "/home/kfir/workspace/RadarLocalization/dataset.py:253: VisibleDeprecationWarning: Creating an ndarray from ragged nested sequences (which is a list-or-tuple of lists-or-tuples-or ndarrays with different lengths or shapes) is deprecated. If you meant to do this, you must specify 'dtype=object' when creating the ndarray\n",
      "  pidx = np.argsort(np.abs(veh_speed[:,0]-ts))[0]\n",
      "/home/kfir/.local/lib/python3.6/site-packages/numpy/core/fromnumeric.py:3373: RuntimeWarning: Mean of empty slice.\n",
      "  out=out, **kwargs)\n",
      "/home/kfir/workspace/RadarLocalization/dataset.py:253: VisibleDeprecationWarning: Creating an ndarray from ragged nested sequences (which is a list-or-tuple of lists-or-tuples-or ndarrays with different lengths or shapes) is deprecated. If you meant to do this, you must specify 'dtype=object' when creating the ndarray\n",
      "  pidx = np.argsort(np.abs(veh_speed[:,0]-ts))[0]\n",
      "/home/kfir/workspace/RadarLocalization/dataset.py:253: VisibleDeprecationWarning: Creating an ndarray from ragged nested sequences (which is a list-or-tuple of lists-or-tuples-or ndarrays with different lengths or shapes) is deprecated. If you meant to do this, you must specify 'dtype=object' when creating the ndarray\n",
      "  pidx = np.argsort(np.abs(veh_speed[:,0]-ts))[0]\n",
      "/home/kfir/.local/lib/python3.6/site-packages/numpy/core/fromnumeric.py:3373: RuntimeWarning: Mean of empty slice.\n",
      "  out=out, **kwargs)\n",
      "/home/kfir/workspace/RadarLocalization/dataset.py:253: VisibleDeprecationWarning: Creating an ndarray from ragged nested sequences (which is a list-or-tuple of lists-or-tuples-or ndarrays with different lengths or shapes) is deprecated. If you meant to do this, you must specify 'dtype=object' when creating the ndarray\n",
      "  pidx = np.argsort(np.abs(veh_speed[:,0]-ts))[0]\n",
      "/home/kfir/.local/lib/python3.6/site-packages/numpy/core/fromnumeric.py:3373: RuntimeWarning: Mean of empty slice.\n",
      "  out=out, **kwargs)\n",
      "/home/kfir/workspace/RadarLocalization/dataset.py:253: VisibleDeprecationWarning: Creating an ndarray from ragged nested sequences (which is a list-or-tuple of lists-or-tuples-or ndarrays with different lengths or shapes) is deprecated. If you meant to do this, you must specify 'dtype=object' when creating the ndarray\n",
      "  pidx = np.argsort(np.abs(veh_speed[:,0]-ts))[0]\n",
      "/home/kfir/.local/lib/python3.6/site-packages/numpy/core/fromnumeric.py:3373: RuntimeWarning: Mean of empty slice.\n",
      "  out=out, **kwargs)\n",
      "/home/kfir/workspace/RadarLocalization/dataset.py:253: VisibleDeprecationWarning: Creating an ndarray from ragged nested sequences (which is a list-or-tuple of lists-or-tuples-or ndarrays with different lengths or shapes) is deprecated. If you meant to do this, you must specify 'dtype=object' when creating the ndarray\n",
      "  pidx = np.argsort(np.abs(veh_speed[:,0]-ts))[0]\n",
      "/home/kfir/workspace/RadarLocalization/dataset.py:253: VisibleDeprecationWarning: Creating an ndarray from ragged nested sequences (which is a list-or-tuple of lists-or-tuples-or ndarrays with different lengths or shapes) is deprecated. If you meant to do this, you must specify 'dtype=object' when creating the ndarray\n",
      "  pidx = np.argsort(np.abs(veh_speed[:,0]-ts))[0]\n",
      "/home/kfir/.local/lib/python3.6/site-packages/numpy/core/fromnumeric.py:3373: RuntimeWarning: Mean of empty slice.\n",
      "  out=out, **kwargs)\n",
      "/home/kfir/workspace/RadarLocalization/dataset.py:253: VisibleDeprecationWarning: Creating an ndarray from ragged nested sequences (which is a list-or-tuple of lists-or-tuples-or ndarrays with different lengths or shapes) is deprecated. If you meant to do this, you must specify 'dtype=object' when creating the ndarray\n",
      "  pidx = np.argsort(np.abs(veh_speed[:,0]-ts))[0]\n",
      "/home/kfir/workspace/RadarLocalization/dataset.py:253: VisibleDeprecationWarning: Creating an ndarray from ragged nested sequences (which is a list-or-tuple of lists-or-tuples-or ndarrays with different lengths or shapes) is deprecated. If you meant to do this, you must specify 'dtype=object' when creating the ndarray\n",
      "  pidx = np.argsort(np.abs(veh_speed[:,0]-ts))[0]\n"
     ]
    },
    {
     "name": "stderr",
     "output_type": "stream",
     "text": [
      "/home/kfir/workspace/RadarLocalization/dataset.py:253: VisibleDeprecationWarning: Creating an ndarray from ragged nested sequences (which is a list-or-tuple of lists-or-tuples-or ndarrays with different lengths or shapes) is deprecated. If you meant to do this, you must specify 'dtype=object' when creating the ndarray\n",
      "  pidx = np.argsort(np.abs(veh_speed[:,0]-ts))[0]\n",
      "/home/kfir/.local/lib/python3.6/site-packages/numpy/core/fromnumeric.py:3373: RuntimeWarning: Mean of empty slice.\n",
      "  out=out, **kwargs)\n",
      "/home/kfir/workspace/RadarLocalization/dataset.py:253: VisibleDeprecationWarning: Creating an ndarray from ragged nested sequences (which is a list-or-tuple of lists-or-tuples-or ndarrays with different lengths or shapes) is deprecated. If you meant to do this, you must specify 'dtype=object' when creating the ndarray\n",
      "  pidx = np.argsort(np.abs(veh_speed[:,0]-ts))[0]\n",
      "/home/kfir/workspace/RadarLocalization/dataset.py:253: VisibleDeprecationWarning: Creating an ndarray from ragged nested sequences (which is a list-or-tuple of lists-or-tuples-or ndarrays with different lengths or shapes) is deprecated. If you meant to do this, you must specify 'dtype=object' when creating the ndarray\n",
      "  pidx = np.argsort(np.abs(veh_speed[:,0]-ts))[0]\n",
      "/home/kfir/workspace/RadarLocalization/dataset.py:253: VisibleDeprecationWarning: Creating an ndarray from ragged nested sequences (which is a list-or-tuple of lists-or-tuples-or ndarrays with different lengths or shapes) is deprecated. If you meant to do this, you must specify 'dtype=object' when creating the ndarray\n",
      "  pidx = np.argsort(np.abs(veh_speed[:,0]-ts))[0]\n",
      "/home/kfir/workspace/RadarLocalization/dataset.py:253: VisibleDeprecationWarning: Creating an ndarray from ragged nested sequences (which is a list-or-tuple of lists-or-tuples-or ndarrays with different lengths or shapes) is deprecated. If you meant to do this, you must specify 'dtype=object' when creating the ndarray\n",
      "  pidx = np.argsort(np.abs(veh_speed[:,0]-ts))[0]\n",
      "/home/kfir/workspace/RadarLocalization/dataset.py:253: VisibleDeprecationWarning: Creating an ndarray from ragged nested sequences (which is a list-or-tuple of lists-or-tuples-or ndarrays with different lengths or shapes) is deprecated. If you meant to do this, you must specify 'dtype=object' when creating the ndarray\n",
      "  pidx = np.argsort(np.abs(veh_speed[:,0]-ts))[0]\n",
      "/home/kfir/workspace/RadarLocalization/dataset.py:253: VisibleDeprecationWarning: Creating an ndarray from ragged nested sequences (which is a list-or-tuple of lists-or-tuples-or ndarrays with different lengths or shapes) is deprecated. If you meant to do this, you must specify 'dtype=object' when creating the ndarray\n",
      "  pidx = np.argsort(np.abs(veh_speed[:,0]-ts))[0]\n",
      "/home/kfir/workspace/RadarLocalization/dataset.py:253: VisibleDeprecationWarning: Creating an ndarray from ragged nested sequences (which is a list-or-tuple of lists-or-tuples-or ndarrays with different lengths or shapes) is deprecated. If you meant to do this, you must specify 'dtype=object' when creating the ndarray\n",
      "  pidx = np.argsort(np.abs(veh_speed[:,0]-ts))[0]\n",
      "/home/kfir/workspace/RadarLocalization/dataset.py:253: VisibleDeprecationWarning: Creating an ndarray from ragged nested sequences (which is a list-or-tuple of lists-or-tuples-or ndarrays with different lengths or shapes) is deprecated. If you meant to do this, you must specify 'dtype=object' when creating the ndarray\n",
      "  pidx = np.argsort(np.abs(veh_speed[:,0]-ts))[0]\n",
      "/home/kfir/workspace/RadarLocalization/dataset.py:253: VisibleDeprecationWarning: Creating an ndarray from ragged nested sequences (which is a list-or-tuple of lists-or-tuples-or ndarrays with different lengths or shapes) is deprecated. If you meant to do this, you must specify 'dtype=object' when creating the ndarray\n",
      "  pidx = np.argsort(np.abs(veh_speed[:,0]-ts))[0]\n",
      "/home/kfir/workspace/RadarLocalization/dataset.py:253: VisibleDeprecationWarning: Creating an ndarray from ragged nested sequences (which is a list-or-tuple of lists-or-tuples-or ndarrays with different lengths or shapes) is deprecated. If you meant to do this, you must specify 'dtype=object' when creating the ndarray\n",
      "  pidx = np.argsort(np.abs(veh_speed[:,0]-ts))[0]\n",
      "/home/kfir/workspace/RadarLocalization/dataset.py:253: VisibleDeprecationWarning: Creating an ndarray from ragged nested sequences (which is a list-or-tuple of lists-or-tuples-or ndarrays with different lengths or shapes) is deprecated. If you meant to do this, you must specify 'dtype=object' when creating the ndarray\n",
      "  pidx = np.argsort(np.abs(veh_speed[:,0]-ts))[0]\n",
      "/home/kfir/workspace/RadarLocalization/dataset.py:253: VisibleDeprecationWarning: Creating an ndarray from ragged nested sequences (which is a list-or-tuple of lists-or-tuples-or ndarrays with different lengths or shapes) is deprecated. If you meant to do this, you must specify 'dtype=object' when creating the ndarray\n",
      "  pidx = np.argsort(np.abs(veh_speed[:,0]-ts))[0]\n",
      "/home/kfir/workspace/RadarLocalization/dataset.py:253: VisibleDeprecationWarning: Creating an ndarray from ragged nested sequences (which is a list-or-tuple of lists-or-tuples-or ndarrays with different lengths or shapes) is deprecated. If you meant to do this, you must specify 'dtype=object' when creating the ndarray\n",
      "  pidx = np.argsort(np.abs(veh_speed[:,0]-ts))[0]\n",
      "/home/kfir/workspace/RadarLocalization/dataset.py:253: VisibleDeprecationWarning: Creating an ndarray from ragged nested sequences (which is a list-or-tuple of lists-or-tuples-or ndarrays with different lengths or shapes) is deprecated. If you meant to do this, you must specify 'dtype=object' when creating the ndarray\n",
      "  pidx = np.argsort(np.abs(veh_speed[:,0]-ts))[0]\n",
      "/home/kfir/workspace/RadarLocalization/dataset.py:253: VisibleDeprecationWarning: Creating an ndarray from ragged nested sequences (which is a list-or-tuple of lists-or-tuples-or ndarrays with different lengths or shapes) is deprecated. If you meant to do this, you must specify 'dtype=object' when creating the ndarray\n",
      "  pidx = np.argsort(np.abs(veh_speed[:,0]-ts))[0]\n",
      "/home/kfir/workspace/RadarLocalization/dataset.py:253: VisibleDeprecationWarning: Creating an ndarray from ragged nested sequences (which is a list-or-tuple of lists-or-tuples-or ndarrays with different lengths or shapes) is deprecated. If you meant to do this, you must specify 'dtype=object' when creating the ndarray\n",
      "  pidx = np.argsort(np.abs(veh_speed[:,0]-ts))[0]\n",
      "/home/kfir/workspace/RadarLocalization/dataset.py:253: VisibleDeprecationWarning: Creating an ndarray from ragged nested sequences (which is a list-or-tuple of lists-or-tuples-or ndarrays with different lengths or shapes) is deprecated. If you meant to do this, you must specify 'dtype=object' when creating the ndarray\n",
      "  pidx = np.argsort(np.abs(veh_speed[:,0]-ts))[0]\n",
      "/home/kfir/workspace/RadarLocalization/dataset.py:253: VisibleDeprecationWarning: Creating an ndarray from ragged nested sequences (which is a list-or-tuple of lists-or-tuples-or ndarrays with different lengths or shapes) is deprecated. If you meant to do this, you must specify 'dtype=object' when creating the ndarray\n",
      "  pidx = np.argsort(np.abs(veh_speed[:,0]-ts))[0]\n",
      "/home/kfir/workspace/RadarLocalization/dataset.py:253: VisibleDeprecationWarning: Creating an ndarray from ragged nested sequences (which is a list-or-tuple of lists-or-tuples-or ndarrays with different lengths or shapes) is deprecated. If you meant to do this, you must specify 'dtype=object' when creating the ndarray\n",
      "  pidx = np.argsort(np.abs(veh_speed[:,0]-ts))[0]\n",
      "/home/kfir/workspace/RadarLocalization/dataset.py:253: VisibleDeprecationWarning: Creating an ndarray from ragged nested sequences (which is a list-or-tuple of lists-or-tuples-or ndarrays with different lengths or shapes) is deprecated. If you meant to do this, you must specify 'dtype=object' when creating the ndarray\n",
      "  pidx = np.argsort(np.abs(veh_speed[:,0]-ts))[0]\n",
      "/home/kfir/workspace/RadarLocalization/dataset.py:253: VisibleDeprecationWarning: Creating an ndarray from ragged nested sequences (which is a list-or-tuple of lists-or-tuples-or ndarrays with different lengths or shapes) is deprecated. If you meant to do this, you must specify 'dtype=object' when creating the ndarray\n",
      "  pidx = np.argsort(np.abs(veh_speed[:,0]-ts))[0]\n"
     ]
    },
    {
     "name": "stderr",
     "output_type": "stream",
     "text": [
      "/home/kfir/workspace/RadarLocalization/dataset.py:253: VisibleDeprecationWarning: Creating an ndarray from ragged nested sequences (which is a list-or-tuple of lists-or-tuples-or ndarrays with different lengths or shapes) is deprecated. If you meant to do this, you must specify 'dtype=object' when creating the ndarray\n",
      "  pidx = np.argsort(np.abs(veh_speed[:,0]-ts))[0]\n",
      "/home/kfir/workspace/RadarLocalization/dataset.py:253: VisibleDeprecationWarning: Creating an ndarray from ragged nested sequences (which is a list-or-tuple of lists-or-tuples-or ndarrays with different lengths or shapes) is deprecated. If you meant to do this, you must specify 'dtype=object' when creating the ndarray\n",
      "  pidx = np.argsort(np.abs(veh_speed[:,0]-ts))[0]\n",
      "/home/kfir/workspace/RadarLocalization/dataset.py:253: VisibleDeprecationWarning: Creating an ndarray from ragged nested sequences (which is a list-or-tuple of lists-or-tuples-or ndarrays with different lengths or shapes) is deprecated. If you meant to do this, you must specify 'dtype=object' when creating the ndarray\n",
      "  pidx = np.argsort(np.abs(veh_speed[:,0]-ts))[0]\n",
      "/home/kfir/workspace/RadarLocalization/dataset.py:253: VisibleDeprecationWarning: Creating an ndarray from ragged nested sequences (which is a list-or-tuple of lists-or-tuples-or ndarrays with different lengths or shapes) is deprecated. If you meant to do this, you must specify 'dtype=object' when creating the ndarray\n",
      "  pidx = np.argsort(np.abs(veh_speed[:,0]-ts))[0]\n",
      "/home/kfir/workspace/RadarLocalization/dataset.py:253: VisibleDeprecationWarning: Creating an ndarray from ragged nested sequences (which is a list-or-tuple of lists-or-tuples-or ndarrays with different lengths or shapes) is deprecated. If you meant to do this, you must specify 'dtype=object' when creating the ndarray\n",
      "  pidx = np.argsort(np.abs(veh_speed[:,0]-ts))[0]\n",
      "/home/kfir/workspace/RadarLocalization/dataset.py:253: VisibleDeprecationWarning: Creating an ndarray from ragged nested sequences (which is a list-or-tuple of lists-or-tuples-or ndarrays with different lengths or shapes) is deprecated. If you meant to do this, you must specify 'dtype=object' when creating the ndarray\n",
      "  pidx = np.argsort(np.abs(veh_speed[:,0]-ts))[0]\n",
      "/home/kfir/workspace/RadarLocalization/dataset.py:253: VisibleDeprecationWarning: Creating an ndarray from ragged nested sequences (which is a list-or-tuple of lists-or-tuples-or ndarrays with different lengths or shapes) is deprecated. If you meant to do this, you must specify 'dtype=object' when creating the ndarray\n",
      "  pidx = np.argsort(np.abs(veh_speed[:,0]-ts))[0]\n",
      "/home/kfir/workspace/RadarLocalization/dataset.py:253: VisibleDeprecationWarning: Creating an ndarray from ragged nested sequences (which is a list-or-tuple of lists-or-tuples-or ndarrays with different lengths or shapes) is deprecated. If you meant to do this, you must specify 'dtype=object' when creating the ndarray\n",
      "  pidx = np.argsort(np.abs(veh_speed[:,0]-ts))[0]\n",
      "/home/kfir/workspace/RadarLocalization/dataset.py:253: VisibleDeprecationWarning: Creating an ndarray from ragged nested sequences (which is a list-or-tuple of lists-or-tuples-or ndarrays with different lengths or shapes) is deprecated. If you meant to do this, you must specify 'dtype=object' when creating the ndarray\n",
      "  pidx = np.argsort(np.abs(veh_speed[:,0]-ts))[0]\n",
      "/home/kfir/workspace/RadarLocalization/dataset.py:253: VisibleDeprecationWarning: Creating an ndarray from ragged nested sequences (which is a list-or-tuple of lists-or-tuples-or ndarrays with different lengths or shapes) is deprecated. If you meant to do this, you must specify 'dtype=object' when creating the ndarray\n",
      "  pidx = np.argsort(np.abs(veh_speed[:,0]-ts))[0]\n",
      "/home/kfir/workspace/RadarLocalization/dataset.py:253: VisibleDeprecationWarning: Creating an ndarray from ragged nested sequences (which is a list-or-tuple of lists-or-tuples-or ndarrays with different lengths or shapes) is deprecated. If you meant to do this, you must specify 'dtype=object' when creating the ndarray\n",
      "  pidx = np.argsort(np.abs(veh_speed[:,0]-ts))[0]\n",
      "/home/kfir/workspace/RadarLocalization/dataset.py:253: VisibleDeprecationWarning: Creating an ndarray from ragged nested sequences (which is a list-or-tuple of lists-or-tuples-or ndarrays with different lengths or shapes) is deprecated. If you meant to do this, you must specify 'dtype=object' when creating the ndarray\n",
      "  pidx = np.argsort(np.abs(veh_speed[:,0]-ts))[0]\n",
      "/home/kfir/workspace/RadarLocalization/dataset.py:253: VisibleDeprecationWarning: Creating an ndarray from ragged nested sequences (which is a list-or-tuple of lists-or-tuples-or ndarrays with different lengths or shapes) is deprecated. If you meant to do this, you must specify 'dtype=object' when creating the ndarray\n",
      "  pidx = np.argsort(np.abs(veh_speed[:,0]-ts))[0]\n",
      "/home/kfir/workspace/RadarLocalization/dataset.py:253: VisibleDeprecationWarning: Creating an ndarray from ragged nested sequences (which is a list-or-tuple of lists-or-tuples-or ndarrays with different lengths or shapes) is deprecated. If you meant to do this, you must specify 'dtype=object' when creating the ndarray\n",
      "  pidx = np.argsort(np.abs(veh_speed[:,0]-ts))[0]\n",
      "/home/kfir/workspace/RadarLocalization/dataset.py:253: VisibleDeprecationWarning: Creating an ndarray from ragged nested sequences (which is a list-or-tuple of lists-or-tuples-or ndarrays with different lengths or shapes) is deprecated. If you meant to do this, you must specify 'dtype=object' when creating the ndarray\n",
      "  pidx = np.argsort(np.abs(veh_speed[:,0]-ts))[0]\n",
      "/home/kfir/workspace/RadarLocalization/dataset.py:253: VisibleDeprecationWarning: Creating an ndarray from ragged nested sequences (which is a list-or-tuple of lists-or-tuples-or ndarrays with different lengths or shapes) is deprecated. If you meant to do this, you must specify 'dtype=object' when creating the ndarray\n",
      "  pidx = np.argsort(np.abs(veh_speed[:,0]-ts))[0]\n",
      "/home/kfir/workspace/RadarLocalization/dataset.py:253: VisibleDeprecationWarning: Creating an ndarray from ragged nested sequences (which is a list-or-tuple of lists-or-tuples-or ndarrays with different lengths or shapes) is deprecated. If you meant to do this, you must specify 'dtype=object' when creating the ndarray\n",
      "  pidx = np.argsort(np.abs(veh_speed[:,0]-ts))[0]\n",
      "/home/kfir/workspace/RadarLocalization/dataset.py:253: VisibleDeprecationWarning: Creating an ndarray from ragged nested sequences (which is a list-or-tuple of lists-or-tuples-or ndarrays with different lengths or shapes) is deprecated. If you meant to do this, you must specify 'dtype=object' when creating the ndarray\n",
      "  pidx = np.argsort(np.abs(veh_speed[:,0]-ts))[0]\n",
      "/home/kfir/workspace/RadarLocalization/dataset.py:253: VisibleDeprecationWarning: Creating an ndarray from ragged nested sequences (which is a list-or-tuple of lists-or-tuples-or ndarrays with different lengths or shapes) is deprecated. If you meant to do this, you must specify 'dtype=object' when creating the ndarray\n",
      "  pidx = np.argsort(np.abs(veh_speed[:,0]-ts))[0]\n",
      "/home/kfir/workspace/RadarLocalization/dataset.py:253: VisibleDeprecationWarning: Creating an ndarray from ragged nested sequences (which is a list-or-tuple of lists-or-tuples-or ndarrays with different lengths or shapes) is deprecated. If you meant to do this, you must specify 'dtype=object' when creating the ndarray\n",
      "  pidx = np.argsort(np.abs(veh_speed[:,0]-ts))[0]\n",
      "/home/kfir/workspace/RadarLocalization/dataset.py:253: VisibleDeprecationWarning: Creating an ndarray from ragged nested sequences (which is a list-or-tuple of lists-or-tuples-or ndarrays with different lengths or shapes) is deprecated. If you meant to do this, you must specify 'dtype=object' when creating the ndarray\n",
      "  pidx = np.argsort(np.abs(veh_speed[:,0]-ts))[0]\n",
      "/home/kfir/workspace/RadarLocalization/dataset.py:253: VisibleDeprecationWarning: Creating an ndarray from ragged nested sequences (which is a list-or-tuple of lists-or-tuples-or ndarrays with different lengths or shapes) is deprecated. If you meant to do this, you must specify 'dtype=object' when creating the ndarray\n",
      "  pidx = np.argsort(np.abs(veh_speed[:,0]-ts))[0]\n",
      "/home/kfir/workspace/RadarLocalization/dataset.py:253: VisibleDeprecationWarning: Creating an ndarray from ragged nested sequences (which is a list-or-tuple of lists-or-tuples-or ndarrays with different lengths or shapes) is deprecated. If you meant to do this, you must specify 'dtype=object' when creating the ndarray\n",
      "  pidx = np.argsort(np.abs(veh_speed[:,0]-ts))[0]\n"
     ]
    },
    {
     "name": "stderr",
     "output_type": "stream",
     "text": [
      "/home/kfir/workspace/RadarLocalization/dataset.py:253: VisibleDeprecationWarning: Creating an ndarray from ragged nested sequences (which is a list-or-tuple of lists-or-tuples-or ndarrays with different lengths or shapes) is deprecated. If you meant to do this, you must specify 'dtype=object' when creating the ndarray\n",
      "  pidx = np.argsort(np.abs(veh_speed[:,0]-ts))[0]\n",
      "/home/kfir/workspace/RadarLocalization/dataset.py:253: VisibleDeprecationWarning: Creating an ndarray from ragged nested sequences (which is a list-or-tuple of lists-or-tuples-or ndarrays with different lengths or shapes) is deprecated. If you meant to do this, you must specify 'dtype=object' when creating the ndarray\n",
      "  pidx = np.argsort(np.abs(veh_speed[:,0]-ts))[0]\n",
      "/home/kfir/workspace/RadarLocalization/dataset.py:253: VisibleDeprecationWarning: Creating an ndarray from ragged nested sequences (which is a list-or-tuple of lists-or-tuples-or ndarrays with different lengths or shapes) is deprecated. If you meant to do this, you must specify 'dtype=object' when creating the ndarray\n",
      "  pidx = np.argsort(np.abs(veh_speed[:,0]-ts))[0]\n",
      "/home/kfir/workspace/RadarLocalization/dataset.py:253: VisibleDeprecationWarning: Creating an ndarray from ragged nested sequences (which is a list-or-tuple of lists-or-tuples-or ndarrays with different lengths or shapes) is deprecated. If you meant to do this, you must specify 'dtype=object' when creating the ndarray\n",
      "  pidx = np.argsort(np.abs(veh_speed[:,0]-ts))[0]\n",
      "/home/kfir/workspace/RadarLocalization/dataset.py:253: VisibleDeprecationWarning: Creating an ndarray from ragged nested sequences (which is a list-or-tuple of lists-or-tuples-or ndarrays with different lengths or shapes) is deprecated. If you meant to do this, you must specify 'dtype=object' when creating the ndarray\n",
      "  pidx = np.argsort(np.abs(veh_speed[:,0]-ts))[0]\n",
      "/home/kfir/workspace/RadarLocalization/dataset.py:253: VisibleDeprecationWarning: Creating an ndarray from ragged nested sequences (which is a list-or-tuple of lists-or-tuples-or ndarrays with different lengths or shapes) is deprecated. If you meant to do this, you must specify 'dtype=object' when creating the ndarray\n",
      "  pidx = np.argsort(np.abs(veh_speed[:,0]-ts))[0]\n",
      "/home/kfir/workspace/RadarLocalization/dataset.py:253: VisibleDeprecationWarning: Creating an ndarray from ragged nested sequences (which is a list-or-tuple of lists-or-tuples-or ndarrays with different lengths or shapes) is deprecated. If you meant to do this, you must specify 'dtype=object' when creating the ndarray\n",
      "  pidx = np.argsort(np.abs(veh_speed[:,0]-ts))[0]\n",
      "/home/kfir/workspace/RadarLocalization/dataset.py:253: VisibleDeprecationWarning: Creating an ndarray from ragged nested sequences (which is a list-or-tuple of lists-or-tuples-or ndarrays with different lengths or shapes) is deprecated. If you meant to do this, you must specify 'dtype=object' when creating the ndarray\n",
      "  pidx = np.argsort(np.abs(veh_speed[:,0]-ts))[0]\n",
      "/home/kfir/workspace/RadarLocalization/dataset.py:253: VisibleDeprecationWarning: Creating an ndarray from ragged nested sequences (which is a list-or-tuple of lists-or-tuples-or ndarrays with different lengths or shapes) is deprecated. If you meant to do this, you must specify 'dtype=object' when creating the ndarray\n",
      "  pidx = np.argsort(np.abs(veh_speed[:,0]-ts))[0]\n",
      "/home/kfir/workspace/RadarLocalization/dataset.py:253: VisibleDeprecationWarning: Creating an ndarray from ragged nested sequences (which is a list-or-tuple of lists-or-tuples-or ndarrays with different lengths or shapes) is deprecated. If you meant to do this, you must specify 'dtype=object' when creating the ndarray\n",
      "  pidx = np.argsort(np.abs(veh_speed[:,0]-ts))[0]\n",
      "/home/kfir/workspace/RadarLocalization/dataset.py:253: VisibleDeprecationWarning: Creating an ndarray from ragged nested sequences (which is a list-or-tuple of lists-or-tuples-or ndarrays with different lengths or shapes) is deprecated. If you meant to do this, you must specify 'dtype=object' when creating the ndarray\n",
      "  pidx = np.argsort(np.abs(veh_speed[:,0]-ts))[0]\n",
      "/home/kfir/workspace/RadarLocalization/dataset.py:253: VisibleDeprecationWarning: Creating an ndarray from ragged nested sequences (which is a list-or-tuple of lists-or-tuples-or ndarrays with different lengths or shapes) is deprecated. If you meant to do this, you must specify 'dtype=object' when creating the ndarray\n",
      "  pidx = np.argsort(np.abs(veh_speed[:,0]-ts))[0]\n",
      "/home/kfir/workspace/RadarLocalization/dataset.py:253: VisibleDeprecationWarning: Creating an ndarray from ragged nested sequences (which is a list-or-tuple of lists-or-tuples-or ndarrays with different lengths or shapes) is deprecated. If you meant to do this, you must specify 'dtype=object' when creating the ndarray\n",
      "  pidx = np.argsort(np.abs(veh_speed[:,0]-ts))[0]\n",
      "/home/kfir/workspace/RadarLocalization/dataset.py:253: VisibleDeprecationWarning: Creating an ndarray from ragged nested sequences (which is a list-or-tuple of lists-or-tuples-or ndarrays with different lengths or shapes) is deprecated. If you meant to do this, you must specify 'dtype=object' when creating the ndarray\n",
      "  pidx = np.argsort(np.abs(veh_speed[:,0]-ts))[0]\n",
      "/home/kfir/workspace/RadarLocalization/dataset.py:253: VisibleDeprecationWarning: Creating an ndarray from ragged nested sequences (which is a list-or-tuple of lists-or-tuples-or ndarrays with different lengths or shapes) is deprecated. If you meant to do this, you must specify 'dtype=object' when creating the ndarray\n",
      "  pidx = np.argsort(np.abs(veh_speed[:,0]-ts))[0]\n",
      "/home/kfir/.local/lib/python3.6/site-packages/numpy/core/fromnumeric.py:3373: RuntimeWarning: Mean of empty slice.\n",
      "  out=out, **kwargs)\n",
      "/home/kfir/workspace/RadarLocalization/dataset.py:253: VisibleDeprecationWarning: Creating an ndarray from ragged nested sequences (which is a list-or-tuple of lists-or-tuples-or ndarrays with different lengths or shapes) is deprecated. If you meant to do this, you must specify 'dtype=object' when creating the ndarray\n",
      "  pidx = np.argsort(np.abs(veh_speed[:,0]-ts))[0]\n",
      "/home/kfir/workspace/RadarLocalization/dataset.py:253: VisibleDeprecationWarning: Creating an ndarray from ragged nested sequences (which is a list-or-tuple of lists-or-tuples-or ndarrays with different lengths or shapes) is deprecated. If you meant to do this, you must specify 'dtype=object' when creating the ndarray\n",
      "  pidx = np.argsort(np.abs(veh_speed[:,0]-ts))[0]\n",
      "/home/kfir/workspace/RadarLocalization/dataset.py:253: VisibleDeprecationWarning: Creating an ndarray from ragged nested sequences (which is a list-or-tuple of lists-or-tuples-or ndarrays with different lengths or shapes) is deprecated. If you meant to do this, you must specify 'dtype=object' when creating the ndarray\n",
      "  pidx = np.argsort(np.abs(veh_speed[:,0]-ts))[0]\n",
      "/home/kfir/workspace/RadarLocalization/dataset.py:253: VisibleDeprecationWarning: Creating an ndarray from ragged nested sequences (which is a list-or-tuple of lists-or-tuples-or ndarrays with different lengths or shapes) is deprecated. If you meant to do this, you must specify 'dtype=object' when creating the ndarray\n",
      "  pidx = np.argsort(np.abs(veh_speed[:,0]-ts))[0]\n",
      "/home/kfir/workspace/RadarLocalization/dataset.py:253: VisibleDeprecationWarning: Creating an ndarray from ragged nested sequences (which is a list-or-tuple of lists-or-tuples-or ndarrays with different lengths or shapes) is deprecated. If you meant to do this, you must specify 'dtype=object' when creating the ndarray\n",
      "  pidx = np.argsort(np.abs(veh_speed[:,0]-ts))[0]\n",
      "/home/kfir/workspace/RadarLocalization/dataset.py:253: VisibleDeprecationWarning: Creating an ndarray from ragged nested sequences (which is a list-or-tuple of lists-or-tuples-or ndarrays with different lengths or shapes) is deprecated. If you meant to do this, you must specify 'dtype=object' when creating the ndarray\n",
      "  pidx = np.argsort(np.abs(veh_speed[:,0]-ts))[0]\n",
      "/home/kfir/workspace/RadarLocalization/dataset.py:253: VisibleDeprecationWarning: Creating an ndarray from ragged nested sequences (which is a list-or-tuple of lists-or-tuples-or ndarrays with different lengths or shapes) is deprecated. If you meant to do this, you must specify 'dtype=object' when creating the ndarray\n",
      "  pidx = np.argsort(np.abs(veh_speed[:,0]-ts))[0]\n"
     ]
    },
    {
     "name": "stderr",
     "output_type": "stream",
     "text": [
      "/home/kfir/workspace/RadarLocalization/dataset.py:253: VisibleDeprecationWarning: Creating an ndarray from ragged nested sequences (which is a list-or-tuple of lists-or-tuples-or ndarrays with different lengths or shapes) is deprecated. If you meant to do this, you must specify 'dtype=object' when creating the ndarray\n",
      "  pidx = np.argsort(np.abs(veh_speed[:,0]-ts))[0]\n",
      "/home/kfir/workspace/RadarLocalization/dataset.py:253: VisibleDeprecationWarning: Creating an ndarray from ragged nested sequences (which is a list-or-tuple of lists-or-tuples-or ndarrays with different lengths or shapes) is deprecated. If you meant to do this, you must specify 'dtype=object' when creating the ndarray\n",
      "  pidx = np.argsort(np.abs(veh_speed[:,0]-ts))[0]\n",
      "/home/kfir/workspace/RadarLocalization/dataset.py:253: VisibleDeprecationWarning: Creating an ndarray from ragged nested sequences (which is a list-or-tuple of lists-or-tuples-or ndarrays with different lengths or shapes) is deprecated. If you meant to do this, you must specify 'dtype=object' when creating the ndarray\n",
      "  pidx = np.argsort(np.abs(veh_speed[:,0]-ts))[0]\n",
      "/home/kfir/workspace/RadarLocalization/dataset.py:253: VisibleDeprecationWarning: Creating an ndarray from ragged nested sequences (which is a list-or-tuple of lists-or-tuples-or ndarrays with different lengths or shapes) is deprecated. If you meant to do this, you must specify 'dtype=object' when creating the ndarray\n",
      "  pidx = np.argsort(np.abs(veh_speed[:,0]-ts))[0]\n",
      "/home/kfir/workspace/RadarLocalization/dataset.py:253: VisibleDeprecationWarning: Creating an ndarray from ragged nested sequences (which is a list-or-tuple of lists-or-tuples-or ndarrays with different lengths or shapes) is deprecated. If you meant to do this, you must specify 'dtype=object' when creating the ndarray\n",
      "  pidx = np.argsort(np.abs(veh_speed[:,0]-ts))[0]\n",
      "/home/kfir/workspace/RadarLocalization/dataset.py:253: VisibleDeprecationWarning: Creating an ndarray from ragged nested sequences (which is a list-or-tuple of lists-or-tuples-or ndarrays with different lengths or shapes) is deprecated. If you meant to do this, you must specify 'dtype=object' when creating the ndarray\n",
      "  pidx = np.argsort(np.abs(veh_speed[:,0]-ts))[0]\n",
      "/home/kfir/workspace/RadarLocalization/dataset.py:253: VisibleDeprecationWarning: Creating an ndarray from ragged nested sequences (which is a list-or-tuple of lists-or-tuples-or ndarrays with different lengths or shapes) is deprecated. If you meant to do this, you must specify 'dtype=object' when creating the ndarray\n",
      "  pidx = np.argsort(np.abs(veh_speed[:,0]-ts))[0]\n",
      "/home/kfir/workspace/RadarLocalization/dataset.py:253: VisibleDeprecationWarning: Creating an ndarray from ragged nested sequences (which is a list-or-tuple of lists-or-tuples-or ndarrays with different lengths or shapes) is deprecated. If you meant to do this, you must specify 'dtype=object' when creating the ndarray\n",
      "  pidx = np.argsort(np.abs(veh_speed[:,0]-ts))[0]\n",
      "/home/kfir/workspace/RadarLocalization/dataset.py:253: VisibleDeprecationWarning: Creating an ndarray from ragged nested sequences (which is a list-or-tuple of lists-or-tuples-or ndarrays with different lengths or shapes) is deprecated. If you meant to do this, you must specify 'dtype=object' when creating the ndarray\n",
      "  pidx = np.argsort(np.abs(veh_speed[:,0]-ts))[0]\n",
      "/home/kfir/workspace/RadarLocalization/dataset.py:253: VisibleDeprecationWarning: Creating an ndarray from ragged nested sequences (which is a list-or-tuple of lists-or-tuples-or ndarrays with different lengths or shapes) is deprecated. If you meant to do this, you must specify 'dtype=object' when creating the ndarray\n",
      "  pidx = np.argsort(np.abs(veh_speed[:,0]-ts))[0]\n",
      "/home/kfir/workspace/RadarLocalization/dataset.py:253: VisibleDeprecationWarning: Creating an ndarray from ragged nested sequences (which is a list-or-tuple of lists-or-tuples-or ndarrays with different lengths or shapes) is deprecated. If you meant to do this, you must specify 'dtype=object' when creating the ndarray\n",
      "  pidx = np.argsort(np.abs(veh_speed[:,0]-ts))[0]\n",
      "/home/kfir/workspace/RadarLocalization/dataset.py:253: VisibleDeprecationWarning: Creating an ndarray from ragged nested sequences (which is a list-or-tuple of lists-or-tuples-or ndarrays with different lengths or shapes) is deprecated. If you meant to do this, you must specify 'dtype=object' when creating the ndarray\n",
      "  pidx = np.argsort(np.abs(veh_speed[:,0]-ts))[0]\n",
      "/home/kfir/workspace/RadarLocalization/dataset.py:253: VisibleDeprecationWarning: Creating an ndarray from ragged nested sequences (which is a list-or-tuple of lists-or-tuples-or ndarrays with different lengths or shapes) is deprecated. If you meant to do this, you must specify 'dtype=object' when creating the ndarray\n",
      "  pidx = np.argsort(np.abs(veh_speed[:,0]-ts))[0]\n",
      "/home/kfir/.local/lib/python3.6/site-packages/numpy/core/fromnumeric.py:3373: RuntimeWarning: Mean of empty slice.\n",
      "  out=out, **kwargs)\n",
      "/home/kfir/workspace/RadarLocalization/dataset.py:253: VisibleDeprecationWarning: Creating an ndarray from ragged nested sequences (which is a list-or-tuple of lists-or-tuples-or ndarrays with different lengths or shapes) is deprecated. If you meant to do this, you must specify 'dtype=object' when creating the ndarray\n",
      "  pidx = np.argsort(np.abs(veh_speed[:,0]-ts))[0]\n",
      "/home/kfir/workspace/RadarLocalization/dataset.py:253: VisibleDeprecationWarning: Creating an ndarray from ragged nested sequences (which is a list-or-tuple of lists-or-tuples-or ndarrays with different lengths or shapes) is deprecated. If you meant to do this, you must specify 'dtype=object' when creating the ndarray\n",
      "  pidx = np.argsort(np.abs(veh_speed[:,0]-ts))[0]\n",
      "/home/kfir/workspace/RadarLocalization/dataset.py:253: VisibleDeprecationWarning: Creating an ndarray from ragged nested sequences (which is a list-or-tuple of lists-or-tuples-or ndarrays with different lengths or shapes) is deprecated. If you meant to do this, you must specify 'dtype=object' when creating the ndarray\n",
      "  pidx = np.argsort(np.abs(veh_speed[:,0]-ts))[0]\n",
      "/home/kfir/workspace/RadarLocalization/dataset.py:253: VisibleDeprecationWarning: Creating an ndarray from ragged nested sequences (which is a list-or-tuple of lists-or-tuples-or ndarrays with different lengths or shapes) is deprecated. If you meant to do this, you must specify 'dtype=object' when creating the ndarray\n",
      "  pidx = np.argsort(np.abs(veh_speed[:,0]-ts))[0]\n",
      "/home/kfir/workspace/RadarLocalization/dataset.py:253: VisibleDeprecationWarning: Creating an ndarray from ragged nested sequences (which is a list-or-tuple of lists-or-tuples-or ndarrays with different lengths or shapes) is deprecated. If you meant to do this, you must specify 'dtype=object' when creating the ndarray\n",
      "  pidx = np.argsort(np.abs(veh_speed[:,0]-ts))[0]\n",
      "/home/kfir/workspace/RadarLocalization/dataset.py:253: VisibleDeprecationWarning: Creating an ndarray from ragged nested sequences (which is a list-or-tuple of lists-or-tuples-or ndarrays with different lengths or shapes) is deprecated. If you meant to do this, you must specify 'dtype=object' when creating the ndarray\n",
      "  pidx = np.argsort(np.abs(veh_speed[:,0]-ts))[0]\n",
      "/home/kfir/workspace/RadarLocalization/dataset.py:253: VisibleDeprecationWarning: Creating an ndarray from ragged nested sequences (which is a list-or-tuple of lists-or-tuples-or ndarrays with different lengths or shapes) is deprecated. If you meant to do this, you must specify 'dtype=object' when creating the ndarray\n",
      "  pidx = np.argsort(np.abs(veh_speed[:,0]-ts))[0]\n",
      "/home/kfir/workspace/RadarLocalization/dataset.py:253: VisibleDeprecationWarning: Creating an ndarray from ragged nested sequences (which is a list-or-tuple of lists-or-tuples-or ndarrays with different lengths or shapes) is deprecated. If you meant to do this, you must specify 'dtype=object' when creating the ndarray\n",
      "  pidx = np.argsort(np.abs(veh_speed[:,0]-ts))[0]\n",
      "/home/kfir/workspace/RadarLocalization/dataset.py:253: VisibleDeprecationWarning: Creating an ndarray from ragged nested sequences (which is a list-or-tuple of lists-or-tuples-or ndarrays with different lengths or shapes) is deprecated. If you meant to do this, you must specify 'dtype=object' when creating the ndarray\n",
      "  pidx = np.argsort(np.abs(veh_speed[:,0]-ts))[0]\n"
     ]
    },
    {
     "name": "stderr",
     "output_type": "stream",
     "text": [
      "/home/kfir/workspace/RadarLocalization/dataset.py:253: VisibleDeprecationWarning: Creating an ndarray from ragged nested sequences (which is a list-or-tuple of lists-or-tuples-or ndarrays with different lengths or shapes) is deprecated. If you meant to do this, you must specify 'dtype=object' when creating the ndarray\n",
      "  pidx = np.argsort(np.abs(veh_speed[:,0]-ts))[0]\n",
      "/home/kfir/workspace/RadarLocalization/dataset.py:253: VisibleDeprecationWarning: Creating an ndarray from ragged nested sequences (which is a list-or-tuple of lists-or-tuples-or ndarrays with different lengths or shapes) is deprecated. If you meant to do this, you must specify 'dtype=object' when creating the ndarray\n",
      "  pidx = np.argsort(np.abs(veh_speed[:,0]-ts))[0]\n",
      "/home/kfir/workspace/RadarLocalization/dataset.py:253: VisibleDeprecationWarning: Creating an ndarray from ragged nested sequences (which is a list-or-tuple of lists-or-tuples-or ndarrays with different lengths or shapes) is deprecated. If you meant to do this, you must specify 'dtype=object' when creating the ndarray\n",
      "  pidx = np.argsort(np.abs(veh_speed[:,0]-ts))[0]\n",
      "/home/kfir/workspace/RadarLocalization/dataset.py:253: VisibleDeprecationWarning: Creating an ndarray from ragged nested sequences (which is a list-or-tuple of lists-or-tuples-or ndarrays with different lengths or shapes) is deprecated. If you meant to do this, you must specify 'dtype=object' when creating the ndarray\n",
      "  pidx = np.argsort(np.abs(veh_speed[:,0]-ts))[0]\n",
      "/home/kfir/workspace/RadarLocalization/dataset.py:253: VisibleDeprecationWarning: Creating an ndarray from ragged nested sequences (which is a list-or-tuple of lists-or-tuples-or ndarrays with different lengths or shapes) is deprecated. If you meant to do this, you must specify 'dtype=object' when creating the ndarray\n",
      "  pidx = np.argsort(np.abs(veh_speed[:,0]-ts))[0]\n",
      "/home/kfir/workspace/RadarLocalization/dataset.py:253: VisibleDeprecationWarning: Creating an ndarray from ragged nested sequences (which is a list-or-tuple of lists-or-tuples-or ndarrays with different lengths or shapes) is deprecated. If you meant to do this, you must specify 'dtype=object' when creating the ndarray\n",
      "  pidx = np.argsort(np.abs(veh_speed[:,0]-ts))[0]\n",
      "/home/kfir/workspace/RadarLocalization/dataset.py:253: VisibleDeprecationWarning: Creating an ndarray from ragged nested sequences (which is a list-or-tuple of lists-or-tuples-or ndarrays with different lengths or shapes) is deprecated. If you meant to do this, you must specify 'dtype=object' when creating the ndarray\n",
      "  pidx = np.argsort(np.abs(veh_speed[:,0]-ts))[0]\n",
      "/home/kfir/workspace/RadarLocalization/dataset.py:253: VisibleDeprecationWarning: Creating an ndarray from ragged nested sequences (which is a list-or-tuple of lists-or-tuples-or ndarrays with different lengths or shapes) is deprecated. If you meant to do this, you must specify 'dtype=object' when creating the ndarray\n",
      "  pidx = np.argsort(np.abs(veh_speed[:,0]-ts))[0]\n",
      "/home/kfir/workspace/RadarLocalization/dataset.py:253: VisibleDeprecationWarning: Creating an ndarray from ragged nested sequences (which is a list-or-tuple of lists-or-tuples-or ndarrays with different lengths or shapes) is deprecated. If you meant to do this, you must specify 'dtype=object' when creating the ndarray\n",
      "  pidx = np.argsort(np.abs(veh_speed[:,0]-ts))[0]\n",
      "/home/kfir/workspace/RadarLocalization/dataset.py:253: VisibleDeprecationWarning: Creating an ndarray from ragged nested sequences (which is a list-or-tuple of lists-or-tuples-or ndarrays with different lengths or shapes) is deprecated. If you meant to do this, you must specify 'dtype=object' when creating the ndarray\n",
      "  pidx = np.argsort(np.abs(veh_speed[:,0]-ts))[0]\n",
      "/home/kfir/workspace/RadarLocalization/dataset.py:253: VisibleDeprecationWarning: Creating an ndarray from ragged nested sequences (which is a list-or-tuple of lists-or-tuples-or ndarrays with different lengths or shapes) is deprecated. If you meant to do this, you must specify 'dtype=object' when creating the ndarray\n",
      "  pidx = np.argsort(np.abs(veh_speed[:,0]-ts))[0]\n",
      "/home/kfir/workspace/RadarLocalization/dataset.py:253: VisibleDeprecationWarning: Creating an ndarray from ragged nested sequences (which is a list-or-tuple of lists-or-tuples-or ndarrays with different lengths or shapes) is deprecated. If you meant to do this, you must specify 'dtype=object' when creating the ndarray\n",
      "  pidx = np.argsort(np.abs(veh_speed[:,0]-ts))[0]\n",
      "/home/kfir/workspace/RadarLocalization/dataset.py:253: VisibleDeprecationWarning: Creating an ndarray from ragged nested sequences (which is a list-or-tuple of lists-or-tuples-or ndarrays with different lengths or shapes) is deprecated. If you meant to do this, you must specify 'dtype=object' when creating the ndarray\n",
      "  pidx = np.argsort(np.abs(veh_speed[:,0]-ts))[0]\n",
      "/home/kfir/workspace/RadarLocalization/dataset.py:253: VisibleDeprecationWarning: Creating an ndarray from ragged nested sequences (which is a list-or-tuple of lists-or-tuples-or ndarrays with different lengths or shapes) is deprecated. If you meant to do this, you must specify 'dtype=object' when creating the ndarray\n",
      "  pidx = np.argsort(np.abs(veh_speed[:,0]-ts))[0]\n",
      "/home/kfir/workspace/RadarLocalization/dataset.py:253: VisibleDeprecationWarning: Creating an ndarray from ragged nested sequences (which is a list-or-tuple of lists-or-tuples-or ndarrays with different lengths or shapes) is deprecated. If you meant to do this, you must specify 'dtype=object' when creating the ndarray\n",
      "  pidx = np.argsort(np.abs(veh_speed[:,0]-ts))[0]\n",
      "/home/kfir/workspace/RadarLocalization/dataset.py:253: VisibleDeprecationWarning: Creating an ndarray from ragged nested sequences (which is a list-or-tuple of lists-or-tuples-or ndarrays with different lengths or shapes) is deprecated. If you meant to do this, you must specify 'dtype=object' when creating the ndarray\n",
      "  pidx = np.argsort(np.abs(veh_speed[:,0]-ts))[0]\n",
      "/home/kfir/workspace/RadarLocalization/dataset.py:253: VisibleDeprecationWarning: Creating an ndarray from ragged nested sequences (which is a list-or-tuple of lists-or-tuples-or ndarrays with different lengths or shapes) is deprecated. If you meant to do this, you must specify 'dtype=object' when creating the ndarray\n",
      "  pidx = np.argsort(np.abs(veh_speed[:,0]-ts))[0]\n",
      "/home/kfir/workspace/RadarLocalization/dataset.py:253: VisibleDeprecationWarning: Creating an ndarray from ragged nested sequences (which is a list-or-tuple of lists-or-tuples-or ndarrays with different lengths or shapes) is deprecated. If you meant to do this, you must specify 'dtype=object' when creating the ndarray\n",
      "  pidx = np.argsort(np.abs(veh_speed[:,0]-ts))[0]\n",
      "/home/kfir/workspace/RadarLocalization/dataset.py:253: VisibleDeprecationWarning: Creating an ndarray from ragged nested sequences (which is a list-or-tuple of lists-or-tuples-or ndarrays with different lengths or shapes) is deprecated. If you meant to do this, you must specify 'dtype=object' when creating the ndarray\n",
      "  pidx = np.argsort(np.abs(veh_speed[:,0]-ts))[0]\n",
      "/home/kfir/workspace/RadarLocalization/dataset.py:253: VisibleDeprecationWarning: Creating an ndarray from ragged nested sequences (which is a list-or-tuple of lists-or-tuples-or ndarrays with different lengths or shapes) is deprecated. If you meant to do this, you must specify 'dtype=object' when creating the ndarray\n",
      "  pidx = np.argsort(np.abs(veh_speed[:,0]-ts))[0]\n",
      "/home/kfir/workspace/RadarLocalization/dataset.py:253: VisibleDeprecationWarning: Creating an ndarray from ragged nested sequences (which is a list-or-tuple of lists-or-tuples-or ndarrays with different lengths or shapes) is deprecated. If you meant to do this, you must specify 'dtype=object' when creating the ndarray\n",
      "  pidx = np.argsort(np.abs(veh_speed[:,0]-ts))[0]\n",
      "/home/kfir/workspace/RadarLocalization/dataset.py:253: VisibleDeprecationWarning: Creating an ndarray from ragged nested sequences (which is a list-or-tuple of lists-or-tuples-or ndarrays with different lengths or shapes) is deprecated. If you meant to do this, you must specify 'dtype=object' when creating the ndarray\n",
      "  pidx = np.argsort(np.abs(veh_speed[:,0]-ts))[0]\n",
      "/home/kfir/workspace/RadarLocalization/dataset.py:253: VisibleDeprecationWarning: Creating an ndarray from ragged nested sequences (which is a list-or-tuple of lists-or-tuples-or ndarrays with different lengths or shapes) is deprecated. If you meant to do this, you must specify 'dtype=object' when creating the ndarray\n",
      "  pidx = np.argsort(np.abs(veh_speed[:,0]-ts))[0]\n",
      "/home/kfir/workspace/RadarLocalization/dataset.py:253: VisibleDeprecationWarning: Creating an ndarray from ragged nested sequences (which is a list-or-tuple of lists-or-tuples-or ndarrays with different lengths or shapes) is deprecated. If you meant to do this, you must specify 'dtype=object' when creating the ndarray\n",
      "  pidx = np.argsort(np.abs(veh_speed[:,0]-ts))[0]\n"
     ]
    },
    {
     "name": "stderr",
     "output_type": "stream",
     "text": [
      "/home/kfir/workspace/RadarLocalization/dataset.py:253: VisibleDeprecationWarning: Creating an ndarray from ragged nested sequences (which is a list-or-tuple of lists-or-tuples-or ndarrays with different lengths or shapes) is deprecated. If you meant to do this, you must specify 'dtype=object' when creating the ndarray\n",
      "  pidx = np.argsort(np.abs(veh_speed[:,0]-ts))[0]\n",
      "/home/kfir/workspace/RadarLocalization/dataset.py:253: VisibleDeprecationWarning: Creating an ndarray from ragged nested sequences (which is a list-or-tuple of lists-or-tuples-or ndarrays with different lengths or shapes) is deprecated. If you meant to do this, you must specify 'dtype=object' when creating the ndarray\n",
      "  pidx = np.argsort(np.abs(veh_speed[:,0]-ts))[0]\n",
      "/home/kfir/workspace/RadarLocalization/dataset.py:253: VisibleDeprecationWarning: Creating an ndarray from ragged nested sequences (which is a list-or-tuple of lists-or-tuples-or ndarrays with different lengths or shapes) is deprecated. If you meant to do this, you must specify 'dtype=object' when creating the ndarray\n",
      "  pidx = np.argsort(np.abs(veh_speed[:,0]-ts))[0]\n",
      "/home/kfir/workspace/RadarLocalization/dataset.py:253: VisibleDeprecationWarning: Creating an ndarray from ragged nested sequences (which is a list-or-tuple of lists-or-tuples-or ndarrays with different lengths or shapes) is deprecated. If you meant to do this, you must specify 'dtype=object' when creating the ndarray\n",
      "  pidx = np.argsort(np.abs(veh_speed[:,0]-ts))[0]\n",
      "/home/kfir/workspace/RadarLocalization/dataset.py:253: VisibleDeprecationWarning: Creating an ndarray from ragged nested sequences (which is a list-or-tuple of lists-or-tuples-or ndarrays with different lengths or shapes) is deprecated. If you meant to do this, you must specify 'dtype=object' when creating the ndarray\n",
      "  pidx = np.argsort(np.abs(veh_speed[:,0]-ts))[0]\n",
      "/home/kfir/workspace/RadarLocalization/dataset.py:253: VisibleDeprecationWarning: Creating an ndarray from ragged nested sequences (which is a list-or-tuple of lists-or-tuples-or ndarrays with different lengths or shapes) is deprecated. If you meant to do this, you must specify 'dtype=object' when creating the ndarray\n",
      "  pidx = np.argsort(np.abs(veh_speed[:,0]-ts))[0]\n",
      "/home/kfir/workspace/RadarLocalization/dataset.py:253: VisibleDeprecationWarning: Creating an ndarray from ragged nested sequences (which is a list-or-tuple of lists-or-tuples-or ndarrays with different lengths or shapes) is deprecated. If you meant to do this, you must specify 'dtype=object' when creating the ndarray\n",
      "  pidx = np.argsort(np.abs(veh_speed[:,0]-ts))[0]\n",
      "/home/kfir/.local/lib/python3.6/site-packages/numpy/core/fromnumeric.py:3373: RuntimeWarning: Mean of empty slice.\n",
      "  out=out, **kwargs)\n",
      "/home/kfir/workspace/RadarLocalization/dataset.py:253: VisibleDeprecationWarning: Creating an ndarray from ragged nested sequences (which is a list-or-tuple of lists-or-tuples-or ndarrays with different lengths or shapes) is deprecated. If you meant to do this, you must specify 'dtype=object' when creating the ndarray\n",
      "  pidx = np.argsort(np.abs(veh_speed[:,0]-ts))[0]\n",
      "/home/kfir/workspace/RadarLocalization/dataset.py:253: VisibleDeprecationWarning: Creating an ndarray from ragged nested sequences (which is a list-or-tuple of lists-or-tuples-or ndarrays with different lengths or shapes) is deprecated. If you meant to do this, you must specify 'dtype=object' when creating the ndarray\n",
      "  pidx = np.argsort(np.abs(veh_speed[:,0]-ts))[0]\n",
      "/home/kfir/workspace/RadarLocalization/dataset.py:253: VisibleDeprecationWarning: Creating an ndarray from ragged nested sequences (which is a list-or-tuple of lists-or-tuples-or ndarrays with different lengths or shapes) is deprecated. If you meant to do this, you must specify 'dtype=object' when creating the ndarray\n",
      "  pidx = np.argsort(np.abs(veh_speed[:,0]-ts))[0]\n",
      "/home/kfir/workspace/RadarLocalization/dataset.py:253: VisibleDeprecationWarning: Creating an ndarray from ragged nested sequences (which is a list-or-tuple of lists-or-tuples-or ndarrays with different lengths or shapes) is deprecated. If you meant to do this, you must specify 'dtype=object' when creating the ndarray\n",
      "  pidx = np.argsort(np.abs(veh_speed[:,0]-ts))[0]\n",
      "/home/kfir/workspace/RadarLocalization/dataset.py:253: VisibleDeprecationWarning: Creating an ndarray from ragged nested sequences (which is a list-or-tuple of lists-or-tuples-or ndarrays with different lengths or shapes) is deprecated. If you meant to do this, you must specify 'dtype=object' when creating the ndarray\n",
      "  pidx = np.argsort(np.abs(veh_speed[:,0]-ts))[0]\n",
      "/home/kfir/workspace/RadarLocalization/dataset.py:253: VisibleDeprecationWarning: Creating an ndarray from ragged nested sequences (which is a list-or-tuple of lists-or-tuples-or ndarrays with different lengths or shapes) is deprecated. If you meant to do this, you must specify 'dtype=object' when creating the ndarray\n",
      "  pidx = np.argsort(np.abs(veh_speed[:,0]-ts))[0]\n",
      "/home/kfir/workspace/RadarLocalization/dataset.py:253: VisibleDeprecationWarning: Creating an ndarray from ragged nested sequences (which is a list-or-tuple of lists-or-tuples-or ndarrays with different lengths or shapes) is deprecated. If you meant to do this, you must specify 'dtype=object' when creating the ndarray\n",
      "  pidx = np.argsort(np.abs(veh_speed[:,0]-ts))[0]\n",
      "/home/kfir/workspace/RadarLocalization/dataset.py:253: VisibleDeprecationWarning: Creating an ndarray from ragged nested sequences (which is a list-or-tuple of lists-or-tuples-or ndarrays with different lengths or shapes) is deprecated. If you meant to do this, you must specify 'dtype=object' when creating the ndarray\n",
      "  pidx = np.argsort(np.abs(veh_speed[:,0]-ts))[0]\n",
      "/home/kfir/workspace/RadarLocalization/dataset.py:253: VisibleDeprecationWarning: Creating an ndarray from ragged nested sequences (which is a list-or-tuple of lists-or-tuples-or ndarrays with different lengths or shapes) is deprecated. If you meant to do this, you must specify 'dtype=object' when creating the ndarray\n",
      "  pidx = np.argsort(np.abs(veh_speed[:,0]-ts))[0]\n",
      "/home/kfir/workspace/RadarLocalization/dataset.py:253: VisibleDeprecationWarning: Creating an ndarray from ragged nested sequences (which is a list-or-tuple of lists-or-tuples-or ndarrays with different lengths or shapes) is deprecated. If you meant to do this, you must specify 'dtype=object' when creating the ndarray\n",
      "  pidx = np.argsort(np.abs(veh_speed[:,0]-ts))[0]\n",
      "/home/kfir/workspace/RadarLocalization/dataset.py:253: VisibleDeprecationWarning: Creating an ndarray from ragged nested sequences (which is a list-or-tuple of lists-or-tuples-or ndarrays with different lengths or shapes) is deprecated. If you meant to do this, you must specify 'dtype=object' when creating the ndarray\n",
      "  pidx = np.argsort(np.abs(veh_speed[:,0]-ts))[0]\n",
      "/home/kfir/workspace/RadarLocalization/dataset.py:253: VisibleDeprecationWarning: Creating an ndarray from ragged nested sequences (which is a list-or-tuple of lists-or-tuples-or ndarrays with different lengths or shapes) is deprecated. If you meant to do this, you must specify 'dtype=object' when creating the ndarray\n",
      "  pidx = np.argsort(np.abs(veh_speed[:,0]-ts))[0]\n",
      "/home/kfir/workspace/RadarLocalization/dataset.py:253: VisibleDeprecationWarning: Creating an ndarray from ragged nested sequences (which is a list-or-tuple of lists-or-tuples-or ndarrays with different lengths or shapes) is deprecated. If you meant to do this, you must specify 'dtype=object' when creating the ndarray\n",
      "  pidx = np.argsort(np.abs(veh_speed[:,0]-ts))[0]\n",
      "/home/kfir/workspace/RadarLocalization/dataset.py:253: VisibleDeprecationWarning: Creating an ndarray from ragged nested sequences (which is a list-or-tuple of lists-or-tuples-or ndarrays with different lengths or shapes) is deprecated. If you meant to do this, you must specify 'dtype=object' when creating the ndarray\n",
      "  pidx = np.argsort(np.abs(veh_speed[:,0]-ts))[0]\n",
      "/home/kfir/workspace/RadarLocalization/dataset.py:253: VisibleDeprecationWarning: Creating an ndarray from ragged nested sequences (which is a list-or-tuple of lists-or-tuples-or ndarrays with different lengths or shapes) is deprecated. If you meant to do this, you must specify 'dtype=object' when creating the ndarray\n",
      "  pidx = np.argsort(np.abs(veh_speed[:,0]-ts))[0]\n"
     ]
    },
    {
     "name": "stderr",
     "output_type": "stream",
     "text": [
      "/home/kfir/workspace/RadarLocalization/dataset.py:253: VisibleDeprecationWarning: Creating an ndarray from ragged nested sequences (which is a list-or-tuple of lists-or-tuples-or ndarrays with different lengths or shapes) is deprecated. If you meant to do this, you must specify 'dtype=object' when creating the ndarray\n",
      "  pidx = np.argsort(np.abs(veh_speed[:,0]-ts))[0]\n",
      "/home/kfir/workspace/RadarLocalization/dataset.py:253: VisibleDeprecationWarning: Creating an ndarray from ragged nested sequences (which is a list-or-tuple of lists-or-tuples-or ndarrays with different lengths or shapes) is deprecated. If you meant to do this, you must specify 'dtype=object' when creating the ndarray\n",
      "  pidx = np.argsort(np.abs(veh_speed[:,0]-ts))[0]\n",
      "/home/kfir/workspace/RadarLocalization/dataset.py:253: VisibleDeprecationWarning: Creating an ndarray from ragged nested sequences (which is a list-or-tuple of lists-or-tuples-or ndarrays with different lengths or shapes) is deprecated. If you meant to do this, you must specify 'dtype=object' when creating the ndarray\n",
      "  pidx = np.argsort(np.abs(veh_speed[:,0]-ts))[0]\n",
      "/home/kfir/workspace/RadarLocalization/dataset.py:253: VisibleDeprecationWarning: Creating an ndarray from ragged nested sequences (which is a list-or-tuple of lists-or-tuples-or ndarrays with different lengths or shapes) is deprecated. If you meant to do this, you must specify 'dtype=object' when creating the ndarray\n",
      "  pidx = np.argsort(np.abs(veh_speed[:,0]-ts))[0]\n",
      "/home/kfir/workspace/RadarLocalization/dataset.py:253: VisibleDeprecationWarning: Creating an ndarray from ragged nested sequences (which is a list-or-tuple of lists-or-tuples-or ndarrays with different lengths or shapes) is deprecated. If you meant to do this, you must specify 'dtype=object' when creating the ndarray\n",
      "  pidx = np.argsort(np.abs(veh_speed[:,0]-ts))[0]\n",
      "/home/kfir/workspace/RadarLocalization/dataset.py:253: VisibleDeprecationWarning: Creating an ndarray from ragged nested sequences (which is a list-or-tuple of lists-or-tuples-or ndarrays with different lengths or shapes) is deprecated. If you meant to do this, you must specify 'dtype=object' when creating the ndarray\n",
      "  pidx = np.argsort(np.abs(veh_speed[:,0]-ts))[0]\n",
      "/home/kfir/workspace/RadarLocalization/dataset.py:253: VisibleDeprecationWarning: Creating an ndarray from ragged nested sequences (which is a list-or-tuple of lists-or-tuples-or ndarrays with different lengths or shapes) is deprecated. If you meant to do this, you must specify 'dtype=object' when creating the ndarray\n",
      "  pidx = np.argsort(np.abs(veh_speed[:,0]-ts))[0]\n",
      "/home/kfir/workspace/RadarLocalization/dataset.py:253: VisibleDeprecationWarning: Creating an ndarray from ragged nested sequences (which is a list-or-tuple of lists-or-tuples-or ndarrays with different lengths or shapes) is deprecated. If you meant to do this, you must specify 'dtype=object' when creating the ndarray\n",
      "  pidx = np.argsort(np.abs(veh_speed[:,0]-ts))[0]\n",
      "/home/kfir/workspace/RadarLocalization/dataset.py:253: VisibleDeprecationWarning: Creating an ndarray from ragged nested sequences (which is a list-or-tuple of lists-or-tuples-or ndarrays with different lengths or shapes) is deprecated. If you meant to do this, you must specify 'dtype=object' when creating the ndarray\n",
      "  pidx = np.argsort(np.abs(veh_speed[:,0]-ts))[0]\n",
      "/home/kfir/workspace/RadarLocalization/dataset.py:253: VisibleDeprecationWarning: Creating an ndarray from ragged nested sequences (which is a list-or-tuple of lists-or-tuples-or ndarrays with different lengths or shapes) is deprecated. If you meant to do this, you must specify 'dtype=object' when creating the ndarray\n",
      "  pidx = np.argsort(np.abs(veh_speed[:,0]-ts))[0]\n",
      "/home/kfir/workspace/RadarLocalization/dataset.py:253: VisibleDeprecationWarning: Creating an ndarray from ragged nested sequences (which is a list-or-tuple of lists-or-tuples-or ndarrays with different lengths or shapes) is deprecated. If you meant to do this, you must specify 'dtype=object' when creating the ndarray\n",
      "  pidx = np.argsort(np.abs(veh_speed[:,0]-ts))[0]\n",
      "/home/kfir/workspace/RadarLocalization/dataset.py:253: VisibleDeprecationWarning: Creating an ndarray from ragged nested sequences (which is a list-or-tuple of lists-or-tuples-or ndarrays with different lengths or shapes) is deprecated. If you meant to do this, you must specify 'dtype=object' when creating the ndarray\n",
      "  pidx = np.argsort(np.abs(veh_speed[:,0]-ts))[0]\n",
      "/home/kfir/workspace/RadarLocalization/dataset.py:253: VisibleDeprecationWarning: Creating an ndarray from ragged nested sequences (which is a list-or-tuple of lists-or-tuples-or ndarrays with different lengths or shapes) is deprecated. If you meant to do this, you must specify 'dtype=object' when creating the ndarray\n",
      "  pidx = np.argsort(np.abs(veh_speed[:,0]-ts))[0]\n",
      "/home/kfir/workspace/RadarLocalization/dataset.py:253: VisibleDeprecationWarning: Creating an ndarray from ragged nested sequences (which is a list-or-tuple of lists-or-tuples-or ndarrays with different lengths or shapes) is deprecated. If you meant to do this, you must specify 'dtype=object' when creating the ndarray\n",
      "  pidx = np.argsort(np.abs(veh_speed[:,0]-ts))[0]\n",
      "/home/kfir/workspace/RadarLocalization/dataset.py:253: VisibleDeprecationWarning: Creating an ndarray from ragged nested sequences (which is a list-or-tuple of lists-or-tuples-or ndarrays with different lengths or shapes) is deprecated. If you meant to do this, you must specify 'dtype=object' when creating the ndarray\n",
      "  pidx = np.argsort(np.abs(veh_speed[:,0]-ts))[0]\n",
      "/home/kfir/workspace/RadarLocalization/dataset.py:253: VisibleDeprecationWarning: Creating an ndarray from ragged nested sequences (which is a list-or-tuple of lists-or-tuples-or ndarrays with different lengths or shapes) is deprecated. If you meant to do this, you must specify 'dtype=object' when creating the ndarray\n",
      "  pidx = np.argsort(np.abs(veh_speed[:,0]-ts))[0]\n",
      "/home/kfir/workspace/RadarLocalization/dataset.py:253: VisibleDeprecationWarning: Creating an ndarray from ragged nested sequences (which is a list-or-tuple of lists-or-tuples-or ndarrays with different lengths or shapes) is deprecated. If you meant to do this, you must specify 'dtype=object' when creating the ndarray\n",
      "  pidx = np.argsort(np.abs(veh_speed[:,0]-ts))[0]\n",
      "/home/kfir/workspace/RadarLocalization/dataset.py:253: VisibleDeprecationWarning: Creating an ndarray from ragged nested sequences (which is a list-or-tuple of lists-or-tuples-or ndarrays with different lengths or shapes) is deprecated. If you meant to do this, you must specify 'dtype=object' when creating the ndarray\n",
      "  pidx = np.argsort(np.abs(veh_speed[:,0]-ts))[0]\n",
      "/home/kfir/workspace/RadarLocalization/dataset.py:253: VisibleDeprecationWarning: Creating an ndarray from ragged nested sequences (which is a list-or-tuple of lists-or-tuples-or ndarrays with different lengths or shapes) is deprecated. If you meant to do this, you must specify 'dtype=object' when creating the ndarray\n",
      "  pidx = np.argsort(np.abs(veh_speed[:,0]-ts))[0]\n",
      "/home/kfir/workspace/RadarLocalization/dataset.py:253: VisibleDeprecationWarning: Creating an ndarray from ragged nested sequences (which is a list-or-tuple of lists-or-tuples-or ndarrays with different lengths or shapes) is deprecated. If you meant to do this, you must specify 'dtype=object' when creating the ndarray\n",
      "  pidx = np.argsort(np.abs(veh_speed[:,0]-ts))[0]\n",
      "/home/kfir/.local/lib/python3.6/site-packages/numpy/core/fromnumeric.py:3373: RuntimeWarning: Mean of empty slice.\n",
      "  out=out, **kwargs)\n",
      "/home/kfir/workspace/RadarLocalization/dataset.py:253: VisibleDeprecationWarning: Creating an ndarray from ragged nested sequences (which is a list-or-tuple of lists-or-tuples-or ndarrays with different lengths or shapes) is deprecated. If you meant to do this, you must specify 'dtype=object' when creating the ndarray\n",
      "  pidx = np.argsort(np.abs(veh_speed[:,0]-ts))[0]\n",
      "/home/kfir/workspace/RadarLocalization/dataset.py:253: VisibleDeprecationWarning: Creating an ndarray from ragged nested sequences (which is a list-or-tuple of lists-or-tuples-or ndarrays with different lengths or shapes) is deprecated. If you meant to do this, you must specify 'dtype=object' when creating the ndarray\n",
      "  pidx = np.argsort(np.abs(veh_speed[:,0]-ts))[0]\n"
     ]
    },
    {
     "name": "stderr",
     "output_type": "stream",
     "text": [
      "/home/kfir/workspace/RadarLocalization/dataset.py:253: VisibleDeprecationWarning: Creating an ndarray from ragged nested sequences (which is a list-or-tuple of lists-or-tuples-or ndarrays with different lengths or shapes) is deprecated. If you meant to do this, you must specify 'dtype=object' when creating the ndarray\n",
      "  pidx = np.argsort(np.abs(veh_speed[:,0]-ts))[0]\n",
      "/home/kfir/workspace/RadarLocalization/dataset.py:253: VisibleDeprecationWarning: Creating an ndarray from ragged nested sequences (which is a list-or-tuple of lists-or-tuples-or ndarrays with different lengths or shapes) is deprecated. If you meant to do this, you must specify 'dtype=object' when creating the ndarray\n",
      "  pidx = np.argsort(np.abs(veh_speed[:,0]-ts))[0]\n",
      "/home/kfir/workspace/RadarLocalization/dataset.py:253: VisibleDeprecationWarning: Creating an ndarray from ragged nested sequences (which is a list-or-tuple of lists-or-tuples-or ndarrays with different lengths or shapes) is deprecated. If you meant to do this, you must specify 'dtype=object' when creating the ndarray\n",
      "  pidx = np.argsort(np.abs(veh_speed[:,0]-ts))[0]\n",
      "/home/kfir/workspace/RadarLocalization/dataset.py:253: VisibleDeprecationWarning: Creating an ndarray from ragged nested sequences (which is a list-or-tuple of lists-or-tuples-or ndarrays with different lengths or shapes) is deprecated. If you meant to do this, you must specify 'dtype=object' when creating the ndarray\n",
      "  pidx = np.argsort(np.abs(veh_speed[:,0]-ts))[0]\n",
      "/home/kfir/workspace/RadarLocalization/dataset.py:253: VisibleDeprecationWarning: Creating an ndarray from ragged nested sequences (which is a list-or-tuple of lists-or-tuples-or ndarrays with different lengths or shapes) is deprecated. If you meant to do this, you must specify 'dtype=object' when creating the ndarray\n",
      "  pidx = np.argsort(np.abs(veh_speed[:,0]-ts))[0]\n",
      "/home/kfir/workspace/RadarLocalization/dataset.py:253: VisibleDeprecationWarning: Creating an ndarray from ragged nested sequences (which is a list-or-tuple of lists-or-tuples-or ndarrays with different lengths or shapes) is deprecated. If you meant to do this, you must specify 'dtype=object' when creating the ndarray\n",
      "  pidx = np.argsort(np.abs(veh_speed[:,0]-ts))[0]\n",
      "/home/kfir/workspace/RadarLocalization/dataset.py:253: VisibleDeprecationWarning: Creating an ndarray from ragged nested sequences (which is a list-or-tuple of lists-or-tuples-or ndarrays with different lengths or shapes) is deprecated. If you meant to do this, you must specify 'dtype=object' when creating the ndarray\n",
      "  pidx = np.argsort(np.abs(veh_speed[:,0]-ts))[0]\n",
      "/home/kfir/workspace/RadarLocalization/dataset.py:253: VisibleDeprecationWarning: Creating an ndarray from ragged nested sequences (which is a list-or-tuple of lists-or-tuples-or ndarrays with different lengths or shapes) is deprecated. If you meant to do this, you must specify 'dtype=object' when creating the ndarray\n",
      "  pidx = np.argsort(np.abs(veh_speed[:,0]-ts))[0]\n",
      "/home/kfir/workspace/RadarLocalization/dataset.py:253: VisibleDeprecationWarning: Creating an ndarray from ragged nested sequences (which is a list-or-tuple of lists-or-tuples-or ndarrays with different lengths or shapes) is deprecated. If you meant to do this, you must specify 'dtype=object' when creating the ndarray\n",
      "  pidx = np.argsort(np.abs(veh_speed[:,0]-ts))[0]\n",
      "/home/kfir/workspace/RadarLocalization/dataset.py:253: VisibleDeprecationWarning: Creating an ndarray from ragged nested sequences (which is a list-or-tuple of lists-or-tuples-or ndarrays with different lengths or shapes) is deprecated. If you meant to do this, you must specify 'dtype=object' when creating the ndarray\n",
      "  pidx = np.argsort(np.abs(veh_speed[:,0]-ts))[0]\n",
      "/home/kfir/workspace/RadarLocalization/dataset.py:253: VisibleDeprecationWarning: Creating an ndarray from ragged nested sequences (which is a list-or-tuple of lists-or-tuples-or ndarrays with different lengths or shapes) is deprecated. If you meant to do this, you must specify 'dtype=object' when creating the ndarray\n",
      "  pidx = np.argsort(np.abs(veh_speed[:,0]-ts))[0]\n",
      "/home/kfir/workspace/RadarLocalization/dataset.py:253: VisibleDeprecationWarning: Creating an ndarray from ragged nested sequences (which is a list-or-tuple of lists-or-tuples-or ndarrays with different lengths or shapes) is deprecated. If you meant to do this, you must specify 'dtype=object' when creating the ndarray\n",
      "  pidx = np.argsort(np.abs(veh_speed[:,0]-ts))[0]\n",
      "/home/kfir/workspace/RadarLocalization/dataset.py:253: VisibleDeprecationWarning: Creating an ndarray from ragged nested sequences (which is a list-or-tuple of lists-or-tuples-or ndarrays with different lengths or shapes) is deprecated. If you meant to do this, you must specify 'dtype=object' when creating the ndarray\n",
      "  pidx = np.argsort(np.abs(veh_speed[:,0]-ts))[0]\n",
      "/home/kfir/workspace/RadarLocalization/dataset.py:253: VisibleDeprecationWarning: Creating an ndarray from ragged nested sequences (which is a list-or-tuple of lists-or-tuples-or ndarrays with different lengths or shapes) is deprecated. If you meant to do this, you must specify 'dtype=object' when creating the ndarray\n",
      "  pidx = np.argsort(np.abs(veh_speed[:,0]-ts))[0]\n",
      "/home/kfir/workspace/RadarLocalization/dataset.py:253: VisibleDeprecationWarning: Creating an ndarray from ragged nested sequences (which is a list-or-tuple of lists-or-tuples-or ndarrays with different lengths or shapes) is deprecated. If you meant to do this, you must specify 'dtype=object' when creating the ndarray\n",
      "  pidx = np.argsort(np.abs(veh_speed[:,0]-ts))[0]\n",
      "/home/kfir/workspace/RadarLocalization/dataset.py:253: VisibleDeprecationWarning: Creating an ndarray from ragged nested sequences (which is a list-or-tuple of lists-or-tuples-or ndarrays with different lengths or shapes) is deprecated. If you meant to do this, you must specify 'dtype=object' when creating the ndarray\n",
      "  pidx = np.argsort(np.abs(veh_speed[:,0]-ts))[0]\n",
      "/home/kfir/workspace/RadarLocalization/dataset.py:253: VisibleDeprecationWarning: Creating an ndarray from ragged nested sequences (which is a list-or-tuple of lists-or-tuples-or ndarrays with different lengths or shapes) is deprecated. If you meant to do this, you must specify 'dtype=object' when creating the ndarray\n",
      "  pidx = np.argsort(np.abs(veh_speed[:,0]-ts))[0]\n",
      "/home/kfir/workspace/RadarLocalization/dataset.py:253: VisibleDeprecationWarning: Creating an ndarray from ragged nested sequences (which is a list-or-tuple of lists-or-tuples-or ndarrays with different lengths or shapes) is deprecated. If you meant to do this, you must specify 'dtype=object' when creating the ndarray\n",
      "  pidx = np.argsort(np.abs(veh_speed[:,0]-ts))[0]\n",
      "/home/kfir/workspace/RadarLocalization/dataset.py:253: VisibleDeprecationWarning: Creating an ndarray from ragged nested sequences (which is a list-or-tuple of lists-or-tuples-or ndarrays with different lengths or shapes) is deprecated. If you meant to do this, you must specify 'dtype=object' when creating the ndarray\n",
      "  pidx = np.argsort(np.abs(veh_speed[:,0]-ts))[0]\n",
      "/home/kfir/workspace/RadarLocalization/dataset.py:253: VisibleDeprecationWarning: Creating an ndarray from ragged nested sequences (which is a list-or-tuple of lists-or-tuples-or ndarrays with different lengths or shapes) is deprecated. If you meant to do this, you must specify 'dtype=object' when creating the ndarray\n",
      "  pidx = np.argsort(np.abs(veh_speed[:,0]-ts))[0]\n",
      "/home/kfir/workspace/RadarLocalization/dataset.py:253: VisibleDeprecationWarning: Creating an ndarray from ragged nested sequences (which is a list-or-tuple of lists-or-tuples-or ndarrays with different lengths or shapes) is deprecated. If you meant to do this, you must specify 'dtype=object' when creating the ndarray\n",
      "  pidx = np.argsort(np.abs(veh_speed[:,0]-ts))[0]\n",
      "/home/kfir/workspace/RadarLocalization/dataset.py:253: VisibleDeprecationWarning: Creating an ndarray from ragged nested sequences (which is a list-or-tuple of lists-or-tuples-or ndarrays with different lengths or shapes) is deprecated. If you meant to do this, you must specify 'dtype=object' when creating the ndarray\n",
      "  pidx = np.argsort(np.abs(veh_speed[:,0]-ts))[0]\n",
      "/home/kfir/workspace/RadarLocalization/dataset.py:253: VisibleDeprecationWarning: Creating an ndarray from ragged nested sequences (which is a list-or-tuple of lists-or-tuples-or ndarrays with different lengths or shapes) is deprecated. If you meant to do this, you must specify 'dtype=object' when creating the ndarray\n",
      "  pidx = np.argsort(np.abs(veh_speed[:,0]-ts))[0]\n",
      "/home/kfir/workspace/RadarLocalization/dataset.py:253: VisibleDeprecationWarning: Creating an ndarray from ragged nested sequences (which is a list-or-tuple of lists-or-tuples-or ndarrays with different lengths or shapes) is deprecated. If you meant to do this, you must specify 'dtype=object' when creating the ndarray\n",
      "  pidx = np.argsort(np.abs(veh_speed[:,0]-ts))[0]\n"
     ]
    },
    {
     "name": "stderr",
     "output_type": "stream",
     "text": [
      "/home/kfir/workspace/RadarLocalization/dataset.py:253: VisibleDeprecationWarning: Creating an ndarray from ragged nested sequences (which is a list-or-tuple of lists-or-tuples-or ndarrays with different lengths or shapes) is deprecated. If you meant to do this, you must specify 'dtype=object' when creating the ndarray\n",
      "  pidx = np.argsort(np.abs(veh_speed[:,0]-ts))[0]\n",
      "/home/kfir/workspace/RadarLocalization/dataset.py:253: VisibleDeprecationWarning: Creating an ndarray from ragged nested sequences (which is a list-or-tuple of lists-or-tuples-or ndarrays with different lengths or shapes) is deprecated. If you meant to do this, you must specify 'dtype=object' when creating the ndarray\n",
      "  pidx = np.argsort(np.abs(veh_speed[:,0]-ts))[0]\n",
      "/home/kfir/workspace/RadarLocalization/dataset.py:253: VisibleDeprecationWarning: Creating an ndarray from ragged nested sequences (which is a list-or-tuple of lists-or-tuples-or ndarrays with different lengths or shapes) is deprecated. If you meant to do this, you must specify 'dtype=object' when creating the ndarray\n",
      "  pidx = np.argsort(np.abs(veh_speed[:,0]-ts))[0]\n",
      "/home/kfir/.local/lib/python3.6/site-packages/numpy/core/fromnumeric.py:3373: RuntimeWarning: Mean of empty slice.\n",
      "  out=out, **kwargs)\n",
      "/home/kfir/workspace/RadarLocalization/dataset.py:253: VisibleDeprecationWarning: Creating an ndarray from ragged nested sequences (which is a list-or-tuple of lists-or-tuples-or ndarrays with different lengths or shapes) is deprecated. If you meant to do this, you must specify 'dtype=object' when creating the ndarray\n",
      "  pidx = np.argsort(np.abs(veh_speed[:,0]-ts))[0]\n",
      "/home/kfir/.local/lib/python3.6/site-packages/numpy/core/fromnumeric.py:3373: RuntimeWarning: Mean of empty slice.\n",
      "  out=out, **kwargs)\n",
      "/home/kfir/workspace/RadarLocalization/dataset.py:253: VisibleDeprecationWarning: Creating an ndarray from ragged nested sequences (which is a list-or-tuple of lists-or-tuples-or ndarrays with different lengths or shapes) is deprecated. If you meant to do this, you must specify 'dtype=object' when creating the ndarray\n",
      "  pidx = np.argsort(np.abs(veh_speed[:,0]-ts))[0]\n",
      "/home/kfir/workspace/RadarLocalization/dataset.py:253: VisibleDeprecationWarning: Creating an ndarray from ragged nested sequences (which is a list-or-tuple of lists-or-tuples-or ndarrays with different lengths or shapes) is deprecated. If you meant to do this, you must specify 'dtype=object' when creating the ndarray\n",
      "  pidx = np.argsort(np.abs(veh_speed[:,0]-ts))[0]\n",
      "/home/kfir/workspace/RadarLocalization/dataset.py:253: VisibleDeprecationWarning: Creating an ndarray from ragged nested sequences (which is a list-or-tuple of lists-or-tuples-or ndarrays with different lengths or shapes) is deprecated. If you meant to do this, you must specify 'dtype=object' when creating the ndarray\n",
      "  pidx = np.argsort(np.abs(veh_speed[:,0]-ts))[0]\n",
      "/home/kfir/workspace/RadarLocalization/dataset.py:253: VisibleDeprecationWarning: Creating an ndarray from ragged nested sequences (which is a list-or-tuple of lists-or-tuples-or ndarrays with different lengths or shapes) is deprecated. If you meant to do this, you must specify 'dtype=object' when creating the ndarray\n",
      "  pidx = np.argsort(np.abs(veh_speed[:,0]-ts))[0]\n",
      "/home/kfir/.local/lib/python3.6/site-packages/numpy/core/fromnumeric.py:3373: RuntimeWarning: Mean of empty slice.\n",
      "  out=out, **kwargs)\n",
      "/home/kfir/workspace/RadarLocalization/dataset.py:253: VisibleDeprecationWarning: Creating an ndarray from ragged nested sequences (which is a list-or-tuple of lists-or-tuples-or ndarrays with different lengths or shapes) is deprecated. If you meant to do this, you must specify 'dtype=object' when creating the ndarray\n",
      "  pidx = np.argsort(np.abs(veh_speed[:,0]-ts))[0]\n",
      "/home/kfir/workspace/RadarLocalization/dataset.py:253: VisibleDeprecationWarning: Creating an ndarray from ragged nested sequences (which is a list-or-tuple of lists-or-tuples-or ndarrays with different lengths or shapes) is deprecated. If you meant to do this, you must specify 'dtype=object' when creating the ndarray\n",
      "  pidx = np.argsort(np.abs(veh_speed[:,0]-ts))[0]\n",
      "/home/kfir/workspace/RadarLocalization/dataset.py:253: VisibleDeprecationWarning: Creating an ndarray from ragged nested sequences (which is a list-or-tuple of lists-or-tuples-or ndarrays with different lengths or shapes) is deprecated. If you meant to do this, you must specify 'dtype=object' when creating the ndarray\n",
      "  pidx = np.argsort(np.abs(veh_speed[:,0]-ts))[0]\n",
      "/home/kfir/workspace/RadarLocalization/dataset.py:253: VisibleDeprecationWarning: Creating an ndarray from ragged nested sequences (which is a list-or-tuple of lists-or-tuples-or ndarrays with different lengths or shapes) is deprecated. If you meant to do this, you must specify 'dtype=object' when creating the ndarray\n",
      "  pidx = np.argsort(np.abs(veh_speed[:,0]-ts))[0]\n",
      "/home/kfir/workspace/RadarLocalization/dataset.py:253: VisibleDeprecationWarning: Creating an ndarray from ragged nested sequences (which is a list-or-tuple of lists-or-tuples-or ndarrays with different lengths or shapes) is deprecated. If you meant to do this, you must specify 'dtype=object' when creating the ndarray\n",
      "  pidx = np.argsort(np.abs(veh_speed[:,0]-ts))[0]\n",
      "/home/kfir/workspace/RadarLocalization/dataset.py:253: VisibleDeprecationWarning: Creating an ndarray from ragged nested sequences (which is a list-or-tuple of lists-or-tuples-or ndarrays with different lengths or shapes) is deprecated. If you meant to do this, you must specify 'dtype=object' when creating the ndarray\n",
      "  pidx = np.argsort(np.abs(veh_speed[:,0]-ts))[0]\n",
      "/home/kfir/workspace/RadarLocalization/dataset.py:253: VisibleDeprecationWarning: Creating an ndarray from ragged nested sequences (which is a list-or-tuple of lists-or-tuples-or ndarrays with different lengths or shapes) is deprecated. If you meant to do this, you must specify 'dtype=object' when creating the ndarray\n",
      "  pidx = np.argsort(np.abs(veh_speed[:,0]-ts))[0]\n",
      "/home/kfir/workspace/RadarLocalization/dataset.py:253: VisibleDeprecationWarning: Creating an ndarray from ragged nested sequences (which is a list-or-tuple of lists-or-tuples-or ndarrays with different lengths or shapes) is deprecated. If you meant to do this, you must specify 'dtype=object' when creating the ndarray\n",
      "  pidx = np.argsort(np.abs(veh_speed[:,0]-ts))[0]\n",
      "/home/kfir/workspace/RadarLocalization/dataset.py:253: VisibleDeprecationWarning: Creating an ndarray from ragged nested sequences (which is a list-or-tuple of lists-or-tuples-or ndarrays with different lengths or shapes) is deprecated. If you meant to do this, you must specify 'dtype=object' when creating the ndarray\n",
      "  pidx = np.argsort(np.abs(veh_speed[:,0]-ts))[0]\n",
      "/home/kfir/workspace/RadarLocalization/dataset.py:253: VisibleDeprecationWarning: Creating an ndarray from ragged nested sequences (which is a list-or-tuple of lists-or-tuples-or ndarrays with different lengths or shapes) is deprecated. If you meant to do this, you must specify 'dtype=object' when creating the ndarray\n",
      "  pidx = np.argsort(np.abs(veh_speed[:,0]-ts))[0]\n",
      "/home/kfir/workspace/RadarLocalization/dataset.py:253: VisibleDeprecationWarning: Creating an ndarray from ragged nested sequences (which is a list-or-tuple of lists-or-tuples-or ndarrays with different lengths or shapes) is deprecated. If you meant to do this, you must specify 'dtype=object' when creating the ndarray\n",
      "  pidx = np.argsort(np.abs(veh_speed[:,0]-ts))[0]\n",
      "/home/kfir/workspace/RadarLocalization/dataset.py:253: VisibleDeprecationWarning: Creating an ndarray from ragged nested sequences (which is a list-or-tuple of lists-or-tuples-or ndarrays with different lengths or shapes) is deprecated. If you meant to do this, you must specify 'dtype=object' when creating the ndarray\n",
      "  pidx = np.argsort(np.abs(veh_speed[:,0]-ts))[0]\n",
      "/home/kfir/workspace/RadarLocalization/dataset.py:253: VisibleDeprecationWarning: Creating an ndarray from ragged nested sequences (which is a list-or-tuple of lists-or-tuples-or ndarrays with different lengths or shapes) is deprecated. If you meant to do this, you must specify 'dtype=object' when creating the ndarray\n",
      "  pidx = np.argsort(np.abs(veh_speed[:,0]-ts))[0]\n",
      "/home/kfir/workspace/RadarLocalization/dataset.py:253: VisibleDeprecationWarning: Creating an ndarray from ragged nested sequences (which is a list-or-tuple of lists-or-tuples-or ndarrays with different lengths or shapes) is deprecated. If you meant to do this, you must specify 'dtype=object' when creating the ndarray\n",
      "  pidx = np.argsort(np.abs(veh_speed[:,0]-ts))[0]\n"
     ]
    },
    {
     "name": "stderr",
     "output_type": "stream",
     "text": [
      "/home/kfir/workspace/RadarLocalization/dataset.py:253: VisibleDeprecationWarning: Creating an ndarray from ragged nested sequences (which is a list-or-tuple of lists-or-tuples-or ndarrays with different lengths or shapes) is deprecated. If you meant to do this, you must specify 'dtype=object' when creating the ndarray\n",
      "  pidx = np.argsort(np.abs(veh_speed[:,0]-ts))[0]\n",
      "/home/kfir/workspace/RadarLocalization/dataset.py:253: VisibleDeprecationWarning: Creating an ndarray from ragged nested sequences (which is a list-or-tuple of lists-or-tuples-or ndarrays with different lengths or shapes) is deprecated. If you meant to do this, you must specify 'dtype=object' when creating the ndarray\n",
      "  pidx = np.argsort(np.abs(veh_speed[:,0]-ts))[0]\n",
      "/home/kfir/workspace/RadarLocalization/dataset.py:253: VisibleDeprecationWarning: Creating an ndarray from ragged nested sequences (which is a list-or-tuple of lists-or-tuples-or ndarrays with different lengths or shapes) is deprecated. If you meant to do this, you must specify 'dtype=object' when creating the ndarray\n",
      "  pidx = np.argsort(np.abs(veh_speed[:,0]-ts))[0]\n",
      "/home/kfir/workspace/RadarLocalization/dataset.py:253: VisibleDeprecationWarning: Creating an ndarray from ragged nested sequences (which is a list-or-tuple of lists-or-tuples-or ndarrays with different lengths or shapes) is deprecated. If you meant to do this, you must specify 'dtype=object' when creating the ndarray\n",
      "  pidx = np.argsort(np.abs(veh_speed[:,0]-ts))[0]\n",
      "/home/kfir/workspace/RadarLocalization/dataset.py:253: VisibleDeprecationWarning: Creating an ndarray from ragged nested sequences (which is a list-or-tuple of lists-or-tuples-or ndarrays with different lengths or shapes) is deprecated. If you meant to do this, you must specify 'dtype=object' when creating the ndarray\n",
      "  pidx = np.argsort(np.abs(veh_speed[:,0]-ts))[0]\n",
      "/home/kfir/workspace/RadarLocalization/dataset.py:253: VisibleDeprecationWarning: Creating an ndarray from ragged nested sequences (which is a list-or-tuple of lists-or-tuples-or ndarrays with different lengths or shapes) is deprecated. If you meant to do this, you must specify 'dtype=object' when creating the ndarray\n",
      "  pidx = np.argsort(np.abs(veh_speed[:,0]-ts))[0]\n",
      "/home/kfir/workspace/RadarLocalization/dataset.py:253: VisibleDeprecationWarning: Creating an ndarray from ragged nested sequences (which is a list-or-tuple of lists-or-tuples-or ndarrays with different lengths or shapes) is deprecated. If you meant to do this, you must specify 'dtype=object' when creating the ndarray\n",
      "  pidx = np.argsort(np.abs(veh_speed[:,0]-ts))[0]\n",
      "/home/kfir/workspace/RadarLocalization/dataset.py:253: VisibleDeprecationWarning: Creating an ndarray from ragged nested sequences (which is a list-or-tuple of lists-or-tuples-or ndarrays with different lengths or shapes) is deprecated. If you meant to do this, you must specify 'dtype=object' when creating the ndarray\n",
      "  pidx = np.argsort(np.abs(veh_speed[:,0]-ts))[0]\n",
      "/home/kfir/workspace/RadarLocalization/dataset.py:253: VisibleDeprecationWarning: Creating an ndarray from ragged nested sequences (which is a list-or-tuple of lists-or-tuples-or ndarrays with different lengths or shapes) is deprecated. If you meant to do this, you must specify 'dtype=object' when creating the ndarray\n",
      "  pidx = np.argsort(np.abs(veh_speed[:,0]-ts))[0]\n",
      "/home/kfir/workspace/RadarLocalization/dataset.py:253: VisibleDeprecationWarning: Creating an ndarray from ragged nested sequences (which is a list-or-tuple of lists-or-tuples-or ndarrays with different lengths or shapes) is deprecated. If you meant to do this, you must specify 'dtype=object' when creating the ndarray\n",
      "  pidx = np.argsort(np.abs(veh_speed[:,0]-ts))[0]\n",
      "/home/kfir/workspace/RadarLocalization/dataset.py:253: VisibleDeprecationWarning: Creating an ndarray from ragged nested sequences (which is a list-or-tuple of lists-or-tuples-or ndarrays with different lengths or shapes) is deprecated. If you meant to do this, you must specify 'dtype=object' when creating the ndarray\n",
      "  pidx = np.argsort(np.abs(veh_speed[:,0]-ts))[0]\n",
      "/home/kfir/workspace/RadarLocalization/dataset.py:253: VisibleDeprecationWarning: Creating an ndarray from ragged nested sequences (which is a list-or-tuple of lists-or-tuples-or ndarrays with different lengths or shapes) is deprecated. If you meant to do this, you must specify 'dtype=object' when creating the ndarray\n",
      "  pidx = np.argsort(np.abs(veh_speed[:,0]-ts))[0]\n",
      "/home/kfir/workspace/RadarLocalization/dataset.py:253: VisibleDeprecationWarning: Creating an ndarray from ragged nested sequences (which is a list-or-tuple of lists-or-tuples-or ndarrays with different lengths or shapes) is deprecated. If you meant to do this, you must specify 'dtype=object' when creating the ndarray\n",
      "  pidx = np.argsort(np.abs(veh_speed[:,0]-ts))[0]\n",
      "/home/kfir/workspace/RadarLocalization/dataset.py:253: VisibleDeprecationWarning: Creating an ndarray from ragged nested sequences (which is a list-or-tuple of lists-or-tuples-or ndarrays with different lengths or shapes) is deprecated. If you meant to do this, you must specify 'dtype=object' when creating the ndarray\n",
      "  pidx = np.argsort(np.abs(veh_speed[:,0]-ts))[0]\n",
      "/home/kfir/workspace/RadarLocalization/dataset.py:253: VisibleDeprecationWarning: Creating an ndarray from ragged nested sequences (which is a list-or-tuple of lists-or-tuples-or ndarrays with different lengths or shapes) is deprecated. If you meant to do this, you must specify 'dtype=object' when creating the ndarray\n",
      "  pidx = np.argsort(np.abs(veh_speed[:,0]-ts))[0]\n",
      "/home/kfir/workspace/RadarLocalization/dataset.py:253: VisibleDeprecationWarning: Creating an ndarray from ragged nested sequences (which is a list-or-tuple of lists-or-tuples-or ndarrays with different lengths or shapes) is deprecated. If you meant to do this, you must specify 'dtype=object' when creating the ndarray\n",
      "  pidx = np.argsort(np.abs(veh_speed[:,0]-ts))[0]\n",
      "/home/kfir/workspace/RadarLocalization/dataset.py:253: VisibleDeprecationWarning: Creating an ndarray from ragged nested sequences (which is a list-or-tuple of lists-or-tuples-or ndarrays with different lengths or shapes) is deprecated. If you meant to do this, you must specify 'dtype=object' when creating the ndarray\n",
      "  pidx = np.argsort(np.abs(veh_speed[:,0]-ts))[0]\n",
      "/home/kfir/workspace/RadarLocalization/dataset.py:253: VisibleDeprecationWarning: Creating an ndarray from ragged nested sequences (which is a list-or-tuple of lists-or-tuples-or ndarrays with different lengths or shapes) is deprecated. If you meant to do this, you must specify 'dtype=object' when creating the ndarray\n",
      "  pidx = np.argsort(np.abs(veh_speed[:,0]-ts))[0]\n",
      "/home/kfir/workspace/RadarLocalization/dataset.py:253: VisibleDeprecationWarning: Creating an ndarray from ragged nested sequences (which is a list-or-tuple of lists-or-tuples-or ndarrays with different lengths or shapes) is deprecated. If you meant to do this, you must specify 'dtype=object' when creating the ndarray\n",
      "  pidx = np.argsort(np.abs(veh_speed[:,0]-ts))[0]\n",
      "/home/kfir/workspace/RadarLocalization/dataset.py:253: VisibleDeprecationWarning: Creating an ndarray from ragged nested sequences (which is a list-or-tuple of lists-or-tuples-or ndarrays with different lengths or shapes) is deprecated. If you meant to do this, you must specify 'dtype=object' when creating the ndarray\n",
      "  pidx = np.argsort(np.abs(veh_speed[:,0]-ts))[0]\n",
      "/home/kfir/workspace/RadarLocalization/dataset.py:253: VisibleDeprecationWarning: Creating an ndarray from ragged nested sequences (which is a list-or-tuple of lists-or-tuples-or ndarrays with different lengths or shapes) is deprecated. If you meant to do this, you must specify 'dtype=object' when creating the ndarray\n",
      "  pidx = np.argsort(np.abs(veh_speed[:,0]-ts))[0]\n",
      "/home/kfir/workspace/RadarLocalization/dataset.py:253: VisibleDeprecationWarning: Creating an ndarray from ragged nested sequences (which is a list-or-tuple of lists-or-tuples-or ndarrays with different lengths or shapes) is deprecated. If you meant to do this, you must specify 'dtype=object' when creating the ndarray\n",
      "  pidx = np.argsort(np.abs(veh_speed[:,0]-ts))[0]\n",
      "/home/kfir/workspace/RadarLocalization/dataset.py:253: VisibleDeprecationWarning: Creating an ndarray from ragged nested sequences (which is a list-or-tuple of lists-or-tuples-or ndarrays with different lengths or shapes) is deprecated. If you meant to do this, you must specify 'dtype=object' when creating the ndarray\n",
      "  pidx = np.argsort(np.abs(veh_speed[:,0]-ts))[0]\n"
     ]
    },
    {
     "name": "stderr",
     "output_type": "stream",
     "text": [
      "/home/kfir/workspace/RadarLocalization/dataset.py:253: VisibleDeprecationWarning: Creating an ndarray from ragged nested sequences (which is a list-or-tuple of lists-or-tuples-or ndarrays with different lengths or shapes) is deprecated. If you meant to do this, you must specify 'dtype=object' when creating the ndarray\n",
      "  pidx = np.argsort(np.abs(veh_speed[:,0]-ts))[0]\n",
      "/home/kfir/workspace/RadarLocalization/dataset.py:253: VisibleDeprecationWarning: Creating an ndarray from ragged nested sequences (which is a list-or-tuple of lists-or-tuples-or ndarrays with different lengths or shapes) is deprecated. If you meant to do this, you must specify 'dtype=object' when creating the ndarray\n",
      "  pidx = np.argsort(np.abs(veh_speed[:,0]-ts))[0]\n",
      "/home/kfir/workspace/RadarLocalization/dataset.py:253: VisibleDeprecationWarning: Creating an ndarray from ragged nested sequences (which is a list-or-tuple of lists-or-tuples-or ndarrays with different lengths or shapes) is deprecated. If you meant to do this, you must specify 'dtype=object' when creating the ndarray\n",
      "  pidx = np.argsort(np.abs(veh_speed[:,0]-ts))[0]\n",
      "/home/kfir/workspace/RadarLocalization/dataset.py:253: VisibleDeprecationWarning: Creating an ndarray from ragged nested sequences (which is a list-or-tuple of lists-or-tuples-or ndarrays with different lengths or shapes) is deprecated. If you meant to do this, you must specify 'dtype=object' when creating the ndarray\n",
      "  pidx = np.argsort(np.abs(veh_speed[:,0]-ts))[0]\n",
      "/home/kfir/workspace/RadarLocalization/dataset.py:253: VisibleDeprecationWarning: Creating an ndarray from ragged nested sequences (which is a list-or-tuple of lists-or-tuples-or ndarrays with different lengths or shapes) is deprecated. If you meant to do this, you must specify 'dtype=object' when creating the ndarray\n",
      "  pidx = np.argsort(np.abs(veh_speed[:,0]-ts))[0]\n",
      "/home/kfir/workspace/RadarLocalization/dataset.py:253: VisibleDeprecationWarning: Creating an ndarray from ragged nested sequences (which is a list-or-tuple of lists-or-tuples-or ndarrays with different lengths or shapes) is deprecated. If you meant to do this, you must specify 'dtype=object' when creating the ndarray\n",
      "  pidx = np.argsort(np.abs(veh_speed[:,0]-ts))[0]\n",
      "/home/kfir/workspace/RadarLocalization/dataset.py:253: VisibleDeprecationWarning: Creating an ndarray from ragged nested sequences (which is a list-or-tuple of lists-or-tuples-or ndarrays with different lengths or shapes) is deprecated. If you meant to do this, you must specify 'dtype=object' when creating the ndarray\n",
      "  pidx = np.argsort(np.abs(veh_speed[:,0]-ts))[0]\n",
      "/home/kfir/workspace/RadarLocalization/dataset.py:253: VisibleDeprecationWarning: Creating an ndarray from ragged nested sequences (which is a list-or-tuple of lists-or-tuples-or ndarrays with different lengths or shapes) is deprecated. If you meant to do this, you must specify 'dtype=object' when creating the ndarray\n",
      "  pidx = np.argsort(np.abs(veh_speed[:,0]-ts))[0]\n",
      "/home/kfir/workspace/RadarLocalization/dataset.py:253: VisibleDeprecationWarning: Creating an ndarray from ragged nested sequences (which is a list-or-tuple of lists-or-tuples-or ndarrays with different lengths or shapes) is deprecated. If you meant to do this, you must specify 'dtype=object' when creating the ndarray\n",
      "  pidx = np.argsort(np.abs(veh_speed[:,0]-ts))[0]\n",
      "/home/kfir/workspace/RadarLocalization/dataset.py:253: VisibleDeprecationWarning: Creating an ndarray from ragged nested sequences (which is a list-or-tuple of lists-or-tuples-or ndarrays with different lengths or shapes) is deprecated. If you meant to do this, you must specify 'dtype=object' when creating the ndarray\n",
      "  pidx = np.argsort(np.abs(veh_speed[:,0]-ts))[0]\n",
      "/home/kfir/workspace/RadarLocalization/dataset.py:253: VisibleDeprecationWarning: Creating an ndarray from ragged nested sequences (which is a list-or-tuple of lists-or-tuples-or ndarrays with different lengths or shapes) is deprecated. If you meant to do this, you must specify 'dtype=object' when creating the ndarray\n",
      "  pidx = np.argsort(np.abs(veh_speed[:,0]-ts))[0]\n",
      "/home/kfir/workspace/RadarLocalization/dataset.py:253: VisibleDeprecationWarning: Creating an ndarray from ragged nested sequences (which is a list-or-tuple of lists-or-tuples-or ndarrays with different lengths or shapes) is deprecated. If you meant to do this, you must specify 'dtype=object' when creating the ndarray\n",
      "  pidx = np.argsort(np.abs(veh_speed[:,0]-ts))[0]\n",
      "/home/kfir/workspace/RadarLocalization/dataset.py:253: VisibleDeprecationWarning: Creating an ndarray from ragged nested sequences (which is a list-or-tuple of lists-or-tuples-or ndarrays with different lengths or shapes) is deprecated. If you meant to do this, you must specify 'dtype=object' when creating the ndarray\n",
      "  pidx = np.argsort(np.abs(veh_speed[:,0]-ts))[0]\n",
      "/home/kfir/workspace/RadarLocalization/dataset.py:253: VisibleDeprecationWarning: Creating an ndarray from ragged nested sequences (which is a list-or-tuple of lists-or-tuples-or ndarrays with different lengths or shapes) is deprecated. If you meant to do this, you must specify 'dtype=object' when creating the ndarray\n",
      "  pidx = np.argsort(np.abs(veh_speed[:,0]-ts))[0]\n",
      "/home/kfir/workspace/RadarLocalization/dataset.py:253: VisibleDeprecationWarning: Creating an ndarray from ragged nested sequences (which is a list-or-tuple of lists-or-tuples-or ndarrays with different lengths or shapes) is deprecated. If you meant to do this, you must specify 'dtype=object' when creating the ndarray\n",
      "  pidx = np.argsort(np.abs(veh_speed[:,0]-ts))[0]\n",
      "/home/kfir/workspace/RadarLocalization/dataset.py:253: VisibleDeprecationWarning: Creating an ndarray from ragged nested sequences (which is a list-or-tuple of lists-or-tuples-or ndarrays with different lengths or shapes) is deprecated. If you meant to do this, you must specify 'dtype=object' when creating the ndarray\n",
      "  pidx = np.argsort(np.abs(veh_speed[:,0]-ts))[0]\n",
      "/home/kfir/.local/lib/python3.6/site-packages/numpy/core/fromnumeric.py:3373: RuntimeWarning: Mean of empty slice.\n",
      "  out=out, **kwargs)\n",
      "/home/kfir/workspace/RadarLocalization/dataset.py:253: VisibleDeprecationWarning: Creating an ndarray from ragged nested sequences (which is a list-or-tuple of lists-or-tuples-or ndarrays with different lengths or shapes) is deprecated. If you meant to do this, you must specify 'dtype=object' when creating the ndarray\n",
      "  pidx = np.argsort(np.abs(veh_speed[:,0]-ts))[0]\n",
      "/home/kfir/.local/lib/python3.6/site-packages/numpy/core/fromnumeric.py:3373: RuntimeWarning: Mean of empty slice.\n",
      "  out=out, **kwargs)\n",
      "/home/kfir/workspace/RadarLocalization/dataset.py:253: VisibleDeprecationWarning: Creating an ndarray from ragged nested sequences (which is a list-or-tuple of lists-or-tuples-or ndarrays with different lengths or shapes) is deprecated. If you meant to do this, you must specify 'dtype=object' when creating the ndarray\n",
      "  pidx = np.argsort(np.abs(veh_speed[:,0]-ts))[0]\n",
      "/home/kfir/.local/lib/python3.6/site-packages/numpy/core/fromnumeric.py:3373: RuntimeWarning: Mean of empty slice.\n",
      "  out=out, **kwargs)\n",
      "/home/kfir/workspace/RadarLocalization/dataset.py:253: VisibleDeprecationWarning: Creating an ndarray from ragged nested sequences (which is a list-or-tuple of lists-or-tuples-or ndarrays with different lengths or shapes) is deprecated. If you meant to do this, you must specify 'dtype=object' when creating the ndarray\n",
      "  pidx = np.argsort(np.abs(veh_speed[:,0]-ts))[0]\n",
      "/home/kfir/workspace/RadarLocalization/dataset.py:253: VisibleDeprecationWarning: Creating an ndarray from ragged nested sequences (which is a list-or-tuple of lists-or-tuples-or ndarrays with different lengths or shapes) is deprecated. If you meant to do this, you must specify 'dtype=object' when creating the ndarray\n",
      "  pidx = np.argsort(np.abs(veh_speed[:,0]-ts))[0]\n",
      "/home/kfir/workspace/RadarLocalization/dataset.py:253: VisibleDeprecationWarning: Creating an ndarray from ragged nested sequences (which is a list-or-tuple of lists-or-tuples-or ndarrays with different lengths or shapes) is deprecated. If you meant to do this, you must specify 'dtype=object' when creating the ndarray\n",
      "  pidx = np.argsort(np.abs(veh_speed[:,0]-ts))[0]\n",
      "/home/kfir/workspace/RadarLocalization/dataset.py:253: VisibleDeprecationWarning: Creating an ndarray from ragged nested sequences (which is a list-or-tuple of lists-or-tuples-or ndarrays with different lengths or shapes) is deprecated. If you meant to do this, you must specify 'dtype=object' when creating the ndarray\n",
      "  pidx = np.argsort(np.abs(veh_speed[:,0]-ts))[0]\n",
      "/home/kfir/workspace/RadarLocalization/dataset.py:253: VisibleDeprecationWarning: Creating an ndarray from ragged nested sequences (which is a list-or-tuple of lists-or-tuples-or ndarrays with different lengths or shapes) is deprecated. If you meant to do this, you must specify 'dtype=object' when creating the ndarray\n",
      "  pidx = np.argsort(np.abs(veh_speed[:,0]-ts))[0]\n"
     ]
    },
    {
     "name": "stderr",
     "output_type": "stream",
     "text": [
      "/home/kfir/workspace/RadarLocalization/dataset.py:253: VisibleDeprecationWarning: Creating an ndarray from ragged nested sequences (which is a list-or-tuple of lists-or-tuples-or ndarrays with different lengths or shapes) is deprecated. If you meant to do this, you must specify 'dtype=object' when creating the ndarray\n",
      "  pidx = np.argsort(np.abs(veh_speed[:,0]-ts))[0]\n",
      "/home/kfir/workspace/RadarLocalization/dataset.py:253: VisibleDeprecationWarning: Creating an ndarray from ragged nested sequences (which is a list-or-tuple of lists-or-tuples-or ndarrays with different lengths or shapes) is deprecated. If you meant to do this, you must specify 'dtype=object' when creating the ndarray\n",
      "  pidx = np.argsort(np.abs(veh_speed[:,0]-ts))[0]\n",
      "/home/kfir/workspace/RadarLocalization/dataset.py:253: VisibleDeprecationWarning: Creating an ndarray from ragged nested sequences (which is a list-or-tuple of lists-or-tuples-or ndarrays with different lengths or shapes) is deprecated. If you meant to do this, you must specify 'dtype=object' when creating the ndarray\n",
      "  pidx = np.argsort(np.abs(veh_speed[:,0]-ts))[0]\n",
      "/home/kfir/workspace/RadarLocalization/dataset.py:253: VisibleDeprecationWarning: Creating an ndarray from ragged nested sequences (which is a list-or-tuple of lists-or-tuples-or ndarrays with different lengths or shapes) is deprecated. If you meant to do this, you must specify 'dtype=object' when creating the ndarray\n",
      "  pidx = np.argsort(np.abs(veh_speed[:,0]-ts))[0]\n",
      "/home/kfir/workspace/RadarLocalization/dataset.py:253: VisibleDeprecationWarning: Creating an ndarray from ragged nested sequences (which is a list-or-tuple of lists-or-tuples-or ndarrays with different lengths or shapes) is deprecated. If you meant to do this, you must specify 'dtype=object' when creating the ndarray\n",
      "  pidx = np.argsort(np.abs(veh_speed[:,0]-ts))[0]\n",
      "/home/kfir/workspace/RadarLocalization/dataset.py:253: VisibleDeprecationWarning: Creating an ndarray from ragged nested sequences (which is a list-or-tuple of lists-or-tuples-or ndarrays with different lengths or shapes) is deprecated. If you meant to do this, you must specify 'dtype=object' when creating the ndarray\n",
      "  pidx = np.argsort(np.abs(veh_speed[:,0]-ts))[0]\n",
      "/home/kfir/workspace/RadarLocalization/dataset.py:253: VisibleDeprecationWarning: Creating an ndarray from ragged nested sequences (which is a list-or-tuple of lists-or-tuples-or ndarrays with different lengths or shapes) is deprecated. If you meant to do this, you must specify 'dtype=object' when creating the ndarray\n",
      "  pidx = np.argsort(np.abs(veh_speed[:,0]-ts))[0]\n",
      "/home/kfir/workspace/RadarLocalization/dataset.py:253: VisibleDeprecationWarning: Creating an ndarray from ragged nested sequences (which is a list-or-tuple of lists-or-tuples-or ndarrays with different lengths or shapes) is deprecated. If you meant to do this, you must specify 'dtype=object' when creating the ndarray\n",
      "  pidx = np.argsort(np.abs(veh_speed[:,0]-ts))[0]\n",
      "/home/kfir/workspace/RadarLocalization/dataset.py:253: VisibleDeprecationWarning: Creating an ndarray from ragged nested sequences (which is a list-or-tuple of lists-or-tuples-or ndarrays with different lengths or shapes) is deprecated. If you meant to do this, you must specify 'dtype=object' when creating the ndarray\n",
      "  pidx = np.argsort(np.abs(veh_speed[:,0]-ts))[0]\n",
      "/home/kfir/workspace/RadarLocalization/dataset.py:253: VisibleDeprecationWarning: Creating an ndarray from ragged nested sequences (which is a list-or-tuple of lists-or-tuples-or ndarrays with different lengths or shapes) is deprecated. If you meant to do this, you must specify 'dtype=object' when creating the ndarray\n",
      "  pidx = np.argsort(np.abs(veh_speed[:,0]-ts))[0]\n",
      "/home/kfir/workspace/RadarLocalization/dataset.py:253: VisibleDeprecationWarning: Creating an ndarray from ragged nested sequences (which is a list-or-tuple of lists-or-tuples-or ndarrays with different lengths or shapes) is deprecated. If you meant to do this, you must specify 'dtype=object' when creating the ndarray\n",
      "  pidx = np.argsort(np.abs(veh_speed[:,0]-ts))[0]\n",
      "/home/kfir/workspace/RadarLocalization/dataset.py:253: VisibleDeprecationWarning: Creating an ndarray from ragged nested sequences (which is a list-or-tuple of lists-or-tuples-or ndarrays with different lengths or shapes) is deprecated. If you meant to do this, you must specify 'dtype=object' when creating the ndarray\n",
      "  pidx = np.argsort(np.abs(veh_speed[:,0]-ts))[0]\n",
      "/home/kfir/workspace/RadarLocalization/dataset.py:253: VisibleDeprecationWarning: Creating an ndarray from ragged nested sequences (which is a list-or-tuple of lists-or-tuples-or ndarrays with different lengths or shapes) is deprecated. If you meant to do this, you must specify 'dtype=object' when creating the ndarray\n",
      "  pidx = np.argsort(np.abs(veh_speed[:,0]-ts))[0]\n",
      "/home/kfir/workspace/RadarLocalization/dataset.py:253: VisibleDeprecationWarning: Creating an ndarray from ragged nested sequences (which is a list-or-tuple of lists-or-tuples-or ndarrays with different lengths or shapes) is deprecated. If you meant to do this, you must specify 'dtype=object' when creating the ndarray\n",
      "  pidx = np.argsort(np.abs(veh_speed[:,0]-ts))[0]\n",
      "/home/kfir/workspace/RadarLocalization/dataset.py:253: VisibleDeprecationWarning: Creating an ndarray from ragged nested sequences (which is a list-or-tuple of lists-or-tuples-or ndarrays with different lengths or shapes) is deprecated. If you meant to do this, you must specify 'dtype=object' when creating the ndarray\n",
      "  pidx = np.argsort(np.abs(veh_speed[:,0]-ts))[0]\n",
      "/home/kfir/workspace/RadarLocalization/dataset.py:253: VisibleDeprecationWarning: Creating an ndarray from ragged nested sequences (which is a list-or-tuple of lists-or-tuples-or ndarrays with different lengths or shapes) is deprecated. If you meant to do this, you must specify 'dtype=object' when creating the ndarray\n",
      "  pidx = np.argsort(np.abs(veh_speed[:,0]-ts))[0]\n",
      "/home/kfir/workspace/RadarLocalization/dataset.py:253: VisibleDeprecationWarning: Creating an ndarray from ragged nested sequences (which is a list-or-tuple of lists-or-tuples-or ndarrays with different lengths or shapes) is deprecated. If you meant to do this, you must specify 'dtype=object' when creating the ndarray\n",
      "  pidx = np.argsort(np.abs(veh_speed[:,0]-ts))[0]\n",
      "/home/kfir/workspace/RadarLocalization/dataset.py:253: VisibleDeprecationWarning: Creating an ndarray from ragged nested sequences (which is a list-or-tuple of lists-or-tuples-or ndarrays with different lengths or shapes) is deprecated. If you meant to do this, you must specify 'dtype=object' when creating the ndarray\n",
      "  pidx = np.argsort(np.abs(veh_speed[:,0]-ts))[0]\n",
      "/home/kfir/workspace/RadarLocalization/dataset.py:253: VisibleDeprecationWarning: Creating an ndarray from ragged nested sequences (which is a list-or-tuple of lists-or-tuples-or ndarrays with different lengths or shapes) is deprecated. If you meant to do this, you must specify 'dtype=object' when creating the ndarray\n",
      "  pidx = np.argsort(np.abs(veh_speed[:,0]-ts))[0]\n",
      "/home/kfir/workspace/RadarLocalization/dataset.py:253: VisibleDeprecationWarning: Creating an ndarray from ragged nested sequences (which is a list-or-tuple of lists-or-tuples-or ndarrays with different lengths or shapes) is deprecated. If you meant to do this, you must specify 'dtype=object' when creating the ndarray\n",
      "  pidx = np.argsort(np.abs(veh_speed[:,0]-ts))[0]\n",
      "/home/kfir/workspace/RadarLocalization/dataset.py:253: VisibleDeprecationWarning: Creating an ndarray from ragged nested sequences (which is a list-or-tuple of lists-or-tuples-or ndarrays with different lengths or shapes) is deprecated. If you meant to do this, you must specify 'dtype=object' when creating the ndarray\n",
      "  pidx = np.argsort(np.abs(veh_speed[:,0]-ts))[0]\n",
      "/home/kfir/workspace/RadarLocalization/dataset.py:253: VisibleDeprecationWarning: Creating an ndarray from ragged nested sequences (which is a list-or-tuple of lists-or-tuples-or ndarrays with different lengths or shapes) is deprecated. If you meant to do this, you must specify 'dtype=object' when creating the ndarray\n",
      "  pidx = np.argsort(np.abs(veh_speed[:,0]-ts))[0]\n",
      "/home/kfir/workspace/RadarLocalization/dataset.py:253: VisibleDeprecationWarning: Creating an ndarray from ragged nested sequences (which is a list-or-tuple of lists-or-tuples-or ndarrays with different lengths or shapes) is deprecated. If you meant to do this, you must specify 'dtype=object' when creating the ndarray\n",
      "  pidx = np.argsort(np.abs(veh_speed[:,0]-ts))[0]\n"
     ]
    },
    {
     "name": "stderr",
     "output_type": "stream",
     "text": [
      "/home/kfir/workspace/RadarLocalization/dataset.py:253: VisibleDeprecationWarning: Creating an ndarray from ragged nested sequences (which is a list-or-tuple of lists-or-tuples-or ndarrays with different lengths or shapes) is deprecated. If you meant to do this, you must specify 'dtype=object' when creating the ndarray\n",
      "  pidx = np.argsort(np.abs(veh_speed[:,0]-ts))[0]\n",
      "/home/kfir/workspace/RadarLocalization/dataset.py:253: VisibleDeprecationWarning: Creating an ndarray from ragged nested sequences (which is a list-or-tuple of lists-or-tuples-or ndarrays with different lengths or shapes) is deprecated. If you meant to do this, you must specify 'dtype=object' when creating the ndarray\n",
      "  pidx = np.argsort(np.abs(veh_speed[:,0]-ts))[0]\n",
      "/home/kfir/workspace/RadarLocalization/dataset.py:253: VisibleDeprecationWarning: Creating an ndarray from ragged nested sequences (which is a list-or-tuple of lists-or-tuples-or ndarrays with different lengths or shapes) is deprecated. If you meant to do this, you must specify 'dtype=object' when creating the ndarray\n",
      "  pidx = np.argsort(np.abs(veh_speed[:,0]-ts))[0]\n",
      "/home/kfir/workspace/RadarLocalization/dataset.py:253: VisibleDeprecationWarning: Creating an ndarray from ragged nested sequences (which is a list-or-tuple of lists-or-tuples-or ndarrays with different lengths or shapes) is deprecated. If you meant to do this, you must specify 'dtype=object' when creating the ndarray\n",
      "  pidx = np.argsort(np.abs(veh_speed[:,0]-ts))[0]\n",
      "/home/kfir/workspace/RadarLocalization/dataset.py:253: VisibleDeprecationWarning: Creating an ndarray from ragged nested sequences (which is a list-or-tuple of lists-or-tuples-or ndarrays with different lengths or shapes) is deprecated. If you meant to do this, you must specify 'dtype=object' when creating the ndarray\n",
      "  pidx = np.argsort(np.abs(veh_speed[:,0]-ts))[0]\n"
     ]
    },
    {
     "data": {
      "image/png": "[encoded data removed]",
      "text/plain": [
       "<matplotlib.figure.Figure at 0x7f6998368da0>"
      ]
     },
     "metadata": {},
     "output_type": "display_data"
    }
   ],
   "source": [
    "from sklearn.cluster import DBSCAN\n",
    "\n",
    "fig, ax = plt.subplots(1,1,figsize=(15,10))\n",
    "colors = ['blue','orange','green','red','black','pink','yellow','purple',\"brown\",\"firebrick\",\"coral\",\"lime\",\n",
    "                      \"wheat\", \"yellowgreen\", \"lightyellow\", \"skyblue\", \"cyan\", \"chocolate\", \"maroon\", \"peru\", \"blueviolet\"]\n",
    "\n",
    "for t in range(0,800):\n",
    "    pc = dataset.getDynamicPoints(t)\n",
    "    pc = np.squeeze(pc[np.where(pc[:,3]==0) or np.where(pc[:,3]==2) or np.where(pc[:,3]==6), :], axis=0)\n",
    "    if pc.shape[0] < 1:\n",
    "        continue\n",
    "    clus = DBSCAN(eps=2, min_samples=2).fit(pc[:,0:2])\n",
    "    c = clus.labels_\n",
    "    n_clusters = np.unique(c)\n",
    "    for i in range(len(n_clusters)):\n",
    "        if c[i] == -1:\n",
    "            continue\n",
    "        x_com = pc[c==i,0]\n",
    "        y_com = pc[c==i,1]\n",
    "        vx_com = np.mean(pc[c==i,8])\n",
    "        vy_com = np.mean(pc[c==i,9])\n",
    "        v_comp = np.sqrt(vx_com**2 + vy_com**2)\n",
    "        if v_comp > 3:\n",
    "            color = int(np.round(v_comp) % 17)\n",
    "            ax.scatter(x_com, y_com, s=10, c=colors[color])"
   ]
  },
  {
   "cell_type": "code",
   "execution_count": 170,
   "id": "bb2056e9",
   "metadata": {},
   "outputs": [],
   "source": [
    "from sklearn.cluster import DBSCAN\n",
    "import numpy as np\n",
    "\n",
    "def runClustering(pc):\n",
    "    X_list = []\n",
    "    P_list = []\n",
    "    \n",
    "    if pc.shape[0] < 1:\n",
    "        return X_list, P_list\n",
    "    clus = DBSCAN(eps=3, min_samples=2).fit(pc[:,0:2])\n",
    "    c = clus.labels_\n",
    "    n_clusters = np.unique(c)\n",
    "    for i in n_clusters:\n",
    "        if i == -1:\n",
    "            continue\n",
    "\n",
    "        ci = pc[c==i, :]\n",
    "        x_com = np.mean(ci[:,0])\n",
    "        y_com = np.mean(ci[:,1])\n",
    "        vx_com = -1*np.mean(ci[:,8])\n",
    "        vy_com = 1*np.mean(ci[:,9])\n",
    "        v_comp = np.sqrt(vx_com**2 + vy_com**2)\n",
    "        if v_comp < 2:\n",
    "            continue\n",
    "        x_var = np.var(ci[:,0]) + 1\n",
    "        y_var = np.var(ci[:,1]) + 1\n",
    "        vx_var = np.var(ci[:,8]) + 1\n",
    "        vy_var = np.var(ci[:,9]) + 1\n",
    "        X = np.array([x_com, y_com, vx_com, vy_com])\n",
    "        P = np.diag([x_var, y_var, vx_var, vy_var])\n",
    "        X_list.append(X)\n",
    "        P_list.append(P)\n",
    "        \n",
    "    return X_list, P_list"
   ]
  },
  {
   "cell_type": "code",
   "execution_count": 184,
   "id": "3334ed36",
   "metadata": {},
   "outputs": [
    {
     "name": "stderr",
     "output_type": "stream",
     "text": [
      "/home/kfir/workspace/RadarLocalization/dataset.py:254: VisibleDeprecationWarning: Creating an ndarray from ragged nested sequences (which is a list-or-tuple of lists-or-tuples-or ndarrays with different lengths or shapes) is deprecated. If you meant to do this, you must specify 'dtype=object' when creating the ndarray\n",
      "  veh_speed = np.array([(m['utime'], m['vel']) for m in self.veh_pose])\n",
      "/home/kfir/workspace/RadarLocalization/dataset.py:254: VisibleDeprecationWarning: Creating an ndarray from ragged nested sequences (which is a list-or-tuple of lists-or-tuples-or ndarrays with different lengths or shapes) is deprecated. If you meant to do this, you must specify 'dtype=object' when creating the ndarray\n",
      "  veh_speed = np.array([(m['utime'], m['vel']) for m in self.veh_pose])\n"
     ]
    },
    {
     "name": "stdout",
     "output_type": "stream",
     "text": [
      "Number of new plots 1\n",
      "Number of dynamic tracks before run() 0\n",
      "Initiating new track: x=[251.82635509 689.33273911 -11.25447893   1.66170973   0.\n",
      "   0.        ]\n",
      "Number of new plots 1\n",
      "Number of dynamic tracks before run() 1\n",
      "Updating track = 0 z = [249.42298957 689.91663665 -11.24165201   1.70571595]\n"
     ]
    },
    {
     "name": "stderr",
     "output_type": "stream",
     "text": [
      "/home/kfir/workspace/RadarLocalization/dataset.py:254: VisibleDeprecationWarning: Creating an ndarray from ragged nested sequences (which is a list-or-tuple of lists-or-tuples-or ndarrays with different lengths or shapes) is deprecated. If you meant to do this, you must specify 'dtype=object' when creating the ndarray\n",
      "  veh_speed = np.array([(m['utime'], m['vel']) for m in self.veh_pose])\n",
      "/home/kfir/workspace/RadarLocalization/dataset.py:254: VisibleDeprecationWarning: Creating an ndarray from ragged nested sequences (which is a list-or-tuple of lists-or-tuples-or ndarrays with different lengths or shapes) is deprecated. If you meant to do this, you must specify 'dtype=object' when creating the ndarray\n",
      "  veh_speed = np.array([(m['utime'], m['vel']) for m in self.veh_pose])\n"
     ]
    },
    {
     "name": "stdout",
     "output_type": "stream",
     "text": [
      "Number of new plots 1\n",
      "Number of dynamic tracks before run() 1\n",
      "Updating track = 0 z = [248.34486381 689.69107926 -11.26830959   1.81629834]\n",
      "Number of new plots 1\n",
      "Number of dynamic tracks before run() 1\n",
      "Updating track = 0 z = [247.8198272  690.30317883 -11.47629833   1.77177835]\n"
     ]
    },
    {
     "name": "stderr",
     "output_type": "stream",
     "text": [
      "/home/kfir/workspace/RadarLocalization/dataset.py:254: VisibleDeprecationWarning: Creating an ndarray from ragged nested sequences (which is a list-or-tuple of lists-or-tuples-or ndarrays with different lengths or shapes) is deprecated. If you meant to do this, you must specify 'dtype=object' when creating the ndarray\n",
      "  veh_speed = np.array([(m['utime'], m['vel']) for m in self.veh_pose])\n",
      "/home/kfir/workspace/RadarLocalization/dataset.py:254: VisibleDeprecationWarning: Creating an ndarray from ragged nested sequences (which is a list-or-tuple of lists-or-tuples-or ndarrays with different lengths or shapes) is deprecated. If you meant to do this, you must specify 'dtype=object' when creating the ndarray\n",
      "  veh_speed = np.array([(m['utime'], m['vel']) for m in self.veh_pose])\n"
     ]
    },
    {
     "name": "stdout",
     "output_type": "stream",
     "text": [
      "Number of new plots 1\n",
      "Number of dynamic tracks before run() 1\n",
      "Updating track = 0 z = [247.01376019 690.27289639 -11.45893192   1.82456553]\n",
      "Number of new plots 1\n",
      "Number of dynamic tracks before run() 1\n",
      "Updating track = 0 z = [246.2629432  690.77767244 -11.71566248   1.81969053]\n"
     ]
    },
    {
     "name": "stderr",
     "output_type": "stream",
     "text": [
      "/home/kfir/workspace/RadarLocalization/dataset.py:254: VisibleDeprecationWarning: Creating an ndarray from ragged nested sequences (which is a list-or-tuple of lists-or-tuples-or ndarrays with different lengths or shapes) is deprecated. If you meant to do this, you must specify 'dtype=object' when creating the ndarray\n",
      "  veh_speed = np.array([(m['utime'], m['vel']) for m in self.veh_pose])\n",
      "/home/kfir/workspace/RadarLocalization/dataset.py:254: VisibleDeprecationWarning: Creating an ndarray from ragged nested sequences (which is a list-or-tuple of lists-or-tuples-or ndarrays with different lengths or shapes) is deprecated. If you meant to do this, you must specify 'dtype=object' when creating the ndarray\n",
      "  veh_speed = np.array([(m['utime'], m['vel']) for m in self.veh_pose])\n"
     ]
    },
    {
     "name": "stdout",
     "output_type": "stream",
     "text": [
      "Number of new plots 1\n",
      "Number of dynamic tracks before run() 1\n",
      "Updating track = 0 z = [244.6313431  691.18285248 -11.70845286   1.84478068]\n",
      "Number of new plots 1\n",
      "Number of dynamic tracks before run() 1\n",
      "Updating track = 0 z = [243.80627566 691.61958333 -11.71601899   1.82021046]\n"
     ]
    },
    {
     "name": "stderr",
     "output_type": "stream",
     "text": [
      "/home/kfir/workspace/RadarLocalization/dataset.py:254: VisibleDeprecationWarning: Creating an ndarray from ragged nested sequences (which is a list-or-tuple of lists-or-tuples-or ndarrays with different lengths or shapes) is deprecated. If you meant to do this, you must specify 'dtype=object' when creating the ndarray\n",
      "  veh_speed = np.array([(m['utime'], m['vel']) for m in self.veh_pose])\n",
      "/home/kfir/workspace/RadarLocalization/dataset.py:254: VisibleDeprecationWarning: Creating an ndarray from ragged nested sequences (which is a list-or-tuple of lists-or-tuples-or ndarrays with different lengths or shapes) is deprecated. If you meant to do this, you must specify 'dtype=object' when creating the ndarray\n",
      "  veh_speed = np.array([(m['utime'], m['vel']) for m in self.veh_pose])\n"
     ]
    },
    {
     "name": "stdout",
     "output_type": "stream",
     "text": [
      "Number of new plots 0\n",
      "Number of dynamic tracks before run() 1\n",
      "Number of new plots 1\n",
      "Number of dynamic tracks before run() 1\n",
      "Updating track = 0 z = [241.85317034 691.62711513 -11.68243885   1.92487514]\n"
     ]
    },
    {
     "name": "stderr",
     "output_type": "stream",
     "text": [
      "/home/kfir/workspace/RadarLocalization/dataset.py:254: VisibleDeprecationWarning: Creating an ndarray from ragged nested sequences (which is a list-or-tuple of lists-or-tuples-or ndarrays with different lengths or shapes) is deprecated. If you meant to do this, you must specify 'dtype=object' when creating the ndarray\n",
      "  veh_speed = np.array([(m['utime'], m['vel']) for m in self.veh_pose])\n",
      "/home/kfir/workspace/RadarLocalization/dataset.py:254: VisibleDeprecationWarning: Creating an ndarray from ragged nested sequences (which is a list-or-tuple of lists-or-tuples-or ndarrays with different lengths or shapes) is deprecated. If you meant to do this, you must specify 'dtype=object' when creating the ndarray\n",
      "  veh_speed = np.array([(m['utime'], m['vel']) for m in self.veh_pose])\n"
     ]
    },
    {
     "name": "stdout",
     "output_type": "stream",
     "text": [
      "Number of new plots 0\n",
      "Number of dynamic tracks before run() 1\n",
      "Number of new plots 0\n",
      "Number of dynamic tracks before run() 1\n"
     ]
    },
    {
     "name": "stderr",
     "output_type": "stream",
     "text": [
      "/home/kfir/workspace/RadarLocalization/dataset.py:254: VisibleDeprecationWarning: Creating an ndarray from ragged nested sequences (which is a list-or-tuple of lists-or-tuples-or ndarrays with different lengths or shapes) is deprecated. If you meant to do this, you must specify 'dtype=object' when creating the ndarray\n",
      "  veh_speed = np.array([(m['utime'], m['vel']) for m in self.veh_pose])\n",
      "/home/kfir/workspace/RadarLocalization/dataset.py:254: VisibleDeprecationWarning: Creating an ndarray from ragged nested sequences (which is a list-or-tuple of lists-or-tuples-or ndarrays with different lengths or shapes) is deprecated. If you meant to do this, you must specify 'dtype=object' when creating the ndarray\n",
      "  veh_speed = np.array([(m['utime'], m['vel']) for m in self.veh_pose])\n"
     ]
    },
    {
     "name": "stdout",
     "output_type": "stream",
     "text": [
      "Number of new plots 0\n",
      "Number of dynamic tracks before run() 1\n",
      "Number of new plots 1\n",
      "Number of dynamic tracks before run() 1\n",
      "Updating track = 0 z = [237.53299212 692.64379058 -11.90518236   2.02478588]\n"
     ]
    },
    {
     "name": "stderr",
     "output_type": "stream",
     "text": [
      "/home/kfir/workspace/RadarLocalization/dataset.py:254: VisibleDeprecationWarning: Creating an ndarray from ragged nested sequences (which is a list-or-tuple of lists-or-tuples-or ndarrays with different lengths or shapes) is deprecated. If you meant to do this, you must specify 'dtype=object' when creating the ndarray\n",
      "  veh_speed = np.array([(m['utime'], m['vel']) for m in self.veh_pose])\n",
      "/home/kfir/workspace/RadarLocalization/dataset.py:254: VisibleDeprecationWarning: Creating an ndarray from ragged nested sequences (which is a list-or-tuple of lists-or-tuples-or ndarrays with different lengths or shapes) is deprecated. If you meant to do this, you must specify 'dtype=object' when creating the ndarray\n",
      "  veh_speed = np.array([(m['utime'], m['vel']) for m in self.veh_pose])\n"
     ]
    },
    {
     "name": "stdout",
     "output_type": "stream",
     "text": [
      "Number of new plots 1\n",
      "Number of dynamic tracks before run() 1\n",
      "Updating track = 0 z = [237.00601988 693.14492232 -11.92125511   1.97755545]\n",
      "Number of new plots 1\n",
      "Number of dynamic tracks before run() 1\n",
      "Updating track = 0 z = [236.0073979  693.9655674  -12.10990143   1.92779446]\n"
     ]
    },
    {
     "name": "stderr",
     "output_type": "stream",
     "text": [
      "/home/kfir/workspace/RadarLocalization/dataset.py:254: VisibleDeprecationWarning: Creating an ndarray from ragged nested sequences (which is a list-or-tuple of lists-or-tuples-or ndarrays with different lengths or shapes) is deprecated. If you meant to do this, you must specify 'dtype=object' when creating the ndarray\n",
      "  veh_speed = np.array([(m['utime'], m['vel']) for m in self.veh_pose])\n",
      "/home/kfir/workspace/RadarLocalization/dataset.py:254: VisibleDeprecationWarning: Creating an ndarray from ragged nested sequences (which is a list-or-tuple of lists-or-tuples-or ndarrays with different lengths or shapes) is deprecated. If you meant to do this, you must specify 'dtype=object' when creating the ndarray\n",
      "  veh_speed = np.array([(m['utime'], m['vel']) for m in self.veh_pose])\n"
     ]
    },
    {
     "name": "stdout",
     "output_type": "stream",
     "text": [
      "Number of new plots 1\n",
      "Number of dynamic tracks before run() 1\n",
      "Updating track = 0 z = [235.50446216 694.15495891 -12.10977777   1.92446788]\n",
      "Number of new plots 1\n",
      "Number of dynamic tracks before run() 1\n",
      "Updating track = 0 z = [234.66548028 694.70718501 -12.20505524   1.89805996]\n"
     ]
    },
    {
     "name": "stderr",
     "output_type": "stream",
     "text": [
      "/home/kfir/workspace/RadarLocalization/dataset.py:254: VisibleDeprecationWarning: Creating an ndarray from ragged nested sequences (which is a list-or-tuple of lists-or-tuples-or ndarrays with different lengths or shapes) is deprecated. If you meant to do this, you must specify 'dtype=object' when creating the ndarray\n",
      "  veh_speed = np.array([(m['utime'], m['vel']) for m in self.veh_pose])\n",
      "/home/kfir/workspace/RadarLocalization/dataset.py:254: VisibleDeprecationWarning: Creating an ndarray from ragged nested sequences (which is a list-or-tuple of lists-or-tuples-or ndarrays with different lengths or shapes) is deprecated. If you meant to do this, you must specify 'dtype=object' when creating the ndarray\n",
      "  veh_speed = np.array([(m['utime'], m['vel']) for m in self.veh_pose])\n"
     ]
    },
    {
     "name": "stdout",
     "output_type": "stream",
     "text": [
      "Number of new plots 0\n",
      "Number of dynamic tracks before run() 1\n",
      "Number of new plots 0\n",
      "Number of dynamic tracks before run() 1\n",
      "Number of new plots 0\n",
      "Number of dynamic tracks before run() 1\n",
      "Number of new plots 1\n",
      "Number of dynamic tracks before run() 1\n",
      "Updating track = 0 z = [229.59317191 696.01422886 -12.18555784   1.95728624]\n"
     ]
    },
    {
     "name": "stderr",
     "output_type": "stream",
     "text": [
      "/home/kfir/workspace/RadarLocalization/dataset.py:254: VisibleDeprecationWarning: Creating an ndarray from ragged nested sequences (which is a list-or-tuple of lists-or-tuples-or ndarrays with different lengths or shapes) is deprecated. If you meant to do this, you must specify 'dtype=object' when creating the ndarray\n",
      "  veh_speed = np.array([(m['utime'], m['vel']) for m in self.veh_pose])\n",
      "/home/kfir/workspace/RadarLocalization/dataset.py:254: VisibleDeprecationWarning: Creating an ndarray from ragged nested sequences (which is a list-or-tuple of lists-or-tuples-or ndarrays with different lengths or shapes) is deprecated. If you meant to do this, you must specify 'dtype=object' when creating the ndarray\n",
      "  veh_speed = np.array([(m['utime'], m['vel']) for m in self.veh_pose])\n"
     ]
    },
    {
     "name": "stdout",
     "output_type": "stream",
     "text": [
      "Number of new plots 1\n",
      "Number of dynamic tracks before run() 1\n",
      "Updating track = 0 z = [229.24811172 696.64708848 -12.20907164   1.88464642]\n",
      "Number of new plots 1\n",
      "Number of dynamic tracks before run() 1\n",
      "Updating track = 0 z = [227.68384853 696.67903501 -12.18664384   1.95414016]\n"
     ]
    },
    {
     "name": "stderr",
     "output_type": "stream",
     "text": [
      "/home/kfir/workspace/RadarLocalization/dataset.py:254: VisibleDeprecationWarning: Creating an ndarray from ragged nested sequences (which is a list-or-tuple of lists-or-tuples-or ndarrays with different lengths or shapes) is deprecated. If you meant to do this, you must specify 'dtype=object' when creating the ndarray\n",
      "  veh_speed = np.array([(m['utime'], m['vel']) for m in self.veh_pose])\n",
      "/home/kfir/workspace/RadarLocalization/dataset.py:254: VisibleDeprecationWarning: Creating an ndarray from ragged nested sequences (which is a list-or-tuple of lists-or-tuples-or ndarrays with different lengths or shapes) is deprecated. If you meant to do this, you must specify 'dtype=object' when creating the ndarray\n",
      "  veh_speed = np.array([(m['utime'], m['vel']) for m in self.veh_pose])\n"
     ]
    },
    {
     "name": "stdout",
     "output_type": "stream",
     "text": [
      "Number of new plots 0\n",
      "Number of dynamic tracks before run() 1\n",
      "Number of new plots 0\n",
      "Number of dynamic tracks before run() 1\n",
      "Number of new plots 1\n",
      "Number of dynamic tracks before run() 1\n",
      "Initiating new track: x=[ 2.28132968e+02  7.10428597e+02 -1.22491469e+01  9.78653543e-02\n",
      "  0.00000000e+00  0.00000000e+00]\n",
      "Number of new plots 1\n",
      "Number of dynamic tracks before run() 2\n",
      "Updating track = 1 z = [ 2.27014935e+02  7.10449689e+02 -1.24977221e+01  1.69062451e-01]\n"
     ]
    },
    {
     "name": "stderr",
     "output_type": "stream",
     "text": [
      "/home/kfir/workspace/RadarLocalization/dataset.py:254: VisibleDeprecationWarning: Creating an ndarray from ragged nested sequences (which is a list-or-tuple of lists-or-tuples-or ndarrays with different lengths or shapes) is deprecated. If you meant to do this, you must specify 'dtype=object' when creating the ndarray\n",
      "  veh_speed = np.array([(m['utime'], m['vel']) for m in self.veh_pose])\n",
      "/home/kfir/workspace/RadarLocalization/dataset.py:254: VisibleDeprecationWarning: Creating an ndarray from ragged nested sequences (which is a list-or-tuple of lists-or-tuples-or ndarrays with different lengths or shapes) is deprecated. If you meant to do this, you must specify 'dtype=object' when creating the ndarray\n",
      "  veh_speed = np.array([(m['utime'], m['vel']) for m in self.veh_pose])\n"
     ]
    },
    {
     "name": "stdout",
     "output_type": "stream",
     "text": [
      "Number of new plots 2\n",
      "Number of dynamic tracks before run() 2\n",
      "Updating track = 1 z = [ 2.26078254e+02  7.10601094e+02 -1.23714685e+01  2.06830628e-01]\n",
      "Initiating new track: x=[223.5347004  699.52689972 -12.3671279    1.78277987   0.\n",
      "   0.        ]\n",
      "Number of new plots 1\n",
      "Number of dynamic tracks before run() 3\n",
      "Updating track = 0 z = [221.5930399  698.62444258 -12.42671633   2.00539607]\n"
     ]
    },
    {
     "name": "stderr",
     "output_type": "stream",
     "text": [
      "/home/kfir/workspace/RadarLocalization/dataset.py:254: VisibleDeprecationWarning: Creating an ndarray from ragged nested sequences (which is a list-or-tuple of lists-or-tuples-or ndarrays with different lengths or shapes) is deprecated. If you meant to do this, you must specify 'dtype=object' when creating the ndarray\n",
      "  veh_speed = np.array([(m['utime'], m['vel']) for m in self.veh_pose])\n",
      "/home/kfir/workspace/RadarLocalization/dataset.py:254: VisibleDeprecationWarning: Creating an ndarray from ragged nested sequences (which is a list-or-tuple of lists-or-tuples-or ndarrays with different lengths or shapes) is deprecated. If you meant to do this, you must specify 'dtype=object' when creating the ndarray\n",
      "  veh_speed = np.array([(m['utime'], m['vel']) for m in self.veh_pose])\n"
     ]
    },
    {
     "name": "stdout",
     "output_type": "stream",
     "text": [
      "Number of new plots 1\n",
      "Number of dynamic tracks before run() 3\n",
      "Updating track = 0 z = [221.20164933 699.16938639 -12.44338083   1.95183074]\n",
      "Number of new plots 1\n",
      "Number of dynamic tracks before run() 3\n",
      "Updating track = 0 z = [219.73872805 699.82337135 -12.44972897   1.9324854 ]\n"
     ]
    },
    {
     "name": "stderr",
     "output_type": "stream",
     "text": [
      "/home/kfir/workspace/RadarLocalization/dataset.py:254: VisibleDeprecationWarning: Creating an ndarray from ragged nested sequences (which is a list-or-tuple of lists-or-tuples-or ndarrays with different lengths or shapes) is deprecated. If you meant to do this, you must specify 'dtype=object' when creating the ndarray\n",
      "  veh_speed = np.array([(m['utime'], m['vel']) for m in self.veh_pose])\n",
      "/home/kfir/workspace/RadarLocalization/dataset.py:254: VisibleDeprecationWarning: Creating an ndarray from ragged nested sequences (which is a list-or-tuple of lists-or-tuples-or ndarrays with different lengths or shapes) is deprecated. If you meant to do this, you must specify 'dtype=object' when creating the ndarray\n",
      "  veh_speed = np.array([(m['utime'], m['vel']) for m in self.veh_pose])\n"
     ]
    },
    {
     "name": "stdout",
     "output_type": "stream",
     "text": [
      "Number of new plots 1\n",
      "Number of dynamic tracks before run() 3\n",
      "Updating track = 0 z = [219.24698046 699.88928428 -12.44509443   1.94505858]\n",
      "Number of new plots 1\n",
      "Number of dynamic tracks before run() 3\n",
      "Updating track = 0 z = [218.31581693 699.54945345 -12.41823928   2.02450816]\n"
     ]
    },
    {
     "name": "stderr",
     "output_type": "stream",
     "text": [
      "/home/kfir/workspace/RadarLocalization/dataset.py:254: VisibleDeprecationWarning: Creating an ndarray from ragged nested sequences (which is a list-or-tuple of lists-or-tuples-or ndarrays with different lengths or shapes) is deprecated. If you meant to do this, you must specify 'dtype=object' when creating the ndarray\n",
      "  veh_speed = np.array([(m['utime'], m['vel']) for m in self.veh_pose])\n",
      "/home/kfir/workspace/RadarLocalization/dataset.py:254: VisibleDeprecationWarning: Creating an ndarray from ragged nested sequences (which is a list-or-tuple of lists-or-tuples-or ndarrays with different lengths or shapes) is deprecated. If you meant to do this, you must specify 'dtype=object' when creating the ndarray\n",
      "  veh_speed = np.array([(m['utime'], m['vel']) for m in self.veh_pose])\n"
     ]
    },
    {
     "name": "stdout",
     "output_type": "stream",
     "text": [
      "Number of new plots 1\n",
      "Number of dynamic tracks before run() 3\n",
      "Updating track = 0 z = [218.05521942 700.70110361 -12.4625206    1.89418405]\n",
      "Number of new plots 0\n",
      "Number of dynamic tracks before run() 1\n"
     ]
    },
    {
     "name": "stderr",
     "output_type": "stream",
     "text": [
      "/home/kfir/workspace/RadarLocalization/dataset.py:254: VisibleDeprecationWarning: Creating an ndarray from ragged nested sequences (which is a list-or-tuple of lists-or-tuples-or ndarrays with different lengths or shapes) is deprecated. If you meant to do this, you must specify 'dtype=object' when creating the ndarray\n",
      "  veh_speed = np.array([(m['utime'], m['vel']) for m in self.veh_pose])\n",
      "/home/kfir/workspace/RadarLocalization/dataset.py:254: VisibleDeprecationWarning: Creating an ndarray from ragged nested sequences (which is a list-or-tuple of lists-or-tuples-or ndarrays with different lengths or shapes) is deprecated. If you meant to do this, you must specify 'dtype=object' when creating the ndarray\n",
      "  veh_speed = np.array([(m['utime'], m['vel']) for m in self.veh_pose])\n"
     ]
    },
    {
     "name": "stdout",
     "output_type": "stream",
     "text": [
      "Number of new plots 1\n",
      "Number of dynamic tracks before run() 1\n",
      "Updating track = 0 z = [213.81038109 701.00103973 -12.41791773   2.03084087]\n",
      "Number of new plots 1\n",
      "Number of dynamic tracks before run() 1\n",
      "Updating track = 0 z = [212.89391764 701.40583942 -12.42206955   2.01861703]\n"
     ]
    },
    {
     "name": "stderr",
     "output_type": "stream",
     "text": [
      "/home/kfir/workspace/RadarLocalization/dataset.py:254: VisibleDeprecationWarning: Creating an ndarray from ragged nested sequences (which is a list-or-tuple of lists-or-tuples-or ndarrays with different lengths or shapes) is deprecated. If you meant to do this, you must specify 'dtype=object' when creating the ndarray\n",
      "  veh_speed = np.array([(m['utime'], m['vel']) for m in self.veh_pose])\n",
      "/home/kfir/workspace/RadarLocalization/dataset.py:254: VisibleDeprecationWarning: Creating an ndarray from ragged nested sequences (which is a list-or-tuple of lists-or-tuples-or ndarrays with different lengths or shapes) is deprecated. If you meant to do this, you must specify 'dtype=object' when creating the ndarray\n",
      "  veh_speed = np.array([(m['utime'], m['vel']) for m in self.veh_pose])\n"
     ]
    },
    {
     "name": "stdout",
     "output_type": "stream",
     "text": [
      "Number of new plots 1\n",
      "Number of dynamic tracks before run() 1\n",
      "Updating track = 0 z = [211.87941264 701.33777106 -12.40528297   2.06615758]\n",
      "Number of new plots 1\n",
      "Number of dynamic tracks before run() 1\n",
      "Updating track = 0 z = [211.71921366 701.53431089 -12.41108751   2.04912901]\n"
     ]
    },
    {
     "name": "stderr",
     "output_type": "stream",
     "text": [
      "/home/kfir/workspace/RadarLocalization/dataset.py:254: VisibleDeprecationWarning: Creating an ndarray from ragged nested sequences (which is a list-or-tuple of lists-or-tuples-or ndarrays with different lengths or shapes) is deprecated. If you meant to do this, you must specify 'dtype=object' when creating the ndarray\n",
      "  veh_speed = np.array([(m['utime'], m['vel']) for m in self.veh_pose])\n",
      "/home/kfir/workspace/RadarLocalization/dataset.py:254: VisibleDeprecationWarning: Creating an ndarray from ragged nested sequences (which is a list-or-tuple of lists-or-tuples-or ndarrays with different lengths or shapes) is deprecated. If you meant to do this, you must specify 'dtype=object' when creating the ndarray\n",
      "  veh_speed = np.array([(m['utime'], m['vel']) for m in self.veh_pose])\n"
     ]
    },
    {
     "name": "stdout",
     "output_type": "stream",
     "text": [
      "Number of new plots 1\n",
      "Number of dynamic tracks before run() 1\n",
      "Updating track = 0 z = [210.7915722  702.1328573  -12.42286301   2.01594478]\n",
      "Number of new plots 1\n",
      "Number of dynamic tracks before run() 1\n",
      "Updating track = 0 z = [208.34194617 702.62857494 -12.41079235   2.05170751]\n"
     ]
    },
    {
     "name": "stderr",
     "output_type": "stream",
     "text": [
      "/home/kfir/workspace/RadarLocalization/dataset.py:254: VisibleDeprecationWarning: Creating an ndarray from ragged nested sequences (which is a list-or-tuple of lists-or-tuples-or ndarrays with different lengths or shapes) is deprecated. If you meant to do this, you must specify 'dtype=object' when creating the ndarray\n",
      "  veh_speed = np.array([(m['utime'], m['vel']) for m in self.veh_pose])\n",
      "/home/kfir/workspace/RadarLocalization/dataset.py:254: VisibleDeprecationWarning: Creating an ndarray from ragged nested sequences (which is a list-or-tuple of lists-or-tuples-or ndarrays with different lengths or shapes) is deprecated. If you meant to do this, you must specify 'dtype=object' when creating the ndarray\n",
      "  veh_speed = np.array([(m['utime'], m['vel']) for m in self.veh_pose])\n"
     ]
    },
    {
     "name": "stdout",
     "output_type": "stream",
     "text": [
      "Number of new plots 0\n",
      "Number of dynamic tracks before run() 1\n",
      "Number of new plots 0\n",
      "Number of dynamic tracks before run() 1\n"
     ]
    },
    {
     "name": "stderr",
     "output_type": "stream",
     "text": [
      "/home/kfir/workspace/RadarLocalization/dataset.py:254: VisibleDeprecationWarning: Creating an ndarray from ragged nested sequences (which is a list-or-tuple of lists-or-tuples-or ndarrays with different lengths or shapes) is deprecated. If you meant to do this, you must specify 'dtype=object' when creating the ndarray\n",
      "  veh_speed = np.array([(m['utime'], m['vel']) for m in self.veh_pose])\n",
      "/home/kfir/workspace/RadarLocalization/dataset.py:254: VisibleDeprecationWarning: Creating an ndarray from ragged nested sequences (which is a list-or-tuple of lists-or-tuples-or ndarrays with different lengths or shapes) is deprecated. If you meant to do this, you must specify 'dtype=object' when creating the ndarray\n",
      "  veh_speed = np.array([(m['utime'], m['vel']) for m in self.veh_pose])\n"
     ]
    },
    {
     "name": "stdout",
     "output_type": "stream",
     "text": [
      "Number of new plots 1\n",
      "Number of dynamic tracks before run() 1\n",
      "Updating track = 0 z = [205.57831179 703.16918008 -12.39742756   2.09156048]\n",
      "Number of new plots 0\n",
      "Number of dynamic tracks before run() 1\n"
     ]
    },
    {
     "name": "stderr",
     "output_type": "stream",
     "text": [
      "/home/kfir/workspace/RadarLocalization/dataset.py:254: VisibleDeprecationWarning: Creating an ndarray from ragged nested sequences (which is a list-or-tuple of lists-or-tuples-or ndarrays with different lengths or shapes) is deprecated. If you meant to do this, you must specify 'dtype=object' when creating the ndarray\n",
      "  veh_speed = np.array([(m['utime'], m['vel']) for m in self.veh_pose])\n",
      "/home/kfir/workspace/RadarLocalization/dataset.py:254: VisibleDeprecationWarning: Creating an ndarray from ragged nested sequences (which is a list-or-tuple of lists-or-tuples-or ndarrays with different lengths or shapes) is deprecated. If you meant to do this, you must specify 'dtype=object' when creating the ndarray\n",
      "  veh_speed = np.array([(m['utime'], m['vel']) for m in self.veh_pose])\n"
     ]
    },
    {
     "name": "stdout",
     "output_type": "stream",
     "text": [
      "Number of new plots 1\n",
      "Number of dynamic tracks before run() 1\n",
      "Updating track = 0 z = [203.84446749 703.73659803 -12.64074564   2.13290691]\n",
      "Number of new plots 1\n",
      "Number of dynamic tracks before run() 1\n",
      "Updating track = 0 z = [202.34399045 704.74974917 -12.5376749    2.0567435 ]\n"
     ]
    },
    {
     "name": "stderr",
     "output_type": "stream",
     "text": [
      "/home/kfir/workspace/RadarLocalization/dataset.py:254: VisibleDeprecationWarning: Creating an ndarray from ragged nested sequences (which is a list-or-tuple of lists-or-tuples-or ndarrays with different lengths or shapes) is deprecated. If you meant to do this, you must specify 'dtype=object' when creating the ndarray\n",
      "  veh_speed = np.array([(m['utime'], m['vel']) for m in self.veh_pose])\n",
      "/home/kfir/workspace/RadarLocalization/dataset.py:254: VisibleDeprecationWarning: Creating an ndarray from ragged nested sequences (which is a list-or-tuple of lists-or-tuples-or ndarrays with different lengths or shapes) is deprecated. If you meant to do this, you must specify 'dtype=object' when creating the ndarray\n",
      "  veh_speed = np.array([(m['utime'], m['vel']) for m in self.veh_pose])\n"
     ]
    },
    {
     "name": "stdout",
     "output_type": "stream",
     "text": [
      "Number of new plots 0\n",
      "Number of dynamic tracks before run() 1\n",
      "Number of new plots 1\n",
      "Number of dynamic tracks before run() 1\n",
      "Updating track = 0 z = [200.37290316 704.65006004 -12.3882246    2.11446714]\n"
     ]
    },
    {
     "name": "stderr",
     "output_type": "stream",
     "text": [
      "/home/kfir/workspace/RadarLocalization/dataset.py:254: VisibleDeprecationWarning: Creating an ndarray from ragged nested sequences (which is a list-or-tuple of lists-or-tuples-or ndarrays with different lengths or shapes) is deprecated. If you meant to do this, you must specify 'dtype=object' when creating the ndarray\n",
      "  veh_speed = np.array([(m['utime'], m['vel']) for m in self.veh_pose])\n",
      "/home/kfir/workspace/RadarLocalization/dataset.py:254: VisibleDeprecationWarning: Creating an ndarray from ragged nested sequences (which is a list-or-tuple of lists-or-tuples-or ndarrays with different lengths or shapes) is deprecated. If you meant to do this, you must specify 'dtype=object' when creating the ndarray\n",
      "  veh_speed = np.array([(m['utime'], m['vel']) for m in self.veh_pose])\n"
     ]
    },
    {
     "name": "stdout",
     "output_type": "stream",
     "text": [
      "Number of new plots 1\n",
      "Number of dynamic tracks before run() 1\n",
      "Updating track = 0 z = [199.25068341 704.4477305  -12.61216545   2.2141645 ]\n",
      "Number of new plots 0\n",
      "Number of dynamic tracks before run() 1\n"
     ]
    },
    {
     "name": "stderr",
     "output_type": "stream",
     "text": [
      "/home/kfir/workspace/RadarLocalization/dataset.py:254: VisibleDeprecationWarning: Creating an ndarray from ragged nested sequences (which is a list-or-tuple of lists-or-tuples-or ndarrays with different lengths or shapes) is deprecated. If you meant to do this, you must specify 'dtype=object' when creating the ndarray\n",
      "  veh_speed = np.array([(m['utime'], m['vel']) for m in self.veh_pose])\n"
     ]
    },
    {
     "name": "stdout",
     "output_type": "stream",
     "text": [
      "Number of new plots 0\n",
      "Number of dynamic tracks before run() 1\n",
      "Number of new plots 1\n",
      "Number of dynamic tracks before run() 1\n",
      "Initiating new track: x=[279.53830354 664.77625343  -2.57059964   2.12440916   0.\n",
      "   0.        ]\n"
     ]
    },
    {
     "name": "stderr",
     "output_type": "stream",
     "text": [
      "/home/kfir/workspace/RadarLocalization/dataset.py:254: VisibleDeprecationWarning: Creating an ndarray from ragged nested sequences (which is a list-or-tuple of lists-or-tuples-or ndarrays with different lengths or shapes) is deprecated. If you meant to do this, you must specify 'dtype=object' when creating the ndarray\n",
      "  veh_speed = np.array([(m['utime'], m['vel']) for m in self.veh_pose])\n",
      "/home/kfir/workspace/RadarLocalization/dataset.py:254: VisibleDeprecationWarning: Creating an ndarray from ragged nested sequences (which is a list-or-tuple of lists-or-tuples-or ndarrays with different lengths or shapes) is deprecated. If you meant to do this, you must specify 'dtype=object' when creating the ndarray\n",
      "  veh_speed = np.array([(m['utime'], m['vel']) for m in self.veh_pose])\n"
     ]
    },
    {
     "name": "stdout",
     "output_type": "stream",
     "text": [
      "Number of new plots 1\n",
      "Number of dynamic tracks before run() 2\n",
      "Updating track = 1 z = [279.85081413 665.51567394  -2.46430969   1.93946034]\n",
      "Number of new plots 1\n",
      "Number of dynamic tracks before run() 2\n",
      "Updating track = 1 z = [279.63722978 664.89561604  -2.42202413   1.98619974]\n"
     ]
    },
    {
     "name": "stderr",
     "output_type": "stream",
     "text": [
      "/home/kfir/workspace/RadarLocalization/dataset.py:254: VisibleDeprecationWarning: Creating an ndarray from ragged nested sequences (which is a list-or-tuple of lists-or-tuples-or ndarrays with different lengths or shapes) is deprecated. If you meant to do this, you must specify 'dtype=object' when creating the ndarray\n",
      "  veh_speed = np.array([(m['utime'], m['vel']) for m in self.veh_pose])\n",
      "/home/kfir/workspace/RadarLocalization/dataset.py:254: VisibleDeprecationWarning: Creating an ndarray from ragged nested sequences (which is a list-or-tuple of lists-or-tuples-or ndarrays with different lengths or shapes) is deprecated. If you meant to do this, you must specify 'dtype=object' when creating the ndarray\n",
      "  veh_speed = np.array([(m['utime'], m['vel']) for m in self.veh_pose])\n"
     ]
    },
    {
     "name": "stdout",
     "output_type": "stream",
     "text": [
      "Number of new plots 1\n",
      "Number of dynamic tracks before run() 2\n",
      "Updating track = 1 z = [279.15816397 664.4130925   -2.33053541   1.96836644]\n",
      "Number of new plots 0\n",
      "Number of dynamic tracks before run() 1\n"
     ]
    },
    {
     "name": "stderr",
     "output_type": "stream",
     "text": [
      "/home/kfir/workspace/RadarLocalization/dataset.py:254: VisibleDeprecationWarning: Creating an ndarray from ragged nested sequences (which is a list-or-tuple of lists-or-tuples-or ndarrays with different lengths or shapes) is deprecated. If you meant to do this, you must specify 'dtype=object' when creating the ndarray\n",
      "  veh_speed = np.array([(m['utime'], m['vel']) for m in self.veh_pose])\n",
      "/home/kfir/workspace/RadarLocalization/dataset.py:254: VisibleDeprecationWarning: Creating an ndarray from ragged nested sequences (which is a list-or-tuple of lists-or-tuples-or ndarrays with different lengths or shapes) is deprecated. If you meant to do this, you must specify 'dtype=object' when creating the ndarray\n",
      "  veh_speed = np.array([(m['utime'], m['vel']) for m in self.veh_pose])\n"
     ]
    },
    {
     "name": "stdout",
     "output_type": "stream",
     "text": [
      "Number of new plots 0\n",
      "Number of dynamic tracks before run() 1\n",
      "Number of new plots 0\n",
      "Number of dynamic tracks before run() 1\n"
     ]
    },
    {
     "name": "stderr",
     "output_type": "stream",
     "text": [
      "/home/kfir/workspace/RadarLocalization/dataset.py:254: VisibleDeprecationWarning: Creating an ndarray from ragged nested sequences (which is a list-or-tuple of lists-or-tuples-or ndarrays with different lengths or shapes) is deprecated. If you meant to do this, you must specify 'dtype=object' when creating the ndarray\n",
      "  veh_speed = np.array([(m['utime'], m['vel']) for m in self.veh_pose])\n",
      "/home/kfir/workspace/RadarLocalization/dataset.py:254: VisibleDeprecationWarning: Creating an ndarray from ragged nested sequences (which is a list-or-tuple of lists-or-tuples-or ndarrays with different lengths or shapes) is deprecated. If you meant to do this, you must specify 'dtype=object' when creating the ndarray\n",
      "  veh_speed = np.array([(m['utime'], m['vel']) for m in self.veh_pose])\n"
     ]
    },
    {
     "name": "stdout",
     "output_type": "stream",
     "text": [
      "Number of new plots 1\n",
      "Number of dynamic tracks before run() 1\n",
      "Initiating new track: x=[187.88762978 708.82394276 -12.51498032   2.12346244   0.\n",
      "   0.        ]\n",
      "Number of new plots 1\n",
      "Number of dynamic tracks before run() 2\n",
      "Updating track = 1 z = [186.76058524 708.39739416 -12.60993433   2.217448  ]\n"
     ]
    },
    {
     "name": "stderr",
     "output_type": "stream",
     "text": [
      "/home/kfir/workspace/RadarLocalization/dataset.py:254: VisibleDeprecationWarning: Creating an ndarray from ragged nested sequences (which is a list-or-tuple of lists-or-tuples-or ndarrays with different lengths or shapes) is deprecated. If you meant to do this, you must specify 'dtype=object' when creating the ndarray\n",
      "  veh_speed = np.array([(m['utime'], m['vel']) for m in self.veh_pose])\n",
      "/home/kfir/workspace/RadarLocalization/dataset.py:254: VisibleDeprecationWarning: Creating an ndarray from ragged nested sequences (which is a list-or-tuple of lists-or-tuples-or ndarrays with different lengths or shapes) is deprecated. If you meant to do this, you must specify 'dtype=object' when creating the ndarray\n",
      "  veh_speed = np.array([(m['utime'], m['vel']) for m in self.veh_pose])\n"
     ]
    },
    {
     "name": "stdout",
     "output_type": "stream",
     "text": [
      "Number of new plots 1\n",
      "Number of dynamic tracks before run() 2\n",
      "Updating track = 1 z = [185.4019383  707.53022578 -12.56579781   2.3369348 ]\n",
      "Number of new plots 1\n",
      "Number of dynamic tracks before run() 1\n",
      "Initiating new track: x=[185.4096088  710.12540755 -12.65210438   2.09804595   0.\n",
      "   0.        ]\n"
     ]
    },
    {
     "name": "stderr",
     "output_type": "stream",
     "text": [
      "/home/kfir/workspace/RadarLocalization/dataset.py:254: VisibleDeprecationWarning: Creating an ndarray from ragged nested sequences (which is a list-or-tuple of lists-or-tuples-or ndarrays with different lengths or shapes) is deprecated. If you meant to do this, you must specify 'dtype=object' when creating the ndarray\n",
      "  veh_speed = np.array([(m['utime'], m['vel']) for m in self.veh_pose])\n",
      "/home/kfir/workspace/RadarLocalization/dataset.py:254: VisibleDeprecationWarning: Creating an ndarray from ragged nested sequences (which is a list-or-tuple of lists-or-tuples-or ndarrays with different lengths or shapes) is deprecated. If you meant to do this, you must specify 'dtype=object' when creating the ndarray\n",
      "  veh_speed = np.array([(m['utime'], m['vel']) for m in self.veh_pose])\n"
     ]
    },
    {
     "name": "stdout",
     "output_type": "stream",
     "text": [
      "Number of new plots 0\n",
      "Number of dynamic tracks before run() 2\n",
      "Number of new plots 0\n",
      "Number of dynamic tracks before run() 2\n"
     ]
    },
    {
     "name": "stderr",
     "output_type": "stream",
     "text": [
      "/home/kfir/workspace/RadarLocalization/dataset.py:254: VisibleDeprecationWarning: Creating an ndarray from ragged nested sequences (which is a list-or-tuple of lists-or-tuples-or ndarrays with different lengths or shapes) is deprecated. If you meant to do this, you must specify 'dtype=object' when creating the ndarray\n",
      "  veh_speed = np.array([(m['utime'], m['vel']) for m in self.veh_pose])\n",
      "/home/kfir/workspace/RadarLocalization/dataset.py:254: VisibleDeprecationWarning: Creating an ndarray from ragged nested sequences (which is a list-or-tuple of lists-or-tuples-or ndarrays with different lengths or shapes) is deprecated. If you meant to do this, you must specify 'dtype=object' when creating the ndarray\n",
      "  veh_speed = np.array([(m['utime'], m['vel']) for m in self.veh_pose])\n"
     ]
    },
    {
     "name": "stdout",
     "output_type": "stream",
     "text": [
      "Number of new plots 0\n",
      "Number of dynamic tracks before run() 2\n",
      "Number of new plots 0\n",
      "Number of dynamic tracks before run() 2\n"
     ]
    },
    {
     "name": "stderr",
     "output_type": "stream",
     "text": [
      "/home/kfir/workspace/RadarLocalization/dataset.py:254: VisibleDeprecationWarning: Creating an ndarray from ragged nested sequences (which is a list-or-tuple of lists-or-tuples-or ndarrays with different lengths or shapes) is deprecated. If you meant to do this, you must specify 'dtype=object' when creating the ndarray\n",
      "  veh_speed = np.array([(m['utime'], m['vel']) for m in self.veh_pose])\n",
      "/home/kfir/workspace/RadarLocalization/dataset.py:254: VisibleDeprecationWarning: Creating an ndarray from ragged nested sequences (which is a list-or-tuple of lists-or-tuples-or ndarrays with different lengths or shapes) is deprecated. If you meant to do this, you must specify 'dtype=object' when creating the ndarray\n",
      "  veh_speed = np.array([(m['utime'], m['vel']) for m in self.veh_pose])\n"
     ]
    },
    {
     "name": "stdout",
     "output_type": "stream",
     "text": [
      "Number of new plots 0\n",
      "Number of dynamic tracks before run() 2\n",
      "Number of new plots 1\n",
      "Number of dynamic tracks before run() 1\n",
      "Initiating new track: x=[ 2.89018629e+02  6.79101538e+02 -4.12445199e+00  4.36117789e-02\n",
      "  0.00000000e+00  0.00000000e+00]\n"
     ]
    },
    {
     "name": "stderr",
     "output_type": "stream",
     "text": [
      "/home/kfir/workspace/RadarLocalization/dataset.py:254: VisibleDeprecationWarning: Creating an ndarray from ragged nested sequences (which is a list-or-tuple of lists-or-tuples-or ndarrays with different lengths or shapes) is deprecated. If you meant to do this, you must specify 'dtype=object' when creating the ndarray\n",
      "  veh_speed = np.array([(m['utime'], m['vel']) for m in self.veh_pose])\n",
      "/home/kfir/workspace/RadarLocalization/dataset.py:254: VisibleDeprecationWarning: Creating an ndarray from ragged nested sequences (which is a list-or-tuple of lists-or-tuples-or ndarrays with different lengths or shapes) is deprecated. If you meant to do this, you must specify 'dtype=object' when creating the ndarray\n",
      "  veh_speed = np.array([(m['utime'], m['vel']) for m in self.veh_pose])\n"
     ]
    },
    {
     "name": "stdout",
     "output_type": "stream",
     "text": [
      "Number of new plots 0\n",
      "Number of dynamic tracks before run() 1\n",
      "Number of new plots 0\n",
      "Number of dynamic tracks before run() 1\n"
     ]
    },
    {
     "name": "stderr",
     "output_type": "stream",
     "text": [
      "/home/kfir/workspace/RadarLocalization/dataset.py:254: VisibleDeprecationWarning: Creating an ndarray from ragged nested sequences (which is a list-or-tuple of lists-or-tuples-or ndarrays with different lengths or shapes) is deprecated. If you meant to do this, you must specify 'dtype=object' when creating the ndarray\n",
      "  veh_speed = np.array([(m['utime'], m['vel']) for m in self.veh_pose])\n",
      "/home/kfir/workspace/RadarLocalization/dataset.py:254: VisibleDeprecationWarning: Creating an ndarray from ragged nested sequences (which is a list-or-tuple of lists-or-tuples-or ndarrays with different lengths or shapes) is deprecated. If you meant to do this, you must specify 'dtype=object' when creating the ndarray\n",
      "  veh_speed = np.array([(m['utime'], m['vel']) for m in self.veh_pose])\n"
     ]
    },
    {
     "name": "stdout",
     "output_type": "stream",
     "text": [
      "Number of new plots 0\n",
      "Number of dynamic tracks before run() 1\n",
      "Number of new plots 0\n",
      "Number of dynamic tracks before run() 1\n"
     ]
    },
    {
     "name": "stderr",
     "output_type": "stream",
     "text": [
      "/home/kfir/workspace/RadarLocalization/dataset.py:254: VisibleDeprecationWarning: Creating an ndarray from ragged nested sequences (which is a list-or-tuple of lists-or-tuples-or ndarrays with different lengths or shapes) is deprecated. If you meant to do this, you must specify 'dtype=object' when creating the ndarray\n",
      "  veh_speed = np.array([(m['utime'], m['vel']) for m in self.veh_pose])\n",
      "/home/kfir/workspace/RadarLocalization/dataset.py:254: VisibleDeprecationWarning: Creating an ndarray from ragged nested sequences (which is a list-or-tuple of lists-or-tuples-or ndarrays with different lengths or shapes) is deprecated. If you meant to do this, you must specify 'dtype=object' when creating the ndarray\n",
      "  veh_speed = np.array([(m['utime'], m['vel']) for m in self.veh_pose])\n"
     ]
    },
    {
     "name": "stdout",
     "output_type": "stream",
     "text": [
      "Number of new plots 0\n",
      "Number of dynamic tracks before run() 1\n",
      "Number of new plots 1\n",
      "Number of dynamic tracks before run() 1\n",
      "Updating track = 0 z = [ 2.86140423e+02  6.78350843e+02 -5.44270563e+00  5.59506387e-01]\n"
     ]
    },
    {
     "name": "stderr",
     "output_type": "stream",
     "text": [
      "/home/kfir/workspace/RadarLocalization/dataset.py:254: VisibleDeprecationWarning: Creating an ndarray from ragged nested sequences (which is a list-or-tuple of lists-or-tuples-or ndarrays with different lengths or shapes) is deprecated. If you meant to do this, you must specify 'dtype=object' when creating the ndarray\n",
      "  veh_speed = np.array([(m['utime'], m['vel']) for m in self.veh_pose])\n",
      "/home/kfir/workspace/RadarLocalization/dataset.py:254: VisibleDeprecationWarning: Creating an ndarray from ragged nested sequences (which is a list-or-tuple of lists-or-tuples-or ndarrays with different lengths or shapes) is deprecated. If you meant to do this, you must specify 'dtype=object' when creating the ndarray\n",
      "  veh_speed = np.array([(m['utime'], m['vel']) for m in self.veh_pose])\n"
     ]
    },
    {
     "name": "stdout",
     "output_type": "stream",
     "text": [
      "Number of new plots 1\n",
      "Number of dynamic tracks before run() 1\n",
      "Initiating new track: x=[ 2.88919408e+02  6.80130481e+02 -3.49461869e+00 -1.09918057e-01\n",
      "  0.00000000e+00  0.00000000e+00]\n",
      "Number of new plots 1\n",
      "Number of dynamic tracks before run() 2\n",
      "Updating track = 1 z = [ 2.88567918e+02  6.80070338e+02 -3.74729341e+00 -7.86719071e-02]\n"
     ]
    },
    {
     "name": "stderr",
     "output_type": "stream",
     "text": [
      "/home/kfir/workspace/RadarLocalization/dataset.py:254: VisibleDeprecationWarning: Creating an ndarray from ragged nested sequences (which is a list-or-tuple of lists-or-tuples-or ndarrays with different lengths or shapes) is deprecated. If you meant to do this, you must specify 'dtype=object' when creating the ndarray\n",
      "  veh_speed = np.array([(m['utime'], m['vel']) for m in self.veh_pose])\n",
      "/home/kfir/workspace/RadarLocalization/dataset.py:254: VisibleDeprecationWarning: Creating an ndarray from ragged nested sequences (which is a list-or-tuple of lists-or-tuples-or ndarrays with different lengths or shapes) is deprecated. If you meant to do this, you must specify 'dtype=object' when creating the ndarray\n",
      "  veh_speed = np.array([(m['utime'], m['vel']) for m in self.veh_pose])\n"
     ]
    },
    {
     "name": "stdout",
     "output_type": "stream",
     "text": [
      "Number of new plots 1\n",
      "Number of dynamic tracks before run() 2\n",
      "Updating track = 1 z = [ 2.88230401e+02  6.79965180e+02 -3.87312277e+00 -3.09740032e-02]\n",
      "Number of new plots 1\n",
      "Number of dynamic tracks before run() 2\n",
      "Updating track = 1 z = [ 2.87874076e+02  6.80039128e+02 -3.93649209e+00 -1.52821704e-02]\n"
     ]
    },
    {
     "name": "stderr",
     "output_type": "stream",
     "text": [
      "/home/kfir/workspace/RadarLocalization/dataset.py:254: VisibleDeprecationWarning: Creating an ndarray from ragged nested sequences (which is a list-or-tuple of lists-or-tuples-or ndarrays with different lengths or shapes) is deprecated. If you meant to do this, you must specify 'dtype=object' when creating the ndarray\n",
      "  veh_speed = np.array([(m['utime'], m['vel']) for m in self.veh_pose])\n",
      "/home/kfir/workspace/RadarLocalization/dataset.py:254: VisibleDeprecationWarning: Creating an ndarray from ragged nested sequences (which is a list-or-tuple of lists-or-tuples-or ndarrays with different lengths or shapes) is deprecated. If you meant to do this, you must specify 'dtype=object' when creating the ndarray\n",
      "  veh_speed = np.array([(m['utime'], m['vel']) for m in self.veh_pose])\n"
     ]
    },
    {
     "name": "stdout",
     "output_type": "stream",
     "text": [
      "Number of new plots 1\n",
      "Number of dynamic tracks before run() 2\n",
      "Updating track = 1 z = [ 2.87441597e+02  6.79645789e+02 -4.36924565e+00  1.06082404e-01]\n",
      "Number of new plots 1\n",
      "Number of dynamic tracks before run() 2\n",
      "Updating track = 1 z = [ 2.86547815e+02  6.79470385e+02 -4.88515940e+00  2.40913926e-01]\n"
     ]
    },
    {
     "name": "stderr",
     "output_type": "stream",
     "text": [
      "/home/kfir/workspace/RadarLocalization/dataset.py:254: VisibleDeprecationWarning: Creating an ndarray from ragged nested sequences (which is a list-or-tuple of lists-or-tuples-or ndarrays with different lengths or shapes) is deprecated. If you meant to do this, you must specify 'dtype=object' when creating the ndarray\n",
      "  veh_speed = np.array([(m['utime'], m['vel']) for m in self.veh_pose])\n",
      "/home/kfir/workspace/RadarLocalization/dataset.py:254: VisibleDeprecationWarning: Creating an ndarray from ragged nested sequences (which is a list-or-tuple of lists-or-tuples-or ndarrays with different lengths or shapes) is deprecated. If you meant to do this, you must specify 'dtype=object' when creating the ndarray\n",
      "  veh_speed = np.array([(m['utime'], m['vel']) for m in self.veh_pose])\n"
     ]
    },
    {
     "name": "stdout",
     "output_type": "stream",
     "text": [
      "Number of new plots 1\n",
      "Number of dynamic tracks before run() 1\n",
      "Updating track = 0 z = [ 2.86285114e+02  6.78841486e+02 -5.46604419e+00  4.32208061e-01]\n",
      "Number of new plots 1\n",
      "Number of dynamic tracks before run() 1\n",
      "Updating track = 0 z = [ 2.85730196e+02  6.79432885e+02 -5.30705182e+00  3.52670362e-01]\n"
     ]
    },
    {
     "name": "stderr",
     "output_type": "stream",
     "text": [
      "/home/kfir/workspace/RadarLocalization/dataset.py:254: VisibleDeprecationWarning: Creating an ndarray from ragged nested sequences (which is a list-or-tuple of lists-or-tuples-or ndarrays with different lengths or shapes) is deprecated. If you meant to do this, you must specify 'dtype=object' when creating the ndarray\n",
      "  veh_speed = np.array([(m['utime'], m['vel']) for m in self.veh_pose])\n",
      "/home/kfir/workspace/RadarLocalization/dataset.py:254: VisibleDeprecationWarning: Creating an ndarray from ragged nested sequences (which is a list-or-tuple of lists-or-tuples-or ndarrays with different lengths or shapes) is deprecated. If you meant to do this, you must specify 'dtype=object' when creating the ndarray\n",
      "  veh_speed = np.array([(m['utime'], m['vel']) for m in self.veh_pose])\n"
     ]
    },
    {
     "name": "stdout",
     "output_type": "stream",
     "text": [
      "Number of new plots 1\n",
      "Number of dynamic tracks before run() 1\n",
      "Updating track = 0 z = [ 2.85433065e+02  6.78724163e+02 -5.69423556e+00  5.64093769e-01]\n",
      "Number of new plots 0\n",
      "Number of dynamic tracks before run() 1\n"
     ]
    },
    {
     "name": "stderr",
     "output_type": "stream",
     "text": [
      "/home/kfir/workspace/RadarLocalization/dataset.py:254: VisibleDeprecationWarning: Creating an ndarray from ragged nested sequences (which is a list-or-tuple of lists-or-tuples-or ndarrays with different lengths or shapes) is deprecated. If you meant to do this, you must specify 'dtype=object' when creating the ndarray\n",
      "  veh_speed = np.array([(m['utime'], m['vel']) for m in self.veh_pose])\n",
      "/home/kfir/workspace/RadarLocalization/dataset.py:254: VisibleDeprecationWarning: Creating an ndarray from ragged nested sequences (which is a list-or-tuple of lists-or-tuples-or ndarrays with different lengths or shapes) is deprecated. If you meant to do this, you must specify 'dtype=object' when creating the ndarray\n",
      "  veh_speed = np.array([(m['utime'], m['vel']) for m in self.veh_pose])\n"
     ]
    },
    {
     "name": "stdout",
     "output_type": "stream",
     "text": [
      "Number of new plots 1\n",
      "Number of dynamic tracks before run() 1\n",
      "Updating track = 0 z = [ 2.84496281e+02  6.78875017e+02 -6.05434513e+00  6.55302018e-01]\n",
      "Number of new plots 1\n",
      "Number of dynamic tracks before run() 1\n",
      "Updating track = 0 z = [283.69465616 679.06828996  -6.29361224   0.71106434]\n"
     ]
    },
    {
     "name": "stderr",
     "output_type": "stream",
     "text": [
      "/home/kfir/workspace/RadarLocalization/dataset.py:254: VisibleDeprecationWarning: Creating an ndarray from ragged nested sequences (which is a list-or-tuple of lists-or-tuples-or ndarrays with different lengths or shapes) is deprecated. If you meant to do this, you must specify 'dtype=object' when creating the ndarray\n",
      "  veh_speed = np.array([(m['utime'], m['vel']) for m in self.veh_pose])\n",
      "/home/kfir/workspace/RadarLocalization/dataset.py:254: VisibleDeprecationWarning: Creating an ndarray from ragged nested sequences (which is a list-or-tuple of lists-or-tuples-or ndarrays with different lengths or shapes) is deprecated. If you meant to do this, you must specify 'dtype=object' when creating the ndarray\n",
      "  veh_speed = np.array([(m['utime'], m['vel']) for m in self.veh_pose])\n"
     ]
    },
    {
     "name": "stdout",
     "output_type": "stream",
     "text": [
      "Number of new plots 1\n",
      "Number of dynamic tracks before run() 1\n",
      "Updating track = 0 z = [282.93298198 679.46665944  -6.32286119   0.69056288]\n",
      "Number of new plots 1\n",
      "Number of dynamic tracks before run() 1\n",
      "Updating track = 0 z = [282.71673426 679.35632876  -6.53671765   0.76137415]\n"
     ]
    },
    {
     "name": "stderr",
     "output_type": "stream",
     "text": [
      "/home/kfir/workspace/RadarLocalization/dataset.py:254: VisibleDeprecationWarning: Creating an ndarray from ragged nested sequences (which is a list-or-tuple of lists-or-tuples-or ndarrays with different lengths or shapes) is deprecated. If you meant to do this, you must specify 'dtype=object' when creating the ndarray\n",
      "  veh_speed = np.array([(m['utime'], m['vel']) for m in self.veh_pose])\n",
      "/home/kfir/workspace/RadarLocalization/dataset.py:254: VisibleDeprecationWarning: Creating an ndarray from ragged nested sequences (which is a list-or-tuple of lists-or-tuples-or ndarrays with different lengths or shapes) is deprecated. If you meant to do this, you must specify 'dtype=object' when creating the ndarray\n",
      "  veh_speed = np.array([(m['utime'], m['vel']) for m in self.veh_pose])\n"
     ]
    },
    {
     "name": "stdout",
     "output_type": "stream",
     "text": [
      "Number of new plots 1\n",
      "Number of dynamic tracks before run() 1\n",
      "Updating track = 0 z = [282.01117698 679.80515532  -6.58300749   0.72837909]\n",
      "Number of new plots 1\n",
      "Number of dynamic tracks before run() 1\n",
      "Updating track = 0 z = [281.2112568  680.00272345  -6.57534218   0.75620699]\n"
     ]
    },
    {
     "name": "stderr",
     "output_type": "stream",
     "text": [
      "/home/kfir/workspace/RadarLocalization/dataset.py:254: VisibleDeprecationWarning: Creating an ndarray from ragged nested sequences (which is a list-or-tuple of lists-or-tuples-or ndarrays with different lengths or shapes) is deprecated. If you meant to do this, you must specify 'dtype=object' when creating the ndarray\n",
      "  veh_speed = np.array([(m['utime'], m['vel']) for m in self.veh_pose])\n",
      "/home/kfir/workspace/RadarLocalization/dataset.py:254: VisibleDeprecationWarning: Creating an ndarray from ragged nested sequences (which is a list-or-tuple of lists-or-tuples-or ndarrays with different lengths or shapes) is deprecated. If you meant to do this, you must specify 'dtype=object' when creating the ndarray\n",
      "  veh_speed = np.array([(m['utime'], m['vel']) for m in self.veh_pose])\n"
     ]
    },
    {
     "name": "stdout",
     "output_type": "stream",
     "text": [
      "Number of new plots 1\n",
      "Number of dynamic tracks before run() 1\n",
      "Updating track = 0 z = [281.12234967 680.0625371   -6.66069603   0.75444146]\n",
      "Number of new plots 1\n",
      "Number of dynamic tracks before run() 1\n",
      "Updating track = 0 z = [279.9220601  680.27565583  -6.89323044   0.84240028]\n"
     ]
    },
    {
     "name": "stderr",
     "output_type": "stream",
     "text": [
      "/home/kfir/workspace/RadarLocalization/dataset.py:254: VisibleDeprecationWarning: Creating an ndarray from ragged nested sequences (which is a list-or-tuple of lists-or-tuples-or ndarrays with different lengths or shapes) is deprecated. If you meant to do this, you must specify 'dtype=object' when creating the ndarray\n",
      "  veh_speed = np.array([(m['utime'], m['vel']) for m in self.veh_pose])\n",
      "/home/kfir/workspace/RadarLocalization/dataset.py:254: VisibleDeprecationWarning: Creating an ndarray from ragged nested sequences (which is a list-or-tuple of lists-or-tuples-or ndarrays with different lengths or shapes) is deprecated. If you meant to do this, you must specify 'dtype=object' when creating the ndarray\n",
      "  veh_speed = np.array([(m['utime'], m['vel']) for m in self.veh_pose])\n"
     ]
    },
    {
     "name": "stdout",
     "output_type": "stream",
     "text": [
      "Number of new plots 1\n",
      "Number of dynamic tracks before run() 1\n",
      "Updating track = 0 z = [279.83793401 680.33518506  -7.03958797   0.8579444 ]\n",
      "Number of new plots 1\n",
      "Number of dynamic tracks before run() 1\n",
      "Updating track = 0 z = [279.30023988 680.40520312  -7.18685508   0.91098699]\n"
     ]
    },
    {
     "name": "stderr",
     "output_type": "stream",
     "text": [
      "/home/kfir/workspace/RadarLocalization/dataset.py:254: VisibleDeprecationWarning: Creating an ndarray from ragged nested sequences (which is a list-or-tuple of lists-or-tuples-or ndarrays with different lengths or shapes) is deprecated. If you meant to do this, you must specify 'dtype=object' when creating the ndarray\n",
      "  veh_speed = np.array([(m['utime'], m['vel']) for m in self.veh_pose])\n",
      "/home/kfir/workspace/RadarLocalization/dataset.py:254: VisibleDeprecationWarning: Creating an ndarray from ragged nested sequences (which is a list-or-tuple of lists-or-tuples-or ndarrays with different lengths or shapes) is deprecated. If you meant to do this, you must specify 'dtype=object' when creating the ndarray\n",
      "  veh_speed = np.array([(m['utime'], m['vel']) for m in self.veh_pose])\n"
     ]
    },
    {
     "name": "stdout",
     "output_type": "stream",
     "text": [
      "Number of new plots 1\n",
      "Number of dynamic tracks before run() 1\n",
      "Updating track = 0 z = [278.98257676 680.58667933  -7.36521637   0.92279474]\n",
      "Number of new plots 1\n",
      "Number of dynamic tracks before run() 1\n",
      "Updating track = 0 z = [277.7966131  680.22153298  -7.48749844   1.13870927]\n",
      "Number of new plots 1\n",
      "Number of dynamic tracks before run() 1\n",
      "Updating track = 0 z = [277.84887299 680.83838736  -7.64162413   1.01876692]\n",
      "Number of new plots 1\n",
      "Number of dynamic tracks before run() 1\n",
      "Updating track = 0 z = [276.30496349 681.2964037   -7.83218352   1.09537836]\n"
     ]
    },
    {
     "name": "stderr",
     "output_type": "stream",
     "text": [
      "/home/kfir/workspace/RadarLocalization/dataset.py:254: VisibleDeprecationWarning: Creating an ndarray from ragged nested sequences (which is a list-or-tuple of lists-or-tuples-or ndarrays with different lengths or shapes) is deprecated. If you meant to do this, you must specify 'dtype=object' when creating the ndarray\n",
      "  veh_speed = np.array([(m['utime'], m['vel']) for m in self.veh_pose])\n",
      "/home/kfir/workspace/RadarLocalization/dataset.py:254: VisibleDeprecationWarning: Creating an ndarray from ragged nested sequences (which is a list-or-tuple of lists-or-tuples-or ndarrays with different lengths or shapes) is deprecated. If you meant to do this, you must specify 'dtype=object' when creating the ndarray\n",
      "  veh_speed = np.array([(m['utime'], m['vel']) for m in self.veh_pose])\n"
     ]
    }
   ],
   "source": [
    "tracker = DynamicTracker()\n",
    "for t in range(0,100):\n",
    "    pc, ts = dataset.getDynamicPoints(t)\n",
    "    X, P = runClustering(pc)\n",
    "    #print(f\"X={X} P={P}\")\n",
    "    tracker.run(X, P, ts)\n",
    "    \n"
   ]
  },
  {
   "cell_type": "code",
   "execution_count": 185,
   "id": "ac2315f5",
   "metadata": {},
   "outputs": [
    {
     "name": "stdout",
     "output_type": "stream",
     "text": [
      "Total number of tracks = 8\n",
      "(7, 6, 1)\n",
      "(9, 6, 1)\n",
      "(57, 6, 1)\n",
      "(10, 6, 1)\n",
      "(9, 6, 1)\n",
      "(7, 6, 1)\n",
      "(13, 6, 1)\n",
      "(24, 6, 1)\n"
     ]
    },
    {
     "data": {
      "image/png": "[encoded data removed]",
      "text/plain": [
       "<matplotlib.figure.Figure at 0x7f3977f648d0>"
      ]
     },
     "metadata": {},
     "output_type": "display_data"
    }
   ],
   "source": [
    "tracks = tracker.getHistory()\n",
    "N = len(tracks)\n",
    "print(f\"Total number of tracks = {N}\")\n",
    "\n",
    "fig, ax = plt.subplots(1,1,figsize=(15,10))\n",
    "colors = ['blue','orange','green','red','black','pink','yellow','purple',\"brown\",\"firebrick\",\"coral\",\"lime\",\n",
    "                      \"wheat\", \"yellowgreen\", \"lightyellow\", \"skyblue\", \"cyan\", \"chocolate\", \"maroon\", \"peru\", \"blueviolet\"]\n",
    "\n",
    "for idx,track in enumerate(tracks):\n",
    "    history = track.getHistory()\n",
    "    print(history.shape)\n",
    "    ax.plot(history[:,0], history[:,1], color=colors[idx])"
   ]
  },
  {
   "cell_type": "code",
   "execution_count": null,
   "id": "984c33fe",
   "metadata": {},
   "outputs": [],
   "source": []
  }
 ],
 "metadata": {
  "kernelspec": {
   "display_name": "Python 3",
   "language": "python",
   "name": "python3"
  },
  "language_info": {
   "codemirror_mode": {
    "name": "ipython",
    "version": 3
   },
   "file_extension": ".py",
   "mimetype": "text/x-python",
   "name": "python",
   "nbconvert_exporter": "python",
   "pygments_lexer": "ipython3",
   "version": "3.6.9"
  }
 },
 "nbformat": 4,
 "nbformat_minor": 5
}
