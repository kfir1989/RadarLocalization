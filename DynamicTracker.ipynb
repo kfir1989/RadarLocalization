{
 "cells": [
  {
   "cell_type": "code",
   "execution_count": 4,
   "id": "c1a9ca53",
   "metadata": {},
   "outputs": [],
   "source": [
    "from nuscenes.nuscenes import NuScenes\n",
    "directory = r\"/home/kfir/workspace/nuScenes/v1.0-trainval\"\n",
    "nusc = NuScenes(version=\"v1.0-trainval\", dataroot=directory, verbose=False)"
   ]
  },
  {
   "cell_type": "code",
   "execution_count": 397,
   "id": "a2f090cf",
   "metadata": {},
   "outputs": [
    {
     "name": "stdout",
     "output_type": "stream",
     "text": [
      "The autoreload extension is already loaded. To reload it, use:\n",
      "  %reload_ext autoreload\n"
     ]
    }
   ],
   "source": [
    "%load_ext autoreload\n",
    "%autoreload 2\n",
    "from dataset import *\n",
    "from video import SimulationVideo\n",
    "from video import NuscenesVideo, NuscenesVideoDebug, PFVideo, PFXYVideo\n",
    "from MapMatching import MapMatching"
   ]
  },
  {
   "cell_type": "code",
   "execution_count": 423,
   "id": "704f5134",
   "metadata": {},
   "outputs": [],
   "source": [
    "class DynamicObjectTrack:\n",
    "    def __init__(self, x, P, create_frame_idx):\n",
    "        self.kf = KalmanFilter(dim_x=6, dim_z=4)\n",
    "        self.kf.x = x.T # x,y,vx,vy\n",
    "        self.kf.F = np.eye(6)\n",
    "        self.kf.P = np.diag([2,2,0.5,0.5,3,3])\n",
    "        self.kf.P_post = self.kf.P.copy()\n",
    "        self.kf.Q = np.diag([0.5,0.5,1,1,0,0])\n",
    "        self.kf.H = np.zeros([4,6])\n",
    "        self.kf.H[0,0] = 1\n",
    "        self.kf.H[1,1] = 1\n",
    "        self.kf.H[2,2] = 1\n",
    "        self.kf.H[3,3] = 1\n",
    "        self.saver = Saver(self.kf)\n",
    "        self.create_frame_idx = create_frame_idx\n",
    "        self.last_update_frame_idx = create_frame_idx\n",
    "        self.hits = 1\n",
    "        self.age = 1\n",
    "        self.confirmed = False\n",
    "    \n",
    "    def predict(self, dT):\n",
    "        self.age += 1\n",
    "        self.kf.F[0, 2] = dT\n",
    "        self.kf.F[0, 4] = 0.5 * dT**2\n",
    "        self.kf.F[1, 3] = dT\n",
    "        self.kf.F[1, 5] = 0.5 * dT**2\n",
    "        self.kf.F[2, 4] = dT\n",
    "        self.kf.F[3, 5] = dT\n",
    "        print(f\"before predict: x={self.kf.P}\")\n",
    "        self.kf.predict()\n",
    "        print(f\"after predict: x={self.kf.P}\")\n",
    "        \n",
    "    def update(self, z, cov, current_frame_idx):\n",
    "        self.hits += 1\n",
    "        self.kf.update(z,R=cov)\n",
    "        self.last_update_frame_idx = current_frame_idx\n",
    "        \n",
    "    def save(self):\n",
    "        self.saver.save()\n",
    "        \n",
    "    def getHistory(self):\n",
    "        self.saver.to_array()\n",
    "        return self.saver.x\n",
    "    \n",
    "    def getStateVector(self):\n",
    "        return self.kf.x\n",
    "    \n",
    "    def getPredictedStateVector(self):\n",
    "        return self.kf.x_prior\n",
    "        \n",
    "    def getInnovationCovarianceMatrix(self):\n",
    "        return self.kf.S\n",
    "    \n",
    "    def getCovarianceMatrix(self):\n",
    "        return self.kf.P_post\n",
    "    \n",
    "    def getLastUpdateFrameIdx(self):\n",
    "        return self.last_update_frame_idx\n",
    "    \n",
    "\n",
    "class DynamicTracker:\n",
    "    def __init__(self):\n",
    "        self.pnt_data_associator = PointObjectDataAssociator(dim=4,delta=3)\n",
    "        self.dyn_object_list = []\n",
    "        self.dyn_max_non_update_iterations = 5\n",
    "        self.frame_idx = 0\n",
    "        self.history_dyn_object_list = []\n",
    "        self.last_ts = 0\n",
    "\n",
    "    def run(self, z, dz, ts):\n",
    "        self.frame_idx += 1\n",
    "        print(f\"Number of new plots {len(z)}\")\n",
    "        print(f\"Number of dynamic tracks before run() {len(self.dyn_object_list)}\")\n",
    "        \n",
    "        \n",
    "        #Prediction\n",
    "        if self.last_ts > 0:\n",
    "            dT = (ts - self.last_ts) / 1e6\n",
    "            self.last_ts = ts\n",
    "            \n",
    "            for dyn_track in self.dyn_object_list:\n",
    "                dyn_track.predict(dT)\n",
    "        self.last_ts = ts\n",
    "        \n",
    "        #Association\n",
    "        Gp = self.p2t(z)\n",
    "        \n",
    "        #Update\n",
    "        z, dz = self.trackUpdate(z, dz, Gp)\n",
    "        \n",
    "        #Init\n",
    "        self.trackInit(z,dz)\n",
    "            \n",
    "        #Maintenance\n",
    "        self.trackMaintenance()\n",
    "        \n",
    "        return self.getTracks()\n",
    "        \n",
    "    def p2t(self, measurements):\n",
    "        Gp = np.zeros((len(measurements), len(self.dyn_object_list)))\n",
    "        for idx_z, z in enumerate(measurements):\n",
    "            z = z.reshape(-1,1)\n",
    "            for idx_track, dyn_track in enumerate(self.dyn_object_list):\n",
    "                x = dyn_track.getStateVector()\n",
    "                x_pred = dyn_track.getPredictedStateVector()\n",
    "                innov_cov = dyn_track.getCovarianceMatrix()\n",
    "                #print(f\"p2t: z={z}, x_pred={x_pred} innov_cov={innov_cov}\")\n",
    "                Gp[idx_z,idx_track] = self.pnt_data_associator.calcLikelihood(z, x_pred[0:4], innov_cov[0:4,0:4])\n",
    "        \n",
    "        #print(f\"Gp = {Gp}\")\n",
    "        return Gp\n",
    "    \n",
    "    def trackUpdate(self, z, dz, Gp):\n",
    "        assigned_meas_list = []\n",
    "        while(1): #Iterate over GP\n",
    "            i_meas, lp, i_trk = self.getBestAssociation(Gp)\n",
    "            if(lp == 0):\n",
    "                break\n",
    "            self.zeroOutAssociation(Gp, i_meas, i_trk) # Clear from point association matrix\n",
    "            zm = z[i_meas]\n",
    "            cov = dz[i_meas]\n",
    "            assigned_meas_list.append(i_meas)\n",
    "\n",
    "            print(f\"Updating track = {i_trk} z = {zm} cov={cov}\")\n",
    "            self.dyn_object_list[i_trk].update(z=zm.T,cov=cov, current_frame_idx=self.frame_idx)\n",
    "                \n",
    "        for i_meas in sorted(assigned_meas_list, reverse=True):\n",
    "            z = np.delete(z, (i_meas), axis=0)\n",
    "            dz = np.delete(dz, (i_meas), axis=0)\n",
    "        \n",
    "        return z, dz\n",
    "        \n",
    "    def trackInit(self, z, dz):\n",
    "        for z,cov in zip(z,dz):\n",
    "            x = np.zeros(6)\n",
    "            x[0:4] = z\n",
    "            new_trk = DynamicObjectTrack(x=x.reshape(1,-1), P=cov, create_frame_idx=self.frame_idx)\n",
    "            print(f\"Initiating new track: x={x}\")\n",
    "            self.dyn_object_list.append(new_trk)\n",
    "\n",
    "            \n",
    "    def deleteTrack(self, track_list, indices):\n",
    "        delete_indices  = np.unique(indices)\n",
    "        #print(\"deleteTrack is called. track list length:\", len(track_list), \"indices\", indices)\n",
    "        for index in sorted(delete_indices, reverse=True):\n",
    "            self.history_dyn_object_list.append(track_list[index])\n",
    "            del track_list[index]\n",
    "        \n",
    "    def trackMaintenance(self):\n",
    "        dyn_delete_list = []\n",
    "        for i_trk,trk in enumerate(self.dyn_object_list):\n",
    "            trk.save()\n",
    "            print(f\"age = {trk.age} hits = {trk.hits}\")\n",
    "            if trk.age > 10 and (float(trk.hits) / trk.age) > 0.5:\n",
    "                trk.confirmed = True\n",
    "            if self.frame_idx - trk.getLastUpdateFrameIdx() > self.dyn_max_non_update_iterations:\n",
    "                dyn_delete_list.append(i_trk)\n",
    "\n",
    "        self.deleteTrack(self.dyn_object_list, dyn_delete_list)\n",
    "        \n",
    "    def isTrkSimilar(self, x_cand):\n",
    "        x, y, vx, vy = x_cand[0], x_cand[1], x_cand[2], x_cand[3]\n",
    "        for trk in self.dyn_object_list:\n",
    "            state_adv = trk.getStateVector()\n",
    "            x_adv, y_adv, vx_adv, vy_adv = state_adv[0], state_adv[1], state_adv[2], state_adv[3] \n",
    "            \n",
    "            pos_thr = 4\n",
    "            vel_thr = 1\n",
    "            pos_dist = sqrt((x-x_adv)**2+(y-y_adv)**2)\n",
    "            vel_dist = sqrt((vx-vx_adv)**2+(vy-vy_adv)**2)\n",
    "            if dist > dist_thr or vel_dist > vel_thr:\n",
    "                return True\n",
    "        \n",
    "        return False\n",
    "                \n",
    "                    \n",
    "    @staticmethod\n",
    "    def getBestAssociation(Gp):\n",
    "        i_meas,lp,i_trk_p = None,0,None\n",
    "        if Gp.size > 0:\n",
    "            ind = np.unravel_index(np.argmax(Gp, axis=None), Gp.shape)\n",
    "            i_meas = ind[0]\n",
    "            i_trk_p = ind[1]\n",
    "            lp = Gp[ind]\n",
    "        \n",
    "        return i_meas,lp, i_trk_p\n",
    "    \n",
    "    @staticmethod\n",
    "    def zeroOutAssociation(mat, i, j, k=None):\n",
    "        if mat is not None:\n",
    "            if mat.ndim == 2:\n",
    "                mat[i, :] = 0\n",
    "                mat[:, j] = 0\n",
    "            elif mat.ndim == 3:\n",
    "                mat[i, :, k] = 0\n",
    "                mat[:, j, k] = 0\n",
    "        \n",
    "        return mat\n",
    "          \n",
    "    @staticmethod\n",
    "    def createProbabilityMatrix(pairs):\n",
    "        if pairs:\n",
    "            u_meas = np.unique([item[0] for item in pairs])\n",
    "            u_trk = np.unique([item[1] for item in pairs])\n",
    "            P = np.zeros((len(u_meas),len(u_trk)))\n",
    "            for i in range(0, len(u_meas)):\n",
    "                for j in range(0, len(u_trk)):\n",
    "                    P[i,j] = max([pair[2] if pair[0]==u_meas[i] and pair[1]==u_trk[j] else 0 for pair in pairs])\n",
    "        else:\n",
    "            P = None\n",
    "            \n",
    "        #print(\"createProbabilityMatrix: P = \", P)\n",
    " \n",
    "        return P\n",
    "    \n",
    "    def getTracks(self):\n",
    "        return self.dyn_object_list\n",
    "    \n",
    "    def getHistory(self):\n",
    "        return self.history_dyn_object_list + self.dyn_object_list "
   ]
  },
  {
   "cell_type": "code",
   "execution_count": 400,
   "id": "52197da6",
   "metadata": {},
   "outputs": [
    {
     "name": "stdout",
     "output_type": "stream",
     "text": [
      "scene_id=426 scene_name=scene-0536 map_name=boston-seaport\n"
     ]
    },
    {
     "name": "stderr",
     "output_type": "stream",
     "text": [
      "/home/kfir/workspace/RadarLocalization/dataset.py:311: VisibleDeprecationWarning: Creating an ndarray from ragged nested sequences (which is a list-or-tuple of lists-or-tuples-or ndarrays with different lengths or shapes) is deprecated. If you meant to do this, you must specify 'dtype=object' when creating the ndarray\n",
      "  self.first_gt_trns = self.ego.iloc[eidx][\"translation\"]\n"
     ]
    },
    {
     "name": "stdout",
     "output_type": "stream",
     "text": [
      "odom_speed [[1.53565927e+15 0.00000000e+00]\n",
      " [1.53565927e+15 0.00000000e+00]\n",
      " [1.53565927e+15 0.00000000e+00]\n",
      " ...\n",
      " [1.53565951e+15 1.00000000e+00]\n",
      " [1.53565951e+15 1.00000000e+00]\n",
      " [1.53565951e+15 1.00000000e+00]]\n"
     ]
    }
   ],
   "source": [
    "scene_id = 426\n",
    "N = 800\n",
    "\n",
    "dataset = NuscenesDataset(nusc=nusc, directory=directory, scene_id=scene_id, N=N)"
   ]
  },
  {
   "cell_type": "code",
   "execution_count": 91,
   "id": "4072b235",
   "metadata": {},
   "outputs": [
    {
     "name": "stderr",
     "output_type": "stream",
     "text": [
      "/home/kfir/workspace/RadarLocalization/dataset.py:253: VisibleDeprecationWarning: Creating an ndarray from ragged nested sequences (which is a list-or-tuple of lists-or-tuples-or ndarrays with different lengths or shapes) is deprecated. If you meant to do this, you must specify 'dtype=object' when creating the ndarray\n",
      "  pidx = np.argsort(np.abs(veh_speed[:,0]-ts))[0]\n",
      "/home/kfir/workspace/RadarLocalization/dataset.py:253: VisibleDeprecationWarning: Creating an ndarray from ragged nested sequences (which is a list-or-tuple of lists-or-tuples-or ndarrays with different lengths or shapes) is deprecated. If you meant to do this, you must specify 'dtype=object' when creating the ndarray\n",
      "  pidx = np.argsort(np.abs(veh_speed[:,0]-ts))[0]\n",
      "/home/kfir/workspace/RadarLocalization/dataset.py:253: VisibleDeprecationWarning: Creating an ndarray from ragged nested sequences (which is a list-or-tuple of lists-or-tuples-or ndarrays with different lengths or shapes) is deprecated. If you meant to do this, you must specify 'dtype=object' when creating the ndarray\n",
      "  pidx = np.argsort(np.abs(veh_speed[:,0]-ts))[0]\n",
      "/home/kfir/workspace/RadarLocalization/dataset.py:253: VisibleDeprecationWarning: Creating an ndarray from ragged nested sequences (which is a list-or-tuple of lists-or-tuples-or ndarrays with different lengths or shapes) is deprecated. If you meant to do this, you must specify 'dtype=object' when creating the ndarray\n",
      "  pidx = np.argsort(np.abs(veh_speed[:,0]-ts))[0]\n",
      "/home/kfir/workspace/RadarLocalization/dataset.py:253: VisibleDeprecationWarning: Creating an ndarray from ragged nested sequences (which is a list-or-tuple of lists-or-tuples-or ndarrays with different lengths or shapes) is deprecated. If you meant to do this, you must specify 'dtype=object' when creating the ndarray\n",
      "  pidx = np.argsort(np.abs(veh_speed[:,0]-ts))[0]\n",
      "/home/kfir/workspace/RadarLocalization/dataset.py:253: VisibleDeprecationWarning: Creating an ndarray from ragged nested sequences (which is a list-or-tuple of lists-or-tuples-or ndarrays with different lengths or shapes) is deprecated. If you meant to do this, you must specify 'dtype=object' when creating the ndarray\n",
      "  pidx = np.argsort(np.abs(veh_speed[:,0]-ts))[0]\n",
      "/home/kfir/workspace/RadarLocalization/dataset.py:253: VisibleDeprecationWarning: Creating an ndarray from ragged nested sequences (which is a list-or-tuple of lists-or-tuples-or ndarrays with different lengths or shapes) is deprecated. If you meant to do this, you must specify 'dtype=object' when creating the ndarray\n",
      "  pidx = np.argsort(np.abs(veh_speed[:,0]-ts))[0]\n",
      "/home/kfir/workspace/RadarLocalization/dataset.py:253: VisibleDeprecationWarning: Creating an ndarray from ragged nested sequences (which is a list-or-tuple of lists-or-tuples-or ndarrays with different lengths or shapes) is deprecated. If you meant to do this, you must specify 'dtype=object' when creating the ndarray\n",
      "  pidx = np.argsort(np.abs(veh_speed[:,0]-ts))[0]\n",
      "/home/kfir/workspace/RadarLocalization/dataset.py:253: VisibleDeprecationWarning: Creating an ndarray from ragged nested sequences (which is a list-or-tuple of lists-or-tuples-or ndarrays with different lengths or shapes) is deprecated. If you meant to do this, you must specify 'dtype=object' when creating the ndarray\n",
      "  pidx = np.argsort(np.abs(veh_speed[:,0]-ts))[0]\n",
      "/home/kfir/workspace/RadarLocalization/dataset.py:253: VisibleDeprecationWarning: Creating an ndarray from ragged nested sequences (which is a list-or-tuple of lists-or-tuples-or ndarrays with different lengths or shapes) is deprecated. If you meant to do this, you must specify 'dtype=object' when creating the ndarray\n",
      "  pidx = np.argsort(np.abs(veh_speed[:,0]-ts))[0]\n",
      "/home/kfir/workspace/RadarLocalization/dataset.py:253: VisibleDeprecationWarning: Creating an ndarray from ragged nested sequences (which is a list-or-tuple of lists-or-tuples-or ndarrays with different lengths or shapes) is deprecated. If you meant to do this, you must specify 'dtype=object' when creating the ndarray\n",
      "  pidx = np.argsort(np.abs(veh_speed[:,0]-ts))[0]\n",
      "/home/kfir/workspace/RadarLocalization/dataset.py:253: VisibleDeprecationWarning: Creating an ndarray from ragged nested sequences (which is a list-or-tuple of lists-or-tuples-or ndarrays with different lengths or shapes) is deprecated. If you meant to do this, you must specify 'dtype=object' when creating the ndarray\n",
      "  pidx = np.argsort(np.abs(veh_speed[:,0]-ts))[0]\n",
      "/home/kfir/workspace/RadarLocalization/dataset.py:253: VisibleDeprecationWarning: Creating an ndarray from ragged nested sequences (which is a list-or-tuple of lists-or-tuples-or ndarrays with different lengths or shapes) is deprecated. If you meant to do this, you must specify 'dtype=object' when creating the ndarray\n",
      "  pidx = np.argsort(np.abs(veh_speed[:,0]-ts))[0]\n",
      "/home/kfir/workspace/RadarLocalization/dataset.py:253: VisibleDeprecationWarning: Creating an ndarray from ragged nested sequences (which is a list-or-tuple of lists-or-tuples-or ndarrays with different lengths or shapes) is deprecated. If you meant to do this, you must specify 'dtype=object' when creating the ndarray\n",
      "  pidx = np.argsort(np.abs(veh_speed[:,0]-ts))[0]\n",
      "/home/kfir/workspace/RadarLocalization/dataset.py:253: VisibleDeprecationWarning: Creating an ndarray from ragged nested sequences (which is a list-or-tuple of lists-or-tuples-or ndarrays with different lengths or shapes) is deprecated. If you meant to do this, you must specify 'dtype=object' when creating the ndarray\n",
      "  pidx = np.argsort(np.abs(veh_speed[:,0]-ts))[0]\n",
      "/home/kfir/workspace/RadarLocalization/dataset.py:253: VisibleDeprecationWarning: Creating an ndarray from ragged nested sequences (which is a list-or-tuple of lists-or-tuples-or ndarrays with different lengths or shapes) is deprecated. If you meant to do this, you must specify 'dtype=object' when creating the ndarray\n",
      "  pidx = np.argsort(np.abs(veh_speed[:,0]-ts))[0]\n",
      "/home/kfir/workspace/RadarLocalization/dataset.py:253: VisibleDeprecationWarning: Creating an ndarray from ragged nested sequences (which is a list-or-tuple of lists-or-tuples-or ndarrays with different lengths or shapes) is deprecated. If you meant to do this, you must specify 'dtype=object' when creating the ndarray\n",
      "  pidx = np.argsort(np.abs(veh_speed[:,0]-ts))[0]\n",
      "/home/kfir/workspace/RadarLocalization/dataset.py:253: VisibleDeprecationWarning: Creating an ndarray from ragged nested sequences (which is a list-or-tuple of lists-or-tuples-or ndarrays with different lengths or shapes) is deprecated. If you meant to do this, you must specify 'dtype=object' when creating the ndarray\n",
      "  pidx = np.argsort(np.abs(veh_speed[:,0]-ts))[0]\n",
      "/home/kfir/workspace/RadarLocalization/dataset.py:253: VisibleDeprecationWarning: Creating an ndarray from ragged nested sequences (which is a list-or-tuple of lists-or-tuples-or ndarrays with different lengths or shapes) is deprecated. If you meant to do this, you must specify 'dtype=object' when creating the ndarray\n",
      "  pidx = np.argsort(np.abs(veh_speed[:,0]-ts))[0]\n",
      "/home/kfir/workspace/RadarLocalization/dataset.py:253: VisibleDeprecationWarning: Creating an ndarray from ragged nested sequences (which is a list-or-tuple of lists-or-tuples-or ndarrays with different lengths or shapes) is deprecated. If you meant to do this, you must specify 'dtype=object' when creating the ndarray\n",
      "  pidx = np.argsort(np.abs(veh_speed[:,0]-ts))[0]\n"
     ]
    },
    {
     "data": {
      "image/png": "[encoded data removed]",
      "text/plain": [
       "<matplotlib.figure.Figure at 0x7f6a7293bba8>"
      ]
     },
     "metadata": {},
     "output_type": "display_data"
    }
   ],
   "source": [
    "from sklearn.cluster import DBSCAN\n",
    "\n",
    "fig, ax = plt.subplots(1,1,figsize=(15,10))\n",
    "colors = ['blue','orange','green','red','black','pink','yellow','purple',\"brown\",\"firebrick\",\"coral\",\"lime\",\n",
    "                      \"wheat\", \"yellowgreen\", \"lightyellow\", \"skyblue\", \"cyan\", \"chocolate\", \"maroon\", \"peru\", \"blueviolet\"]\n",
    "\n",
    "for t in range(0,20):\n",
    "    pc = dataset.getDynamicPoints(t)\n",
    "    pc = np.squeeze(pc[np.where(pc[:,3]==0) or np.where(pc[:,3]==2) or np.where(pc[:,3]==6), :], axis=0)\n",
    "    clus = DBSCAN(eps=2, min_samples=2).fit(pc[:,0:2])\n",
    "    c = clus.labels_\n",
    "    for i in range(pc.shape[0]):\n",
    "        v_comp = np.sqrt(pc[i,8]**2 + pc[i,9]**2)\n",
    "        if v_comp > 3:\n",
    "            #c = int(np.round(v_comp) % 17)\n",
    "            ax.scatter(pc[i,0], pc[i,1], s=10, c=colors[c[i]])"
   ]
  },
  {
   "cell_type": "code",
   "execution_count": 442,
   "id": "61286c86",
   "metadata": {},
   "outputs": [
    {
     "name": "stdout",
     "output_type": "stream",
     "text": [
      "n_clusters 1\n"
     ]
    },
    {
     "name": "stderr",
     "output_type": "stream",
     "text": [
      "/home/kfir/workspace/RadarLocalization/dataset.py:261: VisibleDeprecationWarning: Creating an ndarray from ragged nested sequences (which is a list-or-tuple of lists-or-tuples-or ndarrays with different lengths or shapes) is deprecated. If you meant to do this, you must specify 'dtype=object' when creating the ndarray\n",
      "  rot = Quaternion(self.ego.iloc[eidx][\"rotation\"])\n"
     ]
    },
    {
     "name": "stdout",
     "output_type": "stream",
     "text": [
      "n_clusters 0\n"
     ]
    },
    {
     "name": "stderr",
     "output_type": "stream",
     "text": [
      "/home/kfir/workspace/RadarLocalization/dataset.py:261: VisibleDeprecationWarning: Creating an ndarray from ragged nested sequences (which is a list-or-tuple of lists-or-tuples-or ndarrays with different lengths or shapes) is deprecated. If you meant to do this, you must specify 'dtype=object' when creating the ndarray\n",
      "  rot = Quaternion(self.ego.iloc[eidx][\"rotation\"])\n"
     ]
    },
    {
     "name": "stdout",
     "output_type": "stream",
     "text": [
      "n_clusters 0\n"
     ]
    },
    {
     "name": "stderr",
     "output_type": "stream",
     "text": [
      "/home/kfir/workspace/RadarLocalization/dataset.py:261: VisibleDeprecationWarning: Creating an ndarray from ragged nested sequences (which is a list-or-tuple of lists-or-tuples-or ndarrays with different lengths or shapes) is deprecated. If you meant to do this, you must specify 'dtype=object' when creating the ndarray\n",
      "  rot = Quaternion(self.ego.iloc[eidx][\"rotation\"])\n"
     ]
    },
    {
     "name": "stdout",
     "output_type": "stream",
     "text": [
      "n_clusters 0\n"
     ]
    },
    {
     "name": "stderr",
     "output_type": "stream",
     "text": [
      "/home/kfir/workspace/RadarLocalization/dataset.py:261: VisibleDeprecationWarning: Creating an ndarray from ragged nested sequences (which is a list-or-tuple of lists-or-tuples-or ndarrays with different lengths or shapes) is deprecated. If you meant to do this, you must specify 'dtype=object' when creating the ndarray\n",
      "  rot = Quaternion(self.ego.iloc[eidx][\"rotation\"])\n"
     ]
    },
    {
     "name": "stdout",
     "output_type": "stream",
     "text": [
      "n_clusters 0\n"
     ]
    },
    {
     "name": "stderr",
     "output_type": "stream",
     "text": [
      "/home/kfir/workspace/RadarLocalization/dataset.py:261: VisibleDeprecationWarning: Creating an ndarray from ragged nested sequences (which is a list-or-tuple of lists-or-tuples-or ndarrays with different lengths or shapes) is deprecated. If you meant to do this, you must specify 'dtype=object' when creating the ndarray\n",
      "  rot = Quaternion(self.ego.iloc[eidx][\"rotation\"])\n"
     ]
    },
    {
     "name": "stdout",
     "output_type": "stream",
     "text": [
      "n_clusters 0\n"
     ]
    },
    {
     "name": "stderr",
     "output_type": "stream",
     "text": [
      "/home/kfir/workspace/RadarLocalization/dataset.py:261: VisibleDeprecationWarning: Creating an ndarray from ragged nested sequences (which is a list-or-tuple of lists-or-tuples-or ndarrays with different lengths or shapes) is deprecated. If you meant to do this, you must specify 'dtype=object' when creating the ndarray\n",
      "  rot = Quaternion(self.ego.iloc[eidx][\"rotation\"])\n"
     ]
    },
    {
     "name": "stdout",
     "output_type": "stream",
     "text": [
      "n_clusters 0\n"
     ]
    },
    {
     "name": "stderr",
     "output_type": "stream",
     "text": [
      "/home/kfir/workspace/RadarLocalization/dataset.py:261: VisibleDeprecationWarning: Creating an ndarray from ragged nested sequences (which is a list-or-tuple of lists-or-tuples-or ndarrays with different lengths or shapes) is deprecated. If you meant to do this, you must specify 'dtype=object' when creating the ndarray\n",
      "  rot = Quaternion(self.ego.iloc[eidx][\"rotation\"])\n"
     ]
    },
    {
     "name": "stdout",
     "output_type": "stream",
     "text": [
      "n_clusters 0\n"
     ]
    },
    {
     "name": "stderr",
     "output_type": "stream",
     "text": [
      "/home/kfir/workspace/RadarLocalization/dataset.py:261: VisibleDeprecationWarning: Creating an ndarray from ragged nested sequences (which is a list-or-tuple of lists-or-tuples-or ndarrays with different lengths or shapes) is deprecated. If you meant to do this, you must specify 'dtype=object' when creating the ndarray\n",
      "  rot = Quaternion(self.ego.iloc[eidx][\"rotation\"])\n"
     ]
    },
    {
     "name": "stdout",
     "output_type": "stream",
     "text": [
      "n_clusters 0\n"
     ]
    },
    {
     "name": "stderr",
     "output_type": "stream",
     "text": [
      "/home/kfir/workspace/RadarLocalization/dataset.py:261: VisibleDeprecationWarning: Creating an ndarray from ragged nested sequences (which is a list-or-tuple of lists-or-tuples-or ndarrays with different lengths or shapes) is deprecated. If you meant to do this, you must specify 'dtype=object' when creating the ndarray\n",
      "  rot = Quaternion(self.ego.iloc[eidx][\"rotation\"])\n"
     ]
    },
    {
     "name": "stdout",
     "output_type": "stream",
     "text": [
      "n_clusters 0\n"
     ]
    },
    {
     "name": "stderr",
     "output_type": "stream",
     "text": [
      "/home/kfir/workspace/RadarLocalization/dataset.py:261: VisibleDeprecationWarning: Creating an ndarray from ragged nested sequences (which is a list-or-tuple of lists-or-tuples-or ndarrays with different lengths or shapes) is deprecated. If you meant to do this, you must specify 'dtype=object' when creating the ndarray\n",
      "  rot = Quaternion(self.ego.iloc[eidx][\"rotation\"])\n"
     ]
    },
    {
     "name": "stdout",
     "output_type": "stream",
     "text": [
      "n_clusters 0\n"
     ]
    },
    {
     "name": "stderr",
     "output_type": "stream",
     "text": [
      "/home/kfir/workspace/RadarLocalization/dataset.py:261: VisibleDeprecationWarning: Creating an ndarray from ragged nested sequences (which is a list-or-tuple of lists-or-tuples-or ndarrays with different lengths or shapes) is deprecated. If you meant to do this, you must specify 'dtype=object' when creating the ndarray\n",
      "  rot = Quaternion(self.ego.iloc[eidx][\"rotation\"])\n"
     ]
    },
    {
     "name": "stdout",
     "output_type": "stream",
     "text": [
      "n_clusters 0\n"
     ]
    },
    {
     "name": "stderr",
     "output_type": "stream",
     "text": [
      "/home/kfir/workspace/RadarLocalization/dataset.py:261: VisibleDeprecationWarning: Creating an ndarray from ragged nested sequences (which is a list-or-tuple of lists-or-tuples-or ndarrays with different lengths or shapes) is deprecated. If you meant to do this, you must specify 'dtype=object' when creating the ndarray\n",
      "  rot = Quaternion(self.ego.iloc[eidx][\"rotation\"])\n"
     ]
    },
    {
     "name": "stdout",
     "output_type": "stream",
     "text": [
      "n_clusters 0\n"
     ]
    },
    {
     "name": "stderr",
     "output_type": "stream",
     "text": [
      "/home/kfir/workspace/RadarLocalization/dataset.py:261: VisibleDeprecationWarning: Creating an ndarray from ragged nested sequences (which is a list-or-tuple of lists-or-tuples-or ndarrays with different lengths or shapes) is deprecated. If you meant to do this, you must specify 'dtype=object' when creating the ndarray\n",
      "  rot = Quaternion(self.ego.iloc[eidx][\"rotation\"])\n"
     ]
    },
    {
     "name": "stdout",
     "output_type": "stream",
     "text": [
      "n_clusters 0\n"
     ]
    },
    {
     "name": "stderr",
     "output_type": "stream",
     "text": [
      "/home/kfir/workspace/RadarLocalization/dataset.py:261: VisibleDeprecationWarning: Creating an ndarray from ragged nested sequences (which is a list-or-tuple of lists-or-tuples-or ndarrays with different lengths or shapes) is deprecated. If you meant to do this, you must specify 'dtype=object' when creating the ndarray\n",
      "  rot = Quaternion(self.ego.iloc[eidx][\"rotation\"])\n"
     ]
    },
    {
     "name": "stdout",
     "output_type": "stream",
     "text": [
      "n_clusters 0\n"
     ]
    },
    {
     "name": "stderr",
     "output_type": "stream",
     "text": [
      "/home/kfir/workspace/RadarLocalization/dataset.py:261: VisibleDeprecationWarning: Creating an ndarray from ragged nested sequences (which is a list-or-tuple of lists-or-tuples-or ndarrays with different lengths or shapes) is deprecated. If you meant to do this, you must specify 'dtype=object' when creating the ndarray\n",
      "  rot = Quaternion(self.ego.iloc[eidx][\"rotation\"])\n"
     ]
    },
    {
     "name": "stdout",
     "output_type": "stream",
     "text": [
      "n_clusters 0\n"
     ]
    },
    {
     "name": "stderr",
     "output_type": "stream",
     "text": [
      "/home/kfir/workspace/RadarLocalization/dataset.py:261: VisibleDeprecationWarning: Creating an ndarray from ragged nested sequences (which is a list-or-tuple of lists-or-tuples-or ndarrays with different lengths or shapes) is deprecated. If you meant to do this, you must specify 'dtype=object' when creating the ndarray\n",
      "  rot = Quaternion(self.ego.iloc[eidx][\"rotation\"])\n"
     ]
    },
    {
     "name": "stdout",
     "output_type": "stream",
     "text": [
      "n_clusters 0\n"
     ]
    },
    {
     "name": "stderr",
     "output_type": "stream",
     "text": [
      "/home/kfir/workspace/RadarLocalization/dataset.py:261: VisibleDeprecationWarning: Creating an ndarray from ragged nested sequences (which is a list-or-tuple of lists-or-tuples-or ndarrays with different lengths or shapes) is deprecated. If you meant to do this, you must specify 'dtype=object' when creating the ndarray\n",
      "  rot = Quaternion(self.ego.iloc[eidx][\"rotation\"])\n"
     ]
    },
    {
     "name": "stdout",
     "output_type": "stream",
     "text": [
      "n_clusters 0\n"
     ]
    },
    {
     "name": "stderr",
     "output_type": "stream",
     "text": [
      "/home/kfir/workspace/RadarLocalization/dataset.py:261: VisibleDeprecationWarning: Creating an ndarray from ragged nested sequences (which is a list-or-tuple of lists-or-tuples-or ndarrays with different lengths or shapes) is deprecated. If you meant to do this, you must specify 'dtype=object' when creating the ndarray\n",
      "  rot = Quaternion(self.ego.iloc[eidx][\"rotation\"])\n"
     ]
    },
    {
     "name": "stdout",
     "output_type": "stream",
     "text": [
      "n_clusters 0\n"
     ]
    },
    {
     "name": "stderr",
     "output_type": "stream",
     "text": [
      "/home/kfir/workspace/RadarLocalization/dataset.py:261: VisibleDeprecationWarning: Creating an ndarray from ragged nested sequences (which is a list-or-tuple of lists-or-tuples-or ndarrays with different lengths or shapes) is deprecated. If you meant to do this, you must specify 'dtype=object' when creating the ndarray\n",
      "  rot = Quaternion(self.ego.iloc[eidx][\"rotation\"])\n"
     ]
    },
    {
     "name": "stdout",
     "output_type": "stream",
     "text": [
      "n_clusters 0\n"
     ]
    },
    {
     "name": "stderr",
     "output_type": "stream",
     "text": [
      "/home/kfir/workspace/RadarLocalization/dataset.py:261: VisibleDeprecationWarning: Creating an ndarray from ragged nested sequences (which is a list-or-tuple of lists-or-tuples-or ndarrays with different lengths or shapes) is deprecated. If you meant to do this, you must specify 'dtype=object' when creating the ndarray\n",
      "  rot = Quaternion(self.ego.iloc[eidx][\"rotation\"])\n"
     ]
    },
    {
     "name": "stdout",
     "output_type": "stream",
     "text": [
      "n_clusters 0\n"
     ]
    },
    {
     "name": "stderr",
     "output_type": "stream",
     "text": [
      "/home/kfir/workspace/RadarLocalization/dataset.py:261: VisibleDeprecationWarning: Creating an ndarray from ragged nested sequences (which is a list-or-tuple of lists-or-tuples-or ndarrays with different lengths or shapes) is deprecated. If you meant to do this, you must specify 'dtype=object' when creating the ndarray\n",
      "  rot = Quaternion(self.ego.iloc[eidx][\"rotation\"])\n"
     ]
    },
    {
     "name": "stdout",
     "output_type": "stream",
     "text": [
      "n_clusters 0\n"
     ]
    },
    {
     "name": "stderr",
     "output_type": "stream",
     "text": [
      "/home/kfir/workspace/RadarLocalization/dataset.py:261: VisibleDeprecationWarning: Creating an ndarray from ragged nested sequences (which is a list-or-tuple of lists-or-tuples-or ndarrays with different lengths or shapes) is deprecated. If you meant to do this, you must specify 'dtype=object' when creating the ndarray\n",
      "  rot = Quaternion(self.ego.iloc[eidx][\"rotation\"])\n"
     ]
    },
    {
     "name": "stdout",
     "output_type": "stream",
     "text": [
      "n_clusters 0\n"
     ]
    },
    {
     "name": "stderr",
     "output_type": "stream",
     "text": [
      "/home/kfir/workspace/RadarLocalization/dataset.py:261: VisibleDeprecationWarning: Creating an ndarray from ragged nested sequences (which is a list-or-tuple of lists-or-tuples-or ndarrays with different lengths or shapes) is deprecated. If you meant to do this, you must specify 'dtype=object' when creating the ndarray\n",
      "  rot = Quaternion(self.ego.iloc[eidx][\"rotation\"])\n"
     ]
    },
    {
     "name": "stdout",
     "output_type": "stream",
     "text": [
      "n_clusters 0\n"
     ]
    },
    {
     "name": "stderr",
     "output_type": "stream",
     "text": [
      "/home/kfir/workspace/RadarLocalization/dataset.py:261: VisibleDeprecationWarning: Creating an ndarray from ragged nested sequences (which is a list-or-tuple of lists-or-tuples-or ndarrays with different lengths or shapes) is deprecated. If you meant to do this, you must specify 'dtype=object' when creating the ndarray\n",
      "  rot = Quaternion(self.ego.iloc[eidx][\"rotation\"])\n"
     ]
    },
    {
     "name": "stdout",
     "output_type": "stream",
     "text": [
      "n_clusters 1\n"
     ]
    },
    {
     "name": "stderr",
     "output_type": "stream",
     "text": [
      "/home/kfir/workspace/RadarLocalization/dataset.py:261: VisibleDeprecationWarning: Creating an ndarray from ragged nested sequences (which is a list-or-tuple of lists-or-tuples-or ndarrays with different lengths or shapes) is deprecated. If you meant to do this, you must specify 'dtype=object' when creating the ndarray\n",
      "  rot = Quaternion(self.ego.iloc[eidx][\"rotation\"])\n"
     ]
    },
    {
     "name": "stdout",
     "output_type": "stream",
     "text": [
      "n_clusters 0\n"
     ]
    },
    {
     "name": "stderr",
     "output_type": "stream",
     "text": [
      "/home/kfir/workspace/RadarLocalization/dataset.py:261: VisibleDeprecationWarning: Creating an ndarray from ragged nested sequences (which is a list-or-tuple of lists-or-tuples-or ndarrays with different lengths or shapes) is deprecated. If you meant to do this, you must specify 'dtype=object' when creating the ndarray\n",
      "  rot = Quaternion(self.ego.iloc[eidx][\"rotation\"])\n"
     ]
    },
    {
     "name": "stdout",
     "output_type": "stream",
     "text": [
      "n_clusters 0\n"
     ]
    },
    {
     "name": "stderr",
     "output_type": "stream",
     "text": [
      "/home/kfir/workspace/RadarLocalization/dataset.py:261: VisibleDeprecationWarning: Creating an ndarray from ragged nested sequences (which is a list-or-tuple of lists-or-tuples-or ndarrays with different lengths or shapes) is deprecated. If you meant to do this, you must specify 'dtype=object' when creating the ndarray\n",
      "  rot = Quaternion(self.ego.iloc[eidx][\"rotation\"])\n"
     ]
    },
    {
     "name": "stdout",
     "output_type": "stream",
     "text": [
      "n_clusters 0\n"
     ]
    },
    {
     "name": "stderr",
     "output_type": "stream",
     "text": [
      "/home/kfir/workspace/RadarLocalization/dataset.py:261: VisibleDeprecationWarning: Creating an ndarray from ragged nested sequences (which is a list-or-tuple of lists-or-tuples-or ndarrays with different lengths or shapes) is deprecated. If you meant to do this, you must specify 'dtype=object' when creating the ndarray\n",
      "  rot = Quaternion(self.ego.iloc[eidx][\"rotation\"])\n"
     ]
    },
    {
     "name": "stdout",
     "output_type": "stream",
     "text": [
      "n_clusters 0\n"
     ]
    },
    {
     "name": "stderr",
     "output_type": "stream",
     "text": [
      "/home/kfir/workspace/RadarLocalization/dataset.py:261: VisibleDeprecationWarning: Creating an ndarray from ragged nested sequences (which is a list-or-tuple of lists-or-tuples-or ndarrays with different lengths or shapes) is deprecated. If you meant to do this, you must specify 'dtype=object' when creating the ndarray\n",
      "  rot = Quaternion(self.ego.iloc[eidx][\"rotation\"])\n"
     ]
    },
    {
     "name": "stdout",
     "output_type": "stream",
     "text": [
      "n_clusters 0\n"
     ]
    },
    {
     "name": "stderr",
     "output_type": "stream",
     "text": [
      "/home/kfir/workspace/RadarLocalization/dataset.py:261: VisibleDeprecationWarning: Creating an ndarray from ragged nested sequences (which is a list-or-tuple of lists-or-tuples-or ndarrays with different lengths or shapes) is deprecated. If you meant to do this, you must specify 'dtype=object' when creating the ndarray\n",
      "  rot = Quaternion(self.ego.iloc[eidx][\"rotation\"])\n"
     ]
    },
    {
     "name": "stdout",
     "output_type": "stream",
     "text": [
      "n_clusters 0\n"
     ]
    },
    {
     "name": "stderr",
     "output_type": "stream",
     "text": [
      "/home/kfir/workspace/RadarLocalization/dataset.py:261: VisibleDeprecationWarning: Creating an ndarray from ragged nested sequences (which is a list-or-tuple of lists-or-tuples-or ndarrays with different lengths or shapes) is deprecated. If you meant to do this, you must specify 'dtype=object' when creating the ndarray\n",
      "  rot = Quaternion(self.ego.iloc[eidx][\"rotation\"])\n"
     ]
    },
    {
     "name": "stdout",
     "output_type": "stream",
     "text": [
      "n_clusters 0\n"
     ]
    },
    {
     "name": "stderr",
     "output_type": "stream",
     "text": [
      "/home/kfir/workspace/RadarLocalization/dataset.py:261: VisibleDeprecationWarning: Creating an ndarray from ragged nested sequences (which is a list-or-tuple of lists-or-tuples-or ndarrays with different lengths or shapes) is deprecated. If you meant to do this, you must specify 'dtype=object' when creating the ndarray\n",
      "  rot = Quaternion(self.ego.iloc[eidx][\"rotation\"])\n"
     ]
    },
    {
     "name": "stdout",
     "output_type": "stream",
     "text": [
      "n_clusters 0\n"
     ]
    },
    {
     "name": "stderr",
     "output_type": "stream",
     "text": [
      "/home/kfir/workspace/RadarLocalization/dataset.py:261: VisibleDeprecationWarning: Creating an ndarray from ragged nested sequences (which is a list-or-tuple of lists-or-tuples-or ndarrays with different lengths or shapes) is deprecated. If you meant to do this, you must specify 'dtype=object' when creating the ndarray\n",
      "  rot = Quaternion(self.ego.iloc[eidx][\"rotation\"])\n"
     ]
    },
    {
     "name": "stdout",
     "output_type": "stream",
     "text": [
      "n_clusters 0\n"
     ]
    },
    {
     "name": "stderr",
     "output_type": "stream",
     "text": [
      "/home/kfir/workspace/RadarLocalization/dataset.py:261: VisibleDeprecationWarning: Creating an ndarray from ragged nested sequences (which is a list-or-tuple of lists-or-tuples-or ndarrays with different lengths or shapes) is deprecated. If you meant to do this, you must specify 'dtype=object' when creating the ndarray\n",
      "  rot = Quaternion(self.ego.iloc[eidx][\"rotation\"])\n"
     ]
    },
    {
     "name": "stdout",
     "output_type": "stream",
     "text": [
      "n_clusters 0\n"
     ]
    },
    {
     "name": "stderr",
     "output_type": "stream",
     "text": [
      "/home/kfir/workspace/RadarLocalization/dataset.py:261: VisibleDeprecationWarning: Creating an ndarray from ragged nested sequences (which is a list-or-tuple of lists-or-tuples-or ndarrays with different lengths or shapes) is deprecated. If you meant to do this, you must specify 'dtype=object' when creating the ndarray\n",
      "  rot = Quaternion(self.ego.iloc[eidx][\"rotation\"])\n"
     ]
    },
    {
     "name": "stdout",
     "output_type": "stream",
     "text": [
      "n_clusters 0\n"
     ]
    },
    {
     "name": "stderr",
     "output_type": "stream",
     "text": [
      "/home/kfir/workspace/RadarLocalization/dataset.py:261: VisibleDeprecationWarning: Creating an ndarray from ragged nested sequences (which is a list-or-tuple of lists-or-tuples-or ndarrays with different lengths or shapes) is deprecated. If you meant to do this, you must specify 'dtype=object' when creating the ndarray\n",
      "  rot = Quaternion(self.ego.iloc[eidx][\"rotation\"])\n"
     ]
    },
    {
     "name": "stdout",
     "output_type": "stream",
     "text": [
      "n_clusters 0\n"
     ]
    },
    {
     "name": "stderr",
     "output_type": "stream",
     "text": [
      "/home/kfir/workspace/RadarLocalization/dataset.py:261: VisibleDeprecationWarning: Creating an ndarray from ragged nested sequences (which is a list-or-tuple of lists-or-tuples-or ndarrays with different lengths or shapes) is deprecated. If you meant to do this, you must specify 'dtype=object' when creating the ndarray\n",
      "  rot = Quaternion(self.ego.iloc[eidx][\"rotation\"])\n"
     ]
    },
    {
     "name": "stdout",
     "output_type": "stream",
     "text": [
      "n_clusters 0\n"
     ]
    },
    {
     "name": "stderr",
     "output_type": "stream",
     "text": [
      "/home/kfir/workspace/RadarLocalization/dataset.py:261: VisibleDeprecationWarning: Creating an ndarray from ragged nested sequences (which is a list-or-tuple of lists-or-tuples-or ndarrays with different lengths or shapes) is deprecated. If you meant to do this, you must specify 'dtype=object' when creating the ndarray\n",
      "  rot = Quaternion(self.ego.iloc[eidx][\"rotation\"])\n"
     ]
    },
    {
     "name": "stdout",
     "output_type": "stream",
     "text": [
      "n_clusters 0\n"
     ]
    },
    {
     "name": "stderr",
     "output_type": "stream",
     "text": [
      "/home/kfir/workspace/RadarLocalization/dataset.py:261: VisibleDeprecationWarning: Creating an ndarray from ragged nested sequences (which is a list-or-tuple of lists-or-tuples-or ndarrays with different lengths or shapes) is deprecated. If you meant to do this, you must specify 'dtype=object' when creating the ndarray\n",
      "  rot = Quaternion(self.ego.iloc[eidx][\"rotation\"])\n"
     ]
    },
    {
     "name": "stdout",
     "output_type": "stream",
     "text": [
      "n_clusters 0\n"
     ]
    },
    {
     "name": "stderr",
     "output_type": "stream",
     "text": [
      "/home/kfir/workspace/RadarLocalization/dataset.py:261: VisibleDeprecationWarning: Creating an ndarray from ragged nested sequences (which is a list-or-tuple of lists-or-tuples-or ndarrays with different lengths or shapes) is deprecated. If you meant to do this, you must specify 'dtype=object' when creating the ndarray\n",
      "  rot = Quaternion(self.ego.iloc[eidx][\"rotation\"])\n"
     ]
    },
    {
     "name": "stdout",
     "output_type": "stream",
     "text": [
      "n_clusters 0\n"
     ]
    },
    {
     "name": "stderr",
     "output_type": "stream",
     "text": [
      "/home/kfir/workspace/RadarLocalization/dataset.py:261: VisibleDeprecationWarning: Creating an ndarray from ragged nested sequences (which is a list-or-tuple of lists-or-tuples-or ndarrays with different lengths or shapes) is deprecated. If you meant to do this, you must specify 'dtype=object' when creating the ndarray\n",
      "  rot = Quaternion(self.ego.iloc[eidx][\"rotation\"])\n"
     ]
    },
    {
     "name": "stdout",
     "output_type": "stream",
     "text": [
      "n_clusters 1\n"
     ]
    },
    {
     "name": "stderr",
     "output_type": "stream",
     "text": [
      "/home/kfir/workspace/RadarLocalization/dataset.py:261: VisibleDeprecationWarning: Creating an ndarray from ragged nested sequences (which is a list-or-tuple of lists-or-tuples-or ndarrays with different lengths or shapes) is deprecated. If you meant to do this, you must specify 'dtype=object' when creating the ndarray\n",
      "  rot = Quaternion(self.ego.iloc[eidx][\"rotation\"])\n"
     ]
    },
    {
     "name": "stdout",
     "output_type": "stream",
     "text": [
      "n_clusters 0\n"
     ]
    },
    {
     "name": "stderr",
     "output_type": "stream",
     "text": [
      "/home/kfir/workspace/RadarLocalization/dataset.py:261: VisibleDeprecationWarning: Creating an ndarray from ragged nested sequences (which is a list-or-tuple of lists-or-tuples-or ndarrays with different lengths or shapes) is deprecated. If you meant to do this, you must specify 'dtype=object' when creating the ndarray\n",
      "  rot = Quaternion(self.ego.iloc[eidx][\"rotation\"])\n"
     ]
    },
    {
     "name": "stdout",
     "output_type": "stream",
     "text": [
      "n_clusters 0\n"
     ]
    },
    {
     "name": "stderr",
     "output_type": "stream",
     "text": [
      "/home/kfir/workspace/RadarLocalization/dataset.py:261: VisibleDeprecationWarning: Creating an ndarray from ragged nested sequences (which is a list-or-tuple of lists-or-tuples-or ndarrays with different lengths or shapes) is deprecated. If you meant to do this, you must specify 'dtype=object' when creating the ndarray\n",
      "  rot = Quaternion(self.ego.iloc[eidx][\"rotation\"])\n"
     ]
    },
    {
     "name": "stdout",
     "output_type": "stream",
     "text": [
      "n_clusters 0\n"
     ]
    },
    {
     "name": "stderr",
     "output_type": "stream",
     "text": [
      "/home/kfir/workspace/RadarLocalization/dataset.py:261: VisibleDeprecationWarning: Creating an ndarray from ragged nested sequences (which is a list-or-tuple of lists-or-tuples-or ndarrays with different lengths or shapes) is deprecated. If you meant to do this, you must specify 'dtype=object' when creating the ndarray\n",
      "  rot = Quaternion(self.ego.iloc[eidx][\"rotation\"])\n"
     ]
    },
    {
     "name": "stdout",
     "output_type": "stream",
     "text": [
      "n_clusters 0\n"
     ]
    },
    {
     "name": "stderr",
     "output_type": "stream",
     "text": [
      "/home/kfir/workspace/RadarLocalization/dataset.py:261: VisibleDeprecationWarning: Creating an ndarray from ragged nested sequences (which is a list-or-tuple of lists-or-tuples-or ndarrays with different lengths or shapes) is deprecated. If you meant to do this, you must specify 'dtype=object' when creating the ndarray\n",
      "  rot = Quaternion(self.ego.iloc[eidx][\"rotation\"])\n"
     ]
    },
    {
     "name": "stdout",
     "output_type": "stream",
     "text": [
      "n_clusters 0\n"
     ]
    },
    {
     "name": "stderr",
     "output_type": "stream",
     "text": [
      "/home/kfir/workspace/RadarLocalization/dataset.py:261: VisibleDeprecationWarning: Creating an ndarray from ragged nested sequences (which is a list-or-tuple of lists-or-tuples-or ndarrays with different lengths or shapes) is deprecated. If you meant to do this, you must specify 'dtype=object' when creating the ndarray\n",
      "  rot = Quaternion(self.ego.iloc[eidx][\"rotation\"])\n"
     ]
    },
    {
     "name": "stdout",
     "output_type": "stream",
     "text": [
      "n_clusters 0\n"
     ]
    },
    {
     "name": "stderr",
     "output_type": "stream",
     "text": [
      "/home/kfir/workspace/RadarLocalization/dataset.py:261: VisibleDeprecationWarning: Creating an ndarray from ragged nested sequences (which is a list-or-tuple of lists-or-tuples-or ndarrays with different lengths or shapes) is deprecated. If you meant to do this, you must specify 'dtype=object' when creating the ndarray\n",
      "  rot = Quaternion(self.ego.iloc[eidx][\"rotation\"])\n"
     ]
    },
    {
     "name": "stdout",
     "output_type": "stream",
     "text": [
      "n_clusters 0\n",
      "vx_com=-3.8463508293548716 vy_com=1.9916254777472748 pc[c==i,6]=[4.  4.5 4.5] pc[c==i,7]=[0. 0. 0.]\n"
     ]
    },
    {
     "name": "stderr",
     "output_type": "stream",
     "text": [
      "/home/kfir/workspace/RadarLocalization/dataset.py:261: VisibleDeprecationWarning: Creating an ndarray from ragged nested sequences (which is a list-or-tuple of lists-or-tuples-or ndarrays with different lengths or shapes) is deprecated. If you meant to do this, you must specify 'dtype=object' when creating the ndarray\n",
      "  rot = Quaternion(self.ego.iloc[eidx][\"rotation\"])\n"
     ]
    },
    {
     "name": "stdout",
     "output_type": "stream",
     "text": [
      "n_clusters 1\n",
      "vx_com=-3.550425581772953 vy_com=1.8385232678874637 pc[c==i,6]=[3.75 4.25] pc[c==i,7]=[0. 0.]\n"
     ]
    },
    {
     "name": "stderr",
     "output_type": "stream",
     "text": [
      "/home/kfir/workspace/RadarLocalization/dataset.py:261: VisibleDeprecationWarning: Creating an ndarray from ragged nested sequences (which is a list-or-tuple of lists-or-tuples-or ndarrays with different lengths or shapes) is deprecated. If you meant to do this, you must specify 'dtype=object' when creating the ndarray\n",
      "  rot = Quaternion(self.ego.iloc[eidx][\"rotation\"])\n"
     ]
    },
    {
     "name": "stdout",
     "output_type": "stream",
     "text": [
      "n_clusters 0\n",
      "vx_com=-3.6058211359631294 vy_com=1.8674057750506683 pc[c==i,6]=[4.   3.75 4.25 4.25] pc[c==i,7]=[0. 0. 0. 0.]\n"
     ]
    },
    {
     "name": "stderr",
     "output_type": "stream",
     "text": [
      "/home/kfir/workspace/RadarLocalization/dataset.py:261: VisibleDeprecationWarning: Creating an ndarray from ragged nested sequences (which is a list-or-tuple of lists-or-tuples-or ndarrays with different lengths or shapes) is deprecated. If you meant to do this, you must specify 'dtype=object' when creating the ndarray\n",
      "  rot = Quaternion(self.ego.iloc[eidx][\"rotation\"])\n"
     ]
    },
    {
     "name": "stdout",
     "output_type": "stream",
     "text": [
      "n_clusters 0\n",
      "vx_com=-3.550361800854347 vy_com=1.8386312662218152 pc[c==i,6]=[3.75 4.25] pc[c==i,7]=[0. 0.]\n"
     ]
    },
    {
     "name": "stderr",
     "output_type": "stream",
     "text": [
      "/home/kfir/workspace/RadarLocalization/dataset.py:261: VisibleDeprecationWarning: Creating an ndarray from ragged nested sequences (which is a list-or-tuple of lists-or-tuples-or ndarrays with different lengths or shapes) is deprecated. If you meant to do this, you must specify 'dtype=object' when creating the ndarray\n",
      "  rot = Quaternion(self.ego.iloc[eidx][\"rotation\"])\n"
     ]
    },
    {
     "name": "stdout",
     "output_type": "stream",
     "text": [
      "n_clusters 0\n",
      "vx_com=-3.402448904535783 vy_com=1.761969187819278 pc[c==i,6]=[3.75 3.75 4.  ] pc[c==i,7]=[0. 0. 0.]\n"
     ]
    },
    {
     "name": "stderr",
     "output_type": "stream",
     "text": [
      "/home/kfir/workspace/RadarLocalization/dataset.py:261: VisibleDeprecationWarning: Creating an ndarray from ragged nested sequences (which is a list-or-tuple of lists-or-tuples-or ndarrays with different lengths or shapes) is deprecated. If you meant to do this, you must specify 'dtype=object' when creating the ndarray\n",
      "  rot = Quaternion(self.ego.iloc[eidx][\"rotation\"])\n"
     ]
    },
    {
     "name": "stdout",
     "output_type": "stream",
     "text": [
      "n_clusters 0\n",
      "vx_com=-3.254528582478958 vy_com=1.6853454486840382 pc[c==i,6]=[3.5 3.5 4. ] pc[c==i,7]=[0. 0. 0.]\n"
     ]
    },
    {
     "name": "stderr",
     "output_type": "stream",
     "text": [
      "/home/kfir/workspace/RadarLocalization/dataset.py:261: VisibleDeprecationWarning: Creating an ndarray from ragged nested sequences (which is a list-or-tuple of lists-or-tuples-or ndarrays with different lengths or shapes) is deprecated. If you meant to do this, you must specify 'dtype=object' when creating the ndarray\n",
      "  rot = Quaternion(self.ego.iloc[eidx][\"rotation\"])\n"
     ]
    },
    {
     "name": "stdout",
     "output_type": "stream",
     "text": [
      "n_clusters 1\n",
      "vx_com=-3.2175117972302543 vy_com=1.6662525541440187 pc[c==i,6]=[3.25 4.  ] pc[c==i,7]=[0. 0.]\n"
     ]
    },
    {
     "name": "stderr",
     "output_type": "stream",
     "text": [
      "/home/kfir/workspace/RadarLocalization/dataset.py:261: VisibleDeprecationWarning: Creating an ndarray from ragged nested sequences (which is a list-or-tuple of lists-or-tuples-or ndarrays with different lengths or shapes) is deprecated. If you meant to do this, you must specify 'dtype=object' when creating the ndarray\n",
      "  rot = Quaternion(self.ego.iloc[eidx][\"rotation\"])\n"
     ]
    },
    {
     "name": "stdout",
     "output_type": "stream",
     "text": [
      "n_clusters 1\n",
      "vx_com=-2.9955928332438884 vy_com=1.5513753132038404 pc[c==i,6]=[3.25 3.5 ] pc[c==i,7]=[0. 0.]\n"
     ]
    },
    {
     "name": "stderr",
     "output_type": "stream",
     "text": [
      "/home/kfir/workspace/RadarLocalization/dataset.py:261: VisibleDeprecationWarning: Creating an ndarray from ragged nested sequences (which is a list-or-tuple of lists-or-tuples-or ndarrays with different lengths or shapes) is deprecated. If you meant to do this, you must specify 'dtype=object' when creating the ndarray\n",
      "  rot = Quaternion(self.ego.iloc[eidx][\"rotation\"])\n"
     ]
    },
    {
     "name": "stdout",
     "output_type": "stream",
     "text": [
      "n_clusters 1\n",
      "vx_com=-2.9956127636748553 vy_com=1.5513412701648406 pc[c==i,6]=[3.25 3.5 ] pc[c==i,7]=[0. 0.]\n"
     ]
    },
    {
     "name": "stderr",
     "output_type": "stream",
     "text": [
      "/home/kfir/workspace/RadarLocalization/dataset.py:261: VisibleDeprecationWarning: Creating an ndarray from ragged nested sequences (which is a list-or-tuple of lists-or-tuples-or ndarrays with different lengths or shapes) is deprecated. If you meant to do this, you must specify 'dtype=object' when creating the ndarray\n",
      "  rot = Quaternion(self.ego.iloc[eidx][\"rotation\"])\n"
     ]
    },
    {
     "name": "stdout",
     "output_type": "stream",
     "text": [
      "n_clusters 1\n",
      "vx_com=-2.662759946138851 vy_com=1.3789750471417501 pc[c==i,6]=[3.] pc[c==i,7]=[0.]\n"
     ]
    },
    {
     "name": "stderr",
     "output_type": "stream",
     "text": [
      "/home/kfir/workspace/RadarLocalization/dataset.py:261: VisibleDeprecationWarning: Creating an ndarray from ragged nested sequences (which is a list-or-tuple of lists-or-tuples-or ndarrays with different lengths or shapes) is deprecated. If you meant to do this, you must specify 'dtype=object' when creating the ndarray\n",
      "  rot = Quaternion(self.ego.iloc[eidx][\"rotation\"])\n"
     ]
    },
    {
     "name": "stdout",
     "output_type": "stream",
     "text": [
      "n_clusters 1\n",
      "vx_com=-2.6627043115681257 vy_com=1.3790684502444266 pc[c==i,6]=[3. 3.] pc[c==i,7]=[0. 0.]\n"
     ]
    },
    {
     "name": "stderr",
     "output_type": "stream",
     "text": [
      "/home/kfir/workspace/RadarLocalization/dataset.py:261: VisibleDeprecationWarning: Creating an ndarray from ragged nested sequences (which is a list-or-tuple of lists-or-tuples-or ndarrays with different lengths or shapes) is deprecated. If you meant to do this, you must specify 'dtype=object' when creating the ndarray\n",
      "  rot = Quaternion(self.ego.iloc[eidx][\"rotation\"])\n"
     ]
    },
    {
     "name": "stdout",
     "output_type": "stream",
     "text": [
      "n_clusters 1\n",
      "vx_com=-2.3298244024749257 vy_com=1.2067617103997237 pc[c==i,6]=[2.5  2.75] pc[c==i,7]=[0. 0.]\n"
     ]
    },
    {
     "name": "stderr",
     "output_type": "stream",
     "text": [
      "/home/kfir/workspace/RadarLocalization/dataset.py:261: VisibleDeprecationWarning: Creating an ndarray from ragged nested sequences (which is a list-or-tuple of lists-or-tuples-or ndarrays with different lengths or shapes) is deprecated. If you meant to do this, you must specify 'dtype=object' when creating the ndarray\n",
      "  rot = Quaternion(self.ego.iloc[eidx][\"rotation\"])\n"
     ]
    },
    {
     "name": "stdout",
     "output_type": "stream",
     "text": [
      "n_clusters 1\n",
      "vx_com=-2.218881227953778 vy_com=1.1492989681474262 pc[c==i,6]=[2.5 2.5] pc[c==i,7]=[0. 0.]\n"
     ]
    },
    {
     "name": "stderr",
     "output_type": "stream",
     "text": [
      "/home/kfir/workspace/RadarLocalization/dataset.py:261: VisibleDeprecationWarning: Creating an ndarray from ragged nested sequences (which is a list-or-tuple of lists-or-tuples-or ndarrays with different lengths or shapes) is deprecated. If you meant to do this, you must specify 'dtype=object' when creating the ndarray\n",
      "  rot = Quaternion(self.ego.iloc[eidx][\"rotation\"])\n"
     ]
    },
    {
     "name": "stdout",
     "output_type": "stream",
     "text": [
      "n_clusters 0\n"
     ]
    },
    {
     "name": "stderr",
     "output_type": "stream",
     "text": [
      "/home/kfir/workspace/RadarLocalization/dataset.py:261: VisibleDeprecationWarning: Creating an ndarray from ragged nested sequences (which is a list-or-tuple of lists-or-tuples-or ndarrays with different lengths or shapes) is deprecated. If you meant to do this, you must specify 'dtype=object' when creating the ndarray\n",
      "  rot = Quaternion(self.ego.iloc[eidx][\"rotation\"])\n"
     ]
    },
    {
     "name": "stdout",
     "output_type": "stream",
     "text": [
      "n_clusters 0\n"
     ]
    },
    {
     "name": "stderr",
     "output_type": "stream",
     "text": [
      "/home/kfir/workspace/RadarLocalization/dataset.py:261: VisibleDeprecationWarning: Creating an ndarray from ragged nested sequences (which is a list-or-tuple of lists-or-tuples-or ndarrays with different lengths or shapes) is deprecated. If you meant to do this, you must specify 'dtype=object' when creating the ndarray\n",
      "  rot = Quaternion(self.ego.iloc[eidx][\"rotation\"])\n"
     ]
    },
    {
     "name": "stdout",
     "output_type": "stream",
     "text": [
      "n_clusters 0\n"
     ]
    },
    {
     "name": "stderr",
     "output_type": "stream",
     "text": [
      "/home/kfir/workspace/RadarLocalization/dataset.py:261: VisibleDeprecationWarning: Creating an ndarray from ragged nested sequences (which is a list-or-tuple of lists-or-tuples-or ndarrays with different lengths or shapes) is deprecated. If you meant to do this, you must specify 'dtype=object' when creating the ndarray\n",
      "  rot = Quaternion(self.ego.iloc[eidx][\"rotation\"])\n"
     ]
    },
    {
     "name": "stdout",
     "output_type": "stream",
     "text": [
      "n_clusters 2\n",
      "vx_com=-2.218849432857964 vy_com=1.149354999293958 pc[c==i,6]=[2.5] pc[c==i,7]=[0.]\n"
     ]
    },
    {
     "name": "stderr",
     "output_type": "stream",
     "text": [
      "/home/kfir/workspace/RadarLocalization/dataset.py:261: VisibleDeprecationWarning: Creating an ndarray from ragged nested sequences (which is a list-or-tuple of lists-or-tuples-or ndarrays with different lengths or shapes) is deprecated. If you meant to do this, you must specify 'dtype=object' when creating the ndarray\n",
      "  rot = Quaternion(self.ego.iloc[eidx][\"rotation\"])\n"
     ]
    },
    {
     "name": "stdout",
     "output_type": "stream",
     "text": [
      "n_clusters 1\n"
     ]
    },
    {
     "name": "stderr",
     "output_type": "stream",
     "text": [
      "/home/kfir/workspace/RadarLocalization/dataset.py:261: VisibleDeprecationWarning: Creating an ndarray from ragged nested sequences (which is a list-or-tuple of lists-or-tuples-or ndarrays with different lengths or shapes) is deprecated. If you meant to do this, you must specify 'dtype=object' when creating the ndarray\n",
      "  rot = Quaternion(self.ego.iloc[eidx][\"rotation\"])\n"
     ]
    },
    {
     "name": "stdout",
     "output_type": "stream",
     "text": [
      "n_clusters 1\n"
     ]
    },
    {
     "name": "stderr",
     "output_type": "stream",
     "text": [
      "/home/kfir/workspace/RadarLocalization/dataset.py:261: VisibleDeprecationWarning: Creating an ndarray from ragged nested sequences (which is a list-or-tuple of lists-or-tuples-or ndarrays with different lengths or shapes) is deprecated. If you meant to do this, you must specify 'dtype=object' when creating the ndarray\n",
      "  rot = Quaternion(self.ego.iloc[eidx][\"rotation\"])\n"
     ]
    },
    {
     "name": "stdout",
     "output_type": "stream",
     "text": [
      "n_clusters 1\n"
     ]
    },
    {
     "name": "stderr",
     "output_type": "stream",
     "text": [
      "/home/kfir/workspace/RadarLocalization/dataset.py:261: VisibleDeprecationWarning: Creating an ndarray from ragged nested sequences (which is a list-or-tuple of lists-or-tuples-or ndarrays with different lengths or shapes) is deprecated. If you meant to do this, you must specify 'dtype=object' when creating the ndarray\n",
      "  rot = Quaternion(self.ego.iloc[eidx][\"rotation\"])\n"
     ]
    },
    {
     "name": "stdout",
     "output_type": "stream",
     "text": [
      "n_clusters 0\n"
     ]
    },
    {
     "name": "stderr",
     "output_type": "stream",
     "text": [
      "/home/kfir/workspace/RadarLocalization/dataset.py:261: VisibleDeprecationWarning: Creating an ndarray from ragged nested sequences (which is a list-or-tuple of lists-or-tuples-or ndarrays with different lengths or shapes) is deprecated. If you meant to do this, you must specify 'dtype=object' when creating the ndarray\n",
      "  rot = Quaternion(self.ego.iloc[eidx][\"rotation\"])\n"
     ]
    },
    {
     "name": "stdout",
     "output_type": "stream",
     "text": [
      "n_clusters 0\n"
     ]
    },
    {
     "name": "stderr",
     "output_type": "stream",
     "text": [
      "/home/kfir/workspace/RadarLocalization/dataset.py:261: VisibleDeprecationWarning: Creating an ndarray from ragged nested sequences (which is a list-or-tuple of lists-or-tuples-or ndarrays with different lengths or shapes) is deprecated. If you meant to do this, you must specify 'dtype=object' when creating the ndarray\n",
      "  rot = Quaternion(self.ego.iloc[eidx][\"rotation\"])\n"
     ]
    },
    {
     "name": "stdout",
     "output_type": "stream",
     "text": [
      "n_clusters 0\n"
     ]
    },
    {
     "name": "stderr",
     "output_type": "stream",
     "text": [
      "/home/kfir/workspace/RadarLocalization/dataset.py:261: VisibleDeprecationWarning: Creating an ndarray from ragged nested sequences (which is a list-or-tuple of lists-or-tuples-or ndarrays with different lengths or shapes) is deprecated. If you meant to do this, you must specify 'dtype=object' when creating the ndarray\n",
      "  rot = Quaternion(self.ego.iloc[eidx][\"rotation\"])\n"
     ]
    },
    {
     "name": "stdout",
     "output_type": "stream",
     "text": [
      "n_clusters 1\n",
      "vx_com=-2.218861767160108 vy_com=1.1493029923750846 pc[c==i,6]=[2.5] pc[c==i,7]=[0.]\n"
     ]
    },
    {
     "name": "stderr",
     "output_type": "stream",
     "text": [
      "/home/kfir/workspace/RadarLocalization/dataset.py:261: VisibleDeprecationWarning: Creating an ndarray from ragged nested sequences (which is a list-or-tuple of lists-or-tuples-or ndarrays with different lengths or shapes) is deprecated. If you meant to do this, you must specify 'dtype=object' when creating the ndarray\n",
      "  rot = Quaternion(self.ego.iloc[eidx][\"rotation\"])\n"
     ]
    },
    {
     "name": "stdout",
     "output_type": "stream",
     "text": [
      "n_clusters 1\n",
      "vx_com=-2.218855852834731 vy_com=1.149311489602737 pc[c==i,6]=[2.5] pc[c==i,7]=[0.]\n"
     ]
    },
    {
     "name": "stderr",
     "output_type": "stream",
     "text": [
      "/home/kfir/workspace/RadarLocalization/dataset.py:261: VisibleDeprecationWarning: Creating an ndarray from ragged nested sequences (which is a list-or-tuple of lists-or-tuples-or ndarrays with different lengths or shapes) is deprecated. If you meant to do this, you must specify 'dtype=object' when creating the ndarray\n",
      "  rot = Quaternion(self.ego.iloc[eidx][\"rotation\"])\n"
     ]
    },
    {
     "name": "stdout",
     "output_type": "stream",
     "text": [
      "n_clusters 1\n",
      "vx_com=-2.218854292689738 vy_com=1.1493165695817051 pc[c==i,6]=[2.5] pc[c==i,7]=[0.]\n"
     ]
    },
    {
     "name": "stderr",
     "output_type": "stream",
     "text": [
      "/home/kfir/workspace/RadarLocalization/dataset.py:261: VisibleDeprecationWarning: Creating an ndarray from ragged nested sequences (which is a list-or-tuple of lists-or-tuples-or ndarrays with different lengths or shapes) is deprecated. If you meant to do this, you must specify 'dtype=object' when creating the ndarray\n",
      "  rot = Quaternion(self.ego.iloc[eidx][\"rotation\"])\n"
     ]
    },
    {
     "name": "stdout",
     "output_type": "stream",
     "text": [
      "n_clusters 0\n"
     ]
    },
    {
     "name": "stderr",
     "output_type": "stream",
     "text": [
      "/home/kfir/workspace/RadarLocalization/dataset.py:261: VisibleDeprecationWarning: Creating an ndarray from ragged nested sequences (which is a list-or-tuple of lists-or-tuples-or ndarrays with different lengths or shapes) is deprecated. If you meant to do this, you must specify 'dtype=object' when creating the ndarray\n",
      "  rot = Quaternion(self.ego.iloc[eidx][\"rotation\"])\n"
     ]
    },
    {
     "name": "stdout",
     "output_type": "stream",
     "text": [
      "n_clusters 1\n",
      "vx_com=-1.9969467209952954 vy_com=1.0344285611600372 pc[c==i,6]=[2.25] pc[c==i,7]=[0.]\n"
     ]
    },
    {
     "name": "stderr",
     "output_type": "stream",
     "text": [
      "/home/kfir/workspace/RadarLocalization/dataset.py:261: VisibleDeprecationWarning: Creating an ndarray from ragged nested sequences (which is a list-or-tuple of lists-or-tuples-or ndarrays with different lengths or shapes) is deprecated. If you meant to do this, you must specify 'dtype=object' when creating the ndarray\n",
      "  rot = Quaternion(self.ego.iloc[eidx][\"rotation\"])\n"
     ]
    },
    {
     "name": "stdout",
     "output_type": "stream",
     "text": [
      "n_clusters 2\n",
      "vx_com=-1.6641424945922454 vy_com=0.8619833931396769 pc[c==i,6]=[1.75 2.  ] pc[c==i,7]=[0. 0.]\n",
      "vx_com=-2.329799492429143 vy_com=1.2067767503955475 pc[c==i,6]=[2.75 2.5 ] pc[c==i,7]=[0. 0.]\n"
     ]
    },
    {
     "name": "stderr",
     "output_type": "stream",
     "text": [
      "/home/kfir/workspace/RadarLocalization/dataset.py:261: VisibleDeprecationWarning: Creating an ndarray from ragged nested sequences (which is a list-or-tuple of lists-or-tuples-or ndarrays with different lengths or shapes) is deprecated. If you meant to do this, you must specify 'dtype=object' when creating the ndarray\n",
      "  rot = Quaternion(self.ego.iloc[eidx][\"rotation\"])\n"
     ]
    },
    {
     "name": "stdout",
     "output_type": "stream",
     "text": [
      "n_clusters 2\n",
      "vx_com=-1.6641296018744527 vy_com=0.8620112233414724 pc[c==i,6]=[1.75 2.  ] pc[c==i,7]=[0. 0.]\n",
      "vx_com=-2.329781442624234 vy_com=1.2068157126780614 pc[c==i,6]=[2.75 2.5 ] pc[c==i,7]=[0. 0.]\n"
     ]
    },
    {
     "name": "stderr",
     "output_type": "stream",
     "text": [
      "/home/kfir/workspace/RadarLocalization/dataset.py:261: VisibleDeprecationWarning: Creating an ndarray from ragged nested sequences (which is a list-or-tuple of lists-or-tuples-or ndarrays with different lengths or shapes) is deprecated. If you meant to do this, you must specify 'dtype=object' when creating the ndarray\n",
      "  rot = Quaternion(self.ego.iloc[eidx][\"rotation\"])\n"
     ]
    },
    {
     "name": "stdout",
     "output_type": "stream",
     "text": [
      "n_clusters 1\n",
      "vx_com=-2.1078973568035533 vy_com=1.0918823412271654 pc[c==i,6]=[2.   2.75] pc[c==i,7]=[0. 0.]\n"
     ]
    },
    {
     "name": "stderr",
     "output_type": "stream",
     "text": [
      "/home/kfir/workspace/RadarLocalization/dataset.py:261: VisibleDeprecationWarning: Creating an ndarray from ragged nested sequences (which is a list-or-tuple of lists-or-tuples-or ndarrays with different lengths or shapes) is deprecated. If you meant to do this, you must specify 'dtype=object' when creating the ndarray\n",
      "  rot = Quaternion(self.ego.iloc[eidx][\"rotation\"])\n"
     ]
    },
    {
     "name": "stdout",
     "output_type": "stream",
     "text": [
      "n_clusters 1\n",
      "vx_com=-1.9969457829233508 vy_com=1.0344442759159482 pc[c==i,6]=[1.75 2.75] pc[c==i,7]=[0. 0.]\n"
     ]
    },
    {
     "name": "stderr",
     "output_type": "stream",
     "text": [
      "/home/kfir/workspace/RadarLocalization/dataset.py:261: VisibleDeprecationWarning: Creating an ndarray from ragged nested sequences (which is a list-or-tuple of lists-or-tuples-or ndarrays with different lengths or shapes) is deprecated. If you meant to do this, you must specify 'dtype=object' when creating the ndarray\n",
      "  rot = Quaternion(self.ego.iloc[eidx][\"rotation\"])\n"
     ]
    },
    {
     "name": "stdout",
     "output_type": "stream",
     "text": [
      "n_clusters 0\n",
      "vx_com=-1.4422506218940923 vy_com=0.7470751078411035 pc[c==i,6]=[1.5  1.75] pc[c==i,7]=[0. 0.]\n"
     ]
    },
    {
     "name": "stderr",
     "output_type": "stream",
     "text": [
      "/home/kfir/workspace/RadarLocalization/dataset.py:261: VisibleDeprecationWarning: Creating an ndarray from ragged nested sequences (which is a list-or-tuple of lists-or-tuples-or ndarrays with different lengths or shapes) is deprecated. If you meant to do this, you must specify 'dtype=object' when creating the ndarray\n",
      "  rot = Quaternion(self.ego.iloc[eidx][\"rotation\"])\n"
     ]
    },
    {
     "name": "stdout",
     "output_type": "stream",
     "text": [
      "n_clusters 1\n",
      "vx_com=-1.2203846180138689 vy_com=0.6321001011876989 pc[c==i,6]=[1.25 1.5 ] pc[c==i,7]=[0. 0.]\n"
     ]
    },
    {
     "name": "stderr",
     "output_type": "stream",
     "text": [
      "/home/kfir/workspace/RadarLocalization/dataset.py:261: VisibleDeprecationWarning: Creating an ndarray from ragged nested sequences (which is a list-or-tuple of lists-or-tuples-or ndarrays with different lengths or shapes) is deprecated. If you meant to do this, you must specify 'dtype=object' when creating the ndarray\n",
      "  rot = Quaternion(self.ego.iloc[eidx][\"rotation\"])\n"
     ]
    },
    {
     "name": "stdout",
     "output_type": "stream",
     "text": [
      "n_clusters 0\n"
     ]
    },
    {
     "name": "stderr",
     "output_type": "stream",
     "text": [
      "/home/kfir/workspace/RadarLocalization/dataset.py:261: VisibleDeprecationWarning: Creating an ndarray from ragged nested sequences (which is a list-or-tuple of lists-or-tuples-or ndarrays with different lengths or shapes) is deprecated. If you meant to do this, you must specify 'dtype=object' when creating the ndarray\n",
      "  rot = Quaternion(self.ego.iloc[eidx][\"rotation\"])\n"
     ]
    },
    {
     "name": "stdout",
     "output_type": "stream",
     "text": [
      "n_clusters 1\n",
      "vx_com=-2.884611689315748 vy_com=1.4939182771003847 pc[c==i,6]=[3.25 3.25] pc[c==i,7]=[0. 0.]\n"
     ]
    },
    {
     "name": "stderr",
     "output_type": "stream",
     "text": [
      "/home/kfir/workspace/RadarLocalization/dataset.py:261: VisibleDeprecationWarning: Creating an ndarray from ragged nested sequences (which is a list-or-tuple of lists-or-tuples-or ndarrays with different lengths or shapes) is deprecated. If you meant to do this, you must specify 'dtype=object' when creating the ndarray\n",
      "  rot = Quaternion(self.ego.iloc[eidx][\"rotation\"])\n"
     ]
    },
    {
     "name": "stdout",
     "output_type": "stream",
     "text": [
      "n_clusters 0\n"
     ]
    },
    {
     "name": "stderr",
     "output_type": "stream",
     "text": [
      "/home/kfir/workspace/RadarLocalization/dataset.py:261: VisibleDeprecationWarning: Creating an ndarray from ragged nested sequences (which is a list-or-tuple of lists-or-tuples-or ndarrays with different lengths or shapes) is deprecated. If you meant to do this, you must specify 'dtype=object' when creating the ndarray\n",
      "  rot = Quaternion(self.ego.iloc[eidx][\"rotation\"])\n"
     ]
    },
    {
     "name": "stdout",
     "output_type": "stream",
     "text": [
      "n_clusters 0\n"
     ]
    },
    {
     "name": "stderr",
     "output_type": "stream",
     "text": [
      "/home/kfir/workspace/RadarLocalization/dataset.py:261: VisibleDeprecationWarning: Creating an ndarray from ragged nested sequences (which is a list-or-tuple of lists-or-tuples-or ndarrays with different lengths or shapes) is deprecated. If you meant to do this, you must specify 'dtype=object' when creating the ndarray\n",
      "  rot = Quaternion(self.ego.iloc[eidx][\"rotation\"])\n"
     ]
    },
    {
     "name": "stdout",
     "output_type": "stream",
     "text": [
      "n_clusters 1\n",
      "vx_com=-2.440461093308009 vy_com=1.264858158316549 pc[c==i,6]=[3.5 2. ] pc[c==i,7]=[0. 0.]\n"
     ]
    },
    {
     "name": "stderr",
     "output_type": "stream",
     "text": [
      "/home/kfir/workspace/RadarLocalization/dataset.py:261: VisibleDeprecationWarning: Creating an ndarray from ragged nested sequences (which is a list-or-tuple of lists-or-tuples-or ndarrays with different lengths or shapes) is deprecated. If you meant to do this, you must specify 'dtype=object' when creating the ndarray\n",
      "  rot = Quaternion(self.ego.iloc[eidx][\"rotation\"])\n"
     ]
    },
    {
     "name": "stdout",
     "output_type": "stream",
     "text": [
      "n_clusters 1\n",
      "vx_com=-3.1061599916144154 vy_com=1.6096682637417359 pc[c==i,6]=[3.5] pc[c==i,7]=[0.]\n"
     ]
    },
    {
     "name": "stderr",
     "output_type": "stream",
     "text": [
      "/home/kfir/workspace/RadarLocalization/dataset.py:261: VisibleDeprecationWarning: Creating an ndarray from ragged nested sequences (which is a list-or-tuple of lists-or-tuples-or ndarrays with different lengths or shapes) is deprecated. If you meant to do this, you must specify 'dtype=object' when creating the ndarray\n",
      "  rot = Quaternion(self.ego.iloc[eidx][\"rotation\"])\n"
     ]
    },
    {
     "name": "stdout",
     "output_type": "stream",
     "text": [
      "n_clusters 0\n"
     ]
    },
    {
     "name": "stderr",
     "output_type": "stream",
     "text": [
      "/home/kfir/workspace/RadarLocalization/dataset.py:261: VisibleDeprecationWarning: Creating an ndarray from ragged nested sequences (which is a list-or-tuple of lists-or-tuples-or ndarrays with different lengths or shapes) is deprecated. If you meant to do this, you must specify 'dtype=object' when creating the ndarray\n",
      "  rot = Quaternion(self.ego.iloc[eidx][\"rotation\"])\n"
     ]
    },
    {
     "name": "stdout",
     "output_type": "stream",
     "text": [
      "n_clusters 0\n"
     ]
    },
    {
     "name": "stderr",
     "output_type": "stream",
     "text": [
      "/home/kfir/workspace/RadarLocalization/dataset.py:261: VisibleDeprecationWarning: Creating an ndarray from ragged nested sequences (which is a list-or-tuple of lists-or-tuples-or ndarrays with different lengths or shapes) is deprecated. If you meant to do this, you must specify 'dtype=object' when creating the ndarray\n",
      "  rot = Quaternion(self.ego.iloc[eidx][\"rotation\"])\n"
     ]
    },
    {
     "name": "stdout",
     "output_type": "stream",
     "text": [
      "n_clusters 0\n"
     ]
    },
    {
     "name": "stderr",
     "output_type": "stream",
     "text": [
      "/home/kfir/workspace/RadarLocalization/dataset.py:261: VisibleDeprecationWarning: Creating an ndarray from ragged nested sequences (which is a list-or-tuple of lists-or-tuples-or ndarrays with different lengths or shapes) is deprecated. If you meant to do this, you must specify 'dtype=object' when creating the ndarray\n",
      "  rot = Quaternion(self.ego.iloc[eidx][\"rotation\"])\n"
     ]
    },
    {
     "name": "stdout",
     "output_type": "stream",
     "text": [
      "n_clusters 0\n"
     ]
    },
    {
     "name": "stderr",
     "output_type": "stream",
     "text": [
      "/home/kfir/workspace/RadarLocalization/dataset.py:261: VisibleDeprecationWarning: Creating an ndarray from ragged nested sequences (which is a list-or-tuple of lists-or-tuples-or ndarrays with different lengths or shapes) is deprecated. If you meant to do this, you must specify 'dtype=object' when creating the ndarray\n",
      "  rot = Quaternion(self.ego.iloc[eidx][\"rotation\"])\n"
     ]
    },
    {
     "name": "stdout",
     "output_type": "stream",
     "text": [
      "n_clusters 0\n"
     ]
    },
    {
     "name": "stderr",
     "output_type": "stream",
     "text": [
      "/home/kfir/workspace/RadarLocalization/dataset.py:261: VisibleDeprecationWarning: Creating an ndarray from ragged nested sequences (which is a list-or-tuple of lists-or-tuples-or ndarrays with different lengths or shapes) is deprecated. If you meant to do this, you must specify 'dtype=object' when creating the ndarray\n",
      "  rot = Quaternion(self.ego.iloc[eidx][\"rotation\"])\n"
     ]
    },
    {
     "name": "stdout",
     "output_type": "stream",
     "text": [
      "n_clusters 1\n",
      "vx_com=0.4042842510122212 vy_com=-0.44255962865256554 pc[c==i,6]=[0.] pc[c==i,7]=[0.5]\n"
     ]
    },
    {
     "name": "stderr",
     "output_type": "stream",
     "text": [
      "/home/kfir/workspace/RadarLocalization/dataset.py:261: VisibleDeprecationWarning: Creating an ndarray from ragged nested sequences (which is a list-or-tuple of lists-or-tuples-or ndarrays with different lengths or shapes) is deprecated. If you meant to do this, you must specify 'dtype=object' when creating the ndarray\n",
      "  rot = Quaternion(self.ego.iloc[eidx][\"rotation\"])\n"
     ]
    },
    {
     "name": "stdout",
     "output_type": "stream",
     "text": [
      "n_clusters 0\n"
     ]
    },
    {
     "name": "stderr",
     "output_type": "stream",
     "text": [
      "/home/kfir/workspace/RadarLocalization/dataset.py:261: VisibleDeprecationWarning: Creating an ndarray from ragged nested sequences (which is a list-or-tuple of lists-or-tuples-or ndarrays with different lengths or shapes) is deprecated. If you meant to do this, you must specify 'dtype=object' when creating the ndarray\n",
      "  rot = Quaternion(self.ego.iloc[eidx][\"rotation\"])\n"
     ]
    },
    {
     "name": "stdout",
     "output_type": "stream",
     "text": [
      "n_clusters 1\n",
      "vx_com=1.2377356452834538 vy_com=-0.6748621495197096 pc[c==i,6]=[-0.5] pc[c==i,7]=[0.5]\n"
     ]
    },
    {
     "name": "stderr",
     "output_type": "stream",
     "text": [
      "/home/kfir/workspace/RadarLocalization/dataset.py:261: VisibleDeprecationWarning: Creating an ndarray from ragged nested sequences (which is a list-or-tuple of lists-or-tuples-or ndarrays with different lengths or shapes) is deprecated. If you meant to do this, you must specify 'dtype=object' when creating the ndarray\n",
      "  rot = Quaternion(self.ego.iloc[eidx][\"rotation\"])\n"
     ]
    },
    {
     "name": "stdout",
     "output_type": "stream",
     "text": [
      "n_clusters 1\n",
      "vx_com=1.3810424381383242 vy_com=-0.6751723069093133 pc[c==i,6]=[-0.5] pc[c==i,7]=[0.5]\n"
     ]
    },
    {
     "name": "stderr",
     "output_type": "stream",
     "text": [
      "/home/kfir/workspace/RadarLocalization/dataset.py:261: VisibleDeprecationWarning: Creating an ndarray from ragged nested sequences (which is a list-or-tuple of lists-or-tuples-or ndarrays with different lengths or shapes) is deprecated. If you meant to do this, you must specify 'dtype=object' when creating the ndarray\n",
      "  rot = Quaternion(self.ego.iloc[eidx][\"rotation\"])\n"
     ]
    },
    {
     "name": "stdout",
     "output_type": "stream",
     "text": [
      "n_clusters 1\n",
      "vx_com=1.7386165641597775 vy_com=-0.7927352750644678 pc[c==i,6]=[-0.75] pc[c==i,7]=[0.5]\n"
     ]
    },
    {
     "name": "stderr",
     "output_type": "stream",
     "text": [
      "/home/kfir/workspace/RadarLocalization/dataset.py:261: VisibleDeprecationWarning: Creating an ndarray from ragged nested sequences (which is a list-or-tuple of lists-or-tuples-or ndarrays with different lengths or shapes) is deprecated. If you meant to do this, you must specify 'dtype=object' when creating the ndarray\n",
      "  rot = Quaternion(self.ego.iloc[eidx][\"rotation\"])\n"
     ]
    },
    {
     "name": "stdout",
     "output_type": "stream",
     "text": [
      "n_clusters 1\n",
      "vx_com=1.8322183164406947 vy_com=-0.79333658591186 pc[c==i,6]=[-0.75] pc[c==i,7]=[0.5]\n"
     ]
    },
    {
     "name": "stderr",
     "output_type": "stream",
     "text": [
      "/home/kfir/workspace/RadarLocalization/dataset.py:261: VisibleDeprecationWarning: Creating an ndarray from ragged nested sequences (which is a list-or-tuple of lists-or-tuples-or ndarrays with different lengths or shapes) is deprecated. If you meant to do this, you must specify 'dtype=object' when creating the ndarray\n",
      "  rot = Quaternion(self.ego.iloc[eidx][\"rotation\"])\n"
     ]
    },
    {
     "name": "stdout",
     "output_type": "stream",
     "text": [
      "n_clusters 0\n"
     ]
    },
    {
     "name": "stderr",
     "output_type": "stream",
     "text": [
      "/home/kfir/workspace/RadarLocalization/dataset.py:261: VisibleDeprecationWarning: Creating an ndarray from ragged nested sequences (which is a list-or-tuple of lists-or-tuples-or ndarrays with different lengths or shapes) is deprecated. If you meant to do this, you must specify 'dtype=object' when creating the ndarray\n",
      "  rot = Quaternion(self.ego.iloc[eidx][\"rotation\"])\n"
     ]
    },
    {
     "name": "stdout",
     "output_type": "stream",
     "text": [
      "n_clusters 1\n",
      "vx_com=2.3749694757039856 vy_com=-0.9129892302275104 pc[c==i,6]=[-1.] pc[c==i,7]=[0.5]\n"
     ]
    },
    {
     "name": "stderr",
     "output_type": "stream",
     "text": [
      "/home/kfir/workspace/RadarLocalization/dataset.py:261: VisibleDeprecationWarning: Creating an ndarray from ragged nested sequences (which is a list-or-tuple of lists-or-tuples-or ndarrays with different lengths or shapes) is deprecated. If you meant to do this, you must specify 'dtype=object' when creating the ndarray\n",
      "  rot = Quaternion(self.ego.iloc[eidx][\"rotation\"])\n"
     ]
    },
    {
     "name": "stdout",
     "output_type": "stream",
     "text": [
      "n_clusters 1\n",
      "vx_com=2.709085128569612 vy_com=-1.0323236786926822 pc[c==i,6]=[-1.25] pc[c==i,7]=[0.5]\n"
     ]
    },
    {
     "name": "stderr",
     "output_type": "stream",
     "text": [
      "/home/kfir/workspace/RadarLocalization/dataset.py:261: VisibleDeprecationWarning: Creating an ndarray from ragged nested sequences (which is a list-or-tuple of lists-or-tuples-or ndarrays with different lengths or shapes) is deprecated. If you meant to do this, you must specify 'dtype=object' when creating the ndarray\n",
      "  rot = Quaternion(self.ego.iloc[eidx][\"rotation\"])\n"
     ]
    },
    {
     "name": "stdout",
     "output_type": "stream",
     "text": [
      "n_clusters 1\n",
      "vx_com=2.58901017771378 vy_com=-0.914275583215135 pc[c==i,6]=[-1.] pc[c==i,7]=[0.5]\n"
     ]
    },
    {
     "name": "stderr",
     "output_type": "stream",
     "text": [
      "/home/kfir/workspace/RadarLocalization/dataset.py:261: VisibleDeprecationWarning: Creating an ndarray from ragged nested sequences (which is a list-or-tuple of lists-or-tuples-or ndarrays with different lengths or shapes) is deprecated. If you meant to do this, you must specify 'dtype=object' when creating the ndarray\n",
      "  rot = Quaternion(self.ego.iloc[eidx][\"rotation\"])\n"
     ]
    },
    {
     "name": "stdout",
     "output_type": "stream",
     "text": [
      "n_clusters 0\n"
     ]
    },
    {
     "name": "stderr",
     "output_type": "stream",
     "text": [
      "/home/kfir/workspace/RadarLocalization/dataset.py:261: VisibleDeprecationWarning: Creating an ndarray from ragged nested sequences (which is a list-or-tuple of lists-or-tuples-or ndarrays with different lengths or shapes) is deprecated. If you meant to do this, you must specify 'dtype=object' when creating the ndarray\n",
      "  rot = Quaternion(self.ego.iloc[eidx][\"rotation\"])\n"
     ]
    },
    {
     "name": "stdout",
     "output_type": "stream",
     "text": [
      "n_clusters 1\n",
      "vx_com=2.8704533764946003 vy_com=-0.9749669027892832 pc[c==i,6]=[-1.25 -1.  ] pc[c==i,7]=[0.5 0.5]\n"
     ]
    },
    {
     "name": "stderr",
     "output_type": "stream",
     "text": [
      "/home/kfir/workspace/RadarLocalization/dataset.py:261: VisibleDeprecationWarning: Creating an ndarray from ragged nested sequences (which is a list-or-tuple of lists-or-tuples-or ndarrays with different lengths or shapes) is deprecated. If you meant to do this, you must specify 'dtype=object' when creating the ndarray\n",
      "  rot = Quaternion(self.ego.iloc[eidx][\"rotation\"])\n"
     ]
    },
    {
     "name": "stdout",
     "output_type": "stream",
     "text": [
      "n_clusters 0\n"
     ]
    },
    {
     "name": "stderr",
     "output_type": "stream",
     "text": [
      "/home/kfir/workspace/RadarLocalization/dataset.py:261: VisibleDeprecationWarning: Creating an ndarray from ragged nested sequences (which is a list-or-tuple of lists-or-tuples-or ndarrays with different lengths or shapes) is deprecated. If you meant to do this, you must specify 'dtype=object' when creating the ndarray\n",
      "  rot = Quaternion(self.ego.iloc[eidx][\"rotation\"])\n"
     ]
    },
    {
     "name": "stdout",
     "output_type": "stream",
     "text": [
      "n_clusters 0\n"
     ]
    },
    {
     "name": "stderr",
     "output_type": "stream",
     "text": [
      "/home/kfir/workspace/RadarLocalization/dataset.py:261: VisibleDeprecationWarning: Creating an ndarray from ragged nested sequences (which is a list-or-tuple of lists-or-tuples-or ndarrays with different lengths or shapes) is deprecated. If you meant to do this, you must specify 'dtype=object' when creating the ndarray\n",
      "  rot = Quaternion(self.ego.iloc[eidx][\"rotation\"])\n"
     ]
    },
    {
     "name": "stdout",
     "output_type": "stream",
     "text": [
      "n_clusters 1\n",
      "vx_com=2.493400980231137 vy_com=0.0 pc[c==i,6]=[0.] pc[c==i,7]=[0.]\n"
     ]
    },
    {
     "name": "stderr",
     "output_type": "stream",
     "text": [
      "/home/kfir/workspace/RadarLocalization/dataset.py:261: VisibleDeprecationWarning: Creating an ndarray from ragged nested sequences (which is a list-or-tuple of lists-or-tuples-or ndarrays with different lengths or shapes) is deprecated. If you meant to do this, you must specify 'dtype=object' when creating the ndarray\n",
      "  rot = Quaternion(self.ego.iloc[eidx][\"rotation\"])\n"
     ]
    },
    {
     "name": "stdout",
     "output_type": "stream",
     "text": [
      "n_clusters 0\n"
     ]
    },
    {
     "name": "stderr",
     "output_type": "stream",
     "text": [
      "/home/kfir/workspace/RadarLocalization/dataset.py:261: VisibleDeprecationWarning: Creating an ndarray from ragged nested sequences (which is a list-or-tuple of lists-or-tuples-or ndarrays with different lengths or shapes) is deprecated. If you meant to do this, you must specify 'dtype=object' when creating the ndarray\n",
      "  rot = Quaternion(self.ego.iloc[eidx][\"rotation\"])\n"
     ]
    },
    {
     "name": "stdout",
     "output_type": "stream",
     "text": [
      "n_clusters 0\n"
     ]
    },
    {
     "name": "stderr",
     "output_type": "stream",
     "text": [
      "/home/kfir/workspace/RadarLocalization/dataset.py:261: VisibleDeprecationWarning: Creating an ndarray from ragged nested sequences (which is a list-or-tuple of lists-or-tuples-or ndarrays with different lengths or shapes) is deprecated. If you meant to do this, you must specify 'dtype=object' when creating the ndarray\n",
      "  rot = Quaternion(self.ego.iloc[eidx][\"rotation\"])\n"
     ]
    },
    {
     "name": "stdout",
     "output_type": "stream",
     "text": [
      "n_clusters 0\n"
     ]
    },
    {
     "name": "stderr",
     "output_type": "stream",
     "text": [
      "/home/kfir/workspace/RadarLocalization/dataset.py:261: VisibleDeprecationWarning: Creating an ndarray from ragged nested sequences (which is a list-or-tuple of lists-or-tuples-or ndarrays with different lengths or shapes) is deprecated. If you meant to do this, you must specify 'dtype=object' when creating the ndarray\n",
      "  rot = Quaternion(self.ego.iloc[eidx][\"rotation\"])\n"
     ]
    },
    {
     "name": "stdout",
     "output_type": "stream",
     "text": [
      "n_clusters 0\n"
     ]
    },
    {
     "name": "stderr",
     "output_type": "stream",
     "text": [
      "/home/kfir/workspace/RadarLocalization/dataset.py:261: VisibleDeprecationWarning: Creating an ndarray from ragged nested sequences (which is a list-or-tuple of lists-or-tuples-or ndarrays with different lengths or shapes) is deprecated. If you meant to do this, you must specify 'dtype=object' when creating the ndarray\n",
      "  rot = Quaternion(self.ego.iloc[eidx][\"rotation\"])\n"
     ]
    },
    {
     "name": "stdout",
     "output_type": "stream",
     "text": [
      "n_clusters 0\n"
     ]
    },
    {
     "name": "stderr",
     "output_type": "stream",
     "text": [
      "/home/kfir/workspace/RadarLocalization/dataset.py:261: VisibleDeprecationWarning: Creating an ndarray from ragged nested sequences (which is a list-or-tuple of lists-or-tuples-or ndarrays with different lengths or shapes) is deprecated. If you meant to do this, you must specify 'dtype=object' when creating the ndarray\n",
      "  rot = Quaternion(self.ego.iloc[eidx][\"rotation\"])\n"
     ]
    },
    {
     "name": "stdout",
     "output_type": "stream",
     "text": [
      "n_clusters 0\n"
     ]
    },
    {
     "name": "stderr",
     "output_type": "stream",
     "text": [
      "/home/kfir/workspace/RadarLocalization/dataset.py:261: VisibleDeprecationWarning: Creating an ndarray from ragged nested sequences (which is a list-or-tuple of lists-or-tuples-or ndarrays with different lengths or shapes) is deprecated. If you meant to do this, you must specify 'dtype=object' when creating the ndarray\n",
      "  rot = Quaternion(self.ego.iloc[eidx][\"rotation\"])\n"
     ]
    },
    {
     "name": "stdout",
     "output_type": "stream",
     "text": [
      "n_clusters 0\n"
     ]
    },
    {
     "name": "stderr",
     "output_type": "stream",
     "text": [
      "/home/kfir/workspace/RadarLocalization/dataset.py:261: VisibleDeprecationWarning: Creating an ndarray from ragged nested sequences (which is a list-or-tuple of lists-or-tuples-or ndarrays with different lengths or shapes) is deprecated. If you meant to do this, you must specify 'dtype=object' when creating the ndarray\n",
      "  rot = Quaternion(self.ego.iloc[eidx][\"rotation\"])\n"
     ]
    },
    {
     "name": "stdout",
     "output_type": "stream",
     "text": [
      "n_clusters 0\n"
     ]
    },
    {
     "name": "stderr",
     "output_type": "stream",
     "text": [
      "/home/kfir/workspace/RadarLocalization/dataset.py:261: VisibleDeprecationWarning: Creating an ndarray from ragged nested sequences (which is a list-or-tuple of lists-or-tuples-or ndarrays with different lengths or shapes) is deprecated. If you meant to do this, you must specify 'dtype=object' when creating the ndarray\n",
      "  rot = Quaternion(self.ego.iloc[eidx][\"rotation\"])\n"
     ]
    },
    {
     "name": "stdout",
     "output_type": "stream",
     "text": [
      "n_clusters 0\n"
     ]
    },
    {
     "name": "stderr",
     "output_type": "stream",
     "text": [
      "/home/kfir/workspace/RadarLocalization/dataset.py:261: VisibleDeprecationWarning: Creating an ndarray from ragged nested sequences (which is a list-or-tuple of lists-or-tuples-or ndarrays with different lengths or shapes) is deprecated. If you meant to do this, you must specify 'dtype=object' when creating the ndarray\n",
      "  rot = Quaternion(self.ego.iloc[eidx][\"rotation\"])\n"
     ]
    },
    {
     "name": "stdout",
     "output_type": "stream",
     "text": [
      "n_clusters 0\n"
     ]
    },
    {
     "name": "stderr",
     "output_type": "stream",
     "text": [
      "/home/kfir/workspace/RadarLocalization/dataset.py:261: VisibleDeprecationWarning: Creating an ndarray from ragged nested sequences (which is a list-or-tuple of lists-or-tuples-or ndarrays with different lengths or shapes) is deprecated. If you meant to do this, you must specify 'dtype=object' when creating the ndarray\n",
      "  rot = Quaternion(self.ego.iloc[eidx][\"rotation\"])\n"
     ]
    },
    {
     "name": "stdout",
     "output_type": "stream",
     "text": [
      "n_clusters 0\n"
     ]
    },
    {
     "name": "stderr",
     "output_type": "stream",
     "text": [
      "/home/kfir/workspace/RadarLocalization/dataset.py:261: VisibleDeprecationWarning: Creating an ndarray from ragged nested sequences (which is a list-or-tuple of lists-or-tuples-or ndarrays with different lengths or shapes) is deprecated. If you meant to do this, you must specify 'dtype=object' when creating the ndarray\n",
      "  rot = Quaternion(self.ego.iloc[eidx][\"rotation\"])\n"
     ]
    },
    {
     "data": {
      "image/png": "[encoded data removed]",
      "text/plain": [
       "<matplotlib.figure.Figure at 0x7f3960ce00f0>"
      ]
     },
     "metadata": {},
     "output_type": "display_data"
    }
   ],
   "source": [
    "from sklearn.cluster import DBSCAN\n",
    "\n",
    "fig, ax = plt.subplots(1,1,figsize=(15,10))\n",
    "colors = ['blue','orange','green','red','black','pink','yellow','purple',\"brown\",\"firebrick\",\"coral\",\"lime\",\n",
    "                      \"wheat\", \"yellowgreen\", \"lightyellow\", \"skyblue\", \"cyan\", \"chocolate\", \"maroon\", \"peru\", \"blueviolet\"]\n",
    "\n",
    "for t in range(0,150):\n",
    "    pc, ts = dataset.getDynamicPoints(t)\n",
    "    if pc.shape[0] < 1:\n",
    "        continue\n",
    "    clus = DBSCAN(eps=3, min_samples=2).fit(pc[:,0:2+8:9])\n",
    "    c = clus.labels_\n",
    "    n_clusters = np.unique(c)\n",
    "    print(f\"n_clusters {len(n_clusters)-1}\")\n",
    "    for i in n_clusters:\n",
    "        if c[i] == -1:\n",
    "            continue\n",
    "        x_com = pc[c==i,0]\n",
    "        y_com = pc[c==i,1]\n",
    "        vx_com = np.mean(pc[c==i,8])\n",
    "        vy_com = np.mean(pc[c==i,9])\n",
    "        if np.mean(y_com) < 670:\n",
    "            #print(f\"pc[c==i,:] = {pc[c==i,:]}\")\n",
    "            print(f\"vx_com={vx_com} vy_com={vy_com} pc[c==i,6]={pc[c==i,6]} pc[c==i,7]={pc[c==i,7]}\")\n",
    "        #print(f\"vy_com={vy_com}\")\n",
    "        v_comp = np.sqrt(vx_com**2 + vy_com**2)\n",
    "        if v_comp > 3:\n",
    "            color = int(np.round(v_comp) % 17)\n",
    "            ax.scatter(x_com, y_com, s=10, c=colors[color])"
   ]
  },
  {
   "cell_type": "code",
   "execution_count": 424,
   "id": "c5da6a9b",
   "metadata": {},
   "outputs": [],
   "source": [
    "from sklearn.cluster import DBSCAN\n",
    "import numpy as np\n",
    "\n",
    "def calcClusterProperiesArray(ci):\n",
    "    x_com = np.mean(ci[:,0])\n",
    "    y_com = np.mean(ci[:,1])\n",
    "    vx_com = 1*np.mean(ci[:,8])\n",
    "    vy_com = 1*np.mean(ci[:,9])\n",
    "    if vy_com > 0:\n",
    "        print(f\"vx_com {vx_com} vy_com {vy_com}\")\n",
    "    v_comp = np.sqrt(vx_com**2 + vy_com**2)\n",
    "    if v_comp < 2:\n",
    "        return None, None\n",
    "    x_var = np.var(ci[:,0]) + 2\n",
    "    y_var = np.var(ci[:,1]) + 2\n",
    "    vx_var = np.var(ci[:,8]) + 0.5\n",
    "    vy_var = np.var(ci[:,9]) + 0.5\n",
    "    X = np.array([x_com, y_com, vx_com, vy_com])\n",
    "    P = np.diag([x_var, y_var, vx_var, vy_var])\n",
    "    \n",
    "    return X,P\n",
    "\n",
    "def calcClusterProperiesScalar(ci):\n",
    "    x_com = ci[0]\n",
    "    y_com = ci[1]\n",
    "    vx_com = ci[8]\n",
    "    vy_com = ci[9]\n",
    "    v_comp = np.sqrt(vx_com**2 + vy_com**2)\n",
    "    if v_comp < 2:\n",
    "        return None, None\n",
    "    x_var = ci[0] + 2\n",
    "    y_var = ci[1] + 2\n",
    "    vx_var = ci[8] + 0.5\n",
    "    vy_var = ci[9] + 0.5\n",
    "    X = np.array([x_com, y_com, vx_com, vy_com])\n",
    "    P = np.diag([x_var, y_var, vx_var, vy_var])\n",
    "    \n",
    "    return X,P\n",
    "\n",
    "\n",
    "def runClustering(pc):\n",
    "    X_list = []\n",
    "    P_list = []\n",
    "    \n",
    "    if pc.shape[0] < 1:\n",
    "        return X_list, P_list\n",
    "    clus = DBSCAN(eps=3, min_samples=2).fit(pc[:,0:2+8:10])\n",
    "    c = clus.labels_\n",
    "    n_clusters = np.unique(c)\n",
    "    for i in n_clusters:\n",
    "        ci = pc[c==i, :]\n",
    "        if i == -1:\n",
    "            continue #don't consider 1 point clusters\n",
    "            for j in range(ci.shape[0]):\n",
    "                X, P = calcClusterProperiesScalar(ci[j, :])\n",
    "                if X is not None:\n",
    "                    X_list.append(X)\n",
    "                    P_list.append(P)\n",
    "        else:\n",
    "            X, P = calcClusterProperiesArray(ci)\n",
    "            if X is not None:\n",
    "                X_list.append(X)\n",
    "                P_list.append(P)\n",
    "        \n",
    "    return X_list, P_list"
   ]
  },
  {
   "cell_type": "code",
   "execution_count": 428,
   "id": "3334ed36",
   "metadata": {},
   "outputs": [
    {
     "name": "stdout",
     "output_type": "stream",
     "text": [
      "vx_com -10.206953828709352 vy_com 5.287035840242179\n",
      "Number of new plots 1\n",
      "Number of dynamic tracks before run() 0\n",
      "Initiating new track: x=[251.82635509 689.33273911 -10.20695383   5.28703584   0.\n",
      "   0.        ]\n",
      "age = 1 hits = 1\n"
     ]
    },
    {
     "name": "stderr",
     "output_type": "stream",
     "text": [
      "/home/kfir/workspace/RadarLocalization/dataset.py:261: VisibleDeprecationWarning: Creating an ndarray from ragged nested sequences (which is a list-or-tuple of lists-or-tuples-or ndarrays with different lengths or shapes) is deprecated. If you meant to do this, you must specify 'dtype=object' when creating the ndarray\n",
      "  rot = Quaternion(self.ego.iloc[eidx][\"rotation\"])\n"
     ]
    },
    {
     "name": "stdout",
     "output_type": "stream",
     "text": [
      "vx_com -10.206819109492862 vy_com 5.287306636002834\n",
      "Number of new plots 1\n",
      "Number of dynamic tracks before run() 1\n",
      "before predict: x=[[2.  0.  0.  0.  0.  0. ]\n",
      " [0.  2.  0.  0.  0.  0. ]\n",
      " [0.  0.  0.5 0.  0.  0. ]\n",
      " [0.  0.  0.  0.5 0.  0. ]\n",
      " [0.  0.  0.  0.  3.  0. ]\n",
      " [0.  0.  0.  0.  0.  3. ]]\n",
      "after predict: x=[[2.50247241 0.         0.03554687 0.         0.00736303 0.        ]\n",
      " [0.         2.50247241 0.         0.03554687 0.         0.00736303]\n",
      " [0.03554687 0.         1.51472605 0.         0.210186   0.        ]\n",
      " [0.         0.03554687 0.         1.51472605 0.         0.210186  ]\n",
      " [0.00736303 0.         0.210186   0.         3.         0.        ]\n",
      " [0.         0.00736303 0.         0.210186   0.         3.        ]]\n",
      "Updating track = 0 z = [249.42298957 689.91663665 -10.20681911   5.28730664] cov=[[3.66536652 0.         0.         0.        ]\n",
      " [0.         2.11396193 0.         0.        ]\n",
      " [0.         0.         0.5        0.        ]\n",
      " [0.         0.         0.         0.5       ]]\n",
      "age = 2 hits = 2\n"
     ]
    },
    {
     "name": "stderr",
     "output_type": "stream",
     "text": [
      "/home/kfir/workspace/RadarLocalization/dataset.py:261: VisibleDeprecationWarning: Creating an ndarray from ragged nested sequences (which is a list-or-tuple of lists-or-tuples-or ndarrays with different lengths or shapes) is deprecated. If you meant to do this, you must specify 'dtype=object' when creating the ndarray\n",
      "  rot = Quaternion(self.ego.iloc[eidx][\"rotation\"])\n"
     ]
    },
    {
     "name": "stdout",
     "output_type": "stream",
     "text": [
      "vx_com -10.262344257291964 vy_com 5.315931803539314\n",
      "Number of new plots 1\n",
      "Number of dynamic tracks before run() 1\n",
      "before predict: x=[[1.48692475e+00 0.00000000e+00 5.24304874e-03 0.00000000e+00\n",
      "  2.17204524e-03 0.00000000e+00]\n",
      " [0.00000000e+00 1.14580297e+00 0.00000000e+00 4.04021848e-03\n",
      "  0.00000000e+00 1.67374704e-03]\n",
      " [5.24304874e-03 0.00000000e+00 3.75901032e-01 0.00000000e+00\n",
      "  5.21571991e-02 0.00000000e+00]\n",
      " [0.00000000e+00 4.04021848e-03 0.00000000e+00 3.75896791e-01\n",
      "  0.00000000e+00 5.21554420e-02]\n",
      " [2.17204524e-03 0.00000000e+00 5.21571991e-02 0.00000000e+00\n",
      "  2.97807021e+00 0.00000000e+00]\n",
      " [0.00000000e+00 1.67374704e-03 0.00000000e+00 5.21554420e-02\n",
      "  0.00000000e+00 2.97806948e+00]]\n",
      "after predict: x=[[1.98988246 0.         0.03466098 0.         0.0144558  0.        ]\n",
      " [0.         1.64857747 0.         0.03342045 0.         0.01395737]\n",
      " [0.03466098 0.         1.40046854 0.         0.27547077 0.        ]\n",
      " [0.         0.03342045 0.         1.40046403 0.         0.27546896]\n",
      " [0.0144558  0.         0.27547077 0.         2.97807021 0.        ]\n",
      " [0.         0.01395737 0.         0.27546896 0.         2.97806948]]\n",
      "Updating track = 0 z = [248.34486381 689.69107926 -10.26234426   5.3159318 ] cov=[[3.09848181 0.         0.         0.        ]\n",
      " [0.         2.32810556 0.         0.        ]\n",
      " [0.         0.         0.50923147 0.        ]\n",
      " [0.         0.         0.         0.50247706]]\n",
      "age = 3 hits = 3\n"
     ]
    },
    {
     "name": "stderr",
     "output_type": "stream",
     "text": [
      "/home/kfir/workspace/RadarLocalization/dataset.py:261: VisibleDeprecationWarning: Creating an ndarray from ragged nested sequences (which is a list-or-tuple of lists-or-tuples-or ndarrays with different lengths or shapes) is deprecated. If you meant to do this, you must specify 'dtype=object' when creating the ndarray\n",
      "  rot = Quaternion(self.ego.iloc[eidx][\"rotation\"])\n"
     ]
    },
    {
     "name": "stdout",
     "output_type": "stream",
     "text": [
      "vx_com -10.428846121697173 vy_com 5.401954594335419\n",
      "Number of new plots 1\n",
      "Number of dynamic tracks before run() 1\n",
      "before predict: x=[[1.21147527 0.         0.00562879 0.         0.00575881 0.        ]\n",
      " [0.         0.96494044 0.         0.00516713 0.         0.00533966]\n",
      " [0.00562879 0.         0.37342545 0.         0.07343854 0.        ]\n",
      " [0.         0.00516713 0.         0.36977696 0.         0.07271813]\n",
      " [0.00575881 0.         0.07343854 0.         2.93831648 0.        ]\n",
      " [0.         0.00533966 0.         0.07271813 0.         2.93817179]]\n",
      "after predict: x=[[1.71417324 0.         0.03327242 0.         0.01813665 0.        ]\n",
      " [0.         1.46755339 0.         0.03252011 0.         0.01766662]\n",
      " [0.03327242 0.         1.39818113 0.         0.27952324 0.        ]\n",
      " [0.         0.03252011 0.         1.39443088 0.         0.27879268]\n",
      " [0.01813665 0.         0.27952324 0.         2.93831648 0.        ]\n",
      " [0.         0.01766662 0.         0.27879268 0.         2.93817179]]\n",
      "Updating track = 0 z = [247.8198272  690.30317883 -10.42884612   5.40195459] cov=[[3.43416898 0.         0.         0.        ]\n",
      " [0.         2.26464928 0.         0.        ]\n",
      " [0.         0.         0.5        0.        ]\n",
      " [0.         0.         0.         0.5       ]]\n",
      "age = 4 hits = 4\n"
     ]
    },
    {
     "name": "stderr",
     "output_type": "stream",
     "text": [
      "/home/kfir/workspace/RadarLocalization/dataset.py:261: VisibleDeprecationWarning: Creating an ndarray from ragged nested sequences (which is a list-or-tuple of lists-or-tuples-or ndarrays with different lengths or shapes) is deprecated. If you meant to do this, you must specify 'dtype=object' when creating the ndarray\n",
      "  rot = Quaternion(self.ego.iloc[eidx][\"rotation\"])\n"
     ]
    },
    {
     "name": "stdout",
     "output_type": "stream",
     "text": [
      "vx_com -10.428938559207522 vy_com 5.401769144920462\n",
      "Number of new plots 1\n",
      "Number of dynamic tracks before run() 1\n",
      "before predict: x=[[1.14316884 0.         0.00584683 0.         0.00883066 0.        ]\n",
      " [0.         0.89028565 0.         0.00520888 0.         0.00781707]\n",
      " [0.00584683 0.         0.36828005 0.         0.0736067  0.        ]\n",
      " [0.         0.00520888 0.         0.3680145  0.         0.07355255]\n",
      " [0.00883066 0.         0.0736067  0.         2.89712027 0.        ]\n",
      " [0.         0.00781707 0.         0.07355255 0.         2.89709899]]\n",
      "after predict: x=[[1.64621522 0.         0.0353276  0.         0.02247518 0.        ]\n",
      " [0.         1.39322924 0.         0.03459336 0.         0.02145748]\n",
      " [0.0353276  0.         1.39556909 0.         0.29065026 0.        ]\n",
      " [0.         0.03459336 0.         1.39529531 0.         0.29059451]\n",
      " [0.02247518 0.         0.29065026 0.         2.89712027 0.        ]\n",
      " [0.         0.02145748 0.         0.29059451 0.         2.89709899]]\n",
      "Updating track = 0 z = [247.01376019 690.27289639 -10.42893856   5.40176914] cov=[[2.85223896 0.         0.         0.        ]\n",
      " [0.         2.67541278 0.         0.        ]\n",
      " [0.         0.         0.5        0.        ]\n",
      " [0.         0.         0.         0.5       ]]\n",
      "age = 5 hits = 5\n"
     ]
    },
    {
     "name": "stderr",
     "output_type": "stream",
     "text": [
      "/home/kfir/workspace/RadarLocalization/dataset.py:261: VisibleDeprecationWarning: Creating an ndarray from ragged nested sequences (which is a list-or-tuple of lists-or-tuples-or ndarrays with different lengths or shapes) is deprecated. If you meant to do this, you must specify 'dtype=object' when creating the ndarray\n",
      "  rot = Quaternion(self.ego.iloc[eidx][\"rotation\"])\n"
     ]
    },
    {
     "name": "stdout",
     "output_type": "stream",
     "text": [
      "vx_com -10.650919558327542 vy_com 5.516523661865884\n",
      "Number of new plots 1\n",
      "Number of dynamic tracks before run() 1\n",
      "before predict: x=[[1.04351587 0.         0.00590923 0.         0.01081741 0.        ]\n",
      " [0.         0.91587127 0.         0.00600198 0.         0.01062368]\n",
      " [0.00590923 0.         0.36809418 0.         0.07663036 0.        ]\n",
      " [0.         0.00600198 0.         0.36807396 0.         0.07662583]\n",
      " [0.01081741 0.         0.07663036 0.         2.85248977 0.        ]\n",
      " [0.         0.01062368 0.         0.07662583 0.         2.85247969]]\n",
      "after predict: x=[[1.54624464 0.         0.03349421 0.         0.02317594 0.        ]\n",
      " [0.         1.41861198 0.         0.03357195 0.         0.02298186]\n",
      " [0.03349421 0.         1.39281124 0.         0.27636454 0.        ]\n",
      " [0.         0.03357195 0.         1.39279033 0.         0.27635931]\n",
      " [0.02317594 0.         0.27636454 0.         2.85248977 0.        ]\n",
      " [0.         0.02298186 0.         0.27635931 0.         2.85247969]]\n",
      "Updating track = 0 z = [246.2629432  690.77767244 -10.65091956   5.51652366] cov=[[3.11977221 0.         0.         0.        ]\n",
      " [0.         2.60800053 0.         0.        ]\n",
      " [0.         0.         0.5        0.        ]\n",
      " [0.         0.         0.         0.5       ]]\n",
      "age = 6 hits = 6\n"
     ]
    },
    {
     "name": "stderr",
     "output_type": "stream",
     "text": [
      "/home/kfir/workspace/RadarLocalization/dataset.py:261: VisibleDeprecationWarning: Creating an ndarray from ragged nested sequences (which is a list-or-tuple of lists-or-tuples-or ndarrays with different lengths or shapes) is deprecated. If you meant to do this, you must specify 'dtype=object' when creating the ndarray\n",
      "  rot = Quaternion(self.ego.iloc[eidx][\"rotation\"])\n"
     ]
    },
    {
     "name": "stdout",
     "output_type": "stream",
     "text": [
      "vx_com -10.650787873233977 vy_com 5.516778330800872\n",
      "Number of new plots 1\n",
      "Number of dynamic tracks before run() 1\n",
      "before predict: x=[[1.03357847 0.         0.00591649 0.         0.01222755 0.        ]\n",
      " [0.         0.91857232 0.         0.00574482 0.         0.01171208]\n",
      " [0.00591649 0.         0.36790455 0.         0.07296905 0.        ]\n",
      " [0.         0.00574482 0.         0.36790033 0.         0.07296332]\n",
      " [0.01222755 0.         0.07296905 0.         2.81206682 0.        ]\n",
      " [0.         0.01171208 0.         0.07296332 0.         2.8120483 ]]\n",
      "after predict: x=[[1.54387489 0.         0.06782722 0.         0.0525658  0.        ]\n",
      " [0.         1.4288078  0.         0.06757977 0.         0.0520493 ]\n",
      " [0.06782722 0.         1.44858105 0.         0.48186325 0.        ]\n",
      " [0.         0.06757977 0.         1.44857477 0.         0.48185483]\n",
      " [0.0525658  0.         0.48186325 0.         2.81206682 0.        ]\n",
      " [0.         0.0520493  0.         0.48185483 0.         2.8120483 ]]\n",
      "Updating track = 0 z = [244.6313431  691.18285248 -10.65078787   5.51677833] cov=[[2.92283133 0.         0.         0.        ]\n",
      " [0.         2.49762904 0.         0.        ]\n",
      " [0.         0.         0.5        0.        ]\n",
      " [0.         0.         0.         0.5       ]]\n",
      "age = 7 hits = 7\n"
     ]
    },
    {
     "name": "stderr",
     "output_type": "stream",
     "text": [
      "/home/kfir/workspace/RadarLocalization/dataset.py:261: VisibleDeprecationWarning: Creating an ndarray from ragged nested sequences (which is a list-or-tuple of lists-or-tuples-or ndarrays with different lengths or shapes) is deprecated. If you meant to do this, you must specify 'dtype=object' when creating the ndarray\n",
      "  rot = Quaternion(self.ego.iloc[eidx][\"rotation\"])\n"
     ]
    },
    {
     "name": "stdout",
     "output_type": "stream",
     "text": [
      "vx_com -10.650458471524361 vy_com 5.517415400202214\n",
      "Number of new plots 1\n",
      "Number of dynamic tracks before run() 1\n",
      "before predict: x=[[1.00923762 0.         0.01139466 0.         0.02343378 0.        ]\n",
      " [0.         0.90792392 0.         0.01103718 0.         0.02249199]\n",
      " [0.01139466 0.         0.37163366 0.         0.12350511 0.        ]\n",
      " [0.         0.01103718 0.         0.37162447 0.         0.12348673]\n",
      " [0.02343378 0.         0.12350511 0.         2.69262022 0.        ]\n",
      " [0.         0.02249199 0.         0.12348673 0.         2.69257422]]\n",
      "after predict: x=[[1.51321541 0.         0.04249313 0.         0.0401663  0.        ]\n",
      " [0.         1.411843   0.         0.04206446 0.         0.03922301]\n",
      " [0.04249313 0.         1.4050987  0.         0.32459538 0.        ]\n",
      " [0.         0.04206446 0.         1.40508651 0.         0.32457356]\n",
      " [0.0401663  0.         0.32459538 0.         2.69262022 0.        ]\n",
      " [0.         0.03922301 0.         0.32457356 0.         2.69257422]]\n",
      "Updating track = 0 z = [243.80627566 691.61958333 -10.65045847   5.5174154 ] cov=[[2.67669829 0.         0.         0.        ]\n",
      " [0.         2.82281395 0.         0.        ]\n",
      " [0.         0.         0.5        0.        ]\n",
      " [0.         0.         0.         0.5       ]]\n",
      "age = 8 hits = 8\n"
     ]
    },
    {
     "name": "stderr",
     "output_type": "stream",
     "text": [
      "/home/kfir/workspace/RadarLocalization/dataset.py:261: VisibleDeprecationWarning: Creating an ndarray from ragged nested sequences (which is a list-or-tuple of lists-or-tuples-or ndarrays with different lengths or shapes) is deprecated. If you meant to do this, you must specify 'dtype=object' when creating the ndarray\n",
      "  rot = Quaternion(self.ego.iloc[eidx][\"rotation\"])\n"
     ]
    },
    {
     "name": "stdout",
     "output_type": "stream",
     "text": [
      "vx_com -10.650530362462668 vy_com 5.517294187540347\n",
      "Number of new plots 1\n",
      "Number of dynamic tracks before run() 1\n",
      "before predict: x=[[0.96632062 0.         0.0071263  0.         0.02103945 0.        ]\n",
      " [0.         0.94071895 0.         0.00736088 0.         0.02137342]\n",
      " [0.0071263  0.         0.36874351 0.         0.08510356 0.        ]\n",
      " [0.         0.00736088 0.         0.36874357 0.         0.08510245]\n",
      " [0.02103945 0.         0.08510356 0.         2.63705606 0.        ]\n",
      " [0.         0.02137342 0.         0.08510245 0.         2.63703323]]\n",
      "after predict: x=[[1.4692724  0.         0.03548374 0.         0.03345425 0.        ]\n",
      " [0.         1.44370521 0.         0.0357417  0.         0.03378809]\n",
      " [0.03548374 0.         1.39357311 0.         0.26966584 0.        ]\n",
      " [0.         0.0357417  0.         1.39357291 0.         0.26966313]\n",
      " [0.03345425 0.         0.26966584 0.         2.63705606 0.        ]\n",
      " [0.         0.03378809 0.         0.26966313 0.         2.63703323]]\n",
      "Updating track = 0 z = [242.84015746 691.78631575 -10.65053036   5.51729419] cov=[[2.83600934 0.         0.         0.        ]\n",
      " [0.         3.60891372 0.         0.        ]\n",
      " [0.         0.         0.5        0.        ]\n",
      " [0.         0.         0.         0.5       ]]\n",
      "age = 9 hits = 9\n"
     ]
    },
    {
     "name": "stderr",
     "output_type": "stream",
     "text": [
      "/home/kfir/workspace/RadarLocalization/dataset.py:261: VisibleDeprecationWarning: Creating an ndarray from ragged nested sequences (which is a list-or-tuple of lists-or-tuples-or ndarrays with different lengths or shapes) is deprecated. If you meant to do this, you must specify 'dtype=object' when creating the ndarray\n",
      "  rot = Quaternion(self.ego.iloc[eidx][\"rotation\"])\n"
     ]
    },
    {
     "name": "stdout",
     "output_type": "stream",
     "text": [
      "vx_com -10.650483812238734 vy_com 5.517365568236519\n",
      "Number of new plots 1\n",
      "Number of dynamic tracks before run() 1\n",
      "before predict: x=[[0.9675622  0.         0.00617292 0.         0.0187114  0.        ]\n",
      " [0.         1.03084526 0.         0.00674188 0.         0.02050083]\n",
      " [0.00617292 0.         0.36795407 0.         0.07114373 0.        ]\n",
      " [0.         0.00674188 0.         0.36795682 0.         0.07115123]\n",
      " [0.0187114  0.         0.07114373 0.         2.59846527 0.        ]\n",
      " [0.         0.02050083 0.         0.07115123 0.         2.59846756]]\n",
      "after predict: x=[[1.47071835 0.         0.03634839 0.         0.0313724  0.        ]\n",
      " [0.         1.53409693 0.         0.03705195 0.         0.0331624 ]\n",
      " [0.03634839 0.         1.39327606 0.         0.26619493 0.        ]\n",
      " [0.         0.03705195 0.         1.39327995 0.         0.2662026 ]\n",
      " [0.0313724  0.         0.26619493 0.         2.59846527 0.        ]\n",
      " [0.         0.0331624  0.         0.2662026  0.         2.59846756]]\n",
      "Updating track = 0 z = [241.85317034 691.62711513 -10.65048381   5.51736557] cov=[[3.42359334 0.         0.         0.        ]\n",
      " [0.         2.54429395 0.         0.        ]\n",
      " [0.         0.         0.5        0.        ]\n",
      " [0.         0.         0.         0.5       ]]\n",
      "age = 10 hits = 10\n"
     ]
    },
    {
     "name": "stderr",
     "output_type": "stream",
     "text": [
      "/home/kfir/workspace/RadarLocalization/dataset.py:261: VisibleDeprecationWarning: Creating an ndarray from ragged nested sequences (which is a list-or-tuple of lists-or-tuples-or ndarrays with different lengths or shapes) is deprecated. If you meant to do this, you must specify 'dtype=object' when creating the ndarray\n",
      "  rot = Quaternion(self.ego.iloc[eidx][\"rotation\"])\n"
     ]
    },
    {
     "name": "stdout",
     "output_type": "stream",
     "text": [
      "Number of new plots 0\n",
      "Number of dynamic tracks before run() 1\n",
      "before predict: x=[[1.02843268 0.         0.00671574 0.         0.01837287 0.        ]\n",
      " [0.         0.95676028 0.         0.00610551 0.         0.01744135]\n",
      " [0.00671574 0.         0.36793492 0.         0.07024857 0.        ]\n",
      " [0.         0.00610551 0.         0.36793054 0.         0.07023489]\n",
      " [0.01837287 0.         0.07024857 0.         2.56089728 0.        ]\n",
      " [0.         0.01744135 0.         0.07023489 0.         2.56084681]]\n",
      "after predict: x=[[1.53166226 0.         0.03681792 0.         0.03084168 0.        ]\n",
      " [0.         1.45989306 0.         0.03613738 0.         0.02990899]\n",
      " [0.03681792 0.         1.39287253 0.         0.26229282 0.        ]\n",
      " [0.         0.03613738 0.         1.39286582 0.         0.26227535]\n",
      " [0.03084168 0.         0.26229282 0.         2.56089728 0.        ]\n",
      " [0.         0.02990899 0.         0.26227535 0.         2.56084681]]\n",
      "age = 11 hits = 10\n"
     ]
    },
    {
     "name": "stderr",
     "output_type": "stream",
     "text": [
      "/home/kfir/workspace/RadarLocalization/dataset.py:261: VisibleDeprecationWarning: Creating an ndarray from ragged nested sequences (which is a list-or-tuple of lists-or-tuples-or ndarrays with different lengths or shapes) is deprecated. If you meant to do this, you must specify 'dtype=object' when creating the ndarray\n",
      "  rot = Quaternion(self.ego.iloc[eidx][\"rotation\"])\n"
     ]
    },
    {
     "name": "stdout",
     "output_type": "stream",
     "text": [
      "Number of new plots 0\n",
      "Number of dynamic tracks before run() 1\n",
      "before predict: x=[[1.53166226 0.         0.03681792 0.         0.03084168 0.        ]\n",
      " [0.         1.45989306 0.         0.03613738 0.         0.02990899]\n",
      " [0.03681792 0.         1.39287253 0.         0.26229282 0.        ]\n",
      " [0.         0.03613738 0.         1.39286582 0.         0.26227535]\n",
      " [0.03084168 0.         0.26229282 0.         2.56089728 0.        ]\n",
      " [0.         0.02990899 0.         0.26227535 0.         2.56084681]]\n",
      "after predict: x=[[2.04392914 0.         0.13901121 0.         0.0555254  0.        ]\n",
      " [0.         1.9720599  0.         0.13826467 0.         0.05459136]\n",
      " [0.13901121 0.         2.44223998 0.         0.44183989 0.        ]\n",
      " [0.         0.13826467 0.         2.44223057 0.         0.44181888]\n",
      " [0.0555254  0.         0.44183989 0.         2.56089728 0.        ]\n",
      " [0.         0.05459136 0.         0.44181888 0.         2.56084681]]\n",
      "age = 12 hits = 10\n"
     ]
    },
    {
     "name": "stderr",
     "output_type": "stream",
     "text": [
      "/home/kfir/workspace/RadarLocalization/dataset.py:261: VisibleDeprecationWarning: Creating an ndarray from ragged nested sequences (which is a list-or-tuple of lists-or-tuples-or ndarrays with different lengths or shapes) is deprecated. If you meant to do this, you must specify 'dtype=object' when creating the ndarray\n",
      "  rot = Quaternion(self.ego.iloc[eidx][\"rotation\"])\n"
     ]
    },
    {
     "name": "stdout",
     "output_type": "stream",
     "text": [
      "Number of new plots 0\n",
      "Number of dynamic tracks before run() 1\n",
      "before predict: x=[[2.04392914 0.         0.13901121 0.         0.0555254  0.        ]\n",
      " [0.         1.9720599  0.         0.13826467 0.         0.05459136]\n",
      " [0.13901121 0.         2.44223998 0.         0.44183989 0.        ]\n",
      " [0.         0.13826467 0.         2.44223057 0.         0.44181888]\n",
      " [0.0555254  0.         0.44183989 0.         2.56089728 0.        ]\n",
      " [0.         0.05459136 0.         0.44181888 0.         2.56084681]]\n",
      "after predict: x=[[2.64359107 0.         0.53276213 0.         0.15056771 0.        ]\n",
      " [0.         2.57147665 0.         0.53187333 0.         0.14962995]\n",
      " [0.53276213 0.         3.63232459 0.         0.82583875 0.        ]\n",
      " [0.         0.53187333 0.         3.63230774 0.         0.82581018]\n",
      " [0.15056771 0.         0.82583875 0.         2.56089728 0.        ]\n",
      " [0.         0.14962995 0.         0.82581018 0.         2.56084681]]\n",
      "age = 13 hits = 10\n"
     ]
    },
    {
     "name": "stderr",
     "output_type": "stream",
     "text": [
      "/home/kfir/workspace/RadarLocalization/dataset.py:261: VisibleDeprecationWarning: Creating an ndarray from ragged nested sequences (which is a list-or-tuple of lists-or-tuples-or ndarrays with different lengths or shapes) is deprecated. If you meant to do this, you must specify 'dtype=object' when creating the ndarray\n",
      "  rot = Quaternion(self.ego.iloc[eidx][\"rotation\"])\n"
     ]
    },
    {
     "name": "stdout",
     "output_type": "stream",
     "text": [
      "vx_com -10.872747584665513 vy_com 5.631587431772172\n",
      "Number of new plots 1\n",
      "Number of dynamic tracks before run() 1\n",
      "before predict: x=[[2.64359107 0.         0.53276213 0.         0.15056771 0.        ]\n",
      " [0.         2.57147665 0.         0.53187333 0.         0.14962995]\n",
      " [0.53276213 0.         3.63232459 0.         0.82583875 0.        ]\n",
      " [0.         0.53187333 0.         3.63230774 0.         0.82581018]\n",
      " [0.15056771 0.         0.82583875 0.         2.56089728 0.        ]\n",
      " [0.         0.14962995 0.         0.82581018 0.         2.56084681]]\n",
      "after predict: x=[[3.23704796 0.         0.80416115 0.         0.21467273 0.        ]\n",
      " [0.         3.16480437 0.         0.80320529 0.         0.21373285]\n",
      " [0.80416115 0.         4.76053464 0.         1.0051579  0.        ]\n",
      " [0.         0.80320529 0.         4.76051354 0.         1.00512579]\n",
      " [0.21467273 0.         1.0051579  0.         2.56089728 0.        ]\n",
      " [0.         0.21373285 0.         1.00512579 0.         2.56084681]]\n",
      "Initiating new track: x=[237.53299212 692.64379058 -10.87274758   5.63158743   0.\n",
      "   0.        ]\n",
      "age = 14 hits = 10\n",
      "age = 1 hits = 1\n"
     ]
    },
    {
     "name": "stderr",
     "output_type": "stream",
     "text": [
      "/home/kfir/workspace/RadarLocalization/dataset.py:261: VisibleDeprecationWarning: Creating an ndarray from ragged nested sequences (which is a list-or-tuple of lists-or-tuples-or ndarrays with different lengths or shapes) is deprecated. If you meant to do this, you must specify 'dtype=object' when creating the ndarray\n",
      "  rot = Quaternion(self.ego.iloc[eidx][\"rotation\"])\n"
     ]
    },
    {
     "name": "stdout",
     "output_type": "stream",
     "text": [
      "vx_com -10.872759866716608 vy_com 5.63153239036391\n",
      "Number of new plots 1\n",
      "Number of dynamic tracks before run() 2\n",
      "before predict: x=[[3.23704796 0.         0.80416115 0.         0.21467273 0.        ]\n",
      " [0.         3.16480437 0.         0.80320529 0.         0.21373285]\n",
      " [0.80416115 0.         4.76053464 0.         1.0051579  0.        ]\n",
      " [0.         0.80320529 0.         4.76051354 0.         1.00512579]\n",
      " [0.21467273 0.         1.0051579  0.         2.56089728 0.        ]\n",
      " [0.         0.21373285 0.         1.00512579 0.         2.56084681]]\n",
      "after predict: x=[[3.88762499 0.         1.18967158 0.         0.29803004 0.        ]\n",
      " [0.         3.81523129 0.         1.18864274 0.         0.29708759]\n",
      " [1.18967158 0.         5.92724926 0.         1.19886673 0.        ]\n",
      " [0.         1.18864274 0.         5.92722302 0.         1.19883081]\n",
      " [0.29803004 0.         1.19886673 0.         2.56089728 0.        ]\n",
      " [0.         0.29708759 0.         1.19883081 0.         2.56084681]]\n",
      "before predict: x=[[2.  0.  0.  0.  0.  0. ]\n",
      " [0.  2.  0.  0.  0.  0. ]\n",
      " [0.  0.  0.5 0.  0.  0. ]\n",
      " [0.  0.  0.  0.5 0.  0. ]\n",
      " [0.  0.  0.  0.  3.  0. ]\n",
      " [0.  0.  0.  0.  0.  3. ]]\n",
      "after predict: x=[[2.50288533 0.         0.03846968 0.         0.00858234 0.        ]\n",
      " [0.         2.50288533 0.         0.03846968 0.         0.00858234]\n",
      " [0.03846968 0.         1.51716468 0.         0.226923   0.        ]\n",
      " [0.         0.03846968 0.         1.51716468 0.         0.226923  ]\n",
      " [0.00858234 0.         0.226923   0.         3.         0.        ]\n",
      " [0.         0.00858234 0.         0.226923   0.         3.        ]]\n",
      "Updating track = 1 z = [237.00601988 693.14492232 -10.87275987   5.63153239] cov=[[3.11050083 0.         0.         0.        ]\n",
      " [0.         3.00605628 0.         0.        ]\n",
      " [0.         0.         0.5        0.        ]\n",
      " [0.         0.         0.         0.5       ]]\n",
      "age = 15 hits = 10\n",
      "age = 2 hits = 2\n"
     ]
    },
    {
     "name": "stderr",
     "output_type": "stream",
     "text": [
      "/home/kfir/workspace/RadarLocalization/dataset.py:261: VisibleDeprecationWarning: Creating an ndarray from ragged nested sequences (which is a list-or-tuple of lists-or-tuples-or ndarrays with different lengths or shapes) is deprecated. If you meant to do this, you must specify 'dtype=object' when creating the ndarray\n",
      "  rot = Quaternion(self.ego.iloc[eidx][\"rotation\"])\n"
     ]
    },
    {
     "name": "stdout",
     "output_type": "stream",
     "text": [
      "vx_com -11.020898143378588 vy_com 5.707765281115749\n",
      "Number of new plots 1\n",
      "Number of dynamic tracks before run() 2\n",
      "before predict: x=[[3.88762499 0.         1.18967158 0.         0.29803004 0.        ]\n",
      " [0.         3.81523129 0.         1.18864274 0.         0.29708759]\n",
      " [1.18967158 0.         5.92724926 0.         1.19886673 0.        ]\n",
      " [0.         1.18864274 0.         5.92722302 0.         1.19883081]\n",
      " [0.29803004 0.         1.19886673 0.         2.56089728 0.        ]\n",
      " [0.         0.29708759 0.         1.19883081 0.         2.56084681]]\n",
      "after predict: x=[[4.58340461 0.         1.63130172 0.         0.38750588 0.        ]\n",
      " [0.         4.51086326 0.         1.63020531 0.         0.38656081]\n",
      " [1.63130172 0.         7.10620093 0.         1.37679275 0.        ]\n",
      " [0.         1.63020531 0.         7.10616946 0.         1.37675332]\n",
      " [0.38750588 0.         1.37679275 0.         2.56089728 0.        ]\n",
      " [0.         0.38656081 0.         1.37675332 0.         2.56084681]]\n",
      "before predict: x=[[1.38667855e+00 0.00000000e+00 5.28456634e-03 0.00000000e+00\n",
      "  2.35790658e-03 0.00000000e+00]\n",
      " [0.00000000e+00 1.36552737e+00 0.00000000e+00 5.20396020e-03\n",
      "  0.00000000e+00 2.32194114e-03]\n",
      " [5.28456634e-03 0.00000000e+00 3.76047464e-01 0.00000000e+00\n",
      "  5.62407820e-02 0.00000000e+00]\n",
      " [0.00000000e+00 5.20396020e-03 0.00000000e+00 3.76047156e-01\n",
      "  0.00000000e+00 5.62406449e-02]\n",
      " [2.35790658e-03 0.00000000e+00 5.62407820e-02 0.00000000e+00\n",
      "  2.97446884e+00 0.00000000e+00]\n",
      " [0.00000000e+00 2.32194114e-03 0.00000000e+00 5.62406449e-02\n",
      "  0.00000000e+00 2.97446878e+00]]\n",
      "after predict: x=[[1.8892757  0.         0.03248144 0.         0.01344457 0.        ]\n",
      " [0.         1.86811315 0.         0.03239831 0.         0.0134086 ]\n",
      " [0.03248144 0.         1.39822079 0.         0.26290093 0.        ]\n",
      " [0.         0.03239831 0.         1.39822046 0.         0.26290079]\n",
      " [0.01344457 0.         0.26290093 0.         2.97446884 0.        ]\n",
      " [0.         0.0134086  0.         0.26290079 0.         2.97446878]]\n",
      "Updating track = 1 z = [236.0073979  693.9655674  -11.02089814   5.70776528] cov=[[3.22875432 0.         0.         0.        ]\n",
      " [0.         2.01558697 0.         0.        ]\n",
      " [0.         0.         0.51094187 0.        ]\n",
      " [0.         0.         0.         0.50293488]]\n",
      "age = 16 hits = 10\n",
      "age = 3 hits = 3\n"
     ]
    },
    {
     "name": "stderr",
     "output_type": "stream",
     "text": [
      "/home/kfir/workspace/RadarLocalization/dataset.py:261: VisibleDeprecationWarning: Creating an ndarray from ragged nested sequences (which is a list-or-tuple of lists-or-tuples-or ndarrays with different lengths or shapes) is deprecated. If you meant to do this, you must specify 'dtype=object' when creating the ndarray\n",
      "  rot = Quaternion(self.ego.iloc[eidx][\"rotation\"])\n"
     ]
    },
    {
     "name": "stdout",
     "output_type": "stream",
     "text": [
      "vx_com -11.020833232331645 vy_com 5.707918457190849\n",
      "Number of new plots 1\n",
      "Number of dynamic tracks before run() 1\n",
      "before predict: x=[[1.19164626 0.         0.00548457 0.         0.0056605  0.        ]\n",
      " [0.         0.96937631 0.         0.00444871 0.         0.00463438]\n",
      " [0.00548457 0.         0.37418569 0.         0.07034393 0.        ]\n",
      " [0.         0.00444871 0.         0.36986871 0.         0.06952852]\n",
      " [0.0056605  0.         0.07034393 0.         2.93825038 0.        ]\n",
      " [0.         0.00463438 0.         0.06952852 0.         2.93809308]]\n",
      "after predict: x=[[1.69466047 0.         0.03519813 0.         0.01920826 0.        ]\n",
      " [0.         1.47220466 0.         0.03375446 0.         0.01812052]\n",
      " [0.03519813 0.         1.40128122 0.         0.29079498 0.        ]\n",
      " [0.         0.03375446 0.         1.396841   0.         0.28996776]\n",
      " [0.01920826 0.         0.29079498 0.         2.93825038 0.        ]\n",
      " [0.         0.01812052 0.         0.28996776 0.         2.93809308]]\n",
      "Updating track = 0 z = [235.50446216 694.15495891 -11.02083323   5.70791846] cov=[[3.44051674 0.         0.         0.        ]\n",
      " [0.         2.26557624 0.         0.        ]\n",
      " [0.         0.         0.51094174 0.        ]\n",
      " [0.         0.         0.         0.50293503]]\n",
      "age = 4 hits = 4\n"
     ]
    },
    {
     "name": "stderr",
     "output_type": "stream",
     "text": [
      "/home/kfir/workspace/RadarLocalization/dataset.py:261: VisibleDeprecationWarning: Creating an ndarray from ragged nested sequences (which is a list-or-tuple of lists-or-tuples-or ndarrays with different lengths or shapes) is deprecated. If you meant to do this, you must specify 'dtype=object' when creating the ndarray\n",
      "  rot = Quaternion(self.ego.iloc[eidx][\"rotation\"])\n"
     ]
    },
    {
     "name": "stdout",
     "output_type": "stream",
     "text": [
      "vx_com -11.094787361941668 vy_com 5.746237081516879\n",
      "Number of new plots 1\n",
      "Number of dynamic tracks before run() 1\n",
      "before predict: x=[[1.13511449 0.         0.00630196 0.         0.0092843  0.        ]\n",
      " [0.         0.89212511 0.         0.0054172  0.         0.00786184]\n",
      " [0.00630196 0.         0.37440201 0.         0.07767439 0.        ]\n",
      " [0.         0.0054172  0.         0.36976974 0.         0.07673328]\n",
      " [0.0092843  0.         0.07767439 0.         2.89399131 0.        ]\n",
      " [0.         0.00786184 0.         0.07673328 0.         2.89378954]]\n",
      "after predict: x=[[1.63791804 0.         0.03420995 0.         0.0218003  0.        ]\n",
      " [0.         1.3947749  0.         0.03289467 0.         0.0203115 ]\n",
      " [0.03420995 0.         1.39943401 0.         0.28013513 0.        ]\n",
      " [0.         0.03289467 0.         1.39466907 0.         0.2791799 ]\n",
      " [0.0218003  0.         0.28013513 0.         2.89399131 0.        ]\n",
      " [0.         0.0203115  0.         0.2791799  0.         2.89378954]]\n",
      "Updating track = 0 z = [234.66548028 694.70718501 -11.09478736   5.74623708] cov=[[3.22997705 0.         0.         0.        ]\n",
      " [0.         2.21903472 0.         0.        ]\n",
      " [0.         0.         0.5        0.        ]\n",
      " [0.         0.         0.         0.5       ]]\n",
      "age = 5 hits = 5\n"
     ]
    },
    {
     "name": "stderr",
     "output_type": "stream",
     "text": [
      "/home/kfir/workspace/RadarLocalization/dataset.py:261: VisibleDeprecationWarning: Creating an ndarray from ragged nested sequences (which is a list-or-tuple of lists-or-tuples-or ndarrays with different lengths or shapes) is deprecated. If you meant to do this, you must specify 'dtype=object' when creating the ndarray\n",
      "  rot = Quaternion(self.ego.iloc[eidx][\"rotation\"])\n"
     ]
    },
    {
     "name": "stdout",
     "output_type": "stream",
     "text": [
      "Number of new plots 0\n",
      "Number of dynamic tracks before run() 1\n",
      "before predict: x=[[1.08653061 0.         0.00597601 0.         0.01111872 0.        ]\n",
      " [0.         0.85623648 0.         0.00533126 0.         0.00949735]\n",
      " [0.00597601 0.         0.36836518 0.         0.07371074 0.        ]\n",
      " [0.         0.00533126 0.         0.36802998 0.         0.07363795]\n",
      " [0.01111872 0.         0.07371074 0.         2.85261833 0.        ]\n",
      " [0.         0.00949735 0.         0.07363795 0.         2.85258614]]\n",
      "after predict: x=[[1.59716781 0.         0.06909372 0.         0.05318008 0.        ]\n",
      " [0.         1.36664008 0.         0.06815731 0.         0.05154759]\n",
      " [0.06909372 0.         1.45248789 0.         0.49538193 0.        ]\n",
      " [0.         0.06815731 0.         1.45213047 0.         0.49530439]\n",
      " [0.05318008 0.         0.49538193 0.         2.85261833 0.        ]\n",
      " [0.         0.05154759 0.         0.49530439 0.         2.85258614]]\n",
      "age = 6 hits = 5\n"
     ]
    },
    {
     "name": "stderr",
     "output_type": "stream",
     "text": [
      "/home/kfir/workspace/RadarLocalization/dataset.py:261: VisibleDeprecationWarning: Creating an ndarray from ragged nested sequences (which is a list-or-tuple of lists-or-tuples-or ndarrays with different lengths or shapes) is deprecated. If you meant to do this, you must specify 'dtype=object' when creating the ndarray\n",
      "  rot = Quaternion(self.ego.iloc[eidx][\"rotation\"])\n"
     ]
    },
    {
     "name": "stdout",
     "output_type": "stream",
     "text": [
      "Number of new plots 0\n",
      "Number of dynamic tracks before run() 1\n",
      "before predict: x=[[1.59716781 0.         0.06909372 0.         0.05318008 0.        ]\n",
      " [0.         1.36664008 0.         0.06815731 0.         0.05154759]\n",
      " [0.06909372 0.         1.45248789 0.         0.49538193 0.        ]\n",
      " [0.         0.06815731 0.         1.45213047 0.         0.49530439]\n",
      " [0.05318008 0.         0.49538193 0.         2.85261833 0.        ]\n",
      " [0.         0.05154759 0.         0.49530439 0.         2.85258614]]\n",
      "after predict: x=[[2.11521452 0.         0.18228033 0.         0.09641053 0.        ]\n",
      " [0.         1.88454108 0.         0.18119955 0.         0.09477236]\n",
      " [0.18228033 0.         2.5389488  0.         0.70145793 0.        ]\n",
      " [0.         0.18119955 0.         2.53858    0.         0.70137806]\n",
      " [0.09641053 0.         0.70145793 0.         2.85261833 0.        ]\n",
      " [0.         0.09477236 0.         0.70137806 0.         2.85258614]]\n",
      "age = 7 hits = 5\n",
      "Number of new plots 0\n",
      "Number of dynamic tracks before run() 1\n",
      "before predict: x=[[2.11521452 0.         0.18228033 0.         0.09641053 0.        ]\n",
      " [0.         1.88454108 0.         0.18119955 0.         0.09477236]\n",
      " [0.18228033 0.         2.5389488  0.         0.70145793 0.        ]\n",
      " [0.         0.18119955 0.         2.53858    0.         0.70137806]\n",
      " [0.09641053 0.         0.70145793 0.         2.85261833 0.        ]\n",
      " [0.         0.09477236 0.         0.70137806 0.         2.85258614]]\n",
      "after predict: x=[[2.65775926 0.         0.38667231 0.         0.15711428 0.        ]\n",
      " [0.         2.42691219 0.         0.38544017 0.         0.15547002]\n",
      " [0.38667231 0.         3.66035629 0.         0.91562681 0.        ]\n",
      " [0.         0.38544017 0.         3.65997532 0.         0.91554452]\n",
      " [0.15711428 0.         0.91562681 0.         2.85261833 0.        ]\n",
      " [0.         0.15547002 0.         0.91554452 0.         2.85258614]]\n",
      "age = 8 hits = 5\n",
      "vx_com -11.094533117894281 vy_com 5.7467284821555005\n",
      "Number of new plots 1\n",
      "Number of dynamic tracks before run() 1\n",
      "before predict: x=[[2.65775926 0.         0.38667231 0.         0.15711428 0.        ]\n",
      " [0.         2.42691219 0.         0.38544017 0.         0.15547002]\n",
      " [0.38667231 0.         3.66035629 0.         0.91562681 0.        ]\n",
      " [0.         0.38544017 0.         3.65997532 0.         0.91554452]\n",
      " [0.15711428 0.         0.91562681 0.         2.85261833 0.        ]\n",
      " [0.         0.15547002 0.         0.91554452 0.         2.85258614]]\n",
      "after predict: x=[[3.23090505 0.         0.66103775 0.         0.22817588 0.        ]\n",
      " [0.         2.99987558 0.         0.65966327 0.         0.22652578]\n",
      " [0.66103775 0.         4.80247949 0.         1.11525589 0.        ]\n",
      " [0.         0.65966327 0.         4.80208685 0.         1.11517135]\n",
      " [0.22817588 0.         1.11525589 0.         2.85261833 0.        ]\n",
      " [0.         0.22652578 0.         1.11517135 0.         2.85258614]]\n",
      "Updating track = 0 z = [229.59317191 696.01422886 -11.09453312   5.74672848] cov=[[2.3287404  0.         0.         0.        ]\n",
      " [0.         2.17063346 0.         0.        ]\n",
      " [0.         0.         0.5        0.        ]\n",
      " [0.         0.         0.         0.5       ]]\n",
      "age = 9 hits = 6\n"
     ]
    },
    {
     "name": "stderr",
     "output_type": "stream",
     "text": [
      "/home/kfir/workspace/RadarLocalization/dataset.py:261: VisibleDeprecationWarning: Creating an ndarray from ragged nested sequences (which is a list-or-tuple of lists-or-tuples-or ndarrays with different lengths or shapes) is deprecated. If you meant to do this, you must specify 'dtype=object' when creating the ndarray\n",
      "  rot = Quaternion(self.ego.iloc[eidx][\"rotation\"])\n"
     ]
    },
    {
     "name": "stdout",
     "output_type": "stream",
     "text": [
      "vx_com -11.094459696299879 vy_com 5.746835663677395\n",
      "Number of new plots 1\n",
      "Number of dynamic tracks before run() 1\n",
      "before predict: x=[[1.33863678 0.         0.02650189 0.         0.03790008 0.        ]\n",
      " [0.         1.24468114 0.         0.02653674 0.         0.0374457 ]\n",
      " [0.02650189 0.         0.45214288 0.         0.10414916 0.        ]\n",
      " [0.         0.02653674 0.         0.45208824 0.         0.10409029]\n",
      " [0.03790008 0.         0.10414916 0.         2.61659886 0.        ]\n",
      " [0.         0.0374457  0.         0.10409029 0.         2.61652132]]\n",
      "after predict: x=[[1.84543733 0.         0.06470295 0.         0.05308007 0.        ]\n",
      " [0.         1.75148403 0.         0.06469909 0.         0.05262105]\n",
      " [0.06470295 0.         1.48250285 0.         0.3004778  0.        ]\n",
      " [0.         0.06469909 0.         1.48243894 0.         0.30041311]\n",
      " [0.05308007 0.         0.3004778  0.         2.61659886 0.        ]\n",
      " [0.         0.05262105 0.         0.30041311 0.         2.61652132]]\n",
      "Updating track = 0 z = [229.24811172 696.64708848 -11.0944597    5.74683566] cov=[[3.05934612 0.         0.         0.        ]\n",
      " [0.         2.0006175  0.         0.        ]\n",
      " [0.         0.         0.5        0.        ]\n",
      " [0.         0.         0.         0.5       ]]\n",
      "age = 10 hits = 7\n"
     ]
    },
    {
     "name": "stderr",
     "output_type": "stream",
     "text": [
      "/home/kfir/workspace/RadarLocalization/dataset.py:261: VisibleDeprecationWarning: Creating an ndarray from ragged nested sequences (which is a list-or-tuple of lists-or-tuples-or ndarrays with different lengths or shapes) is deprecated. If you meant to do this, you must specify 'dtype=object' when creating the ndarray\n",
      "  rot = Quaternion(self.ego.iloc[eidx][\"rotation\"])\n"
     ]
    },
    {
     "name": "stdout",
     "output_type": "stream",
     "text": [
      "vx_com -11.09432656505462 vy_com 5.74708582271165\n",
      "Number of new plots 1\n",
      "Number of dynamic tracks before run() 1\n",
      "before predict: x=[[1.15026487 0.         0.01018301 0.         0.02700328 0.        ]\n",
      " [0.         0.93328922 0.         0.00870567 0.         0.0228427 ]\n",
      " [0.01018301 0.         0.37384246 0.         0.0756384  0.        ]\n",
      " [0.         0.00870567 0.         0.3738217  0.         0.07558225]\n",
      " [0.02700328 0.         0.0756384  0.         2.57067503 0.        ]\n",
      " [0.         0.0228427  0.         0.07558225 0.         2.57050871]]\n",
      "after predict: x=[[1.66217594 0.         0.07466315 0.         0.06504172 0.        ]\n",
      " [0.         1.44468332 0.         0.07257706 0.         0.06087124]\n",
      " [0.07466315 0.         1.44991933 0.         0.44865363 0.        ]\n",
      " [0.         0.07257706 0.         1.44987878 0.         0.44857334]\n",
      " [0.06504172 0.         0.44865363 0.         2.57067503 0.        ]\n",
      " [0.         0.06087124 0.         0.44857334 0.         2.57050871]]\n",
      "Updating track = 0 z = [227.68384853 696.67903501 -11.09432657   5.74708582] cov=[[2.76132937 0.         0.         0.        ]\n",
      " [0.         2.30763395 0.         0.        ]\n",
      " [0.         0.         0.5        0.        ]\n",
      " [0.         0.         0.         0.5       ]]\n",
      "age = 11 hits = 8\n"
     ]
    },
    {
     "name": "stderr",
     "output_type": "stream",
     "text": [
      "/home/kfir/workspace/RadarLocalization/dataset.py:261: VisibleDeprecationWarning: Creating an ndarray from ragged nested sequences (which is a list-or-tuple of lists-or-tuples-or ndarrays with different lengths or shapes) is deprecated. If you meant to do this, you must specify 'dtype=object' when creating the ndarray\n",
      "  rot = Quaternion(self.ego.iloc[eidx][\"rotation\"])\n"
     ]
    },
    {
     "name": "stdout",
     "output_type": "stream",
     "text": [
      "Number of new plots 0\n",
      "Number of dynamic tracks before run() 1\n",
      "before predict: x=[[1.03648211 0.         0.01195892 0.         0.02989708 0.        ]\n",
      " [0.         0.88744195 0.         0.0114536  0.         0.02718656]\n",
      " [0.01195892 0.         0.37170665 0.         0.11483687 0.        ]\n",
      " [0.         0.0114536  0.         0.37169453 0.         0.1148067 ]\n",
      " [0.02989708 0.         0.11483687 0.         2.46692686 0.        ]\n",
      " [0.         0.02718656 0.         0.1148067  0.         2.46679312]]\n",
      "after predict: x=[[1.54017742 0.         0.04133299 0.         0.04397618 0.        ]\n",
      " [0.         1.39105318 0.         0.04063686 0.         0.04126322]\n",
      " [0.04133299 0.         1.39986486 0.         0.28749214 0.        ]\n",
      " [0.         0.04063686 0.         1.39984786 0.         0.28745262]\n",
      " [0.04397618 0.         0.28749214 0.         2.46692686 0.        ]\n",
      " [0.         0.04126322 0.         0.28745262 0.         2.46679312]]\n",
      "age = 12 hits = 8\n"
     ]
    },
    {
     "name": "stderr",
     "output_type": "stream",
     "text": [
      "/home/kfir/workspace/RadarLocalization/dataset.py:261: VisibleDeprecationWarning: Creating an ndarray from ragged nested sequences (which is a list-or-tuple of lists-or-tuples-or ndarrays with different lengths or shapes) is deprecated. If you meant to do this, you must specify 'dtype=object' when creating the ndarray\n",
      "  rot = Quaternion(self.ego.iloc[eidx][\"rotation\"])\n"
     ]
    },
    {
     "name": "stdout",
     "output_type": "stream",
     "text": [
      "Number of new plots 0\n",
      "Number of dynamic tracks before run() 1\n",
      "before predict: x=[[1.54017742 0.         0.04133299 0.         0.04397618 0.        ]\n",
      " [0.         1.39105318 0.         0.04063686 0.         0.04126322]\n",
      " [0.04133299 0.         1.39986486 0.         0.28749214 0.        ]\n",
      " [0.         0.04063686 0.         1.39984786 0.         0.28745262]\n",
      " [0.04397618 0.         0.28749214 0.         2.46692686 0.        ]\n",
      " [0.         0.04126322 0.         0.28745262 0.         2.46679312]]\n",
      "after predict: x=[[2.05464984 0.         0.15261762 0.         0.07249191 0.        ]\n",
      " [0.         1.90540575 0.         0.15171629 0.         0.06977562]\n",
      " [0.15261762 0.         2.45689633 0.         0.47259307 0.        ]\n",
      " [0.         0.15171629 0.         2.45687264 0.         0.47254351]\n",
      " [0.07249191 0.         0.47259307 0.         2.46692686 0.        ]\n",
      " [0.         0.06977562 0.         0.47254351 0.         2.46679312]]\n",
      "age = 13 hits = 8\n",
      "vx_com -10.872494878885181 vy_com 5.632078638755213\n",
      "Number of new plots 1\n",
      "Number of dynamic tracks before run() 1\n",
      "before predict: x=[[2.05464984 0.         0.15261762 0.         0.07249191 0.        ]\n",
      " [0.         1.90540575 0.         0.15171629 0.         0.06977562]\n",
      " [0.15261762 0.         2.45689633 0.         0.47259307 0.        ]\n",
      " [0.         0.15171629 0.         2.45687264 0.         0.47254351]\n",
      " [0.07249191 0.         0.47259307 0.         2.46692686 0.        ]\n",
      " [0.         0.06977562 0.         0.47254351 0.         2.46679312]]\n",
      "after predict: x=[[2.59196907 0.         0.34675257 0.         0.11485556 0.        ]\n",
      " [0.         2.44257441 0.         0.34564538 0.         0.11213517]\n",
      " [0.34675257 0.         3.54162361 0.         0.65754104 0.        ]\n",
      " [0.         0.34564538 0.         3.54159175 0.         0.65748145]\n",
      " [0.11485556 0.         0.65754104 0.         2.46692686 0.        ]\n",
      " [0.         0.11213517 0.         0.65748145 0.         2.46679312]]\n",
      "Initiating new track: x=[228.13296826 710.4285973  -10.87249488   5.63207864   0.\n",
      "   0.        ]\n",
      "age = 14 hits = 8\n",
      "age = 1 hits = 1\n"
     ]
    },
    {
     "name": "stderr",
     "output_type": "stream",
     "text": [
      "/home/kfir/workspace/RadarLocalization/dataset.py:261: VisibleDeprecationWarning: Creating an ndarray from ragged nested sequences (which is a list-or-tuple of lists-or-tuples-or ndarrays with different lengths or shapes) is deprecated. If you meant to do this, you must specify 'dtype=object' when creating the ndarray\n",
      "  rot = Quaternion(self.ego.iloc[eidx][\"rotation\"])\n"
     ]
    },
    {
     "name": "stdout",
     "output_type": "stream",
     "text": [
      "vx_com -11.09441604174448 vy_com 5.746957942714431\n",
      "Number of new plots 1\n",
      "Number of dynamic tracks before run() 2\n",
      "before predict: x=[[2.59196907 0.         0.34675257 0.         0.11485556 0.        ]\n",
      " [0.         2.44257441 0.         0.34564538 0.         0.11213517]\n",
      " [0.34675257 0.         3.54162361 0.         0.65754104 0.        ]\n",
      " [0.         0.34564538 0.         3.54159175 0.         0.65748145]\n",
      " [0.11485556 0.         0.65754104 0.         2.46692686 0.        ]\n",
      " [0.         0.11213517 0.         0.65748145 0.         2.46679312]]\n",
      "after predict: x=[[3.15811179 0.         0.60620473 0.         0.16654493 0.        ]\n",
      " [0.         3.00854982 0.         0.60490569 0.         0.16382007]\n",
      " [0.60620473 0.         4.64500236 0.         0.82908867 0.        ]\n",
      " [0.         0.60490569 0.         4.64496156 0.         0.82901978]\n",
      " [0.16654493 0.         0.82908867 0.         2.46692686 0.        ]\n",
      " [0.         0.16382007 0.         0.82901978 0.         2.46679312]]\n",
      "before predict: x=[[2.  0.  0.  0.  0.  0. ]\n",
      " [0.  2.  0.  0.  0.  0. ]\n",
      " [0.  0.  0.5 0.  0.  0. ]\n",
      " [0.  0.  0.  0.5 0.  0. ]\n",
      " [0.  0.  0.  0.  3.  0. ]\n",
      " [0.  0.  0.  0.  0.  3. ]]\n",
      "after predict: x=[[2.50243537 0.         0.0352739  0.         0.00725351 0.        ]\n",
      " [0.         2.50243537 0.         0.0352739  0.         0.00725351]\n",
      " [0.0352739  0.         1.51450702 0.         0.208617   0.        ]\n",
      " [0.         0.0352739  0.         1.51450702 0.         0.208617  ]\n",
      " [0.00725351 0.         0.208617   0.         3.         0.        ]\n",
      " [0.         0.00725351 0.         0.208617   0.         3.        ]]\n",
      "Updating track = 1 z = [227.01493492 710.44968905 -11.09441604   5.74695794] cov=[[2.01822912 0.         0.         0.        ]\n",
      " [0.         2.00176978 0.         0.        ]\n",
      " [0.         0.         0.5        0.        ]\n",
      " [0.         0.         0.         0.5       ]]\n",
      "age = 15 hits = 8\n",
      "age = 2 hits = 2\n"
     ]
    },
    {
     "name": "stderr",
     "output_type": "stream",
     "text": [
      "/home/kfir/workspace/RadarLocalization/dataset.py:261: VisibleDeprecationWarning: Creating an ndarray from ragged nested sequences (which is a list-or-tuple of lists-or-tuples-or ndarrays with different lengths or shapes) is deprecated. If you meant to do this, you must specify 'dtype=object' when creating the ndarray\n",
      "  rot = Quaternion(self.ego.iloc[eidx][\"rotation\"])\n"
     ]
    },
    {
     "name": "stdout",
     "output_type": "stream",
     "text": [
      "vx_com -11.094467395433112 vy_com 5.746873191537357\n",
      "Number of new plots 1\n",
      "Number of dynamic tracks before run() 2\n",
      "before predict: x=[[3.15811179 0.         0.60620473 0.         0.16654493 0.        ]\n",
      " [0.         3.00854982 0.         0.60490569 0.         0.16382007]\n",
      " [0.60620473 0.         4.64500236 0.         0.82908867 0.        ]\n",
      " [0.         0.60490569 0.         4.64496156 0.         0.82901978]\n",
      " [0.16654493 0.         0.82908867 0.         2.46692686 0.        ]\n",
      " [0.         0.16382007 0.         0.82901978 0.         2.46679312]]\n",
      "after predict: x=[[3.77759331 0.         0.97745789 0.         0.23624528 0.        ]\n",
      " [0.         3.62781917 0.         0.97594923 0.         0.23351484]\n",
      " [0.97745789 0.         5.78440307 0.         1.01551926 0.        ]\n",
      " [0.         0.97594923 0.         5.78435109 0.         1.01544027]\n",
      " [0.23624528 0.         1.01551926 0.         2.46692686 0.        ]\n",
      " [0.         0.23351484 0.         1.01544027 0.         2.46679312]]\n",
      "before predict: x=[[1.11707723e+00 0.00000000e+00 3.90914925e-03 0.00000000e+00\n",
      "  1.60770695e-03 0.00000000e+00]\n",
      " [0.00000000e+00 1.11201639e+00 0.00000000e+00 3.89143915e-03\n",
      "  0.00000000e+00 1.60042335e-03]\n",
      " [3.90914925e-03 0.00000000e+00 3.75883202e-01 0.00000000e+00\n",
      "  5.17716988e-02 0.00000000e+00]\n",
      " [0.00000000e+00 3.89143915e-03 0.00000000e+00 3.75883140e-01\n",
      "  0.00000000e+00 5.17716733e-02]\n",
      " [1.60770695e-03 0.00000000e+00 5.17716988e-02 0.00000000e+00\n",
      "  2.97839331e+00 0.00000000e+00]\n",
      " [0.00000000e+00 1.60042335e-03 0.00000000e+00 5.17716733e-02\n",
      "  0.00000000e+00 2.97839330e+00]]\n",
      "after predict: x=[[1.6198706  0.         0.03352314 0.         0.01402519 0.        ]\n",
      " [0.         1.61480705 0.         0.03350488 0.         0.0140179 ]\n",
      " [0.03352314 0.         1.40071817 0.         0.27685484 0.        ]\n",
      " [0.         0.03350488 0.         1.4007181  0.         0.27685481]\n",
      " [0.01402519 0.         0.27685484 0.         2.97839331 0.        ]\n",
      " [0.         0.0140179  0.         0.27685481 0.         2.9783933 ]]\n",
      "Initiating new track: x=[224.80647709 705.06399685 -11.0944674    5.74687319   0.\n",
      "   0.        ]\n",
      "age = 16 hits = 8\n",
      "age = 3 hits = 2\n",
      "age = 1 hits = 1\n"
     ]
    },
    {
     "name": "stderr",
     "output_type": "stream",
     "text": [
      "/home/kfir/workspace/RadarLocalization/dataset.py:261: VisibleDeprecationWarning: Creating an ndarray from ragged nested sequences (which is a list-or-tuple of lists-or-tuples-or ndarrays with different lengths or shapes) is deprecated. If you meant to do this, you must specify 'dtype=object' when creating the ndarray\n",
      "  rot = Quaternion(self.ego.iloc[eidx][\"rotation\"])\n"
     ]
    },
    {
     "name": "stdout",
     "output_type": "stream",
     "text": [
      "vx_com -11.31648070758237 vy_com 5.861582361169973\n",
      "Number of new plots 1\n",
      "Number of dynamic tracks before run() 3\n",
      "before predict: x=[[3.77759331 0.         0.97745789 0.         0.23624528 0.        ]\n",
      " [0.         3.62781917 0.         0.97594923 0.         0.23351484]\n",
      " [0.97745789 0.         5.78440307 0.         1.01551926 0.        ]\n",
      " [0.         0.97594923 0.         5.78435109 0.         1.01544027]\n",
      " [0.23624528 0.         1.01551926 0.         2.46692686 0.        ]\n",
      " [0.         0.23351484 0.         1.01544027 0.         2.46679312]]\n",
      "after predict: x=[[4.68983618 0.         1.8842054  0.         0.40900219 0.        ]\n",
      " [0.         4.53956697 0.         1.88229148 0.         0.40625892]\n",
      " [1.8842054  0.         7.12991688 0.         1.37245644 0.        ]\n",
      " [0.         1.88229148 0.         7.12983925 0.         1.3723581 ]\n",
      " [0.40900219 0.         1.37245644 0.         2.46692686 0.        ]\n",
      " [0.         0.40625892 0.         1.3723581  0.         2.46679312]]\n",
      "before predict: x=[[1.6198706  0.         0.03352314 0.         0.01402519 0.        ]\n",
      " [0.         1.61480705 0.         0.03350488 0.         0.0140179 ]\n",
      " [0.03352314 0.         1.40071817 0.         0.27685484 0.        ]\n",
      " [0.         0.03350488 0.         1.4007181  0.         0.27685481]\n",
      " [0.01402519 0.         0.27685484 0.         2.97839331 0.        ]\n",
      " [0.         0.0140179  0.         0.27685481 0.         2.9783933 ]]\n",
      "after predict: x=[[2.16035392 0.         0.25142569 0.         0.08525923 0.        ]\n",
      " [0.         2.15528493 0.         0.25140636 0.         0.08525194]\n",
      " [0.25142569 0.         2.54318625 0.         0.70779559 0.        ]\n",
      " [0.         0.25140636 0.         2.54318618 0.         0.70779556]\n",
      " [0.08525923 0.         0.70779559 0.         2.97839331 0.        ]\n",
      " [0.         0.08525194 0.         0.70779556 0.         2.9783933 ]]\n",
      "before predict: x=[[2.  0.  0.  0.  0.  0. ]\n",
      " [0.  2.  0.  0.  0.  0. ]\n",
      " [0.  0.  0.5 0.  0.  0. ]\n",
      " [0.  0.  0.  0.5 0.  0. ]\n",
      " [0.  0.  0.  0.  3.  0. ]\n",
      " [0.  0.  0.  0.  0.  3. ]]\n",
      "after predict: x=[[2.51079616 0.         0.07688808 0.         0.03140236 0.        ]\n",
      " [0.         2.51079616 0.         0.07688808 0.         0.03140236]\n",
      " [0.07688808 0.         1.56280472 0.         0.434067   0.        ]\n",
      " [0.         0.07688808 0.         1.56280472 0.         0.434067  ]\n",
      " [0.03140236 0.         0.434067   0.         3.         0.        ]\n",
      " [0.         0.03140236 0.         0.434067   0.         3.        ]]\n",
      "Updating track = 0 z = [221.5930399  698.62444258 -11.31648071   5.86158236] cov=[[3.22993369 0.         0.         0.        ]\n",
      " [0.         2.21907118 0.         0.        ]\n",
      " [0.         0.         0.5        0.        ]\n",
      " [0.         0.         0.         0.5       ]]\n",
      "age = 17 hits = 9\n",
      "age = 4 hits = 2\n",
      "age = 2 hits = 1\n"
     ]
    },
    {
     "name": "stderr",
     "output_type": "stream",
     "text": [
      "/home/kfir/workspace/RadarLocalization/dataset.py:261: VisibleDeprecationWarning: Creating an ndarray from ragged nested sequences (which is a list-or-tuple of lists-or-tuples-or ndarrays with different lengths or shapes) is deprecated. If you meant to do this, you must specify 'dtype=object' when creating the ndarray\n",
      "  rot = Quaternion(self.ego.iloc[eidx][\"rotation\"])\n"
     ]
    },
    {
     "name": "stdout",
     "output_type": "stream",
     "text": [
      "vx_com -11.316383923863294 vy_com 5.861755829062737\n",
      "Number of new plots 1\n",
      "Number of dynamic tracks before run() 3\n",
      "before predict: x=[[1.83044087 0.         0.05350021 0.         0.03036248 0.        ]\n",
      " [0.         1.43672891 0.         0.04348776 0.         0.02386662]\n",
      " [0.05350021 0.         0.46518902 0.         0.08877844 0.        ]\n",
      " [0.         0.04348776 0.         0.46481657 0.         0.08860695]\n",
      " [0.03036248 0.         0.08877844 0.         2.21939301 0.        ]\n",
      " [0.         0.02386662 0.         0.08860695 0.         2.21922277]]\n",
      "after predict: x=[[2.34032464 0.         0.08898914 0.         0.04190753 0.        ]\n",
      " [0.         1.94518643 0.         0.07849765 0.         0.03539932]\n",
      " [0.08898914 0.         1.48827911 0.         0.24316164 0.        ]\n",
      " [0.         0.07849765 0.         1.48788197 0.         0.24297831]\n",
      " [0.04190753 0.         0.24316164 0.         2.21939301 0.        ]\n",
      " [0.         0.03539932 0.         0.24297831 0.         2.21922277]]\n",
      "before predict: x=[[2.16035392 0.         0.25142569 0.         0.08525923 0.        ]\n",
      " [0.         2.15528493 0.         0.25140636 0.         0.08525194]\n",
      " [0.25142569 0.         2.54318625 0.         0.70779559 0.        ]\n",
      " [0.         0.25140636 0.         2.54318618 0.         0.70779556]\n",
      " [0.08525923 0.         0.70779559 0.         2.97839331 0.        ]\n",
      " [0.         0.08525194 0.         0.70779556 0.         2.9783933 ]]\n",
      "after predict: x=[[2.70830678 0.         0.43990148 0.         0.14170003 0.        ]\n",
      " [0.         2.70323506 0.         0.43988164 0.         0.14169273]\n",
      " [0.43990148 0.         3.65606784 0.         0.9149756  0.        ]\n",
      " [0.         0.43988164 0.         3.65606776 0.         0.91497558]\n",
      " [0.14170003 0.         0.9149756  0.         2.97839331 0.        ]\n",
      " [0.         0.14169273 0.         0.91497558 0.         2.9783933 ]]\n",
      "before predict: x=[[2.51079616 0.         0.07688808 0.         0.03140236 0.        ]\n",
      " [0.         2.51079616 0.         0.07688808 0.         0.03140236]\n",
      " [0.07688808 0.         1.56280472 0.         0.434067   0.        ]\n",
      " [0.         0.07688808 0.         1.56280472 0.         0.434067  ]\n",
      " [0.03140236 0.         0.434067   0.         3.         0.        ]\n",
      " [0.         0.03140236 0.         0.434067   0.         3.        ]]\n",
      "after predict: x=[[3.02937058 0.         0.1914381  0.         0.06885459 0.        ]\n",
      " [0.         3.02937058 0.         0.1914381  0.         0.06885459]\n",
      " [0.1914381  0.         2.63770919 0.         0.64275    0.        ]\n",
      " [0.         0.1914381  0.         2.63770919 0.         0.64275   ]\n",
      " [0.06885459 0.         0.64275    0.         3.         0.        ]\n",
      " [0.         0.06885459 0.         0.64275    0.         3.        ]]\n",
      "Updating track = 0 z = [221.20164933 699.16938639 -11.31638392   5.86175583] cov=[[3.06781702 0.         0.         0.        ]\n",
      " [0.         2.13170527 0.         0.        ]\n",
      " [0.         0.         0.5        0.        ]\n",
      " [0.         0.         0.         0.5       ]]\n",
      "age = 18 hits = 10\n",
      "age = 5 hits = 2\n",
      "age = 3 hits = 1\n"
     ]
    },
    {
     "name": "stderr",
     "output_type": "stream",
     "text": [
      "/home/kfir/workspace/RadarLocalization/dataset.py:261: VisibleDeprecationWarning: Creating an ndarray from ragged nested sequences (which is a list-or-tuple of lists-or-tuples-or ndarrays with different lengths or shapes) is deprecated. If you meant to do this, you must specify 'dtype=object' when creating the ndarray\n",
      "  rot = Quaternion(self.ego.iloc[eidx][\"rotation\"])\n"
     ]
    },
    {
     "name": "stdout",
     "output_type": "stream",
     "text": [
      "vx_com -11.316325795363554 vy_com 5.861810372543851\n",
      "Number of new plots 1\n",
      "Number of dynamic tracks before run() 3\n",
      "before predict: x=[[1.32628765 0.         0.01270372 0.         0.01761183 0.        ]\n",
      " [0.         1.0162415  0.         0.01033152 0.         0.01350283]\n",
      " [0.01270372 0.         0.37417046 0.         0.0610203  0.        ]\n",
      " [0.         0.01033152 0.         0.37414232 0.         0.06098981]\n",
      " [0.01761183 0.         0.0610203  0.         2.18947683 0.        ]\n",
      " [0.         0.01350283 0.         0.06098981 0.         2.18936014]]\n",
      "after predict: x=[[1.8304756  0.         0.04323884 0.         0.02843923 0.        ]\n",
      " [0.         1.52004813 0.         0.04055436 0.         0.02432761]\n",
      " [0.04323884 0.         1.39582527 0.         0.22613313 0.        ]\n",
      " [0.         0.04055436 0.         1.39579187 0.         0.22609384]\n",
      " [0.02843923 0.         0.22613313 0.         2.18947683 0.        ]\n",
      " [0.         0.02432761 0.         0.22609384 0.         2.18936014]]\n",
      "before predict: x=[[2.70830678 0.         0.43990148 0.         0.14170003 0.        ]\n",
      " [0.         2.70323506 0.         0.43988164 0.         0.14169273]\n",
      " [0.43990148 0.         3.65606784 0.         0.9149756  0.        ]\n",
      " [0.         0.43988164 0.         3.65606776 0.         0.91497558]\n",
      " [0.14170003 0.         0.9149756  0.         2.97839331 0.        ]\n",
      " [0.         0.14169273 0.         0.91497558 0.         2.9783933 ]]\n",
      "after predict: x=[[3.29666876 0.         0.73474258 0.         0.21916918 0.        ]\n",
      " [0.         3.291594   0.         0.73472218 0.         0.21916189]\n",
      " [0.73474258 0.         4.81100615 0.         1.1395822  0.        ]\n",
      " [0.         0.73472218 0.         4.81100607 0.         1.13958217]\n",
      " [0.21916918 0.         1.1395822  0.         2.97839331 0.        ]\n",
      " [0.         0.21916189 0.         1.13958217 0.         2.9783933 ]]\n",
      "before predict: x=[[3.02937058 0.         0.1914381  0.         0.06885459 0.        ]\n",
      " [0.         3.02937058 0.         0.1914381  0.         0.06885459]\n",
      " [0.1914381  0.         2.63770919 0.         0.64275    0.        ]\n",
      " [0.         0.1914381  0.         2.63770919 0.         0.64275   ]\n",
      " [0.06885459 0.         0.64275    0.         3.         0.        ]\n",
      " [0.         0.06885459 0.         0.64275    0.         3.        ]]\n",
      "after predict: x=[[3.5739361  0.         0.40167173 0.         0.12585611 0.        ]\n",
      " [0.         3.5739361  0.         0.40167173 0.         0.12585611]\n",
      " [0.40167173 0.         3.75171222 0.         0.868986   0.        ]\n",
      " [0.         0.40167173 0.         3.75171222 0.         0.868986  ]\n",
      " [0.12585611 0.         0.868986   0.         3.         0.        ]\n",
      " [0.         0.12585611 0.         0.868986   0.         3.        ]]\n",
      "Updating track = 0 z = [219.73872805 699.82337135 -11.3163258    5.86181037] cov=[[3.22991391 0.         0.         0.        ]\n",
      " [0.         2.21909327 0.         0.        ]\n",
      " [0.         0.         0.5        0.        ]\n",
      " [0.         0.         0.         0.5       ]]\n",
      "age = 19 hits = 11\n",
      "age = 6 hits = 2\n",
      "age = 4 hits = 1\n"
     ]
    },
    {
     "name": "stderr",
     "output_type": "stream",
     "text": [
      "/home/kfir/workspace/RadarLocalization/dataset.py:261: VisibleDeprecationWarning: Creating an ndarray from ragged nested sequences (which is a list-or-tuple of lists-or-tuples-or ndarrays with different lengths or shapes) is deprecated. If you meant to do this, you must specify 'dtype=object' when creating the ndarray\n",
      "  rot = Quaternion(self.ego.iloc[eidx][\"rotation\"])\n"
     ]
    },
    {
     "name": "stdout",
     "output_type": "stream",
     "text": [
      "vx_com -11.31653146428986 vy_com 5.86142265337639\n",
      "Number of new plots 1\n",
      "Number of dynamic tracks before run() 3\n",
      "before predict: x=[[1.16794273 0.         0.0072801  0.         0.01486301 0.        ]\n",
      " [0.         0.90180751 0.         0.00634923 0.         0.01157017]\n",
      " [0.0072801  0.         0.3681056  0.         0.05958728 0.        ]\n",
      " [0.         0.00634923 0.         0.36809838 0.         0.05957468]\n",
      " [0.01486301 0.         0.05958728 0.         2.16239665 0.        ]\n",
      " [0.         0.01157017 0.         0.05957468 0.         2.16229436]]\n",
      "after predict: x=[[1.67085045 0.         0.03477005 0.         0.02426712 0.        ]\n",
      " [0.         1.40456945 0.         0.03360908 0.         0.02097316]\n",
      " [0.03477005 0.         1.38691382 0.         0.21028903 0.        ]\n",
      " [0.         0.03360908 0.         1.38690435 0.         0.2102693 ]\n",
      " [0.02426712 0.         0.21028903 0.         2.16239665 0.        ]\n",
      " [0.         0.02097316 0.         0.2102693  0.         2.16229436]]\n",
      "before predict: x=[[3.29666876 0.         0.73474258 0.         0.21916918 0.        ]\n",
      " [0.         3.291594   0.         0.73472218 0.         0.21916189]\n",
      " [0.73474258 0.         4.81100615 0.         1.1395822  0.        ]\n",
      " [0.         0.73472218 0.         4.81100607 0.         1.13958217]\n",
      " [0.21916918 0.         1.1395822  0.         2.97839331 0.        ]\n",
      " [0.         0.21916189 0.         1.13958217 0.         2.9783933 ]]\n",
      "after predict: x=[[3.92391486 0.         1.09411202 0.         0.30582194 0.        ]\n",
      " [0.         3.91883723 0.         1.09409111 0.         0.30581464]\n",
      " [1.09411202 0.         5.98431166 0.         1.34715239 0.        ]\n",
      " [0.         1.09409111 0.         5.98431157 0.         1.34715236]\n",
      " [0.30582194 0.         1.34715239 0.         2.97839331 0.        ]\n",
      " [0.         0.30581464 0.         1.34715236 0.         2.9783933 ]]\n",
      "before predict: x=[[3.5739361  0.         0.40167173 0.         0.12585611 0.        ]\n",
      " [0.         3.5739361  0.         0.40167173 0.         0.12585611]\n",
      " [0.40167173 0.         3.75171222 0.         0.868986   0.        ]\n",
      " [0.         0.40167173 0.         3.75171222 0.         0.868986  ]\n",
      " [0.12585611 0.         0.868986   0.         3.         0.        ]\n",
      " [0.         0.12585611 0.         0.868986   0.         3.        ]]\n",
      "after predict: x=[[4.1490678  0.         0.67874593 0.         0.19370295 0.        ]\n",
      " [0.         4.1490678  0.         0.67874593 0.         0.19370295]\n",
      " [0.67874593 0.         4.88740589 0.         1.078062   0.        ]\n",
      " [0.         0.67874593 0.         4.88740589 0.         1.078062  ]\n",
      " [0.19370295 0.         1.078062   0.         3.         0.        ]\n",
      " [0.         0.19370295 0.         1.078062   0.         3.        ]]\n",
      "Updating track = 0 z = [219.24698046 699.88928428 -11.31653146   5.86142265] cov=[[3.04878029 0.         0.         0.        ]\n",
      " [0.         2.88621202 0.         0.        ]\n",
      " [0.         0.         0.5        0.        ]\n",
      " [0.         0.         0.         0.5       ]]\n",
      "age = 20 hits = 12\n",
      "age = 7 hits = 2\n",
      "age = 5 hits = 1\n"
     ]
    },
    {
     "name": "stderr",
     "output_type": "stream",
     "text": [
      "/home/kfir/workspace/RadarLocalization/dataset.py:261: VisibleDeprecationWarning: Creating an ndarray from ragged nested sequences (which is a list-or-tuple of lists-or-tuples-or ndarrays with different lengths or shapes) is deprecated. If you meant to do this, you must specify 'dtype=object' when creating the ndarray\n",
      "  rot = Quaternion(self.ego.iloc[eidx][\"rotation\"])\n"
     ]
    },
    {
     "name": "stdout",
     "output_type": "stream",
     "text": [
      "vx_com -11.316551842259893 vy_com 5.861369219570432\n",
      "Number of new plots 1\n",
      "Number of dynamic tracks before run() 3\n",
      "before predict: x=[[1.07906618 0.         0.00595251 0.         0.01317467 0.        ]\n",
      " [0.         0.94451859 0.         0.00599141 0.         0.01159003]\n",
      " [0.00595251 0.         0.36749053 0.         0.05568319 0.        ]\n",
      " [0.         0.00599141 0.         0.36748937 0.         0.0556823 ]\n",
      " [0.01317467 0.         0.05568319 0.         2.13887265 0.        ]\n",
      " [0.         0.01159003 0.         0.0556823  0.         2.13879359]]\n",
      "after predict: x=[[1.58218658 0.         0.03568878 0.         0.02350632 0.        ]\n",
      " [0.         1.44763579 0.         0.0356077  0.         0.02192138]\n",
      " [0.03568878 0.         1.38815383 0.         0.21747822 0.        ]\n",
      " [0.         0.0356077  0.         1.38815208 0.         0.21747134]\n",
      " [0.02350632 0.         0.21747822 0.         2.13887265 0.        ]\n",
      " [0.         0.02192138 0.         0.21747134 0.         2.13879359]]\n",
      "before predict: x=[[3.92391486 0.         1.09411202 0.         0.30582194 0.        ]\n",
      " [0.         3.91883723 0.         1.09409111 0.         0.30581464]\n",
      " [1.09411202 0.         5.98431166 0.         1.34715239 0.        ]\n",
      " [0.         1.09409111 0.         5.98431157 0.         1.34715236]\n",
      " [0.30582194 0.         1.34715239 0.         2.97839331 0.        ]\n",
      " [0.         0.30581464 0.         1.34715236 0.         2.9783933 ]]\n",
      "after predict: x=[[4.62604375 0.         1.58213672 0.         0.41624871 0.        ]\n",
      " [0.         4.62096292 0.         1.58211525 0.         0.41624141]\n",
      " [1.58213672 0.         7.2051652  0.         1.57245295 0.        ]\n",
      " [0.         1.58211525 0.         7.20516511 0.         1.57245292]\n",
      " [0.41624871 0.         1.57245295 0.         2.97839331 0.        ]\n",
      " [0.         0.41624141 0.         1.57245292 0.         2.9783933 ]]\n",
      "before predict: x=[[4.1490678  0.         0.67874593 0.         0.19370295 0.        ]\n",
      " [0.         4.1490678  0.         0.67874593 0.         0.19370295]\n",
      " [0.67874593 0.         4.88740589 0.         1.078062   0.        ]\n",
      " [0.         0.67874593 0.         4.88740589 0.         1.078062  ]\n",
      " [0.19370295 0.         1.078062   0.         3.         0.        ]\n",
      " [0.         0.19370295 0.         1.078062   0.         3.        ]]\n",
      "after predict: x=[[4.78132142 0.         1.07300896 0.         0.2838362  0.        ]\n",
      " [0.         4.78132142 0.         1.07300896 0.         0.2838362 ]\n",
      " [1.07300896 0.         6.06767239 0.         1.304997   0.        ]\n",
      " [0.         1.07300896 0.         6.06767239 0.         1.304997  ]\n",
      " [0.2838362  0.         1.304997   0.         3.         0.        ]\n",
      " [0.         0.2838362  0.         1.304997   0.         3.        ]]\n",
      "Updating track = 0 z = [218.31581693 699.54945345 -11.31655184   5.86136922] cov=[[3.58078538 0.         0.         0.        ]\n",
      " [0.         2.32089698 0.         0.        ]\n",
      " [0.         0.         0.5        0.        ]\n",
      " [0.         0.         0.         0.5       ]]\n",
      "age = 21 hits = 13\n",
      "age = 8 hits = 2\n",
      "age = 6 hits = 1\n"
     ]
    },
    {
     "name": "stderr",
     "output_type": "stream",
     "text": [
      "/home/kfir/workspace/RadarLocalization/dataset.py:261: VisibleDeprecationWarning: Creating an ndarray from ragged nested sequences (which is a list-or-tuple of lists-or-tuples-or ndarrays with different lengths or shapes) is deprecated. If you meant to do this, you must specify 'dtype=object' when creating the ndarray\n",
      "  rot = Quaternion(self.ego.iloc[eidx][\"rotation\"])\n"
     ]
    },
    {
     "name": "stdout",
     "output_type": "stream",
     "text": [
      "vx_com -11.316533146046455 vy_com 5.861379998139718\n",
      "Number of new plots 1\n",
      "Number of dynamic tracks before run() 2\n",
      "before predict: x=[[1.09700288 0.         0.00655541 0.         0.01345365 0.        ]\n",
      " [0.         0.89128946 0.         0.00580815 0.         0.01097675]\n",
      " [0.00655541 0.         0.36757823 0.         0.05755467 0.        ]\n",
      " [0.         0.00580815 0.         0.36757181 0.         0.05754381]\n",
      " [0.01345365 0.         0.05755467 0.         2.11375056 0.        ]\n",
      " [0.         0.01097675 0.         0.05754381 0.         2.11366165]]\n",
      "after predict: x=[[1.59982835 0.         0.03406263 0.         0.02268605 0.        ]\n",
      " [0.         1.39399793 0.         0.03314114 0.         0.02020816]\n",
      " [0.03406263 0.         1.38604303 0.         0.20577297 0.        ]\n",
      " [0.         0.03314114 0.         1.38603465 0.         0.20575588]\n",
      " [0.02268605 0.         0.20577297 0.         2.11375056 0.        ]\n",
      " [0.         0.02020816 0.         0.20575588 0.         2.11366165]]\n",
      "before predict: x=[[4.78132142 0.         1.07300896 0.         0.2838362  0.        ]\n",
      " [0.         4.78132142 0.         1.07300896 0.         0.2838362 ]\n",
      " [1.07300896 0.         6.06767239 0.         1.304997   0.        ]\n",
      " [0.         1.07300896 0.         6.06767239 0.         1.304997  ]\n",
      " [0.2838362  0.         1.304997   0.         3.         0.        ]\n",
      " [0.         0.2838362  0.         1.304997   0.         3.        ]]\n",
      "after predict: x=[[5.46350049 0.         1.52852518 0.         0.38271932 0.        ]\n",
      " [0.         5.46350049 0.         1.52852518 0.         0.38271932]\n",
      " [1.52852518 0.         7.26543864 0.         1.51536    0.        ]\n",
      " [0.         1.52852518 0.         7.26543864 0.         1.51536   ]\n",
      " [0.38271932 0.         1.51536    0.         3.         0.        ]\n",
      " [0.         0.38271932 0.         1.51536    0.         3.        ]]\n",
      "Updating track = 0 z = [218.05521942 700.70110361 -11.31653315   5.86138   ] cov=[[2.87669307 0.         0.         0.        ]\n",
      " [0.         2.02310797 0.         0.        ]\n",
      " [0.         0.         0.5        0.        ]\n",
      " [0.         0.         0.         0.5       ]]\n",
      "age = 22 hits = 14\n",
      "age = 7 hits = 1\n"
     ]
    },
    {
     "name": "stderr",
     "output_type": "stream",
     "text": [
      "/home/kfir/workspace/RadarLocalization/dataset.py:261: VisibleDeprecationWarning: Creating an ndarray from ragged nested sequences (which is a list-or-tuple of lists-or-tuples-or ndarrays with different lengths or shapes) is deprecated. If you meant to do this, you must specify 'dtype=object' when creating the ndarray\n",
      "  rot = Quaternion(self.ego.iloc[eidx][\"rotation\"])\n"
     ]
    },
    {
     "name": "stdout",
     "output_type": "stream",
     "text": [
      "Number of new plots 0\n",
      "Number of dynamic tracks before run() 1\n",
      "before predict: x=[[1.02782436 0.         0.00580375 0.         0.01219195 0.        ]\n",
      " [0.         0.82511656 0.         0.00520262 0.         0.0098254 ]\n",
      " [0.00580375 0.         0.36742913 0.         0.05451323 0.        ]\n",
      " [0.         0.00520262 0.         0.36742417 0.         0.05450455]\n",
      " [0.01219195 0.         0.05451323 0.         2.09121972 0.        ]\n",
      " [0.         0.0098254  0.         0.05450455 0.         2.09113425]]\n",
      "after predict: x=[[1.53082099 0.         0.03489112 0.         0.0220152  0.        ]\n",
      " [0.         1.32801077 0.         0.03411369 0.         0.01964776]\n",
      " [0.03489112 0.         1.38707562 0.         0.20989713 0.        ]\n",
      " [0.         0.03411369 0.         1.38706889 0.         0.20988209]\n",
      " [0.0220152  0.         0.20989713 0.         2.09121972 0.        ]\n",
      " [0.         0.01964776 0.         0.20988209 0.         2.09113425]]\n",
      "age = 23 hits = 14\n"
     ]
    },
    {
     "name": "stderr",
     "output_type": "stream",
     "text": [
      "/home/kfir/workspace/RadarLocalization/dataset.py:261: VisibleDeprecationWarning: Creating an ndarray from ragged nested sequences (which is a list-or-tuple of lists-or-tuples-or ndarrays with different lengths or shapes) is deprecated. If you meant to do this, you must specify 'dtype=object' when creating the ndarray\n",
      "  rot = Quaternion(self.ego.iloc[eidx][\"rotation\"])\n"
     ]
    },
    {
     "name": "stdout",
     "output_type": "stream",
     "text": [
      "vx_com -11.242854691110578 vy_com 5.822472777154085\n",
      "Number of new plots 1\n",
      "Number of dynamic tracks before run() 1\n",
      "before predict: x=[[1.53082099 0.         0.03489112 0.         0.0220152  0.        ]\n",
      " [0.         1.32801077 0.         0.03411369 0.         0.01964776]\n",
      " [0.03489112 0.         1.38707562 0.         0.20989713 0.        ]\n",
      " [0.         0.03411369 0.         1.38706889 0.         0.20988209]\n",
      " [0.0220152  0.         0.20989713 0.         2.09121972 0.        ]\n",
      " [0.         0.01964776 0.         0.20988209 0.         2.09113425]]\n",
      "after predict: x=[[2.11840626 0.         0.37257415 0.         0.11931725 0.        ]\n",
      " [0.         1.91513684 0.         0.37127102 0.         0.11694441]\n",
      " [0.37257415 0.         2.58167972 0.         0.6715778  0.        ]\n",
      " [0.         0.37127102 0.         2.58166219 0.         0.67154389]\n",
      " [0.11931725 0.         0.6715778  0.         2.09121972 0.        ]\n",
      " [0.         0.11694441 0.         0.67154389 0.         2.09113425]]\n",
      "Initiating new track: x=[215.08718665 705.29477715 -11.24285469   5.82247278   0.\n",
      "   0.        ]\n",
      "age = 24 hits = 14\n",
      "age = 1 hits = 1\n"
     ]
    },
    {
     "name": "stderr",
     "output_type": "stream",
     "text": [
      "/home/kfir/workspace/RadarLocalization/dataset.py:261: VisibleDeprecationWarning: Creating an ndarray from ragged nested sequences (which is a list-or-tuple of lists-or-tuples-or ndarrays with different lengths or shapes) is deprecated. If you meant to do this, you must specify 'dtype=object' when creating the ndarray\n",
      "  rot = Quaternion(self.ego.iloc[eidx][\"rotation\"])\n"
     ]
    },
    {
     "name": "stdout",
     "output_type": "stream",
     "text": [
      "vx_com -11.316819533691211 vy_com 5.86079186620372\n",
      "Number of new plots 1\n",
      "Number of dynamic tracks before run() 2\n",
      "before predict: x=[[2.11840626 0.         0.37257415 0.         0.11931725 0.        ]\n",
      " [0.         1.91513684 0.         0.37127102 0.         0.11694441]\n",
      " [0.37257415 0.         2.58167972 0.         0.6715778  0.        ]\n",
      " [0.         0.37127102 0.         2.58166219 0.         0.67154389]\n",
      " [0.11931725 0.         0.6715778  0.         2.09121972 0.        ]\n",
      " [0.         0.11694441 0.         0.67154389 0.         2.09113425]]\n",
      "after predict: x=[[2.68985977 0.         0.58144015 0.         0.17562016 0.        ]\n",
      " [0.         2.48638123 0.         0.57995728 0.         0.17324454]\n",
      " [0.58144015 0.         3.69428554 0.         0.82855312 0.        ]\n",
      " [0.         0.57995728 0.         3.69426244 0.         0.82851279]\n",
      " [0.17562016 0.         0.82855312 0.         2.09121972 0.        ]\n",
      " [0.         0.17324454 0.         0.82851279 0.         2.09113425]]\n",
      "before predict: x=[[2.  0.  0.  0.  0.  0. ]\n",
      " [0.  2.  0.  0.  0.  0. ]\n",
      " [0.  0.  0.5 0.  0.  0. ]\n",
      " [0.  0.  0.  0.5 0.  0. ]\n",
      " [0.  0.  0.  0.  3.  0. ]\n",
      " [0.  0.  0.  0.  0.  3. ]]\n",
      "after predict: x=[[2.50284111 0.         0.03816643 0.         0.00845191 0.        ]\n",
      " [0.         2.50284111 0.         0.03816643 0.         0.00845191]\n",
      " [0.03816643 0.         1.51690381 0.         0.225192   0.        ]\n",
      " [0.         0.03816643 0.         1.51690381 0.         0.225192  ]\n",
      " [0.00845191 0.         0.225192   0.         3.         0.        ]\n",
      " [0.         0.00845191 0.         0.225192   0.         3.        ]]\n",
      "Updating track = 0 z = [212.89391764 701.40583942 -11.31681953   5.86079187] cov=[[3.53905111 0.         0.         0.        ]\n",
      " [0.         2.01630869 0.         0.        ]\n",
      " [0.         0.         0.5        0.        ]\n",
      " [0.         0.         0.         0.5       ]]\n",
      "age = 25 hits = 15\n",
      "age = 2 hits = 1\n"
     ]
    },
    {
     "name": "stderr",
     "output_type": "stream",
     "text": [
      "/home/kfir/workspace/RadarLocalization/dataset.py:261: VisibleDeprecationWarning: Creating an ndarray from ragged nested sequences (which is a list-or-tuple of lists-or-tuples-or ndarrays with different lengths or shapes) is deprecated. If you meant to do this, you must specify 'dtype=object' when creating the ndarray\n",
      "  rot = Quaternion(self.ego.iloc[eidx][\"rotation\"])\n"
     ]
    },
    {
     "name": "stdout",
     "output_type": "stream",
     "text": [
      "vx_com -11.26121563534298 vy_com 5.832266897031936\n",
      "Number of new plots 1\n",
      "Number of dynamic tracks before run() 2\n",
      "before predict: x=[[1.50192426 0.         0.03989774 0.         0.03497461 0.        ]\n",
      " [0.         1.09703146 0.         0.03152099 0.         0.02675471]\n",
      " [0.03989774 0.         0.43961368 0.         0.09808667 0.        ]\n",
      " [0.         0.03152099 0.         0.43931394 0.         0.09785001]\n",
      " [0.03497461 0.         0.09808667 0.         1.92694411 0.        ]\n",
      " [0.         0.02675471 0.         0.09785001 0.         1.92669547]]\n",
      "after predict: x=[[2.0098796  0.         0.07416676 0.         0.04656006 0.        ]\n",
      " [0.         1.60377235 0.         0.06519192 0.         0.03832299]\n",
      " [0.07416676 0.         1.46278458 0.         0.23295927 0.        ]\n",
      " [0.         0.06519192 0.         1.4624505  0.         0.23270521]\n",
      " [0.04656006 0.         0.23295927 0.         1.92694411 0.        ]\n",
      " [0.         0.03832299 0.         0.23270521 0.         1.92669547]]\n",
      "before predict: x=[[2.50284111 0.         0.03816643 0.         0.00845191 0.        ]\n",
      " [0.         2.50284111 0.         0.03816643 0.         0.00845191]\n",
      " [0.03816643 0.         1.51690381 0.         0.225192   0.        ]\n",
      " [0.         0.03816643 0.         1.51690381 0.         0.225192  ]\n",
      " [0.00845191 0.         0.225192   0.         3.         0.        ]\n",
      " [0.         0.00845191 0.         0.225192   0.         3.        ]]\n",
      "after predict: x=[[3.01575185 0.         0.14709983 0.         0.0315623  0.        ]\n",
      " [0.         3.01575185 0.         0.14709983 0.         0.0315623 ]\n",
      " [0.14709983 0.         2.5631246  0.         0.435171   0.        ]\n",
      " [0.         0.14709983 0.         2.5631246  0.         0.435171  ]\n",
      " [0.0315623  0.         0.435171   0.         3.         0.        ]\n",
      " [0.         0.0315623  0.         0.435171   0.         3.        ]]\n",
      "Updating track = 1 z = [212.58401116 704.57780193 -11.26121564   5.8322669 ] cov=[[ 4.26451698  0.          0.          0.        ]\n",
      " [ 0.         33.58445989  0.          0.        ]\n",
      " [ 0.          0.          0.50923208  0.        ]\n",
      " [ 0.          0.          0.          0.5024763 ]]\n",
      "age = 26 hits = 15\n",
      "age = 3 hits = 2\n"
     ]
    },
    {
     "name": "stderr",
     "output_type": "stream",
     "text": [
      "/home/kfir/workspace/RadarLocalization/dataset.py:261: VisibleDeprecationWarning: Creating an ndarray from ragged nested sequences (which is a list-or-tuple of lists-or-tuples-or ndarrays with different lengths or shapes) is deprecated. If you meant to do this, you must specify 'dtype=object' when creating the ndarray\n",
      "  rot = Quaternion(self.ego.iloc[eidx][\"rotation\"])\n"
     ]
    },
    {
     "name": "stdout",
     "output_type": "stream",
     "text": [
      "vx_com -11.316697433148901 vy_com 5.860989942754586\n",
      "Number of new plots 1\n",
      "Number of dynamic tracks before run() 2\n",
      "before predict: x=[[2.0098796  0.         0.07416676 0.         0.04656006 0.        ]\n",
      " [0.         1.60377235 0.         0.06519192 0.         0.03832299]\n",
      " [0.07416676 0.         1.46278458 0.         0.23295927 0.        ]\n",
      " [0.         0.06519192 0.         1.4624505  0.         0.23270521]\n",
      " [0.04656006 0.         0.23295927 0.         1.92694411 0.        ]\n",
      " [0.         0.03832299 0.         0.23270521 0.         1.92669547]]\n",
      "after predict: x=[[2.52961009 0.         0.18974756 0.         0.06945342 0.        ]\n",
      " [0.         2.1221082  0.         0.18012764 0.         0.06119659]\n",
      " [0.18974756 0.         2.50857131 0.         0.37748972 0.        ]\n",
      " [0.         0.18012764 0.         2.50819771 0.         0.377217  ]\n",
      " [0.06945342 0.         0.37748972 0.         1.92694411 0.        ]\n",
      " [0.         0.06119659 0.         0.377217   0.         1.92669547]]\n",
      "before predict: x=[[1.76409897 0.         0.01429549 0.         0.00628955 0.        ]\n",
      " [0.         2.76131828 0.         0.02212843 0.         0.00980285]\n",
      " [0.01429549 0.         0.42474696 0.         0.07209207 0.        ]\n",
      " [0.         0.02212843 0.         0.42010057 0.         0.07132094]\n",
      " [0.00628955 0.         0.07209207 0.         2.93834622 0.        ]\n",
      " [0.         0.00980285 0.         0.07132094 0.         2.93822309]]\n",
      "after predict: x=[[2.26872201 0.         0.04785367 0.         0.01996202 0.        ]\n",
      " [0.         3.26710964 0.         0.0555951  0.         0.02341713]\n",
      " [0.04785367 0.         1.4520919  0.         0.29248273 0.        ]\n",
      " [0.         0.0555951  0.         1.44732913 0.         0.29170236]\n",
      " [0.01996202 0.         0.29248273 0.         2.93834622 0.        ]\n",
      " [0.         0.02341713 0.         0.29170236 0.         2.93822309]]\n",
      "Updating track = 0 z = [211.71921366 701.53431089 -11.31669743   5.86098994] cov=[[2.72615712 0.         0.         0.        ]\n",
      " [0.         2.01384441 0.         0.        ]\n",
      " [0.         0.         0.5        0.        ]\n",
      " [0.         0.         0.         0.5       ]]\n",
      "age = 27 hits = 16\n",
      "age = 4 hits = 2\n"
     ]
    },
    {
     "name": "stderr",
     "output_type": "stream",
     "text": [
      "/home/kfir/workspace/RadarLocalization/dataset.py:261: VisibleDeprecationWarning: Creating an ndarray from ragged nested sequences (which is a list-or-tuple of lists-or-tuples-or ndarrays with different lengths or shapes) is deprecated. If you meant to do this, you must specify 'dtype=object' when creating the ndarray\n",
      "  rot = Quaternion(self.ego.iloc[eidx][\"rotation\"])\n"
     ]
    },
    {
     "name": "stdout",
     "output_type": "stream",
     "text": [
      "vx_com -11.31671170138698 vy_com 5.86099560488172\n",
      "Number of new plots 1\n",
      "Number of dynamic tracks before run() 2\n",
      "before predict: x=[[1.30887717 0.         0.01639422 0.         0.02373029 0.        ]\n",
      " [0.         1.03071584 0.         0.014616   0.         0.01884845]\n",
      " [0.01639422 0.         0.41671444 0.         0.06246121 0.        ]\n",
      " [0.         0.014616   0.         0.41667647 0.         0.06241796]\n",
      " [0.02373029 0.         0.06246121 0.         1.87918261 0.        ]\n",
      " [0.         0.01884845 0.         0.06241796 0.         1.87903247]]\n",
      "after predict: x=[[1.81336622 0.         0.04802121 0.         0.03271258 0.        ]\n",
      " [0.         1.53493168 0.         0.0458981  0.         0.02782735]\n",
      " [0.04802121 0.         1.43467904 0.         0.19406225 0.        ]\n",
      " [0.         0.0458981  0.         1.43463427 0.         0.19400848]\n",
      " [0.03271258 0.         0.19406225 0.         1.87918261 0.        ]\n",
      " [0.         0.02782735 0.         0.19400848 0.         1.87903247]]\n",
      "before predict: x=[[2.26872201 0.         0.04785367 0.         0.01996202 0.        ]\n",
      " [0.         3.26710964 0.         0.0555951  0.         0.02341713]\n",
      " [0.04785367 0.         1.4520919  0.         0.29248273 0.        ]\n",
      " [0.         0.0555951  0.         1.44732913 0.         0.29170236]\n",
      " [0.01996202 0.         0.29248273 0.         2.93834622 0.        ]\n",
      " [0.         0.02341713 0.         0.29170236 0.         2.93822309]]\n",
      "after predict: x=[[2.78276207 0.         0.15359933 0.         0.0476502  0.        ]\n",
      " [0.         3.78222729 0.         0.16124341 0.         0.05105037]\n",
      " [0.15359933 0.         2.50746826 0.         0.49825805 0.        ]\n",
      " [0.         0.16124341 0.         2.50259559 0.         0.49746906]\n",
      " [0.0476502  0.         0.49825805 0.         2.93834622 0.        ]\n",
      " [0.         0.05105037 0.         0.49746906 0.         2.93822309]]\n",
      "Updating track = 0 z = [210.7915722 702.1328573 -11.3167117   5.8609956] cov=[[2.51428921 0.         0.         0.        ]\n",
      " [0.         2.00571245 0.         0.        ]\n",
      " [0.         0.         0.5        0.        ]\n",
      " [0.         0.         0.         0.5       ]]\n",
      "age = 28 hits = 17\n",
      "age = 5 hits = 2\n"
     ]
    },
    {
     "name": "stderr",
     "output_type": "stream",
     "text": [
      "/home/kfir/workspace/RadarLocalization/dataset.py:261: VisibleDeprecationWarning: Creating an ndarray from ragged nested sequences (which is a list-or-tuple of lists-or-tuples-or ndarrays with different lengths or shapes) is deprecated. If you meant to do this, you must specify 'dtype=object' when creating the ndarray\n",
      "  rot = Quaternion(self.ego.iloc[eidx][\"rotation\"])\n"
     ]
    },
    {
     "name": "stdout",
     "output_type": "stream",
     "text": [
      "vx_com -11.316575765906975 vy_com 5.861225989093884\n",
      "Number of new plots 1\n",
      "Number of dynamic tracks before run() 2\n",
      "before predict: x=[[1.0531304  0.         0.00721234 0.         0.01621137 0.        ]\n",
      " [0.         0.86916218 0.         0.0067218  0.         0.01316038]\n",
      " [0.00721234 0.         0.370744   0.         0.05007358 0.        ]\n",
      " [0.         0.0067218  0.         0.37073685 0.         0.05006303]\n",
      " [0.01621137 0.         0.05007358 0.         1.85953691 0.        ]\n",
      " [0.         0.01316038 0.         0.05006303 0.         1.85942458]]\n",
      "after predict: x=[[1.56372305 0.         0.06775935 0.         0.04303736 0.        ]\n",
      " [0.         1.37954814 0.         0.06682472 0.         0.03998367]\n",
      " [0.06775935 0.         1.424396   0.         0.31980499 0.        ]\n",
      " [0.         0.06682472 0.         1.42438343 0.         0.31977815]\n",
      " [0.04303736 0.         0.31980499 0.         1.85953691 0.        ]\n",
      " [0.         0.03998367 0.         0.31977815 0.         1.85942458]]\n",
      "before predict: x=[[2.78276207 0.         0.15359933 0.         0.0476502  0.        ]\n",
      " [0.         3.78222729 0.         0.16124341 0.         0.05105037]\n",
      " [0.15359933 0.         2.50746826 0.         0.49825805 0.        ]\n",
      " [0.         0.16124341 0.         2.50259559 0.         0.49746906]\n",
      " [0.0476502  0.         0.49825805 0.         2.93834622 0.        ]\n",
      " [0.         0.05105037 0.         0.49746906 0.         2.93822309]]\n",
      "after predict: x=[[3.38292867 0.         0.5444361  0.         0.15083598 0.        ]\n",
      " [0.         4.38457808 0.         0.55184151 0.         0.1541204 ]\n",
      " [0.5444361  0.         3.71383982 0.         0.92447399 0.        ]\n",
      " [0.         0.55184151 0.         3.70873566 0.         0.92366714]\n",
      " [0.15083598 0.         0.92447399 0.         2.93834622 0.        ]\n",
      " [0.         0.1541204  0.         0.92366714 0.         2.93822309]]\n",
      "Updating track = 0 z = [208.34194617 702.62857494 -11.31657577   5.86122599] cov=[[3.67673526 0.         0.         0.        ]\n",
      " [0.         2.01304512 0.         0.        ]\n",
      " [0.         0.         0.5        0.        ]\n",
      " [0.         0.         0.         0.5       ]]\n",
      "age = 29 hits = 18\n",
      "age = 6 hits = 2\n"
     ]
    },
    {
     "name": "stderr",
     "output_type": "stream",
     "text": [
      "/home/kfir/workspace/RadarLocalization/dataset.py:261: VisibleDeprecationWarning: Creating an ndarray from ragged nested sequences (which is a list-or-tuple of lists-or-tuples-or ndarrays with different lengths or shapes) is deprecated. If you meant to do this, you must specify 'dtype=object' when creating the ndarray\n",
      "  rot = Quaternion(self.ego.iloc[eidx][\"rotation\"])\n"
     ]
    },
    {
     "name": "stdout",
     "output_type": "stream",
     "text": [
      "Number of new plots 0\n",
      "Number of dynamic tracks before run() 2\n",
      "before predict: x=[[1.09594199 0.         0.01235764 0.         0.02230494 0.        ]\n",
      " [0.         0.81775762 0.         0.01030942 0.         0.01714768]\n",
      " [0.01235764 0.         0.37002994 0.         0.0829855  0.        ]\n",
      " [0.         0.01030942 0.         0.36999934 0.         0.08293797]\n",
      " [0.02230494 0.         0.0829855  0.         1.80619747 0.        ]\n",
      " [0.         0.01714768 0.         0.08293797 0.         1.80604048]]\n",
      "after predict: x=[[1.6000543  0.         0.04287631 0.         0.03361512 0.        ]\n",
      " [0.         1.32153335 0.         0.04043841 0.         0.02845385]\n",
      " [0.04287631 0.         1.39265029 0.         0.21850269 0.        ]\n",
      " [0.         0.04043841 0.         1.39261168 0.         0.21844338]\n",
      " [0.03361512 0.         0.21850269 0.         1.80619747 0.        ]\n",
      " [0.         0.02845385 0.         0.21844338 0.         1.80604048]]\n",
      "before predict: x=[[3.38292867 0.         0.5444361  0.         0.15083598 0.        ]\n",
      " [0.         4.38457808 0.         0.55184151 0.         0.1541204 ]\n",
      " [0.5444361  0.         3.71383982 0.         0.92447399 0.        ]\n",
      " [0.         0.55184151 0.         3.70873566 0.         0.92366714]\n",
      " [0.15083598 0.         0.92447399 0.         2.93834622 0.        ]\n",
      " [0.         0.1541204  0.         0.92366714 0.         2.93822309]]\n",
      "after predict: x=[[3.98679502 0.         0.84282567 0.         0.22846883 0.        ]\n",
      " [0.         4.98954509 0.         0.8500877  0.         0.23169237]\n",
      " [0.84282567 0.         4.86910552 0.         1.14493517 0.        ]\n",
      " [0.         0.8500877  0.         4.86387959 0.         1.14411908]\n",
      " [0.22846883 0.         1.14493517 0.         2.93834622 0.        ]\n",
      " [0.         0.23169237 0.         1.14411908 0.         2.93822309]]\n",
      "age = 30 hits = 18\n",
      "age = 7 hits = 2\n"
     ]
    },
    {
     "name": "stderr",
     "output_type": "stream",
     "text": [
      "/home/kfir/workspace/RadarLocalization/dataset.py:261: VisibleDeprecationWarning: Creating an ndarray from ragged nested sequences (which is a list-or-tuple of lists-or-tuples-or ndarrays with different lengths or shapes) is deprecated. If you meant to do this, you must specify 'dtype=object' when creating the ndarray\n",
      "  rot = Quaternion(self.ego.iloc[eidx][\"rotation\"])\n"
     ]
    },
    {
     "name": "stdout",
     "output_type": "stream",
     "text": [
      "vx_com -11.316762386258898 vy_com 5.860836938184842\n",
      "Number of new plots 1\n",
      "Number of dynamic tracks before run() 2\n",
      "before predict: x=[[1.6000543  0.         0.04287631 0.         0.03361512 0.        ]\n",
      " [0.         1.32153335 0.         0.04043841 0.         0.02845385]\n",
      " [0.04287631 0.         1.39265029 0.         0.21850269 0.        ]\n",
      " [0.         0.04043841 0.         1.39261168 0.         0.21844338]\n",
      " [0.03361512 0.         0.21850269 0.         1.80619747 0.        ]\n",
      " [0.         0.02845385 0.         0.21844338 0.         1.80604048]]\n",
      "after predict: x=[[2.11461982 0.         0.15209467 0.         0.05508841 0.        ]\n",
      " [0.         1.83570383 0.         0.14926617 0.         0.04992225]\n",
      " [0.15209467 0.         2.43559689 0.         0.3539964  0.        ]\n",
      " [0.         0.14926617 0.         2.43554849 0.         0.35392532]\n",
      " [0.05508841 0.         0.3539964  0.         1.80619747 0.        ]\n",
      " [0.         0.04992225 0.         0.35392532 0.         1.80604048]]\n",
      "before predict: x=[[3.98679502 0.         0.84282567 0.         0.22846883 0.        ]\n",
      " [0.         4.98954509 0.         0.8500877  0.         0.23169237]\n",
      " [0.84282567 0.         4.86910552 0.         1.14493517 0.        ]\n",
      " [0.         0.8500877  0.         4.86387959 0.         1.14411908]\n",
      " [0.22846883 0.         1.14493517 0.         2.93834622 0.        ]\n",
      " [0.         0.23169237 0.         1.14411908 0.         2.93822309]]\n",
      "after predict: x=[[4.64243852 0.         1.23551003 0.         0.32262491 0.        ]\n",
      " [0.         5.64626652 0.         1.24261493 0.         0.32578688]\n",
      " [1.23551003 0.         6.05741768 0.         1.36535815 0.        ]\n",
      " [0.         1.24261493 0.         6.05206863 0.         1.36453282]\n",
      " [0.32262491 0.         1.36535815 0.         2.93834622 0.        ]\n",
      " [0.         0.32578688 0.         1.36453282 0.         2.93822309]]\n",
      "Updating track = 0 z = [206.4682168  702.92907849 -11.31676239   5.86083694] cov=[[2.99727725 0.         0.         0.        ]\n",
      " [0.         4.3653617  0.         0.        ]\n",
      " [0.         0.         0.5        0.        ]\n",
      " [0.         0.         0.         0.5       ]]\n",
      "age = 31 hits = 19\n",
      "age = 8 hits = 2\n"
     ]
    },
    {
     "name": "stderr",
     "output_type": "stream",
     "text": [
      "/home/kfir/workspace/RadarLocalization/dataset.py:261: VisibleDeprecationWarning: Creating an ndarray from ragged nested sequences (which is a list-or-tuple of lists-or-tuples-or ndarrays with different lengths or shapes) is deprecated. If you meant to do this, you must specify 'dtype=object' when creating the ndarray\n",
      "  rot = Quaternion(self.ego.iloc[eidx][\"rotation\"])\n"
     ]
    },
    {
     "name": "stdout",
     "output_type": "stream",
     "text": [
      "vx_com -11.242802637514087 vy_com 5.822497195464514\n",
      "Number of new plots 1\n",
      "Number of dynamic tracks before run() 2\n",
      "before predict: x=[[1.23715949 0.         0.01521256 0.         0.02157967 0.        ]\n",
      " [0.         1.28851377 0.         0.01791958 0.         0.02250243]\n",
      " [0.01521256 0.         0.41470696 0.         0.06010726 0.        ]\n",
      " [0.         0.01791958 0.         0.41473268 0.         0.0601516 ]\n",
      " [0.02157967 0.         0.06010726 0.         1.76324534 0.        ]\n",
      " [0.         0.02250243 0.         0.0601516  0.         1.7632048 ]]\n",
      "after predict: x=[[1.74146002 0.         0.04650559 0.         0.03011062 0.        ]\n",
      " [0.         1.79319806 0.         0.04927934 0.         0.03103638]\n",
      " [0.04650559 0.         1.43176886 0.         0.18356793 0.        ]\n",
      " [0.         0.04927934 0.         1.43180058 0.         0.18360944]\n",
      " [0.03011062 0.         0.18356793 0.         1.76324534 0.        ]\n",
      " [0.         0.03103638 0.         0.18360944 0.         1.7632048 ]]\n",
      "before predict: x=[[4.64243852 0.         1.23551003 0.         0.32262491 0.        ]\n",
      " [0.         5.64626652 0.         1.24261493 0.         0.32578688]\n",
      " [1.23551003 0.         6.05741768 0.         1.36535815 0.        ]\n",
      " [0.         1.24261493 0.         6.05206863 0.         1.36453282]\n",
      " [0.32262491 0.         1.36535815 0.         2.93834622 0.        ]\n",
      " [0.         0.32578688 0.         1.36453282 0.         2.93822309]]\n",
      "after predict: x=[[5.34722241 0.         1.6927794  0.         0.42542878 0.        ]\n",
      " [0.         6.35203436 0.         1.69972507 0.         0.42853266]\n",
      " [1.6927794  0.         7.26302542 0.         1.57109821 0.        ]\n",
      " [0.         1.69972507 0.         7.25756018 0.         1.57026426]\n",
      " [0.42542878 0.         1.57109821 0.         2.93834622 0.        ]\n",
      " [0.         0.42853266 0.         1.57026426 0.         2.93822309]]\n",
      "Updating track = 1 z = [206.83528735 707.21017761 -11.24280264   5.8224972 ] cov=[[ 6.13015188  0.          0.          0.        ]\n",
      " [ 0.         34.66238658  0.          0.        ]\n",
      " [ 0.          0.          0.51094188  0.        ]\n",
      " [ 0.          0.          0.          0.50293468]]\n",
      "age = 32 hits = 19\n",
      "age = 9 hits = 3\n"
     ]
    },
    {
     "name": "stderr",
     "output_type": "stream",
     "text": [
      "/home/kfir/workspace/RadarLocalization/dataset.py:261: VisibleDeprecationWarning: Creating an ndarray from ragged nested sequences (which is a list-or-tuple of lists-or-tuples-or ndarrays with different lengths or shapes) is deprecated. If you meant to do this, you must specify 'dtype=object' when creating the ndarray\n",
      "  rot = Quaternion(self.ego.iloc[eidx][\"rotation\"])\n"
     ]
    },
    {
     "name": "stdout",
     "output_type": "stream",
     "text": [
      "Number of new plots 0\n",
      "Number of dynamic tracks before run() 2\n",
      "before predict: x=[[1.74146002 0.         0.04650559 0.         0.03011062 0.        ]\n",
      " [0.         1.79319806 0.         0.04927934 0.         0.03103638]\n",
      " [0.04650559 0.         1.43176886 0.         0.18356793 0.        ]\n",
      " [0.         0.04927934 0.         1.43180058 0.         0.18360944]\n",
      " [0.03011062 0.         0.18356793 0.         1.76324534 0.        ]\n",
      " [0.         0.03103638 0.         0.18360944 0.         1.7632048 ]]\n",
      "after predict: x=[[2.25676677 0.         0.15814628 0.         0.04885377 0.        ]\n",
      " [0.         2.30892656 0.         0.16099223 0.         0.04978253]\n",
      " [0.15814628 0.         2.46925515 0.         0.31590302 0.        ]\n",
      " [0.         0.16099223 0.         2.46929288 0.         0.31594148]\n",
      " [0.04885377 0.         0.31590302 0.         1.76324534 0.        ]\n",
      " [0.         0.04978253 0.         0.31594148 0.         1.7632048 ]]\n",
      "before predict: x=[[2.74735115 0.         0.06139519 0.         0.04597987 0.        ]\n",
      " [0.         5.09994299 0.         0.09394696 0.         0.07216035]\n",
      " [0.06139519 0.         0.47624609 0.         0.1024255  0.        ]\n",
      " [0.         0.09394696 0.         0.47004242 0.         0.10153486]\n",
      " [0.04597987 0.         0.1024255  0.         2.62020646 0.        ]\n",
      " [0.         0.07216035 0.         0.10153486 0.         2.62031852]]\n",
      "after predict: x=[[3.25957249 0.         0.10200856 0.         0.06104666 0.        ]\n",
      " [0.         5.61716263 0.         0.13605212 0.         0.08716061]\n",
      " [0.10200856 0.         1.50637967 0.         0.29907724 0.        ]\n",
      " [0.         0.13605212 0.         1.50004295 0.         0.298195  ]\n",
      " [0.06104666 0.         0.29907724 0.         2.62020646 0.        ]\n",
      " [0.         0.08716061 0.         0.298195   0.         2.62031852]]\n",
      "age = 33 hits = 19\n",
      "age = 10 hits = 3\n"
     ]
    },
    {
     "name": "stderr",
     "output_type": "stream",
     "text": [
      "/home/kfir/workspace/RadarLocalization/dataset.py:261: VisibleDeprecationWarning: Creating an ndarray from ragged nested sequences (which is a list-or-tuple of lists-or-tuples-or ndarrays with different lengths or shapes) is deprecated. If you meant to do this, you must specify 'dtype=object' when creating the ndarray\n",
      "  rot = Quaternion(self.ego.iloc[eidx][\"rotation\"])\n"
     ]
    },
    {
     "name": "stdout",
     "output_type": "stream",
     "text": [
      "vx_com -11.538762600486212 vy_com 5.975518671779936\n",
      "Number of new plots 1\n",
      "Number of dynamic tracks before run() 2\n",
      "before predict: x=[[2.25676677 0.         0.15814628 0.         0.04885377 0.        ]\n",
      " [0.         2.30892656 0.         0.16099223 0.         0.04978253]\n",
      " [0.15814628 0.         2.46925515 0.         0.31590302 0.        ]\n",
      " [0.         0.16099223 0.         2.46929288 0.         0.31594148]\n",
      " [0.04885377 0.         0.31590302 0.         1.76324534 0.        ]\n",
      " [0.         0.04978253 0.         0.31594148 0.         1.7632048 ]]\n",
      "after predict: x=[[2.79136627 0.         0.33704338 0.         0.07528781 0.        ]\n",
      " [0.         2.84392926 0.         0.33995727 0.         0.07621916]\n",
      " [0.33704338 0.         3.52212323 0.         0.43933372 0.        ]\n",
      " [0.         0.33995727 0.         3.52216614 0.         0.43936935]\n",
      " [0.07528781 0.         0.43933372 0.         1.76324534 0.        ]\n",
      " [0.         0.07621916 0.         0.43936935 0.         1.7632048 ]]\n",
      "before predict: x=[[3.25957249 0.         0.10200856 0.         0.06104666 0.        ]\n",
      " [0.         5.61716263 0.         0.13605212 0.         0.08716061]\n",
      " [0.10200856 0.         1.50637967 0.         0.29907724 0.        ]\n",
      " [0.         0.13605212 0.         1.50004295 0.         0.298195  ]\n",
      " [0.06104666 0.         0.29907724 0.         2.62020646 0.        ]\n",
      " [0.         0.08716061 0.         0.298195   0.         2.62031852]]\n",
      "after predict: x=[[3.78165325 0.         0.21437928 0.         0.08840253 0.        ]\n",
      " [0.         6.14410624 0.         0.24980083 0.         0.114455  ]\n",
      " [0.21437928 0.         2.56109143 0.         0.48249693 0.        ]\n",
      " [0.         0.24980083 0.         2.55463173 0.         0.48162254]\n",
      " [0.08840253 0.         0.48249693 0.         2.62020646 0.        ]\n",
      " [0.         0.114455   0.         0.48162254 0.         2.62031852]]\n",
      "Updating track = 0 z = [203.84446749 703.73659803 -11.5387626    5.97551867] cov=[[3.3251388  0.         0.         0.        ]\n",
      " [0.         2.36333858 0.         0.        ]\n",
      " [0.         0.         0.5        0.        ]\n",
      " [0.         0.         0.         0.5       ]]\n",
      "age = 34 hits = 20\n",
      "age = 11 hits = 3\n"
     ]
    },
    {
     "name": "stderr",
     "output_type": "stream",
     "text": [
      "/home/kfir/workspace/RadarLocalization/dataset.py:261: VisibleDeprecationWarning: Creating an ndarray from ragged nested sequences (which is a list-or-tuple of lists-or-tuples-or ndarrays with different lengths or shapes) is deprecated. If you meant to do this, you must specify 'dtype=object' when creating the ndarray\n",
      "  rot = Quaternion(self.ego.iloc[eidx][\"rotation\"])\n"
     ]
    },
    {
     "name": "stdout",
     "output_type": "stream",
     "text": [
      "vx_com -11.427731916315118 vy_com 5.918232741422506\n",
      "Number of new plots 1\n",
      "Number of dynamic tracks before run() 2\n",
      "before predict: x=[[1.50909531 0.         0.02288321 0.         0.02101214 0.        ]\n",
      " [0.         1.28477679 0.         0.0192865  0.         0.01783651]\n",
      " [0.02288321 0.         0.43755543 0.         0.05434989 0.        ]\n",
      " [0.         0.0192865  0.         0.43749956 0.         0.05429955]\n",
      " [0.02101214 0.         0.05434989 0.         1.71501411 0.        ]\n",
      " [0.         0.01783651 0.         0.05429955 0.         1.71491444]]\n",
      "after predict: x=[[2.02574305 0.         0.09374669 0.         0.0469462  0.        ]\n",
      " [0.         1.80031272 0.         0.08967941 0.         0.04376222]\n",
      " [0.09374669 0.         1.48942357 0.         0.30316413 0.        ]\n",
      " [0.         0.08967941 0.         1.48935099 0.         0.30309934]\n",
      " [0.0469462  0.         0.30316413 0.         1.71501411 0.        ]\n",
      " [0.         0.04376222 0.         0.30309934 0.         1.71491444]]\n",
      "before predict: x=[[3.78165325 0.         0.21437928 0.         0.08840253 0.        ]\n",
      " [0.         6.14410624 0.         0.24980083 0.         0.114455  ]\n",
      " [0.21437928 0.         2.56109143 0.         0.48249693 0.        ]\n",
      " [0.         0.24980083 0.         2.55463173 0.         0.48162254]\n",
      " [0.08840253 0.         0.48249693 0.         2.62020646 0.        ]\n",
      " [0.         0.114455   0.         0.48162254 0.         2.62031852]]\n",
      "after predict: x=[[4.40138823 0.         0.61800204 0.         0.18597851 0.        ]\n",
      " [0.         6.77452887 0.         0.65623867 0.         0.2119053 ]\n",
      " [0.61800204 0.         3.75624339 0.         0.86263648 0.        ]\n",
      " [0.         0.65623867 0.         3.74953234 0.         0.86177835]\n",
      " [0.18597851 0.         0.86263648 0.         2.62020646 0.        ]\n",
      " [0.         0.2119053  0.         0.86177835 0.         2.62031852]]\n",
      "Updating track = 0 z = [202.34399045 704.74974917 -11.42773192   5.91823274] cov=[[3.11982563 0.         0.         0.        ]\n",
      " [0.         2.60792754 0.         0.        ]\n",
      " [0.         0.         0.51230965 0.        ]\n",
      " [0.         0.         0.         0.50330149]]\n",
      "age = 35 hits = 21\n",
      "age = 12 hits = 3\n"
     ]
    },
    {
     "name": "stderr",
     "output_type": "stream",
     "text": [
      "/home/kfir/workspace/RadarLocalization/dataset.py:261: VisibleDeprecationWarning: Creating an ndarray from ragged nested sequences (which is a list-or-tuple of lists-or-tuples-or ndarrays with different lengths or shapes) is deprecated. If you meant to do this, you must specify 'dtype=object' when creating the ndarray\n",
      "  rot = Quaternion(self.ego.iloc[eidx][\"rotation\"])\n"
     ]
    },
    {
     "name": "stdout",
     "output_type": "stream",
     "text": [
      "Number of new plots 0\n",
      "Number of dynamic tracks before run() 2\n",
      "before predict: x=[[1.22661916 0.         0.01455962 0.         0.01987261 0.        ]\n",
      " [0.         1.06365627 0.         0.01341274 0.         0.01783613]\n",
      " [0.01455962 0.         0.38108072 0.         0.07743689 0.        ]\n",
      " [0.         0.01341274 0.         0.37606178 0.         0.07640151]\n",
      " [0.01987261 0.         0.07743689 0.         1.66889105 0.        ]\n",
      " [0.         0.01783613 0.         0.07640151 0.         1.66860446]]\n",
      "after predict: x=[[1.73110077 0.         0.04561966 0.         0.03036623 0.        ]\n",
      " [0.         1.56792586 0.         0.04393511 0.         0.02825134]\n",
      " [0.04561966 0.         1.40206796 0.         0.20253863 0.        ]\n",
      " [0.         0.04393511 0.         1.39689219 0.         0.20148177]\n",
      " [0.03036623 0.         0.20253863 0.         1.66889105 0.        ]\n",
      " [0.         0.02825134 0.         0.20148177 0.         1.66860446]]\n",
      "before predict: x=[[4.40138823 0.         0.61800204 0.         0.18597851 0.        ]\n",
      " [0.         6.77452887 0.         0.65623867 0.         0.2119053 ]\n",
      " [0.61800204 0.         3.75624339 0.         0.86263648 0.        ]\n",
      " [0.         0.65623867 0.         3.74953234 0.         0.86177835]\n",
      " [0.18597851 0.         0.86263648 0.         2.62020646 0.        ]\n",
      " [0.         0.2119053  0.         0.86177835 0.         2.62031852]]\n",
      "after predict: x=[[5.01657631 0.         0.9213377  0.         0.25800427 0.        ]\n",
      " [0.         7.39555708 0.         0.96100755 0.         0.28386705]\n",
      " [0.9213377  0.         4.90029491 0.         1.05904978 0.        ]\n",
      " [0.         0.96100755 0.         4.89345584 0.         1.05820005]\n",
      " [0.25800427 0.         1.05904978 0.         2.62020646 0.        ]\n",
      " [0.         0.28386705 0.         1.05820005 0.         2.62031852]]\n",
      "age = 36 hits = 21\n",
      "age = 13 hits = 3\n"
     ]
    },
    {
     "name": "stderr",
     "output_type": "stream",
     "text": [
      "/home/kfir/workspace/RadarLocalization/dataset.py:261: VisibleDeprecationWarning: Creating an ndarray from ragged nested sequences (which is a list-or-tuple of lists-or-tuples-or ndarrays with different lengths or shapes) is deprecated. If you meant to do this, you must specify 'dtype=object' when creating the ndarray\n",
      "  rot = Quaternion(self.ego.iloc[eidx][\"rotation\"])\n"
     ]
    },
    {
     "name": "stdout",
     "output_type": "stream",
     "text": [
      "vx_com -11.3169699148173 vy_com 5.860425428774629\n",
      "Number of new plots 1\n",
      "Number of dynamic tracks before run() 2\n",
      "before predict: x=[[1.73110077 0.         0.04561966 0.         0.03036623 0.        ]\n",
      " [0.         1.56792586 0.         0.04393511 0.         0.02825134]\n",
      " [0.04561966 0.         1.40206796 0.         0.20253863 0.        ]\n",
      " [0.         0.04393511 0.         1.39689219 0.         0.20148177]\n",
      " [0.03036623 0.         0.20253863 0.         1.66889105 0.        ]\n",
      " [0.         0.02825134 0.         0.20148177 0.         1.66860446]]\n",
      "after predict: x=[[2.24611502 0.         0.15518629 0.         0.05026645 0.        ]\n",
      " [0.         2.08264575 0.         0.15294559 0.         0.04807142]\n",
      " [0.15518629 0.         2.44186839 0.         0.32778723 0.        ]\n",
      " [0.         0.15294559 0.         2.43653236 0.         0.32670886]\n",
      " [0.05026645 0.         0.32778723 0.         1.66889105 0.        ]\n",
      " [0.         0.04807142 0.         0.32670886 0.         1.66860446]]\n",
      "before predict: x=[[5.01657631 0.         0.9213377  0.         0.25800427 0.        ]\n",
      " [0.         7.39555708 0.         0.96100755 0.         0.28386705]\n",
      " [0.9213377  0.         4.90029491 0.         1.05904978 0.        ]\n",
      " [0.         0.96100755 0.         4.89345584 0.         1.05820005]\n",
      " [0.25800427 0.         1.05904978 0.         2.62020646 0.        ]\n",
      " [0.         0.28386705 0.         1.05820005 0.         2.62031852]]\n",
      "after predict: x=[[5.68438906 0.         1.31796409 0.         0.34486386 0.        ]\n",
      " [0.         8.06943098 0.         1.35905449 0.         0.37066319]\n",
      " [1.31796409 0.         6.07401409 0.         1.25569366 0.        ]\n",
      " [0.         1.35905449 0.         6.0670481  0.         1.25485233]\n",
      " [0.34486386 0.         1.25569366 0.         2.62020646 0.        ]\n",
      " [0.         0.37066319 0.         1.25485233 0.         2.62031852]]\n",
      "Updating track = 0 z = [200.37290316 704.65006004 -11.31696991   5.86042543] cov=[[3.11066434 0.         0.         0.        ]\n",
      " [0.         3.00589    0.         0.        ]\n",
      " [0.         0.         0.5        0.        ]\n",
      " [0.         0.         0.         0.5       ]]\n",
      "age = 37 hits = 22\n",
      "age = 14 hits = 3\n"
     ]
    },
    {
     "name": "stderr",
     "output_type": "stream",
     "text": [
      "/home/kfir/workspace/RadarLocalization/dataset.py:261: VisibleDeprecationWarning: Creating an ndarray from ragged nested sequences (which is a list-or-tuple of lists-or-tuples-or ndarrays with different lengths or shapes) is deprecated. If you meant to do this, you must specify 'dtype=object' when creating the ndarray\n",
      "  rot = Quaternion(self.ego.iloc[eidx][\"rotation\"])\n"
     ]
    },
    {
     "name": "stdout",
     "output_type": "stream",
     "text": [
      "vx_com -11.538879418398603 vy_com 5.975292934925424\n",
      "Number of new plots 1\n",
      "Number of dynamic tracks before run() 2\n",
      "before predict: x=[[1.30154699 0.         0.01533959 0.         0.019178   0.        ]\n",
      " [0.         1.2274724  0.         0.01540752 0.         0.01837363]\n",
      " [0.01533959 0.         0.41488993 0.         0.05554811 0.        ]\n",
      " [0.         0.01540752 0.         0.41473209 0.         0.05546916]\n",
      " [0.019178   0.         0.05554811 0.         1.63216522 0.        ]\n",
      " [0.         0.01837363 0.         0.05546916 0.         1.63206609]]\n",
      "after predict: x=[[1.80586007 0.         0.0464606  0.         0.02708301 0.        ]\n",
      " [0.         1.73179025 0.         0.04646048 0.         0.02627287]\n",
      " [0.0464606  0.         1.43069995 0.         0.16997106 0.        ]\n",
      " [0.         0.04646048 0.         1.43053055 0.         0.16988515]\n",
      " [0.02708301 0.         0.16997106 0.         1.63216522 0.        ]\n",
      " [0.         0.02627287 0.         0.16988515 0.         1.63206609]]\n",
      "before predict: x=[[5.68438906 0.         1.31796409 0.         0.34486386 0.        ]\n",
      " [0.         8.06943098 0.         1.35905449 0.         0.37066319]\n",
      " [1.31796409 0.         6.07401409 0.         1.25569366 0.        ]\n",
      " [0.         1.35905449 0.         6.0670481  0.         1.25485233]\n",
      " [0.34486386 0.         1.25569366 0.         2.62020646 0.        ]\n",
      " [0.         0.37066319 0.         1.25485233 0.         2.62031852]]\n",
      "after predict: x=[[6.4011762  0.         1.77766797 0.         0.43933305 0.        ]\n",
      " [0.         8.79207168 0.         1.82007251 0.         0.46507366]\n",
      " [1.77766797 0.         7.26295245 0.         1.43938323 0.        ]\n",
      " [0.         1.82007251 0.         7.25586906 0.         1.43854976]\n",
      " [0.43933305 0.         1.43938323 0.         2.62020646 0.        ]\n",
      " [0.         0.46507366 0.         1.43854976 0.         2.62031852]]\n",
      "Updating track = 0 z = [199.25068341 704.4477305  -11.53887942   5.97529293] cov=[[3.66547676 0.         0.         0.        ]\n",
      " [0.         2.11383347 0.         0.        ]\n",
      " [0.         0.         0.5        0.        ]\n",
      " [0.         0.         0.         0.5       ]]\n",
      "age = 38 hits = 23\n",
      "age = 15 hits = 3\n"
     ]
    },
    {
     "name": "stderr",
     "output_type": "stream",
     "text": [
      "/home/kfir/workspace/RadarLocalization/dataset.py:261: VisibleDeprecationWarning: Creating an ndarray from ragged nested sequences (which is a list-or-tuple of lists-or-tuples-or ndarrays with different lengths or shapes) is deprecated. If you meant to do this, you must specify 'dtype=object' when creating the ndarray\n",
      "  rot = Quaternion(self.ego.iloc[eidx][\"rotation\"])\n"
     ]
    },
    {
     "name": "stdout",
     "output_type": "stream",
     "text": [
      "Number of new plots 0\n",
      "Number of dynamic tracks before run() 1\n",
      "before predict: x=[[1.20931908 0.         0.00806243 0.         0.01540699 0.        ]\n",
      " [0.         0.95157949 0.         0.00661618 0.         0.01219769]\n",
      " [0.00806243 0.         0.37048682 0.         0.04396741 0.        ]\n",
      " [0.         0.00661618 0.         0.37046426 0.         0.04393017]\n",
      " [0.01540699 0.         0.04396741 0.         1.61710501 0.        ]\n",
      " [0.         0.01219769 0.         0.04393017 0.         1.61698831]]\n",
      "after predict: x=[[1.71272938 0.         0.03771081 0.         0.02325034 0.        ]\n",
      " [0.         1.4547547  0.         0.03602188 0.         0.02003792]\n",
      " [0.03771081 0.         1.38617352 0.         0.16522765 0.        ]\n",
      " [0.         0.03602188 0.         1.38614472 0.         0.16518165]\n",
      " [0.02325034 0.         0.16522765 0.         1.61710501 0.        ]\n",
      " [0.         0.02003792 0.         0.16518165 0.         1.61698831]]\n",
      "age = 39 hits = 23\n",
      "Number of new plots 0\n",
      "Number of dynamic tracks before run() 1\n",
      "before predict: x=[[1.71272938 0.         0.03771081 0.         0.02325034 0.        ]\n",
      " [0.         1.4547547  0.         0.03602188 0.         0.02003792]\n",
      " [0.03771081 0.         1.38617352 0.         0.16522765 0.        ]\n",
      " [0.         0.03602188 0.         1.38614472 0.         0.16518165]\n",
      " [0.02325034 0.         0.16522765 0.         1.61710501 0.        ]\n",
      " [0.         0.02003792 0.         0.16518165 0.         1.61698831]]\n",
      "after predict: x=[[2.22498587 0.         0.13788554 0.         0.03878263 0.        ]\n",
      " [0.         1.96675877 0.         0.13596931 0.         0.03556671]\n",
      " [0.13788554 0.         2.41723811 0.         0.27845087 0.        ]\n",
      " [0.         0.13596931 0.         2.4172023  0.         0.27839671]\n",
      " [0.03878263 0.         0.27845087 0.         1.61710501 0.        ]\n",
      " [0.         0.03556671 0.         0.27839671 0.         1.61698831]]\n",
      "age = 40 hits = 23\n",
      "vx_com -3.8463508293548716 vy_com 1.9916254777472748\n",
      "Number of new plots 1\n",
      "Number of dynamic tracks before run() 1\n",
      "before predict: x=[[2.22498587 0.         0.13788554 0.         0.03878263 0.        ]\n",
      " [0.         1.96675877 0.         0.13596931 0.         0.03556671]\n",
      " [0.13788554 0.         2.41723811 0.         0.27845087 0.        ]\n",
      " [0.         0.13596931 0.         2.4172023  0.         0.27839671]\n",
      " [0.03878263 0.         0.27845087 0.         1.61710501 0.        ]\n",
      " [0.         0.03556671 0.         0.27839671 0.         1.61698831]]\n",
      "after predict: x=[[2.8176654  0.         0.50532612 0.         0.09617168 0.        ]\n",
      " [0.         2.55881392 0.         0.50293642 0.         0.09294667]\n",
      " [0.50532612 0.         3.5320162  0.         0.51297476 0.        ]\n",
      " [0.         0.50293642 0.         3.53196222 0.         0.51290367]\n",
      " [0.09617168 0.         0.51297476 0.         1.61710501 0.        ]\n",
      " [0.         0.09294667 0.         0.51290367 0.         1.61698831]]\n",
      "Initiating new track: x=[279.53830354 664.77625343  -3.84635083   1.99162548   0.\n",
      "   0.        ]\n",
      "age = 41 hits = 23\n",
      "age = 1 hits = 1\n"
     ]
    },
    {
     "name": "stderr",
     "output_type": "stream",
     "text": [
      "/home/kfir/workspace/RadarLocalization/dataset.py:261: VisibleDeprecationWarning: Creating an ndarray from ragged nested sequences (which is a list-or-tuple of lists-or-tuples-or ndarrays with different lengths or shapes) is deprecated. If you meant to do this, you must specify 'dtype=object' when creating the ndarray\n",
      "  rot = Quaternion(self.ego.iloc[eidx][\"rotation\"])\n"
     ]
    },
    {
     "name": "stdout",
     "output_type": "stream",
     "text": [
      "vx_com -3.550425581772953 vy_com 1.8385232678874637\n",
      "Number of new plots 1\n",
      "Number of dynamic tracks before run() 2\n",
      "before predict: x=[[2.8176654  0.         0.50532612 0.         0.09617168 0.        ]\n",
      " [0.         2.55881392 0.         0.50293642 0.         0.09294667]\n",
      " [0.50532612 0.         3.5320162  0.         0.51297476 0.        ]\n",
      " [0.         0.50293642 0.         3.53196222 0.         0.51290367]\n",
      " [0.09617168 0.         0.51297476 0.         1.61710501 0.        ]\n",
      " [0.         0.09294667 0.         0.51290367 0.         1.61698831]]\n",
      "after predict: x=[[3.4141537  0.         0.78223354 0.         0.13921382 0.        ]\n",
      " [0.         3.15492512 0.         0.77959718 0.         0.13598315]\n",
      " [0.78223354 0.         4.61810049 0.         0.634311   0.        ]\n",
      " [0.         0.77959718 0.         4.61803519 0.         0.63423115]\n",
      " [0.13921382 0.         0.634311   0.         1.61710501 0.        ]\n",
      " [0.         0.13598315 0.         0.63423115 0.         1.61698831]]\n",
      "before predict: x=[[2.  0.  0.  0.  0.  0. ]\n",
      " [0.  2.  0.  0.  0.  0. ]\n",
      " [0.  0.  0.5 0.  0.  0. ]\n",
      " [0.  0.  0.  0.5 0.  0. ]\n",
      " [0.  0.  0.  0.  3.  0. ]\n",
      " [0.  0.  0.  0.  0.  3. ]]\n",
      "after predict: x=[[2.50283875 0.         0.03815015 0.         0.00844493 0.        ]\n",
      " [0.         2.50283875 0.         0.03815015 0.         0.00844493]\n",
      " [0.03815015 0.         1.51688985 0.         0.225099   0.        ]\n",
      " [0.         0.03815015 0.         1.51688985 0.         0.225099  ]\n",
      " [0.00844493 0.         0.225099   0.         3.         0.        ]\n",
      " [0.         0.00844493 0.         0.225099   0.         3.        ]]\n",
      "Updating track = 1 z = [279.85081413 665.51567394  -3.55042558   1.83852327] cov=[[2.01218116 0.         0.         0.        ]\n",
      " [0.         3.14488946 0.         0.        ]\n",
      " [0.         0.         0.54924032 0.        ]\n",
      " [0.         0.         0.         0.51320378]]\n",
      "age = 42 hits = 23\n",
      "age = 2 hits = 2\n"
     ]
    },
    {
     "name": "stderr",
     "output_type": "stream",
     "text": [
      "/home/kfir/workspace/RadarLocalization/dataset.py:261: VisibleDeprecationWarning: Creating an ndarray from ragged nested sequences (which is a list-or-tuple of lists-or-tuples-or ndarrays with different lengths or shapes) is deprecated. If you meant to do this, you must specify 'dtype=object' when creating the ndarray\n",
      "  rot = Quaternion(self.ego.iloc[eidx][\"rotation\"])\n"
     ]
    },
    {
     "name": "stdout",
     "output_type": "stream",
     "text": [
      "vx_com -3.6058211359631294 vy_com 1.8674057750506683\n",
      "Number of new plots 1\n",
      "Number of dynamic tracks before run() 2\n",
      "before predict: x=[[3.4141537  0.         0.78223354 0.         0.13921382 0.        ]\n",
      " [0.         3.15492512 0.         0.77959718 0.         0.13598315]\n",
      " [0.78223354 0.         4.61810049 0.         0.634311   0.        ]\n",
      " [0.         0.77959718 0.         4.61803519 0.         0.63423115]\n",
      " [0.13921382 0.         0.634311   0.         1.61710501 0.        ]\n",
      " [0.         0.13598315 0.         0.63423115 0.         1.61698831]]\n",
      "after predict: x=[[4.04730982 0.         1.12041547 0.         0.18761264 0.        ]\n",
      " [0.         3.7876957  0.         1.11754763 0.         0.18437609]\n",
      " [1.12041547 0.         5.71489812 0.         0.74758436 0.        ]\n",
      " [0.         1.11754763 0.         5.71482105 0.         0.74749633]\n",
      " [0.18761264 0.         0.74758436 0.         1.61710501 0.        ]\n",
      " [0.         0.18437609 0.         0.74749633 0.         1.61698831]]\n",
      "before predict: x=[[1.11528482e+00 0.00000000e+00 4.52039236e-03 0.00000000e+00\n",
      "  1.91156181e-03 0.00000000e+00]\n",
      " [0.00000000e+00 1.39346216e+00 0.00000000e+00 5.37101959e-03\n",
      "  0.00000000e+00 2.34727159e-03]\n",
      " [4.52039236e-03 0.00000000e+00 4.03212734e-01 0.00000000e+00\n",
      "  5.98285348e-02 0.00000000e+00]\n",
      " [0.00000000e+00 5.37101959e-03 0.00000000e+00 3.83450377e-01\n",
      "  0.00000000e+00 5.68973976e-02]\n",
      " [1.91156181e-03 0.00000000e+00 5.98285348e-02 0.00000000e+00\n",
      "  2.97547203e+00 0.00000000e+00]\n",
      " [0.00000000e+00 2.34727159e-03 0.00000000e+00 5.68973976e-02\n",
      "  0.00000000e+00 2.97503763e+00]]\n",
      "after predict: x=[[1.61794435 0.         0.03384979 0.         0.01340207 0.        ]\n",
      " [0.         1.89614502 0.         0.03332499 0.         0.0136314 ]\n",
      " [0.03384979 0.         1.42619375 0.         0.26825142 0.        ]\n",
      " [0.         0.03332499 0.         1.40601863 0.         0.26528986]\n",
      " [0.01340207 0.         0.26825142 0.         2.97547203 0.        ]\n",
      " [0.         0.0136314  0.         0.26528986 0.         2.97503763]]\n",
      "Updating track = 1 z = [279.63722978 664.89561604  -3.60582114   1.86740578] cov=[[2.70395014 0.         0.         0.        ]\n",
      " [0.         3.39035482 0.         0.        ]\n",
      " [0.         0.         0.53385122 0.        ]\n",
      " [0.         0.         0.         0.50907911]]\n",
      "age = 43 hits = 23\n",
      "age = 3 hits = 3\n"
     ]
    },
    {
     "name": "stderr",
     "output_type": "stream",
     "text": [
      "/home/kfir/workspace/RadarLocalization/dataset.py:261: VisibleDeprecationWarning: Creating an ndarray from ragged nested sequences (which is a list-or-tuple of lists-or-tuples-or ndarrays with different lengths or shapes) is deprecated. If you meant to do this, you must specify 'dtype=object' when creating the ndarray\n",
      "  rot = Quaternion(self.ego.iloc[eidx][\"rotation\"])\n"
     ]
    },
    {
     "name": "stdout",
     "output_type": "stream",
     "text": [
      "vx_com -3.550361800854347 vy_com 1.8386312662218152\n",
      "Number of new plots 1\n",
      "Number of dynamic tracks before run() 2\n",
      "before predict: x=[[4.04730982 0.         1.12041547 0.         0.18761264 0.        ]\n",
      " [0.         3.7876957  0.         1.11754763 0.         0.18437609]\n",
      " [1.12041547 0.         5.71489812 0.         0.74758436 0.        ]\n",
      " [0.         1.11754763 0.         5.71482105 0.         0.74749633]\n",
      " [0.18761264 0.         0.74758436 0.         1.61710501 0.        ]\n",
      " [0.         0.18437609 0.         0.74749633 0.         1.61698831]]\n",
      "after predict: x=[[4.74897729 0.         1.56989866 0.         0.24825042 0.        ]\n",
      " [0.         4.48891417 0.         1.56678145 0.         0.24500694]\n",
      " [1.56989866 0.         6.83617369 0.         0.86890604 0.        ]\n",
      " [0.         1.56678145 0.         6.83608276 0.         0.86880927]\n",
      " [0.24825042 0.         0.86890604 0.         1.61710501 0.        ]\n",
      " [0.         0.24500694 0.         0.86880927 0.         1.61698831]]\n",
      "before predict: x=[[1.01202188 0.         0.00576891 0.         0.00548723 0.        ]\n",
      " [0.         1.21580319 0.         0.00568184 0.         0.00578219]\n",
      " [0.00576891 0.         0.38842819 0.         0.07304408 0.        ]\n",
      " [0.         0.00568184 0.         0.37373877 0.         0.07050533]\n",
      " [0.00548723 0.         0.07304408 0.         2.93874139 0.        ]\n",
      " [0.         0.00578219 0.         0.07050533 0.         2.93827285]]\n",
      "after predict: x=[[1.5151588  0.         0.03655921 0.         0.01923779 0.        ]\n",
      " [0.         1.71884496 0.         0.03537068 0.         0.01934096]\n",
      " [0.03655921 0.         1.41592931 0.         0.29352021 0.        ]\n",
      " [0.         0.03537068 0.         1.40085632 0.         0.29094631]\n",
      " [0.01923779 0.         0.29352021 0.         2.93874139 0.        ]\n",
      " [0.         0.01934096 0.         0.29094631 0.         2.93827285]]\n",
      "Updating track = 1 z = [279.15816397 664.4130925   -3.5503618    1.83863127] cov=[[2.10863057 0.         0.         0.        ]\n",
      " [0.         2.70969869 0.         0.        ]\n",
      " [0.         0.         0.54923855 0.        ]\n",
      " [0.         0.         0.         0.51320533]]\n",
      "age = 44 hits = 23\n",
      "age = 4 hits = 4\n"
     ]
    },
    {
     "name": "stderr",
     "output_type": "stream",
     "text": [
      "/home/kfir/workspace/RadarLocalization/dataset.py:261: VisibleDeprecationWarning: Creating an ndarray from ragged nested sequences (which is a list-or-tuple of lists-or-tuples-or ndarrays with different lengths or shapes) is deprecated. If you meant to do this, you must specify 'dtype=object' when creating the ndarray\n",
      "  rot = Quaternion(self.ego.iloc[eidx][\"rotation\"])\n"
     ]
    },
    {
     "name": "stdout",
     "output_type": "stream",
     "text": [
      "vx_com -3.402448904535783 vy_com 1.761969187819278\n",
      "Number of new plots 1\n",
      "Number of dynamic tracks before run() 1\n",
      "before predict: x=[[0.88141864 0.         0.00594672 0.         0.00801829 0.        ]\n",
      " [0.         1.05146713 0.         0.00580367 0.         0.00854571]\n",
      " [0.00594672 0.         0.39570479 0.         0.08199618 0.        ]\n",
      " [0.         0.00580367 0.         0.3755825  0.         0.0779797 ]\n",
      " [0.00801829 0.         0.08199618 0.         2.89484841 0.        ]\n",
      " [0.         0.00854571 0.         0.0779797  0.         2.89400361]]\n",
      "after predict: x=[[1.38427478 0.         0.03530559 0.         0.02084983 0.        ]\n",
      " [0.         1.55420585 0.         0.03376127 0.         0.02109403]\n",
      " [0.03530559 0.         1.42136787 0.         0.28462978 0.        ]\n",
      " [0.         0.03376127 0.         1.40067915 0.         0.28055416]\n",
      " [0.02084983 0.         0.28462978 0.         2.89484841 0.        ]\n",
      " [0.         0.02109403 0.         0.28055416 0.         2.89400361]]\n",
      "Updating track = 0 z = [279.26514601 664.54461953  -3.4024489    1.76196919] cov=[[3.16569889 0.         0.         0.        ]\n",
      " [0.         2.77061547 0.         0.        ]\n",
      " [0.         0.         0.51094202 0.        ]\n",
      " [0.         0.         0.         0.50293434]]\n",
      "age = 5 hits = 5\n"
     ]
    },
    {
     "name": "stderr",
     "output_type": "stream",
     "text": [
      "/home/kfir/workspace/RadarLocalization/dataset.py:261: VisibleDeprecationWarning: Creating an ndarray from ragged nested sequences (which is a list-or-tuple of lists-or-tuples-or ndarrays with different lengths or shapes) is deprecated. If you meant to do this, you must specify 'dtype=object' when creating the ndarray\n",
      "  rot = Quaternion(self.ego.iloc[eidx][\"rotation\"])\n"
     ]
    },
    {
     "name": "stdout",
     "output_type": "stream",
     "text": [
      "vx_com -3.254528582478958 vy_com 1.6853454486840382\n",
      "Number of new plots 1\n",
      "Number of dynamic tracks before run() 1\n",
      "before predict: x=[[0.96281351 0.         0.00649622 0.         0.01088974 0.        ]\n",
      " [0.         0.99542699 0.         0.00571504 0.         0.01032732]\n",
      " [0.00649622 0.         0.37581941 0.         0.07522979 0.        ]\n",
      " [0.         0.00571504 0.         0.37004078 0.         0.07408911]\n",
      " [0.01088974 0.         0.07522979 0.         2.85286853 0.        ]\n",
      " [0.         0.01032732 0.         0.07408911 0.         2.85259552]]\n",
      "after predict: x=[[1.46601668 0.         0.03673123 0.         0.02455248 0.        ]\n",
      " [0.         1.49847685 0.         0.03546487 0.         0.02390376]\n",
      " [0.03673123 0.         1.4031449  0.         0.28916355 0.        ]\n",
      " [0.         0.03546487 0.         1.39719366 0.         0.2880024 ]\n",
      " [0.02455248 0.         0.28916355 0.         2.85286853 0.        ]\n",
      " [0.         0.02390376 0.         0.2880024  0.         2.85259552]]\n",
      "Updating track = 0 z = [279.19741254 664.12877704  -3.25452858   1.68534545] cov=[[3.10425045 0.         0.         0.        ]\n",
      " [0.         3.47041522 0.         0.        ]\n",
      " [0.         0.         0.54376841 0.        ]\n",
      " [0.         0.         0.         0.51173715]]\n",
      "age = 6 hits = 6\n"
     ]
    },
    {
     "name": "stderr",
     "output_type": "stream",
     "text": [
      "/home/kfir/workspace/RadarLocalization/dataset.py:261: VisibleDeprecationWarning: Creating an ndarray from ragged nested sequences (which is a list-or-tuple of lists-or-tuples-or ndarrays with different lengths or shapes) is deprecated. If you meant to do this, you must specify 'dtype=object' when creating the ndarray\n",
      "  rot = Quaternion(self.ego.iloc[eidx][\"rotation\"])\n"
     ]
    },
    {
     "name": "stdout",
     "output_type": "stream",
     "text": [
      "vx_com -3.2175117972302543 vy_com 1.6662525541440187\n",
      "Number of new plots 1\n",
      "Number of dynamic tracks before run() 1\n",
      "before predict: x=[[0.99543887 0.         0.00696921 0.         0.01297318 0.        ]\n",
      " [0.         1.04625731 0.         0.00664102 0.         0.01295976]\n",
      " [0.00696921 0.         0.39187211 0.         0.08071984 0.        ]\n",
      " [0.         0.00664102 0.         0.37453488 0.         0.07717082]\n",
      " [0.01297318 0.         0.08071984 0.         2.80984097 0.        ]\n",
      " [0.         0.01295976 0.         0.07717082 0.         2.80907501]]\n",
      "after predict: x=[[1.50653481 0.         0.07252382 0.         0.05423749 0.        ]\n",
      " [0.         1.5568821  0.         0.06956585 0.         0.05370125]\n",
      " [0.07252382 0.         1.47440074 0.         0.48827041 0.        ]\n",
      " [0.         0.06956585 0.         1.45601786 0.         0.48461029]\n",
      " [0.05423749 0.         0.48827041 0.         2.80984097 0.        ]\n",
      " [0.         0.05370125 0.         0.48461029 0.         2.80907501]]\n",
      "Updating track = 0 z = [278.95919223 663.3894707   -3.2175118    1.66625255] cov=[[2.93493659 0.         0.         0.        ]\n",
      " [0.         3.99076961 0.         0.        ]\n",
      " [0.         0.         0.61078649 0.        ]\n",
      " [0.         0.         0.         0.52971175]]\n",
      "age = 7 hits = 7\n"
     ]
    },
    {
     "name": "stderr",
     "output_type": "stream",
     "text": [
      "/home/kfir/workspace/RadarLocalization/dataset.py:261: VisibleDeprecationWarning: Creating an ndarray from ragged nested sequences (which is a list-or-tuple of lists-or-tuples-or ndarrays with different lengths or shapes) is deprecated. If you meant to do this, you must specify 'dtype=object' when creating the ndarray\n",
      "  rot = Quaternion(self.ego.iloc[eidx][\"rotation\"])\n"
     ]
    },
    {
     "name": "stdout",
     "output_type": "stream",
     "text": [
      "vx_com -2.9955928332438884 vy_com 1.5513753132038404\n",
      "vx_com -11.42763191941187 vy_com 5.918209528147983\n",
      "Number of new plots 2\n",
      "Number of dynamic tracks before run() 1\n",
      "before predict: x=[[0.99442031 0.         0.01404571 0.         0.02463234 0.        ]\n",
      " [0.         1.11870006 0.         0.01335531 0.         0.02642942]\n",
      " [0.01404571 0.         0.43177517 0.         0.14284434 0.        ]\n",
      " [0.         0.01335531 0.         0.38834413 0.         0.12915138]\n",
      " [0.02463234 0.         0.14284434 0.         2.6951942  0.        ]\n",
      " [0.         0.02642942 0.         0.12915138 0.         2.69056437]]\n",
      "after predict: x=[[1.50895128 0.         0.08927364 0.         0.07406345 0.        ]\n",
      " [0.         1.63210284 0.         0.08207299 0.         0.07381603]\n",
      " [0.08927364 0.         1.53063741 0.         0.53559074 0.        ]\n",
      " [0.         0.08207299 0.         1.48311735 0.         0.52122311]\n",
      " [0.07406345 0.         0.53559074 0.         2.6951942  0.        ]\n",
      " [0.         0.07381603 0.         0.52122311 0.         2.69056437]]\n",
      "Initiating new track: x=[277.68881601 662.47606489  -2.99559283   1.55137531   0.\n",
      "   0.        ]\n",
      "Initiating new track: x=[187.88762978 708.82394276 -11.42763192   5.91820953   0.\n",
      "   0.        ]\n",
      "age = 8 hits = 7\n",
      "age = 1 hits = 1\n",
      "age = 1 hits = 1\n"
     ]
    },
    {
     "name": "stderr",
     "output_type": "stream",
     "text": [
      "/home/kfir/workspace/RadarLocalization/dataset.py:261: VisibleDeprecationWarning: Creating an ndarray from ragged nested sequences (which is a list-or-tuple of lists-or-tuples-or ndarrays with different lengths or shapes) is deprecated. If you meant to do this, you must specify 'dtype=object' when creating the ndarray\n",
      "  rot = Quaternion(self.ego.iloc[eidx][\"rotation\"])\n"
     ]
    },
    {
     "name": "stdout",
     "output_type": "stream",
     "text": [
      "vx_com -2.9956127636748553 vy_com 1.5513412701648406\n",
      "vx_com -11.538656571192035 vy_com 5.975536744338645\n",
      "Number of new plots 2\n",
      "Number of dynamic tracks before run() 3\n",
      "before predict: x=[[1.50895128 0.         0.08927364 0.         0.07406345 0.        ]\n",
      " [0.         1.63210284 0.         0.08207299 0.         0.07381603]\n",
      " [0.08927364 0.         1.53063741 0.         0.53559074 0.        ]\n",
      " [0.         0.08207299 0.         1.48311735 0.         0.52122311]\n",
      " [0.07406345 0.         0.53559074 0.         2.6951942  0.        ]\n",
      " [0.         0.07381603 0.         0.52122311 0.         2.69056437]]\n",
      "after predict: x=[[2.03133423 0.         0.2135641  0.         0.12132815 0.        ]\n",
      " [0.         2.15314524 0.         0.20269225 0.         0.11999982]\n",
      " [0.2135641  0.         2.6251668  0.         0.73595686 0.        ]\n",
      " [0.         0.20269225 0.         2.57548492 0.         0.72124505]\n",
      " [0.12132815 0.         0.73595686 0.         2.6951942  0.        ]\n",
      " [0.         0.11999982 0.         0.72124505 0.         2.69056437]]\n",
      "before predict: x=[[2.  0.  0.  0.  0.  0. ]\n",
      " [0.  2.  0.  0.  0.  0. ]\n",
      " [0.  0.  0.5 0.  0.  0. ]\n",
      " [0.  0.  0.  0.5 0.  0. ]\n",
      " [0.  0.  0.  0.  3.  0. ]\n",
      " [0.  0.  0.  0.  0.  3. ]]\n",
      "after predict: x=[[2.50278628 0.         0.0377873  0.         0.0082901  0.        ]\n",
      " [0.         2.50278628 0.         0.0377873  0.         0.0082901 ]\n",
      " [0.0377873  0.         1.5165802  0.         0.223026   0.        ]\n",
      " [0.         0.0377873  0.         1.5165802  0.         0.223026  ]\n",
      " [0.0082901  0.         0.223026   0.         3.         0.        ]\n",
      " [0.         0.0082901  0.         0.223026   0.         3.        ]]\n",
      "before predict: x=[[2.  0.  0.  0.  0.  0. ]\n",
      " [0.  2.  0.  0.  0.  0. ]\n",
      " [0.  0.  0.5 0.  0.  0. ]\n",
      " [0.  0.  0.  0.5 0.  0. ]\n",
      " [0.  0.  0.  0.  3.  0. ]\n",
      " [0.  0.  0.  0.  0.  3. ]]\n",
      "after predict: x=[[2.50278628 0.         0.0377873  0.         0.0082901  0.        ]\n",
      " [0.         2.50278628 0.         0.0377873  0.         0.0082901 ]\n",
      " [0.0377873  0.         1.5165802  0.         0.223026   0.        ]\n",
      " [0.         0.0377873  0.         1.5165802  0.         0.223026  ]\n",
      " [0.0082901  0.         0.223026   0.         3.         0.        ]\n",
      " [0.         0.0082901  0.         0.223026   0.         3.        ]]\n",
      "Updating track = 1 z = [277.68452823 662.25239427  -2.99561276   1.55134127] cov=[[2.4735652  0.         0.         0.        ]\n",
      " [0.         2.77481928 0.         0.        ]\n",
      " [0.         0.         0.5123096  0.        ]\n",
      " [0.         0.         0.         0.50330132]]\n",
      "Updating track = 2 z = [186.76058524 708.39739416 -11.53865657   5.97553674] cov=[[2.95728653 0.         0.         0.        ]\n",
      " [0.         2.08223777 0.         0.        ]\n",
      " [0.         0.         0.5        0.        ]\n",
      " [0.         0.         0.         0.5       ]]\n",
      "age = 9 hits = 7\n",
      "age = 2 hits = 2\n",
      "age = 2 hits = 2\n"
     ]
    },
    {
     "name": "stderr",
     "output_type": "stream",
     "text": [
      "/home/kfir/workspace/RadarLocalization/dataset.py:261: VisibleDeprecationWarning: Creating an ndarray from ragged nested sequences (which is a list-or-tuple of lists-or-tuples-or ndarrays with different lengths or shapes) is deprecated. If you meant to do this, you must specify 'dtype=object' when creating the ndarray\n",
      "  rot = Quaternion(self.ego.iloc[eidx][\"rotation\"])\n"
     ]
    },
    {
     "name": "stdout",
     "output_type": "stream",
     "text": [
      "vx_com -11.538626433268355 vy_com 5.97555853761425\n",
      "Number of new plots 1\n",
      "Number of dynamic tracks before run() 3\n",
      "before predict: x=[[2.03133423 0.         0.2135641  0.         0.12132815 0.        ]\n",
      " [0.         2.15314524 0.         0.20269225 0.         0.11999982]\n",
      " [0.2135641  0.         2.6251668  0.         0.73595686 0.        ]\n",
      " [0.         0.20269225 0.         2.57548492 0.         0.72124505]\n",
      " [0.12132815 0.         0.73595686 0.         2.6951942  0.        ]\n",
      " [0.         0.11999982 0.         0.72124505 0.         2.69056437]]\n",
      "after predict: x=[[2.5749967  0.         0.41182169 0.         0.17948997 0.        ]\n",
      " [0.         2.69502932 0.         0.39726777 0.         0.17711979]\n",
      " [0.41182169 0.         3.74149043 0.         0.92474174 0.        ]\n",
      " [0.         0.39726777 0.         3.68972486 0.         0.90970563]\n",
      " [0.17948997 0.         0.92474174 0.         2.6951942  0.        ]\n",
      " [0.         0.17711979 0.         0.90970563 0.         2.69056437]]\n",
      "before predict: x=[[1.24387106e+00 0.00000000e+00 4.74344276e-03 0.00000000e+00\n",
      "  2.05630900e-03 0.00000000e+00]\n",
      " [0.00000000e+00 1.31570048e+00 0.00000000e+00 4.95112640e-03\n",
      "  0.00000000e+00 2.16531547e-03]\n",
      " [4.74344276e-03 0.00000000e+00 3.82929358e-01 0.00000000e+00\n",
      "  5.63077734e-02 0.00000000e+00]\n",
      " [0.00000000e+00 4.95112640e-03 0.00000000e+00 3.77875073e-01\n",
      "  0.00000000e+00 5.55648624e-02]\n",
      " [2.05630900e-03 0.00000000e+00 5.63077734e-02 0.00000000e+00\n",
      "  2.97548040e+00 0.00000000e+00]\n",
      " [0.00000000e+00 2.16531547e-03 0.00000000e+00 5.55648624e-02\n",
      "  0.00000000e+00 2.97537128e+00]]\n",
      "after predict: x=[[1.74646169 0.         0.03263544 0.         0.01329969 0.        ]\n",
      " [0.         1.81829567 0.         0.03249124 0.         0.01335639]\n",
      " [0.03263544 0.         1.40541612 0.         0.2647253  0.        ]\n",
      " [0.         0.03249124 0.         1.40025723 0.         0.26397474]\n",
      " [0.01329969 0.         0.2647253  0.         2.9754804  0.        ]\n",
      " [0.         0.01335639 0.         0.26397474 0.         2.97537128]]\n",
      "before predict: x=[[1.35535223e+00 0.00000000e+00 5.07518283e-03 0.00000000e+00\n",
      "  2.22687345e-03 0.00000000e+00]\n",
      " [0.00000000e+00 1.13646655e+00 0.00000000e+00 4.25555466e-03\n",
      "  0.00000000e+00 1.86723946e-03]\n",
      " [5.07518283e-03 0.00000000e+00 3.76011663e-01 0.00000000e+00\n",
      "  5.52910184e-02 0.00000000e+00]\n",
      " [0.00000000e+00 4.25555466e-03 0.00000000e+00 3.76008594e-01\n",
      "  0.00000000e+00 5.52896717e-02]\n",
      " [2.22687345e-03 0.00000000e+00 5.52910184e-02 0.00000000e+00\n",
      "  2.97533109e+00 0.00000000e+00]\n",
      " [0.00000000e+00 1.86723946e-03 0.00000000e+00 5.52896717e-02\n",
      "  0.00000000e+00 2.97533050e+00]]\n",
      "after predict: x=[[1.85795587 0.         0.03248707 0.         0.01339867 0.        ]\n",
      " [0.         1.63895359 0.         0.03164202 0.         0.01303894]\n",
      " [0.03248707 0.         1.39835526 0.         0.26369808 0.        ]\n",
      " [0.         0.03164202 0.         1.39835199 0.         0.2636967 ]\n",
      " [0.01339867 0.         0.26369808 0.         2.97533109 0.        ]\n",
      " [0.         0.01303894 0.         0.2636967  0.         2.9753305 ]]\n",
      "Updating track = 2 z = [185.4019383  707.53022578 -11.53862643   5.97555854] cov=[[2.79965011 0.         0.         0.        ]\n",
      " [0.         2.00029355 0.         0.        ]\n",
      " [0.         0.         0.5        0.        ]\n",
      " [0.         0.         0.         0.5       ]]\n",
      "age = 10 hits = 7\n",
      "age = 3 hits = 2\n",
      "age = 3 hits = 3\n"
     ]
    },
    {
     "name": "stderr",
     "output_type": "stream",
     "text": [
      "/home/kfir/workspace/RadarLocalization/dataset.py:261: VisibleDeprecationWarning: Creating an ndarray from ragged nested sequences (which is a list-or-tuple of lists-or-tuples-or ndarrays with different lengths or shapes) is deprecated. If you meant to do this, you must specify 'dtype=object' when creating the ndarray\n",
      "  rot = Quaternion(self.ego.iloc[eidx][\"rotation\"])\n"
     ]
    },
    {
     "name": "stdout",
     "output_type": "stream",
     "text": [
      "vx_com -2.6627043115681257 vy_com 1.3790684502444266\n",
      "vx_com -11.538385350128545 vy_com 5.975963284392515\n",
      "Number of new plots 2\n",
      "Number of dynamic tracks before run() 3\n",
      "before predict: x=[[2.5749967  0.         0.41182169 0.         0.17948997 0.        ]\n",
      " [0.         2.69502932 0.         0.39726777 0.         0.17711979]\n",
      " [0.41182169 0.         3.74149043 0.         0.92474174 0.        ]\n",
      " [0.         0.39726777 0.         3.68972486 0.         0.90970563]\n",
      " [0.17948997 0.         0.92474174 0.         2.6951942  0.        ]\n",
      " [0.         0.17711979 0.         0.90970563 0.         2.69056437]]\n",
      "after predict: x=[[3.15934408 0.         0.71457764 0.         0.25651036 0.        ]\n",
      " [0.         3.2768799  0.         0.69583138 0.         0.25299829]\n",
      " [0.71457764 0.         4.89553121 0.         1.12708345 0.        ]\n",
      " [0.         0.69583138 0.         4.84148187 0.         1.11169975]\n",
      " [0.25651036 0.         1.12708345 0.         2.6951942  0.        ]\n",
      " [0.         0.25299829 0.         1.11169975 0.         2.69056437]]\n",
      "before predict: x=[[1.74646169 0.         0.03263544 0.         0.01329969 0.        ]\n",
      " [0.         1.81829567 0.         0.03249124 0.         0.01335639]\n",
      " [0.03263544 0.         1.40541612 0.         0.2647253  0.        ]\n",
      " [0.         0.03249124 0.         1.40025723 0.         0.26397474]\n",
      " [0.01329969 0.         0.2647253  0.         2.9754804  0.        ]\n",
      " [0.         0.01335639 0.         0.26397474 0.         2.97537128]]\n",
      "after predict: x=[[2.25949379 0.         0.14201314 0.         0.04155923 0.        ]\n",
      " [0.         2.33127705 0.         0.14147953 0.         0.04155927]\n",
      " [0.14201314 0.         2.46193519 0.         0.48810949 0.        ]\n",
      " [0.         0.14147953 0.         2.45666299 0.         0.48735074]\n",
      " [0.04155923 0.         0.48810949 0.         2.9754804  0.        ]\n",
      " [0.         0.04155927 0.         0.48735074 0.         2.97537128]]\n",
      "before predict: x=[[1.11660168 0.         0.00514394 0.         0.0053419  0.        ]\n",
      " [0.         0.90068309 0.         0.00458145 0.         0.0047516 ]\n",
      " [0.00514394 0.         0.36829133 0.         0.06943803 0.        ]\n",
      " [0.         0.00458145 0.         0.36828774 0.         0.06943431]\n",
      " [0.0053419  0.         0.06943803 0.         2.93868417 0.        ]\n",
      " [0.         0.0047516  0.         0.06943431 0.         2.93868033]]\n",
      "after predict: x=[[1.61953265 0.         0.03440325 0.         0.01883655 0.        ]\n",
      " [0.         1.40352625 0.         0.03379614 0.         0.01824596]\n",
      " [0.03440325 0.         1.39528063 0.         0.29005974 0.        ]\n",
      " [0.         0.03379614 0.         1.39527645 0.         0.29005574]\n",
      " [0.01883655 0.         0.29005974 0.         2.93868417 0.        ]\n",
      " [0.         0.01824596 0.         0.29005574 0.         2.93868033]]\n",
      "Updating track = 1 z = [277.46065638 662.25786996  -2.66270431   1.37906845] cov=[[2.30118782 0.         0.         0.        ]\n",
      " [0.         2.37805287 0.         0.        ]\n",
      " [0.         0.         0.5        0.        ]\n",
      " [0.         0.         0.         0.5       ]]\n",
      "Updating track = 2 z = [185.4096088  710.12540755 -11.53838535   5.97596328] cov=[[3.92602106 0.         0.         0.        ]\n",
      " [0.         2.00393152 0.         0.        ]\n",
      " [0.         0.         0.5        0.        ]\n",
      " [0.         0.         0.         0.5       ]]\n",
      "age = 11 hits = 7\n",
      "age = 4 hits = 3\n",
      "age = 4 hits = 4\n"
     ]
    },
    {
     "name": "stderr",
     "output_type": "stream",
     "text": [
      "/home/kfir/workspace/RadarLocalization/dataset.py:261: VisibleDeprecationWarning: Creating an ndarray from ragged nested sequences (which is a list-or-tuple of lists-or-tuples-or ndarrays with different lengths or shapes) is deprecated. If you meant to do this, you must specify 'dtype=object' when creating the ndarray\n",
      "  rot = Quaternion(self.ego.iloc[eidx][\"rotation\"])\n"
     ]
    },
    {
     "name": "stdout",
     "output_type": "stream",
     "text": [
      "vx_com -2.3298244024749257 vy_com 1.2067617103997237\n",
      "vx_com -11.427233974043684 vy_com 5.918878865293884\n",
      "Number of new plots 2\n",
      "Number of dynamic tracks before run() 3\n",
      "before predict: x=[[3.15934408 0.         0.71457764 0.         0.25651036 0.        ]\n",
      " [0.         3.2768799  0.         0.69583138 0.         0.25299829]\n",
      " [0.71457764 0.         4.89553121 0.         1.12708345 0.        ]\n",
      " [0.         0.69583138 0.         4.84148187 0.         1.11169975]\n",
      " [0.25651036 0.         1.12708345 0.         2.6951942  0.        ]\n",
      " [0.         0.25299829 0.         1.11169975 0.         2.69056437]]\n",
      "after predict: x=[[3.97856412 0.         1.50115711 0.         0.44823881 0.        ]\n",
      " [0.         4.08940705 0.         1.47357358 0.         0.44244777]\n",
      " [1.50115711 0.         6.27898811 0.         1.51783001 0.        ]\n",
      " [0.         1.47357358 0.         6.22038084 0.         1.50177508]\n",
      " [0.44823881 0.         1.51783001 0.         2.6951942  0.        ]\n",
      " [0.         0.44244777 0.         1.50177508 0.         2.69056437]]\n",
      "before predict: x=[[1.13833901 0.         0.01211418 0.         0.00917484 0.        ]\n",
      " [0.         1.17548757 0.         0.01209899 0.         0.00922334]\n",
      " [0.01211418 0.         0.41546952 0.         0.08230148 0.        ]\n",
      " [0.         0.01209899 0.         0.41532349 0.         0.08232288]\n",
      " [0.00917484 0.         0.08230148 0.         2.89497044 0.        ]\n",
      " [0.         0.00922334 0.         0.08232288 0.         2.89496986]]\n",
      "after predict: x=[[1.65134772 0.         0.08068445 0.         0.05153139 0.        ]\n",
      " [0.         1.68848989 0.         0.08065579 0.         0.05158299]\n",
      " [0.08068445 0.         1.50018262 0.         0.5020114  0.        ]\n",
      " [0.         0.08065579 0.         1.50004278 0.         0.50203271]\n",
      " [0.05153139 0.         0.5020114  0.         2.89497044 0.        ]\n",
      " [0.         0.05158299 0.         0.50203271 0.         2.89496986]]\n",
      "before predict: x=[[1.14624863 0.         0.00642618 0.         0.00960904 0.        ]\n",
      " [0.         0.82520763 0.         0.00524437 0.         0.00769005]\n",
      " [0.00642618 0.         0.36807856 0.         0.07649937 0.        ]\n",
      " [0.         0.00524437 0.         0.36806979 0.         0.07648648]\n",
      " [0.00960904 0.         0.07649937 0.         2.89425929 0.        ]\n",
      " [0.         0.00769005 0.         0.07648648 0.         2.89423962]]\n",
      "after predict: x=[[1.65660332 0.         0.06800469 0.         0.05111693 0.        ]\n",
      " [0.         1.33517908 0.         0.06654296 0.         0.04919587]\n",
      " [0.06800469 0.         1.45109434 0.         0.49610619 0.        ]\n",
      " [0.         0.06654296 0.         1.45108142 0.         0.49609045]\n",
      " [0.05111693 0.         0.49610619 0.         2.89425929 0.        ]\n",
      " [0.         0.04919587 0.         0.49609045 0.         2.89423962]]\n",
      "Updating track = 2 z = [183.43233156 709.58675678 -11.42723397   5.91887887] cov=[[2.29922618 0.         0.         0.        ]\n",
      " [0.         5.07193602 0.         0.        ]\n",
      " [0.         0.         0.51230858 0.        ]\n",
      " [0.         0.         0.         0.50330221]]\n",
      "Updating track = 1 z = [277.16588813 663.20262107  -2.3298244    1.20676171] cov=[[2.34916922 0.         0.         0.        ]\n",
      " [0.         2.23042009 0.         0.        ]\n",
      " [0.         0.         0.51230858 0.        ]\n",
      " [0.         0.         0.         0.50330221]]\n",
      "age = 12 hits = 7\n",
      "age = 5 hits = 4\n",
      "age = 5 hits = 5\n"
     ]
    },
    {
     "name": "stderr",
     "output_type": "stream",
     "text": [
      "/home/kfir/workspace/RadarLocalization/dataset.py:261: VisibleDeprecationWarning: Creating an ndarray from ragged nested sequences (which is a list-or-tuple of lists-or-tuples-or ndarrays with different lengths or shapes) is deprecated. If you meant to do this, you must specify 'dtype=object' when creating the ndarray\n",
      "  rot = Quaternion(self.ego.iloc[eidx][\"rotation\"])\n"
     ]
    },
    {
     "name": "stdout",
     "output_type": "stream",
     "text": [
      "vx_com -2.218881227953778 vy_com 1.1492989681474262\n",
      "Number of new plots 1\n",
      "Number of dynamic tracks before run() 3\n",
      "before predict: x=[[3.97856412 0.         1.50115711 0.         0.44823881 0.        ]\n",
      " [0.         4.08940705 0.         1.47357358 0.         0.44244777]\n",
      " [1.50115711 0.         6.27898811 0.         1.51783001 0.        ]\n",
      " [0.         1.47357358 0.         6.22038084 0.         1.50177508]\n",
      " [0.44823881 0.         1.51783001 0.         2.6951942  0.        ]\n",
      " [0.         0.44244777 0.         1.50177508 0.         2.69056437]]\n",
      "after predict: x=[[4.74246211 0.         2.01946437 0.         0.5697509  0.        ]\n",
      " [0.         4.84879488 0.         1.98691079 0.         0.56274182]\n",
      " [2.01946437 0.         7.52201229 0.         1.72011781 0.        ]\n",
      " [0.         1.98691079 0.         7.46096893 0.         1.70371539]\n",
      " [0.5697509  0.         1.72011781 0.         2.6951942  0.        ]\n",
      " [0.         0.56274182 0.         1.70371539 0.         2.69056437]]\n",
      "before predict: x=[[0.96858216 0.         0.01207083 0.         0.01845636 0.        ]\n",
      " [0.         0.95993943 0.         0.01154224 0.         0.01786932]\n",
      " [0.01207083 0.         0.38178752 0.         0.12763285 0.        ]\n",
      " [0.         0.01154224 0.         0.37675227 0.         0.1259638 ]\n",
      " [0.01845636 0.         0.12763285 0.         2.76949809 0.        ]\n",
      " [0.         0.01786932 0.         0.1259638  0.         2.76891052]]\n",
      "after predict: x=[[1.47272472 0.         0.04377509 0.         0.03583648 0.        ]\n",
      " [0.         1.46397026 0.         0.04281029 0.         0.03512252]\n",
      " [0.04377509 0.         1.41654777 0.         0.33549753 0.        ]\n",
      " [0.         0.04281029 0.         1.41125867 0.         0.33378438]\n",
      " [0.03583648 0.         0.33549753 0.         2.76949809 0.        ]\n",
      " [0.         0.03512252 0.         0.33378438 0.         2.76891052]]\n",
      "before predict: x=[[0.96206273 0.         0.01031962 0.         0.01973488 0.        ]\n",
      " [0.         1.05552077 0.         0.01357019 0.         0.02558197]\n",
      " [0.01031962 0.         0.37855282 0.         0.12929614 0.        ]\n",
      " [0.         0.01357019 0.         0.37364357 0.         0.12766915]\n",
      " [0.01973488 0.         0.12929614 0.         2.76861355 0.        ]\n",
      " [0.         0.02558197 0.         0.12766915 0.         2.7681517 ]]\n",
      "after predict: x=[[1.4659321  0.         0.04189093 0.         0.03723735 0.        ]\n",
      " [0.         1.55988267 0.         0.04519805 0.         0.04296103]\n",
      " [0.04189093 0.         1.41355776 0.         0.33709443 0.        ]\n",
      " [0.         0.04519805 0.         1.40840168 0.         0.33543277]\n",
      " [0.03723735 0.         0.33709443 0.         2.76861355 0.        ]\n",
      " [0.         0.04296103 0.         0.33543277 0.         2.7681517 ]]\n",
      "Updating track = 1 z = [277.70156263 663.14768319  -2.21888123   1.14929897] cov=[[2.7336618  0.         0.         0.        ]\n",
      " [0.         2.11621227 0.         0.        ]\n",
      " [0.         0.         0.5        0.        ]\n",
      " [0.         0.         0.         0.5       ]]\n",
      "age = 13 hits = 7\n",
      "age = 6 hits = 5\n",
      "age = 6 hits = 5\n"
     ]
    },
    {
     "name": "stderr",
     "output_type": "stream",
     "text": [
      "/home/kfir/workspace/RadarLocalization/dataset.py:261: VisibleDeprecationWarning: Creating an ndarray from ragged nested sequences (which is a list-or-tuple of lists-or-tuples-or ndarrays with different lengths or shapes) is deprecated. If you meant to do this, you must specify 'dtype=object' when creating the ndarray\n",
      "  rot = Quaternion(self.ego.iloc[eidx][\"rotation\"])\n"
     ]
    },
    {
     "name": "stdout",
     "output_type": "stream",
     "text": [
      "Number of new plots 0\n",
      "Number of dynamic tracks before run() 2\n",
      "before predict: x=[[0.95667732 0.         0.00742363 0.         0.01831386 0.        ]\n",
      " [0.         0.86500395 0.         0.00662169 0.         0.01634572]\n",
      " [0.00742363 0.         0.36952611 0.         0.08745002 0.        ]\n",
      " [0.         0.00662169 0.         0.3691611  0.         0.08723406]\n",
      " [0.01831386 0.         0.08745002 0.         2.71057948 0.        ]\n",
      " [0.         0.01634572 0.         0.08723406 0.         2.7104045 ]]\n",
      "after predict: x=[[1.4596626  0.         0.03567579 0.         0.03107351 0.        ]\n",
      " [0.         1.36786547 0.         0.03470894 0.         0.02908982]\n",
      " [0.03567579 0.         1.39504541 0.         0.27716347 0.        ]\n",
      " [0.         0.03470894 0.         1.39464931 0.         0.27693527]\n",
      " [0.03107351 0.         0.27716347 0.         2.71057948 0.        ]\n",
      " [0.         0.02908982 0.         0.27693527 0.         2.7104045 ]]\n",
      "before predict: x=[[1.4659321  0.         0.04189093 0.         0.03723735 0.        ]\n",
      " [0.         1.55988267 0.         0.04519805 0.         0.04296103]\n",
      " [0.04189093 0.         1.41355776 0.         0.33709443 0.        ]\n",
      " [0.         0.04519805 0.         1.40840168 0.         0.33543277]\n",
      " [0.03723735 0.         0.33709443 0.         2.76861355 0.        ]\n",
      " [0.         0.04296103 0.         0.33543277 0.         2.7681517 ]]\n",
      "after predict: x=[[1.97903504 0.         0.14638363 0.         0.06761176 0.        ]\n",
      " [0.         2.07345075 0.         0.14971818 0.         0.073218  ]\n",
      " [0.14638363 0.         2.47430657 0.         0.53086969 0.        ]\n",
      " [0.         0.14971818 0.         2.46891563 0.         0.52917571]\n",
      " [0.06761176 0.         0.53086969 0.         2.76861355 0.        ]\n",
      " [0.         0.073218   0.         0.52917571 0.         2.7681517 ]]\n",
      "age = 7 hits = 5\n",
      "age = 7 hits = 5\n"
     ]
    },
    {
     "name": "stderr",
     "output_type": "stream",
     "text": [
      "/home/kfir/workspace/RadarLocalization/dataset.py:261: VisibleDeprecationWarning: Creating an ndarray from ragged nested sequences (which is a list-or-tuple of lists-or-tuples-or ndarrays with different lengths or shapes) is deprecated. If you meant to do this, you must specify 'dtype=object' when creating the ndarray\n",
      "  rot = Quaternion(self.ego.iloc[eidx][\"rotation\"])\n"
     ]
    },
    {
     "name": "stdout",
     "output_type": "stream",
     "text": [
      "Number of new plots 0\n",
      "Number of dynamic tracks before run() 2\n",
      "before predict: x=[[1.4596626  0.         0.03567579 0.         0.03107351 0.        ]\n",
      " [0.         1.36786547 0.         0.03470894 0.         0.02908982]\n",
      " [0.03567579 0.         1.39504541 0.         0.27716347 0.        ]\n",
      " [0.         0.03470894 0.         1.39464931 0.         0.27693527]\n",
      " [0.03107351 0.         0.27716347 0.         2.71057948 0.        ]\n",
      " [0.         0.02908982 0.         0.27693527 0.         2.7104045 ]]\n",
      "after predict: x=[[1.97318765 0.         0.14561456 0.         0.05950638 0.        ]\n",
      " [0.         1.8812319  0.         0.14446715 0.         0.05750507]\n",
      " [0.14561456 0.         2.45191115 0.         0.48058162 0.        ]\n",
      " [0.         0.14446715 0.         2.45147982 0.         0.48034029]\n",
      " [0.05950638 0.         0.48058162 0.         2.71057948 0.        ]\n",
      " [0.         0.05750507 0.         0.48034029 0.         2.7104045 ]]\n",
      "before predict: x=[[1.97903504 0.         0.14638363 0.         0.06761176 0.        ]\n",
      " [0.         2.07345075 0.         0.14971818 0.         0.073218  ]\n",
      " [0.14638363 0.         2.47430657 0.         0.53086969 0.        ]\n",
      " [0.         0.14971818 0.         2.46891563 0.         0.52917571]\n",
      " [0.06761176 0.         0.53086969 0.         2.76861355 0.        ]\n",
      " [0.         0.073218   0.         0.52917571 0.         2.7681517 ]]\n",
      "after predict: x=[[2.51556821 0.         0.34221422 0.         0.11524768 0.        ]\n",
      " [0.         2.6104849  0.         0.34555053 0.         0.1207255 ]\n",
      " [0.34221422 0.         3.56957842 0.         0.73864307 0.        ]\n",
      " [0.         0.34555053 0.         3.56393063 0.         0.73691442]\n",
      " [0.11524768 0.         0.73864307 0.         2.76861355 0.        ]\n",
      " [0.         0.1207255  0.         0.73691442 0.         2.7681517 ]]\n",
      "age = 8 hits = 5\n",
      "age = 8 hits = 5\n"
     ]
    },
    {
     "name": "stderr",
     "output_type": "stream",
     "text": [
      "/home/kfir/workspace/RadarLocalization/dataset.py:261: VisibleDeprecationWarning: Creating an ndarray from ragged nested sequences (which is a list-or-tuple of lists-or-tuples-or ndarrays with different lengths or shapes) is deprecated. If you meant to do this, you must specify 'dtype=object' when creating the ndarray\n",
      "  rot = Quaternion(self.ego.iloc[eidx][\"rotation\"])\n"
     ]
    },
    {
     "name": "stdout",
     "output_type": "stream",
     "text": [
      "vx_com -2.551642761124083 vy_com 1.3218322658453419\n",
      "Number of new plots 1\n",
      "Number of dynamic tracks before run() 2\n",
      "before predict: x=[[1.97318765 0.         0.14561456 0.         0.05950638 0.        ]\n",
      " [0.         1.8812319  0.         0.14446715 0.         0.05750507]\n",
      " [0.14561456 0.         2.45191115 0.         0.48058162 0.        ]\n",
      " [0.         0.14446715 0.         2.45147982 0.         0.48034029]\n",
      " [0.05950638 0.         0.48058162 0.         2.71057948 0.        ]\n",
      " [0.         0.05750507 0.         0.48034029 0.         2.7104045 ]]\n",
      "after predict: x=[[2.50937736 0.         0.33858433 0.         0.10317009 0.        ]\n",
      " [0.         2.41723572 0.         0.33725242 0.         0.10115019]\n",
      " [0.33858433 0.         3.53923856 0.         0.68386153 0.        ]\n",
      " [0.         0.33725242 0.         3.53877005 0.         0.68360707]\n",
      " [0.10317009 0.         0.68386153 0.         2.71057948 0.        ]\n",
      " [0.         0.10115019 0.         0.68360707 0.         2.7104045 ]]\n",
      "before predict: x=[[2.51556821 0.         0.34221422 0.         0.11524768 0.        ]\n",
      " [0.         2.6104849  0.         0.34555053 0.         0.1207255 ]\n",
      " [0.34221422 0.         3.56957842 0.         0.73864307 0.        ]\n",
      " [0.         0.34555053 0.         3.56393063 0.         0.73691442]\n",
      " [0.11524768 0.         0.73864307 0.         2.76861355 0.        ]\n",
      " [0.         0.1207255  0.         0.73691442 0.         2.7681517 ]]\n",
      "after predict: x=[[3.08795476 0.         0.62537312 0.         0.17842791 0.        ]\n",
      " [0.         3.18337017 0.         0.62868199 0.         0.18377479]\n",
      " [0.62537312 0.         4.69593887 0.         0.94627524 0.        ]\n",
      " [0.         0.62868199 0.         4.6900292  0.         0.94451196]\n",
      " [0.17842791 0.         0.94627524 0.         2.76861355 0.        ]\n",
      " [0.         0.18377479 0.         0.94451196 0.         2.7681517 ]]\n",
      "Initiating new track: x=[284.57962695 671.72761629  -2.55164276   1.32183227   0.\n",
      "   0.        ]\n",
      "age = 9 hits = 5\n",
      "age = 9 hits = 5\n",
      "age = 1 hits = 1\n"
     ]
    },
    {
     "name": "stderr",
     "output_type": "stream",
     "text": [
      "/home/kfir/workspace/RadarLocalization/dataset.py:261: VisibleDeprecationWarning: Creating an ndarray from ragged nested sequences (which is a list-or-tuple of lists-or-tuples-or ndarrays with different lengths or shapes) is deprecated. If you meant to do this, you must specify 'dtype=object' when creating the ndarray\n",
      "  rot = Quaternion(self.ego.iloc[eidx][\"rotation\"])\n"
     ]
    },
    {
     "name": "stdout",
     "output_type": "stream",
     "text": [
      "vx_com -3.6611015642156413 vy_com 1.8964357488350307\n",
      "vx_com -2.7735617910724555 vy_com 1.4366937491174476\n",
      "Number of new plots 2\n",
      "Number of dynamic tracks before run() 3\n",
      "before predict: x=[[2.50937736 0.         0.33858433 0.         0.10317009 0.        ]\n",
      " [0.         2.41723572 0.         0.33725242 0.         0.10115019]\n",
      " [0.33858433 0.         3.53923856 0.         0.68386153 0.        ]\n",
      " [0.         0.33725242 0.         3.53877005 0.         0.68360707]\n",
      " [0.10317009 0.         0.68386153 0.         2.71057948 0.        ]\n",
      " [0.         0.10115019 0.         0.68360707 0.         2.7104045 ]]\n",
      "after predict: x=[[3.07491974 0.         0.59917739 0.         0.15771189 0.        ]\n",
      " [0.         2.98257925 0.         0.5976693  0.         0.15567374]\n",
      " [0.59917739 0.         4.64832217 0.         0.87369696 0.        ]\n",
      " [0.         0.5976693  0.         4.64781716 0.         0.87343025]\n",
      " [0.15771189 0.         0.87369696 0.         2.71057948 0.        ]\n",
      " [0.         0.15567374 0.         0.87343025 0.         2.7104045 ]]\n",
      "before predict: x=[[3.08795476 0.         0.62537312 0.         0.17842791 0.        ]\n",
      " [0.         3.18337017 0.         0.62868199 0.         0.18377479]\n",
      " [0.62537312 0.         4.69593887 0.         0.94627524 0.        ]\n",
      " [0.         0.62868199 0.         4.6900292  0.         0.94451196]\n",
      " [0.17842791 0.         0.94627524 0.         2.76861355 0.        ]\n",
      " [0.         0.18377479 0.         0.94451196 0.         2.7681517 ]]\n",
      "after predict: x=[[3.69980077 0.         0.974187   0.         0.25149018 0.        ]\n",
      " [0.         3.79567628 0.         0.97744341 0.         0.25671244]\n",
      " [0.974187   0.         5.84206342 0.         1.14017509 0.        ]\n",
      " [0.         0.97744341 0.         5.83590451 0.         1.13837946]\n",
      " [0.25149018 0.         1.14017509 0.         2.76861355 0.        ]\n",
      " [0.         0.25671244 0.         1.13837946 0.         2.7681517 ]]\n",
      "before predict: x=[[2.  0.  0.  0.  0.  0. ]\n",
      " [0.  2.  0.  0.  0.  0. ]\n",
      " [0.  0.  0.5 0.  0.  0. ]\n",
      " [0.  0.  0.  0.5 0.  0. ]\n",
      " [0.  0.  0.  0.  3.  0. ]\n",
      " [0.  0.  0.  0.  0.  3. ]]\n",
      "after predict: x=[[2.50247049 0.         0.03553277 0.         0.00735735 0.        ]\n",
      " [0.         2.50247049 0.         0.03553277 0.         0.00735735]\n",
      " [0.03553277 0.         1.5147147  0.         0.210105   0.        ]\n",
      " [0.         0.03553277 0.         1.5147147  0.         0.210105  ]\n",
      " [0.00735735 0.         0.210105   0.         3.         0.        ]\n",
      " [0.         0.00735735 0.         0.210105   0.         3.        ]]\n",
      "Updating track = 2 z = [284.76447942 670.89693587  -2.77356179   1.43669375] cov=[[2.02672415 0.         0.         0.        ]\n",
      " [0.         2.32736074 0.         0.        ]\n",
      " [0.         0.         0.56154116 0.        ]\n",
      " [0.         0.         0.         0.51651271]]\n",
      "Initiating new track: x=[289.01862922 679.10153812  -3.66110156   1.89643575   0.\n",
      "   0.        ]\n",
      "age = 10 hits = 5\n",
      "age = 10 hits = 5\n",
      "age = 2 hits = 2\n",
      "age = 1 hits = 1\n"
     ]
    },
    {
     "name": "stderr",
     "output_type": "stream",
     "text": [
      "/home/kfir/workspace/RadarLocalization/dataset.py:261: VisibleDeprecationWarning: Creating an ndarray from ragged nested sequences (which is a list-or-tuple of lists-or-tuples-or ndarrays with different lengths or shapes) is deprecated. If you meant to do this, you must specify 'dtype=object' when creating the ndarray\n",
      "  rot = Quaternion(self.ego.iloc[eidx][\"rotation\"])\n"
     ]
    },
    {
     "name": "stdout",
     "output_type": "stream",
     "text": [
      "vx_com -2.070983576951276 vy_com 1.0726266093025945\n",
      "Number of new plots 1\n",
      "Number of dynamic tracks before run() 4\n",
      "before predict: x=[[3.07491974 0.         0.59917739 0.         0.15771189 0.        ]\n",
      " [0.         2.98257925 0.         0.5976693  0.         0.15567374]\n",
      " [0.59917739 0.         4.64832217 0.         0.87369696 0.        ]\n",
      " [0.         0.5976693  0.         4.64781716 0.         0.87343025]\n",
      " [0.15771189 0.         0.87369696 0.         2.71057948 0.        ]\n",
      " [0.         0.15567374 0.         0.87343025 0.         2.7104045 ]]\n",
      "after predict: x=[[3.86624677 0.         1.35442958 0.         0.31932959 0.        ]\n",
      " [0.         3.77339551 0.         1.35253057 0.         0.31724946]\n",
      " [1.35442958 0.         5.97155758 0.         1.28043026 0.        ]\n",
      " [0.         1.35253057 0.         5.97096858 0.         1.28013729]\n",
      " [0.31932959 0.         1.28043026 0.         2.71057948 0.        ]\n",
      " [0.         0.31724946 0.         1.28013729 0.         2.7104045 ]]\n",
      "before predict: x=[[3.69980077 0.         0.974187   0.         0.25149018 0.        ]\n",
      " [0.         3.79567628 0.         0.97744341 0.         0.25671244]\n",
      " [0.974187   0.         5.84206342 0.         1.14017509 0.        ]\n",
      " [0.         0.97744341 0.         5.83590451 0.         1.13837946]\n",
      " [0.25149018 0.         1.14017509 0.         2.76861355 0.        ]\n",
      " [0.         0.25671244 0.         1.13837946 0.         2.7681517 ]]\n",
      "after predict: x=[[4.63356892 0.         1.9317348  0.         0.45374735 0.        ]\n",
      " [0.         4.7303945  0.         1.93478923 0.         0.45869496]\n",
      " [1.9317348  0.         7.24657775 0.         1.55561663 0.        ]\n",
      " [0.         1.93478923 0.         7.23986955 0.         1.5537517 ]\n",
      " [0.45374735 0.         1.55561663 0.         2.76861355 0.        ]\n",
      " [0.         0.45869496 0.         1.5537517  0.         2.7681517 ]]\n",
      "before predict: x=[[1.11968379e+00 0.00000000e+00 4.30092416e-03 0.00000000e+00\n",
      "  1.68348582e-03 0.00000000e+00]\n",
      " [0.00000000e+00 1.20572627e+00 0.00000000e+00 4.35450907e-03\n",
      "  0.00000000e+00 1.77444864e-03]\n",
      " [4.30092416e-03 0.00000000e+00 4.09647156e-01 0.00000000e+00\n",
      "  5.68167120e-02 0.00000000e+00]\n",
      " [0.00000000e+00 4.35450907e-03 0.00000000e+00 3.85153850e-01\n",
      "  0.00000000e+00 5.34198729e-02]\n",
      " [1.68348582e-03 0.00000000e+00 5.68167120e-02 0.00000000e+00\n",
      "  2.97873547e+00 0.00000000e+00]\n",
      " [0.00000000e+00 1.77444864e-03 0.00000000e+00 5.34198729e-02\n",
      "  0.00000000e+00 2.97826447e+00]]\n",
      "after predict: x=[[1.63080564 0.         0.07297372 0.         0.04374397 0.        ]\n",
      " [0.         1.71630321 0.         0.06925012 0.         0.04331992]\n",
      " [0.07297372 0.         1.49376812 0.         0.50378788 0.        ]\n",
      " [0.         0.06925012 0.         1.46824479 0.         0.50032037]\n",
      " [0.04374397 0.         0.50378788 0.         2.97873547 0.        ]\n",
      " [0.         0.04331992 0.         0.50032037 0.         2.97826447]]\n",
      "before predict: x=[[2.  0.  0.  0.  0.  0. ]\n",
      " [0.  2.  0.  0.  0.  0. ]\n",
      " [0.  0.  0.5 0.  0.  0. ]\n",
      " [0.  0.  0.  0.5 0.  0. ]\n",
      " [0.  0.  0.  0.  3.  0. ]\n",
      " [0.  0.  0.  0.  0.  3. ]]\n",
      "after predict: x=[[2.51163834 0.         0.08009497 0.         0.0337743  0.        ]\n",
      " [0.         2.51163834 0.         0.08009497 0.         0.0337743 ]\n",
      " [0.08009497 0.         1.56754861 0.         0.450162   0.        ]\n",
      " [0.         0.08009497 0.         1.56754861 0.         0.450162  ]\n",
      " [0.0337743  0.         0.450162   0.         3.         0.        ]\n",
      " [0.         0.0337743  0.         0.450162   0.         3.        ]]\n",
      "Updating track = 0 z = [276.77446947 662.24149738  -2.07098358   1.07262661] cov=[[3.44657882 0.         0.         0.        ]\n",
      " [0.         3.49265196 0.         0.        ]\n",
      " [0.         0.         0.51094126 0.        ]\n",
      " [0.         0.         0.         0.50293502]]\n",
      "age = 11 hits = 6\n",
      "age = 11 hits = 5\n",
      "age = 3 hits = 2\n",
      "age = 2 hits = 1\n"
     ]
    },
    {
     "name": "stderr",
     "output_type": "stream",
     "text": [
      "/home/kfir/workspace/RadarLocalization/dataset.py:261: VisibleDeprecationWarning: Creating an ndarray from ragged nested sequences (which is a list-or-tuple of lists-or-tuples-or ndarrays with different lengths or shapes) is deprecated. If you meant to do this, you must specify 'dtype=object' when creating the ndarray\n",
      "  rot = Quaternion(self.ego.iloc[eidx][\"rotation\"])\n"
     ]
    },
    {
     "name": "stdout",
     "output_type": "stream",
     "text": [
      "vx_com -1.9970392315434105 vy_com 1.0342727805202105\n",
      "Number of new plots 1\n",
      "Number of dynamic tracks before run() 3\n",
      "before predict: x=[[1.75679466 0.         0.05233931 0.         0.02539702 0.        ]\n",
      " [0.         1.74586894 0.         0.05255044 0.         0.02490784]\n",
      " [0.05233931 0.         0.46904845 0.         0.10013503 0.        ]\n",
      " [0.         0.05255044 0.         0.46228282 0.         0.09870008]\n",
      " [0.02539702 0.         0.10013503 0.         2.45728579 0.        ]\n",
      " [0.         0.02490784 0.         0.09870008 0.         2.45691744]]\n",
      "after predict: x=[[2.26660162 0.         0.08813085 0.         0.03843852 0.        ]\n",
      " [0.         2.25566939 0.         0.08782321 0.         0.03784794]\n",
      " [0.08813085 0.         1.49513146 0.         0.2722507  0.        ]\n",
      " [0.         0.08782321 0.         1.48816301 0.         0.27078994]\n",
      " [0.03843852 0.         0.2722507  0.         2.45728579 0.        ]\n",
      " [0.         0.03784794 0.         0.27078994 0.         2.45691744]]\n",
      "before predict: x=[[1.63080564 0.         0.07297372 0.         0.04374397 0.        ]\n",
      " [0.         1.71630321 0.         0.06925012 0.         0.04331992]\n",
      " [0.07297372 0.         1.49376812 0.         0.50378788 0.        ]\n",
      " [0.         0.06925012 0.         1.46824479 0.         0.50032037]\n",
      " [0.04374397 0.         0.50378788 0.         2.97873547 0.        ]\n",
      " [0.         0.04331992 0.         0.50032037 0.         2.97826447]]\n",
      "after predict: x=[[2.14876234 0.         0.18488487 0.         0.08633765 0.        ]\n",
      " [0.         2.2336098  0.         0.17931823 0.         0.08566957]\n",
      " [0.18488487 0.         2.57895549 0.         0.71242745 0.        ]\n",
      " [0.         0.17931823 0.         2.5529441  0.         0.70892695]\n",
      " [0.08633765 0.         0.71242745 0.         2.97873547 0.        ]\n",
      " [0.         0.08566957 0.         0.70892695 0.         2.97826447]]\n",
      "before predict: x=[[2.51163834 0.         0.08009497 0.         0.0337743  0.        ]\n",
      " [0.         2.51163834 0.         0.08009497 0.         0.0337743 ]\n",
      " [0.08009497 0.         1.56754861 0.         0.450162   0.        ]\n",
      " [0.         0.08009497 0.         1.56754861 0.         0.450162  ]\n",
      " [0.0337743  0.         0.450162   0.         3.         0.        ]\n",
      " [0.         0.0337743  0.         0.450162   0.         3.        ]]\n",
      "after predict: x=[[3.03088739 0.         0.19608464 0.         0.07266403 0.        ]\n",
      " [0.         3.03088739 0.         0.19608464 0.         0.07266403]\n",
      " [0.19608464 0.         2.64532807 0.         0.660291   0.        ]\n",
      " [0.         0.19608464 0.         2.64532807 0.         0.660291  ]\n",
      " [0.07266403 0.         0.660291   0.         3.         0.        ]\n",
      " [0.         0.07266403 0.         0.660291   0.         3.        ]]\n",
      "Updating track = 0 z = [277.785983   662.87659783  -1.99703923   1.03427278] cov=[[2.16761644 0.         0.         0.        ]\n",
      " [0.         2.12216086 0.         0.        ]\n",
      " [0.         0.         0.5        0.        ]\n",
      " [0.         0.         0.         0.5       ]]\n",
      "age = 12 hits = 7\n",
      "age = 4 hits = 2\n",
      "age = 3 hits = 1\n"
     ]
    },
    {
     "name": "stderr",
     "output_type": "stream",
     "text": [
      "/home/kfir/workspace/RadarLocalization/dataset.py:261: VisibleDeprecationWarning: Creating an ndarray from ragged nested sequences (which is a list-or-tuple of lists-or-tuples-or ndarrays with different lengths or shapes) is deprecated. If you meant to do this, you must specify 'dtype=object' when creating the ndarray\n",
      "  rot = Quaternion(self.ego.iloc[eidx][\"rotation\"])\n"
     ]
    },
    {
     "name": "stdout",
     "output_type": "stream",
     "text": [
      "vx_com -2.1080136032088967 vy_com 1.0916766646404161\n",
      "Number of new plots 1\n",
      "Number of dynamic tracks before run() 3\n",
      "before predict: x=[[1.107071   0.         0.01080621 0.         0.01292275 0.        ]\n",
      " [0.         1.09252727 0.         0.01071598 0.         0.01255957]\n",
      " [0.01080621 0.         0.37458487 0.         0.06809709 0.        ]\n",
      " [0.         0.01071598 0.         0.37414426 0.         0.06796982]\n",
      " [0.01292275 0.         0.06809709 0.         2.41997767 0.        ]\n",
      " [0.         0.01255957 0.         0.06796982 0.         2.41988235]]\n",
      "after predict: x=[[1.61092101 0.         0.04096193 0.         0.02484071 0.        ]\n",
      " [0.         1.59635916 0.         0.04081031 0.         0.02446772]\n",
      " [0.04096193 0.         1.39842079 0.         0.24963897 0.        ]\n",
      " [0.         0.04081031 0.         1.39796055 0.         0.24950456]\n",
      " [0.02484071 0.         0.24963897 0.         2.41997767 0.        ]\n",
      " [0.         0.02446772 0.         0.24950456 0.         2.41988235]]\n",
      "before predict: x=[[2.14876234 0.         0.18488487 0.         0.08633765 0.        ]\n",
      " [0.         2.2336098  0.         0.17931823 0.         0.08566957]\n",
      " [0.18488487 0.         2.57895549 0.         0.71242745 0.        ]\n",
      " [0.         0.17931823 0.         2.5529441  0.         0.70892695]\n",
      " [0.08633765 0.         0.71242745 0.         2.97873547 0.        ]\n",
      " [0.         0.08566957 0.         0.70892695 0.         2.97826447]]\n",
      "after predict: x=[[2.69182556 0.         0.3914726  0.         0.14816425 0.        ]\n",
      " [0.         2.7756862  0.         0.38387488 0.         0.14723224]\n",
      " [0.3914726  0.         3.70260868 0.         0.93588623 0.        ]\n",
      " [0.         0.38387488 0.         3.67606944 0.         0.93235039]\n",
      " [0.14816425 0.         0.93588623 0.         2.97873547 0.        ]\n",
      " [0.         0.14723224 0.         0.93235039 0.         2.97826447]]\n",
      "before predict: x=[[3.03088739 0.         0.19608464 0.         0.07266403 0.        ]\n",
      " [0.         3.03088739 0.         0.19608464 0.         0.07266403]\n",
      " [0.19608464 0.         2.64532807 0.         0.660291   0.        ]\n",
      " [0.         0.19608464 0.         2.64532807 0.         0.660291  ]\n",
      " [0.07266403 0.         0.660291   0.         3.         0.        ]\n",
      " [0.         0.07266403 0.         0.660291   0.         3.        ]]\n",
      "after predict: x=[[3.5759057  0.         0.40619012 0.         0.13063929 0.        ]\n",
      " [0.         3.5759057  0.         0.40619012 0.         0.13063929]\n",
      " [0.40619012 0.         3.76127859 0.         0.885345   0.        ]\n",
      " [0.         0.40619012 0.         3.76127859 0.         0.885345  ]\n",
      " [0.13063929 0.         0.885345   0.         3.         0.        ]\n",
      " [0.         0.13063929 0.         0.885345   0.         3.        ]]\n",
      "Updating track = 0 z = [276.11517988 662.05909241  -2.1080136    1.09167666] cov=[[2.2199438  0.         0.         0.        ]\n",
      " [0.         3.22719643 0.         0.        ]\n",
      " [0.         0.         0.51230948 0.        ]\n",
      " [0.         0.         0.         0.50330127]]\n",
      "age = 13 hits = 8\n",
      "age = 5 hits = 2\n",
      "age = 4 hits = 1\n"
     ]
    },
    {
     "name": "stderr",
     "output_type": "stream",
     "text": [
      "/home/kfir/workspace/RadarLocalization/dataset.py:261: VisibleDeprecationWarning: Creating an ndarray from ragged nested sequences (which is a list-or-tuple of lists-or-tuples-or ndarrays with different lengths or shapes) is deprecated. If you meant to do this, you must specify 'dtype=object' when creating the ndarray\n",
      "  rot = Quaternion(self.ego.iloc[eidx][\"rotation\"])\n"
     ]
    },
    {
     "name": "stdout",
     "output_type": "stream",
     "text": [
      "Number of new plots 0\n",
      "Number of dynamic tracks before run() 3\n",
      "before predict: x=[[0.93321596 0.         0.00636588 0.         0.01129624 0.        ]\n",
      " [0.         1.06765077 0.         0.00722924 0.         0.01278928]\n",
      " [0.00636588 0.         0.37491637 0.         0.0668779  0.        ]\n",
      " [0.         0.00722924 0.         0.37004336 0.         0.06600593]\n",
      " [0.01129624 0.         0.0668779  0.         2.38726289 0.        ]\n",
      " [0.         0.01278928 0.         0.06600593 0.         2.38706387]]\n",
      "after predict: x=[[1.43603621 0.         0.03429755 0.         0.02182415 0.        ]\n",
      " [0.         1.57057501 0.         0.03491791 0.         0.02325568]\n",
      " [0.03429755 0.         1.39597218 0.         0.23396243 0.        ]\n",
      " [0.         0.03491791 0.         1.39097614 0.         0.23307653]\n",
      " [0.02182415 0.         0.23396243 0.         2.38726289 0.        ]\n",
      " [0.         0.02325568 0.         0.23307653 0.         2.38706387]]\n",
      "before predict: x=[[2.69182556 0.         0.3914726  0.         0.14816425 0.        ]\n",
      " [0.         2.7756862  0.         0.38387488 0.         0.14723224]\n",
      " [0.3914726  0.         3.70260868 0.         0.93588623 0.        ]\n",
      " [0.         0.38387488 0.         3.67606944 0.         0.93235039]\n",
      " [0.14816425 0.         0.93588623 0.         2.97873547 0.        ]\n",
      " [0.         0.14723224 0.         0.93235039 0.         2.97826447]]\n",
      "after predict: x=[[3.26582603 0.         0.66837563 0.         0.22096274 0.        ]\n",
      " [0.         3.34848735 0.         0.65882913 0.         0.21978211]\n",
      " [0.66837563 0.         4.84820567 0.         1.14436793 0.        ]\n",
      " [0.         0.65882913 0.         4.82116918 0.         1.14079912]\n",
      " [0.22096274 0.         1.14436793 0.         2.97873547 0.        ]\n",
      " [0.         0.21978211 0.         1.14079912 0.         2.97826447]]\n",
      "before predict: x=[[3.5759057  0.         0.40619012 0.         0.13063929 0.        ]\n",
      " [0.         3.5759057  0.         0.40619012 0.         0.13063929]\n",
      " [0.40619012 0.         3.76127859 0.         0.885345   0.        ]\n",
      " [0.         0.40619012 0.         3.76127859 0.         0.885345  ]\n",
      " [0.13063929 0.         0.885345   0.         3.         0.        ]\n",
      " [0.         0.13063929 0.         0.885345   0.         3.        ]]\n",
      "after predict: x=[[4.15215068 0.         0.68560515 0.         0.19995249 0.        ]\n",
      " [0.         4.15215068 0.         0.68560515 0.         0.19995249]\n",
      " [0.68560515 0.         4.89990498 0.         1.095315   0.        ]\n",
      " [0.         0.68560515 0.         4.89990498 0.         1.095315  ]\n",
      " [0.19995249 0.         1.095315   0.         3.         0.        ]\n",
      " [0.         0.19995249 0.         1.095315   0.         3.        ]]\n",
      "age = 14 hits = 8\n",
      "age = 6 hits = 2\n",
      "age = 5 hits = 1\n"
     ]
    },
    {
     "name": "stderr",
     "output_type": "stream",
     "text": [
      "/home/kfir/workspace/RadarLocalization/dataset.py:261: VisibleDeprecationWarning: Creating an ndarray from ragged nested sequences (which is a list-or-tuple of lists-or-tuples-or ndarrays with different lengths or shapes) is deprecated. If you meant to do this, you must specify 'dtype=object' when creating the ndarray\n",
      "  rot = Quaternion(self.ego.iloc[eidx][\"rotation\"])\n"
     ]
    },
    {
     "name": "stdout",
     "output_type": "stream",
     "text": [
      "Number of new plots 0\n",
      "Number of dynamic tracks before run() 3\n",
      "before predict: x=[[1.43603621 0.         0.03429755 0.         0.02182415 0.        ]\n",
      " [0.         1.57057501 0.         0.03491791 0.         0.02325568]\n",
      " [0.03429755 0.         1.39597218 0.         0.23396243 0.        ]\n",
      " [0.         0.03491791 0.         1.39097614 0.         0.23307653]\n",
      " [0.02182415 0.         0.23396243 0.         2.38726289 0.        ]\n",
      " [0.         0.02325568 0.         0.23307653 0.         2.38706387]]\n",
      "after predict: x=[[1.94928126 0.         0.14315014 0.         0.04609666 0.        ]\n",
      " [0.         2.08389271 0.         0.14349555 0.         0.04746116]\n",
      " [0.14315014 0.         2.4445172  0.         0.4130716  0.        ]\n",
      " [0.         0.14349555 0.         2.43938711 0.         0.41217078]\n",
      " [0.04609666 0.         0.4130716  0.         2.38726289 0.        ]\n",
      " [0.         0.04746116 0.         0.41217078 0.         2.38706387]]\n",
      "before predict: x=[[3.26582603 0.         0.66837563 0.         0.22096274 0.        ]\n",
      " [0.         3.34848735 0.         0.65882913 0.         0.21978211]\n",
      " [0.66837563 0.         4.84820567 0.         1.14436793 0.        ]\n",
      " [0.         0.65882913 0.         4.82116918 0.         1.14079912]\n",
      " [0.22096274 0.         1.14436793 0.         2.97873547 0.        ]\n",
      " [0.         0.21978211 0.         1.14079912 0.         2.97826447]]\n",
      "after predict: x=[[3.89515997 0.         1.0589917  0.         0.31520496 0.        ]\n",
      " [0.         3.97622846 0.         1.04729792 0.         0.31375525]\n",
      " [1.0589917  0.         6.03669011 0.         1.36785351 0.        ]\n",
      " [0.         1.04729792 0.         6.00911545 0.         1.36424937]\n",
      " [0.31520496 0.         1.36785351 0.         2.97873547 0.        ]\n",
      " [0.         0.31375525 0.         1.36424937 0.         2.97826447]]\n",
      "before predict: x=[[4.15215068 0.         0.68560515 0.         0.19995249 0.        ]\n",
      " [0.         4.15215068 0.         0.68560515 0.         0.19995249]\n",
      " [0.68560515 0.         4.89990498 0.         1.095315   0.        ]\n",
      " [0.         0.68560515 0.         4.89990498 0.         1.095315  ]\n",
      " [0.19995249 0.         1.095315   0.         3.         0.        ]\n",
      " [0.         0.19995249 0.         1.095315   0.         3.        ]]\n",
      "after predict: x=[[4.78422219 0.         1.07811403 0.         0.29057427 0.        ]\n",
      " [0.         4.78422219 0.         1.07811403 0.         0.29057427]\n",
      " [1.07811403 0.         6.08114853 0.         1.320396   0.        ]\n",
      " [0.         1.07811403 0.         6.08114853 0.         1.320396  ]\n",
      " [0.29057427 0.         1.320396   0.         3.         0.        ]\n",
      " [0.         0.29057427 0.         1.320396   0.         3.        ]]\n",
      "age = 15 hits = 8\n",
      "age = 7 hits = 2\n",
      "age = 6 hits = 1\n"
     ]
    },
    {
     "name": "stderr",
     "output_type": "stream",
     "text": [
      "/home/kfir/workspace/RadarLocalization/dataset.py:261: VisibleDeprecationWarning: Creating an ndarray from ragged nested sequences (which is a list-or-tuple of lists-or-tuples-or ndarrays with different lengths or shapes) is deprecated. If you meant to do this, you must specify 'dtype=object' when creating the ndarray\n",
      "  rot = Quaternion(self.ego.iloc[eidx][\"rotation\"])\n"
     ]
    },
    {
     "name": "stdout",
     "output_type": "stream",
     "text": [
      "vx_com -4.881676790010524 vy_com 2.52813348793029\n",
      "Number of new plots 1\n",
      "Number of dynamic tracks before run() 3\n",
      "before predict: x=[[1.94928126 0.         0.14315014 0.         0.04609666 0.        ]\n",
      " [0.         2.08389271 0.         0.14349555 0.         0.04746116]\n",
      " [0.14315014 0.         2.4445172  0.         0.4130716  0.        ]\n",
      " [0.         0.14349555 0.         2.43938711 0.         0.41217078]\n",
      " [0.04609666 0.         0.4130716  0.         2.38726289 0.        ]\n",
      " [0.         0.04746116 0.         0.41217078 0.         2.38706387]]\n",
      "after predict: x=[[2.48499204 0.         0.33407303 0.         0.08382259 0.        ]\n",
      " [0.         2.61963374 0.         0.33412817 0.         0.08511892]\n",
      " [0.33407303 0.         3.51996907 0.         0.59224285 0.        ]\n",
      " [0.         0.33412817 0.         3.51470263 0.         0.59132708]\n",
      " [0.08382259 0.         0.59224285 0.         2.38726289 0.        ]\n",
      " [0.         0.08511892 0.         0.59132708 0.         2.38706387]]\n",
      "before predict: x=[[3.89515997 0.         1.0589917  0.         0.31520496 0.        ]\n",
      " [0.         3.97622846 0.         1.04729792 0.         0.31375525]\n",
      " [1.0589917  0.         6.03669011 0.         1.36785351 0.        ]\n",
      " [0.         1.04729792 0.         6.00911545 0.         1.36424937]\n",
      " [0.31520496 0.         1.36785351 0.         2.97873547 0.        ]\n",
      " [0.         0.31375525 0.         1.36424937 0.         2.97826447]]\n",
      "after predict: x=[[4.59050282 0.         1.54790772 0.         0.42625601 0.        ]\n",
      " [0.         4.66965098 0.         1.53400502 0.         0.42453447]\n",
      " [1.54790772 0.         7.25879221 0.         1.59141655 0.        ]\n",
      " [0.         1.53400502 0.         7.23067389 0.         1.58777705]\n",
      " [0.42625601 0.         1.59141655 0.         2.97873547 0.        ]\n",
      " [0.         0.42453447 0.         1.58777705 0.         2.97826447]]\n",
      "before predict: x=[[4.78422219 0.         1.07811403 0.         0.29057427 0.        ]\n",
      " [0.         4.78422219 0.         1.07811403 0.         0.29057427]\n",
      " [1.07811403 0.         6.08114853 0.         1.320396   0.        ]\n",
      " [0.         1.07811403 0.         6.08114853 0.         1.320396  ]\n",
      " [0.29057427 0.         1.320396   0.         3.         0.        ]\n",
      " [0.         0.29057427 0.         1.320396   0.         3.        ]]\n",
      "after predict: x=[[5.48252721 0.         1.56812169 0.         0.39812338 0.        ]\n",
      " [0.         5.48252721 0.         1.56812169 0.         0.39812338]\n",
      " [1.56812169 0.         7.29624675 0.         1.545555   0.        ]\n",
      " [0.         1.56812169 0.         7.29624675 0.         1.545555  ]\n",
      " [0.39812338 0.         1.545555   0.         3.         0.        ]\n",
      " [0.         0.39812338 0.         1.545555   0.         3.        ]]\n",
      "Initiating new track: x=[286.14042278 678.35084322  -4.88167679   2.52813349   0.\n",
      "   0.        ]\n",
      "age = 16 hits = 8\n",
      "age = 8 hits = 2\n",
      "age = 7 hits = 1\n",
      "age = 1 hits = 1\n"
     ]
    },
    {
     "name": "stderr",
     "output_type": "stream",
     "text": [
      "/home/kfir/workspace/RadarLocalization/dataset.py:261: VisibleDeprecationWarning: Creating an ndarray from ragged nested sequences (which is a list-or-tuple of lists-or-tuples-or ndarrays with different lengths or shapes) is deprecated. If you meant to do this, you must specify 'dtype=object' when creating the ndarray\n",
      "  rot = Quaternion(self.ego.iloc[eidx][\"rotation\"])\n"
     ]
    },
    {
     "name": "stdout",
     "output_type": "stream",
     "text": [
      "vx_com -3.1064064740241513 vy_com 1.6090241893251183\n",
      "Number of new plots 1\n",
      "Number of dynamic tracks before run() 2\n",
      "before predict: x=[[2.48499204 0.         0.33407303 0.         0.08382259 0.        ]\n",
      " [0.         2.61963374 0.         0.33412817 0.         0.08511892]\n",
      " [0.33407303 0.         3.51996907 0.         0.59224285 0.        ]\n",
      " [0.         0.33412817 0.         3.51470263 0.         0.59132708]\n",
      " [0.08382259 0.         0.59224285 0.         2.38726289 0.        ]\n",
      " [0.         0.08511892 0.         0.59132708 0.         2.38706387]]\n",
      "after predict: x=[[3.15973865 0.         0.87899867 0.         0.19480798 0.        ]\n",
      " [0.         3.29431005 0.         0.87844889 0.         0.19596942]\n",
      " [0.87899867 0.         4.74193985 0.         0.93843177 0.        ]\n",
      " [0.         0.87844889 0.         4.73640363 0.         0.93748715]\n",
      " [0.19480798 0.         0.93843177 0.         2.38726289 0.        ]\n",
      " [0.         0.19596942 0.         0.93748715 0.         2.38706387]]\n",
      "before predict: x=[[2.  0.  0.  0.  0.  0. ]\n",
      " [0.  2.  0.  0.  0.  0. ]\n",
      " [0.  0.  0.5 0.  0.  0. ]\n",
      " [0.  0.  0.  0.5 0.  0. ]\n",
      " [0.  0.  0.  0.  3.  0. ]\n",
      " [0.  0.  0.  0.  0.  3. ]]\n",
      "after predict: x=[[2.51084635 0.         0.07708186 0.         0.03154403 0.        ]\n",
      " [0.         2.51084635 0.         0.07708186 0.         0.03154403]\n",
      " [0.07708186 0.         1.56308805 0.         0.435045   0.        ]\n",
      " [0.         0.07708186 0.         1.56308805 0.         0.435045  ]\n",
      " [0.03154403 0.         0.435045   0.         3.         0.        ]\n",
      " [0.         0.03154403 0.         0.435045   0.         3.        ]]\n",
      "Initiating new track: x=[288.91940799 680.13048102  -3.10640647   1.60902419   0.\n",
      "   0.        ]\n",
      "age = 17 hits = 8\n",
      "age = 2 hits = 1\n",
      "age = 1 hits = 1\n"
     ]
    },
    {
     "name": "stderr",
     "output_type": "stream",
     "text": [
      "/home/kfir/workspace/RadarLocalization/dataset.py:261: VisibleDeprecationWarning: Creating an ndarray from ragged nested sequences (which is a list-or-tuple of lists-or-tuples-or ndarrays with different lengths or shapes) is deprecated. If you meant to do this, you must specify 'dtype=object' when creating the ndarray\n",
      "  rot = Quaternion(self.ego.iloc[eidx][\"rotation\"])\n"
     ]
    },
    {
     "name": "stdout",
     "output_type": "stream",
     "text": [
      "vx_com -3.328283779252096 vy_com 1.7239672344041055\n",
      "Number of new plots 1\n",
      "Number of dynamic tracks before run() 3\n",
      "before predict: x=[[3.15973865 0.         0.87899867 0.         0.19480798 0.        ]\n",
      " [0.         3.29431005 0.         0.87844889 0.         0.19596942]\n",
      " [0.87899867 0.         4.74193985 0.         0.93843177 0.        ]\n",
      " [0.         0.87844889 0.         4.73640363 0.         0.93748715]\n",
      " [0.19480798 0.         0.93843177 0.         2.38726289 0.        ]\n",
      " [0.         0.19596942 0.         0.93748715 0.         2.38706387]]\n",
      "after predict: x=[[3.8074233  0.         1.23208396 0.         0.26639122 0.        ]\n",
      " [0.         3.9418959  0.         1.23122079 0.         0.26748601]\n",
      " [1.23208396 0.         5.88510633 0.         1.10563567 0.        ]\n",
      " [0.         1.23122079 0.         5.87943681 0.         1.1046771 ]\n",
      " [0.26639122 0.         1.10563567 0.         2.38726289 0.        ]\n",
      " [0.         0.26748601 0.         1.1046771  0.         2.38706387]]\n",
      "before predict: x=[[2.51084635 0.         0.07708186 0.         0.03154403 0.        ]\n",
      " [0.         2.51084635 0.         0.07708186 0.         0.03154403]\n",
      " [0.07708186 0.         1.56308805 0.         0.435045   0.        ]\n",
      " [0.         0.07708186 0.         1.56308805 0.         0.435045  ]\n",
      " [0.03154403 0.         0.435045   0.         3.         0.        ]\n",
      " [0.         0.03154403 0.         0.435045   0.         3.        ]]\n",
      "after predict: x=[[3.02963413 0.         0.19248651 0.         0.06937298 0.        ]\n",
      " [0.         3.02963413 0.         0.19248651 0.         0.06937298]\n",
      " [0.19248651 0.         2.63874596 0.         0.645165   0.        ]\n",
      " [0.         0.19248651 0.         2.63874596 0.         0.645165  ]\n",
      " [0.06937298 0.         0.645165   0.         3.         0.        ]\n",
      " [0.         0.06937298 0.         0.645165   0.         3.        ]]\n",
      "before predict: x=[[2.  0.  0.  0.  0.  0. ]\n",
      " [0.  2.  0.  0.  0.  0. ]\n",
      " [0.  0.  0.5 0.  0.  0. ]\n",
      " [0.  0.  0.  0.5 0.  0. ]\n",
      " [0.  0.  0.  0.  3.  0. ]\n",
      " [0.  0.  0.  0.  0.  3. ]]\n",
      "after predict: x=[[2.50247085 0.         0.03553538 0.         0.0073584  0.        ]\n",
      " [0.         2.50247085 0.         0.03553538 0.         0.0073584 ]\n",
      " [0.03553538 0.         1.5147168  0.         0.21012    0.        ]\n",
      " [0.         0.03553538 0.         1.5147168  0.         0.21012   ]\n",
      " [0.0073584  0.         0.21012    0.         3.         0.        ]\n",
      " [0.         0.0073584  0.         0.21012    0.         3.        ]]\n",
      "Updating track = 2 z = [288.56791849 680.07033791  -3.32828378   1.72396723] cov=[[2.02668644 0.         0.         0.        ]\n",
      " [0.         2.22765419 0.         0.        ]\n",
      " [0.         0.         0.54923321 0.        ]\n",
      " [0.         0.         0.         0.51320917]]\n",
      "age = 18 hits = 8\n",
      "age = 3 hits = 1\n",
      "age = 2 hits = 2\n"
     ]
    },
    {
     "name": "stderr",
     "output_type": "stream",
     "text": [
      "/home/kfir/workspace/RadarLocalization/dataset.py:261: VisibleDeprecationWarning: Creating an ndarray from ragged nested sequences (which is a list-or-tuple of lists-or-tuples-or ndarrays with different lengths or shapes) is deprecated. If you meant to do this, you must specify 'dtype=object' when creating the ndarray\n",
      "  rot = Quaternion(self.ego.iloc[eidx][\"rotation\"])\n"
     ]
    },
    {
     "name": "stdout",
     "output_type": "stream",
     "text": [
      "vx_com -3.439224153669094 vy_com 1.781440682851643\n",
      "Number of new plots 1\n",
      "Number of dynamic tracks before run() 3\n",
      "before predict: x=[[3.8074233  0.         1.23208396 0.         0.26639122 0.        ]\n",
      " [0.         3.9418959  0.         1.23122079 0.         0.26748601]\n",
      " [1.23208396 0.         5.88510633 0.         1.10563567 0.        ]\n",
      " [0.         1.23122079 0.         5.87943681 0.         1.1046771 ]\n",
      " [0.26639122 0.         1.10563567 0.         2.38726289 0.        ]\n",
      " [0.         0.26748601 0.         1.1046771  0.         2.38706387]]\n",
      "after predict: x=[[4.52755848 0.         1.70372166 0.         0.35611673 0.        ]\n",
      " [0.         4.66187529 0.         1.70250692 0.         0.35713899]\n",
      " [1.70372166 0.         7.06455733 0.         1.2848451  0.        ]\n",
      " [0.         1.70250692 0.         7.05874278 0.         1.2838716 ]\n",
      " [0.35611673 0.         1.2848451  0.         2.38726289 0.        ]\n",
      " [0.         0.35713899 0.         1.2838716  0.         2.38706387]]\n",
      "before predict: x=[[3.02963413 0.         0.19248651 0.         0.06937298 0.        ]\n",
      " [0.         3.02963413 0.         0.19248651 0.         0.06937298]\n",
      " [0.19248651 0.         2.63874596 0.         0.645165   0.        ]\n",
      " [0.         0.19248651 0.         2.63874596 0.         0.645165  ]\n",
      " [0.06937298 0.         0.645165   0.         3.         0.        ]\n",
      " [0.         0.06937298 0.         0.645165   0.         3.        ]]\n",
      "after predict: x=[[3.57409163 0.         0.40187045 0.         0.1262579  0.        ]\n",
      " [0.         3.57409163 0.         0.40187045 0.         0.1262579 ]\n",
      " [0.40187045 0.         3.75251581 0.         0.870372   0.        ]\n",
      " [0.         0.40187045 0.         3.75251581 0.         0.870372  ]\n",
      " [0.1262579  0.         0.870372   0.         3.         0.        ]\n",
      " [0.         0.1262579  0.         0.870372   0.         3.        ]]\n",
      "before predict: x=[[1.11967160e+00 0.00000000e+00 4.23200760e-03 0.00000000e+00\n",
      "  1.67411087e-03 0.00000000e+00]\n",
      " [0.00000000e+00 1.17840147e+00 0.00000000e+00 4.23580181e-03\n",
      "  0.00000000e+00 1.73166100e-03]\n",
      " [4.23200760e-03 0.00000000e+00 4.03058221e-01 0.00000000e+00\n",
      "  5.59067612e-02 0.00000000e+00]\n",
      " [0.00000000e+00 4.23580181e-03 0.00000000e+00 3.83313733e-01\n",
      "  0.00000000e+00 5.31682790e-02]\n",
      " [1.67411087e-03 0.00000000e+00 5.59067612e-02 0.00000000e+00\n",
      "  2.97860569e+00 0.00000000e+00]\n",
      " [0.00000000e+00 1.73166100e-03 0.00000000e+00 5.31682790e-02\n",
      "  0.00000000e+00 2.97822593e+00]]\n",
      "after predict: x=[[1.6226351  0.         0.03571748 0.         0.01426373 0.        ]\n",
      " [0.         1.68125343 0.         0.03422016 0.         0.01411463]\n",
      " [0.03571748 0.         1.42823745 0.         0.27950771 0.        ]\n",
      " [0.         0.03422016 0.         1.40807967 0.         0.27674072]\n",
      " [0.01426373 0.         0.27950771 0.         2.97860569 0.        ]\n",
      " [0.         0.01411463 0.         0.27674072 0.         2.97822593]]\n",
      "Updating track = 2 z = [288.23040128 679.96517987  -3.43922415   1.78144068] cov=[[2.03320787 0.         0.         0.        ]\n",
      " [0.         2.22617743 0.         0.        ]\n",
      " [0.         0.         0.57795248 0.        ]\n",
      " [0.         0.         0.         0.5209147 ]]\n",
      "age = 19 hits = 8\n",
      "age = 4 hits = 1\n",
      "age = 3 hits = 3\n"
     ]
    },
    {
     "name": "stderr",
     "output_type": "stream",
     "text": [
      "/home/kfir/workspace/RadarLocalization/dataset.py:261: VisibleDeprecationWarning: Creating an ndarray from ragged nested sequences (which is a list-or-tuple of lists-or-tuples-or ndarrays with different lengths or shapes) is deprecated. If you meant to do this, you must specify 'dtype=object' when creating the ndarray\n",
      "  rot = Quaternion(self.ego.iloc[eidx][\"rotation\"])\n"
     ]
    },
    {
     "name": "stdout",
     "output_type": "stream",
     "text": [
      "vx_com -3.4946871187464925 vy_com 1.8101906341375358\n",
      "Number of new plots 1\n",
      "Number of dynamic tracks before run() 2\n",
      "before predict: x=[[3.57409163 0.         0.40187045 0.         0.1262579  0.        ]\n",
      " [0.         3.57409163 0.         0.40187045 0.         0.1262579 ]\n",
      " [0.40187045 0.         3.75251581 0.         0.870372   0.        ]\n",
      " [0.         0.40187045 0.         3.75251581 0.         0.870372  ]\n",
      " [0.1262579  0.         0.870372   0.         3.         0.        ]\n",
      " [0.         0.1262579  0.         0.870372   0.         3.        ]]\n",
      "after predict: x=[[4.14966923 0.         0.68027592 0.         0.19452854 0.        ]\n",
      " [0.         4.14966923 0.         0.68027592 0.         0.19452854]\n",
      " [0.68027592 0.         4.88905708 0.         1.080357   0.        ]\n",
      " [0.         0.68027592 0.         4.88905708 0.         1.080357  ]\n",
      " [0.19452854 0.         1.080357   0.         3.         0.        ]\n",
      " [0.         0.19452854 0.         1.080357   0.         3.        ]]\n",
      "before predict: x=[[0.90223658 0.         0.00572362 0.         0.00516615 0.        ]\n",
      " [0.         0.95766208 0.         0.00526567 0.         0.00524533]\n",
      " [0.00572362 0.         0.41142429 0.         0.08049573 0.        ]\n",
      " [0.         0.00526567 0.         0.38022259 0.         0.07471059]\n",
      " [0.00516615 0.         0.08049573 0.         2.93964033 0.        ]\n",
      " [0.         0.00524533 0.         0.07471059 0.         2.93850198]]\n",
      "after predict: x=[[1.40512408 0.         0.03597847 0.         0.01800154 0.        ]\n",
      " [0.         1.460331   0.         0.03329939 0.         0.017673  ]\n",
      " [0.03597847 0.         1.43709506 0.         0.28625586 0.        ]\n",
      " [0.         0.03329939 0.         1.40507793 0.         0.28039104]\n",
      " [0.01800154 0.         0.28625586 0.         2.93964033 0.        ]\n",
      " [0.         0.017673   0.         0.28039104 0.         2.93850198]]\n",
      "Updating track = 1 z = [287.87407597 680.0391283   -3.49468712   1.81019063] cov=[[2.02436105 0.         0.         0.        ]\n",
      " [0.         2.1626759  0.         0.        ]\n",
      " [0.         0.         0.53384762 0.        ]\n",
      " [0.         0.         0.         0.50908155]]\n",
      "age = 5 hits = 1\n",
      "age = 4 hits = 4\n"
     ]
    },
    {
     "name": "stderr",
     "output_type": "stream",
     "text": [
      "/home/kfir/workspace/RadarLocalization/dataset.py:261: VisibleDeprecationWarning: Creating an ndarray from ragged nested sequences (which is a list-or-tuple of lists-or-tuples-or ndarrays with different lengths or shapes) is deprecated. If you meant to do this, you must specify 'dtype=object' when creating the ndarray\n",
      "  rot = Quaternion(self.ego.iloc[eidx][\"rotation\"])\n"
     ]
    },
    {
     "name": "stdout",
     "output_type": "stream",
     "text": [
      "vx_com -3.882951957490852 vy_com 2.0113888689222943\n",
      "Number of new plots 1\n",
      "Number of dynamic tracks before run() 2\n",
      "before predict: x=[[4.14966923 0.         0.68027592 0.         0.19452854 0.        ]\n",
      " [0.         4.14966923 0.         0.68027592 0.         0.19452854]\n",
      " [0.68027592 0.         4.88905708 0.         1.080357   0.        ]\n",
      " [0.         0.68027592 0.         4.88905708 0.         1.080357  ]\n",
      " [0.19452854 0.         1.080357   0.         3.         0.        ]\n",
      " [0.         0.19452854 0.         1.080357   0.         3.        ]]\n",
      "after predict: x=[[4.78091815 0.         1.071625   0.         0.28407375 0.        ]\n",
      " [0.         4.78091815 0.         1.071625   0.         0.28407375]\n",
      " [1.071625   0.         6.06814751 0.         1.305543   0.        ]\n",
      " [0.         1.071625   0.         6.06814751 0.         1.305543  ]\n",
      " [0.28407375 0.         1.305543   0.         3.         0.        ]\n",
      " [0.         0.28407375 0.         1.305543   0.         3.        ]]\n",
      "before predict: x=[[0.82918963 0.         0.00575345 0.         0.00754294 0.        ]\n",
      " [0.         0.87150668 0.         0.00528734 0.         0.00763905]\n",
      " [0.00575345 0.         0.38922248 0.         0.07749867 0.        ]\n",
      " [0.         0.00528734 0.         0.37366678 0.         0.0745403 ]\n",
      " [0.00754294 0.         0.07749867 0.         2.89801749 0.        ]\n",
      " [0.         0.00763905 0.         0.0745403  0.         2.89738438]]\n",
      "after predict: x=[[1.33234463 0.         0.03680325 0.         0.0215243  0.        ]\n",
      " [0.         1.37450334 0.         0.03515158 0.         0.02139657]\n",
      " [0.03680325 0.         1.4171852  0.         0.29502966 0.        ]\n",
      " [0.         0.03515158 0.         1.40118181 0.         0.29202377]\n",
      " [0.0215243  0.         0.29502966 0.         2.89801749 0.        ]\n",
      " [0.         0.02139657 0.         0.29202377 0.         2.89738438]]\n",
      "Updating track = 1 z = [287.44159697 679.64578898  -3.88295196   2.01138887] cov=[[2.01206428 0.         0.         0.        ]\n",
      " [0.         2.42179435 0.         0.        ]\n",
      " [0.         0.         0.61077212 0.        ]\n",
      " [0.         0.         0.         0.5297234 ]]\n",
      "age = 6 hits = 1\n",
      "age = 5 hits = 5\n"
     ]
    },
    {
     "name": "stderr",
     "output_type": "stream",
     "text": [
      "/home/kfir/workspace/RadarLocalization/dataset.py:261: VisibleDeprecationWarning: Creating an ndarray from ragged nested sequences (which is a list-or-tuple of lists-or-tuples-or ndarrays with different lengths or shapes) is deprecated. If you meant to do this, you must specify 'dtype=object' when creating the ndarray\n",
      "  rot = Quaternion(self.ego.iloc[eidx][\"rotation\"])\n"
     ]
    },
    {
     "name": "stdout",
     "output_type": "stream",
     "text": [
      "vx_com -4.3489590525344015 vy_com 2.2526499340716883\n",
      "vx_com -1.6641424945922454 vy_com 0.8619833931396769\n",
      "vx_com -2.329799492429143 vy_com 1.2067767503955475\n",
      "Number of new plots 2\n",
      "Number of dynamic tracks before run() 2\n",
      "before predict: x=[[4.78091815 0.         1.071625   0.         0.28407375 0.        ]\n",
      " [0.         4.78091815 0.         1.071625   0.         0.28407375]\n",
      " [1.071625   0.         6.06814751 0.         1.305543   0.        ]\n",
      " [0.         1.071625   0.         6.06814751 0.         1.305543  ]\n",
      " [0.28407375 0.         1.305543   0.         3.         0.        ]\n",
      " [0.         0.28407375 0.         1.305543   0.         3.        ]]\n",
      "after predict: x=[[5.72978483 0.         2.03883642 0.         0.50501246 0.        ]\n",
      " [0.         5.72978483 0.         2.03883642 0.         0.50501246]\n",
      " [2.03883642 0.         7.51002493 0.         1.740711   0.        ]\n",
      " [0.         2.03883642 0.         7.51002493 0.         1.740711  ]\n",
      " [0.50501246 0.         1.740711   0.         3.         0.        ]\n",
      " [0.         0.50501246 0.         1.740711   0.         3.        ]]\n",
      "before predict: x=[[0.80132378 0.         0.00666985 0.         0.00973021 0.        ]\n",
      " [0.         0.87658447 0.         0.00615295 0.         0.01025997]\n",
      " [0.00666985 0.         0.42678546 0.         0.08880226 0.        ]\n",
      " [0.         0.00615295 0.         0.38437489 0.         0.08007277]\n",
      " [0.00973021 0.         0.08880226 0.         2.85501802 0.        ]\n",
      " [0.         0.01025997 0.         0.08007277 0.         2.85315154]]\n",
      "after predict: x=[[1.31303066 0.         0.07714881 0.         0.05264808 0.        ]\n",
      " [0.         1.38723332 0.         0.07027848 0.         0.05189193]\n",
      " [0.07714881 0.         1.51262119 0.         0.50293975 0.        ]\n",
      " [0.         0.07027848 0.         1.46763882 0.         0.49393952]\n",
      " [0.05264808 0.         0.50293975 0.         2.85501802 0.        ]\n",
      " [0.         0.05189193 0.         0.49393952 0.         2.85315154]]\n",
      "Updating track = 1 z = [286.54781545 679.47038547  -4.34895905   2.25264993] cov=[[2.05947371 0.         0.         0.        ]\n",
      " [0.         2.38744756 0.         0.        ]\n",
      " [0.         0.         0.59058918 0.        ]\n",
      " [0.         0.         0.         0.52430486]]\n",
      "Initiating new track: x=[275.55254487 660.77720882  -2.32979949   1.20677675   0.\n",
      "   0.        ]\n",
      "age = 7 hits = 1\n",
      "age = 6 hits = 6\n",
      "age = 1 hits = 1\n"
     ]
    },
    {
     "name": "stderr",
     "output_type": "stream",
     "text": [
      "/home/kfir/workspace/RadarLocalization/dataset.py:261: VisibleDeprecationWarning: Creating an ndarray from ragged nested sequences (which is a list-or-tuple of lists-or-tuples-or ndarrays with different lengths or shapes) is deprecated. If you meant to do this, you must specify 'dtype=object' when creating the ndarray\n",
      "  rot = Quaternion(self.ego.iloc[eidx][\"rotation\"])\n"
     ]
    },
    {
     "name": "stdout",
     "output_type": "stream",
     "text": [
      "vx_com -4.881446832165061 vy_com 2.5285662551349857\n",
      "vx_com -1.6641296018744527 vy_com 0.8620112233414724\n",
      "vx_com -2.329781442624234 vy_com 1.2068157126780614\n",
      "Number of new plots 2\n",
      "Number of dynamic tracks before run() 2\n",
      "before predict: x=[[0.80076696 0.         0.01324038 0.         0.02090202 0.        ]\n",
      " [0.         0.8764185  0.         0.01170761 0.         0.02181314]\n",
      " [0.01324038 0.         0.4246103  0.         0.14100746 0.        ]\n",
      " [0.         0.01170761 0.         0.38621045 0.         0.12984214]\n",
      " [0.02090202 0.         0.14100746 0.         2.73440317 0.        ]\n",
      " [0.         0.02181314 0.         0.12984214 0.         2.73035514]]\n",
      "after predict: x=[[1.30486757 0.         0.04592714 0.         0.03746884 0.        ]\n",
      " [0.         1.38011706 0.         0.04168776 0.         0.03758857]\n",
      " [0.04592714 0.         1.45774393 0.         0.33239107 0.        ]\n",
      " [0.         0.04168776 0.         1.41776132 0.         0.32094243]\n",
      " [0.03746884 0.         0.33239107 0.         2.73440317 0.        ]\n",
      " [0.         0.03758857 0.         0.32094243 0.         2.73035514]]\n",
      "before predict: x=[[2.  0.  0.  0.  0.  0. ]\n",
      " [0.  2.  0.  0.  0.  0. ]\n",
      " [0.  0.  0.5 0.  0.  0. ]\n",
      " [0.  0.  0.  0.5 0.  0. ]\n",
      " [0.  0.  0.  0.  3.  0. ]\n",
      " [0.  0.  0.  0.  0.  3. ]]\n",
      "after predict: x=[[2.50246737 0.         0.0355098  0.         0.00734811 0.        ]\n",
      " [0.         2.50246737 0.         0.0355098  0.         0.00734811]\n",
      " [0.0355098  0.         1.51469622 0.         0.209973   0.        ]\n",
      " [0.         0.0355098  0.         1.51469622 0.         0.209973  ]\n",
      " [0.00734811 0.         0.209973   0.         3.         0.        ]\n",
      " [0.         0.00734811 0.         0.209973   0.         3.        ]]\n",
      "Updating track = 1 z = [275.60329463 661.08944908  -2.32978144   1.20681571] cov=[[3.68810095 0.         0.         0.        ]\n",
      " [0.         2.01188017 0.         0.        ]\n",
      " [0.         0.         0.51230812 0.        ]\n",
      " [0.         0.         0.         0.5033025 ]]\n",
      "Initiating new track: x=[286.28511402 678.84148603  -4.88144683   2.52856626   0.\n",
      "   0.        ]\n",
      "age = 7 hits = 6\n",
      "age = 2 hits = 2\n",
      "age = 1 hits = 1\n"
     ]
    },
    {
     "name": "stderr",
     "output_type": "stream",
     "text": [
      "/home/kfir/workspace/RadarLocalization/dataset.py:261: VisibleDeprecationWarning: Creating an ndarray from ragged nested sequences (which is a list-or-tuple of lists-or-tuples-or ndarrays with different lengths or shapes) is deprecated. If you meant to do this, you must specify 'dtype=object' when creating the ndarray\n",
      "  rot = Quaternion(self.ego.iloc[eidx][\"rotation\"])\n"
     ]
    },
    {
     "name": "stdout",
     "output_type": "stream",
     "text": [
      "vx_com -4.733523888962366 vy_com 2.451946310124161\n",
      "Number of new plots 1\n",
      "Number of dynamic tracks before run() 3\n",
      "before predict: x=[[1.30486757 0.         0.04592714 0.         0.03746884 0.        ]\n",
      " [0.         1.38011706 0.         0.04168776 0.         0.03758857]\n",
      " [0.04592714 0.         1.45774393 0.         0.33239107 0.        ]\n",
      " [0.         0.04168776 0.         1.41776132 0.         0.32094243]\n",
      " [0.03746884 0.         0.33239107 0.         2.73440317 0.        ]\n",
      " [0.         0.03758857 0.         0.32094243 0.         2.73035514]]\n",
      "after predict: x=[[1.8203294  0.         0.16145103 0.         0.07008922 0.        ]\n",
      " [0.         1.89471387 0.         0.15412444 0.         0.0693389 ]\n",
      " [0.16145103 0.         2.52298469 0.         0.53747404 0.        ]\n",
      " [0.         0.15412444 0.         2.48126198 0.         0.52572179]\n",
      " [0.07008922 0.         0.53747404 0.         2.73440317 0.        ]\n",
      " [0.         0.0693389  0.         0.52572179 0.         2.73035514]]\n",
      "before predict: x=[[1.49065236e+00 0.00000000e+00 5.34737609e-03 0.00000000e+00\n",
      "  2.18650070e-03 0.00000000e+00]\n",
      " [0.00000000e+00 1.11513438e+00 0.00000000e+00 3.94751406e-03\n",
      "  0.00000000e+00 1.62837303e-03]\n",
      " [5.34737609e-03 0.00000000e+00 3.82813585e-01 0.00000000e+00\n",
      "  5.30635706e-02 0.00000000e+00]\n",
      " [0.00000000e+00 3.94751406e-03 0.00000000e+00 3.77758085e-01\n",
      "  0.00000000e+00 5.23615154e-02]\n",
      " [2.18650070e-03 0.00000000e+00 5.30635706e-02 0.00000000e+00\n",
      "  2.97824718e+00 0.00000000e+00]\n",
      " [0.00000000e+00 1.62837303e-03 0.00000000e+00 5.23615154e-02\n",
      "  0.00000000e+00 2.97814933e+00]]\n",
      "after predict: x=[[1.99366611 0.         0.03529875 0.         0.01454287 0.        ]\n",
      " [0.         1.61790627 0.         0.03347192 0.         0.01393181]\n",
      " [0.03529875 0.         1.40752631 0.         0.27643509 0.        ]\n",
      " [0.         0.03347192 0.         1.40236495 0.         0.27572569]\n",
      " [0.01454287 0.         0.27643509 0.         2.97824718 0.        ]\n",
      " [0.         0.01393181 0.         0.27572569 0.         2.97814933]]\n",
      "before predict: x=[[2.  0.  0.  0.  0.  0. ]\n",
      " [0.  2.  0.  0.  0.  0. ]\n",
      " [0.  0.  0.5 0.  0.  0. ]\n",
      " [0.  0.  0.  0.5 0.  0. ]\n",
      " [0.  0.  0.  0.  3.  0. ]\n",
      " [0.  0.  0.  0.  0.  3. ]]\n",
      "after predict: x=[[2.50283631 0.         0.03813334 0.         0.00843773 0.        ]\n",
      " [0.         2.50283631 0.         0.03813334 0.         0.00843773]\n",
      " [0.03813334 0.         1.51687545 0.         0.225003   0.        ]\n",
      " [0.         0.03813334 0.         1.51687545 0.         0.225003  ]\n",
      " [0.00843773 0.         0.225003   0.         3.         0.        ]\n",
      " [0.         0.00843773 0.         0.225003   0.         3.        ]]\n",
      "Updating track = 0 z = [285.73019561 679.43288549  -4.73352389   2.45194631] cov=[[2.01319378 0.         0.         0.        ]\n",
      " [0.         2.32374472 0.         0.        ]\n",
      " [0.         0.         0.64222716 0.        ]\n",
      " [0.         0.         0.         0.53816237]]\n",
      "age = 8 hits = 7\n",
      "age = 3 hits = 2\n",
      "age = 2 hits = 1\n"
     ]
    },
    {
     "name": "stderr",
     "output_type": "stream",
     "text": [
      "/home/kfir/workspace/RadarLocalization/dataset.py:261: VisibleDeprecationWarning: Creating an ndarray from ragged nested sequences (which is a list-or-tuple of lists-or-tuples-or ndarrays with different lengths or shapes) is deprecated. If you meant to do this, you must specify 'dtype=object' when creating the ndarray\n",
      "  rot = Quaternion(self.ego.iloc[eidx][\"rotation\"])\n"
     ]
    },
    {
     "name": "stdout",
     "output_type": "stream",
     "text": [
      "vx_com -5.103305889693008 vy_com 2.6435798162296456\n",
      "Number of new plots 1\n",
      "Number of dynamic tracks before run() 3\n",
      "before predict: x=[[0.95367896 0.         0.01724043 0.         0.02245858 0.        ]\n",
      " [0.         1.04131454 0.         0.01516024 0.         0.02345703]\n",
      " [0.01724043 0.         0.51163758 0.         0.108689   0.        ]\n",
      " [0.         0.01516024 0.         0.44206462 0.         0.0934239 ]\n",
      " [0.02245858 0.         0.108689   0.         2.64266044 0.        ]\n",
      " [0.         0.02345703 0.         0.0934239  0.         2.63839096]]\n",
      "after predict: x=[[1.45876083 0.         0.05586887 0.         0.03653604 0.        ]\n",
      " [0.         1.54576415 0.         0.04887682 0.         0.03645576]\n",
      " [0.05586887 0.         1.53979251 0.         0.29362766 0.        ]\n",
      " [0.         0.04887682 0.         1.46806208 0.         0.27806378]\n",
      " [0.03653604 0.         0.29362766 0.         2.64266044 0.        ]\n",
      " [0.         0.03645576 0.         0.27806378 0.         2.63839096]]\n",
      "before predict: x=[[1.99366611 0.         0.03529875 0.         0.01454287 0.        ]\n",
      " [0.         1.61790627 0.         0.03347192 0.         0.01393181]\n",
      " [0.03529875 0.         1.40752631 0.         0.27643509 0.        ]\n",
      " [0.         0.03347192 0.         1.40236495 0.         0.27572569]\n",
      " [0.01454287 0.         0.27643509 0.         2.97824718 0.        ]\n",
      " [0.         0.01393181 0.         0.27572569 0.         2.97814933]]\n",
      "after predict: x=[[2.50568382 0.         0.13735913 0.         0.0411813  0.        ]\n",
      " [0.         2.12963978 0.         0.1351231  0.         0.04052036]\n",
      " [0.13735913 0.         2.46080318 0.         0.48485878 0.        ]\n",
      " [0.         0.1351231  0.         2.45554205 0.         0.48414254]\n",
      " [0.0411813  0.         0.48485878 0.         2.97824718 0.        ]\n",
      " [0.         0.04052036 0.         0.48414254 0.         2.97814933]]\n",
      "before predict: x=[[2.50283631 0.         0.03813334 0.         0.00843773 0.        ]\n",
      " [0.         2.50283631 0.         0.03813334 0.         0.00843773]\n",
      " [0.03813334 0.         1.51687545 0.         0.225003   0.        ]\n",
      " [0.         0.03813334 0.         1.51687545 0.         0.225003  ]\n",
      " [0.00843773 0.         0.225003   0.         3.         0.        ]\n",
      " [0.         0.00843773 0.         0.225003   0.         3.        ]]\n",
      "after predict: x=[[3.0157389  0.         0.14704483 0.         0.03153011 0.        ]\n",
      " [0.         3.0157389  0.         0.14704483 0.         0.03153011]\n",
      " [0.14704483 0.         2.56306021 0.         0.434949   0.        ]\n",
      " [0.         0.14704483 0.         2.56306021 0.         0.434949  ]\n",
      " [0.03153011 0.         0.434949   0.         3.         0.        ]\n",
      " [0.         0.03153011 0.         0.434949   0.         3.        ]]\n",
      "Updating track = 2 z = [285.43306522 678.72416343  -5.10330589   2.64357982] cov=[[2.04997778 0.         0.         0.        ]\n",
      " [0.         2.00001855 0.         0.        ]\n",
      " [0.         0.         0.5        0.        ]\n",
      " [0.         0.         0.         0.5       ]]\n",
      "age = 9 hits = 7\n",
      "age = 4 hits = 2\n",
      "age = 3 hits = 2\n"
     ]
    },
    {
     "name": "stderr",
     "output_type": "stream",
     "text": [
      "/home/kfir/workspace/RadarLocalization/dataset.py:261: VisibleDeprecationWarning: Creating an ndarray from ragged nested sequences (which is a list-or-tuple of lists-or-tuples-or ndarrays with different lengths or shapes) is deprecated. If you meant to do this, you must specify 'dtype=object' when creating the ndarray\n",
      "  rot = Quaternion(self.ego.iloc[eidx][\"rotation\"])\n"
     ]
    },
    {
     "name": "stdout",
     "output_type": "stream",
     "text": [
      "vx_com -1.4422506218940923 vy_com 0.7470751078411035\n",
      "Number of new plots 0\n",
      "Number of dynamic tracks before run() 3\n",
      "before predict: x=[[1.45876083 0.         0.05586887 0.         0.03653604 0.        ]\n",
      " [0.         1.54576415 0.         0.04887682 0.         0.03645576]\n",
      " [0.05586887 0.         1.53979251 0.         0.29362766 0.        ]\n",
      " [0.         0.04887682 0.         1.46806208 0.         0.27806378]\n",
      " [0.03653604 0.         0.29362766 0.         2.64266044 0.        ]\n",
      " [0.         0.03645576 0.         0.27806378 0.         2.63839096]]\n",
      "after predict: x=[[1.97619567 0.         0.17732987 0.         0.06605013 0.        ]\n",
      " [0.         2.06173662 0.         0.16481068 0.         0.06478862]\n",
      " [0.17732987 0.         2.59882068 0.         0.49214696 0.        ]\n",
      " [0.         0.16481068 0.         2.52472781 0.         0.47626235]\n",
      " [0.06605013 0.         0.49214696 0.         2.64266044 0.        ]\n",
      " [0.         0.06478862 0.         0.47626235 0.         2.63839096]]\n",
      "before predict: x=[[2.50568382 0.         0.13735913 0.         0.0411813  0.        ]\n",
      " [0.         2.12963978 0.         0.1351231  0.         0.04052036]\n",
      " [0.13735913 0.         2.46080318 0.         0.48485878 0.        ]\n",
      " [0.         0.1351231  0.         2.45554205 0.         0.48414254]\n",
      " [0.0411813  0.         0.48485878 0.         2.97824718 0.        ]\n",
      " [0.         0.04052036 0.         0.48414254 0.         2.97814933]]\n",
      "after predict: x=[[3.0406693  0.         0.33004618 0.         0.08600774 0.        ]\n",
      " [0.         2.66425558 0.         0.3273592  0.         0.08529272]\n",
      " [0.33004618 0.         3.55045607 0.         0.70858769 0.        ]\n",
      " [0.         0.3273592  0.         3.54508678 0.         0.7078641 ]\n",
      " [0.08600774 0.         0.70858769 0.         2.97824718 0.        ]\n",
      " [0.         0.08529272 0.         0.7078641  0.         2.97814933]]\n",
      "before predict: x=[[1.21924181 0.         0.00972698 0.         0.00431582 0.        ]\n",
      " [0.         1.20139307 0.         0.00958459 0.         0.00425264]\n",
      " [0.00972698 0.         0.41826838 0.         0.07094856 0.        ]\n",
      " [0.         0.00958459 0.         0.41826725 0.         0.07094806]\n",
      " [0.00431582 0.         0.07094856 0.         2.93821561 0.        ]\n",
      " [0.         0.00425264 0.         0.07094806 0.         2.93821538]]\n",
      "after predict: x=[[1.72314139 0.         0.04269528 0.         0.01793597 0.        ]\n",
      " [0.         1.70527089 0.         0.04254804 0.         0.01787275]\n",
      " [0.04269528 0.         1.44550867 0.         0.29167026 0.        ]\n",
      " [0.         0.04254804 0.         1.44550746 0.         0.29166973]\n",
      " [0.01793597 0.         0.29167026 0.         2.93821561 0.        ]\n",
      " [0.         0.01787275 0.         0.29166973 0.         2.93821538]]\n",
      "age = 10 hits = 7\n",
      "age = 5 hits = 2\n",
      "age = 4 hits = 2\n"
     ]
    },
    {
     "name": "stderr",
     "output_type": "stream",
     "text": [
      "/home/kfir/workspace/RadarLocalization/dataset.py:261: VisibleDeprecationWarning: Creating an ndarray from ragged nested sequences (which is a list-or-tuple of lists-or-tuples-or ndarrays with different lengths or shapes) is deprecated. If you meant to do this, you must specify 'dtype=object' when creating the ndarray\n",
      "  rot = Quaternion(self.ego.iloc[eidx][\"rotation\"])\n"
     ]
    },
    {
     "name": "stdout",
     "output_type": "stream",
     "text": [
      "vx_com -3.32832168549237 vy_com 1.7239093668755423\n",
      "Number of new plots 1\n",
      "Number of dynamic tracks before run() 3\n",
      "before predict: x=[[1.97619567 0.         0.17732987 0.         0.06605013 0.        ]\n",
      " [0.         2.06173662 0.         0.16481068 0.         0.06478862]\n",
      " [0.17732987 0.         2.59882068 0.         0.49214696 0.        ]\n",
      " [0.         0.16481068 0.         2.52472781 0.         0.47626235]\n",
      " [0.06605013 0.         0.49214696 0.         2.64266044 0.        ]\n",
      " [0.         0.06478862 0.         0.47626235 0.         2.63839096]]\n",
      "after predict: x=[[2.51802886 0.         0.38196107 0.         0.11040744 0.        ]\n",
      " [0.         2.60126059 0.         0.36365379 0.         0.10794226]\n",
      " [0.38196107 0.         3.68753531 0.         0.69039935 0.        ]\n",
      " [0.         0.36365379 0.         3.61103508 0.         0.67419444]\n",
      " [0.11040744 0.         0.69039935 0.         2.64266044 0.        ]\n",
      " [0.         0.10794226 0.         0.67419444 0.         2.63839096]]\n",
      "before predict: x=[[3.0406693  0.         0.33004618 0.         0.08600774 0.        ]\n",
      " [0.         2.66425558 0.         0.3273592  0.         0.08529272]\n",
      " [0.33004618 0.         3.55045607 0.         0.70858769 0.        ]\n",
      " [0.         0.3273592  0.         3.54508678 0.         0.7078641 ]\n",
      " [0.08600774 0.         0.70858769 0.         2.97824718 0.        ]\n",
      " [0.         0.08529272 0.         0.7078641  0.         2.97814933]]\n",
      "after predict: x=[[3.6109782  0.         0.60946432 0.         0.14754678 0.        ]\n",
      " [0.         3.23412679 0.         0.60631476 0.         0.1467772 ]\n",
      " [0.60946432 0.         4.67353415 0.         0.93201579 0.        ]\n",
      " [0.         0.60631476 0.         4.66805574 0.         0.93128486]\n",
      " [0.14754678 0.         0.93201579 0.         2.97824718 0.        ]\n",
      " [0.         0.1467772  0.         0.93128486 0.         2.97814933]]\n",
      "before predict: x=[[1.72314139 0.         0.04269528 0.         0.01793597 0.        ]\n",
      " [0.         1.70527089 0.         0.04254804 0.         0.01787275]\n",
      " [0.04269528 0.         1.44550867 0.         0.29167026 0.        ]\n",
      " [0.         0.04254804 0.         1.44550746 0.         0.29166973]\n",
      " [0.01793597 0.         0.29167026 0.         2.93821561 0.        ]\n",
      " [0.         0.01787275 0.         0.29166973 0.         2.93821538]]\n",
      "after predict: x=[[2.23793007 0.         0.15556545 0.         0.04808521 0.        ]\n",
      " [0.         2.22003712 0.         0.15541338 0.         0.04802195]\n",
      " [0.15556545 0.         2.50580716 0.         0.51209519 0.        ]\n",
      " [0.         0.15541338 0.         2.50580586 0.         0.51209465]\n",
      " [0.04808521 0.         0.51209519 0.         2.93821561 0.        ]\n",
      " [0.         0.04802195 0.         0.51209465 0.         2.93821538]]\n",
      "Initiating new track: x=[282.78966244 672.83254063  -3.32832169   1.72390937   0.\n",
      "   0.        ]\n",
      "age = 11 hits = 7\n",
      "age = 6 hits = 2\n",
      "age = 5 hits = 2\n",
      "age = 1 hits = 1\n"
     ]
    },
    {
     "name": "stderr",
     "output_type": "stream",
     "text": [
      "/home/kfir/workspace/RadarLocalization/dataset.py:261: VisibleDeprecationWarning: Creating an ndarray from ragged nested sequences (which is a list-or-tuple of lists-or-tuples-or ndarrays with different lengths or shapes) is deprecated. If you meant to do this, you must specify 'dtype=object' when creating the ndarray\n",
      "  rot = Quaternion(self.ego.iloc[eidx][\"rotation\"])\n"
     ]
    },
    {
     "name": "stdout",
     "output_type": "stream",
     "text": [
      "vx_com -5.658231941254672 vy_com 2.930467957535566\n",
      "Number of new plots 1\n",
      "Number of dynamic tracks before run() 4\n",
      "before predict: x=[[2.51802886 0.         0.38196107 0.         0.11040744 0.        ]\n",
      " [0.         2.60126059 0.         0.36365379 0.         0.10794226]\n",
      " [0.38196107 0.         3.68753531 0.         0.69039935 0.        ]\n",
      " [0.         0.36365379 0.         3.61103508 0.         0.67419444]\n",
      " [0.11040744 0.         0.69039935 0.         2.64266044 0.        ]\n",
      " [0.         0.10794226 0.         0.67419444 0.         2.63839096]]\n",
      "after predict: x=[[3.2110538  0.         0.9584812  0.         0.23830061 0.        ]\n",
      " [0.         3.28726606 0.         0.92820602 0.         0.23344076]\n",
      " [0.9584812  0.         4.94332164 0.         1.07359568 0.        ]\n",
      " [0.         0.92820602 0.         4.86203209 0.         1.05677168]\n",
      " [0.23830061 0.         1.07359568 0.         2.64266044 0.        ]\n",
      " [0.         0.23344076 0.         1.05677168 0.         2.63839096]]\n",
      "before predict: x=[[3.6109782  0.         0.60946432 0.         0.14754678 0.        ]\n",
      " [0.         3.23412679 0.         0.60631476 0.         0.1467772 ]\n",
      " [0.60946432 0.         4.67353415 0.         0.93201579 0.        ]\n",
      " [0.         0.60631476 0.         4.66805574 0.         0.93128486]\n",
      " [0.14754678 0.         0.93201579 0.         2.97824718 0.        ]\n",
      " [0.         0.1467772  0.         0.93128486 0.         2.97814933]]\n",
      "after predict: x=[[4.39226732 0.         1.34247556 0.         0.31400335 0.        ]\n",
      " [0.         4.0143689  0.         1.33839682 0.         0.31312675]\n",
      " [1.34247556 0.         6.00644728 0.         1.36387354 0.        ]\n",
      " [0.         1.33839682 0.         6.00075484 0.         1.36312842]\n",
      " [0.31400335 0.         1.36387354 0.         2.97824718 0.        ]\n",
      " [0.         0.31312675 0.         1.36312842 0.         2.97814933]]\n",
      "before predict: x=[[2.23793007 0.         0.15556545 0.         0.04808521 0.        ]\n",
      " [0.         2.22003712 0.         0.15541338 0.         0.04802195]\n",
      " [0.15556545 0.         2.50580716 0.         0.51209519 0.        ]\n",
      " [0.         0.15541338 0.         2.50580586 0.         0.51209465]\n",
      " [0.04808521 0.         0.51209519 0.         2.93821561 0.        ]\n",
      " [0.         0.04802195 0.         0.51209465 0.         2.93821538]]\n",
      "after predict: x=[[2.8386299  0.         0.54652028 0.         0.15323076 0.        ]\n",
      " [0.         2.8206915  0.         0.54635883 0.         0.15316742]\n",
      " [0.54652028 0.         3.71609825 0.         0.93814821 0.        ]\n",
      " [0.         0.54635883 0.         3.7160968  0.         0.93814764]\n",
      " [0.15323076 0.         0.93814821 0.         2.93821561 0.        ]\n",
      " [0.         0.15316742 0.         0.93814764 0.         2.93821538]]\n",
      "before predict: x=[[2.  0.  0.  0.  0.  0. ]\n",
      " [0.  2.  0.  0.  0.  0. ]\n",
      " [0.  0.  0.5 0.  0.  0. ]\n",
      " [0.  0.  0.  0.5 0.  0. ]\n",
      " [0.  0.  0.  0.  3.  0. ]\n",
      " [0.  0.  0.  0.  0.  3. ]]\n",
      "after predict: x=[[2.51084465 0.         0.07707532 0.         0.03153924 0.        ]\n",
      " [0.         2.51084465 0.         0.07707532 0.         0.03153924]\n",
      " [0.07707532 0.         1.56307848 0.         0.435012   0.        ]\n",
      " [0.         0.07707532 0.         1.56307848 0.         0.435012  ]\n",
      " [0.03153924 0.         0.435012   0.         3.         0.        ]\n",
      " [0.         0.03153924 0.         0.435012   0.         3.        ]]\n",
      "Updating track = 2 z = [283.69465616 679.06828996  -5.65823194   2.93046796] cov=[[2.00784057 0.         0.         0.        ]\n",
      " [0.         2.00215019 0.         0.        ]\n",
      " [0.         0.         0.51230895 0.        ]\n",
      " [0.         0.         0.         0.50330167]]\n",
      "age = 12 hits = 7\n",
      "age = 7 hits = 2\n",
      "age = 6 hits = 3\n",
      "age = 2 hits = 1\n"
     ]
    },
    {
     "name": "stderr",
     "output_type": "stream",
     "text": [
      "/home/kfir/workspace/RadarLocalization/dataset.py:261: VisibleDeprecationWarning: Creating an ndarray from ragged nested sequences (which is a list-or-tuple of lists-or-tuples-or ndarrays with different lengths or shapes) is deprecated. If you meant to do this, you must specify 'dtype=object' when creating the ndarray\n",
      "  rot = Quaternion(self.ego.iloc[eidx][\"rotation\"])\n"
     ]
    },
    {
     "name": "stdout",
     "output_type": "stream",
     "text": [
      "vx_com -5.68046609588332 vy_com 2.9418698379822956\n",
      "vx_com -2.884611689315748 vy_com 1.4939182771003847\n",
      "Number of new plots 2\n",
      "Number of dynamic tracks before run() 4\n",
      "before predict: x=[[3.2110538  0.         0.9584812  0.         0.23830061 0.        ]\n",
      " [0.         3.28726606 0.         0.92820602 0.         0.23344076]\n",
      " [0.9584812  0.         4.94332164 0.         1.07359568 0.        ]\n",
      " [0.         0.92820602 0.         4.86203209 0.         1.05677168]\n",
      " [0.23830061 0.         1.07359568 0.         2.64266044 0.        ]\n",
      " [0.         0.23344076 0.         1.05677168 0.         2.63839096]]\n",
      "after predict: x=[[3.88449527 0.         1.35681679 0.         0.32627566 0.        ]\n",
      " [0.         3.95567321 0.         1.31993593 0.         0.3201417 ]\n",
      " [1.35681679 0.         6.11927174 0.         1.27184278 0.        ]\n",
      " [0.         1.31993593 0.         6.03543396 0.         1.25469849]\n",
      " [0.32627566 0.         1.27184278 0.         2.64266044 0.        ]\n",
      " [0.         0.3201417  0.         1.25469849 0.         2.63839096]]\n",
      "before predict: x=[[4.39226732 0.         1.34247556 0.         0.31400335 0.        ]\n",
      " [0.         4.0143689  0.         1.33839682 0.         0.31312675]\n",
      " [1.34247556 0.         6.00644728 0.         1.36387354 0.        ]\n",
      " [0.         1.33839682 0.         6.00075484 0.         1.36312842]\n",
      " [0.31400335 0.         1.36387354 0.         2.97824718 0.        ]\n",
      " [0.         0.31312675 0.         1.36312842 0.         2.97814933]]\n",
      "after predict: x=[[5.12985597 0.         1.82876501 0.         0.42469876 0.        ]\n",
      " [0.         4.7513083  0.         1.82418716 0.         0.42376598]\n",
      " [1.82876501 0.         7.2278381  0.         1.58729569 0.        ]\n",
      " [0.         1.82418716 0.         7.22203331 0.         1.58654323]\n",
      " [0.42469876 0.         1.58729569 0.         2.97824718 0.        ]\n",
      " [0.         0.42376598 0.         1.58654323 0.         2.97814933]]\n",
      "before predict: x=[[1.16371058 0.         0.02783822 0.         0.013443   0.        ]\n",
      " [0.         1.15860534 0.         0.0274579  0.         0.01335125]\n",
      " [0.02783822 0.         0.44932012 0.         0.11322163 0.        ]\n",
      " [0.         0.0274579  0.         0.44237266 0.         0.11147029]\n",
      " [0.013443   0.         0.11322163 0.         2.72985647 0.        ]\n",
      " [0.         0.01335125 0.         0.11147029 0.         2.72941486]]\n",
      "after predict: x=[[1.67056103 0.         0.0640858  0.         0.02961806 0.        ]\n",
      " [0.         1.66535836 0.         0.06316253 0.         0.0293937 ]\n",
      " [0.0640858  0.         1.48167026 0.         0.31801    0.        ]\n",
      " [0.         0.06316253 0.         1.47445755 0.         0.31622553]\n",
      " [0.02961806 0.         0.31801    0.         2.72985647 0.        ]\n",
      " [0.         0.0293937  0.         0.31622553 0.         2.72941486]]\n",
      "before predict: x=[[2.51084465 0.         0.07707532 0.         0.03153924 0.        ]\n",
      " [0.         2.51084465 0.         0.07707532 0.         0.03153924]\n",
      " [0.07707532 0.         1.56307848 0.         0.435012   0.        ]\n",
      " [0.         0.07707532 0.         1.56307848 0.         0.435012  ]\n",
      " [0.03153924 0.         0.435012   0.         3.         0.        ]\n",
      " [0.         0.03153924 0.         0.435012   0.         3.        ]]\n",
      "after predict: x=[[3.03159016 0.         0.20100579 0.         0.07261452 0.        ]\n",
      " [0.         3.03159016 0.         0.20100579 0.         0.07261452]\n",
      " [0.20100579 0.         2.64522904 0.         0.660066   0.        ]\n",
      " [0.         0.20100579 0.         2.64522904 0.         0.660066  ]\n",
      " [0.07261452 0.         0.660066   0.         3.         0.        ]\n",
      " [0.         0.07261452 0.         0.660066   0.         3.        ]]\n",
      "Updating track = 2 z = [282.93298198 679.46665944  -5.6804661    2.94186984] cov=[[2.18694298 0.         0.         0.        ]\n",
      " [0.         2.12317371 0.         0.        ]\n",
      " [0.         0.         0.51181678 0.        ]\n",
      " [0.         0.         0.         0.50316941]]\n",
      "Updating track = 1 z = [273.89522221 660.62787376  -2.88461169   1.49391828] cov=[[2.46162296 0.         0.         0.        ]\n",
      " [0.         2.18808436 0.         0.        ]\n",
      " [0.         0.         0.5        0.        ]\n",
      " [0.         0.         0.         0.5       ]]\n",
      "age = 13 hits = 7\n",
      "age = 8 hits = 3\n",
      "age = 7 hits = 4\n",
      "age = 3 hits = 1\n"
     ]
    },
    {
     "name": "stderr",
     "output_type": "stream",
     "text": [
      "/home/kfir/workspace/RadarLocalization/dataset.py:261: VisibleDeprecationWarning: Creating an ndarray from ragged nested sequences (which is a list-or-tuple of lists-or-tuples-or ndarrays with different lengths or shapes) is deprecated. If you meant to do this, you must specify 'dtype=object' when creating the ndarray\n",
      "  rot = Quaternion(self.ego.iloc[eidx][\"rotation\"])\n"
     ]
    },
    {
     "name": "stdout",
     "output_type": "stream",
     "text": [
      "vx_com -5.87998821430359 vy_com 3.045677220041747\n",
      "Number of new plots 1\n",
      "Number of dynamic tracks before run() 4\n",
      "before predict: x=[[3.88449527 0.         1.35681679 0.         0.32627566 0.        ]\n",
      " [0.         3.95567321 0.         1.31993593 0.         0.3201417 ]\n",
      " [1.35681679 0.         6.11927174 0.         1.27184278 0.        ]\n",
      " [0.         1.31993593 0.         6.03543396 0.         1.25469849]\n",
      " [0.32627566 0.         1.27184278 0.         2.64266044 0.        ]\n",
      " [0.         0.3201417  0.         1.25469849 0.         2.63839096]]\n",
      "after predict: x=[[4.60654308 0.         1.81791408 0.         0.42180249 0.        ]\n",
      " [0.         4.67210954 0.         1.77460696 0.         0.41445768]\n",
      " [1.81791408 0.         7.31032539 0.         1.45687129 0.        ]\n",
      " [0.         1.77460696 0.         7.22406592 0.         1.43942807]\n",
      " [0.42180249 0.         1.45687129 0.         2.64266044 0.        ]\n",
      " [0.         0.41445768 0.         1.43942807 0.         2.63839096]]\n",
      "before predict: x=[[1.61515914 0.         0.0406871  0.         0.01687374 0.        ]\n",
      " [0.         1.45247079 0.         0.03970941 0.         0.01646479]\n",
      " [0.0406871  0.         0.46569371 0.         0.10188878 0.        ]\n",
      " [0.         0.03970941 0.         0.46548154 0.         0.10183954]\n",
      " [0.01687374 0.         0.10188878 0.         2.65188074 0.        ]\n",
      " [0.         0.01646479 0.         0.10183954 0.         2.65181492]]\n",
      "after predict: x=[[2.1232732  0.         0.07567888 0.         0.03050766 0.        ]\n",
      " [0.         1.96044488 0.         0.07465732 0.         0.03009511]\n",
      " [0.07567888 0.         1.49296156 0.         0.28756286 0.        ]\n",
      " [0.         0.07465732 0.         1.49274217 0.         0.28750902]\n",
      " [0.03050766 0.         0.28756286 0.         2.65188074 0.        ]\n",
      " [0.         0.03009511 0.         0.28750902 0.         2.65181492]]\n",
      "before predict: x=[[0.9464322  0.         0.0093331  0.         0.01100142 0.        ]\n",
      " [0.         0.93266822 0.         0.00901105 0.         0.01081848]\n",
      " [0.0093331  0.         0.38034043 0.         0.08156454 0.        ]\n",
      " [0.         0.00901105 0.         0.37507936 0.         0.08037566]\n",
      " [0.01100142 0.         0.08156454 0.         2.67902852 0.        ]\n",
      " [0.         0.01081848 0.         0.08037566 0.         2.67875161]]\n",
      "after predict: x=[[1.44970168 0.         0.03779283 0.         0.02327886 0.        ]\n",
      " [0.         1.4358655  0.         0.03708082 0.         0.023012  ]\n",
      " [0.03779283 0.         1.40489532 0.         0.2691394  0.        ]\n",
      " [0.         0.03708082 0.         1.39946641 0.         0.26793113]\n",
      " [0.02327886 0.         0.2691394  0.         2.67902852 0.        ]\n",
      " [0.         0.023012   0.         0.26793113 0.         2.67875161]]\n",
      "before predict: x=[[3.03159016 0.         0.20100579 0.         0.07261452 0.        ]\n",
      " [0.         3.03159016 0.         0.20100579 0.         0.07261452]\n",
      " [0.20100579 0.         2.64522904 0.         0.660066   0.        ]\n",
      " [0.         0.20100579 0.         2.64522904 0.         0.660066  ]\n",
      " [0.07261452 0.         0.660066   0.         3.         0.        ]\n",
      " [0.         0.07261452 0.         0.660066   0.         3.        ]]\n",
      "after predict: x=[[3.57330551 0.         0.39666688 0.         0.12618306 0.        ]\n",
      " [0.         3.57330551 0.         0.39666688 0.         0.12618306]\n",
      " [0.39666688 0.         3.75236612 0.         0.870114   0.        ]\n",
      " [0.         0.39666688 0.         3.75236612 0.         0.870114  ]\n",
      " [0.12618306 0.         0.870114   0.         3.         0.        ]\n",
      " [0.         0.12618306 0.         0.870114   0.         3.        ]]\n",
      "Updating track = 2 z = [282.71673426 679.35632876  -5.87998821   3.04567722] cov=[[2.0078402  0.         0.         0.        ]\n",
      " [0.         2.0021506  0.         0.        ]\n",
      " [0.         0.         0.51230839 0.        ]\n",
      " [0.         0.         0.         0.5033023 ]]\n",
      "age = 14 hits = 7\n",
      "age = 9 hits = 3\n",
      "age = 8 hits = 5\n",
      "age = 4 hits = 1\n"
     ]
    },
    {
     "name": "stderr",
     "output_type": "stream",
     "text": [
      "/home/kfir/workspace/RadarLocalization/dataset.py:261: VisibleDeprecationWarning: Creating an ndarray from ragged nested sequences (which is a list-or-tuple of lists-or-tuples-or ndarrays with different lengths or shapes) is deprecated. If you meant to do this, you must specify 'dtype=object' when creating the ndarray\n",
      "  rot = Quaternion(self.ego.iloc[eidx][\"rotation\"])\n"
     ]
    },
    {
     "name": "stdout",
     "output_type": "stream",
     "text": [
      "vx_com -5.916622205918617 vy_com 3.0655968533326443\n",
      "Number of new plots 1\n",
      "Number of dynamic tracks before run() 3\n",
      "before predict: x=[[2.1232732  0.         0.07567888 0.         0.03050766 0.        ]\n",
      " [0.         1.96044488 0.         0.07465732 0.         0.03009511]\n",
      " [0.07567888 0.         1.49296156 0.         0.28756286 0.        ]\n",
      " [0.         0.07465732 0.         1.49274217 0.         0.28750902]\n",
      " [0.03050766 0.         0.28756286 0.         2.65188074 0.        ]\n",
      " [0.         0.03009511 0.         0.28750902 0.         2.65181492]]\n",
      "after predict: x=[[2.64334108 0.         0.19294248 0.         0.05953865 0.        ]\n",
      " [0.         2.48035593 0.         0.19187305 0.         0.05912186]\n",
      " [0.19294248 0.         2.55102352 0.         0.48648309 0.        ]\n",
      " [0.         0.19187305 0.         2.55079568 0.         0.4864243 ]\n",
      " [0.05953865 0.         0.48648309 0.         2.65188074 0.        ]\n",
      " [0.         0.05912186 0.         0.4864243  0.         2.65181492]]\n",
      "before predict: x=[[0.84160961 0.         0.00586581 0.         0.01043967 0.        ]\n",
      " [0.         0.83594031 0.         0.00571311 0.         0.01036265]\n",
      " [0.00586581 0.         0.37538165 0.         0.07186597 0.        ]\n",
      " [0.         0.00571311 0.         0.37014557 0.         0.07081983]\n",
      " [0.01043967 0.         0.07186597 0.         2.64115295 0.        ]\n",
      " [0.         0.01036265 0.         0.07081983 0.         2.64093183]]\n",
      "after predict: x=[[1.34471173 0.         0.03597056 0.         0.02326083 0.        ]\n",
      " [0.         1.33898918 0.         0.03541044 0.         0.02310472]\n",
      " [0.03597056 0.         1.40102397 0.         0.26998149 0.        ]\n",
      " [0.         0.03541044 0.         1.3956297  0.         0.26891877]\n",
      " [0.02326083 0.         0.26998149 0.         2.64115295 0.        ]\n",
      " [0.         0.02310472 0.         0.26891877 0.         2.64093183]]\n",
      "before predict: x=[[3.57330551 0.         0.39666688 0.         0.12618306 0.        ]\n",
      " [0.         3.57330551 0.         0.39666688 0.         0.12618306]\n",
      " [0.39666688 0.         3.75236612 0.         0.870114   0.        ]\n",
      " [0.         0.39666688 0.         3.75236612 0.         0.870114  ]\n",
      " [0.12618306 0.         0.870114   0.         3.         0.        ]\n",
      " [0.         0.12618306 0.         0.870114   0.         3.        ]]\n",
      "after predict: x=[[4.15502849 0.         0.69557757 0.         0.19989116 0.        ]\n",
      " [0.         4.15502849 0.         0.69557757 0.         0.19989116]\n",
      " [0.69557757 0.         4.89978232 0.         1.095147   0.        ]\n",
      " [0.         0.69557757 0.         4.89978232 0.         1.095147  ]\n",
      " [0.19989116 0.         1.095147   0.         3.         0.        ]\n",
      " [0.         0.19989116 0.         1.095147   0.         3.        ]]\n",
      "Updating track = 1 z = [282.01117698 679.80515532  -5.91662221   3.06559685] cov=[[2.0795155  0.         0.         0.        ]\n",
      " [0.         2.31067071 0.         0.        ]\n",
      " [0.         0.         0.51093951 0.        ]\n",
      " [0.         0.         0.         0.50293684]]\n",
      "age = 10 hits = 3\n",
      "age = 9 hits = 6\n",
      "age = 5 hits = 1\n"
     ]
    },
    {
     "name": "stderr",
     "output_type": "stream",
     "text": [
      "/home/kfir/workspace/RadarLocalization/dataset.py:261: VisibleDeprecationWarning: Creating an ndarray from ragged nested sequences (which is a list-or-tuple of lists-or-tuples-or ndarrays with different lengths or shapes) is deprecated. If you meant to do this, you must specify 'dtype=object' when creating the ndarray\n",
      "  rot = Quaternion(self.ego.iloc[eidx][\"rotation\"])\n"
     ]
    },
    {
     "name": "stdout",
     "output_type": "stream",
     "text": [
      "vx_com -5.916269317110324 vy_com 3.0663228080401184\n",
      "Number of new plots 1\n",
      "Number of dynamic tracks before run() 3\n",
      "before predict: x=[[2.64334108 0.         0.19294248 0.         0.05953865 0.        ]\n",
      " [0.         2.48035593 0.         0.19187305 0.         0.05912186]\n",
      " [0.19294248 0.         2.55102352 0.         0.48648309 0.        ]\n",
      " [0.         0.19187305 0.         2.55079568 0.         0.4864243 ]\n",
      " [0.05953865 0.         0.48648309 0.         2.65188074 0.        ]\n",
      " [0.         0.05912186 0.         0.4864243  0.         2.65181492]]\n",
      "after predict: x=[[3.18335643 0.         0.37981611 0.         0.10011511 0.        ]\n",
      " [0.         3.02021829 0.         0.37870109 0.         0.09969405]\n",
      " [0.37981611 0.         3.63217645 0.         0.67221551 0.        ]\n",
      " [0.         0.37870109 0.         3.63194006 0.         0.67215212]\n",
      " [0.10011511 0.         0.67221551 0.         2.65188074 0.        ]\n",
      " [0.         0.09969405 0.         0.67215212 0.         2.65181492]]\n",
      "before predict: x=[[0.81638685 0.         0.00583879 0.         0.01104375 0.        ]\n",
      " [0.         0.84747533 0.         0.00593996 0.         0.01145462]\n",
      " [0.00583879 0.         0.37437268 0.         0.07209688 0.        ]\n",
      " [0.         0.00593996 0.         0.36968302 0.         0.07119101]\n",
      " [0.01104375 0.         0.07209688 0.         2.60293328 0.        ]\n",
      " [0.         0.01145462 0.         0.07119101 0.         2.60275168]]\n",
      "after predict: x=[[1.31913574 0.         0.0338102  0.         0.02247738 0.        ]\n",
      " [0.         1.35021709 0.         0.033605   0.         0.02282436]\n",
      " [0.0338102  0.         1.39723995 0.         0.25440112 0.        ]\n",
      " [0.         0.033605   0.         1.3924225  0.         0.25348253]\n",
      " [0.02247738 0.         0.25440112 0.         2.60293328 0.        ]\n",
      " [0.         0.02282436 0.         0.25348253 0.         2.60275168]]\n",
      "before predict: x=[[4.15502849 0.         0.69557757 0.         0.19989116 0.        ]\n",
      " [0.         4.15502849 0.         0.69557757 0.         0.19989116]\n",
      " [0.69557757 0.         4.89978232 0.         1.095147   0.        ]\n",
      " [0.         0.69557757 0.         4.89978232 0.         1.095147  ]\n",
      " [0.19989116 0.         1.095147   0.         3.         0.        ]\n",
      " [0.         0.19989116 0.         1.095147   0.         3.        ]]\n",
      "after predict: x=[[4.77787205 0.         1.06132191 0.         0.28395105 0.        ]\n",
      " [0.         4.77787205 0.         1.06132191 0.         0.28395105]\n",
      " [1.06132191 0.         6.06790209 0.         1.305261   0.        ]\n",
      " [0.         1.06132191 0.         6.06790209 0.         1.305261  ]\n",
      " [0.28395105 0.         1.305261   0.         3.         0.        ]\n",
      " [0.         0.28395105 0.         1.305261   0.         3.        ]]\n",
      "Updating track = 1 z = [281.2112568  680.00272345  -5.91626932   3.06632281] cov=[[2.6871558  0.         0.         0.        ]\n",
      " [0.         2.47559757 0.         0.        ]\n",
      " [0.         0.         0.5109382  0.        ]\n",
      " [0.         0.         0.         0.50293823]]\n",
      "age = 11 hits = 3\n",
      "age = 10 hits = 7\n",
      "age = 6 hits = 1\n"
     ]
    },
    {
     "name": "stderr",
     "output_type": "stream",
     "text": [
      "/home/kfir/workspace/RadarLocalization/dataset.py:261: VisibleDeprecationWarning: Creating an ndarray from ragged nested sequences (which is a list-or-tuple of lists-or-tuples-or ndarrays with different lengths or shapes) is deprecated. If you meant to do this, you must specify 'dtype=object' when creating the ndarray\n",
      "  rot = Quaternion(self.ego.iloc[eidx][\"rotation\"])\n"
     ]
    },
    {
     "name": "stdout",
     "output_type": "stream",
     "text": [
      "vx_com -5.99045141239923 vy_com 3.1043602229304907\n",
      "Number of new plots 1\n",
      "Number of dynamic tracks before run() 3\n",
      "before predict: x=[[3.18335643 0.         0.37981611 0.         0.10011511 0.        ]\n",
      " [0.         3.02021829 0.         0.37870109 0.         0.09969405]\n",
      " [0.37981611 0.         3.63217645 0.         0.67221551 0.        ]\n",
      " [0.         0.37870109 0.         3.63194006 0.         0.67215212]\n",
      " [0.10011511 0.         0.67221551 0.         2.65188074 0.        ]\n",
      " [0.         0.09969405 0.         0.67215212 0.         2.65181492]]\n",
      "after predict: x=[[3.76164487 0.         0.66601995 0.         0.15800101 0.        ]\n",
      " [0.         3.59833572 0.         0.66485506 0.         0.15757501]\n",
      " [0.66601995 0.         4.74794826 0.         0.87114104 0.        ]\n",
      " [0.         0.66485506 0.         4.74770198 0.         0.87107271]\n",
      " [0.15800101 0.         0.87114104 0.         2.65188074 0.        ]\n",
      " [0.         0.15757501 0.         0.87107271 0.         2.65181492]]\n",
      "before predict: x=[[0.88451959 0.         0.00607313 0.         0.01205473 0.        ]\n",
      " [0.         0.87344523 0.         0.00577099 0.         0.01186283]\n",
      " [0.00607313 0.         0.37410774 0.         0.06807842 0.        ]\n",
      " [0.         0.00577099 0.         0.36946165 0.         0.06721943]\n",
      " [0.01205473 0.         0.06807842 0.         2.56893553 0.        ]\n",
      " [0.         0.01186283 0.         0.06721943 0.         2.56876349]]\n",
      "after predict: x=[[1.38765271 0.         0.03615711 0.         0.02438913 0.        ]\n",
      " [0.         1.37650543 0.         0.03548477 0.         0.02413231]\n",
      " [0.03615711 0.         1.39877655 0.         0.26078198 0.        ]\n",
      " [0.         0.03548477 0.         1.39400062 0.         0.25991009]\n",
      " [0.02438913 0.         0.26078198 0.         2.56893553 0.        ]\n",
      " [0.         0.02413231 0.         0.25991009 0.         2.56876349]]\n",
      "before predict: x=[[4.77787205 0.         1.06132191 0.         0.28395105 0.        ]\n",
      " [0.         4.77787205 0.         1.06132191 0.         0.28395105]\n",
      " [1.06132191 0.         6.06790209 0.         1.305261   0.        ]\n",
      " [0.         1.06132191 0.         6.06790209 0.         1.305261  ]\n",
      " [0.28395105 0.         1.305261   0.         3.         0.        ]\n",
      " [0.         0.28395105 0.         1.305261   0.         3.        ]]\n",
      "after predict: x=[[5.47341418 0.         1.54944357 0.         0.39030301 0.        ]\n",
      " [0.         5.47341418 0.         1.54944357 0.         0.39030301]\n",
      " [1.54944357 0.         7.28060603 0.         1.5303     0.        ]\n",
      " [0.         1.54944357 0.         7.28060603 0.         1.5303    ]\n",
      " [0.39030301 0.         1.5303     0.         3.         0.        ]\n",
      " [0.         0.39030301 0.         1.5303     0.         3.        ]]\n",
      "Updating track = 1 z = [281.12234967 680.0625371   -5.99045141   3.10436022] cov=[[2.30986117 0.         0.         0.        ]\n",
      " [0.         2.10583911 0.         0.        ]\n",
      " [0.         0.         0.5        0.        ]\n",
      " [0.         0.         0.         0.5       ]]\n",
      "age = 12 hits = 3\n",
      "age = 11 hits = 8\n",
      "age = 7 hits = 1\n"
     ]
    },
    {
     "name": "stderr",
     "output_type": "stream",
     "text": [
      "/home/kfir/workspace/RadarLocalization/dataset.py:261: VisibleDeprecationWarning: Creating an ndarray from ragged nested sequences (which is a list-or-tuple of lists-or-tuples-or ndarrays with different lengths or shapes) is deprecated. If you meant to do this, you must specify 'dtype=object' when creating the ndarray\n",
      "  rot = Quaternion(self.ego.iloc[eidx][\"rotation\"])\n"
     ]
    },
    {
     "name": "stdout",
     "output_type": "stream",
     "text": [
      "vx_com -5.990000811226908 vy_com 3.106974363700147\n",
      "Number of new plots 1\n",
      "Number of dynamic tracks before run() 2\n",
      "before predict: x=[[3.76164487 0.         0.66601995 0.         0.15800101 0.        ]\n",
      " [0.         3.59833572 0.         0.66485506 0.         0.15757501]\n",
      " [0.66601995 0.         4.74794826 0.         0.87114104 0.        ]\n",
      " [0.         0.66485506 0.         4.74770198 0.         0.87107271]\n",
      " [0.15800101 0.         0.87114104 0.         2.65188074 0.        ]\n",
      " [0.         0.15757501 0.         0.87107271 0.         2.65181492]]\n",
      "after predict: x=[[4.56039977 0.         1.4079698  0.         0.31197717 0.        ]\n",
      " [0.         4.39673889 0.         1.4067053  0.         0.31154059]\n",
      " [1.4079698  0.         6.05590057 0.         1.25520497 0.        ]\n",
      " [0.         1.4067053  0.         6.05563312 0.         1.25512711]\n",
      " [0.31197717 0.         1.25520497 0.         2.65188074 0.        ]\n",
      " [0.         0.31154059 0.         1.25512711 0.         2.65181492]]\n",
      "before predict: x=[[0.866607   0.         0.00594904 0.         0.01213608 0.        ]\n",
      " [0.         0.83215551 0.         0.00566589 0.         0.0116508 ]\n",
      " [0.00594904 0.         0.36831175 0.         0.06862103 0.        ]\n",
      " [0.         0.00566589 0.         0.36797906 0.         0.06856222]\n",
      " [0.01213608 0.         0.06862103 0.         2.53301713 0.        ]\n",
      " [0.         0.0116508  0.         0.06856222 0.         2.53298995]]\n",
      "after predict: x=[[1.37679705 0.         0.06705444 0.         0.0486391  0.        ]\n",
      " [0.         1.34224621 0.         0.06665094 0.         0.04814502]\n",
      " [0.06705444 0.         1.44131779 0.         0.4354703  0.        ]\n",
      " [0.         0.06665094 0.         1.44096749 0.         0.43540755]\n",
      " [0.0486391  0.         0.4354703  0.         2.53301713 0.        ]\n",
      " [0.         0.04814502 0.         0.43540755 0.         2.53298995]]\n",
      "Updating track = 1 z = [279.9220601  680.27565583  -5.99000081   3.10697436] cov=[[2.10021015 0.         0.         0.        ]\n",
      " [0.         2.02973684 0.         0.        ]\n",
      " [0.         0.         0.5        0.        ]\n",
      " [0.         0.         0.         0.5       ]]\n",
      "age = 13 hits = 3\n",
      "age = 12 hits = 9\n"
     ]
    },
    {
     "name": "stderr",
     "output_type": "stream",
     "text": [
      "/home/kfir/workspace/RadarLocalization/dataset.py:261: VisibleDeprecationWarning: Creating an ndarray from ragged nested sequences (which is a list-or-tuple of lists-or-tuples-or ndarrays with different lengths or shapes) is deprecated. If you meant to do this, you must specify 'dtype=object' when creating the ndarray\n",
      "  rot = Quaternion(self.ego.iloc[eidx][\"rotation\"])\n"
     ]
    },
    {
     "name": "stdout",
     "output_type": "stream",
     "text": [
      "vx_com -5.930420787607458 vy_com 3.109787545897898\n",
      "Number of new plots 1\n",
      "Number of dynamic tracks before run() 2\n",
      "before predict: x=[[4.56039977 0.         1.4079698  0.         0.31197717 0.        ]\n",
      " [0.         4.39673889 0.         1.4067053  0.         0.31154059]\n",
      " [1.4079698  0.         6.05590057 0.         1.25520497 0.        ]\n",
      " [0.         1.4067053  0.         6.05563312 0.         1.25512711]\n",
      " [0.31197717 0.         1.25520497 0.         2.65188074 0.        ]\n",
      " [0.         0.31154059 0.         1.25512711 0.         2.65181492]]\n",
      "after predict: x=[[5.28869884 0.         1.86257046 0.         0.40615854 0.        ]\n",
      " [0.         5.12485779 0.         1.86125618 0.         0.40571636]\n",
      " [1.86257046 0.         7.24426332 0.         1.44050514 0.        ]\n",
      " [0.         1.86125618 0.         7.24398466 0.         1.44042268]\n",
      " [0.40615854 0.         1.44050514 0.         2.65188074 0.        ]\n",
      " [0.         0.40571636 0.         1.44042268 0.         2.65181492]]\n",
      "before predict: x=[[0.83077855 0.         0.01043872 0.         0.02030746 0.        ]\n",
      " [0.         0.80712397 0.         0.01034206 0.         0.01999415]\n",
      " [0.01043872 0.         0.37113566 0.         0.11199144 0.        ]\n",
      " [0.         0.01034206 0.         0.37111077 0.         0.11199337]\n",
      " [0.02030746 0.         0.11199144 0.         2.43500894 0.        ]\n",
      " [0.         0.01999415 0.         0.11199337 0.         2.43499017]]\n",
      "after predict: x=[[1.33420131 0.         0.03902638 0.         0.03407735 0.        ]\n",
      " [0.         1.31053157 0.         0.0389061  0.         0.03376412]\n",
      " [0.03902638 0.         1.39867543 0.         0.28213769 0.        ]\n",
      " [0.         0.0389061  0.         1.39865072 0.         0.28213831]\n",
      " [0.03407735 0.         0.28213769 0.         2.43500894 0.        ]\n",
      " [0.         0.03376412 0.         0.28213831 0.         2.43499017]]\n",
      "Updating track = 1 z = [279.83793401 680.33518506  -5.93042079   3.10978755] cov=[[2.00176256 0.         0.         0.        ]\n",
      " [0.         2.01819618 0.         0.        ]\n",
      " [0.         0.         0.5        0.        ]\n",
      " [0.         0.         0.         0.5       ]]\n",
      "age = 14 hits = 3\n",
      "age = 13 hits = 10\n"
     ]
    },
    {
     "name": "stderr",
     "output_type": "stream",
     "text": [
      "/home/kfir/workspace/RadarLocalization/dataset.py:261: VisibleDeprecationWarning: Creating an ndarray from ragged nested sequences (which is a list-or-tuple of lists-or-tuples-or ndarrays with different lengths or shapes) is deprecated. If you meant to do this, you must specify 'dtype=object' when creating the ndarray\n",
      "  rot = Quaternion(self.ego.iloc[eidx][\"rotation\"])\n"
     ]
    },
    {
     "name": "stdout",
     "output_type": "stream",
     "text": [
      "vx_com -5.7735200583593125 vy_com 3.112132145702771\n",
      "Number of new plots 1\n",
      "Number of dynamic tracks before run() 1\n",
      "before predict: x=[[0.80030557 0.         0.00616841 0.         0.01697253 0.        ]\n",
      " [0.         0.79427765 0.         0.00621344 0.         0.01696988]\n",
      " [0.00616841 0.         0.36829759 0.         0.07421142 0.        ]\n",
      " [0.         0.00621344 0.         0.368296   0.         0.07421354]\n",
      " [0.01697253 0.         0.07421142 0.         2.39284433 0.        ]\n",
      " [0.         0.01696988 0.         0.07421354 0.         2.3928293 ]]\n",
      "after predict: x=[[1.30346539 0.         0.03629464 0.         0.02932844 0.        ]\n",
      " [0.         1.29744422 0.         0.03633936 0.         0.02932591]\n",
      " [0.03629464 0.         1.39300943 0.         0.25424185 0.        ]\n",
      " [0.         0.03633936 0.         1.39300807 0.         0.25424284]\n",
      " [0.02932844 0.         0.25424185 0.         2.39284433 0.        ]\n",
      " [0.         0.02932591 0.         0.25424284 0.         2.3928293 ]]\n",
      "Updating track = 0 z = [279.30023988 680.40520312  -5.77352006   3.11213215] cov=[[2.00216808 0.         0.         0.        ]\n",
      " [0.         2.00781561 0.         0.        ]\n",
      " [0.         0.         0.5        0.        ]\n",
      " [0.         0.         0.         0.5       ]]\n",
      "age = 14 hits = 11\n"
     ]
    },
    {
     "name": "stderr",
     "output_type": "stream",
     "text": [
      "/home/kfir/workspace/RadarLocalization/dataset.py:261: VisibleDeprecationWarning: Creating an ndarray from ragged nested sequences (which is a list-or-tuple of lists-or-tuples-or ndarrays with different lengths or shapes) is deprecated. If you meant to do this, you must specify 'dtype=object' when creating the ndarray\n",
      "  rot = Quaternion(self.ego.iloc[eidx][\"rotation\"])\n"
     ]
    },
    {
     "name": "stdout",
     "output_type": "stream",
     "text": [
      "vx_com -5.719998284658451 vy_com 3.14339123963931\n",
      "Number of new plots 1\n",
      "Number of dynamic tracks before run() 1\n",
      "before predict: x=[[0.78923231 0.         0.0058076  0.         0.01481443 0.        ]\n",
      " [0.         0.78788897 0.         0.00583183 0.         0.0148527 ]\n",
      " [0.0058076  0.         0.36790735 0.         0.06708189 0.        ]\n",
      " [0.         0.00583183 0.         0.36790718 0.         0.06708213]\n",
      " [0.01481443 0.         0.06708189 0.         2.35851727 0.        ]\n",
      " [0.         0.0148527  0.         0.06708213 0.         2.35850207]]\n",
      "after predict: x=[[1.29192442 0.         0.03328827 0.         0.0251725  0.        ]\n",
      " [0.         1.29058463 0.         0.03331514 0.         0.02521076]\n",
      " [0.03328827 0.         1.38862349 0.         0.23099648 0.        ]\n",
      " [0.         0.03331514 0.         1.38862329 0.         0.23099566]\n",
      " [0.0251725  0.         0.23099648 0.         2.35851727 0.        ]\n",
      " [0.         0.02521076 0.         0.23099566 0.         2.35850207]]\n",
      "Updating track = 0 z = [278.98257676 680.58667933  -5.71999828   3.14339124] cov=[[2.12858009 0.         0.         0.        ]\n",
      " [0.         2.16857457 0.         0.        ]\n",
      " [0.         0.         0.50921772 0.        ]\n",
      " [0.         0.         0.         0.50249497]]\n",
      "age = 15 hits = 12\n"
     ]
    },
    {
     "name": "stderr",
     "output_type": "stream",
     "text": [
      "/home/kfir/workspace/RadarLocalization/dataset.py:261: VisibleDeprecationWarning: Creating an ndarray from ragged nested sequences (which is a list-or-tuple of lists-or-tuples-or ndarrays with different lengths or shapes) is deprecated. If you meant to do this, you must specify 'dtype=object' when creating the ndarray\n",
      "  rot = Quaternion(self.ego.iloc[eidx][\"rotation\"])\n"
     ]
    },
    {
     "name": "stdout",
     "output_type": "stream",
     "text": [
      "vx_com -5.577351466976364 vy_com 3.157430868755395\n",
      "Number of new plots 1\n",
      "Number of dynamic tracks before run() 1\n",
      "before predict: x=[[0.80373847 0.         0.00555916 0.         0.01314572 0.        ]\n",
      " [0.         0.80884713 0.         0.0055505  0.         0.01325596]\n",
      " [0.00555916 0.         0.37256406 0.         0.06192447 0.        ]\n",
      " [0.         0.0055505  0.         0.3689528  0.         0.06132447]\n",
      " [0.01314572 0.         0.06192447 0.         2.33027101 0.        ]\n",
      " [0.         0.01325596 0.         0.06132447 0.         2.33015726]]\n",
      "after predict: x=[[1.30679547 0.         0.03555426 0.         0.02437379 0.        ]\n",
      " [0.         1.31188281 0.         0.03527748 0.         0.02443862]\n",
      " [0.03555426 0.         1.39502018 0.         0.23698841 0.        ]\n",
      " [0.         0.03527748 0.         1.39131813 0.         0.23637986]\n",
      " [0.02437379 0.         0.23698841 0.         2.33027101 0.        ]\n",
      " [0.         0.02443862 0.         0.23637986 0.         2.33015726]]\n",
      "Updating track = 0 z = [277.7966131  680.22153298  -5.57735147   3.15743087] cov=[[2.59288883 0.         0.         0.        ]\n",
      " [0.         2.25988996 0.         0.        ]\n",
      " [0.         0.         0.51091627 0.        ]\n",
      " [0.         0.         0.         0.50296531]]\n",
      "age = 16 hits = 13\n"
     ]
    },
    {
     "name": "stderr",
     "output_type": "stream",
     "text": [
      "/home/kfir/workspace/RadarLocalization/dataset.py:261: VisibleDeprecationWarning: Creating an ndarray from ragged nested sequences (which is a list-or-tuple of lists-or-tuples-or ndarrays with different lengths or shapes) is deprecated. If you meant to do this, you must specify 'dtype=object' when creating the ndarray\n",
      "  rot = Quaternion(self.ego.iloc[eidx][\"rotation\"])\n"
     ]
    },
    {
     "name": "stdout",
     "output_type": "stream",
     "text": [
      "vx_com -5.4184606506261686 vy_com 3.164226045414281\n",
      "Number of new plots 1\n",
      "Number of dynamic tracks before run() 1\n",
      "before predict: x=[[0.86859127 0.         0.00633813 0.         0.01326888 0.        ]\n",
      " [0.         0.82977598 0.         0.00592753 0.         0.01267958]\n",
      " [0.00633813 0.         0.37393382 0.         0.0634797  0.        ]\n",
      " [0.         0.00592753 0.         0.36939467 0.         0.06271042]\n",
      " [0.01326888 0.         0.0634797  0.         2.30070123 0.        ]\n",
      " [0.         0.01267958 0.         0.06271042 0.         2.30054796]]\n",
      "after predict: x=[[1.37178913 0.         0.0365386  0.         0.02457883 0.        ]\n",
      " [0.         1.33288254 0.         0.03573509 0.         0.02393115]\n",
      " [0.0365386  0.         1.39655373 0.         0.23679383 0.        ]\n",
      " [0.         0.03573509 0.         1.39189781 0.         0.236013  ]\n",
      " [0.02457883 0.         0.23679383 0.         2.30070123 0.        ]\n",
      " [0.         0.02393115 0.         0.236013   0.         2.30054796]]\n",
      "Updating track = 0 z = [277.84887299 680.83838736  -5.41846065   3.16422605] cov=[[2.05968921 0.         0.         0.        ]\n",
      " [0.         2.29524783 0.         0.        ]\n",
      " [0.         0.         0.51090352 0.        ]\n",
      " [0.         0.         0.         0.50297809]]\n",
      "age = 17 hits = 14\n"
     ]
    },
    {
     "name": "stderr",
     "output_type": "stream",
     "text": [
      "/home/kfir/workspace/RadarLocalization/dataset.py:261: VisibleDeprecationWarning: Creating an ndarray from ragged nested sequences (which is a list-or-tuple of lists-or-tuples-or ndarrays with different lengths or shapes) is deprecated. If you meant to do this, you must specify 'dtype=object' when creating the ndarray\n",
      "  rot = Quaternion(self.ego.iloc[eidx][\"rotation\"])\n"
     ]
    },
    {
     "name": "stdout",
     "output_type": "stream",
     "text": [
      "vx_com -5.057920806893764 vy_com 3.140103398642156\n",
      "Number of new plots 1\n",
      "Number of dynamic tracks before run() 1\n",
      "before predict: x=[[0.82314195 0.         0.0058755  0.         0.01203287 0.        ]\n",
      " [0.         0.84294573 0.         0.00600193 0.         0.01232598]\n",
      " [0.0058755  0.         0.37403248 0.         0.06336695 0.        ]\n",
      " [0.         0.00600193 0.         0.36944219 0.         0.06259663]\n",
      " [0.01203287 0.         0.06336695 0.         2.2711883  0.        ]\n",
      " [0.         0.01232598 0.         0.06259663 0.         2.27104716]]\n",
      "after predict: x=[[1.33335515 0.         0.06712819 0.         0.04494554 0.        ]\n",
      " [0.         1.35310329 0.         0.0666088  0.         0.04512577]\n",
      " [0.06712819 0.         1.43985781 0.         0.39181257 0.        ]\n",
      " [0.         0.0666088  0.         1.43504177 0.         0.39102184]\n",
      " [0.04494554 0.         0.39181257 0.         2.2711883  0.        ]\n",
      " [0.         0.04512577 0.         0.39102184 0.         2.27104716]]\n",
      "Updating track = 0 z = [276.30496349 681.2964037   -5.05792081   3.1401034 ] cov=[[2.40516528 0.         0.         0.        ]\n",
      " [0.         2.30526663 0.         0.        ]\n",
      " [0.         0.         0.5        0.        ]\n",
      " [0.         0.         0.         0.5       ]]\n",
      "age = 18 hits = 15\n"
     ]
    },
    {
     "name": "stderr",
     "output_type": "stream",
     "text": [
      "/home/kfir/workspace/RadarLocalization/dataset.py:261: VisibleDeprecationWarning: Creating an ndarray from ragged nested sequences (which is a list-or-tuple of lists-or-tuples-or ndarrays with different lengths or shapes) is deprecated. If you meant to do this, you must specify 'dtype=object' when creating the ndarray\n",
      "  rot = Quaternion(self.ego.iloc[eidx][\"rotation\"])\n"
     ]
    },
    {
     "name": "stdout",
     "output_type": "stream",
     "text": [
      "vx_com -4.940295550437007 vy_com 3.147662250887301\n",
      "Number of new plots 1\n",
      "Number of dynamic tracks before run() 1\n",
      "before predict: x=[[0.85684776 0.         0.01113833 0.         0.02020527 0.        ]\n",
      " [0.         0.85172664 0.         0.01085218 0.         0.01996627]\n",
      " [0.01113833 0.         0.37104445 0.         0.10084467 0.        ]\n",
      " [0.         0.01085218 0.         0.3707228  0.         0.10088799]\n",
      " [0.02020527 0.         0.10084467 0.         2.1917863  0.        ]\n",
      " [0.         0.01996627 0.         0.10088799 0.         2.1917575 ]]\n",
      "after predict: x=[[1.36043098 0.         0.03996067 0.         0.03282329 0.        ]\n",
      " [0.         1.35526659 0.         0.03963518 0.         0.03258729]\n",
      " [0.03996067 0.         1.39628049 0.         0.25589382 0.        ]\n",
      " [0.         0.03963518 0.         1.39596482 0.         0.2559351 ]\n",
      " [0.03282329 0.         0.25589382 0.         2.1917863  0.        ]\n",
      " [0.         0.03258729 0.         0.2559351  0.         2.1917575 ]]\n",
      "Updating track = 0 z = [276.29912524 681.08445179  -4.94029555   3.14766225] cov=[[2.05265998 0.         0.         0.        ]\n",
      " [0.         2.04724145 0.         0.        ]\n",
      " [0.         0.         0.5        0.        ]\n",
      " [0.         0.         0.         0.5       ]]\n",
      "age = 19 hits = 16\n"
     ]
    },
    {
     "name": "stderr",
     "output_type": "stream",
     "text": [
      "/home/kfir/workspace/RadarLocalization/dataset.py:261: VisibleDeprecationWarning: Creating an ndarray from ragged nested sequences (which is a list-or-tuple of lists-or-tuples-or ndarrays with different lengths or shapes) is deprecated. If you meant to do this, you must specify 'dtype=object' when creating the ndarray\n",
      "  rot = Quaternion(self.ego.iloc[eidx][\"rotation\"])\n"
     ]
    },
    {
     "name": "stdout",
     "output_type": "stream",
     "text": [
      "vx_com -4.791274435318069 vy_com 3.156571053389662\n",
      "Number of new plots 1\n",
      "Number of dynamic tracks before run() 1\n",
      "before predict: x=[[0.81786933 0.         0.00633835 0.         0.01650117 0.        ]\n",
      " [0.         0.81514489 0.         0.00629066 0.         0.01639209]\n",
      " [0.00633835 0.         0.36813043 0.         0.06738786 0.        ]\n",
      " [0.         0.00629066 0.         0.3681089  0.         0.06741099]\n",
      " [0.01650117 0.         0.06738786 0.         2.15703416 0.        ]\n",
      " [0.         0.01639209 0.         0.06741099 0.         2.1569909 ]]\n",
      "after predict: x=[[1.32102869 0.         0.0362068  0.         0.02762054 0.        ]\n",
      " [0.         1.31829638 0.         0.0361495  0.         0.02751307]\n",
      " [0.0362068  0.         1.39036917 0.         0.22915248 0.        ]\n",
      " [0.         0.0361495  0.         1.39035087 0.         0.22917237]\n",
      " [0.02762054 0.         0.22915248 0.         2.15703416 0.        ]\n",
      " [0.         0.02751307 0.         0.22917237 0.         2.1569909 ]]\n",
      "Updating track = 0 z = [275.80154964 681.40878905  -4.79127444   3.15657105] cov=[[2.00222943 0.         0.         0.        ]\n",
      " [0.         2.00775408 0.         0.        ]\n",
      " [0.         0.         0.5        0.        ]\n",
      " [0.         0.         0.         0.5       ]]\n",
      "age = 20 hits = 17\n"
     ]
    },
    {
     "name": "stderr",
     "output_type": "stream",
     "text": [
      "/home/kfir/workspace/RadarLocalization/dataset.py:261: VisibleDeprecationWarning: Creating an ndarray from ragged nested sequences (which is a list-or-tuple of lists-or-tuples-or ndarrays with different lengths or shapes) is deprecated. If you meant to do this, you must specify 'dtype=object' when creating the ndarray\n",
      "  rot = Quaternion(self.ego.iloc[eidx][\"rotation\"])\n"
     ]
    },
    {
     "name": "stdout",
     "output_type": "stream",
     "text": [
      "vx_com -4.648492053254726 vy_com 3.165706137600513\n",
      "Number of new plots 1\n",
      "Number of dynamic tracks before run() 1\n",
      "before predict: x=[[0.79565465 0.         0.00577104 0.         0.01399967 0.        ]\n",
      " [0.         0.79553121 0.         0.005773   0.         0.01396556]\n",
      " [0.00577104 0.         0.3677231  0.         0.06054355 0.        ]\n",
      " [0.         0.005773   0.         0.36772193 0.         0.06054985]\n",
      " [0.01399967 0.         0.06054355 0.         2.12909363 0.        ]\n",
      " [0.         0.01396556 0.         0.06054985 0.         2.12904682]]\n",
      "after predict: x=[[1.29866128 0.         0.03507516 0.         0.02437707 0.        ]\n",
      " [0.         1.29853793 0.         0.03507455 0.         0.02434329]\n",
      " [0.03507516 0.         1.38847788 0.         0.2187565  0.        ]\n",
      " [0.         0.03507455 0.         1.38847739 0.         0.21875932]\n",
      " [0.02437707 0.         0.2187565  0.         2.12909363 0.        ]\n",
      " [0.         0.02434329 0.         0.21875932 0.         2.12904682]]\n",
      "Updating track = 0 z = [275.11690494 681.61035952  -4.64849205   3.16570614] cov=[[2.00224232 0.         0.         0.        ]\n",
      " [0.         2.00774126 0.         0.        ]\n",
      " [0.         0.         0.5        0.        ]\n",
      " [0.         0.         0.         0.5       ]]\n",
      "age = 21 hits = 18\n"
     ]
    },
    {
     "name": "stderr",
     "output_type": "stream",
     "text": [
      "/home/kfir/workspace/RadarLocalization/dataset.py:261: VisibleDeprecationWarning: Creating an ndarray from ragged nested sequences (which is a list-or-tuple of lists-or-tuples-or ndarrays with different lengths or shapes) is deprecated. If you meant to do this, you must specify 'dtype=object' when creating the ndarray\n",
      "  rot = Quaternion(self.ego.iloc[eidx][\"rotation\"])\n"
     ]
    },
    {
     "name": "stdout",
     "output_type": "stream",
     "text": [
      "vx_com -4.5490560383621865 vy_com 3.1741858716967295\n",
      "Number of new plots 1\n",
      "Number of dynamic tracks before run() 1\n",
      "before predict: x=[[0.78749444 0.         0.00563414 0.         0.01232441 0.        ]\n",
      " [0.         0.78829816 0.         0.00564032 0.         0.01231765]\n",
      " [0.00563414 0.         0.36759212 0.         0.05786157 0.        ]\n",
      " [0.         0.00564032 0.         0.36759213 0.         0.05786252]\n",
      " [0.01232441 0.         0.05786157 0.         2.10362839 0.        ]\n",
      " [0.         0.01231765 0.         0.05786252 0.         2.10358154]]\n",
      "after predict: x=[[1.29022676 0.         0.03331854 0.         0.02168221 0.        ]\n",
      " [0.         1.29103133 0.         0.03332425 0.         0.0216754 ]\n",
      " [0.03331854 0.         1.38630772 0.         0.20668487 0.        ]\n",
      " [0.         0.03332425 0.         1.38630763 0.         0.2066825 ]\n",
      " [0.02168221 0.         0.20668487 0.         2.10362839 0.        ]\n",
      " [0.         0.0216754  0.         0.2066825  0.         2.10358154]]\n",
      "Updating track = 0 z = [274.55744459 681.62894574  -4.54905604   3.17418587] cov=[[2.  0.  0.  0. ]\n",
      " [0.  2.  0.  0. ]\n",
      " [0.  0.  0.5 0. ]\n",
      " [0.  0.  0.  0.5]]\n",
      "age = 22 hits = 19\n"
     ]
    },
    {
     "name": "stderr",
     "output_type": "stream",
     "text": [
      "/home/kfir/workspace/RadarLocalization/dataset.py:261: VisibleDeprecationWarning: Creating an ndarray from ragged nested sequences (which is a list-or-tuple of lists-or-tuples-or ndarrays with different lengths or shapes) is deprecated. If you meant to do this, you must specify 'dtype=object' when creating the ndarray\n",
      "  rot = Quaternion(self.ego.iloc[eidx][\"rotation\"])\n"
     ]
    },
    {
     "name": "stdout",
     "output_type": "stream",
     "text": [
      "Number of new plots 0\n",
      "Number of dynamic tracks before run() 1\n",
      "before predict: x=[[0.78406083 0.         0.00536939 0.         0.01096258 0.        ]\n",
      " [0.         0.78435807 0.         0.005369   0.         0.01095541]\n",
      " [0.00536939 0.         0.36744224 0.         0.05473716 0.        ]\n",
      " [0.         0.005369   0.         0.36744223 0.         0.05473655]\n",
      " [0.01096258 0.         0.05473716 0.         2.08088286 0.        ]\n",
      " [0.         0.01095541 0.         0.05473655 0.         2.08083663]]\n",
      "after predict: x=[[1.28703855 0.         0.03467544 0.         0.02093321 0.        ]\n",
      " [0.         1.28733569 0.         0.0346745  0.         0.02092587]\n",
      " [0.03467544 0.         1.38738351 0.         0.2109303  0.        ]\n",
      " [0.         0.0346745  0.         1.38738315 0.         0.21092623]\n",
      " [0.02093321 0.         0.2109303  0.         2.08088286 0.        ]\n",
      " [0.         0.02092587 0.         0.21092623 0.         2.08083663]]\n",
      "age = 23 hits = 19\n"
     ]
    },
    {
     "name": "stderr",
     "output_type": "stream",
     "text": [
      "/home/kfir/workspace/RadarLocalization/dataset.py:261: VisibleDeprecationWarning: Creating an ndarray from ragged nested sequences (which is a list-or-tuple of lists-or-tuples-or ndarrays with different lengths or shapes) is deprecated. If you meant to do this, you must specify 'dtype=object' when creating the ndarray\n",
      "  rot = Quaternion(self.ego.iloc[eidx][\"rotation\"])\n"
     ]
    },
    {
     "name": "stdout",
     "output_type": "stream",
     "text": [
      "vx_com -4.322767508901292 vy_com 3.2539229103761986\n",
      "Number of new plots 1\n",
      "Number of dynamic tracks before run() 1\n",
      "before predict: x=[[1.28703855 0.         0.03467544 0.         0.02093321 0.        ]\n",
      " [0.         1.28733569 0.         0.0346745  0.         0.02092587]\n",
      " [0.03467544 0.         1.38738351 0.         0.2109303  0.        ]\n",
      " [0.         0.0346745  0.         1.38738315 0.         0.21092623]\n",
      " [0.02093321 0.         0.2109303  0.         2.08088286 0.        ]\n",
      " [0.         0.02092587 0.         0.21092623 0.         2.08083663]]\n",
      "after predict: x=[[1.82760914 0.         0.2488057  0.         0.0734262  0.        ]\n",
      " [0.         1.82790582 0.         0.24880344 0.         0.07341778]\n",
      " [0.2488057  0.         2.49236948 0.         0.51279149 0.        ]\n",
      " [0.         0.24880344 0.         2.49236697 0.         0.51278072]\n",
      " [0.0734262  0.         0.51279149 0.         2.08088286 0.        ]\n",
      " [0.         0.07341778 0.         0.51278072 0.         2.08083663]]\n",
      "Updating track = 0 z = [273.07206271 682.58180101  -4.32276751   3.25392291] cov=[[2.00913409 0.         0.         0.        ]\n",
      " [0.         2.03078103 0.         0.        ]\n",
      " [0.         0.         0.51211632 0.        ]\n",
      " [0.         0.         0.         0.50350017]]\n",
      "age = 24 hits = 20\n"
     ]
    },
    {
     "name": "stderr",
     "output_type": "stream",
     "text": [
      "/home/kfir/workspace/RadarLocalization/dataset.py:261: VisibleDeprecationWarning: Creating an ndarray from ragged nested sequences (which is a list-or-tuple of lists-or-tuples-or ndarrays with different lengths or shapes) is deprecated. If you meant to do this, you must specify 'dtype=object' when creating the ndarray\n",
      "  rot = Quaternion(self.ego.iloc[eidx][\"rotation\"])\n"
     ]
    },
    {
     "name": "stdout",
     "output_type": "stream",
     "text": [
      "vx_com -4.313197238426022 vy_com 3.3209586061432224\n",
      "Number of new plots 1\n",
      "Number of dynamic tracks before run() 1\n",
      "before predict: x=[[0.95135829 0.         0.02232767 0.         0.01630057 0.        ]\n",
      " [0.         0.95625112 0.         0.02212528 0.         0.01631383]\n",
      " [0.02232767 0.         0.42435451 0.         0.08706153 0.        ]\n",
      " [0.         0.02212528 0.         0.41842388 0.         0.08584454]\n",
      " [0.01630057 0.         0.08706153 0.         1.99311082 0.        ]\n",
      " [0.         0.01631383 0.         0.08584454 0.         1.99282002]]\n",
      "after predict: x=[[1.45723511 0.         0.05651702 0.         0.02842847 0.        ]\n",
      " [0.         1.46206383 0.         0.05586069 0.         0.02834968]\n",
      " [0.05651702 0.         1.44861032 0.         0.23648305 0.        ]\n",
      " [0.         0.05586069 0.         1.44249559 0.         0.23524426]\n",
      " [0.02842847 0.         0.23648305 0.         1.99311082 0.        ]\n",
      " [0.         0.02834968 0.         0.23524426 0.         1.99282002]]\n",
      "Updating track = 0 z = [272.51066148 682.49032617  -4.31319724   3.32095861] cov=[[2.03370227 0.         0.         0.        ]\n",
      " [0.         2.01624221 0.         0.        ]\n",
      " [0.         0.         0.5        0.        ]\n",
      " [0.         0.         0.         0.5       ]]\n",
      "age = 25 hits = 21\n"
     ]
    },
    {
     "name": "stderr",
     "output_type": "stream",
     "text": [
      "/home/kfir/workspace/RadarLocalization/dataset.py:261: VisibleDeprecationWarning: Creating an ndarray from ragged nested sequences (which is a list-or-tuple of lists-or-tuples-or ndarrays with different lengths or shapes) is deprecated. If you meant to do this, you must specify 'dtype=object' when creating the ndarray\n",
      "  rot = Quaternion(self.ego.iloc[eidx][\"rotation\"])\n"
     ]
    },
    {
     "name": "stdout",
     "output_type": "stream",
     "text": [
      "vx_com -4.208703813693973 vy_com 3.3272016025904985\n",
      "Number of new plots 1\n",
      "Number of dynamic tracks before run() 1\n",
      "before predict: x=[[0.8483794  0.         0.00845227 0.         0.01257161 0.        ]\n",
      " [0.         0.84696299 0.         0.00833857 0.         0.01251762]\n",
      " [0.00845227 0.         0.37164317 0.         0.06059028 0.        ]\n",
      " [0.         0.00833857 0.         0.37124011 0.         0.0604628 ]\n",
      " [0.01257161 0.         0.06059028 0.         1.96427794 0.        ]\n",
      " [0.         0.01251762 0.         0.0604628  0.         1.96419695]]\n",
      "after predict: x=[[1.35148163 0.         0.0361505  0.         0.02163552 0.        ]\n",
      " [0.         1.350047   0.         0.03600383 0.         0.0215724 ]\n",
      " [0.0361505  0.         1.38977098 0.         0.19818991 0.        ]\n",
      " [0.         0.03600383 0.         1.38934967 0.         0.19805676]\n",
      " [0.02163552 0.         0.19818991 0.         1.96427794 0.        ]\n",
      " [0.         0.0215724  0.         0.19805676 0.         1.96419695]]\n",
      "Updating track = 0 z = [271.78079351 682.93556843  -4.20870381   3.3272016 ] cov=[[2.00921394 0.         0.         0.        ]\n",
      " [0.         2.0306779  0.         0.        ]\n",
      " [0.         0.         0.5        0.        ]\n",
      " [0.         0.         0.         0.5       ]]\n",
      "age = 26 hits = 22\n"
     ]
    },
    {
     "name": "stderr",
     "output_type": "stream",
     "text": [
      "/home/kfir/workspace/RadarLocalization/dataset.py:261: VisibleDeprecationWarning: Creating an ndarray from ragged nested sequences (which is a list-or-tuple of lists-or-tuples-or ndarrays with different lengths or shapes) is deprecated. If you meant to do this, you must specify 'dtype=object' when creating the ndarray\n",
      "  rot = Quaternion(self.ego.iloc[eidx][\"rotation\"])\n"
     ]
    },
    {
     "name": "stdout",
     "output_type": "stream",
     "text": [
      "Number of new plots 0\n",
      "Number of dynamic tracks before run() 1\n",
      "before predict: x=[[0.80774495 0.         0.00571955 0.         0.01067048 0.        ]\n",
      " [0.         0.8106763  0.         0.00572434 0.         0.01069289]\n",
      " [0.00571955 0.         0.36768161 0.         0.05238675 0.        ]\n",
      " [0.         0.00572434 0.         0.36765248 0.         0.05236383]\n",
      " [0.01067048 0.         0.05238675 0.         1.94339799 0.        ]\n",
      " [0.         0.01069289 0.         0.05236383 0.         1.94334134]]\n",
      "after predict: x=[[1.31076893 0.         0.03494993 0.         0.02006629 0.        ]\n",
      " [0.         1.31370096 0.         0.03495402 0.         0.02008682]\n",
      " [0.03494993 0.         1.38647322 0.         0.19815132 0.        ]\n",
      " [0.         0.03495402 0.         1.38644033 0.         0.19812415]\n",
      " [0.02006629 0.         0.19815132 0.         1.94339799 0.        ]\n",
      " [0.         0.02008682 0.         0.19812415 0.         1.94334134]]\n",
      "age = 27 hits = 22\n"
     ]
    },
    {
     "name": "stderr",
     "output_type": "stream",
     "text": [
      "/home/kfir/workspace/RadarLocalization/dataset.py:261: VisibleDeprecationWarning: Creating an ndarray from ragged nested sequences (which is a list-or-tuple of lists-or-tuples-or ndarrays with different lengths or shapes) is deprecated. If you meant to do this, you must specify 'dtype=object' when creating the ndarray\n",
      "  rot = Quaternion(self.ego.iloc[eidx][\"rotation\"])\n"
     ]
    },
    {
     "name": "stdout",
     "output_type": "stream",
     "text": [
      "Number of new plots 1\n",
      "Number of dynamic tracks before run() 1\n",
      "before predict: x=[[1.31076893 0.         0.03494993 0.         0.02006629 0.        ]\n",
      " [0.         1.31370096 0.         0.03495402 0.         0.02008682]\n",
      " [0.03494993 0.         1.38647322 0.         0.19815132 0.        ]\n",
      " [0.         0.03495402 0.         1.38644033 0.         0.19812415]\n",
      " [0.02006629 0.         0.19815132 0.         1.94339799 0.        ]\n",
      " [0.         0.02008682 0.         0.19812415 0.         1.94334134]]\n",
      "after predict: x=[[1.82263495 0.         0.13520472 0.         0.03869988 0.        ]\n",
      " [0.         1.82556748 0.         0.13520773 0.         0.03871837]\n",
      " [0.13520472 0.         2.42374039 0.         0.33419889 0.        ]\n",
      " [0.         0.13520773 0.         2.42370342 0.         0.33416776]\n",
      " [0.03869988 0.         0.33419889 0.         1.94339799 0.        ]\n",
      " [0.         0.03871837 0.         0.33416776 0.         1.94334134]]\n",
      "Initiating new track: x=[280.97961752 665.32087153   2.87045338  -0.9749669    0.\n",
      "   0.        ]\n",
      "age = 28 hits = 22\n",
      "age = 1 hits = 1\n"
     ]
    },
    {
     "name": "stderr",
     "output_type": "stream",
     "text": [
      "/home/kfir/workspace/RadarLocalization/dataset.py:261: VisibleDeprecationWarning: Creating an ndarray from ragged nested sequences (which is a list-or-tuple of lists-or-tuples-or ndarrays with different lengths or shapes) is deprecated. If you meant to do this, you must specify 'dtype=object' when creating the ndarray\n",
      "  rot = Quaternion(self.ego.iloc[eidx][\"rotation\"])\n"
     ]
    },
    {
     "name": "stdout",
     "output_type": "stream",
     "text": [
      "Number of new plots 0\n",
      "Number of dynamic tracks before run() 2\n",
      "before predict: x=[[1.82263495 0.         0.13520472 0.         0.03869988 0.        ]\n",
      " [0.         1.82556748 0.         0.13520773 0.         0.03871837]\n",
      " [0.13520472 0.         2.42374039 0.         0.33419889 0.        ]\n",
      " [0.         0.13520773 0.         2.42370342 0.         0.33416776]\n",
      " [0.03869988 0.         0.33419889 0.         1.94339799 0.        ]\n",
      " [0.         0.03871837 0.         0.33416776 0.         1.94334134]]\n",
      "after predict: x=[[2.35694134 0.         0.32318899 0.         0.06924404 0.        ]\n",
      " [0.         2.35987421 0.         0.32319034 0.         0.06926003]\n",
      " [0.32318899 0.         3.48482872 0.         0.48000816 0.        ]\n",
      " [0.         0.32319034 0.         3.48478676 0.         0.47997277]\n",
      " [0.06924404 0.         0.48000816 0.         1.94339799 0.        ]\n",
      " [0.         0.06926003 0.         0.47997277 0.         1.94334134]]\n",
      "before predict: x=[[2.  0.  0.  0.  0.  0. ]\n",
      " [0.  2.  0.  0.  0.  0. ]\n",
      " [0.  0.  0.5 0.  0.  0. ]\n",
      " [0.  0.  0.  0.5 0.  0. ]\n",
      " [0.  0.  0.  0.  3.  0. ]\n",
      " [0.  0.  0.  0.  0.  3. ]]\n",
      "after predict: x=[[2.50283837 0.         0.03814752 0.         0.0084438  0.        ]\n",
      " [0.         2.50283837 0.         0.03814752 0.         0.0084438 ]\n",
      " [0.03814752 0.         1.5168876  0.         0.225084   0.        ]\n",
      " [0.         0.03814752 0.         1.5168876  0.         0.225084  ]\n",
      " [0.0084438  0.         0.225084   0.         3.         0.        ]\n",
      " [0.         0.0084438  0.         0.225084   0.         3.        ]]\n",
      "age = 29 hits = 22\n",
      "age = 2 hits = 1\n"
     ]
    },
    {
     "name": "stderr",
     "output_type": "stream",
     "text": [
      "/home/kfir/workspace/RadarLocalization/dataset.py:261: VisibleDeprecationWarning: Creating an ndarray from ragged nested sequences (which is a list-or-tuple of lists-or-tuples-or ndarrays with different lengths or shapes) is deprecated. If you meant to do this, you must specify 'dtype=object' when creating the ndarray\n",
      "  rot = Quaternion(self.ego.iloc[eidx][\"rotation\"])\n"
     ]
    },
    {
     "name": "stdout",
     "output_type": "stream",
     "text": [
      "vx_com -3.733324516086051 vy_com 3.3602122438223283\n",
      "Number of new plots 1\n",
      "Number of dynamic tracks before run() 2\n",
      "before predict: x=[[2.35694134 0.         0.32318899 0.         0.06924404 0.        ]\n",
      " [0.         2.35987421 0.         0.32319034 0.         0.06926003]\n",
      " [0.32318899 0.         3.48482872 0.         0.48000816 0.        ]\n",
      " [0.         0.32319034 0.         3.48478676 0.         0.47997277]\n",
      " [0.06924404 0.         0.48000816 0.         1.94339799 0.        ]\n",
      " [0.         0.06926003 0.         0.47997277 0.         1.94334134]]\n",
      "after predict: x=[[3.02734117 0.         0.85723821 0.         0.15939635 0.        ]\n",
      " [0.         3.03027377 0.         0.85723459 0.         0.15940661]\n",
      " [0.85723821 0.         4.66513333 0.         0.76210987 0.        ]\n",
      " [0.         0.85723459 0.         4.6650799  0.         0.76206626]\n",
      " [0.15939635 0.         0.76210987 0.         1.94339799 0.        ]\n",
      " [0.         0.15940661 0.         0.76206626 0.         1.94334134]]\n",
      "before predict: x=[[2.50283837 0.         0.03814752 0.         0.0084438  0.        ]\n",
      " [0.         2.50283837 0.         0.03814752 0.         0.0084438 ]\n",
      " [0.03814752 0.         1.5168876  0.         0.225084   0.        ]\n",
      " [0.         0.03814752 0.         1.5168876  0.         0.225084  ]\n",
      " [0.0084438  0.         0.225084   0.         3.         0.        ]\n",
      " [0.         0.0084438  0.         0.225084   0.         3.        ]]\n",
      "after predict: x=[[3.04707519 0.         0.27126526 0.         0.07272347 0.        ]\n",
      " [0.         3.04707519 0.         0.27126526 0.         0.07272347]\n",
      " [0.27126526 0.         2.64544694 0.         0.660561   0.        ]\n",
      " [0.         0.27126526 0.         2.64544694 0.         0.660561  ]\n",
      " [0.07272347 0.         0.660561   0.         3.         0.        ]\n",
      " [0.         0.07272347 0.         0.660561   0.         3.        ]]\n",
      "Initiating new track: x=[268.26082861 683.96781335  -3.73332452   3.36021224   0.\n",
      "   0.        ]\n",
      "age = 30 hits = 22\n",
      "age = 3 hits = 1\n",
      "age = 1 hits = 1\n"
     ]
    },
    {
     "name": "stderr",
     "output_type": "stream",
     "text": [
      "/home/kfir/workspace/RadarLocalization/dataset.py:261: VisibleDeprecationWarning: Creating an ndarray from ragged nested sequences (which is a list-or-tuple of lists-or-tuples-or ndarrays with different lengths or shapes) is deprecated. If you meant to do this, you must specify 'dtype=object' when creating the ndarray\n",
      "  rot = Quaternion(self.ego.iloc[eidx][\"rotation\"])\n"
     ]
    },
    {
     "name": "stdout",
     "output_type": "stream",
     "text": [
      "vx_com -3.6420029275451387 vy_com 3.3666418213685785\n",
      "Number of new plots 1\n",
      "Number of dynamic tracks before run() 3\n",
      "before predict: x=[[3.02734117 0.         0.85723821 0.         0.15939635 0.        ]\n",
      " [0.         3.03027377 0.         0.85723459 0.         0.15940661]\n",
      " [0.85723821 0.         4.66513333 0.         0.76210987 0.        ]\n",
      " [0.         0.85723459 0.         4.6650799  0.         0.76206626]\n",
      " [0.15939635 0.         0.76210987 0.         1.94339799 0.        ]\n",
      " [0.         0.15940661 0.         0.76206626 0.         1.94334134]]\n",
      "after predict: x=[[3.68320811 0.         1.22552221 0.         0.22194868 0.        ]\n",
      " [0.         3.6861399  0.         1.22551497 0.         0.22195551]\n",
      " [1.22552221 0.         5.79023799 0.         0.90771119 0.        ]\n",
      " [0.         1.22551497 0.         5.79017772 0.         0.90766334]\n",
      " [0.22194868 0.         0.90771119 0.         1.94339799 0.        ]\n",
      " [0.         0.22195551 0.         0.90766334 0.         1.94334134]]\n",
      "before predict: x=[[3.04707519 0.         0.27126526 0.         0.07272347 0.        ]\n",
      " [0.         3.04707519 0.         0.27126526 0.         0.07272347]\n",
      " [0.27126526 0.         2.64544694 0.         0.660561   0.        ]\n",
      " [0.         0.27126526 0.         2.64544694 0.         0.660561  ]\n",
      " [0.07272347 0.         0.660561   0.         3.         0.        ]\n",
      " [0.         0.07272347 0.         0.660561   0.         3.        ]]\n",
      "after predict: x=[[3.60328106 0.         0.48110587 0.         0.1306331  0.        ]\n",
      " [0.         3.60328106 0.         0.48110587 0.         0.1306331 ]\n",
      " [0.48110587 0.         3.76126619 0.         0.885324   0.        ]\n",
      " [0.         0.48110587 0.         3.76126619 0.         0.885324  ]\n",
      " [0.1306331  0.         0.885324   0.         3.         0.        ]\n",
      " [0.         0.1306331  0.         0.885324   0.         3.        ]]\n",
      "before predict: x=[[2.  0.  0.  0.  0.  0. ]\n",
      " [0.  2.  0.  0.  0.  0. ]\n",
      " [0.  0.  0.5 0.  0.  0. ]\n",
      " [0.  0.  0.  0.5 0.  0. ]\n",
      " [0.  0.  0.  0.  3.  0. ]\n",
      " [0.  0.  0.  0.  0.  3. ]]\n",
      "after predict: x=[[2.50283021 0.         0.03809131 0.         0.00841973 0.        ]\n",
      " [0.         2.50283021 0.         0.03809131 0.         0.00841973]\n",
      " [0.03809131 0.         1.51683947 0.         0.224763   0.        ]\n",
      " [0.         0.03809131 0.         1.51683947 0.         0.224763  ]\n",
      " [0.00841973 0.         0.224763   0.         3.         0.        ]\n",
      " [0.         0.00841973 0.         0.224763   0.         3.        ]]\n",
      "Updating track = 2 z = [267.88071236 684.56974016  -3.64200293   3.36664182] cov=[[2.05889894 0.         0.         0.        ]\n",
      " [0.         2.19053959 0.         0.        ]\n",
      " [0.         0.         0.5        0.        ]\n",
      " [0.         0.         0.         0.5       ]]\n",
      "age = 31 hits = 22\n",
      "age = 4 hits = 1\n",
      "age = 2 hits = 2\n"
     ]
    },
    {
     "name": "stderr",
     "output_type": "stream",
     "text": [
      "/home/kfir/workspace/RadarLocalization/dataset.py:261: VisibleDeprecationWarning: Creating an ndarray from ragged nested sequences (which is a list-or-tuple of lists-or-tuples-or ndarrays with different lengths or shapes) is deprecated. If you meant to do this, you must specify 'dtype=object' when creating the ndarray\n",
      "  rot = Quaternion(self.ego.iloc[eidx][\"rotation\"])\n"
     ]
    },
    {
     "name": "stdout",
     "output_type": "stream",
     "text": [
      "vx_com -3.5721387895746393 vy_com 3.371269024853488\n",
      "Number of new plots 1\n",
      "Number of dynamic tracks before run() 3\n",
      "before predict: x=[[3.68320811 0.         1.22552221 0.         0.22194868 0.        ]\n",
      " [0.         3.6861399  0.         1.22551497 0.         0.22195551]\n",
      " [1.22552221 0.         5.79023799 0.         0.90771119 0.        ]\n",
      " [0.         1.22551497 0.         5.79017772 0.         0.90766334]\n",
      " [0.22194868 0.         0.90771119 0.         1.94339799 0.        ]\n",
      " [0.         0.22195551 0.         0.90766334 0.         1.94334134]]\n",
      "after predict: x=[[4.40127014 0.         1.68453612 0.         0.29549809 0.        ]\n",
      " [0.         4.40420053 0.         1.68452446 0.         0.29550118]\n",
      " [1.68453612 0.         6.93733682 0.         1.05347575 0.        ]\n",
      " [0.         1.68452446 0.         6.93726905 0.         1.05342365]\n",
      " [0.29549809 0.         1.05347575 0.         1.94339799 0.        ]\n",
      " [0.         0.29550118 0.         1.05342365 0.         1.94334134]]\n",
      "before predict: x=[[3.60328106 0.         0.48110587 0.         0.1306331  0.        ]\n",
      " [0.         3.60328106 0.         0.48110587 0.         0.1306331 ]\n",
      " [0.48110587 0.         3.76126619 0.         0.885324   0.        ]\n",
      " [0.         0.48110587 0.         3.76126619 0.         0.885324  ]\n",
      " [0.1306331  0.         0.885324   0.         3.         0.        ]\n",
      " [0.         0.1306331  0.         0.885324   0.         3.        ]]\n",
      "after predict: x=[[4.19774392 0.         0.78112163 0.         0.20547545 0.        ]\n",
      " [0.         4.19774392 0.         0.78112163 0.         0.20547545]\n",
      " [0.78112163 0.         4.9109509  0.         1.110339   0.        ]\n",
      " [0.         0.78112163 0.         4.9109509  0.         1.110339  ]\n",
      " [0.20547545 0.         1.110339   0.         3.         0.        ]\n",
      " [0.         0.20547545 0.         1.110339   0.         3.        ]]\n",
      "before predict: x=[[1.12948526e+00 0.00000000e+00 4.26283643e-03 0.00000000e+00\n",
      "  1.88452147e-03 0.00000000e+00]\n",
      " [0.00000000e+00 1.16799086e+00 0.00000000e+00 4.40816199e-03\n",
      "  0.00000000e+00 1.94876722e-03]\n",
      " [4.26283643e-03 0.00000000e+00 3.76024127e-01 0.00000000e+00\n",
      "  5.57129455e-02 0.00000000e+00]\n",
      " [0.00000000e+00 4.40816199e-03 0.00000000e+00 3.76024676e-01\n",
      "  0.00000000e+00 5.57131880e-02]\n",
      " [1.88452147e-03 0.00000000e+00 5.57129455e-02 0.00000000e+00\n",
      "  2.97494788e+00 0.00000000e+00]\n",
      " [0.00000000e+00 1.94876722e-03 0.00000000e+00 5.57131880e-02\n",
      "  0.00000000e+00 2.97494798e+00]]\n",
      "after predict: x=[[1.63229779 0.         0.03370567 0.         0.01443143 0.        ]\n",
      " [0.         1.67082556 0.         0.03385586 0.         0.01449569]\n",
      " [0.03370567 0.         1.40111794 0.         0.27884891 0.        ]\n",
      " [0.         0.03385586 0.         1.40111852 0.         0.27884916]\n",
      " [0.01443143 0.         0.27884891 0.         2.97494788 0.        ]\n",
      " [0.         0.01449569 0.         0.27884916 0.         2.97494798]]\n",
      "Updating track = 2 z = [266.68589878 684.92590987  -3.57213879   3.37126902] cov=[[2.38634446 0.         0.         0.        ]\n",
      " [0.         2.01364464 0.         0.        ]\n",
      " [0.         0.         0.5        0.        ]\n",
      " [0.         0.         0.         0.5       ]]\n",
      "age = 32 hits = 22\n",
      "age = 5 hits = 1\n",
      "age = 3 hits = 3\n"
     ]
    },
    {
     "name": "stderr",
     "output_type": "stream",
     "text": [
      "/home/kfir/workspace/RadarLocalization/dataset.py:261: VisibleDeprecationWarning: Creating an ndarray from ragged nested sequences (which is a list-or-tuple of lists-or-tuples-or ndarrays with different lengths or shapes) is deprecated. If you meant to do this, you must specify 'dtype=object' when creating the ndarray\n",
      "  rot = Quaternion(self.ego.iloc[eidx][\"rotation\"])\n"
     ]
    },
    {
     "name": "stdout",
     "output_type": "stream",
     "text": [
      "Number of new plots 0\n",
      "Number of dynamic tracks before run() 2\n",
      "before predict: x=[[4.19774392 0.         0.78112163 0.         0.20547545 0.        ]\n",
      " [0.         4.19774392 0.         0.78112163 0.         0.20547545]\n",
      " [0.78112163 0.         4.9109509  0.         1.110339   0.        ]\n",
      " [0.         0.78112163 0.         4.9109509  0.         1.110339  ]\n",
      " [0.20547545 0.         1.110339   0.         3.         0.        ]\n",
      " [0.         0.20547545 0.         1.110339   0.         3.        ]]\n",
      "after predict: x=[[4.83270347 0.         1.14825853 0.         0.29062576 0.        ]\n",
      " [0.         4.83270347 0.         1.14825853 0.         0.29062576]\n",
      " [1.14825853 0.         6.08125153 0.         1.320513   0.        ]\n",
      " [0.         1.14825853 0.         6.08125153 0.         1.320513  ]\n",
      " [0.29062576 0.         1.320513   0.         3.         0.        ]\n",
      " [0.         0.29062576 0.         1.320513   0.         3.        ]]\n",
      "before predict: x=[[0.96907802 0.         0.0052648  0.         0.00563475 0.        ]\n",
      " [0.         0.91296309 0.         0.00486714 0.         0.00520912]\n",
      " [0.0052648  0.         0.36847887 0.         0.07331721 0.        ]\n",
      " [0.         0.00486714 0.         0.36847695 0.         0.07331515]\n",
      " [0.00563475 0.         0.07331721 0.         2.93402495 0.        ]\n",
      " [0.         0.00520912 0.         0.07331515 0.         2.93402275]]\n",
      "after predict: x=[[1.47169478 0.         0.03251867 0.         0.01797149 0.        ]\n",
      " [0.         1.41552203 0.         0.03209103 0.         0.01754571]\n",
      " [0.03251867 0.         1.39315234 0.         0.27886913 0.        ]\n",
      " [0.         0.03209103 0.         1.39315012 0.         0.27886692]\n",
      " [0.01797149 0.         0.27886913 0.         2.93402495 0.        ]\n",
      " [0.         0.01754571 0.         0.27886692 0.         2.93402275]]\n",
      "age = 6 hits = 1\n",
      "age = 4 hits = 3\n"
     ]
    },
    {
     "name": "stderr",
     "output_type": "stream",
     "text": [
      "/home/kfir/workspace/RadarLocalization/dataset.py:261: VisibleDeprecationWarning: Creating an ndarray from ragged nested sequences (which is a list-or-tuple of lists-or-tuples-or ndarrays with different lengths or shapes) is deprecated. If you meant to do this, you must specify 'dtype=object' when creating the ndarray\n",
      "  rot = Quaternion(self.ego.iloc[eidx][\"rotation\"])\n"
     ]
    },
    {
     "name": "stdout",
     "output_type": "stream",
     "text": [
      "vx_com -3.29942328380927 vy_com 3.3499113868335573\n",
      "Number of new plots 1\n",
      "Number of dynamic tracks before run() 2\n",
      "before predict: x=[[4.83270347 0.         1.14825853 0.         0.29062576 0.        ]\n",
      " [0.         4.83270347 0.         1.14825853 0.         0.29062576]\n",
      " [1.14825853 0.         6.08125153 0.         1.320513   0.        ]\n",
      " [0.         1.14825853 0.         6.08125153 0.         1.320513  ]\n",
      " [0.29062576 0.         1.320513   0.         3.         0.        ]\n",
      " [0.         0.29062576 0.         1.320513   0.         3.        ]]\n",
      "after predict: x=[[5.5413354  0.         1.63786372 0.         0.39808783 0.        ]\n",
      " [0.         5.5413354  0.         1.63786372 0.         0.39808783]\n",
      " [1.63786372 0.         7.29617566 0.         1.545486   0.        ]\n",
      " [0.         1.63786372 0.         7.29617566 0.         1.545486  ]\n",
      " [0.39808783 0.         1.545486   0.         3.         0.        ]\n",
      " [0.         0.39808783 0.         1.545486   0.         3.        ]]\n",
      "before predict: x=[[1.47169478 0.         0.03251867 0.         0.01797149 0.        ]\n",
      " [0.         1.41552203 0.         0.03209103 0.         0.01754571]\n",
      " [0.03251867 0.         1.39315234 0.         0.27886913 0.        ]\n",
      " [0.         0.03209103 0.         1.39315012 0.         0.27886692]\n",
      " [0.01797149 0.         0.27886913 0.         2.93402495 0.        ]\n",
      " [0.         0.01754571 0.         0.27886692 0.         2.93402275]]\n",
      "after predict: x=[[1.98464846 0.         0.14131132 0.         0.04713413 0.        ]\n",
      " [0.         1.92840917 0.         0.14085157 0.         0.04670817]\n",
      " [0.14131132 0.         2.45147762 0.         0.49889459 0.        ]\n",
      " [0.         0.14085157 0.         2.45147505 0.         0.49889222]\n",
      " [0.04713413 0.         0.49889459 0.         2.93402495 0.        ]\n",
      " [0.         0.04670817 0.         0.49889222 0.         2.93402275]]\n",
      "Initiating new track: x=[264.90968728 685.15704703  -3.29942328   3.34991139   0.\n",
      "   0.        ]\n",
      "age = 7 hits = 1\n",
      "age = 5 hits = 3\n",
      "age = 1 hits = 1\n"
     ]
    },
    {
     "name": "stderr",
     "output_type": "stream",
     "text": [
      "/home/kfir/workspace/RadarLocalization/dataset.py:261: VisibleDeprecationWarning: Creating an ndarray from ragged nested sequences (which is a list-or-tuple of lists-or-tuples-or ndarrays with different lengths or shapes) is deprecated. If you meant to do this, you must specify 'dtype=object' when creating the ndarray\n",
      "  rot = Quaternion(self.ego.iloc[eidx][\"rotation\"])\n"
     ]
    },
    {
     "name": "stdout",
     "output_type": "stream",
     "text": [
      "Number of new plots 0\n",
      "Number of dynamic tracks before run() 2\n",
      "before predict: x=[[1.98464846 0.         0.14131132 0.         0.04713413 0.        ]\n",
      " [0.         1.92840917 0.         0.14085157 0.         0.04670817]\n",
      " [0.14131132 0.         2.45147762 0.         0.49889459 0.        ]\n",
      " [0.         0.14085157 0.         2.45147505 0.         0.49889222]\n",
      " [0.04713413 0.         0.49889459 0.         2.93402495 0.        ]\n",
      " [0.         0.04670817 0.         0.49889222 0.         2.93402275]]\n",
      "after predict: x=[[2.51686846 0.         0.32040258 0.         0.08925004 0.        ]\n",
      " [0.         2.4605627  0.         0.31991281 0.         0.08882391]\n",
      " [0.32040258 0.         3.53570944 0.         0.70429688 0.        ]\n",
      " [0.         0.31991281 0.         3.53570653 0.         0.70429435]\n",
      " [0.08925004 0.         0.70429688 0.         2.93402495 0.        ]\n",
      " [0.         0.08882391 0.         0.70429435 0.         2.93402275]]\n",
      "before predict: x=[[2.  0.  0.  0.  0.  0. ]\n",
      " [0.  2.  0.  0.  0.  0. ]\n",
      " [0.  0.  0.5 0.  0.  0. ]\n",
      " [0.  0.  0.  0.5 0.  0. ]\n",
      " [0.  0.  0.  0.  3.  0. ]\n",
      " [0.  0.  0.  0.  0.  3. ]]\n",
      "after predict: x=[[2.5024685  0.         0.03551815 0.         0.00735147 0.        ]\n",
      " [0.         2.5024685  0.         0.03551815 0.         0.00735147]\n",
      " [0.03551815 0.         1.51470294 0.         0.210021   0.        ]\n",
      " [0.         0.03551815 0.         1.51470294 0.         0.210021  ]\n",
      " [0.00735147 0.         0.210021   0.         3.         0.        ]\n",
      " [0.         0.00735147 0.         0.210021   0.         3.        ]]\n",
      "age = 6 hits = 3\n",
      "age = 2 hits = 1\n"
     ]
    },
    {
     "name": "stderr",
     "output_type": "stream",
     "text": [
      "/home/kfir/workspace/RadarLocalization/dataset.py:261: VisibleDeprecationWarning: Creating an ndarray from ragged nested sequences (which is a list-or-tuple of lists-or-tuples-or ndarrays with different lengths or shapes) is deprecated. If you meant to do this, you must specify 'dtype=object' when creating the ndarray\n",
      "  rot = Quaternion(self.ego.iloc[eidx][\"rotation\"])\n"
     ]
    },
    {
     "name": "stdout",
     "output_type": "stream",
     "text": [
      "vx_com -2.9179294479481026 vy_com 3.3639558183470584\n",
      "Number of new plots 1\n",
      "Number of dynamic tracks before run() 2\n",
      "before predict: x=[[2.51686846 0.         0.32040258 0.         0.08925004 0.        ]\n",
      " [0.         2.4605627  0.         0.31991281 0.         0.08882391]\n",
      " [0.32040258 0.         3.53570944 0.         0.70429688 0.        ]\n",
      " [0.         0.31991281 0.         3.53570653 0.         0.70429435]\n",
      " [0.08925004 0.         0.70429688 0.         2.93402495 0.        ]\n",
      " [0.         0.08882391 0.         0.70429435 0.         2.93402275]]\n",
      "after predict: x=[[3.19752066 0.         0.89336879 0.         0.22804428 0.        ]\n",
      " [0.         3.14105816 0.         0.89281452 0.         0.22761775]\n",
      " [0.89336879 0.         4.81329793 0.         1.14476444 0.        ]\n",
      " [0.         0.89281452 0.         4.8132942  0.         1.14476158]\n",
      " [0.22804428 0.         1.14476444 0.         2.93402495 0.        ]\n",
      " [0.         0.22761775 0.         1.14476158 0.         2.93402275]]\n",
      "before predict: x=[[2.5024685  0.         0.03551815 0.         0.00735147 0.        ]\n",
      " [0.         2.5024685  0.         0.03551815 0.         0.00735147]\n",
      " [0.03551815 0.         1.51470294 0.         0.210021   0.        ]\n",
      " [0.         0.03551815 0.         1.51470294 0.         0.210021  ]\n",
      " [0.00735147 0.         0.210021   0.         3.         0.        ]\n",
      " [0.         0.00735147 0.         0.210021   0.         3.        ]]\n",
      "after predict: x=[[3.04852715 0.         0.27619005 0.         0.07268649 0.        ]\n",
      " [0.         3.04852715 0.         0.27619005 0.         0.07268649]\n",
      " [0.27619005 0.         2.64537297 0.         0.660393   0.        ]\n",
      " [0.         0.27619005 0.         2.64537297 0.         0.660393  ]\n",
      " [0.07268649 0.         0.660393   0.         3.         0.        ]\n",
      " [0.         0.07268649 0.         0.660393   0.         3.        ]]\n",
      "Updating track = 1 z = [262.83515113 686.03246254  -2.91792945   3.36395582] cov=[[2.37577633 0.         0.         0.        ]\n",
      " [0.         2.17492968 0.         0.        ]\n",
      " [0.         0.         0.54206848 0.        ]\n",
      " [0.         0.         0.         0.51346365]]\n",
      "age = 7 hits = 3\n",
      "age = 3 hits = 2\n"
     ]
    },
    {
     "name": "stderr",
     "output_type": "stream",
     "text": [
      "/home/kfir/workspace/RadarLocalization/dataset.py:261: VisibleDeprecationWarning: Creating an ndarray from ragged nested sequences (which is a list-or-tuple of lists-or-tuples-or ndarrays with different lengths or shapes) is deprecated. If you meant to do this, you must specify 'dtype=object' when creating the ndarray\n",
      "  rot = Quaternion(self.ego.iloc[eidx][\"rotation\"])\n"
     ]
    },
    {
     "name": "stdout",
     "output_type": "stream",
     "text": [
      "Number of new plots 0\n",
      "Number of dynamic tracks before run() 2\n",
      "before predict: x=[[3.19752066 0.         0.89336879 0.         0.22804428 0.        ]\n",
      " [0.         3.14105816 0.         0.89281452 0.         0.22761775]\n",
      " [0.89336879 0.         4.81329793 0.         1.14476444 0.        ]\n",
      " [0.         0.89281452 0.         4.8132942  0.         1.14476158]\n",
      " [0.22804428 0.         1.14476444 0.         2.93402495 0.        ]\n",
      " [0.         0.22761775 0.         1.14476158 0.         2.93402275]]\n",
      "after predict: x=[[3.84859195 0.         1.25705227 0.         0.31584294 0.        ]\n",
      " [0.         3.79204934 0.         1.25646771 0.         0.3154162 ]\n",
      " [1.25705227 0.         5.98889524 0.         1.3511819  0.        ]\n",
      " [0.         1.25646771 0.         5.9888911  0.         1.35117888]\n",
      " [0.31584294 0.         1.3511819  0.         2.93402495 0.        ]\n",
      " [0.         0.3154162  0.         1.35117888 0.         2.93402275]]\n",
      "before predict: x=[[1.33060511 0.         0.0206634  0.         0.00680296 0.        ]\n",
      " [0.         1.26513192 0.         0.01877977 0.         0.00625192]\n",
      " [0.0206634  0.         0.44947372 0.         0.11217446 0.        ]\n",
      " [0.         0.01877977 0.         0.42961334 0.         0.10721674]\n",
      " [0.00680296 0.         0.11217446 0.         2.86313159 0.        ]\n",
      " [0.         0.00625192 0.         0.10721674 0.         2.86189389]]\n",
      "after predict: x=[[1.83582753 0.         0.05409515 0.         0.02178037 0.        ]\n",
      " [0.         1.76998655 0.         0.05073848 0.         0.02087748]\n",
      " [0.05409515 0.         1.47942854 0.         0.31360436 0.        ]\n",
      " [0.         0.05073848 0.         1.45886445 0.         0.30855956]\n",
      " [0.02178037 0.         0.31360436 0.         2.86313159 0.        ]\n",
      " [0.         0.02087748 0.         0.30855956 0.         2.86189389]]\n",
      "age = 8 hits = 3\n",
      "age = 4 hits = 2\n"
     ]
    },
    {
     "name": "stderr",
     "output_type": "stream",
     "text": [
      "/home/kfir/workspace/RadarLocalization/dataset.py:261: VisibleDeprecationWarning: Creating an ndarray from ragged nested sequences (which is a list-or-tuple of lists-or-tuples-or ndarrays with different lengths or shapes) is deprecated. If you meant to do this, you must specify 'dtype=object' when creating the ndarray\n",
      "  rot = Quaternion(self.ego.iloc[eidx][\"rotation\"])\n"
     ]
    },
    {
     "name": "stdout",
     "output_type": "stream",
     "text": [
      "Number of new plots 0\n",
      "Number of dynamic tracks before run() 2\n",
      "before predict: x=[[3.84859195 0.         1.25705227 0.         0.31584294 0.        ]\n",
      " [0.         3.79204934 0.         1.25646771 0.         0.3154162 ]\n",
      " [1.25705227 0.         5.98889524 0.         1.3511819  0.        ]\n",
      " [0.         1.25646771 0.         5.9888911  0.         1.35117888]\n",
      " [0.31584294 0.         1.3511819  0.         2.93402495 0.        ]\n",
      " [0.         0.3154162  0.         1.35117888 0.         2.93402275]]\n",
      "after predict: x=[[4.57193993 0.         1.73951284 0.         0.42486179 0.        ]\n",
      " [0.         4.51530766 0.         1.73889609 0.         0.42443482]\n",
      " [1.73951284 0.         7.20693294 0.         1.57016578 0.        ]\n",
      " [0.         1.73889609 0.         7.20692835 0.         1.5701626 ]\n",
      " [0.42486179 0.         1.57016578 0.         2.93402495 0.        ]\n",
      " [0.         0.42443482 0.         1.5701626  0.         2.93402275]]\n",
      "before predict: x=[[1.83582753 0.         0.05409515 0.         0.02178037 0.        ]\n",
      " [0.         1.76998655 0.         0.05073848 0.         0.02087748]\n",
      " [0.05409515 0.         1.47942854 0.         0.31360436 0.        ]\n",
      " [0.         0.05073848 0.         1.45886445 0.         0.30855956]\n",
      " [0.02178037 0.         0.31360436 0.         2.86313159 0.        ]\n",
      " [0.         0.02087748 0.         0.30855956 0.         2.86189389]]\n",
      "after predict: x=[[2.35241755 0.         0.16935498 0.         0.05316113 0.        ]\n",
      " [0.         2.28595382 0.         0.1643537  0.         0.05187826]\n",
      " [0.16935498 0.         2.54219005 0.         0.52729705 0.        ]\n",
      " [0.         0.1643537  0.         2.52086603 0.         0.52215987]\n",
      " [0.05316113 0.         0.52729705 0.         2.86313159 0.        ]\n",
      " [0.         0.05187826 0.         0.52215987 0.         2.86189389]]\n",
      "age = 9 hits = 3\n",
      "age = 5 hits = 2\n"
     ]
    },
    {
     "name": "stderr",
     "output_type": "stream",
     "text": [
      "/home/kfir/workspace/RadarLocalization/dataset.py:261: VisibleDeprecationWarning: Creating an ndarray from ragged nested sequences (which is a list-or-tuple of lists-or-tuples-or ndarrays with different lengths or shapes) is deprecated. If you meant to do this, you must specify 'dtype=object' when creating the ndarray\n",
      "  rot = Quaternion(self.ego.iloc[eidx][\"rotation\"])\n"
     ]
    },
    {
     "name": "stdout",
     "output_type": "stream",
     "text": [
      "Number of new plots 0\n",
      "Number of dynamic tracks before run() 1\n",
      "before predict: x=[[2.35241755 0.         0.16935498 0.         0.05316113 0.        ]\n",
      " [0.         2.28595382 0.         0.1643537  0.         0.05187826]\n",
      " [0.16935498 0.         2.54219005 0.         0.52729705 0.        ]\n",
      " [0.         0.1643537  0.         2.52086603 0.         0.52215987]\n",
      " [0.05316113 0.         0.52729705 0.         2.86313159 0.        ]\n",
      " [0.         0.05187826 0.         0.52215987 0.         2.86189389]]\n",
      "after predict: x=[[2.88903399 0.         0.3553635  0.         0.09707786 0.        ]\n",
      " [0.         2.8217577  0.         0.34874205 0.         0.09543242]\n",
      " [0.3553635  0.         3.63002352 0.         0.7276819  0.        ]\n",
      " [0.         0.34874205 0.         3.60797435 0.         0.7224581 ]\n",
      " [0.09707786 0.         0.7276819  0.         2.86313159 0.        ]\n",
      " [0.         0.09543242 0.         0.7224581  0.         2.86189389]]\n",
      "age = 6 hits = 2\n",
      "Number of new plots 0\n",
      "Number of dynamic tracks before run() 1\n",
      "before predict: x=[[2.88903399 0.         0.3553635  0.         0.09707786 0.        ]\n",
      " [0.         2.8217577  0.         0.34874205 0.         0.09543242]\n",
      " [0.3553635  0.         3.63002352 0.         0.7276819  0.        ]\n",
      " [0.         0.34874205 0.         3.60797435 0.         0.7224581 ]\n",
      " [0.09707786 0.         0.7276819  0.         2.86313159 0.        ]\n",
      " [0.         0.09543242 0.         0.7224581  0.         2.86189389]]\n",
      "after predict: x=[[3.46404286 0.         0.64288889 0.         0.16000734 0.        ]\n",
      " [0.         3.39563247 0.         0.63443806 0.         0.15796494]\n",
      " [0.64288889 0.         4.75588247 0.         0.94333011 0.        ]\n",
      " [0.         0.63443806 0.         4.73303938 0.         0.93801309]\n",
      " [0.16000734 0.         0.94333011 0.         2.86313159 0.        ]\n",
      " [0.         0.15796494 0.         0.93801309 0.         2.86189389]]\n",
      "age = 7 hits = 2\n"
     ]
    },
    {
     "name": "stderr",
     "output_type": "stream",
     "text": [
      "/home/kfir/workspace/RadarLocalization/dataset.py:261: VisibleDeprecationWarning: Creating an ndarray from ragged nested sequences (which is a list-or-tuple of lists-or-tuples-or ndarrays with different lengths or shapes) is deprecated. If you meant to do this, you must specify 'dtype=object' when creating the ndarray\n",
      "  rot = Quaternion(self.ego.iloc[eidx][\"rotation\"])\n"
     ]
    },
    {
     "name": "stdout",
     "output_type": "stream",
     "text": [
      "vx_com -2.362844073754244 vy_com 3.624868896818649\n",
      "Number of new plots 1\n",
      "Number of dynamic tracks before run() 1\n",
      "before predict: x=[[3.46404286 0.         0.64288889 0.         0.16000734 0.        ]\n",
      " [0.         3.39563247 0.         0.63443806 0.         0.15796494]\n",
      " [0.64288889 0.         4.75588247 0.         0.94333011 0.        ]\n",
      " [0.         0.63443806 0.         4.73303938 0.         0.93801309]\n",
      " [0.16000734 0.         0.94333011 0.         2.86313159 0.        ]\n",
      " [0.         0.15796494 0.         0.93801309 0.         2.86189389]]\n",
      "after predict: x=[[4.07816379 0.         0.99361952 0.         0.23287559 0.        ]\n",
      " [0.         4.00844972 0.         0.9833915  0.         0.23045881]\n",
      " [0.99361952 0.         5.90161897 0.         1.14329981 0.        ]\n",
      " [0.         0.9833915  0.         5.87802712 0.         1.13789634]\n",
      " [0.23287559 0.         1.14329981 0.         2.86313159 0.        ]\n",
      " [0.         0.23045881 0.         1.13789634 0.         2.86189389]]\n",
      "Initiating new track: x=[258.99233501 687.10582946  -2.36284407   3.6248689    0.\n",
      "   0.        ]\n",
      "age = 8 hits = 2\n",
      "age = 1 hits = 1\n"
     ]
    },
    {
     "name": "stderr",
     "output_type": "stream",
     "text": [
      "/home/kfir/workspace/RadarLocalization/dataset.py:261: VisibleDeprecationWarning: Creating an ndarray from ragged nested sequences (which is a list-or-tuple of lists-or-tuples-or ndarrays with different lengths or shapes) is deprecated. If you meant to do this, you must specify 'dtype=object' when creating the ndarray\n",
      "  rot = Quaternion(self.ego.iloc[eidx][\"rotation\"])\n"
     ]
    },
    {
     "name": "stdout",
     "output_type": "stream",
     "text": [
      "Number of new plots 0\n",
      "Number of dynamic tracks before run() 2\n",
      "before predict: x=[[4.07816379 0.         0.99361952 0.         0.23287559 0.        ]\n",
      " [0.         4.00844972 0.         0.9833915  0.         0.23045881]\n",
      " [0.99361952 0.         5.90161897 0.         1.14329981 0.        ]\n",
      " [0.         0.9833915  0.         5.87802712 0.         1.13789634]\n",
      " [0.23287559 0.         1.14329981 0.         2.86313159 0.        ]\n",
      " [0.         0.23045881 0.         1.13789634 0.         2.86189389]]\n",
      "after predict: x=[[5.01835978 0.         1.95697551 0.         0.43652574 0.        ]\n",
      " [0.         4.94497472 0.         1.94266274 0.         0.43328472]\n",
      " [1.95697551 0.         7.30891928 0.         1.57266934 0.        ]\n",
      " [0.         1.94266274 0.         7.28367893 0.         1.56708026]\n",
      " [0.43652574 0.         1.57266934 0.         2.86313159 0.        ]\n",
      " [0.         0.43328472 0.         1.56708026 0.         2.86189389]]\n",
      "before predict: x=[[2.  0.  0.  0.  0.  0. ]\n",
      " [0.  2.  0.  0.  0.  0. ]\n",
      " [0.  0.  0.5 0.  0.  0. ]\n",
      " [0.  0.  0.  0.5 0.  0. ]\n",
      " [0.  0.  0.  0.  3.  0. ]\n",
      " [0.  0.  0.  0.  0.  3. ]]\n",
      "after predict: x=[[2.51162408 0.         0.08004146 0.         0.03373425 0.        ]\n",
      " [0.         2.51162408 0.         0.08004146 0.         0.03373425]\n",
      " [0.08004146 0.         1.5674685  0.         0.449895   0.        ]\n",
      " [0.         0.08004146 0.         1.5674685  0.         0.449895  ]\n",
      " [0.03373425 0.         0.449895   0.         3.         0.        ]\n",
      " [0.         0.03373425 0.         0.449895   0.         3.        ]]\n",
      "age = 9 hits = 2\n",
      "age = 2 hits = 1\n",
      "Number of new plots 0\n",
      "Number of dynamic tracks before run() 1\n",
      "before predict: x=[[2.51162408 0.         0.08004146 0.         0.03373425 0.        ]\n",
      " [0.         2.51162408 0.         0.08004146 0.         0.03373425]\n",
      " [0.08004146 0.         1.5674685  0.         0.449895   0.        ]\n",
      " [0.         0.08004146 0.         1.5674685  0.         0.449895  ]\n",
      " [0.03373425 0.         0.449895   0.         3.         0.        ]\n",
      " [0.         0.03373425 0.         0.449895   0.         3.        ]]\n",
      "after predict: x=[[3.03085594 0.         0.19598123 0.         0.0725901  0.        ]\n",
      " [0.         3.03085594 0.         0.19598123 0.         0.0725901 ]\n",
      " [0.19598123 0.         2.6451802  0.         0.659955   0.        ]\n",
      " [0.         0.19598123 0.         2.6451802  0.         0.659955  ]\n",
      " [0.0725901  0.         0.659955   0.         3.         0.        ]\n",
      " [0.         0.0725901  0.         0.659955   0.         3.        ]]\n",
      "age = 3 hits = 1\n"
     ]
    },
    {
     "name": "stderr",
     "output_type": "stream",
     "text": [
      "/home/kfir/workspace/RadarLocalization/dataset.py:261: VisibleDeprecationWarning: Creating an ndarray from ragged nested sequences (which is a list-or-tuple of lists-or-tuples-or ndarrays with different lengths or shapes) is deprecated. If you meant to do this, you must specify 'dtype=object' when creating the ndarray\n",
      "  rot = Quaternion(self.ego.iloc[eidx][\"rotation\"])\n"
     ]
    },
    {
     "name": "stdout",
     "output_type": "stream",
     "text": [
      "Number of new plots 0\n",
      "Number of dynamic tracks before run() 1\n",
      "before predict: x=[[3.03085594 0.         0.19598123 0.         0.0725901  0.        ]\n",
      " [0.         3.03085594 0.         0.19598123 0.         0.0725901 ]\n",
      " [0.19598123 0.         2.6451802  0.         0.659955   0.        ]\n",
      " [0.         0.19598123 0.         2.6451802  0.         0.659955  ]\n",
      " [0.0725901  0.         0.659955   0.         3.         0.        ]\n",
      " [0.         0.0725901  0.         0.659955   0.         3.        ]]\n",
      "after predict: x=[[3.57585979 0.         0.40607591 0.         0.13054281 0.        ]\n",
      " [0.         3.57585979 0.         0.40607591 0.         0.13054281]\n",
      " [0.40607591 0.         3.76108562 0.         0.885018   0.        ]\n",
      " [0.         0.40607591 0.         3.76108562 0.         0.885018  ]\n",
      " [0.13054281 0.         0.885018   0.         3.         0.        ]\n",
      " [0.         0.13054281 0.         0.885018   0.         3.        ]]\n",
      "age = 4 hits = 1\n",
      "Number of new plots 0\n",
      "Number of dynamic tracks before run() 1\n",
      "before predict: x=[[3.57585979 0.         0.40607591 0.         0.13054281 0.        ]\n",
      " [0.         3.57585979 0.         0.40607591 0.         0.13054281]\n",
      " [0.40607591 0.         3.76108562 0.         0.885018   0.        ]\n",
      " [0.         0.40607591 0.         3.76108562 0.         0.885018  ]\n",
      " [0.13054281 0.         0.885018   0.         3.         0.        ]\n",
      " [0.         0.13054281 0.         0.885018   0.         3.        ]]\n",
      "after predict: x=[[4.15213798 0.         0.68561997 0.         0.19987364 0.        ]\n",
      " [0.         4.15213798 0.         0.68561997 0.         0.19987364]\n",
      " [0.68561997 0.         4.89974727 0.         1.095099   0.        ]\n",
      " [0.         0.68561997 0.         4.89974727 0.         1.095099  ]\n",
      " [0.19987364 0.         1.095099   0.         3.         0.        ]\n",
      " [0.         0.19987364 0.         1.095099   0.         3.        ]]\n",
      "age = 5 hits = 1\n",
      "Number of new plots 0\n",
      "Number of dynamic tracks before run() 1\n",
      "before predict: x=[[4.15213798 0.         0.68561997 0.         0.19987364 0.        ]\n",
      " [0.         4.15213798 0.         0.68561997 0.         0.19987364]\n",
      " [0.68561997 0.         4.89974727 0.         1.095099   0.        ]\n",
      " [0.         0.68561997 0.         4.89974727 0.         1.095099  ]\n",
      " [0.19987364 0.         1.095099   0.         3.         0.        ]\n",
      " [0.         0.19987364 0.         1.095099   0.         3.        ]]\n",
      "after predict: x=[[4.78427282 0.         1.07826505 0.         0.29051749 0.        ]\n",
      " [0.         4.78427282 0.         1.07826505 0.         0.29051749]\n",
      " [1.07826505 0.         6.08103498 0.         1.320267   0.        ]\n",
      " [0.         1.07826505 0.         6.08103498 0.         1.320267  ]\n",
      " [0.29051749 0.         1.320267   0.         3.         0.        ]\n",
      " [0.         0.29051749 0.         1.320267   0.         3.        ]]\n",
      "age = 6 hits = 1\n",
      "Number of new plots 0\n",
      "Number of dynamic tracks before run() 1\n",
      "before predict: x=[[4.78427282 0.         1.07826505 0.         0.29051749 0.        ]\n",
      " [0.         4.78427282 0.         1.07826505 0.         0.29051749]\n",
      " [1.07826505 0.         6.08103498 0.         1.320267   0.        ]\n",
      " [0.         1.07826505 0.         6.08103498 0.         1.320267  ]\n",
      " [0.29051749 0.         1.320267   0.         3.         0.        ]\n",
      " [0.         0.29051749 0.         1.320267   0.         3.        ]]\n",
      "after predict: x=[[5.4668815  0.         1.53440547 0.         0.39026629 0.        ]\n",
      " [0.         5.4668815  0.         1.53440547 0.         0.39026629]\n",
      " [1.53440547 0.         7.28053258 0.         1.530228   0.        ]\n",
      " [0.         1.53440547 0.         7.28053258 0.         1.530228  ]\n",
      " [0.39026629 0.         1.530228   0.         3.         0.        ]\n",
      " [0.         0.39026629 0.         1.530228   0.         3.        ]]\n",
      "age = 7 hits = 1\n"
     ]
    },
    {
     "name": "stderr",
     "output_type": "stream",
     "text": [
      "/home/kfir/workspace/RadarLocalization/dataset.py:261: VisibleDeprecationWarning: Creating an ndarray from ragged nested sequences (which is a list-or-tuple of lists-or-tuples-or ndarrays with different lengths or shapes) is deprecated. If you meant to do this, you must specify 'dtype=object' when creating the ndarray\n",
      "  rot = Quaternion(self.ego.iloc[eidx][\"rotation\"])\n"
     ]
    },
    {
     "name": "stdout",
     "output_type": "stream",
     "text": [
      "Number of new plots 0\n",
      "Number of dynamic tracks before run() 0\n",
      "Number of new plots 0\n",
      "Number of dynamic tracks before run() 0\n",
      "Number of new plots 0\n",
      "Number of dynamic tracks before run() 0\n",
      "Number of new plots 0\n",
      "Number of dynamic tracks before run() 0\n",
      "Number of new plots 0\n",
      "Number of dynamic tracks before run() 0\n",
      "Number of new plots 0\n",
      "Number of dynamic tracks before run() 0\n",
      "Number of new plots 0\n",
      "Number of dynamic tracks before run() 0\n",
      "Number of new plots 0\n",
      "Number of dynamic tracks before run() 0\n",
      "Number of new plots 0\n",
      "Number of dynamic tracks before run() 0\n",
      "Number of new plots 0\n",
      "Number of dynamic tracks before run() 0\n",
      "Number of new plots 0\n",
      "Number of dynamic tracks before run() 0\n",
      "Number of new plots 0\n",
      "Number of dynamic tracks before run() 0\n",
      "Number of new plots 0\n",
      "Number of dynamic tracks before run() 0\n",
      "Number of new plots 0\n",
      "Number of dynamic tracks before run() 0\n",
      "Number of new plots 0\n",
      "Number of dynamic tracks before run() 0\n",
      "Number of new plots 0\n",
      "Number of dynamic tracks before run() 0\n",
      "Number of new plots 0\n",
      "Number of dynamic tracks before run() 0\n",
      "Number of new plots 0\n",
      "Number of dynamic tracks before run() 0\n",
      "Number of new plots 0\n",
      "Number of dynamic tracks before run() 0\n",
      "Number of new plots 0\n",
      "Number of dynamic tracks before run() 0\n",
      "Number of new plots 0\n",
      "Number of dynamic tracks before run() 0\n",
      "Number of new plots 0\n",
      "Number of dynamic tracks before run() 0\n",
      "Number of new plots 0\n",
      "Number of dynamic tracks before run() 0\n"
     ]
    },
    {
     "name": "stderr",
     "output_type": "stream",
     "text": [
      "/home/kfir/workspace/RadarLocalization/dataset.py:261: VisibleDeprecationWarning: Creating an ndarray from ragged nested sequences (which is a list-or-tuple of lists-or-tuples-or ndarrays with different lengths or shapes) is deprecated. If you meant to do this, you must specify 'dtype=object' when creating the ndarray\n",
      "  rot = Quaternion(self.ego.iloc[eidx][\"rotation\"])\n"
     ]
    },
    {
     "name": "stdout",
     "output_type": "stream",
     "text": [
      "Number of new plots 0\n",
      "Number of dynamic tracks before run() 0\n",
      "Number of new plots 0\n",
      "Number of dynamic tracks before run() 0\n",
      "Number of new plots 0\n",
      "Number of dynamic tracks before run() 0\n",
      "Number of new plots 0\n",
      "Number of dynamic tracks before run() 0\n",
      "Number of new plots 0\n",
      "Number of dynamic tracks before run() 0\n",
      "Number of new plots 0\n",
      "Number of dynamic tracks before run() 0\n",
      "Number of new plots 0\n",
      "Number of dynamic tracks before run() 0\n",
      "Number of new plots 0\n",
      "Number of dynamic tracks before run() 0\n",
      "Number of new plots 0\n",
      "Number of dynamic tracks before run() 0\n",
      "Number of new plots 0\n",
      "Number of dynamic tracks before run() 0\n",
      "Number of new plots 0\n",
      "Number of dynamic tracks before run() 0\n",
      "Number of new plots 0\n",
      "Number of dynamic tracks before run() 0\n",
      "Number of new plots 0\n",
      "Number of dynamic tracks before run() 0\n",
      "Number of new plots 0\n",
      "Number of dynamic tracks before run() 0\n",
      "Number of new plots 0\n",
      "Number of dynamic tracks before run() 0\n",
      "Number of new plots 0\n",
      "Number of dynamic tracks before run() 0\n",
      "Number of new plots 0\n",
      "Number of dynamic tracks before run() 0\n",
      "Number of new plots 0\n",
      "Number of dynamic tracks before run() 0\n",
      "Number of new plots 0\n",
      "Number of dynamic tracks before run() 0\n",
      "Number of new plots 0\n",
      "Number of dynamic tracks before run() 0\n",
      "Number of new plots 0\n",
      "Number of dynamic tracks before run() 0\n",
      "Number of new plots 0\n",
      "Number of dynamic tracks before run() 0\n",
      "Number of new plots 0\n",
      "Number of dynamic tracks before run() 0\n",
      "Number of new plots 0\n",
      "Number of dynamic tracks before run() 0\n",
      "Number of new plots 0\n",
      "Number of dynamic tracks before run() 0\n",
      "Number of new plots 0\n",
      "Number of dynamic tracks before run() 0\n",
      "Number of new plots 0\n",
      "Number of dynamic tracks before run() 0\n",
      "Number of new plots 0\n",
      "Number of dynamic tracks before run() 0\n",
      "Number of new plots 0\n",
      "Number of dynamic tracks before run() 0\n",
      "Number of new plots 0\n",
      "Number of dynamic tracks before run() 0\n",
      "Number of new plots 0\n",
      "Number of dynamic tracks before run() 0\n",
      "Number of new plots 0\n",
      "Number of dynamic tracks before run() 0\n",
      "Number of new plots 0\n",
      "Number of dynamic tracks before run() 0\n",
      "Number of new plots 0\n",
      "Number of dynamic tracks before run() 0\n",
      "Number of new plots 0\n",
      "Number of dynamic tracks before run() 0\n"
     ]
    },
    {
     "name": "stderr",
     "output_type": "stream",
     "text": [
      "/home/kfir/workspace/RadarLocalization/dataset.py:261: VisibleDeprecationWarning: Creating an ndarray from ragged nested sequences (which is a list-or-tuple of lists-or-tuples-or ndarrays with different lengths or shapes) is deprecated. If you meant to do this, you must specify 'dtype=object' when creating the ndarray\n",
      "  rot = Quaternion(self.ego.iloc[eidx][\"rotation\"])\n"
     ]
    },
    {
     "name": "stdout",
     "output_type": "stream",
     "text": [
      "Number of new plots 0\n",
      "Number of dynamic tracks before run() 0\n",
      "Number of new plots 0\n",
      "Number of dynamic tracks before run() 0\n"
     ]
    },
    {
     "name": "stderr",
     "output_type": "stream",
     "text": [
      "/home/kfir/workspace/RadarLocalization/dataset.py:261: VisibleDeprecationWarning: Creating an ndarray from ragged nested sequences (which is a list-or-tuple of lists-or-tuples-or ndarrays with different lengths or shapes) is deprecated. If you meant to do this, you must specify 'dtype=object' when creating the ndarray\n",
      "  rot = Quaternion(self.ego.iloc[eidx][\"rotation\"])\n"
     ]
    },
    {
     "name": "stdout",
     "output_type": "stream",
     "text": [
      "Number of new plots 0\n",
      "Number of dynamic tracks before run() 0\n",
      "Number of new plots 0\n",
      "Number of dynamic tracks before run() 0\n",
      "Number of new plots 0\n",
      "Number of dynamic tracks before run() 0\n"
     ]
    },
    {
     "name": "stderr",
     "output_type": "stream",
     "text": [
      "/home/kfir/workspace/RadarLocalization/dataset.py:261: VisibleDeprecationWarning: Creating an ndarray from ragged nested sequences (which is a list-or-tuple of lists-or-tuples-or ndarrays with different lengths or shapes) is deprecated. If you meant to do this, you must specify 'dtype=object' when creating the ndarray\n",
      "  rot = Quaternion(self.ego.iloc[eidx][\"rotation\"])\n"
     ]
    },
    {
     "name": "stdout",
     "output_type": "stream",
     "text": [
      "Number of new plots 0\n",
      "Number of dynamic tracks before run() 0\n",
      "Number of new plots 0\n",
      "Number of dynamic tracks before run() 0\n",
      "Number of new plots 0\n",
      "Number of dynamic tracks before run() 0\n",
      "Number of new plots 0\n",
      "Number of dynamic tracks before run() 0\n",
      "Number of new plots 0\n",
      "Number of dynamic tracks before run() 0\n",
      "Number of new plots 0\n",
      "Number of dynamic tracks before run() 0\n",
      "Number of new plots 0\n",
      "Number of dynamic tracks before run() 0\n",
      "Number of new plots 0\n",
      "Number of dynamic tracks before run() 0\n"
     ]
    }
   ],
   "source": [
    "tracker = DynamicTracker()\n",
    "n_frames = 200\n",
    "for t in range(0,n_frames):\n",
    "    pc, ts = dataset.getDynamicPoints(t)\n",
    "    X, P = runClustering(pc)\n",
    "    #print(f\"X={X} P={P}\")\n",
    "    tracker.run(X, P, ts)\n",
    "    \n"
   ]
  },
  {
   "cell_type": "code",
   "execution_count": 431,
   "id": "ed19512f",
   "metadata": {},
   "outputs": [
    {
     "name": "stdout",
     "output_type": "stream",
     "text": [
      "Total number of tracks = 19\n",
      "(16, 6, 1)\n",
      "(8, 6, 1)\n",
      "(7, 6, 1)\n",
      "(15, 6, 1)\n",
      "(44, 6, 1)\n",
      "(13, 6, 1)\n",
      "(11, 6, 1)\n",
      "(7, 6, 1)\n",
      "(8, 6, 1)\n",
      "(19, 6, 1)\n",
      "(7, 6, 1)\n",
      "(14, 6, 1)\n",
      "(7, 6, 1)\n",
      "(14, 6, 1)\n",
      "(32, 6, 1)\n",
      "(7, 6, 1)\n",
      "(9, 6, 1)\n",
      "(9, 6, 1)\n",
      "(7, 6, 1)\n"
     ]
    },
    {
     "data": {
      "image/png": "[encoded data removed]",
      "text/plain": [
       "<matplotlib.figure.Figure at 0x7f3994d92668>"
      ]
     },
     "metadata": {},
     "output_type": "display_data"
    }
   ],
   "source": [
    "tracks = tracker.getHistory()\n",
    "N = len(tracks)\n",
    "print(f\"Total number of tracks = {N}\")\n",
    "\n",
    "fig, ax = plt.subplots(1,1,figsize=(15,10))\n",
    "colors = ['blue','orange','green','red','black','pink','yellow','purple',\"brown\",\"firebrick\",\"coral\",\"lime\",\n",
    "                      \"wheat\", \"yellowgreen\", \"lightyellow\", \"skyblue\", \"cyan\", \"chocolate\", \"maroon\", \"peru\", \"blueviolet\"]\n",
    "\n",
    "ego_path = dataset.getEgoPath()[:n_frames]\n",
    "ax.plot(ego_path[:,0], ego_path[:,1])\n",
    "for idx,trk in enumerate(tracks):\n",
    "    if 1:#trk.confirmed:\n",
    "        history = trk.getHistory()\n",
    "        print(history.shape)\n",
    "        ax.plot(history[:,0], history[:,1], color=colors[idx])\n",
    "        history_len = history.shape[0]\n",
    "        dx = history[int(history_len / 2) + 1,0]-history[int(history_len / 2) - 1,0]\n",
    "        dy = history[int(history_len / 2) + 1,1]-history[int(history_len / 2) - 1,1]\n",
    "        #ax.arrow(np.mean(history[:,0]), np.mean(history[:,1]), dx[0], dy[0], shape='full', lw=13, length_includes_head=True, head_width=.05)"
   ]
  },
  {
   "cell_type": "code",
   "execution_count": null,
   "id": "e3e60b36",
   "metadata": {},
   "outputs": [],
   "source": []
  }
 ],
 "metadata": {
  "kernelspec": {
   "display_name": "Python 3",
   "language": "python",
   "name": "python3"
  },
  "language_info": {
   "codemirror_mode": {
    "name": "ipython",
    "version": 3
   },
   "file_extension": ".py",
   "mimetype": "text/x-python",
   "name": "python",
   "nbconvert_exporter": "python",
   "pygments_lexer": "ipython3",
   "version": "3.6.9"
  }
 },
 "nbformat": 4,
 "nbformat_minor": 5
}
