{
 "cells": [
  {
   "cell_type": "code",
   "execution_count": 163,
   "id": "d35f0c8f",
   "metadata": {},
   "outputs": [],
   "source": [
    "import numpy as np\n",
    "from numpy.polynomial import polynomial as P\n",
    "\n",
    "def innerProductPolynoms(f1, f2, xmin, xmax):\n",
    "        f1mf2 = P.polysub(f1,f2)\n",
    "        f1mf2 = P.polymul(f1mf2,f1mf2)\n",
    "        val = P.polyint(f1mf2,lbnd=xmin)\n",
    "        #print(\"val\", val)\n",
    "        ip = np.abs(val[0] + val[1]*(xmax-xmin)+val[2]*(xmax-xmin)**2+val[3]*(xmax-xmin)**3+val[4]*(xmax-xmin)**4+val[5]*(xmax-xmin)**5)\n",
    "        return np.sqrt(ip)/(xmax-xmin)\n",
    "    \n",
    "def associatePolynomAndPrior(res, priors):\n",
    "    ass_list = []\n",
    "    polynoms = res[-1]\n",
    "    \n",
    "    for iprior,prior in enumerate(priors):\n",
    "        for ipol,polynom in enumerate(polynoms):\n",
    "            a0_err = abs(polynom[\"f\"].c[2]-prior[0])\n",
    "            a1_err = abs(polynom[\"f\"].c[1]-prior[1])\n",
    "            a2_err = abs(polynom[\"f\"].c[0]-prior[2])\n",
    "            #print(polynom[\"f\"].c,prior, a0_err, a1_err, a2_err)\n",
    "            if a0_err < 8 and a1_err < 1 and a2_err < 0.1:\n",
    "                ass_list.append((iprior,ipol))\n",
    "                \n",
    "    return ass_list\n",
    "\n",
    "def ComputeCoeffErrors(res, prior, ipolynom):\n",
    "    #print(res[-1][ipolynom][\"f\"],prior)\n",
    "    a0_err = np.zeros([len(res), 3])\n",
    "    a1_err = np.zeros([len(res), 3])\n",
    "    a2_err = np.zeros([len(res), 3])\n",
    "    for iframe,frame in enumerate(res):\n",
    "        a0_err[iframe,0] = abs(frame[ipolynom][\"f\"].c[2] - prior[0])\n",
    "        a1_err[iframe,1] = abs(frame[ipolynom][\"f\"].c[1] - prior[1])\n",
    "        a2_err[iframe,2] = abs(frame[ipolynom][\"f\"].c[0] - prior[2])\n",
    "        \n",
    "    a0_mean_err = np.mean(a0_err)\n",
    "    a1_mean_err = np.mean(a1_err)\n",
    "    a2_mean_err = np.mean(a2_err)\n",
    "    print(f\"ComputeCoeffErrors: mean err for prior {prior} = ({a0_mean_err},{a1_mean_err},{a2_mean_err})\")\n",
    "    \n",
    "    \n",
    "def ComputePolynomDistance(res, prior, ipolynom):\n",
    "    dist = np.zeros(len(res))\n",
    "    for iframe,frame in enumerate(res):\n",
    "        \n",
    "        f1 = (prior[0],prior[1],prior[2])\n",
    "        f2 = (frame[ipolynom][\"f\"].c[2],frame[ipolynom][\"f\"].c[1],frame[ipolynom][\"f\"].c[0])\n",
    "        xmin = max(prior[3],frame[ipolynom][\"x_start\"])\n",
    "        xmax = min(prior[4],frame[ipolynom][\"x_end\"])\n",
    "        dist[iframe] = innerProductPolynoms(f1,f2,xmin,xmax)\n",
    "        #print(\"f1\",f1,\"f2\",f2,\"xmin\",xmin,\"xmax\",xmax,\"dist[iframe]\",dist[iframe])\n",
    "        \n",
    "    dist_mean_err = np.mean(dist)\n",
    "    dist_max_err = np.max(dist)\n",
    "    print(f\"ComputePolynomDistance: dist_mean_err for prior {prior} = {dist_mean_err}\")\n",
    "    print(f\"ComputePolynomDistance: dist_max_err for prior {prior} = {dist_max_err}\")\n",
    "    \n",
    "def ComputeOverlappingArea(res, prior, ipolynom):\n",
    "    overlap = np.zeros(len(res))\n",
    "    for iframe,frame in enumerate(res):\n",
    "        xmin = max(prior[3],frame[ipolynom][\"x_start\"])\n",
    "        xmax = min(prior[4],frame[ipolynom][\"x_end\"])\n",
    "        \n",
    "        xminmin = min(prior[3],frame[ipolynom][\"x_start\"])\n",
    "        xmaxmax = max(prior[4],frame[ipolynom][\"x_end\"])\n",
    "        overlap[iframe] = np.abs(xmax-xmin)/np.abs(xmaxmax-xminmin)\n",
    "        \n",
    "    overlap_mean = np.mean(overlap)\n",
    "    overlap_min = np.min(overlap)\n",
    "    print(f\"ComputeOverlappingArea: overlap_mean for prior {prior} = {overlap_mean}\")\n",
    "    print(f\"ComputeOverlappingArea: overlap_min for prior {prior} = {overlap_min}\")\n",
    "    \n",
    "def ComputeNonOverlappingArea(res, prior, ipolynom):\n",
    "    nonoverlap = np.zeros(len(res))\n",
    "    for iframe,frame in enumerate(res):\n",
    "        dmin = prior[3]-frame[ipolynom][\"x_start\"]\n",
    "        dmax = frame[ipolynom][\"x_end\"] - prior[4]\n",
    "        \n",
    "        dmin = dmin if dmin > 0 else 0\n",
    "        dmax = dmin if dmax > 0 else 0\n",
    "        \n",
    "        nonoverlap[iframe] = dmax + dmin\n",
    "        \n",
    "    nonoverlap_mean = np.mean(nonoverlap)\n",
    "    nonoverlap_max = np.max(nonoverlap)\n",
    "    print(f\"ComputeNonOverlappingArea: onon_verlap_mean for prior {prior} = {nonoverlap_mean}\")\n",
    "    print(f\"ComputeNonOverlappingArea: non_overlap_max for prior {prior} = {nonoverlap_max}\")\n",
    "        \n",
    "\n",
    "def analyzeResults(res, priors):\n",
    "    ass_list = associatePolynomAndPrior(res, priors)\n",
    "    for iprior,prior in enumerate(priors):\n",
    "        ComputeCoeffErrors(res, priors[ass_list[iprior][0]], ass_list[iprior][1])\n",
    "        ComputePolynomDistance(res, priors[ass_list[iprior][0]], ass_list[iprior][1])\n",
    "        ComputeOverlappingArea(res, priors[ass_list[iprior][0]], ass_list[iprior][1])\n",
    "        ComputeNonOverlappingArea(res, priors[ass_list[iprior][0]], ass_list[iprior][1])"
   ]
  },
  {
   "cell_type": "code",
   "execution_count": null,
   "id": "e452d973",
   "metadata": {
    "scrolled": true
   },
   "outputs": [
    {
     "name": "stdout",
     "output_type": "stream",
     "text": [
      "The autoreload extension is already loaded. To reload it, use:\n",
      "  %reload_ext autoreload\n",
      "frame 0\n",
      "data_size 120 zw.shape (144, 2)\n",
      "prior [{'c': (0, 0, 1e-05), 'xmin': 3, 'xmax': 40, 'fx': True}, {'c': (10, 0.009, -0.004), 'xmin': 50, 'xmax': 90, 'fx': True}, {'c': (40, 0, -0.01), 'xmin': 1, 'xmax': 40, 'fx': False}]\n",
      "Number of point tracks before run() 0\n",
      "Number of extended tracks before run() 0\n",
      "len(unique_polynoms) 0\n",
      "frame 1\n",
      "data_size 120 zw.shape (144, 2)\n",
      "prior [{'c': (0, 0, 1e-05), 'xmin': 3, 'xmax': 40, 'fx': True}, {'c': (10, 0.009, -0.004), 'xmin': 50, 'xmax': 90, 'fx': True}, {'c': (40, 0, -0.01), 'xmin': 1, 'xmax': 40, 'fx': False}]\n",
      "Number of point tracks before run() 144\n",
      "Number of extended tracks before run() 0\n"
     ]
    },
    {
     "name": "stderr",
     "output_type": "stream",
     "text": [
      "/home/kfir/workspace/RadarLocalization/tracker.py:86: RuntimeWarning: divide by zero encountered in double_scalars\n",
      "  \n"
     ]
    },
    {
     "name": "stdout",
     "output_type": "stream",
     "text": [
      "len(unique_polynoms) 0\n",
      "frame 2\n",
      "data_size 120 zw.shape (144, 2)\n",
      "prior [{'c': (0, 0, 1e-05), 'xmin': 3, 'xmax': 40, 'fx': True}, {'c': (10, 0.009, -0.004), 'xmin': 50, 'xmax': 90, 'fx': True}, {'c': (40, 0, -0.01), 'xmin': 1, 'xmax': 40, 'fx': False}]\n",
      "Number of point tracks before run() 217\n",
      "Number of extended tracks before run() 0\n",
      "Opening flipped polynom!!!\n",
      "created an extended object! [ 3.99329261e+01 -1.62731271e-02 -9.54765142e-03 -1.05190393e-01\n",
      "  3.88773435e+01]\n",
      "created an extended object! [ 1.32904146e-01 -9.94627579e-03  3.89685568e-04  3.22285968e+00\n",
      "  3.89690509e+01]\n",
      "created an extended object! [ 1.10465027e+01 -5.09971332e-02 -3.56436712e-03  5.01147839e+01\n",
      "  8.99877007e+01]\n",
      "Tracks are similar! do not open a new trk (0.5188736024160776, -0.006033381062303229, 0.0003896855683518883) (0.0, 0.005936866031576634, -0.0001941517599232297)\n",
      "Tracks are similar! do not open a new trk (-1.3518073515243636, -0.4111250524215142, -0.003564367124252374) (0.0, -0.41086768756089875, -0.0035388376681763367)\n",
      "Tracks are similar! do not open a new trk (-0.4829304713985764, -0.002517346298251141, 0.0003896855683518884) (0.0, 0.026672578977078858, -0.0010206146603038491)\n",
      "len(unique_polynoms) 0\n",
      "frame 3\n",
      "data_size 120 zw.shape (144, 2)\n",
      "prior [{'c': (0, 0, 1e-05), 'xmin': 3, 'xmax': 40, 'fx': True}, {'c': (10, 0.009, -0.004), 'xmin': 50, 'xmax': 90, 'fx': True}, {'c': (40, 0, -0.01), 'xmin': 1, 'xmax': 40, 'fx': False}]\n",
      "Number of point tracks before run() 109\n",
      "Number of extended tracks before run() 3\n"
     ]
    },
    {
     "name": "stderr",
     "output_type": "stream",
     "text": [
      "/home/kfir/workspace/RadarLocalization/tracker.py:62: VisibleDeprecationWarning: Creating an ndarray from ragged nested sequences (which is a list-or-tuple of lists-or-tuples-or ndarrays with different lengths or shapes) is deprecated. If you meant to do this, you must specify 'dtype=object' when creating the ndarray\n",
      "  \n",
      "/home/kfir/workspace/RadarLocalization/tracker.py:86: RuntimeWarning: divide by zero encountered in double_scalars\n",
      "  \n"
     ]
    },
    {
     "name": "stdout",
     "output_type": "stream",
     "text": [
      "Updating extended object track =  2\n",
      "Updating extended object track =  0\n",
      "Updating extended object track =  0\n",
      "Updating extended object track =  2\n",
      "Updating extended object track =  2\n",
      "Updating extended object track =  2\n",
      "Updating extended object track =  2\n",
      "Updating extended object track =  1\n",
      "Updating extended object track =  2\n",
      "Updating extended object track =  0\n",
      "Opening flipped polynom!!!\n",
      "Tracks are similar! do not open a new trk (-0.044846978335037264, -0.02078838776800429, -0.00990584608203207) (0.0, -0.003133472805165932, -0.010340015592612445)\n",
      "Tracks are similar! do not open a new trk (-0.05353620581535944, -0.005870583788527432, 0.00036739175677183786) (0.0, -0.031411667001039666, 0.0007790311684058984)\n",
      "Tracks are similar! do not open a new trk (-1.0086924665523176, -0.42422425906864686, -0.0036277580702726085) (0.0, -0.3895114293168348, -0.004077894338741658)\n",
      "len(unique_polynoms) 3\n",
      "frame 4\n",
      "data_size 120 zw.shape (144, 2)\n",
      "prior [{'c': (0, 0, 1e-05), 'xmin': 3, 'xmax': 40, 'fx': True}, {'c': (10, 0.009, -0.004), 'xmin': 50, 'xmax': 90, 'fx': True}, {'c': (40, 0, -0.01), 'xmin': 1, 'xmax': 40, 'fx': False}]\n",
      "Number of point tracks before run() 123\n",
      "Number of extended tracks before run() 3\n"
     ]
    },
    {
     "name": "stderr",
     "output_type": "stream",
     "text": [
      "/home/kfir/workspace/RadarLocalization/tracker.py:62: VisibleDeprecationWarning: Creating an ndarray from ragged nested sequences (which is a list-or-tuple of lists-or-tuples-or ndarrays with different lengths or shapes) is deprecated. If you meant to do this, you must specify 'dtype=object' when creating the ndarray\n",
      "  \n",
      "/home/kfir/workspace/RadarLocalization/tracker.py:86: RuntimeWarning: divide by zero encountered in double_scalars\n",
      "  \n"
     ]
    },
    {
     "name": "stdout",
     "output_type": "stream",
     "text": [
      "Updating extended object track =  0\n",
      "Updating extended object track =  2\n",
      "Updating extended object track =  1\n",
      "Updating extended object track =  2\n",
      "Updating extended object track =  2\n",
      "Opening flipped polynom!!!\n",
      "Tracks are similar! do not open a new trk (0.13796052727461044, -0.001444443420721253, -0.009853319717488925) (0.0, 0.04066661434085553, -0.011135841392815673)\n",
      "Tracks are similar! do not open a new trk (0.14406076682671176, 0.0033198565181376738, 0.0003909542033577777) (0.0, 0.003423158089255268, 0.0004777415818991774)\n",
      "Tracks are similar! do not open a new trk (0.5305340993281598, -0.4905808614560675, -0.0034532757830229672) (0.0, -0.4699681922818059, -0.0030264411421412453)\n",
      "Tracks are similar! do not open a new trk (-1.299495166703557, -0.4621738827545153, -0.0034532757830229594) (0.0, -0.4051093506749272, -0.004378631763581748)\n",
      "Opening flipped polynom!!!\n",
      "Tracks are similar! do not open a new trk (-0.07399517911451703, -0.5208555291745869, -0.009853319717488927) (0.0, -0.5768482277951301, -0.009183221545297214)\n",
      "len(unique_polynoms) 3\n",
      "frame 5\n",
      "data_size 120 zw.shape (144, 2)\n",
      "prior [{'c': (0, 0, 1e-05), 'xmin': 3, 'xmax': 40, 'fx': True}, {'c': (10, 0.009, -0.004), 'xmin': 50, 'xmax': 90, 'fx': True}, {'c': (40, 0, -0.01), 'xmin': 1, 'xmax': 40, 'fx': False}]\n",
      "Number of point tracks before run() 157\n",
      "Number of extended tracks before run() 3\n"
     ]
    },
    {
     "name": "stderr",
     "output_type": "stream",
     "text": [
      "/home/kfir/workspace/RadarLocalization/tracker.py:62: VisibleDeprecationWarning: Creating an ndarray from ragged nested sequences (which is a list-or-tuple of lists-or-tuples-or ndarrays with different lengths or shapes) is deprecated. If you meant to do this, you must specify 'dtype=object' when creating the ndarray\n",
      "  \n",
      "/home/kfir/workspace/RadarLocalization/tracker.py:86: RuntimeWarning: divide by zero encountered in double_scalars\n",
      "  \n"
     ]
    },
    {
     "name": "stdout",
     "output_type": "stream",
     "text": [
      "Updating extended object track =  1\n",
      "Updating extended object track =  1\n",
      "Updating extended object track =  1\n",
      "Updating extended object track =  2\n",
      "Updating extended object track =  2\n",
      "Updating extended object track =  2\n",
      "Updating extended object track =  1\n",
      "Updating extended object track =  2\n",
      "Tracks are similar! do not open a new trk (-0.003377447546556529, 0.001495695239655567, 0.00022639813595693237) (0.0, -0.003484287080418723, 0.00021258600257019432)\n",
      "Tracks are similar! do not open a new trk (-0.227080256292845, -0.43244307726988684, -0.003436489458935167) (0.0, -0.3327930294928718, -0.005687708452189523)\n",
      "Opening flipped polynom!!!\n",
      "Tracks are similar! do not open a new trk (-0.43048401650499385, -0.034769732050583146, -0.009853319717488929) (0.0, -0.10889346637128489, -0.006952062875402535)\n",
      "Tracks are similar! do not open a new trk (0.18245320931067704, 0.0015874452988727597, 0.00022639813595693234) (0.0, 0.04870058139501297, -0.0010266950736556439)\n",
      "Opening flipped polynom!!!\n",
      "Tracks are similar! do not open a new trk (-0.44530655654971696, -0.5943101246117581, -0.009853319717488929) (0.0, -0.7071769941609365, -0.002398376123428854)\n",
      "len(unique_polynoms) 2\n",
      "frame 6\n",
      "data_size 120 zw.shape (144, 2)\n",
      "prior [{'c': (0, 0, 1e-05), 'xmin': 3, 'xmax': 40, 'fx': True}, {'c': (10, 0.009, -0.004), 'xmin': 50, 'xmax': 90, 'fx': True}, {'c': (40, 0, -0.01), 'xmin': 1, 'xmax': 40, 'fx': False}]\n",
      "Number of point tracks before run() 178\n",
      "Number of extended tracks before run() 3\n"
     ]
    },
    {
     "name": "stderr",
     "output_type": "stream",
     "text": [
      "/home/kfir/workspace/RadarLocalization/tracker.py:62: VisibleDeprecationWarning: Creating an ndarray from ragged nested sequences (which is a list-or-tuple of lists-or-tuples-or ndarrays with different lengths or shapes) is deprecated. If you meant to do this, you must specify 'dtype=object' when creating the ndarray\n",
      "  \n",
      "/home/kfir/workspace/RadarLocalization/tracker.py:86: RuntimeWarning: divide by zero encountered in double_scalars\n",
      "  \n"
     ]
    },
    {
     "name": "stdout",
     "output_type": "stream",
     "text": [
      "Updating extended object track =  2\n",
      "Updating extended object track =  2\n",
      "Opening flipped polynom!!!\n",
      "Tracks are similar! do not open a new trk (-0.15785057021487137, -0.0446649424139416, -0.009853319717488934) (0.0, -0.03559715187515644, -0.010148500172141037)\n",
      "Tracks are similar! do not open a new trk (0.024876785984565355, 0.0015644989922342567, 0.0002263981359569325) (0.0, 0.01722582470518356, -0.0003940334482552435)\n",
      "Tracks are similar! do not open a new trk (-0.838199206978067, -0.4310484381518456, -0.0036434436612869238) (0.0, -0.40437327706485954, -0.00404213535812958)\n",
      "len(unique_polynoms) 1\n",
      "frame 7\n",
      "data_size 120 zw.shape (144, 2)\n",
      "prior [{'c': (0, 0, 1e-05), 'xmin': 3, 'xmax': 40, 'fx': True}, {'c': (10, 0.009, -0.004), 'xmin': 50, 'xmax': 90, 'fx': True}, {'c': (40, 0, -0.01), 'xmin': 1, 'xmax': 40, 'fx': False}]\n",
      "Number of point tracks before run() 204\n",
      "Number of extended tracks before run() 3\n"
     ]
    },
    {
     "name": "stderr",
     "output_type": "stream",
     "text": [
      "/home/kfir/workspace/RadarLocalization/tracker.py:62: VisibleDeprecationWarning: Creating an ndarray from ragged nested sequences (which is a list-or-tuple of lists-or-tuples-or ndarrays with different lengths or shapes) is deprecated. If you meant to do this, you must specify 'dtype=object' when creating the ndarray\n",
      "  \n",
      "/home/kfir/workspace/RadarLocalization/tracker.py:86: RuntimeWarning: divide by zero encountered in double_scalars\n",
      "  \n"
     ]
    },
    {
     "name": "stdout",
     "output_type": "stream",
     "text": [
      "Updating extended object track =  0\n",
      "Updating extended object track =  2\n",
      "Updating extended object track =  2\n",
      "Opening flipped polynom!!!\n",
      "Tracks are similar! do not open a new trk (0.2231821470596061, 0.01623330594889194, -0.010142181655411395) (0.0, 0.05973530228010515, -0.012184706411099764)\n",
      "Tracks are similar! do not open a new trk (-0.1094538313169183, 0.001717642347343536, 0.00022639813595693234) (0.0, -0.029981800949444377, 0.0013138625011337873)\n",
      "Tracks are similar! do not open a new trk (-1.0912410299773525, -0.37916816835549916, -0.004726483892176425) (0.0, -0.35707886389932403, -0.005042917434939899)\n",
      "len(unique_polynoms) 2\n",
      "frame 8\n",
      "data_size 120 zw.shape (144, 2)\n",
      "prior [{'c': (0, 0, 1e-05), 'xmin': 3, 'xmax': 40, 'fx': True}, {'c': (10, 0.009, -0.004), 'xmin': 50, 'xmax': 90, 'fx': True}, {'c': (40, 0, -0.01), 'xmin': 1, 'xmax': 40, 'fx': False}]\n",
      "Number of point tracks before run() 249\n",
      "Number of extended tracks before run() 3\n"
     ]
    },
    {
     "name": "stderr",
     "output_type": "stream",
     "text": [
      "/home/kfir/workspace/RadarLocalization/tracker.py:62: VisibleDeprecationWarning: Creating an ndarray from ragged nested sequences (which is a list-or-tuple of lists-or-tuples-or ndarrays with different lengths or shapes) is deprecated. If you meant to do this, you must specify 'dtype=object' when creating the ndarray\n",
      "  \n"
     ]
    }
   ],
   "source": [
    "%load_ext autoreload\n",
    "%autoreload 2\n",
    "from simulation import DynamicSimulation\n",
    "from tracker import StaticTracker\n",
    "model = StaticTracker()\n",
    "prior = [(0, 0, 0.00001, 3, 40, True), \n",
    "        (10, 0.009, -0.004, 50, 90, True),\n",
    "        (40, 0, -0.01, 1, 40, False)]\n",
    "#prior = [(0, 0, 0.0001, 3, 40)]\n",
    "sim = DynamicSimulation(model,prior=prior)\n",
    "res = sim.run(N=20)\n",
    "\n",
    "analyzeResults(res,prior)"
   ]
  },
  {
   "cell_type": "code",
   "execution_count": 151,
   "id": "6a6e10c4",
   "metadata": {},
   "outputs": [
    {
     "name": "stdout",
     "output_type": "stream",
     "text": [
      "ComputeCoeffErrors: mean err for prior (0, 0, 1e-05, 3, 40, True) = (0.0540064797381548,0.0038093326758344252,0.00017653161518752)\n",
      "ComputePolynomDistance: dist_mean_err for prior (0, 0, 1e-05, 3, 40, True) = 0.017642605034590263\n",
      "ComputePolynomDistance: dist_max_err for prior (0, 0, 1e-05, 3, 40, True) = 0.03310096710012558\n",
      "ComputeOverlappingArea: overlap_mean for prior (0, 0, 1e-05, 3, 40, True) = 0.8799734901110551\n",
      "ComputeOverlappingArea: overlap_min for prior (0, 0, 1e-05, 3, 40, True) = 0.8238002411741217\n",
      "ComputeNonOverlappingArea: onon_verlap_mean for prior (0, 0, 1e-05, 3, 40, True) = 0.0\n",
      "ComputeNonOverlappingArea: non_overlap_max for prior (0, 0, 1e-05, 3, 40, True) = 0.0\n",
      "ComputeCoeffErrors: mean err for prior (10, 0.009, -0.004, 50, 90, True) = (2.547341653281811,0.07734229053018243,0.0005423252901726406)\n",
      "ComputePolynomDistance: dist_mean_err for prior (10, 0.009, -0.004, 50, 90, True) = 0.07829325941546049\n",
      "ComputePolynomDistance: dist_max_err for prior (10, 0.009, -0.004, 50, 90, True) = 0.1043450750798469\n",
      "ComputeOverlappingArea: overlap_mean for prior (10, 0.009, -0.004, 50, 90, True) = 0.9137121647003811\n",
      "ComputeOverlappingArea: overlap_min for prior (10, 0.009, -0.004, 50, 90, True) = 0.856161034322725\n",
      "ComputeNonOverlappingArea: onon_verlap_mean for prior (10, 0.009, -0.004, 50, 90, True) = 0.0\n",
      "ComputeNonOverlappingArea: non_overlap_max for prior (10, 0.009, -0.004, 50, 90, True) = 0.0\n",
      "ComputeCoeffErrors: mean err for prior (40, 0, -0.01, 1, 40, False) = (0.029320915550577184,0.0026094481988541388,5.320514846651251e-05)\n",
      "ComputePolynomDistance: dist_mean_err for prior (40, 0, -0.01, 1, 40, False) = 0.008303755518479387\n",
      "ComputePolynomDistance: dist_max_err for prior (40, 0, -0.01, 1, 40, False) = 0.010733512775690835\n",
      "ComputeOverlappingArea: overlap_mean for prior (40, 0, -0.01, 1, 40, False) = 0.9331752389357421\n",
      "ComputeOverlappingArea: overlap_min for prior (40, 0, -0.01, 1, 40, False) = 0.8841134448932958\n",
      "ComputeNonOverlappingArea: onon_verlap_mean for prior (40, 0, -0.01, 1, 40, False) = 1.211431351398023\n",
      "ComputeNonOverlappingArea: non_overlap_max for prior (40, 0, -0.01, 1, 40, False) = 2.252108065725761\n"
     ]
    }
   ],
   "source": [
    "analyzeResults(res,prior)"
   ]
  },
  {
   "cell_type": "code",
   "execution_count": 76,
   "id": "e0ebec3b",
   "metadata": {},
   "outputs": [
    {
     "name": "stderr",
     "output_type": "stream",
     "text": [
      "[autoreload of dataset failed: Traceback (most recent call last):\n",
      "  File \"/usr/local/lib/python3.6/dist-packages/IPython/extensions/autoreload.py\", line 245, in check\n",
      "    superreload(m, reload, self.old_objects)\n",
      "  File \"/usr/local/lib/python3.6/dist-packages/IPython/extensions/autoreload.py\", line 394, in superreload\n",
      "    module = reload(module)\n",
      "  File \"/usr/lib/python3.6/imp.py\", line 315, in reload\n",
      "    return importlib.reload(module)\n",
      "  File \"/usr/lib/python3.6/importlib/__init__.py\", line 166, in reload\n",
      "    _bootstrap._exec(spec, module)\n",
      "  File \"<frozen importlib._bootstrap>\", line 618, in _exec\n",
      "  File \"<frozen importlib._bootstrap_external>\", line 674, in exec_module\n",
      "  File \"<frozen importlib._bootstrap_external>\", line 781, in get_code\n",
      "  File \"<frozen importlib._bootstrap_external>\", line 741, in source_to_code\n",
      "  File \"<frozen importlib._bootstrap>\", line 219, in _call_with_frames_removed\n",
      "  File \"/home/kfir/workspace/RadarLocalization/dataset.py\", line 97\n",
      "    prior_list.append({\"c\": (coeff[0], coeff[1], coeff[2]), \"xmin\": coeff[3], \"xmax\": coeff[4]}, \"fx\":  coeff[5])\n",
      "                                                                                                     ^\n",
      "SyntaxError: invalid syntax\n",
      "]\n"
     ]
    },
    {
     "data": {
      "text/plain": [
       "array([[5, 4],\n",
       "       [3, 2]])"
      ]
     },
     "execution_count": 76,
     "metadata": {},
     "output_type": "execute_result"
    }
   ],
   "source": [
    "np.flip(np.array([[2, 3],[4,5]]))"
   ]
  },
  {
   "cell_type": "code",
   "execution_count": 77,
   "id": "376fe631",
   "metadata": {},
   "outputs": [
    {
     "data": {
      "text/plain": [
       "array([[5, 4],\n",
       "       [3, 2]])"
      ]
     },
     "execution_count": 77,
     "metadata": {},
     "output_type": "execute_result"
    }
   ],
   "source": [
    "np.flip(np.array([[2, 3],[4,5]]))"
   ]
  },
  {
   "cell_type": "code",
   "execution_count": 20,
   "id": "9a9a6915",
   "metadata": {},
   "outputs": [],
   "source": [
    "import scipy.optimize"
   ]
  },
  {
   "cell_type": "code",
   "execution_count": 50,
   "id": "70b27bcc",
   "metadata": {},
   "outputs": [
    {
     "name": "stdout",
     "output_type": "stream",
     "text": [
      "0.43612146377563477\n",
      "res [17.71929741]\n",
      "[17.71929741] [9.91166475]\n"
     ]
    }
   ],
   "source": [
    "import numpy as np\n",
    "import time\n",
    "\n",
    "px,py = 10,23\n",
    "a0, a1, a2 = 5, 0.1, 0.01\n",
    "t1 = time.time()\n",
    "for i in range(400):\n",
    "    res = scipy.optimize.minimize(lambda x : np.sqrt((px-x)**2+(py-(a0+i/10.)+a1*x+a2*x**2)**2), x0=[5])\n",
    "t2 = time.time()\n",
    "print(t2-t1)\n",
    "print(\"res\",res.x)\n",
    "print(res.x, a0 + a1*res.x + a2*res.x**2)\n",
    "optx = res.x\n",
    "opty = a0 + a1*res.x + a2*res.x**2"
   ]
  },
  {
   "cell_type": "code",
   "execution_count": 55,
   "id": "59a2fca8",
   "metadata": {},
   "outputs": [
    {
     "name": "stdout",
     "output_type": "stream",
     "text": [
      "0.008011102676391602\n",
      "15.151515151515156 8.810835629017449\n",
      "15.095379886013166\n",
      "15.195133173954204\n"
     ]
    }
   ],
   "source": [
    "import math\n",
    "t3 = time.time()\n",
    "x = np.linspace(-100,100, 100)\n",
    "y = a0 + a1*x+a2*x**2\n",
    "for i in range(400):\n",
    "    a = np.argmin(np.sqrt((x-px)**2+(y-py)**2))\n",
    "t4 = time.time()\n",
    "print(t4-t3)\n",
    "print(x[a], y[a])\n",
    "print(math.sqrt((x[a]-px)**2+(y[a]-py)**2))\n",
    "print(math.sqrt((optx-px)**2+(opty-py)**2))"
   ]
  },
  {
   "cell_type": "code",
   "execution_count": 81,
   "id": "96b064ed",
   "metadata": {},
   "outputs": [],
   "source": [
    "import numpy.polynomial.polynomial as P"
   ]
  },
  {
   "cell_type": "code",
   "execution_count": 97,
   "id": "c2d7f178",
   "metadata": {},
   "outputs": [
    {
     "name": "stdout",
     "output_type": "stream",
     "text": [
      "10.0\n"
     ]
    }
   ],
   "source": [
    "f1 = (1, 1, 2)\n",
    "f2 = (1.1, 1, 2.2)\n",
    "f1mf2 = P.polysub(f1,f2)\n",
    "f1mf2 = P.polymul(f1mf2,f1mf2)\n",
    "val = P.polyint(f1mf2,lbnd=-10)\n",
    "a = P.polyval(-10, val) + P.polyval(5,10)\n",
    "print(a)"
   ]
  },
  {
   "cell_type": "code",
   "execution_count": 68,
   "id": "919b6c8c",
   "metadata": {},
   "outputs": [
    {
     "name": "stdout",
     "output_type": "stream",
     "text": [
      "[[{'f': poly1d([-1.02236445e-02,  5.34088473e-03,  3.98952978e+01]), 'x_start': -0.5529887922981365, 'x_end': 39.97303174577813, 'fxFlag': False}, {'f': poly1d([-0.00042631,  0.01510269, -0.11574659]), 'x_start': 4.833046593282244, 'x_end': 38.7783703938952, 'fxFlag': True}, {'f': poly1d([-4.46306256e-03,  6.61758397e-02,  8.85350905e+00]), 'x_start': 50.314965236442816, 'x_end': 77.68272844134319, 'fxFlag': True}], [{'f': poly1d([-1.03754735e-02,  1.29286493e-02,  3.98142964e+01]), 'x_start': -0.3503586896077549, 'x_end': 39.77040164308775, 'fxFlag': False}, {'f': poly1d([-0.0002941 ,  0.01255984, -0.13503909]), 'x_start': 4.162537176968926, 'x_end': 38.60097408217034, 'fxFlag': True}, {'f': poly1d([-1.94101401e-03, -2.51104960e-01,  1.84207231e+01]), 'x_start': 50.526461484425944, 'x_end': 85.7248176360228, 'fxFlag': True}], [{'f': poly1d([-1.03754735e-02,  1.29286493e-02,  3.98142964e+01]), 'x_start': -0.1497548879442772, 'x_end': 39.569797841424275, 'fxFlag': False}, {'f': poly1d([-3.86289304e-05,  4.39873279e-03, -7.64519168e-02]), 'x_start': 4.334729361494934, 'x_end': 38.428781897644335, 'fxFlag': True}, {'f': poly1d([-1.98752778e-03, -2.43660854e-01,  1.81515295e+01]), 'x_start': 50.70245326518393, 'x_end': 85.54882585526482, 'fxFlag': True}], [{'f': poly1d([-1.03754735e-02,  1.29286493e-02,  3.98142964e+01]), 'x_start': 0.04884287570256574, 'x_end': 39.37120007777743, 'fxFlag': False}, {'f': poly1d([ 1.86360634e-05,  2.60061117e-03, -6.57412827e-02]), 'x_start': 3.669378847011472, 'x_end': 38.20938733624658, 'fxFlag': True}, {'f': poly1d([-1.98752778e-03, -2.43660854e-01,  1.81515295e+01]), 'x_start': 50.87668512813433, 'x_end': 85.37459399231442, 'fxFlag': True}]]\n"
     ]
    }
   ],
   "source": [
    "print (res)"
   ]
  },
  {
   "cell_type": "code",
   "execution_count": 28,
   "id": "8d0fd3f9",
   "metadata": {},
   "outputs": [
    {
     "data": {
      "text/plain": [
       "-0.010265869210950747"
      ]
     },
     "execution_count": 28,
     "metadata": {},
     "output_type": "execute_result"
    }
   ],
   "source": [
    "res[1][0][\"f\"].c[0]"
   ]
  },
  {
   "cell_type": "code",
   "execution_count": null,
   "id": "cbdf299b",
   "metadata": {},
   "outputs": [],
   "source": []
  }
 ],
 "metadata": {
  "kernelspec": {
   "display_name": "Python 3",
   "language": "python",
   "name": "python3"
  },
  "language_info": {
   "codemirror_mode": {
    "name": "ipython",
    "version": 3
   },
   "file_extension": ".py",
   "mimetype": "text/x-python",
   "name": "python",
   "nbconvert_exporter": "python",
   "pygments_lexer": "ipython3",
   "version": "3.6.9"
  }
 },
 "nbformat": 4,
 "nbformat_minor": 5
}
