{
 "cells": [
  {
   "cell_type": "code",
   "execution_count": 1,
   "id": "1ab58e1f",
   "metadata": {},
   "outputs": [],
   "source": [
    "from metrics import *\n",
    "        \n",
    "\n",
    "def analyzeResults(res, priors):\n",
    "    ass_list = associatePolynomAndPrior(res, priors)\n",
    "    print(\"ass_list\", ass_list)\n",
    "    for iprior,prior in enumerate(priors):\n",
    "        ComputeCoeffErrors(res, priors[ass_list[iprior][0]], ass_list[iprior][1])\n",
    "        ComputePolynomDistance(res, priors[ass_list[iprior][0]], ass_list[iprior][1])\n",
    "        ComputeOverlappingArea(res, priors[ass_list[iprior][0]], ass_list[iprior][1])\n",
    "        ComputeNonOverlappingArea(res, priors[ass_list[iprior][0]], ass_list[iprior][1])"
   ]
  },
  {
   "cell_type": "code",
   "execution_count": 155,
   "id": "e452d973",
   "metadata": {
    "scrolled": true
   },
   "outputs": [
    {
     "name": "stdout",
     "output_type": "stream",
     "text": [
      "The autoreload extension is already loaded. To reload it, use:\n",
      "  %reload_ext autoreload\n",
      "self.dir_name images/simulations/dynamic_5/images/\n",
      "self.dir_name images/simulations/dynamic_5/database\n",
      "frame 0\n",
      "Number of point tracks before run() 0\n",
      "Number of extended tracks before run() 0\n",
      "len(unique_polynoms) 0\n",
      "frame 1\n",
      "Number of point tracks before run() 144\n",
      "Number of extended tracks before run() 0\n"
     ]
    },
    {
     "name": "stderr",
     "output_type": "stream",
     "text": [
      "/home/kfir/workspace/RadarLocalization/tracker.py:88: RuntimeWarning: divide by zero encountered in double_scalars\n",
      "  ratio = np.sqrt(lp)/le\n"
     ]
    },
    {
     "name": "stdout",
     "output_type": "stream",
     "text": [
      "len(unique_polynoms) 0\n",
      "frame 2\n",
      "Number of point tracks before run() 260\n",
      "Number of extended tracks before run() 0\n"
     ]
    },
    {
     "name": "stderr",
     "output_type": "stream",
     "text": [
      "/home/kfir/workspace/RadarLocalization/tracker.py:88: RuntimeWarning: divide by zero encountered in double_scalars\n",
      "  ratio = np.sqrt(lp)/le\n"
     ]
    },
    {
     "name": "stdout",
     "output_type": "stream",
     "text": [
      "len(unique_polynoms) 0\n",
      "frame 3\n",
      "Number of point tracks before run() 354\n",
      "Number of extended tracks before run() 0\n"
     ]
    },
    {
     "name": "stderr",
     "output_type": "stream",
     "text": [
      "/home/kfir/workspace/RadarLocalization/tracker.py:88: RuntimeWarning: divide by zero encountered in double_scalars\n",
      "  ratio = np.sqrt(lp)/le\n"
     ]
    },
    {
     "name": "stdout",
     "output_type": "stream",
     "text": [
      "len(unique_polynoms) 0\n",
      "frame 4\n",
      "Number of point tracks before run() 431\n",
      "Number of extended tracks before run() 0\n"
     ]
    },
    {
     "name": "stderr",
     "output_type": "stream",
     "text": [
      "/home/kfir/workspace/RadarLocalization/tracker.py:88: RuntimeWarning: divide by zero encountered in double_scalars\n",
      "  ratio = np.sqrt(lp)/le\n"
     ]
    },
    {
     "name": "stdout",
     "output_type": "stream",
     "text": [
      "Opening flipped polynom!!!\n",
      "created an extended object! [ 4.08202008e+01 -6.70812117e-02 -8.85253541e-03 -3.43185623e+00\n",
      "  4.18678601e+01]\n",
      "created an extended object! [ 5.88056132e+00  1.31213956e-01 -4.99316463e-03  4.88160440e+01\n",
      "  9.17935157e+01]\n",
      "created an extended object! [ 6.55942739e-01  7.89818683e-03 -3.32319797e-04 -1.05068040e+01\n",
      "  3.71371422e+01]\n",
      "Tracks are similar! do not open a new trk (-0.00033231979694558957, 0.007898186826551728, 0.6559427388619767) (-3.857341618141259e-05, -0.002651391429363798, -0.8749491019342437)\n",
      "len(unique_polynoms) 0\n",
      "frame 5\n",
      "Number of point tracks before run() 309\n",
      "Number of extended tracks before run() 3\n"
     ]
    },
    {
     "name": "stderr",
     "output_type": "stream",
     "text": [
      "/home/kfir/workspace/RadarLocalization/tracker.py:63: VisibleDeprecationWarning: Creating an ndarray from ragged nested sequences (which is a list-or-tuple of lists-or-tuples-or ndarrays with different lengths or shapes) is deprecated. If you meant to do this, you must specify 'dtype=object' when creating the ndarray\n",
      "  Ha = np.array([1, zx, zx**2])\n",
      "/home/kfir/workspace/RadarLocalization/tracker.py:88: RuntimeWarning: divide by zero encountered in double_scalars\n",
      "  ratio = np.sqrt(lp)/le\n"
     ]
    },
    {
     "name": "stdout",
     "output_type": "stream",
     "text": [
      "Updating extended object track =  2\n",
      "Updating extended object track =  1\n",
      "Updating extended object track =  1\n",
      "Tracks are similar! do not open a new trk (-0.0006699786399347052, 0.023947533406195612, 0.5216992920094726) (-6.788018078417538e-05, 0.0025996270831635097, -0.7705523241559203)\n",
      "Opening flipped polynom!!!\n",
      "Tracks are similar! do not open a new trk (-0.008852535413428822, -0.06708121165880733, 40.82020082174447) (-0.00961141053002115, -0.031314961082486444, 40.65781253303876)\n",
      "Tracks are similar! do not open a new trk (-0.00488240179862646, 0.13783364425427658, 5.753569984004544) (-0.005565725233592417, 0.2434529517594568, 0.4921144714461597)\n",
      "Tracks are similar! do not open a new trk (-0.0006699786399347052, 0.023947533406195612, 0.5216992920094726) (-0.0001217059593871406, -0.0039940624893239065, -1.9829536984139018)\n",
      "len(unique_polynoms) 2\n",
      "frame 6\n",
      "Number of point tracks before run() 382\n",
      "Number of extended tracks before run() 3\n"
     ]
    },
    {
     "name": "stderr",
     "output_type": "stream",
     "text": [
      "/home/kfir/workspace/RadarLocalization/tracker.py:63: VisibleDeprecationWarning: Creating an ndarray from ragged nested sequences (which is a list-or-tuple of lists-or-tuples-or ndarrays with different lengths or shapes) is deprecated. If you meant to do this, you must specify 'dtype=object' when creating the ndarray\n",
      "  Ha = np.array([1, zx, zx**2])\n",
      "/home/kfir/workspace/RadarLocalization/tracker.py:88: RuntimeWarning: divide by zero encountered in double_scalars\n",
      "  ratio = np.sqrt(lp)/le\n"
     ]
    },
    {
     "name": "stdout",
     "output_type": "stream",
     "text": [
      "Updating extended object track =  2\n",
      "Updating extended object track =  0\n",
      "Updating extended object track =  0\n",
      "Updating extended object track =  0\n",
      "Updating extended object track =  0\n",
      "Updating extended object track =  0\n",
      "Updating extended object track =  2\n",
      "Updating extended object track =  1\n",
      "Updating extended object track =  1\n",
      "Updating extended object track =  2\n",
      "Updating extended object track =  0\n",
      "Updating extended object track =  1\n",
      "Updating extended object track =  1\n",
      "Updating extended object track =  1\n",
      "Updating extended object track =  1\n",
      "Updating extended object track =  1\n",
      "Tracks are similar! do not open a new trk (-0.0006073706821260196, 0.021233401136987108, 0.5445533753533573) (-1.0547343841257425e-05, 0.0006609058271063005, -0.6449730529979358)\n",
      "Opening flipped polynom!!!\n",
      "Tracks are similar! do not open a new trk (-0.008894071293793918, -0.06479456509499806, 40.789859750964396) (-0.008991015954789353, -0.0641310785898575, 40.98106082214167)\n",
      "Tracks are similar! do not open a new trk (-0.005126540979013972, 0.15840901778576208, 5.543278306945383) (-0.001502678591625413, -0.32320758179213877, 21.688356731394418)\n",
      "Tracks are similar! do not open a new trk (-0.0006073706821260196, 0.021233401136987108, 0.5445533753533573) (-0.000428573490698747, 0.005131302872680815, -1.9115503874022706)\n",
      "len(unique_polynoms) 3\n",
      "frame 7\n",
      "Number of point tracks before run() 425\n",
      "Number of extended tracks before run() 3\n"
     ]
    },
    {
     "name": "stderr",
     "output_type": "stream",
     "text": [
      "/home/kfir/workspace/RadarLocalization/tracker.py:63: VisibleDeprecationWarning: Creating an ndarray from ragged nested sequences (which is a list-or-tuple of lists-or-tuples-or ndarrays with different lengths or shapes) is deprecated. If you meant to do this, you must specify 'dtype=object' when creating the ndarray\n",
      "  Ha = np.array([1, zx, zx**2])\n",
      "/home/kfir/workspace/RadarLocalization/tracker.py:88: RuntimeWarning: divide by zero encountered in double_scalars\n",
      "  ratio = np.sqrt(lp)/le\n"
     ]
    },
    {
     "name": "stdout",
     "output_type": "stream",
     "text": [
      "Updating extended object track =  0\n",
      "Updating extended object track =  0\n",
      "Updating extended object track =  1\n",
      "Updating extended object track =  2\n",
      "Updating extended object track =  0\n",
      "Updating extended object track =  0\n",
      "Updating extended object track =  0\n",
      "Updating extended object track =  2\n",
      "Updating extended object track =  1\n",
      "Updating extended object track =  2\n",
      "Updating extended object track =  0\n",
      "Updating extended object track =  1\n",
      "Updating extended object track =  1\n",
      "Updating extended object track =  2\n",
      "Updating extended object track =  0\n",
      "Updating extended object track =  1\n",
      "Updating extended object track =  1\n",
      "Updating extended object track =  1\n",
      "Updating extended object track =  0\n",
      "Updating extended object track =  1\n",
      "Updating extended object track =  1\n",
      "Updating extended object track =  1\n",
      "Opening flipped polynom!!!\n",
      "Tracks are similar! do not open a new trk (-0.00887532601808879, -0.06559154698377015, 40.80174237561342) (-0.009131711361323402, -0.06045629570743149, 40.950835492225565)\n",
      "Tracks are similar! do not open a new trk (-0.0005864153023144032, 0.020037687253910367, 0.5538434757851957) (4.884525203289254e-05, 0.0008514247245036349, -0.6388385333594396)\n",
      "Tracks are similar! do not open a new trk (-0.005144205531513189, 0.15869875165464084, 5.54253675190323) (-0.0020694563472285197, -0.24188610099281502, 18.77426321450274)\n",
      "len(unique_polynoms) 3\n",
      "frame 8\n",
      "Number of point tracks before run() 455\n",
      "Number of extended tracks before run() 3\n"
     ]
    },
    {
     "name": "stderr",
     "output_type": "stream",
     "text": [
      "/home/kfir/workspace/RadarLocalization/tracker.py:63: VisibleDeprecationWarning: Creating an ndarray from ragged nested sequences (which is a list-or-tuple of lists-or-tuples-or ndarrays with different lengths or shapes) is deprecated. If you meant to do this, you must specify 'dtype=object' when creating the ndarray\n",
      "  Ha = np.array([1, zx, zx**2])\n",
      "/home/kfir/workspace/RadarLocalization/tracker.py:88: RuntimeWarning: divide by zero encountered in double_scalars\n",
      "  ratio = np.sqrt(lp)/le\n"
     ]
    },
    {
     "name": "stdout",
     "output_type": "stream",
     "text": [
      "Updating extended object track =  2\n",
      "Updating extended object track =  0\n",
      "Updating extended object track =  0\n",
      "Updating extended object track =  0\n",
      "Updating extended object track =  0\n",
      "Updating extended object track =  0\n",
      "Updating extended object track =  0\n",
      "Updating extended object track =  1\n",
      "Updating extended object track =  0\n",
      "Updating extended object track =  1\n",
      "Updating extended object track =  2\n",
      "Updating extended object track =  0\n",
      "Updating extended object track =  1\n",
      "Updating extended object track =  1\n",
      "Updating extended object track =  2\n",
      "Updating extended object track =  1\n",
      "Updating extended object track =  0\n",
      "Updating extended object track =  1\n",
      "Updating extended object track =  0\n",
      "Updating extended object track =  2\n",
      "Updating extended object track =  1\n",
      "Opening flipped polynom!!!\n",
      "Tracks are similar! do not open a new trk (-0.008987015355698416, -0.059268398391031596, 40.71966083100353) (-0.00922167618180881, -0.0578907590393892, 40.959208930728536)\n",
      "Tracks are similar! do not open a new trk (-0.0004747545696869842, 0.014562506263702694, 0.5985019917596299) (0.0001892105793585045, -0.002129961805722696, -0.6560461493947709)\n",
      "Tracks are similar! do not open a new trk (-0.0051734524047866454, 0.16077203955359087, 5.5255565009896435) (-0.003109497009421084, -0.0749048452959733, 11.630276071246989)\n",
      "len(unique_polynoms) 3\n",
      "frame 9\n",
      "Number of point tracks before run() 475\n",
      "Number of extended tracks before run() 3\n"
     ]
    },
    {
     "name": "stderr",
     "output_type": "stream",
     "text": [
      "/home/kfir/workspace/RadarLocalization/tracker.py:63: VisibleDeprecationWarning: Creating an ndarray from ragged nested sequences (which is a list-or-tuple of lists-or-tuples-or ndarrays with different lengths or shapes) is deprecated. If you meant to do this, you must specify 'dtype=object' when creating the ndarray\n",
      "  Ha = np.array([1, zx, zx**2])\n"
     ]
    },
    {
     "name": "stdout",
     "output_type": "stream",
     "text": [
      "Updating extended object track =  2\n",
      "Updating extended object track =  2\n",
      "Updating extended object track =  0\n",
      "Updating extended object track =  0\n",
      "Updating extended object track =  0\n",
      "Updating extended object track =  0\n",
      "Updating extended object track =  2\n",
      "Updating extended object track =  0\n",
      "Updating extended object track =  1\n",
      "Updating extended object track =  0\n",
      "Updating extended object track =  0\n",
      "Updating extended object track =  0\n",
      "Updating extended object track =  2\n",
      "Updating extended object track =  0\n",
      "Updating extended object track =  1\n",
      "Updating extended object track =  1\n",
      "Updating extended object track =  0\n",
      "Updating extended object track =  1\n",
      "Updating extended object track =  1\n",
      "Updating extended object track =  1\n"
     ]
    },
    {
     "name": "stderr",
     "output_type": "stream",
     "text": [
      "/home/kfir/workspace/RadarLocalization/tracker.py:88: RuntimeWarning: divide by zero encountered in double_scalars\n",
      "  ratio = np.sqrt(lp)/le\n"
     ]
    },
    {
     "name": "stdout",
     "output_type": "stream",
     "text": [
      "Opening flipped polynom!!!\n",
      "Tracks are similar! do not open a new trk (-0.009056257125625708, -0.05611012161701761, 40.69115766882619) (-0.009268582999050706, -0.055790107342793896, 40.956378678137625)\n",
      "Tracks are similar! do not open a new trk (-0.0004903881629356192, 0.01525068221109022, 0.5947302818743893) (0.0001854466250781632, -0.0031631320346285088, -0.6621800847168914)\n",
      "Tracks are similar! do not open a new trk (-0.0052331985202249826, 0.16552049298184407, 5.478872866724231) (-0.003130946565072457, -0.07920385606832818, 12.659888852582712)\n",
      "len(unique_polynoms) 3\n",
      "frame 10\n",
      "Number of point tracks before run() 494\n",
      "Number of extended tracks before run() 3\n"
     ]
    },
    {
     "name": "stderr",
     "output_type": "stream",
     "text": [
      "/home/kfir/workspace/RadarLocalization/tracker.py:63: VisibleDeprecationWarning: Creating an ndarray from ragged nested sequences (which is a list-or-tuple of lists-or-tuples-or ndarrays with different lengths or shapes) is deprecated. If you meant to do this, you must specify 'dtype=object' when creating the ndarray\n",
      "  Ha = np.array([1, zx, zx**2])\n"
     ]
    },
    {
     "name": "stdout",
     "output_type": "stream",
     "text": [
      "Updating extended object track =  2\n",
      "Updating extended object track =  2\n",
      "Updating extended object track =  2\n",
      "Updating extended object track =  2\n",
      "Updating extended object track =  0\n",
      "Updating extended object track =  0\n",
      "Updating extended object track =  1\n",
      "Updating extended object track =  0\n",
      "Updating extended object track =  0\n",
      "Updating extended object track =  2\n",
      "Updating extended object track =  0\n",
      "Updating extended object track =  0\n",
      "Updating extended object track =  0\n",
      "Updating extended object track =  0\n",
      "Updating extended object track =  2\n",
      "Updating extended object track =  0\n",
      "Updating extended object track =  1\n",
      "Updating extended object track =  0\n",
      "Updating extended object track =  0\n",
      "Updating extended object track =  0\n",
      "Updating extended object track =  1\n"
     ]
    },
    {
     "name": "stderr",
     "output_type": "stream",
     "text": [
      "/home/kfir/workspace/RadarLocalization/tracker.py:88: RuntimeWarning: divide by zero encountered in double_scalars\n",
      "  ratio = np.sqrt(lp)/le\n"
     ]
    },
    {
     "name": "stdout",
     "output_type": "stream",
     "text": [
      "Opening flipped polynom!!!\n",
      "Tracks are similar! do not open a new trk (-0.009063652022841177, -0.055765284409350406, 40.67007654919653) (-0.009117316666218695, -0.05538390252018876, 40.63352946228816)\n",
      "Tracks are similar! do not open a new trk (-0.00047474834152416565, 0.01497308295317947, 0.5923275259247736) (0.0002738779906498667, -0.005824363853420134, -0.6372167688360822)\n",
      "Tracks are similar! do not open a new trk (-0.005245609715310414, 0.16668207046216102, 5.467839439883752) (-0.003136016802570394, -0.07484614006029665, 12.38271322025339)\n",
      "len(unique_polynoms) 3\n",
      "frame 11\n",
      "Number of point tracks before run() 495\n",
      "Number of extended tracks before run() 3\n"
     ]
    },
    {
     "name": "stderr",
     "output_type": "stream",
     "text": [
      "/home/kfir/workspace/RadarLocalization/tracker.py:63: VisibleDeprecationWarning: Creating an ndarray from ragged nested sequences (which is a list-or-tuple of lists-or-tuples-or ndarrays with different lengths or shapes) is deprecated. If you meant to do this, you must specify 'dtype=object' when creating the ndarray\n",
      "  Ha = np.array([1, zx, zx**2])\n",
      "/home/kfir/workspace/RadarLocalization/tracker.py:88: RuntimeWarning: divide by zero encountered in double_scalars\n",
      "  ratio = np.sqrt(lp)/le\n"
     ]
    },
    {
     "name": "stdout",
     "output_type": "stream",
     "text": [
      "Updating extended object track =  2\n",
      "Updating extended object track =  2\n",
      "Updating extended object track =  2\n",
      "Updating extended object track =  0\n",
      "Updating extended object track =  0\n",
      "Updating extended object track =  0\n",
      "Updating extended object track =  0\n",
      "Updating extended object track =  0\n",
      "Updating extended object track =  0\n",
      "Updating extended object track =  0\n",
      "Updating extended object track =  0\n",
      "Updating extended object track =  0\n",
      "Updating extended object track =  2\n",
      "Updating extended object track =  1\n",
      "Updating extended object track =  1\n",
      "Updating extended object track =  1\n",
      "Updating extended object track =  1\n",
      "Updating extended object track =  1\n",
      "Updating extended object track =  2\n",
      "Updating extended object track =  1\n",
      "Updating extended object track =  1\n",
      "Updating extended object track =  2\n",
      "Updating extended object track =  1\n",
      "Updating extended object track =  1\n",
      "Opening flipped polynom!!!\n",
      "Tracks are similar! do not open a new trk (-0.009101224631186256, -0.05408911355831251, 40.65419155552971) (-0.009624164949387707, -0.033629808491714326, 40.712835764054404)\n",
      "Tracks are similar! do not open a new trk (-0.000463301050585098, 0.01419465199365857, 0.6002865348706145) (0.00016431322035400354, -0.004152784360727289, -0.6091364697577853)\n",
      "Tracks are similar! do not open a new trk (-0.0052730832561973, 0.16908493281732118, 5.447902349875063) (-0.003203842636696206, -0.06796074184497597, 12.259036750450866)\n",
      "len(unique_polynoms) 3\n",
      "frame 12\n",
      "Number of point tracks before run() 492\n",
      "Number of extended tracks before run() 3\n"
     ]
    },
    {
     "name": "stderr",
     "output_type": "stream",
     "text": [
      "/home/kfir/workspace/RadarLocalization/tracker.py:63: VisibleDeprecationWarning: Creating an ndarray from ragged nested sequences (which is a list-or-tuple of lists-or-tuples-or ndarrays with different lengths or shapes) is deprecated. If you meant to do this, you must specify 'dtype=object' when creating the ndarray\n",
      "  Ha = np.array([1, zx, zx**2])\n",
      "/home/kfir/workspace/RadarLocalization/tracker.py:88: RuntimeWarning: divide by zero encountered in double_scalars\n",
      "  ratio = np.sqrt(lp)/le\n"
     ]
    },
    {
     "name": "stdout",
     "output_type": "stream",
     "text": [
      "Updating extended object track =  2\n",
      "Updating extended object track =  2\n",
      "Updating extended object track =  2\n",
      "Updating extended object track =  2\n",
      "Updating extended object track =  0\n",
      "Updating extended object track =  2\n",
      "Updating extended object track =  0\n",
      "Updating extended object track =  0\n",
      "Updating extended object track =  2\n",
      "Updating extended object track =  0\n",
      "Updating extended object track =  0\n",
      "Updating extended object track =  0\n",
      "Updating extended object track =  2\n",
      "Updating extended object track =  1\n",
      "Updating extended object track =  1\n",
      "Updating extended object track =  1\n",
      "Updating extended object track =  0\n",
      "Updating extended object track =  0\n",
      "Updating extended object track =  1\n",
      "Updating extended object track =  1\n",
      "Opening flipped polynom!!!\n",
      "Tracks are similar! do not open a new trk (-0.009127520881162043, -0.05320232061350581, 40.65811114349075) (-0.009895531815842682, -0.015092893740602357, 40.36161184273356)\n",
      "Tracks are similar! do not open a new trk (-0.0004670849237975318, 0.014920678172690605, 0.5933577519760999) (0.00039381752103208166, -0.01284550545001874, -0.4060111187041252)\n",
      "Tracks are similar! do not open a new trk (-0.005251883039505776, 0.16763301433282946, 5.460210582016911) (-0.00363454888855578, -0.03692679730610093, 12.084234139750075)\n",
      "len(unique_polynoms) 3\n",
      "frame 13\n",
      "Number of point tracks before run() 490\n",
      "Number of extended tracks before run() 3\n"
     ]
    },
    {
     "name": "stderr",
     "output_type": "stream",
     "text": [
      "/home/kfir/workspace/RadarLocalization/tracker.py:63: VisibleDeprecationWarning: Creating an ndarray from ragged nested sequences (which is a list-or-tuple of lists-or-tuples-or ndarrays with different lengths or shapes) is deprecated. If you meant to do this, you must specify 'dtype=object' when creating the ndarray\n",
      "  Ha = np.array([1, zx, zx**2])\n",
      "/home/kfir/workspace/RadarLocalization/tracker.py:88: RuntimeWarning: divide by zero encountered in double_scalars\n",
      "  ratio = np.sqrt(lp)/le\n"
     ]
    },
    {
     "name": "stdout",
     "output_type": "stream",
     "text": [
      "Updating extended object track =  2\n",
      "Updating extended object track =  2\n",
      "Updating extended object track =  2\n",
      "Updating extended object track =  2\n",
      "Updating extended object track =  2\n",
      "Updating extended object track =  2\n",
      "Updating extended object track =  0\n",
      "Updating extended object track =  0\n",
      "Updating extended object track =  0\n",
      "Updating extended object track =  1\n",
      "Updating extended object track =  1\n",
      "Updating extended object track =  0\n",
      "Updating extended object track =  0\n",
      "Updating extended object track =  1\n",
      "Updating extended object track =  1\n",
      "Updating extended object track =  0\n",
      "Updating extended object track =  2\n",
      "Updating extended object track =  1\n",
      "Updating extended object track =  1\n",
      "Updating extended object track =  0\n",
      "Updating extended object track =  0\n",
      "Updating extended object track =  1\n",
      "Tracks are similar! do not open a new trk (-0.0004877975310841985, 0.016017456784400128, 0.579698839618993) (0.0003160346039984884, -0.011380955553236765, -0.4126089105067057)\n",
      "Opening flipped polynom!!!\n",
      "Tracks are similar! do not open a new trk (-0.009122196929840266, -0.053364400275879714, 40.65966469618172) (-0.009715400721324922, -0.028472333267901963, 40.65393590457838)\n",
      "Tracks are similar! do not open a new trk (-0.0052736508550716215, 0.16917373342353806, 5.444064015803815) (-0.00352551928861871, -0.05274926538960661, 12.640569245175076)\n",
      "len(unique_polynoms) 3\n",
      "frame 14\n",
      "Number of point tracks before run() 486\n",
      "Number of extended tracks before run() 3\n"
     ]
    },
    {
     "name": "stderr",
     "output_type": "stream",
     "text": [
      "/home/kfir/workspace/RadarLocalization/tracker.py:63: VisibleDeprecationWarning: Creating an ndarray from ragged nested sequences (which is a list-or-tuple of lists-or-tuples-or ndarrays with different lengths or shapes) is deprecated. If you meant to do this, you must specify 'dtype=object' when creating the ndarray\n",
      "  Ha = np.array([1, zx, zx**2])\n",
      "/home/kfir/workspace/RadarLocalization/tracker.py:88: RuntimeWarning: divide by zero encountered in double_scalars\n",
      "  ratio = np.sqrt(lp)/le\n"
     ]
    },
    {
     "name": "stdout",
     "output_type": "stream",
     "text": [
      "Updating extended object track =  2\n",
      "Updating extended object track =  0\n",
      "Updating extended object track =  0\n",
      "Updating extended object track =  0\n",
      "Updating extended object track =  0\n",
      "Updating extended object track =  0\n",
      "Updating extended object track =  0\n",
      "Updating extended object track =  2\n",
      "Updating extended object track =  0\n",
      "Updating extended object track =  2\n",
      "Updating extended object track =  0\n",
      "Updating extended object track =  0\n",
      "Updating extended object track =  0\n",
      "Updating extended object track =  0\n",
      "Updating extended object track =  2\n",
      "Updating extended object track =  1\n",
      "Updating extended object track =  1\n",
      "Updating extended object track =  2\n",
      "Updating extended object track =  1\n",
      "Updating extended object track =  0\n",
      "Updating extended object track =  1\n",
      "Tracks are similar! do not open a new trk (-0.0004786883127749896, 0.01583317897966373, 0.578298504136605) (0.00030679064163659887, -0.008758333933602397, -0.4156655514470876)\n",
      "Opening flipped polynom!!!\n",
      "Tracks are similar! do not open a new trk (-0.009128118138793209, -0.053198348718365894, 40.65823603441301) (-0.00963187481830686, -0.030570564918443874, 40.66072320495767)\n",
      "Tracks are similar! do not open a new trk (-0.005281177401805821, 0.16976252708629314, 5.438290847571458) (-0.003492248335533628, -0.05546914036942581, 12.66472039911641)\n",
      "len(unique_polynoms) 3\n",
      "frame 15\n",
      "Number of point tracks before run() 479\n",
      "Number of extended tracks before run() 3\n"
     ]
    },
    {
     "name": "stderr",
     "output_type": "stream",
     "text": [
      "/home/kfir/workspace/RadarLocalization/tracker.py:63: VisibleDeprecationWarning: Creating an ndarray from ragged nested sequences (which is a list-or-tuple of lists-or-tuples-or ndarrays with different lengths or shapes) is deprecated. If you meant to do this, you must specify 'dtype=object' when creating the ndarray\n",
      "  Ha = np.array([1, zx, zx**2])\n",
      "/home/kfir/workspace/RadarLocalization/tracker.py:88: RuntimeWarning: divide by zero encountered in double_scalars\n",
      "  ratio = np.sqrt(lp)/le\n"
     ]
    },
    {
     "name": "stdout",
     "output_type": "stream",
     "text": [
      "Updating extended object track =  2\n",
      "Updating extended object track =  0\n",
      "Updating extended object track =  0\n",
      "Updating extended object track =  0\n",
      "Updating extended object track =  0\n",
      "Updating extended object track =  1\n",
      "Updating extended object track =  0\n",
      "Updating extended object track =  0\n",
      "Updating extended object track =  0\n",
      "Updating extended object track =  0\n",
      "Updating extended object track =  0\n",
      "Updating extended object track =  2\n",
      "Updating extended object track =  1\n",
      "Updating extended object track =  1\n",
      "Updating extended object track =  0\n",
      "Updating extended object track =  1\n",
      "Updating extended object track =  1\n",
      "Updating extended object track =  1\n",
      "Updating extended object track =  2\n",
      "Updating extended object track =  0\n",
      "Updating extended object track =  1\n",
      "Updating extended object track =  1\n",
      "Updating extended object track =  1\n",
      "Updating extended object track =  1\n",
      "Tracks are similar! do not open a new trk (-0.0004747826437603687, 0.015763872131939485, 0.5776711110004251) (0.00037811100829066014, -0.011524576327851572, -0.1618357456767457)\n",
      "Opening flipped polynom!!!\n",
      "Tracks are similar! do not open a new trk (-0.009132896718316005, -0.052709640388166876, 40.652482895599825) (-0.009732287138260225, -0.028841934807390984, 40.686347959564415)\n",
      "Tracks are similar! do not open a new trk (-0.005268490972575249, 0.16848193506881842, 5.450251516001935) (-0.003844709687287306, 0.016394714359826756, 8.997625840811576)\n",
      "len(unique_polynoms) 3\n",
      "frame 16\n",
      "Number of point tracks before run() 480\n",
      "Number of extended tracks before run() 3\n"
     ]
    },
    {
     "name": "stderr",
     "output_type": "stream",
     "text": [
      "/home/kfir/workspace/RadarLocalization/tracker.py:63: VisibleDeprecationWarning: Creating an ndarray from ragged nested sequences (which is a list-or-tuple of lists-or-tuples-or ndarrays with different lengths or shapes) is deprecated. If you meant to do this, you must specify 'dtype=object' when creating the ndarray\n",
      "  Ha = np.array([1, zx, zx**2])\n",
      "/home/kfir/workspace/RadarLocalization/tracker.py:88: RuntimeWarning: divide by zero encountered in double_scalars\n",
      "  ratio = np.sqrt(lp)/le\n"
     ]
    },
    {
     "name": "stdout",
     "output_type": "stream",
     "text": [
      "Updating extended object track =  2\n",
      "Updating extended object track =  0\n",
      "Updating extended object track =  0\n",
      "Updating extended object track =  0\n",
      "Updating extended object track =  0\n",
      "Updating extended object track =  0\n",
      "Updating extended object track =  0\n",
      "Updating extended object track =  0\n",
      "Updating extended object track =  0\n",
      "Updating extended object track =  1\n",
      "Updating extended object track =  1\n",
      "Updating extended object track =  1\n",
      "Updating extended object track =  1\n",
      "Tracks are similar! do not open a new trk (-0.00047999736315619616, 0.015677677705650022, 0.5781281503237484) (0.0004671516823690347, -0.01106379956929584, -0.4170524626320297)\n",
      "Opening flipped polynom!!!\n",
      "Tracks are similar! do not open a new trk (-0.009131092686517383, -0.052710447374998845, 40.65041629100368) (-0.009723449634291071, -0.029283572818319267, 40.70171156519271)\n",
      "Tracks are similar! do not open a new trk (-0.005250633591481347, 0.16720973078930174, 5.463727916965557) (-0.003379603241787883, -0.034390236555422116, 11.189133966087097)\n",
      "len(unique_polynoms) 3\n",
      "frame 17\n",
      "Number of point tracks before run() 495\n",
      "Number of extended tracks before run() 3\n"
     ]
    },
    {
     "name": "stderr",
     "output_type": "stream",
     "text": [
      "/home/kfir/workspace/RadarLocalization/tracker.py:63: VisibleDeprecationWarning: Creating an ndarray from ragged nested sequences (which is a list-or-tuple of lists-or-tuples-or ndarrays with different lengths or shapes) is deprecated. If you meant to do this, you must specify 'dtype=object' when creating the ndarray\n",
      "  Ha = np.array([1, zx, zx**2])\n",
      "/home/kfir/workspace/RadarLocalization/tracker.py:88: RuntimeWarning: divide by zero encountered in double_scalars\n",
      "  ratio = np.sqrt(lp)/le\n"
     ]
    },
    {
     "name": "stdout",
     "output_type": "stream",
     "text": [
      "Updating extended object track =  2\n",
      "Updating extended object track =  2\n",
      "Updating extended object track =  2\n",
      "Updating extended object track =  2\n",
      "Updating extended object track =  2\n",
      "Updating extended object track =  2\n",
      "Updating extended object track =  0\n",
      "Updating extended object track =  0\n",
      "Updating extended object track =  0\n",
      "Updating extended object track =  0\n",
      "Updating extended object track =  1\n",
      "Updating extended object track =  0\n",
      "Updating extended object track =  0\n",
      "Updating extended object track =  0\n",
      "Updating extended object track =  2\n",
      "Updating extended object track =  1\n",
      "Updating extended object track =  1\n",
      "Updating extended object track =  1\n",
      "Updating extended object track =  0\n",
      "Tracks are similar! do not open a new trk (-0.00048492217138828344, 0.016101043789348405, 0.5731521728543175) (0.0003538811500573555, -0.00817353345839422, -0.39726514323417694)\n",
      "Opening flipped polynom!!!\n",
      "Tracks are similar! do not open a new trk (-0.009108785023663878, -0.053840041267006984, 40.66188478077585) (-0.009654948192052258, -0.025095965339754476, 40.504551631309205)\n",
      "Tracks are similar! do not open a new trk (-0.00525996815327559, 0.16804897686146647, 5.456979652608494) (-0.004177183981244743, 0.0052306574310705765, 10.67554647016993)\n",
      "Tracks are similar! do not open a new trk (-0.00048492217138828344, 0.016101043789348405, 0.5731521728543175) (-4.668893478933095e-06, 0.017702649445303472, 1.1180986287886587)\n",
      "len(unique_polynoms) 3\n",
      "frame 18\n",
      "Number of point tracks before run() 486\n",
      "Number of extended tracks before run() 3\n"
     ]
    },
    {
     "name": "stderr",
     "output_type": "stream",
     "text": [
      "/home/kfir/workspace/RadarLocalization/tracker.py:63: VisibleDeprecationWarning: Creating an ndarray from ragged nested sequences (which is a list-or-tuple of lists-or-tuples-or ndarrays with different lengths or shapes) is deprecated. If you meant to do this, you must specify 'dtype=object' when creating the ndarray\n",
      "  Ha = np.array([1, zx, zx**2])\n",
      "/home/kfir/workspace/RadarLocalization/tracker.py:88: RuntimeWarning: divide by zero encountered in double_scalars\n",
      "  ratio = np.sqrt(lp)/le\n"
     ]
    },
    {
     "name": "stdout",
     "output_type": "stream",
     "text": [
      "Updating extended object track =  2\n",
      "Updating extended object track =  2\n",
      "Updating extended object track =  0\n",
      "Updating extended object track =  0\n",
      "Updating extended object track =  0\n",
      "Updating extended object track =  0\n",
      "Updating extended object track =  0\n",
      "Updating extended object track =  0\n",
      "Updating extended object track =  2\n",
      "Updating extended object track =  0\n",
      "Updating extended object track =  1\n",
      "Updating extended object track =  0\n",
      "Updating extended object track =  1\n",
      "Updating extended object track =  0\n",
      "Updating extended object track =  1\n",
      "Updating extended object track =  1\n",
      "Updating extended object track =  1\n",
      "Tracks are similar! do not open a new trk (-0.00046023628335913297, 0.015055494042254732, 0.5798167744237864) (0.00037244837784851603, -0.007813413517484115, -0.42625976869403476)\n",
      "Opening flipped polynom!!!\n",
      "Tracks are similar! do not open a new trk (-0.009103797469580156, -0.054076192727228974, 40.66066797819361) (-0.009728833484695146, -0.023650504081562065, 40.62960140237362)\n",
      "Tracks are similar! do not open a new trk (-0.005253597099748824, 0.16741901157092945, 5.46359284225867) (-0.004125876463385525, 0.0032265064795639563, 10.547822059198905)\n",
      "Tracks are similar! do not open a new trk (-0.00046023628335913297, 0.015055494042254732, 0.5798167744237864) (-3.793763862215406e-05, 0.01723053811606655, 1.1647908080739586)\n",
      "len(unique_polynoms) 3\n",
      "frame 19\n",
      "Number of point tracks before run() 486\n",
      "Number of extended tracks before run() 3\n"
     ]
    },
    {
     "name": "stderr",
     "output_type": "stream",
     "text": [
      "/home/kfir/workspace/RadarLocalization/tracker.py:63: VisibleDeprecationWarning: Creating an ndarray from ragged nested sequences (which is a list-or-tuple of lists-or-tuples-or ndarrays with different lengths or shapes) is deprecated. If you meant to do this, you must specify 'dtype=object' when creating the ndarray\n",
      "  Ha = np.array([1, zx, zx**2])\n",
      "/home/kfir/workspace/RadarLocalization/tracker.py:88: RuntimeWarning: divide by zero encountered in double_scalars\n",
      "  ratio = np.sqrt(lp)/le\n"
     ]
    },
    {
     "name": "stdout",
     "output_type": "stream",
     "text": [
      "Updating extended object track =  2\n",
      "Updating extended object track =  2\n",
      "Updating extended object track =  0\n",
      "Updating extended object track =  0\n",
      "Updating extended object track =  0\n",
      "Updating extended object track =  2\n",
      "Updating extended object track =  0\n",
      "Updating extended object track =  0\n",
      "Updating extended object track =  1\n",
      "Updating extended object track =  0\n",
      "Updating extended object track =  2\n",
      "Updating extended object track =  1\n",
      "Updating extended object track =  1\n",
      "Tracks are similar! do not open a new trk (-0.0004646086195703402, 0.015387412076094875, 0.5749187537890348) (0.00018817481313649045, -0.002701166709767497, -0.5770531454597154)\n",
      "Opening flipped polynom!!!\n",
      "Tracks are similar! do not open a new trk (-0.009103091491477694, -0.05399078474016274, 40.65638866630891) (-0.009745059108724191, -0.02908356387090729, 40.68692125780395)\n",
      "Tracks are similar! do not open a new trk (-0.0052426108293503, 0.16645690528073945, 5.4724055060164245) (-0.00411052213808522, 0.0001180209267829535, 10.673230993397455)\n",
      "Tracks are similar! do not open a new trk (-0.0004646086195703402, 0.015387412076094875, 0.5749187537890348) (-0.0002616015739777639, 0.02422189742898631, 1.1727760220942829)\n",
      "len(unique_polynoms) 3\n",
      "frame 20\n",
      "Number of point tracks before run() 482\n",
      "Number of extended tracks before run() 3\n"
     ]
    },
    {
     "name": "stderr",
     "output_type": "stream",
     "text": [
      "/home/kfir/workspace/RadarLocalization/tracker.py:63: VisibleDeprecationWarning: Creating an ndarray from ragged nested sequences (which is a list-or-tuple of lists-or-tuples-or ndarrays with different lengths or shapes) is deprecated. If you meant to do this, you must specify 'dtype=object' when creating the ndarray\n",
      "  Ha = np.array([1, zx, zx**2])\n",
      "/home/kfir/workspace/RadarLocalization/tracker.py:88: RuntimeWarning: divide by zero encountered in double_scalars\n",
      "  ratio = np.sqrt(lp)/le\n"
     ]
    },
    {
     "name": "stdout",
     "output_type": "stream",
     "text": [
      "Updating extended object track =  2\n",
      "Updating extended object track =  0\n",
      "Updating extended object track =  0\n",
      "Updating extended object track =  2\n",
      "Updating extended object track =  1\n",
      "Updating extended object track =  0\n",
      "Updating extended object track =  2\n",
      "Updating extended object track =  0\n",
      "Updating extended object track =  0\n",
      "Updating extended object track =  1\n",
      "Updating extended object track =  1\n",
      "Updating extended object track =  0\n",
      "Updating extended object track =  1\n",
      "Updating extended object track =  1\n",
      "Updating extended object track =  0\n",
      "Updating extended object track =  0\n",
      "Updating extended object track =  0\n",
      "Updating extended object track =  0\n",
      "Updating extended object track =  0\n",
      "Tracks are similar! do not open a new trk (-0.000466916074141573, 0.015456663071568908, 0.5757612306021588) (0.00021306653407231134, -0.0018716710261773531, -0.5921509118795966)\n",
      "Opening flipped polynom!!!\n",
      "Tracks are similar! do not open a new trk (-0.009126559340821438, -0.052581646165975514, 40.637148717169865) (-0.009541363695525691, -0.03140489953609531, 40.53955381894239)\n",
      "Tracks are similar! do not open a new trk (-0.005240543845521974, 0.16636096788390645, 5.47248928936232) (-0.004351615298180273, 0.03187608697927697, 9.333857041775797)\n",
      "Tracks are similar! do not open a new trk (-0.000466916074141573, 0.015456663071568908, 0.5757612306021588) (-0.0003464058365480537, 0.024427015604465235, 1.2363038920591802)\n",
      "len(unique_polynoms) 3\n",
      "frame 21\n",
      "Number of point tracks before run() 488\n",
      "Number of extended tracks before run() 3\n"
     ]
    },
    {
     "name": "stderr",
     "output_type": "stream",
     "text": [
      "/home/kfir/workspace/RadarLocalization/tracker.py:63: VisibleDeprecationWarning: Creating an ndarray from ragged nested sequences (which is a list-or-tuple of lists-or-tuples-or ndarrays with different lengths or shapes) is deprecated. If you meant to do this, you must specify 'dtype=object' when creating the ndarray\n",
      "  Ha = np.array([1, zx, zx**2])\n",
      "/home/kfir/workspace/RadarLocalization/tracker.py:88: RuntimeWarning: divide by zero encountered in double_scalars\n",
      "  ratio = np.sqrt(lp)/le\n"
     ]
    },
    {
     "name": "stdout",
     "output_type": "stream",
     "text": [
      "Updating extended object track =  2\n",
      "Updating extended object track =  0\n",
      "Updating extended object track =  2\n",
      "Updating extended object track =  0\n",
      "Updating extended object track =  2\n",
      "Updating extended object track =  0\n",
      "Updating extended object track =  1\n",
      "Updating extended object track =  2\n",
      "Updating extended object track =  0\n",
      "Updating extended object track =  2\n",
      "Updating extended object track =  2\n",
      "Updating extended object track =  1\n",
      "Updating extended object track =  0\n",
      "Updating extended object track =  0\n",
      "Updating extended object track =  1\n",
      "Tracks are similar! do not open a new trk (-0.00046364680286390834, 0.015464292377986393, 0.5750574515919029) (0.0006473154636514861, -0.014252918416983132, -0.20450485225635742)\n",
      "Opening flipped polynom!!!\n",
      "Tracks are similar! do not open a new trk (-0.009129575461673166, -0.052509435306290965, 40.639417918743256) (-0.010177394288594155, 0.017289961620505147, 39.86558798154518)\n",
      "Tracks are similar! do not open a new trk (-0.005246176648140796, 0.16687570214647143, 5.468722400061607) (-0.004276478174811274, 0.07842306481500931, 7.560026458289674)\n",
      "len(unique_polynoms) 3\n",
      "frame 22\n",
      "Number of point tracks before run() 495\n",
      "Number of extended tracks before run() 3\n"
     ]
    },
    {
     "name": "stderr",
     "output_type": "stream",
     "text": [
      "/home/kfir/workspace/RadarLocalization/tracker.py:63: VisibleDeprecationWarning: Creating an ndarray from ragged nested sequences (which is a list-or-tuple of lists-or-tuples-or ndarrays with different lengths or shapes) is deprecated. If you meant to do this, you must specify 'dtype=object' when creating the ndarray\n",
      "  Ha = np.array([1, zx, zx**2])\n",
      "/home/kfir/workspace/RadarLocalization/tracker.py:88: RuntimeWarning: divide by zero encountered in double_scalars\n",
      "  ratio = np.sqrt(lp)/le\n"
     ]
    },
    {
     "name": "stdout",
     "output_type": "stream",
     "text": [
      "Updating extended object track =  2\n",
      "Updating extended object track =  2\n",
      "Updating extended object track =  0\n",
      "Updating extended object track =  2\n",
      "Updating extended object track =  0\n",
      "Updating extended object track =  0\n",
      "Updating extended object track =  0\n",
      "Updating extended object track =  2\n",
      "Updating extended object track =  1\n",
      "Updating extended object track =  0\n",
      "Updating extended object track =  1\n",
      "Updating extended object track =  1\n",
      "Updating extended object track =  0\n",
      "Updating extended object track =  0\n",
      "Updating extended object track =  1\n",
      "Updating extended object track =  1\n",
      "Updating extended object track =  2\n",
      "Updating extended object track =  2\n",
      "Updating extended object track =  1\n",
      "Tracks are similar! do not open a new trk (-0.00045667990048942384, 0.015432696711226641, 0.5742715362732639) (0.0005937496508243563, -0.01249644314937642, -0.16222195901474168)\n",
      "Opening flipped polynom!!!\n",
      "Tracks are similar! do not open a new trk (-0.009127528958694883, -0.05247221039868422, 40.63625149555881) (-0.010182434750978634, 0.018270161643863806, 39.86549325158831)\n",
      "Tracks are similar! do not open a new trk (-0.005398130494123141, 0.17806788040902996, 5.341804086177494) (-0.005129575524791315, 0.161921750324316, 5.463088334516652)\n",
      "len(unique_polynoms) 3\n",
      "frame 23\n",
      "Number of point tracks before run() 497\n",
      "Number of extended tracks before run() 3\n"
     ]
    },
    {
     "name": "stderr",
     "output_type": "stream",
     "text": [
      "/home/kfir/workspace/RadarLocalization/tracker.py:63: VisibleDeprecationWarning: Creating an ndarray from ragged nested sequences (which is a list-or-tuple of lists-or-tuples-or ndarrays with different lengths or shapes) is deprecated. If you meant to do this, you must specify 'dtype=object' when creating the ndarray\n",
      "  Ha = np.array([1, zx, zx**2])\n",
      "/home/kfir/workspace/RadarLocalization/tracker.py:88: RuntimeWarning: divide by zero encountered in double_scalars\n",
      "  ratio = np.sqrt(lp)/le\n"
     ]
    },
    {
     "name": "stdout",
     "output_type": "stream",
     "text": [
      "Updating extended object track =  2\n",
      "Updating extended object track =  0\n",
      "Updating extended object track =  0\n",
      "Updating extended object track =  0\n",
      "Updating extended object track =  0\n",
      "Updating extended object track =  0\n",
      "Updating extended object track =  0\n",
      "Updating extended object track =  0\n",
      "Updating extended object track =  0\n",
      "Updating extended object track =  1\n",
      "Updating extended object track =  2\n",
      "Updating extended object track =  0\n",
      "Updating extended object track =  1\n",
      "Tracks are similar! do not open a new trk (-0.0004573791894952614, 0.015445842041566049, 0.5751710802401879) (0.000391485382564958, -0.009608947369095525, -0.13484352586718534)\n",
      "Opening flipped polynom!!!\n",
      "Tracks are similar! do not open a new trk (-0.009104647723765959, -0.05347614858180986, 40.640645478582854) (-0.010057461522721812, 0.011531487415690883, 39.93278126377327)\n",
      "Tracks are similar! do not open a new trk (-0.005399382071628828, 0.17816164533495554, 5.340997458679976) (-0.0031371173477440025, -0.08951436828391338, 11.149754252698292)\n",
      "Tracks are similar! do not open a new trk (-0.0004573791894952614, 0.015445842041566049, 0.5751710802401879) (-0.0003348233839642396, 0.009800675504978559, 1.6700849105865734)\n",
      "Tracks are similar! do not open a new trk (-0.005399382071628828, 0.17816164533495554, 5.340997458679976) (-0.004124893902211851, 0.04293839148465856, 8.711790232835137)\n",
      "len(unique_polynoms) 3\n",
      "frame 24\n",
      "Number of point tracks before run() 492\n",
      "Number of extended tracks before run() 3\n"
     ]
    },
    {
     "name": "stderr",
     "output_type": "stream",
     "text": [
      "/home/kfir/workspace/RadarLocalization/tracker.py:63: VisibleDeprecationWarning: Creating an ndarray from ragged nested sequences (which is a list-or-tuple of lists-or-tuples-or ndarrays with different lengths or shapes) is deprecated. If you meant to do this, you must specify 'dtype=object' when creating the ndarray\n",
      "  Ha = np.array([1, zx, zx**2])\n",
      "/home/kfir/workspace/RadarLocalization/tracker.py:88: RuntimeWarning: divide by zero encountered in double_scalars\n",
      "  ratio = np.sqrt(lp)/le\n"
     ]
    },
    {
     "name": "stdout",
     "output_type": "stream",
     "text": [
      "Updating extended object track =  2\n",
      "Updating extended object track =  0\n",
      "Updating extended object track =  0\n",
      "Updating extended object track =  1\n",
      "Updating extended object track =  2\n",
      "Updating extended object track =  0\n",
      "Updating extended object track =  0\n",
      "Updating extended object track =  1\n",
      "Updating extended object track =  1\n",
      "Updating extended object track =  0\n",
      "Updating extended object track =  0\n",
      "Updating extended object track =  2\n",
      "Updating extended object track =  1\n",
      "Updating extended object track =  1\n",
      "Tracks are similar! do not open a new trk (-0.00045684403896202445, 0.015387125100978616, 0.5755705789115777) (0.0002812916962063401, -0.007797470288327476, -0.13446682506360988)\n",
      "Opening flipped polynom!!!\n",
      "Tracks are similar! do not open a new trk (-0.009112753744948932, -0.0532013029420051, 40.64060131387205) (-0.010034393276440895, 0.011855596188641007, 39.9048369411266)\n",
      "Tracks are similar! do not open a new trk (-0.005405073564565035, 0.17863362431303526, 5.337576781418997) (-0.004328765316961134, 0.0968954277746968, 6.679939081788502)\n",
      "len(unique_polynoms) 3\n",
      "frame 25\n",
      "Number of point tracks before run() 485\n",
      "Number of extended tracks before run() 3\n"
     ]
    },
    {
     "name": "stderr",
     "output_type": "stream",
     "text": [
      "/home/kfir/workspace/RadarLocalization/tracker.py:63: VisibleDeprecationWarning: Creating an ndarray from ragged nested sequences (which is a list-or-tuple of lists-or-tuples-or ndarrays with different lengths or shapes) is deprecated. If you meant to do this, you must specify 'dtype=object' when creating the ndarray\n",
      "  Ha = np.array([1, zx, zx**2])\n",
      "/home/kfir/workspace/RadarLocalization/tracker.py:88: RuntimeWarning: divide by zero encountered in double_scalars\n",
      "  ratio = np.sqrt(lp)/le\n"
     ]
    },
    {
     "name": "stdout",
     "output_type": "stream",
     "text": [
      "Updating extended object track =  2\n",
      "Updating extended object track =  2\n",
      "Updating extended object track =  0\n",
      "Updating extended object track =  0\n",
      "Updating extended object track =  0\n",
      "Updating extended object track =  0\n",
      "Updating extended object track =  0\n",
      "Updating extended object track =  1\n",
      "Updating extended object track =  2\n",
      "Updating extended object track =  1\n",
      "Updating extended object track =  2\n",
      "Updating extended object track =  2\n",
      "Updating extended object track =  0\n",
      "Updating extended object track =  0\n",
      "Tracks are similar! do not open a new trk (-0.0004669899707322486, 0.0155026696529688, 0.5777750134596426) (0.00045746365899525525, -0.011295274223106872, -0.34322901238300035)\n",
      "Opening flipped polynom!!!\n",
      "Tracks are similar! do not open a new trk (-0.009120878995011794, -0.052756845658775614, 40.63690255839675) (-0.010276625797828181, 0.025103617421569815, 39.600607353439806)\n",
      "Tracks are similar! do not open a new trk (-0.005406007343449239, 0.17873220059144126, 5.336270863012977) (-0.004359951073463027, 0.11024433487337959, 6.293273000901521)\n",
      "len(unique_polynoms) 3\n",
      "frame 26\n",
      "Number of point tracks before run() 491\n",
      "Number of extended tracks before run() 3\n"
     ]
    },
    {
     "name": "stderr",
     "output_type": "stream",
     "text": [
      "/home/kfir/workspace/RadarLocalization/tracker.py:63: VisibleDeprecationWarning: Creating an ndarray from ragged nested sequences (which is a list-or-tuple of lists-or-tuples-or ndarrays with different lengths or shapes) is deprecated. If you meant to do this, you must specify 'dtype=object' when creating the ndarray\n",
      "  Ha = np.array([1, zx, zx**2])\n",
      "/home/kfir/workspace/RadarLocalization/tracker.py:88: RuntimeWarning: divide by zero encountered in double_scalars\n",
      "  ratio = np.sqrt(lp)/le\n"
     ]
    },
    {
     "name": "stdout",
     "output_type": "stream",
     "text": [
      "Updating extended object track =  0\n",
      "Updating extended object track =  0\n",
      "Updating extended object track =  2\n",
      "Updating extended object track =  2\n",
      "Updating extended object track =  1\n",
      "Updating extended object track =  0\n",
      "Updating extended object track =  2\n",
      "Updating extended object track =  0\n",
      "Updating extended object track =  0\n",
      "Updating extended object track =  1\n",
      "Updating extended object track =  0\n",
      "Updating extended object track =  1\n",
      "Updating extended object track =  0\n",
      "Tracks are similar! do not open a new trk (-0.00046712789859604123, 0.015537320863264606, 0.5778654717891281) (0.00023367619645086005, -0.004853817410883127, 0.4529743805496276)\n",
      "Opening flipped polynom!!!\n",
      "Tracks are similar! do not open a new trk (-0.009124961343906281, -0.052479975890520746, 40.634818176490754) (-0.010272733203826163, 0.025497092380433857, 39.736768156013525)\n",
      "Tracks are similar! do not open a new trk (-0.005401752327322741, 0.17827366601868333, 5.342306792779179) (-0.004133310655641162, 0.07909451007306152, 7.494065246642242)\n",
      "len(unique_polynoms) 3\n",
      "frame 27\n",
      "Number of point tracks before run() 483\n",
      "Number of extended tracks before run() 3\n"
     ]
    },
    {
     "name": "stderr",
     "output_type": "stream",
     "text": [
      "/home/kfir/workspace/RadarLocalization/tracker.py:63: VisibleDeprecationWarning: Creating an ndarray from ragged nested sequences (which is a list-or-tuple of lists-or-tuples-or ndarrays with different lengths or shapes) is deprecated. If you meant to do this, you must specify 'dtype=object' when creating the ndarray\n",
      "  Ha = np.array([1, zx, zx**2])\n",
      "/home/kfir/workspace/RadarLocalization/tracker.py:88: RuntimeWarning: divide by zero encountered in double_scalars\n",
      "  ratio = np.sqrt(lp)/le\n"
     ]
    },
    {
     "name": "stdout",
     "output_type": "stream",
     "text": [
      "Updating extended object track =  2\n",
      "Updating extended object track =  2\n",
      "Updating extended object track =  0\n",
      "Updating extended object track =  0\n",
      "Updating extended object track =  0\n",
      "Updating extended object track =  1\n",
      "Updating extended object track =  0\n",
      "Updating extended object track =  2\n",
      "Updating extended object track =  0\n",
      "Updating extended object track =  0\n",
      "Updating extended object track =  1\n",
      "Updating extended object track =  1\n",
      "Updating extended object track =  1\n",
      "Tracks are similar! do not open a new trk (-0.0004654155301916863, 0.015420104395624554, 0.5791226743385983) (0.00022051161521041202, -0.009946671188384484, 0.10677293124357086)\n",
      "Opening flipped polynom!!!\n",
      "Tracks are similar! do not open a new trk (-0.009129702123480027, -0.05226749717817277, 40.63394750013912) (-0.010227785376346353, 0.024943781815819265, 39.65952095138016)\n",
      "Tracks are similar! do not open a new trk (-0.005405722956214687, 0.17868628371175485, 5.336819007767651) (-0.004304250456550916, 0.10380467030444024, 6.445948065195474)\n",
      "len(unique_polynoms) 3\n",
      "frame 28\n",
      "Number of point tracks before run() 487\n",
      "Number of extended tracks before run() 3\n"
     ]
    },
    {
     "name": "stderr",
     "output_type": "stream",
     "text": [
      "/home/kfir/workspace/RadarLocalization/tracker.py:63: VisibleDeprecationWarning: Creating an ndarray from ragged nested sequences (which is a list-or-tuple of lists-or-tuples-or ndarrays with different lengths or shapes) is deprecated. If you meant to do this, you must specify 'dtype=object' when creating the ndarray\n",
      "  Ha = np.array([1, zx, zx**2])\n",
      "/home/kfir/workspace/RadarLocalization/tracker.py:88: RuntimeWarning: divide by zero encountered in double_scalars\n",
      "  ratio = np.sqrt(lp)/le\n"
     ]
    },
    {
     "name": "stdout",
     "output_type": "stream",
     "text": [
      "Updating extended object track =  2\n",
      "Updating extended object track =  2\n",
      "Updating extended object track =  0\n",
      "Updating extended object track =  0\n",
      "Updating extended object track =  1\n",
      "Updating extended object track =  0\n",
      "Updating extended object track =  0\n",
      "Updating extended object track =  0\n",
      "Updating extended object track =  1\n",
      "Updating extended object track =  1\n",
      "Updating extended object track =  1\n",
      "Updating extended object track =  1\n",
      "Tracks are similar! do not open a new trk (-0.00046654930789051595, 0.015421849648490197, 0.5804253312429115) (7.741503980170164e-05, -0.00391412914531815, 0.09974354977398506)\n",
      "Opening flipped polynom!!!\n",
      "Tracks are similar! do not open a new trk (-0.009129520094187568, -0.05230150819056337, 40.63296204400524) (-0.01022159562613081, 0.025258210070452487, 39.630220782921356)\n",
      "Tracks are similar! do not open a new trk (-0.005460342274601177, 0.18201102243042586, 5.3098951788199065) (-0.003684614807576247, 0.021233563193269554, 9.264500532681236)\n",
      "Tracks are similar! do not open a new trk (-0.005460342274601177, 0.18201102243042586, 5.3098951788199065) (-0.004606606761262872, 0.1618180877215523, 1.692379329024459)\n",
      "len(unique_polynoms) 3\n",
      "frame 29\n",
      "Number of point tracks before run() 486\n",
      "Number of extended tracks before run() 3\n"
     ]
    },
    {
     "name": "stderr",
     "output_type": "stream",
     "text": [
      "/home/kfir/workspace/RadarLocalization/tracker.py:63: VisibleDeprecationWarning: Creating an ndarray from ragged nested sequences (which is a list-or-tuple of lists-or-tuples-or ndarrays with different lengths or shapes) is deprecated. If you meant to do this, you must specify 'dtype=object' when creating the ndarray\n",
      "  Ha = np.array([1, zx, zx**2])\n",
      "/home/kfir/workspace/RadarLocalization/tracker.py:88: RuntimeWarning: divide by zero encountered in double_scalars\n",
      "  ratio = np.sqrt(lp)/le\n"
     ]
    },
    {
     "name": "stdout",
     "output_type": "stream",
     "text": [
      "Updating extended object track =  0\n",
      "Updating extended object track =  0\n",
      "Updating extended object track =  2\n",
      "Updating extended object track =  0\n",
      "Updating extended object track =  0\n",
      "Updating extended object track =  0\n",
      "Updating extended object track =  0\n",
      "Updating extended object track =  2\n",
      "Updating extended object track =  1\n",
      "Updating extended object track =  0\n",
      "Updating extended object track =  0\n",
      "Tracks are similar! do not open a new trk (-0.0004651767014779293, 0.01536599192502692, 0.5801400933218731) (7.039551338140503e-05, -0.005264069254939743, 0.10343841895906135)\n",
      "Opening flipped polynom!!!\n",
      "Tracks are similar! do not open a new trk (-0.00912634702781415, -0.05245765099262519, 40.63521239685246) (-0.010214670692990212, 0.028503921648629357, 39.62598176290348)\n",
      "Tracks are similar! do not open a new trk (-0.005460365645323925, 0.18201369184784988, 5.309853263388854) (-0.004538026372413404, 0.1224004343011192, 6.204718095772907)\n",
      "len(unique_polynoms) 3\n",
      "frame 30\n",
      "Number of point tracks before run() 496\n",
      "Number of extended tracks before run() 3\n"
     ]
    },
    {
     "name": "stderr",
     "output_type": "stream",
     "text": [
      "/home/kfir/workspace/RadarLocalization/tracker.py:63: VisibleDeprecationWarning: Creating an ndarray from ragged nested sequences (which is a list-or-tuple of lists-or-tuples-or ndarrays with different lengths or shapes) is deprecated. If you meant to do this, you must specify 'dtype=object' when creating the ndarray\n",
      "  Ha = np.array([1, zx, zx**2])\n",
      "/home/kfir/workspace/RadarLocalization/tracker.py:88: RuntimeWarning: divide by zero encountered in double_scalars\n",
      "  ratio = np.sqrt(lp)/le\n"
     ]
    },
    {
     "name": "stdout",
     "output_type": "stream",
     "text": [
      "Updating extended object track =  2\n",
      "Updating extended object track =  0\n",
      "Updating extended object track =  0\n",
      "Updating extended object track =  0\n",
      "Updating extended object track =  0\n",
      "Updating extended object track =  0\n",
      "Updating extended object track =  0\n",
      "Updating extended object track =  0\n",
      "Updating extended object track =  0\n",
      "Updating extended object track =  0\n",
      "Updating extended object track =  0\n",
      "Updating extended object track =  0\n",
      "Updating extended object track =  0\n",
      "Updating extended object track =  0\n",
      "Tracks are similar! do not open a new trk (-0.0004697558421490551, 0.015514993725274212, 0.5811071524282271) (0.00013610625471194773, -0.006711048323378958, 0.12243882346493083)\n",
      "Opening flipped polynom!!!\n",
      "Tracks are similar! do not open a new trk (-0.009138324171552716, -0.05192841427299688, 40.63018932271142) (-0.01053394785369778, 0.0385333558966044, 39.59802956506784)\n",
      "Tracks are similar! do not open a new trk (-0.005460365645323925, 0.18201369184784988, 5.309853263388854) (-0.004545827459103938, 0.09241017808593069, 8.186979636165168)\n",
      "len(unique_polynoms) 2\n",
      "frame 31\n",
      "Number of point tracks before run() 490\n",
      "Number of extended tracks before run() 3\n"
     ]
    },
    {
     "name": "stderr",
     "output_type": "stream",
     "text": [
      "/home/kfir/workspace/RadarLocalization/tracker.py:63: VisibleDeprecationWarning: Creating an ndarray from ragged nested sequences (which is a list-or-tuple of lists-or-tuples-or ndarrays with different lengths or shapes) is deprecated. If you meant to do this, you must specify 'dtype=object' when creating the ndarray\n",
      "  Ha = np.array([1, zx, zx**2])\n",
      "/home/kfir/workspace/RadarLocalization/tracker.py:88: RuntimeWarning: divide by zero encountered in double_scalars\n",
      "  ratio = np.sqrt(lp)/le\n"
     ]
    },
    {
     "name": "stdout",
     "output_type": "stream",
     "text": [
      "Updating extended object track =  2\n",
      "Updating extended object track =  2\n",
      "Updating extended object track =  2\n",
      "Updating extended object track =  0\n",
      "Updating extended object track =  0\n",
      "Updating extended object track =  0\n",
      "Updating extended object track =  0\n",
      "Updating extended object track =  2\n",
      "Updating extended object track =  2\n",
      "Updating extended object track =  0\n",
      "Updating extended object track =  0\n",
      "Updating extended object track =  2\n",
      "Updating extended object track =  0\n",
      "Updating extended object track =  0\n",
      "Updating extended object track =  1\n",
      "Updating extended object track =  0\n",
      "Tracks are similar! do not open a new trk (-0.00047841910284583005, 0.01588845288760847, 0.5770847201952224) (0.0001472990051466319, -0.0070766692360893805, 0.12225710205860772)\n",
      "Opening flipped polynom!!!\n",
      "Tracks are similar! do not open a new trk (-0.009148076271359447, -0.05156034271889917, 40.62732841394507) (-0.01023479279929448, 0.023698928240785976, 39.74490034906805)\n",
      "Tracks are similar! do not open a new trk (-0.005463485657964699, 0.1823348022894894, 5.305778408920852) (-0.004378863049419077, 0.06793809990370991, 9.02514569963398)\n",
      "Tracks are similar! do not open a new trk (-0.005463485657964699, 0.1823348022894894, 5.305778408920852) (-0.0017388501540423213, -0.3026068533256366, 23.255407811167647)\n",
      "Tracks are similar! do not open a new trk (-0.005463485657964699, 0.1823348022894894, 5.305778408920852) (-0.005657094426870257, 0.25478656982814724, 0.5149894525283749)\n",
      "len(unique_polynoms) 3\n",
      "frame 32\n",
      "Number of point tracks before run() 485\n",
      "Number of extended tracks before run() 3\n"
     ]
    },
    {
     "name": "stderr",
     "output_type": "stream",
     "text": [
      "/home/kfir/workspace/RadarLocalization/tracker.py:63: VisibleDeprecationWarning: Creating an ndarray from ragged nested sequences (which is a list-or-tuple of lists-or-tuples-or ndarrays with different lengths or shapes) is deprecated. If you meant to do this, you must specify 'dtype=object' when creating the ndarray\n",
      "  Ha = np.array([1, zx, zx**2])\n",
      "/home/kfir/workspace/RadarLocalization/tracker.py:88: RuntimeWarning: divide by zero encountered in double_scalars\n",
      "  ratio = np.sqrt(lp)/le\n"
     ]
    },
    {
     "name": "stdout",
     "output_type": "stream",
     "text": [
      "Updating extended object track =  2\n",
      "Updating extended object track =  0\n",
      "Updating extended object track =  2\n",
      "Updating extended object track =  0\n",
      "Updating extended object track =  0\n",
      "Updating extended object track =  0\n",
      "Updating extended object track =  2\n",
      "Updating extended object track =  1\n",
      "Updating extended object track =  0\n",
      "Updating extended object track =  0\n",
      "Updating extended object track =  2\n",
      "Updating extended object track =  0\n",
      "Updating extended object track =  1\n",
      "Updating extended object track =  1\n",
      "Tracks are similar! do not open a new trk (-0.00047113091686053394, 0.015595302656118328, 0.5775501128562652) (0.0002362144199150824, -0.009024999751899425, 0.06616189571923878)\n",
      "Opening flipped polynom!!!\n",
      "Tracks are similar! do not open a new trk (-0.009152983928085225, -0.051413870009689305, 40.62658642822483) (-0.01055743100631501, 0.029601180896855865, 39.67175564960635)\n",
      "Tracks are similar! do not open a new trk (-0.005466114198080195, 0.18259155783376674, 5.303758288890453) (-0.005341166421581296, 0.15421884488652143, 6.734180933551433)\n",
      "len(unique_polynoms) 3\n",
      "frame 33\n",
      "Number of point tracks before run() 483\n",
      "Number of extended tracks before run() 3\n"
     ]
    },
    {
     "name": "stderr",
     "output_type": "stream",
     "text": [
      "/home/kfir/workspace/RadarLocalization/tracker.py:63: VisibleDeprecationWarning: Creating an ndarray from ragged nested sequences (which is a list-or-tuple of lists-or-tuples-or ndarrays with different lengths or shapes) is deprecated. If you meant to do this, you must specify 'dtype=object' when creating the ndarray\n",
      "  Ha = np.array([1, zx, zx**2])\n"
     ]
    },
    {
     "name": "stdout",
     "output_type": "stream",
     "text": [
      "Updating extended object track =  2\n",
      "Updating extended object track =  2\n",
      "Updating extended object track =  0\n",
      "Updating extended object track =  0\n",
      "Updating extended object track =  2\n",
      "Updating extended object track =  0\n",
      "Updating extended object track =  2\n",
      "Updating extended object track =  0\n",
      "Updating extended object track =  0\n",
      "Updating extended object track =  0\n",
      "Updating extended object track =  0\n",
      "Updating extended object track =  1\n",
      "Updating extended object track =  0\n",
      "Updating extended object track =  1\n",
      "Updating extended object track =  0\n"
     ]
    },
    {
     "name": "stderr",
     "output_type": "stream",
     "text": [
      "/home/kfir/workspace/RadarLocalization/tracker.py:88: RuntimeWarning: divide by zero encountered in double_scalars\n",
      "  ratio = np.sqrt(lp)/le\n"
     ]
    },
    {
     "name": "stdout",
     "output_type": "stream",
     "text": [
      "Tracks are similar! do not open a new trk (-0.0004887005193928074, 0.016297047243470156, 0.5742356823417446) (0.00032364161176889455, -0.007971355258394666, 0.021623666136645212)\n",
      "Opening flipped polynom!!!\n",
      "Tracks are similar! do not open a new trk (-0.009154281820917046, -0.05113721481953148, 40.621508804295125) (-0.010448251143075371, 0.02310147154023789, 39.75869462573649)\n",
      "Tracks are similar! do not open a new trk (-0.005466882340132967, 0.1826537409672128, 5.303095535861935) (-0.005334034789870495, 0.22517259784584442, 2.948080694547975)\n",
      "len(unique_polynoms) 3\n",
      "frame 34\n",
      "Number of point tracks before run() 480\n",
      "Number of extended tracks before run() 3\n"
     ]
    },
    {
     "name": "stderr",
     "output_type": "stream",
     "text": [
      "/home/kfir/workspace/RadarLocalization/tracker.py:63: VisibleDeprecationWarning: Creating an ndarray from ragged nested sequences (which is a list-or-tuple of lists-or-tuples-or ndarrays with different lengths or shapes) is deprecated. If you meant to do this, you must specify 'dtype=object' when creating the ndarray\n",
      "  Ha = np.array([1, zx, zx**2])\n",
      "/home/kfir/workspace/RadarLocalization/tracker.py:88: RuntimeWarning: divide by zero encountered in double_scalars\n",
      "  ratio = np.sqrt(lp)/le\n"
     ]
    },
    {
     "name": "stdout",
     "output_type": "stream",
     "text": [
      "Updating extended object track =  2\n",
      "Updating extended object track =  2\n",
      "Updating extended object track =  2\n",
      "Updating extended object track =  2\n",
      "Updating extended object track =  2\n",
      "Updating extended object track =  0\n",
      "Updating extended object track =  0\n",
      "Updating extended object track =  0\n",
      "Updating extended object track =  2\n",
      "Updating extended object track =  1\n",
      "Updating extended object track =  2\n",
      "Updating extended object track =  0\n",
      "Updating extended object track =  1\n",
      "Tracks are similar! do not open a new trk (-0.0004888050895592087, 0.016292317405217863, 0.5720165226622065) (0.00025440667100019854, -0.006112460774599267, 0.04725978743927057)\n",
      "Opening flipped polynom!!!\n",
      "Tracks are similar! do not open a new trk (-0.009155688643951122, -0.051040419791156894, 40.620350522086106) (-0.01029219612954661, 0.001296982971141475, 40.192850446979236)\n",
      "Tracks are similar! do not open a new trk (-0.00546719044750768, 0.18271754480288108, 5.302843994624304) (-0.005167006084578172, 0.1265801763809979, 7.820762691308558)\n",
      "len(unique_polynoms) 3\n",
      "frame 35\n",
      "Number of point tracks before run() 479\n",
      "Number of extended tracks before run() 3\n"
     ]
    },
    {
     "name": "stderr",
     "output_type": "stream",
     "text": [
      "/home/kfir/workspace/RadarLocalization/tracker.py:63: VisibleDeprecationWarning: Creating an ndarray from ragged nested sequences (which is a list-or-tuple of lists-or-tuples-or ndarrays with different lengths or shapes) is deprecated. If you meant to do this, you must specify 'dtype=object' when creating the ndarray\n",
      "  Ha = np.array([1, zx, zx**2])\n"
     ]
    },
    {
     "name": "stdout",
     "output_type": "stream",
     "text": [
      "Updating extended object track =  2\n",
      "Updating extended object track =  2\n",
      "Updating extended object track =  0\n",
      "Updating extended object track =  0\n",
      "Updating extended object track =  0\n",
      "Updating extended object track =  1\n",
      "Updating extended object track =  0\n",
      "Updating extended object track =  1\n",
      "Updating extended object track =  0\n",
      "Updating extended object track =  1\n",
      "Updating extended object track =  0\n",
      "Updating extended object track =  2\n",
      "Updating extended object track =  0\n",
      "Updating extended object track =  1\n",
      "Updating extended object track =  0\n",
      "Updating extended object track =  0\n",
      "Updating extended object track =  1\n",
      "Updating extended object track =  1\n"
     ]
    },
    {
     "name": "stderr",
     "output_type": "stream",
     "text": [
      "/home/kfir/workspace/RadarLocalization/tracker.py:88: RuntimeWarning: divide by zero encountered in double_scalars\n",
      "  ratio = np.sqrt(lp)/le\n"
     ]
    },
    {
     "name": "stdout",
     "output_type": "stream",
     "text": [
      "Tracks are similar! do not open a new trk (-0.0004918963451828816, 0.016278658974171863, 0.5720646541889834) (0.00026041098812320103, -0.007784916379359884, 0.07055918291403863)\n",
      "Opening flipped polynom!!!\n",
      "Tracks are similar! do not open a new trk (-0.009155603731400674, -0.05106572164562408, 40.621008190973) (-0.010427839355303885, 0.01470987666933706, 39.972353141825806)\n",
      "Tracks are similar! do not open a new trk (-0.005464904150957747, 0.182473878241638, 5.307080088852959) (-0.005415786260418276, 0.21010748158615825, 4.841788903084489)\n",
      "Tracks are similar! do not open a new trk (-0.0004918963451828816, 0.016278658974171863, 0.5720646541889834) (-0.001182157371438116, 0.07033462769173081, 1.4364176955964683)\n",
      "len(unique_polynoms) 3\n",
      "frame 36\n",
      "Number of point tracks before run() 477\n",
      "Number of extended tracks before run() 3\n"
     ]
    },
    {
     "name": "stderr",
     "output_type": "stream",
     "text": [
      "/home/kfir/workspace/RadarLocalization/tracker.py:63: VisibleDeprecationWarning: Creating an ndarray from ragged nested sequences (which is a list-or-tuple of lists-or-tuples-or ndarrays with different lengths or shapes) is deprecated. If you meant to do this, you must specify 'dtype=object' when creating the ndarray\n",
      "  Ha = np.array([1, zx, zx**2])\n",
      "/home/kfir/workspace/RadarLocalization/tracker.py:88: RuntimeWarning: divide by zero encountered in double_scalars\n",
      "  ratio = np.sqrt(lp)/le\n"
     ]
    },
    {
     "name": "stdout",
     "output_type": "stream",
     "text": [
      "Updating extended object track =  2\n",
      "Updating extended object track =  2\n",
      "Updating extended object track =  2\n",
      "Updating extended object track =  0\n",
      "Updating extended object track =  2\n",
      "Updating extended object track =  0\n",
      "Updating extended object track =  2\n",
      "Updating extended object track =  0\n",
      "Updating extended object track =  0\n",
      "Updating extended object track =  0\n",
      "Updating extended object track =  1\n",
      "Updating extended object track =  1\n",
      "Updating extended object track =  0\n",
      "Updating extended object track =  1\n",
      "Tracks are similar! do not open a new trk (-0.0004907377227738237, 0.016159409278152338, 0.5721455080252588) (0.0003325601678885563, -0.009742583295914879, 0.0486006086988646)\n",
      "Opening flipped polynom!!!\n",
      "Tracks are similar! do not open a new trk (-0.00916813142946868, -0.05041667796947614, 40.614174551835184) (-0.010442810496495872, 0.0056678119601353185, 40.16514165838545)\n",
      "Tracks are similar! do not open a new trk (-0.00546340650453288, 0.1823430045484932, 5.306313668205515) (-0.005253173947396419, 0.13815067606402387, 6.897457325681249)\n",
      "Tracks are similar! do not open a new trk (-0.0004907377227738237, 0.016159409278152338, 0.5721455080252588) (-0.0011549873092512738, 0.06946885937014817, 1.4324509536896188)\n",
      "len(unique_polynoms) 3\n",
      "frame 37\n",
      "Number of point tracks before run() 477\n",
      "Number of extended tracks before run() 3\n"
     ]
    },
    {
     "name": "stderr",
     "output_type": "stream",
     "text": [
      "/home/kfir/workspace/RadarLocalization/tracker.py:63: VisibleDeprecationWarning: Creating an ndarray from ragged nested sequences (which is a list-or-tuple of lists-or-tuples-or ndarrays with different lengths or shapes) is deprecated. If you meant to do this, you must specify 'dtype=object' when creating the ndarray\n",
      "  Ha = np.array([1, zx, zx**2])\n",
      "/home/kfir/workspace/RadarLocalization/tracker.py:88: RuntimeWarning: divide by zero encountered in double_scalars\n",
      "  ratio = np.sqrt(lp)/le\n"
     ]
    },
    {
     "name": "stdout",
     "output_type": "stream",
     "text": [
      "Updating extended object track =  2\n",
      "Updating extended object track =  0\n",
      "Updating extended object track =  2\n",
      "Updating extended object track =  0\n",
      "Updating extended object track =  0\n",
      "Updating extended object track =  0\n",
      "Updating extended object track =  2\n",
      "Updating extended object track =  2\n",
      "Updating extended object track =  0\n",
      "Updating extended object track =  0\n",
      "Updating extended object track =  1\n",
      "Updating extended object track =  0\n",
      "Updating extended object track =  0\n",
      "Updating extended object track =  1\n",
      "Updating extended object track =  2\n",
      "Tracks are similar! do not open a new trk (-0.0004930366914086365, 0.016120764475126535, 0.572323447617881) (0.00020494927027807887, -0.006583066381605882, 0.02063305641591671)\n",
      "Opening flipped polynom!!!\n",
      "Tracks are similar! do not open a new trk (-0.009171513890116135, -0.05007494476942055, 40.6078883379392) (-0.010331138661081436, -0.0007972151643299519, 40.25707973180921)\n",
      "Tracks are similar! do not open a new trk (-0.005468929284387746, 0.18285346621089404, 5.300630768457477) (-0.005079132852424669, 0.11258724841970397, 8.043056061290471)\n",
      "len(unique_polynoms) 3\n",
      "frame 38\n",
      "Number of point tracks before run() 470\n",
      "Number of extended tracks before run() 3\n"
     ]
    },
    {
     "name": "stderr",
     "output_type": "stream",
     "text": [
      "/home/kfir/workspace/RadarLocalization/tracker.py:63: VisibleDeprecationWarning: Creating an ndarray from ragged nested sequences (which is a list-or-tuple of lists-or-tuples-or ndarrays with different lengths or shapes) is deprecated. If you meant to do this, you must specify 'dtype=object' when creating the ndarray\n",
      "  Ha = np.array([1, zx, zx**2])\n"
     ]
    },
    {
     "name": "stdout",
     "output_type": "stream",
     "text": [
      "Updating extended object track =  2\n",
      "Updating extended object track =  2\n",
      "Updating extended object track =  2\n",
      "Updating extended object track =  0\n",
      "Updating extended object track =  0\n",
      "Updating extended object track =  0\n",
      "Updating extended object track =  0\n",
      "Updating extended object track =  0\n",
      "Updating extended object track =  0\n",
      "Updating extended object track =  2\n",
      "Updating extended object track =  2\n",
      "Updating extended object track =  1\n"
     ]
    },
    {
     "name": "stderr",
     "output_type": "stream",
     "text": [
      "/home/kfir/workspace/RadarLocalization/tracker.py:88: RuntimeWarning: divide by zero encountered in double_scalars\n",
      "  ratio = np.sqrt(lp)/le\n"
     ]
    },
    {
     "name": "stdout",
     "output_type": "stream",
     "text": [
      "Tracks are similar! do not open a new trk (-0.0005025570397535358, 0.016601368573361867, 0.5706570643044819) (0.00024442582732283214, -0.008620053179138745, 0.026041677220150668)\n",
      "Opening flipped polynom!!!\n",
      "Tracks are similar! do not open a new trk (-0.009159706243682621, -0.050567161933032456, 40.61257600163339) (-0.010210893896215413, -0.0067804602199966375, 40.306225872869646)\n",
      "Tracks are similar! do not open a new trk (-0.005471067603221658, 0.18305058291601067, 5.299274857663747) (-0.005084517943001331, 0.11436843179981741, 7.957361715326585)\n",
      "len(unique_polynoms) 3\n",
      "frame 39\n",
      "Number of point tracks before run() 482\n",
      "Number of extended tracks before run() 3\n"
     ]
    },
    {
     "name": "stderr",
     "output_type": "stream",
     "text": [
      "/home/kfir/workspace/RadarLocalization/tracker.py:63: VisibleDeprecationWarning: Creating an ndarray from ragged nested sequences (which is a list-or-tuple of lists-or-tuples-or ndarrays with different lengths or shapes) is deprecated. If you meant to do this, you must specify 'dtype=object' when creating the ndarray\n",
      "  Ha = np.array([1, zx, zx**2])\n",
      "/home/kfir/workspace/RadarLocalization/tracker.py:88: RuntimeWarning: divide by zero encountered in double_scalars\n",
      "  ratio = np.sqrt(lp)/le\n"
     ]
    },
    {
     "name": "stdout",
     "output_type": "stream",
     "text": [
      "Updating extended object track =  2\n",
      "Updating extended object track =  0\n",
      "Updating extended object track =  0\n",
      "Updating extended object track =  0\n",
      "Updating extended object track =  2\n",
      "Updating extended object track =  2\n",
      "Updating extended object track =  0\n",
      "Updating extended object track =  0\n",
      "Updating extended object track =  0\n",
      "Updating extended object track =  1\n",
      "Updating extended object track =  0\n",
      "Updating extended object track =  1\n",
      "Tracks are similar! do not open a new trk (-0.0005191900520588505, 0.0170914029831751, 0.5694013776532233) (0.00046531030559613144, -0.013658565916221128, 0.18293067994513007)\n",
      "Opening flipped polynom!!!\n",
      "Tracks are similar! do not open a new trk (-0.009167293744211887, -0.05021911754148412, 40.60873748248159) (-0.009982672510428163, -0.01814651350969574, 40.43620965064268)\n",
      "Tracks are similar! do not open a new trk (-0.005471356879240337, 0.18307322540709875, 5.2992221785781295) (-0.0036579064322761977, -0.052195412377033054, 11.07525288725116)\n",
      "Tracks are similar! do not open a new trk (-0.005471356879240337, 0.18307322540709875, 5.2992221785781295) (-0.00481904132592944, 0.09699964092594843, 8.022255188736636)\n",
      "len(unique_polynoms) 3\n",
      "frame 40\n",
      "Number of point tracks before run() 479\n",
      "Number of extended tracks before run() 3\n"
     ]
    },
    {
     "name": "stderr",
     "output_type": "stream",
     "text": [
      "/home/kfir/workspace/RadarLocalization/tracker.py:63: VisibleDeprecationWarning: Creating an ndarray from ragged nested sequences (which is a list-or-tuple of lists-or-tuples-or ndarrays with different lengths or shapes) is deprecated. If you meant to do this, you must specify 'dtype=object' when creating the ndarray\n",
      "  Ha = np.array([1, zx, zx**2])\n",
      "/home/kfir/workspace/RadarLocalization/tracker.py:88: RuntimeWarning: divide by zero encountered in double_scalars\n",
      "  ratio = np.sqrt(lp)/le\n"
     ]
    },
    {
     "name": "stdout",
     "output_type": "stream",
     "text": [
      "Updating extended object track =  0\n",
      "Updating extended object track =  0\n",
      "Updating extended object track =  0\n",
      "Updating extended object track =  0\n",
      "Updating extended object track =  2\n",
      "Updating extended object track =  0\n",
      "Updating extended object track =  0\n",
      "Updating extended object track =  0\n",
      "Updating extended object track =  1\n",
      "Updating extended object track =  0\n",
      "Updating extended object track =  1\n",
      "Updating extended object track =  1\n",
      "Tracks are similar! do not open a new trk (-0.0005227490154406327, 0.017218439296789248, 0.5701519507296974) (0.0004229508425301652, -0.013459087242805616, 0.04667198637517508)\n",
      "Opening flipped polynom!!!\n",
      "Tracks are similar! do not open a new trk (-0.009184898865695483, -0.049613103336328554, 40.60481111199962) (-0.009986581014423911, -0.017138025486257435, 40.42468580547799)\n",
      "Tracks are similar! do not open a new trk (-0.005467516547526742, 0.1827348560850709, 5.303582016180454) (-0.0036294505993229604, -0.05572061556920522, 11.18310144599466)\n",
      "Tracks are similar! do not open a new trk (-0.005467516547526742, 0.1827348560850709, 5.303582016180454) (-0.00462702878673177, 0.07113058974189992, 8.849187709546982)\n",
      "len(unique_polynoms) 3\n",
      "frame 41\n",
      "Number of point tracks before run() 476\n",
      "Number of extended tracks before run() 3\n"
     ]
    },
    {
     "name": "stderr",
     "output_type": "stream",
     "text": [
      "/home/kfir/workspace/RadarLocalization/tracker.py:63: VisibleDeprecationWarning: Creating an ndarray from ragged nested sequences (which is a list-or-tuple of lists-or-tuples-or ndarrays with different lengths or shapes) is deprecated. If you meant to do this, you must specify 'dtype=object' when creating the ndarray\n",
      "  Ha = np.array([1, zx, zx**2])\n",
      "/home/kfir/workspace/RadarLocalization/tracker.py:88: RuntimeWarning: divide by zero encountered in double_scalars\n",
      "  ratio = np.sqrt(lp)/le\n"
     ]
    },
    {
     "name": "stdout",
     "output_type": "stream",
     "text": [
      "Updating extended object track =  2\n",
      "Updating extended object track =  0\n",
      "Updating extended object track =  0\n",
      "Updating extended object track =  0\n",
      "Updating extended object track =  0\n",
      "Updating extended object track =  0\n",
      "Updating extended object track =  0\n",
      "Updating extended object track =  0\n",
      "Updating extended object track =  0\n",
      "Updating extended object track =  0\n",
      "Updating extended object track =  0\n",
      "Tracks are similar! do not open a new trk (-0.0005133380047716303, 0.016829268999208228, 0.5723624439752625) (0.0005391387545012108, -0.015279247526319229, 0.021013792234907024)\n",
      "Opening flipped polynom!!!\n",
      "Tracks are similar! do not open a new trk (-0.009171197946463976, -0.050071313656698764, 40.606153817228964) (-0.009674457502040434, -0.03829261618476528, 40.79138582712478)\n",
      "Tracks are similar! do not open a new trk (-0.005467516547526742, 0.1827348560850709, 5.303582016180454) (-0.004263120856311561, 0.04612997213214744, 7.397588147441685)\n",
      "Tracks are similar! do not open a new trk (-0.005467516547526742, 0.1827348560850709, 5.303582016180454) (-0.003850195090627648, -0.0122159306927882, 11.081970140480937)\n",
      "Opening flipped polynom!!!\n",
      "Tracks are similar! do not open a new trk (-0.009171197946463976, -0.050071313656698764, 40.606153817228964) (-0.011686830818668588, 0.059179673176187414, 38.66402563734619)\n",
      "Tracks are similar! do not open a new trk (-0.005467516547526742, 0.1827348560850709, 5.303582016180454) (-0.0055965266399146864, 0.21141348725561027, 1.1474474138432742)\n",
      "len(unique_polynoms) 2\n",
      "frame 42\n",
      "Number of point tracks before run() 479\n",
      "Number of extended tracks before run() 3\n"
     ]
    },
    {
     "name": "stderr",
     "output_type": "stream",
     "text": [
      "/home/kfir/workspace/RadarLocalization/tracker.py:63: VisibleDeprecationWarning: Creating an ndarray from ragged nested sequences (which is a list-or-tuple of lists-or-tuples-or ndarrays with different lengths or shapes) is deprecated. If you meant to do this, you must specify 'dtype=object' when creating the ndarray\n",
      "  Ha = np.array([1, zx, zx**2])\n",
      "/home/kfir/workspace/RadarLocalization/tracker.py:88: RuntimeWarning: divide by zero encountered in double_scalars\n",
      "  ratio = np.sqrt(lp)/le\n"
     ]
    },
    {
     "name": "stdout",
     "output_type": "stream",
     "text": [
      "Updating extended object track =  2\n",
      "Updating extended object track =  2\n",
      "Updating extended object track =  2\n",
      "Updating extended object track =  2\n",
      "Updating extended object track =  0\n",
      "Updating extended object track =  0\n",
      "Updating extended object track =  0\n",
      "Updating extended object track =  2\n",
      "Updating extended object track =  1\n",
      "Updating extended object track =  2\n",
      "Updating extended object track =  0\n",
      "Updating extended object track =  0\n",
      "Updating extended object track =  0\n",
      "Updating extended object track =  1\n",
      "Updating extended object track =  0\n",
      "Updating extended object track =  0\n",
      "Updating extended object track =  1\n",
      "Updating extended object track =  1\n",
      "Updating extended object track =  1\n",
      "Tracks are similar! do not open a new trk (-0.0005284875147571222, 0.017330345952074225, 0.5701047451822591) (0.0005592355046851179, -0.013301891547406061, -0.032341588171833066)\n",
      "Opening flipped polynom!!!\n",
      "Tracks are similar! do not open a new trk (-0.009167285966692034, -0.05034287018125537, 40.61030201925027) (-0.009812400245447744, -0.025091142540777767, 40.49726747058676)\n",
      "Tracks are similar! do not open a new trk (-0.005462643227491989, 0.18222244446161845, 5.308607561089245) (-0.0039438190396433636, -0.009678802333880375, 9.53346768688935)\n",
      "len(unique_polynoms) 3\n",
      "frame 43\n",
      "Number of point tracks before run() 486\n",
      "Number of extended tracks before run() 3\n"
     ]
    },
    {
     "name": "stderr",
     "output_type": "stream",
     "text": [
      "/home/kfir/workspace/RadarLocalization/tracker.py:63: VisibleDeprecationWarning: Creating an ndarray from ragged nested sequences (which is a list-or-tuple of lists-or-tuples-or ndarrays with different lengths or shapes) is deprecated. If you meant to do this, you must specify 'dtype=object' when creating the ndarray\n",
      "  Ha = np.array([1, zx, zx**2])\n"
     ]
    },
    {
     "name": "stdout",
     "output_type": "stream",
     "text": [
      "Updating extended object track =  2\n",
      "Updating extended object track =  2\n",
      "Updating extended object track =  2\n",
      "Updating extended object track =  0\n",
      "Updating extended object track =  0\n",
      "Updating extended object track =  0\n",
      "Updating extended object track =  2\n",
      "Updating extended object track =  0\n",
      "Updating extended object track =  1\n",
      "Updating extended object track =  1\n",
      "Updating extended object track =  2\n",
      "Updating extended object track =  1\n",
      "Updating extended object track =  0\n",
      "Updating extended object track =  1\n",
      "Updating extended object track =  1\n"
     ]
    },
    {
     "name": "stderr",
     "output_type": "stream",
     "text": [
      "/home/kfir/workspace/RadarLocalization/tracker.py:88: RuntimeWarning: divide by zero encountered in double_scalars\n",
      "  ratio = np.sqrt(lp)/le\n"
     ]
    },
    {
     "name": "stdout",
     "output_type": "stream",
     "text": [
      "Tracks are similar! do not open a new trk (-0.0005440491572248625, 0.01782757114950134, 0.5678112903809559) (0.0005836170507424599, -0.013986612793242151, -0.050181003402264446)\n",
      "Opening flipped polynom!!!\n",
      "Tracks are similar! do not open a new trk (-0.009166797448231366, -0.050351421708933024, 40.609504654278744) (-0.009650896636538741, -0.03631648933197515, 40.83021263000748)\n",
      "Tracks are similar! do not open a new trk (-0.0054597075906788655, 0.18191757236727962, 5.311893520613469) (-0.004126190224823491, 0.015431362847581549, 8.714449334209982)\n",
      "len(unique_polynoms) 3\n",
      "frame 44\n",
      "Number of point tracks before run() 484\n",
      "Number of extended tracks before run() 3\n"
     ]
    },
    {
     "name": "stderr",
     "output_type": "stream",
     "text": [
      "/home/kfir/workspace/RadarLocalization/tracker.py:63: VisibleDeprecationWarning: Creating an ndarray from ragged nested sequences (which is a list-or-tuple of lists-or-tuples-or ndarrays with different lengths or shapes) is deprecated. If you meant to do this, you must specify 'dtype=object' when creating the ndarray\n",
      "  Ha = np.array([1, zx, zx**2])\n",
      "/home/kfir/workspace/RadarLocalization/tracker.py:88: RuntimeWarning: divide by zero encountered in double_scalars\n",
      "  ratio = np.sqrt(lp)/le\n"
     ]
    },
    {
     "name": "stdout",
     "output_type": "stream",
     "text": [
      "Updating extended object track =  2\n",
      "Updating extended object track =  2\n",
      "Updating extended object track =  2\n",
      "Updating extended object track =  0\n",
      "Updating extended object track =  0\n",
      "Updating extended object track =  2\n",
      "Updating extended object track =  0\n",
      "Updating extended object track =  0\n",
      "Updating extended object track =  0\n",
      "Updating extended object track =  0\n",
      "Updating extended object track =  0\n",
      "Updating extended object track =  0\n",
      "Updating extended object track =  2\n",
      "Updating extended object track =  0\n",
      "Updating extended object track =  0\n",
      "Updating extended object track =  1\n",
      "Tracks are similar! do not open a new trk (-0.000542838526492767, 0.01768087953593454, 0.5706574429334575) (0.00043519857502446357, -0.011769280405171056, -0.01706974649273365)\n",
      "Opening flipped polynom!!!\n",
      "Tracks are similar! do not open a new trk (-0.009179975639062202, -0.049507594793044105, 40.59887349879746) (-0.009825642906808651, -0.02364093506164861, 40.48223420118436)\n",
      "Tracks are similar! do not open a new trk (-0.005461642692352523, 0.18205271011327862, 5.310566039015285) (-0.004103006792180098, 0.010590337490162464, 8.920421486628692)\n",
      "len(unique_polynoms) 3\n",
      "frame 45\n",
      "Number of point tracks before run() 473\n",
      "Number of extended tracks before run() 3\n"
     ]
    },
    {
     "name": "stderr",
     "output_type": "stream",
     "text": [
      "/home/kfir/workspace/RadarLocalization/tracker.py:63: VisibleDeprecationWarning: Creating an ndarray from ragged nested sequences (which is a list-or-tuple of lists-or-tuples-or ndarrays with different lengths or shapes) is deprecated. If you meant to do this, you must specify 'dtype=object' when creating the ndarray\n",
      "  Ha = np.array([1, zx, zx**2])\n",
      "/home/kfir/workspace/RadarLocalization/tracker.py:88: RuntimeWarning: divide by zero encountered in double_scalars\n",
      "  ratio = np.sqrt(lp)/le\n"
     ]
    },
    {
     "name": "stdout",
     "output_type": "stream",
     "text": [
      "Updating extended object track =  2\n",
      "Updating extended object track =  0\n",
      "Updating extended object track =  0\n",
      "Updating extended object track =  0\n",
      "Updating extended object track =  0\n",
      "Updating extended object track =  0\n",
      "Updating extended object track =  0\n",
      "Updating extended object track =  0\n",
      "Tracks are similar! do not open a new trk (-0.0005447792551924137, 0.017741646162238674, 0.5711307468126858) (0.0004055258025626919, -0.010550590351788049, -0.0327582305834625)\n",
      "Opening flipped polynom!!!\n",
      "Tracks are similar! do not open a new trk (-0.009176165959013745, -0.04967810856183943, 40.60089727693433) (-0.009722620023087743, -0.03151997089039163, 40.76483300746436)\n",
      "Tracks are similar! do not open a new trk (-0.005461642692352523, 0.18205271011327862, 5.310566039015285) (-0.004719796427501066, 0.04953240874200026, 10.098457999549542)\n",
      "Opening flipped polynom!!!\n",
      "Tracks are similar! do not open a new trk (-0.009176165959013745, -0.04967810856183943, 40.60089727693433) (-0.009664612132001432, -0.047549946736826, 39.85806836856179)\n",
      "Tracks are similar! do not open a new trk (-0.005461642692352523, 0.18205271011327862, 5.310566039015285) (-0.0032997135986438555, -0.1408746986005087, 18.000522759798958)\n",
      "Tracks are similar! do not open a new trk (-0.005461642692352523, 0.18205271011327862, 5.310566039015285) (-0.004074858082678494, -0.05035728639524536, 12.409670913549022)\n",
      "len(unique_polynoms) 2\n",
      "frame 46\n",
      "Number of point tracks before run() 470\n",
      "Number of extended tracks before run() 3\n"
     ]
    },
    {
     "name": "stderr",
     "output_type": "stream",
     "text": [
      "/home/kfir/workspace/RadarLocalization/tracker.py:63: VisibleDeprecationWarning: Creating an ndarray from ragged nested sequences (which is a list-or-tuple of lists-or-tuples-or ndarrays with different lengths or shapes) is deprecated. If you meant to do this, you must specify 'dtype=object' when creating the ndarray\n",
      "  Ha = np.array([1, zx, zx**2])\n",
      "/home/kfir/workspace/RadarLocalization/tracker.py:88: RuntimeWarning: divide by zero encountered in double_scalars\n",
      "  ratio = np.sqrt(lp)/le\n"
     ]
    },
    {
     "name": "stdout",
     "output_type": "stream",
     "text": [
      "Updating extended object track =  2\n",
      "Updating extended object track =  0\n",
      "Updating extended object track =  0\n",
      "Updating extended object track =  0\n",
      "Updating extended object track =  0\n",
      "Updating extended object track =  0\n",
      "Updating extended object track =  0\n",
      "Updating extended object track =  0\n",
      "Updating extended object track =  0\n",
      "Updating extended object track =  2\n",
      "Tracks are similar! do not open a new trk (-0.0005479875680901542, 0.017720628896546842, 0.5713116118486032) (-1.3679349838232331e-05, -0.001051117388140154, -0.20093300033421316)\n",
      "Opening flipped polynom!!!\n",
      "Tracks are similar! do not open a new trk (-0.009180858485797848, -0.049526861041193485, 40.60162928300197) (-0.00990162916587485, -0.020886515812918, 40.47426912673395)\n",
      "Tracks are similar! do not open a new trk (-0.005461642692352523, 0.18205271011327862, 5.310566039015285) (-0.0044537973733735576, 0.014305977585197676, 11.179012825169487)\n",
      "len(unique_polynoms) 2\n",
      "frame 47\n",
      "Number of point tracks before run() 474\n",
      "Number of extended tracks before run() 3\n"
     ]
    },
    {
     "name": "stderr",
     "output_type": "stream",
     "text": [
      "/home/kfir/workspace/RadarLocalization/tracker.py:63: VisibleDeprecationWarning: Creating an ndarray from ragged nested sequences (which is a list-or-tuple of lists-or-tuples-or ndarrays with different lengths or shapes) is deprecated. If you meant to do this, you must specify 'dtype=object' when creating the ndarray\n",
      "  Ha = np.array([1, zx, zx**2])\n",
      "/home/kfir/workspace/RadarLocalization/tracker.py:88: RuntimeWarning: divide by zero encountered in double_scalars\n",
      "  ratio = np.sqrt(lp)/le\n"
     ]
    },
    {
     "name": "stdout",
     "output_type": "stream",
     "text": [
      "Updating extended object track =  2\n",
      "Updating extended object track =  0\n",
      "Updating extended object track =  0\n",
      "Updating extended object track =  0\n",
      "Updating extended object track =  0\n",
      "Updating extended object track =  0\n",
      "Updating extended object track =  0\n",
      "Updating extended object track =  1\n",
      "Updating extended object track =  0\n",
      "Updating extended object track =  0\n",
      "Updating extended object track =  1\n",
      "Updating extended object track =  0\n",
      "Updating extended object track =  1\n",
      "Tracks are similar! do not open a new trk (-0.0005473343788855281, 0.017693464884167367, 0.5711609367516531) (4.0290174486512345e-05, -0.0025158363238206994, -0.20275362927236654)\n",
      "Opening flipped polynom!!!\n",
      "Tracks are similar! do not open a new trk (-0.009185487551253082, -0.04935389600019148, 40.600523580232306) (-0.009868495186065706, -0.02162886671076636, 40.460367528014295)\n",
      "Tracks are similar! do not open a new trk (-0.005457523850734323, 0.18173776966104407, 5.314271314024716) (-0.004394013999377463, 0.029237910173995546, 9.182616168617331)\n",
      "len(unique_polynoms) 3\n",
      "frame 48\n",
      "Number of point tracks before run() 474\n",
      "Number of extended tracks before run() 3\n"
     ]
    },
    {
     "name": "stderr",
     "output_type": "stream",
     "text": [
      "/home/kfir/workspace/RadarLocalization/tracker.py:63: VisibleDeprecationWarning: Creating an ndarray from ragged nested sequences (which is a list-or-tuple of lists-or-tuples-or ndarrays with different lengths or shapes) is deprecated. If you meant to do this, you must specify 'dtype=object' when creating the ndarray\n",
      "  Ha = np.array([1, zx, zx**2])\n",
      "/home/kfir/workspace/RadarLocalization/tracker.py:88: RuntimeWarning: divide by zero encountered in double_scalars\n",
      "  ratio = np.sqrt(lp)/le\n"
     ]
    },
    {
     "name": "stdout",
     "output_type": "stream",
     "text": [
      "Updating extended object track =  2\n",
      "Updating extended object track =  2\n",
      "Updating extended object track =  0\n",
      "Updating extended object track =  0\n",
      "Updating extended object track =  0\n",
      "Updating extended object track =  0\n",
      "Updating extended object track =  0\n",
      "Updating extended object track =  0\n",
      "Updating extended object track =  0\n",
      "Updating extended object track =  1\n",
      "Updating extended object track =  0\n",
      "Updating extended object track =  0\n",
      "Tracks are similar! do not open a new trk (-0.0005490120546529093, 0.01775714876873997, 0.5710740831268136) (0.000184680602792587, -0.0027801705615269575, -0.03294753029012412)\n",
      "Opening flipped polynom!!!\n",
      "Tracks are similar! do not open a new trk (-0.009192233518875638, -0.048783445967941694, 40.59161717143493) (-0.010048698304307496, -0.004972318812513009, 40.186753193715006)\n",
      "Tracks are similar! do not open a new trk (-0.005458015794859588, 0.18182500737293783, 5.312273744151557) (-0.004394013999377463, 0.029237910173995546, 9.182616168617331)\n",
      "Opening flipped polynom!!!\n",
      "Tracks are similar! do not open a new trk (-0.009192233518875638, -0.048783445967941694, 40.59161717143493) (-0.010272774700434816, -0.002082571253214687, 39.115378033669046)\n",
      "Tracks are similar! do not open a new trk (-0.005458015794859588, 0.18182500737293783, 5.312273744151557) (-0.004931362780821836, 0.11770545470408884, 3.86164668018796)\n",
      "len(unique_polynoms) 3\n",
      "frame 49\n",
      "Number of point tracks before run() 479\n",
      "Number of extended tracks before run() 3\n"
     ]
    },
    {
     "name": "stderr",
     "output_type": "stream",
     "text": [
      "/home/kfir/workspace/RadarLocalization/tracker.py:63: VisibleDeprecationWarning: Creating an ndarray from ragged nested sequences (which is a list-or-tuple of lists-or-tuples-or ndarrays with different lengths or shapes) is deprecated. If you meant to do this, you must specify 'dtype=object' when creating the ndarray\n",
      "  Ha = np.array([1, zx, zx**2])\n",
      "/home/kfir/workspace/RadarLocalization/tracker.py:88: RuntimeWarning: divide by zero encountered in double_scalars\n",
      "  ratio = np.sqrt(lp)/le\n"
     ]
    },
    {
     "name": "stdout",
     "output_type": "stream",
     "text": [
      "Updating extended object track =  2\n",
      "Updating extended object track =  2\n",
      "Updating extended object track =  0\n",
      "Updating extended object track =  0\n",
      "Updating extended object track =  2\n",
      "Updating extended object track =  0\n",
      "Updating extended object track =  0\n",
      "Updating extended object track =  1\n",
      "Updating extended object track =  0\n",
      "Updating extended object track =  0\n",
      "Updating extended object track =  1\n",
      "Updating extended object track =  0\n",
      "Updating extended object track =  2\n",
      "Updating extended object track =  1\n",
      "Tracks are similar! do not open a new trk (-0.0005359137667605846, 0.01728365675264068, 0.5725608518612803) (0.0001310345595171537, -0.002260361740358125, -0.020289930286184563)\n",
      "Opening flipped polynom!!!\n",
      "Tracks are similar! do not open a new trk (-0.00919004933924504, -0.04881473962458248, 40.589901431741374) (-0.009998856312179167, -0.007423248999722348, 40.20777608403057)\n",
      "Tracks are similar! do not open a new trk (-0.005457649686062886, 0.1817095648075309, 5.3169556034053125) (-0.004583520550023199, 0.07727116551610655, 8.586665582701718)\n",
      "Tracks are similar! do not open a new trk (-0.005457649686062886, 0.1817095648075309, 5.3169556034053125) (-0.004381814442915042, 0.041405328781346985, 8.385085908536674)\n",
      "Opening flipped polynom!!!\n",
      "Tracks are similar! do not open a new trk (-0.00919004933924504, -0.04881473962458248, 40.589901431741374) (-0.010100989501425843, -0.004224706817224733, 38.978959389449095)\n",
      "Tracks are similar! do not open a new trk (-0.005457649686062886, 0.1817095648075309, 5.3169556034053125) (-0.003772177937970837, -0.02758352553251965, 13.207056419832485)\n",
      "len(unique_polynoms) 3\n",
      "frame 50\n",
      "Number of point tracks before run() 477\n",
      "Number of extended tracks before run() 3\n"
     ]
    },
    {
     "name": "stderr",
     "output_type": "stream",
     "text": [
      "/home/kfir/workspace/RadarLocalization/tracker.py:63: VisibleDeprecationWarning: Creating an ndarray from ragged nested sequences (which is a list-or-tuple of lists-or-tuples-or ndarrays with different lengths or shapes) is deprecated. If you meant to do this, you must specify 'dtype=object' when creating the ndarray\n",
      "  Ha = np.array([1, zx, zx**2])\n",
      "/home/kfir/workspace/RadarLocalization/tracker.py:88: RuntimeWarning: divide by zero encountered in double_scalars\n",
      "  ratio = np.sqrt(lp)/le\n"
     ]
    },
    {
     "name": "stdout",
     "output_type": "stream",
     "text": [
      "Updating extended object track =  2\n",
      "Updating extended object track =  0\n",
      "Updating extended object track =  0\n",
      "Updating extended object track =  0\n",
      "Updating extended object track =  0\n",
      "Updating extended object track =  0\n",
      "Updating extended object track =  0\n",
      "Updating extended object track =  1\n",
      "Updating extended object track =  2\n",
      "Updating extended object track =  1\n",
      "Tracks are similar! do not open a new trk (-0.0005409395967227328, 0.01731021791108132, 0.5729786237143498) (0.0003122066492463547, -0.005262361459761689, 0.16270044067329256)\n",
      "Opening flipped polynom!!!\n",
      "Tracks are similar! do not open a new trk (-0.00918752651028083, -0.04889816519198535, 40.590299160341296) (-0.010366405324421667, 0.02577910828127632, 39.65497163001678)\n",
      "Tracks are similar! do not open a new trk (-0.005460375376897107, 0.1819394355457589, 5.316577288907362) (-0.004583520550023199, 0.07727116551610655, 8.586665582701718)\n",
      "len(unique_polynoms) 3\n",
      "frame 51\n",
      "Number of point tracks before run() 472\n",
      "Number of extended tracks before run() 3\n"
     ]
    },
    {
     "name": "stderr",
     "output_type": "stream",
     "text": [
      "/home/kfir/workspace/RadarLocalization/tracker.py:63: VisibleDeprecationWarning: Creating an ndarray from ragged nested sequences (which is a list-or-tuple of lists-or-tuples-or ndarrays with different lengths or shapes) is deprecated. If you meant to do this, you must specify 'dtype=object' when creating the ndarray\n",
      "  Ha = np.array([1, zx, zx**2])\n",
      "/home/kfir/workspace/RadarLocalization/tracker.py:88: RuntimeWarning: divide by zero encountered in double_scalars\n",
      "  ratio = np.sqrt(lp)/le\n"
     ]
    },
    {
     "name": "stdout",
     "output_type": "stream",
     "text": [
      "Updating extended object track =  2\n",
      "Updating extended object track =  2\n",
      "Updating extended object track =  2\n",
      "Updating extended object track =  0\n",
      "Updating extended object track =  0\n",
      "Updating extended object track =  0\n",
      "Updating extended object track =  0\n",
      "Updating extended object track =  0\n",
      "Updating extended object track =  0\n",
      "Updating extended object track =  2\n",
      "Tracks are similar! do not open a new trk (-0.0005441672556137557, 0.017465756614109283, 0.5727663547950433) (0.0001791031188664659, -0.001934924390868817, -0.02048537106712739)\n",
      "Opening flipped polynom!!!\n",
      "Tracks are similar! do not open a new trk (-0.009188579406063713, -0.048830313775441246, 40.58969169833037) (-0.010161348896121653, 0.018137491735978593, 39.84133466311113)\n",
      "Tracks are similar! do not open a new trk (-0.005460375376897107, 0.1819394355457589, 5.316577288907362) (-0.00450692074714638, 0.012877630522485235, 12.173060838845421)\n",
      "Tracks are similar! do not open a new trk (-0.005460375376897107, 0.1819394355457589, 5.316577288907362) (-0.0038367329181753403, -0.07483096484942564, 13.355828178655019)\n",
      "len(unique_polynoms) 2\n",
      "frame 52\n",
      "Number of point tracks before run() 476\n",
      "Number of extended tracks before run() 3\n"
     ]
    },
    {
     "name": "stderr",
     "output_type": "stream",
     "text": [
      "/home/kfir/workspace/RadarLocalization/tracker.py:63: VisibleDeprecationWarning: Creating an ndarray from ragged nested sequences (which is a list-or-tuple of lists-or-tuples-or ndarrays with different lengths or shapes) is deprecated. If you meant to do this, you must specify 'dtype=object' when creating the ndarray\n",
      "  Ha = np.array([1, zx, zx**2])\n",
      "/home/kfir/workspace/RadarLocalization/tracker.py:88: RuntimeWarning: divide by zero encountered in double_scalars\n",
      "  ratio = np.sqrt(lp)/le\n"
     ]
    },
    {
     "name": "stdout",
     "output_type": "stream",
     "text": [
      "Updating extended object track =  2\n",
      "Updating extended object track =  0\n",
      "Updating extended object track =  0\n",
      "Updating extended object track =  0\n",
      "Updating extended object track =  0\n",
      "Updating extended object track =  2\n",
      "Updating extended object track =  0\n",
      "Updating extended object track =  1\n",
      "Updating extended object track =  2\n",
      "Tracks are similar! do not open a new trk (-0.0005466056936110407, 0.017574755945510192, 0.572497162204902) (0.0001291240533781419, 0.0009140239491020417, 0.16038129324276418)\n",
      "len(unique_polynoms) 3\n",
      "frame 53\n",
      "Number of point tracks before run() 475\n",
      "Number of extended tracks before run() 3\n"
     ]
    },
    {
     "name": "stderr",
     "output_type": "stream",
     "text": [
      "/home/kfir/workspace/RadarLocalization/tracker.py:63: VisibleDeprecationWarning: Creating an ndarray from ragged nested sequences (which is a list-or-tuple of lists-or-tuples-or ndarrays with different lengths or shapes) is deprecated. If you meant to do this, you must specify 'dtype=object' when creating the ndarray\n",
      "  Ha = np.array([1, zx, zx**2])\n",
      "/home/kfir/workspace/RadarLocalization/tracker.py:88: RuntimeWarning: divide by zero encountered in double_scalars\n",
      "  ratio = np.sqrt(lp)/le\n"
     ]
    },
    {
     "name": "stdout",
     "output_type": "stream",
     "text": [
      "Updating extended object track =  2\n",
      "Updating extended object track =  0\n",
      "Updating extended object track =  0\n",
      "Updating extended object track =  0\n",
      "Updating extended object track =  0\n",
      "Updating extended object track =  0\n",
      "Updating extended object track =  1\n",
      "Updating extended object track =  1\n",
      "Updating extended object track =  0\n",
      "Tracks are similar! do not open a new trk (-0.0005488345331859081, 0.017625072695764653, 0.5733417643218132) (5.6351084364579385e-05, 0.0027851140266639046, 0.1785511813582702)\n",
      "Opening flipped polynom!!!\n",
      "Tracks are similar! do not open a new trk (-0.009191204192359852, -0.04859411172498203, 40.58572116365712) (-0.010313798884280415, 0.025658493595454898, 39.70122443922384)\n",
      "Tracks are similar! do not open a new trk (-0.005462200353120151, 0.18207952222552762, 5.316998925513463) (-0.00455986698884383, 0.010966805621852798, 12.571389287048468)\n",
      "len(unique_polynoms) 3\n",
      "frame 54\n",
      "Number of point tracks before run() 471\n",
      "Number of extended tracks before run() 3\n"
     ]
    },
    {
     "name": "stderr",
     "output_type": "stream",
     "text": [
      "/home/kfir/workspace/RadarLocalization/tracker.py:63: VisibleDeprecationWarning: Creating an ndarray from ragged nested sequences (which is a list-or-tuple of lists-or-tuples-or ndarrays with different lengths or shapes) is deprecated. If you meant to do this, you must specify 'dtype=object' when creating the ndarray\n",
      "  Ha = np.array([1, zx, zx**2])\n",
      "/home/kfir/workspace/RadarLocalization/tracker.py:88: RuntimeWarning: divide by zero encountered in double_scalars\n",
      "  ratio = np.sqrt(lp)/le\n"
     ]
    },
    {
     "name": "stdout",
     "output_type": "stream",
     "text": [
      "Updating extended object track =  0\n",
      "Updating extended object track =  0\n",
      "Updating extended object track =  2\n",
      "Updating extended object track =  2\n",
      "Tracks are similar! do not open a new trk (-0.0005546696108242033, 0.017702703753849764, 0.5739333815767046) (-0.00017928019961770152, 0.009884276557625585, 0.1875066914530808)\n",
      "Opening flipped polynom!!!\n",
      "Tracks are similar! do not open a new trk (-0.009187712088785546, -0.04876798400947432, 40.58698230540738) (-0.010047078227775293, 0.006261835184560656, 39.997068230569965)\n",
      "Tracks are similar! do not open a new trk (-0.005462200353120151, 0.18207952222552762, 5.316998925513463) (-0.004461394933128646, -0.002705786237723961, 13.010605446228547)\n",
      "len(unique_polynoms) 2\n",
      "frame 55\n",
      "Number of point tracks before run() 475\n",
      "Number of extended tracks before run() 3\n"
     ]
    },
    {
     "name": "stderr",
     "output_type": "stream",
     "text": [
      "/home/kfir/workspace/RadarLocalization/tracker.py:63: VisibleDeprecationWarning: Creating an ndarray from ragged nested sequences (which is a list-or-tuple of lists-or-tuples-or ndarrays with different lengths or shapes) is deprecated. If you meant to do this, you must specify 'dtype=object' when creating the ndarray\n",
      "  Ha = np.array([1, zx, zx**2])\n",
      "/home/kfir/workspace/RadarLocalization/tracker.py:88: RuntimeWarning: divide by zero encountered in double_scalars\n",
      "  ratio = np.sqrt(lp)/le\n"
     ]
    },
    {
     "name": "stdout",
     "output_type": "stream",
     "text": [
      "Updating extended object track =  2\n",
      "Updating extended object track =  2\n",
      "Updating extended object track =  0\n",
      "Updating extended object track =  0\n",
      "Updating extended object track =  2\n",
      "Updating extended object track =  2\n",
      "Updating extended object track =  2\n",
      "Updating extended object track =  1\n",
      "Tracks are similar! do not open a new trk (-0.0005469643586217644, 0.017517965783743497, 0.5723120215716829) (-0.00013970730340516832, 0.00866033704126661, 0.18865272786517948)\n",
      "Opening flipped polynom!!!\n",
      "Tracks are similar! do not open a new trk (-0.009185072082449378, -0.048913604933596165, 40.58927866352111) (-0.010309385816095175, 0.025494654939162236, 39.702217433018546)\n",
      "Tracks are similar! do not open a new trk (-0.005461972021569534, 0.1820549567410379, 5.3173647057116336) (-0.004082352591886343, -0.050897256181156196, 14.490491486406174)\n",
      "len(unique_polynoms) 3\n",
      "frame 56\n",
      "Number of point tracks before run() 469\n",
      "Number of extended tracks before run() 3\n"
     ]
    },
    {
     "name": "stderr",
     "output_type": "stream",
     "text": [
      "/home/kfir/workspace/RadarLocalization/tracker.py:63: VisibleDeprecationWarning: Creating an ndarray from ragged nested sequences (which is a list-or-tuple of lists-or-tuples-or ndarrays with different lengths or shapes) is deprecated. If you meant to do this, you must specify 'dtype=object' when creating the ndarray\n",
      "  Ha = np.array([1, zx, zx**2])\n",
      "/home/kfir/workspace/RadarLocalization/tracker.py:88: RuntimeWarning: divide by zero encountered in double_scalars\n",
      "  ratio = np.sqrt(lp)/le\n"
     ]
    },
    {
     "name": "stdout",
     "output_type": "stream",
     "text": [
      "Updating extended object track =  2\n",
      "Updating extended object track =  0\n",
      "Updating extended object track =  0\n",
      "Updating extended object track =  0\n",
      "Updating extended object track =  0\n",
      "Updating extended object track =  0\n",
      "Updating extended object track =  0\n",
      "Updating extended object track =  0\n",
      "Updating extended object track =  0\n",
      "Updating extended object track =  0\n",
      "Updating extended object track =  0\n",
      "Updating extended object track =  2\n",
      "Updating extended object track =  0\n",
      "Updating extended object track =  0\n",
      "Updating extended object track =  1\n",
      "Tracks are similar! do not open a new trk (-0.0005449411445726663, 0.01747104895485769, 0.5715874443972495) (-5.420717946950162e-05, 0.010640729653450453, 0.311505124216783)\n",
      "Opening flipped polynom!!!\n",
      "Tracks are similar! do not open a new trk (-0.009184824054588269, -0.04869774207777701, 40.5846572503615) (-0.010204354255715966, -0.007614316088858732, 40.35252748474806)\n",
      "Tracks are similar! do not open a new trk (-0.005462808270392888, 0.18212896151325644, 5.31702841736485) (-0.004141477400084691, -0.04195088437029418, 14.002896205209083)\n",
      "len(unique_polynoms) 3\n",
      "frame 57\n",
      "Number of point tracks before run() 470\n",
      "Number of extended tracks before run() 3\n"
     ]
    },
    {
     "name": "stderr",
     "output_type": "stream",
     "text": [
      "/home/kfir/workspace/RadarLocalization/tracker.py:63: VisibleDeprecationWarning: Creating an ndarray from ragged nested sequences (which is a list-or-tuple of lists-or-tuples-or ndarrays with different lengths or shapes) is deprecated. If you meant to do this, you must specify 'dtype=object' when creating the ndarray\n",
      "  Ha = np.array([1, zx, zx**2])\n",
      "/home/kfir/workspace/RadarLocalization/tracker.py:88: RuntimeWarning: divide by zero encountered in double_scalars\n",
      "  ratio = np.sqrt(lp)/le\n"
     ]
    },
    {
     "name": "stdout",
     "output_type": "stream",
     "text": [
      "Updating extended object track =  2\n",
      "Updating extended object track =  0\n",
      "Updating extended object track =  0\n",
      "Updating extended object track =  0\n",
      "Updating extended object track =  0\n",
      "Updating extended object track =  0\n",
      "Updating extended object track =  0\n",
      "Updating extended object track =  2\n",
      "Updating extended object track =  0\n",
      "Updating extended object track =  0\n",
      "Updating extended object track =  0\n",
      "Updating extended object track =  0\n",
      "Tracks are similar! do not open a new trk (-0.0005515404415034923, 0.017690745998168965, 0.5732433070047719) (-1.098205035718933e-05, 0.007872493129811666, 0.3503790514195601)\n",
      "Opening flipped polynom!!!\n",
      "Tracks are similar! do not open a new trk (-0.009194724132715578, -0.04841592997844321, 40.5827684989766) (-0.009996896166176725, 0.0011288821254156864, 40.06309432825477)\n",
      "len(unique_polynoms) 2\n",
      "frame 58\n",
      "Number of point tracks before run() 482\n",
      "Number of extended tracks before run() 3\n"
     ]
    },
    {
     "name": "stderr",
     "output_type": "stream",
     "text": [
      "/home/kfir/workspace/RadarLocalization/tracker.py:63: VisibleDeprecationWarning: Creating an ndarray from ragged nested sequences (which is a list-or-tuple of lists-or-tuples-or ndarrays with different lengths or shapes) is deprecated. If you meant to do this, you must specify 'dtype=object' when creating the ndarray\n",
      "  Ha = np.array([1, zx, zx**2])\n",
      "/home/kfir/workspace/RadarLocalization/tracker.py:88: RuntimeWarning: divide by zero encountered in double_scalars\n",
      "  ratio = np.sqrt(lp)/le\n"
     ]
    },
    {
     "name": "stdout",
     "output_type": "stream",
     "text": [
      "Updating extended object track =  2\n",
      "Updating extended object track =  2\n",
      "Updating extended object track =  2\n",
      "Updating extended object track =  0\n",
      "Updating extended object track =  2\n",
      "Updating extended object track =  0\n",
      "Updating extended object track =  0\n",
      "Updating extended object track =  0\n",
      "Updating extended object track =  0\n",
      "Updating extended object track =  0\n",
      "Updating extended object track =  0\n",
      "Updating extended object track =  0\n",
      "Updating extended object track =  0\n",
      "Updating extended object track =  0\n",
      "Updating extended object track =  0\n",
      "Updating extended object track =  1\n",
      "Updating extended object track =  1\n",
      "Updating extended object track =  0\n",
      "Tracks are similar! do not open a new trk (-0.0005563251686294501, 0.017854682359412438, 0.57404103998139) (0.00013190832948806002, 0.004943509330209648, 0.4708902924416062)\n",
      "Opening flipped polynom!!!\n",
      "Tracks are similar! do not open a new trk (-0.009193288453446335, -0.048565735499944224, 40.58473024561934) (-0.010093372560116009, -0.003992712668148943, 40.26494118543692)\n",
      "Tracks are similar! do not open a new trk (-0.0005563251686294501, 0.017854682359412438, 0.57404103998139) (0.0006550495591479567, -0.023924142602024183, -0.9999457530317372)\n",
      "Tracks are similar! do not open a new trk (-0.005459347820953716, 0.18182831571506008, 5.318284267840701) (-0.003859901839035004, -0.07975330191236861, 15.178552160988257)\n",
      "len(unique_polynoms) 3\n",
      "frame 59\n",
      "Number of point tracks before run() 480\n",
      "Number of extended tracks before run() 3\n"
     ]
    },
    {
     "name": "stderr",
     "output_type": "stream",
     "text": [
      "/home/kfir/workspace/RadarLocalization/tracker.py:63: VisibleDeprecationWarning: Creating an ndarray from ragged nested sequences (which is a list-or-tuple of lists-or-tuples-or ndarrays with different lengths or shapes) is deprecated. If you meant to do this, you must specify 'dtype=object' when creating the ndarray\n",
      "  Ha = np.array([1, zx, zx**2])\n",
      "/home/kfir/workspace/RadarLocalization/tracker.py:88: RuntimeWarning: divide by zero encountered in double_scalars\n",
      "  ratio = np.sqrt(lp)/le\n"
     ]
    },
    {
     "name": "stdout",
     "output_type": "stream",
     "text": [
      "Updating extended object track =  2\n",
      "Updating extended object track =  2\n",
      "Updating extended object track =  0\n",
      "Updating extended object track =  0\n",
      "Updating extended object track =  2\n",
      "Updating extended object track =  0\n",
      "Updating extended object track =  2\n",
      "Updating extended object track =  2\n",
      "Updating extended object track =  1\n",
      "Tracks are similar! do not open a new trk (-0.0005645094910679421, 0.01799988485505073, 0.5750505179317132) (0.0001468379262504496, 0.006084472109417623, 0.46676202475512724)\n",
      "Opening flipped polynom!!!\n",
      "Tracks are similar! do not open a new trk (-0.009189947223068465, -0.0487322012925013, 40.58583012347745) (-0.009934292709127105, -0.0016014540357739719, 40.08365876213586)\n",
      "Tracks are similar! do not open a new trk (-0.0005645094910679421, 0.01799988485505073, 0.5750505179317132) (0.0006124056146780008, -0.02289589318149092, -0.9953771110366285)\n",
      "Tracks are similar! do not open a new trk (-0.005454416171230414, 0.18147165769858287, 5.322080342153994) (-0.004454976366682279, 0.08084405051168811, 8.693787534382036)\n",
      "len(unique_polynoms) 3\n",
      "frame 60\n",
      "Number of point tracks before run() 472\n",
      "Number of extended tracks before run() 3\n"
     ]
    },
    {
     "name": "stderr",
     "output_type": "stream",
     "text": [
      "/home/kfir/workspace/RadarLocalization/tracker.py:63: VisibleDeprecationWarning: Creating an ndarray from ragged nested sequences (which is a list-or-tuple of lists-or-tuples-or ndarrays with different lengths or shapes) is deprecated. If you meant to do this, you must specify 'dtype=object' when creating the ndarray\n",
      "  Ha = np.array([1, zx, zx**2])\n",
      "/home/kfir/workspace/RadarLocalization/tracker.py:88: RuntimeWarning: divide by zero encountered in double_scalars\n",
      "  ratio = np.sqrt(lp)/le\n"
     ]
    },
    {
     "name": "stdout",
     "output_type": "stream",
     "text": [
      "Updating extended object track =  2\n",
      "Updating extended object track =  2\n",
      "Updating extended object track =  0\n",
      "Updating extended object track =  0\n",
      "Updating extended object track =  0\n",
      "Updating extended object track =  0\n",
      "Updating extended object track =  2\n",
      "Tracks are similar! do not open a new trk (-0.000572498622505755, 0.01830457681985817, 0.5739374476185772) (5.124932407073718e-05, 0.006998071461652321, 0.32181075851325636)\n",
      "Opening flipped polynom!!!\n",
      "Tracks are similar! do not open a new trk (-0.009187596792457581, -0.048845135693206074, 40.58635279872261) (-0.010187804338569716, -0.0002141079428927296, 40.23721036613955)\n",
      "len(unique_polynoms) 2\n",
      "frame 61\n",
      "Number of point tracks before run() 475\n",
      "Number of extended tracks before run() 3\n"
     ]
    },
    {
     "name": "stderr",
     "output_type": "stream",
     "text": [
      "/home/kfir/workspace/RadarLocalization/tracker.py:63: VisibleDeprecationWarning: Creating an ndarray from ragged nested sequences (which is a list-or-tuple of lists-or-tuples-or ndarrays with different lengths or shapes) is deprecated. If you meant to do this, you must specify 'dtype=object' when creating the ndarray\n",
      "  Ha = np.array([1, zx, zx**2])\n",
      "/home/kfir/workspace/RadarLocalization/tracker.py:88: RuntimeWarning: divide by zero encountered in double_scalars\n",
      "  ratio = np.sqrt(lp)/le\n"
     ]
    },
    {
     "name": "stdout",
     "output_type": "stream",
     "text": [
      "Updating extended object track =  2\n",
      "Updating extended object track =  0\n",
      "Tracks are similar! do not open a new trk (-0.000571960956151265, 0.01828068699327108, 0.5738311249932782) (0.00011697242767035092, 0.006026823102242725, 0.2904951036190352)\n",
      "Opening flipped polynom!!!\n",
      "Tracks are similar! do not open a new trk (-0.009190140019085403, -0.04869865083749106, 40.58441182460786) (-0.009992656678191448, -0.010202830061702707, 40.362105045378755)\n",
      "Tracks are similar! do not open a new trk (-0.000571960956151265, 0.01828068699327108, 0.5738311249932782) (0.0005997512053258288, -0.022126974892675795, -0.9997550227304813)\n",
      "Tracks are similar! do not open a new trk (-0.005454416171230414, 0.18147165769858287, 5.322080342153994) (-0.003873673764739699, -0.04925276937682938, 11.873574516895879)\n",
      "Tracks are similar! do not open a new trk (-0.005454416171230414, 0.18147165769858287, 5.322080342153994) (-0.0035930561756454767, -0.07903378069807526, 13.955877678311476)\n",
      "Opening flipped polynom!!!\n",
      "Tracks are similar! do not open a new trk (-0.009190140019085403, -0.04869865083749106, 40.58441182460786) (-0.01018626516371076, -0.004297838847983046, 39.30825949554112)\n",
      "len(unique_polynoms) 2\n",
      "frame 62\n",
      "Number of point tracks before run() 475\n",
      "Number of extended tracks before run() 3\n"
     ]
    },
    {
     "name": "stderr",
     "output_type": "stream",
     "text": [
      "/home/kfir/workspace/RadarLocalization/tracker.py:63: VisibleDeprecationWarning: Creating an ndarray from ragged nested sequences (which is a list-or-tuple of lists-or-tuples-or ndarrays with different lengths or shapes) is deprecated. If you meant to do this, you must specify 'dtype=object' when creating the ndarray\n",
      "  Ha = np.array([1, zx, zx**2])\n",
      "/home/kfir/workspace/RadarLocalization/tracker.py:88: RuntimeWarning: divide by zero encountered in double_scalars\n",
      "  ratio = np.sqrt(lp)/le\n"
     ]
    },
    {
     "name": "stdout",
     "output_type": "stream",
     "text": [
      "Updating extended object track =  2\n",
      "Updating extended object track =  0\n",
      "Updating extended object track =  0\n",
      "Updating extended object track =  0\n",
      "Updating extended object track =  0\n",
      "Updating extended object track =  0\n",
      "Updating extended object track =  1\n",
      "Updating extended object track =  1\n",
      "Updating extended object track =  0\n",
      "Updating extended object track =  1\n",
      "Tracks are similar! do not open a new trk (-0.0005674408193971072, 0.018034874264776752, 0.5766176304259435) (2.9185748756603742e-05, -0.00014104897595795628, 0.030433834357011344)\n",
      "Opening flipped polynom!!!\n",
      "Tracks are similar! do not open a new trk (-0.00918716677223264, -0.04877974266084992, 40.5852563327141) (-0.009915905296427347, -0.011180232985670455, 40.231448026189156)\n",
      "Tracks are similar! do not open a new trk (-0.00545833762440677, 0.18187071931336793, 5.315333162536642) (-0.003247604619201015, -0.11305858056189318, 14.478230160952355)\n",
      "Tracks are similar! do not open a new trk (-0.00545833762440677, 0.18187071931336793, 5.315333162536642) (-0.0036401286889521356, -0.06603533167293521, 11.79920394001773)\n",
      "len(unique_polynoms) 3\n",
      "frame 63\n",
      "Number of point tracks before run() 479\n",
      "Number of extended tracks before run() 3\n"
     ]
    },
    {
     "name": "stderr",
     "output_type": "stream",
     "text": [
      "/home/kfir/workspace/RadarLocalization/tracker.py:63: VisibleDeprecationWarning: Creating an ndarray from ragged nested sequences (which is a list-or-tuple of lists-or-tuples-or ndarrays with different lengths or shapes) is deprecated. If you meant to do this, you must specify 'dtype=object' when creating the ndarray\n",
      "  Ha = np.array([1, zx, zx**2])\n",
      "/home/kfir/workspace/RadarLocalization/tracker.py:88: RuntimeWarning: divide by zero encountered in double_scalars\n",
      "  ratio = np.sqrt(lp)/le\n"
     ]
    },
    {
     "name": "stdout",
     "output_type": "stream",
     "text": [
      "Updating extended object track =  2\n",
      "Updating extended object track =  2\n",
      "Updating extended object track =  0\n",
      "Updating extended object track =  0\n",
      "Updating extended object track =  0\n",
      "Updating extended object track =  0\n",
      "Updating extended object track =  0\n",
      "Updating extended object track =  0\n",
      "Updating extended object track =  1\n",
      "Tracks are similar! do not open a new trk (-0.0005692687474318606, 0.018074579366649378, 0.5773773364975078) (6.73899518693481e-05, -0.0024929843012433104, 0.05549432120997603)\n",
      "Opening flipped polynom!!!\n",
      "Tracks are similar! do not open a new trk (-0.00918916634005488, -0.04856126868980544, 40.58123292494478) (-0.009744304791278711, -0.02808548073099387, 40.521198476048404)\n",
      "Tracks are similar! do not open a new trk (-0.005460159049578946, 0.1820152071528709, 5.31344816153833) (-0.00327476168584141, -0.12015316195702119, 15.035857976470947)\n",
      "Tracks are similar! do not open a new trk (-0.005460159049578946, 0.1820152071528709, 5.31344816153833) (-0.003953966286558484, -0.03384151457314136, 10.969628457325056)\n",
      "Tracks are similar! do not open a new trk (-0.0005692687474318606, 0.018074579366649378, 0.5773773364975078) (0.00011836650525343666, -0.006619180849608847, -1.3217830446531158)\n",
      "len(unique_polynoms) 3\n",
      "frame 64\n",
      "Number of point tracks before run() 488\n",
      "Number of extended tracks before run() 3\n"
     ]
    },
    {
     "name": "stderr",
     "output_type": "stream",
     "text": [
      "/home/kfir/workspace/RadarLocalization/tracker.py:63: VisibleDeprecationWarning: Creating an ndarray from ragged nested sequences (which is a list-or-tuple of lists-or-tuples-or ndarrays with different lengths or shapes) is deprecated. If you meant to do this, you must specify 'dtype=object' when creating the ndarray\n",
      "  Ha = np.array([1, zx, zx**2])\n",
      "/home/kfir/workspace/RadarLocalization/tracker.py:88: RuntimeWarning: divide by zero encountered in double_scalars\n",
      "  ratio = np.sqrt(lp)/le\n"
     ]
    },
    {
     "name": "stdout",
     "output_type": "stream",
     "text": [
      "Updating extended object track =  2\n",
      "Updating extended object track =  2\n",
      "Updating extended object track =  0\n",
      "Updating extended object track =  0\n",
      "Updating extended object track =  0\n",
      "Updating extended object track =  0\n",
      "Updating extended object track =  0\n",
      "Updating extended object track =  0\n",
      "Updating extended object track =  0\n",
      "Updating extended object track =  1\n",
      "Updating extended object track =  0\n",
      "Tracks are similar! do not open a new trk (-0.0005726103392744396, 0.018163627534552588, 0.5781685312032178) (-2.363526114086119e-06, 0.0015089546392283804, 0.22158095610048395)\n",
      "Opening flipped polynom!!!\n",
      "Tracks are similar! do not open a new trk (-0.009183438636803576, -0.04889887391573823, 40.58518275976054) (-0.009858265324120232, -0.013839894931585198, 40.25482019204746)\n",
      "Tracks are similar! do not open a new trk (-0.0005726103392744396, 0.018163627534552588, 0.5781685312032178) (6.868138447836606e-05, -0.009047405577617117, -1.1011598911463762)\n",
      "Tracks are similar! do not open a new trk (-0.005460098914150172, 0.18202939302958965, 5.312834065965809) (-0.003633911375019761, -0.05855241312694583, 11.90861264155898)\n",
      "Tracks are similar! do not open a new trk (-0.005460098914150172, 0.18202939302958965, 5.312834065965809) (-0.004662450049120877, 0.07732320155659775, 9.267619002576453)\n",
      "Tracks are similar! do not open a new trk (-0.005460098914150172, 0.18202939302958965, 5.312834065965809) (-0.004331136491682208, 0.036744170129325564, 7.4648818351532515)\n",
      "len(unique_polynoms) 3\n",
      "frame 65\n",
      "Number of point tracks before run() 497\n",
      "Number of extended tracks before run() 3\n"
     ]
    },
    {
     "name": "stderr",
     "output_type": "stream",
     "text": [
      "/home/kfir/workspace/RadarLocalization/tracker.py:63: VisibleDeprecationWarning: Creating an ndarray from ragged nested sequences (which is a list-or-tuple of lists-or-tuples-or ndarrays with different lengths or shapes) is deprecated. If you meant to do this, you must specify 'dtype=object' when creating the ndarray\n",
      "  Ha = np.array([1, zx, zx**2])\n",
      "/home/kfir/workspace/RadarLocalization/tracker.py:88: RuntimeWarning: divide by zero encountered in double_scalars\n",
      "  ratio = np.sqrt(lp)/le\n"
     ]
    },
    {
     "name": "stdout",
     "output_type": "stream",
     "text": [
      "Updating extended object track =  2\n",
      "Updating extended object track =  2\n",
      "Updating extended object track =  0\n",
      "Updating extended object track =  0\n",
      "Updating extended object track =  2\n",
      "Updating extended object track =  0\n",
      "Updating extended object track =  1\n",
      "Updating extended object track =  0\n",
      "Updating extended object track =  1\n",
      "Tracks are similar! do not open a new trk (-0.000567594800093659, 0.017892204852934877, 0.578911757824577) (0.00012692097440825565, -0.003190737042601209, 0.2190531296736236)\n",
      "Opening flipped polynom!!!\n",
      "Tracks are similar! do not open a new trk (-0.009185917867350488, -0.04878717195052901, 40.58487366669516) (-0.009840833047873098, -0.014560342714539879, 40.260087092386925)\n",
      "Tracks are similar! do not open a new trk (-0.000567594800093659, 0.017892204852934877, 0.578911757824577) (-0.0001788599964772235, 0.001699999439172498, -1.163036336095976)\n",
      "Tracks are similar! do not open a new trk (-0.005453622130909027, 0.18154359794188887, 5.314168306954832) (-0.003182647149927793, -0.13532974809785367, 15.648040676830531)\n",
      "Tracks are similar! do not open a new trk (-0.005453622130909027, 0.18154359794188887, 5.314168306954832) (-0.004041504958959025, 0.0004317686247064782, 12.12374136264829)\n",
      "Tracks are similar! do not open a new trk (-0.005453622130909027, 0.18154359794188887, 5.314168306954832) (-0.003666911316459594, -0.07011045415390152, 12.38725201678547)\n",
      "len(unique_polynoms) 3\n",
      "frame 66\n",
      "Number of point tracks before run() 487\n",
      "Number of extended tracks before run() 3\n"
     ]
    },
    {
     "name": "stderr",
     "output_type": "stream",
     "text": [
      "/home/kfir/workspace/RadarLocalization/tracker.py:63: VisibleDeprecationWarning: Creating an ndarray from ragged nested sequences (which is a list-or-tuple of lists-or-tuples-or ndarrays with different lengths or shapes) is deprecated. If you meant to do this, you must specify 'dtype=object' when creating the ndarray\n",
      "  Ha = np.array([1, zx, zx**2])\n",
      "/home/kfir/workspace/RadarLocalization/tracker.py:88: RuntimeWarning: divide by zero encountered in double_scalars\n",
      "  ratio = np.sqrt(lp)/le\n"
     ]
    },
    {
     "name": "stdout",
     "output_type": "stream",
     "text": [
      "Updating extended object track =  2\n",
      "Updating extended object track =  2\n",
      "Updating extended object track =  0\n",
      "Updating extended object track =  0\n",
      "Updating extended object track =  0\n",
      "Updating extended object track =  0\n",
      "Updating extended object track =  0\n",
      "Updating extended object track =  0\n",
      "Updating extended object track =  0\n",
      "Updating extended object track =  1\n",
      "Updating extended object track =  0\n",
      "Tracks are similar! do not open a new trk (-0.0005636209204459935, 0.01780549413446557, 0.5773145949710817) (8.58255542115006e-05, 0.0005113774415608532, 0.017153137262199768)\n",
      "Opening flipped polynom!!!\n",
      "Tracks are similar! do not open a new trk (-0.00918910675485576, -0.048611293968678616, 40.58216726317309) (-0.009829032290594144, -0.016574294006862562, 40.27917634839446)\n",
      "Tracks are similar! do not open a new trk (-0.0005636209204459935, 0.01780549413446557, 0.5773145949710817) (0.00010318627281299805, -0.0040701015469307485, -1.2850405303985495)\n",
      "Tracks are similar! do not open a new trk (-0.005454662734463725, 0.18162831074115884, 5.313003048355816) (-0.00348289924723006, -0.09754091390453604, 14.490084378766008)\n",
      "Tracks are similar! do not open a new trk (-0.005454662734463725, 0.18162831074115884, 5.313003048355816) (-0.004055288378305656, -0.00739766815433089, 12.387189700162356)\n",
      "Tracks are similar! do not open a new trk (-0.005454662734463725, 0.18162831074115884, 5.313003048355816) (-0.0036042309480565538, -0.07765850572891612, 12.610512337229897)\n",
      "len(unique_polynoms) 3\n",
      "frame 67\n",
      "Number of point tracks before run() 487\n",
      "Number of extended tracks before run() 3\n"
     ]
    },
    {
     "name": "stderr",
     "output_type": "stream",
     "text": [
      "/home/kfir/workspace/RadarLocalization/tracker.py:63: VisibleDeprecationWarning: Creating an ndarray from ragged nested sequences (which is a list-or-tuple of lists-or-tuples-or ndarrays with different lengths or shapes) is deprecated. If you meant to do this, you must specify 'dtype=object' when creating the ndarray\n",
      "  Ha = np.array([1, zx, zx**2])\n",
      "/home/kfir/workspace/RadarLocalization/tracker.py:88: RuntimeWarning: divide by zero encountered in double_scalars\n",
      "  ratio = np.sqrt(lp)/le\n"
     ]
    },
    {
     "name": "stdout",
     "output_type": "stream",
     "text": [
      "Updating extended object track =  0\n",
      "Updating extended object track =  0\n",
      "Updating extended object track =  0\n",
      "Updating extended object track =  0\n",
      "Updating extended object track =  0\n",
      "Tracks are similar! do not open a new trk (-0.0005636209204459935, 0.01780549413446557, 0.5773145949710817) (0.0001180203579361592, -0.0018679420997899565, 0.21034719373933838)\n",
      "Opening flipped polynom!!!\n",
      "Tracks are similar! do not open a new trk (-0.009190025648578253, -0.04854249043253337, 40.58245800356327) (-0.010023186832685145, -0.016357949643387684, 40.30415910046089)\n",
      "Tracks are similar! do not open a new trk (-0.0005636209204459935, 0.01780549413446557, 0.5773145949710817) (-0.00018217071242982848, 0.004666942214114224, -1.1959034044657422)\n",
      "Tracks are similar! do not open a new trk (-0.005454662734463725, 0.18162831074115884, 5.313003048355816) (-0.003624940525952139, -0.08369847763710356, 14.186348431098525)\n",
      "Tracks are similar! do not open a new trk (-0.005454662734463725, 0.18162831074115884, 5.313003048355816) (-0.004222039394165983, -0.008771412336867917, 10.639845584788082)\n",
      "len(unique_polynoms) 1\n",
      "frame 68\n",
      "Number of point tracks before run() 482\n",
      "Number of extended tracks before run() 3\n"
     ]
    },
    {
     "name": "stderr",
     "output_type": "stream",
     "text": [
      "/home/kfir/workspace/RadarLocalization/tracker.py:63: VisibleDeprecationWarning: Creating an ndarray from ragged nested sequences (which is a list-or-tuple of lists-or-tuples-or ndarrays with different lengths or shapes) is deprecated. If you meant to do this, you must specify 'dtype=object' when creating the ndarray\n",
      "  Ha = np.array([1, zx, zx**2])\n",
      "/home/kfir/workspace/RadarLocalization/tracker.py:88: RuntimeWarning: divide by zero encountered in double_scalars\n",
      "  ratio = np.sqrt(lp)/le\n"
     ]
    },
    {
     "name": "stdout",
     "output_type": "stream",
     "text": [
      "Updating extended object track =  2\n",
      "Updating extended object track =  2\n",
      "Updating extended object track =  0\n",
      "Updating extended object track =  0\n",
      "Updating extended object track =  0\n",
      "Updating extended object track =  0\n",
      "Updating extended object track =  0\n",
      "Updating extended object track =  0\n",
      "Updating extended object track =  0\n",
      "Updating extended object track =  2\n",
      "Updating extended object track =  2\n",
      "Updating extended object track =  0\n",
      "Updating extended object track =  1\n",
      "Updating extended object track =  0\n",
      "Updating extended object track =  1\n",
      "Tracks are similar! do not open a new trk (-0.0005623788397087685, 0.01781218274085433, 0.5764846689523085) (9.893359504480492e-05, -0.0008015286631042201, 0.21701226573237045)\n",
      "Opening flipped polynom!!!\n",
      "Tracks are similar! do not open a new trk (-0.009197824726280694, -0.048205826051979775, 40.57932786712142) (-0.009820985975264786, -0.006205562082396614, 40.139334743793526)\n",
      "Tracks are similar! do not open a new trk (-0.0005623788397087685, 0.01781218274085433, 0.5764846689523085) (-0.00036964629606601443, 0.005157077376805093, -1.0715713993771137)\n",
      "Tracks are similar! do not open a new trk (-0.005456471042829335, 0.1818201793832122, 5.310163496217461) (-0.0037202450401158443, -0.07123253191163506, 13.312764140661542)\n",
      "Tracks are similar! do not open a new trk (-0.005456471042829335, 0.1818201793832122, 5.310163496217461) (-0.003635713356430471, -0.07123815344097517, 14.428050394719063)\n",
      "Tracks are similar! do not open a new trk (-0.005456471042829335, 0.1818201793832122, 5.310163496217461) (-0.004785623516516475, 0.07059817803082151, 7.312680192720685)\n",
      "len(unique_polynoms) 3\n",
      "frame 69\n",
      "Number of point tracks before run() 487\n",
      "Number of extended tracks before run() 3\n"
     ]
    },
    {
     "name": "stderr",
     "output_type": "stream",
     "text": [
      "/home/kfir/workspace/RadarLocalization/tracker.py:63: VisibleDeprecationWarning: Creating an ndarray from ragged nested sequences (which is a list-or-tuple of lists-or-tuples-or ndarrays with different lengths or shapes) is deprecated. If you meant to do this, you must specify 'dtype=object' when creating the ndarray\n",
      "  Ha = np.array([1, zx, zx**2])\n",
      "/home/kfir/workspace/RadarLocalization/tracker.py:88: RuntimeWarning: divide by zero encountered in double_scalars\n",
      "  ratio = np.sqrt(lp)/le\n"
     ]
    },
    {
     "name": "stdout",
     "output_type": "stream",
     "text": [
      "Updating extended object track =  2\n",
      "Updating extended object track =  2\n",
      "Updating extended object track =  2\n",
      "Updating extended object track =  0\n",
      "Updating extended object track =  0\n",
      "Updating extended object track =  0\n",
      "Updating extended object track =  0\n",
      "Updating extended object track =  0\n",
      "Updating extended object track =  1\n",
      "Updating extended object track =  1\n",
      "Updating extended object track =  1\n",
      "Updating extended object track =  0\n",
      "Updating extended object track =  1\n",
      "Updating extended object track =  1\n",
      "Tracks are similar! do not open a new trk (-0.0005621021372229846, 0.01802063304597717, 0.5697575641293279) (0.000139004710147403, -0.0025876398427970983, 0.22762695029858773)\n",
      "Opening flipped polynom!!!\n",
      "Tracks are similar! do not open a new trk (-0.009183525800225998, -0.04858738237454841, 40.580310228488116) (-0.009756666353182402, -0.007763515742527091, 40.14146687338479)\n",
      "Tracks are similar! do not open a new trk (-0.0005621021372229846, 0.01802063304597717, 0.5697575641293279) (-0.00046783705126169793, 0.007276856573606868, -1.0491144744441587)\n",
      "Tracks are similar! do not open a new trk (-0.005449134824158457, 0.18118786684381596, 5.321809132324911) (-0.003609414318491545, -0.09373676607252439, 14.272503617694564)\n",
      "Tracks are similar! do not open a new trk (-0.005449134824158457, 0.18118786684381596, 5.321809132324911) (-0.0036672249017251873, -0.07070997073649735, 14.495054197988456)\n",
      "Tracks are similar! do not open a new trk (-0.005449134824158457, 0.18118786684381596, 5.321809132324911) (-0.005233578511274152, 0.13497423382637558, 4.9860885634480345)\n",
      "len(unique_polynoms) 3\n",
      "frame 70\n",
      "Number of point tracks before run() 484\n",
      "Number of extended tracks before run() 3\n"
     ]
    },
    {
     "name": "stderr",
     "output_type": "stream",
     "text": [
      "/home/kfir/workspace/RadarLocalization/tracker.py:63: VisibleDeprecationWarning: Creating an ndarray from ragged nested sequences (which is a list-or-tuple of lists-or-tuples-or ndarrays with different lengths or shapes) is deprecated. If you meant to do this, you must specify 'dtype=object' when creating the ndarray\n",
      "  Ha = np.array([1, zx, zx**2])\n",
      "/home/kfir/workspace/RadarLocalization/tracker.py:88: RuntimeWarning: divide by zero encountered in double_scalars\n",
      "  ratio = np.sqrt(lp)/le\n"
     ]
    },
    {
     "name": "stdout",
     "output_type": "stream",
     "text": [
      "Updating extended object track =  0\n",
      "Updating extended object track =  0\n",
      "Updating extended object track =  0\n",
      "Updating extended object track =  2\n",
      "Updating extended object track =  0\n",
      "Updating extended object track =  0\n",
      "Updating extended object track =  1\n",
      "Updating extended object track =  0\n",
      "Updating extended object track =  1\n",
      "Tracks are similar! do not open a new trk (-0.0005612976687428993, 0.018028421823713434, 0.569712034473359) (0.00013234670832319042, -0.001571588722104827, 0.20836507020469625)\n",
      "Opening flipped polynom!!!\n",
      "Tracks are similar! do not open a new trk (-0.009180040410423685, -0.048674817658130635, 40.57921446409551) (-0.009824270743911734, -0.004953760261468111, 40.124034947787685)\n",
      "Tracks are similar! do not open a new trk (-0.0005612976687428993, 0.018028421823713434, 0.569712034473359) (-0.0007127288777696792, 0.011908465192394291, -0.9875757263231184)\n",
      "Tracks are similar! do not open a new trk (-0.005447079329210109, 0.18086806349022325, 5.329504875351381) (-0.004410149282911673, 0.02106546027218575, 10.84044548242412)\n",
      "Tracks are similar! do not open a new trk (-0.005447079329210109, 0.18086806349022325, 5.329504875351381) (-0.004111397390898401, -0.025012867806326968, 11.282926191353601)\n",
      "len(unique_polynoms) 3\n",
      "frame 71\n",
      "Number of point tracks before run() 483\n",
      "Number of extended tracks before run() 3\n"
     ]
    },
    {
     "name": "stderr",
     "output_type": "stream",
     "text": [
      "/home/kfir/workspace/RadarLocalization/tracker.py:63: VisibleDeprecationWarning: Creating an ndarray from ragged nested sequences (which is a list-or-tuple of lists-or-tuples-or ndarrays with different lengths or shapes) is deprecated. If you meant to do this, you must specify 'dtype=object' when creating the ndarray\n",
      "  Ha = np.array([1, zx, zx**2])\n",
      "/home/kfir/workspace/RadarLocalization/tracker.py:88: RuntimeWarning: divide by zero encountered in double_scalars\n",
      "  ratio = np.sqrt(lp)/le\n"
     ]
    },
    {
     "name": "stdout",
     "output_type": "stream",
     "text": [
      "Updating extended object track =  2\n",
      "Updating extended object track =  2\n",
      "Updating extended object track =  0\n",
      "Updating extended object track =  0\n",
      "Updating extended object track =  0\n",
      "Updating extended object track =  2\n",
      "Updating extended object track =  0\n",
      "Updating extended object track =  0\n",
      "Updating extended object track =  0\n",
      "Updating extended object track =  0\n",
      "Updating extended object track =  1\n",
      "Updating extended object track =  2\n",
      "Updating extended object track =  1\n",
      "Tracks are similar! do not open a new trk (-0.0005623024731082919, 0.01811888788692847, 0.5665907173483715) (0.00013845611865481787, -0.003064575259271355, 0.22348493949135015)\n",
      "Opening flipped polynom!!!\n",
      "Tracks are similar! do not open a new trk (-0.009186630120264069, -0.048278149135011425, 40.574694945924925) (-0.009783290714945922, -0.00672259035196947, 39.93484458293586)\n",
      "Tracks are similar! do not open a new trk (-0.0005623024731082919, 0.01811888788692847, 0.5665907173483715) (-0.000979467403863364, 0.0148298326805584, -0.9536690045668166)\n",
      "Tracks are similar! do not open a new trk (-0.005444574252043848, 0.1806406772355965, 5.3310945241389796) (-0.004410149282911673, 0.02106546027218575, 10.84044548242412)\n",
      "Tracks are similar! do not open a new trk (-0.005444574252043848, 0.1806406772355965, 5.3310945241389796) (-0.004068448390464139, -0.02670055896152893, 11.153450448821992)\n",
      "len(unique_polynoms) 3\n",
      "frame 72\n",
      "Number of point tracks before run() 486\n",
      "Number of extended tracks before run() 3\n"
     ]
    },
    {
     "name": "stderr",
     "output_type": "stream",
     "text": [
      "/home/kfir/workspace/RadarLocalization/tracker.py:63: VisibleDeprecationWarning: Creating an ndarray from ragged nested sequences (which is a list-or-tuple of lists-or-tuples-or ndarrays with different lengths or shapes) is deprecated. If you meant to do this, you must specify 'dtype=object' when creating the ndarray\n",
      "  Ha = np.array([1, zx, zx**2])\n",
      "/home/kfir/workspace/RadarLocalization/tracker.py:88: RuntimeWarning: divide by zero encountered in double_scalars\n",
      "  ratio = np.sqrt(lp)/le\n"
     ]
    },
    {
     "name": "stdout",
     "output_type": "stream",
     "text": [
      "Updating extended object track =  2\n",
      "Updating extended object track =  2\n",
      "Updating extended object track =  2\n",
      "Updating extended object track =  0\n",
      "Updating extended object track =  2\n",
      "Updating extended object track =  0\n",
      "Updating extended object track =  2\n",
      "Updating extended object track =  1\n",
      "Updating extended object track =  0\n",
      "Tracks are similar! do not open a new trk (-0.0005553787370264745, 0.0179954609696091, 0.5655878923261947) (6.2753159407181955e-06, 0.0011541285332116744, 0.03347299285231831)\n",
      "Opening flipped polynom!!!\n",
      "Tracks are similar! do not open a new trk (-0.009189825386528282, -0.048151642653713876, 40.573231893643126) (-0.009969699504608106, 0.0016739364710188919, 40.03138619703407)\n",
      "Tracks are similar! do not open a new trk (-0.005447443507219759, 0.18089867580990981, 5.329702392523525) (-0.0032958857817181873, -0.1192915481018622, 15.82813946808237)\n",
      "Tracks are similar! do not open a new trk (-0.005447443507219759, 0.18089867580990981, 5.329702392523525) (-0.004112369142770641, -0.006021249417425519, 10.33262327526128)\n",
      "Tracks are similar! do not open a new trk (-0.0005553787370264745, 0.0179954609696091, 0.5655878923261947) (-0.0004229509994478953, 0.006802273680611715, -1.1300674685099055)\n",
      "len(unique_polynoms) 3\n",
      "frame 73\n",
      "Number of point tracks before run() 487\n",
      "Number of extended tracks before run() 3\n"
     ]
    },
    {
     "name": "stderr",
     "output_type": "stream",
     "text": [
      "/home/kfir/workspace/RadarLocalization/tracker.py:63: VisibleDeprecationWarning: Creating an ndarray from ragged nested sequences (which is a list-or-tuple of lists-or-tuples-or ndarrays with different lengths or shapes) is deprecated. If you meant to do this, you must specify 'dtype=object' when creating the ndarray\n",
      "  Ha = np.array([1, zx, zx**2])\n"
     ]
    },
    {
     "name": "stdout",
     "output_type": "stream",
     "text": [
      "Updating extended object track =  2\n",
      "Updating extended object track =  2\n",
      "Updating extended object track =  2\n",
      "Updating extended object track =  2\n",
      "Updating extended object track =  2\n",
      "Updating extended object track =  0\n",
      "Updating extended object track =  0\n",
      "Updating extended object track =  2\n",
      "Updating extended object track =  1\n",
      "Updating extended object track =  2\n",
      "Updating extended object track =  1\n",
      "Updating extended object track =  1\n"
     ]
    },
    {
     "name": "stderr",
     "output_type": "stream",
     "text": [
      "/home/kfir/workspace/RadarLocalization/tracker.py:88: RuntimeWarning: divide by zero encountered in double_scalars\n",
      "  ratio = np.sqrt(lp)/le\n"
     ]
    },
    {
     "name": "stdout",
     "output_type": "stream",
     "text": [
      "Tracks are similar! do not open a new trk (-0.0005473309968571856, 0.017730312174983238, 0.565161093636249) (4.7281645286044423e-05, 0.00038797940180341936, 0.006401043671576322)\n",
      "Opening flipped polynom!!!\n",
      "Tracks are similar! do not open a new trk (-0.00918931353899674, -0.04815935288496679, 40.572888762029855) (-0.009905299038776046, -0.0018883356322769752, 40.08077839950243)\n",
      "Tracks are similar! do not open a new trk (-0.005449045437400018, 0.18101583660504217, 5.332444308557103) (-0.003447991095760596, -0.09515334977323757, 15.393580021790173)\n",
      "Tracks are similar! do not open a new trk (-0.005449045437400018, 0.18101583660504217, 5.332444308557103) (-0.00422884503706757, 0.014418690095240359, 9.722624979521118)\n",
      "len(unique_polynoms) 3\n",
      "frame 74\n",
      "Number of point tracks before run() 489\n",
      "Number of extended tracks before run() 3\n"
     ]
    },
    {
     "name": "stderr",
     "output_type": "stream",
     "text": [
      "/home/kfir/workspace/RadarLocalization/tracker.py:63: VisibleDeprecationWarning: Creating an ndarray from ragged nested sequences (which is a list-or-tuple of lists-or-tuples-or ndarrays with different lengths or shapes) is deprecated. If you meant to do this, you must specify 'dtype=object' when creating the ndarray\n",
      "  Ha = np.array([1, zx, zx**2])\n",
      "/home/kfir/workspace/RadarLocalization/tracker.py:88: RuntimeWarning: divide by zero encountered in double_scalars\n",
      "  ratio = np.sqrt(lp)/le\n"
     ]
    },
    {
     "name": "stdout",
     "output_type": "stream",
     "text": [
      "Updating extended object track =  0\n",
      "Updating extended object track =  2\n",
      "Updating extended object track =  0\n",
      "Updating extended object track =  1\n",
      "Updating extended object track =  0\n",
      "Updating extended object track =  0\n",
      "Updating extended object track =  1\n",
      "Tracks are similar! do not open a new trk (-0.0005472139131676501, 0.017728549694290413, 0.5650930165861708) (0.0002730807120673126, -0.005196942155522913, -0.025920750859227525)\n",
      "Opening flipped polynom!!!\n",
      "Tracks are similar! do not open a new trk (-0.009202681350117384, -0.04770091428575335, 40.571606699605056) (-0.009876628107622507, -0.0034909946921173095, 40.089587871551856)\n",
      "Tracks are similar! do not open a new trk (-0.0054519855354102364, 0.18142251356414094, 5.323344464677793) (-0.0031743377053397542, -0.13119476086593906, 16.47830737587974)\n",
      "Tracks are similar! do not open a new trk (-0.0054519855354102364, 0.18142251356414094, 5.323344464677793) (-0.0039965973863759436, -0.0151326131977082, 10.642059276727952)\n",
      "len(unique_polynoms) 3\n",
      "frame 75\n",
      "Number of point tracks before run() 493\n",
      "Number of extended tracks before run() 3\n"
     ]
    },
    {
     "name": "stderr",
     "output_type": "stream",
     "text": [
      "/home/kfir/workspace/RadarLocalization/tracker.py:63: VisibleDeprecationWarning: Creating an ndarray from ragged nested sequences (which is a list-or-tuple of lists-or-tuples-or ndarrays with different lengths or shapes) is deprecated. If you meant to do this, you must specify 'dtype=object' when creating the ndarray\n",
      "  Ha = np.array([1, zx, zx**2])\n",
      "/home/kfir/workspace/RadarLocalization/tracker.py:88: RuntimeWarning: divide by zero encountered in double_scalars\n",
      "  ratio = np.sqrt(lp)/le\n"
     ]
    },
    {
     "name": "stdout",
     "output_type": "stream",
     "text": [
      "Updating extended object track =  2\n",
      "Updating extended object track =  2\n",
      "Updating extended object track =  0\n",
      "Updating extended object track =  0\n",
      "Updating extended object track =  0\n",
      "Updating extended object track =  0\n",
      "Updating extended object track =  1\n",
      "Updating extended object track =  0\n",
      "Updating extended object track =  1\n",
      "Updating extended object track =  1\n",
      "Tracks are similar! do not open a new trk (-0.0005467191600573788, 0.01776204510049994, 0.5642484991124327) (0.00027886293882704367, -0.005575077251476016, -0.03242541811510458)\n",
      "Opening flipped polynom!!!\n",
      "Tracks are similar! do not open a new trk (-0.009217419412360655, -0.04715161899564548, 40.56848749287669) (-0.009858704222569903, -0.004689272504036477, 40.10362788903197)\n",
      "Tracks are similar! do not open a new trk (-0.005460555315617249, 0.18223357028256684, 5.315719160007289) (-0.0034969433747016427, -0.08848859519560703, 15.173739467911101)\n",
      "Tracks are similar! do not open a new trk (-0.005460555315617249, 0.18223357028256684, 5.315719160007289) (-0.004225210013656233, 0.012894634321503187, 9.882527784349595)\n",
      "Tracks are similar! do not open a new trk (-0.0005467191600573788, 0.01776204510049994, 0.5642484991124327) (-0.0002715012354840882, 0.003211389383640161, -1.1720884708202104)\n",
      "len(unique_polynoms) 3\n",
      "frame 76\n",
      "Number of point tracks before run() 491\n",
      "Number of extended tracks before run() 3\n"
     ]
    },
    {
     "name": "stderr",
     "output_type": "stream",
     "text": [
      "/home/kfir/workspace/RadarLocalization/tracker.py:63: VisibleDeprecationWarning: Creating an ndarray from ragged nested sequences (which is a list-or-tuple of lists-or-tuples-or ndarrays with different lengths or shapes) is deprecated. If you meant to do this, you must specify 'dtype=object' when creating the ndarray\n",
      "  Ha = np.array([1, zx, zx**2])\n",
      "/home/kfir/workspace/RadarLocalization/tracker.py:88: RuntimeWarning: divide by zero encountered in double_scalars\n",
      "  ratio = np.sqrt(lp)/le\n"
     ]
    },
    {
     "name": "stdout",
     "output_type": "stream",
     "text": [
      "Updating extended object track =  2\n",
      "Updating extended object track =  2\n",
      "Updating extended object track =  0\n",
      "Updating extended object track =  2\n",
      "Updating extended object track =  0\n",
      "Updating extended object track =  0\n",
      "Updating extended object track =  0\n",
      "Updating extended object track =  0\n",
      "Updating extended object track =  0\n",
      "Updating extended object track =  0\n",
      "Updating extended object track =  0\n",
      "Updating extended object track =  1\n",
      "Tracks are similar! do not open a new trk (-0.0005486169769582812, 0.01789075692071369, 0.5636684866555878) (0.00032908966108089626, -0.005809963367825243, -0.05225398733072837)\n",
      "Opening flipped polynom!!!\n",
      "Tracks are similar! do not open a new trk (-0.009233336741897889, -0.04640502316204419, 40.56325597122744) (-0.009981120468767474, -0.00039130594418178294, 40.091799137327776)\n",
      "Tracks are similar! do not open a new trk (-0.005460686716197119, 0.18217347386436858, 5.318502982221207) (-0.0033686315525936605, -0.10778032042907368, 15.844725721179442)\n",
      "Tracks are similar! do not open a new trk (-0.005460686716197119, 0.18217347386436858, 5.318502982221207) (-0.0038726154093382745, -0.04090575134109224, 12.204056979852929)\n",
      "len(unique_polynoms) 3\n",
      "frame 77\n",
      "Number of point tracks before run() 481\n",
      "Number of extended tracks before run() 3\n"
     ]
    },
    {
     "name": "stderr",
     "output_type": "stream",
     "text": [
      "/home/kfir/workspace/RadarLocalization/tracker.py:63: VisibleDeprecationWarning: Creating an ndarray from ragged nested sequences (which is a list-or-tuple of lists-or-tuples-or ndarrays with different lengths or shapes) is deprecated. If you meant to do this, you must specify 'dtype=object' when creating the ndarray\n",
      "  Ha = np.array([1, zx, zx**2])\n",
      "/home/kfir/workspace/RadarLocalization/tracker.py:88: RuntimeWarning: divide by zero encountered in double_scalars\n",
      "  ratio = np.sqrt(lp)/le\n"
     ]
    },
    {
     "name": "stdout",
     "output_type": "stream",
     "text": [
      "Updating extended object track =  0\n",
      "Updating extended object track =  0\n",
      "Updating extended object track =  0\n",
      "Updating extended object track =  0\n",
      "Updating extended object track =  0\n",
      "Updating extended object track =  1\n",
      "Updating extended object track =  1\n",
      "Tracks are similar! do not open a new trk (-0.0005486169769582812, 0.01789075692071369, 0.5636684866555878) (0.0004466502272730188, -0.00820961324774899, -0.06256293682260299)\n",
      "Opening flipped polynom!!!\n",
      "Tracks are similar! do not open a new trk (-0.009234790669662395, -0.04638706694697917, 40.56379661642326) (-0.010068076909807615, 0.003774224904389482, 40.05487193543787)\n",
      "Tracks are similar! do not open a new trk (-0.005466454413525951, 0.18250701703969163, 5.324463614500767) (-0.0036825886645017432, -0.10522864080226633, 16.123308338944536)\n",
      "Tracks are similar! do not open a new trk (-0.005466454413525951, 0.18250701703969163, 5.324463614500767) (-0.004340799861808612, -0.010466555801505803, 11.38319786167212)\n",
      "Tracks are similar! do not open a new trk (-0.005466454413525951, 0.18250701703969163, 5.324463614500767) (-0.003915463247631196, -0.047251871098007325, 14.63841591418234)\n",
      "len(unique_polynoms) 2\n",
      "frame 78\n",
      "Number of point tracks before run() 479\n",
      "Number of extended tracks before run() 3\n"
     ]
    },
    {
     "name": "stderr",
     "output_type": "stream",
     "text": [
      "/home/kfir/workspace/RadarLocalization/tracker.py:63: VisibleDeprecationWarning: Creating an ndarray from ragged nested sequences (which is a list-or-tuple of lists-or-tuples-or ndarrays with different lengths or shapes) is deprecated. If you meant to do this, you must specify 'dtype=object' when creating the ndarray\n",
      "  Ha = np.array([1, zx, zx**2])\n",
      "/home/kfir/workspace/RadarLocalization/tracker.py:88: RuntimeWarning: divide by zero encountered in double_scalars\n",
      "  ratio = np.sqrt(lp)/le\n"
     ]
    },
    {
     "name": "stdout",
     "output_type": "stream",
     "text": [
      "Updating extended object track =  0\n",
      "Updating extended object track =  0\n",
      "Updating extended object track =  1\n",
      "Updating extended object track =  0\n",
      "Tracks are similar! do not open a new trk (-0.0005486169769582812, 0.01789075692071369, 0.5636684866555878) (0.0004873870232025498, -0.00823418858817093, -0.08018074853357696)\n",
      "Opening flipped polynom!!!\n",
      "Tracks are similar! do not open a new trk (-0.009231262979578337, -0.046557435045939705, 40.564725655050424) (-0.010080525962391985, 0.004081265259314239, 40.05387667490398)\n",
      "Tracks are similar! do not open a new trk (-0.00546604008497206, 0.18248172845085434, 5.324574362680174) (-0.003672392146322293, -0.10743753175777876, 16.210169631064055)\n",
      "Tracks are similar! do not open a new trk (-0.00546604008497206, 0.18248172845085434, 5.324574362680174) (-0.004116810753709703, -0.03932097897002576, 12.264357751210031)\n",
      "Tracks are similar! do not open a new trk (-0.00546604008497206, 0.18248172845085434, 5.324574362680174) (-0.0034806538878509137, -0.11336100083033095, 17.110410176998823)\n",
      "len(unique_polynoms) 2\n",
      "frame 79\n",
      "Number of point tracks before run() 488\n",
      "Number of extended tracks before run() 3\n"
     ]
    },
    {
     "name": "stderr",
     "output_type": "stream",
     "text": [
      "/home/kfir/workspace/RadarLocalization/tracker.py:63: VisibleDeprecationWarning: Creating an ndarray from ragged nested sequences (which is a list-or-tuple of lists-or-tuples-or ndarrays with different lengths or shapes) is deprecated. If you meant to do this, you must specify 'dtype=object' when creating the ndarray\n",
      "  Ha = np.array([1, zx, zx**2])\n",
      "/home/kfir/workspace/RadarLocalization/tracker.py:88: RuntimeWarning: divide by zero encountered in double_scalars\n",
      "  ratio = np.sqrt(lp)/le\n"
     ]
    },
    {
     "name": "stdout",
     "output_type": "stream",
     "text": [
      "Updating extended object track =  2\n",
      "Updating extended object track =  0\n",
      "Updating extended object track =  0\n",
      "Updating extended object track =  0\n",
      "Updating extended object track =  0\n",
      "Updating extended object track =  0\n",
      "Updating extended object track =  0\n",
      "Tracks are similar! do not open a new trk (-0.000547292673713881, 0.017813433611493974, 0.5646447394919988) (0.00044339271532776173, -0.005992840365067836, -0.0886303556281447)\n",
      "Opening flipped polynom!!!\n",
      "Tracks are similar! do not open a new trk (-0.009224940458123752, -0.04692927124888537, 40.56816480242906) (-0.0102495876156389, 0.012117650726452654, 39.98103784821519)\n",
      "Tracks are similar! do not open a new trk (-0.00546604008497206, 0.18248172845085434, 5.324574362680174) (-0.0035586496326621628, -0.075312114626549, 14.430323403497685)\n",
      "Tracks are similar! do not open a new trk (-0.00546604008497206, 0.18248172845085434, 5.324574362680174) (-0.004575212120932311, 0.05819497789590664, 8.514766322801739)\n",
      "len(unique_polynoms) 2\n",
      "frame 80\n",
      "Number of point tracks before run() 484\n",
      "Number of extended tracks before run() 3\n"
     ]
    },
    {
     "name": "stderr",
     "output_type": "stream",
     "text": [
      "/home/kfir/workspace/RadarLocalization/tracker.py:63: VisibleDeprecationWarning: Creating an ndarray from ragged nested sequences (which is a list-or-tuple of lists-or-tuples-or ndarrays with different lengths or shapes) is deprecated. If you meant to do this, you must specify 'dtype=object' when creating the ndarray\n",
      "  Ha = np.array([1, zx, zx**2])\n",
      "/home/kfir/workspace/RadarLocalization/tracker.py:88: RuntimeWarning: divide by zero encountered in double_scalars\n",
      "  ratio = np.sqrt(lp)/le\n"
     ]
    },
    {
     "name": "stdout",
     "output_type": "stream",
     "text": [
      "Updating extended object track =  2\n",
      "Updating extended object track =  0\n",
      "Updating extended object track =  0\n",
      "Updating extended object track =  0\n",
      "Updating extended object track =  2\n",
      "Updating extended object track =  1\n",
      "Updating extended object track =  1\n",
      "Updating extended object track =  1\n",
      "Updating extended object track =  0\n",
      "Updating extended object track =  2\n",
      "Updating extended object track =  0\n",
      "Tracks are similar! do not open a new trk (-0.0005451739876931387, 0.017706369601793885, 0.5642397486950242) (0.00029751447450009186, -0.0023363581439765913, -0.24574161605550365)\n",
      "Opening flipped polynom!!!\n",
      "Tracks are similar! do not open a new trk (-0.009226483325022718, -0.04684142708134969, 40.56793885976045) (-0.01056045695845962, 0.028626411824761593, 39.78764121745499)\n",
      "Tracks are similar! do not open a new trk (-0.005467469110860297, 0.18265469320505553, 5.3219688729890136) (-0.0036353703429100495, -0.06720713889732854, 14.257113872323737)\n",
      "len(unique_polynoms) 3\n",
      "frame 81\n",
      "Number of point tracks before run() 474\n",
      "Number of extended tracks before run() 3\n"
     ]
    },
    {
     "name": "stderr",
     "output_type": "stream",
     "text": [
      "/home/kfir/workspace/RadarLocalization/tracker.py:63: VisibleDeprecationWarning: Creating an ndarray from ragged nested sequences (which is a list-or-tuple of lists-or-tuples-or ndarrays with different lengths or shapes) is deprecated. If you meant to do this, you must specify 'dtype=object' when creating the ndarray\n",
      "  Ha = np.array([1, zx, zx**2])\n",
      "/home/kfir/workspace/RadarLocalization/tracker.py:88: RuntimeWarning: divide by zero encountered in double_scalars\n",
      "  ratio = np.sqrt(lp)/le\n"
     ]
    },
    {
     "name": "stdout",
     "output_type": "stream",
     "text": [
      "Updating extended object track =  0\n",
      "Updating extended object track =  0\n",
      "Updating extended object track =  0\n",
      "Updating extended object track =  0\n",
      "Updating extended object track =  1\n",
      "Updating extended object track =  1\n",
      "Tracks are similar! do not open a new trk (-0.0005451739876931387, 0.017706369601793885, 0.5642397486950242) (0.0003094017866145824, -0.002352339428987288, -0.2365867841287979)\n",
      "Opening flipped polynom!!!\n",
      "Tracks are similar! do not open a new trk (-0.009221382525384111, -0.04715707919904695, 40.5725802684654) (-0.010791232703214625, 0.03698485741358992, 39.72758697587233)\n",
      "len(unique_polynoms) 2\n",
      "frame 82\n",
      "Number of point tracks before run() 479\n",
      "Number of extended tracks before run() 3\n"
     ]
    },
    {
     "name": "stderr",
     "output_type": "stream",
     "text": [
      "/home/kfir/workspace/RadarLocalization/tracker.py:63: VisibleDeprecationWarning: Creating an ndarray from ragged nested sequences (which is a list-or-tuple of lists-or-tuples-or ndarrays with different lengths or shapes) is deprecated. If you meant to do this, you must specify 'dtype=object' when creating the ndarray\n",
      "  Ha = np.array([1, zx, zx**2])\n",
      "/home/kfir/workspace/RadarLocalization/tracker.py:88: RuntimeWarning: divide by zero encountered in double_scalars\n",
      "  ratio = np.sqrt(lp)/le\n"
     ]
    },
    {
     "name": "stdout",
     "output_type": "stream",
     "text": [
      "Updating extended object track =  2\n",
      "Updating extended object track =  0\n",
      "Updating extended object track =  0\n",
      "Updating extended object track =  0\n",
      "Updating extended object track =  0\n",
      "Updating extended object track =  0\n",
      "Updating extended object track =  2\n",
      "Updating extended object track =  0\n",
      "Tracks are similar! do not open a new trk (-0.000547812211028735, 0.01777576767837238, 0.5653372981058451) (0.00033921002898477964, -0.0038142736056980854, -0.2528762437697623)\n",
      "Opening flipped polynom!!!\n",
      "Tracks are similar! do not open a new trk (-0.009212217795255643, -0.04743602584569283, 40.57442414844576) (-0.010795412178573969, 0.035408158281383786, 39.75962286847467)\n",
      "len(unique_polynoms) 2\n",
      "frame 83\n",
      "Number of point tracks before run() 474\n",
      "Number of extended tracks before run() 3\n"
     ]
    },
    {
     "name": "stderr",
     "output_type": "stream",
     "text": [
      "/home/kfir/workspace/RadarLocalization/tracker.py:63: VisibleDeprecationWarning: Creating an ndarray from ragged nested sequences (which is a list-or-tuple of lists-or-tuples-or ndarrays with different lengths or shapes) is deprecated. If you meant to do this, you must specify 'dtype=object' when creating the ndarray\n",
      "  Ha = np.array([1, zx, zx**2])\n",
      "/home/kfir/workspace/RadarLocalization/tracker.py:88: RuntimeWarning: divide by zero encountered in double_scalars\n",
      "  ratio = np.sqrt(lp)/le\n"
     ]
    },
    {
     "name": "stdout",
     "output_type": "stream",
     "text": [
      "Updating extended object track =  0\n",
      "Updating extended object track =  2\n",
      "Updating extended object track =  0\n",
      "Updating extended object track =  0\n",
      "Updating extended object track =  0\n",
      "Updating extended object track =  2\n",
      "Updating extended object track =  0\n",
      "Updating extended object track =  0\n",
      "Updating extended object track =  1\n",
      "Updating extended object track =  1\n",
      "Updating extended object track =  0\n",
      "Updating extended object track =  1\n",
      "Updating extended object track =  1\n",
      "Tracks are similar! do not open a new trk (-0.0005422884847302146, 0.017771429989611898, 0.5653347123593135) (0.00029215101699833925, -0.003516934333204313, -0.25824387353997214)\n",
      "Opening flipped polynom!!!\n",
      "Tracks are similar! do not open a new trk (-0.00921202443633403, -0.04737916050400569, 40.572683153662595) (-0.010849960022684247, 0.03893961423682923, 39.54582959026665)\n",
      "len(unique_polynoms) 3\n",
      "frame 84\n",
      "Number of point tracks before run() 479\n",
      "Number of extended tracks before run() 3\n"
     ]
    },
    {
     "name": "stderr",
     "output_type": "stream",
     "text": [
      "/home/kfir/workspace/RadarLocalization/tracker.py:63: VisibleDeprecationWarning: Creating an ndarray from ragged nested sequences (which is a list-or-tuple of lists-or-tuples-or ndarrays with different lengths or shapes) is deprecated. If you meant to do this, you must specify 'dtype=object' when creating the ndarray\n",
      "  Ha = np.array([1, zx, zx**2])\n",
      "/home/kfir/workspace/RadarLocalization/tracker.py:88: RuntimeWarning: divide by zero encountered in double_scalars\n",
      "  ratio = np.sqrt(lp)/le\n"
     ]
    },
    {
     "name": "stdout",
     "output_type": "stream",
     "text": [
      "Updating extended object track =  0\n",
      "Updating extended object track =  0\n",
      "Updating extended object track =  1\n",
      "Updating extended object track =  0\n",
      "Updating extended object track =  0\n",
      "Updating extended object track =  0\n",
      "Updating extended object track =  0\n",
      "Updating extended object track =  0\n",
      "Updating extended object track =  2\n",
      "Updating extended object track =  0\n",
      "Updating extended object track =  0\n",
      "Updating extended object track =  1\n",
      "Tracks are similar! do not open a new trk (-0.0005440698395177205, 0.01775424992070955, 0.5654398034438894) (0.00020081851254683816, -0.001378952387444227, -0.23032458385877025)\n",
      "Opening flipped polynom!!!\n",
      "Tracks are similar! do not open a new trk (-0.009212823176626023, -0.047316335330031586, 40.57118632256452) (-0.0104529540812292, 0.019149048917023972, 39.91982697157097)\n",
      "len(unique_polynoms) 3\n",
      "frame 85\n",
      "Number of point tracks before run() 481\n",
      "Number of extended tracks before run() 3\n"
     ]
    },
    {
     "name": "stderr",
     "output_type": "stream",
     "text": [
      "/home/kfir/workspace/RadarLocalization/tracker.py:63: VisibleDeprecationWarning: Creating an ndarray from ragged nested sequences (which is a list-or-tuple of lists-or-tuples-or ndarrays with different lengths or shapes) is deprecated. If you meant to do this, you must specify 'dtype=object' when creating the ndarray\n",
      "  Ha = np.array([1, zx, zx**2])\n",
      "/home/kfir/workspace/RadarLocalization/tracker.py:88: RuntimeWarning: divide by zero encountered in double_scalars\n",
      "  ratio = np.sqrt(lp)/le\n"
     ]
    },
    {
     "name": "stdout",
     "output_type": "stream",
     "text": [
      "Updating extended object track =  2\n",
      "Updating extended object track =  0\n",
      "Updating extended object track =  2\n",
      "Updating extended object track =  0\n",
      "Updating extended object track =  2\n",
      "Updating extended object track =  2\n",
      "Updating extended object track =  0\n",
      "Updating extended object track =  1\n",
      "Updating extended object track =  0\n",
      "Tracks are similar! do not open a new trk (-0.0005400497536729087, 0.01755869793908233, 0.5641636103851232) (0.00018297622755871935, -0.0013455326051362022, -0.2267694011932255)\n",
      "Opening flipped polynom!!!\n",
      "Tracks are similar! do not open a new trk (-0.009214829262944273, -0.04724392792125771, 40.570459618942614) (-0.010477668455705797, 0.024158407586906877, 39.82532056853511)\n",
      "len(unique_polynoms) 3\n",
      "frame 86\n",
      "Number of point tracks before run() 478\n",
      "Number of extended tracks before run() 3\n"
     ]
    },
    {
     "name": "stderr",
     "output_type": "stream",
     "text": [
      "/home/kfir/workspace/RadarLocalization/tracker.py:63: VisibleDeprecationWarning: Creating an ndarray from ragged nested sequences (which is a list-or-tuple of lists-or-tuples-or ndarrays with different lengths or shapes) is deprecated. If you meant to do this, you must specify 'dtype=object' when creating the ndarray\n",
      "  Ha = np.array([1, zx, zx**2])\n",
      "/home/kfir/workspace/RadarLocalization/tracker.py:88: RuntimeWarning: divide by zero encountered in double_scalars\n",
      "  ratio = np.sqrt(lp)/le\n"
     ]
    },
    {
     "name": "stdout",
     "output_type": "stream",
     "text": [
      "Updating extended object track =  0\n",
      "Updating extended object track =  2\n",
      "Updating extended object track =  0\n",
      "Updating extended object track =  1\n",
      "Updating extended object track =  0\n",
      "Updating extended object track =  0\n",
      "Updating extended object track =  1\n",
      "Tracks are similar! do not open a new trk (-0.0005391359925775166, 0.01754915409789682, 0.5641035813617168) (0.00023471775895355282, -0.0013255796899677415, -0.03597870547396232)\n",
      "Opening flipped polynom!!!\n",
      "Tracks are similar! do not open a new trk (-0.009215307338689702, -0.047175817451707645, 40.56894195307593) (-0.010601674851973946, 0.031601230599227634, 39.74404084822188)\n",
      "Tracks are similar! do not open a new trk (-0.005457376689471303, 0.18179276404019284, 5.332781968429705) (-0.004392020737968849, 0.0368428090773146, 9.2559433128306)\n",
      "len(unique_polynoms) 3\n",
      "frame 87\n",
      "Number of point tracks before run() 487\n",
      "Number of extended tracks before run() 3\n"
     ]
    },
    {
     "name": "stderr",
     "output_type": "stream",
     "text": [
      "/home/kfir/workspace/RadarLocalization/tracker.py:63: VisibleDeprecationWarning: Creating an ndarray from ragged nested sequences (which is a list-or-tuple of lists-or-tuples-or ndarrays with different lengths or shapes) is deprecated. If you meant to do this, you must specify 'dtype=object' when creating the ndarray\n",
      "  Ha = np.array([1, zx, zx**2])\n",
      "/home/kfir/workspace/RadarLocalization/tracker.py:88: RuntimeWarning: divide by zero encountered in double_scalars\n",
      "  ratio = np.sqrt(lp)/le\n"
     ]
    },
    {
     "name": "stdout",
     "output_type": "stream",
     "text": [
      "Updating extended object track =  0\n",
      "Updating extended object track =  0\n",
      "Updating extended object track =  0\n",
      "Updating extended object track =  0\n",
      "Updating extended object track =  1\n",
      "Updating extended object track =  0\n",
      "Tracks are similar! do not open a new trk (-0.0005391359925775166, 0.01754915409789682, 0.5641035813617168) (0.0001670095751583834, -0.0009528964639684795, -0.030737295505594227)\n",
      "Opening flipped polynom!!!\n",
      "Tracks are similar! do not open a new trk (-0.009208045736155438, -0.0474778418494992, 40.57032261808895) (-0.010627358540720413, 0.03264359116894423, 39.757321640477564)\n",
      "Tracks are similar! do not open a new trk (-0.0054628488778867045, 0.1823923533268137, 5.32189881449219) (-0.004392020737968849, 0.0368428090773146, 9.2559433128306)\n",
      "Tracks are similar! do not open a new trk (-0.0054628488778867045, 0.1823923533268137, 5.32189881449219) (-0.0038319053852878078, -0.039687910676712415, 13.511303910632492)\n",
      "len(unique_polynoms) 2\n",
      "frame 88\n",
      "Number of point tracks before run() 480\n",
      "Number of extended tracks before run() 3\n"
     ]
    },
    {
     "name": "stderr",
     "output_type": "stream",
     "text": [
      "/home/kfir/workspace/RadarLocalization/tracker.py:63: VisibleDeprecationWarning: Creating an ndarray from ragged nested sequences (which is a list-or-tuple of lists-or-tuples-or ndarrays with different lengths or shapes) is deprecated. If you meant to do this, you must specify 'dtype=object' when creating the ndarray\n",
      "  Ha = np.array([1, zx, zx**2])\n"
     ]
    },
    {
     "name": "stdout",
     "output_type": "stream",
     "text": [
      "Updating extended object track =  2\n",
      "Updating extended object track =  2\n",
      "Updating extended object track =  2\n",
      "Updating extended object track =  0\n",
      "Updating extended object track =  2\n",
      "Updating extended object track =  0\n",
      "Updating extended object track =  2\n",
      "Updating extended object track =  0\n",
      "Updating extended object track =  0\n",
      "Updating extended object track =  1\n",
      "Updating extended object track =  0\n",
      "Updating extended object track =  1\n",
      "Updating extended object track =  1\n"
     ]
    },
    {
     "name": "stderr",
     "output_type": "stream",
     "text": [
      "/home/kfir/workspace/RadarLocalization/tracker.py:88: RuntimeWarning: divide by zero encountered in double_scalars\n",
      "  ratio = np.sqrt(lp)/le\n"
     ]
    },
    {
     "name": "stdout",
     "output_type": "stream",
     "text": [
      "Tracks are similar! do not open a new trk (-0.0005357436824522273, 0.017573989746376896, 0.5625541863592368) (0.000131703268206207, -0.0008594340516469933, -0.022839693986429457)\n",
      "Opening flipped polynom!!!\n",
      "Tracks are similar! do not open a new trk (-0.009197076005014463, -0.04775731111918956, 40.57121760812291) (-0.010517871705833855, 0.02751211405965979, 39.79920192962609)\n",
      "Tracks are similar! do not open a new trk (-0.00546043832073087, 0.18212222609287362, 5.327095265384527) (-0.004450030467844674, 0.04533947713330059, 8.969875814451033)\n",
      "Tracks are similar! do not open a new trk (-0.00546043832073087, 0.18212222609287362, 5.327095265384527) (-0.0036707046925019238, -0.05875282152022473, 14.056269162762172)\n",
      "len(unique_polynoms) 3\n",
      "frame 89\n",
      "Number of point tracks before run() 478\n",
      "Number of extended tracks before run() 3\n"
     ]
    },
    {
     "name": "stderr",
     "output_type": "stream",
     "text": [
      "/home/kfir/workspace/RadarLocalization/tracker.py:63: VisibleDeprecationWarning: Creating an ndarray from ragged nested sequences (which is a list-or-tuple of lists-or-tuples-or ndarrays with different lengths or shapes) is deprecated. If you meant to do this, you must specify 'dtype=object' when creating the ndarray\n",
      "  Ha = np.array([1, zx, zx**2])\n",
      "/home/kfir/workspace/RadarLocalization/tracker.py:88: RuntimeWarning: divide by zero encountered in double_scalars\n",
      "  ratio = np.sqrt(lp)/le\n"
     ]
    },
    {
     "name": "stdout",
     "output_type": "stream",
     "text": [
      "Updating extended object track =  0\n",
      "Updating extended object track =  0\n",
      "Updating extended object track =  0\n",
      "Updating extended object track =  0\n",
      "Updating extended object track =  0\n",
      "Tracks are similar! do not open a new trk (-0.0005357436824522273, 0.017573989746376896, 0.5625541863592368) (9.959429823505646e-05, 0.0002973350105763411, -0.02372885582651787)\n",
      "Opening flipped polynom!!!\n",
      "Tracks are similar! do not open a new trk (-0.009195195827821483, -0.04781795368164955, 40.57246954237167) (-0.01053941704204699, 0.02725867766966949, 39.82909975619824)\n",
      "Tracks are similar! do not open a new trk (-0.00546043832073087, 0.18212222609287362, 5.327095265384527) (-0.0042212136630531945, 0.015033516331231308, 9.944231411926586)\n",
      "len(unique_polynoms) 1\n",
      "frame 90\n",
      "Number of point tracks before run() 484\n",
      "Number of extended tracks before run() 3\n"
     ]
    },
    {
     "name": "stderr",
     "output_type": "stream",
     "text": [
      "/home/kfir/workspace/RadarLocalization/tracker.py:63: VisibleDeprecationWarning: Creating an ndarray from ragged nested sequences (which is a list-or-tuple of lists-or-tuples-or ndarrays with different lengths or shapes) is deprecated. If you meant to do this, you must specify 'dtype=object' when creating the ndarray\n",
      "  Ha = np.array([1, zx, zx**2])\n",
      "/home/kfir/workspace/RadarLocalization/tracker.py:88: RuntimeWarning: divide by zero encountered in double_scalars\n",
      "  ratio = np.sqrt(lp)/le\n"
     ]
    },
    {
     "name": "stdout",
     "output_type": "stream",
     "text": [
      "Updating extended object track =  2\n",
      "Updating extended object track =  0\n",
      "Updating extended object track =  0\n",
      "Updating extended object track =  0\n",
      "Updating extended object track =  0\n",
      "Updating extended object track =  1\n",
      "Updating extended object track =  0\n",
      "Updating extended object track =  0\n",
      "Tracks are similar! do not open a new trk (-0.0005382718165511519, 0.017721704660650223, 0.5628040261572674) (0.0001060889024288229, -0.0009776987590274142, -0.01610011836056992)\n",
      "Opening flipped polynom!!!\n",
      "Tracks are similar! do not open a new trk (-0.009201024920895457, -0.047494144249015526, 40.5678886321103) (-0.01055825984319638, 0.03129190026071563, 39.643618296787295)\n",
      "Tracks are similar! do not open a new trk (-0.005458910130091733, 0.18203767000668405, 5.323922181576496) (-0.004126821412735328, 0.015279323616423436, 9.54293480549021)\n",
      "Tracks are similar! do not open a new trk (-0.005458910130091733, 0.18203767000668405, 5.323922181576496) (-0.00386022968508305, -0.030622661538305323, 9.935453656239538)\n",
      "len(unique_polynoms) 3\n",
      "frame 91\n",
      "Number of point tracks before run() 491\n",
      "Number of extended tracks before run() 3\n"
     ]
    },
    {
     "name": "stderr",
     "output_type": "stream",
     "text": [
      "/home/kfir/workspace/RadarLocalization/tracker.py:63: VisibleDeprecationWarning: Creating an ndarray from ragged nested sequences (which is a list-or-tuple of lists-or-tuples-or ndarrays with different lengths or shapes) is deprecated. If you meant to do this, you must specify 'dtype=object' when creating the ndarray\n",
      "  Ha = np.array([1, zx, zx**2])\n",
      "/home/kfir/workspace/RadarLocalization/tracker.py:88: RuntimeWarning: divide by zero encountered in double_scalars\n",
      "  ratio = np.sqrt(lp)/le\n"
     ]
    },
    {
     "name": "stdout",
     "output_type": "stream",
     "text": [
      "Updating extended object track =  2\n",
      "Updating extended object track =  0\n",
      "Updating extended object track =  2\n",
      "Updating extended object track =  0\n",
      "Updating extended object track =  0\n",
      "Updating extended object track =  0\n",
      "Updating extended object track =  0\n",
      "Updating extended object track =  0\n",
      "Tracks are similar! do not open a new trk (-0.000536600181921268, 0.01766306384275434, 0.56386570098581) (0.00012809924204209582, -0.0013910767184260493, -0.0209742266841043)\n",
      "Opening flipped polynom!!!\n",
      "Tracks are similar! do not open a new trk (-0.009207333565448663, -0.04718043192856697, 40.564856960681546) (-0.010518142657920377, 0.026183695170051136, 39.638982176356905)\n",
      "Tracks are similar! do not open a new trk (-0.005458910130091733, 0.18203767000668405, 5.323922181576496) (-0.004315684622278158, 0.041095255632866444, 8.674719791291626)\n",
      "len(unique_polynoms) 2\n",
      "frame 92\n",
      "Number of point tracks before run() 488\n",
      "Number of extended tracks before run() 3\n"
     ]
    },
    {
     "name": "stderr",
     "output_type": "stream",
     "text": [
      "/home/kfir/workspace/RadarLocalization/tracker.py:63: VisibleDeprecationWarning: Creating an ndarray from ragged nested sequences (which is a list-or-tuple of lists-or-tuples-or ndarrays with different lengths or shapes) is deprecated. If you meant to do this, you must specify 'dtype=object' when creating the ndarray\n",
      "  Ha = np.array([1, zx, zx**2])\n",
      "/home/kfir/workspace/RadarLocalization/tracker.py:88: RuntimeWarning: divide by zero encountered in double_scalars\n",
      "  ratio = np.sqrt(lp)/le\n"
     ]
    },
    {
     "name": "stdout",
     "output_type": "stream",
     "text": [
      "Updating extended object track =  2\n",
      "Updating extended object track =  2\n",
      "Updating extended object track =  0\n",
      "Updating extended object track =  2\n",
      "Updating extended object track =  0\n",
      "Updating extended object track =  2\n",
      "Updating extended object track =  0\n",
      "Updating extended object track =  0\n",
      "Updating extended object track =  2\n",
      "Tracks are similar! do not open a new trk (-0.0005337839572817546, 0.017547210924767596, 0.5637492968271158) (0.000133056876470589, -0.0010676120077414432, -0.02839495816606889)\n",
      "Opening flipped polynom!!!\n",
      "Tracks are similar! do not open a new trk (-0.009200733152877985, -0.04737113570334778, 40.56545354018129) (-0.0105004479366769, 0.02437940457132688, 39.6573908686651)\n",
      "Tracks are similar! do not open a new trk (-0.005458910130091733, 0.18203767000668405, 5.323922181576496) (-0.003965537628730803, -0.010105001044088131, 10.259709106830242)\n",
      "len(unique_polynoms) 2\n",
      "frame 93\n",
      "Number of point tracks before run() 489\n",
      "Number of extended tracks before run() 3\n"
     ]
    },
    {
     "name": "stderr",
     "output_type": "stream",
     "text": [
      "/home/kfir/workspace/RadarLocalization/tracker.py:63: VisibleDeprecationWarning: Creating an ndarray from ragged nested sequences (which is a list-or-tuple of lists-or-tuples-or ndarrays with different lengths or shapes) is deprecated. If you meant to do this, you must specify 'dtype=object' when creating the ndarray\n",
      "  Ha = np.array([1, zx, zx**2])\n",
      "/home/kfir/workspace/RadarLocalization/tracker.py:88: RuntimeWarning: divide by zero encountered in double_scalars\n",
      "  ratio = np.sqrt(lp)/le\n"
     ]
    },
    {
     "name": "stdout",
     "output_type": "stream",
     "text": [
      "Updating extended object track =  0\n",
      "Updating extended object track =  0\n",
      "Updating extended object track =  0\n",
      "Updating extended object track =  2\n",
      "Updating extended object track =  0\n",
      "Updating extended object track =  1\n",
      "Updating extended object track =  0\n",
      "Tracks are similar! do not open a new trk (-0.0005317333972764645, 0.01747902070334752, 0.5634755929349203) (0.00012222318820059242, -0.0010013439969079958, -0.03376292704678903)\n",
      "Opening flipped polynom!!!\n",
      "Tracks are similar! do not open a new trk (-0.00919634452168706, -0.04760591517984024, 40.56859975594907) (-0.010416365440440679, 0.013829113359212216, 39.86981541718302)\n",
      "Tracks are similar! do not open a new trk (-0.0054597896563787, 0.18213593966350386, 5.322034647921044) (-0.003922522066490061, -0.01585907652113585, 10.43969236005392)\n",
      "Tracks are similar! do not open a new trk (-0.0054597896563787, 0.18213593966350386, 5.322034647921044) (-0.0038752704430770352, -0.01555813913453198, 11.64587618049593)\n",
      "len(unique_polynoms) 3\n",
      "frame 94\n",
      "Number of point tracks before run() 486\n",
      "Number of extended tracks before run() 3\n"
     ]
    },
    {
     "name": "stderr",
     "output_type": "stream",
     "text": [
      "/home/kfir/workspace/RadarLocalization/tracker.py:63: VisibleDeprecationWarning: Creating an ndarray from ragged nested sequences (which is a list-or-tuple of lists-or-tuples-or ndarrays with different lengths or shapes) is deprecated. If you meant to do this, you must specify 'dtype=object' when creating the ndarray\n",
      "  Ha = np.array([1, zx, zx**2])\n",
      "/home/kfir/workspace/RadarLocalization/tracker.py:88: RuntimeWarning: divide by zero encountered in double_scalars\n",
      "  ratio = np.sqrt(lp)/le\n"
     ]
    },
    {
     "name": "stdout",
     "output_type": "stream",
     "text": [
      "Updating extended object track =  2\n",
      "Updating extended object track =  0\n",
      "Updating extended object track =  2\n",
      "Updating extended object track =  1\n",
      "Updating extended object track =  0\n",
      "Updating extended object track =  0\n",
      "Updating extended object track =  0\n",
      "Tracks are similar! do not open a new trk (-0.000529665503442109, 0.017427887940908417, 0.5623678529943368) (0.00023202502648571031, -0.00402374441099501, -0.03438310693541271)\n",
      "Opening flipped polynom!!!\n",
      "Tracks are similar! do not open a new trk (-0.009199344911192392, -0.047459907175654216, 40.56729421253547) (-0.010411501935573546, 0.01343159968832424, 39.8755776732962)\n",
      "Tracks are similar! do not open a new trk (-0.0054619455337603946, 0.18229255875936815, 5.323600832469001) (-0.004038095779809842, 0.0066823784235200395, 9.513003068381112)\n",
      "Tracks are similar! do not open a new trk (-0.000529665503442109, 0.017427887940908417, 0.5623678529943368) (-0.00011358902473360266, 0.00378447129343974, -1.1819815400633995)\n",
      "Tracks are similar! do not open a new trk (-0.0054619455337603946, 0.18229255875936815, 5.323600832469001) (-0.004091827526345169, 0.01711084294261301, 10.46105688561911)\n",
      "len(unique_polynoms) 3\n",
      "frame 95\n",
      "Number of point tracks before run() 480\n",
      "Number of extended tracks before run() 3\n"
     ]
    },
    {
     "name": "stderr",
     "output_type": "stream",
     "text": [
      "/home/kfir/workspace/RadarLocalization/tracker.py:63: VisibleDeprecationWarning: Creating an ndarray from ragged nested sequences (which is a list-or-tuple of lists-or-tuples-or ndarrays with different lengths or shapes) is deprecated. If you meant to do this, you must specify 'dtype=object' when creating the ndarray\n",
      "  Ha = np.array([1, zx, zx**2])\n",
      "/home/kfir/workspace/RadarLocalization/tracker.py:88: RuntimeWarning: divide by zero encountered in double_scalars\n",
      "  ratio = np.sqrt(lp)/le\n"
     ]
    },
    {
     "name": "stdout",
     "output_type": "stream",
     "text": [
      "Updating extended object track =  2\n",
      "Updating extended object track =  0\n",
      "Updating extended object track =  0\n",
      "Updating extended object track =  0\n",
      "Tracks are similar! do not open a new trk (-0.0005292131181016188, 0.017389293729280456, 0.5630768444888804) (0.00018895407087919766, -0.00429947727197872, -0.004009082100426042)\n",
      "Opening flipped polynom!!!\n",
      "Tracks are similar! do not open a new trk (-0.009231649337396038, -0.04582706895839476, 40.550543934508404) (-0.010466095749717607, 0.015411406959762524, 39.871699430514184)\n",
      "Tracks are similar! do not open a new trk (-0.0054619455337603946, 0.18229255875936815, 5.323600832469001) (-0.004407962323766088, 0.05842319900634169, 7.971344396537277)\n",
      "len(unique_polynoms) 2\n",
      "frame 96\n",
      "Number of point tracks before run() 486\n",
      "Number of extended tracks before run() 3\n"
     ]
    },
    {
     "name": "stderr",
     "output_type": "stream",
     "text": [
      "/home/kfir/workspace/RadarLocalization/tracker.py:63: VisibleDeprecationWarning: Creating an ndarray from ragged nested sequences (which is a list-or-tuple of lists-or-tuples-or ndarrays with different lengths or shapes) is deprecated. If you meant to do this, you must specify 'dtype=object' when creating the ndarray\n",
      "  Ha = np.array([1, zx, zx**2])\n",
      "/home/kfir/workspace/RadarLocalization/tracker.py:88: RuntimeWarning: divide by zero encountered in double_scalars\n",
      "  ratio = np.sqrt(lp)/le\n"
     ]
    },
    {
     "name": "stdout",
     "output_type": "stream",
     "text": [
      "Updating extended object track =  2\n",
      "Updating extended object track =  2\n",
      "Updating extended object track =  0\n",
      "Updating extended object track =  0\n",
      "Updating extended object track =  0\n",
      "Updating extended object track =  0\n",
      "Updating extended object track =  0\n",
      "Updating extended object track =  0\n",
      "Tracks are similar! do not open a new trk (-0.000525504201845671, 0.017228389436747846, 0.5634068570226469) (0.00012613180321592485, -0.002193855356851282, -0.0073116142592875985)\n",
      "Opening flipped polynom!!!\n",
      "Tracks are similar! do not open a new trk (-0.00925446423097961, -0.044774007418884966, 40.5392891478829) (-0.0103989404857001, 0.0029563642230941455, 40.19912481303015)\n",
      "Tracks are similar! do not open a new trk (-0.0054619455337603946, 0.18229255875936815, 5.323600832469001) (-0.004112644022449973, 0.01700231946616284, 9.15801168976657)\n",
      "Tracks are similar! do not open a new trk (-0.0054619455337603946, 0.18229255875936815, 5.323600832469001) (-0.004365672929654792, 0.05952734899765355, 8.846244422020947)\n",
      "len(unique_polynoms) 2\n",
      "frame 97\n",
      "Number of point tracks before run() 491\n",
      "Number of extended tracks before run() 3\n"
     ]
    },
    {
     "name": "stderr",
     "output_type": "stream",
     "text": [
      "/home/kfir/workspace/RadarLocalization/tracker.py:63: VisibleDeprecationWarning: Creating an ndarray from ragged nested sequences (which is a list-or-tuple of lists-or-tuples-or ndarrays with different lengths or shapes) is deprecated. If you meant to do this, you must specify 'dtype=object' when creating the ndarray\n",
      "  Ha = np.array([1, zx, zx**2])\n",
      "/home/kfir/workspace/RadarLocalization/tracker.py:88: RuntimeWarning: divide by zero encountered in double_scalars\n",
      "  ratio = np.sqrt(lp)/le\n"
     ]
    },
    {
     "name": "stdout",
     "output_type": "stream",
     "text": [
      "Updating extended object track =  0\n",
      "Updating extended object track =  0\n",
      "Updating extended object track =  0\n",
      "Updating extended object track =  0\n",
      "Updating extended object track =  2\n",
      "Updating extended object track =  0\n",
      "Updating extended object track =  0\n",
      "Tracks are similar! do not open a new trk (-0.0005237377462944106, 0.017112533154547572, 0.5632565678361624) (-0.00010076615003716554, 0.0032913078069034007, -0.17198214406241166)\n",
      "Opening flipped polynom!!!\n",
      "Tracks are similar! do not open a new trk (-0.009253233744421073, -0.04472738701357762, 40.53894887160941) (-0.01021829781918388, -0.005992642408073551, 40.28564599327136)\n",
      "Tracks are similar! do not open a new trk (-0.0054619455337603946, 0.18229255875936815, 5.323600832469001) (-0.0040680155632848635, 0.012056084943894726, 9.270262570433244)\n",
      "Tracks are similar! do not open a new trk (-0.0054619455337603946, 0.18229255875936815, 5.323600832469001) (-0.004553321481839795, 0.08714500560639772, 7.859038362720082)\n",
      "len(unique_polynoms) 2\n",
      "frame 98\n",
      "Number of point tracks before run() 497\n",
      "Number of extended tracks before run() 3\n"
     ]
    },
    {
     "name": "stderr",
     "output_type": "stream",
     "text": [
      "/home/kfir/workspace/RadarLocalization/tracker.py:63: VisibleDeprecationWarning: Creating an ndarray from ragged nested sequences (which is a list-or-tuple of lists-or-tuples-or ndarrays with different lengths or shapes) is deprecated. If you meant to do this, you must specify 'dtype=object' when creating the ndarray\n",
      "  Ha = np.array([1, zx, zx**2])\n",
      "/home/kfir/workspace/RadarLocalization/tracker.py:88: RuntimeWarning: divide by zero encountered in double_scalars\n",
      "  ratio = np.sqrt(lp)/le\n"
     ]
    },
    {
     "name": "stdout",
     "output_type": "stream",
     "text": [
      "Updating extended object track =  2\n",
      "Updating extended object track =  0\n",
      "Updating extended object track =  2\n",
      "Updating extended object track =  0\n",
      "Updating extended object track =  0\n",
      "Updating extended object track =  0\n",
      "Updating extended object track =  0\n",
      "Updating extended object track =  2\n",
      "Updating extended object track =  0\n",
      "Updating extended object track =  1\n",
      "Tracks are similar! do not open a new trk (-0.0005177190606079053, 0.016994856479554635, 0.5627225158301736) (-0.0001842201810353549, 0.00571744370879064, -0.1706227488370645)\n",
      "Opening flipped polynom!!!\n",
      "Tracks are similar! do not open a new trk (-0.009250808486985982, -0.04476385477593622, 40.538262024473056) (-0.010339845694129454, -0.003018389918352091, 40.28749110258743)\n",
      "Tracks are similar! do not open a new trk (-0.005462031767558891, 0.18221600903076676, 5.32752769706815) (-0.004444808549548068, 0.04137919584430345, 9.804075841340806)\n",
      "len(unique_polynoms) 3\n",
      "frame 99\n",
      "Number of point tracks before run() 486\n",
      "Number of extended tracks before run() 3\n"
     ]
    },
    {
     "name": "stderr",
     "output_type": "stream",
     "text": [
      "/home/kfir/workspace/RadarLocalization/tracker.py:63: VisibleDeprecationWarning: Creating an ndarray from ragged nested sequences (which is a list-or-tuple of lists-or-tuples-or ndarrays with different lengths or shapes) is deprecated. If you meant to do this, you must specify 'dtype=object' when creating the ndarray\n",
      "  Ha = np.array([1, zx, zx**2])\n",
      "/home/kfir/workspace/RadarLocalization/tracker.py:88: RuntimeWarning: divide by zero encountered in double_scalars\n",
      "  ratio = np.sqrt(lp)/le\n"
     ]
    },
    {
     "name": "stdout",
     "output_type": "stream",
     "text": [
      "Updating extended object track =  2\n",
      "Updating extended object track =  2\n",
      "Updating extended object track =  0\n",
      "Updating extended object track =  0\n",
      "Updating extended object track =  2\n",
      "Updating extended object track =  0\n",
      "Updating extended object track =  0\n",
      "Updating extended object track =  0\n",
      "Updating extended object track =  0\n",
      "Updating extended object track =  0\n",
      "Tracks are similar! do not open a new trk (-0.0005160729990005821, 0.016944108275214066, 0.5631505610605896) (-4.494019180828647e-05, 0.003058682554615789, -0.0016224417826746042)\n",
      "Opening flipped polynom!!!\n",
      "Tracks are similar! do not open a new trk (-0.009237463298797734, -0.0452415707870611, 40.54134288092081) (-0.010553360842556888, 0.007201543539357755, 40.1991331478355)\n",
      "Tracks are similar! do not open a new trk (-0.005462031767558891, 0.18221600903076676, 5.32752769706815) (-0.004154370610066149, 0.009626466264908963, 10.567341697138342)\n",
      "Tracks are similar! do not open a new trk (-0.005462031767558891, 0.18221600903076676, 5.32752769706815) (-0.003331758026887149, -0.09725560628664318, 12.410946309253585)\n",
      "len(unique_polynoms) 2\n"
     ]
    },
    {
     "data": {
      "image/png": "[encoded data removed]",
      "text/plain": [
       "<Figure size 2880x1080 with 6 Axes>"
      ]
     },
     "metadata": {},
     "output_type": "display_data"
    },
    {
     "data": {
      "image/png": "[encoded data removed]",
      "text/plain": [
       "<Figure size 2880x1080 with 3 Axes>"
      ]
     },
     "metadata": {},
     "output_type": "display_data"
    }
   ],
   "source": [
    "%load_ext autoreload\n",
    "%autoreload 2\n",
    "from simulation import DynamicSimulation\n",
    "from tracker import StaticTracker\n",
    "prior = [(0, 0, 0.00001, -10, 40, True), \n",
    "        (10, 0.009, -0.004, 50, 90, True),\n",
    "        (40, 0, -0.01, 1, 40, False)]\n",
    "#prior = [(0, 0, 0.00001, 3, 40, True)]\n",
    "#prior = [(2.191,1.169,-0.026,7,25,False)]\n",
    "#prior = [(27.5,-5,0.3,5,16,True)]\n",
    "#prior = [(25,0,0.13,-20,20,False)] #t0 offset\n",
    "#prior = [(30,0,0.2,-15,15,False)] #x0 0ffset\n",
    "#prior = [(30,0,0.2,-15,15,False)] #y0 0ffset\n",
    "#prior = [(60,0,-0.2,-15,15,False)]\n",
    "for i in range(5,6):\n",
    "    model = StaticTracker()\n",
    "    name = f\"simulations/dynamic_{i}\"\n",
    "    sim = DynamicSimulation(model,prior=prior,save_processed=True,video_flag=True,name=name)\n",
    "    res = sim.run(N=100)\n",
    "    #sim.video.generate(\"try.avi\")\n",
    "\n",
    "#analyzeResults(res[2:],prior)"
   ]
  },
  {
   "cell_type": "code",
   "execution_count": 30,
   "id": "4ab76f87",
   "metadata": {},
   "outputs": [
    {
     "name": "stderr",
     "output_type": "stream",
     "text": [
      "\r",
      "  0%|          | 0/20 [00:00<?, ?it/s]"
     ]
    },
    {
     "name": "stdout",
     "output_type": "stream",
     "text": [
      "The autoreload extension is already loaded. To reload it, use:\n",
      "  %reload_ext autoreload\n",
      "self.dir_name images/simulations/simulationD_0/database\n",
      "len(unique_polynoms) 0\n"
     ]
    },
    {
     "name": "stderr",
     "output_type": "stream",
     "text": [
      "\r",
      "  5%|▌         | 1/20 [00:00<00:11,  1.67it/s]"
     ]
    },
    {
     "name": "stdout",
     "output_type": "stream",
     "text": [
      "len(unique_polynoms) 0\n"
     ]
    },
    {
     "name": "stderr",
     "output_type": "stream",
     "text": [
      "\r",
      " 10%|█         | 2/20 [00:01<00:11,  1.59it/s]"
     ]
    },
    {
     "name": "stdout",
     "output_type": "stream",
     "text": [
      "len(unique_polynoms) 0\n"
     ]
    },
    {
     "name": "stderr",
     "output_type": "stream",
     "text": [
      "\r",
      " 15%|█▌        | 3/20 [00:01<00:11,  1.54it/s]"
     ]
    },
    {
     "name": "stdout",
     "output_type": "stream",
     "text": [
      "len(unique_polynoms) 0\n"
     ]
    },
    {
     "name": "stderr",
     "output_type": "stream",
     "text": [
      "\r",
      " 20%|██        | 4/20 [00:03<00:12,  1.27it/s]"
     ]
    },
    {
     "name": "stdout",
     "output_type": "stream",
     "text": [
      "len(unique_polynoms) 0\n"
     ]
    },
    {
     "name": "stderr",
     "output_type": "stream",
     "text": [
      "\r",
      " 25%|██▌       | 5/20 [00:03<00:12,  1.24it/s]"
     ]
    },
    {
     "name": "stdout",
     "output_type": "stream",
     "text": [
      "len(unique_polynoms) 1\n"
     ]
    },
    {
     "name": "stderr",
     "output_type": "stream",
     "text": [
      "\r",
      " 30%|███       | 6/20 [00:04<00:10,  1.34it/s]"
     ]
    },
    {
     "name": "stdout",
     "output_type": "stream",
     "text": [
      "len(unique_polynoms) 3\n"
     ]
    },
    {
     "name": "stderr",
     "output_type": "stream",
     "text": [
      "\r",
      " 35%|███▌      | 7/20 [00:05<00:09,  1.38it/s]"
     ]
    },
    {
     "name": "stdout",
     "output_type": "stream",
     "text": [
      "len(unique_polynoms) 3\n"
     ]
    },
    {
     "name": "stderr",
     "output_type": "stream",
     "text": [
      "\r",
      " 40%|████      | 8/20 [00:06<00:08,  1.34it/s]"
     ]
    },
    {
     "name": "stdout",
     "output_type": "stream",
     "text": [
      "len(unique_polynoms) 3\n"
     ]
    },
    {
     "name": "stderr",
     "output_type": "stream",
     "text": [
      "\r",
      " 45%|████▌     | 9/20 [00:06<00:08,  1.36it/s]"
     ]
    },
    {
     "name": "stdout",
     "output_type": "stream",
     "text": [
      "len(unique_polynoms) 3\n"
     ]
    },
    {
     "name": "stderr",
     "output_type": "stream",
     "text": [
      "\r",
      " 50%|█████     | 10/20 [00:07<00:07,  1.37it/s]"
     ]
    },
    {
     "name": "stdout",
     "output_type": "stream",
     "text": [
      "len(unique_polynoms) 3\n"
     ]
    },
    {
     "name": "stderr",
     "output_type": "stream",
     "text": [
      "\r",
      " 55%|█████▌    | 11/20 [00:08<00:06,  1.32it/s]"
     ]
    },
    {
     "name": "stdout",
     "output_type": "stream",
     "text": [
      "len(unique_polynoms) 3\n"
     ]
    },
    {
     "name": "stderr",
     "output_type": "stream",
     "text": [
      "\r",
      " 60%|██████    | 12/20 [00:09<00:06,  1.33it/s]"
     ]
    },
    {
     "name": "stdout",
     "output_type": "stream",
     "text": [
      "len(unique_polynoms) 3\n"
     ]
    },
    {
     "name": "stderr",
     "output_type": "stream",
     "text": [
      "\r",
      " 65%|██████▌   | 13/20 [00:09<00:05,  1.29it/s]"
     ]
    },
    {
     "name": "stdout",
     "output_type": "stream",
     "text": [
      "len(unique_polynoms) 2\n"
     ]
    },
    {
     "name": "stderr",
     "output_type": "stream",
     "text": [
      "\r",
      " 70%|███████   | 14/20 [00:10<00:04,  1.26it/s]"
     ]
    },
    {
     "name": "stdout",
     "output_type": "stream",
     "text": [
      "len(unique_polynoms) 3\n"
     ]
    },
    {
     "name": "stderr",
     "output_type": "stream",
     "text": [
      "\r",
      " 75%|███████▌  | 15/20 [00:11<00:03,  1.26it/s]"
     ]
    },
    {
     "name": "stdout",
     "output_type": "stream",
     "text": [
      "len(unique_polynoms) 3\n"
     ]
    },
    {
     "name": "stderr",
     "output_type": "stream",
     "text": [
      "\r",
      " 80%|████████  | 16/20 [00:12<00:03,  1.28it/s]"
     ]
    },
    {
     "name": "stdout",
     "output_type": "stream",
     "text": [
      "len(unique_polynoms) 3\n"
     ]
    },
    {
     "name": "stderr",
     "output_type": "stream",
     "text": [
      "\r",
      " 85%|████████▌ | 17/20 [00:13<00:02,  1.26it/s]"
     ]
    },
    {
     "name": "stdout",
     "output_type": "stream",
     "text": [
      "len(unique_polynoms) 3\n"
     ]
    },
    {
     "name": "stderr",
     "output_type": "stream",
     "text": [
      "\r",
      " 90%|█████████ | 18/20 [00:13<00:01,  1.28it/s]"
     ]
    },
    {
     "name": "stdout",
     "output_type": "stream",
     "text": [
      "len(unique_polynoms) 3\n"
     ]
    },
    {
     "name": "stderr",
     "output_type": "stream",
     "text": [
      "\r",
      " 95%|█████████▌| 19/20 [00:14<00:00,  1.29it/s]"
     ]
    },
    {
     "name": "stdout",
     "output_type": "stream",
     "text": [
      "len(unique_polynoms) 3\n"
     ]
    },
    {
     "name": "stderr",
     "output_type": "stream",
     "text": [
      "100%|██████████| 20/20 [00:15<00:00,  1.30it/s]\n"
     ]
    },
    {
     "data": {
      "image/png": "[encoded data removed]",
      "text/plain": [
       "<matplotlib.figure.Figure at 0x7f05d848a908>"
      ]
     },
     "metadata": {
      "needs_background": "light"
     },
     "output_type": "display_data"
    },
    {
     "data": {
      "image/png": "[encoded data removed]",
      "text/plain": [
       "<matplotlib.figure.Figure at 0x7f05d56eaa58>"
      ]
     },
     "metadata": {
      "needs_background": "light"
     },
     "output_type": "display_data"
    }
   ],
   "source": [
    "%load_ext autoreload\n",
    "%autoreload 2\n",
    "from database import SimulatedProcessedDatabase\n",
    "from video import SimulationVideo\n",
    "from tqdm import tqdm\n",
    "\n",
    "#configuration for simulations:\n",
    "# DBSCAN(eps=2)\n",
    "# self.pnt_max_non_update_iterations = 4 # 8\n",
    "# self.ext_max_non_update_iterations = 5 # 10\n",
    "# trk similarity check: if dist < 10: #was 2\n",
    "# if stage == 0:\n",
    "#X0 = np.arange(-7,7,1)\n",
    "#Y0 = np.arange(-7,7,1)\n",
    "#T0 = np.array([0])\n",
    "#if c[2] > 0.1:\n",
    "#    T0 = np.arange(-6,6,1)\n",
    "#if stage == 1:\n",
    "#X0 = np.arange(X0_coarse-1,X0_coarse+1,0.2)\n",
    "#Y0 = np.arange(Y0_coarse-1,Y0_coarse+1,0.2)\n",
    "#T0 = np.array([0])\n",
    "#if c[2] > 0.1:\n",
    "#    T0 = np.arange(T0_coarse-1,T0_coarse+1,0.2)\n",
    "\n",
    "name = \"simulations/simulationD_0\"\n",
    "data = SimulatedProcessedDatabase(name)\n",
    "vid = SimulationVideo(name)\n",
    "for t in tqdm(range(0,20)):\n",
    "    prior, video_data, points, polynoms, debug_info, pos = data.load(t)\n",
    "    vid.save(t, prior, video_data, points, polynoms, debug_info, pos)"
   ]
  },
  {
   "cell_type": "code",
   "execution_count": 178,
   "id": "6a6e10c4",
   "metadata": {},
   "outputs": [
    {
     "name": "stdout",
     "output_type": "stream",
     "text": [
      "[[{'f': poly1d([  1.09718071, -10.83597746,  34.01642969]), 'x_start': 5.776204946051699, 'x_end': 7.634726083428461, 'fxFlag': False}], [{'f': poly1d([ 0.49354412, -3.46557648,  9.64561674]), 'x_start': 5.794790157425467, 'x_end': 7.616140872054694, 'fxFlag': False}], [{'f': poly1d([  1.04367673, -11.43984101,  38.41297554]), 'x_start': 5.8130036645717595, 'x_end': 7.597927364908402, 'fxFlag': False}], [{'f': poly1d([  1.51122598, -17.86823976,  60.44238428]), 'x_start': 5.264530591429584, 'x_end': 7.551264193909731, 'fxFlag': False}], [{'f': poly1d([  1.51140247, -17.86632244,  60.41928565]), 'x_start': 5.287397927454386, 'x_end': 7.528396857884929, 'fxFlag': False}], [{'f': poly1d([  1.49854861, -17.70098462,  59.89857764]), 'x_start': 5.309807916758691, 'x_end': 7.5059868685806235, 'fxFlag': False}], [{'f': poly1d([  1.49279294, -17.64442596,  59.77084951]), 'x_start': 5.331769706276911, 'x_end': 7.4840250790624046, 'fxFlag': False}], [{'f': poly1d([  1.49852387, -17.71155334,  59.9595044 ]), 'x_start': 5.353292260004766, 'x_end': 7.46250252533455, 'fxFlag': False}], [{'f': poly1d([  1.50440168, -17.79262182,  60.23637088]), 'x_start': 5.374384362658064, 'x_end': 7.441410422681252, 'fxFlag': False}]]\n",
      "dist 36.76317161558736 xmax 7.441410422681252 xmin 10\n",
      "ass_list [(0, 0)]\n",
      "ComputeCoeffErrors: mean err for prior (27.5, -5, 0.3, 10, 16.1, True) = (8.555954105380854,3.3479403680344806,0.33152952299920435)\n",
      "ComputePolynomDistance: dist_mean_err for prior (27.5, -5, 0.3, 10, 16.1, True) = 30.305822083273668\n",
      "ComputePolynomDistance: dist_max_err for prior (27.5, -5, 0.3, 10, 16.1, True) = 37.37149512298302\n",
      "ComputeOverlappingArea: overlap_mean for prior (27.5, -5, 0.3, 10, 16.1, True) = 0.23199681644803538\n",
      "ComputeOverlappingArea: overlap_min for prior (27.5, -5, 0.3, 10, 16.1, True) = 0.2259925909765772\n",
      "ComputeNonOverlappingArea: onon_verlap_mean for prior (27.5, -5, 0.3, 10, 16.1, True) = 4.521646496374298\n",
      "ComputeNonOverlappingArea: non_overlap_max for prior (27.5, -5, 0.3, 10, 16.1, True) = 4.735469408570416\n"
     ]
    }
   ],
   "source": [
    "prior = [(27.5,-5,0.3,10,16.1,True)]\n",
    "print(res[21:])\n",
    "analyzeResults(res[21:],prior)"
   ]
  },
  {
   "cell_type": "code",
   "execution_count": 76,
   "id": "e0ebec3b",
   "metadata": {},
   "outputs": [
    {
     "name": "stderr",
     "output_type": "stream",
     "text": [
      "[autoreload of dataset failed: Traceback (most recent call last):\n",
      "  File \"/usr/local/lib/python3.6/dist-packages/IPython/extensions/autoreload.py\", line 245, in check\n",
      "    superreload(m, reload, self.old_objects)\n",
      "  File \"/usr/local/lib/python3.6/dist-packages/IPython/extensions/autoreload.py\", line 394, in superreload\n",
      "    module = reload(module)\n",
      "  File \"/usr/lib/python3.6/imp.py\", line 315, in reload\n",
      "    return importlib.reload(module)\n",
      "  File \"/usr/lib/python3.6/importlib/__init__.py\", line 166, in reload\n",
      "    _bootstrap._exec(spec, module)\n",
      "  File \"<frozen importlib._bootstrap>\", line 618, in _exec\n",
      "  File \"<frozen importlib._bootstrap_external>\", line 674, in exec_module\n",
      "  File \"<frozen importlib._bootstrap_external>\", line 781, in get_code\n",
      "  File \"<frozen importlib._bootstrap_external>\", line 741, in source_to_code\n",
      "  File \"<frozen importlib._bootstrap>\", line 219, in _call_with_frames_removed\n",
      "  File \"/home/kfir/workspace/RadarLocalization/dataset.py\", line 97\n",
      "    prior_list.append({\"c\": (coeff[0], coeff[1], coeff[2]), \"xmin\": coeff[3], \"xmax\": coeff[4]}, \"fx\":  coeff[5])\n",
      "                                                                                                     ^\n",
      "SyntaxError: invalid syntax\n",
      "]\n"
     ]
    },
    {
     "data": {
      "text/plain": [
       "array([[5, 4],\n",
       "       [3, 2]])"
      ]
     },
     "execution_count": 76,
     "metadata": {},
     "output_type": "execute_result"
    }
   ],
   "source": [
    "np.flip(np.array([[2, 3],[4,5]]))"
   ]
  },
  {
   "cell_type": "code",
   "execution_count": 77,
   "id": "376fe631",
   "metadata": {},
   "outputs": [
    {
     "data": {
      "text/plain": [
       "array([[5, 4],\n",
       "       [3, 2]])"
      ]
     },
     "execution_count": 77,
     "metadata": {},
     "output_type": "execute_result"
    }
   ],
   "source": [
    "np.flip(np.array([[2, 3],[4,5]]))"
   ]
  },
  {
   "cell_type": "code",
   "execution_count": 20,
   "id": "9a9a6915",
   "metadata": {},
   "outputs": [],
   "source": [
    "import scipy.optimize"
   ]
  },
  {
   "cell_type": "code",
   "execution_count": 50,
   "id": "70b27bcc",
   "metadata": {},
   "outputs": [
    {
     "name": "stdout",
     "output_type": "stream",
     "text": [
      "0.43612146377563477\n",
      "res [17.71929741]\n",
      "[17.71929741] [9.91166475]\n"
     ]
    }
   ],
   "source": [
    "import numpy as np\n",
    "import time\n",
    "\n",
    "px,py = 10,23\n",
    "a0, a1, a2 = 5, 0.1, 0.01\n",
    "t1 = time.time()\n",
    "for i in range(400):\n",
    "    res = scipy.optimize.minimize(lambda x : np.sqrt((px-x)**2+(py-(a0+i/10.)+a1*x+a2*x**2)**2), x0=[5])\n",
    "t2 = time.time()\n",
    "print(t2-t1)\n",
    "print(\"res\",res.x)\n",
    "print(res.x, a0 + a1*res.x + a2*res.x**2)\n",
    "optx = res.x\n",
    "opty = a0 + a1*res.x + a2*res.x**2"
   ]
  },
  {
   "cell_type": "code",
   "execution_count": 55,
   "id": "59a2fca8",
   "metadata": {},
   "outputs": [
    {
     "name": "stdout",
     "output_type": "stream",
     "text": [
      "0.008011102676391602\n",
      "15.151515151515156 8.810835629017449\n",
      "15.095379886013166\n",
      "15.195133173954204\n"
     ]
    }
   ],
   "source": [
    "import math\n",
    "t3 = time.time()\n",
    "x = np.linspace(-100,100, 100)\n",
    "y = a0 + a1*x+a2*x**2\n",
    "for i in range(400):\n",
    "    a = np.argmin(np.sqrt((x-px)**2+(y-py)**2))\n",
    "t4 = time.time()\n",
    "print(t4-t3)\n",
    "print(x[a], y[a])\n",
    "print(math.sqrt((x[a]-px)**2+(y[a]-py)**2))\n",
    "print(math.sqrt((optx-px)**2+(opty-py)**2))"
   ]
  },
  {
   "cell_type": "code",
   "execution_count": 81,
   "id": "96b064ed",
   "metadata": {},
   "outputs": [],
   "source": [
    "import numpy.polynomial.polynomial as P"
   ]
  },
  {
   "cell_type": "code",
   "execution_count": 97,
   "id": "c2d7f178",
   "metadata": {},
   "outputs": [
    {
     "name": "stdout",
     "output_type": "stream",
     "text": [
      "10.0\n"
     ]
    }
   ],
   "source": [
    "f1 = (1, 1, 2)\n",
    "f2 = (1.1, 1, 2.2)\n",
    "f1mf2 = P.polysub(f1,f2)\n",
    "f1mf2 = P.polymul(f1mf2,f1mf2)\n",
    "val = P.polyint(f1mf2,lbnd=-10)\n",
    "a = P.polyval(-10, val) + P.polyval(5,10)\n",
    "print(a)"
   ]
  },
  {
   "cell_type": "code",
   "execution_count": 68,
   "id": "919b6c8c",
   "metadata": {},
   "outputs": [
    {
     "name": "stdout",
     "output_type": "stream",
     "text": [
      "[[{'f': poly1d([-1.02236445e-02,  5.34088473e-03,  3.98952978e+01]), 'x_start': -0.5529887922981365, 'x_end': 39.97303174577813, 'fxFlag': False}, {'f': poly1d([-0.00042631,  0.01510269, -0.11574659]), 'x_start': 4.833046593282244, 'x_end': 38.7783703938952, 'fxFlag': True}, {'f': poly1d([-4.46306256e-03,  6.61758397e-02,  8.85350905e+00]), 'x_start': 50.314965236442816, 'x_end': 77.68272844134319, 'fxFlag': True}], [{'f': poly1d([-1.03754735e-02,  1.29286493e-02,  3.98142964e+01]), 'x_start': -0.3503586896077549, 'x_end': 39.77040164308775, 'fxFlag': False}, {'f': poly1d([-0.0002941 ,  0.01255984, -0.13503909]), 'x_start': 4.162537176968926, 'x_end': 38.60097408217034, 'fxFlag': True}, {'f': poly1d([-1.94101401e-03, -2.51104960e-01,  1.84207231e+01]), 'x_start': 50.526461484425944, 'x_end': 85.7248176360228, 'fxFlag': True}], [{'f': poly1d([-1.03754735e-02,  1.29286493e-02,  3.98142964e+01]), 'x_start': -0.1497548879442772, 'x_end': 39.569797841424275, 'fxFlag': False}, {'f': poly1d([-3.86289304e-05,  4.39873279e-03, -7.64519168e-02]), 'x_start': 4.334729361494934, 'x_end': 38.428781897644335, 'fxFlag': True}, {'f': poly1d([-1.98752778e-03, -2.43660854e-01,  1.81515295e+01]), 'x_start': 50.70245326518393, 'x_end': 85.54882585526482, 'fxFlag': True}], [{'f': poly1d([-1.03754735e-02,  1.29286493e-02,  3.98142964e+01]), 'x_start': 0.04884287570256574, 'x_end': 39.37120007777743, 'fxFlag': False}, {'f': poly1d([ 1.86360634e-05,  2.60061117e-03, -6.57412827e-02]), 'x_start': 3.669378847011472, 'x_end': 38.20938733624658, 'fxFlag': True}, {'f': poly1d([-1.98752778e-03, -2.43660854e-01,  1.81515295e+01]), 'x_start': 50.87668512813433, 'x_end': 85.37459399231442, 'fxFlag': True}]]\n"
     ]
    }
   ],
   "source": [
    "print (res)"
   ]
  },
  {
   "cell_type": "code",
   "execution_count": 28,
   "id": "7ea4c675",
   "metadata": {},
   "outputs": [
    {
     "data": {
      "text/plain": [
       "-0.010265869210950747"
      ]
     },
     "execution_count": 28,
     "metadata": {},
     "output_type": "execute_result"
    }
   ],
   "source": [
    "res[1][0][\"f\"].c[0]"
   ]
  },
  {
   "cell_type": "code",
   "execution_count": 54,
   "id": "d5be3862",
   "metadata": {},
   "outputs": [
    {
     "name": "stdout",
     "output_type": "stream",
     "text": [
      "covy [[ 6.36231538e-05 -1.75676625e-03  1.01384178e-02]\n",
      " [-1.75676625e-03  4.96738288e-02 -2.92808834e-01]\n",
      " [ 1.01384178e-02 -2.92808834e-01  1.78504452e+00]]\n",
      "f           2\n",
      "-0.02082 x + 1.118 x + 1.139\n"
     ]
    },
    {
     "data": {
      "text/plain": [
       "<matplotlib.legend.Legend at 0x7fb304f9a080>"
      ]
     },
     "execution_count": 54,
     "metadata": {},
     "output_type": "execute_result"
    },
    {
     "data": {
      "image/png": "[encoded data removed]",
      "text/plain": [
       "<matplotlib.figure.Figure at 0x7fb306562400>"
      ]
     },
     "metadata": {
      "needs_background": "light"
     },
     "output_type": "display_data"
    }
   ],
   "source": [
    "import numpy as np\n",
    "import matplotlib.pyplot as plt\n",
    "\n",
    "#real function: f(y) = 0.1y**2+y+1\n",
    "plt.figure(figsize=(12, 8), dpi=80)\n",
    "#plt.title(r\"f(y)=$y^2$+$y$+1 approximation\")\n",
    "plt.title(r\"f(y) Approximation\")\n",
    "plt.xlabel('x')\n",
    "plt.ylabel('y')\n",
    "\n",
    "yy = np.arange(5,16,0.1)\n",
    "xx = 0.3*yy**2-5*yy+27.5\n",
    "f = np.array([27.5,-5,0.3])\n",
    "plt.plot(xx,yy,'--',label=f'f(y)={f[2]:.2f}$x^2$+{f[1]:.2f}$x$+{f[0]:.2f}')\n",
    "\n",
    "fity, covy = np.polyfit(xx, yy, 2, cov=True)\n",
    "print(\"covy\",covy)\n",
    "f = np.poly1d(fity)\n",
    "print(\"f\",f)\n",
    "plt.plot(xx,f(xx),label=f'f(x)={f[2]:.2f}$y^2$+{f[1]:.2f}$y$+{f[0]:.2f}')\n",
    "plt.legend()\n"
   ]
  },
  {
   "cell_type": "code",
   "execution_count": 151,
   "id": "e3d10b31",
   "metadata": {},
   "outputs": [
    {
     "name": "stdout",
     "output_type": "stream",
     "text": [
      "x [ 7.2   10.7   24.3   24.763]\n",
      "[ 7.052      8.347     83.147     87.6468507]\n"
     ]
    }
   ],
   "source": [
    "y=np.array([7,12,16,16.1])\n",
    "x = 0.3*y**2-5*y+27.5\n",
    "print(\"x\",x)\n",
    "print(f(x))"
   ]
  },
  {
   "cell_type": "code",
   "execution_count": 96,
   "id": "4a0d3396",
   "metadata": {},
   "outputs": [
    {
     "name": "stdout",
     "output_type": "stream",
     "text": [
      "f             2\n",
      "-5.365e-17 x + 1e-06 x + 1\n",
      "f             2\n",
      "-2.497e-17 x + 0.0001 x + 0.9999\n"
     ]
    },
    {
     "data": {
      "text/plain": [
       "<matplotlib.legend.Legend at 0x7f0bf2d1ba58>"
      ]
     },
     "execution_count": 96,
     "metadata": {},
     "output_type": "execute_result"
    },
    {
     "data": {
      "image/png": "[encoded data removed]",
      "text/plain": [
       "<matplotlib.figure.Figure at 0x7f0bf2cf9358>"
      ]
     },
     "metadata": {
      "needs_background": "light"
     },
     "output_type": "display_data"
    }
   ],
   "source": [
    "import numpy as np\n",
    "import matplotlib.pyplot as plt\n",
    "\n",
    "#real function: f(y) = 0.1y**2+y+1\n",
    "plt.figure(figsize=(12, 8), dpi=80)\n",
    "#plt.title(r\"f(y)=$y^2$+$y$+1 approximation\")\n",
    "plt.title(r\"f(y) Approximation\")\n",
    "plt.xlabel('x')\n",
    "plt.ylabel('y')\n",
    "y = np.array([-2,0,2,4])\n",
    "x = np.array([1,0.999,1.001,1])\n",
    "fitx, covx = np.polyfit(x, y, 2, cov=True)\n",
    "print(\"f\",f)\n",
    "f = np.poly1d(fitx)\n",
    "xx = np.arange(0.98,1.02,0.001)\n",
    "plt.plot(xx,f(xx),'--',label=f'f(x)={f[2]:.2f}$x^2$+{f[1]:.2f}$x$+{f[0]:.2f}')\n",
    "\n",
    "fity, covy = np.polyfit(y, x, 2, cov=True)\n",
    "f = np.poly1d(fity)\n",
    "print(\"f\",f)\n",
    "yy = np.arange(-2,4,0.01)\n",
    "plt.plot(f(yy),yy,label=f'f(y)={f[2]:.2f}$y^2$+{f[1]:.2f}$y$+{f[0]:.2f}')\n",
    "plt.legend()"
   ]
  },
  {
   "cell_type": "code",
   "execution_count": 204,
   "id": "bd5303c4",
   "metadata": {},
   "outputs": [
    {
     "name": "stdout",
     "output_type": "stream",
     "text": [
      "(3, 2) (100, 2)\n",
      "(3, 100)\n",
      "(3, 2)\n",
      "[[ 0.70707071  2.20701969]\n",
      " [ 1.41414141  4.41393735]\n",
      " [ 2.62626263 10.52351801]] [[ 1  2]\n",
      " [ 3  4]\n",
      " [ 5 10]]\n"
     ]
    }
   ],
   "source": [
    "from scipy.spatial.distance import cdist\n",
    "a0, a1, a2  = 1, 1, 1\n",
    "M = np.array([[1,2],[3,4],[5,10]])\n",
    "x = np.linspace(0,10,10*10)\n",
    "y = a0 + a1*x + a2*x**2\n",
    "pol = np.array([x,y]).T\n",
    "print(M.shape, pol.shape)\n",
    "dists = cdist(M, pol)\n",
    "print(dists.shape)\n",
    "ind = np.argmin(dists,axis=1)\n",
    "D = pol[ind,:]\n",
    "print(D.shape)\n",
    "print(D,M)"
   ]
  },
  {
   "cell_type": "code",
   "execution_count": 73,
   "id": "2d95f9ec",
   "metadata": {},
   "outputs": [
    {
     "data": {
      "text/plain": [
       "<matplotlib.legend.Legend at 0x7f783ddc76d8>"
      ]
     },
     "execution_count": 73,
     "metadata": {},
     "output_type": "execute_result"
    },
    {
     "data": {
      "image/png": "[encoded data removed]",
      "text/plain": [
       "<matplotlib.figure.Figure at 0x7f783df16a58>"
      ]
     },
     "metadata": {
      "needs_background": "light"
     },
     "output_type": "display_data"
    }
   ],
   "source": [
    "import numpy as np\n",
    "import matplotlib.pyplot as plt\n",
    "\n",
    "#real function: f(y) = 0.1y**2+y+1\n",
    "plt.figure(figsize=(20, 15), dpi=80)\n",
    "#plt.title(r\"f(y)=$y^2$+$y$+1 approximation\")\n",
    "\n",
    "plt.title(r\"Offset\")\n",
    "\n",
    "plt.xlabel('x')\n",
    "plt.ylabel('y')\n",
    "f = [30,0,0.2]\n",
    "f2 = [25,0,0.13]\n",
    "x_offset = 0\n",
    "xx = np.arange(-15,15,0.1)\n",
    "yy = f[0] + f[1]*(xx-x_offset) + f[2]*(xx-x_offset)**2\n",
    "plt.plot(xx,yy,'--',label=f'f(x)={f[2]:.2f}$x^2$+{f[1]:.2f}$x$+{f[0]:.2f}')\n",
    "\n",
    "xx = np.arange(-20,20,0.1)\n",
    "yy = f2[0] + f2[1]*xx + f2[2]*xx**2\n",
    "plt.plot(xx,yy,'--',label=f'g(x)={f2[2]:.2f}$x^2$+{f2[1]:.2f}$x$+{f2[0]:.2f}')\n",
    "\n",
    "plt.axis('scaled')\n",
    "\n",
    "plt.legend()\n"
   ]
  },
  {
   "cell_type": "code",
   "execution_count": 75,
   "id": "b01cb998",
   "metadata": {},
   "outputs": [
    {
     "data": {
      "text/plain": [
       "<matplotlib.legend.Legend at 0x7f783df40f28>"
      ]
     },
     "execution_count": 75,
     "metadata": {},
     "output_type": "execute_result"
    },
    {
     "data": {
      "image/png": "[encoded data removed]",
      "text/plain": [
       "<matplotlib.figure.Figure at 0x7f783df51080>"
      ]
     },
     "metadata": {
      "needs_background": "light"
     },
     "output_type": "display_data"
    }
   ],
   "source": [
    "import numpy as np\n",
    "import matplotlib.pyplot as plt\n",
    "\n",
    "#real function: f(y) = 0.1y**2+y+1\n",
    "plt.figure(figsize=(20, 15), dpi=80)\n",
    "#plt.title(r\"f(y)=$y^2$+$y$+1 approximation\")\n",
    "\n",
    "plt.title(r\"Bias in X axis\")\n",
    "\n",
    "plt.xlabel('x')\n",
    "plt.ylabel('y')\n",
    "f = [30,0,0.2]\n",
    "f2 = [30,0,0.2]\n",
    "\n",
    "xx = np.arange(-15,15,0.1)\n",
    "yy = f[0] + f[1]*xx + f[2]*xx**2\n",
    "plt.plot(xx,yy,'--',label=f'f(x)={f[2]:.2f}$x^2$+{f[1]:.2f}$x$+{f[0]:.2f}')\n",
    "\n",
    "x_offset = 5\n",
    "xx = np.arange(-10,20,0.1)\n",
    "#yy = f2[0] + f2[1]*(xx-x_offset) + f2[2]*(xx-x_offset)**2\n",
    "f2 = [35,-2,0.2]\n",
    "yy = f2[0] + f2[1]*xx + f2[2]*xx**2\n",
    "plt.plot(xx,yy,'--',label=f'g(x)={f2[2]:.2f}$x^2$+{f2[1]:.2f}$x$+{f2[0]:.2f}')\n",
    "\n",
    "plt.axis('scaled')\n",
    "\n",
    "plt.legend()"
   ]
  },
  {
   "cell_type": "code",
   "execution_count": 76,
   "id": "d958900d",
   "metadata": {},
   "outputs": [
    {
     "data": {
      "text/plain": [
       "<matplotlib.legend.Legend at 0x7f783cf22320>"
      ]
     },
     "execution_count": 76,
     "metadata": {},
     "output_type": "execute_result"
    },
    {
     "data": {
      "image/png": "[encoded data removed]",
      "text/plain": [
       "<matplotlib.figure.Figure at 0x7f783de4cac8>"
      ]
     },
     "metadata": {
      "needs_background": "light"
     },
     "output_type": "display_data"
    }
   ],
   "source": [
    "import numpy as np\n",
    "import matplotlib.pyplot as plt\n",
    "\n",
    "#real function: f(y) = 0.1y**2+y+1\n",
    "plt.figure(figsize=(20, 15), dpi=80)\n",
    "#plt.title(r\"f(y)=$y^2$+$y$+1 approximation\")\n",
    "\n",
    "plt.title(r\"Bias in Y axis\")\n",
    "\n",
    "plt.xlabel('x')\n",
    "plt.ylabel('y')\n",
    "f = [30,0,0.2]\n",
    "f2 = [25,0,0.2]\n",
    "xx = np.arange(-15,15,0.1)\n",
    "yy = f[0] + f[1]*xx + f[2]*xx**2\n",
    "plt.plot(xx,yy,'--',label=f'f(x)={f[2]:.2f}$x^2$+{f[1]:.2f}$x$+{f[0]:.2f}')\n",
    "\n",
    "xx = np.arange(-15,15,0.1)\n",
    "yy = f2[0] + f2[1]*xx + f2[2]*xx**2\n",
    "plt.plot(xx,yy,'--',label=f'g(x)={f2[2]:.2f}$x^2$+{f2[1]:.2f}$x$+{f2[0]:.2f}')\n",
    "\n",
    "plt.axis('scaled')\n",
    "\n",
    "plt.legend()\n"
   ]
  },
  {
   "cell_type": "code",
   "execution_count": 106,
   "id": "65ea33f9",
   "metadata": {},
   "outputs": [
    {
     "name": "stdout",
     "output_type": "stream",
     "text": [
      "x [14.   14.05 14.1  14.15 14.2  14.25 14.3  14.35 14.4  14.45 14.5  14.55\n",
      " 14.6  14.65 14.7  14.75 14.8  14.85 14.9  14.95 15.   15.05 15.1  15.15\n",
      " 15.2  15.25 15.3  15.35 15.4  15.45 15.5  15.55 15.6  15.65 15.7  15.75\n",
      " 15.8  15.85 15.9  15.95]\n",
      "f1         2\n",
      "-150.9 x + 19.58 x - 0.5447\n",
      "[-29507.84660637 -29719.21893808 -29931.34562539 -30144.2266683\n",
      " -30357.86206681 -30572.25182093 -30787.39593065 -31003.29439597\n",
      " -31219.94721689 -31437.35439341 -31655.51592554 -31874.43181326\n",
      " -32094.1020566  -32314.52665553] [5262.296 5300.057 5337.953 5375.984 5414.15  5452.451 5490.887 5529.458\n",
      " 5568.164 5607.005 5645.981 5685.092 5724.338 5763.719]\n",
      "28072.503517743433\n"
     ]
    },
    {
     "data": {
      "image/png": "[encoded data removed]",
      "text/plain": [
       "<matplotlib.figure.Figure at 0x7fb3051cd518>"
      ]
     },
     "metadata": {
      "needs_background": "light"
     },
     "output_type": "display_data"
    }
   ],
   "source": [
    "from numpy.polynomial import polynomial as P\n",
    "def innerProductPolynoms(f1, f2, xmin, xmax):\n",
    "    dx = 0.05\n",
    "    x = np.arange(xmin,xmax,dx)\n",
    "    print(\"x\",x)\n",
    "    #f1 = np.poly1d(f1)\n",
    "    #f2 = np.poly1d(f2)\n",
    "    y1 = f1(x)\n",
    "    y2 = f2(x)\n",
    "    print(\"f1\",f1)\n",
    "    \n",
    "    print(y1[1:15], y2[1:15])\n",
    "\n",
    "    dist = np.sqrt(np.sum((y2-y1)**2*dx)) / (xmax-xmin)\n",
    "\n",
    "    return dist\n",
    "\n",
    "x = np.arange(14,16,0.1)\n",
    "y1 = -150.87112042354389 + 19.575405784692236*x -0.544708238720031*x**2\n",
    "y2 = 27 - 4.83*x+0.29*x**2\n",
    "f1 = np.poly1d([-150.87112042354389,19.575405784692236,-0.544708238720031])\n",
    "f2 = np.poly1d([27,-4.83,0.29])\n",
    "plt.plot(x,y1)\n",
    "plt.plot(x,y2)\n",
    "\n",
    "dist = innerProductPolynoms(f1, f2, 14, 16)\n",
    "print(dist)"
   ]
  },
  {
   "cell_type": "code",
   "execution_count": 107,
   "id": "0d8608e5",
   "metadata": {},
   "outputs": [
    {
     "data": {
      "text/plain": [
       "16.358800000000016"
      ]
     },
     "execution_count": 107,
     "metadata": {},
     "output_type": "execute_result"
    }
   ],
   "source": [
    "-151+19.58*14-0.5447*14**2"
   ]
  },
  {
   "cell_type": "code",
   "execution_count": 6,
   "id": "98f158d7",
   "metadata": {},
   "outputs": [
    {
     "data": {
      "text/plain": [
       "array([0, 2, 0])"
      ]
     },
     "execution_count": 6,
     "metadata": {},
     "output_type": "execute_result"
    }
   ],
   "source": [
    "import numpy as np\n",
    "A = np.array([[1,2,3],[10,7,3],[1,4,3]])\n",
    "np.argmin(A, axis=1)"
   ]
  },
  {
   "cell_type": "code",
   "execution_count": 119,
   "id": "b2dc95eb",
   "metadata": {},
   "outputs": [
    {
     "name": "stdout",
     "output_type": "stream",
     "text": [
      "lane [-0.03667778  1.90291742 -0.02260511] [[ 8.77598348e-05 -2.09263475e-04  7.53979135e-05]\n",
      " [-2.09263475e-04  5.38548114e-04 -2.26542209e-04]\n",
      " [ 7.53979135e-05 -2.26542209e-04  1.42279794e-04]]\n",
      "          2\n",
      "-0.03668 x + 84.9 x - 4.797e+04\n",
      "[-3.66777777e-02  8.49007006e+01 -4.79729544e+04] [[ 8.77598348e-05 -2.09263475e-04  7.53979135e-05]\n",
      " [-2.09263475e-04  5.38548114e-04 -2.26542209e-04]\n",
      " [ 7.53979135e-05 -2.26542209e-04  1.42279794e-04]]\n"
     ]
    },
    {
     "data": {
      "image/png": "[encoded data removed]",
      "text/plain": [
       "<matplotlib.figure.Figure at 0x7f783e8eedd8>"
      ]
     },
     "metadata": {
      "needs_background": "light"
     },
     "output_type": "display_data"
    }
   ],
   "source": [
    "import sys\n",
    "import numpy as np\n",
    "\n",
    "def translatePolynom(c, xstart, xend, pos):\n",
    "    x = np.array([xstart, 0.5*(xstart+xend), xend])\n",
    "    x_trns = x - pos[0]\n",
    "    y = np.array([c[0]*x[0]**2+c[1]*x[0]+c[2], c[0]*x[1]**2+c[1]*x[1]+c[2], c[0]*x[2]**2+c[1]*x[2]+c[2]])\n",
    "    y_trns = y - pos[1]\n",
    "    A = [[x_trns[0]**2, x_trns[0], 1],[x_trns[1]**2, x_trns[1], 1],[x_trns[2]**2, x_trns[2], 1]]\n",
    "    c = np.linalg.inv(A).dot(y_trns)\n",
    "\n",
    "    return c\n",
    "\n",
    "x = np.array([1131.44509189, 1131.68601848, 1131.92288045, 1132.15565661, 1132.38467442,\n",
    " 1132.6157338,  1132.85088776, 1133.09011526, 1133.33339487, 1133.58070482,\n",
    " 1133.83202296])\n",
    "y = np.array([1554.14573279, 1554.57418017, 1555.00488793, 1555.43781753, 1555.87274802,\n",
    " 1556.30659631, 1556.73823898, 1557.16763737, 1557.59475305, 1558.01954779,\n",
    " 1558.44198354])\n",
    "\n",
    "minx = np.min(x)\n",
    "maxx = np.max(x)\n",
    "miny = np.min(y)\n",
    "maxy = np.max(y)\n",
    "\n",
    "lane, cov = np.polyfit(x-minx, y-miny, 2,cov=True)\n",
    "print(\"lane\", lane, cov)\n",
    "\n",
    "lane = translatePolynom(lane, minx, maxx, [-minx,-maxx])\n",
    "\n",
    "f = np.poly1d(lane)\n",
    "print(f)\n",
    "\n",
    "plt.plot(x,y)\n",
    "\n",
    "xx = np.arange(np.min(x), np.max(x), 0.1)\n",
    "yy = f[2] * (xx)**2 + f[1] * (xx) + f[0]\n",
    "plt.plot(xx,yy)\n",
    "print(lane, cov)"
   ]
  },
  {
   "cell_type": "code",
   "execution_count": 1,
   "id": "4e379103",
   "metadata": {},
   "outputs": [],
   "source": [
    "from nuscenes.nuscenes import NuScenes\n",
    "directory = r\"/home/kfir/workspace/nuScenes/v1.0-trainval\"\n",
    "nusc = NuScenes(version=\"v1.0-trainval\", dataroot=directory, verbose=False)"
   ]
  },
  {
   "cell_type": "code",
   "execution_count": 2,
   "id": "ca1ba735",
   "metadata": {},
   "outputs": [
    {
     "name": "stdout",
     "output_type": "stream",
     "text": [
      "scene_id=690 scene_name=scene-0904 map_name=boston-seaport\n"
     ]
    },
    {
     "name": "stderr",
     "output_type": "stream",
     "text": [
      "/home/kfir/workspace/RadarLocalization/dataset.py:365: VisibleDeprecationWarning: Creating an ndarray from ragged nested sequences (which is a list-or-tuple of lists-or-tuples-or ndarrays with different lengths or shapes) is deprecated. If you meant to do this, you must specify 'dtype=object' when creating the ndarray\n",
      "  rot_imu = np.array([(m['utime'], m['q']) for m in self.imu])\n"
     ]
    },
    {
     "name": "stdout",
     "output_type": "stream",
     "text": [
      "odom_speed [[1.53729795e+15 9.00000000e+00]\n",
      " [1.53729795e+15 9.00000000e+00]\n",
      " [1.53729795e+15 9.00000000e+00]\n",
      " ...\n",
      " [1.53729811e+15 3.70000000e+01]\n",
      " [1.53729811e+15 3.70000000e+01]\n",
      " [1.53729811e+15 3.70000000e+01]]\n"
     ]
    }
   ],
   "source": [
    "import scipy.ndimage.morphology\n",
    "import map_utils\n",
    "\n",
    "from dataset import NuscenesDataset\n",
    "\n",
    "dataset = NuscenesDataset(nusc, scene_id=690, directory=directory)\n"
   ]
  },
  {
   "cell_type": "code",
   "execution_count": 3,
   "id": "4e5e306a",
   "metadata": {},
   "outputs": [
    {
     "name": "stderr",
     "output_type": "stream",
     "text": [
      "/home/kfir/.local/lib/python3.6/site-packages/nuscenes/map_expansion/map_api.py:1823: ShapelyDeprecationWarning: Iteration over multi-part geometries is deprecated and will be removed in Shapely 2.0. Use the `geoms` property to access the constituent parts of a multi-part geometry.\n",
      "  exteriors = [int_coords(poly.exterior.coords) for poly in polygons]\n",
      "/home/kfir/.local/lib/python3.6/site-packages/nuscenes/map_expansion/map_api.py:1824: ShapelyDeprecationWarning: Iteration over multi-part geometries is deprecated and will be removed in Shapely 2.0. Use the `geoms` property to access the constituent parts of a multi-part geometry.\n",
      "  interiors = [int_coords(pi.coords) for poly in polygons for pi in poly.interiors]\n"
     ]
    },
    {
     "data": {
      "text/plain": [
       "<matplotlib.image.AxesImage at 0x7fd8cee54128>"
      ]
     },
     "execution_count": 3,
     "metadata": {},
     "output_type": "execute_result"
    },
    {
     "data": {
      "image/png": "[encoded data removed]",
      "text/plain": [
       "<matplotlib.figure.Figure at 0x7fd8cf49b518>"
      ]
     },
     "metadata": {},
     "output_type": "display_data"
    }
   ],
   "source": [
    "image = map_utils.getLayer(dataset.nusc_map, dataset.first_gt_trns, patchSize=400)\n",
    "image1 = map_utils.getLayer(dataset.nusc_map, dataset.first_gt_trns, patchSize=400, layer_names=['walkway'])\n",
    "edges = image - scipy.ndimage.morphology.binary_dilation(image)\n",
    "edges1 = image1 - scipy.ndimage.morphology.binary_dilation(image1)\n",
    "import matplotlib.pyplot as plt\n",
    "plt.figure(figsize=(20, 15), dpi=80)\n",
    "plt.imshow(edges | edges1)"
   ]
  },
  {
   "cell_type": "code",
   "execution_count": 4,
   "id": "a386399b",
   "metadata": {},
   "outputs": [
    {
     "data": {
      "text/plain": [
       "<matplotlib.image.AxesImage at 0x7fd8ce9fcb38>"
      ]
     },
     "execution_count": 4,
     "metadata": {},
     "output_type": "execute_result"
    },
    {
     "data": {
      "image/png": "[encoded data removed]",
      "text/plain": [
       "<matplotlib.figure.Figure at 0x7fd8cece8198>"
      ]
     },
     "metadata": {},
     "output_type": "display_data"
    }
   ],
   "source": [
    "edges2 = map_utils.getCombinedMap(dataset.nusc_map, dataset.first_gt_trns, patchSize=400)\n",
    "plt.figure(figsize=(20, 15), dpi=80)\n",
    "plt.imshow(edges2)"
   ]
  },
  {
   "cell_type": "code",
   "execution_count": 25,
   "id": "cc4d303b",
   "metadata": {},
   "outputs": [
    {
     "data": {
      "text/plain": [
       "<matplotlib.image.AxesImage at 0x7f6c16635a90>"
      ]
     },
     "execution_count": 25,
     "metadata": {},
     "output_type": "execute_result"
    },
    {
     "data": {
      "image/png": "[encoded data removed]",
      "text/plain": [
       "<matplotlib.figure.Figure at 0x7f6c3e3fba20>"
      ]
     },
     "metadata": {},
     "output_type": "display_data"
    }
   ],
   "source": [
    "import numpy as np\n",
    "import cv2 as cv\n",
    "# find Harris corners\n",
    "dst = cv.cornerHarris(image,2,3,0.04)\n",
    "dst = cv.dilate(dst,None)\n",
    "ret, dst = cv.threshold(dst,0.01*dst.max(),255,0)\n",
    "dst = np.uint8(dst)\n",
    "# find centroids\n",
    "ret, labels, stats, centroids = cv.connectedComponentsWithStats(dst)\n",
    "# define the criteria to stop and refine the corners\n",
    "criteria = (cv.TERM_CRITERIA_EPS + cv.TERM_CRITERIA_MAX_ITER, 100, 0.001)\n",
    "corners = cv.cornerSubPix(image,np.float32(centroids),(5,5),(-1,-1),criteria)\n",
    "# Now draw them\n",
    "res = np.hstack((centroids,corners))\n",
    "res = np.int0(res)\n",
    "image[res[:,1]-1,res[:,0]-1] = 100\n",
    "image[res[:,3]-1,res[:,2]-1] = 100\n",
    "\n",
    "plt.imshow(image)"
   ]
  },
  {
   "cell_type": "code",
   "execution_count": 8,
   "id": "6bc55b18",
   "metadata": {},
   "outputs": [],
   "source": [
    "import cv2\n",
    "cnts = cv2.findContours(edges, cv2.RETR_EXTERNAL, cv2.CHAIN_APPROX_SIMPLE)\n",
    "cnts = cnts[0] if len(cnts) == 2 else cnts[1]\n",
    "for c in cnts:\n",
    "    area = cv2.contourArea(c)\n",
    "    if area < 150:\n",
    "        cv2.drawContours(edges, [c], -1, 0, -1)\n",
    "        \n",
    "cv2.imshow('edges', edges)"
   ]
  },
  {
   "cell_type": "code",
   "execution_count": null,
   "id": "92c0552c",
   "metadata": {},
   "outputs": [],
   "source": [
    "import cv2\n",
    "import numpy as np\n",
    "\n",
    "# Load image, create horizontal/vertical masks, Gaussian blur, Adaptive threshold\n",
    "image = edges #cv2.imread('1.png')\n",
    "original = image.copy()\n",
    "horizontal_mask = np.zeros(image.shape, dtype=np.uint8)\n",
    "vertical_mask = np.zeros(image.shape, dtype=np.uint8)\n",
    "gray = image #cv2.cvtColor(image,cv2.COLOR_BGR2GRAY)\n",
    "blur = cv2.GaussianBlur(gray, (3,3), 0)\n",
    "thresh = cv2.adaptiveThreshold(blur, 255, cv2.ADAPTIVE_THRESH_GAUSSIAN_C, cv2.THRESH_BINARY_INV, 23, 7)\n",
    "\n",
    "# Remove small noise on thresholded image\n",
    "cnts = cv2.findContours(thresh, cv2.RETR_EXTERNAL, cv2.CHAIN_APPROX_SIMPLE)\n",
    "cnts = cnts[0] if len(cnts) == 2 else cnts[1]\n",
    "for c in cnts:\n",
    "    area = cv2.contourArea(c)\n",
    "    if area < 150:\n",
    "        cv2.drawContours(thresh, [c], -1, 0, -1)\n",
    "\n",
    "# Detect horizontal lines\n",
    "dilate_horizontal_kernel = cv2.getStructuringElement(cv2.MORPH_RECT, (10,1))\n",
    "dilate_horizontal = cv2.morphologyEx(thresh, cv2.MORPH_CLOSE, dilate_horizontal_kernel, iterations=1)\n",
    "horizontal_kernel = cv2.getStructuringElement(cv2.MORPH_RECT, (40,1))\n",
    "detected_lines = cv2.morphologyEx(dilate_horizontal, cv2.MORPH_OPEN, horizontal_kernel, iterations=1)\n",
    "cnts = cv2.findContours(detected_lines, cv2.RETR_EXTERNAL, cv2.CHAIN_APPROX_SIMPLE)\n",
    "cnts = cnts[0] if len(cnts) == 2 else cnts[1]\n",
    "for c in cnts:\n",
    "    cv2.drawContours(image, [c], -1, (36,255,12), 2)\n",
    "    cv2.drawContours(horizontal_mask, [c], -1, (255,255,255), 2)\n",
    "\n",
    "# Remove extra horizontal lines using contour area filtering\n",
    "#horizontal_mask = cv2.cvtColor(horizontal_mask,cv2.COLOR_BGR2GRAY)\n",
    "cnts = cv2.findContours(horizontal_mask, cv2.RETR_EXTERNAL, cv2.CHAIN_APPROX_SIMPLE)\n",
    "cnts = cnts[0] if len(cnts) == 2 else cnts[1]\n",
    "for c in cnts:\n",
    "    area = cv2.contourArea(c)\n",
    "    if area > 1000 or area < 100:\n",
    "        cv2.drawContours(horizontal_mask, [c], -1, 0, -1)\n",
    "\n",
    "# Detect vertical \n",
    "dilate_vertical_kernel = cv2.getStructuringElement(cv2.MORPH_CROSS, (1,7))\n",
    "dilate_vertical = cv2.morphologyEx(thresh, cv2.MORPH_CLOSE, dilate_vertical_kernel, iterations=1)\n",
    "vertical_kernel = cv2.getStructuringElement(cv2.MORPH_ELLIPSE, (1,2))\n",
    "detected_lines = cv2.morphologyEx(dilate_vertical, cv2.MORPH_OPEN, vertical_kernel, iterations=4)\n",
    "cnts = cv2.findContours(detected_lines, cv2.RETR_EXTERNAL, cv2.CHAIN_APPROX_SIMPLE)\n",
    "cnts = cnts[0] if len(cnts) == 2 else cnts[1]\n",
    "for c in cnts:\n",
    "    cv2.drawContours(image, [c], -1, (36,255,12), 2)\n",
    "    cv2.drawContours(vertical_mask, [c], -1, (255,255,255), 2)\n",
    "\n",
    "# Find intersection points\n",
    "#vertical_mask = cv2.cvtColor(vertical_mask,cv2.COLOR_BGR2GRAY)\n",
    "combined = cv2.bitwise_and(horizontal_mask, vertical_mask)\n",
    "kernel = cv2.getStructuringElement(cv2.MORPH_ELLIPSE, (2,2))\n",
    "combined = cv2.morphologyEx(combined, cv2.MORPH_OPEN, kernel, iterations=1)\n",
    "\n",
    "# Highlight corners\n",
    "cnts = cv2.findContours(combined, cv2.RETR_EXTERNAL, cv2.CHAIN_APPROX_SIMPLE)\n",
    "cnts = cnts[0] if len(cnts) == 2 else cnts[1]\n",
    "for c in cnts:\n",
    "    # Find centroid and draw center point\n",
    "    try:\n",
    "        M = cv2.moments(c)\n",
    "        cx = int(M['m10']/M['m00'])\n",
    "        cy = int(M['m01']/M['m00'])\n",
    "        cv2.circle(original, (cx, cy), 3, (36,255,12), -1)\n",
    "    except ZeroDivisionError:\n",
    "        pass\n",
    "\n",
    "cv2.imshow('thresh', thresh)\n",
    "cv2.imshow('horizontal_mask', horizontal_mask)\n",
    "cv2.imshow('vertical_mask', vertical_mask)\n",
    "cv2.imshow('combined', combined)\n",
    "cv2.imshow('original', original)\n",
    "cv2.imshow('image', image)\n",
    "cv2.waitKey()"
   ]
  },
  {
   "cell_type": "code",
   "execution_count": 37,
   "id": "8feb76a2",
   "metadata": {},
   "outputs": [
    {
     "data": {
      "text/plain": [
       "[]"
      ]
     },
     "execution_count": 37,
     "metadata": {},
     "output_type": "execute_result"
    }
   ],
   "source": [
    "#!python3 -m pip install sympy\n",
    "from sympy.solvers import solve\n",
    "from sympy import Symbol\n",
    "a = 0.2\n",
    "b = 1\n",
    "c = 10\n",
    "x = Symbol('x')\n",
    "#c = Symbol('c')\n",
    "solve(4*a**2*x**4 + 4*a*b*x**3 + (b**2+1)*x**2, 0)"
   ]
  },
  {
   "cell_type": "code",
   "execution_count": 55,
   "id": "3ca86ca8",
   "metadata": {},
   "outputs": [
    {
     "name": "stdout",
     "output_type": "stream",
     "text": [
      "[0, 12, 28, 49, 99, 132, 151, 165, 177, 188, 198]\n"
     ]
    }
   ],
   "source": [
    "import numpy as np\n",
    "a = 0.2\n",
    "b = 1\n",
    "c = 10\n",
    "x = np.linspace(-20,20,200)\n",
    "y = a*x**2+b*x+c\n",
    "dy = np.sqrt(1+(np.diff(y)/np.diff(x))**2)\n",
    "S = np.cumsum(dy)\n",
    "l = S[-1]\n",
    "idx = []\n",
    "for i in range(10+1):\n",
    "    idx.append(np.argmin(np.abs(S - l/10 * i)))\n",
    "print(idx)"
   ]
  },
  {
   "cell_type": "code",
   "execution_count": 86,
   "id": "b22cd9fc",
   "metadata": {},
   "outputs": [
    {
     "data": {
      "text/plain": [
       "[<matplotlib.lines.Line2D at 0x7f4ee1b72d30>]"
      ]
     },
     "execution_count": 86,
     "metadata": {},
     "output_type": "execute_result"
    },
    {
     "data": {
      "image/png": "[encoded data removed]",
      "text/plain": [
       "<matplotlib.figure.Figure at 0x7f4ee22d3358>"
      ]
     },
     "metadata": {
      "needs_background": "light"
     },
     "output_type": "display_data"
    }
   ],
   "source": [
    "import matplotlib.pyplot as plt\n",
    "\n",
    "def createHypothesis(a0,a1,a2,x0,y0,t0,x,y):\n",
    "    a0_tag = a0+y0-a1*x0+a2*x0**2\n",
    "    a1_tag = a1-2*a2*x0\n",
    "    denom = np.sqrt(1+(2*a2*x+a1_tag)**2)\n",
    "    x_tag = x + t0 * (2*a2*x+a1_tag)/denom\n",
    "    y_tag = a0_tag+a1_tag*x+a2*x**2-t0/denom\n",
    "\n",
    "    return x_tag, y_tag\n",
    "\n",
    "\n",
    "x = np.linspace(-20,20,200)\n",
    "a0, a1, a2 = 25, 0, 0.13\n",
    "y = a0 + a2*x**2\n",
    "\n",
    "\n",
    "x0 = 0\n",
    "y0 = 0\n",
    "t0 = -5\n",
    "x_tag, y_tag = createHypothesis(a0,a1,a2,x0,y0,t0,x,y)\n",
    "\n",
    "plt.plot(x, y)\n",
    "plt.gca().set_aspect('equal', adjustable='box')\n",
    "plt.plot(x_tag, y_tag)"
   ]
  },
  {
   "cell_type": "code",
   "execution_count": 70,
   "id": "ad5e87b4",
   "metadata": {},
   "outputs": [
    {
     "name": "stdout",
     "output_type": "stream",
     "text": [
      "f           2\n",
      "-0.01998 x + 1.7 x + 5.828e-15\n"
     ]
    },
    {
     "data": {
      "text/plain": [
       "[<matplotlib.lines.Line2D at 0x7f066d8a1780>]"
      ]
     },
     "execution_count": 70,
     "metadata": {},
     "output_type": "execute_result"
    },
    {
     "data": {
      "image/png": "[encoded data removed]",
      "text/plain": [
       "<Figure size 432x288 with 1 Axes>"
      ]
     },
     "metadata": {},
     "output_type": "display_data"
    }
   ],
   "source": [
    "import matplotlib.pyplot as plt\n",
    "xx = np.array([-40, -25, -5, -4.9]) + 40\n",
    "yy = np.array([-50, -40, 0, 0]) + 50\n",
    "\n",
    "fity = np.polyfit(yy, xx, 2)\n",
    "f = np.poly1d(fity)\n",
    "print(\"f\",f)\n",
    "xx = np.arange(0, 35, 0.1)\n",
    "yy = np.arange(0, 50, 0.1)\n",
    "plt.plot(xx,f(xx),label=f'f(x)={f[2]:.2f}$y^2$+{f[1]:.2f}$y$+{f[0]:.2f}')"
   ]
  },
  {
   "cell_type": "code",
   "execution_count": 62,
   "id": "10feae32",
   "metadata": {},
   "outputs": [
    {
     "name": "stdout",
     "output_type": "stream",
     "text": [
      "[-4.00000000e+01 -3.99000000e+01 -3.98000000e+01 -3.97000000e+01\n",
      " -3.96000000e+01 -3.95000000e+01 -3.94000000e+01 -3.93000000e+01\n",
      " -3.92000000e+01 -3.91000000e+01 -3.90000000e+01 -3.89000000e+01\n",
      " -3.88000000e+01 -3.87000000e+01 -3.86000000e+01 -3.85000000e+01\n",
      " -3.84000000e+01 -3.83000000e+01 -3.82000000e+01 -3.81000000e+01\n",
      " -3.80000000e+01 -3.79000000e+01 -3.78000000e+01 -3.77000000e+01\n",
      " -3.76000000e+01 -3.75000000e+01 -3.74000000e+01 -3.73000000e+01\n",
      " -3.72000000e+01 -3.71000000e+01 -3.70000000e+01 -3.69000000e+01\n",
      " -3.68000000e+01 -3.67000000e+01 -3.66000000e+01 -3.65000000e+01\n",
      " -3.64000000e+01 -3.63000000e+01 -3.62000000e+01 -3.61000000e+01\n",
      " -3.60000000e+01 -3.59000000e+01 -3.58000000e+01 -3.57000000e+01\n",
      " -3.56000000e+01 -3.55000000e+01 -3.54000000e+01 -3.53000000e+01\n",
      " -3.52000000e+01 -3.51000000e+01 -3.50000000e+01 -3.49000000e+01\n",
      " -3.48000000e+01 -3.47000000e+01 -3.46000000e+01 -3.45000000e+01\n",
      " -3.44000000e+01 -3.43000000e+01 -3.42000000e+01 -3.41000000e+01\n",
      " -3.40000000e+01 -3.39000000e+01 -3.38000000e+01 -3.37000000e+01\n",
      " -3.36000000e+01 -3.35000000e+01 -3.34000000e+01 -3.33000000e+01\n",
      " -3.32000000e+01 -3.31000000e+01 -3.30000000e+01 -3.29000000e+01\n",
      " -3.28000000e+01 -3.27000000e+01 -3.26000000e+01 -3.25000000e+01\n",
      " -3.24000000e+01 -3.23000000e+01 -3.22000000e+01 -3.21000000e+01\n",
      " -3.20000000e+01 -3.19000000e+01 -3.18000000e+01 -3.17000000e+01\n",
      " -3.16000000e+01 -3.15000000e+01 -3.14000000e+01 -3.13000000e+01\n",
      " -3.12000000e+01 -3.11000000e+01 -3.10000000e+01 -3.09000000e+01\n",
      " -3.08000000e+01 -3.07000000e+01 -3.06000000e+01 -3.05000000e+01\n",
      " -3.04000000e+01 -3.03000000e+01 -3.02000000e+01 -3.01000000e+01\n",
      " -3.00000000e+01 -2.99000000e+01 -2.98000000e+01 -2.97000000e+01\n",
      " -2.96000000e+01 -2.95000000e+01 -2.94000000e+01 -2.93000000e+01\n",
      " -2.92000000e+01 -2.91000000e+01 -2.90000000e+01 -2.89000000e+01\n",
      " -2.88000000e+01 -2.87000000e+01 -2.86000000e+01 -2.85000000e+01\n",
      " -2.84000000e+01 -2.83000000e+01 -2.82000000e+01 -2.81000000e+01\n",
      " -2.80000000e+01 -2.79000000e+01 -2.78000000e+01 -2.77000000e+01\n",
      " -2.76000000e+01 -2.75000000e+01 -2.74000000e+01 -2.73000000e+01\n",
      " -2.72000000e+01 -2.71000000e+01 -2.70000000e+01 -2.69000000e+01\n",
      " -2.68000000e+01 -2.67000000e+01 -2.66000000e+01 -2.65000000e+01\n",
      " -2.64000000e+01 -2.63000000e+01 -2.62000000e+01 -2.61000000e+01\n",
      " -2.60000000e+01 -2.59000000e+01 -2.58000000e+01 -2.57000000e+01\n",
      " -2.56000000e+01 -2.55000000e+01 -2.54000000e+01 -2.53000000e+01\n",
      " -2.52000000e+01 -2.51000000e+01 -2.50000000e+01 -2.49000000e+01\n",
      " -2.48000000e+01 -2.47000000e+01 -2.46000000e+01 -2.45000000e+01\n",
      " -2.44000000e+01 -2.43000000e+01 -2.42000000e+01 -2.41000000e+01\n",
      " -2.40000000e+01 -2.39000000e+01 -2.38000000e+01 -2.37000000e+01\n",
      " -2.36000000e+01 -2.35000000e+01 -2.34000000e+01 -2.33000000e+01\n",
      " -2.32000000e+01 -2.31000000e+01 -2.30000000e+01 -2.29000000e+01\n",
      " -2.28000000e+01 -2.27000000e+01 -2.26000000e+01 -2.25000000e+01\n",
      " -2.24000000e+01 -2.23000000e+01 -2.22000000e+01 -2.21000000e+01\n",
      " -2.20000000e+01 -2.19000000e+01 -2.18000000e+01 -2.17000000e+01\n",
      " -2.16000000e+01 -2.15000000e+01 -2.14000000e+01 -2.13000000e+01\n",
      " -2.12000000e+01 -2.11000000e+01 -2.10000000e+01 -2.09000000e+01\n",
      " -2.08000000e+01 -2.07000000e+01 -2.06000000e+01 -2.05000000e+01\n",
      " -2.04000000e+01 -2.03000000e+01 -2.02000000e+01 -2.01000000e+01\n",
      " -2.00000000e+01 -1.99000000e+01 -1.98000000e+01 -1.97000000e+01\n",
      " -1.96000000e+01 -1.95000000e+01 -1.94000000e+01 -1.93000000e+01\n",
      " -1.92000000e+01 -1.91000000e+01 -1.90000000e+01 -1.89000000e+01\n",
      " -1.88000000e+01 -1.87000000e+01 -1.86000000e+01 -1.85000000e+01\n",
      " -1.84000000e+01 -1.83000000e+01 -1.82000000e+01 -1.81000000e+01\n",
      " -1.80000000e+01 -1.79000000e+01 -1.78000000e+01 -1.77000000e+01\n",
      " -1.76000000e+01 -1.75000000e+01 -1.74000000e+01 -1.73000000e+01\n",
      " -1.72000000e+01 -1.71000000e+01 -1.70000000e+01 -1.69000000e+01\n",
      " -1.68000000e+01 -1.67000000e+01 -1.66000000e+01 -1.65000000e+01\n",
      " -1.64000000e+01 -1.63000000e+01 -1.62000000e+01 -1.61000000e+01\n",
      " -1.60000000e+01 -1.59000000e+01 -1.58000000e+01 -1.57000000e+01\n",
      " -1.56000000e+01 -1.55000000e+01 -1.54000000e+01 -1.53000000e+01\n",
      " -1.52000000e+01 -1.51000000e+01 -1.50000000e+01 -1.49000000e+01\n",
      " -1.48000000e+01 -1.47000000e+01 -1.46000000e+01 -1.45000000e+01\n",
      " -1.44000000e+01 -1.43000000e+01 -1.42000000e+01 -1.41000000e+01\n",
      " -1.40000000e+01 -1.39000000e+01 -1.38000000e+01 -1.37000000e+01\n",
      " -1.36000000e+01 -1.35000000e+01 -1.34000000e+01 -1.33000000e+01\n",
      " -1.32000000e+01 -1.31000000e+01 -1.30000000e+01 -1.29000000e+01\n",
      " -1.28000000e+01 -1.27000000e+01 -1.26000000e+01 -1.25000000e+01\n",
      " -1.24000000e+01 -1.23000000e+01 -1.22000000e+01 -1.21000000e+01\n",
      " -1.20000000e+01 -1.19000000e+01 -1.18000000e+01 -1.17000000e+01\n",
      " -1.16000000e+01 -1.15000000e+01 -1.14000000e+01 -1.13000000e+01\n",
      " -1.12000000e+01 -1.11000000e+01 -1.10000000e+01 -1.09000000e+01\n",
      " -1.08000000e+01 -1.07000000e+01 -1.06000000e+01 -1.05000000e+01\n",
      " -1.04000000e+01 -1.03000000e+01 -1.02000000e+01 -1.01000000e+01\n",
      " -1.00000000e+01 -9.90000000e+00 -9.80000000e+00 -9.70000000e+00\n",
      " -9.60000000e+00 -9.50000000e+00 -9.40000000e+00 -9.30000000e+00\n",
      " -9.20000000e+00 -9.10000000e+00 -9.00000000e+00 -8.90000000e+00\n",
      " -8.80000000e+00 -8.70000000e+00 -8.60000000e+00 -8.50000000e+00\n",
      " -8.40000000e+00 -8.30000000e+00 -8.20000000e+00 -8.10000000e+00\n",
      " -8.00000000e+00 -7.90000000e+00 -7.80000000e+00 -7.70000000e+00\n",
      " -7.60000000e+00 -7.50000000e+00 -7.40000000e+00 -7.30000000e+00\n",
      " -7.20000000e+00 -7.10000000e+00 -7.00000000e+00 -6.90000000e+00\n",
      " -6.80000000e+00 -6.70000000e+00 -6.60000000e+00 -6.50000000e+00\n",
      " -6.40000000e+00 -6.30000000e+00 -6.20000000e+00 -6.10000000e+00\n",
      " -6.00000000e+00 -5.90000000e+00 -5.80000000e+00 -5.70000000e+00\n",
      " -5.60000000e+00 -5.50000000e+00 -5.40000000e+00 -5.30000000e+00\n",
      " -5.20000000e+00 -5.10000000e+00 -5.00000000e+00 -4.90000000e+00\n",
      " -4.80000000e+00 -4.70000000e+00 -4.60000000e+00 -4.50000000e+00\n",
      " -4.40000000e+00 -4.30000000e+00 -4.20000000e+00 -4.10000000e+00\n",
      " -4.00000000e+00 -3.90000000e+00 -3.80000000e+00 -3.70000000e+00\n",
      " -3.60000000e+00 -3.50000000e+00 -3.40000000e+00 -3.30000000e+00\n",
      " -3.20000000e+00 -3.10000000e+00 -3.00000000e+00 -2.90000000e+00\n",
      " -2.80000000e+00 -2.70000000e+00 -2.60000000e+00 -2.50000000e+00\n",
      " -2.40000000e+00 -2.30000000e+00 -2.20000000e+00 -2.10000000e+00\n",
      " -2.00000000e+00 -1.90000000e+00 -1.80000000e+00 -1.70000000e+00\n",
      " -1.60000000e+00 -1.50000000e+00 -1.40000000e+00 -1.30000000e+00\n",
      " -1.20000000e+00 -1.10000000e+00 -1.00000000e+00 -9.00000000e-01\n",
      " -8.00000000e-01 -7.00000000e-01 -6.00000000e-01 -5.00000000e-01\n",
      " -4.00000000e-01 -3.00000000e-01 -2.00000000e-01 -1.00000000e-01\n",
      "  5.68434189e-13  1.00000000e-01  2.00000000e-01  3.00000000e-01\n",
      "  4.00000000e-01  5.00000000e-01  6.00000000e-01  7.00000000e-01\n",
      "  8.00000000e-01  9.00000000e-01  1.00000000e+00  1.10000000e+00\n",
      "  1.20000000e+00  1.30000000e+00  1.40000000e+00  1.50000000e+00\n",
      "  1.60000000e+00  1.70000000e+00  1.80000000e+00  1.90000000e+00\n",
      "  2.00000000e+00  2.10000000e+00  2.20000000e+00  2.30000000e+00\n",
      "  2.40000000e+00  2.50000000e+00  2.60000000e+00  2.70000000e+00\n",
      "  2.80000000e+00  2.90000000e+00  3.00000000e+00  3.10000000e+00\n",
      "  3.20000000e+00  3.30000000e+00  3.40000000e+00  3.50000000e+00\n",
      "  3.60000000e+00  3.70000000e+00  3.80000000e+00  3.90000000e+00] [-50.00052525 -49.9903025  -49.97932192 -49.96758352 -49.95508729\n",
      " -49.94183324 -49.92782136 -49.91305165 -49.89752411 -49.88123874\n",
      " -49.86419555 -49.84639453 -49.82783569 -49.80851902 -49.78844452\n",
      " -49.76761219 -49.74602203 -49.72367405 -49.70056824 -49.67670461\n",
      " -49.65208315 -49.62670386 -49.60056674 -49.57367179 -49.54601902\n",
      " -49.51760842 -49.48844    -49.45851375 -49.42782967 -49.39638776\n",
      " -49.36418802 -49.33123046 -49.29751507 -49.26304186 -49.22781082\n",
      " -49.19182195 -49.15507525 -49.11757072 -49.07930837 -49.04028819\n",
      " -49.00051019 -48.95997436 -48.9186807  -48.87662921 -48.83381989\n",
      " -48.79025275 -48.74592778 -48.70084499 -48.65500437 -48.60840592\n",
      " -48.56104964 -48.51293553 -48.4640636  -48.41443384 -48.36404626\n",
      " -48.31290085 -48.26099761 -48.20833654 -48.15491764 -48.10074092\n",
      " -48.04580637 -47.990114   -47.9336638  -47.87645577 -47.81848991\n",
      " -47.75976623 -47.70028471 -47.64004538 -47.57904821 -47.51729322\n",
      " -47.4547804  -47.39150975 -47.32748128 -47.26269497 -47.19715085\n",
      " -47.13084889 -47.06378911 -46.9959715  -46.92739606 -46.8580628\n",
      " -46.7879717  -46.71712279 -46.64551604 -46.57315147 -46.50002907\n",
      " -46.42614884 -46.35151079 -46.27611491 -46.1999612  -46.12304966\n",
      " -46.0453803  -45.96695311 -45.88776809 -45.80782525 -45.72712458\n",
      " -45.64566608 -45.56344975 -45.4804756  -45.39674362 -45.31225381\n",
      " -45.22700618 -45.14100072 -45.05423743 -44.96671631 -44.87843737\n",
      " -44.7894006  -44.699606   -44.60905358 -44.51774333 -44.42567525\n",
      " -44.33284934 -44.23926561 -44.14492405 -44.04982466 -43.95396745\n",
      " -43.85735241 -43.75997954 -43.66184884 -43.56296032 -43.46331397\n",
      " -43.36290979 -43.26174779 -43.15982796 -43.0571503  -42.95371481\n",
      " -42.8495215  -42.74457036 -42.6388614  -42.5323946  -42.42516998\n",
      " -42.31718753 -42.20844726 -42.09894915 -41.98869322 -41.87767947\n",
      " -41.76590788 -41.65337847 -41.54009123 -41.42604617 -41.31124327\n",
      " -41.19568255 -41.07936401 -40.96228763 -40.84445343 -40.7258614\n",
      " -40.60651155 -40.48640387 -40.36553836 -40.24391502 -40.12153385\n",
      " -39.99839486 -39.87449804 -39.7498434  -39.62443093 -39.49826063\n",
      " -39.3713325  -39.24364655 -39.11520276 -38.98600116 -38.85604172\n",
      " -38.72532446 -38.59384937 -38.46161645 -38.32862571 -38.19487714\n",
      " -38.06037074 -37.92510651 -37.78908446 -37.65230458 -37.51476687\n",
      " -37.37647134 -37.23741798 -37.09760679 -36.95703777 -36.81571093\n",
      " -36.67362626 -36.53078376 -36.38718344 -36.24282529 -36.09770931\n",
      " -35.9518355  -35.80520387 -35.65781441 -35.50966713 -35.36076201\n",
      " -35.21109907 -35.0606783  -34.90949971 -34.75756328 -34.60486903\n",
      " -34.45141696 -34.29720705 -34.14223932 -33.98651376 -33.83003038\n",
      " -33.67278917 -33.51479013 -33.35603326 -33.19651856 -33.03624604\n",
      " -32.87521569 -32.71342752 -32.55088152 -32.38757769 -32.22351603\n",
      " -32.05869655 -31.89311924 -31.7267841  -31.55969113 -31.39184034\n",
      " -31.22323172 -31.05386527 -30.883741   -30.7128589  -30.54121897\n",
      " -30.36882121 -30.19566563 -30.02175222 -29.84708098 -29.67165192\n",
      " -29.49546503 -29.31852031 -29.14081776 -28.96235739 -28.78313919\n",
      " -28.60316317 -28.42242931 -28.24093763 -28.05868812 -27.87568079\n",
      " -27.69191562 -27.50739263 -27.32211182 -27.13607317 -26.9492767\n",
      " -26.7617224  -26.57341028 -26.38434033 -26.19451255 -26.00392694\n",
      " -25.81258351 -25.62048224 -25.42762316 -25.23400624 -25.0396315\n",
      " -24.84449893 -24.64860853 -24.45196031 -24.25455426 -24.05639038\n",
      " -23.85746867 -23.65778914 -23.45735178 -23.25615659 -23.05420358\n",
      " -22.85149274 -22.64802407 -22.44379758 -22.23881325 -22.0330711\n",
      " -21.82657113 -21.61931332 -21.41129769 -21.20252423 -20.99299295\n",
      " -20.78270384 -20.5716569  -20.35985213 -20.14728953 -19.93396911\n",
      " -19.71989087 -19.50505479 -19.28946089 -19.07310916 -18.8559996\n",
      " -18.63813222 -18.41950701 -18.20012397 -17.9799831  -17.75908441\n",
      " -17.53742789 -17.31501354 -17.09184137 -16.86791137 -16.64322354\n",
      " -16.41777788 -16.1915744  -15.96461309 -15.73689396 -15.50841699\n",
      " -15.2791822  -15.04918958 -14.81843914 -14.58693087 -14.35466477\n",
      " -14.12164084 -13.88785908 -13.6533195  -13.4180221  -13.18196686\n",
      " -12.9451538  -12.70758291 -12.46925419 -12.23016765 -11.99032328\n",
      " -11.74972108 -11.50836105 -11.2662432  -11.02336752 -10.77973401\n",
      " -10.53534268 -10.29019352 -10.04428653  -9.79762172  -9.55019907\n",
      "  -9.3020186   -9.05308031  -8.80338418  -8.55293023  -8.30171845\n",
      "  -8.04974885  -7.79702142  -7.54353616  -7.28929307  -7.03429216\n",
      "  -6.77853341  -6.52201685  -6.26474245  -6.00671023  -5.74792018\n",
      "  -5.4883723   -5.2280666   -4.96700307  -4.70518171  -4.44260252\n",
      "  -4.17926551  -3.91517067  -3.65031801  -3.38470751  -3.11833919\n",
      "  -2.85121304  -2.58332907  -2.31468727  -2.04528764  -1.77513018\n",
      "  -1.50421489  -1.23254178  -0.96011085  -0.68692208  -0.41297549\n",
      "  -0.13827107   0.13719118   0.41341125   0.69038915   0.96812488\n",
      "   1.24661844   1.52586982   1.80587903   2.08664606   2.36817093\n",
      "   2.65045362   2.93349414   3.21729248   3.50184866   3.78716265\n",
      "   4.07323448   4.36006414   4.64765162   4.93599692   5.22510006\n",
      "   5.51496102   5.80557981   6.09695643   6.38909087   6.68198314\n",
      "   6.97563324   7.27004117   7.56520692   7.8611305    8.1578119\n",
      "   8.45525114   8.7534482    9.05240309   9.3521158    9.65258635\n",
      "   9.95381471  10.25580091  10.55854494  10.86204679  11.16630646\n",
      "  11.47132397  11.7770993   12.08363246  12.39092345  12.69897226\n",
      "  13.0077789   13.31734337  13.62766567  13.93874579  14.25058374\n",
      "  14.56317951  14.87653312  15.19064455  15.50551381  15.82114089\n",
      "  16.1375258   16.45466854  16.77256911  17.0912275   17.41064372\n",
      "  17.73081777  18.05174965  18.37343935  18.69588688  19.01909224\n",
      "  19.34305542  19.66777643  19.99325527  20.31949193  20.64648643\n",
      "  20.97423875  21.30274889  21.63201687  21.96204267  22.2928263\n",
      "  22.62436775  22.95666703  23.28972414  23.62353908  23.95811184\n",
      "  24.29344243  24.62953085  24.9663771   25.30398117  25.64234307\n",
      "  25.98146279  26.32134035  26.66197573  27.00336894  27.34551997]\n"
     ]
    }
   ],
   "source": [
    "print(xx, f(xx))"
   ]
  },
  {
   "cell_type": "code",
   "execution_count": null,
   "id": "697bb751",
   "metadata": {},
   "outputs": [],
   "source": []
  }
 ],
 "metadata": {
  "kernelspec": {
   "display_name": "Python 3",
   "language": "python",
   "name": "python3"
  },
  "language_info": {
   "codemirror_mode": {
    "name": "ipython",
    "version": 3
   },
   "file_extension": ".py",
   "mimetype": "text/x-python",
   "name": "python",
   "nbconvert_exporter": "python",
   "pygments_lexer": "ipython3",
   "version": "3.6.9"
  }
 },
 "nbformat": 4,
 "nbformat_minor": 5
}
