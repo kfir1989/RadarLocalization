{
 "cells": [
  {
   "cell_type": "code",
   "execution_count": 206,
   "id": "1ab58e1f",
   "metadata": {},
   "outputs": [],
   "source": [
    "import numpy as np\n",
    "from numpy.polynomial import polynomial as P\n",
    "\n",
    "def innerProductPolynoms(f1, f2, xmin, xmax):\n",
    "        f1mf2 = P.polysub(f1,f2)\n",
    "        f1mf2 = P.polymul(f1mf2,f1mf2)\n",
    "        val = P.polyint(f1mf2,lbnd=xmin)\n",
    "        #print(\"val\", val)\n",
    "        ip = np.abs(val[0] + val[1]*(xmax-xmin)+val[2]*(xmax-xmin)**2+val[3]*(xmax-xmin)**3+val[4]*(xmax-xmin)**4+val[5]*(xmax-xmin)**5)\n",
    "        return np.sqrt(ip)/abs(xmax-xmin)\n",
    "    \n",
    "def associatePolynomAndPrior(res, priors):\n",
    "    ass_list = []\n",
    "    polynoms = res[-1]\n",
    "    \n",
    "    for iprior,prior in enumerate(priors):\n",
    "        for ipol,polynom in enumerate(polynoms):\n",
    "            f1 = (prior[0],prior[1],prior[2])\n",
    "            f2 = (polynom[\"f\"].c[2],polynom[\"f\"].c[1],polynom[\"f\"].c[0])\n",
    "            xmin = max(prior[3],polynom[\"x_start\"])\n",
    "            xmax = min(prior[4],polynom[\"x_end\"])\n",
    "            dist = innerProductPolynoms(f1,f2,xmin,xmax)\n",
    "            if dist < 2 and xmax-xmin > 5:\n",
    "                ass_list.append((iprior,ipol))\n",
    "                \n",
    "    return ass_list\n",
    "\n",
    "def ComputeCoeffErrors(res, prior, ipolynom):\n",
    "    #print(res[-1][ipolynom][\"f\"],prior)\n",
    "    a0_err = np.zeros([len(res), 3])\n",
    "    a1_err = np.zeros([len(res), 3])\n",
    "    a2_err = np.zeros([len(res), 3])\n",
    "    for iframe,frame in enumerate(res):\n",
    "        a0_err[iframe,0] = abs(frame[ipolynom][\"f\"].c[2] - prior[0])\n",
    "        a1_err[iframe,1] = abs(frame[ipolynom][\"f\"].c[1] - prior[1])\n",
    "        a2_err[iframe,2] = abs(frame[ipolynom][\"f\"].c[0] - prior[2])\n",
    "        \n",
    "    a0_mean_err = np.mean(a0_err)\n",
    "    a1_mean_err = np.mean(a1_err)\n",
    "    a2_mean_err = np.mean(a2_err)\n",
    "    print(f\"ComputeCoeffErrors: mean err for prior {prior} = ({a0_mean_err},{a1_mean_err},{a2_mean_err})\")\n",
    "    \n",
    "    \n",
    "def ComputePolynomDistance(res, prior, ipolynom):\n",
    "    dist = np.zeros(len(res))\n",
    "    for iframe,frame in enumerate(res):\n",
    "        \n",
    "        f1 = (prior[0],prior[1],prior[2])\n",
    "        f2 = (frame[ipolynom][\"f\"].c[2],frame[ipolynom][\"f\"].c[1],frame[ipolynom][\"f\"].c[0])\n",
    "        xmin = max(prior[3],frame[ipolynom][\"x_start\"])\n",
    "        xmax = min(prior[4],frame[ipolynom][\"x_end\"])\n",
    "        dist[iframe] = innerProductPolynoms(f1,f2,xmin,xmax)\n",
    "        #print(\"f1\",f1,\"f2\",f2,\"xmin\",xmin,\"xmax\",xmax,\"dist[iframe]\",dist[iframe])\n",
    "        \n",
    "    dist_mean_err = np.mean(dist)\n",
    "    dist_max_err = np.max(dist)\n",
    "    print(f\"ComputePolynomDistance: dist_mean_err for prior {prior} = {dist_mean_err}\")\n",
    "    print(f\"ComputePolynomDistance: dist_max_err for prior {prior} = {dist_max_err}\")\n",
    "    \n",
    "def ComputeOverlappingArea(res, prior, ipolynom):\n",
    "    overlap = np.zeros(len(res))\n",
    "    for iframe,frame in enumerate(res):\n",
    "        xmin = max(prior[3],frame[ipolynom][\"x_start\"])\n",
    "        xmax = min(prior[4],frame[ipolynom][\"x_end\"])\n",
    "        \n",
    "        xminmin = min(prior[3],frame[ipolynom][\"x_start\"])\n",
    "        xmaxmax = max(prior[4],frame[ipolynom][\"x_end\"])\n",
    "        overlap[iframe] = np.abs(xmax-xmin)/np.abs(xmaxmax-xminmin)\n",
    "        \n",
    "    overlap_mean = np.mean(overlap)\n",
    "    overlap_min = np.min(overlap)\n",
    "    print(f\"ComputeOverlappingArea: overlap_mean for prior {prior} = {overlap_mean}\")\n",
    "    print(f\"ComputeOverlappingArea: overlap_min for prior {prior} = {overlap_min}\")\n",
    "    \n",
    "def ComputeNonOverlappingArea(res, prior, ipolynom):\n",
    "    nonoverlap = np.zeros(len(res))\n",
    "    for iframe,frame in enumerate(res):\n",
    "        dmin = prior[3]-frame[ipolynom][\"x_start\"]\n",
    "        dmax = frame[ipolynom][\"x_end\"] - prior[4]\n",
    "        \n",
    "        dmin = dmin if dmin > 0 else 0\n",
    "        dmax = dmin if dmax > 0 else 0\n",
    "        \n",
    "        nonoverlap[iframe] = dmax + dmin\n",
    "        \n",
    "    nonoverlap_mean = np.mean(nonoverlap)\n",
    "    nonoverlap_max = np.max(nonoverlap)\n",
    "    print(f\"ComputeNonOverlappingArea: onon_verlap_mean for prior {prior} = {nonoverlap_mean}\")\n",
    "    print(f\"ComputeNonOverlappingArea: non_overlap_max for prior {prior} = {nonoverlap_max}\")\n",
    "        \n",
    "\n",
    "def analyzeResults(res, priors):\n",
    "    ass_list = associatePolynomAndPrior(res, priors)\n",
    "    print(\"ass_list\", ass_list)\n",
    "    for iprior,prior in enumerate(priors):\n",
    "        ComputeCoeffErrors(res, priors[ass_list[iprior][0]], ass_list[iprior][1])\n",
    "        ComputePolynomDistance(res, priors[ass_list[iprior][0]], ass_list[iprior][1])\n",
    "        ComputeOverlappingArea(res, priors[ass_list[iprior][0]], ass_list[iprior][1])\n",
    "        ComputeNonOverlappingArea(res, priors[ass_list[iprior][0]], ass_list[iprior][1])"
   ]
  },
  {
   "cell_type": "code",
   "execution_count": null,
   "id": "e452d973",
   "metadata": {
    "scrolled": true
   },
   "outputs": [
    {
     "name": "stdout",
     "output_type": "stream",
     "text": [
      "The autoreload extension is already loaded. To reload it, use:\n",
      "  %reload_ext autoreload\n"
     ]
    },
    {
     "name": "stderr",
     "output_type": "stream",
     "text": [
      "/home/kfir/workspace/RadarLocalization/dataset.py:109: RuntimeWarning: invalid value encountered in power\n",
      "  dist = np.arange(0,N)*dT*(v0+a0*dT)\n"
     ]
    },
    {
     "name": "stdout",
     "output_type": "stream",
     "text": [
      "frame 0\n",
      "prior [{'c': (2.191, 1.169, -0.026), 'xmin': 7, 'xmax': 25, 'fx': False}]\n",
      "Number of point tracks before run() 0\n",
      "Number of extended tracks before run() 0\n",
      "len(unique_polynoms) 0\n",
      "frame 1\n",
      "prior [{'c': (2.191, 1.169, -0.026), 'xmin': 7, 'xmax': 25, 'fx': False}]\n",
      "Number of point tracks before run() 120\n",
      "Number of extended tracks before run() 0\n"
     ]
    },
    {
     "name": "stderr",
     "output_type": "stream",
     "text": [
      "/home/kfir/workspace/RadarLocalization/tracker.py:88: RuntimeWarning: divide by zero encountered in double_scalars\n",
      "  ratio = np.sqrt(lp)/le\n"
     ]
    },
    {
     "name": "stdout",
     "output_type": "stream",
     "text": [
      "len(unique_polynoms) 0\n",
      "frame 2\n",
      "prior [{'c': (2.191, 1.169, -0.026), 'xmin': 7, 'xmax': 25, 'fx': False}]\n",
      "Number of point tracks before run() 154\n",
      "Number of extended tracks before run() 0\n",
      "Opening flipped polynom!!!\n",
      "created an extended object! [ 2.83309182  1.11146614 -0.02442325  6.65079543 23.25283273]\n",
      "Opening flipped polynom!!!\n",
      "Tracks are similar! do not open a new trk (-0.024423245099801677, 1.1114661434910043, 2.8330918172102786) (-0.023725443208229134, 1.0917061676212707, 2.2618626625953904)\n",
      "Opening flipped polynom!!!\n",
      "Extended track is too short curve_length=1.8269429341080823\n",
      "Opening flipped polynom!!!\n",
      "Extended track is too short curve_length=1.24900143652204\n",
      "len(unique_polynoms) 0\n",
      "frame 3\n",
      "prior [{'c': (2.191, 1.169, -0.026), 'xmin': 7, 'xmax': 25, 'fx': False}]\n",
      "Number of point tracks before run() 132\n",
      "Number of extended tracks before run() 1\n"
     ]
    },
    {
     "name": "stderr",
     "output_type": "stream",
     "text": [
      "/home/kfir/workspace/RadarLocalization/tracker.py:63: VisibleDeprecationWarning: Creating an ndarray from ragged nested sequences (which is a list-or-tuple of lists-or-tuples-or ndarrays with different lengths or shapes) is deprecated. If you meant to do this, you must specify 'dtype=object' when creating the ndarray\n",
      "  Ha = np.array([1, zx, zx**2])\n",
      "/home/kfir/workspace/RadarLocalization/tracker.py:88: RuntimeWarning: divide by zero encountered in double_scalars\n",
      "  ratio = np.sqrt(lp)/le\n"
     ]
    },
    {
     "name": "stdout",
     "output_type": "stream",
     "text": [
      "Updating extended object track =  0\n",
      "Updating extended object track =  0\n",
      "Updating extended object track =  0\n",
      "Updating extended object track =  0\n",
      "Updating extended object track =  0\n",
      "Updating extended object track =  0\n",
      "Updating extended object track =  0\n",
      "Updating extended object track =  0\n",
      "Updating extended object track =  0\n",
      "Updating extended object track =  0\n",
      "Updating extended object track =  0\n",
      "Updating extended object track =  0\n",
      "Opening flipped polynom!!!\n",
      "Tracks are similar! do not open a new trk (-0.02475401305796104, 1.1215249038451505, 2.7484612501663905) (-0.02332803466665354, 1.0807365993994753, 2.3232594929392185)\n",
      "Opening flipped polynom!!!\n",
      "Tracks are similar! do not open a new trk (-0.02475401305796104, 1.1215249038451505, 2.7484612501663905) (-0.02474987492241359, 1.1074332493321637, 3.290429157385628)\n",
      "Opening flipped polynom!!!\n",
      "Tracks are similar! do not open a new trk (-0.02475401305796104, 1.1215249038451505, 2.7484612501663905) (-0.0028514494729648325, 0.5532164612983005, 4.221494789024077)\n",
      "Opening flipped polynom!!!\n",
      "Extended track is too short curve_length=1.8269429341080823\n",
      "len(unique_polynoms) 1\n",
      "frame 4\n",
      "prior [{'c': (2.191, 1.169, -0.026), 'xmin': 7, 'xmax': 25, 'fx': False}]\n",
      "Number of point tracks before run() 190\n",
      "Number of extended tracks before run() 1\n"
     ]
    },
    {
     "name": "stderr",
     "output_type": "stream",
     "text": [
      "/home/kfir/workspace/RadarLocalization/tracker.py:63: VisibleDeprecationWarning: Creating an ndarray from ragged nested sequences (which is a list-or-tuple of lists-or-tuples-or ndarrays with different lengths or shapes) is deprecated. If you meant to do this, you must specify 'dtype=object' when creating the ndarray\n",
      "  Ha = np.array([1, zx, zx**2])\n",
      "/home/kfir/workspace/RadarLocalization/tracker.py:88: RuntimeWarning: divide by zero encountered in double_scalars\n",
      "  ratio = np.sqrt(lp)/le\n"
     ]
    },
    {
     "name": "stdout",
     "output_type": "stream",
     "text": [
      "Updating extended object track =  0\n",
      "Updating extended object track =  0\n",
      "Updating extended object track =  0\n",
      "Updating extended object track =  0\n",
      "Updating extended object track =  0\n",
      "Updating extended object track =  0\n",
      "Updating extended object track =  0\n",
      "Updating extended object track =  0\n",
      "Updating extended object track =  0\n",
      "Updating extended object track =  0\n",
      "Updating extended object track =  0\n",
      "Updating extended object track =  0\n",
      "Updating extended object track =  0\n",
      "Updating extended object track =  0\n",
      "Updating extended object track =  0\n",
      "Updating extended object track =  0\n",
      "Updating extended object track =  0\n",
      "Updating extended object track =  0\n",
      "Updating extended object track =  0\n",
      "Updating extended object track =  0\n",
      "Updating extended object track =  0\n",
      "Updating extended object track =  0\n",
      "Updating extended object track =  0\n",
      "Updating extended object track =  0\n",
      "Updating extended object track =  0\n",
      "Updating extended object track =  0\n",
      "Opening flipped polynom!!!\n",
      "Tracks are similar! do not open a new trk (-0.02456958469658715, 1.1179011630217148, 2.76199232925276) (-0.023498816529588237, 1.0898784840695908, 3.1071991858473824)\n",
      "Opening flipped polynom!!!\n",
      "Tracks are similar! do not open a new trk (-0.02456958469658715, 1.1179011630217148, 2.76199232925276) (-0.023408535628298296, 1.0831791584492183, 2.309787120085044)\n",
      "Opening flipped polynom!!!\n",
      "Extended track is too short curve_length=1.5847730130722975\n",
      "Opening flipped polynom!!!\n",
      "Extended track is too short curve_length=2.097962976020951\n",
      "len(unique_polynoms) 1\n",
      "frame 5\n",
      "prior [{'c': (2.191, 1.169, -0.026), 'xmin': 7, 'xmax': 25, 'fx': False}]\n",
      "Number of point tracks before run() 220\n",
      "Number of extended tracks before run() 1\n"
     ]
    },
    {
     "name": "stderr",
     "output_type": "stream",
     "text": [
      "/home/kfir/workspace/RadarLocalization/tracker.py:63: VisibleDeprecationWarning: Creating an ndarray from ragged nested sequences (which is a list-or-tuple of lists-or-tuples-or ndarrays with different lengths or shapes) is deprecated. If you meant to do this, you must specify 'dtype=object' when creating the ndarray\n",
      "  Ha = np.array([1, zx, zx**2])\n",
      "/home/kfir/workspace/RadarLocalization/tracker.py:88: RuntimeWarning: divide by zero encountered in double_scalars\n",
      "  ratio = np.sqrt(lp)/le\n"
     ]
    },
    {
     "name": "stdout",
     "output_type": "stream",
     "text": [
      "Updating extended object track =  0\n",
      "Updating extended object track =  0\n",
      "Updating extended object track =  0\n",
      "Updating extended object track =  0\n",
      "Updating extended object track =  0\n",
      "Updating extended object track =  0\n",
      "Updating extended object track =  0\n",
      "Updating extended object track =  0\n",
      "Updating extended object track =  0\n",
      "Updating extended object track =  0\n",
      "Updating extended object track =  0\n",
      "Updating extended object track =  0\n",
      "Updating extended object track =  0\n",
      "Updating extended object track =  0\n",
      "Updating extended object track =  0\n",
      "Updating extended object track =  0\n",
      "Updating extended object track =  0\n",
      "Updating extended object track =  0\n",
      "Updating extended object track =  0\n",
      "Opening flipped polynom!!!\n",
      "Tracks are similar! do not open a new trk (-0.02448807756233271, 1.115191272981447, 2.7849600042063094) (-0.02348512119223748, 1.090505262260036, 3.099541788602127)\n",
      "Opening flipped polynom!!!\n",
      "Tracks are similar! do not open a new trk (-0.02448807756233271, 1.115191272981447, 2.7849600042063094) (-0.02558463788107162, 1.1581353118756912, 1.8508863468892252)\n",
      "Opening flipped polynom!!!\n",
      "Tracks are similar! do not open a new trk (-0.02448807756233271, 1.115191272981447, 2.7849600042063094) (-0.021062370300867224, 1.0273592221420877, 2.1072564050652143)\n",
      "Opening flipped polynom!!!\n",
      "Extended track is too short curve_length=2.097962976020951\n",
      "Opening flipped polynom!!!\n",
      "Extended track is too short curve_length=1.9224413474085813\n",
      "Opening flipped polynom!!!\n",
      "Extended track is too short curve_length=1.9183204026147582\n",
      "Opening flipped polynom!!!\n",
      "Tracks are similar! do not open a new trk (-0.02448807756233271, 1.115191272981447, 2.7849600042063094) (-0.028231954839148938, 1.2374896263263813, 2.959676306009622)\n",
      "len(unique_polynoms) 1\n",
      "frame 6\n",
      "prior [{'c': (2.191, 1.169, -0.026), 'xmin': 7, 'xmax': 25, 'fx': False}]\n",
      "Number of point tracks before run() 241\n",
      "Number of extended tracks before run() 1\n"
     ]
    },
    {
     "name": "stderr",
     "output_type": "stream",
     "text": [
      "/home/kfir/workspace/RadarLocalization/tracker.py:63: VisibleDeprecationWarning: Creating an ndarray from ragged nested sequences (which is a list-or-tuple of lists-or-tuples-or ndarrays with different lengths or shapes) is deprecated. If you meant to do this, you must specify 'dtype=object' when creating the ndarray\n",
      "  Ha = np.array([1, zx, zx**2])\n",
      "/home/kfir/workspace/RadarLocalization/tracker.py:88: RuntimeWarning: divide by zero encountered in double_scalars\n",
      "  ratio = np.sqrt(lp)/le\n"
     ]
    },
    {
     "name": "stdout",
     "output_type": "stream",
     "text": [
      "Updating extended object track =  0\n",
      "Updating extended object track =  0\n",
      "Updating extended object track =  0\n",
      "Updating extended object track =  0\n",
      "Updating extended object track =  0\n",
      "Updating extended object track =  0\n",
      "Updating extended object track =  0\n",
      "Updating extended object track =  0\n",
      "Updating extended object track =  0\n",
      "Updating extended object track =  0\n",
      "Updating extended object track =  0\n",
      "Updating extended object track =  0\n",
      "Updating extended object track =  0\n",
      "Updating extended object track =  0\n",
      "Updating extended object track =  0\n",
      "Updating extended object track =  0\n",
      "Updating extended object track =  0\n",
      "Opening flipped polynom!!!\n",
      "Tracks are similar! do not open a new trk (-0.024633825511375336, 1.1196647948861809, 2.7594540744321936) (-0.023895260502700376, 1.1027571716968656, 3.0144509487878195)\n",
      "Opening flipped polynom!!!\n",
      "Tracks are similar! do not open a new trk (-0.024633825511375336, 1.1196647948861809, 2.7594540744321936) (-0.02475505626219045, 1.129119646467833, 2.0941860104680763)\n",
      "Opening flipped polynom!!!\n",
      "Tracks are similar! do not open a new trk (-0.024633825511375336, 1.1196647948861809, 2.7594540744321936) (-0.021031634747202516, 1.0274923042579203, 2.104744662950066)\n",
      "Opening flipped polynom!!!\n",
      "Extended track is too short curve_length=2.097962976020951\n",
      "Opening flipped polynom!!!\n",
      "Extended track is too short curve_length=1.9224413474085813\n",
      "Opening flipped polynom!!!\n",
      "Extended track is too short curve_length=1.9183204026147582\n",
      "Opening flipped polynom!!!\n",
      "Tracks are similar! do not open a new trk (-0.024633825511375336, 1.1196647948861809, 2.7594540744321936) (-0.028231954839148938, 1.2374896263263813, 2.959676306009622)\n",
      "len(unique_polynoms) 1\n",
      "frame 7\n",
      "prior [{'c': (2.191, 1.169, -0.026), 'xmin': 7, 'xmax': 25, 'fx': False}]\n",
      "Number of point tracks before run() 258\n",
      "Number of extended tracks before run() 1\n"
     ]
    },
    {
     "name": "stderr",
     "output_type": "stream",
     "text": [
      "/home/kfir/workspace/RadarLocalization/tracker.py:63: VisibleDeprecationWarning: Creating an ndarray from ragged nested sequences (which is a list-or-tuple of lists-or-tuples-or ndarrays with different lengths or shapes) is deprecated. If you meant to do this, you must specify 'dtype=object' when creating the ndarray\n",
      "  Ha = np.array([1, zx, zx**2])\n",
      "/home/kfir/workspace/RadarLocalization/tracker.py:88: RuntimeWarning: divide by zero encountered in double_scalars\n",
      "  ratio = np.sqrt(lp)/le\n"
     ]
    },
    {
     "name": "stdout",
     "output_type": "stream",
     "text": [
      "Updating extended object track =  0\n",
      "Updating extended object track =  0\n",
      "Updating extended object track =  0\n",
      "Updating extended object track =  0\n",
      "Updating extended object track =  0\n",
      "Updating extended object track =  0\n",
      "Updating extended object track =  0\n",
      "Updating extended object track =  0\n",
      "Updating extended object track =  0\n",
      "Updating extended object track =  0\n",
      "Updating extended object track =  0\n",
      "Updating extended object track =  0\n",
      "Updating extended object track =  0\n",
      "Updating extended object track =  0\n",
      "Updating extended object track =  0\n",
      "Updating extended object track =  0\n",
      "Updating extended object track =  0\n",
      "Updating extended object track =  0\n",
      "Updating extended object track =  0\n",
      "Updating extended object track =  0\n",
      "Opening flipped polynom!!!\n",
      "Tracks are similar! do not open a new trk (-0.024208323018992093, 1.107696552477869, 2.834244164239451) (-0.023929627941123976, 1.1046189375278326, 2.9993907585128294)\n",
      "Opening flipped polynom!!!\n",
      "Tracks are similar! do not open a new trk (-0.024208323018992093, 1.107696552477869, 2.834244164239451) (-0.02476078174887327, 1.1302738335290057, 2.087843423287767)\n",
      "Opening flipped polynom!!!\n",
      "Tracks are similar! do not open a new trk (-0.024208323018992093, 1.107696552477869, 2.834244164239451) (-0.01562833483910655, 0.8712567331329637, 3.0688306409064263)\n",
      "Opening flipped polynom!!!\n",
      "Extended track is too short curve_length=2.34275147602647\n",
      "Opening flipped polynom!!!\n",
      "Extended track is too short curve_length=1.9183204026147582\n",
      "Opening flipped polynom!!!\n",
      "Tracks are similar! do not open a new trk (-0.024208323018992093, 1.107696552477869, 2.834244164239451) (-0.026281722066329755, 1.1668800030469892, 3.543053949896206)\n",
      "Opening flipped polynom!!!\n",
      "Extended track is too short curve_length=2.1066249877211356\n",
      "len(unique_polynoms) 1\n",
      "frame 8\n",
      "prior [{'c': (2.191, 1.169, -0.026), 'xmin': 7, 'xmax': 25, 'fx': False}]\n",
      "Number of point tracks before run() 272\n",
      "Number of extended tracks before run() 1\n"
     ]
    },
    {
     "name": "stderr",
     "output_type": "stream",
     "text": [
      "/home/kfir/workspace/RadarLocalization/tracker.py:63: VisibleDeprecationWarning: Creating an ndarray from ragged nested sequences (which is a list-or-tuple of lists-or-tuples-or ndarrays with different lengths or shapes) is deprecated. If you meant to do this, you must specify 'dtype=object' when creating the ndarray\n",
      "  Ha = np.array([1, zx, zx**2])\n",
      "/home/kfir/workspace/RadarLocalization/tracker.py:88: RuntimeWarning: divide by zero encountered in double_scalars\n",
      "  ratio = np.sqrt(lp)/le\n"
     ]
    },
    {
     "name": "stdout",
     "output_type": "stream",
     "text": [
      "Updating extended object track =  0\n",
      "Updating extended object track =  0\n",
      "Updating extended object track =  0\n",
      "Updating extended object track =  0\n",
      "Updating extended object track =  0\n",
      "Updating extended object track =  0\n",
      "Updating extended object track =  0\n",
      "Updating extended object track =  0\n",
      "Updating extended object track =  0\n",
      "Updating extended object track =  0\n",
      "Updating extended object track =  0\n",
      "Updating extended object track =  0\n",
      "Updating extended object track =  0\n",
      "Updating extended object track =  0\n",
      "Updating extended object track =  0\n",
      "Updating extended object track =  0\n",
      "Updating extended object track =  0\n",
      "Updating extended object track =  0\n",
      "Updating extended object track =  0\n",
      "Updating extended object track =  0\n",
      "Updating extended object track =  0\n",
      "Updating extended object track =  0\n",
      "Opening flipped polynom!!!\n",
      "Tracks are similar! do not open a new trk (-0.02431895015989423, 1.1115820881627327, 2.8023691449295973) (-0.024209680380759286, 1.110054812280322, 3.0493577057842876)\n",
      "Opening flipped polynom!!!\n",
      "Tracks are similar! do not open a new trk (-0.02431895015989423, 1.1115820881627327, 2.8023691449295973) (-0.024619349384156747, 1.127964503884015, 2.1525524325537955)\n",
      "Opening flipped polynom!!!\n",
      "Tracks are similar! do not open a new trk (-0.02431895015989423, 1.1115820881627327, 2.8023691449295973) (-0.021189438721600038, 1.0189141566257738, 2.419935418800695)\n",
      "Opening flipped polynom!!!\n",
      "Extended track is too short curve_length=2.34275147602647\n",
      "Opening flipped polynom!!!\n",
      "Extended track is too short curve_length=1.9696033072169388\n",
      "len(unique_polynoms) 1\n",
      "frame 9\n",
      "prior [{'c': (2.191, 1.169, -0.026), 'xmin': 7, 'xmax': 25, 'fx': False}]\n",
      "Number of point tracks before run() 279\n",
      "Number of extended tracks before run() 1\n"
     ]
    },
    {
     "name": "stderr",
     "output_type": "stream",
     "text": [
      "/home/kfir/workspace/RadarLocalization/tracker.py:63: VisibleDeprecationWarning: Creating an ndarray from ragged nested sequences (which is a list-or-tuple of lists-or-tuples-or ndarrays with different lengths or shapes) is deprecated. If you meant to do this, you must specify 'dtype=object' when creating the ndarray\n",
      "  Ha = np.array([1, zx, zx**2])\n",
      "/home/kfir/workspace/RadarLocalization/tracker.py:88: RuntimeWarning: divide by zero encountered in double_scalars\n",
      "  ratio = np.sqrt(lp)/le\n"
     ]
    },
    {
     "name": "stdout",
     "output_type": "stream",
     "text": [
      "Updating extended object track =  0\n",
      "Updating extended object track =  0\n",
      "Updating extended object track =  0\n",
      "Updating extended object track =  0\n",
      "Updating extended object track =  0\n",
      "Updating extended object track =  0\n",
      "Updating extended object track =  0\n",
      "Updating extended object track =  0\n",
      "Updating extended object track =  0\n",
      "Updating extended object track =  0\n",
      "Updating extended object track =  0\n",
      "Updating extended object track =  0\n",
      "Updating extended object track =  0\n",
      "Updating extended object track =  0\n",
      "Updating extended object track =  0\n",
      "Updating extended object track =  0\n",
      "Updating extended object track =  0\n",
      "Updating extended object track =  0\n",
      "Updating extended object track =  0\n",
      "Updating extended object track =  0\n",
      "Updating extended object track =  0\n",
      "Updating extended object track =  0\n",
      "Opening flipped polynom!!!\n",
      "Tracks are similar! do not open a new trk (-0.02415200187675803, 1.1074219015512885, 2.8248421625408575) (-0.024551973077714638, 1.1198642813958963, 2.997047196216076)\n",
      "Opening flipped polynom!!!\n",
      "Tracks are similar! do not open a new trk (-0.02415200187675803, 1.1074219015512885, 2.8248421625408575) (-0.02457842018239345, 1.1277091683019613, 2.141040073786645)\n",
      "Opening flipped polynom!!!\n",
      "Tracks are similar! do not open a new trk (-0.02415200187675803, 1.1074219015512885, 2.8248421625408575) (-0.018638570684475882, 0.959653471750071, 2.7072720995160036)\n",
      "Opening flipped polynom!!!\n",
      "Extended track is too short curve_length=2.34275147602647\n",
      "Opening flipped polynom!!!\n",
      "Extended track is too short curve_length=1.9696033072169388\n",
      "len(unique_polynoms) 1\n",
      "frame 10\n",
      "prior [{'c': (2.191, 1.169, -0.026), 'xmin': 7, 'xmax': 25, 'fx': False}]\n",
      "Number of point tracks before run() 286\n",
      "Number of extended tracks before run() 1\n"
     ]
    },
    {
     "name": "stderr",
     "output_type": "stream",
     "text": [
      "/home/kfir/workspace/RadarLocalization/tracker.py:63: VisibleDeprecationWarning: Creating an ndarray from ragged nested sequences (which is a list-or-tuple of lists-or-tuples-or ndarrays with different lengths or shapes) is deprecated. If you meant to do this, you must specify 'dtype=object' when creating the ndarray\n",
      "  Ha = np.array([1, zx, zx**2])\n",
      "/home/kfir/workspace/RadarLocalization/tracker.py:88: RuntimeWarning: divide by zero encountered in double_scalars\n",
      "  ratio = np.sqrt(lp)/le\n"
     ]
    },
    {
     "name": "stdout",
     "output_type": "stream",
     "text": [
      "Updating extended object track =  0\n",
      "Updating extended object track =  0\n",
      "Updating extended object track =  0\n",
      "Updating extended object track =  0\n",
      "Updating extended object track =  0\n",
      "Updating extended object track =  0\n",
      "Updating extended object track =  0\n",
      "Updating extended object track =  0\n",
      "Updating extended object track =  0\n",
      "Updating extended object track =  0\n",
      "Updating extended object track =  0\n",
      "Updating extended object track =  0\n",
      "Updating extended object track =  0\n",
      "Updating extended object track =  0\n",
      "Updating extended object track =  0\n",
      "Updating extended object track =  0\n",
      "Opening flipped polynom!!!\n",
      "Tracks are similar! do not open a new trk (-0.024411316917624777, 1.1146888709719212, 2.7811954138137183) (-0.024266950404767812, 1.1137548311047516, 3.0277079042567108)\n",
      "Opening flipped polynom!!!\n",
      "Tracks are similar! do not open a new trk (-0.024411316917624777, 1.1146888709719212, 2.7811954138137183) (-0.024663370995699197, 1.1301879451817411, 2.1274250345355377)\n",
      "Opening flipped polynom!!!\n",
      "Tracks are similar! do not open a new trk (-0.024411316917624777, 1.1146888709719212, 2.7811954138137183) (-0.018638570684475882, 0.959653471750071, 2.7072720995160036)\n",
      "Opening flipped polynom!!!\n",
      "Extended track is too short curve_length=2.34275147602647\n",
      "Opening flipped polynom!!!\n",
      "Extended track is too short curve_length=1.9696033072169388\n",
      "len(unique_polynoms) 1\n",
      "frame 11\n",
      "prior [{'c': (2.191, 1.169, -0.026), 'xmin': 7, 'xmax': 25, 'fx': False}]\n",
      "Number of point tracks before run() 282\n",
      "Number of extended tracks before run() 1\n"
     ]
    },
    {
     "name": "stderr",
     "output_type": "stream",
     "text": [
      "/home/kfir/workspace/RadarLocalization/tracker.py:63: VisibleDeprecationWarning: Creating an ndarray from ragged nested sequences (which is a list-or-tuple of lists-or-tuples-or ndarrays with different lengths or shapes) is deprecated. If you meant to do this, you must specify 'dtype=object' when creating the ndarray\n",
      "  Ha = np.array([1, zx, zx**2])\n",
      "/home/kfir/workspace/RadarLocalization/tracker.py:88: RuntimeWarning: divide by zero encountered in double_scalars\n",
      "  ratio = np.sqrt(lp)/le\n"
     ]
    },
    {
     "name": "stdout",
     "output_type": "stream",
     "text": [
      "Updating extended object track =  0\n",
      "Updating extended object track =  0\n",
      "Updating extended object track =  0\n",
      "Updating extended object track =  0\n",
      "Updating extended object track =  0\n",
      "Updating extended object track =  0\n",
      "Updating extended object track =  0\n",
      "Updating extended object track =  0\n",
      "Updating extended object track =  0\n",
      "Updating extended object track =  0\n",
      "Updating extended object track =  0\n",
      "Updating extended object track =  0\n",
      "Updating extended object track =  0\n",
      "Updating extended object track =  0\n",
      "Updating extended object track =  0\n",
      "Updating extended object track =  0\n",
      "Updating extended object track =  0\n",
      "Opening flipped polynom!!!\n",
      "Tracks are similar! do not open a new trk (-0.024445376390019112, 1.1155171243841302, 2.7760254023843762) (-0.02442832464653777, 1.1186999973373997, 2.9945384943599227)\n",
      "Opening flipped polynom!!!\n",
      "Tracks are similar! do not open a new trk (-0.024445376390019112, 1.1155171243841302, 2.7760254023843762) (-0.02485003779878184, 1.134178809987322, 2.1038750684258223)\n",
      "Opening flipped polynom!!!\n",
      "Tracks are similar! do not open a new trk (-0.024445376390019112, 1.1155171243841302, 2.7760254023843762) (-0.018659405368657365, 0.9578038834585301, 2.721401145858744)\n",
      "Opening flipped polynom!!!\n",
      "Extended track is too short curve_length=2.34275147602647\n",
      "Opening flipped polynom!!!\n",
      "Extended track is too short curve_length=1.9696033072169388\n",
      "len(unique_polynoms) 1\n",
      "frame 12\n",
      "prior [{'c': (2.191, 1.169, -0.026), 'xmin': 7, 'xmax': 25, 'fx': False}]\n",
      "Number of point tracks before run() 289\n",
      "Number of extended tracks before run() 1\n"
     ]
    },
    {
     "name": "stderr",
     "output_type": "stream",
     "text": [
      "/home/kfir/workspace/RadarLocalization/tracker.py:63: VisibleDeprecationWarning: Creating an ndarray from ragged nested sequences (which is a list-or-tuple of lists-or-tuples-or ndarrays with different lengths or shapes) is deprecated. If you meant to do this, you must specify 'dtype=object' when creating the ndarray\n",
      "  Ha = np.array([1, zx, zx**2])\n"
     ]
    },
    {
     "name": "stdout",
     "output_type": "stream",
     "text": [
      "Updating extended object track =  0\n",
      "Updating extended object track =  0\n",
      "Updating extended object track =  0\n",
      "Updating extended object track =  0\n",
      "Updating extended object track =  0\n",
      "Updating extended object track =  0\n",
      "Updating extended object track =  0\n",
      "Updating extended object track =  0\n",
      "Updating extended object track =  0\n",
      "Updating extended object track =  0\n",
      "Updating extended object track =  0\n",
      "Updating extended object track =  0\n",
      "Updating extended object track =  0\n",
      "Updating extended object track =  0\n",
      "Updating extended object track =  0\n",
      "Updating extended object track =  0\n",
      "Updating extended object track =  0\n",
      "Opening flipped polynom!!!\n",
      "Tracks are similar! do not open a new trk (-0.024424405642781855, 1.1155723608725332, 2.7729372884812618) (-0.024045419054701124, 1.107524148403819, 3.069948993180062)\n",
      "Opening flipped polynom!!!\n",
      "Tracks are similar! do not open a new trk (-0.024424405642781855, 1.1155723608725332, 2.7729372884812618) (-0.02485003779878184, 1.134178809987322, 2.1038750684258223)\n",
      "Opening flipped polynom!!!\n",
      "Tracks are similar! do not open a new trk (-0.024424405642781855, 1.1155723608725332, 2.7729372884812618) (-0.018659405368657365, 0.9578038834585301, 2.721401145858744)\n",
      "Opening flipped polynom!!!\n",
      "Extended track is too short curve_length=2.34275147602647\n",
      "Opening flipped polynom!!!\n",
      "Extended track is too short curve_length=1.9696033072169388\n",
      "len(unique_polynoms) 1\n",
      "frame 13\n",
      "prior [{'c': (2.191, 1.169, -0.026), 'xmin': 7, 'xmax': 25, 'fx': False}]\n",
      "Number of point tracks before run() 287\n",
      "Number of extended tracks before run() 1\n"
     ]
    },
    {
     "name": "stderr",
     "output_type": "stream",
     "text": [
      "/home/kfir/workspace/RadarLocalization/tracker.py:88: RuntimeWarning: divide by zero encountered in double_scalars\n",
      "  ratio = np.sqrt(lp)/le\n",
      "/home/kfir/workspace/RadarLocalization/tracker.py:63: VisibleDeprecationWarning: Creating an ndarray from ragged nested sequences (which is a list-or-tuple of lists-or-tuples-or ndarrays with different lengths or shapes) is deprecated. If you meant to do this, you must specify 'dtype=object' when creating the ndarray\n",
      "  Ha = np.array([1, zx, zx**2])\n",
      "/home/kfir/workspace/RadarLocalization/tracker.py:88: RuntimeWarning: divide by zero encountered in double_scalars\n",
      "  ratio = np.sqrt(lp)/le\n"
     ]
    },
    {
     "name": "stdout",
     "output_type": "stream",
     "text": [
      "Updating extended object track =  0\n",
      "Updating extended object track =  0\n",
      "Updating extended object track =  0\n",
      "Updating extended object track =  0\n",
      "Updating extended object track =  0\n",
      "Updating extended object track =  0\n",
      "Updating extended object track =  0\n",
      "Updating extended object track =  0\n",
      "Updating extended object track =  0\n",
      "Updating extended object track =  0\n",
      "Updating extended object track =  0\n",
      "Updating extended object track =  0\n",
      "Updating extended object track =  0\n",
      "Updating extended object track =  0\n",
      "Updating extended object track =  0\n",
      "Updating extended object track =  0\n",
      "Opening flipped polynom!!!\n",
      "Tracks are similar! do not open a new trk (-0.02426753255949862, 1.110747915066372, 2.801832342102165) (-0.02406911440234479, 1.1081207770705985, 3.0678248104177226)\n",
      "Opening flipped polynom!!!\n",
      "Tracks are similar! do not open a new trk (-0.02426753255949862, 1.110747915066372, 2.801832342102165) (-0.024568107454580254, 1.1242094788450183, 2.181723420724495)\n",
      "Opening flipped polynom!!!\n",
      "Tracks are similar! do not open a new trk (-0.02426753255949862, 1.110747915066372, 2.801832342102165) (-0.01843134581063181, 0.9518254088813239, 2.7513082911671796)\n",
      "Opening flipped polynom!!!\n",
      "Extended track is too short curve_length=2.34275147602647\n",
      "Opening flipped polynom!!!\n",
      "Extended track is too short curve_length=3.3122620422825313\n",
      "Opening flipped polynom!!!\n",
      "Tracks are similar! do not open a new trk (-0.02426753255949862, 1.110747915066372, 2.801832342102165) (-0.02709988646122096, 1.1897177215243997, 3.403750862449385)\n",
      "len(unique_polynoms) 1\n",
      "frame 14\n",
      "prior [{'c': (2.191, 1.169, -0.026), 'xmin': 7, 'xmax': 25, 'fx': False}]\n",
      "Number of point tracks before run() 292\n",
      "Number of extended tracks before run() 1\n"
     ]
    },
    {
     "name": "stderr",
     "output_type": "stream",
     "text": [
      "/home/kfir/workspace/RadarLocalization/tracker.py:63: VisibleDeprecationWarning: Creating an ndarray from ragged nested sequences (which is a list-or-tuple of lists-or-tuples-or ndarrays with different lengths or shapes) is deprecated. If you meant to do this, you must specify 'dtype=object' when creating the ndarray\n",
      "  Ha = np.array([1, zx, zx**2])\n",
      "/home/kfir/workspace/RadarLocalization/tracker.py:88: RuntimeWarning: divide by zero encountered in double_scalars\n",
      "  ratio = np.sqrt(lp)/le\n"
     ]
    },
    {
     "name": "stdout",
     "output_type": "stream",
     "text": [
      "Updating extended object track =  0\n",
      "Updating extended object track =  0\n",
      "Updating extended object track =  0\n",
      "Updating extended object track =  0\n",
      "Updating extended object track =  0\n",
      "Updating extended object track =  0\n",
      "Updating extended object track =  0\n",
      "Updating extended object track =  0\n",
      "Updating extended object track =  0\n",
      "Opening flipped polynom!!!\n",
      "Tracks are similar! do not open a new trk (-0.024232539822837337, 1.109888505585994, 2.807269831870899) (-0.023995038782176695, 1.10566244638276, 3.079818287880894)\n",
      "Opening flipped polynom!!!\n",
      "Tracks are similar! do not open a new trk (-0.024232539822837337, 1.109888505585994, 2.807269831870899) (-0.024478916927153156, 1.121407035587529, 2.1989600493581025)\n",
      "Opening flipped polynom!!!\n",
      "Tracks are similar! do not open a new trk (-0.024232539822837337, 1.109888505585994, 2.807269831870899) (-0.018356726368580767, 0.9489716195857374, 2.7789815582869792)\n",
      "Opening flipped polynom!!!\n",
      "Extended track is too short curve_length=2.34275147602647\n",
      "Opening flipped polynom!!!\n",
      "Extended track is too short curve_length=3.3980868619165947\n",
      "Opening flipped polynom!!!\n",
      "Tracks are similar! do not open a new trk (-0.024232539822837337, 1.109888505585994, 2.807269831870899) (-0.02709988646122096, 1.1897177215243997, 3.403750862449385)\n",
      "len(unique_polynoms) 1\n",
      "frame 15\n",
      "prior [{'c': (2.191, 1.169, -0.026), 'xmin': 7, 'xmax': 25, 'fx': False}]\n",
      "Number of point tracks before run() 294\n",
      "Number of extended tracks before run() 1\n"
     ]
    },
    {
     "name": "stderr",
     "output_type": "stream",
     "text": [
      "/home/kfir/workspace/RadarLocalization/tracker.py:63: VisibleDeprecationWarning: Creating an ndarray from ragged nested sequences (which is a list-or-tuple of lists-or-tuples-or ndarrays with different lengths or shapes) is deprecated. If you meant to do this, you must specify 'dtype=object' when creating the ndarray\n",
      "  Ha = np.array([1, zx, zx**2])\n",
      "/home/kfir/workspace/RadarLocalization/tracker.py:88: RuntimeWarning: divide by zero encountered in double_scalars\n",
      "  ratio = np.sqrt(lp)/le\n"
     ]
    },
    {
     "name": "stdout",
     "output_type": "stream",
     "text": [
      "Updating extended object track =  0\n",
      "Updating extended object track =  0\n",
      "Updating extended object track =  0\n",
      "Updating extended object track =  0\n",
      "Updating extended object track =  0\n",
      "Updating extended object track =  0\n",
      "Updating extended object track =  0\n",
      "Updating extended object track =  0\n",
      "Opening flipped polynom!!!\n",
      "Tracks are similar! do not open a new trk (-0.02417102816451875, 1.1081449806319288, 2.8172419108485647) (-0.024124622912079945, 1.1112606119457369, 2.9976201948317835)\n",
      "Opening flipped polynom!!!\n",
      "Tracks are similar! do not open a new trk (-0.02417102816451875, 1.1081449806319288, 2.8172419108485647) (-0.024362589311626333, 1.1178778129211282, 2.2197813680810117)\n",
      "Opening flipped polynom!!!\n",
      "Tracks are similar! do not open a new trk (-0.02417102816451875, 1.1081449806319288, 2.8172419108485647) (-0.018356726368580767, 0.9489716195857374, 2.7789815582869792)\n",
      "Opening flipped polynom!!!\n",
      "Extended track is too short curve_length=2.07255983169839\n",
      "Opening flipped polynom!!!\n",
      "Extended track is too short curve_length=3.3980868619165947\n",
      "Opening flipped polynom!!!\n",
      "Extended track is too short curve_length=2.4719056161191273\n",
      "Opening flipped polynom!!!\n",
      "Tracks are similar! do not open a new trk (-0.02417102816451875, 1.1081449806319288, 2.8172419108485647) (-0.02709988646122096, 1.1897177215243997, 3.403750862449385)\n",
      "len(unique_polynoms) 1\n",
      "frame 16\n",
      "prior [{'c': (2.191, 1.169, -0.026), 'xmin': 7, 'xmax': 25, 'fx': False}]\n",
      "Number of point tracks before run() 289\n",
      "Number of extended tracks before run() 1\n"
     ]
    },
    {
     "name": "stderr",
     "output_type": "stream",
     "text": [
      "/home/kfir/workspace/RadarLocalization/tracker.py:63: VisibleDeprecationWarning: Creating an ndarray from ragged nested sequences (which is a list-or-tuple of lists-or-tuples-or ndarrays with different lengths or shapes) is deprecated. If you meant to do this, you must specify 'dtype=object' when creating the ndarray\n",
      "  Ha = np.array([1, zx, zx**2])\n",
      "/home/kfir/workspace/RadarLocalization/tracker.py:88: RuntimeWarning: divide by zero encountered in double_scalars\n",
      "  ratio = np.sqrt(lp)/le\n"
     ]
    },
    {
     "name": "stdout",
     "output_type": "stream",
     "text": [
      "Updating extended object track =  0\n",
      "Updating extended object track =  0\n",
      "Updating extended object track =  0\n",
      "Updating extended object track =  0\n",
      "Updating extended object track =  0\n",
      "Updating extended object track =  0\n",
      "Updating extended object track =  0\n",
      "Updating extended object track =  0\n",
      "Opening flipped polynom!!!\n",
      "Tracks are similar! do not open a new trk (-0.024119585637405218, 1.1066121282865509, 2.8260793104371205) (-0.024186366220009803, 1.1127604963819218, 2.9938561312610505)\n",
      "Opening flipped polynom!!!\n",
      "Tracks are similar! do not open a new trk (-0.024119585637405218, 1.1066121282865509, 2.8260793104371205) (-0.023700359730208835, 1.1014828090003814, 2.311914297791889)\n",
      "Opening flipped polynom!!!\n",
      "Tracks are similar! do not open a new trk (-0.024119585637405218, 1.1066121282865509, 2.8260793104371205) (-0.021107260708363544, 1.0195264206481565, 2.3679595590501523)\n",
      "Opening flipped polynom!!!\n",
      "Extended track is too short curve_length=1.8994153847466901\n",
      "Opening flipped polynom!!!\n",
      "Extended track is too short curve_length=1.248658840769028\n",
      "Opening flipped polynom!!!\n",
      "Extended track is too short curve_length=3.839264160274765\n",
      "Opening flipped polynom!!!\n",
      "Extended track is too short curve_length=1.9535373974592931\n",
      "Opening flipped polynom!!!\n",
      "Tracks are similar! do not open a new trk (-0.024119585637405218, 1.1066121282865509, 2.8260793104371205) (-0.025312577228051775, 1.1345887879689307, 3.7273537104080714)\n",
      "len(unique_polynoms) 1\n",
      "frame 17\n",
      "prior [{'c': (2.191, 1.169, -0.026), 'xmin': 7, 'xmax': 25, 'fx': False}]\n",
      "Number of point tracks before run() 292\n",
      "Number of extended tracks before run() 1\n"
     ]
    },
    {
     "name": "stderr",
     "output_type": "stream",
     "text": [
      "/home/kfir/workspace/RadarLocalization/tracker.py:63: VisibleDeprecationWarning: Creating an ndarray from ragged nested sequences (which is a list-or-tuple of lists-or-tuples-or ndarrays with different lengths or shapes) is deprecated. If you meant to do this, you must specify 'dtype=object' when creating the ndarray\n",
      "  Ha = np.array([1, zx, zx**2])\n",
      "/home/kfir/workspace/RadarLocalization/tracker.py:88: RuntimeWarning: divide by zero encountered in double_scalars\n",
      "  ratio = np.sqrt(lp)/le\n"
     ]
    },
    {
     "name": "stdout",
     "output_type": "stream",
     "text": [
      "Updating extended object track =  0\n",
      "Updating extended object track =  0\n",
      "Updating extended object track =  0\n",
      "Updating extended object track =  0\n",
      "Updating extended object track =  0\n",
      "Updating extended object track =  0\n",
      "Updating extended object track =  0\n",
      "Updating extended object track =  0\n",
      "Opening flipped polynom!!!\n",
      "Tracks are similar! do not open a new trk (-0.024097930308959747, 1.1059521572320128, 2.8306537534374976) (-0.02386371597676937, 1.1029446774153921, 3.052406593755825)\n",
      "Opening flipped polynom!!!\n",
      "Tracks are similar! do not open a new trk (-0.024097930308959747, 1.1059521572320128, 2.8306537534374976) (-0.023700359730208835, 1.1014828090003814, 2.311914297791889)\n",
      "Opening flipped polynom!!!\n",
      "Tracks are similar! do not open a new trk (-0.024097930308959747, 1.1059521572320128, 2.8306537534374976) (-0.021107260708363544, 1.0195264206481565, 2.3679595590501523)\n",
      "Opening flipped polynom!!!\n",
      "Extended track is too short curve_length=1.8994153847466901\n",
      "Opening flipped polynom!!!\n",
      "Extended track is too short curve_length=1.248658840769028\n",
      "Opening flipped polynom!!!\n",
      "Extended track is too short curve_length=1.484698891001291\n",
      "len(unique_polynoms) 1\n",
      "frame 18\n",
      "prior [{'c': (2.191, 1.169, -0.026), 'xmin': 7, 'xmax': 25, 'fx': False}]\n",
      "Number of point tracks before run() 292\n",
      "Number of extended tracks before run() 1\n"
     ]
    },
    {
     "name": "stderr",
     "output_type": "stream",
     "text": [
      "/home/kfir/workspace/RadarLocalization/tracker.py:63: VisibleDeprecationWarning: Creating an ndarray from ragged nested sequences (which is a list-or-tuple of lists-or-tuples-or ndarrays with different lengths or shapes) is deprecated. If you meant to do this, you must specify 'dtype=object' when creating the ndarray\n",
      "  Ha = np.array([1, zx, zx**2])\n",
      "/home/kfir/workspace/RadarLocalization/tracker.py:88: RuntimeWarning: divide by zero encountered in double_scalars\n",
      "  ratio = np.sqrt(lp)/le\n"
     ]
    },
    {
     "name": "stdout",
     "output_type": "stream",
     "text": [
      "Updating extended object track =  0\n",
      "Updating extended object track =  0\n",
      "Updating extended object track =  0\n",
      "Updating extended object track =  0\n",
      "Updating extended object track =  0\n",
      "Updating extended object track =  0\n",
      "Updating extended object track =  0\n",
      "Updating extended object track =  0\n",
      "Updating extended object track =  0\n",
      "Updating extended object track =  0\n",
      "Updating extended object track =  0\n",
      "Updating extended object track =  0\n",
      "Updating extended object track =  0\n",
      "Updating extended object track =  0\n",
      "Opening flipped polynom!!!\n",
      "Tracks are similar! do not open a new trk (-0.02400892379630455, 1.1033421147666098, 2.846619261694499) (-0.023645299235177653, 1.0954339434774252, 3.1014519160446627)\n",
      "Opening flipped polynom!!!\n",
      "Tracks are similar! do not open a new trk (-0.02400892379630455, 1.1033421147666098, 2.846619261694499) (-0.023829264288616585, 1.1048582831655303, 2.296122072809794)\n",
      "Opening flipped polynom!!!\n",
      "Tracks are similar! do not open a new trk (-0.02400892379630455, 1.1033421147666098, 2.846619261694499) (-0.01867096061532701, 0.9609414876335423, 2.694666673996087)\n",
      "Opening flipped polynom!!!\n",
      "Extended track is too short curve_length=1.609661265307256\n",
      "Opening flipped polynom!!!\n",
      "Extended track is too short curve_length=1.7636421243810811\n",
      "Opening flipped polynom!!!\n",
      "Extended track is too short curve_length=1.4675184529623608\n",
      "len(unique_polynoms) 1\n",
      "frame 19\n",
      "prior [{'c': (2.191, 1.169, -0.026), 'xmin': 7, 'xmax': 25, 'fx': False}]\n",
      "Number of point tracks before run() 287\n",
      "Number of extended tracks before run() 1\n"
     ]
    },
    {
     "name": "stderr",
     "output_type": "stream",
     "text": [
      "/home/kfir/workspace/RadarLocalization/tracker.py:63: VisibleDeprecationWarning: Creating an ndarray from ragged nested sequences (which is a list-or-tuple of lists-or-tuples-or ndarrays with different lengths or shapes) is deprecated. If you meant to do this, you must specify 'dtype=object' when creating the ndarray\n",
      "  Ha = np.array([1, zx, zx**2])\n",
      "/home/kfir/workspace/RadarLocalization/tracker.py:88: RuntimeWarning: divide by zero encountered in double_scalars\n",
      "  ratio = np.sqrt(lp)/le\n"
     ]
    },
    {
     "name": "stdout",
     "output_type": "stream",
     "text": [
      "Updating extended object track =  0\n",
      "Updating extended object track =  0\n",
      "Updating extended object track =  0\n",
      "Updating extended object track =  0\n",
      "Updating extended object track =  0\n",
      "Updating extended object track =  0\n",
      "Updating extended object track =  0\n",
      "Updating extended object track =  0\n",
      "Opening flipped polynom!!!\n",
      "Tracks are similar! do not open a new trk (-0.0240473258475326, 1.104447575834711, 2.839957657295694) (-0.024260967787675208, 1.1100433490506716, 3.0317602474666745)\n",
      "Opening flipped polynom!!!\n",
      "Tracks are similar! do not open a new trk (-0.0240473258475326, 1.104447575834711, 2.839957657295694) (-0.02380526753130707, 1.104553453753145, 2.2940124075297104)\n",
      "Opening flipped polynom!!!\n",
      "Tracks are similar! do not open a new trk (-0.0240473258475326, 1.104447575834711, 2.839957657295694) (-0.01867096061532701, 0.9609414876335423, 2.694666673996087)\n",
      "Opening flipped polynom!!!\n",
      "Extended track is too short curve_length=1.609661265307256\n",
      "Opening flipped polynom!!!\n",
      "Extended track is too short curve_length=1.7636421243810811\n",
      "Opening flipped polynom!!!\n",
      "Extended track is too short curve_length=1.4675184529623608\n",
      "len(unique_polynoms) 1\n"
     ]
    }
   ],
   "source": [
    "%load_ext autoreload\n",
    "%autoreload 2\n",
    "from simulation import DynamicSimulation\n",
    "from tracker import StaticTracker\n",
    "model = StaticTracker()\n",
    "#prior = [(0, 0, 0.00001, 3, 40, True), \n",
    "        #(10, 0.009, -0.004, 50, 90, True),\n",
    "        #(40, 0, -0.01, 1, 40, False)]\n",
    "#prior = [(0, 0, 0.0001, 3, 40)]\n",
    "prior = [(2.191,1.169,-0.026,7,25,False)]\n",
    "#prior = [(27.5,-5,0.3,5,16,True)]\n",
    "#prior = [(25,0,0.13,-20,20,False)]\n",
    "#prior = [(60,0,-0.2,-15,15,False)]\n",
    "sim = DynamicSimulation(model,prior=prior)\n",
    "res = sim.run(N=20)\n",
    "\n",
    "analyzeResults(res[2:],prior)"
   ]
  },
  {
   "cell_type": "code",
   "execution_count": 178,
   "id": "6a6e10c4",
   "metadata": {},
   "outputs": [
    {
     "name": "stdout",
     "output_type": "stream",
     "text": [
      "[[{'f': poly1d([  1.09718071, -10.83597746,  34.01642969]), 'x_start': 5.776204946051699, 'x_end': 7.634726083428461, 'fxFlag': False}], [{'f': poly1d([ 0.49354412, -3.46557648,  9.64561674]), 'x_start': 5.794790157425467, 'x_end': 7.616140872054694, 'fxFlag': False}], [{'f': poly1d([  1.04367673, -11.43984101,  38.41297554]), 'x_start': 5.8130036645717595, 'x_end': 7.597927364908402, 'fxFlag': False}], [{'f': poly1d([  1.51122598, -17.86823976,  60.44238428]), 'x_start': 5.264530591429584, 'x_end': 7.551264193909731, 'fxFlag': False}], [{'f': poly1d([  1.51140247, -17.86632244,  60.41928565]), 'x_start': 5.287397927454386, 'x_end': 7.528396857884929, 'fxFlag': False}], [{'f': poly1d([  1.49854861, -17.70098462,  59.89857764]), 'x_start': 5.309807916758691, 'x_end': 7.5059868685806235, 'fxFlag': False}], [{'f': poly1d([  1.49279294, -17.64442596,  59.77084951]), 'x_start': 5.331769706276911, 'x_end': 7.4840250790624046, 'fxFlag': False}], [{'f': poly1d([  1.49852387, -17.71155334,  59.9595044 ]), 'x_start': 5.353292260004766, 'x_end': 7.46250252533455, 'fxFlag': False}], [{'f': poly1d([  1.50440168, -17.79262182,  60.23637088]), 'x_start': 5.374384362658064, 'x_end': 7.441410422681252, 'fxFlag': False}]]\n",
      "dist 36.76317161558736 xmax 7.441410422681252 xmin 10\n",
      "ass_list [(0, 0)]\n",
      "ComputeCoeffErrors: mean err for prior (27.5, -5, 0.3, 10, 16.1, True) = (8.555954105380854,3.3479403680344806,0.33152952299920435)\n",
      "ComputePolynomDistance: dist_mean_err for prior (27.5, -5, 0.3, 10, 16.1, True) = 30.305822083273668\n",
      "ComputePolynomDistance: dist_max_err for prior (27.5, -5, 0.3, 10, 16.1, True) = 37.37149512298302\n",
      "ComputeOverlappingArea: overlap_mean for prior (27.5, -5, 0.3, 10, 16.1, True) = 0.23199681644803538\n",
      "ComputeOverlappingArea: overlap_min for prior (27.5, -5, 0.3, 10, 16.1, True) = 0.2259925909765772\n",
      "ComputeNonOverlappingArea: onon_verlap_mean for prior (27.5, -5, 0.3, 10, 16.1, True) = 4.521646496374298\n",
      "ComputeNonOverlappingArea: non_overlap_max for prior (27.5, -5, 0.3, 10, 16.1, True) = 4.735469408570416\n"
     ]
    }
   ],
   "source": [
    "prior = [(27.5,-5,0.3,10,16.1,True)]\n",
    "print(res[21:])\n",
    "analyzeResults(res[21:],prior)"
   ]
  },
  {
   "cell_type": "code",
   "execution_count": 76,
   "id": "e0ebec3b",
   "metadata": {},
   "outputs": [
    {
     "name": "stderr",
     "output_type": "stream",
     "text": [
      "[autoreload of dataset failed: Traceback (most recent call last):\n",
      "  File \"/usr/local/lib/python3.6/dist-packages/IPython/extensions/autoreload.py\", line 245, in check\n",
      "    superreload(m, reload, self.old_objects)\n",
      "  File \"/usr/local/lib/python3.6/dist-packages/IPython/extensions/autoreload.py\", line 394, in superreload\n",
      "    module = reload(module)\n",
      "  File \"/usr/lib/python3.6/imp.py\", line 315, in reload\n",
      "    return importlib.reload(module)\n",
      "  File \"/usr/lib/python3.6/importlib/__init__.py\", line 166, in reload\n",
      "    _bootstrap._exec(spec, module)\n",
      "  File \"<frozen importlib._bootstrap>\", line 618, in _exec\n",
      "  File \"<frozen importlib._bootstrap_external>\", line 674, in exec_module\n",
      "  File \"<frozen importlib._bootstrap_external>\", line 781, in get_code\n",
      "  File \"<frozen importlib._bootstrap_external>\", line 741, in source_to_code\n",
      "  File \"<frozen importlib._bootstrap>\", line 219, in _call_with_frames_removed\n",
      "  File \"/home/kfir/workspace/RadarLocalization/dataset.py\", line 97\n",
      "    prior_list.append({\"c\": (coeff[0], coeff[1], coeff[2]), \"xmin\": coeff[3], \"xmax\": coeff[4]}, \"fx\":  coeff[5])\n",
      "                                                                                                     ^\n",
      "SyntaxError: invalid syntax\n",
      "]\n"
     ]
    },
    {
     "data": {
      "text/plain": [
       "array([[5, 4],\n",
       "       [3, 2]])"
      ]
     },
     "execution_count": 76,
     "metadata": {},
     "output_type": "execute_result"
    }
   ],
   "source": [
    "np.flip(np.array([[2, 3],[4,5]]))"
   ]
  },
  {
   "cell_type": "code",
   "execution_count": 77,
   "id": "376fe631",
   "metadata": {},
   "outputs": [
    {
     "data": {
      "text/plain": [
       "array([[5, 4],\n",
       "       [3, 2]])"
      ]
     },
     "execution_count": 77,
     "metadata": {},
     "output_type": "execute_result"
    }
   ],
   "source": [
    "np.flip(np.array([[2, 3],[4,5]]))"
   ]
  },
  {
   "cell_type": "code",
   "execution_count": 20,
   "id": "9a9a6915",
   "metadata": {},
   "outputs": [],
   "source": [
    "import scipy.optimize"
   ]
  },
  {
   "cell_type": "code",
   "execution_count": 50,
   "id": "70b27bcc",
   "metadata": {},
   "outputs": [
    {
     "name": "stdout",
     "output_type": "stream",
     "text": [
      "0.43612146377563477\n",
      "res [17.71929741]\n",
      "[17.71929741] [9.91166475]\n"
     ]
    }
   ],
   "source": [
    "import numpy as np\n",
    "import time\n",
    "\n",
    "px,py = 10,23\n",
    "a0, a1, a2 = 5, 0.1, 0.01\n",
    "t1 = time.time()\n",
    "for i in range(400):\n",
    "    res = scipy.optimize.minimize(lambda x : np.sqrt((px-x)**2+(py-(a0+i/10.)+a1*x+a2*x**2)**2), x0=[5])\n",
    "t2 = time.time()\n",
    "print(t2-t1)\n",
    "print(\"res\",res.x)\n",
    "print(res.x, a0 + a1*res.x + a2*res.x**2)\n",
    "optx = res.x\n",
    "opty = a0 + a1*res.x + a2*res.x**2"
   ]
  },
  {
   "cell_type": "code",
   "execution_count": 55,
   "id": "59a2fca8",
   "metadata": {},
   "outputs": [
    {
     "name": "stdout",
     "output_type": "stream",
     "text": [
      "0.008011102676391602\n",
      "15.151515151515156 8.810835629017449\n",
      "15.095379886013166\n",
      "15.195133173954204\n"
     ]
    }
   ],
   "source": [
    "import math\n",
    "t3 = time.time()\n",
    "x = np.linspace(-100,100, 100)\n",
    "y = a0 + a1*x+a2*x**2\n",
    "for i in range(400):\n",
    "    a = np.argmin(np.sqrt((x-px)**2+(y-py)**2))\n",
    "t4 = time.time()\n",
    "print(t4-t3)\n",
    "print(x[a], y[a])\n",
    "print(math.sqrt((x[a]-px)**2+(y[a]-py)**2))\n",
    "print(math.sqrt((optx-px)**2+(opty-py)**2))"
   ]
  },
  {
   "cell_type": "code",
   "execution_count": 81,
   "id": "96b064ed",
   "metadata": {},
   "outputs": [],
   "source": [
    "import numpy.polynomial.polynomial as P"
   ]
  },
  {
   "cell_type": "code",
   "execution_count": 97,
   "id": "c2d7f178",
   "metadata": {},
   "outputs": [
    {
     "name": "stdout",
     "output_type": "stream",
     "text": [
      "10.0\n"
     ]
    }
   ],
   "source": [
    "f1 = (1, 1, 2)\n",
    "f2 = (1.1, 1, 2.2)\n",
    "f1mf2 = P.polysub(f1,f2)\n",
    "f1mf2 = P.polymul(f1mf2,f1mf2)\n",
    "val = P.polyint(f1mf2,lbnd=-10)\n",
    "a = P.polyval(-10, val) + P.polyval(5,10)\n",
    "print(a)"
   ]
  },
  {
   "cell_type": "code",
   "execution_count": 68,
   "id": "919b6c8c",
   "metadata": {},
   "outputs": [
    {
     "name": "stdout",
     "output_type": "stream",
     "text": [
      "[[{'f': poly1d([-1.02236445e-02,  5.34088473e-03,  3.98952978e+01]), 'x_start': -0.5529887922981365, 'x_end': 39.97303174577813, 'fxFlag': False}, {'f': poly1d([-0.00042631,  0.01510269, -0.11574659]), 'x_start': 4.833046593282244, 'x_end': 38.7783703938952, 'fxFlag': True}, {'f': poly1d([-4.46306256e-03,  6.61758397e-02,  8.85350905e+00]), 'x_start': 50.314965236442816, 'x_end': 77.68272844134319, 'fxFlag': True}], [{'f': poly1d([-1.03754735e-02,  1.29286493e-02,  3.98142964e+01]), 'x_start': -0.3503586896077549, 'x_end': 39.77040164308775, 'fxFlag': False}, {'f': poly1d([-0.0002941 ,  0.01255984, -0.13503909]), 'x_start': 4.162537176968926, 'x_end': 38.60097408217034, 'fxFlag': True}, {'f': poly1d([-1.94101401e-03, -2.51104960e-01,  1.84207231e+01]), 'x_start': 50.526461484425944, 'x_end': 85.7248176360228, 'fxFlag': True}], [{'f': poly1d([-1.03754735e-02,  1.29286493e-02,  3.98142964e+01]), 'x_start': -0.1497548879442772, 'x_end': 39.569797841424275, 'fxFlag': False}, {'f': poly1d([-3.86289304e-05,  4.39873279e-03, -7.64519168e-02]), 'x_start': 4.334729361494934, 'x_end': 38.428781897644335, 'fxFlag': True}, {'f': poly1d([-1.98752778e-03, -2.43660854e-01,  1.81515295e+01]), 'x_start': 50.70245326518393, 'x_end': 85.54882585526482, 'fxFlag': True}], [{'f': poly1d([-1.03754735e-02,  1.29286493e-02,  3.98142964e+01]), 'x_start': 0.04884287570256574, 'x_end': 39.37120007777743, 'fxFlag': False}, {'f': poly1d([ 1.86360634e-05,  2.60061117e-03, -6.57412827e-02]), 'x_start': 3.669378847011472, 'x_end': 38.20938733624658, 'fxFlag': True}, {'f': poly1d([-1.98752778e-03, -2.43660854e-01,  1.81515295e+01]), 'x_start': 50.87668512813433, 'x_end': 85.37459399231442, 'fxFlag': True}]]\n"
     ]
    }
   ],
   "source": [
    "print (res)"
   ]
  },
  {
   "cell_type": "code",
   "execution_count": 28,
   "id": "7ea4c675",
   "metadata": {},
   "outputs": [
    {
     "data": {
      "text/plain": [
       "-0.010265869210950747"
      ]
     },
     "execution_count": 28,
     "metadata": {},
     "output_type": "execute_result"
    }
   ],
   "source": [
    "res[1][0][\"f\"].c[0]"
   ]
  },
  {
   "cell_type": "code",
   "execution_count": 54,
   "id": "d5be3862",
   "metadata": {},
   "outputs": [
    {
     "name": "stdout",
     "output_type": "stream",
     "text": [
      "covy [[ 6.36231538e-05 -1.75676625e-03  1.01384178e-02]\n",
      " [-1.75676625e-03  4.96738288e-02 -2.92808834e-01]\n",
      " [ 1.01384178e-02 -2.92808834e-01  1.78504452e+00]]\n",
      "f           2\n",
      "-0.02082 x + 1.118 x + 1.139\n"
     ]
    },
    {
     "data": {
      "text/plain": [
       "<matplotlib.legend.Legend at 0x7fb304f9a080>"
      ]
     },
     "execution_count": 54,
     "metadata": {},
     "output_type": "execute_result"
    },
    {
     "data": {
      "image/png": "[encoded data removed]",
      "text/plain": [
       "<matplotlib.figure.Figure at 0x7fb306562400>"
      ]
     },
     "metadata": {
      "needs_background": "light"
     },
     "output_type": "display_data"
    }
   ],
   "source": [
    "import numpy as np\n",
    "import matplotlib.pyplot as plt\n",
    "\n",
    "#real function: f(y) = 0.1y**2+y+1\n",
    "plt.figure(figsize=(12, 8), dpi=80)\n",
    "#plt.title(r\"f(y)=$y^2$+$y$+1 approximation\")\n",
    "plt.title(r\"f(y) Approximation\")\n",
    "plt.xlabel('x')\n",
    "plt.ylabel('y')\n",
    "\n",
    "yy = np.arange(5,16,0.1)\n",
    "xx = 0.3*yy**2-5*yy+27.5\n",
    "f = np.array([27.5,-5,0.3])\n",
    "plt.plot(xx,yy,'--',label=f'f(y)={f[2]:.2f}$x^2$+{f[1]:.2f}$x$+{f[0]:.2f}')\n",
    "\n",
    "fity, covy = np.polyfit(xx, yy, 2, cov=True)\n",
    "print(\"covy\",covy)\n",
    "f = np.poly1d(fity)\n",
    "print(\"f\",f)\n",
    "plt.plot(xx,f(xx),label=f'f(x)={f[2]:.2f}$y^2$+{f[1]:.2f}$y$+{f[0]:.2f}')\n",
    "plt.legend()\n"
   ]
  },
  {
   "cell_type": "code",
   "execution_count": 151,
   "id": "e3d10b31",
   "metadata": {},
   "outputs": [
    {
     "name": "stdout",
     "output_type": "stream",
     "text": [
      "x [ 7.2   10.7   24.3   24.763]\n",
      "[ 7.052      8.347     83.147     87.6468507]\n"
     ]
    }
   ],
   "source": [
    "y=np.array([7,12,16,16.1])\n",
    "x = 0.3*y**2-5*y+27.5\n",
    "print(\"x\",x)\n",
    "print(f(x))"
   ]
  },
  {
   "cell_type": "code",
   "execution_count": 96,
   "id": "4a0d3396",
   "metadata": {},
   "outputs": [
    {
     "name": "stdout",
     "output_type": "stream",
     "text": [
      "f             2\n",
      "-5.365e-17 x + 1e-06 x + 1\n",
      "f             2\n",
      "-2.497e-17 x + 0.0001 x + 0.9999\n"
     ]
    },
    {
     "data": {
      "text/plain": [
       "<matplotlib.legend.Legend at 0x7f0bf2d1ba58>"
      ]
     },
     "execution_count": 96,
     "metadata": {},
     "output_type": "execute_result"
    },
    {
     "data": {
      "image/png": "[encoded data removed]",
      "text/plain": [
       "<matplotlib.figure.Figure at 0x7f0bf2cf9358>"
      ]
     },
     "metadata": {
      "needs_background": "light"
     },
     "output_type": "display_data"
    }
   ],
   "source": [
    "import numpy as np\n",
    "import matplotlib.pyplot as plt\n",
    "\n",
    "#real function: f(y) = 0.1y**2+y+1\n",
    "plt.figure(figsize=(12, 8), dpi=80)\n",
    "#plt.title(r\"f(y)=$y^2$+$y$+1 approximation\")\n",
    "plt.title(r\"f(y) Approximation\")\n",
    "plt.xlabel('x')\n",
    "plt.ylabel('y')\n",
    "y = np.array([-2,0,2,4])\n",
    "x = np.array([1,0.999,1.001,1])\n",
    "fitx, covx = np.polyfit(x, y, 2, cov=True)\n",
    "print(\"f\",f)\n",
    "f = np.poly1d(fitx)\n",
    "xx = np.arange(0.98,1.02,0.001)\n",
    "plt.plot(xx,f(xx),'--',label=f'f(x)={f[2]:.2f}$x^2$+{f[1]:.2f}$x$+{f[0]:.2f}')\n",
    "\n",
    "fity, covy = np.polyfit(y, x, 2, cov=True)\n",
    "f = np.poly1d(fity)\n",
    "print(\"f\",f)\n",
    "yy = np.arange(-2,4,0.01)\n",
    "plt.plot(f(yy),yy,label=f'f(y)={f[2]:.2f}$y^2$+{f[1]:.2f}$y$+{f[0]:.2f}')\n",
    "plt.legend()"
   ]
  },
  {
   "cell_type": "code",
   "execution_count": 204,
   "id": "bd5303c4",
   "metadata": {},
   "outputs": [
    {
     "name": "stdout",
     "output_type": "stream",
     "text": [
      "(3, 2) (100, 2)\n",
      "(3, 100)\n",
      "(3, 2)\n",
      "[[ 0.70707071  2.20701969]\n",
      " [ 1.41414141  4.41393735]\n",
      " [ 2.62626263 10.52351801]] [[ 1  2]\n",
      " [ 3  4]\n",
      " [ 5 10]]\n"
     ]
    }
   ],
   "source": [
    "from scipy.spatial.distance import cdist\n",
    "a0, a1, a2  = 1, 1, 1\n",
    "M = np.array([[1,2],[3,4],[5,10]])\n",
    "x = np.linspace(0,10,10*10)\n",
    "y = a0 + a1*x + a2*x**2\n",
    "pol = np.array([x,y]).T\n",
    "print(M.shape, pol.shape)\n",
    "dists = cdist(M, pol)\n",
    "print(dists.shape)\n",
    "ind = np.argmin(dists,axis=1)\n",
    "D = pol[ind,:]\n",
    "print(D.shape)\n",
    "print(D,M)"
   ]
  },
  {
   "cell_type": "code",
   "execution_count": 328,
   "id": "2d95f9ec",
   "metadata": {},
   "outputs": [
    {
     "data": {
      "text/plain": [
       "<matplotlib.legend.Legend at 0x7f0ba7319e48>"
      ]
     },
     "execution_count": 328,
     "metadata": {},
     "output_type": "execute_result"
    },
    {
     "data": {
      "image/png": "[encoded data removed]",
      "text/plain": [
       "<matplotlib.figure.Figure at 0x7f0ba81d15f8>"
      ]
     },
     "metadata": {},
     "output_type": "display_data"
    }
   ],
   "source": [
    "import numpy as np\n",
    "import matplotlib.pyplot as plt\n",
    "\n",
    "#real function: f(y) = 0.1y**2+y+1\n",
    "plt.figure(figsize=(20, 15), dpi=80)\n",
    "#plt.title(r\"f(y)=$y^2$+$y$+1 approximation\")\n",
    "\n",
    "plt.title(r\"f(y) Approximation\")\n",
    "\n",
    "plt.xlabel('x')\n",
    "plt.ylabel('y')\n",
    "f = [30,0,0.2]\n",
    "f2 = [25,0,0.13]\n",
    "xx = np.arange(-15,15,0.1)\n",
    "yy = f[0] + f[1]*xx + f[2]*xx**2\n",
    "plt.plot(xx,yy,'--',label=f'f(x)={f[2]:.2f}$x^2$+{f[1]:.2f}$x$+{f[0]:.2f}')\n",
    "\n",
    "xx = np.arange(-20,20,0.1)\n",
    "yy = f2[0] + f2[1]*xx + f2[2]*xx**2\n",
    "plt.plot(xx,yy,'--',label=f'g(x)={f2[2]:.2f}$x^2$+{f2[1]:.2f}$x$+{f2[0]:.2f}')\n",
    "\n",
    "plt.axis('scaled')\n",
    "\n",
    "plt.legend()\n"
   ]
  },
  {
   "cell_type": "code",
   "execution_count": 106,
   "id": "65ea33f9",
   "metadata": {},
   "outputs": [
    {
     "name": "stdout",
     "output_type": "stream",
     "text": [
      "x [14.   14.05 14.1  14.15 14.2  14.25 14.3  14.35 14.4  14.45 14.5  14.55\n",
      " 14.6  14.65 14.7  14.75 14.8  14.85 14.9  14.95 15.   15.05 15.1  15.15\n",
      " 15.2  15.25 15.3  15.35 15.4  15.45 15.5  15.55 15.6  15.65 15.7  15.75\n",
      " 15.8  15.85 15.9  15.95]\n",
      "f1         2\n",
      "-150.9 x + 19.58 x - 0.5447\n",
      "[-29507.84660637 -29719.21893808 -29931.34562539 -30144.2266683\n",
      " -30357.86206681 -30572.25182093 -30787.39593065 -31003.29439597\n",
      " -31219.94721689 -31437.35439341 -31655.51592554 -31874.43181326\n",
      " -32094.1020566  -32314.52665553] [5262.296 5300.057 5337.953 5375.984 5414.15  5452.451 5490.887 5529.458\n",
      " 5568.164 5607.005 5645.981 5685.092 5724.338 5763.719]\n",
      "28072.503517743433\n"
     ]
    },
    {
     "data": {
      "image/png": "[encoded data removed]",
      "text/plain": [
       "<matplotlib.figure.Figure at 0x7fb3051cd518>"
      ]
     },
     "metadata": {
      "needs_background": "light"
     },
     "output_type": "display_data"
    }
   ],
   "source": [
    "from numpy.polynomial import polynomial as P\n",
    "def innerProductPolynoms(f1, f2, xmin, xmax):\n",
    "    dx = 0.05\n",
    "    x = np.arange(xmin,xmax,dx)\n",
    "    print(\"x\",x)\n",
    "    #f1 = np.poly1d(f1)\n",
    "    #f2 = np.poly1d(f2)\n",
    "    y1 = f1(x)\n",
    "    y2 = f2(x)\n",
    "    print(\"f1\",f1)\n",
    "    \n",
    "    print(y1[1:15], y2[1:15])\n",
    "\n",
    "    dist = np.sqrt(np.sum((y2-y1)**2*dx)) / (xmax-xmin)\n",
    "\n",
    "    return dist\n",
    "\n",
    "x = np.arange(14,16,0.1)\n",
    "y1 = -150.87112042354389 + 19.575405784692236*x -0.544708238720031*x**2\n",
    "y2 = 27 - 4.83*x+0.29*x**2\n",
    "f1 = np.poly1d([-150.87112042354389,19.575405784692236,-0.544708238720031])\n",
    "f2 = np.poly1d([27,-4.83,0.29])\n",
    "plt.plot(x,y1)\n",
    "plt.plot(x,y2)\n",
    "\n",
    "dist = innerProductPolynoms(f1, f2, 14, 16)\n",
    "print(dist)"
   ]
  },
  {
   "cell_type": "code",
   "execution_count": 107,
   "id": "ed879d4e",
   "metadata": {},
   "outputs": [
    {
     "data": {
      "text/plain": [
       "16.358800000000016"
      ]
     },
     "execution_count": 107,
     "metadata": {},
     "output_type": "execute_result"
    }
   ],
   "source": [
    "-151+19.58*14-0.5447*14**2"
   ]
  },
  {
   "cell_type": "code",
   "execution_count": null,
   "id": "e6862936",
   "metadata": {},
   "outputs": [],
   "source": []
  }
 ],
 "metadata": {
  "kernelspec": {
   "display_name": "Python 3",
   "language": "python",
   "name": "python3"
  },
  "language_info": {
   "codemirror_mode": {
    "name": "ipython",
    "version": 3
   },
   "file_extension": ".py",
   "mimetype": "text/x-python",
   "name": "python",
   "nbconvert_exporter": "python",
   "pygments_lexer": "ipython3",
   "version": "3.6.9"
  }
 },
 "nbformat": 4,
 "nbformat_minor": 5
}
