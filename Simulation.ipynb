{
 "cells": [
  {
   "cell_type": "code",
   "execution_count": 1,
   "metadata": {},
   "outputs": [],
   "source": [
    "from nuscenes.nuscenes import NuScenes\n",
    "directory = r\"/home/kfir/workspace/nuScenes/v1.0-trainval\"\n",
    "nusc = NuScenes(version=\"v1.0-trainval\", dataroot=directory, verbose=False)"
   ]
  },
  {
   "cell_type": "code",
   "execution_count": null,
   "metadata": {},
   "outputs": [],
   "source": [
    "%load_ext autoreload\n",
    "%autoreload 2\n",
    "from dataset import *\n",
    "from video import SimulationVideo\n",
    "from video import NuscenesVideo, NuscenesVideoDebug, PFVideo, PFXYVideo\n",
    "from MapMatching import MapMatching"
   ]
  },
  {
   "cell_type": "code",
   "execution_count": null,
   "metadata": {},
   "outputs": [],
   "source": [
    "import copy\n",
    "class Simulation():\n",
    "    def __init__(self, model, **kwargs):\n",
    "        pass\n",
    "    \n",
    "    def run(self, N):\n",
    "        pass\n",
    "    \n",
    "class DynamicSimulation():\n",
    "    def __init__(self, model, **kwargs):\n",
    "        self.model = model\n",
    "        self.dataset = DynamicSimulatedDataset()\n",
    "        self.video = SimulationVideo()\n",
    "    \n",
    "    def run(self, N):\n",
    "        for t in range(0,N):\n",
    "            print(f\"frame {t}\")\n",
    "            zw, covw, prior, video_data = self.dataset.getData(t)\n",
    "            print(\"prior\", prior)\n",
    "            points, polynoms = self.model.run(zw,covw,prior)\n",
    "            self.video.save(t, prior, video_data, points, polynoms, self.model.getDebugInfo())\n",
    "            \n",
    "class NuscenesSimulation():\n",
    "    def __init__(self, model, scene_id=5, **kwargs):\n",
    "        self.model = model\n",
    "        directory = kwargs.pop('directory', r\"/home/kfir/workspace/nuScenes/v1.0-trainval\")\n",
    "        self.mm = kwargs.pop('mm', False)\n",
    "        self.nmax = kwargs.pop('Nmax', 800)\n",
    "        self.dataset = NuscenesDataset(nusc=nusc, directory=directory, scene_id=scene_id)\n",
    "        #self.video = NuscenesVideo(history=True, scene=scene)\n",
    "        #self.video_debug = NuscenesVideoDebug(history=True, scene=scene)\n",
    "        self.pf_video = PFVideo(history=True, scene=scene, N=self.nmax)\n",
    "        #self.pf_xy_video = PFXYVideo(history=True, scene=scene, N=self.nmax)\n",
    "        self.map_matching = MapMatching(N=200)\n",
    "        self.lane = None\n",
    "        self.scene = scene\n",
    "        \n",
    "    def getBestLane(self, prior):\n",
    "        if self.lane is None:\n",
    "                self.lane = prior[0]\n",
    "                lane = prior[0]\n",
    "        else:\n",
    "            for pr in prior:\n",
    "                if 1:#if np.linalg.norm(self.lane[\"poly\"][1]-pr[\"poly\"][1]) < 2 and np.linalg.norm(self.lane[\"poly\"][0]-pr[\"poly\"][0]) < 0.1:\n",
    "                    lane = pr\n",
    "                    self.lane = pr\n",
    "\n",
    "        lanes = [lane]\n",
    "        return lanes\n",
    "    \n",
    "    def translatePolynom(self, c, xstart, xend, pos):\n",
    "        x = np.array([xstart, 0.5*(xstart+xend), xend])\n",
    "        x_trns = x - pos[0]\n",
    "        y = np.array([c[0]*x[0]**2+c[1]*x[0]+c[2], c[0]*x[1]**2+c[1]*x[1]+c[2], c[0]*x[2]**2+c[1]*x[2]+c[2]])\n",
    "        y_trns = y - pos[1]\n",
    "        A = [[x_trns[0]**2, x_trns[0], 1],[x_trns[1]**2, x_trns[1], 1],[x_trns[2]**2, x_trns[2], 1]]\n",
    "        c = np.linalg.inv(A).dot(y_trns)\n",
    "        \n",
    "        return c\n",
    "        \n",
    "    def translatePrior(self, pos, prior):\n",
    "        for pr in prior:\n",
    "            min_x = np.min(pr[\"x\"])\n",
    "            max_x = np.max(pr[\"x\"])\n",
    "            c = self.translatePolynom(pr[\"poly\"].c, min_x, max_x, pos)\n",
    "            pr[\"poly\"] = np.poly1d(c)\n",
    "            pr[\"x\"] -= pos[0]\n",
    "        \n",
    "        return prior\n",
    "    \n",
    "    def translateMeasurements(self, zw, pos):\n",
    "        return zw - pos\n",
    "        \n",
    "    def translateOutput(self, points, polynoms, pos):\n",
    "        points = points - pos\n",
    "        for polynom in polynoms:\n",
    "            c = self.translatePolynom(polynom[\"f\"].c, polynom[\"x_start\"], polynom[\"x_end\"], pos)\n",
    "            polynom[\"f\"] = np.poly1d(c)\n",
    "            polynom[\"x_start\"] -= pos[0]\n",
    "            polynom[\"x_end\"] -= pos[0]\n",
    "        \n",
    "        return points, polynoms\n",
    "        \n",
    "    def run(self,start, N, generate_video=False, video_with_priors=False, debug=False, translate=True):\n",
    "        start_idx = start\n",
    "        first = True\n",
    "        for t in range(start_idx,start_idx + N):\n",
    "            print(f\"frame {t}\")\n",
    "            zw, covw, prior, video_data, nusc_map = self.dataset.getData(t)\n",
    "            if first:\n",
    "                translation = np.array(video_data[\"pos\"][0:2])\n",
    "                print(\"translation\", translation)\n",
    "                first = False\n",
    "                \n",
    "            #lanes = self.getBestLane(prior)\n",
    "            lanes = copy.deepcopy(prior)\n",
    "            if translate:\n",
    "                lanes = self.translatePrior(translation, lanes)\n",
    "                zw = self.translateMeasurements(zw, translation)\n",
    "            prior_list = []\n",
    "            for lane in lanes:\n",
    "                (a0,a1,a2) = lane[\"poly\"].c[2], lane[\"poly\"].c[1], lane[\"poly\"].c[0]\n",
    "                prior_list.append({\"c\": (a0,a1,a2), \"xmin\": np.min(lane[\"x\"]), \"xmax\": np.max(lane[\"x\"])})\n",
    "    \n",
    "            points, polynoms = self.model.run(zw,covw,prior_list)\n",
    "            if translate:\n",
    "                points, polynoms = self.translateOutput(points, polynoms, -1*translation)\n",
    "                \n",
    "            #Run map-matching!\n",
    "            if self.mm:\n",
    "                extended_tracks = self.model.getExtendedTracks()\n",
    "                orig_world_ref = video_data[\"pos_imu\"]\n",
    "                world_ref = np.array([orig_world_ref[0]-translation[0], orig_world_ref[1]-translation[1]])\n",
    "                orig_radar_ref = video_data[\"pos\"]\n",
    "                radar_ref = np.array([video_data[\"pos\"][0]-translation[0], video_data[\"pos\"][1]-translation[1]]) \n",
    "                self.map_matching.run(extended_tracks, nusc_map, orig_world_ref, world_ref, orig_radar_ref, radar_ref, video_data[\"rot\"], video_data[\"heading\"], video_data[\"odometry\"])\n",
    "            \n",
    "            try:\n",
    "                self.video.save(t,video_data, polynoms, nusc_map, video_with_priors=video_with_priors)\n",
    "            except:\n",
    "                pass\n",
    "            try:\n",
    "                self.video_debug.save(t,video_data, polynoms,points, nusc_map,self.model.getDebugInfo(), video_with_priors=video_with_priors)\n",
    "            except:\n",
    "                pass\n",
    "\n",
    "            if self.mm:\n",
    "                mm_results = self.map_matching.getResults()\n",
    "                mm_results[\"pf_best_pos\"] += translation[0:2]\n",
    "                mm_results[\"pf_mean_pos\"] += translation[0:2]\n",
    "                print(\"mm_results[pf_mean_pos]\", mm_results[\"pf_mean_pos\"], \"IMU pos\", video_data[\"pos_imu\"], \"GT\", video_data[\"pos\"])\n",
    "                self.pf_video.save(t,video_data, mm_results, polynoms, nusc_map)\n",
    "                try:\n",
    "                    self.pf_xy_video.save(t,video_data, mm_results, polynoms, nusc_map)\n",
    "                except:\n",
    "                    pass\n",
    "        \n",
    "        if generate_video:\n",
    "            try:\n",
    "                self.video.generate(name=f\"video\\scene{self.scene}.avi\", fps=5)\n",
    "            except:\n",
    "                pass\n",
    "            try:\n",
    "                self.video_debug.generate(name=f\"video\\scene{self.scene}_debug.avi\", fps=5)\n",
    "            except:\n",
    "                pass\n",
    "            try:\n",
    "                self.pf_video.generate(name=f\"video\\scene{self.scene}_debug.avi\", fps=5)\n",
    "            except:\n",
    "                pass"
   ]
  },
  {
   "cell_type": "code",
   "execution_count": null,
   "metadata": {},
   "outputs": [
    {
     "name": "stdout",
     "output_type": "stream",
     "text": [
      "scene_id=426 scene_name=scene-0536 map_name=boston-seaport\n"
     ]
    },
    {
     "name": "stderr",
     "output_type": "stream",
     "text": [
      "/home/kfir/workspace/RadarLocalization/dataset.py:273: VisibleDeprecationWarning: Creating an ndarray from ragged nested sequences (which is a list-or-tuple of lists-or-tuples-or ndarrays with different lengths or shapes) is deprecated. If you meant to do this, you must specify 'dtype=object' when creating the ndarray\n",
      "  rot_imu = np.array([(m['utime'], m['q']) for m in self.imu])\n"
     ]
    }
   ],
   "source": [
    "from tracker import Tracker\n",
    "model = Tracker()\n",
    "#sim = DynamicSimulation(model)\n",
    "scene = 426\n",
    "sim = NuscenesSimulation(model,scene_id=scene, mm=True, Nmax=800)\n",
    "sim.run(start=90, N=620, generate_video=False, video_with_priors=True, debug=False)"
   ]
  },
  {
   "cell_type": "code",
   "execution_count": null,
   "metadata": {},
   "outputs": [],
   "source": [
    "sim.video.generate(name=f\"video\\scene6_wmap.avi\", fps=5)"
   ]
  },
  {
   "cell_type": "code",
   "execution_count": null,
   "metadata": {},
   "outputs": [],
   "source": [
    "scene = 426\n",
    "dataset = NuscenesDataset(nusc=nusc, directory=directory,scene_id=scene)\n",
    "N = 600\n",
    "gt = np.zeros((N, 2))\n",
    "imu = np.zeros((N, 2))\n",
    "for t in range(0,N):\n",
    "    trns, rot = dataset.getEgoInfo(dataset.first_idx + t, GT=True)\n",
    "    gt[t, :] = trns[0:2]\n",
    "    trns1, rot1 = dataset.getEgoInfo(dataset.first_idx + t, GT=False)\n",
    "    imu[t, :] = trns1[0:2]\n",
    "    odom = dataset.getOdometry()\n",
    "    print(odom)\n",
    "    \n",
    "fig, ax = plt.subplots(1,figsize=(10,5))\n",
    "ax.set_title(\"GT vs. IMU trajectory\", fontsize=20)\n",
    "ax.scatter(gt[:, 0],gt[:, 1],color='blue',s=1)\n",
    "ax.scatter(imu[:, 0],imu[:, 1],color='red',s=1)"
   ]
  },
  {
   "cell_type": "code",
   "execution_count": null,
   "metadata": {},
   "outputs": [],
   "source": [
    "import numpy as np\n",
    "from scipy.spatial.distance import cdist\n",
    "\n",
    "mat = np.eye(10)\n",
    "val = np.argwhere(mat > 0)\n",
    "dists = cdist([(4,0)], val)\n",
    "print(np.argmin(dists), val[2])\n",
    "#data = np.random.uniform(0., 1., (1000, 2))"
   ]
  },
  {
   "cell_type": "code",
   "execution_count": null,
   "metadata": {},
   "outputs": [],
   "source": [
    "from pyquaternion import Quaternion\n",
    "\n",
    "Quaternion.Inverse()"
   ]
  },
  {
   "cell_type": "code",
   "execution_count": null,
   "metadata": {},
   "outputs": [],
   "source": [
    "dataset = NuscenesDataset(nusc=nusc, directory=directory, scene_id=426)\n",
    "_, _, _, video_data, nusc_map = dataset.getData(700)\n",
    "map_matching = MapMatching(N=10)"
   ]
  },
  {
   "cell_type": "code",
   "execution_count": null,
   "metadata": {},
   "outputs": [],
   "source": [
    "edges1 = map_matching.getRoadBorders(nuscMap=nusc_map, worldRef=video_data['pos'], layer_names=['walkway'],blur_area=(3,3),threshold1=0.5, threshold2=0.9)\n",
    "edges2 = map_matching.getRoadBorders(nuscMap=nusc_map, worldRef=video_data['pos'], layer_names=['drivable_area'],blur_area=(3,3),threshold1=0.5, threshold2=0.9)\n",
    "edges = edges1 & edges2\n",
    "\n",
    "#road = map_matching.getDrivableArea(nuscMap=nusc_map, worldRef=[400,850],layer_names = ['drivable_area'], patch_size=200)\n",
    "plt.imshow(edges2, origin='lower')"
   ]
  },
  {
   "cell_type": "code",
   "execution_count": null,
   "metadata": {},
   "outputs": [],
   "source": [
    "a = np.array([[1, 2],[3,4],[5,6],[7,8]])\n",
    "print(a.shape)\n",
    "b = np.array([[11, 19],[7,28],[15,16]]).T\n",
    "print(b.shape)\n",
    "print(a[:,0].shape)\n",
    "k = a[:,0].reshape(-1,1)-b[0,:].reshape(1,-1)\n",
    "t = a[:,1].reshape(-1,1)-b[1,:].reshape(1,-1)\n",
    "norm = np.sqrt(k**2 + t**2)\n",
    "it = norm.argmin(axis=1)\n",
    "print(\"it\", it, \"norm\",norm)\n",
    "#print(np.amin(norm, axis=1))\n",
    "print(k.shape, t.shape)\n",
    "print(k)\n",
    "print(np.take_along_axis(k, np.expand_dims(it, axis=-1), axis=1))\n",
    "print(np.take_along_axis(t, np.expand_dims(it, axis=-1), axis=1))"
   ]
  },
  {
   "cell_type": "code",
   "execution_count": 24,
   "metadata": {},
   "outputs": [
    {
     "data": {
      "text/plain": [
       "1"
      ]
     },
     "execution_count": 24,
     "metadata": {},
     "output_type": "execute_result"
    }
   ],
   "source": [
    "min([1,2,3,4,5])"
   ]
  },
  {
   "cell_type": "code",
   "execution_count": null,
   "metadata": {},
   "outputs": [],
   "source": []
  }
 ],
 "metadata": {
  "kernelspec": {
   "display_name": "Python 3",
   "language": "python",
   "name": "python3"
  },
  "language_info": {
   "codemirror_mode": {
    "name": "ipython",
    "version": 3
   },
   "file_extension": ".py",
   "mimetype": "text/x-python",
   "name": "python",
   "nbconvert_exporter": "python",
   "pygments_lexer": "ipython3",
   "version": "3.6.9"
  }
 },
 "nbformat": 4,
 "nbformat_minor": 4
}
