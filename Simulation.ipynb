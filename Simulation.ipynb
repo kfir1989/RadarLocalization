{
 "cells": [
  {
   "cell_type": "code",
   "execution_count": 1,
   "metadata": {},
   "outputs": [],
   "source": [
    "from dataset import *\n",
    "from video import SimulationVideo\n",
    "from video import NuscenesVideo, NuscenesVideoDebug, PFVideo\n",
    "from MapMatching import MapMatching"
   ]
  },
  {
   "cell_type": "code",
   "execution_count": 2,
   "metadata": {},
   "outputs": [],
   "source": [
    "import copy\n",
    "class Simulation():\n",
    "    def __init__(self, model, **kwargs):\n",
    "        pass\n",
    "    \n",
    "    def run(self, N):\n",
    "        pass\n",
    "    \n",
    "class DynamicSimulation():\n",
    "    def __init__(self, model, **kwargs):\n",
    "        self.model = model\n",
    "        self.dataset = DynamicSimulatedDataset()\n",
    "        self.video = SimulationVideo()\n",
    "    \n",
    "    def run(self, N):\n",
    "        for t in range(0,N):\n",
    "            print(f\"frame {t}\")\n",
    "            zw, covw, prior, video_data = self.dataset.getData(t)\n",
    "            print(\"prior\", prior)\n",
    "            points, polynoms = self.model.run(zw,covw,prior)\n",
    "            self.video.save(t, prior, video_data, points, polynoms, self.model.getDebugInfo())\n",
    "            \n",
    "class NuscenesSimulation():\n",
    "    def __init__(self, model, scene=5, **kwargs):\n",
    "        self.model = model\n",
    "        directory = kwargs.pop('directory', r\"C:\\Users\\gadli\\old_pc\\Tau\\Thesis\\nuScenes\\v1.0-mini\")\n",
    "        self.dataset = NuscenesDataset(directory=directory,scene=scene)\n",
    "        #self.video = NuscenesVideo(history=True, scene=scene)\n",
    "        #self.video_debug = NuscenesVideoDebug(history=True, scene=scene)\n",
    "        self.pf_video = PFVideo(history=True, scene=scene)\n",
    "        self.map_matching = MapMatching(N=500)\n",
    "        self.lane = None\n",
    "        self.scene = scene\n",
    "        \n",
    "    def getBestLane(self, prior):\n",
    "        if self.lane is None:\n",
    "                self.lane = prior[0]\n",
    "                lane = prior[0]\n",
    "        else:\n",
    "            for pr in prior:\n",
    "                if 1:#if np.linalg.norm(self.lane[\"poly\"][1]-pr[\"poly\"][1]) < 2 and np.linalg.norm(self.lane[\"poly\"][0]-pr[\"poly\"][0]) < 0.1:\n",
    "                    lane = pr\n",
    "                    self.lane = pr\n",
    "\n",
    "        lanes = [lane]\n",
    "        return lanes\n",
    "    \n",
    "    def translatePolynom(self, c, xstart, xend, pos):\n",
    "        x = np.array([xstart, 0.5*(xstart+xend), xend])\n",
    "        x_trns = x - pos[0]\n",
    "        y = np.array([c[0]*x[0]**2+c[1]*x[0]+c[2], c[0]*x[1]**2+c[1]*x[1]+c[2], c[0]*x[2]**2+c[1]*x[2]+c[2]])\n",
    "        y_trns = y - pos[1]\n",
    "        A = [[x_trns[0]**2, x_trns[0], 1],[x_trns[1]**2, x_trns[1], 1],[x_trns[2]**2, x_trns[2], 1]]\n",
    "        c = np.linalg.inv(A).dot(y_trns)\n",
    "        \n",
    "        return c\n",
    "        \n",
    "    def translatePrior(self, pos, prior):\n",
    "        for pr in prior:\n",
    "            min_x = np.min(pr[\"x\"])\n",
    "            max_x = np.max(pr[\"x\"])\n",
    "            c = self.translatePolynom(pr[\"poly\"].c, min_x, max_x, pos)\n",
    "            pr[\"poly\"] = np.poly1d(c)\n",
    "            pr[\"x\"] -= pos[0]\n",
    "        \n",
    "        return prior\n",
    "    \n",
    "    def translateMeasurements(self, zw, pos):\n",
    "        return zw - pos\n",
    "        \n",
    "    def translateOutput(self, points, polynoms, pos):\n",
    "        points = points - pos\n",
    "        for polynom in polynoms:\n",
    "            c = self.translatePolynom(polynom[\"f\"].c, polynom[\"x_start\"], polynom[\"x_end\"], pos)\n",
    "            polynom[\"f\"] = np.poly1d(c)\n",
    "            polynom[\"x_start\"] -= pos[0]\n",
    "            polynom[\"x_end\"] -= pos[0]\n",
    "        \n",
    "        return points, polynoms\n",
    "        \n",
    "    def run(self,start, N, generate_video=False, video_with_priors=False, debug=False, translate=True):\n",
    "        start_idx = start\n",
    "        first = True\n",
    "        for t in range(start_idx,start_idx + N):\n",
    "            print(f\"frame {t}\")\n",
    "            zw, covw, prior, video_data, nusc_map = self.dataset.getData(t)\n",
    "            if first:\n",
    "                translation = np.array(video_data[\"pos\"][0:2])\n",
    "                print(\"translation\", translation)\n",
    "                first = False\n",
    "                \n",
    "            #lanes = self.getBestLane(prior)\n",
    "            lanes = copy.deepcopy(prior)\n",
    "            if translate:\n",
    "                lanes = self.translatePrior(translation, lanes)\n",
    "                zw = self.translateMeasurements(zw, translation)\n",
    "            prior_list = []\n",
    "            for lane in lanes:\n",
    "                (a0,a1,a2) = lane[\"poly\"].c[2], lane[\"poly\"].c[1], lane[\"poly\"].c[0]\n",
    "                prior_list.append({\"c\": (a0,a1,a2), \"xmin\": np.min(lane[\"x\"]), \"xmax\": np.max(lane[\"x\"])})\n",
    "    \n",
    "            points, polynoms = self.model.run(zw,covw,prior_list)\n",
    "            if translate:\n",
    "                points, polynoms = self.translateOutput(points, polynoms, -1*translation)\n",
    "                \n",
    "            #Run map-matching!\n",
    "            extended_tracks = self.model.getExtendedTracks()\n",
    "            orig_world_ref = video_data[\"pos\"]\n",
    "            world_ref = np.array([orig_world_ref[0]-translation[0], orig_world_ref[1]-translation[1]]) \n",
    "            self.map_matching.run(extended_tracks, nusc_map, orig_world_ref, world_ref, video_data[\"rot\"], video_data[\"heading\"], video_data[\"odometry\"])\n",
    "            \n",
    "            try:\n",
    "                self.video.save(t,video_data, polynoms, nusc_map, video_with_priors=video_with_priors)\n",
    "            except:\n",
    "                pass\n",
    "            try:\n",
    "                self.video_debug.save(t,video_data, polynoms,points, nusc_map,self.model.getDebugInfo(), video_with_priors=video_with_priors)\n",
    "            except:\n",
    "                pass\n",
    "            #try:\n",
    "            mm_results = self.map_matching.getResults()\n",
    "            mm_results[\"pf_best_pos\"] += translation[0:2]\n",
    "            mm_results[\"pf_mean_pos\"] += translation[0:2]\n",
    "            print(mm_results)\n",
    "            self.pf_video.save(t,video_data, mm_results, polynoms, nusc_map)\n",
    "            #except:\n",
    "                #pass\n",
    "        \n",
    "        if generate_video:\n",
    "            try:\n",
    "                self.video.generate(name=f\"video\\scene{self.scene}.avi\", fps=5)\n",
    "            except:\n",
    "                pass\n",
    "            try:\n",
    "                self.video_debug.generate(name=f\"video\\scene{self.scene}_debug.avi\", fps=5)\n",
    "            except:\n",
    "                pass\n",
    "            try:\n",
    "                self.pf_video.generate(name=f\"video\\scene{self.scene}_debug.avi\", fps=5)\n",
    "            except:\n",
    "                pass"
   ]
  },
  {
   "cell_type": "code",
   "execution_count": 5,
   "metadata": {},
   "outputs": [
    {
     "name": "stdout",
     "output_type": "stream",
     "text": [
      "scene_id={} scene_name={} map_name={} 0 scene-0103 boston-seaport\n"
     ]
    },
    {
     "name": "stderr",
     "output_type": "stream",
     "text": [
      "C:\\Users\\gadli\\old_pc\\Tau\\Thesis\\polynoms\\dataset.py:238: VisibleDeprecationWarning: Creating an ndarray from ragged nested sequences (which is a list-or-tuple of lists-or-tuples-or ndarrays with different lengths or shapes) is deprecated. If you meant to do this, you must specify 'dtype=object' when creating the ndarray\n",
      "  rot_imu = np.array([(m['utime'], m['q']) for m in self.imu])\n"
     ]
    },
    {
     "name": "stdout",
     "output_type": "stream",
     "text": [
      "frame 0\n",
      "translation [ 600.74994389 1647.14030292]\n",
      "Number of point tracks before run() 0\n",
      "Number of extended tracks before run() 0\n"
     ]
    },
    {
     "name": "stderr",
     "output_type": "stream",
     "text": [
      "C:\\Users\\gadli\\Anaconda3\\lib\\site-packages\\nuscenes\\map_expansion\\map_api.py:1823: ShapelyDeprecationWarning: Iteration over multi-part geometries is deprecated and will be removed in Shapely 2.0. Use the `geoms` property to access the constituent parts of a multi-part geometry.\n",
      "  exteriors = [int_coords(poly.exterior.coords) for poly in polygons]\n",
      "C:\\Users\\gadli\\Anaconda3\\lib\\site-packages\\nuscenes\\map_expansion\\map_api.py:1824: ShapelyDeprecationWarning: Iteration over multi-part geometries is deprecated and will be removed in Shapely 2.0. Use the `geoms` property to access the constituent parts of a multi-part geometry.\n",
      "  interiors = [int_coords(pi.coords) for poly in polygons for pi in poly.interiors]\n"
     ]
    },
    {
     "name": "stdout",
     "output_type": "stream",
     "text": [
      "{'pf_best_pos': array([ 600.69937171, 1647.18055882]), 'pf_best_theta': -0.5039916585708302, 'pf_mean_pos': array([ 600.74730954, 1647.14310591]), 'pf_mean_theta': -0.503991658570834}\n",
      "frame 1\n",
      "Number of point tracks before run() 51\n",
      "Number of extended tracks before run() 0\n"
     ]
    },
    {
     "name": "stderr",
     "output_type": "stream",
     "text": [
      "C:\\Users\\gadli\\old_pc\\Tau\\Thesis\\polynoms\\tracker.py:117: RuntimeWarning: divide by zero encountered in double_scalars\n",
      "  ratio = np.sqrt(lp)/le\n"
     ]
    },
    {
     "name": "stdout",
     "output_type": "stream",
     "text": [
      "{'pf_best_pos': array([ 601.50062758, 1646.71884245]), 'pf_best_theta': -0.5058139081404951, 'pf_mean_pos': array([ 601.31714712, 1646.81474222]), 'pf_mean_theta': -0.5058139140138933}\n",
      "frame 2\n",
      "Number of point tracks before run() 67\n",
      "Number of extended tracks before run() 0\n",
      "{'pf_best_pos': array([ 601.82597462, 1646.53064048]), 'pf_best_theta': -0.5075821210772808, 'pf_mean_pos': array([ 601.82820027, 1646.5191157 ]), 'pf_mean_theta': -0.5075821087387155}\n",
      "frame 3\n",
      "Number of point tracks before run() 80\n",
      "Number of extended tracks before run() 0\n",
      "{'pf_best_pos': array([ 602.57450257, 1646.09369174]), 'pf_best_theta': -0.5105843348553769, 'pf_mean_pos': array([ 602.36547166, 1646.20548672]), 'pf_mean_theta': -0.5105843148433942}\n",
      "frame 4\n",
      "Number of point tracks before run() 86\n",
      "Number of extended tracks before run() 0\n",
      "{'pf_best_pos': array([ 603.1728867 , 1645.74719035]), 'pf_best_theta': -0.5142598231918494, 'pf_mean_pos': array([ 602.88077349, 1645.90709512]), 'pf_mean_theta': -0.5142597883990546}\n",
      "frame 5\n",
      "Number of point tracks before run() 92\n",
      "Number of extended tracks before run() 0\n",
      "{'pf_best_pos': array([ 603.8690549 , 1645.34061642]), 'pf_best_theta': -0.5174503291347623, 'pf_mean_pos': array([ 603.43388545, 1645.58406847]), 'pf_mean_theta': -0.5174502970095025}\n",
      "frame 6\n",
      "Number of point tracks before run() 105\n",
      "Number of extended tracks before run() 0\n",
      "{'pf_best_pos': array([ 605.0664826 , 1644.62159797]), 'pf_best_theta': -0.5242159217790023, 'pf_mean_pos': array([ 604.5010394 , 1644.94327542]), 'pf_mean_theta': -0.5242158799587883}\n",
      "frame 7\n",
      "Number of point tracks before run() 97\n",
      "Number of extended tracks before run() 0\n",
      "{'pf_best_pos': array([ 605.53715534, 1644.33515685]), 'pf_best_theta': -0.5281173393544392, 'pf_mean_pos': array([ 605.04070817, 1644.61484487]), 'pf_mean_theta': -0.5281173020487513}\n",
      "frame 8\n",
      "Number of point tracks before run() 97\n",
      "Number of extended tracks before run() 0\n",
      "{'pf_best_pos': array([ 605.8813881 , 1644.12682676]), 'pf_best_theta': -0.5320613476214251, 'pf_mean_pos': array([ 605.54121163, 1644.31193959]), 'pf_mean_theta': -0.5320613116495191}\n",
      "frame 9\n",
      "Number of point tracks before run() 96\n",
      "Number of extended tracks before run() 0\n",
      "{'pf_best_pos': array([ 606.66695799, 1643.64114643]), 'pf_best_theta': -0.536792165324909, 'pf_mean_pos': array([ 606.07113658, 1643.98431232]), 'pf_mean_theta': -0.5367921136935977}\n",
      "frame 10\n",
      "Number of point tracks before run() 95\n",
      "Number of extended tracks before run() 0\n",
      "{'pf_best_pos': array([ 606.96901454, 1643.45833306]), 'pf_best_theta': -0.5403696769389152, 'pf_mean_pos': array([ 606.55994427, 1643.6884718 ]), 'pf_mean_theta': -0.5403696228150116}\n",
      "frame 11\n",
      "Number of point tracks before run() 99\n",
      "Number of extended tracks before run() 0\n",
      "{'pf_best_pos': array([ 607.64363501, 1643.04231099]), 'pf_best_theta': -0.5450589159374024, 'pf_mean_pos': array([ 607.10358307, 1643.35322299]), 'pf_mean_theta': -0.5450588613245926}\n",
      "frame 12\n",
      "Number of point tracks before run() 95\n",
      "Number of extended tracks before run() 0\n",
      "{'pf_best_pos': array([ 607.29289042, 1643.22450184]), 'pf_best_theta': -0.5535356744483821, 'pf_mean_pos': array([ 608.14183256, 1642.69612783]), 'pf_mean_theta': -0.553535583174968}\n",
      "frame 13\n",
      "Number of point tracks before run() 85\n",
      "Number of extended tracks before run() 1\n"
     ]
    },
    {
     "name": "stderr",
     "output_type": "stream",
     "text": [
      "C:\\Users\\gadli\\old_pc\\Tau\\Thesis\\polynoms\\tracker.py:94: VisibleDeprecationWarning: Creating an ndarray from ragged nested sequences (which is a list-or-tuple of lists-or-tuples-or ndarrays with different lengths or shapes) is deprecated. If you meant to do this, you must specify 'dtype=object' when creating the ndarray\n",
      "  Ha = np.array([1, z[0], z[0]**2])\n",
      "C:\\Users\\gadli\\old_pc\\Tau\\Thesis\\polynoms\\tracker.py:117: RuntimeWarning: divide by zero encountered in double_scalars\n",
      "  ratio = np.sqrt(lp)/le\n",
      "C:\\Users\\gadli\\Anaconda3\\lib\\site-packages\\nuscenes\\map_expansion\\map_api.py:1823: ShapelyDeprecationWarning: Iteration over multi-part geometries is deprecated and will be removed in Shapely 2.0. Use the `geoms` property to access the constituent parts of a multi-part geometry.\n",
      "  exteriors = [int_coords(poly.exterior.coords) for poly in polygons]\n",
      "C:\\Users\\gadli\\Anaconda3\\lib\\site-packages\\nuscenes\\map_expansion\\map_api.py:1824: ShapelyDeprecationWarning: Iteration over multi-part geometries is deprecated and will be removed in Shapely 2.0. Use the `geoms` property to access the constituent parts of a multi-part geometry.\n",
      "  interiors = [int_coords(pi.coords) for poly in polygons for pi in poly.interiors]\n"
     ]
    },
    {
     "name": "stdout",
     "output_type": "stream",
     "text": [
      "{'pf_best_pos': array([ 608.76850675, 1642.3514245 ]), 'pf_best_theta': -0.557281128433111, 'pf_mean_pos': array([ 608.6528934 , 1642.37252006]), 'pf_mean_theta': -0.5572810328003528}\n",
      "frame 14\n",
      "Number of point tracks before run() 95\n",
      "Number of extended tracks before run() 1\n"
     ]
    },
    {
     "name": "stderr",
     "output_type": "stream",
     "text": [
      "C:\\Users\\gadli\\old_pc\\Tau\\Thesis\\polynoms\\tracker.py:94: VisibleDeprecationWarning: Creating an ndarray from ragged nested sequences (which is a list-or-tuple of lists-or-tuples-or ndarrays with different lengths or shapes) is deprecated. If you meant to do this, you must specify 'dtype=object' when creating the ndarray\n",
      "  Ha = np.array([1, z[0], z[0]**2])\n",
      "C:\\Users\\gadli\\old_pc\\Tau\\Thesis\\polynoms\\tracker.py:117: RuntimeWarning: divide by zero encountered in double_scalars\n",
      "  ratio = np.sqrt(lp)/le\n"
     ]
    },
    {
     "name": "stdout",
     "output_type": "stream",
     "text": [
      "Updating extended object track =  0\n",
      "Updating extended object track =  0\n",
      "Updating extended object track =  0\n"
     ]
    },
    {
     "name": "stderr",
     "output_type": "stream",
     "text": [
      "C:\\Users\\gadli\\Anaconda3\\lib\\site-packages\\nuscenes\\map_expansion\\map_api.py:1823: ShapelyDeprecationWarning: Iteration over multi-part geometries is deprecated and will be removed in Shapely 2.0. Use the `geoms` property to access the constituent parts of a multi-part geometry.\n",
      "  exteriors = [int_coords(poly.exterior.coords) for poly in polygons]\n",
      "C:\\Users\\gadli\\Anaconda3\\lib\\site-packages\\nuscenes\\map_expansion\\map_api.py:1824: ShapelyDeprecationWarning: Iteration over multi-part geometries is deprecated and will be removed in Shapely 2.0. Use the `geoms` property to access the constituent parts of a multi-part geometry.\n",
      "  interiors = [int_coords(pi.coords) for poly in polygons for pi in poly.interiors]\n"
     ]
    },
    {
     "name": "stdout",
     "output_type": "stream",
     "text": [
      "{'pf_best_pos': array([ 608.70951719, 1642.34807879]), 'pf_best_theta': -0.5609495617015345, 'pf_mean_pos': array([ 609.12579345, 1642.07337522]), 'pf_mean_theta': -0.5609496557581349}\n",
      "frame 15\n",
      "Number of point tracks before run() 95\n",
      "Number of extended tracks before run() 1\n"
     ]
    },
    {
     "name": "stderr",
     "output_type": "stream",
     "text": [
      "C:\\Users\\gadli\\old_pc\\Tau\\Thesis\\polynoms\\tracker.py:94: VisibleDeprecationWarning: Creating an ndarray from ragged nested sequences (which is a list-or-tuple of lists-or-tuples-or ndarrays with different lengths or shapes) is deprecated. If you meant to do this, you must specify 'dtype=object' when creating the ndarray\n",
      "  Ha = np.array([1, z[0], z[0]**2])\n",
      "C:\\Users\\gadli\\old_pc\\Tau\\Thesis\\polynoms\\tracker.py:117: RuntimeWarning: divide by zero encountered in double_scalars\n",
      "  ratio = np.sqrt(lp)/le\n"
     ]
    },
    {
     "name": "stdout",
     "output_type": "stream",
     "text": [
      "Updating extended object track =  0\n",
      "Updating extended object track =  0\n"
     ]
    },
    {
     "name": "stderr",
     "output_type": "stream",
     "text": [
      "C:\\Users\\gadli\\Anaconda3\\lib\\site-packages\\nuscenes\\map_expansion\\map_api.py:1823: ShapelyDeprecationWarning: Iteration over multi-part geometries is deprecated and will be removed in Shapely 2.0. Use the `geoms` property to access the constituent parts of a multi-part geometry.\n",
      "  exteriors = [int_coords(poly.exterior.coords) for poly in polygons]\n",
      "C:\\Users\\gadli\\Anaconda3\\lib\\site-packages\\nuscenes\\map_expansion\\map_api.py:1824: ShapelyDeprecationWarning: Iteration over multi-part geometries is deprecated and will be removed in Shapely 2.0. Use the `geoms` property to access the constituent parts of a multi-part geometry.\n",
      "  interiors = [int_coords(pi.coords) for poly in polygons for pi in poly.interiors]\n"
     ]
    },
    {
     "name": "stdout",
     "output_type": "stream",
     "text": [
      "{'pf_best_pos': array([ 610.83386305, 1640.99865725]), 'pf_best_theta': -0.5655558614020597, 'pf_mean_pos': array([ 609.64775574, 1641.73886932]), 'pf_mean_theta': -0.5655559127676287}\n",
      "frame 16\n",
      "Number of point tracks before run() 94\n",
      "Number of extended tracks before run() 1\n"
     ]
    },
    {
     "name": "stderr",
     "output_type": "stream",
     "text": [
      "C:\\Users\\gadli\\old_pc\\Tau\\Thesis\\polynoms\\tracker.py:94: VisibleDeprecationWarning: Creating an ndarray from ragged nested sequences (which is a list-or-tuple of lists-or-tuples-or ndarrays with different lengths or shapes) is deprecated. If you meant to do this, you must specify 'dtype=object' when creating the ndarray\n",
      "  Ha = np.array([1, z[0], z[0]**2])\n",
      "C:\\Users\\gadli\\old_pc\\Tau\\Thesis\\polynoms\\tracker.py:117: RuntimeWarning: divide by zero encountered in double_scalars\n",
      "  ratio = np.sqrt(lp)/le\n"
     ]
    },
    {
     "name": "stdout",
     "output_type": "stream",
     "text": [
      "Updating extended object track =  0\n",
      "Updating extended object track =  0\n"
     ]
    },
    {
     "name": "stderr",
     "output_type": "stream",
     "text": [
      "C:\\Users\\gadli\\Anaconda3\\lib\\site-packages\\nuscenes\\map_expansion\\map_api.py:1823: ShapelyDeprecationWarning: Iteration over multi-part geometries is deprecated and will be removed in Shapely 2.0. Use the `geoms` property to access the constituent parts of a multi-part geometry.\n",
      "  exteriors = [int_coords(poly.exterior.coords) for poly in polygons]\n",
      "C:\\Users\\gadli\\Anaconda3\\lib\\site-packages\\nuscenes\\map_expansion\\map_api.py:1824: ShapelyDeprecationWarning: Iteration over multi-part geometries is deprecated and will be removed in Shapely 2.0. Use the `geoms` property to access the constituent parts of a multi-part geometry.\n",
      "  interiors = [int_coords(pi.coords) for poly in polygons for pi in poly.interiors]\n"
     ]
    },
    {
     "name": "stdout",
     "output_type": "stream",
     "text": [
      "{'pf_best_pos': array([ 609.40062366, 1641.87864021]), 'pf_best_theta': -0.5696499031296787, 'pf_mean_pos': array([ 610.13343396, 1641.42498031]), 'pf_mean_theta': -0.5696498446341794}\n",
      "frame 17\n",
      "Number of point tracks before run() 98\n",
      "Number of extended tracks before run() 1\n",
      "Updating extended object track =  0\n",
      "Updating extended object track =  0\n",
      "Updating extended object track =  0\n"
     ]
    },
    {
     "name": "stderr",
     "output_type": "stream",
     "text": [
      "C:\\Users\\gadli\\old_pc\\Tau\\Thesis\\polynoms\\tracker.py:94: VisibleDeprecationWarning: Creating an ndarray from ragged nested sequences (which is a list-or-tuple of lists-or-tuples-or ndarrays with different lengths or shapes) is deprecated. If you meant to do this, you must specify 'dtype=object' when creating the ndarray\n",
      "  Ha = np.array([1, z[0], z[0]**2])\n",
      "C:\\Users\\gadli\\old_pc\\Tau\\Thesis\\polynoms\\tracker.py:117: RuntimeWarning: divide by zero encountered in double_scalars\n",
      "  ratio = np.sqrt(lp)/le\n",
      "C:\\Users\\gadli\\Anaconda3\\lib\\site-packages\\nuscenes\\map_expansion\\map_api.py:1823: ShapelyDeprecationWarning: Iteration over multi-part geometries is deprecated and will be removed in Shapely 2.0. Use the `geoms` property to access the constituent parts of a multi-part geometry.\n",
      "  exteriors = [int_coords(poly.exterior.coords) for poly in polygons]\n",
      "C:\\Users\\gadli\\Anaconda3\\lib\\site-packages\\nuscenes\\map_expansion\\map_api.py:1824: ShapelyDeprecationWarning: Iteration over multi-part geometries is deprecated and will be removed in Shapely 2.0. Use the `geoms` property to access the constituent parts of a multi-part geometry.\n",
      "  interiors = [int_coords(pi.coords) for poly in polygons for pi in poly.interiors]\n"
     ]
    },
    {
     "name": "stdout",
     "output_type": "stream",
     "text": [
      "{'pf_best_pos': array([ 612.29543887, 1640.06206453]), 'pf_best_theta': -0.579796980297921, 'pf_mean_pos': array([ 611.10579575, 1640.77761477]), 'pf_mean_theta': -0.5797969306355386}\n",
      "frame 18\n",
      "Number of point tracks before run() 102\n",
      "Number of extended tracks before run() 1\n"
     ]
    },
    {
     "name": "stderr",
     "output_type": "stream",
     "text": [
      "C:\\Users\\gadli\\old_pc\\Tau\\Thesis\\polynoms\\tracker.py:94: VisibleDeprecationWarning: Creating an ndarray from ragged nested sequences (which is a list-or-tuple of lists-or-tuples-or ndarrays with different lengths or shapes) is deprecated. If you meant to do this, you must specify 'dtype=object' when creating the ndarray\n",
      "  Ha = np.array([1, z[0], z[0]**2])\n",
      "C:\\Users\\gadli\\old_pc\\Tau\\Thesis\\polynoms\\tracker.py:117: RuntimeWarning: divide by zero encountered in double_scalars\n",
      "  ratio = np.sqrt(lp)/le\n"
     ]
    },
    {
     "name": "stdout",
     "output_type": "stream",
     "text": [
      "Updating extended object track =  0\n"
     ]
    },
    {
     "name": "stderr",
     "output_type": "stream",
     "text": [
      "C:\\Users\\gadli\\Anaconda3\\lib\\site-packages\\nuscenes\\map_expansion\\map_api.py:1823: ShapelyDeprecationWarning: Iteration over multi-part geometries is deprecated and will be removed in Shapely 2.0. Use the `geoms` property to access the constituent parts of a multi-part geometry.\n",
      "  exteriors = [int_coords(poly.exterior.coords) for poly in polygons]\n",
      "C:\\Users\\gadli\\Anaconda3\\lib\\site-packages\\nuscenes\\map_expansion\\map_api.py:1824: ShapelyDeprecationWarning: Iteration over multi-part geometries is deprecated and will be removed in Shapely 2.0. Use the `geoms` property to access the constituent parts of a multi-part geometry.\n",
      "  interiors = [int_coords(pi.coords) for poly in polygons for pi in poly.interiors]\n"
     ]
    },
    {
     "name": "stdout",
     "output_type": "stream",
     "text": [
      "{'pf_best_pos': array([ 611.49070569, 1640.435573  ]), 'pf_best_theta': -0.5842662128632341, 'pf_mean_pos': array([ 611.55437819, 1640.47443878]), 'pf_mean_theta': -0.5842662728932254}\n",
      "frame 19\n",
      "Number of point tracks before run() 98\n",
      "Number of extended tracks before run() 2\n"
     ]
    },
    {
     "name": "stderr",
     "output_type": "stream",
     "text": [
      "C:\\Users\\gadli\\old_pc\\Tau\\Thesis\\polynoms\\tracker.py:94: VisibleDeprecationWarning: Creating an ndarray from ragged nested sequences (which is a list-or-tuple of lists-or-tuples-or ndarrays with different lengths or shapes) is deprecated. If you meant to do this, you must specify 'dtype=object' when creating the ndarray\n",
      "  Ha = np.array([1, z[0], z[0]**2])\n",
      "C:\\Users\\gadli\\old_pc\\Tau\\Thesis\\polynoms\\tracker.py:117: RuntimeWarning: divide by zero encountered in double_scalars\n",
      "  ratio = np.sqrt(lp)/le\n",
      "C:\\Users\\gadli\\Anaconda3\\lib\\site-packages\\nuscenes\\map_expansion\\map_api.py:1823: ShapelyDeprecationWarning: Iteration over multi-part geometries is deprecated and will be removed in Shapely 2.0. Use the `geoms` property to access the constituent parts of a multi-part geometry.\n",
      "  exteriors = [int_coords(poly.exterior.coords) for poly in polygons]\n",
      "C:\\Users\\gadli\\Anaconda3\\lib\\site-packages\\nuscenes\\map_expansion\\map_api.py:1824: ShapelyDeprecationWarning: Iteration over multi-part geometries is deprecated and will be removed in Shapely 2.0. Use the `geoms` property to access the constituent parts of a multi-part geometry.\n",
      "  interiors = [int_coords(pi.coords) for poly in polygons for pi in poly.interiors]\n"
     ]
    },
    {
     "name": "stdout",
     "output_type": "stream",
     "text": [
      "{'pf_best_pos': array([ 610.00653795, 1641.45030669]), 'pf_best_theta': -0.5880824864623531, 'pf_mean_pos': array([ 612.07666148, 1640.12710225]), 'pf_mean_theta': -0.5880825249088474}\n",
      "frame 20\n",
      "Number of point tracks before run() 100\n",
      "Number of extended tracks before run() 2\n"
     ]
    },
    {
     "name": "stderr",
     "output_type": "stream",
     "text": [
      "C:\\Users\\gadli\\old_pc\\Tau\\Thesis\\polynoms\\tracker.py:94: VisibleDeprecationWarning: Creating an ndarray from ragged nested sequences (which is a list-or-tuple of lists-or-tuples-or ndarrays with different lengths or shapes) is deprecated. If you meant to do this, you must specify 'dtype=object' when creating the ndarray\n",
      "  Ha = np.array([1, z[0], z[0]**2])\n",
      "C:\\Users\\gadli\\old_pc\\Tau\\Thesis\\polynoms\\tracker.py:117: RuntimeWarning: divide by zero encountered in double_scalars\n",
      "  ratio = np.sqrt(lp)/le\n"
     ]
    },
    {
     "name": "stdout",
     "output_type": "stream",
     "text": [
      "Updating extended object track =  0\n",
      "Updating extended object track =  0\n",
      "Updating extended object track =  1\n"
     ]
    },
    {
     "name": "stderr",
     "output_type": "stream",
     "text": [
      "C:\\Users\\gadli\\Anaconda3\\lib\\site-packages\\nuscenes\\map_expansion\\map_api.py:1823: ShapelyDeprecationWarning: Iteration over multi-part geometries is deprecated and will be removed in Shapely 2.0. Use the `geoms` property to access the constituent parts of a multi-part geometry.\n",
      "  exteriors = [int_coords(poly.exterior.coords) for poly in polygons]\n",
      "C:\\Users\\gadli\\Anaconda3\\lib\\site-packages\\nuscenes\\map_expansion\\map_api.py:1824: ShapelyDeprecationWarning: Iteration over multi-part geometries is deprecated and will be removed in Shapely 2.0. Use the `geoms` property to access the constituent parts of a multi-part geometry.\n",
      "  interiors = [int_coords(pi.coords) for poly in polygons for pi in poly.interiors]\n"
     ]
    },
    {
     "name": "stdout",
     "output_type": "stream",
     "text": [
      "{'pf_best_pos': array([ 612.14342953, 1640.07620171]), 'pf_best_theta': -0.5915011852357246, 'pf_mean_pos': array([ 612.58693681, 1639.78332517]), 'pf_mean_theta': -0.5915011041642636}\n",
      "frame 21\n",
      "Number of point tracks before run() 106\n",
      "Number of extended tracks before run() 2\n"
     ]
    },
    {
     "name": "stderr",
     "output_type": "stream",
     "text": [
      "C:\\Users\\gadli\\old_pc\\Tau\\Thesis\\polynoms\\tracker.py:94: VisibleDeprecationWarning: Creating an ndarray from ragged nested sequences (which is a list-or-tuple of lists-or-tuples-or ndarrays with different lengths or shapes) is deprecated. If you meant to do this, you must specify 'dtype=object' when creating the ndarray\n",
      "  Ha = np.array([1, z[0], z[0]**2])\n",
      "C:\\Users\\gadli\\old_pc\\Tau\\Thesis\\polynoms\\tracker.py:117: RuntimeWarning: divide by zero encountered in double_scalars\n",
      "  ratio = np.sqrt(lp)/le\n"
     ]
    },
    {
     "name": "stdout",
     "output_type": "stream",
     "text": [
      "Updating extended object track =  0\n",
      "Updating extended object track =  0\n",
      "Updating extended object track =  1\n",
      "Updating extended object track =  0\n",
      "Updating extended object track =  1\n"
     ]
    },
    {
     "name": "stderr",
     "output_type": "stream",
     "text": [
      "C:\\Users\\gadli\\Anaconda3\\lib\\site-packages\\nuscenes\\map_expansion\\map_api.py:1823: ShapelyDeprecationWarning: Iteration over multi-part geometries is deprecated and will be removed in Shapely 2.0. Use the `geoms` property to access the constituent parts of a multi-part geometry.\n",
      "  exteriors = [int_coords(poly.exterior.coords) for poly in polygons]\n",
      "C:\\Users\\gadli\\Anaconda3\\lib\\site-packages\\nuscenes\\map_expansion\\map_api.py:1824: ShapelyDeprecationWarning: Iteration over multi-part geometries is deprecated and will be removed in Shapely 2.0. Use the `geoms` property to access the constituent parts of a multi-part geometry.\n",
      "  interiors = [int_coords(pi.coords) for poly in polygons for pi in poly.interiors]\n"
     ]
    },
    {
     "name": "stdout",
     "output_type": "stream",
     "text": [
      "{'pf_best_pos': array([ 612.64029918, 1639.71848783]), 'pf_best_theta': -0.594972211173384, 'pf_mean_pos': array([ 613.06975229, 1639.45334743]), 'pf_mean_theta': -0.5949721021146179}\n",
      "frame 22\n",
      "Number of point tracks before run() 100\n",
      "Number of extended tracks before run() 2\n"
     ]
    },
    {
     "name": "stderr",
     "output_type": "stream",
     "text": [
      "C:\\Users\\gadli\\old_pc\\Tau\\Thesis\\polynoms\\tracker.py:94: VisibleDeprecationWarning: Creating an ndarray from ragged nested sequences (which is a list-or-tuple of lists-or-tuples-or ndarrays with different lengths or shapes) is deprecated. If you meant to do this, you must specify 'dtype=object' when creating the ndarray\n",
      "  Ha = np.array([1, z[0], z[0]**2])\n",
      "C:\\Users\\gadli\\old_pc\\Tau\\Thesis\\polynoms\\tracker.py:117: RuntimeWarning: divide by zero encountered in double_scalars\n",
      "  ratio = np.sqrt(lp)/le\n"
     ]
    },
    {
     "name": "stdout",
     "output_type": "stream",
     "text": [
      "Updating extended object track =  0\n",
      "Updating extended object track =  1\n",
      "Updating extended object track =  0\n"
     ]
    },
    {
     "name": "stderr",
     "output_type": "stream",
     "text": [
      "C:\\Users\\gadli\\Anaconda3\\lib\\site-packages\\nuscenes\\map_expansion\\map_api.py:1823: ShapelyDeprecationWarning: Iteration over multi-part geometries is deprecated and will be removed in Shapely 2.0. Use the `geoms` property to access the constituent parts of a multi-part geometry.\n",
      "  exteriors = [int_coords(poly.exterior.coords) for poly in polygons]\n",
      "C:\\Users\\gadli\\Anaconda3\\lib\\site-packages\\nuscenes\\map_expansion\\map_api.py:1824: ShapelyDeprecationWarning: Iteration over multi-part geometries is deprecated and will be removed in Shapely 2.0. Use the `geoms` property to access the constituent parts of a multi-part geometry.\n",
      "  interiors = [int_coords(pi.coords) for poly in polygons for pi in poly.interiors]\n"
     ]
    },
    {
     "name": "stdout",
     "output_type": "stream",
     "text": [
      "{'pf_best_pos': array([ 611.85223849, 1640.23191347]), 'pf_best_theta': -0.5985310143786968, 'pf_mean_pos': array([ 613.55511079, 1639.12673453]), 'pf_mean_theta': -0.5985309506539281}\n",
      "frame 23\n",
      "Number of point tracks before run() 100\n",
      "Number of extended tracks before run() 2\n"
     ]
    },
    {
     "name": "stderr",
     "output_type": "stream",
     "text": [
      "C:\\Users\\gadli\\old_pc\\Tau\\Thesis\\polynoms\\tracker.py:94: VisibleDeprecationWarning: Creating an ndarray from ragged nested sequences (which is a list-or-tuple of lists-or-tuples-or ndarrays with different lengths or shapes) is deprecated. If you meant to do this, you must specify 'dtype=object' when creating the ndarray\n",
      "  Ha = np.array([1, z[0], z[0]**2])\n",
      "C:\\Users\\gadli\\old_pc\\Tau\\Thesis\\polynoms\\tracker.py:117: RuntimeWarning: divide by zero encountered in double_scalars\n",
      "  ratio = np.sqrt(lp)/le\n"
     ]
    },
    {
     "name": "stdout",
     "output_type": "stream",
     "text": [
      "Updating extended object track =  0\n",
      "Updating extended object track =  1\n",
      "Updating extended object track =  1\n",
      "Updating extended object track =  1\n"
     ]
    },
    {
     "name": "stderr",
     "output_type": "stream",
     "text": [
      "C:\\Users\\gadli\\Anaconda3\\lib\\site-packages\\nuscenes\\map_expansion\\map_api.py:1823: ShapelyDeprecationWarning: Iteration over multi-part geometries is deprecated and will be removed in Shapely 2.0. Use the `geoms` property to access the constituent parts of a multi-part geometry.\n",
      "  exteriors = [int_coords(poly.exterior.coords) for poly in polygons]\n",
      "C:\\Users\\gadli\\Anaconda3\\lib\\site-packages\\nuscenes\\map_expansion\\map_api.py:1824: ShapelyDeprecationWarning: Iteration over multi-part geometries is deprecated and will be removed in Shapely 2.0. Use the `geoms` property to access the constituent parts of a multi-part geometry.\n",
      "  interiors = [int_coords(pi.coords) for poly in polygons for pi in poly.interiors]\n"
     ]
    },
    {
     "name": "stdout",
     "output_type": "stream",
     "text": [
      "{'pf_best_pos': array([ 613.94092173, 1638.76618384]), 'pf_best_theta': -0.6080641350326284, 'pf_mean_pos': array([ 614.45397389, 1638.48689618]), 'pf_mean_theta': -0.6080640625899075}\n",
      "frame 24\n",
      "Number of point tracks before run() 104\n",
      "Number of extended tracks before run() 2\n"
     ]
    },
    {
     "name": "stderr",
     "output_type": "stream",
     "text": [
      "C:\\Users\\gadli\\old_pc\\Tau\\Thesis\\polynoms\\tracker.py:94: VisibleDeprecationWarning: Creating an ndarray from ragged nested sequences (which is a list-or-tuple of lists-or-tuples-or ndarrays with different lengths or shapes) is deprecated. If you meant to do this, you must specify 'dtype=object' when creating the ndarray\n",
      "  Ha = np.array([1, z[0], z[0]**2])\n",
      "C:\\Users\\gadli\\old_pc\\Tau\\Thesis\\polynoms\\tracker.py:117: RuntimeWarning: divide by zero encountered in double_scalars\n",
      "  ratio = np.sqrt(lp)/le\n"
     ]
    },
    {
     "name": "stdout",
     "output_type": "stream",
     "text": [
      "Updating extended object track =  1\n",
      "Updating extended object track =  0\n",
      "Updating extended object track =  1\n",
      "Updating extended object track =  1\n"
     ]
    },
    {
     "name": "stderr",
     "output_type": "stream",
     "text": [
      "C:\\Users\\gadli\\Anaconda3\\lib\\site-packages\\nuscenes\\map_expansion\\map_api.py:1823: ShapelyDeprecationWarning: Iteration over multi-part geometries is deprecated and will be removed in Shapely 2.0. Use the `geoms` property to access the constituent parts of a multi-part geometry.\n",
      "  exteriors = [int_coords(poly.exterior.coords) for poly in polygons]\n",
      "C:\\Users\\gadli\\Anaconda3\\lib\\site-packages\\nuscenes\\map_expansion\\map_api.py:1824: ShapelyDeprecationWarning: Iteration over multi-part geometries is deprecated and will be removed in Shapely 2.0. Use the `geoms` property to access the constituent parts of a multi-part geometry.\n",
      "  interiors = [int_coords(pi.coords) for poly in polygons for pi in poly.interiors]\n"
     ]
    },
    {
     "name": "stdout",
     "output_type": "stream",
     "text": [
      "{'pf_best_pos': array([ 615.07620942, 1638.01089456]), 'pf_best_theta': -0.6119798739970084, 'pf_mean_pos': array([ 615.07691742, 1638.01261505]), 'pf_mean_theta': -0.6119798762063781}\n",
      "frame 25\n",
      "Number of point tracks before run() 97\n",
      "Number of extended tracks before run() 3\n"
     ]
    },
    {
     "name": "stderr",
     "output_type": "stream",
     "text": [
      "C:\\Users\\gadli\\old_pc\\Tau\\Thesis\\polynoms\\tracker.py:94: VisibleDeprecationWarning: Creating an ndarray from ragged nested sequences (which is a list-or-tuple of lists-or-tuples-or ndarrays with different lengths or shapes) is deprecated. If you meant to do this, you must specify 'dtype=object' when creating the ndarray\n",
      "  Ha = np.array([1, z[0], z[0]**2])\n",
      "C:\\Users\\gadli\\old_pc\\Tau\\Thesis\\polynoms\\tracker.py:117: RuntimeWarning: divide by zero encountered in double_scalars\n",
      "  ratio = np.sqrt(lp)/le\n"
     ]
    },
    {
     "name": "stdout",
     "output_type": "stream",
     "text": [
      "Updating extended object track =  0\n",
      "Updating extended object track =  1\n"
     ]
    },
    {
     "name": "stderr",
     "output_type": "stream",
     "text": [
      "C:\\Users\\gadli\\Anaconda3\\lib\\site-packages\\nuscenes\\map_expansion\\map_api.py:1823: ShapelyDeprecationWarning: Iteration over multi-part geometries is deprecated and will be removed in Shapely 2.0. Use the `geoms` property to access the constituent parts of a multi-part geometry.\n",
      "  exteriors = [int_coords(poly.exterior.coords) for poly in polygons]\n",
      "C:\\Users\\gadli\\Anaconda3\\lib\\site-packages\\nuscenes\\map_expansion\\map_api.py:1824: ShapelyDeprecationWarning: Iteration over multi-part geometries is deprecated and will be removed in Shapely 2.0. Use the `geoms` property to access the constituent parts of a multi-part geometry.\n",
      "  interiors = [int_coords(pi.coords) for poly in polygons for pi in poly.interiors]\n"
     ]
    },
    {
     "name": "stdout",
     "output_type": "stream",
     "text": [
      "{'pf_best_pos': array([ 614.90349321, 1638.10615335]), 'pf_best_theta': -0.6152381341830515, 'pf_mean_pos': array([ 615.59867643, 1637.64041147]), 'pf_mean_theta': -0.6152381176690237}\n",
      "frame 26\n",
      "Number of point tracks before run() 94\n",
      "Number of extended tracks before run() 3\n"
     ]
    },
    {
     "name": "stderr",
     "output_type": "stream",
     "text": [
      "C:\\Users\\gadli\\old_pc\\Tau\\Thesis\\polynoms\\tracker.py:94: VisibleDeprecationWarning: Creating an ndarray from ragged nested sequences (which is a list-or-tuple of lists-or-tuples-or ndarrays with different lengths or shapes) is deprecated. If you meant to do this, you must specify 'dtype=object' when creating the ndarray\n",
      "  Ha = np.array([1, z[0], z[0]**2])\n",
      "C:\\Users\\gadli\\old_pc\\Tau\\Thesis\\polynoms\\tracker.py:117: RuntimeWarning: divide by zero encountered in double_scalars\n",
      "  ratio = np.sqrt(lp)/le\n"
     ]
    },
    {
     "name": "stdout",
     "output_type": "stream",
     "text": [
      "Updating extended object track =  0\n"
     ]
    },
    {
     "name": "stderr",
     "output_type": "stream",
     "text": [
      "C:\\Users\\gadli\\Anaconda3\\lib\\site-packages\\nuscenes\\map_expansion\\map_api.py:1823: ShapelyDeprecationWarning: Iteration over multi-part geometries is deprecated and will be removed in Shapely 2.0. Use the `geoms` property to access the constituent parts of a multi-part geometry.\n",
      "  exteriors = [int_coords(poly.exterior.coords) for poly in polygons]\n",
      "C:\\Users\\gadli\\Anaconda3\\lib\\site-packages\\nuscenes\\map_expansion\\map_api.py:1824: ShapelyDeprecationWarning: Iteration over multi-part geometries is deprecated and will be removed in Shapely 2.0. Use the `geoms` property to access the constituent parts of a multi-part geometry.\n",
      "  interiors = [int_coords(pi.coords) for poly in polygons for pi in poly.interiors]\n"
     ]
    },
    {
     "name": "stdout",
     "output_type": "stream",
     "text": [
      "{'pf_best_pos': array([ 616.10317109, 1637.27674046]), 'pf_best_theta': -0.6189342288784703, 'pf_mean_pos': array([ 616.19703909, 1637.20975839]), 'pf_mean_theta': -0.6189342012015645}\n",
      "frame 27\n",
      "Number of point tracks before run() 94\n",
      "Number of extended tracks before run() 3\n"
     ]
    },
    {
     "name": "stderr",
     "output_type": "stream",
     "text": [
      "C:\\Users\\gadli\\old_pc\\Tau\\Thesis\\polynoms\\tracker.py:94: VisibleDeprecationWarning: Creating an ndarray from ragged nested sequences (which is a list-or-tuple of lists-or-tuples-or ndarrays with different lengths or shapes) is deprecated. If you meant to do this, you must specify 'dtype=object' when creating the ndarray\n",
      "  Ha = np.array([1, z[0], z[0]**2])\n",
      "C:\\Users\\gadli\\old_pc\\Tau\\Thesis\\polynoms\\tracker.py:117: RuntimeWarning: divide by zero encountered in double_scalars\n",
      "  ratio = np.sqrt(lp)/le\n"
     ]
    },
    {
     "name": "stdout",
     "output_type": "stream",
     "text": [
      "Updating extended object track =  0\n",
      "Updating extended object track =  1\n"
     ]
    },
    {
     "name": "stderr",
     "output_type": "stream",
     "text": [
      "C:\\Users\\gadli\\Anaconda3\\lib\\site-packages\\nuscenes\\map_expansion\\map_api.py:1823: ShapelyDeprecationWarning: Iteration over multi-part geometries is deprecated and will be removed in Shapely 2.0. Use the `geoms` property to access the constituent parts of a multi-part geometry.\n",
      "  exteriors = [int_coords(poly.exterior.coords) for poly in polygons]\n",
      "C:\\Users\\gadli\\Anaconda3\\lib\\site-packages\\nuscenes\\map_expansion\\map_api.py:1824: ShapelyDeprecationWarning: Iteration over multi-part geometries is deprecated and will be removed in Shapely 2.0. Use the `geoms` property to access the constituent parts of a multi-part geometry.\n",
      "  interiors = [int_coords(pi.coords) for poly in polygons for pi in poly.interiors]\n"
     ]
    },
    {
     "name": "stdout",
     "output_type": "stream",
     "text": [
      "{'pf_best_pos': array([ 616.83626627, 1636.7476268 ]), 'pf_best_theta': -0.6229773404781569, 'pf_mean_pos': array([ 616.72061275, 1636.83043593]), 'pf_mean_theta': -0.6229772974686145}\n",
      "frame 28\n",
      "Number of point tracks before run() 96\n",
      "Number of extended tracks before run() 3\n"
     ]
    },
    {
     "name": "stderr",
     "output_type": "stream",
     "text": [
      "C:\\Users\\gadli\\old_pc\\Tau\\Thesis\\polynoms\\tracker.py:94: VisibleDeprecationWarning: Creating an ndarray from ragged nested sequences (which is a list-or-tuple of lists-or-tuples-or ndarrays with different lengths or shapes) is deprecated. If you meant to do this, you must specify 'dtype=object' when creating the ndarray\n",
      "  Ha = np.array([1, z[0], z[0]**2])\n",
      "C:\\Users\\gadli\\old_pc\\Tau\\Thesis\\polynoms\\tracker.py:117: RuntimeWarning: divide by zero encountered in double_scalars\n",
      "  ratio = np.sqrt(lp)/le\n"
     ]
    },
    {
     "name": "stdout",
     "output_type": "stream",
     "text": [
      "Updating extended object track =  0\n",
      "Updating extended object track =  0\n",
      "Updating extended object track =  1\n"
     ]
    },
    {
     "name": "stderr",
     "output_type": "stream",
     "text": [
      "C:\\Users\\gadli\\Anaconda3\\lib\\site-packages\\nuscenes\\map_expansion\\map_api.py:1823: ShapelyDeprecationWarning: Iteration over multi-part geometries is deprecated and will be removed in Shapely 2.0. Use the `geoms` property to access the constituent parts of a multi-part geometry.\n",
      "  exteriors = [int_coords(poly.exterior.coords) for poly in polygons]\n",
      "C:\\Users\\gadli\\Anaconda3\\lib\\site-packages\\nuscenes\\map_expansion\\map_api.py:1824: ShapelyDeprecationWarning: Iteration over multi-part geometries is deprecated and will be removed in Shapely 2.0. Use the `geoms` property to access the constituent parts of a multi-part geometry.\n",
      "  interiors = [int_coords(pi.coords) for poly in polygons for pi in poly.interiors]\n"
     ]
    },
    {
     "name": "stdout",
     "output_type": "stream",
     "text": [
      "{'pf_best_pos': array([ 617.19401407, 1636.48985672]), 'pf_best_theta': -0.6241375594670542, 'pf_mean_pos': array([ 617.21661599, 1636.47294479]), 'pf_mean_theta': -0.6241374956819599}\n",
      "frame 29\n",
      "Number of point tracks before run() 95\n",
      "Number of extended tracks before run() 3\n"
     ]
    },
    {
     "name": "stderr",
     "output_type": "stream",
     "text": [
      "C:\\Users\\gadli\\old_pc\\Tau\\Thesis\\polynoms\\tracker.py:94: VisibleDeprecationWarning: Creating an ndarray from ragged nested sequences (which is a list-or-tuple of lists-or-tuples-or ndarrays with different lengths or shapes) is deprecated. If you meant to do this, you must specify 'dtype=object' when creating the ndarray\n",
      "  Ha = np.array([1, z[0], z[0]**2])\n",
      "C:\\Users\\gadli\\old_pc\\Tau\\Thesis\\polynoms\\tracker.py:117: RuntimeWarning: divide by zero encountered in double_scalars\n",
      "  ratio = np.sqrt(lp)/le\n"
     ]
    },
    {
     "name": "stdout",
     "output_type": "stream",
     "text": [
      "Updating extended object track =  0\n"
     ]
    },
    {
     "name": "stderr",
     "output_type": "stream",
     "text": [
      "C:\\Users\\gadli\\Anaconda3\\lib\\site-packages\\nuscenes\\map_expansion\\map_api.py:1823: ShapelyDeprecationWarning: Iteration over multi-part geometries is deprecated and will be removed in Shapely 2.0. Use the `geoms` property to access the constituent parts of a multi-part geometry.\n",
      "  exteriors = [int_coords(poly.exterior.coords) for poly in polygons]\n",
      "C:\\Users\\gadli\\Anaconda3\\lib\\site-packages\\nuscenes\\map_expansion\\map_api.py:1824: ShapelyDeprecationWarning: Iteration over multi-part geometries is deprecated and will be removed in Shapely 2.0. Use the `geoms` property to access the constituent parts of a multi-part geometry.\n",
      "  interiors = [int_coords(pi.coords) for poly in polygons for pi in poly.interiors]\n"
     ]
    },
    {
     "name": "stdout",
     "output_type": "stream",
     "text": [
      "{'pf_best_pos': array([ 618.2961004 , 1635.66643018]), 'pf_best_theta': -0.6332538932379101, 'pf_mean_pos': array([ 618.22597057, 1635.72011057]), 'pf_mean_theta': -0.6332538325277621}\n",
      "frame 30\n",
      "Number of point tracks before run() 101\n",
      "Number of extended tracks before run() 3\n"
     ]
    },
    {
     "name": "stderr",
     "output_type": "stream",
     "text": [
      "C:\\Users\\gadli\\old_pc\\Tau\\Thesis\\polynoms\\tracker.py:94: VisibleDeprecationWarning: Creating an ndarray from ragged nested sequences (which is a list-or-tuple of lists-or-tuples-or ndarrays with different lengths or shapes) is deprecated. If you meant to do this, you must specify 'dtype=object' when creating the ndarray\n",
      "  Ha = np.array([1, z[0], z[0]**2])\n",
      "C:\\Users\\gadli\\old_pc\\Tau\\Thesis\\polynoms\\tracker.py:117: RuntimeWarning: divide by zero encountered in double_scalars\n",
      "  ratio = np.sqrt(lp)/le\n",
      "C:\\Users\\gadli\\Anaconda3\\lib\\site-packages\\nuscenes\\map_expansion\\map_api.py:1823: ShapelyDeprecationWarning: Iteration over multi-part geometries is deprecated and will be removed in Shapely 2.0. Use the `geoms` property to access the constituent parts of a multi-part geometry.\n",
      "  exteriors = [int_coords(poly.exterior.coords) for poly in polygons]\n",
      "C:\\Users\\gadli\\Anaconda3\\lib\\site-packages\\nuscenes\\map_expansion\\map_api.py:1824: ShapelyDeprecationWarning: Iteration over multi-part geometries is deprecated and will be removed in Shapely 2.0. Use the `geoms` property to access the constituent parts of a multi-part geometry.\n",
      "  interiors = [int_coords(pi.coords) for poly in polygons for pi in poly.interiors]\n"
     ]
    },
    {
     "name": "stdout",
     "output_type": "stream",
     "text": [
      "{'pf_best_pos': array([ 618.70529703, 1635.35935276]), 'pf_best_theta': -0.636883385860747, 'pf_mean_pos': array([ 618.744643  , 1635.33090487]), 'pf_mean_theta': -0.6368833214223073}\n",
      "frame 31\n",
      "Number of point tracks before run() 88\n",
      "Number of extended tracks before run() 4\n"
     ]
    },
    {
     "name": "stderr",
     "output_type": "stream",
     "text": [
      "C:\\Users\\gadli\\old_pc\\Tau\\Thesis\\polynoms\\tracker.py:94: VisibleDeprecationWarning: Creating an ndarray from ragged nested sequences (which is a list-or-tuple of lists-or-tuples-or ndarrays with different lengths or shapes) is deprecated. If you meant to do this, you must specify 'dtype=object' when creating the ndarray\n",
      "  Ha = np.array([1, z[0], z[0]**2])\n",
      "C:\\Users\\gadli\\old_pc\\Tau\\Thesis\\polynoms\\tracker.py:117: RuntimeWarning: divide by zero encountered in double_scalars\n",
      "  ratio = np.sqrt(lp)/le\n"
     ]
    },
    {
     "name": "stdout",
     "output_type": "stream",
     "text": [
      "Updating extended object track =  1\n"
     ]
    },
    {
     "name": "stderr",
     "output_type": "stream",
     "text": [
      "C:\\Users\\gadli\\Anaconda3\\lib\\site-packages\\nuscenes\\map_expansion\\map_api.py:1823: ShapelyDeprecationWarning: Iteration over multi-part geometries is deprecated and will be removed in Shapely 2.0. Use the `geoms` property to access the constituent parts of a multi-part geometry.\n",
      "  exteriors = [int_coords(poly.exterior.coords) for poly in polygons]\n",
      "C:\\Users\\gadli\\Anaconda3\\lib\\site-packages\\nuscenes\\map_expansion\\map_api.py:1824: ShapelyDeprecationWarning: Iteration over multi-part geometries is deprecated and will be removed in Shapely 2.0. Use the `geoms` property to access the constituent parts of a multi-part geometry.\n",
      "  interiors = [int_coords(pi.coords) for poly in polygons for pi in poly.interiors]\n"
     ]
    },
    {
     "name": "stdout",
     "output_type": "stream",
     "text": [
      "{'pf_best_pos': array([ 619.17619673, 1635.00423659]), 'pf_best_theta': -0.640188945584327, 'pf_mean_pos': array([ 619.25655813, 1634.94491916]), 'pf_mean_theta': -0.6401888907705457}\n",
      "frame 32\n",
      "Number of point tracks before run() 98\n",
      "Number of extended tracks before run() 3\n"
     ]
    },
    {
     "name": "stderr",
     "output_type": "stream",
     "text": [
      "C:\\Users\\gadli\\old_pc\\Tau\\Thesis\\polynoms\\tracker.py:94: VisibleDeprecationWarning: Creating an ndarray from ragged nested sequences (which is a list-or-tuple of lists-or-tuples-or ndarrays with different lengths or shapes) is deprecated. If you meant to do this, you must specify 'dtype=object' when creating the ndarray\n",
      "  Ha = np.array([1, z[0], z[0]**2])\n",
      "C:\\Users\\gadli\\old_pc\\Tau\\Thesis\\polynoms\\tracker.py:117: RuntimeWarning: divide by zero encountered in double_scalars\n",
      "  ratio = np.sqrt(lp)/le\n"
     ]
    },
    {
     "name": "stdout",
     "output_type": "stream",
     "text": [
      "Updating extended object track =  2\n",
      "Updating extended object track =  0\n",
      "Updating extended object track =  1\n",
      "Updating extended object track =  2\n"
     ]
    },
    {
     "name": "stderr",
     "output_type": "stream",
     "text": [
      "C:\\Users\\gadli\\Anaconda3\\lib\\site-packages\\nuscenes\\map_expansion\\map_api.py:1823: ShapelyDeprecationWarning: Iteration over multi-part geometries is deprecated and will be removed in Shapely 2.0. Use the `geoms` property to access the constituent parts of a multi-part geometry.\n",
      "  exteriors = [int_coords(poly.exterior.coords) for poly in polygons]\n",
      "C:\\Users\\gadli\\Anaconda3\\lib\\site-packages\\nuscenes\\map_expansion\\map_api.py:1824: ShapelyDeprecationWarning: Iteration over multi-part geometries is deprecated and will be removed in Shapely 2.0. Use the `geoms` property to access the constituent parts of a multi-part geometry.\n",
      "  interiors = [int_coords(pi.coords) for poly in polygons for pi in poly.interiors]\n"
     ]
    },
    {
     "name": "stdout",
     "output_type": "stream",
     "text": [
      "{'pf_best_pos': array([ 619.80344996, 1634.52628269]), 'pf_best_theta': -0.6445554141578484, 'pf_mean_pos': array([ 619.77599422, 1634.54450908]), 'pf_mean_theta': -0.6445553176336898}\n",
      "frame 33\n",
      "Number of point tracks before run() 98\n",
      "Number of extended tracks before run() 3\n"
     ]
    },
    {
     "name": "stderr",
     "output_type": "stream",
     "text": [
      "C:\\Users\\gadli\\old_pc\\Tau\\Thesis\\polynoms\\tracker.py:94: VisibleDeprecationWarning: Creating an ndarray from ragged nested sequences (which is a list-or-tuple of lists-or-tuples-or ndarrays with different lengths or shapes) is deprecated. If you meant to do this, you must specify 'dtype=object' when creating the ndarray\n",
      "  Ha = np.array([1, z[0], z[0]**2])\n",
      "C:\\Users\\gadli\\old_pc\\Tau\\Thesis\\polynoms\\tracker.py:117: RuntimeWarning: divide by zero encountered in double_scalars\n",
      "  ratio = np.sqrt(lp)/le\n"
     ]
    },
    {
     "name": "stdout",
     "output_type": "stream",
     "text": [
      "Updating extended object track =  2\n",
      "Updating extended object track =  2\n",
      "Updating extended object track =  2\n"
     ]
    },
    {
     "name": "stderr",
     "output_type": "stream",
     "text": [
      "C:\\Users\\gadli\\Anaconda3\\lib\\site-packages\\nuscenes\\map_expansion\\map_api.py:1823: ShapelyDeprecationWarning: Iteration over multi-part geometries is deprecated and will be removed in Shapely 2.0. Use the `geoms` property to access the constituent parts of a multi-part geometry.\n",
      "  exteriors = [int_coords(poly.exterior.coords) for poly in polygons]\n",
      "C:\\Users\\gadli\\Anaconda3\\lib\\site-packages\\nuscenes\\map_expansion\\map_api.py:1824: ShapelyDeprecationWarning: Iteration over multi-part geometries is deprecated and will be removed in Shapely 2.0. Use the `geoms` property to access the constituent parts of a multi-part geometry.\n",
      "  interiors = [int_coords(pi.coords) for poly in polygons for pi in poly.interiors]\n"
     ]
    },
    {
     "name": "stdout",
     "output_type": "stream",
     "text": [
      "{'pf_best_pos': array([ 620.11018691, 1634.28516267]), 'pf_best_theta': -0.6498795097235068, 'pf_mean_pos': array([ 620.24916813, 1634.17784187]), 'pf_mean_theta': -0.6498794301882661}\n",
      "frame 34\n",
      "Number of point tracks before run() 95\n",
      "Number of extended tracks before run() 3\n"
     ]
    },
    {
     "name": "stderr",
     "output_type": "stream",
     "text": [
      "C:\\Users\\gadli\\old_pc\\Tau\\Thesis\\polynoms\\tracker.py:94: VisibleDeprecationWarning: Creating an ndarray from ragged nested sequences (which is a list-or-tuple of lists-or-tuples-or ndarrays with different lengths or shapes) is deprecated. If you meant to do this, you must specify 'dtype=object' when creating the ndarray\n",
      "  Ha = np.array([1, z[0], z[0]**2])\n",
      "C:\\Users\\gadli\\old_pc\\Tau\\Thesis\\polynoms\\tracker.py:117: RuntimeWarning: divide by zero encountered in double_scalars\n",
      "  ratio = np.sqrt(lp)/le\n"
     ]
    },
    {
     "name": "stdout",
     "output_type": "stream",
     "text": [
      "Updating extended object track =  0\n",
      "Updating extended object track =  2\n",
      "Updating extended object track =  2\n"
     ]
    },
    {
     "name": "stderr",
     "output_type": "stream",
     "text": [
      "C:\\Users\\gadli\\Anaconda3\\lib\\site-packages\\nuscenes\\map_expansion\\map_api.py:1823: ShapelyDeprecationWarning: Iteration over multi-part geometries is deprecated and will be removed in Shapely 2.0. Use the `geoms` property to access the constituent parts of a multi-part geometry.\n",
      "  exteriors = [int_coords(poly.exterior.coords) for poly in polygons]\n",
      "C:\\Users\\gadli\\Anaconda3\\lib\\site-packages\\nuscenes\\map_expansion\\map_api.py:1824: ShapelyDeprecationWarning: Iteration over multi-part geometries is deprecated and will be removed in Shapely 2.0. Use the `geoms` property to access the constituent parts of a multi-part geometry.\n",
      "  interiors = [int_coords(pi.coords) for poly in polygons for pi in poly.interiors]\n"
     ]
    },
    {
     "name": "stdout",
     "output_type": "stream",
     "text": [
      "{'pf_best_pos': array([ 620.51730365, 1633.9578216 ]), 'pf_best_theta': -0.6548025436878939, 'pf_mean_pos': array([ 620.77618167, 1633.7640677 ]), 'pf_mean_theta': -0.6548025359617875}\n",
      "frame 35\n",
      "Number of point tracks before run() 95\n",
      "Number of extended tracks before run() 3\n",
      "Updating extended object track =  0\n",
      "Updating extended object track =  2\n"
     ]
    },
    {
     "name": "stderr",
     "output_type": "stream",
     "text": [
      "C:\\Users\\gadli\\old_pc\\Tau\\Thesis\\polynoms\\tracker.py:94: VisibleDeprecationWarning: Creating an ndarray from ragged nested sequences (which is a list-or-tuple of lists-or-tuples-or ndarrays with different lengths or shapes) is deprecated. If you meant to do this, you must specify 'dtype=object' when creating the ndarray\n",
      "  Ha = np.array([1, z[0], z[0]**2])\n",
      "C:\\Users\\gadli\\old_pc\\Tau\\Thesis\\polynoms\\tracker.py:117: RuntimeWarning: divide by zero encountered in double_scalars\n",
      "  ratio = np.sqrt(lp)/le\n",
      "C:\\Users\\gadli\\Anaconda3\\lib\\site-packages\\nuscenes\\map_expansion\\map_api.py:1823: ShapelyDeprecationWarning: Iteration over multi-part geometries is deprecated and will be removed in Shapely 2.0. Use the `geoms` property to access the constituent parts of a multi-part geometry.\n",
      "  exteriors = [int_coords(poly.exterior.coords) for poly in polygons]\n",
      "C:\\Users\\gadli\\Anaconda3\\lib\\site-packages\\nuscenes\\map_expansion\\map_api.py:1824: ShapelyDeprecationWarning: Iteration over multi-part geometries is deprecated and will be removed in Shapely 2.0. Use the `geoms` property to access the constituent parts of a multi-part geometry.\n",
      "  interiors = [int_coords(pi.coords) for poly in polygons for pi in poly.interiors]\n"
     ]
    },
    {
     "name": "stdout",
     "output_type": "stream",
     "text": [
      "{'pf_best_pos': array([ 621.89011717, 1632.87951983]), 'pf_best_theta': -0.6621201836883412, 'pf_mean_pos': array([ 621.7802017 , 1632.96870512]), 'pf_mean_theta': -0.6621200787009818}\n",
      "frame 36\n",
      "Number of point tracks before run() 102\n",
      "Number of extended tracks before run() 3\n"
     ]
    },
    {
     "name": "stderr",
     "output_type": "stream",
     "text": [
      "C:\\Users\\gadli\\old_pc\\Tau\\Thesis\\polynoms\\tracker.py:94: VisibleDeprecationWarning: Creating an ndarray from ragged nested sequences (which is a list-or-tuple of lists-or-tuples-or ndarrays with different lengths or shapes) is deprecated. If you meant to do this, you must specify 'dtype=object' when creating the ndarray\n",
      "  Ha = np.array([1, z[0], z[0]**2])\n",
      "C:\\Users\\gadli\\old_pc\\Tau\\Thesis\\polynoms\\tracker.py:117: RuntimeWarning: divide by zero encountered in double_scalars\n",
      "  ratio = np.sqrt(lp)/le\n"
     ]
    },
    {
     "name": "stdout",
     "output_type": "stream",
     "text": [
      "Updating extended object track =  0\n",
      "Updating extended object track =  1\n"
     ]
    },
    {
     "name": "stderr",
     "output_type": "stream",
     "text": [
      "C:\\Users\\gadli\\Anaconda3\\lib\\site-packages\\nuscenes\\map_expansion\\map_api.py:1823: ShapelyDeprecationWarning: Iteration over multi-part geometries is deprecated and will be removed in Shapely 2.0. Use the `geoms` property to access the constituent parts of a multi-part geometry.\n",
      "  exteriors = [int_coords(poly.exterior.coords) for poly in polygons]\n",
      "C:\\Users\\gadli\\Anaconda3\\lib\\site-packages\\nuscenes\\map_expansion\\map_api.py:1824: ShapelyDeprecationWarning: Iteration over multi-part geometries is deprecated and will be removed in Shapely 2.0. Use the `geoms` property to access the constituent parts of a multi-part geometry.\n",
      "  interiors = [int_coords(pi.coords) for poly in polygons for pi in poly.interiors]\n"
     ]
    },
    {
     "name": "stdout",
     "output_type": "stream",
     "text": [
      "{'pf_best_pos': array([ 621.70332947, 1633.01666994]), 'pf_best_theta': -0.6639264106134934, 'pf_mean_pos': array([ 622.30593828, 1632.54988091]), 'pf_mean_theta': -0.663926344434873}\n",
      "frame 37\n",
      "Number of point tracks before run() 105\n",
      "Number of extended tracks before run() 3\n"
     ]
    },
    {
     "name": "stderr",
     "output_type": "stream",
     "text": [
      "C:\\Users\\gadli\\old_pc\\Tau\\Thesis\\polynoms\\tracker.py:94: VisibleDeprecationWarning: Creating an ndarray from ragged nested sequences (which is a list-or-tuple of lists-or-tuples-or ndarrays with different lengths or shapes) is deprecated. If you meant to do this, you must specify 'dtype=object' when creating the ndarray\n",
      "  Ha = np.array([1, z[0], z[0]**2])\n",
      "C:\\Users\\gadli\\old_pc\\Tau\\Thesis\\polynoms\\tracker.py:117: RuntimeWarning: divide by zero encountered in double_scalars\n",
      "  ratio = np.sqrt(lp)/le\n"
     ]
    },
    {
     "name": "stdout",
     "output_type": "stream",
     "text": [
      "Updating extended object track =  0\n",
      "Updating extended object track =  1\n"
     ]
    },
    {
     "name": "stderr",
     "output_type": "stream",
     "text": [
      "C:\\Users\\gadli\\Anaconda3\\lib\\site-packages\\nuscenes\\map_expansion\\map_api.py:1823: ShapelyDeprecationWarning: Iteration over multi-part geometries is deprecated and will be removed in Shapely 2.0. Use the `geoms` property to access the constituent parts of a multi-part geometry.\n",
      "  exteriors = [int_coords(poly.exterior.coords) for poly in polygons]\n",
      "C:\\Users\\gadli\\Anaconda3\\lib\\site-packages\\nuscenes\\map_expansion\\map_api.py:1824: ShapelyDeprecationWarning: Iteration over multi-part geometries is deprecated and will be removed in Shapely 2.0. Use the `geoms` property to access the constituent parts of a multi-part geometry.\n",
      "  interiors = [int_coords(pi.coords) for poly in polygons for pi in poly.interiors]\n"
     ]
    },
    {
     "name": "stdout",
     "output_type": "stream",
     "text": [
      "{'pf_best_pos': array([ 622.93127679, 1632.08021579]), 'pf_best_theta': -0.6678144449106309, 'pf_mean_pos': array([ 622.81353266, 1632.13522751]), 'pf_mean_theta': -0.667814413706259}\n",
      "frame 38\n",
      "Number of point tracks before run() 101\n",
      "Number of extended tracks before run() 3\n"
     ]
    },
    {
     "name": "stderr",
     "output_type": "stream",
     "text": [
      "C:\\Users\\gadli\\old_pc\\Tau\\Thesis\\polynoms\\tracker.py:94: VisibleDeprecationWarning: Creating an ndarray from ragged nested sequences (which is a list-or-tuple of lists-or-tuples-or ndarrays with different lengths or shapes) is deprecated. If you meant to do this, you must specify 'dtype=object' when creating the ndarray\n",
      "  Ha = np.array([1, z[0], z[0]**2])\n",
      "C:\\Users\\gadli\\old_pc\\Tau\\Thesis\\polynoms\\tracker.py:117: RuntimeWarning: divide by zero encountered in double_scalars\n",
      "  ratio = np.sqrt(lp)/le\n"
     ]
    },
    {
     "name": "stdout",
     "output_type": "stream",
     "text": [
      "Updating extended object track =  1\n",
      "Updating extended object track =  2\n"
     ]
    },
    {
     "name": "stderr",
     "output_type": "stream",
     "text": [
      "C:\\Users\\gadli\\Anaconda3\\lib\\site-packages\\nuscenes\\map_expansion\\map_api.py:1823: ShapelyDeprecationWarning: Iteration over multi-part geometries is deprecated and will be removed in Shapely 2.0. Use the `geoms` property to access the constituent parts of a multi-part geometry.\n",
      "  exteriors = [int_coords(poly.exterior.coords) for poly in polygons]\n",
      "C:\\Users\\gadli\\Anaconda3\\lib\\site-packages\\nuscenes\\map_expansion\\map_api.py:1824: ShapelyDeprecationWarning: Iteration over multi-part geometries is deprecated and will be removed in Shapely 2.0. Use the `geoms` property to access the constituent parts of a multi-part geometry.\n",
      "  interiors = [int_coords(pi.coords) for poly in polygons for pi in poly.interiors]\n"
     ]
    },
    {
     "name": "stdout",
     "output_type": "stream",
     "text": [
      "{'pf_best_pos': array([ 623.18081129, 1631.85104683]), 'pf_best_theta': -0.6699070009110071, 'pf_mean_pos': array([ 623.25866396, 1631.78382701]), 'pf_mean_theta': -0.6699069267905775}\n",
      "frame 39\n",
      "Number of point tracks before run() 97\n",
      "Number of extended tracks before run() 3\n"
     ]
    },
    {
     "name": "stderr",
     "output_type": "stream",
     "text": [
      "C:\\Users\\gadli\\old_pc\\Tau\\Thesis\\polynoms\\tracker.py:94: VisibleDeprecationWarning: Creating an ndarray from ragged nested sequences (which is a list-or-tuple of lists-or-tuples-or ndarrays with different lengths or shapes) is deprecated. If you meant to do this, you must specify 'dtype=object' when creating the ndarray\n",
      "  Ha = np.array([1, z[0], z[0]**2])\n",
      "C:\\Users\\gadli\\old_pc\\Tau\\Thesis\\polynoms\\tracker.py:117: RuntimeWarning: divide by zero encountered in double_scalars\n",
      "  ratio = np.sqrt(lp)/le\n"
     ]
    },
    {
     "name": "stdout",
     "output_type": "stream",
     "text": [
      "Updating extended object track =  1\n",
      "Updating extended object track =  2\n"
     ]
    },
    {
     "name": "stderr",
     "output_type": "stream",
     "text": [
      "C:\\Users\\gadli\\Anaconda3\\lib\\site-packages\\nuscenes\\map_expansion\\map_api.py:1823: ShapelyDeprecationWarning: Iteration over multi-part geometries is deprecated and will be removed in Shapely 2.0. Use the `geoms` property to access the constituent parts of a multi-part geometry.\n",
      "  exteriors = [int_coords(poly.exterior.coords) for poly in polygons]\n",
      "C:\\Users\\gadli\\Anaconda3\\lib\\site-packages\\nuscenes\\map_expansion\\map_api.py:1824: ShapelyDeprecationWarning: Iteration over multi-part geometries is deprecated and will be removed in Shapely 2.0. Use the `geoms` property to access the constituent parts of a multi-part geometry.\n",
      "  interiors = [int_coords(pi.coords) for poly in polygons for pi in poly.interiors]\n"
     ]
    },
    {
     "name": "stdout",
     "output_type": "stream",
     "text": [
      "{'pf_best_pos': array([ 625.0266999 , 1630.37487241]), 'pf_best_theta': -0.6738731449096553, 'pf_mean_pos': array([ 623.74443353, 1631.38348342]), 'pf_mean_theta': -0.673873162484957}\n",
      "frame 40\n",
      "Number of point tracks before run() 98\n",
      "Number of extended tracks before run() 3\n",
      "Updating extended object track =  0\n"
     ]
    },
    {
     "name": "stderr",
     "output_type": "stream",
     "text": [
      "C:\\Users\\gadli\\old_pc\\Tau\\Thesis\\polynoms\\tracker.py:94: VisibleDeprecationWarning: Creating an ndarray from ragged nested sequences (which is a list-or-tuple of lists-or-tuples-or ndarrays with different lengths or shapes) is deprecated. If you meant to do this, you must specify 'dtype=object' when creating the ndarray\n",
      "  Ha = np.array([1, z[0], z[0]**2])\n",
      "C:\\Users\\gadli\\old_pc\\Tau\\Thesis\\polynoms\\tracker.py:117: RuntimeWarning: divide by zero encountered in double_scalars\n",
      "  ratio = np.sqrt(lp)/le\n",
      "C:\\Users\\gadli\\Anaconda3\\lib\\site-packages\\nuscenes\\map_expansion\\map_api.py:1823: ShapelyDeprecationWarning: Iteration over multi-part geometries is deprecated and will be removed in Shapely 2.0. Use the `geoms` property to access the constituent parts of a multi-part geometry.\n",
      "  exteriors = [int_coords(poly.exterior.coords) for poly in polygons]\n",
      "C:\\Users\\gadli\\Anaconda3\\lib\\site-packages\\nuscenes\\map_expansion\\map_api.py:1824: ShapelyDeprecationWarning: Iteration over multi-part geometries is deprecated and will be removed in Shapely 2.0. Use the `geoms` property to access the constituent parts of a multi-part geometry.\n",
      "  interiors = [int_coords(pi.coords) for poly in polygons for pi in poly.interiors]\n"
     ]
    },
    {
     "name": "stdout",
     "output_type": "stream",
     "text": [
      "{'pf_best_pos': array([ 625.46752761, 1629.98063392]), 'pf_best_theta': -0.6760398512836474, 'pf_mean_pos': array([ 624.21116677, 1630.99739065]), 'pf_mean_theta': -0.6760398364464764}\n",
      "frame 41\n",
      "Number of point tracks before run() 94\n",
      "Number of extended tracks before run() 3\n",
      "Updating extended object track =  0\n"
     ]
    },
    {
     "name": "stderr",
     "output_type": "stream",
     "text": [
      "C:\\Users\\gadli\\old_pc\\Tau\\Thesis\\polynoms\\tracker.py:94: VisibleDeprecationWarning: Creating an ndarray from ragged nested sequences (which is a list-or-tuple of lists-or-tuples-or ndarrays with different lengths or shapes) is deprecated. If you meant to do this, you must specify 'dtype=object' when creating the ndarray\n",
      "  Ha = np.array([1, z[0], z[0]**2])\n",
      "C:\\Users\\gadli\\old_pc\\Tau\\Thesis\\polynoms\\tracker.py:117: RuntimeWarning: divide by zero encountered in double_scalars\n",
      "  ratio = np.sqrt(lp)/le\n",
      "C:\\Users\\gadli\\Anaconda3\\lib\\site-packages\\nuscenes\\map_expansion\\map_api.py:1823: ShapelyDeprecationWarning: Iteration over multi-part geometries is deprecated and will be removed in Shapely 2.0. Use the `geoms` property to access the constituent parts of a multi-part geometry.\n",
      "  exteriors = [int_coords(poly.exterior.coords) for poly in polygons]\n",
      "C:\\Users\\gadli\\Anaconda3\\lib\\site-packages\\nuscenes\\map_expansion\\map_api.py:1824: ShapelyDeprecationWarning: Iteration over multi-part geometries is deprecated and will be removed in Shapely 2.0. Use the `geoms` property to access the constituent parts of a multi-part geometry.\n",
      "  interiors = [int_coords(pi.coords) for poly in polygons for pi in poly.interiors]\n"
     ]
    },
    {
     "name": "stdout",
     "output_type": "stream",
     "text": [
      "{'pf_best_pos': array([ 625.35362465, 1630.04581744]), 'pf_best_theta': -0.6804212952583772, 'pf_mean_pos': array([ 625.13633697, 1630.20122755]), 'pf_mean_theta': -0.6804213632630158}\n",
      "frame 42\n",
      "Number of point tracks before run() 92\n",
      "Number of extended tracks before run() 3\n"
     ]
    },
    {
     "name": "stderr",
     "output_type": "stream",
     "text": [
      "C:\\Users\\gadli\\old_pc\\Tau\\Thesis\\polynoms\\tracker.py:94: VisibleDeprecationWarning: Creating an ndarray from ragged nested sequences (which is a list-or-tuple of lists-or-tuples-or ndarrays with different lengths or shapes) is deprecated. If you meant to do this, you must specify 'dtype=object' when creating the ndarray\n",
      "  Ha = np.array([1, z[0], z[0]**2])\n",
      "C:\\Users\\gadli\\old_pc\\Tau\\Thesis\\polynoms\\tracker.py:117: RuntimeWarning: divide by zero encountered in double_scalars\n",
      "  ratio = np.sqrt(lp)/le\n",
      "C:\\Users\\gadli\\Anaconda3\\lib\\site-packages\\nuscenes\\map_expansion\\map_api.py:1823: ShapelyDeprecationWarning: Iteration over multi-part geometries is deprecated and will be removed in Shapely 2.0. Use the `geoms` property to access the constituent parts of a multi-part geometry.\n",
      "  exteriors = [int_coords(poly.exterior.coords) for poly in polygons]\n",
      "C:\\Users\\gadli\\Anaconda3\\lib\\site-packages\\nuscenes\\map_expansion\\map_api.py:1824: ShapelyDeprecationWarning: Iteration over multi-part geometries is deprecated and will be removed in Shapely 2.0. Use the `geoms` property to access the constituent parts of a multi-part geometry.\n",
      "  interiors = [int_coords(pi.coords) for poly in polygons for pi in poly.interiors]\n"
     ]
    },
    {
     "name": "stdout",
     "output_type": "stream",
     "text": [
      "{'pf_best_pos': array([ 625.9696237, 1629.5262971]), 'pf_best_theta': -0.6822401125899802, 'pf_mean_pos': array([ 625.73783374, 1629.70263311]), 'pf_mean_theta': -0.6822399936875642}\n",
      "frame 43\n",
      "Number of point tracks before run() 86\n",
      "Number of extended tracks before run() 3\n"
     ]
    },
    {
     "name": "stderr",
     "output_type": "stream",
     "text": [
      "C:\\Users\\gadli\\old_pc\\Tau\\Thesis\\polynoms\\tracker.py:94: VisibleDeprecationWarning: Creating an ndarray from ragged nested sequences (which is a list-or-tuple of lists-or-tuples-or ndarrays with different lengths or shapes) is deprecated. If you meant to do this, you must specify 'dtype=object' when creating the ndarray\n",
      "  Ha = np.array([1, z[0], z[0]**2])\n",
      "C:\\Users\\gadli\\old_pc\\Tau\\Thesis\\polynoms\\tracker.py:117: RuntimeWarning: divide by zero encountered in double_scalars\n",
      "  ratio = np.sqrt(lp)/le\n"
     ]
    },
    {
     "name": "stdout",
     "output_type": "stream",
     "text": [
      "Updating extended object track =  1\n",
      "Updating extended object track =  1\n"
     ]
    },
    {
     "name": "stderr",
     "output_type": "stream",
     "text": [
      "C:\\Users\\gadli\\Anaconda3\\lib\\site-packages\\nuscenes\\map_expansion\\map_api.py:1823: ShapelyDeprecationWarning: Iteration over multi-part geometries is deprecated and will be removed in Shapely 2.0. Use the `geoms` property to access the constituent parts of a multi-part geometry.\n",
      "  exteriors = [int_coords(poly.exterior.coords) for poly in polygons]\n",
      "C:\\Users\\gadli\\Anaconda3\\lib\\site-packages\\nuscenes\\map_expansion\\map_api.py:1824: ShapelyDeprecationWarning: Iteration over multi-part geometries is deprecated and will be removed in Shapely 2.0. Use the `geoms` property to access the constituent parts of a multi-part geometry.\n",
      "  interiors = [int_coords(pi.coords) for poly in polygons for pi in poly.interiors]\n"
     ]
    },
    {
     "name": "stdout",
     "output_type": "stream",
     "text": [
      "{'pf_best_pos': array([ 625.3220364 , 1629.99674173]), 'pf_best_theta': -0.6839279719856171, 'pf_mean_pos': array([ 626.21418864, 1629.30371913]), 'pf_mean_theta': -0.6839279619080272}\n",
      "frame 44\n",
      "Number of point tracks before run() 91\n",
      "Number of extended tracks before run() 3\n"
     ]
    },
    {
     "name": "stderr",
     "output_type": "stream",
     "text": [
      "C:\\Users\\gadli\\old_pc\\Tau\\Thesis\\polynoms\\tracker.py:94: VisibleDeprecationWarning: Creating an ndarray from ragged nested sequences (which is a list-or-tuple of lists-or-tuples-or ndarrays with different lengths or shapes) is deprecated. If you meant to do this, you must specify 'dtype=object' when creating the ndarray\n",
      "  Ha = np.array([1, z[0], z[0]**2])\n",
      "C:\\Users\\gadli\\old_pc\\Tau\\Thesis\\polynoms\\tracker.py:117: RuntimeWarning: divide by zero encountered in double_scalars\n",
      "  ratio = np.sqrt(lp)/le\n",
      "C:\\Users\\gadli\\Anaconda3\\lib\\site-packages\\nuscenes\\map_expansion\\map_api.py:1823: ShapelyDeprecationWarning: Iteration over multi-part geometries is deprecated and will be removed in Shapely 2.0. Use the `geoms` property to access the constituent parts of a multi-part geometry.\n",
      "  exteriors = [int_coords(poly.exterior.coords) for poly in polygons]\n",
      "C:\\Users\\gadli\\Anaconda3\\lib\\site-packages\\nuscenes\\map_expansion\\map_api.py:1824: ShapelyDeprecationWarning: Iteration over multi-part geometries is deprecated and will be removed in Shapely 2.0. Use the `geoms` property to access the constituent parts of a multi-part geometry.\n",
      "  interiors = [int_coords(pi.coords) for poly in polygons for pi in poly.interiors]\n"
     ]
    },
    {
     "name": "stdout",
     "output_type": "stream",
     "text": [
      "{'pf_best_pos': array([ 626.76109132, 1628.86263741]), 'pf_best_theta': -0.6858254095309362, 'pf_mean_pos': array([ 626.71104885, 1628.87824197]), 'pf_mean_theta': -0.6858255081879063}\n",
      "frame 45\n",
      "Number of point tracks before run() 94\n",
      "Number of extended tracks before run() 3\n"
     ]
    },
    {
     "name": "stderr",
     "output_type": "stream",
     "text": [
      "C:\\Users\\gadli\\old_pc\\Tau\\Thesis\\polynoms\\tracker.py:94: VisibleDeprecationWarning: Creating an ndarray from ragged nested sequences (which is a list-or-tuple of lists-or-tuples-or ndarrays with different lengths or shapes) is deprecated. If you meant to do this, you must specify 'dtype=object' when creating the ndarray\n",
      "  Ha = np.array([1, z[0], z[0]**2])\n",
      "C:\\Users\\gadli\\old_pc\\Tau\\Thesis\\polynoms\\tracker.py:117: RuntimeWarning: divide by zero encountered in double_scalars\n",
      "  ratio = np.sqrt(lp)/le\n"
     ]
    },
    {
     "name": "stdout",
     "output_type": "stream",
     "text": [
      "Updating extended object track =  1\n"
     ]
    },
    {
     "name": "stderr",
     "output_type": "stream",
     "text": [
      "C:\\Users\\gadli\\Anaconda3\\lib\\site-packages\\nuscenes\\map_expansion\\map_api.py:1823: ShapelyDeprecationWarning: Iteration over multi-part geometries is deprecated and will be removed in Shapely 2.0. Use the `geoms` property to access the constituent parts of a multi-part geometry.\n",
      "  exteriors = [int_coords(poly.exterior.coords) for poly in polygons]\n",
      "C:\\Users\\gadli\\Anaconda3\\lib\\site-packages\\nuscenes\\map_expansion\\map_api.py:1824: ShapelyDeprecationWarning: Iteration over multi-part geometries is deprecated and will be removed in Shapely 2.0. Use the `geoms` property to access the constituent parts of a multi-part geometry.\n",
      "  interiors = [int_coords(pi.coords) for poly in polygons for pi in poly.interiors]\n"
     ]
    },
    {
     "name": "stdout",
     "output_type": "stream",
     "text": [
      "{'pf_best_pos': array([ 626.08071055, 1629.4017336 ]), 'pf_best_theta': -0.6872865343734329, 'pf_mean_pos': array([ 627.16353249, 1628.49345284]), 'pf_mean_theta': -0.6872866505662155}\n",
      "frame 46\n",
      "Number of point tracks before run() 96\n",
      "Number of extended tracks before run() 3\n"
     ]
    },
    {
     "name": "stderr",
     "output_type": "stream",
     "text": [
      "C:\\Users\\gadli\\old_pc\\Tau\\Thesis\\polynoms\\tracker.py:94: VisibleDeprecationWarning: Creating an ndarray from ragged nested sequences (which is a list-or-tuple of lists-or-tuples-or ndarrays with different lengths or shapes) is deprecated. If you meant to do this, you must specify 'dtype=object' when creating the ndarray\n",
      "  Ha = np.array([1, z[0], z[0]**2])\n",
      "C:\\Users\\gadli\\old_pc\\Tau\\Thesis\\polynoms\\tracker.py:117: RuntimeWarning: divide by zero encountered in double_scalars\n",
      "  ratio = np.sqrt(lp)/le\n"
     ]
    },
    {
     "name": "stdout",
     "output_type": "stream",
     "text": [
      "Updating extended object track =  1\n"
     ]
    },
    {
     "name": "stderr",
     "output_type": "stream",
     "text": [
      "C:\\Users\\gadli\\Anaconda3\\lib\\site-packages\\nuscenes\\map_expansion\\map_api.py:1823: ShapelyDeprecationWarning: Iteration over multi-part geometries is deprecated and will be removed in Shapely 2.0. Use the `geoms` property to access the constituent parts of a multi-part geometry.\n",
      "  exteriors = [int_coords(poly.exterior.coords) for poly in polygons]\n",
      "C:\\Users\\gadli\\Anaconda3\\lib\\site-packages\\nuscenes\\map_expansion\\map_api.py:1824: ShapelyDeprecationWarning: Iteration over multi-part geometries is deprecated and will be removed in Shapely 2.0. Use the `geoms` property to access the constituent parts of a multi-part geometry.\n",
      "  interiors = [int_coords(pi.coords) for poly in polygons for pi in poly.interiors]\n"
     ]
    },
    {
     "name": "stdout",
     "output_type": "stream",
     "text": [
      "{'pf_best_pos': array([ 627.51291605, 1628.20655399]), 'pf_best_theta': -0.6902631868994082, 'pf_mean_pos': array([ 627.7066287 , 1628.02045913]), 'pf_mean_theta': -0.6902631441135074}\n",
      "frame 47\n",
      "Number of point tracks before run() 96\n",
      "Number of extended tracks before run() 2\n"
     ]
    },
    {
     "name": "stderr",
     "output_type": "stream",
     "text": [
      "C:\\Users\\gadli\\old_pc\\Tau\\Thesis\\polynoms\\tracker.py:94: VisibleDeprecationWarning: Creating an ndarray from ragged nested sequences (which is a list-or-tuple of lists-or-tuples-or ndarrays with different lengths or shapes) is deprecated. If you meant to do this, you must specify 'dtype=object' when creating the ndarray\n",
      "  Ha = np.array([1, z[0], z[0]**2])\n",
      "C:\\Users\\gadli\\old_pc\\Tau\\Thesis\\polynoms\\tracker.py:117: RuntimeWarning: divide by zero encountered in double_scalars\n",
      "  ratio = np.sqrt(lp)/le\n",
      "C:\\Users\\gadli\\Anaconda3\\lib\\site-packages\\nuscenes\\map_expansion\\map_api.py:1823: ShapelyDeprecationWarning: Iteration over multi-part geometries is deprecated and will be removed in Shapely 2.0. Use the `geoms` property to access the constituent parts of a multi-part geometry.\n",
      "  exteriors = [int_coords(poly.exterior.coords) for poly in polygons]\n",
      "C:\\Users\\gadli\\Anaconda3\\lib\\site-packages\\nuscenes\\map_expansion\\map_api.py:1824: ShapelyDeprecationWarning: Iteration over multi-part geometries is deprecated and will be removed in Shapely 2.0. Use the `geoms` property to access the constituent parts of a multi-part geometry.\n",
      "  interiors = [int_coords(pi.coords) for poly in polygons for pi in poly.interiors]\n"
     ]
    },
    {
     "name": "stdout",
     "output_type": "stream",
     "text": [
      "{'pf_best_pos': array([ 628.34130747, 1627.50028991]), 'pf_best_theta': -0.6926844721770209, 'pf_mean_pos': array([ 628.67895647, 1627.18694989]), 'pf_mean_theta': -0.6926845632091571}\n",
      "frame 48\n",
      "Number of point tracks before run() 100\n",
      "Number of extended tracks before run() 2\n"
     ]
    },
    {
     "name": "stderr",
     "output_type": "stream",
     "text": [
      "C:\\Users\\gadli\\old_pc\\Tau\\Thesis\\polynoms\\tracker.py:94: VisibleDeprecationWarning: Creating an ndarray from ragged nested sequences (which is a list-or-tuple of lists-or-tuples-or ndarrays with different lengths or shapes) is deprecated. If you meant to do this, you must specify 'dtype=object' when creating the ndarray\n",
      "  Ha = np.array([1, z[0], z[0]**2])\n",
      "C:\\Users\\gadli\\old_pc\\Tau\\Thesis\\polynoms\\tracker.py:117: RuntimeWarning: divide by zero encountered in double_scalars\n",
      "  ratio = np.sqrt(lp)/le\n",
      "C:\\Users\\gadli\\Anaconda3\\lib\\site-packages\\nuscenes\\map_expansion\\map_api.py:1823: ShapelyDeprecationWarning: Iteration over multi-part geometries is deprecated and will be removed in Shapely 2.0. Use the `geoms` property to access the constituent parts of a multi-part geometry.\n",
      "  exteriors = [int_coords(poly.exterior.coords) for poly in polygons]\n",
      "C:\\Users\\gadli\\Anaconda3\\lib\\site-packages\\nuscenes\\map_expansion\\map_api.py:1824: ShapelyDeprecationWarning: Iteration over multi-part geometries is deprecated and will be removed in Shapely 2.0. Use the `geoms` property to access the constituent parts of a multi-part geometry.\n",
      "  interiors = [int_coords(pi.coords) for poly in polygons for pi in poly.interiors]\n"
     ]
    },
    {
     "name": "stdout",
     "output_type": "stream",
     "text": [
      "{'pf_best_pos': array([ 629.13591609, 1626.81131362]), 'pf_best_theta': -0.6939832053715542, 'pf_mean_pos': array([ 629.19309284, 1626.7416603 ]), 'pf_mean_theta': -0.6939832679553705}\n",
      "frame 49\n",
      "Number of point tracks before run() 99\n",
      "Number of extended tracks before run() 1\n"
     ]
    },
    {
     "name": "stderr",
     "output_type": "stream",
     "text": [
      "C:\\Users\\gadli\\old_pc\\Tau\\Thesis\\polynoms\\tracker.py:94: VisibleDeprecationWarning: Creating an ndarray from ragged nested sequences (which is a list-or-tuple of lists-or-tuples-or ndarrays with different lengths or shapes) is deprecated. If you meant to do this, you must specify 'dtype=object' when creating the ndarray\n",
      "  Ha = np.array([1, z[0], z[0]**2])\n",
      "C:\\Users\\gadli\\old_pc\\Tau\\Thesis\\polynoms\\tracker.py:117: RuntimeWarning: divide by zero encountered in double_scalars\n",
      "  ratio = np.sqrt(lp)/le\n",
      "C:\\Users\\gadli\\Anaconda3\\lib\\site-packages\\nuscenes\\map_expansion\\map_api.py:1823: ShapelyDeprecationWarning: Iteration over multi-part geometries is deprecated and will be removed in Shapely 2.0. Use the `geoms` property to access the constituent parts of a multi-part geometry.\n",
      "  exteriors = [int_coords(poly.exterior.coords) for poly in polygons]\n",
      "C:\\Users\\gadli\\Anaconda3\\lib\\site-packages\\nuscenes\\map_expansion\\map_api.py:1824: ShapelyDeprecationWarning: Iteration over multi-part geometries is deprecated and will be removed in Shapely 2.0. Use the `geoms` property to access the constituent parts of a multi-part geometry.\n",
      "  interiors = [int_coords(pi.coords) for poly in polygons for pi in poly.interiors]\n"
     ]
    },
    {
     "name": "stdout",
     "output_type": "stream",
     "text": [
      "{'pf_best_pos': array([ 628.6787418 , 1627.17047388]), 'pf_best_theta': -0.6944761504203161, 'pf_mean_pos': array([ 629.72730042, 1626.28891848]), 'pf_mean_theta': -0.6944762564039473}\n",
      "frame 50\n",
      "Number of point tracks before run() 98\n",
      "Number of extended tracks before run() 1\n"
     ]
    },
    {
     "name": "stderr",
     "output_type": "stream",
     "text": [
      "C:\\Users\\gadli\\old_pc\\Tau\\Thesis\\polynoms\\tracker.py:94: VisibleDeprecationWarning: Creating an ndarray from ragged nested sequences (which is a list-or-tuple of lists-or-tuples-or ndarrays with different lengths or shapes) is deprecated. If you meant to do this, you must specify 'dtype=object' when creating the ndarray\n",
      "  Ha = np.array([1, z[0], z[0]**2])\n",
      "C:\\Users\\gadli\\old_pc\\Tau\\Thesis\\polynoms\\tracker.py:117: RuntimeWarning: divide by zero encountered in double_scalars\n",
      "  ratio = np.sqrt(lp)/le\n",
      "C:\\Users\\gadli\\Anaconda3\\lib\\site-packages\\nuscenes\\map_expansion\\map_api.py:1823: ShapelyDeprecationWarning: Iteration over multi-part geometries is deprecated and will be removed in Shapely 2.0. Use the `geoms` property to access the constituent parts of a multi-part geometry.\n",
      "  exteriors = [int_coords(poly.exterior.coords) for poly in polygons]\n",
      "C:\\Users\\gadli\\Anaconda3\\lib\\site-packages\\nuscenes\\map_expansion\\map_api.py:1824: ShapelyDeprecationWarning: Iteration over multi-part geometries is deprecated and will be removed in Shapely 2.0. Use the `geoms` property to access the constituent parts of a multi-part geometry.\n",
      "  interiors = [int_coords(pi.coords) for poly in polygons for pi in poly.interiors]\n"
     ]
    },
    {
     "name": "stdout",
     "output_type": "stream",
     "text": [
      "{'pf_best_pos': array([ 630.08370681, 1626.00587579]), 'pf_best_theta': -0.6956057746274227, 'pf_mean_pos': array([ 630.05678671, 1625.99940167]), 'pf_mean_theta': -0.6956058607843708}\n",
      "frame 51\n",
      "Number of point tracks before run() 91\n",
      "Number of extended tracks before run() 1\n"
     ]
    },
    {
     "name": "stderr",
     "output_type": "stream",
     "text": [
      "C:\\Users\\gadli\\old_pc\\Tau\\Thesis\\polynoms\\tracker.py:94: VisibleDeprecationWarning: Creating an ndarray from ragged nested sequences (which is a list-or-tuple of lists-or-tuples-or ndarrays with different lengths or shapes) is deprecated. If you meant to do this, you must specify 'dtype=object' when creating the ndarray\n",
      "  Ha = np.array([1, z[0], z[0]**2])\n",
      "C:\\Users\\gadli\\old_pc\\Tau\\Thesis\\polynoms\\tracker.py:117: RuntimeWarning: divide by zero encountered in double_scalars\n",
      "  ratio = np.sqrt(lp)/le\n",
      "C:\\Users\\gadli\\Anaconda3\\lib\\site-packages\\nuscenes\\map_expansion\\map_api.py:1823: ShapelyDeprecationWarning: Iteration over multi-part geometries is deprecated and will be removed in Shapely 2.0. Use the `geoms` property to access the constituent parts of a multi-part geometry.\n",
      "  exteriors = [int_coords(poly.exterior.coords) for poly in polygons]\n",
      "C:\\Users\\gadli\\Anaconda3\\lib\\site-packages\\nuscenes\\map_expansion\\map_api.py:1824: ShapelyDeprecationWarning: Iteration over multi-part geometries is deprecated and will be removed in Shapely 2.0. Use the `geoms` property to access the constituent parts of a multi-part geometry.\n",
      "  interiors = [int_coords(pi.coords) for poly in polygons for pi in poly.interiors]\n"
     ]
    },
    {
     "name": "stdout",
     "output_type": "stream",
     "text": [
      "{'pf_best_pos': array([ 630.61023385, 1625.54814863]), 'pf_best_theta': -0.6957042579987291, 'pf_mean_pos': array([ 630.39407436, 1625.70348439]), 'pf_mean_theta': -0.6957043482865128}\n",
      "frame 52\n",
      "Number of point tracks before run() 87\n",
      "Number of extended tracks before run() 1\n"
     ]
    },
    {
     "name": "stderr",
     "output_type": "stream",
     "text": [
      "C:\\Users\\gadli\\old_pc\\Tau\\Thesis\\polynoms\\tracker.py:94: VisibleDeprecationWarning: Creating an ndarray from ragged nested sequences (which is a list-or-tuple of lists-or-tuples-or ndarrays with different lengths or shapes) is deprecated. If you meant to do this, you must specify 'dtype=object' when creating the ndarray\n",
      "  Ha = np.array([1, z[0], z[0]**2])\n",
      "C:\\Users\\gadli\\old_pc\\Tau\\Thesis\\polynoms\\tracker.py:117: RuntimeWarning: divide by zero encountered in double_scalars\n",
      "  ratio = np.sqrt(lp)/le\n",
      "C:\\Users\\gadli\\Anaconda3\\lib\\site-packages\\nuscenes\\map_expansion\\map_api.py:1823: ShapelyDeprecationWarning: Iteration over multi-part geometries is deprecated and will be removed in Shapely 2.0. Use the `geoms` property to access the constituent parts of a multi-part geometry.\n",
      "  exteriors = [int_coords(poly.exterior.coords) for poly in polygons]\n",
      "C:\\Users\\gadli\\Anaconda3\\lib\\site-packages\\nuscenes\\map_expansion\\map_api.py:1824: ShapelyDeprecationWarning: Iteration over multi-part geometries is deprecated and will be removed in Shapely 2.0. Use the `geoms` property to access the constituent parts of a multi-part geometry.\n",
      "  interiors = [int_coords(pi.coords) for poly in polygons for pi in poly.interiors]\n"
     ]
    },
    {
     "name": "stdout",
     "output_type": "stream",
     "text": [
      "{'pf_best_pos': array([ 630.70969281, 1625.33512221]), 'pf_best_theta': -0.6959323590808606, 'pf_mean_pos': array([ 631.02977476, 1625.11726108]), 'pf_mean_theta': -0.6959323203272489}\n",
      "frame 53\n",
      "Number of point tracks before run() 95\n",
      "Number of extended tracks before run() 1\n"
     ]
    },
    {
     "name": "stderr",
     "output_type": "stream",
     "text": [
      "C:\\Users\\gadli\\old_pc\\Tau\\Thesis\\polynoms\\tracker.py:94: VisibleDeprecationWarning: Creating an ndarray from ragged nested sequences (which is a list-or-tuple of lists-or-tuples-or ndarrays with different lengths or shapes) is deprecated. If you meant to do this, you must specify 'dtype=object' when creating the ndarray\n",
      "  Ha = np.array([1, z[0], z[0]**2])\n",
      "C:\\Users\\gadli\\old_pc\\Tau\\Thesis\\polynoms\\tracker.py:117: RuntimeWarning: divide by zero encountered in double_scalars\n",
      "  ratio = np.sqrt(lp)/le\n",
      "C:\\Users\\gadli\\Anaconda3\\lib\\site-packages\\nuscenes\\map_expansion\\map_api.py:1823: ShapelyDeprecationWarning: Iteration over multi-part geometries is deprecated and will be removed in Shapely 2.0. Use the `geoms` property to access the constituent parts of a multi-part geometry.\n",
      "  exteriors = [int_coords(poly.exterior.coords) for poly in polygons]\n",
      "C:\\Users\\gadli\\Anaconda3\\lib\\site-packages\\nuscenes\\map_expansion\\map_api.py:1824: ShapelyDeprecationWarning: Iteration over multi-part geometries is deprecated and will be removed in Shapely 2.0. Use the `geoms` property to access the constituent parts of a multi-part geometry.\n",
      "  interiors = [int_coords(pi.coords) for poly in polygons for pi in poly.interiors]\n"
     ]
    },
    {
     "name": "stdout",
     "output_type": "stream",
     "text": [
      "{'pf_best_pos': array([ 631.47035754, 1624.67429286]), 'pf_best_theta': -0.6957205168516953, 'pf_mean_pos': array([ 631.49729929, 1624.70400806]), 'pf_mean_theta': -0.6957204721637006}\n",
      "frame 54\n",
      "Number of point tracks before run() 98\n",
      "Number of extended tracks before run() 0\n",
      "{'pf_best_pos': array([ 631.95057614, 1624.26565468]), 'pf_best_theta': -0.6943451596649015, 'pf_mean_pos': array([ 631.99381289, 1624.28150382]), 'pf_mean_theta': -0.69434511182262}\n",
      "frame 55\n",
      "Number of point tracks before run() 103\n",
      "Number of extended tracks before run() 0\n",
      "{'pf_best_pos': array([ 632.31882956, 1623.94486702]), 'pf_best_theta': -0.6935905915436926, 'pf_mean_pos': array([ 632.4601772 , 1623.87525125]), 'pf_mean_theta': -0.6935905442401163}\n",
      "frame 56\n",
      "Number of point tracks before run() 101\n",
      "Number of extended tracks before run() 0\n",
      "{'pf_best_pos': array([ 633.00855015, 1623.33399317]), 'pf_best_theta': -0.693603225394356, 'pf_mean_pos': array([ 632.94175989, 1623.44872165]), 'pf_mean_theta': -0.6936031790954165}\n",
      "frame 57\n",
      "Number of point tracks before run() 106\n",
      "Number of extended tracks before run() 0\n",
      "{'pf_best_pos': array([ 633.54949888, 1622.87071607]), 'pf_best_theta': -0.6925852332872018, 'pf_mean_pos': array([ 633.44270147, 1623.01970735]), 'pf_mean_theta': -0.6925851773159168}\n",
      "frame 58\n",
      "Number of point tracks before run() 109\n",
      "Number of extended tracks before run() 0\n",
      "{'pf_best_pos': array([ 634.3397517 , 1622.20255695]), 'pf_best_theta': -0.6901729689341916, 'pf_mean_pos': array([ 634.38763893, 1622.22076238]), 'pf_mean_theta': -0.6901729108213223}\n",
      "frame 59\n",
      "Number of point tracks before run() 118\n",
      "Number of extended tracks before run() 0\n",
      "{'pf_best_pos': array([ 634.5426628 , 1622.02673644]), 'pf_best_theta': -0.6891075122837265, 'pf_mean_pos': array([ 634.8505585 , 1621.81964709]), 'pf_mean_theta': -0.6891074643099836}\n",
      "frame 60\n",
      "Number of point tracks before run() 117\n",
      "Number of extended tracks before run() 0\n",
      "{'pf_best_pos': array([ 635.00219813, 1621.6145455 ]), 'pf_best_theta': -0.6899900225540074, 'pf_mean_pos': array([ 635.25894009, 1621.45333973]), 'pf_mean_theta': -0.6899899838782643}\n",
      "frame 61\n",
      "Number of point tracks before run() 121\n",
      "Number of extended tracks before run() 0\n",
      "{'pf_best_pos': array([ 635.75769349, 1620.95508608]), 'pf_best_theta': -0.6908951046530705, 'pf_mean_pos': array([ 635.70711522, 1621.06213511]), 'pf_mean_theta': -0.6908950710808093}\n",
      "frame 62\n",
      "Number of point tracks before run() 121\n",
      "Number of extended tracks before run() 0\n",
      "{'pf_best_pos': array([ 636.24690713, 1620.53975578]), 'pf_best_theta': -0.6904135462693981, 'pf_mean_pos': array([ 636.11859625, 1620.71279789]), 'pf_mean_theta': -0.6904135084836074}\n",
      "frame 63\n",
      "Number of point tracks before run() 120\n",
      "Number of extended tracks before run() 0\n",
      "{'pf_best_pos': array([ 636.38940117, 1620.41649489]), 'pf_best_theta': -0.6909763063627983, 'pf_mean_pos': array([ 636.55567418, 1620.33471464]), 'pf_mean_theta': -0.6909762733383373}\n",
      "frame 64\n",
      "Number of point tracks before run() 119\n",
      "Number of extended tracks before run() 0\n",
      "{'pf_best_pos': array([ 636.97356729, 1619.90706034]), 'pf_best_theta': -0.6909719661670586, 'pf_mean_pos': array([ 637.34459742, 1619.64671732]), 'pf_mean_theta': -0.6909719361541767}\n",
      "frame 65\n",
      "Number of point tracks before run() 117\n",
      "Number of extended tracks before run() 0\n",
      "{'pf_best_pos': array([ 637.25145223, 1619.665155  ]), 'pf_best_theta': -0.6918520977850324, 'pf_mean_pos': array([ 637.72978528, 1619.3114023 ]), 'pf_mean_theta': -0.691852076915858}\n",
      "frame 66\n",
      "Number of point tracks before run() 115\n",
      "Number of extended tracks before run() 0\n",
      "{'pf_best_pos': array([ 637.42054241, 1619.5198564 ]), 'pf_best_theta': -0.6921985170227565, 'pf_mean_pos': array([ 638.09907241, 1618.99407519]), 'pf_mean_theta': -0.6921985112515759}\n",
      "frame 67\n",
      "Number of point tracks before run() 107\n",
      "Number of extended tracks before run() 1\n"
     ]
    },
    {
     "name": "stderr",
     "output_type": "stream",
     "text": [
      "C:\\Users\\gadli\\old_pc\\Tau\\Thesis\\polynoms\\tracker.py:94: VisibleDeprecationWarning: Creating an ndarray from ragged nested sequences (which is a list-or-tuple of lists-or-tuples-or ndarrays with different lengths or shapes) is deprecated. If you meant to do this, you must specify 'dtype=object' when creating the ndarray\n",
      "  Ha = np.array([1, z[0], z[0]**2])\n",
      "C:\\Users\\gadli\\old_pc\\Tau\\Thesis\\polynoms\\tracker.py:117: RuntimeWarning: divide by zero encountered in double_scalars\n",
      "  ratio = np.sqrt(lp)/le\n"
     ]
    },
    {
     "name": "stdout",
     "output_type": "stream",
     "text": [
      "Updating extended object track =  0\n",
      "Updating extended object track =  0\n"
     ]
    },
    {
     "name": "stderr",
     "output_type": "stream",
     "text": [
      "C:\\Users\\gadli\\Anaconda3\\lib\\site-packages\\nuscenes\\map_expansion\\map_api.py:1823: ShapelyDeprecationWarning: Iteration over multi-part geometries is deprecated and will be removed in Shapely 2.0. Use the `geoms` property to access the constituent parts of a multi-part geometry.\n",
      "  exteriors = [int_coords(poly.exterior.coords) for poly in polygons]\n",
      "C:\\Users\\gadli\\Anaconda3\\lib\\site-packages\\nuscenes\\map_expansion\\map_api.py:1824: ShapelyDeprecationWarning: Iteration over multi-part geometries is deprecated and will be removed in Shapely 2.0. Use the `geoms` property to access the constituent parts of a multi-part geometry.\n",
      "  interiors = [int_coords(pi.coords) for poly in polygons for pi in poly.interiors]\n"
     ]
    },
    {
     "name": "stdout",
     "output_type": "stream",
     "text": [
      "{'pf_best_pos': array([ 640.18979203, 1617.23416203]), 'pf_best_theta': -0.6928590214980277, 'pf_mean_pos': array([ 640.21559471, 1617.20601575]), 'pf_mean_theta': -0.6928589849378975}\n",
      "frame 68\n",
      "Number of point tracks before run() 116\n",
      "Number of extended tracks before run() 1\n"
     ]
    },
    {
     "name": "stderr",
     "output_type": "stream",
     "text": [
      "C:\\Users\\gadli\\old_pc\\Tau\\Thesis\\polynoms\\tracker.py:94: VisibleDeprecationWarning: Creating an ndarray from ragged nested sequences (which is a list-or-tuple of lists-or-tuples-or ndarrays with different lengths or shapes) is deprecated. If you meant to do this, you must specify 'dtype=object' when creating the ndarray\n",
      "  Ha = np.array([1, z[0], z[0]**2])\n"
     ]
    },
    {
     "name": "stdout",
     "output_type": "stream",
     "text": [
      "Updating extended object track =  0\n",
      "Updating extended object track =  0\n",
      "Updating extended object track =  0\n",
      "Updating extended object track =  0\n",
      "Updating extended object track =  0\n"
     ]
    },
    {
     "name": "stderr",
     "output_type": "stream",
     "text": [
      "C:\\Users\\gadli\\old_pc\\Tau\\Thesis\\polynoms\\tracker.py:117: RuntimeWarning: divide by zero encountered in double_scalars\n",
      "  ratio = np.sqrt(lp)/le\n",
      "C:\\Users\\gadli\\Anaconda3\\lib\\site-packages\\nuscenes\\map_expansion\\map_api.py:1823: ShapelyDeprecationWarning: Iteration over multi-part geometries is deprecated and will be removed in Shapely 2.0. Use the `geoms` property to access the constituent parts of a multi-part geometry.\n",
      "  exteriors = [int_coords(poly.exterior.coords) for poly in polygons]\n",
      "C:\\Users\\gadli\\Anaconda3\\lib\\site-packages\\nuscenes\\map_expansion\\map_api.py:1824: ShapelyDeprecationWarning: Iteration over multi-part geometries is deprecated and will be removed in Shapely 2.0. Use the `geoms` property to access the constituent parts of a multi-part geometry.\n",
      "  interiors = [int_coords(pi.coords) for poly in polygons for pi in poly.interiors]\n"
     ]
    },
    {
     "name": "stdout",
     "output_type": "stream",
     "text": [
      "{'pf_best_pos': array([ 638.0162863 , 1619.00468729]), 'pf_best_theta': -0.6924368306169804, 'pf_mean_pos': array([ 640.55325942, 1616.91918473]), 'pf_mean_theta': -0.6924368824104519}\n",
      "frame 69\n",
      "Number of point tracks before run() 105\n",
      "Number of extended tracks before run() 1\n"
     ]
    },
    {
     "name": "stderr",
     "output_type": "stream",
     "text": [
      "C:\\Users\\gadli\\old_pc\\Tau\\Thesis\\polynoms\\tracker.py:94: VisibleDeprecationWarning: Creating an ndarray from ragged nested sequences (which is a list-or-tuple of lists-or-tuples-or ndarrays with different lengths or shapes) is deprecated. If you meant to do this, you must specify 'dtype=object' when creating the ndarray\n",
      "  Ha = np.array([1, z[0], z[0]**2])\n"
     ]
    },
    {
     "name": "stdout",
     "output_type": "stream",
     "text": [
      "Updating extended object track =  0\n",
      "Updating extended object track =  0\n",
      "Updating extended object track =  0\n",
      "Updating extended object track =  0\n"
     ]
    },
    {
     "name": "stderr",
     "output_type": "stream",
     "text": [
      "C:\\Users\\gadli\\old_pc\\Tau\\Thesis\\polynoms\\tracker.py:117: RuntimeWarning: divide by zero encountered in double_scalars\n",
      "  ratio = np.sqrt(lp)/le\n",
      "C:\\Users\\gadli\\Anaconda3\\lib\\site-packages\\nuscenes\\map_expansion\\map_api.py:1823: ShapelyDeprecationWarning: Iteration over multi-part geometries is deprecated and will be removed in Shapely 2.0. Use the `geoms` property to access the constituent parts of a multi-part geometry.\n",
      "  exteriors = [int_coords(poly.exterior.coords) for poly in polygons]\n",
      "C:\\Users\\gadli\\Anaconda3\\lib\\site-packages\\nuscenes\\map_expansion\\map_api.py:1824: ShapelyDeprecationWarning: Iteration over multi-part geometries is deprecated and will be removed in Shapely 2.0. Use the `geoms` property to access the constituent parts of a multi-part geometry.\n",
      "  interiors = [int_coords(pi.coords) for poly in polygons for pi in poly.interiors]\n"
     ]
    },
    {
     "name": "stdout",
     "output_type": "stream",
     "text": [
      "{'pf_best_pos': array([ 638.40163217, 1618.6744258 ]), 'pf_best_theta': -0.6926825275854531, 'pf_mean_pos': array([ 640.915682  , 1616.60856968]), 'pf_mean_theta': -0.6926826030565787}\n",
      "frame 70\n",
      "Number of point tracks before run() 107\n",
      "Number of extended tracks before run() 1\n"
     ]
    },
    {
     "name": "stderr",
     "output_type": "stream",
     "text": [
      "C:\\Users\\gadli\\old_pc\\Tau\\Thesis\\polynoms\\tracker.py:94: VisibleDeprecationWarning: Creating an ndarray from ragged nested sequences (which is a list-or-tuple of lists-or-tuples-or ndarrays with different lengths or shapes) is deprecated. If you meant to do this, you must specify 'dtype=object' when creating the ndarray\n",
      "  Ha = np.array([1, z[0], z[0]**2])\n",
      "C:\\Users\\gadli\\old_pc\\Tau\\Thesis\\polynoms\\tracker.py:117: RuntimeWarning: divide by zero encountered in double_scalars\n",
      "  ratio = np.sqrt(lp)/le\n"
     ]
    },
    {
     "name": "stdout",
     "output_type": "stream",
     "text": [
      "Updating extended object track =  0\n",
      "Updating extended object track =  0\n",
      "Updating extended object track =  0\n",
      "Updating extended object track =  0\n",
      "Updating extended object track =  0\n"
     ]
    },
    {
     "name": "stderr",
     "output_type": "stream",
     "text": [
      "C:\\Users\\gadli\\Anaconda3\\lib\\site-packages\\nuscenes\\map_expansion\\map_api.py:1823: ShapelyDeprecationWarning: Iteration over multi-part geometries is deprecated and will be removed in Shapely 2.0. Use the `geoms` property to access the constituent parts of a multi-part geometry.\n",
      "  exteriors = [int_coords(poly.exterior.coords) for poly in polygons]\n",
      "C:\\Users\\gadli\\Anaconda3\\lib\\site-packages\\nuscenes\\map_expansion\\map_api.py:1824: ShapelyDeprecationWarning: Iteration over multi-part geometries is deprecated and will be removed in Shapely 2.0. Use the `geoms` property to access the constituent parts of a multi-part geometry.\n",
      "  interiors = [int_coords(pi.coords) for poly in polygons for pi in poly.interiors]\n"
     ]
    },
    {
     "name": "stdout",
     "output_type": "stream",
     "text": [
      "{'pf_best_pos': array([ 638.88993238, 1618.25810678]), 'pf_best_theta': -0.6926635149086335, 'pf_mean_pos': array([ 641.56126352, 1616.05815437]), 'pf_mean_theta': -0.6926635906783002}\n",
      "frame 71\n",
      "Number of point tracks before run() 108\n",
      "Number of extended tracks before run() 1\n",
      "Updating extended object track =  0\n",
      "Updating extended object track =  0\n"
     ]
    },
    {
     "name": "stderr",
     "output_type": "stream",
     "text": [
      "C:\\Users\\gadli\\old_pc\\Tau\\Thesis\\polynoms\\tracker.py:94: VisibleDeprecationWarning: Creating an ndarray from ragged nested sequences (which is a list-or-tuple of lists-or-tuples-or ndarrays with different lengths or shapes) is deprecated. If you meant to do this, you must specify 'dtype=object' when creating the ndarray\n",
      "  Ha = np.array([1, z[0], z[0]**2])\n",
      "C:\\Users\\gadli\\old_pc\\Tau\\Thesis\\polynoms\\tracker.py:117: RuntimeWarning: divide by zero encountered in double_scalars\n",
      "  ratio = np.sqrt(lp)/le\n",
      "C:\\Users\\gadli\\Anaconda3\\lib\\site-packages\\nuscenes\\map_expansion\\map_api.py:1823: ShapelyDeprecationWarning: Iteration over multi-part geometries is deprecated and will be removed in Shapely 2.0. Use the `geoms` property to access the constituent parts of a multi-part geometry.\n",
      "  exteriors = [int_coords(poly.exterior.coords) for poly in polygons]\n",
      "C:\\Users\\gadli\\Anaconda3\\lib\\site-packages\\nuscenes\\map_expansion\\map_api.py:1824: ShapelyDeprecationWarning: Iteration over multi-part geometries is deprecated and will be removed in Shapely 2.0. Use the `geoms` property to access the constituent parts of a multi-part geometry.\n",
      "  interiors = [int_coords(pi.coords) for poly in polygons for pi in poly.interiors]\n"
     ]
    },
    {
     "name": "stdout",
     "output_type": "stream",
     "text": [
      "{'pf_best_pos': array([ 641.88265946, 1615.78133562]), 'pf_best_theta': -0.6934398348593334, 'pf_mean_pos': array([ 641.93224919, 1615.73580249]), 'pf_mean_theta': -0.6934397507391309}\n",
      "frame 72\n",
      "Number of point tracks before run() 110\n",
      "Number of extended tracks before run() 1\n",
      "Updating extended object track =  0\n",
      "Updating extended object track =  0\n",
      "Updating extended object track =  0\n"
     ]
    },
    {
     "name": "stderr",
     "output_type": "stream",
     "text": [
      "C:\\Users\\gadli\\old_pc\\Tau\\Thesis\\polynoms\\tracker.py:94: VisibleDeprecationWarning: Creating an ndarray from ragged nested sequences (which is a list-or-tuple of lists-or-tuples-or ndarrays with different lengths or shapes) is deprecated. If you meant to do this, you must specify 'dtype=object' when creating the ndarray\n",
      "  Ha = np.array([1, z[0], z[0]**2])\n",
      "C:\\Users\\gadli\\old_pc\\Tau\\Thesis\\polynoms\\tracker.py:117: RuntimeWarning: divide by zero encountered in double_scalars\n",
      "  ratio = np.sqrt(lp)/le\n",
      "C:\\Users\\gadli\\Anaconda3\\lib\\site-packages\\nuscenes\\map_expansion\\map_api.py:1823: ShapelyDeprecationWarning: Iteration over multi-part geometries is deprecated and will be removed in Shapely 2.0. Use the `geoms` property to access the constituent parts of a multi-part geometry.\n",
      "  exteriors = [int_coords(poly.exterior.coords) for poly in polygons]\n",
      "C:\\Users\\gadli\\Anaconda3\\lib\\site-packages\\nuscenes\\map_expansion\\map_api.py:1824: ShapelyDeprecationWarning: Iteration over multi-part geometries is deprecated and will be removed in Shapely 2.0. Use the `geoms` property to access the constituent parts of a multi-part geometry.\n",
      "  interiors = [int_coords(pi.coords) for poly in polygons for pi in poly.interiors]\n"
     ]
    },
    {
     "name": "stdout",
     "output_type": "stream",
     "text": [
      "{'pf_best_pos': array([ 642.17542496, 1615.53240121]), 'pf_best_theta': -0.6935535627017746, 'pf_mean_pos': array([ 642.21185894, 1615.48836599]), 'pf_mean_theta': -0.6935534630656319}\n",
      "frame 73\n",
      "Number of point tracks before run() 110\n",
      "Number of extended tracks before run() 1\n"
     ]
    },
    {
     "name": "stderr",
     "output_type": "stream",
     "text": [
      "C:\\Users\\gadli\\old_pc\\Tau\\Thesis\\polynoms\\tracker.py:94: VisibleDeprecationWarning: Creating an ndarray from ragged nested sequences (which is a list-or-tuple of lists-or-tuples-or ndarrays with different lengths or shapes) is deprecated. If you meant to do this, you must specify 'dtype=object' when creating the ndarray\n",
      "  Ha = np.array([1, z[0], z[0]**2])\n",
      "C:\\Users\\gadli\\old_pc\\Tau\\Thesis\\polynoms\\tracker.py:117: RuntimeWarning: divide by zero encountered in double_scalars\n",
      "  ratio = np.sqrt(lp)/le\n"
     ]
    },
    {
     "name": "stdout",
     "output_type": "stream",
     "text": [
      "Updating extended object track =  0\n",
      "Updating extended object track =  0\n"
     ]
    },
    {
     "name": "stderr",
     "output_type": "stream",
     "text": [
      "C:\\Users\\gadli\\Anaconda3\\lib\\site-packages\\nuscenes\\map_expansion\\map_api.py:1823: ShapelyDeprecationWarning: Iteration over multi-part geometries is deprecated and will be removed in Shapely 2.0. Use the `geoms` property to access the constituent parts of a multi-part geometry.\n",
      "  exteriors = [int_coords(poly.exterior.coords) for poly in polygons]\n",
      "C:\\Users\\gadli\\Anaconda3\\lib\\site-packages\\nuscenes\\map_expansion\\map_api.py:1824: ShapelyDeprecationWarning: Iteration over multi-part geometries is deprecated and will be removed in Shapely 2.0. Use the `geoms` property to access the constituent parts of a multi-part geometry.\n",
      "  interiors = [int_coords(pi.coords) for poly in polygons for pi in poly.interiors]\n"
     ]
    },
    {
     "name": "stdout",
     "output_type": "stream",
     "text": [
      "{'pf_best_pos': array([ 642.65237516, 1615.1174631 ]), 'pf_best_theta': -0.6936403852046604, 'pf_mean_pos': array([ 642.48451831, 1615.25262216]), 'pf_mean_theta': -0.6936402472740825}\n",
      "frame 74\n",
      "Number of point tracks before run() 103\n",
      "Number of extended tracks before run() 1\n",
      "Updating extended object track =  0\n",
      "Updating extended object track =  0\n",
      "Updating extended object track =  0\n"
     ]
    },
    {
     "name": "stderr",
     "output_type": "stream",
     "text": [
      "C:\\Users\\gadli\\old_pc\\Tau\\Thesis\\polynoms\\tracker.py:94: VisibleDeprecationWarning: Creating an ndarray from ragged nested sequences (which is a list-or-tuple of lists-or-tuples-or ndarrays with different lengths or shapes) is deprecated. If you meant to do this, you must specify 'dtype=object' when creating the ndarray\n",
      "  Ha = np.array([1, z[0], z[0]**2])\n",
      "C:\\Users\\gadli\\old_pc\\Tau\\Thesis\\polynoms\\tracker.py:117: RuntimeWarning: divide by zero encountered in double_scalars\n",
      "  ratio = np.sqrt(lp)/le\n",
      "C:\\Users\\gadli\\Anaconda3\\lib\\site-packages\\nuscenes\\map_expansion\\map_api.py:1823: ShapelyDeprecationWarning: Iteration over multi-part geometries is deprecated and will be removed in Shapely 2.0. Use the `geoms` property to access the constituent parts of a multi-part geometry.\n",
      "  exteriors = [int_coords(poly.exterior.coords) for poly in polygons]\n",
      "C:\\Users\\gadli\\Anaconda3\\lib\\site-packages\\nuscenes\\map_expansion\\map_api.py:1824: ShapelyDeprecationWarning: Iteration over multi-part geometries is deprecated and will be removed in Shapely 2.0. Use the `geoms` property to access the constituent parts of a multi-part geometry.\n",
      "  interiors = [int_coords(pi.coords) for poly in polygons for pi in poly.interiors]\n"
     ]
    },
    {
     "name": "stdout",
     "output_type": "stream",
     "text": [
      "{'pf_best_pos': array([ 643.24561155, 1614.59853336]), 'pf_best_theta': -0.6944552703862019, 'pf_mean_pos': array([ 642.99601115, 1614.80544123]), 'pf_mean_theta': -0.6944551312805392}\n",
      "frame 75\n",
      "Number of point tracks before run() 102\n",
      "Number of extended tracks before run() 1\n",
      "Updating extended object track =  0\n",
      "Updating extended object track =  0\n"
     ]
    },
    {
     "name": "stderr",
     "output_type": "stream",
     "text": [
      "C:\\Users\\gadli\\old_pc\\Tau\\Thesis\\polynoms\\tracker.py:94: VisibleDeprecationWarning: Creating an ndarray from ragged nested sequences (which is a list-or-tuple of lists-or-tuples-or ndarrays with different lengths or shapes) is deprecated. If you meant to do this, you must specify 'dtype=object' when creating the ndarray\n",
      "  Ha = np.array([1, z[0], z[0]**2])\n",
      "C:\\Users\\gadli\\old_pc\\Tau\\Thesis\\polynoms\\tracker.py:117: RuntimeWarning: divide by zero encountered in double_scalars\n",
      "  ratio = np.sqrt(lp)/le\n",
      "C:\\Users\\gadli\\Anaconda3\\lib\\site-packages\\nuscenes\\map_expansion\\map_api.py:1823: ShapelyDeprecationWarning: Iteration over multi-part geometries is deprecated and will be removed in Shapely 2.0. Use the `geoms` property to access the constituent parts of a multi-part geometry.\n",
      "  exteriors = [int_coords(poly.exterior.coords) for poly in polygons]\n",
      "C:\\Users\\gadli\\Anaconda3\\lib\\site-packages\\nuscenes\\map_expansion\\map_api.py:1824: ShapelyDeprecationWarning: Iteration over multi-part geometries is deprecated and will be removed in Shapely 2.0. Use the `geoms` property to access the constituent parts of a multi-part geometry.\n",
      "  interiors = [int_coords(pi.coords) for poly in polygons for pi in poly.interiors]\n"
     ]
    },
    {
     "name": "stdout",
     "output_type": "stream",
     "text": [
      "{'pf_best_pos': array([ 643.32367317, 1614.52189886]), 'pf_best_theta': -0.6941527312923457, 'pf_mean_pos': array([ 643.25015578, 1614.58750182]), 'pf_mean_theta': -0.6941526469332179}\n",
      "frame 76\n",
      "Number of point tracks before run() 97\n",
      "Number of extended tracks before run() 1\n"
     ]
    },
    {
     "name": "stderr",
     "output_type": "stream",
     "text": [
      "C:\\Users\\gadli\\old_pc\\Tau\\Thesis\\polynoms\\tracker.py:94: VisibleDeprecationWarning: Creating an ndarray from ragged nested sequences (which is a list-or-tuple of lists-or-tuples-or ndarrays with different lengths or shapes) is deprecated. If you meant to do this, you must specify 'dtype=object' when creating the ndarray\n",
      "  Ha = np.array([1, z[0], z[0]**2])\n",
      "C:\\Users\\gadli\\old_pc\\Tau\\Thesis\\polynoms\\tracker.py:117: RuntimeWarning: divide by zero encountered in double_scalars\n",
      "  ratio = np.sqrt(lp)/le\n"
     ]
    },
    {
     "name": "stdout",
     "output_type": "stream",
     "text": [
      "Updating extended object track =  0\n"
     ]
    },
    {
     "name": "stderr",
     "output_type": "stream",
     "text": [
      "C:\\Users\\gadli\\Anaconda3\\lib\\site-packages\\nuscenes\\map_expansion\\map_api.py:1823: ShapelyDeprecationWarning: Iteration over multi-part geometries is deprecated and will be removed in Shapely 2.0. Use the `geoms` property to access the constituent parts of a multi-part geometry.\n",
      "  exteriors = [int_coords(poly.exterior.coords) for poly in polygons]\n",
      "C:\\Users\\gadli\\Anaconda3\\lib\\site-packages\\nuscenes\\map_expansion\\map_api.py:1824: ShapelyDeprecationWarning: Iteration over multi-part geometries is deprecated and will be removed in Shapely 2.0. Use the `geoms` property to access the constituent parts of a multi-part geometry.\n",
      "  interiors = [int_coords(pi.coords) for poly in polygons for pi in poly.interiors]\n"
     ]
    },
    {
     "name": "stdout",
     "output_type": "stream",
     "text": [
      "{'pf_best_pos': array([ 643.29344738, 1614.55730083]), 'pf_best_theta': -0.6939829908899657, 'pf_mean_pos': array([ 643.46198822, 1614.40813228]), 'pf_mean_theta': -0.6939829091355689}\n",
      "frame 77\n",
      "Number of point tracks before run() 92\n",
      "Number of extended tracks before run() 2\n"
     ]
    },
    {
     "name": "stderr",
     "output_type": "stream",
     "text": [
      "C:\\Users\\gadli\\old_pc\\Tau\\Thesis\\polynoms\\tracker.py:94: VisibleDeprecationWarning: Creating an ndarray from ragged nested sequences (which is a list-or-tuple of lists-or-tuples-or ndarrays with different lengths or shapes) is deprecated. If you meant to do this, you must specify 'dtype=object' when creating the ndarray\n",
      "  Ha = np.array([1, z[0], z[0]**2])\n",
      "C:\\Users\\gadli\\old_pc\\Tau\\Thesis\\polynoms\\tracker.py:117: RuntimeWarning: divide by zero encountered in double_scalars\n",
      "  ratio = np.sqrt(lp)/le\n",
      "C:\\Users\\gadli\\Anaconda3\\lib\\site-packages\\nuscenes\\map_expansion\\map_api.py:1823: ShapelyDeprecationWarning: Iteration over multi-part geometries is deprecated and will be removed in Shapely 2.0. Use the `geoms` property to access the constituent parts of a multi-part geometry.\n",
      "  exteriors = [int_coords(poly.exterior.coords) for poly in polygons]\n",
      "C:\\Users\\gadli\\Anaconda3\\lib\\site-packages\\nuscenes\\map_expansion\\map_api.py:1824: ShapelyDeprecationWarning: Iteration over multi-part geometries is deprecated and will be removed in Shapely 2.0. Use the `geoms` property to access the constituent parts of a multi-part geometry.\n",
      "  interiors = [int_coords(pi.coords) for poly in polygons for pi in poly.interiors]\n"
     ]
    },
    {
     "name": "stdout",
     "output_type": "stream",
     "text": [
      "{'pf_best_pos': array([ 643.6612275 , 1614.22271889]), 'pf_best_theta': -0.6939210232147843, 'pf_mean_pos': array([ 643.69845459, 1614.20453196]), 'pf_mean_theta': -0.693921007234564}\n",
      "frame 78\n",
      "Number of point tracks before run() 98\n",
      "Number of extended tracks before run() 2\n"
     ]
    },
    {
     "name": "stderr",
     "output_type": "stream",
     "text": [
      "C:\\Users\\gadli\\old_pc\\Tau\\Thesis\\polynoms\\tracker.py:94: VisibleDeprecationWarning: Creating an ndarray from ragged nested sequences (which is a list-or-tuple of lists-or-tuples-or ndarrays with different lengths or shapes) is deprecated. If you meant to do this, you must specify 'dtype=object' when creating the ndarray\n",
      "  Ha = np.array([1, z[0], z[0]**2])\n",
      "C:\\Users\\gadli\\old_pc\\Tau\\Thesis\\polynoms\\tracker.py:117: RuntimeWarning: divide by zero encountered in double_scalars\n",
      "  ratio = np.sqrt(lp)/le\n"
     ]
    },
    {
     "name": "stdout",
     "output_type": "stream",
     "text": [
      "Updating extended object track =  1\n",
      "Updating extended object track =  1\n",
      "Updating extended object track =  1\n",
      "Updating extended object track =  0\n"
     ]
    },
    {
     "name": "stderr",
     "output_type": "stream",
     "text": [
      "C:\\Users\\gadli\\Anaconda3\\lib\\site-packages\\nuscenes\\map_expansion\\map_api.py:1823: ShapelyDeprecationWarning: Iteration over multi-part geometries is deprecated and will be removed in Shapely 2.0. Use the `geoms` property to access the constituent parts of a multi-part geometry.\n",
      "  exteriors = [int_coords(poly.exterior.coords) for poly in polygons]\n",
      "C:\\Users\\gadli\\Anaconda3\\lib\\site-packages\\nuscenes\\map_expansion\\map_api.py:1824: ShapelyDeprecationWarning: Iteration over multi-part geometries is deprecated and will be removed in Shapely 2.0. Use the `geoms` property to access the constituent parts of a multi-part geometry.\n",
      "  interiors = [int_coords(pi.coords) for poly in polygons for pi in poly.interiors]\n"
     ]
    },
    {
     "name": "stdout",
     "output_type": "stream",
     "text": [
      "{'pf_best_pos': array([ 643.96296479, 1613.9634628 ]), 'pf_best_theta': -0.6943126548084386, 'pf_mean_pos': array([ 643.91141986, 1614.0215498 ]), 'pf_mean_theta': -0.694312645639591}\n",
      "frame 79\n",
      "Number of point tracks before run() 105\n",
      "Number of extended tracks before run() 2\n",
      "Updating extended object track = "
     ]
    },
    {
     "name": "stderr",
     "output_type": "stream",
     "text": [
      "C:\\Users\\gadli\\old_pc\\Tau\\Thesis\\polynoms\\tracker.py:94: VisibleDeprecationWarning: Creating an ndarray from ragged nested sequences (which is a list-or-tuple of lists-or-tuples-or ndarrays with different lengths or shapes) is deprecated. If you meant to do this, you must specify 'dtype=object' when creating the ndarray\n",
      "  Ha = np.array([1, z[0], z[0]**2])\n"
     ]
    },
    {
     "name": "stdout",
     "output_type": "stream",
     "text": [
      " 1\n",
      "Updating extended object track =  1\n",
      "Updating extended object track =  1\n",
      "Updating extended object track =  1\n",
      "Updating extended object track =  0\n",
      "Updating extended object track =  1\n"
     ]
    },
    {
     "name": "stderr",
     "output_type": "stream",
     "text": [
      "C:\\Users\\gadli\\old_pc\\Tau\\Thesis\\polynoms\\tracker.py:117: RuntimeWarning: divide by zero encountered in double_scalars\n",
      "  ratio = np.sqrt(lp)/le\n",
      "C:\\Users\\gadli\\Anaconda3\\lib\\site-packages\\nuscenes\\map_expansion\\map_api.py:1823: ShapelyDeprecationWarning: Iteration over multi-part geometries is deprecated and will be removed in Shapely 2.0. Use the `geoms` property to access the constituent parts of a multi-part geometry.\n",
      "  exteriors = [int_coords(poly.exterior.coords) for poly in polygons]\n",
      "C:\\Users\\gadli\\Anaconda3\\lib\\site-packages\\nuscenes\\map_expansion\\map_api.py:1824: ShapelyDeprecationWarning: Iteration over multi-part geometries is deprecated and will be removed in Shapely 2.0. Use the `geoms` property to access the constituent parts of a multi-part geometry.\n",
      "  interiors = [int_coords(pi.coords) for poly in polygons for pi in poly.interiors]\n"
     ]
    },
    {
     "name": "stdout",
     "output_type": "stream",
     "text": [
      "{'pf_best_pos': array([ 644.14199562, 1613.81034869]), 'pf_best_theta': -0.6939921131940117, 'pf_mean_pos': array([ 644.14771829, 1613.82401087]), 'pf_mean_theta': -0.6939920129629803}\n",
      "frame 80\n",
      "Number of point tracks before run() 107\n",
      "Number of extended tracks before run() 2\n",
      "Updating extended object track =  0\n",
      "Updating extended object track =  1\n",
      "Updating extended object track =  1\n",
      "Updating extended object track =  1\n",
      "Updating extended object track =  0\n",
      "Updating extended object track =  1\n"
     ]
    },
    {
     "name": "stderr",
     "output_type": "stream",
     "text": [
      "C:\\Users\\gadli\\old_pc\\Tau\\Thesis\\polynoms\\tracker.py:94: VisibleDeprecationWarning: Creating an ndarray from ragged nested sequences (which is a list-or-tuple of lists-or-tuples-or ndarrays with different lengths or shapes) is deprecated. If you meant to do this, you must specify 'dtype=object' when creating the ndarray\n",
      "  Ha = np.array([1, z[0], z[0]**2])\n",
      "C:\\Users\\gadli\\old_pc\\Tau\\Thesis\\polynoms\\tracker.py:117: RuntimeWarning: divide by zero encountered in double_scalars\n",
      "  ratio = np.sqrt(lp)/le\n",
      "C:\\Users\\gadli\\Anaconda3\\lib\\site-packages\\nuscenes\\map_expansion\\map_api.py:1823: ShapelyDeprecationWarning: Iteration over multi-part geometries is deprecated and will be removed in Shapely 2.0. Use the `geoms` property to access the constituent parts of a multi-part geometry.\n",
      "  exteriors = [int_coords(poly.exterior.coords) for poly in polygons]\n",
      "C:\\Users\\gadli\\Anaconda3\\lib\\site-packages\\nuscenes\\map_expansion\\map_api.py:1824: ShapelyDeprecationWarning: Iteration over multi-part geometries is deprecated and will be removed in Shapely 2.0. Use the `geoms` property to access the constituent parts of a multi-part geometry.\n",
      "  interiors = [int_coords(pi.coords) for poly in polygons for pi in poly.interiors]\n"
     ]
    },
    {
     "name": "stdout",
     "output_type": "stream",
     "text": [
      "{'pf_best_pos': array([ 644.63198011, 1613.39010744]), 'pf_best_theta': -0.6937990521421051, 'pf_mean_pos': array([ 644.52563944, 1613.49826622]), 'pf_mean_theta': -0.6937989773511892}\n",
      "frame 81\n",
      "Number of point tracks before run() 108\n",
      "Number of extended tracks before run() 2\n"
     ]
    },
    {
     "name": "stderr",
     "output_type": "stream",
     "text": [
      "C:\\Users\\gadli\\old_pc\\Tau\\Thesis\\polynoms\\tracker.py:94: VisibleDeprecationWarning: Creating an ndarray from ragged nested sequences (which is a list-or-tuple of lists-or-tuples-or ndarrays with different lengths or shapes) is deprecated. If you meant to do this, you must specify 'dtype=object' when creating the ndarray\n",
      "  Ha = np.array([1, z[0], z[0]**2])\n",
      "C:\\Users\\gadli\\old_pc\\Tau\\Thesis\\polynoms\\tracker.py:117: RuntimeWarning: divide by zero encountered in double_scalars\n",
      "  ratio = np.sqrt(lp)/le\n"
     ]
    },
    {
     "name": "stdout",
     "output_type": "stream",
     "text": [
      "Updating extended object track =  1\n",
      "Updating extended object track =  1\n",
      "Updating extended object track =  1\n",
      "Updating extended object track =  0\n",
      "Updating extended object track =  1\n"
     ]
    },
    {
     "name": "stderr",
     "output_type": "stream",
     "text": [
      "C:\\Users\\gadli\\Anaconda3\\lib\\site-packages\\nuscenes\\map_expansion\\map_api.py:1823: ShapelyDeprecationWarning: Iteration over multi-part geometries is deprecated and will be removed in Shapely 2.0. Use the `geoms` property to access the constituent parts of a multi-part geometry.\n",
      "  exteriors = [int_coords(poly.exterior.coords) for poly in polygons]\n",
      "C:\\Users\\gadli\\Anaconda3\\lib\\site-packages\\nuscenes\\map_expansion\\map_api.py:1824: ShapelyDeprecationWarning: Iteration over multi-part geometries is deprecated and will be removed in Shapely 2.0. Use the `geoms` property to access the constituent parts of a multi-part geometry.\n",
      "  interiors = [int_coords(pi.coords) for poly in polygons for pi in poly.interiors]\n"
     ]
    },
    {
     "name": "stdout",
     "output_type": "stream",
     "text": [
      "{'pf_best_pos': array([ 644.57064734, 1613.45091343]), 'pf_best_theta': -0.6939109130247867, 'pf_mean_pos': array([ 644.70649794, 1613.3448649 ]), 'pf_mean_theta': -0.6939108824844895}\n",
      "frame 82\n",
      "Number of point tracks before run() 103\n",
      "Number of extended tracks before run() 2\n"
     ]
    },
    {
     "name": "stderr",
     "output_type": "stream",
     "text": [
      "C:\\Users\\gadli\\old_pc\\Tau\\Thesis\\polynoms\\tracker.py:94: VisibleDeprecationWarning: Creating an ndarray from ragged nested sequences (which is a list-or-tuple of lists-or-tuples-or ndarrays with different lengths or shapes) is deprecated. If you meant to do this, you must specify 'dtype=object' when creating the ndarray\n",
      "  Ha = np.array([1, z[0], z[0]**2])\n",
      "C:\\Users\\gadli\\old_pc\\Tau\\Thesis\\polynoms\\tracker.py:117: RuntimeWarning: divide by zero encountered in double_scalars\n",
      "  ratio = np.sqrt(lp)/le\n"
     ]
    },
    {
     "name": "stdout",
     "output_type": "stream",
     "text": [
      "Updating extended object track =  1\n"
     ]
    },
    {
     "name": "stderr",
     "output_type": "stream",
     "text": [
      "C:\\Users\\gadli\\Anaconda3\\lib\\site-packages\\nuscenes\\map_expansion\\map_api.py:1823: ShapelyDeprecationWarning: Iteration over multi-part geometries is deprecated and will be removed in Shapely 2.0. Use the `geoms` property to access the constituent parts of a multi-part geometry.\n",
      "  exteriors = [int_coords(poly.exterior.coords) for poly in polygons]\n",
      "C:\\Users\\gadli\\Anaconda3\\lib\\site-packages\\nuscenes\\map_expansion\\map_api.py:1824: ShapelyDeprecationWarning: Iteration over multi-part geometries is deprecated and will be removed in Shapely 2.0. Use the `geoms` property to access the constituent parts of a multi-part geometry.\n",
      "  interiors = [int_coords(pi.coords) for poly in polygons for pi in poly.interiors]\n"
     ]
    },
    {
     "name": "stdout",
     "output_type": "stream",
     "text": [
      "{'pf_best_pos': array([ 644.96712599, 1613.10571694]), 'pf_best_theta': -0.6941495459966074, 'pf_mean_pos': array([ 644.87409497, 1613.19927012]), 'pf_mean_theta': -0.6941494648586256}\n",
      "frame 83\n",
      "Number of point tracks before run() 106\n",
      "Number of extended tracks before run() 2\n",
      "Updating extended object track =  1\n",
      "Updating extended object track =  0\n",
      "Updating extended object track =  1\n",
      "Updating extended object track =  1\n"
     ]
    },
    {
     "name": "stderr",
     "output_type": "stream",
     "text": [
      "C:\\Users\\gadli\\old_pc\\Tau\\Thesis\\polynoms\\tracker.py:94: VisibleDeprecationWarning: Creating an ndarray from ragged nested sequences (which is a list-or-tuple of lists-or-tuples-or ndarrays with different lengths or shapes) is deprecated. If you meant to do this, you must specify 'dtype=object' when creating the ndarray\n",
      "  Ha = np.array([1, z[0], z[0]**2])\n",
      "C:\\Users\\gadli\\old_pc\\Tau\\Thesis\\polynoms\\tracker.py:117: RuntimeWarning: divide by zero encountered in double_scalars\n",
      "  ratio = np.sqrt(lp)/le\n",
      "C:\\Users\\gadli\\Anaconda3\\lib\\site-packages\\nuscenes\\map_expansion\\map_api.py:1823: ShapelyDeprecationWarning: Iteration over multi-part geometries is deprecated and will be removed in Shapely 2.0. Use the `geoms` property to access the constituent parts of a multi-part geometry.\n",
      "  exteriors = [int_coords(poly.exterior.coords) for poly in polygons]\n",
      "C:\\Users\\gadli\\Anaconda3\\lib\\site-packages\\nuscenes\\map_expansion\\map_api.py:1824: ShapelyDeprecationWarning: Iteration over multi-part geometries is deprecated and will be removed in Shapely 2.0. Use the `geoms` property to access the constituent parts of a multi-part geometry.\n",
      "  interiors = [int_coords(pi.coords) for poly in polygons for pi in poly.interiors]\n"
     ]
    },
    {
     "name": "stdout",
     "output_type": "stream",
     "text": [
      "{'pf_best_pos': array([ 644.53881423, 1613.49487939]), 'pf_best_theta': -0.6939681505477542, 'pf_mean_pos': array([ 644.99338995, 1613.09460466]), 'pf_mean_theta': -0.6939681831828729}\n",
      "frame 84\n",
      "Number of point tracks before run() 100\n",
      "Number of extended tracks before run() 3\n"
     ]
    },
    {
     "name": "stderr",
     "output_type": "stream",
     "text": [
      "C:\\Users\\gadli\\old_pc\\Tau\\Thesis\\polynoms\\tracker.py:94: VisibleDeprecationWarning: Creating an ndarray from ragged nested sequences (which is a list-or-tuple of lists-or-tuples-or ndarrays with different lengths or shapes) is deprecated. If you meant to do this, you must specify 'dtype=object' when creating the ndarray\n",
      "  Ha = np.array([1, z[0], z[0]**2])\n",
      "C:\\Users\\gadli\\old_pc\\Tau\\Thesis\\polynoms\\tracker.py:117: RuntimeWarning: divide by zero encountered in double_scalars\n",
      "  ratio = np.sqrt(lp)/le\n"
     ]
    },
    {
     "name": "stdout",
     "output_type": "stream",
     "text": [
      "Updating extended object track =  1\n",
      "Updating extended object track =  1\n",
      "Updating extended object track =  1\n",
      "Updating extended object track =  0\n",
      "Updating extended object track =  1\n",
      "Updating extended object track =  0\n"
     ]
    },
    {
     "name": "stderr",
     "output_type": "stream",
     "text": [
      "C:\\Users\\gadli\\Anaconda3\\lib\\site-packages\\nuscenes\\map_expansion\\map_api.py:1823: ShapelyDeprecationWarning: Iteration over multi-part geometries is deprecated and will be removed in Shapely 2.0. Use the `geoms` property to access the constituent parts of a multi-part geometry.\n",
      "  exteriors = [int_coords(poly.exterior.coords) for poly in polygons]\n",
      "C:\\Users\\gadli\\Anaconda3\\lib\\site-packages\\nuscenes\\map_expansion\\map_api.py:1824: ShapelyDeprecationWarning: Iteration over multi-part geometries is deprecated and will be removed in Shapely 2.0. Use the `geoms` property to access the constituent parts of a multi-part geometry.\n",
      "  interiors = [int_coords(pi.coords) for poly in polygons for pi in poly.interiors]\n"
     ]
    },
    {
     "name": "stdout",
     "output_type": "stream",
     "text": [
      "{'pf_best_pos': array([ 645.27082597, 1612.83496491]), 'pf_best_theta': -0.6934350112124044, 'pf_mean_pos': array([ 645.15463387, 1612.95364905]), 'pf_mean_theta': -0.6934349419142487}\n",
      "frame 85\n",
      "Number of point tracks before run() 98\n",
      "Number of extended tracks before run() 3\n",
      "Updating extended object track =  1\n",
      "Updating extended object track =  1\n",
      "Updating extended object track =  1\n",
      "Updating extended object track =  0\n",
      "Updating extended object track =  2\n",
      "Updating extended object track =  2\n",
      "Updating extended object track =  0\n",
      "Updating extended object track =  2\n",
      "Updating extended object track =  2\n",
      "Updating extended object track =  2\n",
      "Updating extended object track =  1\n"
     ]
    },
    {
     "name": "stderr",
     "output_type": "stream",
     "text": [
      "C:\\Users\\gadli\\old_pc\\Tau\\Thesis\\polynoms\\tracker.py:94: VisibleDeprecationWarning: Creating an ndarray from ragged nested sequences (which is a list-or-tuple of lists-or-tuples-or ndarrays with different lengths or shapes) is deprecated. If you meant to do this, you must specify 'dtype=object' when creating the ndarray\n",
      "  Ha = np.array([1, z[0], z[0]**2])\n",
      "C:\\Users\\gadli\\old_pc\\Tau\\Thesis\\polynoms\\tracker.py:117: RuntimeWarning: divide by zero encountered in double_scalars\n",
      "  ratio = np.sqrt(lp)/le\n",
      "C:\\Users\\gadli\\Anaconda3\\lib\\site-packages\\nuscenes\\map_expansion\\map_api.py:1823: ShapelyDeprecationWarning: Iteration over multi-part geometries is deprecated and will be removed in Shapely 2.0. Use the `geoms` property to access the constituent parts of a multi-part geometry.\n",
      "  exteriors = [int_coords(poly.exterior.coords) for poly in polygons]\n",
      "C:\\Users\\gadli\\Anaconda3\\lib\\site-packages\\nuscenes\\map_expansion\\map_api.py:1824: ShapelyDeprecationWarning: Iteration over multi-part geometries is deprecated and will be removed in Shapely 2.0. Use the `geoms` property to access the constituent parts of a multi-part geometry.\n",
      "  interiors = [int_coords(pi.coords) for poly in polygons for pi in poly.interiors]\n"
     ]
    },
    {
     "name": "stdout",
     "output_type": "stream",
     "text": [
      "{'pf_best_pos': array([ 645.46836985, 1612.66941582]), 'pf_best_theta': -0.6935793647605051, 'pf_mean_pos': array([ 645.34212507, 1612.78981796]), 'pf_mean_theta': -0.6935793021085735}\n",
      "frame 86\n",
      "Number of point tracks before run() 87\n",
      "Number of extended tracks before run() 3\n",
      "Updating extended object track =  1\n",
      "Updating extended object track =  2\n",
      "Updating extended object track =  0\n",
      "Updating extended object track =  1\n",
      "Updating extended object track =  1\n"
     ]
    },
    {
     "name": "stderr",
     "output_type": "stream",
     "text": [
      "C:\\Users\\gadli\\old_pc\\Tau\\Thesis\\polynoms\\tracker.py:94: VisibleDeprecationWarning: Creating an ndarray from ragged nested sequences (which is a list-or-tuple of lists-or-tuples-or ndarrays with different lengths or shapes) is deprecated. If you meant to do this, you must specify 'dtype=object' when creating the ndarray\n",
      "  Ha = np.array([1, z[0], z[0]**2])\n",
      "C:\\Users\\gadli\\old_pc\\Tau\\Thesis\\polynoms\\tracker.py:117: RuntimeWarning: divide by zero encountered in double_scalars\n",
      "  ratio = np.sqrt(lp)/le\n",
      "C:\\Users\\gadli\\Anaconda3\\lib\\site-packages\\nuscenes\\map_expansion\\map_api.py:1823: ShapelyDeprecationWarning: Iteration over multi-part geometries is deprecated and will be removed in Shapely 2.0. Use the `geoms` property to access the constituent parts of a multi-part geometry.\n",
      "  exteriors = [int_coords(poly.exterior.coords) for poly in polygons]\n",
      "C:\\Users\\gadli\\Anaconda3\\lib\\site-packages\\nuscenes\\map_expansion\\map_api.py:1824: ShapelyDeprecationWarning: Iteration over multi-part geometries is deprecated and will be removed in Shapely 2.0. Use the `geoms` property to access the constituent parts of a multi-part geometry.\n",
      "  interiors = [int_coords(pi.coords) for poly in polygons for pi in poly.interiors]\n"
     ]
    },
    {
     "name": "stdout",
     "output_type": "stream",
     "text": [
      "{'pf_best_pos': array([ 645.52635357, 1612.63138   ]), 'pf_best_theta': -0.693620047159313, 'pf_mean_pos': array([ 645.59407899, 1612.56897122]), 'pf_mean_theta': -0.6936199788196691}\n",
      "frame 87\n",
      "Number of point tracks before run() 103\n",
      "Number of extended tracks before run() 3\n"
     ]
    },
    {
     "name": "stderr",
     "output_type": "stream",
     "text": [
      "C:\\Users\\gadli\\old_pc\\Tau\\Thesis\\polynoms\\tracker.py:94: VisibleDeprecationWarning: Creating an ndarray from ragged nested sequences (which is a list-or-tuple of lists-or-tuples-or ndarrays with different lengths or shapes) is deprecated. If you meant to do this, you must specify 'dtype=object' when creating the ndarray\n",
      "  Ha = np.array([1, z[0], z[0]**2])\n",
      "C:\\Users\\gadli\\old_pc\\Tau\\Thesis\\polynoms\\tracker.py:117: RuntimeWarning: divide by zero encountered in double_scalars\n",
      "  ratio = np.sqrt(lp)/le\n"
     ]
    },
    {
     "name": "stdout",
     "output_type": "stream",
     "text": [
      "Updating extended object track =  0\n",
      "Updating extended object track =  2\n",
      "Updating extended object track =  0\n",
      "Updating extended object track =  1\n",
      "Updating extended object track =  1\n",
      "Updating extended object track =  1\n",
      "Updating extended object track =  2\n"
     ]
    },
    {
     "name": "stderr",
     "output_type": "stream",
     "text": [
      "C:\\Users\\gadli\\Anaconda3\\lib\\site-packages\\nuscenes\\map_expansion\\map_api.py:1823: ShapelyDeprecationWarning: Iteration over multi-part geometries is deprecated and will be removed in Shapely 2.0. Use the `geoms` property to access the constituent parts of a multi-part geometry.\n",
      "  exteriors = [int_coords(poly.exterior.coords) for poly in polygons]\n",
      "C:\\Users\\gadli\\Anaconda3\\lib\\site-packages\\nuscenes\\map_expansion\\map_api.py:1824: ShapelyDeprecationWarning: Iteration over multi-part geometries is deprecated and will be removed in Shapely 2.0. Use the `geoms` property to access the constituent parts of a multi-part geometry.\n",
      "  interiors = [int_coords(pi.coords) for poly in polygons for pi in poly.interiors]\n"
     ]
    },
    {
     "name": "stdout",
     "output_type": "stream",
     "text": [
      "{'pf_best_pos': array([ 645.84273435, 1612.34370977]), 'pf_best_theta': -0.6934154103247332, 'pf_mean_pos': array([ 645.68918274, 1612.4876414 ]), 'pf_mean_theta': -0.6934154245350352}\n",
      "frame 88\n",
      "Number of point tracks before run() 94\n",
      "Number of extended tracks before run() 4\n"
     ]
    },
    {
     "name": "stderr",
     "output_type": "stream",
     "text": [
      "C:\\Users\\gadli\\old_pc\\Tau\\Thesis\\polynoms\\tracker.py:94: VisibleDeprecationWarning: Creating an ndarray from ragged nested sequences (which is a list-or-tuple of lists-or-tuples-or ndarrays with different lengths or shapes) is deprecated. If you meant to do this, you must specify 'dtype=object' when creating the ndarray\n",
      "  Ha = np.array([1, z[0], z[0]**2])\n",
      "C:\\Users\\gadli\\old_pc\\Tau\\Thesis\\polynoms\\tracker.py:117: RuntimeWarning: divide by zero encountered in double_scalars\n",
      "  ratio = np.sqrt(lp)/le\n"
     ]
    },
    {
     "name": "stdout",
     "output_type": "stream",
     "text": [
      "Updating extended object track =  2\n",
      "Updating extended object track =  3\n",
      "Updating extended object track =  2\n",
      "Updating extended object track =  2\n",
      "Updating extended object track =  2\n"
     ]
    },
    {
     "name": "stderr",
     "output_type": "stream",
     "text": [
      "C:\\Users\\gadli\\Anaconda3\\lib\\site-packages\\nuscenes\\map_expansion\\map_api.py:1823: ShapelyDeprecationWarning: Iteration over multi-part geometries is deprecated and will be removed in Shapely 2.0. Use the `geoms` property to access the constituent parts of a multi-part geometry.\n",
      "  exteriors = [int_coords(poly.exterior.coords) for poly in polygons]\n",
      "C:\\Users\\gadli\\Anaconda3\\lib\\site-packages\\nuscenes\\map_expansion\\map_api.py:1824: ShapelyDeprecationWarning: Iteration over multi-part geometries is deprecated and will be removed in Shapely 2.0. Use the `geoms` property to access the constituent parts of a multi-part geometry.\n",
      "  interiors = [int_coords(pi.coords) for poly in polygons for pi in poly.interiors]\n"
     ]
    },
    {
     "name": "stdout",
     "output_type": "stream",
     "text": [
      "{'pf_best_pos': array([ 646.09830374, 1612.12650278]), 'pf_best_theta': -0.6933176702786206, 'pf_mean_pos': array([ 645.78385648, 1612.40309206]), 'pf_mean_theta': -0.6933175945760885}\n",
      "frame 89\n",
      "Number of point tracks before run() 98\n",
      "Number of extended tracks before run() 4\n",
      "Updating extended object track =  3\n",
      "Updating extended object track =  1\n",
      "Updating extended object track =  3\n",
      "Updating extended object track =  2\n",
      "Updating extended object track =  1\n"
     ]
    },
    {
     "name": "stderr",
     "output_type": "stream",
     "text": [
      "C:\\Users\\gadli\\old_pc\\Tau\\Thesis\\polynoms\\tracker.py:94: VisibleDeprecationWarning: Creating an ndarray from ragged nested sequences (which is a list-or-tuple of lists-or-tuples-or ndarrays with different lengths or shapes) is deprecated. If you meant to do this, you must specify 'dtype=object' when creating the ndarray\n",
      "  Ha = np.array([1, z[0], z[0]**2])\n",
      "C:\\Users\\gadli\\old_pc\\Tau\\Thesis\\polynoms\\tracker.py:117: RuntimeWarning: divide by zero encountered in double_scalars\n",
      "  ratio = np.sqrt(lp)/le\n",
      "C:\\Users\\gadli\\Anaconda3\\lib\\site-packages\\nuscenes\\map_expansion\\map_api.py:1823: ShapelyDeprecationWarning: Iteration over multi-part geometries is deprecated and will be removed in Shapely 2.0. Use the `geoms` property to access the constituent parts of a multi-part geometry.\n",
      "  exteriors = [int_coords(poly.exterior.coords) for poly in polygons]\n",
      "C:\\Users\\gadli\\Anaconda3\\lib\\site-packages\\nuscenes\\map_expansion\\map_api.py:1824: ShapelyDeprecationWarning: Iteration over multi-part geometries is deprecated and will be removed in Shapely 2.0. Use the `geoms` property to access the constituent parts of a multi-part geometry.\n",
      "  interiors = [int_coords(pi.coords) for poly in polygons for pi in poly.interiors]\n"
     ]
    },
    {
     "name": "stdout",
     "output_type": "stream",
     "text": [
      "{'pf_best_pos': array([ 646.03827265, 1612.17403028]), 'pf_best_theta': -0.6931022763733301, 'pf_mean_pos': array([ 645.90783239, 1612.29759266]), 'pf_mean_theta': -0.6931023065024565}\n",
      "frame 90\n",
      "Number of point tracks before run() 94\n",
      "Number of extended tracks before run() 4\n",
      "Updating extended object track =  1\n",
      "Updating extended object track =  3\n",
      "Updating extended object track =  0\n",
      "Updating extended object track =  2\n",
      "Updating extended object track =  3\n",
      "Updating extended object track =  2\n"
     ]
    },
    {
     "name": "stderr",
     "output_type": "stream",
     "text": [
      "C:\\Users\\gadli\\old_pc\\Tau\\Thesis\\polynoms\\tracker.py:94: VisibleDeprecationWarning: Creating an ndarray from ragged nested sequences (which is a list-or-tuple of lists-or-tuples-or ndarrays with different lengths or shapes) is deprecated. If you meant to do this, you must specify 'dtype=object' when creating the ndarray\n",
      "  Ha = np.array([1, z[0], z[0]**2])\n",
      "C:\\Users\\gadli\\old_pc\\Tau\\Thesis\\polynoms\\tracker.py:117: RuntimeWarning: divide by zero encountered in double_scalars\n",
      "  ratio = np.sqrt(lp)/le\n",
      "C:\\Users\\gadli\\Anaconda3\\lib\\site-packages\\nuscenes\\map_expansion\\map_api.py:1823: ShapelyDeprecationWarning: Iteration over multi-part geometries is deprecated and will be removed in Shapely 2.0. Use the `geoms` property to access the constituent parts of a multi-part geometry.\n",
      "  exteriors = [int_coords(poly.exterior.coords) for poly in polygons]\n",
      "C:\\Users\\gadli\\Anaconda3\\lib\\site-packages\\nuscenes\\map_expansion\\map_api.py:1824: ShapelyDeprecationWarning: Iteration over multi-part geometries is deprecated and will be removed in Shapely 2.0. Use the `geoms` property to access the constituent parts of a multi-part geometry.\n",
      "  interiors = [int_coords(pi.coords) for poly in polygons for pi in poly.interiors]\n"
     ]
    },
    {
     "name": "stdout",
     "output_type": "stream",
     "text": [
      "{'pf_best_pos': array([ 646.33753012, 1611.91241394]), 'pf_best_theta': -0.6934360112786786, 'pf_mean_pos': array([ 645.99382987, 1612.22241209]), 'pf_mean_theta': -0.6934360369132909}\n",
      "frame 91\n",
      "Number of point tracks before run() 87\n",
      "Number of extended tracks before run() 4\n"
     ]
    },
    {
     "name": "stderr",
     "output_type": "stream",
     "text": [
      "C:\\Users\\gadli\\old_pc\\Tau\\Thesis\\polynoms\\tracker.py:94: VisibleDeprecationWarning: Creating an ndarray from ragged nested sequences (which is a list-or-tuple of lists-or-tuples-or ndarrays with different lengths or shapes) is deprecated. If you meant to do this, you must specify 'dtype=object' when creating the ndarray\n",
      "  Ha = np.array([1, z[0], z[0]**2])\n",
      "C:\\Users\\gadli\\old_pc\\Tau\\Thesis\\polynoms\\tracker.py:117: RuntimeWarning: divide by zero encountered in double_scalars\n",
      "  ratio = np.sqrt(lp)/le\n"
     ]
    },
    {
     "name": "stdout",
     "output_type": "stream",
     "text": [
      "Updating extended object track =  1\n",
      "Updating extended object track =  3\n",
      "Updating extended object track =  3\n",
      "Updating extended object track =  1\n"
     ]
    },
    {
     "name": "stderr",
     "output_type": "stream",
     "text": [
      "C:\\Users\\gadli\\Anaconda3\\lib\\site-packages\\nuscenes\\map_expansion\\map_api.py:1823: ShapelyDeprecationWarning: Iteration over multi-part geometries is deprecated and will be removed in Shapely 2.0. Use the `geoms` property to access the constituent parts of a multi-part geometry.\n",
      "  exteriors = [int_coords(poly.exterior.coords) for poly in polygons]\n",
      "C:\\Users\\gadli\\Anaconda3\\lib\\site-packages\\nuscenes\\map_expansion\\map_api.py:1824: ShapelyDeprecationWarning: Iteration over multi-part geometries is deprecated and will be removed in Shapely 2.0. Use the `geoms` property to access the constituent parts of a multi-part geometry.\n",
      "  interiors = [int_coords(pi.coords) for poly in polygons for pi in poly.interiors]\n"
     ]
    },
    {
     "name": "stdout",
     "output_type": "stream",
     "text": [
      "{'pf_best_pos': array([ 646.17092808, 1612.05991685]), 'pf_best_theta': -0.6932561601832465, 'pf_mean_pos': array([ 646.08003585, 1612.1460887 ]), 'pf_mean_theta': -0.6932561944617774}\n",
      "frame 92\n",
      "Number of point tracks before run() 76\n",
      "Number of extended tracks before run() 4\n",
      "Updating extended object track =  2\n",
      "Updating extended object track =  2\n",
      "Updating extended object track =  2\n"
     ]
    },
    {
     "name": "stderr",
     "output_type": "stream",
     "text": [
      "C:\\Users\\gadli\\old_pc\\Tau\\Thesis\\polynoms\\tracker.py:94: VisibleDeprecationWarning: Creating an ndarray from ragged nested sequences (which is a list-or-tuple of lists-or-tuples-or ndarrays with different lengths or shapes) is deprecated. If you meant to do this, you must specify 'dtype=object' when creating the ndarray\n",
      "  Ha = np.array([1, z[0], z[0]**2])\n",
      "C:\\Users\\gadli\\old_pc\\Tau\\Thesis\\polynoms\\tracker.py:117: RuntimeWarning: divide by zero encountered in double_scalars\n",
      "  ratio = np.sqrt(lp)/le\n",
      "C:\\Users\\gadli\\Anaconda3\\lib\\site-packages\\nuscenes\\map_expansion\\map_api.py:1823: ShapelyDeprecationWarning: Iteration over multi-part geometries is deprecated and will be removed in Shapely 2.0. Use the `geoms` property to access the constituent parts of a multi-part geometry.\n",
      "  exteriors = [int_coords(poly.exterior.coords) for poly in polygons]\n",
      "C:\\Users\\gadli\\Anaconda3\\lib\\site-packages\\nuscenes\\map_expansion\\map_api.py:1824: ShapelyDeprecationWarning: Iteration over multi-part geometries is deprecated and will be removed in Shapely 2.0. Use the `geoms` property to access the constituent parts of a multi-part geometry.\n",
      "  interiors = [int_coords(pi.coords) for poly in polygons for pi in poly.interiors]\n"
     ]
    },
    {
     "name": "stdout",
     "output_type": "stream",
     "text": [
      "{'pf_best_pos': array([ 646.3909666 , 1611.86713728]), 'pf_best_theta': -0.6931884089860088, 'pf_mean_pos': array([ 646.26784172, 1611.9815487 ]), 'pf_mean_theta': -0.6931884426295307}\n",
      "frame 93\n",
      "Number of point tracks before run() 78\n",
      "Number of extended tracks before run() 4\n"
     ]
    },
    {
     "name": "stderr",
     "output_type": "stream",
     "text": [
      "C:\\Users\\gadli\\old_pc\\Tau\\Thesis\\polynoms\\tracker.py:94: VisibleDeprecationWarning: Creating an ndarray from ragged nested sequences (which is a list-or-tuple of lists-or-tuples-or ndarrays with different lengths or shapes) is deprecated. If you meant to do this, you must specify 'dtype=object' when creating the ndarray\n",
      "  Ha = np.array([1, z[0], z[0]**2])\n",
      "C:\\Users\\gadli\\old_pc\\Tau\\Thesis\\polynoms\\tracker.py:117: RuntimeWarning: divide by zero encountered in double_scalars\n",
      "  ratio = np.sqrt(lp)/le\n"
     ]
    },
    {
     "name": "stdout",
     "output_type": "stream",
     "text": [
      "Updating extended object track =  2\n",
      "Updating extended object track =  0\n",
      "Updating extended object track =  0\n",
      "Updating extended object track =  2\n",
      "Updating extended object track =  2\n"
     ]
    },
    {
     "name": "stderr",
     "output_type": "stream",
     "text": [
      "C:\\Users\\gadli\\Anaconda3\\lib\\site-packages\\nuscenes\\map_expansion\\map_api.py:1823: ShapelyDeprecationWarning: Iteration over multi-part geometries is deprecated and will be removed in Shapely 2.0. Use the `geoms` property to access the constituent parts of a multi-part geometry.\n",
      "  exteriors = [int_coords(poly.exterior.coords) for poly in polygons]\n",
      "C:\\Users\\gadli\\Anaconda3\\lib\\site-packages\\nuscenes\\map_expansion\\map_api.py:1824: ShapelyDeprecationWarning: Iteration over multi-part geometries is deprecated and will be removed in Shapely 2.0. Use the `geoms` property to access the constituent parts of a multi-part geometry.\n",
      "  interiors = [int_coords(pi.coords) for poly in polygons for pi in poly.interiors]\n"
     ]
    },
    {
     "name": "stdout",
     "output_type": "stream",
     "text": [
      "{'pf_best_pos': array([ 646.52067124, 1611.75336732]), 'pf_best_theta': -0.6934130301620609, 'pf_mean_pos': array([ 646.36933992, 1611.89251992]), 'pf_mean_theta': -0.693413076637517}\n",
      "frame 94\n",
      "Number of point tracks before run() 80\n",
      "Number of extended tracks before run() 4\n"
     ]
    },
    {
     "name": "stderr",
     "output_type": "stream",
     "text": [
      "C:\\Users\\gadli\\old_pc\\Tau\\Thesis\\polynoms\\tracker.py:94: VisibleDeprecationWarning: Creating an ndarray from ragged nested sequences (which is a list-or-tuple of lists-or-tuples-or ndarrays with different lengths or shapes) is deprecated. If you meant to do this, you must specify 'dtype=object' when creating the ndarray\n",
      "  Ha = np.array([1, z[0], z[0]**2])\n",
      "C:\\Users\\gadli\\old_pc\\Tau\\Thesis\\polynoms\\tracker.py:117: RuntimeWarning: divide by zero encountered in double_scalars\n",
      "  ratio = np.sqrt(lp)/le\n"
     ]
    },
    {
     "name": "stdout",
     "output_type": "stream",
     "text": [
      "Updating extended object track =  2\n",
      "Updating extended object track =  0\n",
      "Updating extended object track =  1\n",
      "Updating extended object track =  0\n",
      "Updating extended object track =  2\n"
     ]
    },
    {
     "name": "stderr",
     "output_type": "stream",
     "text": [
      "C:\\Users\\gadli\\Anaconda3\\lib\\site-packages\\nuscenes\\map_expansion\\map_api.py:1823: ShapelyDeprecationWarning: Iteration over multi-part geometries is deprecated and will be removed in Shapely 2.0. Use the `geoms` property to access the constituent parts of a multi-part geometry.\n",
      "  exteriors = [int_coords(poly.exterior.coords) for poly in polygons]\n",
      "C:\\Users\\gadli\\Anaconda3\\lib\\site-packages\\nuscenes\\map_expansion\\map_api.py:1824: ShapelyDeprecationWarning: Iteration over multi-part geometries is deprecated and will be removed in Shapely 2.0. Use the `geoms` property to access the constituent parts of a multi-part geometry.\n",
      "  interiors = [int_coords(pi.coords) for poly in polygons for pi in poly.interiors]\n"
     ]
    },
    {
     "name": "stdout",
     "output_type": "stream",
     "text": [
      "{'pf_best_pos': array([ 647.33459488, 1611.04968418]), 'pf_best_theta': -0.6936983465143292, 'pf_mean_pos': array([ 646.45239962, 1611.81841421]), 'pf_mean_theta': -0.6936983451824752}\n",
      "frame 95\n",
      "Number of point tracks before run() 68\n",
      "Number of extended tracks before run() 5\n"
     ]
    },
    {
     "name": "stderr",
     "output_type": "stream",
     "text": [
      "C:\\Users\\gadli\\old_pc\\Tau\\Thesis\\polynoms\\tracker.py:94: VisibleDeprecationWarning: Creating an ndarray from ragged nested sequences (which is a list-or-tuple of lists-or-tuples-or ndarrays with different lengths or shapes) is deprecated. If you meant to do this, you must specify 'dtype=object' when creating the ndarray\n",
      "  Ha = np.array([1, z[0], z[0]**2])\n",
      "C:\\Users\\gadli\\old_pc\\Tau\\Thesis\\polynoms\\tracker.py:117: RuntimeWarning: divide by zero encountered in double_scalars\n",
      "  ratio = np.sqrt(lp)/le\n",
      "C:\\Users\\gadli\\Anaconda3\\lib\\site-packages\\nuscenes\\map_expansion\\map_api.py:1823: ShapelyDeprecationWarning: Iteration over multi-part geometries is deprecated and will be removed in Shapely 2.0. Use the `geoms` property to access the constituent parts of a multi-part geometry.\n",
      "  exteriors = [int_coords(poly.exterior.coords) for poly in polygons]\n",
      "C:\\Users\\gadli\\Anaconda3\\lib\\site-packages\\nuscenes\\map_expansion\\map_api.py:1824: ShapelyDeprecationWarning: Iteration over multi-part geometries is deprecated and will be removed in Shapely 2.0. Use the `geoms` property to access the constituent parts of a multi-part geometry.\n",
      "  interiors = [int_coords(pi.coords) for poly in polygons for pi in poly.interiors]\n"
     ]
    },
    {
     "name": "stdout",
     "output_type": "stream",
     "text": [
      "Updating extended object track =  1\n",
      "Updating extended object track =  3\n",
      "Updating extended object track =  3\n",
      "Updating extended object track =  3\n",
      "{'pf_best_pos': array([ 647.45768122, 1610.93701482]), 'pf_best_theta': -0.6940756498470737, 'pf_mean_pos': array([ 646.55877563, 1611.72093291]), 'pf_mean_theta': -0.694075649142029}\n",
      "frame 96\n",
      "Number of point tracks before run() 71\n",
      "Number of extended tracks before run() 5\n"
     ]
    },
    {
     "name": "stderr",
     "output_type": "stream",
     "text": [
      "C:\\Users\\gadli\\old_pc\\Tau\\Thesis\\polynoms\\tracker.py:94: VisibleDeprecationWarning: Creating an ndarray from ragged nested sequences (which is a list-or-tuple of lists-or-tuples-or ndarrays with different lengths or shapes) is deprecated. If you meant to do this, you must specify 'dtype=object' when creating the ndarray\n",
      "  Ha = np.array([1, z[0], z[0]**2])\n",
      "C:\\Users\\gadli\\old_pc\\Tau\\Thesis\\polynoms\\tracker.py:117: RuntimeWarning: divide by zero encountered in double_scalars\n",
      "  ratio = np.sqrt(lp)/le\n"
     ]
    },
    {
     "name": "stdout",
     "output_type": "stream",
     "text": [
      "Updating extended object track =  0\n",
      "Updating extended object track =  0\n",
      "Updating extended object track =  0\n",
      "Updating extended object track =  2\n",
      "Updating extended object track =  3\n",
      "Updating extended object track =  2\n",
      "Updating extended object track =  4\n",
      "Updating extended object track =  2\n",
      "Updating extended object track =  3\n"
     ]
    },
    {
     "name": "stderr",
     "output_type": "stream",
     "text": [
      "C:\\Users\\gadli\\Anaconda3\\lib\\site-packages\\nuscenes\\map_expansion\\map_api.py:1823: ShapelyDeprecationWarning: Iteration over multi-part geometries is deprecated and will be removed in Shapely 2.0. Use the `geoms` property to access the constituent parts of a multi-part geometry.\n",
      "  exteriors = [int_coords(poly.exterior.coords) for poly in polygons]\n",
      "C:\\Users\\gadli\\Anaconda3\\lib\\site-packages\\nuscenes\\map_expansion\\map_api.py:1824: ShapelyDeprecationWarning: Iteration over multi-part geometries is deprecated and will be removed in Shapely 2.0. Use the `geoms` property to access the constituent parts of a multi-part geometry.\n",
      "  interiors = [int_coords(pi.coords) for poly in polygons for pi in poly.interiors]\n"
     ]
    },
    {
     "name": "stdout",
     "output_type": "stream",
     "text": [
      "{'pf_best_pos': array([ 646.6572844 , 1611.63627859]), 'pf_best_theta': -0.693670514924646, 'pf_mean_pos': array([ 646.68803586, 1611.60957494]), 'pf_mean_theta': -0.6936704054029769}\n",
      "frame 97\n",
      "Number of point tracks before run() 80\n",
      "Number of extended tracks before run() 5\n"
     ]
    },
    {
     "name": "stderr",
     "output_type": "stream",
     "text": [
      "C:\\Users\\gadli\\old_pc\\Tau\\Thesis\\polynoms\\tracker.py:94: VisibleDeprecationWarning: Creating an ndarray from ragged nested sequences (which is a list-or-tuple of lists-or-tuples-or ndarrays with different lengths or shapes) is deprecated. If you meant to do this, you must specify 'dtype=object' when creating the ndarray\n",
      "  Ha = np.array([1, z[0], z[0]**2])\n",
      "C:\\Users\\gadli\\old_pc\\Tau\\Thesis\\polynoms\\tracker.py:117: RuntimeWarning: divide by zero encountered in double_scalars\n",
      "  ratio = np.sqrt(lp)/le\n"
     ]
    },
    {
     "name": "stdout",
     "output_type": "stream",
     "text": [
      "Updating extended object track =  3\n",
      "Updating extended object track =  3\n",
      "Updating extended object track =  2\n",
      "Updating extended object track =  0\n",
      "Updating extended object track =  2\n",
      "Updating extended object track =  3\n",
      "Updating extended object track =  3\n",
      "Updating extended object track =  2\n",
      "Updating extended object track =  2\n",
      "Updating extended object track =  3\n"
     ]
    },
    {
     "name": "stderr",
     "output_type": "stream",
     "text": [
      "C:\\Users\\gadli\\Anaconda3\\lib\\site-packages\\nuscenes\\map_expansion\\map_api.py:1823: ShapelyDeprecationWarning: Iteration over multi-part geometries is deprecated and will be removed in Shapely 2.0. Use the `geoms` property to access the constituent parts of a multi-part geometry.\n",
      "  exteriors = [int_coords(poly.exterior.coords) for poly in polygons]\n",
      "C:\\Users\\gadli\\Anaconda3\\lib\\site-packages\\nuscenes\\map_expansion\\map_api.py:1824: ShapelyDeprecationWarning: Iteration over multi-part geometries is deprecated and will be removed in Shapely 2.0. Use the `geoms` property to access the constituent parts of a multi-part geometry.\n",
      "  interiors = [int_coords(pi.coords) for poly in polygons for pi in poly.interiors]\n"
     ]
    },
    {
     "name": "stdout",
     "output_type": "stream",
     "text": [
      "{'pf_best_pos': array([ 647.99690748, 1610.47200923]), 'pf_best_theta': -0.6943033376148322, 'pf_mean_pos': array([ 646.97264922, 1611.3603977 ]), 'pf_mean_theta': -0.6943033886609584}\n",
      "frame 98\n",
      "Number of point tracks before run() 77\n",
      "Number of extended tracks before run() 5\n"
     ]
    },
    {
     "name": "stderr",
     "output_type": "stream",
     "text": [
      "C:\\Users\\gadli\\old_pc\\Tau\\Thesis\\polynoms\\tracker.py:94: VisibleDeprecationWarning: Creating an ndarray from ragged nested sequences (which is a list-or-tuple of lists-or-tuples-or ndarrays with different lengths or shapes) is deprecated. If you meant to do this, you must specify 'dtype=object' when creating the ndarray\n",
      "  Ha = np.array([1, z[0], z[0]**2])\n",
      "C:\\Users\\gadli\\old_pc\\Tau\\Thesis\\polynoms\\tracker.py:117: RuntimeWarning: divide by zero encountered in double_scalars\n",
      "  ratio = np.sqrt(lp)/le\n"
     ]
    },
    {
     "name": "stdout",
     "output_type": "stream",
     "text": [
      "Updating extended object track =  2\n",
      "Updating extended object track =  2\n",
      "Updating extended object track =  2\n",
      "Updating extended object track =  3\n",
      "Updating extended object track =  2\n",
      "Updating extended object track =  2\n",
      "Updating extended object track =  4\n"
     ]
    },
    {
     "name": "stderr",
     "output_type": "stream",
     "text": [
      "C:\\Users\\gadli\\Anaconda3\\lib\\site-packages\\nuscenes\\map_expansion\\map_api.py:1823: ShapelyDeprecationWarning: Iteration over multi-part geometries is deprecated and will be removed in Shapely 2.0. Use the `geoms` property to access the constituent parts of a multi-part geometry.\n",
      "  exteriors = [int_coords(poly.exterior.coords) for poly in polygons]\n",
      "C:\\Users\\gadli\\Anaconda3\\lib\\site-packages\\nuscenes\\map_expansion\\map_api.py:1824: ShapelyDeprecationWarning: Iteration over multi-part geometries is deprecated and will be removed in Shapely 2.0. Use the `geoms` property to access the constituent parts of a multi-part geometry.\n",
      "  interiors = [int_coords(pi.coords) for poly in polygons for pi in poly.interiors]\n"
     ]
    },
    {
     "name": "stdout",
     "output_type": "stream",
     "text": [
      "{'pf_best_pos': array([ 647.83399485, 1610.61533947]), 'pf_best_theta': -0.6947667393321986, 'pf_mean_pos': array([ 647.11328999, 1611.23812461]), 'pf_mean_theta': -0.6947668011777597}\n",
      "frame 99\n",
      "Number of point tracks before run() 78\n",
      "Number of extended tracks before run() 5\n"
     ]
    },
    {
     "name": "stderr",
     "output_type": "stream",
     "text": [
      "C:\\Users\\gadli\\old_pc\\Tau\\Thesis\\polynoms\\tracker.py:94: VisibleDeprecationWarning: Creating an ndarray from ragged nested sequences (which is a list-or-tuple of lists-or-tuples-or ndarrays with different lengths or shapes) is deprecated. If you meant to do this, you must specify 'dtype=object' when creating the ndarray\n",
      "  Ha = np.array([1, z[0], z[0]**2])\n",
      "C:\\Users\\gadli\\old_pc\\Tau\\Thesis\\polynoms\\tracker.py:117: RuntimeWarning: divide by zero encountered in double_scalars\n",
      "  ratio = np.sqrt(lp)/le\n"
     ]
    },
    {
     "name": "stdout",
     "output_type": "stream",
     "text": [
      "Updating extended object track =  2\n",
      "Updating extended object track =  2\n",
      "Updating extended object track =  2\n",
      "Updating extended object track =  2\n",
      "Updating extended object track =  3\n"
     ]
    },
    {
     "name": "stderr",
     "output_type": "stream",
     "text": [
      "C:\\Users\\gadli\\Anaconda3\\lib\\site-packages\\nuscenes\\map_expansion\\map_api.py:1823: ShapelyDeprecationWarning: Iteration over multi-part geometries is deprecated and will be removed in Shapely 2.0. Use the `geoms` property to access the constituent parts of a multi-part geometry.\n",
      "  exteriors = [int_coords(poly.exterior.coords) for poly in polygons]\n",
      "C:\\Users\\gadli\\Anaconda3\\lib\\site-packages\\nuscenes\\map_expansion\\map_api.py:1824: ShapelyDeprecationWarning: Iteration over multi-part geometries is deprecated and will be removed in Shapely 2.0. Use the `geoms` property to access the constituent parts of a multi-part geometry.\n",
      "  interiors = [int_coords(pi.coords) for poly in polygons for pi in poly.interiors]\n"
     ]
    },
    {
     "name": "stdout",
     "output_type": "stream",
     "text": [
      "{'pf_best_pos': array([ 648.10465415, 1610.37486729]), 'pf_best_theta': -0.6950280756751894, 'pf_mean_pos': array([ 647.23930866, 1611.12699136]), 'pf_mean_theta': -0.6950281397391052}\n",
      "frame 100\n",
      "Number of point tracks before run() 82\n",
      "Number of extended tracks before run() 5\n",
      "Updating extended object track =  1\n",
      "Updating extended object track =  3\n",
      "Updating extended object track =  2\n",
      "Updating extended object track =  2\n",
      "Updating extended object track =  4\n",
      "Updating extended object track =  3\n",
      "Updating extended object track =  1\n"
     ]
    },
    {
     "name": "stderr",
     "output_type": "stream",
     "text": [
      "C:\\Users\\gadli\\old_pc\\Tau\\Thesis\\polynoms\\tracker.py:94: VisibleDeprecationWarning: Creating an ndarray from ragged nested sequences (which is a list-or-tuple of lists-or-tuples-or ndarrays with different lengths or shapes) is deprecated. If you meant to do this, you must specify 'dtype=object' when creating the ndarray\n",
      "  Ha = np.array([1, z[0], z[0]**2])\n",
      "C:\\Users\\gadli\\old_pc\\Tau\\Thesis\\polynoms\\tracker.py:117: RuntimeWarning: divide by zero encountered in double_scalars\n",
      "  ratio = np.sqrt(lp)/le\n",
      "C:\\Users\\gadli\\Anaconda3\\lib\\site-packages\\nuscenes\\map_expansion\\map_api.py:1823: ShapelyDeprecationWarning: Iteration over multi-part geometries is deprecated and will be removed in Shapely 2.0. Use the `geoms` property to access the constituent parts of a multi-part geometry.\n",
      "  exteriors = [int_coords(poly.exterior.coords) for poly in polygons]\n",
      "C:\\Users\\gadli\\Anaconda3\\lib\\site-packages\\nuscenes\\map_expansion\\map_api.py:1824: ShapelyDeprecationWarning: Iteration over multi-part geometries is deprecated and will be removed in Shapely 2.0. Use the `geoms` property to access the constituent parts of a multi-part geometry.\n",
      "  interiors = [int_coords(pi.coords) for poly in polygons for pi in poly.interiors]\n"
     ]
    },
    {
     "name": "stdout",
     "output_type": "stream",
     "text": [
      "{'pf_best_pos': array([ 648.11957781, 1610.36152557]), 'pf_best_theta': -0.6953702011520924, 'pf_mean_pos': array([ 647.7868361 , 1610.64725864]), 'pf_mean_theta': -0.6953702424671893}\n",
      "frame 101\n",
      "Number of point tracks before run() 85\n",
      "Number of extended tracks before run() 5\n"
     ]
    },
    {
     "name": "stderr",
     "output_type": "stream",
     "text": [
      "C:\\Users\\gadli\\old_pc\\Tau\\Thesis\\polynoms\\tracker.py:94: VisibleDeprecationWarning: Creating an ndarray from ragged nested sequences (which is a list-or-tuple of lists-or-tuples-or ndarrays with different lengths or shapes) is deprecated. If you meant to do this, you must specify 'dtype=object' when creating the ndarray\n",
      "  Ha = np.array([1, z[0], z[0]**2])\n",
      "C:\\Users\\gadli\\old_pc\\Tau\\Thesis\\polynoms\\tracker.py:117: RuntimeWarning: divide by zero encountered in double_scalars\n",
      "  ratio = np.sqrt(lp)/le\n"
     ]
    },
    {
     "name": "stdout",
     "output_type": "stream",
     "text": [
      "Updating extended object track =  3\n",
      "Updating extended object track =  0\n",
      "Updating extended object track =  1\n",
      "Updating extended object track =  2\n",
      "Updating extended object track =  4\n",
      "Updating extended object track =  3\n",
      "Updating extended object track =  2\n",
      "Updating extended object track =  1\n"
     ]
    },
    {
     "name": "stderr",
     "output_type": "stream",
     "text": [
      "C:\\Users\\gadli\\Anaconda3\\lib\\site-packages\\nuscenes\\map_expansion\\map_api.py:1823: ShapelyDeprecationWarning: Iteration over multi-part geometries is deprecated and will be removed in Shapely 2.0. Use the `geoms` property to access the constituent parts of a multi-part geometry.\n",
      "  exteriors = [int_coords(poly.exterior.coords) for poly in polygons]\n",
      "C:\\Users\\gadli\\Anaconda3\\lib\\site-packages\\nuscenes\\map_expansion\\map_api.py:1824: ShapelyDeprecationWarning: Iteration over multi-part geometries is deprecated and will be removed in Shapely 2.0. Use the `geoms` property to access the constituent parts of a multi-part geometry.\n",
      "  interiors = [int_coords(pi.coords) for poly in polygons for pi in poly.interiors]\n"
     ]
    },
    {
     "name": "stdout",
     "output_type": "stream",
     "text": [
      "{'pf_best_pos': array([ 647.37640777, 1611.00011415]), 'pf_best_theta': -0.6955748001067552, 'pf_mean_pos': array([ 647.80145129, 1610.63333613]), 'pf_mean_theta': -0.6955746393161096}\n",
      "frame 102\n",
      "Number of point tracks before run() 74\n",
      "Number of extended tracks before run() 5\n"
     ]
    },
    {
     "name": "stderr",
     "output_type": "stream",
     "text": [
      "C:\\Users\\gadli\\old_pc\\Tau\\Thesis\\polynoms\\tracker.py:94: VisibleDeprecationWarning: Creating an ndarray from ragged nested sequences (which is a list-or-tuple of lists-or-tuples-or ndarrays with different lengths or shapes) is deprecated. If you meant to do this, you must specify 'dtype=object' when creating the ndarray\n",
      "  Ha = np.array([1, z[0], z[0]**2])\n",
      "C:\\Users\\gadli\\old_pc\\Tau\\Thesis\\polynoms\\tracker.py:117: RuntimeWarning: divide by zero encountered in double_scalars\n",
      "  ratio = np.sqrt(lp)/le\n"
     ]
    },
    {
     "name": "stdout",
     "output_type": "stream",
     "text": [
      "Updating extended object track =  0\n",
      "Updating extended object track =  4\n",
      "Updating extended object track =  0\n"
     ]
    },
    {
     "name": "stderr",
     "output_type": "stream",
     "text": [
      "C:\\Users\\gadli\\Anaconda3\\lib\\site-packages\\nuscenes\\map_expansion\\map_api.py:1823: ShapelyDeprecationWarning: Iteration over multi-part geometries is deprecated and will be removed in Shapely 2.0. Use the `geoms` property to access the constituent parts of a multi-part geometry.\n",
      "  exteriors = [int_coords(poly.exterior.coords) for poly in polygons]\n",
      "C:\\Users\\gadli\\Anaconda3\\lib\\site-packages\\nuscenes\\map_expansion\\map_api.py:1824: ShapelyDeprecationWarning: Iteration over multi-part geometries is deprecated and will be removed in Shapely 2.0. Use the `geoms` property to access the constituent parts of a multi-part geometry.\n",
      "  interiors = [int_coords(pi.coords) for poly in polygons for pi in poly.interiors]\n"
     ]
    },
    {
     "name": "stdout",
     "output_type": "stream",
     "text": [
      "{'pf_best_pos': array([ 647.56525752, 1610.83203206]), 'pf_best_theta': -0.6955857105971011, 'pf_mean_pos': array([ 647.87768461, 1610.56412942]), 'pf_mean_theta': -0.6955855546605311}\n",
      "frame 103\n",
      "Number of point tracks before run() 74\n",
      "Number of extended tracks before run() 5\n",
      "Updating extended object track =  0\n",
      "Updating extended object track =  3\n",
      "Updating extended object track =  1\n",
      "Updating extended object track =  2\n",
      "Updating extended object track =  3\n"
     ]
    },
    {
     "name": "stderr",
     "output_type": "stream",
     "text": [
      "C:\\Users\\gadli\\old_pc\\Tau\\Thesis\\polynoms\\tracker.py:94: VisibleDeprecationWarning: Creating an ndarray from ragged nested sequences (which is a list-or-tuple of lists-or-tuples-or ndarrays with different lengths or shapes) is deprecated. If you meant to do this, you must specify 'dtype=object' when creating the ndarray\n",
      "  Ha = np.array([1, z[0], z[0]**2])\n",
      "C:\\Users\\gadli\\old_pc\\Tau\\Thesis\\polynoms\\tracker.py:117: RuntimeWarning: divide by zero encountered in double_scalars\n",
      "  ratio = np.sqrt(lp)/le\n",
      "C:\\Users\\gadli\\Anaconda3\\lib\\site-packages\\nuscenes\\map_expansion\\map_api.py:1823: ShapelyDeprecationWarning: Iteration over multi-part geometries is deprecated and will be removed in Shapely 2.0. Use the `geoms` property to access the constituent parts of a multi-part geometry.\n",
      "  exteriors = [int_coords(poly.exterior.coords) for poly in polygons]\n",
      "C:\\Users\\gadli\\Anaconda3\\lib\\site-packages\\nuscenes\\map_expansion\\map_api.py:1824: ShapelyDeprecationWarning: Iteration over multi-part geometries is deprecated and will be removed in Shapely 2.0. Use the `geoms` property to access the constituent parts of a multi-part geometry.\n",
      "  interiors = [int_coords(pi.coords) for poly in polygons for pi in poly.interiors]\n"
     ]
    },
    {
     "name": "stdout",
     "output_type": "stream",
     "text": [
      "{'pf_best_pos': array([ 648.76186988, 1609.78918045]), 'pf_best_theta': -0.6959337364868574, 'pf_mean_pos': array([ 648.11539352, 1610.35567488]), 'pf_mean_theta': -0.6959337005122088}\n",
      "frame 104\n",
      "Number of point tracks before run() 87\n",
      "Number of extended tracks before run() 5\n"
     ]
    },
    {
     "name": "stderr",
     "output_type": "stream",
     "text": [
      "C:\\Users\\gadli\\old_pc\\Tau\\Thesis\\polynoms\\tracker.py:94: VisibleDeprecationWarning: Creating an ndarray from ragged nested sequences (which is a list-or-tuple of lists-or-tuples-or ndarrays with different lengths or shapes) is deprecated. If you meant to do this, you must specify 'dtype=object' when creating the ndarray\n",
      "  Ha = np.array([1, z[0], z[0]**2])\n",
      "C:\\Users\\gadli\\old_pc\\Tau\\Thesis\\polynoms\\tracker.py:117: RuntimeWarning: divide by zero encountered in double_scalars\n",
      "  ratio = np.sqrt(lp)/le\n"
     ]
    },
    {
     "name": "stdout",
     "output_type": "stream",
     "text": [
      "Updating extended object track =  3\n",
      "Updating extended object track =  4\n",
      "Updating extended object track =  1\n",
      "Updating extended object track =  3\n",
      "Updating extended object track =  2\n",
      "Updating extended object track =  3\n"
     ]
    },
    {
     "name": "stderr",
     "output_type": "stream",
     "text": [
      "C:\\Users\\gadli\\Anaconda3\\lib\\site-packages\\nuscenes\\map_expansion\\map_api.py:1823: ShapelyDeprecationWarning: Iteration over multi-part geometries is deprecated and will be removed in Shapely 2.0. Use the `geoms` property to access the constituent parts of a multi-part geometry.\n",
      "  exteriors = [int_coords(poly.exterior.coords) for poly in polygons]\n",
      "C:\\Users\\gadli\\Anaconda3\\lib\\site-packages\\nuscenes\\map_expansion\\map_api.py:1824: ShapelyDeprecationWarning: Iteration over multi-part geometries is deprecated and will be removed in Shapely 2.0. Use the `geoms` property to access the constituent parts of a multi-part geometry.\n",
      "  interiors = [int_coords(pi.coords) for poly in polygons for pi in poly.interiors]\n"
     ]
    },
    {
     "name": "stdout",
     "output_type": "stream",
     "text": [
      "{'pf_best_pos': array([ 648.87285539, 1609.6910353 ]), 'pf_best_theta': -0.6962612554155809, 'pf_mean_pos': array([ 648.27514594, 1610.21561482]), 'pf_mean_theta': -0.6962612011884493}\n",
      "frame 105\n",
      "Number of point tracks before run() 95\n",
      "Number of extended tracks before run() 5\n"
     ]
    },
    {
     "name": "stderr",
     "output_type": "stream",
     "text": [
      "C:\\Users\\gadli\\old_pc\\Tau\\Thesis\\polynoms\\tracker.py:94: VisibleDeprecationWarning: Creating an ndarray from ragged nested sequences (which is a list-or-tuple of lists-or-tuples-or ndarrays with different lengths or shapes) is deprecated. If you meant to do this, you must specify 'dtype=object' when creating the ndarray\n",
      "  Ha = np.array([1, z[0], z[0]**2])\n",
      "C:\\Users\\gadli\\old_pc\\Tau\\Thesis\\polynoms\\tracker.py:117: RuntimeWarning: divide by zero encountered in double_scalars\n",
      "  ratio = np.sqrt(lp)/le\n"
     ]
    },
    {
     "name": "stdout",
     "output_type": "stream",
     "text": [
      "Updating extended object track =  1\n",
      "Updating extended object track =  3\n",
      "Updating extended object track =  3\n",
      "Updating extended object track =  4\n",
      "Updating extended object track =  3\n",
      "Updating extended object track =  2\n",
      "Updating extended object track =  3\n"
     ]
    },
    {
     "name": "stderr",
     "output_type": "stream",
     "text": [
      "C:\\Users\\gadli\\Anaconda3\\lib\\site-packages\\nuscenes\\map_expansion\\map_api.py:1823: ShapelyDeprecationWarning: Iteration over multi-part geometries is deprecated and will be removed in Shapely 2.0. Use the `geoms` property to access the constituent parts of a multi-part geometry.\n",
      "  exteriors = [int_coords(poly.exterior.coords) for poly in polygons]\n",
      "C:\\Users\\gadli\\Anaconda3\\lib\\site-packages\\nuscenes\\map_expansion\\map_api.py:1824: ShapelyDeprecationWarning: Iteration over multi-part geometries is deprecated and will be removed in Shapely 2.0. Use the `geoms` property to access the constituent parts of a multi-part geometry.\n",
      "  interiors = [int_coords(pi.coords) for poly in polygons for pi in poly.interiors]\n"
     ]
    },
    {
     "name": "stdout",
     "output_type": "stream",
     "text": [
      "{'pf_best_pos': array([ 648.60306209, 1609.93160665]), 'pf_best_theta': -0.6965203372171018, 'pf_mean_pos': array([ 648.46110535, 1610.05147709]), 'pf_mean_theta': -0.6965204048363269}\n",
      "frame 106\n",
      "Number of point tracks before run() 91\n",
      "Number of extended tracks before run() 5\n"
     ]
    },
    {
     "name": "stderr",
     "output_type": "stream",
     "text": [
      "C:\\Users\\gadli\\old_pc\\Tau\\Thesis\\polynoms\\tracker.py:94: VisibleDeprecationWarning: Creating an ndarray from ragged nested sequences (which is a list-or-tuple of lists-or-tuples-or ndarrays with different lengths or shapes) is deprecated. If you meant to do this, you must specify 'dtype=object' when creating the ndarray\n",
      "  Ha = np.array([1, z[0], z[0]**2])\n",
      "C:\\Users\\gadli\\old_pc\\Tau\\Thesis\\polynoms\\tracker.py:117: RuntimeWarning: divide by zero encountered in double_scalars\n",
      "  ratio = np.sqrt(lp)/le\n"
     ]
    },
    {
     "name": "stdout",
     "output_type": "stream",
     "text": [
      "Updating extended object track =  2\n",
      "Updating extended object track =  4\n",
      "Updating extended object track =  3\n",
      "Updating extended object track =  2\n"
     ]
    },
    {
     "name": "stderr",
     "output_type": "stream",
     "text": [
      "C:\\Users\\gadli\\Anaconda3\\lib\\site-packages\\nuscenes\\map_expansion\\map_api.py:1823: ShapelyDeprecationWarning: Iteration over multi-part geometries is deprecated and will be removed in Shapely 2.0. Use the `geoms` property to access the constituent parts of a multi-part geometry.\n",
      "  exteriors = [int_coords(poly.exterior.coords) for poly in polygons]\n",
      "C:\\Users\\gadli\\Anaconda3\\lib\\site-packages\\nuscenes\\map_expansion\\map_api.py:1824: ShapelyDeprecationWarning: Iteration over multi-part geometries is deprecated and will be removed in Shapely 2.0. Use the `geoms` property to access the constituent parts of a multi-part geometry.\n",
      "  interiors = [int_coords(pi.coords) for poly in polygons for pi in poly.interiors]\n"
     ]
    },
    {
     "name": "stdout",
     "output_type": "stream",
     "text": [
      "{'pf_best_pos': array([ 648.78654993, 1609.76797052]), 'pf_best_theta': -0.6970346796927132, 'pf_mean_pos': array([ 648.606666  , 1609.92283062]), 'pf_mean_theta': -0.697034767929969}\n",
      "frame 107\n",
      "Number of point tracks before run() 89\n",
      "Number of extended tracks before run() 5\n"
     ]
    },
    {
     "name": "stderr",
     "output_type": "stream",
     "text": [
      "C:\\Users\\gadli\\old_pc\\Tau\\Thesis\\polynoms\\tracker.py:94: VisibleDeprecationWarning: Creating an ndarray from ragged nested sequences (which is a list-or-tuple of lists-or-tuples-or ndarrays with different lengths or shapes) is deprecated. If you meant to do this, you must specify 'dtype=object' when creating the ndarray\n",
      "  Ha = np.array([1, z[0], z[0]**2])\n",
      "C:\\Users\\gadli\\old_pc\\Tau\\Thesis\\polynoms\\tracker.py:117: RuntimeWarning: divide by zero encountered in double_scalars\n",
      "  ratio = np.sqrt(lp)/le\n"
     ]
    },
    {
     "name": "stdout",
     "output_type": "stream",
     "text": [
      "Updating extended object track =  1\n",
      "Updating extended object track =  2\n",
      "Updating extended object track =  2\n"
     ]
    },
    {
     "name": "stderr",
     "output_type": "stream",
     "text": [
      "C:\\Users\\gadli\\Anaconda3\\lib\\site-packages\\nuscenes\\map_expansion\\map_api.py:1823: ShapelyDeprecationWarning: Iteration over multi-part geometries is deprecated and will be removed in Shapely 2.0. Use the `geoms` property to access the constituent parts of a multi-part geometry.\n",
      "  exteriors = [int_coords(poly.exterior.coords) for poly in polygons]\n",
      "C:\\Users\\gadli\\Anaconda3\\lib\\site-packages\\nuscenes\\map_expansion\\map_api.py:1824: ShapelyDeprecationWarning: Iteration over multi-part geometries is deprecated and will be removed in Shapely 2.0. Use the `geoms` property to access the constituent parts of a multi-part geometry.\n",
      "  interiors = [int_coords(pi.coords) for poly in polygons for pi in poly.interiors]\n"
     ]
    },
    {
     "name": "stdout",
     "output_type": "stream",
     "text": [
      "{'pf_best_pos': array([ 649.02747797, 1609.55616322]), 'pf_best_theta': -0.6974517095736852, 'pf_mean_pos': array([ 648.74400425, 1609.8017309 ]), 'pf_mean_theta': -0.6974517831204449}\n",
      "frame 108\n",
      "Number of point tracks before run() 88\n",
      "Number of extended tracks before run() 5\n"
     ]
    },
    {
     "name": "stderr",
     "output_type": "stream",
     "text": [
      "C:\\Users\\gadli\\old_pc\\Tau\\Thesis\\polynoms\\tracker.py:94: VisibleDeprecationWarning: Creating an ndarray from ragged nested sequences (which is a list-or-tuple of lists-or-tuples-or ndarrays with different lengths or shapes) is deprecated. If you meant to do this, you must specify 'dtype=object' when creating the ndarray\n",
      "  Ha = np.array([1, z[0], z[0]**2])\n",
      "C:\\Users\\gadli\\old_pc\\Tau\\Thesis\\polynoms\\tracker.py:117: RuntimeWarning: divide by zero encountered in double_scalars\n",
      "  ratio = np.sqrt(lp)/le\n"
     ]
    },
    {
     "name": "stdout",
     "output_type": "stream",
     "text": [
      "Updating extended object track =  3\n",
      "Updating extended object track =  3\n",
      "Updating extended object track =  3\n",
      "Updating extended object track =  1\n",
      "Updating extended object track =  2\n",
      "Updating extended object track =  3\n",
      "Updating extended object track =  4\n"
     ]
    },
    {
     "name": "stderr",
     "output_type": "stream",
     "text": [
      "C:\\Users\\gadli\\Anaconda3\\lib\\site-packages\\nuscenes\\map_expansion\\map_api.py:1823: ShapelyDeprecationWarning: Iteration over multi-part geometries is deprecated and will be removed in Shapely 2.0. Use the `geoms` property to access the constituent parts of a multi-part geometry.\n",
      "  exteriors = [int_coords(poly.exterior.coords) for poly in polygons]\n",
      "C:\\Users\\gadli\\Anaconda3\\lib\\site-packages\\nuscenes\\map_expansion\\map_api.py:1824: ShapelyDeprecationWarning: Iteration over multi-part geometries is deprecated and will be removed in Shapely 2.0. Use the `geoms` property to access the constituent parts of a multi-part geometry.\n",
      "  interiors = [int_coords(pi.coords) for poly in polygons for pi in poly.interiors]\n"
     ]
    },
    {
     "name": "stdout",
     "output_type": "stream",
     "text": [
      "{'pf_best_pos': array([ 647.86502467, 1610.56222389]), 'pf_best_theta': -0.6977792400622969, 'pf_mean_pos': array([ 648.72571877, 1609.81709369]), 'pf_mean_theta': -0.6977791624977813}\n",
      "frame 109\n",
      "Number of point tracks before run() 80\n",
      "Number of extended tracks before run() 6\n"
     ]
    },
    {
     "name": "stderr",
     "output_type": "stream",
     "text": [
      "C:\\Users\\gadli\\old_pc\\Tau\\Thesis\\polynoms\\tracker.py:94: VisibleDeprecationWarning: Creating an ndarray from ragged nested sequences (which is a list-or-tuple of lists-or-tuples-or ndarrays with different lengths or shapes) is deprecated. If you meant to do this, you must specify 'dtype=object' when creating the ndarray\n",
      "  Ha = np.array([1, z[0], z[0]**2])\n",
      "C:\\Users\\gadli\\old_pc\\Tau\\Thesis\\polynoms\\tracker.py:117: RuntimeWarning: divide by zero encountered in double_scalars\n",
      "  ratio = np.sqrt(lp)/le\n",
      "C:\\Users\\gadli\\Anaconda3\\lib\\site-packages\\nuscenes\\map_expansion\\map_api.py:1823: ShapelyDeprecationWarning: Iteration over multi-part geometries is deprecated and will be removed in Shapely 2.0. Use the `geoms` property to access the constituent parts of a multi-part geometry.\n",
      "  exteriors = [int_coords(poly.exterior.coords) for poly in polygons]\n",
      "C:\\Users\\gadli\\Anaconda3\\lib\\site-packages\\nuscenes\\map_expansion\\map_api.py:1824: ShapelyDeprecationWarning: Iteration over multi-part geometries is deprecated and will be removed in Shapely 2.0. Use the `geoms` property to access the constituent parts of a multi-part geometry.\n",
      "  interiors = [int_coords(pi.coords) for poly in polygons for pi in poly.interiors]\n"
     ]
    },
    {
     "name": "stdout",
     "output_type": "stream",
     "text": [
      "{'pf_best_pos': array([ 647.95728122, 1610.48031368]), 'pf_best_theta': -0.6976653986354266, 'pf_mean_pos': array([ 648.96244791, 1609.60721354]), 'pf_mean_theta': -0.6976653052879498}\n",
      "frame 110\n",
      "Number of point tracks before run() 92\n",
      "Number of extended tracks before run() 6\n"
     ]
    },
    {
     "name": "stderr",
     "output_type": "stream",
     "text": [
      "C:\\Users\\gadli\\old_pc\\Tau\\Thesis\\polynoms\\tracker.py:94: VisibleDeprecationWarning: Creating an ndarray from ragged nested sequences (which is a list-or-tuple of lists-or-tuples-or ndarrays with different lengths or shapes) is deprecated. If you meant to do this, you must specify 'dtype=object' when creating the ndarray\n",
      "  Ha = np.array([1, z[0], z[0]**2])\n",
      "C:\\Users\\gadli\\old_pc\\Tau\\Thesis\\polynoms\\tracker.py:117: RuntimeWarning: divide by zero encountered in double_scalars\n",
      "  ratio = np.sqrt(lp)/le\n"
     ]
    },
    {
     "name": "stdout",
     "output_type": "stream",
     "text": [
      "Updating extended object track =  3\n",
      "Updating extended object track =  3\n",
      "Updating extended object track =  5\n",
      "Updating extended object track =  5\n",
      "Updating extended object track =  2\n"
     ]
    },
    {
     "name": "stderr",
     "output_type": "stream",
     "text": [
      "C:\\Users\\gadli\\Anaconda3\\lib\\site-packages\\nuscenes\\map_expansion\\map_api.py:1823: ShapelyDeprecationWarning: Iteration over multi-part geometries is deprecated and will be removed in Shapely 2.0. Use the `geoms` property to access the constituent parts of a multi-part geometry.\n",
      "  exteriors = [int_coords(poly.exterior.coords) for poly in polygons]\n",
      "C:\\Users\\gadli\\Anaconda3\\lib\\site-packages\\nuscenes\\map_expansion\\map_api.py:1824: ShapelyDeprecationWarning: Iteration over multi-part geometries is deprecated and will be removed in Shapely 2.0. Use the `geoms` property to access the constituent parts of a multi-part geometry.\n",
      "  interiors = [int_coords(pi.coords) for poly in polygons for pi in poly.interiors]\n"
     ]
    },
    {
     "name": "stdout",
     "output_type": "stream",
     "text": [
      "{'pf_best_pos': array([ 648.17899303, 1610.28471435]), 'pf_best_theta': -0.6973561074597363, 'pf_mean_pos': array([ 649.10845933, 1609.47831843]), 'pf_mean_theta': -0.6973560237285906}\n",
      "frame 111\n",
      "Number of point tracks before run() 90\n",
      "Number of extended tracks before run() 5\n"
     ]
    },
    {
     "name": "stderr",
     "output_type": "stream",
     "text": [
      "C:\\Users\\gadli\\old_pc\\Tau\\Thesis\\polynoms\\tracker.py:94: VisibleDeprecationWarning: Creating an ndarray from ragged nested sequences (which is a list-or-tuple of lists-or-tuples-or ndarrays with different lengths or shapes) is deprecated. If you meant to do this, you must specify 'dtype=object' when creating the ndarray\n",
      "  Ha = np.array([1, z[0], z[0]**2])\n",
      "C:\\Users\\gadli\\old_pc\\Tau\\Thesis\\polynoms\\tracker.py:117: RuntimeWarning: divide by zero encountered in double_scalars\n",
      "  ratio = np.sqrt(lp)/le\n"
     ]
    },
    {
     "name": "stdout",
     "output_type": "stream",
     "text": [
      "Updating extended object track =  2\n",
      "Updating extended object track =  0\n",
      "Updating extended object track =  0\n",
      "Updating extended object track =  1\n",
      "Updating extended object track =  1\n"
     ]
    },
    {
     "name": "stderr",
     "output_type": "stream",
     "text": [
      "C:\\Users\\gadli\\Anaconda3\\lib\\site-packages\\nuscenes\\map_expansion\\map_api.py:1823: ShapelyDeprecationWarning: Iteration over multi-part geometries is deprecated and will be removed in Shapely 2.0. Use the `geoms` property to access the constituent parts of a multi-part geometry.\n",
      "  exteriors = [int_coords(poly.exterior.coords) for poly in polygons]\n",
      "C:\\Users\\gadli\\Anaconda3\\lib\\site-packages\\nuscenes\\map_expansion\\map_api.py:1824: ShapelyDeprecationWarning: Iteration over multi-part geometries is deprecated and will be removed in Shapely 2.0. Use the `geoms` property to access the constituent parts of a multi-part geometry.\n",
      "  interiors = [int_coords(pi.coords) for poly in polygons for pi in poly.interiors]\n"
     ]
    },
    {
     "name": "stdout",
     "output_type": "stream",
     "text": [
      "{'pf_best_pos': array([ 648.53285711, 1609.97041664]), 'pf_best_theta': -0.6970628761921023, 'pf_mean_pos': array([ 649.2438901 , 1609.35979616]), 'pf_mean_theta': -0.6970627862443678}\n",
      "frame 112\n",
      "Number of point tracks before run() 96\n",
      "Number of extended tracks before run() 5\n"
     ]
    },
    {
     "name": "stderr",
     "output_type": "stream",
     "text": [
      "C:\\Users\\gadli\\old_pc\\Tau\\Thesis\\polynoms\\tracker.py:94: VisibleDeprecationWarning: Creating an ndarray from ragged nested sequences (which is a list-or-tuple of lists-or-tuples-or ndarrays with different lengths or shapes) is deprecated. If you meant to do this, you must specify 'dtype=object' when creating the ndarray\n",
      "  Ha = np.array([1, z[0], z[0]**2])\n",
      "C:\\Users\\gadli\\old_pc\\Tau\\Thesis\\polynoms\\tracker.py:117: RuntimeWarning: divide by zero encountered in double_scalars\n",
      "  ratio = np.sqrt(lp)/le\n"
     ]
    },
    {
     "name": "stdout",
     "output_type": "stream",
     "text": [
      "Updating extended object track =  2\n",
      "Updating extended object track =  2\n",
      "Updating extended object track =  4\n",
      "Updating extended object track =  2\n",
      "Updating extended object track =  4\n"
     ]
    },
    {
     "name": "stderr",
     "output_type": "stream",
     "text": [
      "C:\\Users\\gadli\\Anaconda3\\lib\\site-packages\\nuscenes\\map_expansion\\map_api.py:1823: ShapelyDeprecationWarning: Iteration over multi-part geometries is deprecated and will be removed in Shapely 2.0. Use the `geoms` property to access the constituent parts of a multi-part geometry.\n",
      "  exteriors = [int_coords(poly.exterior.coords) for poly in polygons]\n",
      "C:\\Users\\gadli\\Anaconda3\\lib\\site-packages\\nuscenes\\map_expansion\\map_api.py:1824: ShapelyDeprecationWarning: Iteration over multi-part geometries is deprecated and will be removed in Shapely 2.0. Use the `geoms` property to access the constituent parts of a multi-part geometry.\n",
      "  interiors = [int_coords(pi.coords) for poly in polygons for pi in poly.interiors]\n"
     ]
    },
    {
     "name": "stdout",
     "output_type": "stream",
     "text": [
      "{'pf_best_pos': array([ 648.74412997, 1609.79092914]), 'pf_best_theta': -0.6966791135047483, 'pf_mean_pos': array([ 649.41623522, 1609.20826017]), 'pf_mean_theta': -0.6966790249294256}\n",
      "frame 113\n",
      "Number of point tracks before run() 94\n",
      "Number of extended tracks before run() 5\n"
     ]
    },
    {
     "name": "stderr",
     "output_type": "stream",
     "text": [
      "C:\\Users\\gadli\\old_pc\\Tau\\Thesis\\polynoms\\tracker.py:94: VisibleDeprecationWarning: Creating an ndarray from ragged nested sequences (which is a list-or-tuple of lists-or-tuples-or ndarrays with different lengths or shapes) is deprecated. If you meant to do this, you must specify 'dtype=object' when creating the ndarray\n",
      "  Ha = np.array([1, z[0], z[0]**2])\n",
      "C:\\Users\\gadli\\old_pc\\Tau\\Thesis\\polynoms\\tracker.py:117: RuntimeWarning: divide by zero encountered in double_scalars\n",
      "  ratio = np.sqrt(lp)/le\n"
     ]
    },
    {
     "name": "stdout",
     "output_type": "stream",
     "text": [
      "Updating extended object track =  2\n"
     ]
    },
    {
     "name": "stderr",
     "output_type": "stream",
     "text": [
      "C:\\Users\\gadli\\Anaconda3\\lib\\site-packages\\nuscenes\\map_expansion\\map_api.py:1823: ShapelyDeprecationWarning: Iteration over multi-part geometries is deprecated and will be removed in Shapely 2.0. Use the `geoms` property to access the constituent parts of a multi-part geometry.\n",
      "  exteriors = [int_coords(poly.exterior.coords) for poly in polygons]\n",
      "C:\\Users\\gadli\\Anaconda3\\lib\\site-packages\\nuscenes\\map_expansion\\map_api.py:1824: ShapelyDeprecationWarning: Iteration over multi-part geometries is deprecated and will be removed in Shapely 2.0. Use the `geoms` property to access the constituent parts of a multi-part geometry.\n",
      "  interiors = [int_coords(pi.coords) for poly in polygons for pi in poly.interiors]\n"
     ]
    },
    {
     "name": "stdout",
     "output_type": "stream",
     "text": [
      "{'pf_best_pos': array([ 648.85716164, 1609.68583959]), 'pf_best_theta': -0.6961885482472296, 'pf_mean_pos': array([ 649.43406025, 1609.19089917]), 'pf_mean_theta': -0.6961884705860524}\n",
      "frame 114\n",
      "Number of point tracks before run() 90\n",
      "Number of extended tracks before run() 5\n"
     ]
    },
    {
     "name": "stderr",
     "output_type": "stream",
     "text": [
      "C:\\Users\\gadli\\old_pc\\Tau\\Thesis\\polynoms\\tracker.py:94: VisibleDeprecationWarning: Creating an ndarray from ragged nested sequences (which is a list-or-tuple of lists-or-tuples-or ndarrays with different lengths or shapes) is deprecated. If you meant to do this, you must specify 'dtype=object' when creating the ndarray\n",
      "  Ha = np.array([1, z[0], z[0]**2])\n",
      "C:\\Users\\gadli\\old_pc\\Tau\\Thesis\\polynoms\\tracker.py:117: RuntimeWarning: divide by zero encountered in double_scalars\n",
      "  ratio = np.sqrt(lp)/le\n"
     ]
    },
    {
     "name": "stdout",
     "output_type": "stream",
     "text": [
      "Updating extended object track =  2\n",
      "Updating extended object track =  4\n",
      "Updating extended object track =  0\n",
      "Updating extended object track =  1\n",
      "Updating extended object track =  3\n"
     ]
    },
    {
     "name": "stderr",
     "output_type": "stream",
     "text": [
      "C:\\Users\\gadli\\Anaconda3\\lib\\site-packages\\nuscenes\\map_expansion\\map_api.py:1823: ShapelyDeprecationWarning: Iteration over multi-part geometries is deprecated and will be removed in Shapely 2.0. Use the `geoms` property to access the constituent parts of a multi-part geometry.\n",
      "  exteriors = [int_coords(poly.exterior.coords) for poly in polygons]\n",
      "C:\\Users\\gadli\\Anaconda3\\lib\\site-packages\\nuscenes\\map_expansion\\map_api.py:1824: ShapelyDeprecationWarning: Iteration over multi-part geometries is deprecated and will be removed in Shapely 2.0. Use the `geoms` property to access the constituent parts of a multi-part geometry.\n",
      "  interiors = [int_coords(pi.coords) for poly in polygons for pi in poly.interiors]\n"
     ]
    },
    {
     "name": "stdout",
     "output_type": "stream",
     "text": [
      "{'pf_best_pos': array([ 648.86318275, 1609.68048597]), 'pf_best_theta': -0.695888572889471, 'pf_mean_pos': array([ 649.56827117, 1609.0708965 ]), 'pf_mean_theta': -0.6958884857585333}\n",
      "frame 115\n",
      "Number of point tracks before run() 84\n",
      "Number of extended tracks before run() 5\n"
     ]
    },
    {
     "name": "stderr",
     "output_type": "stream",
     "text": [
      "C:\\Users\\gadli\\old_pc\\Tau\\Thesis\\polynoms\\tracker.py:94: VisibleDeprecationWarning: Creating an ndarray from ragged nested sequences (which is a list-or-tuple of lists-or-tuples-or ndarrays with different lengths or shapes) is deprecated. If you meant to do this, you must specify 'dtype=object' when creating the ndarray\n",
      "  Ha = np.array([1, z[0], z[0]**2])\n",
      "C:\\Users\\gadli\\old_pc\\Tau\\Thesis\\polynoms\\tracker.py:117: RuntimeWarning: divide by zero encountered in double_scalars\n",
      "  ratio = np.sqrt(lp)/le\n"
     ]
    },
    {
     "name": "stdout",
     "output_type": "stream",
     "text": [
      "Updating extended object track =  2\n",
      "Updating extended object track =  2\n",
      "Updating extended object track =  1\n",
      "Updating extended object track =  1\n"
     ]
    },
    {
     "name": "stderr",
     "output_type": "stream",
     "text": [
      "C:\\Users\\gadli\\Anaconda3\\lib\\site-packages\\nuscenes\\map_expansion\\map_api.py:1823: ShapelyDeprecationWarning: Iteration over multi-part geometries is deprecated and will be removed in Shapely 2.0. Use the `geoms` property to access the constituent parts of a multi-part geometry.\n",
      "  exteriors = [int_coords(poly.exterior.coords) for poly in polygons]\n",
      "C:\\Users\\gadli\\Anaconda3\\lib\\site-packages\\nuscenes\\map_expansion\\map_api.py:1824: ShapelyDeprecationWarning: Iteration over multi-part geometries is deprecated and will be removed in Shapely 2.0. Use the `geoms` property to access the constituent parts of a multi-part geometry.\n",
      "  interiors = [int_coords(pi.coords) for poly in polygons for pi in poly.interiors]\n"
     ]
    },
    {
     "name": "stdout",
     "output_type": "stream",
     "text": [
      "{'pf_best_pos': array([ 649.09712854, 1609.47825953]), 'pf_best_theta': -0.6949541428893236, 'pf_mean_pos': array([ 649.77967165, 1608.88827923]), 'pf_mean_theta': -0.6949540486320365}\n",
      "frame 116\n",
      "Number of point tracks before run() 87\n",
      "Number of extended tracks before run() 5\n"
     ]
    },
    {
     "name": "stderr",
     "output_type": "stream",
     "text": [
      "C:\\Users\\gadli\\old_pc\\Tau\\Thesis\\polynoms\\tracker.py:94: VisibleDeprecationWarning: Creating an ndarray from ragged nested sequences (which is a list-or-tuple of lists-or-tuples-or ndarrays with different lengths or shapes) is deprecated. If you meant to do this, you must specify 'dtype=object' when creating the ndarray\n",
      "  Ha = np.array([1, z[0], z[0]**2])\n",
      "C:\\Users\\gadli\\old_pc\\Tau\\Thesis\\polynoms\\tracker.py:117: RuntimeWarning: divide by zero encountered in double_scalars\n",
      "  ratio = np.sqrt(lp)/le\n"
     ]
    },
    {
     "name": "stdout",
     "output_type": "stream",
     "text": [
      "Updating extended object track =  0\n",
      "Updating extended object track =  4\n",
      "Updating extended object track =  1\n"
     ]
    },
    {
     "name": "stderr",
     "output_type": "stream",
     "text": [
      "C:\\Users\\gadli\\Anaconda3\\lib\\site-packages\\nuscenes\\map_expansion\\map_api.py:1823: ShapelyDeprecationWarning: Iteration over multi-part geometries is deprecated and will be removed in Shapely 2.0. Use the `geoms` property to access the constituent parts of a multi-part geometry.\n",
      "  exteriors = [int_coords(poly.exterior.coords) for poly in polygons]\n",
      "C:\\Users\\gadli\\Anaconda3\\lib\\site-packages\\nuscenes\\map_expansion\\map_api.py:1824: ShapelyDeprecationWarning: Iteration over multi-part geometries is deprecated and will be removed in Shapely 2.0. Use the `geoms` property to access the constituent parts of a multi-part geometry.\n",
      "  interiors = [int_coords(pi.coords) for poly in polygons for pi in poly.interiors]\n"
     ]
    },
    {
     "name": "stdout",
     "output_type": "stream",
     "text": [
      "{'pf_best_pos': array([ 649.35596855, 1609.25536477]), 'pf_best_theta': -0.6947361699397385, 'pf_mean_pos': array([ 650.02444411, 1608.67640127]), 'pf_mean_theta': -0.6947360569157233}\n",
      "frame 117\n",
      "Number of point tracks before run() 86\n",
      "Number of extended tracks before run() 5\n"
     ]
    },
    {
     "name": "stderr",
     "output_type": "stream",
     "text": [
      "C:\\Users\\gadli\\old_pc\\Tau\\Thesis\\polynoms\\tracker.py:94: VisibleDeprecationWarning: Creating an ndarray from ragged nested sequences (which is a list-or-tuple of lists-or-tuples-or ndarrays with different lengths or shapes) is deprecated. If you meant to do this, you must specify 'dtype=object' when creating the ndarray\n",
      "  Ha = np.array([1, z[0], z[0]**2])\n",
      "C:\\Users\\gadli\\old_pc\\Tau\\Thesis\\polynoms\\tracker.py:117: RuntimeWarning: divide by zero encountered in double_scalars\n",
      "  ratio = np.sqrt(lp)/le\n"
     ]
    },
    {
     "name": "stdout",
     "output_type": "stream",
     "text": [
      "Updating extended object track =  0\n",
      "Updating extended object track =  2\n",
      "Updating extended object track =  1\n",
      "Updating extended object track =  2\n",
      "Updating extended object track =  1\n",
      "Updating extended object track =  1\n"
     ]
    },
    {
     "name": "stderr",
     "output_type": "stream",
     "text": [
      "C:\\Users\\gadli\\Anaconda3\\lib\\site-packages\\nuscenes\\map_expansion\\map_api.py:1823: ShapelyDeprecationWarning: Iteration over multi-part geometries is deprecated and will be removed in Shapely 2.0. Use the `geoms` property to access the constituent parts of a multi-part geometry.\n",
      "  exteriors = [int_coords(poly.exterior.coords) for poly in polygons]\n",
      "C:\\Users\\gadli\\Anaconda3\\lib\\site-packages\\nuscenes\\map_expansion\\map_api.py:1824: ShapelyDeprecationWarning: Iteration over multi-part geometries is deprecated and will be removed in Shapely 2.0. Use the `geoms` property to access the constituent parts of a multi-part geometry.\n",
      "  interiors = [int_coords(pi.coords) for poly in polygons for pi in poly.interiors]\n"
     ]
    },
    {
     "name": "stdout",
     "output_type": "stream",
     "text": [
      "{'pf_best_pos': array([ 649.43571708, 1609.18560462]), 'pf_best_theta': -0.6945932108522088, 'pf_mean_pos': array([ 650.09519523, 1608.61447442]), 'pf_mean_theta': -0.6945931096859563}\n",
      "frame 118\n",
      "Number of point tracks before run() 90\n",
      "Number of extended tracks before run() 5\n"
     ]
    },
    {
     "name": "stderr",
     "output_type": "stream",
     "text": [
      "C:\\Users\\gadli\\old_pc\\Tau\\Thesis\\polynoms\\tracker.py:94: VisibleDeprecationWarning: Creating an ndarray from ragged nested sequences (which is a list-or-tuple of lists-or-tuples-or ndarrays with different lengths or shapes) is deprecated. If you meant to do this, you must specify 'dtype=object' when creating the ndarray\n",
      "  Ha = np.array([1, z[0], z[0]**2])\n",
      "C:\\Users\\gadli\\old_pc\\Tau\\Thesis\\polynoms\\tracker.py:117: RuntimeWarning: divide by zero encountered in double_scalars\n",
      "  ratio = np.sqrt(lp)/le\n"
     ]
    },
    {
     "name": "stdout",
     "output_type": "stream",
     "text": [
      "Updating extended object track =  1\n",
      "Updating extended object track =  0\n",
      "Updating extended object track =  1\n",
      "Updating extended object track =  4\n",
      "Updating extended object track =  2\n",
      "Updating extended object track =  4\n",
      "Updating extended object track =  4\n",
      "Updating extended object track =  1\n"
     ]
    },
    {
     "name": "stderr",
     "output_type": "stream",
     "text": [
      "C:\\Users\\gadli\\Anaconda3\\lib\\site-packages\\nuscenes\\map_expansion\\map_api.py:1823: ShapelyDeprecationWarning: Iteration over multi-part geometries is deprecated and will be removed in Shapely 2.0. Use the `geoms` property to access the constituent parts of a multi-part geometry.\n",
      "  exteriors = [int_coords(poly.exterior.coords) for poly in polygons]\n",
      "C:\\Users\\gadli\\Anaconda3\\lib\\site-packages\\nuscenes\\map_expansion\\map_api.py:1824: ShapelyDeprecationWarning: Iteration over multi-part geometries is deprecated and will be removed in Shapely 2.0. Use the `geoms` property to access the constituent parts of a multi-part geometry.\n",
      "  interiors = [int_coords(pi.coords) for poly in polygons for pi in poly.interiors]\n"
     ]
    },
    {
     "name": "stdout",
     "output_type": "stream",
     "text": [
      "{'pf_best_pos': array([ 649.44863194, 1609.17463515]), 'pf_best_theta': -0.6944999489496348, 'pf_mean_pos': array([ 650.30381074, 1608.4338981 ]), 'pf_mean_theta': -0.694499845040562}\n",
      "frame 119\n",
      "Number of point tracks before run() 95\n",
      "Number of extended tracks before run() 5\n"
     ]
    },
    {
     "name": "stderr",
     "output_type": "stream",
     "text": [
      "C:\\Users\\gadli\\old_pc\\Tau\\Thesis\\polynoms\\tracker.py:94: VisibleDeprecationWarning: Creating an ndarray from ragged nested sequences (which is a list-or-tuple of lists-or-tuples-or ndarrays with different lengths or shapes) is deprecated. If you meant to do this, you must specify 'dtype=object' when creating the ndarray\n",
      "  Ha = np.array([1, z[0], z[0]**2])\n",
      "C:\\Users\\gadli\\old_pc\\Tau\\Thesis\\polynoms\\tracker.py:117: RuntimeWarning: divide by zero encountered in double_scalars\n",
      "  ratio = np.sqrt(lp)/le\n"
     ]
    },
    {
     "name": "stdout",
     "output_type": "stream",
     "text": [
      "Updating extended object track =  1\n",
      "Updating extended object track =  4\n",
      "Updating extended object track =  2\n",
      "Updating extended object track =  1\n",
      "Updating extended object track =  4\n"
     ]
    },
    {
     "name": "stderr",
     "output_type": "stream",
     "text": [
      "C:\\Users\\gadli\\Anaconda3\\lib\\site-packages\\nuscenes\\map_expansion\\map_api.py:1823: ShapelyDeprecationWarning: Iteration over multi-part geometries is deprecated and will be removed in Shapely 2.0. Use the `geoms` property to access the constituent parts of a multi-part geometry.\n",
      "  exteriors = [int_coords(poly.exterior.coords) for poly in polygons]\n",
      "C:\\Users\\gadli\\Anaconda3\\lib\\site-packages\\nuscenes\\map_expansion\\map_api.py:1824: ShapelyDeprecationWarning: Iteration over multi-part geometries is deprecated and will be removed in Shapely 2.0. Use the `geoms` property to access the constituent parts of a multi-part geometry.\n",
      "  interiors = [int_coords(pi.coords) for poly in polygons for pi in poly.interiors]\n"
     ]
    },
    {
     "name": "stdout",
     "output_type": "stream",
     "text": [
      "{'pf_best_pos': array([ 649.42003805, 1609.19922206]), 'pf_best_theta': -0.6943614061591838, 'pf_mean_pos': array([ 650.45308936, 1608.30565611]), 'pf_mean_theta': -0.6943613037270655}\n",
      "frame 120\n",
      "Number of point tracks before run() 92\n",
      "Number of extended tracks before run() 5\n",
      "Updating extended object track =  4\n",
      "Updating extended object track =  4\n",
      "Updating extended object track =  0\n",
      "Updating extended object track =  1\n",
      "Updating extended object track =  2\n"
     ]
    },
    {
     "name": "stderr",
     "output_type": "stream",
     "text": [
      "C:\\Users\\gadli\\old_pc\\Tau\\Thesis\\polynoms\\tracker.py:94: VisibleDeprecationWarning: Creating an ndarray from ragged nested sequences (which is a list-or-tuple of lists-or-tuples-or ndarrays with different lengths or shapes) is deprecated. If you meant to do this, you must specify 'dtype=object' when creating the ndarray\n",
      "  Ha = np.array([1, z[0], z[0]**2])\n",
      "C:\\Users\\gadli\\old_pc\\Tau\\Thesis\\polynoms\\tracker.py:117: RuntimeWarning: divide by zero encountered in double_scalars\n",
      "  ratio = np.sqrt(lp)/le\n"
     ]
    },
    {
     "name": "stdout",
     "output_type": "stream",
     "text": [
      "Updating extended object track =  1\n"
     ]
    },
    {
     "name": "stderr",
     "output_type": "stream",
     "text": [
      "C:\\Users\\gadli\\Anaconda3\\lib\\site-packages\\nuscenes\\map_expansion\\map_api.py:1823: ShapelyDeprecationWarning: Iteration over multi-part geometries is deprecated and will be removed in Shapely 2.0. Use the `geoms` property to access the constituent parts of a multi-part geometry.\n",
      "  exteriors = [int_coords(poly.exterior.coords) for poly in polygons]\n",
      "C:\\Users\\gadli\\Anaconda3\\lib\\site-packages\\nuscenes\\map_expansion\\map_api.py:1824: ShapelyDeprecationWarning: Iteration over multi-part geometries is deprecated and will be removed in Shapely 2.0. Use the `geoms` property to access the constituent parts of a multi-part geometry.\n",
      "  interiors = [int_coords(pi.coords) for poly in polygons for pi in poly.interiors]\n"
     ]
    },
    {
     "name": "stdout",
     "output_type": "stream",
     "text": [
      "{'pf_best_pos': array([ 649.7927585 , 1608.87906947]), 'pf_best_theta': -0.6944982342469026, 'pf_mean_pos': array([ 650.61432617, 1608.16715657]), 'pf_mean_theta': -0.6944981345102826}\n",
      "frame 121\n",
      "Number of point tracks before run() 92\n",
      "Number of extended tracks before run() 5\n",
      "Updating extended object track =  4\n",
      "Updating extended object track =  3\n",
      "Updating extended object track =  3\n",
      "Updating extended object track =  2\n",
      "Updating extended object track =  4\n",
      "Updating extended object track =  2\n"
     ]
    },
    {
     "name": "stderr",
     "output_type": "stream",
     "text": [
      "C:\\Users\\gadli\\old_pc\\Tau\\Thesis\\polynoms\\tracker.py:94: VisibleDeprecationWarning: Creating an ndarray from ragged nested sequences (which is a list-or-tuple of lists-or-tuples-or ndarrays with different lengths or shapes) is deprecated. If you meant to do this, you must specify 'dtype=object' when creating the ndarray\n",
      "  Ha = np.array([1, z[0], z[0]**2])\n",
      "C:\\Users\\gadli\\old_pc\\Tau\\Thesis\\polynoms\\tracker.py:117: RuntimeWarning: divide by zero encountered in double_scalars\n",
      "  ratio = np.sqrt(lp)/le\n",
      "C:\\Users\\gadli\\Anaconda3\\lib\\site-packages\\nuscenes\\map_expansion\\map_api.py:1823: ShapelyDeprecationWarning: Iteration over multi-part geometries is deprecated and will be removed in Shapely 2.0. Use the `geoms` property to access the constituent parts of a multi-part geometry.\n",
      "  exteriors = [int_coords(poly.exterior.coords) for poly in polygons]\n",
      "C:\\Users\\gadli\\Anaconda3\\lib\\site-packages\\nuscenes\\map_expansion\\map_api.py:1824: ShapelyDeprecationWarning: Iteration over multi-part geometries is deprecated and will be removed in Shapely 2.0. Use the `geoms` property to access the constituent parts of a multi-part geometry.\n",
      "  interiors = [int_coords(pi.coords) for poly in polygons for pi in poly.interiors]\n"
     ]
    },
    {
     "name": "stdout",
     "output_type": "stream",
     "text": [
      "{'pf_best_pos': array([ 650.24058805, 1608.48903783]), 'pf_best_theta': -0.6940278829870499, 'pf_mean_pos': array([ 650.88926243, 1607.93206411]), 'pf_mean_theta': -0.6940278949132278}\n",
      "frame 122\n",
      "Number of point tracks before run() 92\n",
      "Number of extended tracks before run() 5\n",
      "Updating extended object track =  1\n",
      "Updating extended object track =  0\n",
      "Updating extended object track =  2\n",
      "Updating extended object track =  1\n"
     ]
    },
    {
     "name": "stderr",
     "output_type": "stream",
     "text": [
      "C:\\Users\\gadli\\old_pc\\Tau\\Thesis\\polynoms\\tracker.py:94: VisibleDeprecationWarning: Creating an ndarray from ragged nested sequences (which is a list-or-tuple of lists-or-tuples-or ndarrays with different lengths or shapes) is deprecated. If you meant to do this, you must specify 'dtype=object' when creating the ndarray\n",
      "  Ha = np.array([1, z[0], z[0]**2])\n",
      "C:\\Users\\gadli\\old_pc\\Tau\\Thesis\\polynoms\\tracker.py:117: RuntimeWarning: divide by zero encountered in double_scalars\n",
      "  ratio = np.sqrt(lp)/le\n",
      "C:\\Users\\gadli\\Anaconda3\\lib\\site-packages\\nuscenes\\map_expansion\\map_api.py:1823: ShapelyDeprecationWarning: Iteration over multi-part geometries is deprecated and will be removed in Shapely 2.0. Use the `geoms` property to access the constituent parts of a multi-part geometry.\n",
      "  exteriors = [int_coords(poly.exterior.coords) for poly in polygons]\n",
      "C:\\Users\\gadli\\Anaconda3\\lib\\site-packages\\nuscenes\\map_expansion\\map_api.py:1824: ShapelyDeprecationWarning: Iteration over multi-part geometries is deprecated and will be removed in Shapely 2.0. Use the `geoms` property to access the constituent parts of a multi-part geometry.\n",
      "  interiors = [int_coords(pi.coords) for poly in polygons for pi in poly.interiors]\n"
     ]
    },
    {
     "name": "stdout",
     "output_type": "stream",
     "text": [
      "{'pf_best_pos': array([ 650.19149861, 1608.53149844]), 'pf_best_theta': -0.6939257088115296, 'pf_mean_pos': array([ 651.02271408, 1607.81663321]), 'pf_mean_theta': -0.6939257170968868}\n",
      "frame 123\n",
      "Number of point tracks before run() 96\n",
      "Number of extended tracks before run() 5\n"
     ]
    },
    {
     "name": "stderr",
     "output_type": "stream",
     "text": [
      "C:\\Users\\gadli\\old_pc\\Tau\\Thesis\\polynoms\\tracker.py:94: VisibleDeprecationWarning: Creating an ndarray from ragged nested sequences (which is a list-or-tuple of lists-or-tuples-or ndarrays with different lengths or shapes) is deprecated. If you meant to do this, you must specify 'dtype=object' when creating the ndarray\n",
      "  Ha = np.array([1, z[0], z[0]**2])\n",
      "C:\\Users\\gadli\\old_pc\\Tau\\Thesis\\polynoms\\tracker.py:117: RuntimeWarning: divide by zero encountered in double_scalars\n",
      "  ratio = np.sqrt(lp)/le\n"
     ]
    },
    {
     "name": "stdout",
     "output_type": "stream",
     "text": [
      "Updating extended object track =  4\n",
      "Updating extended object track =  0\n",
      "Updating extended object track =  1\n"
     ]
    },
    {
     "name": "stderr",
     "output_type": "stream",
     "text": [
      "C:\\Users\\gadli\\Anaconda3\\lib\\site-packages\\nuscenes\\map_expansion\\map_api.py:1823: ShapelyDeprecationWarning: Iteration over multi-part geometries is deprecated and will be removed in Shapely 2.0. Use the `geoms` property to access the constituent parts of a multi-part geometry.\n",
      "  exteriors = [int_coords(poly.exterior.coords) for poly in polygons]\n",
      "C:\\Users\\gadli\\Anaconda3\\lib\\site-packages\\nuscenes\\map_expansion\\map_api.py:1824: ShapelyDeprecationWarning: Iteration over multi-part geometries is deprecated and will be removed in Shapely 2.0. Use the `geoms` property to access the constituent parts of a multi-part geometry.\n",
      "  interiors = [int_coords(pi.coords) for poly in polygons for pi in poly.interiors]\n"
     ]
    },
    {
     "name": "stdout",
     "output_type": "stream",
     "text": [
      "{'pf_best_pos': array([ 650.43060917, 1608.32665513]), 'pf_best_theta': -0.6939480935651821, 'pf_mean_pos': array([ 651.17814834, 1607.68347444]), 'pf_mean_theta': -0.6939481118562403}\n",
      "frame 124\n",
      "Number of point tracks before run() 108\n",
      "Number of extended tracks before run() 5\n"
     ]
    },
    {
     "name": "stderr",
     "output_type": "stream",
     "text": [
      "C:\\Users\\gadli\\old_pc\\Tau\\Thesis\\polynoms\\tracker.py:94: VisibleDeprecationWarning: Creating an ndarray from ragged nested sequences (which is a list-or-tuple of lists-or-tuples-or ndarrays with different lengths or shapes) is deprecated. If you meant to do this, you must specify 'dtype=object' when creating the ndarray\n",
      "  Ha = np.array([1, z[0], z[0]**2])\n",
      "C:\\Users\\gadli\\old_pc\\Tau\\Thesis\\polynoms\\tracker.py:117: RuntimeWarning: divide by zero encountered in double_scalars\n",
      "  ratio = np.sqrt(lp)/le\n"
     ]
    },
    {
     "name": "stdout",
     "output_type": "stream",
     "text": [
      "Updating extended object track =  4\n",
      "Updating extended object track =  4\n",
      "Updating extended object track =  3\n",
      "Updating extended object track =  0\n"
     ]
    },
    {
     "name": "stderr",
     "output_type": "stream",
     "text": [
      "C:\\Users\\gadli\\Anaconda3\\lib\\site-packages\\nuscenes\\map_expansion\\map_api.py:1823: ShapelyDeprecationWarning: Iteration over multi-part geometries is deprecated and will be removed in Shapely 2.0. Use the `geoms` property to access the constituent parts of a multi-part geometry.\n",
      "  exteriors = [int_coords(poly.exterior.coords) for poly in polygons]\n",
      "C:\\Users\\gadli\\Anaconda3\\lib\\site-packages\\nuscenes\\map_expansion\\map_api.py:1824: ShapelyDeprecationWarning: Iteration over multi-part geometries is deprecated and will be removed in Shapely 2.0. Use the `geoms` property to access the constituent parts of a multi-part geometry.\n",
      "  interiors = [int_coords(pi.coords) for poly in polygons for pi in poly.interiors]\n"
     ]
    },
    {
     "name": "stdout",
     "output_type": "stream",
     "text": [
      "{'pf_best_pos': array([ 650.47784157, 1608.28560523]), 'pf_best_theta': -0.6940194223681901, 'pf_mean_pos': array([ 651.33057864, 1607.55099655]), 'pf_mean_theta': -0.6940194524784853}\n",
      "frame 125\n",
      "Number of point tracks before run() 110\n",
      "Number of extended tracks before run() 5\n"
     ]
    },
    {
     "name": "stderr",
     "output_type": "stream",
     "text": [
      "C:\\Users\\gadli\\old_pc\\Tau\\Thesis\\polynoms\\tracker.py:94: VisibleDeprecationWarning: Creating an ndarray from ragged nested sequences (which is a list-or-tuple of lists-or-tuples-or ndarrays with different lengths or shapes) is deprecated. If you meant to do this, you must specify 'dtype=object' when creating the ndarray\n",
      "  Ha = np.array([1, z[0], z[0]**2])\n",
      "C:\\Users\\gadli\\old_pc\\Tau\\Thesis\\polynoms\\tracker.py:117: RuntimeWarning: divide by zero encountered in double_scalars\n",
      "  ratio = np.sqrt(lp)/le\n"
     ]
    },
    {
     "name": "stdout",
     "output_type": "stream",
     "text": [
      "Updating extended object track =  1\n",
      "Updating extended object track =  4\n",
      "Updating extended object track =  1\n",
      "Updating extended object track =  1\n",
      "Updating extended object track =  3\n"
     ]
    },
    {
     "name": "stderr",
     "output_type": "stream",
     "text": [
      "C:\\Users\\gadli\\Anaconda3\\lib\\site-packages\\nuscenes\\map_expansion\\map_api.py:1823: ShapelyDeprecationWarning: Iteration over multi-part geometries is deprecated and will be removed in Shapely 2.0. Use the `geoms` property to access the constituent parts of a multi-part geometry.\n",
      "  exteriors = [int_coords(poly.exterior.coords) for poly in polygons]\n",
      "C:\\Users\\gadli\\Anaconda3\\lib\\site-packages\\nuscenes\\map_expansion\\map_api.py:1824: ShapelyDeprecationWarning: Iteration over multi-part geometries is deprecated and will be removed in Shapely 2.0. Use the `geoms` property to access the constituent parts of a multi-part geometry.\n",
      "  interiors = [int_coords(pi.coords) for poly in polygons for pi in poly.interiors]\n"
     ]
    },
    {
     "name": "stdout",
     "output_type": "stream",
     "text": [
      "{'pf_best_pos': array([ 652.09474433, 1606.89383888]), 'pf_best_theta': -0.6939148349328974, 'pf_mean_pos': array([ 651.49413265, 1607.4087998 ]), 'pf_mean_theta': -0.6939147489483041}\n",
      "frame 126\n",
      "Number of point tracks before run() 99\n",
      "Number of extended tracks before run() 6\n"
     ]
    },
    {
     "name": "stderr",
     "output_type": "stream",
     "text": [
      "C:\\Users\\gadli\\old_pc\\Tau\\Thesis\\polynoms\\tracker.py:94: VisibleDeprecationWarning: Creating an ndarray from ragged nested sequences (which is a list-or-tuple of lists-or-tuples-or ndarrays with different lengths or shapes) is deprecated. If you meant to do this, you must specify 'dtype=object' when creating the ndarray\n",
      "  Ha = np.array([1, z[0], z[0]**2])\n",
      "C:\\Users\\gadli\\old_pc\\Tau\\Thesis\\polynoms\\tracker.py:117: RuntimeWarning: divide by zero encountered in double_scalars\n",
      "  ratio = np.sqrt(lp)/le\n"
     ]
    },
    {
     "name": "stdout",
     "output_type": "stream",
     "text": [
      "Updating extended object track =  4\n",
      "Updating extended object track =  0\n",
      "Updating extended object track =  4\n",
      "Updating extended object track =  0\n"
     ]
    },
    {
     "name": "stderr",
     "output_type": "stream",
     "text": [
      "C:\\Users\\gadli\\Anaconda3\\lib\\site-packages\\nuscenes\\map_expansion\\map_api.py:1823: ShapelyDeprecationWarning: Iteration over multi-part geometries is deprecated and will be removed in Shapely 2.0. Use the `geoms` property to access the constituent parts of a multi-part geometry.\n",
      "  exteriors = [int_coords(poly.exterior.coords) for poly in polygons]\n",
      "C:\\Users\\gadli\\Anaconda3\\lib\\site-packages\\nuscenes\\map_expansion\\map_api.py:1824: ShapelyDeprecationWarning: Iteration over multi-part geometries is deprecated and will be removed in Shapely 2.0. Use the `geoms` property to access the constituent parts of a multi-part geometry.\n",
      "  interiors = [int_coords(pi.coords) for poly in polygons for pi in poly.interiors]\n"
     ]
    },
    {
     "name": "stdout",
     "output_type": "stream",
     "text": [
      "{'pf_best_pos': array([ 652.80750094, 1606.26591706]), 'pf_best_theta': -0.6940984122552578, 'pf_mean_pos': array([ 651.68991299, 1607.24044139]), 'pf_mean_theta': -0.6940983727931863}\n",
      "frame 127\n",
      "Number of point tracks before run() 109\n",
      "Number of extended tracks before run() 6\n"
     ]
    },
    {
     "name": "stderr",
     "output_type": "stream",
     "text": [
      "C:\\Users\\gadli\\old_pc\\Tau\\Thesis\\polynoms\\tracker.py:94: VisibleDeprecationWarning: Creating an ndarray from ragged nested sequences (which is a list-or-tuple of lists-or-tuples-or ndarrays with different lengths or shapes) is deprecated. If you meant to do this, you must specify 'dtype=object' when creating the ndarray\n",
      "  Ha = np.array([1, z[0], z[0]**2])\n",
      "C:\\Users\\gadli\\old_pc\\Tau\\Thesis\\polynoms\\tracker.py:117: RuntimeWarning: divide by zero encountered in double_scalars\n",
      "  ratio = np.sqrt(lp)/le\n"
     ]
    },
    {
     "name": "stdout",
     "output_type": "stream",
     "text": [
      "Updating extended object track =  4\n",
      "Updating extended object track =  0\n",
      "Updating extended object track =  3\n",
      "Updating extended object track =  3\n",
      "Updating extended object track =  2\n",
      "Updating extended object track =  2\n"
     ]
    },
    {
     "name": "stderr",
     "output_type": "stream",
     "text": [
      "C:\\Users\\gadli\\Anaconda3\\lib\\site-packages\\nuscenes\\map_expansion\\map_api.py:1823: ShapelyDeprecationWarning: Iteration over multi-part geometries is deprecated and will be removed in Shapely 2.0. Use the `geoms` property to access the constituent parts of a multi-part geometry.\n",
      "  exteriors = [int_coords(poly.exterior.coords) for poly in polygons]\n",
      "C:\\Users\\gadli\\Anaconda3\\lib\\site-packages\\nuscenes\\map_expansion\\map_api.py:1824: ShapelyDeprecationWarning: Iteration over multi-part geometries is deprecated and will be removed in Shapely 2.0. Use the `geoms` property to access the constituent parts of a multi-part geometry.\n",
      "  interiors = [int_coords(pi.coords) for poly in polygons for pi in poly.interiors]\n"
     ]
    },
    {
     "name": "stdout",
     "output_type": "stream",
     "text": [
      "{'pf_best_pos': array([ 653.55078923, 1605.63667794]), 'pf_best_theta': -0.6940694352113637, 'pf_mean_pos': array([ 652.08884853, 1606.89616512]), 'pf_mean_theta': -0.6940694789534797}\n",
      "frame 128\n",
      "Number of point tracks before run() 109\n",
      "Number of extended tracks before run() 6\n"
     ]
    },
    {
     "name": "stderr",
     "output_type": "stream",
     "text": [
      "C:\\Users\\gadli\\old_pc\\Tau\\Thesis\\polynoms\\tracker.py:94: VisibleDeprecationWarning: Creating an ndarray from ragged nested sequences (which is a list-or-tuple of lists-or-tuples-or ndarrays with different lengths or shapes) is deprecated. If you meant to do this, you must specify 'dtype=object' when creating the ndarray\n",
      "  Ha = np.array([1, z[0], z[0]**2])\n",
      "C:\\Users\\gadli\\old_pc\\Tau\\Thesis\\polynoms\\tracker.py:117: RuntimeWarning: divide by zero encountered in double_scalars\n",
      "  ratio = np.sqrt(lp)/le\n"
     ]
    },
    {
     "name": "stdout",
     "output_type": "stream",
     "text": [
      "Updating extended object track =  0\n",
      "Updating extended object track =  1\n",
      "Updating extended object track =  5\n",
      "Updating extended object track =  0\n",
      "Updating extended object track =  1\n"
     ]
    },
    {
     "name": "stderr",
     "output_type": "stream",
     "text": [
      "C:\\Users\\gadli\\Anaconda3\\lib\\site-packages\\nuscenes\\map_expansion\\map_api.py:1823: ShapelyDeprecationWarning: Iteration over multi-part geometries is deprecated and will be removed in Shapely 2.0. Use the `geoms` property to access the constituent parts of a multi-part geometry.\n",
      "  exteriors = [int_coords(poly.exterior.coords) for poly in polygons]\n",
      "C:\\Users\\gadli\\Anaconda3\\lib\\site-packages\\nuscenes\\map_expansion\\map_api.py:1824: ShapelyDeprecationWarning: Iteration over multi-part geometries is deprecated and will be removed in Shapely 2.0. Use the `geoms` property to access the constituent parts of a multi-part geometry.\n",
      "  interiors = [int_coords(pi.coords) for poly in polygons for pi in poly.interiors]\n"
     ]
    },
    {
     "name": "stdout",
     "output_type": "stream",
     "text": [
      "{'pf_best_pos': array([ 653.68149038, 1605.52456547]), 'pf_best_theta': -0.6939730874974854, 'pf_mean_pos': array([ 652.30044384, 1606.71445324]), 'pf_mean_theta': -0.6939731045613958}\n",
      "frame 129\n",
      "Number of point tracks before run() 111\n",
      "Number of extended tracks before run() 6\n"
     ]
    },
    {
     "name": "stderr",
     "output_type": "stream",
     "text": [
      "C:\\Users\\gadli\\old_pc\\Tau\\Thesis\\polynoms\\tracker.py:94: VisibleDeprecationWarning: Creating an ndarray from ragged nested sequences (which is a list-or-tuple of lists-or-tuples-or ndarrays with different lengths or shapes) is deprecated. If you meant to do this, you must specify 'dtype=object' when creating the ndarray\n",
      "  Ha = np.array([1, z[0], z[0]**2])\n",
      "C:\\Users\\gadli\\old_pc\\Tau\\Thesis\\polynoms\\tracker.py:117: RuntimeWarning: divide by zero encountered in double_scalars\n",
      "  ratio = np.sqrt(lp)/le\n"
     ]
    },
    {
     "name": "stdout",
     "output_type": "stream",
     "text": [
      "Updating extended object track =  1\n",
      "Updating extended object track =  0\n",
      "Updating extended object track =  1\n",
      "Updating extended object track =  2\n",
      "Updating extended object track =  0\n"
     ]
    },
    {
     "name": "stderr",
     "output_type": "stream",
     "text": [
      "C:\\Users\\gadli\\Anaconda3\\lib\\site-packages\\nuscenes\\map_expansion\\map_api.py:1823: ShapelyDeprecationWarning: Iteration over multi-part geometries is deprecated and will be removed in Shapely 2.0. Use the `geoms` property to access the constituent parts of a multi-part geometry.\n",
      "  exteriors = [int_coords(poly.exterior.coords) for poly in polygons]\n",
      "C:\\Users\\gadli\\Anaconda3\\lib\\site-packages\\nuscenes\\map_expansion\\map_api.py:1824: ShapelyDeprecationWarning: Iteration over multi-part geometries is deprecated and will be removed in Shapely 2.0. Use the `geoms` property to access the constituent parts of a multi-part geometry.\n",
      "  interiors = [int_coords(pi.coords) for poly in polygons for pi in poly.interiors]\n"
     ]
    },
    {
     "name": "stdout",
     "output_type": "stream",
     "text": [
      "{'pf_best_pos': array([ 651.75909794, 1607.18314739]), 'pf_best_theta': -0.6937685550832731, 'pf_mean_pos': array([ 652.49877686, 1606.54255149]), 'pf_mean_theta': -0.6937686512994531}\n",
      "frame 130\n",
      "Number of point tracks before run() 104\n",
      "Number of extended tracks before run() 6\n",
      "Updating extended object track = "
     ]
    },
    {
     "name": "stderr",
     "output_type": "stream",
     "text": [
      "C:\\Users\\gadli\\old_pc\\Tau\\Thesis\\polynoms\\tracker.py:94: VisibleDeprecationWarning: Creating an ndarray from ragged nested sequences (which is a list-or-tuple of lists-or-tuples-or ndarrays with different lengths or shapes) is deprecated. If you meant to do this, you must specify 'dtype=object' when creating the ndarray\n",
      "  Ha = np.array([1, z[0], z[0]**2])\n"
     ]
    },
    {
     "name": "stdout",
     "output_type": "stream",
     "text": [
      " 3\n",
      "Updating extended object track =  1\n",
      "Updating extended object track =  4\n",
      "Updating extended object track =  0\n",
      "Updating extended object track =  5\n"
     ]
    },
    {
     "name": "stderr",
     "output_type": "stream",
     "text": [
      "C:\\Users\\gadli\\old_pc\\Tau\\Thesis\\polynoms\\tracker.py:117: RuntimeWarning: divide by zero encountered in double_scalars\n",
      "  ratio = np.sqrt(lp)/le\n",
      "C:\\Users\\gadli\\Anaconda3\\lib\\site-packages\\nuscenes\\map_expansion\\map_api.py:1823: ShapelyDeprecationWarning: Iteration over multi-part geometries is deprecated and will be removed in Shapely 2.0. Use the `geoms` property to access the constituent parts of a multi-part geometry.\n",
      "  exteriors = [int_coords(poly.exterior.coords) for poly in polygons]\n",
      "C:\\Users\\gadli\\Anaconda3\\lib\\site-packages\\nuscenes\\map_expansion\\map_api.py:1824: ShapelyDeprecationWarning: Iteration over multi-part geometries is deprecated and will be removed in Shapely 2.0. Use the `geoms` property to access the constituent parts of a multi-part geometry.\n",
      "  interiors = [int_coords(pi.coords) for poly in polygons for pi in poly.interiors]\n"
     ]
    },
    {
     "name": "stdout",
     "output_type": "stream",
     "text": [
      "{'pf_best_pos': array([ 653.04641404, 1606.06652911]), 'pf_best_theta': -0.6934450394855038, 'pf_mean_pos': array([ 652.71608503, 1606.35525666]), 'pf_mean_theta': -0.6934449249269918}\n",
      "frame 131\n",
      "Number of point tracks before run() 109\n",
      "Number of extended tracks before run() 6\n"
     ]
    },
    {
     "name": "stderr",
     "output_type": "stream",
     "text": [
      "C:\\Users\\gadli\\old_pc\\Tau\\Thesis\\polynoms\\tracker.py:94: VisibleDeprecationWarning: Creating an ndarray from ragged nested sequences (which is a list-or-tuple of lists-or-tuples-or ndarrays with different lengths or shapes) is deprecated. If you meant to do this, you must specify 'dtype=object' when creating the ndarray\n",
      "  Ha = np.array([1, z[0], z[0]**2])\n",
      "C:\\Users\\gadli\\old_pc\\Tau\\Thesis\\polynoms\\tracker.py:117: RuntimeWarning: divide by zero encountered in double_scalars\n",
      "  ratio = np.sqrt(lp)/le\n"
     ]
    },
    {
     "name": "stdout",
     "output_type": "stream",
     "text": [
      "Updating extended object track =  0\n",
      "Updating extended object track =  1\n"
     ]
    },
    {
     "name": "stderr",
     "output_type": "stream",
     "text": [
      "C:\\Users\\gadli\\Anaconda3\\lib\\site-packages\\nuscenes\\map_expansion\\map_api.py:1823: ShapelyDeprecationWarning: Iteration over multi-part geometries is deprecated and will be removed in Shapely 2.0. Use the `geoms` property to access the constituent parts of a multi-part geometry.\n",
      "  exteriors = [int_coords(poly.exterior.coords) for poly in polygons]\n",
      "C:\\Users\\gadli\\Anaconda3\\lib\\site-packages\\nuscenes\\map_expansion\\map_api.py:1824: ShapelyDeprecationWarning: Iteration over multi-part geometries is deprecated and will be removed in Shapely 2.0. Use the `geoms` property to access the constituent parts of a multi-part geometry.\n",
      "  interiors = [int_coords(pi.coords) for poly in polygons for pi in poly.interiors]\n"
     ]
    },
    {
     "name": "stdout",
     "output_type": "stream",
     "text": [
      "{'pf_best_pos': array([ 654.98432294, 1604.39749617]), 'pf_best_theta': -0.6934418843917904, 'pf_mean_pos': array([ 652.94616645, 1606.15488245]), 'pf_mean_theta': -0.6934419204161761}\n",
      "frame 132\n",
      "Number of point tracks before run() 104\n",
      "Number of extended tracks before run() 6\n"
     ]
    },
    {
     "name": "stderr",
     "output_type": "stream",
     "text": [
      "C:\\Users\\gadli\\old_pc\\Tau\\Thesis\\polynoms\\tracker.py:94: VisibleDeprecationWarning: Creating an ndarray from ragged nested sequences (which is a list-or-tuple of lists-or-tuples-or ndarrays with different lengths or shapes) is deprecated. If you meant to do this, you must specify 'dtype=object' when creating the ndarray\n",
      "  Ha = np.array([1, z[0], z[0]**2])\n",
      "C:\\Users\\gadli\\old_pc\\Tau\\Thesis\\polynoms\\tracker.py:117: RuntimeWarning: divide by zero encountered in double_scalars\n",
      "  ratio = np.sqrt(lp)/le\n"
     ]
    },
    {
     "name": "stdout",
     "output_type": "stream",
     "text": [
      "Updating extended object track =  0\n",
      "Updating extended object track =  0\n",
      "Updating extended object track =  1\n"
     ]
    },
    {
     "name": "stderr",
     "output_type": "stream",
     "text": [
      "C:\\Users\\gadli\\Anaconda3\\lib\\site-packages\\nuscenes\\map_expansion\\map_api.py:1823: ShapelyDeprecationWarning: Iteration over multi-part geometries is deprecated and will be removed in Shapely 2.0. Use the `geoms` property to access the constituent parts of a multi-part geometry.\n",
      "  exteriors = [int_coords(poly.exterior.coords) for poly in polygons]\n",
      "C:\\Users\\gadli\\Anaconda3\\lib\\site-packages\\nuscenes\\map_expansion\\map_api.py:1824: ShapelyDeprecationWarning: Iteration over multi-part geometries is deprecated and will be removed in Shapely 2.0. Use the `geoms` property to access the constituent parts of a multi-part geometry.\n",
      "  interiors = [int_coords(pi.coords) for poly in polygons for pi in poly.interiors]\n"
     ]
    },
    {
     "name": "stdout",
     "output_type": "stream",
     "text": [
      "{'pf_best_pos': array([ 654.75442277, 1604.5960692 ]), 'pf_best_theta': -0.6935725868181244, 'pf_mean_pos': array([ 653.17873991, 1605.9542686 ]), 'pf_mean_theta': -0.6935726045436249}\n",
      "frame 133\n",
      "Number of point tracks before run() 105\n",
      "Number of extended tracks before run() 6\n"
     ]
    },
    {
     "name": "stderr",
     "output_type": "stream",
     "text": [
      "C:\\Users\\gadli\\old_pc\\Tau\\Thesis\\polynoms\\tracker.py:94: VisibleDeprecationWarning: Creating an ndarray from ragged nested sequences (which is a list-or-tuple of lists-or-tuples-or ndarrays with different lengths or shapes) is deprecated. If you meant to do this, you must specify 'dtype=object' when creating the ndarray\n",
      "  Ha = np.array([1, z[0], z[0]**2])\n",
      "C:\\Users\\gadli\\old_pc\\Tau\\Thesis\\polynoms\\tracker.py:117: RuntimeWarning: divide by zero encountered in double_scalars\n",
      "  ratio = np.sqrt(lp)/le\n"
     ]
    },
    {
     "name": "stdout",
     "output_type": "stream",
     "text": [
      "Updating extended object track =  2\n",
      "Updating extended object track =  2\n",
      "Updating extended object track =  1\n",
      "Updating extended object track =  4\n"
     ]
    },
    {
     "name": "stderr",
     "output_type": "stream",
     "text": [
      "C:\\Users\\gadli\\Anaconda3\\lib\\site-packages\\nuscenes\\map_expansion\\map_api.py:1823: ShapelyDeprecationWarning: Iteration over multi-part geometries is deprecated and will be removed in Shapely 2.0. Use the `geoms` property to access the constituent parts of a multi-part geometry.\n",
      "  exteriors = [int_coords(poly.exterior.coords) for poly in polygons]\n",
      "C:\\Users\\gadli\\Anaconda3\\lib\\site-packages\\nuscenes\\map_expansion\\map_api.py:1824: ShapelyDeprecationWarning: Iteration over multi-part geometries is deprecated and will be removed in Shapely 2.0. Use the `geoms` property to access the constituent parts of a multi-part geometry.\n",
      "  interiors = [int_coords(pi.coords) for poly in polygons for pi in poly.interiors]\n"
     ]
    },
    {
     "name": "stdout",
     "output_type": "stream",
     "text": [
      "{'pf_best_pos': array([ 651.77226509, 1607.18660799]), 'pf_best_theta': -0.6934402139907485, 'pf_mean_pos': array([ 653.58250995, 1605.60621449]), 'pf_mean_theta': -0.6934401586942699}\n",
      "frame 134\n",
      "Number of point tracks before run() 98\n",
      "Number of extended tracks before run() 7\n"
     ]
    },
    {
     "name": "stderr",
     "output_type": "stream",
     "text": [
      "C:\\Users\\gadli\\old_pc\\Tau\\Thesis\\polynoms\\tracker.py:94: VisibleDeprecationWarning: Creating an ndarray from ragged nested sequences (which is a list-or-tuple of lists-or-tuples-or ndarrays with different lengths or shapes) is deprecated. If you meant to do this, you must specify 'dtype=object' when creating the ndarray\n",
      "  Ha = np.array([1, z[0], z[0]**2])\n",
      "C:\\Users\\gadli\\old_pc\\Tau\\Thesis\\polynoms\\tracker.py:117: RuntimeWarning: divide by zero encountered in double_scalars\n",
      "  ratio = np.sqrt(lp)/le\n"
     ]
    },
    {
     "name": "stdout",
     "output_type": "stream",
     "text": [
      "Updating extended object track =  0\n",
      "Updating extended object track =  1\n",
      "Updating extended object track =  2\n"
     ]
    },
    {
     "name": "stderr",
     "output_type": "stream",
     "text": [
      "C:\\Users\\gadli\\Anaconda3\\lib\\site-packages\\nuscenes\\map_expansion\\map_api.py:1823: ShapelyDeprecationWarning: Iteration over multi-part geometries is deprecated and will be removed in Shapely 2.0. Use the `geoms` property to access the constituent parts of a multi-part geometry.\n",
      "  exteriors = [int_coords(poly.exterior.coords) for poly in polygons]\n",
      "C:\\Users\\gadli\\Anaconda3\\lib\\site-packages\\nuscenes\\map_expansion\\map_api.py:1824: ShapelyDeprecationWarning: Iteration over multi-part geometries is deprecated and will be removed in Shapely 2.0. Use the `geoms` property to access the constituent parts of a multi-part geometry.\n",
      "  interiors = [int_coords(pi.coords) for poly in polygons for pi in poly.interiors]\n"
     ]
    },
    {
     "name": "stdout",
     "output_type": "stream",
     "text": [
      "{'pf_best_pos': array([ 655.06679249, 1604.31401916]), 'pf_best_theta': -0.6936470786051574, 'pf_mean_pos': array([ 653.84019941, 1605.3806091 ]), 'pf_mean_theta': -0.6936471405778939}\n",
      "frame 135\n",
      "Number of point tracks before run() 102\n",
      "Number of extended tracks before run() 7\n",
      "Updating extended object track =  6\n",
      "Updating extended object track =  0\n",
      "Updating extended object track =  6\n",
      "Updating extended object track =  4\n",
      "Updating extended object track =  5\n",
      "Updating extended object track =  1\n",
      "Updating extended object track =  3\n"
     ]
    },
    {
     "name": "stderr",
     "output_type": "stream",
     "text": [
      "C:\\Users\\gadli\\old_pc\\Tau\\Thesis\\polynoms\\tracker.py:94: VisibleDeprecationWarning: Creating an ndarray from ragged nested sequences (which is a list-or-tuple of lists-or-tuples-or ndarrays with different lengths or shapes) is deprecated. If you meant to do this, you must specify 'dtype=object' when creating the ndarray\n",
      "  Ha = np.array([1, z[0], z[0]**2])\n",
      "C:\\Users\\gadli\\old_pc\\Tau\\Thesis\\polynoms\\tracker.py:117: RuntimeWarning: divide by zero encountered in double_scalars\n",
      "  ratio = np.sqrt(lp)/le\n",
      "C:\\Users\\gadli\\Anaconda3\\lib\\site-packages\\nuscenes\\map_expansion\\map_api.py:1823: ShapelyDeprecationWarning: Iteration over multi-part geometries is deprecated and will be removed in Shapely 2.0. Use the `geoms` property to access the constituent parts of a multi-part geometry.\n",
      "  exteriors = [int_coords(poly.exterior.coords) for poly in polygons]\n",
      "C:\\Users\\gadli\\Anaconda3\\lib\\site-packages\\nuscenes\\map_expansion\\map_api.py:1824: ShapelyDeprecationWarning: Iteration over multi-part geometries is deprecated and will be removed in Shapely 2.0. Use the `geoms` property to access the constituent parts of a multi-part geometry.\n",
      "  interiors = [int_coords(pi.coords) for poly in polygons for pi in poly.interiors]\n"
     ]
    },
    {
     "name": "stdout",
     "output_type": "stream",
     "text": [
      "{'pf_best_pos': array([ 651.83828158, 1607.12816925]), 'pf_best_theta': -0.6935848480108726, 'pf_mean_pos': array([ 653.98697733, 1605.25342254]), 'pf_mean_theta': -0.6935847838128599}\n",
      "frame 136\n",
      "Number of point tracks before run() 104\n",
      "Number of extended tracks before run() 7\n"
     ]
    },
    {
     "name": "stderr",
     "output_type": "stream",
     "text": [
      "C:\\Users\\gadli\\old_pc\\Tau\\Thesis\\polynoms\\tracker.py:94: VisibleDeprecationWarning: Creating an ndarray from ragged nested sequences (which is a list-or-tuple of lists-or-tuples-or ndarrays with different lengths or shapes) is deprecated. If you meant to do this, you must specify 'dtype=object' when creating the ndarray\n",
      "  Ha = np.array([1, z[0], z[0]**2])\n",
      "C:\\Users\\gadli\\old_pc\\Tau\\Thesis\\polynoms\\tracker.py:117: RuntimeWarning: divide by zero encountered in double_scalars\n",
      "  ratio = np.sqrt(lp)/le\n"
     ]
    },
    {
     "name": "stdout",
     "output_type": "stream",
     "text": [
      "Updating extended object track =  0\n",
      "Updating extended object track =  6\n",
      "Updating extended object track =  6\n",
      "Updating extended object track =  3\n",
      "Updating extended object track =  5\n"
     ]
    },
    {
     "name": "stderr",
     "output_type": "stream",
     "text": [
      "C:\\Users\\gadli\\Anaconda3\\lib\\site-packages\\nuscenes\\map_expansion\\map_api.py:1823: ShapelyDeprecationWarning: Iteration over multi-part geometries is deprecated and will be removed in Shapely 2.0. Use the `geoms` property to access the constituent parts of a multi-part geometry.\n",
      "  exteriors = [int_coords(poly.exterior.coords) for poly in polygons]\n",
      "C:\\Users\\gadli\\Anaconda3\\lib\\site-packages\\nuscenes\\map_expansion\\map_api.py:1824: ShapelyDeprecationWarning: Iteration over multi-part geometries is deprecated and will be removed in Shapely 2.0. Use the `geoms` property to access the constituent parts of a multi-part geometry.\n",
      "  interiors = [int_coords(pi.coords) for poly in polygons for pi in poly.interiors]\n"
     ]
    },
    {
     "name": "stdout",
     "output_type": "stream",
     "text": [
      "{'pf_best_pos': array([ 652.06110709, 1606.92218415]), 'pf_best_theta': -0.6932552128164078, 'pf_mean_pos': array([ 654.24596625, 1605.02885365]), 'pf_mean_theta': -0.6932552668751399}\n",
      "frame 137\n",
      "Number of point tracks before run() 102\n",
      "Number of extended tracks before run() 7\n"
     ]
    },
    {
     "name": "stderr",
     "output_type": "stream",
     "text": [
      "C:\\Users\\gadli\\old_pc\\Tau\\Thesis\\polynoms\\tracker.py:94: VisibleDeprecationWarning: Creating an ndarray from ragged nested sequences (which is a list-or-tuple of lists-or-tuples-or ndarrays with different lengths or shapes) is deprecated. If you meant to do this, you must specify 'dtype=object' when creating the ndarray\n",
      "  Ha = np.array([1, z[0], z[0]**2])\n",
      "C:\\Users\\gadli\\old_pc\\Tau\\Thesis\\polynoms\\tracker.py:117: RuntimeWarning: divide by zero encountered in double_scalars\n",
      "  ratio = np.sqrt(lp)/le\n"
     ]
    },
    {
     "name": "stdout",
     "output_type": "stream",
     "text": [
      "Updating extended object track =  6\n",
      "Updating extended object track =  5\n",
      "Updating extended object track =  3\n",
      "Updating extended object track =  5\n"
     ]
    },
    {
     "name": "stderr",
     "output_type": "stream",
     "text": [
      "C:\\Users\\gadli\\Anaconda3\\lib\\site-packages\\nuscenes\\map_expansion\\map_api.py:1823: ShapelyDeprecationWarning: Iteration over multi-part geometries is deprecated and will be removed in Shapely 2.0. Use the `geoms` property to access the constituent parts of a multi-part geometry.\n",
      "  exteriors = [int_coords(poly.exterior.coords) for poly in polygons]\n",
      "C:\\Users\\gadli\\Anaconda3\\lib\\site-packages\\nuscenes\\map_expansion\\map_api.py:1824: ShapelyDeprecationWarning: Iteration over multi-part geometries is deprecated and will be removed in Shapely 2.0. Use the `geoms` property to access the constituent parts of a multi-part geometry.\n",
      "  interiors = [int_coords(pi.coords) for poly in polygons for pi in poly.interiors]\n"
     ]
    },
    {
     "name": "stdout",
     "output_type": "stream",
     "text": [
      "{'pf_best_pos': array([ 652.59584559, 1606.44783111]), 'pf_best_theta': -0.6933333797901549, 'pf_mean_pos': array([ 654.48562316, 1604.81650837]), 'pf_mean_theta': -0.6933333412534392}\n",
      "frame 138\n",
      "Number of point tracks before run() 101\n",
      "Number of extended tracks before run() 7\n"
     ]
    },
    {
     "name": "stderr",
     "output_type": "stream",
     "text": [
      "C:\\Users\\gadli\\old_pc\\Tau\\Thesis\\polynoms\\tracker.py:94: VisibleDeprecationWarning: Creating an ndarray from ragged nested sequences (which is a list-or-tuple of lists-or-tuples-or ndarrays with different lengths or shapes) is deprecated. If you meant to do this, you must specify 'dtype=object' when creating the ndarray\n",
      "  Ha = np.array([1, z[0], z[0]**2])\n",
      "C:\\Users\\gadli\\old_pc\\Tau\\Thesis\\polynoms\\tracker.py:117: RuntimeWarning: divide by zero encountered in double_scalars\n",
      "  ratio = np.sqrt(lp)/le\n"
     ]
    },
    {
     "name": "stdout",
     "output_type": "stream",
     "text": [
      "Updating extended object track =  1\n",
      "Updating extended object track =  6\n",
      "Updating extended object track =  2\n",
      "Updating extended object track =  4\n",
      "Updating extended object track =  1\n",
      "Updating extended object track =  5\n"
     ]
    },
    {
     "name": "stderr",
     "output_type": "stream",
     "text": [
      "C:\\Users\\gadli\\Anaconda3\\lib\\site-packages\\nuscenes\\map_expansion\\map_api.py:1823: ShapelyDeprecationWarning: Iteration over multi-part geometries is deprecated and will be removed in Shapely 2.0. Use the `geoms` property to access the constituent parts of a multi-part geometry.\n",
      "  exteriors = [int_coords(poly.exterior.coords) for poly in polygons]\n",
      "C:\\Users\\gadli\\Anaconda3\\lib\\site-packages\\nuscenes\\map_expansion\\map_api.py:1824: ShapelyDeprecationWarning: Iteration over multi-part geometries is deprecated and will be removed in Shapely 2.0. Use the `geoms` property to access the constituent parts of a multi-part geometry.\n",
      "  interiors = [int_coords(pi.coords) for poly in polygons for pi in poly.interiors]\n"
     ]
    },
    {
     "name": "stdout",
     "output_type": "stream",
     "text": [
      "{'pf_best_pos': array([ 653.00316421, 1606.08881937]), 'pf_best_theta': -0.6936515872669924, 'pf_mean_pos': array([ 654.62393281, 1604.69227132]), 'pf_mean_theta': -0.693651495977921}\n",
      "frame 139\n",
      "Number of point tracks before run() 102\n",
      "Number of extended tracks before run() 7\n"
     ]
    },
    {
     "name": "stderr",
     "output_type": "stream",
     "text": [
      "C:\\Users\\gadli\\old_pc\\Tau\\Thesis\\polynoms\\tracker.py:94: VisibleDeprecationWarning: Creating an ndarray from ragged nested sequences (which is a list-or-tuple of lists-or-tuples-or ndarrays with different lengths or shapes) is deprecated. If you meant to do this, you must specify 'dtype=object' when creating the ndarray\n",
      "  Ha = np.array([1, z[0], z[0]**2])\n",
      "C:\\Users\\gadli\\old_pc\\Tau\\Thesis\\polynoms\\tracker.py:117: RuntimeWarning: divide by zero encountered in double_scalars\n",
      "  ratio = np.sqrt(lp)/le\n"
     ]
    },
    {
     "name": "stdout",
     "output_type": "stream",
     "text": [
      "Updating extended object track =  6\n",
      "Updating extended object track =  3\n",
      "Updating extended object track =  2\n",
      "Updating extended object track =  2\n",
      "Updating extended object track =  4\n",
      "Updating extended object track =  1\n"
     ]
    },
    {
     "name": "stderr",
     "output_type": "stream",
     "text": [
      "C:\\Users\\gadli\\Anaconda3\\lib\\site-packages\\nuscenes\\map_expansion\\map_api.py:1823: ShapelyDeprecationWarning: Iteration over multi-part geometries is deprecated and will be removed in Shapely 2.0. Use the `geoms` property to access the constituent parts of a multi-part geometry.\n",
      "  exteriors = [int_coords(poly.exterior.coords) for poly in polygons]\n",
      "C:\\Users\\gadli\\Anaconda3\\lib\\site-packages\\nuscenes\\map_expansion\\map_api.py:1824: ShapelyDeprecationWarning: Iteration over multi-part geometries is deprecated and will be removed in Shapely 2.0. Use the `geoms` property to access the constituent parts of a multi-part geometry.\n",
      "  interiors = [int_coords(pi.coords) for poly in polygons for pi in poly.interiors]\n"
     ]
    },
    {
     "name": "stdout",
     "output_type": "stream",
     "text": [
      "{'pf_best_pos': array([ 655.71343775, 1603.74515952]), 'pf_best_theta': -0.6934677609400737, 'pf_mean_pos': array([ 655.04289205, 1604.33121495]), 'pf_mean_theta': -0.6934676417780519}\n",
      "frame 140\n",
      "Number of point tracks before run() 99\n",
      "Number of extended tracks before run() 7\n"
     ]
    },
    {
     "name": "stderr",
     "output_type": "stream",
     "text": [
      "C:\\Users\\gadli\\old_pc\\Tau\\Thesis\\polynoms\\tracker.py:94: VisibleDeprecationWarning: Creating an ndarray from ragged nested sequences (which is a list-or-tuple of lists-or-tuples-or ndarrays with different lengths or shapes) is deprecated. If you meant to do this, you must specify 'dtype=object' when creating the ndarray\n",
      "  Ha = np.array([1, z[0], z[0]**2])\n",
      "C:\\Users\\gadli\\old_pc\\Tau\\Thesis\\polynoms\\tracker.py:117: RuntimeWarning: divide by zero encountered in double_scalars\n",
      "  ratio = np.sqrt(lp)/le\n"
     ]
    },
    {
     "name": "stdout",
     "output_type": "stream",
     "text": [
      "Updating extended object track =  6\n",
      "Updating extended object track =  2\n"
     ]
    },
    {
     "name": "stderr",
     "output_type": "stream",
     "text": [
      "C:\\Users\\gadli\\Anaconda3\\lib\\site-packages\\nuscenes\\map_expansion\\map_api.py:1823: ShapelyDeprecationWarning: Iteration over multi-part geometries is deprecated and will be removed in Shapely 2.0. Use the `geoms` property to access the constituent parts of a multi-part geometry.\n",
      "  exteriors = [int_coords(poly.exterior.coords) for poly in polygons]\n",
      "C:\\Users\\gadli\\Anaconda3\\lib\\site-packages\\nuscenes\\map_expansion\\map_api.py:1824: ShapelyDeprecationWarning: Iteration over multi-part geometries is deprecated and will be removed in Shapely 2.0. Use the `geoms` property to access the constituent parts of a multi-part geometry.\n",
      "  interiors = [int_coords(pi.coords) for poly in polygons for pi in poly.interiors]\n"
     ]
    },
    {
     "name": "stdout",
     "output_type": "stream",
     "text": [
      "{'pf_best_pos': array([ 656.55814913, 1603.01801406]), 'pf_best_theta': -0.693408595819025, 'pf_mean_pos': array([ 655.2095172 , 1604.18944754]), 'pf_mean_theta': -0.6934084775620561}\n",
      "frame 141\n",
      "Number of point tracks before run() 102\n",
      "Number of extended tracks before run() 7\n"
     ]
    },
    {
     "name": "stderr",
     "output_type": "stream",
     "text": [
      "C:\\Users\\gadli\\old_pc\\Tau\\Thesis\\polynoms\\tracker.py:94: VisibleDeprecationWarning: Creating an ndarray from ragged nested sequences (which is a list-or-tuple of lists-or-tuples-or ndarrays with different lengths or shapes) is deprecated. If you meant to do this, you must specify 'dtype=object' when creating the ndarray\n",
      "  Ha = np.array([1, z[0], z[0]**2])\n",
      "C:\\Users\\gadli\\old_pc\\Tau\\Thesis\\polynoms\\tracker.py:117: RuntimeWarning: divide by zero encountered in double_scalars\n",
      "  ratio = np.sqrt(lp)/le\n"
     ]
    },
    {
     "name": "stdout",
     "output_type": "stream",
     "text": [
      "Updating extended object track =  1\n",
      "Updating extended object track =  2\n",
      "Updating extended object track =  2\n",
      "Updating extended object track =  4\n",
      "Updating extended object track =  1\n"
     ]
    },
    {
     "name": "stderr",
     "output_type": "stream",
     "text": [
      "C:\\Users\\gadli\\Anaconda3\\lib\\site-packages\\nuscenes\\map_expansion\\map_api.py:1823: ShapelyDeprecationWarning: Iteration over multi-part geometries is deprecated and will be removed in Shapely 2.0. Use the `geoms` property to access the constituent parts of a multi-part geometry.\n",
      "  exteriors = [int_coords(poly.exterior.coords) for poly in polygons]\n",
      "C:\\Users\\gadli\\Anaconda3\\lib\\site-packages\\nuscenes\\map_expansion\\map_api.py:1824: ShapelyDeprecationWarning: Iteration over multi-part geometries is deprecated and will be removed in Shapely 2.0. Use the `geoms` property to access the constituent parts of a multi-part geometry.\n",
      "  interiors = [int_coords(pi.coords) for poly in polygons for pi in poly.interiors]\n"
     ]
    },
    {
     "name": "stdout",
     "output_type": "stream",
     "text": [
      "{'pf_best_pos': array([ 657.88761255, 1601.87987505]), 'pf_best_theta': -0.6935860887188552, 'pf_mean_pos': array([ 655.44004162, 1603.98953314]), 'pf_mean_theta': -0.6935860897314616}\n",
      "frame 142\n",
      "Number of point tracks before run() 103\n",
      "Number of extended tracks before run() 7\n",
      "Updating extended object track =  6\n",
      "Updating extended object track =  2\n",
      "Updating extended object track =  3\n",
      "Updating extended object track =  0\n",
      "Updating extended object track =  6\n"
     ]
    },
    {
     "name": "stderr",
     "output_type": "stream",
     "text": [
      "C:\\Users\\gadli\\old_pc\\Tau\\Thesis\\polynoms\\tracker.py:94: VisibleDeprecationWarning: Creating an ndarray from ragged nested sequences (which is a list-or-tuple of lists-or-tuples-or ndarrays with different lengths or shapes) is deprecated. If you meant to do this, you must specify 'dtype=object' when creating the ndarray\n",
      "  Ha = np.array([1, z[0], z[0]**2])\n",
      "C:\\Users\\gadli\\old_pc\\Tau\\Thesis\\polynoms\\tracker.py:117: RuntimeWarning: divide by zero encountered in double_scalars\n",
      "  ratio = np.sqrt(lp)/le\n",
      "C:\\Users\\gadli\\Anaconda3\\lib\\site-packages\\nuscenes\\map_expansion\\map_api.py:1823: ShapelyDeprecationWarning: Iteration over multi-part geometries is deprecated and will be removed in Shapely 2.0. Use the `geoms` property to access the constituent parts of a multi-part geometry.\n",
      "  exteriors = [int_coords(poly.exterior.coords) for poly in polygons]\n",
      "C:\\Users\\gadli\\Anaconda3\\lib\\site-packages\\nuscenes\\map_expansion\\map_api.py:1824: ShapelyDeprecationWarning: Iteration over multi-part geometries is deprecated and will be removed in Shapely 2.0. Use the `geoms` property to access the constituent parts of a multi-part geometry.\n",
      "  interiors = [int_coords(pi.coords) for poly in polygons for pi in poly.interiors]\n"
     ]
    },
    {
     "name": "stdout",
     "output_type": "stream",
     "text": [
      "{'pf_best_pos': array([ 657.01978815, 1602.61825949]), 'pf_best_theta': -0.6937296058514151, 'pf_mean_pos': array([ 655.84792336, 1603.63679971]), 'pf_mean_theta': -0.693729560310616}\n",
      "frame 143\n",
      "Number of point tracks before run() 106\n",
      "Number of extended tracks before run() 7\n"
     ]
    },
    {
     "name": "stderr",
     "output_type": "stream",
     "text": [
      "C:\\Users\\gadli\\old_pc\\Tau\\Thesis\\polynoms\\tracker.py:94: VisibleDeprecationWarning: Creating an ndarray from ragged nested sequences (which is a list-or-tuple of lists-or-tuples-or ndarrays with different lengths or shapes) is deprecated. If you meant to do this, you must specify 'dtype=object' when creating the ndarray\n",
      "  Ha = np.array([1, z[0], z[0]**2])\n",
      "C:\\Users\\gadli\\old_pc\\Tau\\Thesis\\polynoms\\tracker.py:117: RuntimeWarning: divide by zero encountered in double_scalars\n",
      "  ratio = np.sqrt(lp)/le\n"
     ]
    },
    {
     "name": "stdout",
     "output_type": "stream",
     "text": [
      "Updating extended object track =  3\n",
      "Updating extended object track =  4\n",
      "Updating extended object track =  6\n",
      "Updating extended object track =  2\n",
      "Updating extended object track =  1\n"
     ]
    },
    {
     "name": "stderr",
     "output_type": "stream",
     "text": [
      "C:\\Users\\gadli\\Anaconda3\\lib\\site-packages\\nuscenes\\map_expansion\\map_api.py:1823: ShapelyDeprecationWarning: Iteration over multi-part geometries is deprecated and will be removed in Shapely 2.0. Use the `geoms` property to access the constituent parts of a multi-part geometry.\n",
      "  exteriors = [int_coords(poly.exterior.coords) for poly in polygons]\n",
      "C:\\Users\\gadli\\Anaconda3\\lib\\site-packages\\nuscenes\\map_expansion\\map_api.py:1824: ShapelyDeprecationWarning: Iteration over multi-part geometries is deprecated and will be removed in Shapely 2.0. Use the `geoms` property to access the constituent parts of a multi-part geometry.\n",
      "  interiors = [int_coords(pi.coords) for poly in polygons for pi in poly.interiors]\n"
     ]
    },
    {
     "name": "stdout",
     "output_type": "stream",
     "text": [
      "{'pf_best_pos': array([ 657.52988985, 1602.17546511]), 'pf_best_theta': -0.694339528023808, 'pf_mean_pos': array([ 656.19326036, 1603.33364321]), 'pf_mean_theta': -0.6943395076588164}\n",
      "frame 144\n",
      "Number of point tracks before run() 112\n",
      "Number of extended tracks before run() 7\n"
     ]
    },
    {
     "name": "stderr",
     "output_type": "stream",
     "text": [
      "C:\\Users\\gadli\\old_pc\\Tau\\Thesis\\polynoms\\tracker.py:94: VisibleDeprecationWarning: Creating an ndarray from ragged nested sequences (which is a list-or-tuple of lists-or-tuples-or ndarrays with different lengths or shapes) is deprecated. If you meant to do this, you must specify 'dtype=object' when creating the ndarray\n",
      "  Ha = np.array([1, z[0], z[0]**2])\n",
      "C:\\Users\\gadli\\old_pc\\Tau\\Thesis\\polynoms\\tracker.py:117: RuntimeWarning: divide by zero encountered in double_scalars\n",
      "  ratio = np.sqrt(lp)/le\n"
     ]
    },
    {
     "name": "stdout",
     "output_type": "stream",
     "text": [
      "Updating extended object track =  0\n",
      "Updating extended object track =  6\n",
      "Updating extended object track =  1\n",
      "Updating extended object track =  1\n",
      "Updating extended object track =  2\n"
     ]
    },
    {
     "name": "stderr",
     "output_type": "stream",
     "text": [
      "C:\\Users\\gadli\\Anaconda3\\lib\\site-packages\\nuscenes\\map_expansion\\map_api.py:1823: ShapelyDeprecationWarning: Iteration over multi-part geometries is deprecated and will be removed in Shapely 2.0. Use the `geoms` property to access the constituent parts of a multi-part geometry.\n",
      "  exteriors = [int_coords(poly.exterior.coords) for poly in polygons]\n",
      "C:\\Users\\gadli\\Anaconda3\\lib\\site-packages\\nuscenes\\map_expansion\\map_api.py:1824: ShapelyDeprecationWarning: Iteration over multi-part geometries is deprecated and will be removed in Shapely 2.0. Use the `geoms` property to access the constituent parts of a multi-part geometry.\n",
      "  interiors = [int_coords(pi.coords) for poly in polygons for pi in poly.interiors]\n"
     ]
    },
    {
     "name": "stdout",
     "output_type": "stream",
     "text": [
      "{'pf_best_pos': array([ 656.85882541, 1602.75103276]), 'pf_best_theta': -0.6946665846105446, 'pf_mean_pos': array([ 656.60689749, 1602.97156954]), 'pf_mean_theta': -0.6946664768271369}\n",
      "frame 145\n",
      "Number of point tracks before run() 112\n",
      "Number of extended tracks before run() 7\n"
     ]
    },
    {
     "name": "stderr",
     "output_type": "stream",
     "text": [
      "C:\\Users\\gadli\\old_pc\\Tau\\Thesis\\polynoms\\tracker.py:94: VisibleDeprecationWarning: Creating an ndarray from ragged nested sequences (which is a list-or-tuple of lists-or-tuples-or ndarrays with different lengths or shapes) is deprecated. If you meant to do this, you must specify 'dtype=object' when creating the ndarray\n",
      "  Ha = np.array([1, z[0], z[0]**2])\n",
      "C:\\Users\\gadli\\old_pc\\Tau\\Thesis\\polynoms\\tracker.py:117: RuntimeWarning: divide by zero encountered in double_scalars\n",
      "  ratio = np.sqrt(lp)/le\n"
     ]
    },
    {
     "name": "stdout",
     "output_type": "stream",
     "text": [
      "Updating extended object track =  5\n",
      "Updating extended object track =  2\n",
      "Updating extended object track =  5\n",
      "Updating extended object track =  2\n",
      "Updating extended object track =  2\n",
      "Updating extended object track =  1\n"
     ]
    },
    {
     "name": "stderr",
     "output_type": "stream",
     "text": [
      "C:\\Users\\gadli\\Anaconda3\\lib\\site-packages\\nuscenes\\map_expansion\\map_api.py:1823: ShapelyDeprecationWarning: Iteration over multi-part geometries is deprecated and will be removed in Shapely 2.0. Use the `geoms` property to access the constituent parts of a multi-part geometry.\n",
      "  exteriors = [int_coords(poly.exterior.coords) for poly in polygons]\n",
      "C:\\Users\\gadli\\Anaconda3\\lib\\site-packages\\nuscenes\\map_expansion\\map_api.py:1824: ShapelyDeprecationWarning: Iteration over multi-part geometries is deprecated and will be removed in Shapely 2.0. Use the `geoms` property to access the constituent parts of a multi-part geometry.\n",
      "  interiors = [int_coords(pi.coords) for poly in polygons for pi in poly.interiors]\n"
     ]
    },
    {
     "name": "stdout",
     "output_type": "stream",
     "text": [
      "{'pf_best_pos': array([ 656.50513817, 1603.06628365]), 'pf_best_theta': -0.6956562210177171, 'pf_mean_pos': array([ 657.06926583, 1602.5713873 ]), 'pf_mean_theta': -0.69565610289156}\n",
      "frame 146\n",
      "Number of point tracks before run() 111\n",
      "Number of extended tracks before run() 7\n"
     ]
    },
    {
     "name": "stderr",
     "output_type": "stream",
     "text": [
      "C:\\Users\\gadli\\old_pc\\Tau\\Thesis\\polynoms\\tracker.py:94: VisibleDeprecationWarning: Creating an ndarray from ragged nested sequences (which is a list-or-tuple of lists-or-tuples-or ndarrays with different lengths or shapes) is deprecated. If you meant to do this, you must specify 'dtype=object' when creating the ndarray\n",
      "  Ha = np.array([1, z[0], z[0]**2])\n",
      "C:\\Users\\gadli\\old_pc\\Tau\\Thesis\\polynoms\\tracker.py:117: RuntimeWarning: divide by zero encountered in double_scalars\n",
      "  ratio = np.sqrt(lp)/le\n"
     ]
    },
    {
     "name": "stdout",
     "output_type": "stream",
     "text": [
      "Updating extended object track =  1\n",
      "Updating extended object track =  2\n",
      "Updating extended object track =  5\n",
      "Updating extended object track =  1\n"
     ]
    },
    {
     "name": "stderr",
     "output_type": "stream",
     "text": [
      "C:\\Users\\gadli\\Anaconda3\\lib\\site-packages\\nuscenes\\map_expansion\\map_api.py:1823: ShapelyDeprecationWarning: Iteration over multi-part geometries is deprecated and will be removed in Shapely 2.0. Use the `geoms` property to access the constituent parts of a multi-part geometry.\n",
      "  exteriors = [int_coords(poly.exterior.coords) for poly in polygons]\n",
      "C:\\Users\\gadli\\Anaconda3\\lib\\site-packages\\nuscenes\\map_expansion\\map_api.py:1824: ShapelyDeprecationWarning: Iteration over multi-part geometries is deprecated and will be removed in Shapely 2.0. Use the `geoms` property to access the constituent parts of a multi-part geometry.\n",
      "  interiors = [int_coords(pi.coords) for poly in polygons for pi in poly.interiors]\n"
     ]
    },
    {
     "name": "stdout",
     "output_type": "stream",
     "text": [
      "{'pf_best_pos': array([ 658.92054944, 1600.94880975]), 'pf_best_theta': -0.6956495529680584, 'pf_mean_pos': array([ 657.30202528, 1602.37216321]), 'pf_mean_theta': -0.6956495064329249}\n",
      "frame 147\n",
      "Number of point tracks before run() 97\n",
      "Number of extended tracks before run() 8\n"
     ]
    },
    {
     "name": "stderr",
     "output_type": "stream",
     "text": [
      "C:\\Users\\gadli\\old_pc\\Tau\\Thesis\\polynoms\\tracker.py:94: VisibleDeprecationWarning: Creating an ndarray from ragged nested sequences (which is a list-or-tuple of lists-or-tuples-or ndarrays with different lengths or shapes) is deprecated. If you meant to do this, you must specify 'dtype=object' when creating the ndarray\n",
      "  Ha = np.array([1, z[0], z[0]**2])\n",
      "C:\\Users\\gadli\\old_pc\\Tau\\Thesis\\polynoms\\tracker.py:117: RuntimeWarning: divide by zero encountered in double_scalars\n",
      "  ratio = np.sqrt(lp)/le\n"
     ]
    },
    {
     "name": "stdout",
     "output_type": "stream",
     "text": [
      "Updating extended object track =  2\n",
      "Updating extended object track =  2\n",
      "Updating extended object track =  1\n",
      "Updating extended object track =  3\n"
     ]
    },
    {
     "name": "stderr",
     "output_type": "stream",
     "text": [
      "C:\\Users\\gadli\\Anaconda3\\lib\\site-packages\\nuscenes\\map_expansion\\map_api.py:1823: ShapelyDeprecationWarning: Iteration over multi-part geometries is deprecated and will be removed in Shapely 2.0. Use the `geoms` property to access the constituent parts of a multi-part geometry.\n",
      "  exteriors = [int_coords(poly.exterior.coords) for poly in polygons]\n",
      "C:\\Users\\gadli\\Anaconda3\\lib\\site-packages\\nuscenes\\map_expansion\\map_api.py:1824: ShapelyDeprecationWarning: Iteration over multi-part geometries is deprecated and will be removed in Shapely 2.0. Use the `geoms` property to access the constituent parts of a multi-part geometry.\n",
      "  interiors = [int_coords(pi.coords) for poly in polygons for pi in poly.interiors]\n"
     ]
    },
    {
     "name": "stdout",
     "output_type": "stream",
     "text": [
      "{'pf_best_pos': array([ 658.27104016, 1601.52600921]), 'pf_best_theta': -0.6955822201315991, 'pf_mean_pos': array([ 657.53733886, 1602.17011961]), 'pf_mean_theta': -0.6955820948358905}\n",
      "frame 148\n",
      "Number of point tracks before run() 107\n",
      "Number of extended tracks before run() 8\n"
     ]
    },
    {
     "name": "stderr",
     "output_type": "stream",
     "text": [
      "C:\\Users\\gadli\\old_pc\\Tau\\Thesis\\polynoms\\tracker.py:94: VisibleDeprecationWarning: Creating an ndarray from ragged nested sequences (which is a list-or-tuple of lists-or-tuples-or ndarrays with different lengths or shapes) is deprecated. If you meant to do this, you must specify 'dtype=object' when creating the ndarray\n",
      "  Ha = np.array([1, z[0], z[0]**2])\n",
      "C:\\Users\\gadli\\old_pc\\Tau\\Thesis\\polynoms\\tracker.py:117: RuntimeWarning: divide by zero encountered in double_scalars\n",
      "  ratio = np.sqrt(lp)/le\n"
     ]
    },
    {
     "name": "stdout",
     "output_type": "stream",
     "text": [
      "Updating extended object track =  7\n",
      "Updating extended object track =  2\n",
      "Updating extended object track =  0\n",
      "Updating extended object track =  1\n",
      "Updating extended object track =  7\n",
      "Updating extended object track =  7\n",
      "Updating extended object track =  7\n"
     ]
    },
    {
     "name": "stderr",
     "output_type": "stream",
     "text": [
      "C:\\Users\\gadli\\Anaconda3\\lib\\site-packages\\nuscenes\\map_expansion\\map_api.py:1823: ShapelyDeprecationWarning: Iteration over multi-part geometries is deprecated and will be removed in Shapely 2.0. Use the `geoms` property to access the constituent parts of a multi-part geometry.\n",
      "  exteriors = [int_coords(poly.exterior.coords) for poly in polygons]\n",
      "C:\\Users\\gadli\\Anaconda3\\lib\\site-packages\\nuscenes\\map_expansion\\map_api.py:1824: ShapelyDeprecationWarning: Iteration over multi-part geometries is deprecated and will be removed in Shapely 2.0. Use the `geoms` property to access the constituent parts of a multi-part geometry.\n",
      "  interiors = [int_coords(pi.coords) for poly in polygons for pi in poly.interiors]\n"
     ]
    },
    {
     "name": "stdout",
     "output_type": "stream",
     "text": [
      "{'pf_best_pos': array([ 657.68761273, 1602.03547627]), 'pf_best_theta': -0.6958813612495014, 'pf_mean_pos': array([ 657.80583804, 1601.93530191]), 'pf_mean_theta': -0.6958812342538335}\n",
      "frame 149\n",
      "Number of point tracks before run() 98\n",
      "Number of extended tracks before run() 9\n"
     ]
    },
    {
     "name": "stderr",
     "output_type": "stream",
     "text": [
      "C:\\Users\\gadli\\old_pc\\Tau\\Thesis\\polynoms\\tracker.py:94: VisibleDeprecationWarning: Creating an ndarray from ragged nested sequences (which is a list-or-tuple of lists-or-tuples-or ndarrays with different lengths or shapes) is deprecated. If you meant to do this, you must specify 'dtype=object' when creating the ndarray\n",
      "  Ha = np.array([1, z[0], z[0]**2])\n",
      "C:\\Users\\gadli\\old_pc\\Tau\\Thesis\\polynoms\\tracker.py:117: RuntimeWarning: divide by zero encountered in double_scalars\n",
      "  ratio = np.sqrt(lp)/le\n"
     ]
    },
    {
     "name": "stdout",
     "output_type": "stream",
     "text": [
      "Updating extended object track =  5\n",
      "Updating extended object track =  2\n",
      "Updating extended object track =  0\n",
      "Updating extended object track =  6\n",
      "Updating extended object track =  1\n"
     ]
    },
    {
     "name": "stderr",
     "output_type": "stream",
     "text": [
      "C:\\Users\\gadli\\Anaconda3\\lib\\site-packages\\nuscenes\\map_expansion\\map_api.py:1823: ShapelyDeprecationWarning: Iteration over multi-part geometries is deprecated and will be removed in Shapely 2.0. Use the `geoms` property to access the constituent parts of a multi-part geometry.\n",
      "  exteriors = [int_coords(poly.exterior.coords) for poly in polygons]\n",
      "C:\\Users\\gadli\\Anaconda3\\lib\\site-packages\\nuscenes\\map_expansion\\map_api.py:1824: ShapelyDeprecationWarning: Iteration over multi-part geometries is deprecated and will be removed in Shapely 2.0. Use the `geoms` property to access the constituent parts of a multi-part geometry.\n",
      "  interiors = [int_coords(pi.coords) for poly in polygons for pi in poly.interiors]\n"
     ]
    },
    {
     "name": "stdout",
     "output_type": "stream",
     "text": [
      "{'pf_best_pos': array([ 657.10474154, 1602.52959381]), 'pf_best_theta': -0.6962405874101201, 'pf_mean_pos': array([ 658.04997763, 1601.72058121]), 'pf_mean_theta': -0.6962407221398191}\n",
      "frame 150\n",
      "Number of point tracks before run() 96\n",
      "Number of extended tracks before run() 10\n"
     ]
    },
    {
     "name": "stderr",
     "output_type": "stream",
     "text": [
      "C:\\Users\\gadli\\old_pc\\Tau\\Thesis\\polynoms\\tracker.py:94: VisibleDeprecationWarning: Creating an ndarray from ragged nested sequences (which is a list-or-tuple of lists-or-tuples-or ndarrays with different lengths or shapes) is deprecated. If you meant to do this, you must specify 'dtype=object' when creating the ndarray\n",
      "  Ha = np.array([1, z[0], z[0]**2])\n",
      "C:\\Users\\gadli\\old_pc\\Tau\\Thesis\\polynoms\\tracker.py:117: RuntimeWarning: divide by zero encountered in double_scalars\n",
      "  ratio = np.sqrt(lp)/le\n"
     ]
    },
    {
     "name": "stdout",
     "output_type": "stream",
     "text": [
      "Updating extended object track =  6\n",
      "Updating extended object track =  3\n",
      "Updating extended object track =  7\n",
      "Updating extended object track =  2\n",
      "Updating extended object track =  3\n",
      "Updating extended object track =  3\n",
      "Updating extended object track =  9\n"
     ]
    },
    {
     "name": "stderr",
     "output_type": "stream",
     "text": [
      "C:\\Users\\gadli\\Anaconda3\\lib\\site-packages\\nuscenes\\map_expansion\\map_api.py:1823: ShapelyDeprecationWarning: Iteration over multi-part geometries is deprecated and will be removed in Shapely 2.0. Use the `geoms` property to access the constituent parts of a multi-part geometry.\n",
      "  exteriors = [int_coords(poly.exterior.coords) for poly in polygons]\n",
      "C:\\Users\\gadli\\Anaconda3\\lib\\site-packages\\nuscenes\\map_expansion\\map_api.py:1824: ShapelyDeprecationWarning: Iteration over multi-part geometries is deprecated and will be removed in Shapely 2.0. Use the `geoms` property to access the constituent parts of a multi-part geometry.\n",
      "  interiors = [int_coords(pi.coords) for poly in polygons for pi in poly.interiors]\n"
     ]
    },
    {
     "name": "stdout",
     "output_type": "stream",
     "text": [
      "{'pf_best_pos': array([ 658.11173969, 1601.67267353]), 'pf_best_theta': -0.698087980701112, 'pf_mean_pos': array([ 658.93164937, 1600.94696425]), 'pf_mean_theta': -0.6980880109578977}\n",
      "frame 151\n",
      "Number of point tracks before run() 96\n",
      "Number of extended tracks before run() 9\n"
     ]
    },
    {
     "name": "stderr",
     "output_type": "stream",
     "text": [
      "C:\\Users\\gadli\\old_pc\\Tau\\Thesis\\polynoms\\tracker.py:94: VisibleDeprecationWarning: Creating an ndarray from ragged nested sequences (which is a list-or-tuple of lists-or-tuples-or ndarrays with different lengths or shapes) is deprecated. If you meant to do this, you must specify 'dtype=object' when creating the ndarray\n",
      "  Ha = np.array([1, z[0], z[0]**2])\n",
      "C:\\Users\\gadli\\old_pc\\Tau\\Thesis\\polynoms\\tracker.py:117: RuntimeWarning: divide by zero encountered in double_scalars\n",
      "  ratio = np.sqrt(lp)/le\n"
     ]
    },
    {
     "name": "stdout",
     "output_type": "stream",
     "text": [
      "Updating extended object track =  4\n"
     ]
    },
    {
     "name": "stderr",
     "output_type": "stream",
     "text": [
      "C:\\Users\\gadli\\Anaconda3\\lib\\site-packages\\nuscenes\\map_expansion\\map_api.py:1823: ShapelyDeprecationWarning: Iteration over multi-part geometries is deprecated and will be removed in Shapely 2.0. Use the `geoms` property to access the constituent parts of a multi-part geometry.\n",
      "  exteriors = [int_coords(poly.exterior.coords) for poly in polygons]\n",
      "C:\\Users\\gadli\\Anaconda3\\lib\\site-packages\\nuscenes\\map_expansion\\map_api.py:1824: ShapelyDeprecationWarning: Iteration over multi-part geometries is deprecated and will be removed in Shapely 2.0. Use the `geoms` property to access the constituent parts of a multi-part geometry.\n",
      "  interiors = [int_coords(pi.coords) for poly in polygons for pi in poly.interiors]\n"
     ]
    },
    {
     "name": "stdout",
     "output_type": "stream",
     "text": [
      "{'pf_best_pos': array([ 659.72740375, 1600.24056908]), 'pf_best_theta': -0.6982239519870435, 'pf_mean_pos': array([ 659.1412653 , 1600.76483989]), 'pf_mean_theta': -0.6982237919271055}\n",
      "frame 152\n",
      "Number of point tracks before run() 103\n",
      "Number of extended tracks before run() 9\n"
     ]
    },
    {
     "name": "stderr",
     "output_type": "stream",
     "text": [
      "C:\\Users\\gadli\\old_pc\\Tau\\Thesis\\polynoms\\tracker.py:94: VisibleDeprecationWarning: Creating an ndarray from ragged nested sequences (which is a list-or-tuple of lists-or-tuples-or ndarrays with different lengths or shapes) is deprecated. If you meant to do this, you must specify 'dtype=object' when creating the ndarray\n",
      "  Ha = np.array([1, z[0], z[0]**2])\n",
      "C:\\Users\\gadli\\old_pc\\Tau\\Thesis\\polynoms\\tracker.py:117: RuntimeWarning: divide by zero encountered in double_scalars\n",
      "  ratio = np.sqrt(lp)/le\n"
     ]
    },
    {
     "name": "stdout",
     "output_type": "stream",
     "text": [
      "Updating extended object track =  6\n",
      "Updating extended object track =  1\n",
      "Updating extended object track =  8\n",
      "Updating extended object track =  1\n"
     ]
    },
    {
     "name": "stderr",
     "output_type": "stream",
     "text": [
      "C:\\Users\\gadli\\Anaconda3\\lib\\site-packages\\nuscenes\\map_expansion\\map_api.py:1823: ShapelyDeprecationWarning: Iteration over multi-part geometries is deprecated and will be removed in Shapely 2.0. Use the `geoms` property to access the constituent parts of a multi-part geometry.\n",
      "  exteriors = [int_coords(poly.exterior.coords) for poly in polygons]\n",
      "C:\\Users\\gadli\\Anaconda3\\lib\\site-packages\\nuscenes\\map_expansion\\map_api.py:1824: ShapelyDeprecationWarning: Iteration over multi-part geometries is deprecated and will be removed in Shapely 2.0. Use the `geoms` property to access the constituent parts of a multi-part geometry.\n",
      "  interiors = [int_coords(pi.coords) for poly in polygons for pi in poly.interiors]\n"
     ]
    },
    {
     "name": "stdout",
     "output_type": "stream",
     "text": [
      "{'pf_best_pos': array([ 661.29509765, 1598.90793521]), 'pf_best_theta': -0.6984819490564913, 'pf_mean_pos': array([ 659.47566798, 1600.47737116]), 'pf_mean_theta': -0.6984820145763517}\n",
      "frame 153\n",
      "Number of point tracks before run() 100\n",
      "Number of extended tracks before run() 9\n"
     ]
    },
    {
     "name": "stderr",
     "output_type": "stream",
     "text": [
      "C:\\Users\\gadli\\old_pc\\Tau\\Thesis\\polynoms\\tracker.py:94: VisibleDeprecationWarning: Creating an ndarray from ragged nested sequences (which is a list-or-tuple of lists-or-tuples-or ndarrays with different lengths or shapes) is deprecated. If you meant to do this, you must specify 'dtype=object' when creating the ndarray\n",
      "  Ha = np.array([1, z[0], z[0]**2])\n",
      "C:\\Users\\gadli\\old_pc\\Tau\\Thesis\\polynoms\\tracker.py:117: RuntimeWarning: divide by zero encountered in double_scalars\n",
      "  ratio = np.sqrt(lp)/le\n"
     ]
    },
    {
     "name": "stdout",
     "output_type": "stream",
     "text": [
      "Updating extended object track =  1\n",
      "Updating extended object track =  3\n",
      "Updating extended object track =  3\n",
      "Updating extended object track =  1\n",
      "Updating extended object track =  1\n"
     ]
    },
    {
     "name": "stderr",
     "output_type": "stream",
     "text": [
      "C:\\Users\\gadli\\Anaconda3\\lib\\site-packages\\nuscenes\\map_expansion\\map_api.py:1823: ShapelyDeprecationWarning: Iteration over multi-part geometries is deprecated and will be removed in Shapely 2.0. Use the `geoms` property to access the constituent parts of a multi-part geometry.\n",
      "  exteriors = [int_coords(poly.exterior.coords) for poly in polygons]\n",
      "C:\\Users\\gadli\\Anaconda3\\lib\\site-packages\\nuscenes\\map_expansion\\map_api.py:1824: ShapelyDeprecationWarning: Iteration over multi-part geometries is deprecated and will be removed in Shapely 2.0. Use the `geoms` property to access the constituent parts of a multi-part geometry.\n",
      "  interiors = [int_coords(pi.coords) for poly in polygons for pi in poly.interiors]\n"
     ]
    },
    {
     "name": "stdout",
     "output_type": "stream",
     "text": [
      "{'pf_best_pos': array([ 661.87678885, 1598.41121029]), 'pf_best_theta': -0.6993033979728009, 'pf_mean_pos': array([ 659.74866759, 1600.23842685]), 'pf_mean_theta': -0.6993033553161939}\n",
      "frame 154\n",
      "Number of point tracks before run() 106\n",
      "Number of extended tracks before run() 9\n"
     ]
    },
    {
     "name": "stderr",
     "output_type": "stream",
     "text": [
      "C:\\Users\\gadli\\old_pc\\Tau\\Thesis\\polynoms\\tracker.py:94: VisibleDeprecationWarning: Creating an ndarray from ragged nested sequences (which is a list-or-tuple of lists-or-tuples-or ndarrays with different lengths or shapes) is deprecated. If you meant to do this, you must specify 'dtype=object' when creating the ndarray\n",
      "  Ha = np.array([1, z[0], z[0]**2])\n",
      "C:\\Users\\gadli\\old_pc\\Tau\\Thesis\\polynoms\\tracker.py:117: RuntimeWarning: divide by zero encountered in double_scalars\n",
      "  ratio = np.sqrt(lp)/le\n"
     ]
    },
    {
     "name": "stdout",
     "output_type": "stream",
     "text": [
      "Updating extended object track =  1\n",
      "Updating extended object track =  2\n",
      "Updating extended object track =  0\n",
      "Updating extended object track =  1\n",
      "Updating extended object track =  4\n",
      "Updating extended object track =  4\n"
     ]
    },
    {
     "name": "stderr",
     "output_type": "stream",
     "text": [
      "C:\\Users\\gadli\\Anaconda3\\lib\\site-packages\\nuscenes\\map_expansion\\map_api.py:1823: ShapelyDeprecationWarning: Iteration over multi-part geometries is deprecated and will be removed in Shapely 2.0. Use the `geoms` property to access the constituent parts of a multi-part geometry.\n",
      "  exteriors = [int_coords(poly.exterior.coords) for poly in polygons]\n",
      "C:\\Users\\gadli\\Anaconda3\\lib\\site-packages\\nuscenes\\map_expansion\\map_api.py:1824: ShapelyDeprecationWarning: Iteration over multi-part geometries is deprecated and will be removed in Shapely 2.0. Use the `geoms` property to access the constituent parts of a multi-part geometry.\n",
      "  interiors = [int_coords(pi.coords) for poly in polygons for pi in poly.interiors]\n"
     ]
    },
    {
     "name": "stdout",
     "output_type": "stream",
     "text": [
      "{'pf_best_pos': array([ 658.1191134 , 1601.66872979]), 'pf_best_theta': -0.6999859561238511, 'pf_mean_pos': array([ 660.15143173, 1599.8871035 ]), 'pf_mean_theta': -0.6999860066989289}\n",
      "frame 155\n",
      "Number of point tracks before run() 112\n",
      "Number of extended tracks before run() 9\n",
      "Updating extended object track =  4\n",
      "Updating extended object track =  6\n",
      "Updating extended object track =  6\n",
      "Updating extended object track =  0\n",
      "Updating extended object track =  4\n"
     ]
    },
    {
     "name": "stderr",
     "output_type": "stream",
     "text": [
      "C:\\Users\\gadli\\old_pc\\Tau\\Thesis\\polynoms\\tracker.py:94: VisibleDeprecationWarning: Creating an ndarray from ragged nested sequences (which is a list-or-tuple of lists-or-tuples-or ndarrays with different lengths or shapes) is deprecated. If you meant to do this, you must specify 'dtype=object' when creating the ndarray\n",
      "  Ha = np.array([1, z[0], z[0]**2])\n",
      "C:\\Users\\gadli\\old_pc\\Tau\\Thesis\\polynoms\\tracker.py:117: RuntimeWarning: divide by zero encountered in double_scalars\n",
      "  ratio = np.sqrt(lp)/le\n",
      "C:\\Users\\gadli\\Anaconda3\\lib\\site-packages\\nuscenes\\map_expansion\\map_api.py:1823: ShapelyDeprecationWarning: Iteration over multi-part geometries is deprecated and will be removed in Shapely 2.0. Use the `geoms` property to access the constituent parts of a multi-part geometry.\n",
      "  exteriors = [int_coords(poly.exterior.coords) for poly in polygons]\n",
      "C:\\Users\\gadli\\Anaconda3\\lib\\site-packages\\nuscenes\\map_expansion\\map_api.py:1824: ShapelyDeprecationWarning: Iteration over multi-part geometries is deprecated and will be removed in Shapely 2.0. Use the `geoms` property to access the constituent parts of a multi-part geometry.\n",
      "  interiors = [int_coords(pi.coords) for poly in polygons for pi in poly.interiors]\n"
     ]
    },
    {
     "name": "stdout",
     "output_type": "stream",
     "text": [
      "{'pf_best_pos': array([ 660.49622899, 1599.60313053]), 'pf_best_theta': -0.700938588228297, 'pf_mean_pos': array([ 660.95645763, 1599.19312925]), 'pf_mean_theta': -0.7009385064487679}\n",
      "frame 156\n",
      "Number of point tracks before run() 115\n",
      "Number of extended tracks before run() 8\n"
     ]
    },
    {
     "name": "stderr",
     "output_type": "stream",
     "text": [
      "C:\\Users\\gadli\\old_pc\\Tau\\Thesis\\polynoms\\tracker.py:94: VisibleDeprecationWarning: Creating an ndarray from ragged nested sequences (which is a list-or-tuple of lists-or-tuples-or ndarrays with different lengths or shapes) is deprecated. If you meant to do this, you must specify 'dtype=object' when creating the ndarray\n",
      "  Ha = np.array([1, z[0], z[0]**2])\n",
      "C:\\Users\\gadli\\old_pc\\Tau\\Thesis\\polynoms\\tracker.py:117: RuntimeWarning: divide by zero encountered in double_scalars\n",
      "  ratio = np.sqrt(lp)/le\n"
     ]
    },
    {
     "name": "stdout",
     "output_type": "stream",
     "text": [
      "Updating extended object track =  4\n",
      "Updating extended object track =  0\n",
      "Updating extended object track =  4\n",
      "Updating extended object track =  2\n",
      "Updating extended object track =  4\n"
     ]
    },
    {
     "name": "stderr",
     "output_type": "stream",
     "text": [
      "C:\\Users\\gadli\\Anaconda3\\lib\\site-packages\\nuscenes\\map_expansion\\map_api.py:1823: ShapelyDeprecationWarning: Iteration over multi-part geometries is deprecated and will be removed in Shapely 2.0. Use the `geoms` property to access the constituent parts of a multi-part geometry.\n",
      "  exteriors = [int_coords(poly.exterior.coords) for poly in polygons]\n",
      "C:\\Users\\gadli\\Anaconda3\\lib\\site-packages\\nuscenes\\map_expansion\\map_api.py:1824: ShapelyDeprecationWarning: Iteration over multi-part geometries is deprecated and will be removed in Shapely 2.0. Use the `geoms` property to access the constituent parts of a multi-part geometry.\n",
      "  interiors = [int_coords(pi.coords) for poly in polygons for pi in poly.interiors]\n"
     ]
    },
    {
     "name": "stdout",
     "output_type": "stream",
     "text": [
      "{'pf_best_pos': array([ 660.67856153, 1599.44673394]), 'pf_best_theta': -0.7015377562157328, 'pf_mean_pos': array([ 661.269502  , 1598.92445007]), 'pf_mean_theta': -0.7015377000521685}\n",
      "frame 157\n",
      "Number of point tracks before run() 113\n",
      "Number of extended tracks before run() 8\n"
     ]
    },
    {
     "name": "stderr",
     "output_type": "stream",
     "text": [
      "C:\\Users\\gadli\\old_pc\\Tau\\Thesis\\polynoms\\tracker.py:94: VisibleDeprecationWarning: Creating an ndarray from ragged nested sequences (which is a list-or-tuple of lists-or-tuples-or ndarrays with different lengths or shapes) is deprecated. If you meant to do this, you must specify 'dtype=object' when creating the ndarray\n",
      "  Ha = np.array([1, z[0], z[0]**2])\n",
      "C:\\Users\\gadli\\old_pc\\Tau\\Thesis\\polynoms\\tracker.py:117: RuntimeWarning: divide by zero encountered in double_scalars\n",
      "  ratio = np.sqrt(lp)/le\n"
     ]
    },
    {
     "name": "stdout",
     "output_type": "stream",
     "text": [
      "Updating extended object track =  2\n",
      "Updating extended object track =  3\n"
     ]
    },
    {
     "name": "stderr",
     "output_type": "stream",
     "text": [
      "C:\\Users\\gadli\\Anaconda3\\lib\\site-packages\\nuscenes\\map_expansion\\map_api.py:1823: ShapelyDeprecationWarning: Iteration over multi-part geometries is deprecated and will be removed in Shapely 2.0. Use the `geoms` property to access the constituent parts of a multi-part geometry.\n",
      "  exteriors = [int_coords(poly.exterior.coords) for poly in polygons]\n",
      "C:\\Users\\gadli\\Anaconda3\\lib\\site-packages\\nuscenes\\map_expansion\\map_api.py:1824: ShapelyDeprecationWarning: Iteration over multi-part geometries is deprecated and will be removed in Shapely 2.0. Use the `geoms` property to access the constituent parts of a multi-part geometry.\n",
      "  interiors = [int_coords(pi.coords) for poly in polygons for pi in poly.interiors]\n"
     ]
    },
    {
     "name": "stdout",
     "output_type": "stream",
     "text": [
      "{'pf_best_pos': array([ 660.89062947, 1599.26300319]), 'pf_best_theta': -0.7024348564787863, 'pf_mean_pos': array([ 661.58659278, 1598.64688285]), 'pf_mean_theta': -0.7024347939683155}\n",
      "frame 158\n",
      "Number of point tracks before run() 110\n",
      "Number of extended tracks before run() 7\n"
     ]
    },
    {
     "name": "stderr",
     "output_type": "stream",
     "text": [
      "C:\\Users\\gadli\\old_pc\\Tau\\Thesis\\polynoms\\tracker.py:94: VisibleDeprecationWarning: Creating an ndarray from ragged nested sequences (which is a list-or-tuple of lists-or-tuples-or ndarrays with different lengths or shapes) is deprecated. If you meant to do this, you must specify 'dtype=object' when creating the ndarray\n",
      "  Ha = np.array([1, z[0], z[0]**2])\n",
      "C:\\Users\\gadli\\old_pc\\Tau\\Thesis\\polynoms\\tracker.py:117: RuntimeWarning: divide by zero encountered in double_scalars\n",
      "  ratio = np.sqrt(lp)/le\n"
     ]
    },
    {
     "name": "stdout",
     "output_type": "stream",
     "text": [
      "Updating extended object track =  2\n",
      "Updating extended object track =  1\n"
     ]
    },
    {
     "name": "stderr",
     "output_type": "stream",
     "text": [
      "C:\\Users\\gadli\\Anaconda3\\lib\\site-packages\\nuscenes\\map_expansion\\map_api.py:1823: ShapelyDeprecationWarning: Iteration over multi-part geometries is deprecated and will be removed in Shapely 2.0. Use the `geoms` property to access the constituent parts of a multi-part geometry.\n",
      "  exteriors = [int_coords(poly.exterior.coords) for poly in polygons]\n",
      "C:\\Users\\gadli\\Anaconda3\\lib\\site-packages\\nuscenes\\map_expansion\\map_api.py:1824: ShapelyDeprecationWarning: Iteration over multi-part geometries is deprecated and will be removed in Shapely 2.0. Use the `geoms` property to access the constituent parts of a multi-part geometry.\n",
      "  interiors = [int_coords(pi.coords) for poly in polygons for pi in poly.interiors]\n"
     ]
    },
    {
     "name": "stdout",
     "output_type": "stream",
     "text": [
      "{'pf_best_pos': array([ 661.50268269, 1598.72648452]), 'pf_best_theta': -0.703438339351151, 'pf_mean_pos': array([ 661.96791151, 1598.3131766 ]), 'pf_mean_theta': -0.703438255161056}\n",
      "frame 159\n",
      "Number of point tracks before run() 126\n",
      "Number of extended tracks before run() 7\n"
     ]
    },
    {
     "name": "stderr",
     "output_type": "stream",
     "text": [
      "C:\\Users\\gadli\\old_pc\\Tau\\Thesis\\polynoms\\tracker.py:94: VisibleDeprecationWarning: Creating an ndarray from ragged nested sequences (which is a list-or-tuple of lists-or-tuples-or ndarrays with different lengths or shapes) is deprecated. If you meant to do this, you must specify 'dtype=object' when creating the ndarray\n",
      "  Ha = np.array([1, z[0], z[0]**2])\n",
      "C:\\Users\\gadli\\old_pc\\Tau\\Thesis\\polynoms\\tracker.py:117: RuntimeWarning: divide by zero encountered in double_scalars\n",
      "  ratio = np.sqrt(lp)/le\n"
     ]
    },
    {
     "name": "stdout",
     "output_type": "stream",
     "text": [
      "Updating extended object track =  2\n",
      "Updating extended object track =  5\n",
      "Updating extended object track =  5\n",
      "Updating extended object track =  3\n",
      "Updating extended object track =  3\n",
      "Updating extended object track =  6\n",
      "Updating extended object track =  5\n",
      "Updating extended object track =  6\n"
     ]
    },
    {
     "name": "stderr",
     "output_type": "stream",
     "text": [
      "C:\\Users\\gadli\\Anaconda3\\lib\\site-packages\\nuscenes\\map_expansion\\map_api.py:1823: ShapelyDeprecationWarning: Iteration over multi-part geometries is deprecated and will be removed in Shapely 2.0. Use the `geoms` property to access the constituent parts of a multi-part geometry.\n",
      "  exteriors = [int_coords(poly.exterior.coords) for poly in polygons]\n",
      "C:\\Users\\gadli\\Anaconda3\\lib\\site-packages\\nuscenes\\map_expansion\\map_api.py:1824: ShapelyDeprecationWarning: Iteration over multi-part geometries is deprecated and will be removed in Shapely 2.0. Use the `geoms` property to access the constituent parts of a multi-part geometry.\n",
      "  interiors = [int_coords(pi.coords) for poly in polygons for pi in poly.interiors]\n"
     ]
    },
    {
     "name": "stdout",
     "output_type": "stream",
     "text": [
      "{'pf_best_pos': array([ 660.83138954, 1599.30092456]), 'pf_best_theta': -0.7037753731381233, 'pf_mean_pos': array([ 662.30307541, 1598.02050885]), 'pf_mean_theta': -0.703775396446787}\n",
      "frame 160\n",
      "Number of point tracks before run() 125\n",
      "Number of extended tracks before run() 7\n"
     ]
    },
    {
     "name": "stderr",
     "output_type": "stream",
     "text": [
      "C:\\Users\\gadli\\old_pc\\Tau\\Thesis\\polynoms\\tracker.py:94: VisibleDeprecationWarning: Creating an ndarray from ragged nested sequences (which is a list-or-tuple of lists-or-tuples-or ndarrays with different lengths or shapes) is deprecated. If you meant to do this, you must specify 'dtype=object' when creating the ndarray\n",
      "  Ha = np.array([1, z[0], z[0]**2])\n",
      "C:\\Users\\gadli\\old_pc\\Tau\\Thesis\\polynoms\\tracker.py:117: RuntimeWarning: divide by zero encountered in double_scalars\n",
      "  ratio = np.sqrt(lp)/le\n"
     ]
    },
    {
     "name": "stdout",
     "output_type": "stream",
     "text": [
      "Updating extended object track =  2\n",
      "Updating extended object track =  3\n",
      "Updating extended object track =  2\n",
      "Updating extended object track =  1\n",
      "Updating extended object track =  3\n",
      "Updating extended object track =  6\n",
      "Updating extended object track =  6\n",
      "Updating extended object track =  6\n"
     ]
    },
    {
     "name": "stderr",
     "output_type": "stream",
     "text": [
      "C:\\Users\\gadli\\Anaconda3\\lib\\site-packages\\nuscenes\\map_expansion\\map_api.py:1823: ShapelyDeprecationWarning: Iteration over multi-part geometries is deprecated and will be removed in Shapely 2.0. Use the `geoms` property to access the constituent parts of a multi-part geometry.\n",
      "  exteriors = [int_coords(poly.exterior.coords) for poly in polygons]\n",
      "C:\\Users\\gadli\\Anaconda3\\lib\\site-packages\\nuscenes\\map_expansion\\map_api.py:1824: ShapelyDeprecationWarning: Iteration over multi-part geometries is deprecated and will be removed in Shapely 2.0. Use the `geoms` property to access the constituent parts of a multi-part geometry.\n",
      "  interiors = [int_coords(pi.coords) for poly in polygons for pi in poly.interiors]\n"
     ]
    },
    {
     "name": "stdout",
     "output_type": "stream",
     "text": [
      "{'pf_best_pos': array([ 661.3379251 , 1598.85941944]), 'pf_best_theta': -0.7048648283530472, 'pf_mean_pos': array([ 662.8675751 , 1597.52772305]), 'pf_mean_theta': -0.7048648560956071}\n",
      "frame 161\n",
      "Number of point tracks before run() 110\n",
      "Number of extended tracks before run() 7\n"
     ]
    },
    {
     "name": "stderr",
     "output_type": "stream",
     "text": [
      "C:\\Users\\gadli\\old_pc\\Tau\\Thesis\\polynoms\\tracker.py:94: VisibleDeprecationWarning: Creating an ndarray from ragged nested sequences (which is a list-or-tuple of lists-or-tuples-or ndarrays with different lengths or shapes) is deprecated. If you meant to do this, you must specify 'dtype=object' when creating the ndarray\n",
      "  Ha = np.array([1, z[0], z[0]**2])\n",
      "C:\\Users\\gadli\\old_pc\\Tau\\Thesis\\polynoms\\tracker.py:117: RuntimeWarning: divide by zero encountered in double_scalars\n",
      "  ratio = np.sqrt(lp)/le\n"
     ]
    },
    {
     "name": "stdout",
     "output_type": "stream",
     "text": [
      "Updating extended object track =  1\n"
     ]
    },
    {
     "name": "stderr",
     "output_type": "stream",
     "text": [
      "C:\\Users\\gadli\\Anaconda3\\lib\\site-packages\\nuscenes\\map_expansion\\map_api.py:1823: ShapelyDeprecationWarning: Iteration over multi-part geometries is deprecated and will be removed in Shapely 2.0. Use the `geoms` property to access the constituent parts of a multi-part geometry.\n",
      "  exteriors = [int_coords(poly.exterior.coords) for poly in polygons]\n",
      "C:\\Users\\gadli\\Anaconda3\\lib\\site-packages\\nuscenes\\map_expansion\\map_api.py:1824: ShapelyDeprecationWarning: Iteration over multi-part geometries is deprecated and will be removed in Shapely 2.0. Use the `geoms` property to access the constituent parts of a multi-part geometry.\n",
      "  interiors = [int_coords(pi.coords) for poly in polygons for pi in poly.interiors]\n"
     ]
    },
    {
     "name": "stdout",
     "output_type": "stream",
     "text": [
      "{'pf_best_pos': array([ 662.09248865, 1598.19078749]), 'pf_best_theta': -0.7056910859559276, 'pf_mean_pos': array([ 663.20938958, 1597.22614027]), 'pf_mean_theta': -0.705690978904614}\n",
      "frame 162\n",
      "Number of point tracks before run() 114\n",
      "Number of extended tracks before run() 7\n"
     ]
    },
    {
     "name": "stderr",
     "output_type": "stream",
     "text": [
      "C:\\Users\\gadli\\old_pc\\Tau\\Thesis\\polynoms\\tracker.py:94: VisibleDeprecationWarning: Creating an ndarray from ragged nested sequences (which is a list-or-tuple of lists-or-tuples-or ndarrays with different lengths or shapes) is deprecated. If you meant to do this, you must specify 'dtype=object' when creating the ndarray\n",
      "  Ha = np.array([1, z[0], z[0]**2])\n",
      "C:\\Users\\gadli\\old_pc\\Tau\\Thesis\\polynoms\\tracker.py:117: RuntimeWarning: divide by zero encountered in double_scalars\n",
      "  ratio = np.sqrt(lp)/le\n"
     ]
    },
    {
     "name": "stdout",
     "output_type": "stream",
     "text": [
      "Updating extended object track =  6\n",
      "Updating extended object track =  6\n",
      "Updating extended object track =  3\n",
      "Updating extended object track =  5\n"
     ]
    },
    {
     "name": "stderr",
     "output_type": "stream",
     "text": [
      "C:\\Users\\gadli\\Anaconda3\\lib\\site-packages\\nuscenes\\map_expansion\\map_api.py:1823: ShapelyDeprecationWarning: Iteration over multi-part geometries is deprecated and will be removed in Shapely 2.0. Use the `geoms` property to access the constituent parts of a multi-part geometry.\n",
      "  exteriors = [int_coords(poly.exterior.coords) for poly in polygons]\n",
      "C:\\Users\\gadli\\Anaconda3\\lib\\site-packages\\nuscenes\\map_expansion\\map_api.py:1824: ShapelyDeprecationWarning: Iteration over multi-part geometries is deprecated and will be removed in Shapely 2.0. Use the `geoms` property to access the constituent parts of a multi-part geometry.\n",
      "  interiors = [int_coords(pi.coords) for poly in polygons for pi in poly.interiors]\n"
     ]
    },
    {
     "name": "stdout",
     "output_type": "stream",
     "text": [
      "{'pf_best_pos': array([ 662.41979378, 1597.90378106]), 'pf_best_theta': -0.7061981963092485, 'pf_mean_pos': array([ 663.56300467, 1596.91619229]), 'pf_mean_theta': -0.7061980836687147}\n",
      "frame 163\n",
      "Number of point tracks before run() 113\n",
      "Number of extended tracks before run() 7\n"
     ]
    },
    {
     "name": "stderr",
     "output_type": "stream",
     "text": [
      "C:\\Users\\gadli\\old_pc\\Tau\\Thesis\\polynoms\\tracker.py:94: VisibleDeprecationWarning: Creating an ndarray from ragged nested sequences (which is a list-or-tuple of lists-or-tuples-or ndarrays with different lengths or shapes) is deprecated. If you meant to do this, you must specify 'dtype=object' when creating the ndarray\n",
      "  Ha = np.array([1, z[0], z[0]**2])\n",
      "C:\\Users\\gadli\\old_pc\\Tau\\Thesis\\polynoms\\tracker.py:117: RuntimeWarning: divide by zero encountered in double_scalars\n",
      "  ratio = np.sqrt(lp)/le\n"
     ]
    },
    {
     "name": "stdout",
     "output_type": "stream",
     "text": [
      "Updating extended object track =  6\n",
      "Updating extended object track =  6\n",
      "Updating extended object track =  5\n",
      "Updating extended object track =  6\n"
     ]
    },
    {
     "name": "stderr",
     "output_type": "stream",
     "text": [
      "C:\\Users\\gadli\\Anaconda3\\lib\\site-packages\\nuscenes\\map_expansion\\map_api.py:1823: ShapelyDeprecationWarning: Iteration over multi-part geometries is deprecated and will be removed in Shapely 2.0. Use the `geoms` property to access the constituent parts of a multi-part geometry.\n",
      "  exteriors = [int_coords(poly.exterior.coords) for poly in polygons]\n",
      "C:\\Users\\gadli\\Anaconda3\\lib\\site-packages\\nuscenes\\map_expansion\\map_api.py:1824: ShapelyDeprecationWarning: Iteration over multi-part geometries is deprecated and will be removed in Shapely 2.0. Use the `geoms` property to access the constituent parts of a multi-part geometry.\n",
      "  interiors = [int_coords(pi.coords) for poly in polygons for pi in poly.interiors]\n"
     ]
    },
    {
     "name": "stdout",
     "output_type": "stream",
     "text": [
      "{'pf_best_pos': array([ 662.35386901, 1597.96725256]), 'pf_best_theta': -0.7071156652525081, 'pf_mean_pos': array([ 663.90501255, 1596.60792712]), 'pf_mean_theta': -0.7071156959627004}\n",
      "frame 164\n",
      "Number of point tracks before run() 104\n",
      "Number of extended tracks before run() 5\n"
     ]
    },
    {
     "name": "stderr",
     "output_type": "stream",
     "text": [
      "C:\\Users\\gadli\\old_pc\\Tau\\Thesis\\polynoms\\tracker.py:94: VisibleDeprecationWarning: Creating an ndarray from ragged nested sequences (which is a list-or-tuple of lists-or-tuples-or ndarrays with different lengths or shapes) is deprecated. If you meant to do this, you must specify 'dtype=object' when creating the ndarray\n",
      "  Ha = np.array([1, z[0], z[0]**2])\n",
      "C:\\Users\\gadli\\old_pc\\Tau\\Thesis\\polynoms\\tracker.py:117: RuntimeWarning: divide by zero encountered in double_scalars\n",
      "  ratio = np.sqrt(lp)/le\n",
      "C:\\Users\\gadli\\Anaconda3\\lib\\site-packages\\nuscenes\\map_expansion\\map_api.py:1823: ShapelyDeprecationWarning: Iteration over multi-part geometries is deprecated and will be removed in Shapely 2.0. Use the `geoms` property to access the constituent parts of a multi-part geometry.\n",
      "  exteriors = [int_coords(poly.exterior.coords) for poly in polygons]\n",
      "C:\\Users\\gadli\\Anaconda3\\lib\\site-packages\\nuscenes\\map_expansion\\map_api.py:1824: ShapelyDeprecationWarning: Iteration over multi-part geometries is deprecated and will be removed in Shapely 2.0. Use the `geoms` property to access the constituent parts of a multi-part geometry.\n",
      "  interiors = [int_coords(pi.coords) for poly in polygons for pi in poly.interiors]\n"
     ]
    },
    {
     "name": "stdout",
     "output_type": "stream",
     "text": [
      "{'pf_best_pos': array([ 662.7107743 , 1597.65235391]), 'pf_best_theta': -0.7071290534057, 'pf_mean_pos': array([ 664.25574809, 1596.30341682]), 'pf_mean_theta': -0.7071290861327238}\n",
      "frame 165\n",
      "Number of point tracks before run() 110\n",
      "Number of extended tracks before run() 5\n"
     ]
    },
    {
     "name": "stderr",
     "output_type": "stream",
     "text": [
      "C:\\Users\\gadli\\old_pc\\Tau\\Thesis\\polynoms\\tracker.py:94: VisibleDeprecationWarning: Creating an ndarray from ragged nested sequences (which is a list-or-tuple of lists-or-tuples-or ndarrays with different lengths or shapes) is deprecated. If you meant to do this, you must specify 'dtype=object' when creating the ndarray\n",
      "  Ha = np.array([1, z[0], z[0]**2])\n",
      "C:\\Users\\gadli\\old_pc\\Tau\\Thesis\\polynoms\\tracker.py:117: RuntimeWarning: divide by zero encountered in double_scalars\n",
      "  ratio = np.sqrt(lp)/le\n"
     ]
    },
    {
     "name": "stdout",
     "output_type": "stream",
     "text": [
      "Updating extended object track =  3\n",
      "Updating extended object track =  3\n",
      "Updating extended object track =  4\n",
      "Updating extended object track =  3\n"
     ]
    },
    {
     "name": "stderr",
     "output_type": "stream",
     "text": [
      "C:\\Users\\gadli\\Anaconda3\\lib\\site-packages\\nuscenes\\map_expansion\\map_api.py:1823: ShapelyDeprecationWarning: Iteration over multi-part geometries is deprecated and will be removed in Shapely 2.0. Use the `geoms` property to access the constituent parts of a multi-part geometry.\n",
      "  exteriors = [int_coords(poly.exterior.coords) for poly in polygons]\n",
      "C:\\Users\\gadli\\Anaconda3\\lib\\site-packages\\nuscenes\\map_expansion\\map_api.py:1824: ShapelyDeprecationWarning: Iteration over multi-part geometries is deprecated and will be removed in Shapely 2.0. Use the `geoms` property to access the constituent parts of a multi-part geometry.\n",
      "  interiors = [int_coords(pi.coords) for poly in polygons for pi in poly.interiors]\n"
     ]
    },
    {
     "name": "stdout",
     "output_type": "stream",
     "text": [
      "{'pf_best_pos': array([ 662.72297806, 1597.65311024]), 'pf_best_theta': -0.7077182712688033, 'pf_mean_pos': array([ 664.45238752, 1596.1281712 ]), 'pf_mean_theta': -0.7077184054453262}\n",
      "frame 166\n",
      "Number of point tracks before run() 122\n",
      "Number of extended tracks before run() 5\n"
     ]
    },
    {
     "name": "stderr",
     "output_type": "stream",
     "text": [
      "C:\\Users\\gadli\\old_pc\\Tau\\Thesis\\polynoms\\tracker.py:94: VisibleDeprecationWarning: Creating an ndarray from ragged nested sequences (which is a list-or-tuple of lists-or-tuples-or ndarrays with different lengths or shapes) is deprecated. If you meant to do this, you must specify 'dtype=object' when creating the ndarray\n",
      "  Ha = np.array([1, z[0], z[0]**2])\n",
      "C:\\Users\\gadli\\old_pc\\Tau\\Thesis\\polynoms\\tracker.py:117: RuntimeWarning: divide by zero encountered in double_scalars\n",
      "  ratio = np.sqrt(lp)/le\n"
     ]
    },
    {
     "name": "stdout",
     "output_type": "stream",
     "text": [
      "Updating extended object track =  3\n",
      "Updating extended object track =  3\n",
      "Updating extended object track =  4\n",
      "Updating extended object track =  4\n"
     ]
    },
    {
     "name": "stderr",
     "output_type": "stream",
     "text": [
      "C:\\Users\\gadli\\Anaconda3\\lib\\site-packages\\nuscenes\\map_expansion\\map_api.py:1823: ShapelyDeprecationWarning: Iteration over multi-part geometries is deprecated and will be removed in Shapely 2.0. Use the `geoms` property to access the constituent parts of a multi-part geometry.\n",
      "  exteriors = [int_coords(poly.exterior.coords) for poly in polygons]\n",
      "C:\\Users\\gadli\\Anaconda3\\lib\\site-packages\\nuscenes\\map_expansion\\map_api.py:1824: ShapelyDeprecationWarning: Iteration over multi-part geometries is deprecated and will be removed in Shapely 2.0. Use the `geoms` property to access the constituent parts of a multi-part geometry.\n",
      "  interiors = [int_coords(pi.coords) for poly in polygons for pi in poly.interiors]\n"
     ]
    },
    {
     "name": "stdout",
     "output_type": "stream",
     "text": [
      "{'pf_best_pos': array([ 663.03912775, 1597.38059503]), 'pf_best_theta': -0.7085079828957594, 'pf_mean_pos': array([ 664.67708011, 1595.93544888]), 'pf_mean_theta': -0.7085081207231919}\n",
      "frame 167\n",
      "Number of point tracks before run() 114\n",
      "Number of extended tracks before run() 5\n"
     ]
    },
    {
     "name": "stderr",
     "output_type": "stream",
     "text": [
      "C:\\Users\\gadli\\old_pc\\Tau\\Thesis\\polynoms\\tracker.py:94: VisibleDeprecationWarning: Creating an ndarray from ragged nested sequences (which is a list-or-tuple of lists-or-tuples-or ndarrays with different lengths or shapes) is deprecated. If you meant to do this, you must specify 'dtype=object' when creating the ndarray\n",
      "  Ha = np.array([1, z[0], z[0]**2])\n",
      "C:\\Users\\gadli\\old_pc\\Tau\\Thesis\\polynoms\\tracker.py:117: RuntimeWarning: divide by zero encountered in double_scalars\n",
      "  ratio = np.sqrt(lp)/le\n",
      "C:\\Users\\gadli\\Anaconda3\\lib\\site-packages\\nuscenes\\map_expansion\\map_api.py:1823: ShapelyDeprecationWarning: Iteration over multi-part geometries is deprecated and will be removed in Shapely 2.0. Use the `geoms` property to access the constituent parts of a multi-part geometry.\n",
      "  exteriors = [int_coords(poly.exterior.coords) for poly in polygons]\n",
      "C:\\Users\\gadli\\Anaconda3\\lib\\site-packages\\nuscenes\\map_expansion\\map_api.py:1824: ShapelyDeprecationWarning: Iteration over multi-part geometries is deprecated and will be removed in Shapely 2.0. Use the `geoms` property to access the constituent parts of a multi-part geometry.\n",
      "  interiors = [int_coords(pi.coords) for poly in polygons for pi in poly.interiors]\n"
     ]
    },
    {
     "name": "stdout",
     "output_type": "stream",
     "text": [
      "{'pf_best_pos': array([ 667.4514899 , 1593.52429384]), 'pf_best_theta': -0.7094128813021143, 'pf_mean_pos': array([ 665.52436654, 1595.19092445]), 'pf_mean_theta': -0.7094128044408654}\n",
      "frame 168\n",
      "Number of point tracks before run() 116\n",
      "Number of extended tracks before run() 4\n",
      "Updating extended object track =  3\n",
      "Updating extended object track =  3\n",
      "Updating extended object track =  2\n",
      "Updating extended object track =  1\n"
     ]
    },
    {
     "name": "stderr",
     "output_type": "stream",
     "text": [
      "C:\\Users\\gadli\\old_pc\\Tau\\Thesis\\polynoms\\tracker.py:94: VisibleDeprecationWarning: Creating an ndarray from ragged nested sequences (which is a list-or-tuple of lists-or-tuples-or ndarrays with different lengths or shapes) is deprecated. If you meant to do this, you must specify 'dtype=object' when creating the ndarray\n",
      "  Ha = np.array([1, z[0], z[0]**2])\n",
      "C:\\Users\\gadli\\old_pc\\Tau\\Thesis\\polynoms\\tracker.py:117: RuntimeWarning: divide by zero encountered in double_scalars\n",
      "  ratio = np.sqrt(lp)/le\n",
      "C:\\Users\\gadli\\Anaconda3\\lib\\site-packages\\nuscenes\\map_expansion\\map_api.py:1823: ShapelyDeprecationWarning: Iteration over multi-part geometries is deprecated and will be removed in Shapely 2.0. Use the `geoms` property to access the constituent parts of a multi-part geometry.\n",
      "  exteriors = [int_coords(poly.exterior.coords) for poly in polygons]\n",
      "C:\\Users\\gadli\\Anaconda3\\lib\\site-packages\\nuscenes\\map_expansion\\map_api.py:1824: ShapelyDeprecationWarning: Iteration over multi-part geometries is deprecated and will be removed in Shapely 2.0. Use the `geoms` property to access the constituent parts of a multi-part geometry.\n",
      "  interiors = [int_coords(pi.coords) for poly in polygons for pi in poly.interiors]\n"
     ]
    },
    {
     "name": "stdout",
     "output_type": "stream",
     "text": [
      "{'pf_best_pos': array([ 668.14963117, 1592.90561599]), 'pf_best_theta': -0.7095860522706245, 'pf_mean_pos': array([ 666.04625616, 1594.72967818]), 'pf_mean_theta': -0.7095861263274088}\n",
      "frame 169\n",
      "Number of point tracks before run() 118\n",
      "Number of extended tracks before run() 3\n"
     ]
    },
    {
     "name": "stderr",
     "output_type": "stream",
     "text": [
      "C:\\Users\\gadli\\old_pc\\Tau\\Thesis\\polynoms\\tracker.py:94: VisibleDeprecationWarning: Creating an ndarray from ragged nested sequences (which is a list-or-tuple of lists-or-tuples-or ndarrays with different lengths or shapes) is deprecated. If you meant to do this, you must specify 'dtype=object' when creating the ndarray\n",
      "  Ha = np.array([1, z[0], z[0]**2])\n",
      "C:\\Users\\gadli\\old_pc\\Tau\\Thesis\\polynoms\\tracker.py:117: RuntimeWarning: divide by zero encountered in double_scalars\n",
      "  ratio = np.sqrt(lp)/le\n"
     ]
    },
    {
     "name": "stdout",
     "output_type": "stream",
     "text": [
      "Updating extended object track =  2\n",
      "Updating extended object track =  0\n",
      "Updating extended object track =  1\n"
     ]
    },
    {
     "name": "stderr",
     "output_type": "stream",
     "text": [
      "C:\\Users\\gadli\\Anaconda3\\lib\\site-packages\\nuscenes\\map_expansion\\map_api.py:1823: ShapelyDeprecationWarning: Iteration over multi-part geometries is deprecated and will be removed in Shapely 2.0. Use the `geoms` property to access the constituent parts of a multi-part geometry.\n",
      "  exteriors = [int_coords(poly.exterior.coords) for poly in polygons]\n",
      "C:\\Users\\gadli\\Anaconda3\\lib\\site-packages\\nuscenes\\map_expansion\\map_api.py:1824: ShapelyDeprecationWarning: Iteration over multi-part geometries is deprecated and will be removed in Shapely 2.0. Use the `geoms` property to access the constituent parts of a multi-part geometry.\n",
      "  interiors = [int_coords(pi.coords) for poly in polygons for pi in poly.interiors]\n"
     ]
    },
    {
     "name": "stdout",
     "output_type": "stream",
     "text": [
      "{'pf_best_pos': array([ 666.12806706, 1594.65166594]), 'pf_best_theta': -0.7106659535948054, 'pf_mean_pos': array([ 666.46146428, 1594.35749689]), 'pf_mean_theta': -0.7106657954702494}\n",
      "frame 170\n",
      "Number of point tracks before run() 112\n",
      "Number of extended tracks before run() 4\n"
     ]
    },
    {
     "name": "stderr",
     "output_type": "stream",
     "text": [
      "C:\\Users\\gadli\\old_pc\\Tau\\Thesis\\polynoms\\tracker.py:94: VisibleDeprecationWarning: Creating an ndarray from ragged nested sequences (which is a list-or-tuple of lists-or-tuples-or ndarrays with different lengths or shapes) is deprecated. If you meant to do this, you must specify 'dtype=object' when creating the ndarray\n",
      "  Ha = np.array([1, z[0], z[0]**2])\n",
      "C:\\Users\\gadli\\old_pc\\Tau\\Thesis\\polynoms\\tracker.py:117: RuntimeWarning: divide by zero encountered in double_scalars\n",
      "  ratio = np.sqrt(lp)/le\n"
     ]
    },
    {
     "name": "stdout",
     "output_type": "stream",
     "text": [
      "Updating extended object track =  2\n",
      "Updating extended object track =  1\n",
      "Updating extended object track =  3\n"
     ]
    },
    {
     "name": "stderr",
     "output_type": "stream",
     "text": [
      "C:\\Users\\gadli\\Anaconda3\\lib\\site-packages\\nuscenes\\map_expansion\\map_api.py:1823: ShapelyDeprecationWarning: Iteration over multi-part geometries is deprecated and will be removed in Shapely 2.0. Use the `geoms` property to access the constituent parts of a multi-part geometry.\n",
      "  exteriors = [int_coords(poly.exterior.coords) for poly in polygons]\n",
      "C:\\Users\\gadli\\Anaconda3\\lib\\site-packages\\nuscenes\\map_expansion\\map_api.py:1824: ShapelyDeprecationWarning: Iteration over multi-part geometries is deprecated and will be removed in Shapely 2.0. Use the `geoms` property to access the constituent parts of a multi-part geometry.\n",
      "  interiors = [int_coords(pi.coords) for poly in polygons for pi in poly.interiors]\n"
     ]
    },
    {
     "name": "stdout",
     "output_type": "stream",
     "text": [
      "{'pf_best_pos': array([ 669.31359521, 1591.86696459]), 'pf_best_theta': -0.710702913865032, 'pf_mean_pos': array([ 667.0973353 , 1593.80089162]), 'pf_mean_theta': -0.7107029765390975}\n",
      "frame 171\n",
      "Number of point tracks before run() 98\n",
      "Number of extended tracks before run() 5\n"
     ]
    },
    {
     "name": "stderr",
     "output_type": "stream",
     "text": [
      "C:\\Users\\gadli\\old_pc\\Tau\\Thesis\\polynoms\\tracker.py:94: VisibleDeprecationWarning: Creating an ndarray from ragged nested sequences (which is a list-or-tuple of lists-or-tuples-or ndarrays with different lengths or shapes) is deprecated. If you meant to do this, you must specify 'dtype=object' when creating the ndarray\n",
      "  Ha = np.array([1, z[0], z[0]**2])\n",
      "C:\\Users\\gadli\\old_pc\\Tau\\Thesis\\polynoms\\tracker.py:117: RuntimeWarning: divide by zero encountered in double_scalars\n",
      "  ratio = np.sqrt(lp)/le\n"
     ]
    },
    {
     "name": "stdout",
     "output_type": "stream",
     "text": [
      "Updating extended object track =  3\n",
      "Updating extended object track =  3\n"
     ]
    },
    {
     "name": "stderr",
     "output_type": "stream",
     "text": [
      "C:\\Users\\gadli\\Anaconda3\\lib\\site-packages\\nuscenes\\map_expansion\\map_api.py:1823: ShapelyDeprecationWarning: Iteration over multi-part geometries is deprecated and will be removed in Shapely 2.0. Use the `geoms` property to access the constituent parts of a multi-part geometry.\n",
      "  exteriors = [int_coords(poly.exterior.coords) for poly in polygons]\n",
      "C:\\Users\\gadli\\Anaconda3\\lib\\site-packages\\nuscenes\\map_expansion\\map_api.py:1824: ShapelyDeprecationWarning: Iteration over multi-part geometries is deprecated and will be removed in Shapely 2.0. Use the `geoms` property to access the constituent parts of a multi-part geometry.\n",
      "  interiors = [int_coords(pi.coords) for poly in polygons for pi in poly.interiors]\n"
     ]
    },
    {
     "name": "stdout",
     "output_type": "stream",
     "text": [
      "{'pf_best_pos': array([ 668.8151296 , 1592.30655809]), 'pf_best_theta': -0.7113044597207892, 'pf_mean_pos': array([ 667.64054669, 1593.31997804]), 'pf_mean_theta': -0.7113043938160327}\n",
      "frame 172\n",
      "Number of point tracks before run() 104\n",
      "Number of extended tracks before run() 5\n"
     ]
    },
    {
     "name": "stderr",
     "output_type": "stream",
     "text": [
      "C:\\Users\\gadli\\old_pc\\Tau\\Thesis\\polynoms\\tracker.py:94: VisibleDeprecationWarning: Creating an ndarray from ragged nested sequences (which is a list-or-tuple of lists-or-tuples-or ndarrays with different lengths or shapes) is deprecated. If you meant to do this, you must specify 'dtype=object' when creating the ndarray\n",
      "  Ha = np.array([1, z[0], z[0]**2])\n",
      "C:\\Users\\gadli\\old_pc\\Tau\\Thesis\\polynoms\\tracker.py:117: RuntimeWarning: divide by zero encountered in double_scalars\n",
      "  ratio = np.sqrt(lp)/le\n"
     ]
    },
    {
     "name": "stdout",
     "output_type": "stream",
     "text": [
      "Updating extended object track =  0\n",
      "Updating extended object track =  3\n",
      "Updating extended object track =  2\n",
      "Updating extended object track =  3\n",
      "Updating extended object track =  0\n"
     ]
    },
    {
     "name": "stderr",
     "output_type": "stream",
     "text": [
      "C:\\Users\\gadli\\Anaconda3\\lib\\site-packages\\nuscenes\\map_expansion\\map_api.py:1823: ShapelyDeprecationWarning: Iteration over multi-part geometries is deprecated and will be removed in Shapely 2.0. Use the `geoms` property to access the constituent parts of a multi-part geometry.\n",
      "  exteriors = [int_coords(poly.exterior.coords) for poly in polygons]\n",
      "C:\\Users\\gadli\\Anaconda3\\lib\\site-packages\\nuscenes\\map_expansion\\map_api.py:1824: ShapelyDeprecationWarning: Iteration over multi-part geometries is deprecated and will be removed in Shapely 2.0. Use the `geoms` property to access the constituent parts of a multi-part geometry.\n",
      "  interiors = [int_coords(pi.coords) for poly in polygons for pi in poly.interiors]\n"
     ]
    },
    {
     "name": "stdout",
     "output_type": "stream",
     "text": [
      "{'pf_best_pos': array([ 667.22265646, 1593.68144598]), 'pf_best_theta': -0.7117507502050926, 'pf_mean_pos': array([ 668.11053786, 1592.9008378 ]), 'pf_mean_theta': -0.7117506814540628}\n",
      "frame 173\n",
      "Number of point tracks before run() 100\n",
      "Number of extended tracks before run() 6\n"
     ]
    },
    {
     "name": "stderr",
     "output_type": "stream",
     "text": [
      "C:\\Users\\gadli\\old_pc\\Tau\\Thesis\\polynoms\\tracker.py:94: VisibleDeprecationWarning: Creating an ndarray from ragged nested sequences (which is a list-or-tuple of lists-or-tuples-or ndarrays with different lengths or shapes) is deprecated. If you meant to do this, you must specify 'dtype=object' when creating the ndarray\n",
      "  Ha = np.array([1, z[0], z[0]**2])\n",
      "C:\\Users\\gadli\\old_pc\\Tau\\Thesis\\polynoms\\tracker.py:117: RuntimeWarning: divide by zero encountered in double_scalars\n",
      "  ratio = np.sqrt(lp)/le\n"
     ]
    },
    {
     "name": "stdout",
     "output_type": "stream",
     "text": [
      "Updating extended object track =  0\n",
      "Updating extended object track =  3\n",
      "Updating extended object track =  5\n",
      "Updating extended object track =  3\n"
     ]
    },
    {
     "name": "stderr",
     "output_type": "stream",
     "text": [
      "C:\\Users\\gadli\\Anaconda3\\lib\\site-packages\\nuscenes\\map_expansion\\map_api.py:1823: ShapelyDeprecationWarning: Iteration over multi-part geometries is deprecated and will be removed in Shapely 2.0. Use the `geoms` property to access the constituent parts of a multi-part geometry.\n",
      "  exteriors = [int_coords(poly.exterior.coords) for poly in polygons]\n",
      "C:\\Users\\gadli\\Anaconda3\\lib\\site-packages\\nuscenes\\map_expansion\\map_api.py:1824: ShapelyDeprecationWarning: Iteration over multi-part geometries is deprecated and will be removed in Shapely 2.0. Use the `geoms` property to access the constituent parts of a multi-part geometry.\n",
      "  interiors = [int_coords(pi.coords) for poly in polygons for pi in poly.interiors]\n"
     ]
    },
    {
     "name": "stdout",
     "output_type": "stream",
     "text": [
      "{'pf_best_pos': array([ 669.38138536, 1591.74206376]), 'pf_best_theta': -0.7122457798702322, 'pf_mean_pos': array([ 668.72519429, 1592.3394598 ]), 'pf_mean_theta': -0.7122456817589902}\n",
      "frame 174\n",
      "Number of point tracks before run() 105\n",
      "Number of extended tracks before run() 7\n"
     ]
    },
    {
     "name": "stderr",
     "output_type": "stream",
     "text": [
      "C:\\Users\\gadli\\old_pc\\Tau\\Thesis\\polynoms\\tracker.py:94: VisibleDeprecationWarning: Creating an ndarray from ragged nested sequences (which is a list-or-tuple of lists-or-tuples-or ndarrays with different lengths or shapes) is deprecated. If you meant to do this, you must specify 'dtype=object' when creating the ndarray\n",
      "  Ha = np.array([1, z[0], z[0]**2])\n",
      "C:\\Users\\gadli\\old_pc\\Tau\\Thesis\\polynoms\\tracker.py:117: RuntimeWarning: divide by zero encountered in double_scalars\n",
      "  ratio = np.sqrt(lp)/le\n"
     ]
    },
    {
     "name": "stdout",
     "output_type": "stream",
     "text": [
      "Updating extended object track =  5\n",
      "Updating extended object track =  5\n",
      "Updating extended object track =  3\n",
      "Updating extended object track =  4\n",
      "Updating extended object track =  5\n",
      "Updating extended object track =  3\n",
      "Updating extended object track =  3\n",
      "Updating extended object track =  5\n",
      "Updating extended object track =  3\n",
      "Updating extended object track =  2\n"
     ]
    },
    {
     "name": "stderr",
     "output_type": "stream",
     "text": [
      "C:\\Users\\gadli\\Anaconda3\\lib\\site-packages\\nuscenes\\map_expansion\\map_api.py:1823: ShapelyDeprecationWarning: Iteration over multi-part geometries is deprecated and will be removed in Shapely 2.0. Use the `geoms` property to access the constituent parts of a multi-part geometry.\n",
      "  exteriors = [int_coords(poly.exterior.coords) for poly in polygons]\n",
      "C:\\Users\\gadli\\Anaconda3\\lib\\site-packages\\nuscenes\\map_expansion\\map_api.py:1824: ShapelyDeprecationWarning: Iteration over multi-part geometries is deprecated and will be removed in Shapely 2.0. Use the `geoms` property to access the constituent parts of a multi-part geometry.\n",
      "  interiors = [int_coords(pi.coords) for poly in polygons for pi in poly.interiors]\n"
     ]
    },
    {
     "name": "stdout",
     "output_type": "stream",
     "text": [
      "{'pf_best_pos': array([ 671.28641774, 1590.08128508]), 'pf_best_theta': -0.7121751799496141, 'pf_mean_pos': array([ 669.19035627, 1591.92333836]), 'pf_mean_theta': -0.7121752809294045}\n",
      "frame 175\n",
      "Number of point tracks before run() 103\n",
      "Number of extended tracks before run() 8\n"
     ]
    },
    {
     "name": "stderr",
     "output_type": "stream",
     "text": [
      "C:\\Users\\gadli\\old_pc\\Tau\\Thesis\\polynoms\\tracker.py:94: VisibleDeprecationWarning: Creating an ndarray from ragged nested sequences (which is a list-or-tuple of lists-or-tuples-or ndarrays with different lengths or shapes) is deprecated. If you meant to do this, you must specify 'dtype=object' when creating the ndarray\n",
      "  Ha = np.array([1, z[0], z[0]**2])\n",
      "C:\\Users\\gadli\\old_pc\\Tau\\Thesis\\polynoms\\tracker.py:117: RuntimeWarning: divide by zero encountered in double_scalars\n",
      "  ratio = np.sqrt(lp)/le\n"
     ]
    },
    {
     "name": "stdout",
     "output_type": "stream",
     "text": [
      "Updating extended object track =  6\n",
      "Updating extended object track =  3\n",
      "Updating extended object track =  6\n",
      "Updating extended object track =  3\n",
      "Updating extended object track =  3\n",
      "Updating extended object track =  1\n",
      "Updating extended object track =  6\n"
     ]
    },
    {
     "name": "stderr",
     "output_type": "stream",
     "text": [
      "C:\\Users\\gadli\\Anaconda3\\lib\\site-packages\\nuscenes\\map_expansion\\map_api.py:1823: ShapelyDeprecationWarning: Iteration over multi-part geometries is deprecated and will be removed in Shapely 2.0. Use the `geoms` property to access the constituent parts of a multi-part geometry.\n",
      "  exteriors = [int_coords(poly.exterior.coords) for poly in polygons]\n",
      "C:\\Users\\gadli\\Anaconda3\\lib\\site-packages\\nuscenes\\map_expansion\\map_api.py:1824: ShapelyDeprecationWarning: Iteration over multi-part geometries is deprecated and will be removed in Shapely 2.0. Use the `geoms` property to access the constituent parts of a multi-part geometry.\n",
      "  interiors = [int_coords(pi.coords) for poly in polygons for pi in poly.interiors]\n"
     ]
    },
    {
     "name": "stdout",
     "output_type": "stream",
     "text": [
      "{'pf_best_pos': array([ 670.89440245, 1590.43004152]), 'pf_best_theta': -0.7124245355729824, 'pf_mean_pos': array([ 669.63607097, 1591.52267525]), 'pf_mean_theta': -0.7124246701426838}\n",
      "frame 176\n",
      "Number of point tracks before run() 102\n",
      "Number of extended tracks before run() 9\n"
     ]
    },
    {
     "name": "stderr",
     "output_type": "stream",
     "text": [
      "C:\\Users\\gadli\\old_pc\\Tau\\Thesis\\polynoms\\tracker.py:94: VisibleDeprecationWarning: Creating an ndarray from ragged nested sequences (which is a list-or-tuple of lists-or-tuples-or ndarrays with different lengths or shapes) is deprecated. If you meant to do this, you must specify 'dtype=object' when creating the ndarray\n",
      "  Ha = np.array([1, z[0], z[0]**2])\n",
      "C:\\Users\\gadli\\old_pc\\Tau\\Thesis\\polynoms\\tracker.py:117: RuntimeWarning: divide by zero encountered in double_scalars\n",
      "  ratio = np.sqrt(lp)/le\n"
     ]
    },
    {
     "name": "stdout",
     "output_type": "stream",
     "text": [
      "Updating extended object track =  6\n",
      "Updating extended object track =  6\n",
      "Updating extended object track =  3\n",
      "Updating extended object track =  3\n",
      "Updating extended object track =  6\n",
      "Updating extended object track =  3\n"
     ]
    },
    {
     "name": "stderr",
     "output_type": "stream",
     "text": [
      "C:\\Users\\gadli\\Anaconda3\\lib\\site-packages\\nuscenes\\map_expansion\\map_api.py:1823: ShapelyDeprecationWarning: Iteration over multi-part geometries is deprecated and will be removed in Shapely 2.0. Use the `geoms` property to access the constituent parts of a multi-part geometry.\n",
      "  exteriors = [int_coords(poly.exterior.coords) for poly in polygons]\n",
      "C:\\Users\\gadli\\Anaconda3\\lib\\site-packages\\nuscenes\\map_expansion\\map_api.py:1824: ShapelyDeprecationWarning: Iteration over multi-part geometries is deprecated and will be removed in Shapely 2.0. Use the `geoms` property to access the constituent parts of a multi-part geometry.\n",
      "  interiors = [int_coords(pi.coords) for poly in polygons for pi in poly.interiors]\n"
     ]
    },
    {
     "name": "stdout",
     "output_type": "stream",
     "text": [
      "{'pf_best_pos': array([ 670.85802242, 1590.46604397]), 'pf_best_theta': -0.7127977891405042, 'pf_mean_pos': array([ 670.04565842, 1591.15729268]), 'pf_mean_theta': -0.7127979390084521}\n",
      "frame 177\n",
      "Number of point tracks before run() 101\n",
      "Number of extended tracks before run() 9\n",
      "Updating extended object track =  6\n",
      "Updating extended object track =  6\n",
      "Updating extended object track =  3\n",
      "Updating extended object track =  3\n"
     ]
    },
    {
     "name": "stderr",
     "output_type": "stream",
     "text": [
      "C:\\Users\\gadli\\old_pc\\Tau\\Thesis\\polynoms\\tracker.py:94: VisibleDeprecationWarning: Creating an ndarray from ragged nested sequences (which is a list-or-tuple of lists-or-tuples-or ndarrays with different lengths or shapes) is deprecated. If you meant to do this, you must specify 'dtype=object' when creating the ndarray\n",
      "  Ha = np.array([1, z[0], z[0]**2])\n",
      "C:\\Users\\gadli\\old_pc\\Tau\\Thesis\\polynoms\\tracker.py:117: RuntimeWarning: divide by zero encountered in double_scalars\n",
      "  ratio = np.sqrt(lp)/le\n",
      "C:\\Users\\gadli\\Anaconda3\\lib\\site-packages\\nuscenes\\map_expansion\\map_api.py:1823: ShapelyDeprecationWarning: Iteration over multi-part geometries is deprecated and will be removed in Shapely 2.0. Use the `geoms` property to access the constituent parts of a multi-part geometry.\n",
      "  exteriors = [int_coords(poly.exterior.coords) for poly in polygons]\n",
      "C:\\Users\\gadli\\Anaconda3\\lib\\site-packages\\nuscenes\\map_expansion\\map_api.py:1824: ShapelyDeprecationWarning: Iteration over multi-part geometries is deprecated and will be removed in Shapely 2.0. Use the `geoms` property to access the constituent parts of a multi-part geometry.\n",
      "  interiors = [int_coords(pi.coords) for poly in polygons for pi in poly.interiors]\n"
     ]
    },
    {
     "name": "stdout",
     "output_type": "stream",
     "text": [
      "{'pf_best_pos': array([ 672.26726553, 1589.20905018]), 'pf_best_theta': -0.7129832703850303, 'pf_mean_pos': array([ 670.53383661, 1590.72226347]), 'pf_mean_theta': -0.7129832822390337}\n",
      "frame 178\n",
      "Number of point tracks before run() 101\n",
      "Number of extended tracks before run() 10\n"
     ]
    },
    {
     "name": "stderr",
     "output_type": "stream",
     "text": [
      "C:\\Users\\gadli\\old_pc\\Tau\\Thesis\\polynoms\\tracker.py:94: VisibleDeprecationWarning: Creating an ndarray from ragged nested sequences (which is a list-or-tuple of lists-or-tuples-or ndarrays with different lengths or shapes) is deprecated. If you meant to do this, you must specify 'dtype=object' when creating the ndarray\n",
      "  Ha = np.array([1, z[0], z[0]**2])\n",
      "C:\\Users\\gadli\\old_pc\\Tau\\Thesis\\polynoms\\tracker.py:117: RuntimeWarning: divide by zero encountered in double_scalars\n",
      "  ratio = np.sqrt(lp)/le\n"
     ]
    },
    {
     "name": "stdout",
     "output_type": "stream",
     "text": [
      "Updating extended object track =  6\n",
      "Updating extended object track =  6\n",
      "Updating extended object track =  6\n",
      "Updating extended object track =  3\n"
     ]
    },
    {
     "name": "stderr",
     "output_type": "stream",
     "text": [
      "C:\\Users\\gadli\\Anaconda3\\lib\\site-packages\\nuscenes\\map_expansion\\map_api.py:1823: ShapelyDeprecationWarning: Iteration over multi-part geometries is deprecated and will be removed in Shapely 2.0. Use the `geoms` property to access the constituent parts of a multi-part geometry.\n",
      "  exteriors = [int_coords(poly.exterior.coords) for poly in polygons]\n",
      "C:\\Users\\gadli\\Anaconda3\\lib\\site-packages\\nuscenes\\map_expansion\\map_api.py:1824: ShapelyDeprecationWarning: Iteration over multi-part geometries is deprecated and will be removed in Shapely 2.0. Use the `geoms` property to access the constituent parts of a multi-part geometry.\n",
      "  interiors = [int_coords(pi.coords) for poly in polygons for pi in poly.interiors]\n"
     ]
    },
    {
     "name": "stdout",
     "output_type": "stream",
     "text": [
      "{'pf_best_pos': array([ 672.54749693, 1588.95207756]), 'pf_best_theta': -0.713804911801315, 'pf_mean_pos': array([ 670.99300067, 1590.30496042]), 'pf_mean_theta': -0.7138049310850451}\n",
      "frame 179\n",
      "Number of point tracks before run() 108\n",
      "Number of extended tracks before run() 10\n",
      "Updating extended object track =  6\n",
      "Updating extended object track =  6\n",
      "Updating extended object track =  6\n",
      "Updating extended object track =  3\n",
      "Updating extended object track =  7\n",
      "Updating extended object track =  6\n",
      "Updating extended object track =  3\n"
     ]
    },
    {
     "name": "stderr",
     "output_type": "stream",
     "text": [
      "C:\\Users\\gadli\\old_pc\\Tau\\Thesis\\polynoms\\tracker.py:94: VisibleDeprecationWarning: Creating an ndarray from ragged nested sequences (which is a list-or-tuple of lists-or-tuples-or ndarrays with different lengths or shapes) is deprecated. If you meant to do this, you must specify 'dtype=object' when creating the ndarray\n",
      "  Ha = np.array([1, z[0], z[0]**2])\n",
      "C:\\Users\\gadli\\old_pc\\Tau\\Thesis\\polynoms\\tracker.py:117: RuntimeWarning: divide by zero encountered in double_scalars\n",
      "  ratio = np.sqrt(lp)/le\n",
      "C:\\Users\\gadli\\Anaconda3\\lib\\site-packages\\nuscenes\\map_expansion\\map_api.py:1823: ShapelyDeprecationWarning: Iteration over multi-part geometries is deprecated and will be removed in Shapely 2.0. Use the `geoms` property to access the constituent parts of a multi-part geometry.\n",
      "  exteriors = [int_coords(poly.exterior.coords) for poly in polygons]\n",
      "C:\\Users\\gadli\\Anaconda3\\lib\\site-packages\\nuscenes\\map_expansion\\map_api.py:1824: ShapelyDeprecationWarning: Iteration over multi-part geometries is deprecated and will be removed in Shapely 2.0. Use the `geoms` property to access the constituent parts of a multi-part geometry.\n",
      "  interiors = [int_coords(pi.coords) for poly in polygons for pi in poly.interiors]\n"
     ]
    },
    {
     "name": "stdout",
     "output_type": "stream",
     "text": [
      "{'pf_best_pos': array([ 673.36345656, 1588.21466053]), 'pf_best_theta': -0.7129738941789769, 'pf_mean_pos': array([ 671.73750671, 1589.64476252]), 'pf_mean_theta': -0.7129739777162367}\n",
      "frame 180\n",
      "Number of point tracks before run() 111\n",
      "Number of extended tracks before run() 10\n"
     ]
    },
    {
     "name": "stderr",
     "output_type": "stream",
     "text": [
      "C:\\Users\\gadli\\old_pc\\Tau\\Thesis\\polynoms\\tracker.py:94: VisibleDeprecationWarning: Creating an ndarray from ragged nested sequences (which is a list-or-tuple of lists-or-tuples-or ndarrays with different lengths or shapes) is deprecated. If you meant to do this, you must specify 'dtype=object' when creating the ndarray\n",
      "  Ha = np.array([1, z[0], z[0]**2])\n",
      "C:\\Users\\gadli\\old_pc\\Tau\\Thesis\\polynoms\\tracker.py:117: RuntimeWarning: divide by zero encountered in double_scalars\n",
      "  ratio = np.sqrt(lp)/le\n"
     ]
    },
    {
     "name": "stdout",
     "output_type": "stream",
     "text": [
      "Updating extended object track =  6\n",
      "Updating extended object track =  6\n",
      "Updating extended object track =  6\n",
      "Updating extended object track =  6\n",
      "Updating extended object track =  9\n",
      "Updating extended object track =  9\n",
      "Updating extended object track =  6\n",
      "Updating extended object track =  6\n",
      "Updating extended object track =  7\n",
      "Updating extended object track =  6\n"
     ]
    },
    {
     "name": "stderr",
     "output_type": "stream",
     "text": [
      "C:\\Users\\gadli\\Anaconda3\\lib\\site-packages\\nuscenes\\map_expansion\\map_api.py:1823: ShapelyDeprecationWarning: Iteration over multi-part geometries is deprecated and will be removed in Shapely 2.0. Use the `geoms` property to access the constituent parts of a multi-part geometry.\n",
      "  exteriors = [int_coords(poly.exterior.coords) for poly in polygons]\n",
      "C:\\Users\\gadli\\Anaconda3\\lib\\site-packages\\nuscenes\\map_expansion\\map_api.py:1824: ShapelyDeprecationWarning: Iteration over multi-part geometries is deprecated and will be removed in Shapely 2.0. Use the `geoms` property to access the constituent parts of a multi-part geometry.\n",
      "  interiors = [int_coords(pi.coords) for poly in polygons for pi in poly.interiors]\n"
     ]
    },
    {
     "name": "stdout",
     "output_type": "stream",
     "text": [
      "{'pf_best_pos': array([ 673.81040955, 1587.82213642]), 'pf_best_theta': -0.713729749140481, 'pf_mean_pos': array([ 672.12532017, 1589.29764851]), 'pf_mean_theta': -0.7137297921635676}\n",
      "frame 181\n",
      "Number of point tracks before run() 109\n",
      "Number of extended tracks before run() 9\n"
     ]
    },
    {
     "name": "stderr",
     "output_type": "stream",
     "text": [
      "C:\\Users\\gadli\\old_pc\\Tau\\Thesis\\polynoms\\tracker.py:94: VisibleDeprecationWarning: Creating an ndarray from ragged nested sequences (which is a list-or-tuple of lists-or-tuples-or ndarrays with different lengths or shapes) is deprecated. If you meant to do this, you must specify 'dtype=object' when creating the ndarray\n",
      "  Ha = np.array([1, z[0], z[0]**2])\n",
      "C:\\Users\\gadli\\old_pc\\Tau\\Thesis\\polynoms\\tracker.py:117: RuntimeWarning: divide by zero encountered in double_scalars\n",
      "  ratio = np.sqrt(lp)/le\n"
     ]
    },
    {
     "name": "stdout",
     "output_type": "stream",
     "text": [
      "Updating extended object track =  5\n",
      "Updating extended object track =  5\n",
      "Updating extended object track =  8\n",
      "Updating extended object track =  8\n",
      "Updating extended object track =  2\n",
      "Updating extended object track =  6\n",
      "Updating extended object track =  3\n",
      "Updating extended object track =  5\n"
     ]
    },
    {
     "name": "stderr",
     "output_type": "stream",
     "text": [
      "C:\\Users\\gadli\\Anaconda3\\lib\\site-packages\\nuscenes\\map_expansion\\map_api.py:1823: ShapelyDeprecationWarning: Iteration over multi-part geometries is deprecated and will be removed in Shapely 2.0. Use the `geoms` property to access the constituent parts of a multi-part geometry.\n",
      "  exteriors = [int_coords(poly.exterior.coords) for poly in polygons]\n",
      "C:\\Users\\gadli\\Anaconda3\\lib\\site-packages\\nuscenes\\map_expansion\\map_api.py:1824: ShapelyDeprecationWarning: Iteration over multi-part geometries is deprecated and will be removed in Shapely 2.0. Use the `geoms` property to access the constituent parts of a multi-part geometry.\n",
      "  interiors = [int_coords(pi.coords) for poly in polygons for pi in poly.interiors]\n"
     ]
    },
    {
     "name": "stdout",
     "output_type": "stream",
     "text": [
      "{'pf_best_pos': array([ 674.19924896, 1587.47539256]), 'pf_best_theta': -0.7135451656483776, 'pf_mean_pos': array([ 672.61454828, 1588.87338354]), 'pf_mean_theta': -0.713545262888975}\n",
      "frame 182\n",
      "Number of point tracks before run() 107\n",
      "Number of extended tracks before run() 7\n"
     ]
    },
    {
     "name": "stderr",
     "output_type": "stream",
     "text": [
      "C:\\Users\\gadli\\old_pc\\Tau\\Thesis\\polynoms\\tracker.py:94: VisibleDeprecationWarning: Creating an ndarray from ragged nested sequences (which is a list-or-tuple of lists-or-tuples-or ndarrays with different lengths or shapes) is deprecated. If you meant to do this, you must specify 'dtype=object' when creating the ndarray\n",
      "  Ha = np.array([1, z[0], z[0]**2])\n",
      "C:\\Users\\gadli\\old_pc\\Tau\\Thesis\\polynoms\\tracker.py:117: RuntimeWarning: divide by zero encountered in double_scalars\n",
      "  ratio = np.sqrt(lp)/le\n"
     ]
    },
    {
     "name": "stdout",
     "output_type": "stream",
     "text": [
      "Updating extended object track =  6\n",
      "Updating extended object track =  3\n",
      "Updating extended object track =  4\n",
      "Updating extended object track =  6\n",
      "Updating extended object track =  4\n",
      "Updating extended object track =  3\n",
      "Updating extended object track =  4\n",
      "Updating extended object track =  3\n",
      "Updating extended object track =  4\n",
      "Updating extended object track =  3\n",
      "Updating extended object track =  5\n",
      "Updating extended object track =  3\n"
     ]
    },
    {
     "name": "stderr",
     "output_type": "stream",
     "text": [
      "C:\\Users\\gadli\\Anaconda3\\lib\\site-packages\\nuscenes\\map_expansion\\map_api.py:1823: ShapelyDeprecationWarning: Iteration over multi-part geometries is deprecated and will be removed in Shapely 2.0. Use the `geoms` property to access the constituent parts of a multi-part geometry.\n",
      "  exteriors = [int_coords(poly.exterior.coords) for poly in polygons]\n",
      "C:\\Users\\gadli\\Anaconda3\\lib\\site-packages\\nuscenes\\map_expansion\\map_api.py:1824: ShapelyDeprecationWarning: Iteration over multi-part geometries is deprecated and will be removed in Shapely 2.0. Use the `geoms` property to access the constituent parts of a multi-part geometry.\n",
      "  interiors = [int_coords(pi.coords) for poly in polygons for pi in poly.interiors]\n"
     ]
    },
    {
     "name": "stdout",
     "output_type": "stream",
     "text": [
      "{'pf_best_pos': array([ 674.64314074, 1587.08841775]), 'pf_best_theta': -0.7139097115770698, 'pf_mean_pos': array([ 673.09818993, 1588.44769514]), 'pf_mean_theta': -0.7139098414199184}\n",
      "frame 183\n",
      "Number of point tracks before run() 107\n",
      "Number of extended tracks before run() 6\n"
     ]
    },
    {
     "name": "stderr",
     "output_type": "stream",
     "text": [
      "C:\\Users\\gadli\\old_pc\\Tau\\Thesis\\polynoms\\tracker.py:94: VisibleDeprecationWarning: Creating an ndarray from ragged nested sequences (which is a list-or-tuple of lists-or-tuples-or ndarrays with different lengths or shapes) is deprecated. If you meant to do this, you must specify 'dtype=object' when creating the ndarray\n",
      "  Ha = np.array([1, z[0], z[0]**2])\n",
      "C:\\Users\\gadli\\old_pc\\Tau\\Thesis\\polynoms\\tracker.py:117: RuntimeWarning: divide by zero encountered in double_scalars\n",
      "  ratio = np.sqrt(lp)/le\n"
     ]
    },
    {
     "name": "stdout",
     "output_type": "stream",
     "text": [
      "Updating extended object track =  5\n",
      "Updating extended object track =  4\n",
      "Updating extended object track =  4\n",
      "Updating extended object track =  5\n",
      "Updating extended object track =  3\n",
      "Updating extended object track =  3\n",
      "Updating extended object track =  2\n"
     ]
    },
    {
     "name": "stderr",
     "output_type": "stream",
     "text": [
      "C:\\Users\\gadli\\Anaconda3\\lib\\site-packages\\nuscenes\\map_expansion\\map_api.py:1823: ShapelyDeprecationWarning: Iteration over multi-part geometries is deprecated and will be removed in Shapely 2.0. Use the `geoms` property to access the constituent parts of a multi-part geometry.\n",
      "  exteriors = [int_coords(poly.exterior.coords) for poly in polygons]\n",
      "C:\\Users\\gadli\\Anaconda3\\lib\\site-packages\\nuscenes\\map_expansion\\map_api.py:1824: ShapelyDeprecationWarning: Iteration over multi-part geometries is deprecated and will be removed in Shapely 2.0. Use the `geoms` property to access the constituent parts of a multi-part geometry.\n",
      "  interiors = [int_coords(pi.coords) for poly in polygons for pi in poly.interiors]\n"
     ]
    },
    {
     "name": "stdout",
     "output_type": "stream",
     "text": [
      "{'pf_best_pos': array([ 674.85823835, 1586.90741091]), 'pf_best_theta': -0.7143299689981326, 'pf_mean_pos': array([ 674.189426  , 1587.49648768]), 'pf_mean_theta': -0.7143299814788681}\n",
      "frame 184\n",
      "Number of point tracks before run() 97\n",
      "Number of extended tracks before run() 7\n"
     ]
    },
    {
     "name": "stderr",
     "output_type": "stream",
     "text": [
      "C:\\Users\\gadli\\old_pc\\Tau\\Thesis\\polynoms\\tracker.py:94: VisibleDeprecationWarning: Creating an ndarray from ragged nested sequences (which is a list-or-tuple of lists-or-tuples-or ndarrays with different lengths or shapes) is deprecated. If you meant to do this, you must specify 'dtype=object' when creating the ndarray\n",
      "  Ha = np.array([1, z[0], z[0]**2])\n",
      "C:\\Users\\gadli\\old_pc\\Tau\\Thesis\\polynoms\\tracker.py:117: RuntimeWarning: divide by zero encountered in double_scalars\n",
      "  ratio = np.sqrt(lp)/le\n"
     ]
    },
    {
     "name": "stdout",
     "output_type": "stream",
     "text": [
      "Updating extended object track =  5\n",
      "Updating extended object track =  6\n",
      "Updating extended object track =  4\n",
      "Updating extended object track =  4\n",
      "Updating extended object track =  6\n",
      "Updating extended object track =  3\n",
      "Updating extended object track =  0\n",
      "Updating extended object track =  6\n",
      "Updating extended object track =  2\n"
     ]
    },
    {
     "name": "stderr",
     "output_type": "stream",
     "text": [
      "C:\\Users\\gadli\\Anaconda3\\lib\\site-packages\\nuscenes\\map_expansion\\map_api.py:1823: ShapelyDeprecationWarning: Iteration over multi-part geometries is deprecated and will be removed in Shapely 2.0. Use the `geoms` property to access the constituent parts of a multi-part geometry.\n",
      "  exteriors = [int_coords(poly.exterior.coords) for poly in polygons]\n",
      "C:\\Users\\gadli\\Anaconda3\\lib\\site-packages\\nuscenes\\map_expansion\\map_api.py:1824: ShapelyDeprecationWarning: Iteration over multi-part geometries is deprecated and will be removed in Shapely 2.0. Use the `geoms` property to access the constituent parts of a multi-part geometry.\n",
      "  interiors = [int_coords(pi.coords) for poly in polygons for pi in poly.interiors]\n"
     ]
    },
    {
     "name": "stdout",
     "output_type": "stream",
     "text": [
      "{'pf_best_pos': array([ 675.29573469, 1586.52394383]), 'pf_best_theta': -0.7147893699269225, 'pf_mean_pos': array([ 674.61069425, 1587.12141492]), 'pf_mean_theta': -0.7147895048849381}\n",
      "frame 185\n",
      "Number of point tracks before run() 88\n",
      "Number of extended tracks before run() 8\n"
     ]
    },
    {
     "name": "stderr",
     "output_type": "stream",
     "text": [
      "C:\\Users\\gadli\\old_pc\\Tau\\Thesis\\polynoms\\tracker.py:94: VisibleDeprecationWarning: Creating an ndarray from ragged nested sequences (which is a list-or-tuple of lists-or-tuples-or ndarrays with different lengths or shapes) is deprecated. If you meant to do this, you must specify 'dtype=object' when creating the ndarray\n",
      "  Ha = np.array([1, z[0], z[0]**2])\n",
      "C:\\Users\\gadli\\old_pc\\Tau\\Thesis\\polynoms\\tracker.py:117: RuntimeWarning: divide by zero encountered in double_scalars\n",
      "  ratio = np.sqrt(lp)/le\n"
     ]
    },
    {
     "name": "stdout",
     "output_type": "stream",
     "text": [
      "Updating extended object track =  2\n",
      "Updating extended object track =  6\n",
      "Updating extended object track =  2\n",
      "Updating extended object track =  6\n",
      "Updating extended object track =  6\n",
      "Updating extended object track =  6\n"
     ]
    },
    {
     "name": "stderr",
     "output_type": "stream",
     "text": [
      "C:\\Users\\gadli\\Anaconda3\\lib\\site-packages\\nuscenes\\map_expansion\\map_api.py:1823: ShapelyDeprecationWarning: Iteration over multi-part geometries is deprecated and will be removed in Shapely 2.0. Use the `geoms` property to access the constituent parts of a multi-part geometry.\n",
      "  exteriors = [int_coords(poly.exterior.coords) for poly in polygons]\n",
      "C:\\Users\\gadli\\Anaconda3\\lib\\site-packages\\nuscenes\\map_expansion\\map_api.py:1824: ShapelyDeprecationWarning: Iteration over multi-part geometries is deprecated and will be removed in Shapely 2.0. Use the `geoms` property to access the constituent parts of a multi-part geometry.\n",
      "  interiors = [int_coords(pi.coords) for poly in polygons for pi in poly.interiors]\n"
     ]
    },
    {
     "name": "stdout",
     "output_type": "stream",
     "text": [
      "{'pf_best_pos': array([ 675.89078793, 1585.94439679]), 'pf_best_theta': -0.715129470849158, 'pf_mean_pos': array([ 675.46004508, 1586.35718093]), 'pf_mean_theta': -0.715129357859446}\n",
      "frame 186\n",
      "Number of point tracks before run() 90\n",
      "Number of extended tracks before run() 9\n"
     ]
    },
    {
     "name": "stderr",
     "output_type": "stream",
     "text": [
      "C:\\Users\\gadli\\old_pc\\Tau\\Thesis\\polynoms\\tracker.py:94: VisibleDeprecationWarning: Creating an ndarray from ragged nested sequences (which is a list-or-tuple of lists-or-tuples-or ndarrays with different lengths or shapes) is deprecated. If you meant to do this, you must specify 'dtype=object' when creating the ndarray\n",
      "  Ha = np.array([1, z[0], z[0]**2])\n",
      "C:\\Users\\gadli\\old_pc\\Tau\\Thesis\\polynoms\\tracker.py:117: RuntimeWarning: divide by zero encountered in double_scalars\n",
      "  ratio = np.sqrt(lp)/le\n"
     ]
    },
    {
     "name": "stdout",
     "output_type": "stream",
     "text": [
      "Updating extended object track =  5\n",
      "Updating extended object track =  6\n",
      "Updating extended object track =  6\n",
      "Updating extended object track =  7\n",
      "Updating extended object track =  6\n",
      "Updating extended object track =  6\n",
      "Updating extended object track =  6\n",
      "Updating extended object track =  4\n",
      "Updating extended object track =  6\n"
     ]
    },
    {
     "name": "stderr",
     "output_type": "stream",
     "text": [
      "C:\\Users\\gadli\\Anaconda3\\lib\\site-packages\\nuscenes\\map_expansion\\map_api.py:1823: ShapelyDeprecationWarning: Iteration over multi-part geometries is deprecated and will be removed in Shapely 2.0. Use the `geoms` property to access the constituent parts of a multi-part geometry.\n",
      "  exteriors = [int_coords(poly.exterior.coords) for poly in polygons]\n",
      "C:\\Users\\gadli\\Anaconda3\\lib\\site-packages\\nuscenes\\map_expansion\\map_api.py:1824: ShapelyDeprecationWarning: Iteration over multi-part geometries is deprecated and will be removed in Shapely 2.0. Use the `geoms` property to access the constituent parts of a multi-part geometry.\n",
      "  interiors = [int_coords(pi.coords) for poly in polygons for pi in poly.interiors]\n"
     ]
    },
    {
     "name": "stdout",
     "output_type": "stream",
     "text": [
      "{'pf_best_pos': array([ 675.19435036, 1586.57356557]), 'pf_best_theta': -0.7158499590048932, 'pf_mean_pos': array([ 675.8035269 , 1586.04405422]), 'pf_mean_theta': -0.7158497976203549}\n",
      "frame 187\n",
      "Number of point tracks before run() 94\n",
      "Number of extended tracks before run() 9\n"
     ]
    },
    {
     "name": "stderr",
     "output_type": "stream",
     "text": [
      "C:\\Users\\gadli\\old_pc\\Tau\\Thesis\\polynoms\\tracker.py:94: VisibleDeprecationWarning: Creating an ndarray from ragged nested sequences (which is a list-or-tuple of lists-or-tuples-or ndarrays with different lengths or shapes) is deprecated. If you meant to do this, you must specify 'dtype=object' when creating the ndarray\n",
      "  Ha = np.array([1, z[0], z[0]**2])\n",
      "C:\\Users\\gadli\\old_pc\\Tau\\Thesis\\polynoms\\tracker.py:117: RuntimeWarning: divide by zero encountered in double_scalars\n",
      "  ratio = np.sqrt(lp)/le\n"
     ]
    },
    {
     "name": "stdout",
     "output_type": "stream",
     "text": [
      "Updating extended object track =  4\n",
      "Updating extended object track =  5\n",
      "Updating extended object track =  7\n",
      "Updating extended object track =  3\n",
      "Updating extended object track =  5\n",
      "Updating extended object track =  8\n",
      "Updating extended object track =  2\n"
     ]
    },
    {
     "name": "stderr",
     "output_type": "stream",
     "text": [
      "C:\\Users\\gadli\\Anaconda3\\lib\\site-packages\\nuscenes\\map_expansion\\map_api.py:1823: ShapelyDeprecationWarning: Iteration over multi-part geometries is deprecated and will be removed in Shapely 2.0. Use the `geoms` property to access the constituent parts of a multi-part geometry.\n",
      "  exteriors = [int_coords(poly.exterior.coords) for poly in polygons]\n",
      "C:\\Users\\gadli\\Anaconda3\\lib\\site-packages\\nuscenes\\map_expansion\\map_api.py:1824: ShapelyDeprecationWarning: Iteration over multi-part geometries is deprecated and will be removed in Shapely 2.0. Use the `geoms` property to access the constituent parts of a multi-part geometry.\n",
      "  interiors = [int_coords(pi.coords) for poly in polygons for pi in poly.interiors]\n"
     ]
    },
    {
     "name": "stdout",
     "output_type": "stream",
     "text": [
      "{'pf_best_pos': array([ 675.8125495 , 1586.02363633]), 'pf_best_theta': -0.715758047001068, 'pf_mean_pos': array([ 676.17822572, 1585.70950009]), 'pf_mean_theta': -0.7157578770249684}\n",
      "frame 188\n",
      "Number of point tracks before run() 96\n",
      "Number of extended tracks before run() 9\n"
     ]
    },
    {
     "name": "stderr",
     "output_type": "stream",
     "text": [
      "C:\\Users\\gadli\\old_pc\\Tau\\Thesis\\polynoms\\tracker.py:94: VisibleDeprecationWarning: Creating an ndarray from ragged nested sequences (which is a list-or-tuple of lists-or-tuples-or ndarrays with different lengths or shapes) is deprecated. If you meant to do this, you must specify 'dtype=object' when creating the ndarray\n",
      "  Ha = np.array([1, z[0], z[0]**2])\n",
      "C:\\Users\\gadli\\old_pc\\Tau\\Thesis\\polynoms\\tracker.py:117: RuntimeWarning: divide by zero encountered in double_scalars\n",
      "  ratio = np.sqrt(lp)/le\n"
     ]
    },
    {
     "name": "stdout",
     "output_type": "stream",
     "text": [
      "Updating extended object track =  5\n",
      "Updating extended object track =  2\n",
      "Updating extended object track =  2\n",
      "Updating extended object track =  8\n",
      "Updating extended object track =  6\n",
      "Updating extended object track =  5\n",
      "Updating extended object track =  5\n",
      "Updating extended object track =  2\n",
      "Updating extended object track =  6\n",
      "Updating extended object track =  6\n",
      "Updating extended object track =  6\n",
      "Updating extended object track =  2\n"
     ]
    },
    {
     "name": "stderr",
     "output_type": "stream",
     "text": [
      "C:\\Users\\gadli\\Anaconda3\\lib\\site-packages\\nuscenes\\map_expansion\\map_api.py:1823: ShapelyDeprecationWarning: Iteration over multi-part geometries is deprecated and will be removed in Shapely 2.0. Use the `geoms` property to access the constituent parts of a multi-part geometry.\n",
      "  exteriors = [int_coords(poly.exterior.coords) for poly in polygons]\n",
      "C:\\Users\\gadli\\Anaconda3\\lib\\site-packages\\nuscenes\\map_expansion\\map_api.py:1824: ShapelyDeprecationWarning: Iteration over multi-part geometries is deprecated and will be removed in Shapely 2.0. Use the `geoms` property to access the constituent parts of a multi-part geometry.\n",
      "  interiors = [int_coords(pi.coords) for poly in polygons for pi in poly.interiors]\n"
     ]
    },
    {
     "name": "stdout",
     "output_type": "stream",
     "text": [
      "{'pf_best_pos': array([ 676.23773195, 1585.64114947]), 'pf_best_theta': -0.7158204802850885, 'pf_mean_pos': array([ 676.34469183, 1585.55696957]), 'pf_mean_theta': -0.7158202982054573}\n",
      "frame 189\n",
      "Number of point tracks before run() 104\n",
      "Number of extended tracks before run() 8\n"
     ]
    },
    {
     "name": "stderr",
     "output_type": "stream",
     "text": [
      "C:\\Users\\gadli\\old_pc\\Tau\\Thesis\\polynoms\\tracker.py:94: VisibleDeprecationWarning: Creating an ndarray from ragged nested sequences (which is a list-or-tuple of lists-or-tuples-or ndarrays with different lengths or shapes) is deprecated. If you meant to do this, you must specify 'dtype=object' when creating the ndarray\n",
      "  Ha = np.array([1, z[0], z[0]**2])\n",
      "C:\\Users\\gadli\\old_pc\\Tau\\Thesis\\polynoms\\tracker.py:117: RuntimeWarning: divide by zero encountered in double_scalars\n",
      "  ratio = np.sqrt(lp)/le\n"
     ]
    },
    {
     "name": "stdout",
     "output_type": "stream",
     "text": [
      "Updating extended object track =  7\n",
      "Updating extended object track =  1\n",
      "Updating extended object track =  5\n",
      "Updating extended object track =  4\n",
      "Updating extended object track =  3\n",
      "Updating extended object track =  7\n",
      "Updating extended object track =  5\n",
      "Updating extended object track =  4\n",
      "Updating extended object track =  5\n"
     ]
    },
    {
     "name": "stderr",
     "output_type": "stream",
     "text": [
      "C:\\Users\\gadli\\Anaconda3\\lib\\site-packages\\nuscenes\\map_expansion\\map_api.py:1823: ShapelyDeprecationWarning: Iteration over multi-part geometries is deprecated and will be removed in Shapely 2.0. Use the `geoms` property to access the constituent parts of a multi-part geometry.\n",
      "  exteriors = [int_coords(poly.exterior.coords) for poly in polygons]\n",
      "C:\\Users\\gadli\\Anaconda3\\lib\\site-packages\\nuscenes\\map_expansion\\map_api.py:1824: ShapelyDeprecationWarning: Iteration over multi-part geometries is deprecated and will be removed in Shapely 2.0. Use the `geoms` property to access the constituent parts of a multi-part geometry.\n",
      "  interiors = [int_coords(pi.coords) for poly in polygons for pi in poly.interiors]\n"
     ]
    },
    {
     "name": "stdout",
     "output_type": "stream",
     "text": [
      "{'pf_best_pos': array([ 676.04629577, 1585.80325216]), 'pf_best_theta': -0.7163704807950197, 'pf_mean_pos': array([ 676.52848765, 1585.38702802]), 'pf_mean_theta': -0.7163702717773476}\n",
      "frame 190\n",
      "Number of point tracks before run() 101\n",
      "Number of extended tracks before run() 8\n",
      "Updating extended object track =  4\n",
      "Updating extended object track =  5\n",
      "Updating extended object track =  7\n",
      "Updating extended object track =  1\n",
      "Updating extended object track =  5\n",
      "Updating extended object track =  1\n",
      "Updating extended object track =  1\n",
      "Updating extended object track =  5\n",
      "Updating extended object track =  4\n",
      "Updating extended object track =  7\n",
      "Updating extended object track =  5\n",
      "Updating extended object track =  2\n"
     ]
    },
    {
     "name": "stderr",
     "output_type": "stream",
     "text": [
      "C:\\Users\\gadli\\old_pc\\Tau\\Thesis\\polynoms\\tracker.py:94: VisibleDeprecationWarning: Creating an ndarray from ragged nested sequences (which is a list-or-tuple of lists-or-tuples-or ndarrays with different lengths or shapes) is deprecated. If you meant to do this, you must specify 'dtype=object' when creating the ndarray\n",
      "  Ha = np.array([1, z[0], z[0]**2])\n",
      "C:\\Users\\gadli\\old_pc\\Tau\\Thesis\\polynoms\\tracker.py:117: RuntimeWarning: divide by zero encountered in double_scalars\n",
      "  ratio = np.sqrt(lp)/le\n",
      "C:\\Users\\gadli\\Anaconda3\\lib\\site-packages\\nuscenes\\map_expansion\\map_api.py:1823: ShapelyDeprecationWarning: Iteration over multi-part geometries is deprecated and will be removed in Shapely 2.0. Use the `geoms` property to access the constituent parts of a multi-part geometry.\n",
      "  exteriors = [int_coords(poly.exterior.coords) for poly in polygons]\n",
      "C:\\Users\\gadli\\Anaconda3\\lib\\site-packages\\nuscenes\\map_expansion\\map_api.py:1824: ShapelyDeprecationWarning: Iteration over multi-part geometries is deprecated and will be removed in Shapely 2.0. Use the `geoms` property to access the constituent parts of a multi-part geometry.\n",
      "  interiors = [int_coords(pi.coords) for poly in polygons for pi in poly.interiors]\n"
     ]
    },
    {
     "name": "stdout",
     "output_type": "stream",
     "text": [
      "{'pf_best_pos': array([ 678.24715919, 1583.82349068]), 'pf_best_theta': -0.7169110422591634, 'pf_mean_pos': array([ 677.3327694 , 1584.65572425]), 'pf_mean_theta': -0.7169108396008902}\n",
      "frame 191\n",
      "Number of point tracks before run() 107\n",
      "Number of extended tracks before run() 8\n"
     ]
    },
    {
     "name": "stderr",
     "output_type": "stream",
     "text": [
      "C:\\Users\\gadli\\old_pc\\Tau\\Thesis\\polynoms\\tracker.py:94: VisibleDeprecationWarning: Creating an ndarray from ragged nested sequences (which is a list-or-tuple of lists-or-tuples-or ndarrays with different lengths or shapes) is deprecated. If you meant to do this, you must specify 'dtype=object' when creating the ndarray\n",
      "  Ha = np.array([1, z[0], z[0]**2])\n",
      "C:\\Users\\gadli\\old_pc\\Tau\\Thesis\\polynoms\\tracker.py:117: RuntimeWarning: divide by zero encountered in double_scalars\n",
      "  ratio = np.sqrt(lp)/le\n"
     ]
    },
    {
     "name": "stdout",
     "output_type": "stream",
     "text": [
      "Updating extended object track =  7\n",
      "Updating extended object track =  5\n",
      "Updating extended object track =  4\n",
      "Updating extended object track =  6\n",
      "Updating extended object track =  1\n",
      "Updating extended object track =  5\n",
      "Updating extended object track =  5\n",
      "Updating extended object track =  5\n",
      "Updating extended object track =  7\n"
     ]
    },
    {
     "name": "stderr",
     "output_type": "stream",
     "text": [
      "C:\\Users\\gadli\\Anaconda3\\lib\\site-packages\\nuscenes\\map_expansion\\map_api.py:1823: ShapelyDeprecationWarning: Iteration over multi-part geometries is deprecated and will be removed in Shapely 2.0. Use the `geoms` property to access the constituent parts of a multi-part geometry.\n",
      "  exteriors = [int_coords(poly.exterior.coords) for poly in polygons]\n",
      "C:\\Users\\gadli\\Anaconda3\\lib\\site-packages\\nuscenes\\map_expansion\\map_api.py:1824: ShapelyDeprecationWarning: Iteration over multi-part geometries is deprecated and will be removed in Shapely 2.0. Use the `geoms` property to access the constituent parts of a multi-part geometry.\n",
      "  interiors = [int_coords(pi.coords) for poly in polygons for pi in poly.interiors]\n"
     ]
    },
    {
     "name": "stdout",
     "output_type": "stream",
     "text": [
      "{'pf_best_pos': array([ 678.74936315, 1583.3689445 ]), 'pf_best_theta': -0.7172780345166787, 'pf_mean_pos': array([ 677.75951317, 1584.26947746]), 'pf_mean_theta': -0.7172778345925059}\n",
      "frame 192\n",
      "Number of point tracks before run() 101\n",
      "Number of extended tracks before run() 7\n",
      "Updating extended object track =  4\n",
      "Updating extended object track =  4\n",
      "Updating extended object track =  0\n",
      "Updating extended object track =  6\n",
      "Updating extended object track =  6\n"
     ]
    },
    {
     "name": "stderr",
     "output_type": "stream",
     "text": [
      "C:\\Users\\gadli\\old_pc\\Tau\\Thesis\\polynoms\\tracker.py:94: VisibleDeprecationWarning: Creating an ndarray from ragged nested sequences (which is a list-or-tuple of lists-or-tuples-or ndarrays with different lengths or shapes) is deprecated. If you meant to do this, you must specify 'dtype=object' when creating the ndarray\n",
      "  Ha = np.array([1, z[0], z[0]**2])\n",
      "C:\\Users\\gadli\\old_pc\\Tau\\Thesis\\polynoms\\tracker.py:117: RuntimeWarning: divide by zero encountered in double_scalars\n",
      "  ratio = np.sqrt(lp)/le\n",
      "C:\\Users\\gadli\\Anaconda3\\lib\\site-packages\\nuscenes\\map_expansion\\map_api.py:1823: ShapelyDeprecationWarning: Iteration over multi-part geometries is deprecated and will be removed in Shapely 2.0. Use the `geoms` property to access the constituent parts of a multi-part geometry.\n",
      "  exteriors = [int_coords(poly.exterior.coords) for poly in polygons]\n",
      "C:\\Users\\gadli\\Anaconda3\\lib\\site-packages\\nuscenes\\map_expansion\\map_api.py:1824: ShapelyDeprecationWarning: Iteration over multi-part geometries is deprecated and will be removed in Shapely 2.0. Use the `geoms` property to access the constituent parts of a multi-part geometry.\n",
      "  interiors = [int_coords(pi.coords) for poly in polygons for pi in poly.interiors]\n"
     ]
    },
    {
     "name": "stdout",
     "output_type": "stream",
     "text": [
      "{'pf_best_pos': array([ 679.05812927, 1583.08176855]), 'pf_best_theta': -0.7176711299937573, 'pf_mean_pos': array([ 678.16537336, 1583.8919968 ]), 'pf_mean_theta': -0.7176709390877404}\n",
      "frame 193\n",
      "Number of point tracks before run() 106\n",
      "Number of extended tracks before run() 7\n"
     ]
    },
    {
     "name": "stderr",
     "output_type": "stream",
     "text": [
      "C:\\Users\\gadli\\old_pc\\Tau\\Thesis\\polynoms\\tracker.py:94: VisibleDeprecationWarning: Creating an ndarray from ragged nested sequences (which is a list-or-tuple of lists-or-tuples-or ndarrays with different lengths or shapes) is deprecated. If you meant to do this, you must specify 'dtype=object' when creating the ndarray\n",
      "  Ha = np.array([1, z[0], z[0]**2])\n",
      "C:\\Users\\gadli\\old_pc\\Tau\\Thesis\\polynoms\\tracker.py:117: RuntimeWarning: divide by zero encountered in double_scalars\n",
      "  ratio = np.sqrt(lp)/le\n"
     ]
    },
    {
     "name": "stdout",
     "output_type": "stream",
     "text": [
      "Updating extended object track =  3\n",
      "Updating extended object track =  3\n"
     ]
    },
    {
     "name": "stderr",
     "output_type": "stream",
     "text": [
      "C:\\Users\\gadli\\Anaconda3\\lib\\site-packages\\nuscenes\\map_expansion\\map_api.py:1823: ShapelyDeprecationWarning: Iteration over multi-part geometries is deprecated and will be removed in Shapely 2.0. Use the `geoms` property to access the constituent parts of a multi-part geometry.\n",
      "  exteriors = [int_coords(poly.exterior.coords) for poly in polygons]\n",
      "C:\\Users\\gadli\\Anaconda3\\lib\\site-packages\\nuscenes\\map_expansion\\map_api.py:1824: ShapelyDeprecationWarning: Iteration over multi-part geometries is deprecated and will be removed in Shapely 2.0. Use the `geoms` property to access the constituent parts of a multi-part geometry.\n",
      "  interiors = [int_coords(pi.coords) for poly in polygons for pi in poly.interiors]\n"
     ]
    },
    {
     "name": "stdout",
     "output_type": "stream",
     "text": [
      "{'pf_best_pos': array([ 679.68810555, 1582.52272519]), 'pf_best_theta': -0.717868144420029, 'pf_mean_pos': array([ 679.11365854, 1583.02159389]), 'pf_mean_theta': -0.7178682041393154}\n",
      "frame 194\n",
      "Number of point tracks before run() 110\n",
      "Number of extended tracks before run() 7\n"
     ]
    },
    {
     "name": "stderr",
     "output_type": "stream",
     "text": [
      "C:\\Users\\gadli\\old_pc\\Tau\\Thesis\\polynoms\\tracker.py:94: VisibleDeprecationWarning: Creating an ndarray from ragged nested sequences (which is a list-or-tuple of lists-or-tuples-or ndarrays with different lengths or shapes) is deprecated. If you meant to do this, you must specify 'dtype=object' when creating the ndarray\n",
      "  Ha = np.array([1, z[0], z[0]**2])\n",
      "C:\\Users\\gadli\\old_pc\\Tau\\Thesis\\polynoms\\tracker.py:117: RuntimeWarning: divide by zero encountered in double_scalars\n",
      "  ratio = np.sqrt(lp)/le\n"
     ]
    },
    {
     "name": "stdout",
     "output_type": "stream",
     "text": [
      "Updating extended object track =  6\n",
      "Updating extended object track =  5\n",
      "Updating extended object track =  4\n",
      "Updating extended object track =  0\n",
      "Updating extended object track =  4\n",
      "Updating extended object track =  6\n"
     ]
    },
    {
     "name": "stderr",
     "output_type": "stream",
     "text": [
      "C:\\Users\\gadli\\Anaconda3\\lib\\site-packages\\nuscenes\\map_expansion\\map_api.py:1823: ShapelyDeprecationWarning: Iteration over multi-part geometries is deprecated and will be removed in Shapely 2.0. Use the `geoms` property to access the constituent parts of a multi-part geometry.\n",
      "  exteriors = [int_coords(poly.exterior.coords) for poly in polygons]\n",
      "C:\\Users\\gadli\\Anaconda3\\lib\\site-packages\\nuscenes\\map_expansion\\map_api.py:1824: ShapelyDeprecationWarning: Iteration over multi-part geometries is deprecated and will be removed in Shapely 2.0. Use the `geoms` property to access the constituent parts of a multi-part geometry.\n",
      "  interiors = [int_coords(pi.coords) for poly in polygons for pi in poly.interiors]\n"
     ]
    },
    {
     "name": "stdout",
     "output_type": "stream",
     "text": [
      "{'pf_best_pos': array([ 679.73713885, 1582.44077668]), 'pf_best_theta': -0.7177890424595428, 'pf_mean_pos': array([ 679.83262707, 1582.36772797]), 'pf_mean_theta': -0.717789187538073}\n",
      "frame 195\n",
      "Number of point tracks before run() 110\n",
      "Number of extended tracks before run() 7\n"
     ]
    },
    {
     "name": "stderr",
     "output_type": "stream",
     "text": [
      "C:\\Users\\gadli\\old_pc\\Tau\\Thesis\\polynoms\\tracker.py:94: VisibleDeprecationWarning: Creating an ndarray from ragged nested sequences (which is a list-or-tuple of lists-or-tuples-or ndarrays with different lengths or shapes) is deprecated. If you meant to do this, you must specify 'dtype=object' when creating the ndarray\n",
      "  Ha = np.array([1, z[0], z[0]**2])\n",
      "C:\\Users\\gadli\\old_pc\\Tau\\Thesis\\polynoms\\tracker.py:117: RuntimeWarning: divide by zero encountered in double_scalars\n",
      "  ratio = np.sqrt(lp)/le\n"
     ]
    },
    {
     "name": "stdout",
     "output_type": "stream",
     "text": [
      "Updating extended object track =  3\n",
      "Updating extended object track =  0\n",
      "Updating extended object track =  6\n",
      "Updating extended object track =  6\n",
      "Updating extended object track =  0\n",
      "Updating extended object track =  2\n",
      "Updating extended object track =  6\n",
      "Updating extended object track =  5\n",
      "Updating extended object track =  4\n",
      "Updating extended object track =  3\n"
     ]
    },
    {
     "name": "stderr",
     "output_type": "stream",
     "text": [
      "C:\\Users\\gadli\\Anaconda3\\lib\\site-packages\\nuscenes\\map_expansion\\map_api.py:1823: ShapelyDeprecationWarning: Iteration over multi-part geometries is deprecated and will be removed in Shapely 2.0. Use the `geoms` property to access the constituent parts of a multi-part geometry.\n",
      "  exteriors = [int_coords(poly.exterior.coords) for poly in polygons]\n",
      "C:\\Users\\gadli\\Anaconda3\\lib\\site-packages\\nuscenes\\map_expansion\\map_api.py:1824: ShapelyDeprecationWarning: Iteration over multi-part geometries is deprecated and will be removed in Shapely 2.0. Use the `geoms` property to access the constituent parts of a multi-part geometry.\n",
      "  interiors = [int_coords(pi.coords) for poly in polygons for pi in poly.interiors]\n"
     ]
    },
    {
     "name": "stdout",
     "output_type": "stream",
     "text": [
      "{'pf_best_pos': array([ 680.25366272, 1581.96490018]), 'pf_best_theta': -0.7177008612532565, 'pf_mean_pos': array([ 680.28457339, 1581.94922381]), 'pf_mean_theta': -0.7177010110218321}\n",
      "frame 196\n",
      "Number of point tracks before run() 110\n",
      "Number of extended tracks before run() 7\n"
     ]
    },
    {
     "name": "stderr",
     "output_type": "stream",
     "text": [
      "C:\\Users\\gadli\\old_pc\\Tau\\Thesis\\polynoms\\tracker.py:94: VisibleDeprecationWarning: Creating an ndarray from ragged nested sequences (which is a list-or-tuple of lists-or-tuples-or ndarrays with different lengths or shapes) is deprecated. If you meant to do this, you must specify 'dtype=object' when creating the ndarray\n",
      "  Ha = np.array([1, z[0], z[0]**2])\n",
      "C:\\Users\\gadli\\old_pc\\Tau\\Thesis\\polynoms\\tracker.py:117: RuntimeWarning: divide by zero encountered in double_scalars\n",
      "  ratio = np.sqrt(lp)/le\n"
     ]
    },
    {
     "name": "stdout",
     "output_type": "stream",
     "text": [
      "Updating extended object track =  3\n",
      "Updating extended object track =  5\n",
      "Updating extended object track =  6\n",
      "Updating extended object track =  4\n",
      "Updating extended object track =  3\n"
     ]
    },
    {
     "name": "stderr",
     "output_type": "stream",
     "text": [
      "C:\\Users\\gadli\\Anaconda3\\lib\\site-packages\\nuscenes\\map_expansion\\map_api.py:1823: ShapelyDeprecationWarning: Iteration over multi-part geometries is deprecated and will be removed in Shapely 2.0. Use the `geoms` property to access the constituent parts of a multi-part geometry.\n",
      "  exteriors = [int_coords(poly.exterior.coords) for poly in polygons]\n",
      "C:\\Users\\gadli\\Anaconda3\\lib\\site-packages\\nuscenes\\map_expansion\\map_api.py:1824: ShapelyDeprecationWarning: Iteration over multi-part geometries is deprecated and will be removed in Shapely 2.0. Use the `geoms` property to access the constituent parts of a multi-part geometry.\n",
      "  interiors = [int_coords(pi.coords) for poly in polygons for pi in poly.interiors]\n"
     ]
    },
    {
     "name": "stdout",
     "output_type": "stream",
     "text": [
      "{'pf_best_pos': array([ 681.36066341, 1580.98651718]), 'pf_best_theta': -0.716390608853076, 'pf_mean_pos': array([ 681.15736731, 1581.16038922]), 'pf_mean_theta': -0.7163905173618652}\n",
      "frame 197\n",
      "Number of point tracks before run() 101\n",
      "Number of extended tracks before run() 8\n",
      "Updating extended object track =  3\n",
      "Updating extended object track =  2\n",
      "Updating extended object track =  4\n",
      "Updating extended object track =  3\n",
      "Updating extended object track =  3\n"
     ]
    },
    {
     "name": "stderr",
     "output_type": "stream",
     "text": [
      "C:\\Users\\gadli\\old_pc\\Tau\\Thesis\\polynoms\\tracker.py:94: VisibleDeprecationWarning: Creating an ndarray from ragged nested sequences (which is a list-or-tuple of lists-or-tuples-or ndarrays with different lengths or shapes) is deprecated. If you meant to do this, you must specify 'dtype=object' when creating the ndarray\n",
      "  Ha = np.array([1, z[0], z[0]**2])\n",
      "C:\\Users\\gadli\\old_pc\\Tau\\Thesis\\polynoms\\tracker.py:117: RuntimeWarning: divide by zero encountered in double_scalars\n",
      "  ratio = np.sqrt(lp)/le\n",
      "C:\\Users\\gadli\\Anaconda3\\lib\\site-packages\\nuscenes\\map_expansion\\map_api.py:1823: ShapelyDeprecationWarning: Iteration over multi-part geometries is deprecated and will be removed in Shapely 2.0. Use the `geoms` property to access the constituent parts of a multi-part geometry.\n",
      "  exteriors = [int_coords(poly.exterior.coords) for poly in polygons]\n",
      "C:\\Users\\gadli\\Anaconda3\\lib\\site-packages\\nuscenes\\map_expansion\\map_api.py:1824: ShapelyDeprecationWarning: Iteration over multi-part geometries is deprecated and will be removed in Shapely 2.0. Use the `geoms` property to access the constituent parts of a multi-part geometry.\n",
      "  interiors = [int_coords(pi.coords) for poly in polygons for pi in poly.interiors]\n"
     ]
    },
    {
     "name": "stdout",
     "output_type": "stream",
     "text": [
      "{'pf_best_pos': array([ 681.83397547, 1580.5594351 ]), 'pf_best_theta': -0.7157287931328762, 'pf_mean_pos': array([ 681.52770088, 1580.82503941]), 'pf_mean_theta': -0.7157286916097152}\n",
      "frame 198\n",
      "Number of point tracks before run() 107\n",
      "Number of extended tracks before run() 7\n"
     ]
    },
    {
     "name": "stderr",
     "output_type": "stream",
     "text": [
      "C:\\Users\\gadli\\old_pc\\Tau\\Thesis\\polynoms\\tracker.py:94: VisibleDeprecationWarning: Creating an ndarray from ragged nested sequences (which is a list-or-tuple of lists-or-tuples-or ndarrays with different lengths or shapes) is deprecated. If you meant to do this, you must specify 'dtype=object' when creating the ndarray\n",
      "  Ha = np.array([1, z[0], z[0]**2])\n",
      "C:\\Users\\gadli\\old_pc\\Tau\\Thesis\\polynoms\\tracker.py:117: RuntimeWarning: divide by zero encountered in double_scalars\n",
      "  ratio = np.sqrt(lp)/le\n"
     ]
    },
    {
     "name": "stdout",
     "output_type": "stream",
     "text": [
      "Updating extended object track =  6\n",
      "Updating extended object track =  2\n",
      "Updating extended object track =  2\n",
      "Updating extended object track =  4\n",
      "Updating extended object track =  2\n",
      "Updating extended object track =  6\n"
     ]
    },
    {
     "name": "stderr",
     "output_type": "stream",
     "text": [
      "C:\\Users\\gadli\\Anaconda3\\lib\\site-packages\\nuscenes\\map_expansion\\map_api.py:1823: ShapelyDeprecationWarning: Iteration over multi-part geometries is deprecated and will be removed in Shapely 2.0. Use the `geoms` property to access the constituent parts of a multi-part geometry.\n",
      "  exteriors = [int_coords(poly.exterior.coords) for poly in polygons]\n",
      "C:\\Users\\gadli\\Anaconda3\\lib\\site-packages\\nuscenes\\map_expansion\\map_api.py:1824: ShapelyDeprecationWarning: Iteration over multi-part geometries is deprecated and will be removed in Shapely 2.0. Use the `geoms` property to access the constituent parts of a multi-part geometry.\n",
      "  interiors = [int_coords(pi.coords) for poly in polygons for pi in poly.interiors]\n"
     ]
    },
    {
     "name": "stdout",
     "output_type": "stream",
     "text": [
      "{'pf_best_pos': array([ 681.69502688, 1580.6884971 ]), 'pf_best_theta': -0.7154836617727742, 'pf_mean_pos': array([ 681.96481847, 1580.43238489]), 'pf_mean_theta': -0.715483557994549}\n",
      "frame 199\n",
      "Number of point tracks before run() 111\n",
      "Number of extended tracks before run() 7\n",
      "Updating extended object track =  5\n",
      "Updating extended object track =  6\n",
      "Updating extended object track = "
     ]
    },
    {
     "name": "stderr",
     "output_type": "stream",
     "text": [
      "C:\\Users\\gadli\\old_pc\\Tau\\Thesis\\polynoms\\tracker.py:94: VisibleDeprecationWarning: Creating an ndarray from ragged nested sequences (which is a list-or-tuple of lists-or-tuples-or ndarrays with different lengths or shapes) is deprecated. If you meant to do this, you must specify 'dtype=object' when creating the ndarray\n",
      "  Ha = np.array([1, z[0], z[0]**2])\n",
      "C:\\Users\\gadli\\old_pc\\Tau\\Thesis\\polynoms\\tracker.py:117: RuntimeWarning: divide by zero encountered in double_scalars\n",
      "  ratio = np.sqrt(lp)/le\n"
     ]
    },
    {
     "name": "stdout",
     "output_type": "stream",
     "text": [
      " 4\n",
      "Updating extended object track =  2\n",
      "Updating extended object track =  2\n",
      "Updating extended object track =  3\n",
      "Updating extended object track =  6\n"
     ]
    },
    {
     "name": "stderr",
     "output_type": "stream",
     "text": [
      "C:\\Users\\gadli\\Anaconda3\\lib\\site-packages\\nuscenes\\map_expansion\\map_api.py:1823: ShapelyDeprecationWarning: Iteration over multi-part geometries is deprecated and will be removed in Shapely 2.0. Use the `geoms` property to access the constituent parts of a multi-part geometry.\n",
      "  exteriors = [int_coords(poly.exterior.coords) for poly in polygons]\n",
      "C:\\Users\\gadli\\Anaconda3\\lib\\site-packages\\nuscenes\\map_expansion\\map_api.py:1824: ShapelyDeprecationWarning: Iteration over multi-part geometries is deprecated and will be removed in Shapely 2.0. Use the `geoms` property to access the constituent parts of a multi-part geometry.\n",
      "  interiors = [int_coords(pi.coords) for poly in polygons for pi in poly.interiors]\n"
     ]
    },
    {
     "name": "stdout",
     "output_type": "stream",
     "text": [
      "{'pf_best_pos': array([ 682.68727309, 1579.79251778]), 'pf_best_theta': -0.7149185825753204, 'pf_mean_pos': array([ 682.42800739, 1580.01414405]), 'pf_mean_theta': -0.7149184625004706}\n",
      "frame 200\n",
      "Number of point tracks before run() 116\n",
      "Number of extended tracks before run() 7\n"
     ]
    },
    {
     "name": "stderr",
     "output_type": "stream",
     "text": [
      "C:\\Users\\gadli\\old_pc\\Tau\\Thesis\\polynoms\\tracker.py:94: VisibleDeprecationWarning: Creating an ndarray from ragged nested sequences (which is a list-or-tuple of lists-or-tuples-or ndarrays with different lengths or shapes) is deprecated. If you meant to do this, you must specify 'dtype=object' when creating the ndarray\n",
      "  Ha = np.array([1, z[0], z[0]**2])\n",
      "C:\\Users\\gadli\\old_pc\\Tau\\Thesis\\polynoms\\tracker.py:117: RuntimeWarning: divide by zero encountered in double_scalars\n",
      "  ratio = np.sqrt(lp)/le\n"
     ]
    },
    {
     "name": "stdout",
     "output_type": "stream",
     "text": [
      "Updating extended object track =  5\n",
      "Updating extended object track =  6\n",
      "Updating extended object track =  6\n",
      "Updating extended object track =  2\n",
      "Updating extended object track =  2\n",
      "Updating extended object track =  5\n",
      "Updating extended object track =  2\n"
     ]
    },
    {
     "name": "stderr",
     "output_type": "stream",
     "text": [
      "C:\\Users\\gadli\\Anaconda3\\lib\\site-packages\\nuscenes\\map_expansion\\map_api.py:1823: ShapelyDeprecationWarning: Iteration over multi-part geometries is deprecated and will be removed in Shapely 2.0. Use the `geoms` property to access the constituent parts of a multi-part geometry.\n",
      "  exteriors = [int_coords(poly.exterior.coords) for poly in polygons]\n",
      "C:\\Users\\gadli\\Anaconda3\\lib\\site-packages\\nuscenes\\map_expansion\\map_api.py:1824: ShapelyDeprecationWarning: Iteration over multi-part geometries is deprecated and will be removed in Shapely 2.0. Use the `geoms` property to access the constituent parts of a multi-part geometry.\n",
      "  interiors = [int_coords(pi.coords) for poly in polygons for pi in poly.interiors]\n"
     ]
    },
    {
     "name": "stdout",
     "output_type": "stream",
     "text": [
      "{'pf_best_pos': array([ 682.95133238, 1579.55061397]), 'pf_best_theta': -0.7146981823401211, 'pf_mean_pos': array([ 682.83427095, 1579.64297684]), 'pf_mean_theta': -0.7146980745951023}\n",
      "frame 201\n",
      "Number of point tracks before run() 114\n",
      "Number of extended tracks before run() 7\n"
     ]
    },
    {
     "name": "stderr",
     "output_type": "stream",
     "text": [
      "C:\\Users\\gadli\\old_pc\\Tau\\Thesis\\polynoms\\tracker.py:94: VisibleDeprecationWarning: Creating an ndarray from ragged nested sequences (which is a list-or-tuple of lists-or-tuples-or ndarrays with different lengths or shapes) is deprecated. If you meant to do this, you must specify 'dtype=object' when creating the ndarray\n",
      "  Ha = np.array([1, z[0], z[0]**2])\n",
      "C:\\Users\\gadli\\old_pc\\Tau\\Thesis\\polynoms\\tracker.py:117: RuntimeWarning: divide by zero encountered in double_scalars\n",
      "  ratio = np.sqrt(lp)/le\n"
     ]
    },
    {
     "name": "stdout",
     "output_type": "stream",
     "text": [
      "Updating extended object track =  5\n",
      "Updating extended object track =  2\n",
      "Updating extended object track =  5\n",
      "Updating extended object track =  3\n",
      "Updating extended object track =  3\n"
     ]
    },
    {
     "name": "stderr",
     "output_type": "stream",
     "text": [
      "C:\\Users\\gadli\\Anaconda3\\lib\\site-packages\\nuscenes\\map_expansion\\map_api.py:1823: ShapelyDeprecationWarning: Iteration over multi-part geometries is deprecated and will be removed in Shapely 2.0. Use the `geoms` property to access the constituent parts of a multi-part geometry.\n",
      "  exteriors = [int_coords(poly.exterior.coords) for poly in polygons]\n",
      "C:\\Users\\gadli\\Anaconda3\\lib\\site-packages\\nuscenes\\map_expansion\\map_api.py:1824: ShapelyDeprecationWarning: Iteration over multi-part geometries is deprecated and will be removed in Shapely 2.0. Use the `geoms` property to access the constituent parts of a multi-part geometry.\n",
      "  interiors = [int_coords(pi.coords) for poly in polygons for pi in poly.interiors]\n"
     ]
    },
    {
     "name": "stdout",
     "output_type": "stream",
     "text": [
      "{'pf_best_pos': array([ 683.46624968, 1579.08751565]), 'pf_best_theta': -0.7142199805315821, 'pf_mean_pos': array([ 683.26066185, 1579.25950351]), 'pf_mean_theta': -0.7142198604793462}\n",
      "frame 202\n",
      "Number of point tracks before run() 107\n",
      "Number of extended tracks before run() 8\n"
     ]
    },
    {
     "name": "stderr",
     "output_type": "stream",
     "text": [
      "C:\\Users\\gadli\\old_pc\\Tau\\Thesis\\polynoms\\tracker.py:94: VisibleDeprecationWarning: Creating an ndarray from ragged nested sequences (which is a list-or-tuple of lists-or-tuples-or ndarrays with different lengths or shapes) is deprecated. If you meant to do this, you must specify 'dtype=object' when creating the ndarray\n",
      "  Ha = np.array([1, z[0], z[0]**2])\n",
      "C:\\Users\\gadli\\old_pc\\Tau\\Thesis\\polynoms\\tracker.py:117: RuntimeWarning: divide by zero encountered in double_scalars\n",
      "  ratio = np.sqrt(lp)/le\n"
     ]
    },
    {
     "name": "stdout",
     "output_type": "stream",
     "text": [
      "Updating extended object track =  2\n",
      "Updating extended object track =  2\n",
      "Updating extended object track =  3\n",
      "Updating extended object track =  7\n",
      "Updating extended object track =  7\n",
      "Updating extended object track =  6\n",
      "Updating extended object track =  3\n",
      "Updating extended object track =  7\n",
      "Updating extended object track =  2\n"
     ]
    },
    {
     "name": "stderr",
     "output_type": "stream",
     "text": [
      "C:\\Users\\gadli\\Anaconda3\\lib\\site-packages\\nuscenes\\map_expansion\\map_api.py:1823: ShapelyDeprecationWarning: Iteration over multi-part geometries is deprecated and will be removed in Shapely 2.0. Use the `geoms` property to access the constituent parts of a multi-part geometry.\n",
      "  exteriors = [int_coords(poly.exterior.coords) for poly in polygons]\n",
      "C:\\Users\\gadli\\Anaconda3\\lib\\site-packages\\nuscenes\\map_expansion\\map_api.py:1824: ShapelyDeprecationWarning: Iteration over multi-part geometries is deprecated and will be removed in Shapely 2.0. Use the `geoms` property to access the constituent parts of a multi-part geometry.\n",
      "  interiors = [int_coords(pi.coords) for poly in polygons for pi in poly.interiors]\n"
     ]
    },
    {
     "name": "stdout",
     "output_type": "stream",
     "text": [
      "{'pf_best_pos': array([ 683.75741111, 1578.82322206]), 'pf_best_theta': -0.7134287795755858, 'pf_mean_pos': array([ 683.66822568, 1578.89040258]), 'pf_mean_theta': -0.7134286697401432}\n",
      "frame 203\n",
      "Number of point tracks before run() 114\n",
      "Number of extended tracks before run() 7\n"
     ]
    },
    {
     "name": "stderr",
     "output_type": "stream",
     "text": [
      "C:\\Users\\gadli\\old_pc\\Tau\\Thesis\\polynoms\\tracker.py:94: VisibleDeprecationWarning: Creating an ndarray from ragged nested sequences (which is a list-or-tuple of lists-or-tuples-or ndarrays with different lengths or shapes) is deprecated. If you meant to do this, you must specify 'dtype=object' when creating the ndarray\n",
      "  Ha = np.array([1, z[0], z[0]**2])\n",
      "C:\\Users\\gadli\\old_pc\\Tau\\Thesis\\polynoms\\tracker.py:117: RuntimeWarning: divide by zero encountered in double_scalars\n",
      "  ratio = np.sqrt(lp)/le\n"
     ]
    },
    {
     "name": "stdout",
     "output_type": "stream",
     "text": [
      "Updating extended object track =  1\n",
      "Updating extended object track =  5\n",
      "Updating extended object track =  6\n",
      "Updating extended object track =  2\n",
      "Updating extended object track =  6\n",
      "Updating extended object track =  5\n",
      "Updating extended object track =  5\n",
      "Updating extended object track =  6\n",
      "Updating extended object track =  5\n",
      "Updating extended object track =  5\n",
      "Updating extended object track =  1\n"
     ]
    },
    {
     "name": "stderr",
     "output_type": "stream",
     "text": [
      "C:\\Users\\gadli\\Anaconda3\\lib\\site-packages\\nuscenes\\map_expansion\\map_api.py:1823: ShapelyDeprecationWarning: Iteration over multi-part geometries is deprecated and will be removed in Shapely 2.0. Use the `geoms` property to access the constituent parts of a multi-part geometry.\n",
      "  exteriors = [int_coords(poly.exterior.coords) for poly in polygons]\n",
      "C:\\Users\\gadli\\Anaconda3\\lib\\site-packages\\nuscenes\\map_expansion\\map_api.py:1824: ShapelyDeprecationWarning: Iteration over multi-part geometries is deprecated and will be removed in Shapely 2.0. Use the `geoms` property to access the constituent parts of a multi-part geometry.\n",
      "  interiors = [int_coords(pi.coords) for poly in polygons for pi in poly.interiors]\n"
     ]
    },
    {
     "name": "stdout",
     "output_type": "stream",
     "text": [
      "{'pf_best_pos': array([ 684.1198602 , 1578.45884319]), 'pf_best_theta': -0.7134362870689799, 'pf_mean_pos': array([ 684.11021845, 1578.4825394 ]), 'pf_mean_theta': -0.7134361849790408}\n",
      "frame 204\n",
      "Number of point tracks before run() 110\n",
      "Number of extended tracks before run() 8\n"
     ]
    },
    {
     "name": "stderr",
     "output_type": "stream",
     "text": [
      "C:\\Users\\gadli\\old_pc\\Tau\\Thesis\\polynoms\\tracker.py:94: VisibleDeprecationWarning: Creating an ndarray from ragged nested sequences (which is a list-or-tuple of lists-or-tuples-or ndarrays with different lengths or shapes) is deprecated. If you meant to do this, you must specify 'dtype=object' when creating the ndarray\n",
      "  Ha = np.array([1, z[0], z[0]**2])\n",
      "C:\\Users\\gadli\\old_pc\\Tau\\Thesis\\polynoms\\tracker.py:117: RuntimeWarning: divide by zero encountered in double_scalars\n",
      "  ratio = np.sqrt(lp)/le\n"
     ]
    },
    {
     "name": "stdout",
     "output_type": "stream",
     "text": [
      "Updating extended object track =  1\n",
      "Updating extended object track =  1\n",
      "Updating extended object track =  1\n",
      "Updating extended object track =  6\n",
      "Updating extended object track =  6\n",
      "Updating extended object track =  2\n",
      "Updating extended object track =  6\n"
     ]
    },
    {
     "name": "stderr",
     "output_type": "stream",
     "text": [
      "C:\\Users\\gadli\\Anaconda3\\lib\\site-packages\\nuscenes\\map_expansion\\map_api.py:1823: ShapelyDeprecationWarning: Iteration over multi-part geometries is deprecated and will be removed in Shapely 2.0. Use the `geoms` property to access the constituent parts of a multi-part geometry.\n",
      "  exteriors = [int_coords(poly.exterior.coords) for poly in polygons]\n",
      "C:\\Users\\gadli\\Anaconda3\\lib\\site-packages\\nuscenes\\map_expansion\\map_api.py:1824: ShapelyDeprecationWarning: Iteration over multi-part geometries is deprecated and will be removed in Shapely 2.0. Use the `geoms` property to access the constituent parts of a multi-part geometry.\n",
      "  interiors = [int_coords(pi.coords) for poly in polygons for pi in poly.interiors]\n"
     ]
    },
    {
     "name": "stdout",
     "output_type": "stream",
     "text": [
      "{'pf_best_pos': array([ 685.18996875, 1577.49375805]), 'pf_best_theta': -0.7134580816715022, 'pf_mean_pos': array([ 684.97262727, 1577.69239985]), 'pf_mean_theta': -0.713458229770941}\n",
      "frame 205\n",
      "Number of point tracks before run() 105\n",
      "Number of extended tracks before run() 8\n"
     ]
    },
    {
     "name": "stderr",
     "output_type": "stream",
     "text": [
      "C:\\Users\\gadli\\old_pc\\Tau\\Thesis\\polynoms\\tracker.py:94: VisibleDeprecationWarning: Creating an ndarray from ragged nested sequences (which is a list-or-tuple of lists-or-tuples-or ndarrays with different lengths or shapes) is deprecated. If you meant to do this, you must specify 'dtype=object' when creating the ndarray\n",
      "  Ha = np.array([1, z[0], z[0]**2])\n",
      "C:\\Users\\gadli\\old_pc\\Tau\\Thesis\\polynoms\\tracker.py:117: RuntimeWarning: divide by zero encountered in double_scalars\n",
      "  ratio = np.sqrt(lp)/le\n"
     ]
    },
    {
     "name": "stdout",
     "output_type": "stream",
     "text": [
      "Updating extended object track =  0\n",
      "Updating extended object track =  5\n",
      "Updating extended object track =  0\n",
      "Updating extended object track =  4\n",
      "Updating extended object track =  5\n",
      "Updating extended object track =  5\n",
      "Updating extended object track =  7\n"
     ]
    },
    {
     "name": "stderr",
     "output_type": "stream",
     "text": [
      "C:\\Users\\gadli\\Anaconda3\\lib\\site-packages\\nuscenes\\map_expansion\\map_api.py:1823: ShapelyDeprecationWarning: Iteration over multi-part geometries is deprecated and will be removed in Shapely 2.0. Use the `geoms` property to access the constituent parts of a multi-part geometry.\n",
      "  exteriors = [int_coords(poly.exterior.coords) for poly in polygons]\n",
      "C:\\Users\\gadli\\Anaconda3\\lib\\site-packages\\nuscenes\\map_expansion\\map_api.py:1824: ShapelyDeprecationWarning: Iteration over multi-part geometries is deprecated and will be removed in Shapely 2.0. Use the `geoms` property to access the constituent parts of a multi-part geometry.\n",
      "  interiors = [int_coords(pi.coords) for poly in polygons for pi in poly.interiors]\n"
     ]
    },
    {
     "name": "stdout",
     "output_type": "stream",
     "text": [
      "{'pf_best_pos': array([ 686.18223253, 1576.56540726]), 'pf_best_theta': -0.7132213171786317, 'pf_mean_pos': array([ 685.43983969, 1577.26534075]), 'pf_mean_theta': -0.7132212997355596}\n",
      "frame 206\n",
      "Number of point tracks before run() 103\n",
      "Number of extended tracks before run() 8\n"
     ]
    },
    {
     "name": "stderr",
     "output_type": "stream",
     "text": [
      "C:\\Users\\gadli\\old_pc\\Tau\\Thesis\\polynoms\\tracker.py:94: VisibleDeprecationWarning: Creating an ndarray from ragged nested sequences (which is a list-or-tuple of lists-or-tuples-or ndarrays with different lengths or shapes) is deprecated. If you meant to do this, you must specify 'dtype=object' when creating the ndarray\n",
      "  Ha = np.array([1, z[0], z[0]**2])\n",
      "C:\\Users\\gadli\\old_pc\\Tau\\Thesis\\polynoms\\tracker.py:117: RuntimeWarning: divide by zero encountered in double_scalars\n",
      "  ratio = np.sqrt(lp)/le\n"
     ]
    },
    {
     "name": "stdout",
     "output_type": "stream",
     "text": [
      "Updating extended object track =  4\n",
      "Updating extended object track =  5\n",
      "Updating extended object track =  5\n",
      "Updating extended object track =  0\n",
      "Updating extended object track =  1\n",
      "Updating extended object track =  7\n",
      "Updating extended object track =  7\n",
      "Updating extended object track =  5\n",
      "Updating extended object track =  7\n",
      "Updating extended object track =  4\n"
     ]
    },
    {
     "name": "stderr",
     "output_type": "stream",
     "text": [
      "C:\\Users\\gadli\\Anaconda3\\lib\\site-packages\\nuscenes\\map_expansion\\map_api.py:1823: ShapelyDeprecationWarning: Iteration over multi-part geometries is deprecated and will be removed in Shapely 2.0. Use the `geoms` property to access the constituent parts of a multi-part geometry.\n",
      "  exteriors = [int_coords(poly.exterior.coords) for poly in polygons]\n",
      "C:\\Users\\gadli\\Anaconda3\\lib\\site-packages\\nuscenes\\map_expansion\\map_api.py:1824: ShapelyDeprecationWarning: Iteration over multi-part geometries is deprecated and will be removed in Shapely 2.0. Use the `geoms` property to access the constituent parts of a multi-part geometry.\n",
      "  interiors = [int_coords(pi.coords) for poly in polygons for pi in poly.interiors]\n"
     ]
    },
    {
     "name": "stdout",
     "output_type": "stream",
     "text": [
      "{'pf_best_pos': array([ 686.66352546, 1576.14025058]), 'pf_best_theta': -0.7129797750221858, 'pf_mean_pos': array([ 685.87847758, 1576.86577656]), 'pf_mean_theta': -0.7129797511108907}\n",
      "frame 207\n",
      "Number of point tracks before run() 98\n",
      "Number of extended tracks before run() 7\n"
     ]
    },
    {
     "name": "stderr",
     "output_type": "stream",
     "text": [
      "C:\\Users\\gadli\\old_pc\\Tau\\Thesis\\polynoms\\tracker.py:94: VisibleDeprecationWarning: Creating an ndarray from ragged nested sequences (which is a list-or-tuple of lists-or-tuples-or ndarrays with different lengths or shapes) is deprecated. If you meant to do this, you must specify 'dtype=object' when creating the ndarray\n",
      "  Ha = np.array([1, z[0], z[0]**2])\n",
      "C:\\Users\\gadli\\old_pc\\Tau\\Thesis\\polynoms\\tracker.py:117: RuntimeWarning: divide by zero encountered in double_scalars\n",
      "  ratio = np.sqrt(lp)/le\n"
     ]
    },
    {
     "name": "stdout",
     "output_type": "stream",
     "text": [
      "Updating extended object track =  3\n",
      "Updating extended object track =  6\n",
      "Updating extended object track =  2\n",
      "Updating extended object track =  5\n",
      "Updating extended object track =  0\n",
      "Updating extended object track =  6\n",
      "Updating extended object track =  3\n",
      "Updating extended object track =  6\n",
      "Updating extended object track =  6\n"
     ]
    },
    {
     "name": "stderr",
     "output_type": "stream",
     "text": [
      "C:\\Users\\gadli\\Anaconda3\\lib\\site-packages\\nuscenes\\map_expansion\\map_api.py:1823: ShapelyDeprecationWarning: Iteration over multi-part geometries is deprecated and will be removed in Shapely 2.0. Use the `geoms` property to access the constituent parts of a multi-part geometry.\n",
      "  exteriors = [int_coords(poly.exterior.coords) for poly in polygons]\n",
      "C:\\Users\\gadli\\Anaconda3\\lib\\site-packages\\nuscenes\\map_expansion\\map_api.py:1824: ShapelyDeprecationWarning: Iteration over multi-part geometries is deprecated and will be removed in Shapely 2.0. Use the `geoms` property to access the constituent parts of a multi-part geometry.\n",
      "  interiors = [int_coords(pi.coords) for poly in polygons for pi in poly.interiors]\n"
     ]
    },
    {
     "name": "stdout",
     "output_type": "stream",
     "text": [
      "{'pf_best_pos': array([ 686.78599021, 1576.04401908]), 'pf_best_theta': -0.7130305266678181, 'pf_mean_pos': array([ 686.32229503, 1576.45609092]), 'pf_mean_theta': -0.7130304544719509}\n",
      "frame 208\n",
      "Number of point tracks before run() 95\n",
      "Number of extended tracks before run() 8\n"
     ]
    },
    {
     "name": "stderr",
     "output_type": "stream",
     "text": [
      "C:\\Users\\gadli\\old_pc\\Tau\\Thesis\\polynoms\\tracker.py:94: VisibleDeprecationWarning: Creating an ndarray from ragged nested sequences (which is a list-or-tuple of lists-or-tuples-or ndarrays with different lengths or shapes) is deprecated. If you meant to do this, you must specify 'dtype=object' when creating the ndarray\n",
      "  Ha = np.array([1, z[0], z[0]**2])\n",
      "C:\\Users\\gadli\\old_pc\\Tau\\Thesis\\polynoms\\tracker.py:117: RuntimeWarning: divide by zero encountered in double_scalars\n",
      "  ratio = np.sqrt(lp)/le\n"
     ]
    },
    {
     "name": "stdout",
     "output_type": "stream",
     "text": [
      "Updating extended object track =  5\n",
      "Updating extended object track =  3\n",
      "Updating extended object track =  4\n",
      "Updating extended object track =  5\n",
      "Updating extended object track =  6\n",
      "Updating extended object track =  6\n",
      "Updating extended object track =  4\n",
      "Updating extended object track =  7\n"
     ]
    },
    {
     "name": "stderr",
     "output_type": "stream",
     "text": [
      "C:\\Users\\gadli\\Anaconda3\\lib\\site-packages\\nuscenes\\map_expansion\\map_api.py:1823: ShapelyDeprecationWarning: Iteration over multi-part geometries is deprecated and will be removed in Shapely 2.0. Use the `geoms` property to access the constituent parts of a multi-part geometry.\n",
      "  exteriors = [int_coords(poly.exterior.coords) for poly in polygons]\n",
      "C:\\Users\\gadli\\Anaconda3\\lib\\site-packages\\nuscenes\\map_expansion\\map_api.py:1824: ShapelyDeprecationWarning: Iteration over multi-part geometries is deprecated and will be removed in Shapely 2.0. Use the `geoms` property to access the constituent parts of a multi-part geometry.\n",
      "  interiors = [int_coords(pi.coords) for poly in polygons for pi in poly.interiors]\n"
     ]
    },
    {
     "name": "stdout",
     "output_type": "stream",
     "text": [
      "{'pf_best_pos': array([ 687.9375554 , 1575.02477171]), 'pf_best_theta': -0.7129520574045038, 'pf_mean_pos': array([ 687.19874202, 1575.67960537]), 'pf_mean_theta': -0.712952039183098}\n",
      "frame 209\n",
      "Number of point tracks before run() 92\n",
      "Number of extended tracks before run() 9\n"
     ]
    },
    {
     "name": "stderr",
     "output_type": "stream",
     "text": [
      "C:\\Users\\gadli\\old_pc\\Tau\\Thesis\\polynoms\\tracker.py:94: VisibleDeprecationWarning: Creating an ndarray from ragged nested sequences (which is a list-or-tuple of lists-or-tuples-or ndarrays with different lengths or shapes) is deprecated. If you meant to do this, you must specify 'dtype=object' when creating the ndarray\n",
      "  Ha = np.array([1, z[0], z[0]**2])\n",
      "C:\\Users\\gadli\\old_pc\\Tau\\Thesis\\polynoms\\tracker.py:117: RuntimeWarning: divide by zero encountered in double_scalars\n",
      "  ratio = np.sqrt(lp)/le\n"
     ]
    },
    {
     "name": "stdout",
     "output_type": "stream",
     "text": [
      "Updating extended object track =  3\n",
      "Updating extended object track =  7\n",
      "Updating extended object track =  6\n",
      "Updating extended object track =  6\n",
      "Updating extended object track =  5\n",
      "Updating extended object track =  7\n",
      "Updating extended object track =  6\n",
      "Updating extended object track =  5\n",
      "Updating extended object track =  6\n",
      "Updating extended object track =  5\n",
      "Updating extended object track =  7\n"
     ]
    },
    {
     "name": "stderr",
     "output_type": "stream",
     "text": [
      "C:\\Users\\gadli\\Anaconda3\\lib\\site-packages\\nuscenes\\map_expansion\\map_api.py:1823: ShapelyDeprecationWarning: Iteration over multi-part geometries is deprecated and will be removed in Shapely 2.0. Use the `geoms` property to access the constituent parts of a multi-part geometry.\n",
      "  exteriors = [int_coords(poly.exterior.coords) for poly in polygons]\n",
      "C:\\Users\\gadli\\Anaconda3\\lib\\site-packages\\nuscenes\\map_expansion\\map_api.py:1824: ShapelyDeprecationWarning: Iteration over multi-part geometries is deprecated and will be removed in Shapely 2.0. Use the `geoms` property to access the constituent parts of a multi-part geometry.\n",
      "  interiors = [int_coords(pi.coords) for poly in polygons for pi in poly.interiors]\n"
     ]
    },
    {
     "name": "stdout",
     "output_type": "stream",
     "text": [
      "{'pf_best_pos': array([ 686.78359515, 1576.04948145]), 'pf_best_theta': -0.7122251267520001, 'pf_mean_pos': array([ 687.46254927, 1575.44859464]), 'pf_mean_theta': -0.7122250440570567}\n",
      "frame 210\n",
      "Number of point tracks before run() 90\n",
      "Number of extended tracks before run() 10\n",
      "Updating extended object track =  3\n",
      "Updating extended object track =  7\n",
      "Updating extended object track =  7\n",
      "Updating extended object track =  5\n",
      "Updating extended object track =  4\n",
      "Updating extended object track =  3\n",
      "Updating extended object track =  8\n",
      "Updating extended object track =  6\n",
      "Updating extended object track =  9\n",
      "Updating extended object track =  7\n",
      "Updating extended object track =  7\n"
     ]
    },
    {
     "name": "stderr",
     "output_type": "stream",
     "text": [
      "C:\\Users\\gadli\\old_pc\\Tau\\Thesis\\polynoms\\tracker.py:94: VisibleDeprecationWarning: Creating an ndarray from ragged nested sequences (which is a list-or-tuple of lists-or-tuples-or ndarrays with different lengths or shapes) is deprecated. If you meant to do this, you must specify 'dtype=object' when creating the ndarray\n",
      "  Ha = np.array([1, z[0], z[0]**2])\n",
      "C:\\Users\\gadli\\old_pc\\Tau\\Thesis\\polynoms\\tracker.py:117: RuntimeWarning: divide by zero encountered in double_scalars\n",
      "  ratio = np.sqrt(lp)/le\n",
      "C:\\Users\\gadli\\Anaconda3\\lib\\site-packages\\nuscenes\\map_expansion\\map_api.py:1823: ShapelyDeprecationWarning: Iteration over multi-part geometries is deprecated and will be removed in Shapely 2.0. Use the `geoms` property to access the constituent parts of a multi-part geometry.\n",
      "  exteriors = [int_coords(poly.exterior.coords) for poly in polygons]\n",
      "C:\\Users\\gadli\\Anaconda3\\lib\\site-packages\\nuscenes\\map_expansion\\map_api.py:1824: ShapelyDeprecationWarning: Iteration over multi-part geometries is deprecated and will be removed in Shapely 2.0. Use the `geoms` property to access the constituent parts of a multi-part geometry.\n",
      "  interiors = [int_coords(pi.coords) for poly in polygons for pi in poly.interiors]\n"
     ]
    },
    {
     "name": "stdout",
     "output_type": "stream",
     "text": [
      "{'pf_best_pos': array([ 687.43050199, 1575.48213101]), 'pf_best_theta': -0.711644415231873, 'pf_mean_pos': array([ 687.23335325, 1575.66369154]), 'pf_mean_theta': -0.7116445575085703}\n",
      "frame 211\n",
      "Number of point tracks before run() 112\n",
      "Number of extended tracks before run() 10\n"
     ]
    },
    {
     "name": "stderr",
     "output_type": "stream",
     "text": [
      "C:\\Users\\gadli\\old_pc\\Tau\\Thesis\\polynoms\\tracker.py:94: VisibleDeprecationWarning: Creating an ndarray from ragged nested sequences (which is a list-or-tuple of lists-or-tuples-or ndarrays with different lengths or shapes) is deprecated. If you meant to do this, you must specify 'dtype=object' when creating the ndarray\n",
      "  Ha = np.array([1, z[0], z[0]**2])\n",
      "C:\\Users\\gadli\\old_pc\\Tau\\Thesis\\polynoms\\tracker.py:117: RuntimeWarning: divide by zero encountered in double_scalars\n",
      "  ratio = np.sqrt(lp)/le\n"
     ]
    },
    {
     "name": "stdout",
     "output_type": "stream",
     "text": [
      "Updating extended object track =  6\n",
      "Updating extended object track =  1\n",
      "Updating extended object track =  5\n",
      "Updating extended object track =  5\n",
      "Updating extended object track =  7\n",
      "Updating extended object track =  8\n",
      "Updating extended object track =  8\n",
      "Updating extended object track =  6\n",
      "Updating extended object track =  4\n",
      "Updating extended object track =  6\n",
      "Updating extended object track =  4\n",
      "Updating extended object track =  7\n",
      "Updating extended object track =  2\n"
     ]
    },
    {
     "name": "stderr",
     "output_type": "stream",
     "text": [
      "C:\\Users\\gadli\\Anaconda3\\lib\\site-packages\\nuscenes\\map_expansion\\map_api.py:1823: ShapelyDeprecationWarning: Iteration over multi-part geometries is deprecated and will be removed in Shapely 2.0. Use the `geoms` property to access the constituent parts of a multi-part geometry.\n",
      "  exteriors = [int_coords(poly.exterior.coords) for poly in polygons]\n",
      "C:\\Users\\gadli\\Anaconda3\\lib\\site-packages\\nuscenes\\map_expansion\\map_api.py:1824: ShapelyDeprecationWarning: Iteration over multi-part geometries is deprecated and will be removed in Shapely 2.0. Use the `geoms` property to access the constituent parts of a multi-part geometry.\n",
      "  interiors = [int_coords(pi.coords) for poly in polygons for pi in poly.interiors]\n"
     ]
    },
    {
     "name": "stdout",
     "output_type": "stream",
     "text": [
      "{'pf_best_pos': array([ 688.17319162, 1574.82684104]), 'pf_best_theta': -0.7108265178554829, 'pf_mean_pos': array([ 687.66568262, 1575.28369035]), 'pf_mean_theta': -0.7108266823666265}\n",
      "frame 212\n",
      "Number of point tracks before run() 99\n",
      "Number of extended tracks before run() 11\n"
     ]
    },
    {
     "name": "stderr",
     "output_type": "stream",
     "text": [
      "C:\\Users\\gadli\\old_pc\\Tau\\Thesis\\polynoms\\tracker.py:94: VisibleDeprecationWarning: Creating an ndarray from ragged nested sequences (which is a list-or-tuple of lists-or-tuples-or ndarrays with different lengths or shapes) is deprecated. If you meant to do this, you must specify 'dtype=object' when creating the ndarray\n",
      "  Ha = np.array([1, z[0], z[0]**2])\n",
      "C:\\Users\\gadli\\old_pc\\Tau\\Thesis\\polynoms\\tracker.py:117: RuntimeWarning: divide by zero encountered in double_scalars\n",
      "  ratio = np.sqrt(lp)/le\n"
     ]
    },
    {
     "name": "stdout",
     "output_type": "stream",
     "text": [
      "Updating extended object track =  7\n",
      "Updating extended object track =  8\n",
      "Updating extended object track =  1\n",
      "Updating extended object track =  7\n",
      "Updating extended object track =  3\n",
      "Updating extended object track =  5\n",
      "Updating extended object track =  6\n"
     ]
    },
    {
     "name": "stderr",
     "output_type": "stream",
     "text": [
      "C:\\Users\\gadli\\Anaconda3\\lib\\site-packages\\nuscenes\\map_expansion\\map_api.py:1823: ShapelyDeprecationWarning: Iteration over multi-part geometries is deprecated and will be removed in Shapely 2.0. Use the `geoms` property to access the constituent parts of a multi-part geometry.\n",
      "  exteriors = [int_coords(poly.exterior.coords) for poly in polygons]\n",
      "C:\\Users\\gadli\\Anaconda3\\lib\\site-packages\\nuscenes\\map_expansion\\map_api.py:1824: ShapelyDeprecationWarning: Iteration over multi-part geometries is deprecated and will be removed in Shapely 2.0. Use the `geoms` property to access the constituent parts of a multi-part geometry.\n",
      "  interiors = [int_coords(pi.coords) for poly in polygons for pi in poly.interiors]\n"
     ]
    },
    {
     "name": "stdout",
     "output_type": "stream",
     "text": [
      "{'pf_best_pos': array([ 688.68916804, 1574.36777902]), 'pf_best_theta': -0.7113680311976003, 'pf_mean_pos': array([ 688.08287958, 1574.90740286]), 'pf_mean_theta': -0.7113679565605544}\n",
      "frame 213\n",
      "Number of point tracks before run() 95\n",
      "Number of extended tracks before run() 11\n"
     ]
    },
    {
     "name": "stderr",
     "output_type": "stream",
     "text": [
      "C:\\Users\\gadli\\old_pc\\Tau\\Thesis\\polynoms\\tracker.py:94: VisibleDeprecationWarning: Creating an ndarray from ragged nested sequences (which is a list-or-tuple of lists-or-tuples-or ndarrays with different lengths or shapes) is deprecated. If you meant to do this, you must specify 'dtype=object' when creating the ndarray\n",
      "  Ha = np.array([1, z[0], z[0]**2])\n",
      "C:\\Users\\gadli\\old_pc\\Tau\\Thesis\\polynoms\\tracker.py:117: RuntimeWarning: divide by zero encountered in double_scalars\n",
      "  ratio = np.sqrt(lp)/le\n"
     ]
    },
    {
     "name": "stdout",
     "output_type": "stream",
     "text": [
      "Updating extended object track =  8\n",
      "Updating extended object track =  5\n",
      "Updating extended object track =  9\n",
      "Updating extended object track =  8\n",
      "Updating extended object track =  7\n",
      "Updating extended object track =  4\n",
      "Updating extended object track =  10\n"
     ]
    },
    {
     "name": "stderr",
     "output_type": "stream",
     "text": [
      "C:\\Users\\gadli\\Anaconda3\\lib\\site-packages\\nuscenes\\map_expansion\\map_api.py:1823: ShapelyDeprecationWarning: Iteration over multi-part geometries is deprecated and will be removed in Shapely 2.0. Use the `geoms` property to access the constituent parts of a multi-part geometry.\n",
      "  exteriors = [int_coords(poly.exterior.coords) for poly in polygons]\n",
      "C:\\Users\\gadli\\Anaconda3\\lib\\site-packages\\nuscenes\\map_expansion\\map_api.py:1824: ShapelyDeprecationWarning: Iteration over multi-part geometries is deprecated and will be removed in Shapely 2.0. Use the `geoms` property to access the constituent parts of a multi-part geometry.\n",
      "  interiors = [int_coords(pi.coords) for poly in polygons for pi in poly.interiors]\n"
     ]
    },
    {
     "name": "stdout",
     "output_type": "stream",
     "text": [
      "{'pf_best_pos': array([ 688.90992465, 1574.16080461]), 'pf_best_theta': -0.7110969684346369, 'pf_mean_pos': array([ 688.55085776, 1574.49439013]), 'pf_mean_theta': -0.7110968987963222}\n",
      "frame 214\n",
      "Number of point tracks before run() 93\n",
      "Number of extended tracks before run() 12\n"
     ]
    },
    {
     "name": "stderr",
     "output_type": "stream",
     "text": [
      "C:\\Users\\gadli\\old_pc\\Tau\\Thesis\\polynoms\\tracker.py:94: VisibleDeprecationWarning: Creating an ndarray from ragged nested sequences (which is a list-or-tuple of lists-or-tuples-or ndarrays with different lengths or shapes) is deprecated. If you meant to do this, you must specify 'dtype=object' when creating the ndarray\n",
      "  Ha = np.array([1, z[0], z[0]**2])\n",
      "C:\\Users\\gadli\\old_pc\\Tau\\Thesis\\polynoms\\tracker.py:117: RuntimeWarning: divide by zero encountered in double_scalars\n",
      "  ratio = np.sqrt(lp)/le\n"
     ]
    },
    {
     "name": "stdout",
     "output_type": "stream",
     "text": [
      "Updating extended object track =  5\n",
      "Updating extended object track =  8\n",
      "Updating extended object track =  8\n",
      "Updating extended object track =  9\n",
      "Updating extended object track =  10\n",
      "Updating extended object track =  6\n",
      "Updating extended object track =  8\n",
      "Updating extended object track =  10\n",
      "Updating extended object track =  5\n",
      "Updating extended object track =  4\n",
      "Updating extended object track =  4\n"
     ]
    },
    {
     "name": "stderr",
     "output_type": "stream",
     "text": [
      "C:\\Users\\gadli\\Anaconda3\\lib\\site-packages\\nuscenes\\map_expansion\\map_api.py:1823: ShapelyDeprecationWarning: Iteration over multi-part geometries is deprecated and will be removed in Shapely 2.0. Use the `geoms` property to access the constituent parts of a multi-part geometry.\n",
      "  exteriors = [int_coords(poly.exterior.coords) for poly in polygons]\n",
      "C:\\Users\\gadli\\Anaconda3\\lib\\site-packages\\nuscenes\\map_expansion\\map_api.py:1824: ShapelyDeprecationWarning: Iteration over multi-part geometries is deprecated and will be removed in Shapely 2.0. Use the `geoms` property to access the constituent parts of a multi-part geometry.\n",
      "  interiors = [int_coords(pi.coords) for poly in polygons for pi in poly.interiors]\n"
     ]
    },
    {
     "name": "stdout",
     "output_type": "stream",
     "text": [
      "{'pf_best_pos': array([ 689.73995941, 1573.4273521 ]), 'pf_best_theta': -0.7112782968068494, 'pf_mean_pos': array([ 689.43736418, 1573.70223138]), 'pf_mean_theta': -0.7112783003049409}\n",
      "frame 215\n",
      "Number of point tracks before run() 101\n",
      "Number of extended tracks before run() 11\n"
     ]
    },
    {
     "name": "stderr",
     "output_type": "stream",
     "text": [
      "C:\\Users\\gadli\\old_pc\\Tau\\Thesis\\polynoms\\tracker.py:94: VisibleDeprecationWarning: Creating an ndarray from ragged nested sequences (which is a list-or-tuple of lists-or-tuples-or ndarrays with different lengths or shapes) is deprecated. If you meant to do this, you must specify 'dtype=object' when creating the ndarray\n",
      "  Ha = np.array([1, z[0], z[0]**2])\n",
      "C:\\Users\\gadli\\old_pc\\Tau\\Thesis\\polynoms\\tracker.py:117: RuntimeWarning: divide by zero encountered in double_scalars\n",
      "  ratio = np.sqrt(lp)/le\n"
     ]
    },
    {
     "name": "stdout",
     "output_type": "stream",
     "text": [
      "Updating extended object track =  5\n",
      "Updating extended object track =  8\n",
      "Updating extended object track =  7\n",
      "Updating extended object track =  3\n",
      "Updating extended object track =  7\n",
      "Updating extended object track =  9\n",
      "Updating extended object track =  5\n",
      "Updating extended object track =  3\n",
      "Updating extended object track =  3\n"
     ]
    },
    {
     "name": "stderr",
     "output_type": "stream",
     "text": [
      "C:\\Users\\gadli\\Anaconda3\\lib\\site-packages\\nuscenes\\map_expansion\\map_api.py:1823: ShapelyDeprecationWarning: Iteration over multi-part geometries is deprecated and will be removed in Shapely 2.0. Use the `geoms` property to access the constituent parts of a multi-part geometry.\n",
      "  exteriors = [int_coords(poly.exterior.coords) for poly in polygons]\n",
      "C:\\Users\\gadli\\Anaconda3\\lib\\site-packages\\nuscenes\\map_expansion\\map_api.py:1824: ShapelyDeprecationWarning: Iteration over multi-part geometries is deprecated and will be removed in Shapely 2.0. Use the `geoms` property to access the constituent parts of a multi-part geometry.\n",
      "  interiors = [int_coords(pi.coords) for poly in polygons for pi in poly.interiors]\n"
     ]
    },
    {
     "name": "stdout",
     "output_type": "stream",
     "text": [
      "{'pf_best_pos': array([ 690.22214776, 1572.99749103]), 'pf_best_theta': -0.7115923203508965, 'pf_mean_pos': array([ 689.8942156 , 1573.29172993]), 'pf_mean_theta': -0.7115922115134096}\n",
      "frame 216\n",
      "Number of point tracks before run() 102\n",
      "Number of extended tracks before run() 11\n"
     ]
    },
    {
     "name": "stderr",
     "output_type": "stream",
     "text": [
      "C:\\Users\\gadli\\old_pc\\Tau\\Thesis\\polynoms\\tracker.py:94: VisibleDeprecationWarning: Creating an ndarray from ragged nested sequences (which is a list-or-tuple of lists-or-tuples-or ndarrays with different lengths or shapes) is deprecated. If you meant to do this, you must specify 'dtype=object' when creating the ndarray\n",
      "  Ha = np.array([1, z[0], z[0]**2])\n",
      "C:\\Users\\gadli\\old_pc\\Tau\\Thesis\\polynoms\\tracker.py:117: RuntimeWarning: divide by zero encountered in double_scalars\n",
      "  ratio = np.sqrt(lp)/le\n"
     ]
    },
    {
     "name": "stdout",
     "output_type": "stream",
     "text": [
      "Updating extended object track =  10\n",
      "Updating extended object track =  5\n",
      "Updating extended object track =  7\n",
      "Updating extended object track =  5\n",
      "Updating extended object track =  4\n",
      "Updating extended object track =  5\n",
      "Updating extended object track =  7\n",
      "Updating extended object track =  7\n"
     ]
    },
    {
     "name": "stderr",
     "output_type": "stream",
     "text": [
      "C:\\Users\\gadli\\Anaconda3\\lib\\site-packages\\nuscenes\\map_expansion\\map_api.py:1823: ShapelyDeprecationWarning: Iteration over multi-part geometries is deprecated and will be removed in Shapely 2.0. Use the `geoms` property to access the constituent parts of a multi-part geometry.\n",
      "  exteriors = [int_coords(poly.exterior.coords) for poly in polygons]\n",
      "C:\\Users\\gadli\\Anaconda3\\lib\\site-packages\\nuscenes\\map_expansion\\map_api.py:1824: ShapelyDeprecationWarning: Iteration over multi-part geometries is deprecated and will be removed in Shapely 2.0. Use the `geoms` property to access the constituent parts of a multi-part geometry.\n",
      "  interiors = [int_coords(pi.coords) for poly in polygons for pi in poly.interiors]\n"
     ]
    },
    {
     "name": "stdout",
     "output_type": "stream",
     "text": [
      "{'pf_best_pos': array([ 690.69948614, 1572.55800523]), 'pf_best_theta': -0.7117101921535101, 'pf_mean_pos': array([ 690.34835287, 1572.88711499]), 'pf_mean_theta': -0.7117101618601474}\n",
      "frame 217\n",
      "Number of point tracks before run() 103\n",
      "Number of extended tracks before run() 11\n",
      "Updating extended object track =  7\n",
      "Updating extended object track =  3\n",
      "Updating extended object track =  6\n",
      "Updating extended object track =  8\n",
      "Updating extended object track =  5\n",
      "Updating extended object track =  5\n",
      "Updating extended object track =  7\n",
      "Updating extended object track =  9\n"
     ]
    },
    {
     "name": "stderr",
     "output_type": "stream",
     "text": [
      "C:\\Users\\gadli\\old_pc\\Tau\\Thesis\\polynoms\\tracker.py:94: VisibleDeprecationWarning: Creating an ndarray from ragged nested sequences (which is a list-or-tuple of lists-or-tuples-or ndarrays with different lengths or shapes) is deprecated. If you meant to do this, you must specify 'dtype=object' when creating the ndarray\n",
      "  Ha = np.array([1, z[0], z[0]**2])\n",
      "C:\\Users\\gadli\\old_pc\\Tau\\Thesis\\polynoms\\tracker.py:117: RuntimeWarning: divide by zero encountered in double_scalars\n",
      "  ratio = np.sqrt(lp)/le\n",
      "C:\\Users\\gadli\\Anaconda3\\lib\\site-packages\\nuscenes\\map_expansion\\map_api.py:1823: ShapelyDeprecationWarning: Iteration over multi-part geometries is deprecated and will be removed in Shapely 2.0. Use the `geoms` property to access the constituent parts of a multi-part geometry.\n",
      "  exteriors = [int_coords(poly.exterior.coords) for poly in polygons]\n",
      "C:\\Users\\gadli\\Anaconda3\\lib\\site-packages\\nuscenes\\map_expansion\\map_api.py:1824: ShapelyDeprecationWarning: Iteration over multi-part geometries is deprecated and will be removed in Shapely 2.0. Use the `geoms` property to access the constituent parts of a multi-part geometry.\n",
      "  interiors = [int_coords(pi.coords) for poly in polygons for pi in poly.interiors]\n"
     ]
    },
    {
     "name": "stdout",
     "output_type": "stream",
     "text": [
      "{'pf_best_pos': array([ 691.1318612 , 1572.19717595]), 'pf_best_theta': -0.7124276293911196, 'pf_mean_pos': array([ 690.78651929, 1572.49256911]), 'pf_mean_theta': -0.7124275290253189}\n",
      "frame 218\n",
      "Number of point tracks before run() 111\n",
      "Number of extended tracks before run() 11\n"
     ]
    },
    {
     "name": "stderr",
     "output_type": "stream",
     "text": [
      "C:\\Users\\gadli\\old_pc\\Tau\\Thesis\\polynoms\\tracker.py:94: VisibleDeprecationWarning: Creating an ndarray from ragged nested sequences (which is a list-or-tuple of lists-or-tuples-or ndarrays with different lengths or shapes) is deprecated. If you meant to do this, you must specify 'dtype=object' when creating the ndarray\n",
      "  Ha = np.array([1, z[0], z[0]**2])\n",
      "C:\\Users\\gadli\\old_pc\\Tau\\Thesis\\polynoms\\tracker.py:117: RuntimeWarning: divide by zero encountered in double_scalars\n",
      "  ratio = np.sqrt(lp)/le\n"
     ]
    },
    {
     "name": "stdout",
     "output_type": "stream",
     "text": [
      "Updating extended object track =  3\n",
      "Updating extended object track =  8\n",
      "Updating extended object track =  8\n",
      "Updating extended object track =  9\n",
      "Updating extended object track =  9\n",
      "Updating extended object track =  7\n",
      "Updating extended object track =  3\n"
     ]
    },
    {
     "name": "stderr",
     "output_type": "stream",
     "text": [
      "C:\\Users\\gadli\\Anaconda3\\lib\\site-packages\\nuscenes\\map_expansion\\map_api.py:1823: ShapelyDeprecationWarning: Iteration over multi-part geometries is deprecated and will be removed in Shapely 2.0. Use the `geoms` property to access the constituent parts of a multi-part geometry.\n",
      "  exteriors = [int_coords(poly.exterior.coords) for poly in polygons]\n",
      "C:\\Users\\gadli\\Anaconda3\\lib\\site-packages\\nuscenes\\map_expansion\\map_api.py:1824: ShapelyDeprecationWarning: Iteration over multi-part geometries is deprecated and will be removed in Shapely 2.0. Use the `geoms` property to access the constituent parts of a multi-part geometry.\n",
      "  interiors = [int_coords(pi.coords) for poly in polygons for pi in poly.interiors]\n"
     ]
    },
    {
     "name": "stdout",
     "output_type": "stream",
     "text": [
      "{'pf_best_pos': array([ 691.58535867, 1571.76503979]), 'pf_best_theta': -0.7131547069941839, 'pf_mean_pos': array([ 691.23539177, 1572.08461302]), 'pf_mean_theta': -0.7131545938153723}\n",
      "frame 219\n",
      "Number of point tracks before run() 108\n",
      "Number of extended tracks before run() 10\n"
     ]
    },
    {
     "name": "stderr",
     "output_type": "stream",
     "text": [
      "C:\\Users\\gadli\\old_pc\\Tau\\Thesis\\polynoms\\tracker.py:94: VisibleDeprecationWarning: Creating an ndarray from ragged nested sequences (which is a list-or-tuple of lists-or-tuples-or ndarrays with different lengths or shapes) is deprecated. If you meant to do this, you must specify 'dtype=object' when creating the ndarray\n",
      "  Ha = np.array([1, z[0], z[0]**2])\n",
      "C:\\Users\\gadli\\old_pc\\Tau\\Thesis\\polynoms\\tracker.py:117: RuntimeWarning: divide by zero encountered in double_scalars\n",
      "  ratio = np.sqrt(lp)/le\n"
     ]
    },
    {
     "name": "stdout",
     "output_type": "stream",
     "text": [
      "Updating extended object track =  6\n",
      "Updating extended object track =  4\n",
      "Updating extended object track =  6\n",
      "Updating extended object track =  2\n",
      "Updating extended object track =  2\n",
      "Updating extended object track =  7\n",
      "Updating extended object track =  8\n"
     ]
    },
    {
     "name": "stderr",
     "output_type": "stream",
     "text": [
      "C:\\Users\\gadli\\Anaconda3\\lib\\site-packages\\nuscenes\\map_expansion\\map_api.py:1823: ShapelyDeprecationWarning: Iteration over multi-part geometries is deprecated and will be removed in Shapely 2.0. Use the `geoms` property to access the constituent parts of a multi-part geometry.\n",
      "  exteriors = [int_coords(poly.exterior.coords) for poly in polygons]\n",
      "C:\\Users\\gadli\\Anaconda3\\lib\\site-packages\\nuscenes\\map_expansion\\map_api.py:1824: ShapelyDeprecationWarning: Iteration over multi-part geometries is deprecated and will be removed in Shapely 2.0. Use the `geoms` property to access the constituent parts of a multi-part geometry.\n",
      "  interiors = [int_coords(pi.coords) for poly in polygons for pi in poly.interiors]\n"
     ]
    },
    {
     "name": "stdout",
     "output_type": "stream",
     "text": [
      "{'pf_best_pos': array([ 692.5506156 , 1570.90358518]), 'pf_best_theta': -0.7138900028979309, 'pf_mean_pos': array([ 691.63896817, 1571.7095823 ]), 'pf_mean_theta': -0.7138898922931515}\n",
      "frame 220\n",
      "Number of point tracks before run() 99\n",
      "Number of extended tracks before run() 9\n"
     ]
    },
    {
     "name": "stderr",
     "output_type": "stream",
     "text": [
      "C:\\Users\\gadli\\old_pc\\Tau\\Thesis\\polynoms\\tracker.py:94: VisibleDeprecationWarning: Creating an ndarray from ragged nested sequences (which is a list-or-tuple of lists-or-tuples-or ndarrays with different lengths or shapes) is deprecated. If you meant to do this, you must specify 'dtype=object' when creating the ndarray\n",
      "  Ha = np.array([1, z[0], z[0]**2])\n",
      "C:\\Users\\gadli\\old_pc\\Tau\\Thesis\\polynoms\\tracker.py:117: RuntimeWarning: divide by zero encountered in double_scalars\n",
      "  ratio = np.sqrt(lp)/le\n"
     ]
    },
    {
     "name": "stdout",
     "output_type": "stream",
     "text": [
      "Updating extended object track =  4\n",
      "Updating extended object track =  5\n",
      "Updating extended object track =  0\n",
      "Updating extended object track =  4\n",
      "Updating extended object track =  6\n"
     ]
    },
    {
     "name": "stderr",
     "output_type": "stream",
     "text": [
      "C:\\Users\\gadli\\Anaconda3\\lib\\site-packages\\nuscenes\\map_expansion\\map_api.py:1823: ShapelyDeprecationWarning: Iteration over multi-part geometries is deprecated and will be removed in Shapely 2.0. Use the `geoms` property to access the constituent parts of a multi-part geometry.\n",
      "  exteriors = [int_coords(poly.exterior.coords) for poly in polygons]\n",
      "C:\\Users\\gadli\\Anaconda3\\lib\\site-packages\\nuscenes\\map_expansion\\map_api.py:1824: ShapelyDeprecationWarning: Iteration over multi-part geometries is deprecated and will be removed in Shapely 2.0. Use the `geoms` property to access the constituent parts of a multi-part geometry.\n",
      "  interiors = [int_coords(pi.coords) for poly in polygons for pi in poly.interiors]\n"
     ]
    },
    {
     "name": "stdout",
     "output_type": "stream",
     "text": [
      "{'pf_best_pos': array([ 693.5935559 , 1569.94893322]), 'pf_best_theta': -0.7130428842845973, 'pf_mean_pos': array([ 692.54564245, 1570.87948155]), 'pf_mean_theta': -0.7130427727997044}\n",
      "frame 221\n",
      "Number of point tracks before run() 99\n",
      "Number of extended tracks before run() 9\n"
     ]
    },
    {
     "name": "stderr",
     "output_type": "stream",
     "text": [
      "C:\\Users\\gadli\\old_pc\\Tau\\Thesis\\polynoms\\tracker.py:94: VisibleDeprecationWarning: Creating an ndarray from ragged nested sequences (which is a list-or-tuple of lists-or-tuples-or ndarrays with different lengths or shapes) is deprecated. If you meant to do this, you must specify 'dtype=object' when creating the ndarray\n",
      "  Ha = np.array([1, z[0], z[0]**2])\n",
      "C:\\Users\\gadli\\old_pc\\Tau\\Thesis\\polynoms\\tracker.py:117: RuntimeWarning: divide by zero encountered in double_scalars\n",
      "  ratio = np.sqrt(lp)/le\n"
     ]
    },
    {
     "name": "stdout",
     "output_type": "stream",
     "text": [
      "Updating extended object track =  4\n",
      "Updating extended object track =  2\n",
      "Updating extended object track =  5\n",
      "Updating extended object track =  4\n",
      "Updating extended object track =  6\n",
      "Updating extended object track =  2\n",
      "Updating extended object track =  4\n",
      "Updating extended object track =  5\n"
     ]
    },
    {
     "name": "stderr",
     "output_type": "stream",
     "text": [
      "C:\\Users\\gadli\\Anaconda3\\lib\\site-packages\\nuscenes\\map_expansion\\map_api.py:1823: ShapelyDeprecationWarning: Iteration over multi-part geometries is deprecated and will be removed in Shapely 2.0. Use the `geoms` property to access the constituent parts of a multi-part geometry.\n",
      "  exteriors = [int_coords(poly.exterior.coords) for poly in polygons]\n",
      "C:\\Users\\gadli\\Anaconda3\\lib\\site-packages\\nuscenes\\map_expansion\\map_api.py:1824: ShapelyDeprecationWarning: Iteration over multi-part geometries is deprecated and will be removed in Shapely 2.0. Use the `geoms` property to access the constituent parts of a multi-part geometry.\n",
      "  interiors = [int_coords(pi.coords) for poly in polygons for pi in poly.interiors]\n"
     ]
    },
    {
     "name": "stdout",
     "output_type": "stream",
     "text": [
      "{'pf_best_pos': array([ 693.59096884, 1569.94995272]), 'pf_best_theta': -0.7114673376621363, 'pf_mean_pos': array([ 693.10776479, 1570.3845558 ]), 'pf_mean_theta': -0.7114674914198482}\n",
      "frame 222\n",
      "Number of point tracks before run() 98\n",
      "Number of extended tracks before run() 10\n"
     ]
    },
    {
     "name": "stderr",
     "output_type": "stream",
     "text": [
      "C:\\Users\\gadli\\old_pc\\Tau\\Thesis\\polynoms\\tracker.py:94: VisibleDeprecationWarning: Creating an ndarray from ragged nested sequences (which is a list-or-tuple of lists-or-tuples-or ndarrays with different lengths or shapes) is deprecated. If you meant to do this, you must specify 'dtype=object' when creating the ndarray\n",
      "  Ha = np.array([1, z[0], z[0]**2])\n",
      "C:\\Users\\gadli\\old_pc\\Tau\\Thesis\\polynoms\\tracker.py:117: RuntimeWarning: divide by zero encountered in double_scalars\n",
      "  ratio = np.sqrt(lp)/le\n"
     ]
    },
    {
     "name": "stdout",
     "output_type": "stream",
     "text": [
      "Updating extended object track =  4\n",
      "Updating extended object track =  5\n",
      "Updating extended object track =  6\n",
      "Updating extended object track =  8\n",
      "Updating extended object track =  7\n",
      "Updating extended object track =  6\n",
      "Updating extended object track =  5\n",
      "Updating extended object track =  7\n",
      "Updating extended object track =  6\n"
     ]
    },
    {
     "name": "stderr",
     "output_type": "stream",
     "text": [
      "C:\\Users\\gadli\\Anaconda3\\lib\\site-packages\\nuscenes\\map_expansion\\map_api.py:1823: ShapelyDeprecationWarning: Iteration over multi-part geometries is deprecated and will be removed in Shapely 2.0. Use the `geoms` property to access the constituent parts of a multi-part geometry.\n",
      "  exteriors = [int_coords(poly.exterior.coords) for poly in polygons]\n",
      "C:\\Users\\gadli\\Anaconda3\\lib\\site-packages\\nuscenes\\map_expansion\\map_api.py:1824: ShapelyDeprecationWarning: Iteration over multi-part geometries is deprecated and will be removed in Shapely 2.0. Use the `geoms` property to access the constituent parts of a multi-part geometry.\n",
      "  interiors = [int_coords(pi.coords) for poly in polygons for pi in poly.interiors]\n"
     ]
    },
    {
     "name": "stdout",
     "output_type": "stream",
     "text": [
      "{'pf_best_pos': array([ 694.64925019, 1569.01791137]), 'pf_best_theta': -0.710930841520538, 'pf_mean_pos': array([ 693.89467709, 1569.67756193]), 'pf_mean_theta': -0.710930770018347}\n",
      "frame 223\n",
      "Number of point tracks before run() 105\n",
      "Number of extended tracks before run() 10\n"
     ]
    },
    {
     "name": "stderr",
     "output_type": "stream",
     "text": [
      "C:\\Users\\gadli\\old_pc\\Tau\\Thesis\\polynoms\\tracker.py:94: VisibleDeprecationWarning: Creating an ndarray from ragged nested sequences (which is a list-or-tuple of lists-or-tuples-or ndarrays with different lengths or shapes) is deprecated. If you meant to do this, you must specify 'dtype=object' when creating the ndarray\n",
      "  Ha = np.array([1, z[0], z[0]**2])\n",
      "C:\\Users\\gadli\\old_pc\\Tau\\Thesis\\polynoms\\tracker.py:117: RuntimeWarning: divide by zero encountered in double_scalars\n",
      "  ratio = np.sqrt(lp)/le\n"
     ]
    },
    {
     "name": "stdout",
     "output_type": "stream",
     "text": [
      "Updating extended object track =  2\n",
      "Updating extended object track =  6\n",
      "Updating extended object track =  5\n",
      "Updating extended object track =  4\n",
      "Updating extended object track =  6\n",
      "Updating extended object track =  9\n"
     ]
    },
    {
     "name": "stderr",
     "output_type": "stream",
     "text": [
      "C:\\Users\\gadli\\Anaconda3\\lib\\site-packages\\nuscenes\\map_expansion\\map_api.py:1823: ShapelyDeprecationWarning: Iteration over multi-part geometries is deprecated and will be removed in Shapely 2.0. Use the `geoms` property to access the constituent parts of a multi-part geometry.\n",
      "  exteriors = [int_coords(poly.exterior.coords) for poly in polygons]\n",
      "C:\\Users\\gadli\\Anaconda3\\lib\\site-packages\\nuscenes\\map_expansion\\map_api.py:1824: ShapelyDeprecationWarning: Iteration over multi-part geometries is deprecated and will be removed in Shapely 2.0. Use the `geoms` property to access the constituent parts of a multi-part geometry.\n",
      "  interiors = [int_coords(pi.coords) for poly in polygons for pi in poly.interiors]\n"
     ]
    },
    {
     "name": "stdout",
     "output_type": "stream",
     "text": [
      "{'pf_best_pos': array([ 694.62354215, 1569.02031141]), 'pf_best_theta': -0.7110305049254118, 'pf_mean_pos': array([ 694.42924952, 1569.19628365]), 'pf_mean_theta': -0.7110306525872251}\n",
      "frame 224\n",
      "Number of point tracks before run() 115\n",
      "Number of extended tracks before run() 9\n"
     ]
    },
    {
     "name": "stderr",
     "output_type": "stream",
     "text": [
      "C:\\Users\\gadli\\old_pc\\Tau\\Thesis\\polynoms\\tracker.py:94: VisibleDeprecationWarning: Creating an ndarray from ragged nested sequences (which is a list-or-tuple of lists-or-tuples-or ndarrays with different lengths or shapes) is deprecated. If you meant to do this, you must specify 'dtype=object' when creating the ndarray\n",
      "  Ha = np.array([1, z[0], z[0]**2])\n",
      "C:\\Users\\gadli\\old_pc\\Tau\\Thesis\\polynoms\\tracker.py:117: RuntimeWarning: divide by zero encountered in double_scalars\n",
      "  ratio = np.sqrt(lp)/le\n"
     ]
    },
    {
     "name": "stdout",
     "output_type": "stream",
     "text": [
      "Updating extended object track =  4\n",
      "Updating extended object track =  8\n",
      "Updating extended object track =  5\n",
      "Updating extended object track =  8\n",
      "Updating extended object track =  4\n",
      "Updating extended object track =  5\n",
      "Updating extended object track =  3\n",
      "Updating extended object track =  8\n"
     ]
    },
    {
     "name": "stderr",
     "output_type": "stream",
     "text": [
      "C:\\Users\\gadli\\Anaconda3\\lib\\site-packages\\nuscenes\\map_expansion\\map_api.py:1823: ShapelyDeprecationWarning: Iteration over multi-part geometries is deprecated and will be removed in Shapely 2.0. Use the `geoms` property to access the constituent parts of a multi-part geometry.\n",
      "  exteriors = [int_coords(poly.exterior.coords) for poly in polygons]\n",
      "C:\\Users\\gadli\\Anaconda3\\lib\\site-packages\\nuscenes\\map_expansion\\map_api.py:1824: ShapelyDeprecationWarning: Iteration over multi-part geometries is deprecated and will be removed in Shapely 2.0. Use the `geoms` property to access the constituent parts of a multi-part geometry.\n",
      "  interiors = [int_coords(pi.coords) for poly in polygons for pi in poly.interiors]\n"
     ]
    },
    {
     "name": "stdout",
     "output_type": "stream",
     "text": [
      "{'pf_best_pos': array([ 695.07742565, 1568.60748229]), 'pf_best_theta': -0.7106153173689087, 'pf_mean_pos': array([ 695.09972464, 1568.5895013 ]), 'pf_mean_theta': -0.710615463976999}\n"
     ]
    },
    {
     "data": {
      "image/png": "[encoded data removed]",
      "text/plain": [
       "<Figure size 2160x1008 with 4 Axes>"
      ]
     },
     "metadata": {},
     "output_type": "display_data"
    }
   ],
   "source": [
    "from tracker import Tracker\n",
    "model = Tracker()\n",
    "#sim = DynamicSimulation(model)\n",
    "scene = 0\n",
    "sim = NuscenesSimulation(model,scene=scene)\n",
    "sim.run(start=0, N=225, generate_video=True, video_with_priors=True, debug=False)"
   ]
  },
  {
   "cell_type": "code",
   "execution_count": 10,
   "metadata": {},
   "outputs": [],
   "source": [
    "sim.video.generate(name=f\"video\\scene6_wmap.avi\", fps=5)"
   ]
  },
  {
   "cell_type": "code",
   "execution_count": 4,
   "metadata": {},
   "outputs": [
    {
     "name": "stdout",
     "output_type": "stream",
     "text": [
      "scene_id={} scene_name={} map_name={} 6 scene-0916 singapore-queenstown\n",
      "{'r1': -1.3291973178027738, 't': 0.0, 'r2': -1.3291973178027736, 'trns': array([ 715.77897665, 1809.68089117,    0.        ])}\n",
      "{'r1': -1.355894387530094, 't': 0.022231505212692872, 'r2': -1.355464413557046, 'trns': array([ 715.83738214, 1809.41386164,    0.        ])}\n",
      "{'r1': -1.3822233875697483, 't': 0.0038424334246409363, 'r2': -1.385485979361766, 'trns': array([ 715.89491981, 1809.1069304 ,    0.        ])}\n",
      "{'r1': -1.4095271275151877, 't': 0.006769384668858184, 'r2': -1.4104003780876107, 'trns': array([ 715.94446175, 1808.80071103,    0.        ])}\n",
      "{'r1': -1.4370521643069134, 't': 0.04068699310478079, 'r2': -1.4354944783002601, 'trns': array([ 715.98057052, 1808.53546629,    0.        ])}\n",
      "{'r1': -1.4911470198755297, 't': 0.08352237929645873, 'r2': -1.4918080603984816, 'trns': array([ 716.02735613, 1807.94440109,    0.        ])}\n",
      "{'r1': -1.5178423249670225, 't': 0.13952710327588275, 'r2': -1.5161355350758263, 'trns': array([ 716.04190799, 1807.67845328,    0.        ])}\n",
      "{'r1': -1.5437558092026271, 't': 0.14369159079071658, 'r2': -1.5407112563503775, 'trns': array([ 716.05114039, 1807.37168061,    0.        ])}\n",
      "{'r1': -1.5704424765330014, 't': 0.1421998872174871, 'r2': -1.5672149724134536, 'trns': array([ 716.05226903, 1807.05654903,    0.        ])}\n",
      "{'r1': -1.5965103485452408, 't': 0.17351984229811213, 'r2': -1.5970696295064868, 'trns': array([ 716.04507334, 1806.78274062,    0.        ])}\n",
      "{'r1': -1.6227167132517064, 't': 0.17023002666860096, 'r2': -1.6250525832902132, 'trns': array([ 716.02824829, 1806.47294962,    0.        ])}\n",
      "{'r1': -1.6746723306098092, 't': 0.22965154313725142, 'r2': -1.672072642938773, 'trns': array([ 715.97281983, 1805.92753222,    0.        ])}\n",
      "{'r1': -1.7013869702953315, 't': 0.23403339322336006, 'r2': -1.7018349992982935, 'trns': array([ 715.93256973, 1805.62213472,    0.        ])}\n",
      "{'r1': -1.7275669392432969, 't': 0.22928029700654842, 'r2': -1.7297451205292402, 'trns': array([ 715.8832531 , 1805.31448815,    0.        ])}\n",
      "{'r1': -1.7530386315171358, 't': 0.2558179412353723, 'r2': -1.7500272559192378, 'trns': array([ 715.83553371, 1805.05110071,    0.        ])}\n",
      "{'r1': -1.803316115184042, 't': 0.27585587984348914, 'r2': -1.8022182729857237, 'trns': array([ 715.70071   , 1804.47895723,    0.        ])}\n",
      "{'r1': -1.8267156366876616, 't': 0.2654770397395143, 'r2': -1.8276974845767027, 'trns': array([ 715.62143814, 1804.17720955,    0.        ])}\n",
      "{'r1': -1.8500490346286698, 't': 0.2924919320960191, 'r2': -1.847110723785756, 'trns': array([ 715.5486888 , 1803.92066078,    0.        ])}\n",
      "{'r1': -1.8733728333210005, 't': 0.278745821818168, 'r2': -1.8704984675159497, 'trns': array([ 715.45447599, 1803.61577826,    0.        ])}\n",
      "{'r1': -1.8959961454637073, 't': 0.3194613264812009, 'r2': -1.8953548551021455, 'trns': array([ 715.36910921, 1803.36207606,    0.        ])}\n",
      "{'r1': -1.9177805162501071, 't': 0.3176721990972506, 'r2': -1.9177141516065217, 'trns': array([ 715.26278244, 1803.06801595,    0.        ])}\n",
      "{'r1': -1.9581889426518866, 't': 0.3194391982758145, 'r2': -1.954789076435318, 'trns': array([ 715.02821853, 1802.48752152,    0.        ])}\n",
      "{'r1': -1.9781542023626537, 't': 0.3399506472886247, 'r2': -1.977887499252079, 'trns': array([ 714.91465142, 1802.22413823,    0.        ])}\n",
      "{'r1': -1.998468816147125, 't': 0.3283676555569512, 'r2': -1.999083946573803, 'trns': array([ 714.77570649, 1801.91980402,    0.        ])}\n",
      "{'r1': -2.017476279608993, 't': 0.3502386608854863, 'r2': -2.013996865285669, 'trns': array([ 714.65113051, 1801.65737804,    0.        ])}\n",
      "{'r1': -2.0354041859994982, 't': 0.34648855437398485, 'r2': -2.0319897901244626, 'trns': array([ 714.50544301, 1801.36424214,    0.        ])}\n",
      "{'r1': -2.052663907659376, 't': 0.36838313663833294, 'r2': -2.0516773281585543, 'trns': array([ 714.36719526, 1801.09935065,    0.        ])}\n",
      "{'r1': -2.086838509517701, 't': 0.38945261835131384, 'r2': -2.083297124009728, 'trns': array([ 714.06101555, 1800.55558954,    0.        ])}\n",
      "{'r1': -2.102612835266819, 't': 0.3860490678108242, 'r2': -2.099210508251804, 'trns': array([ 713.89293133, 1800.2679112 ,    0.        ])}\n",
      "{'r1': -2.1168067226617917, 't': 0.41317020757231043, 'r2': -2.115146793240811, 'trns': array([ 713.74065384, 1800.01654158,    0.        ])}\n",
      "{'r1': -2.1294071061091477, 't': 0.41862379680199147, 'r2': -2.127368219902201, 'trns': array([ 713.56571879, 1799.73555414,    0.        ])}\n",
      "{'r1': -2.1425352296580424, 't': 0.4338022537791367, 'r2': -2.1411568336748585, 'trns': array([ 713.38562779, 1799.45496152,    0.        ])}\n",
      "{'r1': -2.165490398325509, 't': 0.4664115459424672, 'r2': -2.1661908345072827, 'trns': array([ 713.03267287, 1798.93424246,    0.        ])}\n",
      "{'r1': -2.176038275882168, 't': 0.45730149081496163, 'r2': -2.1754030493729375, 'trns': array([ 712.83483857, 1798.64808518,    0.        ])}\n",
      "{'r1': -2.1847606874176044, 't': 0.44587078040988043, 'r2': -2.183215096471872, 'trns': array([ 712.63056303, 1798.35748436,    0.        ])}\n",
      "{'r1': -2.191573737701725, 't': 0.46883548977072703, 'r2': -2.189114684994836, 'trns': array([ 712.44941621, 1798.10296508,    0.        ])}\n",
      "{'r1': -2.1965541351017315, 't': 0.46178085192237284, 'r2': -2.1959880081012306, 'trns': array([ 712.24207028, 1797.81582178,    0.        ])}\n",
      "{'r1': -2.2006243896137105, 't': 0.4921615230107599, 'r2': -2.200759968100536, 'trns': array([ 712.05911984, 1797.56500839,    0.        ])}\n",
      "{'r1': -2.209963411504111, 't': 0.5257829737263099, 'r2': -2.2101634020418937, 'trns': array([ 711.65798927, 1797.02590704,    0.        ])}\n",
      "{'r1': -2.2143309596839362, 't': 0.5534146003800688, 'r2': -2.215635191235232, 'trns': array([ 711.44986156, 1796.74938991,    0.        ])}\n",
      "{'r1': -2.2176854238373065, 't': 0.5751111459031499, 'r2': -2.219070295871318, 'trns': array([ 711.25891759, 1796.49749868,    0.        ])}\n",
      "{'r1': -2.221010842771026, 't': 0.5720665318178664, 'r2': -2.2228802143718074, 'trns': array([ 711.04070457, 1796.21185925,    0.        ])}\n",
      "{'r1': -2.224395338333216, 't': 0.6092710985697878, 'r2': -2.2269493596639798, 'trns': array([ 710.85272338, 1795.96782228,    0.        ])}\n",
      "{'r1': -2.2290022416316675, 't': 0.6084617583609264, 'r2': -2.2330679312902237, 'trns': array([ 710.63648555, 1795.69062372,    0.        ])}\n",
      "{'r1': -2.23777414934598, 't': 0.6814442539088398, 'r2': -2.2407308546940303, 'trns': array([ 710.21913743, 1795.1641099 ,    0.        ])}\n",
      "{'r1': -2.2415317589746726, 't': 0.7054292612613194, 'r2': -2.2439817605997177, 'trns': array([ 710.02757677, 1794.92406712,    0.        ])}\n",
      "{'r1': -2.245521888541397, 't': 0.7228279344883899, 'r2': -2.2485407249504954, 'trns': array([ 709.80631055, 1794.64938489,    0.        ])}\n",
      "{'r1': -2.249097720766552, 't': 0.7109741108254386, 'r2': -2.2526743252721286, 'trns': array([ 709.58130492, 1794.37238594,    0.        ])}\n",
      "{'r1': -2.2528125367514695, 't': 0.7172114374405624, 'r2': -2.256042667171496, 'trns': array([ 709.38180938, 1794.12845516,    0.        ])}\n",
      "{'r1': -2.2614245451462875, 't': 0.744312907007345, 'r2': -2.2657118966952536, 'trns': array([ 708.95940554, 1793.62194803,    0.        ])}\n",
      "{'r1': -2.2659691170475043, 't': 0.776452639534773, 'r2': -2.2697043884826655, 'trns': array([ 708.75662865, 1793.38075302,    0.        ])}\n",
      "{'r1': -2.2701232547999126, 't': 0.7722045046689494, 'r2': -2.2734064969057655, 'trns': array([ 708.52680125, 1793.10943189,    0.        ])}\n",
      "{'r1': -2.274637651945587, 't': 0.7866224383534443, 'r2': -2.2775062632514427, 'trns': array([ 708.29470576, 1792.83769552,    0.        ])}\n",
      "{'r1': -2.2794865088345393, 't': 0.805527899766098, 'r2': -2.2839094073875787, 'trns': array([ 708.09522098, 1792.6071253 ,    0.        ])}\n",
      "{'r1': -2.2845300752955495, 't': 0.8357800011161617, 'r2': -2.289166818292503, 'trns': array([ 707.88683038, 1792.36880204,    0.        ])}\n",
      "{'r1': -2.2963987030878474, 't': 0.8452551866122842, 'r2': -2.3000223715374957, 'trns': array([ 707.41404981, 1791.83977608,    0.        ])}\n",
      "{'r1': -2.30214579175186, 't': 0.8581349767091484, 'r2': -2.3075588262443434, 'trns': array([ 707.20604648, 1791.61052018,    0.        ])}\n",
      "{'r1': -2.308876698284904, 't': 0.878290759123637, 'r2': -2.3149315505590384, 'trns': array([ 706.9662756 , 1791.35014388,    0.        ])}\n",
      "{'r1': -2.3161873338164938, 't': 0.8898403407363404, 'r2': -2.3210328883233857, 'trns': array([ 706.75188366, 1791.12017354,    0.        ])}\n",
      "{'r1': -2.3237136626876858, 't': 0.9242609467042839, 'r2': -2.3277036657633206, 'trns': array([ 706.53681964, 1790.89255083,    0.        ])}\n",
      "{'r1': -2.3315948178014514, 't': 0.9134288009720214, 'r2': -2.3375134469036616, 'trns': array([ 706.29360382, 1790.64013584,    0.        ])}\n",
      "{'r1': -2.349164327099701, 't': 0.9625183676369514, 'r2': -2.3548058907307112, 'trns': array([ 705.84979004, 1790.19519232,    0.        ])}\n"
     ]
    },
    {
     "name": "stdout",
     "output_type": "stream",
     "text": [
      "{'r1': -2.359531868615938, 't': 1.0050026015719882, 'r2': -2.364019689254903, 'trns': array([ 705.64077612, 1789.98945551,    0.        ])}\n",
      "{'r1': -2.3701506474228635, 't': 1.0152634711172106, 'r2': -2.3779510951745295, 'trns': array([ 705.40267757, 1789.76151611,    0.        ])}\n",
      "{'r1': -2.381601335423931, 't': 1.0545287939620327, 'r2': -2.3886278351607118, 'trns': array([ 705.18927496, 1789.56155005,    0.        ])}\n",
      "{'r1': -2.394657400653028, 't': 1.0521718347779505, 'r2': -2.4009406722450453, 'trns': array([ 704.93993809, 1789.33363244,    0.        ])}\n",
      "{'r1': -2.420785357839346, 't': 1.1205356498558006, 'r2': -2.4267502731829733, 'trns': array([ 704.47389684, 1788.92923134,    0.        ])}\n",
      "{'r1': -2.433462642179755, 't': 1.1534153758252659, 'r2': -2.439077907774804, 'trns': array([ 704.24665135, 1788.73691774,    0.        ])}\n",
      "{'r1': -2.4471213188616754, 't': 1.1505538934428141, 'r2': -2.452070199949996, 'trns': array([ 703.9895227 , 1788.52498483,    0.        ])}\n",
      "{'r1': -2.4622810915662168, 't': 1.1581119189677345, 'r2': -2.4656071144327605, 'trns': array([ 703.73080237, 1788.31754129,    0.        ])}\n",
      "{'r1': -2.4776171230258686, 't': 1.1813425300310882, 'r2': -2.484429368452342, 'trns': array([ 703.50309141, 1788.14190229,    0.        ])}\n",
      "{'r1': -2.49465765106003, 't': 1.168621385937712, 'r2': -2.503460485852201, 'trns': array([ 703.23477583, 1787.94299492,    0.        ])}\n",
      "{'r1': -2.534371398095736, 't': 1.1851713228822238, 'r2': -2.536427564091366, 'trns': array([ 702.7172275 , 1787.58523884,    0.        ])}\n",
      "{'r1': -2.5547847870614073, 't': 1.2288437998511046, 'r2': -2.560103412636625, 'trns': array([ 702.49302518, 1787.43803427,    0.        ])}\n",
      "{'r1': -2.5761603337412886, 't': 1.2337587123081273, 'r2': -2.583051926408513, 'trns': array([ 702.22661817, 1787.2717614 ,    0.        ])}\n",
      "{'r1': -2.5987579335261985, 't': 1.2704079060071767, 'r2': -2.600964465614949, 'trns': array([ 701.99182171, 1787.13102883,    0.        ])}\n",
      "{'r1': -2.621032333113, 't': 1.263101868243831, 'r2': -2.621746076536178, 'trns': array([ 701.72118541, 1786.97642449,    0.        ])}\n",
      "{'r1': -2.645365850606249, 't': 1.2960658170729433, 'r2': -2.6502572486506266, 'trns': array([ 701.48595963, 1786.85084364,    0.        ])}\n",
      "{'r1': -2.697309807485878, 't': 1.3005513532014192, 'r2': -2.6979536286057133, 'trns': array([ 700.93398163, 1786.58951166,    0.        ])}\n",
      "{'r1': -2.7244955057026097, 't': 1.3169494722984032, 'r2': -2.723282812734668, 'trns': array([ 700.6729892 , 1786.47400221,    0.        ])}\n",
      "{'r1': -2.7525231526027816, 't': 1.3438136234180236, 'r2': -2.7558801614753925, 'trns': array([ 700.42359187, 1786.37330914,    0.        ])}\n",
      "{'r1': -2.78161263877829, 't': 1.3424314635344028, 'r2': -2.7851977844376696, 'trns': array([ 700.13122531, 1786.26523076,    0.        ])}\n",
      "{'r1': -2.809854694328301, 't': 1.3628648909903953, 'r2': -2.8075882436684667, 'trns': array([ 699.86979974, 1786.17523656,    0.        ])}\n",
      "{'r1': -2.866839180229364, 't': 1.3847432773231976, 'r2': -2.867974429255197, 'trns': array([ 699.31304917, 1786.02104437,    0.        ])}\n",
      "{'r1': -2.896133482205417, 't': 1.3727649676420792, 'r2': -2.8979815614759983, 'trns': array([ 699.01233562, 1785.9476447 ,    0.        ])}\n",
      "{'r1': -2.9254796909185647, 't': 1.3839479759621949, 'r2': -2.9197092040098376, 'trns': array([ 698.74190092, 1785.88813638,    0.        ])}\n",
      "{'r1': -2.954556618194372, 't': 1.3730177655688005, 'r2': -2.9488128190568883, 'trns': array([ 698.43755301, 1785.83080345,    0.        ])}\n",
      "{'r1': -2.98333621609555, 't': 1.387367966305361, 'r2': -2.9786869772175284, 'trns': array([ 698.17175929, 1785.78925771,    0.        ])}\n",
      "{'r1': -3.0127968193000325, 't': 1.3812287911367207, 'r2': -3.0084335498085046, 'trns': array([ 697.86383016, 1785.75113437,    0.        ])}\n",
      "{'r1': -3.073234992788104, 't': 1.3823114627203665, 'r2': -3.058538681803107, 'trns': array([ 697.27890338, 1785.71417678,    0.        ])}\n",
      "{'r1': -3.101003847032969, 't': 1.3947384735813018, 'r2': -3.0810972240096275, 'trns': array([ 697.00892981, 1785.70700291,    0.        ])}\n",
      "{'r1': 3.111174391029875, 't': 1.3939098755059454, 'r2': 3.0847395774455317, 'trns': array([ 696.69876009, 1785.71033294,    0.        ])}\n",
      "{'r1': 3.0891064060527125, 't': 1.4043345269417966, 'r2': 3.072355089284098, 'trns': array([ 696.42497875, 1785.72119868,    0.        ])}\n",
      "{'r1': 3.0552303667355782, 't': 1.4027244905117018, 'r2': 3.047515973660324, 'trns': array([ 696.11484457, 1785.74448046,    0.        ])}\n",
      "{'r1': 3.0178539933492643, 't': 1.4177744145142834, 'r2': 3.007969097720318, 'trns': array([ 695.84965483, 1785.77666474,    0.        ])}\n",
      "{'r1': 2.9386831675563525, 't': 1.4392278058962207, 'r2': 2.9316100802860503, 'trns': array([ 695.2363799 , 1785.90215236,    0.        ])}\n",
      "{'r1': 2.9032248976069597, 't': 1.4396436524866465, 'r2': 2.9065607329680234, 'trns': array([ 694.95338444, 1785.96766889,    0.        ])}\n",
      "{'r1': 2.8645668816448575, 't': 1.4452920654447166, 'r2': 2.861187539760653, 'trns': array([ 694.67264482, 1786.04655222,    0.        ])}\n",
      "{'r1': 2.8245861825617116, 't': 1.4488002644069293, 'r2': 2.821200069246287, 'trns': array([ 694.36052939, 1786.14817905,    0.        ])}\n",
      "{'r1': 2.785706231904512, 't': 1.4525071175853839, 'r2': 2.792108989515848, 'trns': array([ 694.08201556, 1786.24798773,    0.        ])}\n",
      "{'r1': 2.7114491636861926, 't': 1.4637731967933185, 'r2': 2.7172186549773607, 'trns': array([ 693.47653487, 1786.51848949,    0.        ])}\n",
      "{'r1': 2.6770817577871555, 't': 1.4669190983417681, 'r2': 2.6804042460931936, 'trns': array([ 693.21497835, 1786.6471881 ,    0.        ])}\n",
      "{'r1': 2.642849342240888, 't': 1.4700507362109696, 'r2': 2.6438801352752637, 'trns': array([ 692.91974655, 1786.80618693,    0.        ])}\n",
      "{'r1': 2.6095933059568974, 't': 1.471314562645752, 'r2': 2.6176513325641397, 'trns': array([ 692.64936149, 1786.96116693,    0.        ])}\n",
      "{'r1': 2.577316670240042, 't': 1.474210998449465, 'r2': 2.5841950075385505, 'trns': array([ 692.34581433, 1787.14902302,    0.        ])}\n",
      "{'r1': 2.5477879686081453, 't': 1.4730954865406418, 'r2': 2.5529218727404, 'trns': array([ 692.09256608, 1787.31702595,    0.        ])}\n",
      "{'r1': 2.495415933129903, 't': 1.4780914513829542, 'r2': 2.5050193964031244, 'trns': array([ 691.55307204, 1787.71380329,    0.        ])}\n",
      "{'r1': 2.4739845561947096, 't': 1.4795329159428465, 'r2': 2.482674725822074, 'trns': array([ 691.27430107, 1787.92871293,    0.        ])}\n",
      "{'r1': 2.456598387567133, 't': 1.4763216278758764, 'r2': 2.463690801914166, 'trns': array([ 691.03305278, 1788.12218406,    0.        ])}\n",
      "{'r1': 2.441583070126485, 't': 1.4798252483560022, 'r2': 2.447365122730682, 'trns': array([ 690.75832585, 1788.34998674,    0.        ])}\n",
      "{'r1': 2.4290346830663507, 't': 1.4737968265913477, 'r2': 2.436372075716148, 'trns': array([ 690.52156326, 1788.5507499 ,    0.        ])}\n",
      "{'r1': 2.408929226049769, 't': 1.471952793562087, 'r2': 2.413382245573829, 'trns': array([ 689.99275297, 1789.02048361,    0.        ])}\n",
      "{'r1': 2.401431211498125, 't': 1.4702142097594633, 'r2': 2.405348271144696, 'trns': array([ 689.71053631, 1789.2752889 ,    0.        ])}\n",
      "{'r1': 2.3958960927974773, 't': 1.4605646103721612, 'r2': 2.400616560836943, 'trns': array([ 689.4685793 , 1789.49584639,    0.        ])}\n",
      "{'r1': 2.392115157562711, 't': 1.4605561056054992, 'r2': 2.3955342987423687, 'trns': array([ 689.19167776, 1789.75090263,    0.        ])}\n",
      "{'r1': 2.388965061430121, 't': 1.4520019031514257, 'r2': 2.3914260019739144, 'trns': array([ 688.94977204, 1789.97561005,    0.        ])}\n",
      "{'r1': 2.3865856994584442, 't': 1.4477033938173782, 'r2': 2.388103759458252, 'trns': array([ 688.67398082, 1790.23350013,    0.        ])}\n",
      "{'r1': 2.3844657094075297, 't': 1.4394884678238116, 'r2': 2.3846636022098826, 'trns': array([ 688.15864722, 1790.71870959,    0.        ])}\n",
      "{'r1': 2.384513174378858, 't': 1.4354008937504388, 'r2': 2.383594450402777, 'trns': array([ 687.8821325 , 1790.97961097,    0.        ])}\n",
      "{'r1': 2.384483876485713, 't': 1.4289471324240006, 'r2': 2.3843013701170648, 'trns': array([ 687.64487604, 1791.20314655,    0.        ])}\n",
      "{'r1': 2.384199629076689, 't': 1.4299753540668434, 'r2': 2.3825124099169077, 'trns': array([ 687.35470644, 1791.47755894,    0.        ])}\n",
      "{'r1': 2.384332785442579, 't': 1.4276868933334912, 'r2': 2.381556048630019, 'trns': array([ 687.10078347, 1791.71816691,    0.        ])}\n",
      "{'r1': 2.3846045473170023, 't': 1.4290472209094325, 'r2': 2.381292600535118, 'trns': array([ 686.80841368, 1791.99538773,    0.        ])}\n",
      "{'r1': 2.384722578714879, 't': 1.4257060321020392, 'r2': 2.381821148843471, 'trns': array([ 686.25993804, 1792.51496244,    0.        ])}\n",
      "{'r1': 2.383878495912003, 't': 1.42058656289924, 'r2': 2.381560167383636, 'trns': array([ 686.0138022 , 1792.74824321,    0.        ])}\n",
      "{'r1': 2.3834052224511666, 't': 1.4187264085134512, 'r2': 2.381040260842381, 'trns': array([ 685.72090491, 1793.02606893,    0.        ])}\n",
      "{'r1': 2.3837487382941136, 't': 1.4159113422522147, 'r2': 2.380931744204141, 'trns': array([ 685.47064592, 1793.26343619,    0.        ])}\n",
      "{'r1': 2.384469419177786, 't': 1.4152114843934194, 'r2': 2.3814991000962706, 'trns': array([ 685.18516203, 1793.53395501,    0.        ])}\n",
      "{'r1': 2.384831095505773, 't': 1.4127562277202805, 'r2': 2.3825593687521414, 'trns': array([ 684.6367662 , 1794.05249718,    0.        ])}\n",
      "{'r1': 2.3858720987148985, 't': 1.4150522691139682, 'r2': 2.3823051765479475, 'trns': array([ 684.37990989, 1794.29554297,    0.        ])}\n",
      "{'r1': 2.3863834389681804, 't': 1.4140794406750863, 'r2': 2.3828247021244646, 'trns': array([ 684.06825511, 1794.59020403,    0.        ])}\n",
      "{'r1': 2.3865936946085844, 't': 1.4152827219984778, 'r2': 2.383772786925327, 'trns': array([ 683.76855284, 1794.87305713,    0.        ])}\n",
      "{'r1': 2.386936915458727, 't': 1.418393716824207, 'r2': 2.3844523130810913, 'trns': array([ 683.50025811, 1795.12597111,    0.        ])}\n",
      "{'r1': 2.3876645401456997, 't': 1.4150788951600353, 'r2': 2.385847040204795, 'trns': array([ 683.19119162, 1795.41653637,    0.        ])}\n",
      "{'r1': 2.3893376386368574, 't': 1.414738380793953, 'r2': 2.3873080467522274, 'trns': array([ 682.61747465, 1795.95423455,    0.        ])}\n",
      "{'r1': 2.3902084642962382, 't': 1.4204218790277636, 'r2': 2.388645326848772, 'trns': array([ 682.34484576, 1796.20907265,    0.        ])}\n",
      "{'r1': 2.3918036729790995, 't': 1.4182978054809103, 'r2': 2.390212551513052, 'trns': array([ 682.03757296, 1796.49540208,    0.        ])}\n"
     ]
    },
    {
     "name": "stdout",
     "output_type": "stream",
     "text": [
      "{'r1': 2.3933652033745787, 't': 1.4177728914097456, 'r2': 2.3908898405692063, 'trns': array([ 681.74088831, 1796.77147079,    0.        ])}\n",
      "{'r1': 2.3933644955718023, 't': 1.4248218366059746, 'r2': 2.390337662033602, 'trns': array([ 681.4574285 , 1797.03552883,    0.        ])}\n",
      "{'r1': 2.3914070830929335, 't': 1.4266891555370718, 'r2': 2.3889028853424468, 'trns': array([ 681.17431455, 1797.30000449,    0.        ])}\n",
      "{'r1': 2.390044702105315, 't': 1.432472829118198, 'r2': 2.386910938855638, 'trns': array([ 680.5712587 , 1797.86557615,    0.        ])}\n",
      "{'r1': 2.3883269967530616, 't': 1.4266662010293436, 'r2': 2.385130069082626, 'trns': array([ 680.23447683, 1798.18257221,    0.        ])}\n",
      "{'r1': 2.3866047357028726, 't': 1.4364181737721577, 'r2': 2.3822110415062436, 'trns': array([ 679.96118203, 1798.44134446,    0.        ])}\n",
      "{'r1': 2.3850125064068433, 't': 1.4349469817549367, 'r2': 2.380339367797469, 'trns': array([ 679.64230453, 1798.74435544,    0.        ])}\n",
      "{'r1': 2.3832882495678493, 't': 1.4454536290194686, 'r2': 2.3796518956256545, 'trns': array([ 679.36295406, 1799.01015996,    0.        ])}\n",
      "{'r1': 2.379625014465102, 't': 1.4431190469787882, 'r2': 2.376795580036757, 'trns': array([ 678.72010123, 1799.62532365,    0.        ])}\n",
      "{'r1': 2.37804893025328, 't': 1.4381058573594223, 'r2': 2.3755248427644204, 'trns': array([ 678.40149319, 1799.93101305,    0.        ])}\n",
      "{'r1': 2.376623457270683, 't': 1.4477553120754665, 'r2': 2.3758444736408357, 'trns': array([ 678.11927894, 1800.20162543,    0.        ])}\n",
      "{'r1': 2.3744215324538467, 't': 1.4561171591858897, 'r2': 2.374500224364116, 'trns': array([ 677.83942549, 1800.47069117,    0.        ])}\n",
      "{'r1': 2.372295673273969, 't': 1.4437550259169034, 'r2': 2.3729603107760298, 'trns': array([ 677.5057387 , 1800.79255888,    0.        ])}\n",
      "{'r1': 2.3706591447133603, 't': 1.434368534680055, 'r2': 2.3718455907606346, 'trns': array([ 677.17067764, 1801.11648646,    0.        ])}\n",
      "{'r1': 2.369159715550179, 't': 1.450614538565372, 'r2': 2.369718128011913, 'trns': array([ 676.58287146, 1801.68720621,    0.        ])}\n",
      "{'r1': 2.3681120710924635, 't': 1.4541077593640273, 'r2': 2.3684243334861246, 'trns': array([ 676.28764162, 1801.97459357,    0.        ])}\n",
      "{'r1': 2.367338251329344, 't': 1.4521076552822887, 'r2': 2.366829630284046, 'trns': array([ 675.95774844, 1802.29672954,    0.        ])}\n",
      "{'r1': 2.3664835475159003, 't': 1.4484770603169121, 'r2': 2.366131948995974, 'trns': array([ 675.62478152, 1802.62231249,    0.        ])}\n",
      "{'r1': 2.3654501053189616, 't': 1.4619401234724498, 'r2': 2.3653476428009164, 'trns': array([ 675.33318661, 1802.90788271,    0.        ])}\n",
      "{'r1': 2.3646522783912487, 't': 1.4598156328451513, 'r2': 2.3641045303343287, 'trns': array([ 675.00286103, 1803.23220416,    0.        ])}\n",
      "{'r1': 2.362706759057957, 't': 1.4697018038981753, 'r2': 2.3618082361044612, 'trns': array([ 674.38567308, 1803.8409473 ,    0.        ])}\n",
      "{'r1': 2.361848196036289, 't': 1.4880074225656985, 'r2': 2.360672875985709, 'trns': array([ 674.08718719, 1804.13602161,    0.        ])}\n",
      "{'r1': 2.361268949096221, 't': 1.4888764817398037, 'r2': 2.3586594199619726, 'trns': array([ 673.7588602 , 1804.46190377,    0.        ])}\n",
      "{'r1': 2.3605229874956337, 't': 1.4883582317631676, 'r2': 2.3578865590313756, 'trns': array([ 673.42875712, 1804.7900686 ,    0.        ])}\n",
      "{'r1': 2.3595879054810918, 't': 1.4893117114065648, 'r2': 2.3575774542393138, 'trns': array([ 673.11251854, 1805.10466828,    0.        ])}\n",
      "{'r1': 2.3579927284420323, 't': 1.5108209599205076, 'r2': 2.3563769210076555, 'trns': array([ 672.5176649, 1805.6978635,    0.       ])}\n",
      "{'r1': 2.357421001294597, 't': 1.5025999212678718, 'r2': 2.355592626487273, 'trns': array([ 672.18865539, 1806.02649266,    0.        ])}\n",
      "{'r1': 2.3567126259313826, 't': 1.5203979969933439, 'r2': 2.3557433191088926, 'trns': array([ 671.8972592 , 1806.31749135,    0.        ])}\n",
      "{'r1': 2.356432223625161, 't': 1.5436853207849939, 'r2': 2.3565005608856504, 'trns': array([ 671.61056874, 1806.60338452,    0.        ])}\n",
      "{'r1': 2.356033578499689, 't': 1.536337396554402, 'r2': 2.3562653011315238, 'trns': array([ 671.28589181, 1806.9273484 ,    0.        ])}\n",
      "{'r1': 2.3558058268417175, 't': 1.5277343524695959, 'r2': 2.355398915228943, 'trns': array([ 670.95391682, 1807.25917527,    0.        ])}\n",
      "{'r1': 2.3547817824615316, 't': 1.532666088632439, 'r2': 2.354646380340674, 'trns': array([ 670.33094307, 1807.88282414,    0.        ])}\n",
      "{'r1': 2.3541572049092334, 't': 1.5543766651443074, 'r2': 2.3540285829507352, 'trns': array([ 670.04714726, 1808.16728826,    0.        ])}\n",
      "{'r1': 2.353243952769922, 't': 1.5658571096767224, 'r2': 2.353582519468385, 'trns': array([ 669.7176363 , 1808.49788179,    0.        ])}\n",
      "{'r1': 2.353288150084275, 't': 1.5588576940763643, 'r2': 2.3530036560890033, 'trns': array([ 669.38863784, 1808.82833793,    0.        ])}\n",
      "{'r1': 2.352567723298897, 't': 1.5719522206285974, 'r2': 2.3527591788834843, 'trns': array([ 669.09644439, 1809.12196075,    0.        ])}\n",
      "{'r1': 2.352871732587901, 't': 1.6015415309134031, 'r2': 2.3523129816505013, 'trns': array([ 668.82597528, 1809.39398625,    0.        ])}\n",
      "{'r1': 2.3529701631840476, 't': 1.594497565845221, 'r2': 2.352337845365758, 'trns': array([ 668.2002951 , 1810.02321013,    0.        ])}\n",
      "{'r1': 2.3535423050735176, 't': 1.618362332731882, 'r2': 2.3529338509000586, 'trns': array([ 667.92272238, 1810.30201829,    0.        ])}\n",
      "{'r1': 2.3547287062584648, 't': 1.6480016120299652, 'r2': 2.3543227664876514, 'trns': array([ 667.65528197, 1810.56988341,    0.        ])}\n",
      "{'r1': 2.356644017519787, 't': 1.6358443746668612, 'r2': 2.355790846784239, 'trns': array([ 667.33795847, 1810.88677679,    0.        ])}\n",
      "{'r1': 2.3590384063336334, 't': 1.622558274434878, 'r2': 2.3578179437191418, 'trns': array([ 667.02319474, 1811.19982443,    0.        ])}\n",
      "{'r1': 2.365092377924335, 't': 1.6423905265580063, 'r2': 2.3627830992885697, 'trns': array([ 666.45724277, 1811.7570394 ,    0.        ])}\n",
      "{'r1': 2.3686786652751577, 't': 1.671499249888278, 'r2': 2.366470630029555, 'trns': array([ 666.19773892, 1812.01063492,    0.        ])}\n",
      "{'r1': 2.3728929592793557, 't': 1.6792353175192074, 'r2': 2.3704478381015246, 'trns': array([ 665.8909005 , 1812.30806908,    0.        ])}\n",
      "{'r1': 2.3760329343121382, 't': 1.6780149719147084, 'r2': 2.3740483808160593, 'trns': array([ 665.62138036, 1812.56745138,    0.        ])}\n",
      "{'r1': 2.381713453544, 't': 1.69399594967949, 'r2': 2.3801065758026048, 'trns': array([ 665.33672342, 1812.8381031 ,    0.        ])}\n",
      "{'r1': 2.3885742261720977, 't': 1.6931698200077616, 'r2': 2.3881383678664934, 'trns': array([ 665.04546187, 1813.11059829,    0.        ])}\n",
      "{'r1': 2.4031074310533027, 't': 1.7062240202140118, 'r2': 2.401138326553853, 'trns': array([ 664.5252827 , 1813.58473459,    0.        ])}\n",
      "{'r1': 2.412439653432303, 't': 1.7083080193613902, 'r2': 2.410907804440096, 'trns': array([ 664.22879204, 1813.84968377,    0.        ])}\n",
      "{'r1': 2.4221876248541894, 't': 1.6973157849097738, 'r2': 2.4216732847706797, 'trns': array([ 663.94615888, 1814.09675614,    0.        ])}\n",
      "{'r1': 2.4329971302364335, 't': 1.7190291504014976, 'r2': 2.4312171028601064, 'trns': array([ 663.69447077, 1814.31253983,    0.        ])}\n",
      "{'r1': 2.44343023739204, 't': 1.7044738540416484, 'r2': 2.439704497356044, 'trns': array([ 663.4064556 , 1814.55523008,    0.        ])}\n",
      "{'r1': 2.4669464882999206, 't': 1.7320752805311306, 'r2': 2.4672357042036013, 'trns': array([ 662.88665384, 1814.96928169,    0.        ])}\n",
      "{'r1': 2.48132990188253, 't': 1.7661593353268976, 'r2': 2.480232108264963, 'trns': array([ 662.64094533, 1815.15982863,    0.        ])}\n",
      "{'r1': 2.496062862478252, 't': 1.7647796601221373, 'r2': 2.4936712912508936, 'trns': array([ 662.35689382, 1815.37400554,    0.        ])}\n",
      "{'r1': 2.5118595991020074, 't': 1.791316011996019, 'r2': 2.5075913661459426, 'trns': array([ 662.10664035, 1815.55722606,    0.        ])}\n",
      "{'r1': 2.527656928538556, 't': 1.7772705956615813, 'r2': 2.5268118840176284, 'trns': array([ 661.81484007, 1815.76230164,    0.        ])}\n",
      "{'r1': 2.543629051986036, 't': 1.7745775218779358, 'r2': 2.542291449260629, 'trns': array([ 661.56126023, 1815.93463142,    0.        ])}\n",
      "{'r1': 2.581516318237173, 't': 1.8066909783751433, 'r2': 2.5756994741621977, 'trns': array([ 661.03015322, 1816.27005565,    0.        ])}\n"
     ]
    },
    {
     "name": "stdout",
     "output_type": "stream",
     "text": [
      "{'r1': 2.6007304416586443, 't': 1.7934280156123883, 'r2': 2.5992800163672567, 'trns': array([ 660.74527554, 1816.44070312,    0.        ])}\n",
      "{'r1': 2.6192471912411364, 't': 1.7862612167967769, 'r2': 2.618301225541001, 'trns': array([ 660.4926833 , 1816.58554733,    0.        ])}\n",
      "{'r1': 2.639440257630092, 't': 1.7958110954684572, 'r2': 2.634680568348806, 'trns': array([ 660.23608429, 1816.72717556,    0.        ])}\n",
      "{'r1': 2.659934045378356, 't': 1.7630125533668604, 'r2': 2.657455100457145, 'trns': array([ 659.94262236, 1816.88054987,    0.        ])}\n",
      "{'r1': 2.6815937664853777, 't': 1.7611118977145357, 'r2': 2.681470332743433, 'trns': array([ 659.68432475, 1817.00772669,    0.        ])}\n",
      "{'r1': 2.727311522963439, 't': 1.7513542748574324, 'r2': 2.7252055001993387, 'trns': array([ 659.14611404, 1817.24411824,    0.        ])}\n",
      "{'r1': 2.7511376795208955, 't': 1.7510076486738564, 'r2': 2.751540415798998, 'trns': array([ 658.86168697, 1817.36022088,    0.        ])}\n",
      "{'r1': 2.7767622773045475, 't': 1.7693870595665302, 'r2': 2.780495062056605, 'trns': array([ 658.60547428, 1817.45625885,    0.        ])}\n",
      "{'r1': 2.8050224720063137, 't': 1.7576723206609746, 'r2': 2.81130384779534, 'trns': array([ 658.31378364, 1817.55548814,    0.        ])}\n",
      "{'r1': 2.8331443213586307, 't': 1.7675113432358394, 'r2': 2.8351335144732905, 'trns': array([ 658.04985123, 1817.6383151 ,    0.        ])}\n",
      "{'r1': 2.8621061816751516, 't': 1.7525743217612766, 'r2': 2.8664392757724366, 'trns': array([ 657.75403966, 1817.72099765,    0.        ])}\n",
      "{'r1': 2.9204643300742386, 't': 1.736862763730374, 'r2': 2.932311355420992, 'trns': array([ 657.18406585, 1817.84010584,    0.        ])}\n",
      "{'r1': 2.9504480568474323, 't': 1.7432164573287863, 'r2': 2.957859037437783, 'trns': array([ 656.91209744, 1817.88965054,    0.        ])}\n",
      "{'r1': 2.980309336263948, 't': 1.7205443834763752, 'r2': 2.991512598839484, 'trns': array([ 656.60611   , 1817.93462396,    0.        ])}\n",
      "{'r1': 3.0072462706800343, 't': 1.739286039681555, 'r2': 3.0231360362744084, 'trns': array([ 656.33872643, 1817.96503083,    0.        ])}\n",
      "{'r1': 3.0300397121241818, 't': 1.7132010309762589, 'r2': 3.0542546138016444, 'trns': array([ 656.02921954, 1817.98995636,    0.        ])}\n",
      "{'r1': 3.060775363548628, 't': 1.740589755925795, 'r2': 3.1025451159480877, 'trns': array([ 655.48486979, 1817.99997645,    0.        ])}\n",
      "{'r1': -3.0600962354736883, 't': 1.7221895019832163, 'r2': -3.1041048628113797, 'trns': array([ 655.19657359, 1817.99517341,    0.        ])}\n",
      "{'r1': -3.0480530464080475, 't': 1.7516558857295423, 'r2': -3.085414982588172, 'trns': array([ 654.94496975, 1817.98380593,    0.        ])}\n",
      "{'r1': -3.028417082756252, 't': 1.7439673149331516, 'r2': -3.0600025998199665, 'trns': array([ 654.66033146, 1817.96270015,    0.        ])}\n",
      "{'r1': -3.003801406182719, 't': 1.7590301127588144, 'r2': -3.030267335882227, 'trns': array([ 654.40606441, 1817.93570663,    0.        ])}\n",
      "{'r1': -2.9772334026690292, 't': 1.7372602819831642, 'r2': -2.9963718808643334, 'trns': array([ 654.12069159, 1817.89514968,    0.        ])}\n",
      "{'r1': -2.921177119463032, 't': 1.72794755256821, 'r2': -2.9401828177467793, 'trns': array([ 653.59113848, 1817.7886349 ,    0.        ])}\n",
      "{'r1': -2.89128787210343, 't': 1.7048554461986112, 'r2': -2.90984009168661, 'trns': array([ 653.30825431, 1817.72258775,    0.        ])}\n",
      "{'r1': -2.861181941405651, 't': 1.7202377587504405, 'r2': -2.874738696482718, 'trns': array([ 653.06586562, 1817.65684786,    0.        ])}\n",
      "{'r1': -2.831277867085669, 't': 1.6976463261242432, 'r2': -2.842547738257428, 'trns': array([ 652.78253408, 1817.57006421,    0.        ])}\n",
      "{'r1': -2.8023378968164585, 't': 1.721445131878255, 'r2': -2.8189920246717386, 'trns': array([ 652.54839566, 1817.49226583,    0.        ])}\n",
      "{'r1': -1.5062993966693485, 't': 197.8237269346734, 'r2': -2.777089751401912, 'trns': array([ 652.1762381, 1817.3511087,    0.       ])}\n"
     ]
    },
    {
     "data": {
      "text/plain": [
       "<matplotlib.collections.PathCollection at 0x16ab17dad30>"
      ]
     },
     "execution_count": 4,
     "metadata": {},
     "output_type": "execute_result"
    },
    {
     "data": {
      "image/png": "[encoded data removed]",
      "text/plain": [
       "<Figure size 720x360 with 1 Axes>"
      ]
     },
     "metadata": {},
     "output_type": "display_data"
    }
   ],
   "source": [
    "\n",
    "directory = r\"C:\\Users\\gadli\\old_pc\\Tau\\Thesis\\nuScenes\\v1.0-mini\"\n",
    "scene = 6\n",
    "dataset = NuscenesDataset(directory=directory,scene=scene)\n",
    "N = 225\n",
    "gt = np.zeros((N, 2))\n",
    "imu = np.zeros((N, 2))\n",
    "for t in range(0,225):\n",
    "    trns, rot = dataset.getEgoInfo(dataset.first_idx + t, GT=True)\n",
    "    gt[t, :] = trns[0:2]\n",
    "    trns1, rot1 = dataset.getEgoInfo(dataset.first_idx + t, GT=False)\n",
    "    imu[t, :] = trns1[0:2]\n",
    "    odom = dataset.getOdometry()\n",
    "    print(odom)\n",
    "    \n",
    "fig, ax = plt.subplots(1,figsize=(10,5))\n",
    "ax.set_title(\"GT vs. IMU trajectory\", fontsize=20)\n",
    "ax.scatter(gt[:, 0],gt[:, 1],color='blue',s=1)\n",
    "ax.scatter(imu[:, 0],imu[:, 1],color='red',s=1)"
   ]
  },
  {
   "cell_type": "code",
   "execution_count": 28,
   "metadata": {},
   "outputs": [
    {
     "data": {
      "text/plain": [
       "(46, 1)"
      ]
     },
     "execution_count": 28,
     "metadata": {},
     "output_type": "execute_result"
    }
   ],
   "source": [
    "a = np.zeros((46,46,1))\n",
    "a.shape[1:]"
   ]
  },
  {
   "cell_type": "code",
   "execution_count": 4,
   "metadata": {},
   "outputs": [
    {
     "ename": "AttributeError",
     "evalue": "type object 'Quaternion' has no attribute 'Inverse'",
     "output_type": "error",
     "traceback": [
      "\u001b[1;31m---------------------------------------------------------------------------\u001b[0m",
      "\u001b[1;31mAttributeError\u001b[0m                            Traceback (most recent call last)",
      "\u001b[1;32m<ipython-input-4-bc1e91fad367>\u001b[0m in \u001b[0;36m<module>\u001b[1;34m\u001b[0m\n\u001b[0;32m      1\u001b[0m \u001b[1;32mfrom\u001b[0m \u001b[0mpyquaternion\u001b[0m \u001b[1;32mimport\u001b[0m \u001b[0mQuaternion\u001b[0m\u001b[1;33m\u001b[0m\u001b[1;33m\u001b[0m\u001b[0m\n\u001b[0;32m      2\u001b[0m \u001b[1;33m\u001b[0m\u001b[0m\n\u001b[1;32m----> 3\u001b[1;33m \u001b[0mQuaternion\u001b[0m\u001b[1;33m.\u001b[0m\u001b[0mInverse\u001b[0m\u001b[1;33m(\u001b[0m\u001b[1;33m)\u001b[0m\u001b[1;33m\u001b[0m\u001b[1;33m\u001b[0m\u001b[0m\n\u001b[0m",
      "\u001b[1;31mAttributeError\u001b[0m: type object 'Quaternion' has no attribute 'Inverse'"
     ]
    }
   ],
   "source": [
    "from pyquaternion import Quaternion\n",
    "\n",
    "Quaternion.Inverse()"
   ]
  },
  {
   "cell_type": "code",
   "execution_count": null,
   "metadata": {},
   "outputs": [],
   "source": []
  }
 ],
 "metadata": {
  "kernelspec": {
   "display_name": "Python 3",
   "language": "python",
   "name": "python3"
  },
  "language_info": {
   "codemirror_mode": {
    "name": "ipython",
    "version": 3
   },
   "file_extension": ".py",
   "mimetype": "text/x-python",
   "name": "python",
   "nbconvert_exporter": "python",
   "pygments_lexer": "ipython3",
   "version": "3.7.1"
  }
 },
 "nbformat": 4,
 "nbformat_minor": 4
}
