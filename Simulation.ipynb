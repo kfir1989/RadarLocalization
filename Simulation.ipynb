{
 "cells": [
  {
   "cell_type": "code",
   "execution_count": 1,
   "metadata": {},
   "outputs": [],
   "source": [
    "from nuscenes.nuscenes import NuScenes\n",
    "directory = r\"/home/kfir/workspace/nuScenes/v1.0-trainval\"\n",
    "nusc = NuScenes(version=\"v1.0-trainval\", dataroot=directory, verbose=False)"
   ]
  },
  {
   "cell_type": "code",
   "execution_count": 2,
   "metadata": {},
   "outputs": [],
   "source": [
    "%load_ext autoreload\n",
    "%autoreload 2\n",
    "from dataset import *\n",
    "from MapMatching import MapMatching\n",
    "import copy\n",
    "from tracker import StaticTracker\n",
    "from dynamic_tracker import ClassicDBSCAN, DynamicTracker\n",
    "from simulation import NuscenesSimulation"
   ]
  },
  {
   "cell_type": "code",
   "execution_count": 3,
   "metadata": {},
   "outputs": [],
   "source": [
    "class RadarLocalizer():\n",
    "    def __init__(self, **kwargs):\n",
    "        self.static_tracker = StaticTracker()\n",
    "        self.cluster_model = ClassicDBSCAN()\n",
    "        self.dynamic_tracker = DynamicTracker()\n",
    "        self.map_matching = MapMatching(N=200)\n",
    "        self.mm = kwargs.pop('mm', False)\n",
    "        self.estimated_relative_pos = np.array([0,0])\n",
    "        \n",
    "    def runDynamicTracker(self, dw, video_data, first_world_ref, imu_relative_ref):\n",
    "        heading = np.deg2rad(video_data[\"heading_imu\"]-90)\n",
    "        Z, X = self.cluster_model.run(pc=dw, ego=video_data[\"pos_imu\"], heading=heading) # Z in radar coordinates\n",
    "        self.dynamic_tracker.run(Z, video_data[\"timestamp\"], {\"heading\": heading, \"T\": video_data[\"pos_imu\"]}, video_data[\"veh_speed\"])\n",
    "    \n",
    "        return self.dynamic_tracker.getTracks(), {\"Z\": Z, \"X\": X}\n",
    "    \n",
    "    def runStaticTracker(self, zw, covw, prior, video_data, first_world_ref, imu_relative_ref):\n",
    "        #translate measurements and priors relative to the first position [floating point precision reasons]\n",
    "        zw = self.translateMeasurements(zw, first_world_ref)\n",
    "        prior_list = self.getPriorList(prior, first_world_ref[0:2] - imu_relative_ref + self.estimated_relative_pos)\n",
    "        #run static tracker\n",
    "        points, polynoms = self.static_tracker.run(zw,covw,prior_list)\n",
    "        print(\"video_data[pos]\", video_data[\"pos\"])\n",
    "        points, polynoms = self.translateOutput(points, polynoms, -1*video_data[\"pos\"][0:2] + imu_relative_ref) #output from ego(GT) prespective\n",
    "        \n",
    "        return points, polynoms, self.static_tracker.getDebugInfo()\n",
    "        \n",
    "    def runMapMatching(self, video_data, first_world_ref, imu_relative_ref, nusc_map):\n",
    "        if self.mm:\n",
    "            extended_tracks = self.static_tracker.getExtendedTracks()\n",
    "            imu_relative_ref_3d = np.array([imu_relative_ref[0], imu_relative_ref[1], np.deg2rad(video_data[\"heading_imu\"]-90)])\n",
    "            self.map_matching.run(extended_tracks, nusc_map, first_world_ref, imu_relative_ref_3d)\n",
    "            gt_relative_pos = np.array([video_data[\"pos\"][0] - first_world_ref[0], video_data[\"pos\"][1] - first_world_ref[1], video_data[\"pos\"][2]]) \n",
    "            mm_results = self.map_matching.getResults(extended_tracks, gt_relative_pos)\n",
    "            mm_results[\"pf_best_pos\"] += first_world_ref[0:2]\n",
    "            mm_results[\"pf_mean_pos\"] += first_world_ref[0:2]\n",
    "            \n",
    "            return mm_results\n",
    "        \n",
    "    def translatePolynom(self, c, xstart, xend, pos):\n",
    "        x = np.array([xstart, 0.5*(xstart+xend), xend])\n",
    "        x_trns = x - pos[0]\n",
    "        y = np.array([c[0]*x[0]**2+c[1]*x[0]+c[2], c[0]*x[1]**2+c[1]*x[1]+c[2], c[0]*x[2]**2+c[1]*x[2]+c[2]])\n",
    "        y_trns = y - pos[1]\n",
    "        A = [[x_trns[0]**2, x_trns[0], 1],[x_trns[1]**2, x_trns[1], 1],[x_trns[2]**2, x_trns[2], 1]]\n",
    "        c = np.linalg.inv(A).dot(y_trns)\n",
    "        \n",
    "        return c\n",
    "    \n",
    "    def getPriorList(self, prior, translation):            \n",
    "        lanes = copy.deepcopy(prior)\n",
    "        lanes = self.translatePrior(translation, lanes)\n",
    "\n",
    "        prior_list = []\n",
    "        for lane in lanes:\n",
    "            (a0,a1,a2) = lane[\"poly\"].c[2], lane[\"poly\"].c[1], lane[\"poly\"].c[0]\n",
    "            prior_list.append({\"c\": (a0,a1,a2), \"xmin\": np.min(lane[\"x\"]), \"xmax\": np.max(lane[\"x\"])})\n",
    "            \n",
    "        return prior_list\n",
    "        \n",
    "    def translatePrior(self, pos, prior):\n",
    "        for pr in prior:\n",
    "            min_x = np.min(pr[\"x\"])\n",
    "            max_x = np.max(pr[\"x\"])\n",
    "            c = self.translatePolynom(pr[\"poly\"].c, min_x, max_x, pos)\n",
    "            pr[\"poly\"] = np.poly1d(c)\n",
    "            pr[\"x\"] -= pos[0]\n",
    "        \n",
    "        return prior\n",
    "    \n",
    "    def translateMeasurements(self, zw, pos):\n",
    "        return zw - pos\n",
    "        \n",
    "    def translateOutput(self, points, polynoms, pos):\n",
    "        points = points - pos\n",
    "        for polynom in polynoms:\n",
    "            c = self.translatePolynom(polynom[\"f\"].c, polynom[\"x_start\"], polynom[\"x_end\"], pos)\n",
    "            polynom[\"f\"] = np.poly1d(c)\n",
    "            polynom[\"x_start\"] -= pos[0]\n",
    "            polynom[\"x_end\"] -= pos[0]\n",
    "        \n",
    "        return points, polynoms\n",
    "    \n",
    "    def run(self, static_data, dynamic_data, video_data, prior, first_world_ref, nusc_map):\n",
    "        #run static tracker\n",
    "        imu_relative_ref = video_data[\"pos_imu\"][0:2]-first_world_ref\n",
    "        points, polynoms, debug_info = self.runStaticTracker(static_data[\"zw\"], static_data[\"covw\"], prior, video_data, first_world_ref, imu_relative_ref)\n",
    "        #run dynamic tracker\n",
    "        dynamic_tracks, dynamic_clusters = self.runDynamicTracker(dynamic_data[\"dw\"], video_data, first_world_ref, imu_relative_ref)\n",
    "        #Run map-matching\n",
    "        mm_results = self.runMapMatching(video_data, first_world_ref, imu_relative_ref, nusc_map)\n",
    "        self.estimated_relative_pos = mm_results[\"pf_mean_pos\"] - first_world_ref\n",
    "        return points, polynoms, dynamic_tracks, dynamic_clusters, debug_info, mm_results"
   ]
  },
  {
   "cell_type": "code",
   "execution_count": null,
   "metadata": {
    "scrolled": true
   },
   "outputs": [
    {
     "name": "stdout",
     "output_type": "stream",
     "text": [
      "scene_id=690 scene_name=scene-0904 map_name=boston-seaport\n"
     ]
    },
    {
     "name": "stderr",
     "output_type": "stream",
     "text": [
      "/home/kfir/workspace/RadarLocalization/dataset.py:306: VisibleDeprecationWarning: Creating an ndarray from ragged nested sequences (which is a list-or-tuple of lists-or-tuples-or ndarrays with different lengths or shapes) is deprecated. If you meant to do this, you must specify 'dtype=object' when creating the ndarray\n",
      "  rot_imu = np.array([(m['utime'], m['q']) for m in self.imu])\n"
     ]
    },
    {
     "name": "stdout",
     "output_type": "stream",
     "text": [
      "odom_speed [[1.53729795e+15 9.00000000e+00]\n",
      " [1.53729795e+15 9.00000000e+00]\n",
      " [1.53729795e+15 9.00000000e+00]\n",
      " ...\n",
      " [1.53729811e+15 3.70000000e+01]\n",
      " [1.53729811e+15 3.70000000e+01]\n",
      " [1.53729811e+15 3.70000000e+01]]\n"
     ]
    },
    {
     "name": "stderr",
     "output_type": "stream",
     "text": [
      "No handles with labels found to put in legend.\n",
      "No handles with labels found to put in legend.\n",
      "No handles with labels found to put in legend.\n",
      "No handles with labels found to put in legend.\n",
      "No handles with labels found to put in legend.\n",
      "/home/kfir/workspace/RadarLocalization/dataset.py:256: VisibleDeprecationWarning: Creating an ndarray from ragged nested sequences (which is a list-or-tuple of lists-or-tuples-or ndarrays with different lengths or shapes) is deprecated. If you meant to do this, you must specify 'dtype=object' when creating the ndarray\n",
      "  veh_speed = np.array([(m['utime'], m['vel']) for m in self.veh_pose])\n",
      "/home/kfir/workspace/RadarLocalization/dataset.py:261: VisibleDeprecationWarning: Creating an ndarray from ragged nested sequences (which is a list-or-tuple of lists-or-tuples-or ndarrays with different lengths or shapes) is deprecated. If you meant to do this, you must specify 'dtype=object' when creating the ndarray\n",
      "  rot_imu = np.array([(m['utime'], m['q']) for m in self.imu])\n"
     ]
    },
    {
     "name": "stdout",
     "output_type": "stream",
     "text": [
      "frame 0\n",
      "Number of point tracks before run() 0\n",
      "Number of extended tracks before run() 0\n",
      "video_data[pos] [1114.93531372 1589.04348036    0.        ]\n",
      "frame_idx = 1\n",
      "Number of new plots 2\n",
      "Number of dynamic tracks before run() 0\n",
      "trk.kf.x = [[7.62498588]\n",
      " [2.67594329]\n",
      " [1.17947535]\n",
      " [0.41392983]] age = 1 hits = 1\n",
      "trk.kf.x = [[7.62498588]\n",
      " [2.67594329]\n",
      " [1.17947535]\n",
      " [0.41392983]] age = 1 hits = 1\n",
      "last_output [0. 0.]\n"
     ]
    },
    {
     "name": "stderr",
     "output_type": "stream",
     "text": [
      "/home/kfir/.local/lib/python3.6/site-packages/nuscenes/map_expansion/map_api.py:1823: ShapelyDeprecationWarning: Iteration over multi-part geometries is deprecated and will be removed in Shapely 2.0. Use the `geoms` property to access the constituent parts of a multi-part geometry.\n",
      "  exteriors = [int_coords(poly.exterior.coords) for poly in polygons]\n",
      "/home/kfir/.local/lib/python3.6/site-packages/nuscenes/map_expansion/map_api.py:1824: ShapelyDeprecationWarning: Iteration over multi-part geometries is deprecated and will be removed in Shapely 2.0. Use the `geoms` property to access the constituent parts of a multi-part geometry.\n",
      "  interiors = [int_coords(pi.coords) for poly in polygons for pi in poly.interiors]\n"
     ]
    },
    {
     "name": "stdout",
     "output_type": "stream",
     "text": [
      "xlim [1122.5960584670038, 1205.0298324517128] self.first_pos[0] 1114.935313715233\n",
      "len(unique_polynoms) 0\n"
     ]
    },
    {
     "name": "stderr",
     "output_type": "stream",
     "text": [
      "No handles with labels found to put in legend.\n"
     ]
    },
    {
     "name": "stdout",
     "output_type": "stream",
     "text": [
      "frame 1\n"
     ]
    },
    {
     "name": "stderr",
     "output_type": "stream",
     "text": [
      "/home/kfir/workspace/RadarLocalization/dataset.py:256: VisibleDeprecationWarning: Creating an ndarray from ragged nested sequences (which is a list-or-tuple of lists-or-tuples-or ndarrays with different lengths or shapes) is deprecated. If you meant to do this, you must specify 'dtype=object' when creating the ndarray\n",
      "  veh_speed = np.array([(m['utime'], m['vel']) for m in self.veh_pose])\n",
      "/home/kfir/workspace/RadarLocalization/dataset.py:261: VisibleDeprecationWarning: Creating an ndarray from ragged nested sequences (which is a list-or-tuple of lists-or-tuples-or ndarrays with different lengths or shapes) is deprecated. If you meant to do this, you must specify 'dtype=object' when creating the ndarray\n",
      "  rot_imu = np.array([(m['utime'], m['q']) for m in self.imu])\n"
     ]
    },
    {
     "name": "stdout",
     "output_type": "stream",
     "text": [
      "Number of point tracks before run() 45\n",
      "Number of extended tracks before run() 0\n"
     ]
    },
    {
     "name": "stderr",
     "output_type": "stream",
     "text": [
      "/home/kfir/workspace/RadarLocalization/tracker.py:120: RuntimeWarning: divide by zero encountered in double_scalars\n",
      "  ratio = np.sqrt(lp)/le\n"
     ]
    },
    {
     "name": "stdout",
     "output_type": "stream",
     "text": [
      "created an extended object! [ 5.89225009e+00 -1.07880763e+00  4.75946526e-03  3.69680995e+01\n",
      "  5.33584103e+01] static_cars_flag True\n",
      "video_data[pos] [1115.11507448 1588.94254053    0.        ]\n",
      "frame_idx = 2\n",
      "Number of new plots 1\n",
      "Number of dynamic tracks before run() 2\n",
      "trk.kf.x = [[7.71119535]\n",
      " [2.70302666]\n",
      " [1.12827676]\n",
      " [0.41333999]] age = 2 hits = 1\n",
      "trk.kf.x = [[7.71119535]\n",
      " [2.70302666]\n",
      " [1.12827676]\n",
      " [0.41333999]] age = 2 hits = 1\n",
      "trk.kf.x = [[19.62315315]\n",
      " [ 2.2714462 ]\n",
      " [ 1.98673432]\n",
      " [ 0.2299712 ]] age = 1 hits = 1\n",
      "last_output [0.01028087 0.01485066]\n"
     ]
    },
    {
     "name": "stderr",
     "output_type": "stream",
     "text": [
      "/home/kfir/.local/lib/python3.6/site-packages/nuscenes/map_expansion/map_api.py:1823: ShapelyDeprecationWarning: Iteration over multi-part geometries is deprecated and will be removed in Shapely 2.0. Use the `geoms` property to access the constituent parts of a multi-part geometry.\n",
      "  exteriors = [int_coords(poly.exterior.coords) for poly in polygons]\n",
      "/home/kfir/.local/lib/python3.6/site-packages/nuscenes/map_expansion/map_api.py:1824: ShapelyDeprecationWarning: Iteration over multi-part geometries is deprecated and will be removed in Shapely 2.0. Use the `geoms` property to access the constituent parts of a multi-part geometry.\n",
      "  interiors = [int_coords(pi.coords) for poly in polygons for pi in poly.interiors]\n"
     ]
    },
    {
     "name": "stdout",
     "output_type": "stream",
     "text": [
      "xlim [1119.3484809377017, 1205.0298324517128] self.first_pos[0] 1114.935313715233\n",
      "len(unique_polynoms) 0\n",
      "n_polynoms 1 cost_true [3.453257379903904] cost_mean [1.3478427214828974]\n",
      "frame 2\n"
     ]
    },
    {
     "name": "stderr",
     "output_type": "stream",
     "text": [
      "/home/kfir/workspace/RadarLocalization/dataset.py:256: VisibleDeprecationWarning: Creating an ndarray from ragged nested sequences (which is a list-or-tuple of lists-or-tuples-or ndarrays with different lengths or shapes) is deprecated. If you meant to do this, you must specify 'dtype=object' when creating the ndarray\n",
      "  veh_speed = np.array([(m['utime'], m['vel']) for m in self.veh_pose])\n",
      "/home/kfir/workspace/RadarLocalization/dataset.py:261: VisibleDeprecationWarning: Creating an ndarray from ragged nested sequences (which is a list-or-tuple of lists-or-tuples-or ndarrays with different lengths or shapes) is deprecated. If you meant to do this, you must specify 'dtype=object' when creating the ndarray\n",
      "  rot_imu = np.array([(m['utime'], m['q']) for m in self.imu])\n"
     ]
    },
    {
     "name": "stdout",
     "output_type": "stream",
     "text": [
      "Number of point tracks before run() 61\n",
      "Number of extended tracks before run() 1\n"
     ]
    },
    {
     "name": "stderr",
     "output_type": "stream",
     "text": [
      "/home/kfir/workspace/RadarLocalization/tracker.py:96: VisibleDeprecationWarning: Creating an ndarray from ragged nested sequences (which is a list-or-tuple of lists-or-tuples-or ndarrays with different lengths or shapes) is deprecated. If you meant to do this, you must specify 'dtype=object' when creating the ndarray\n",
      "  Ha = np.array([1, z[0], z[0]**2])\n",
      "/home/kfir/workspace/RadarLocalization/tracker.py:120: RuntimeWarning: divide by zero encountered in double_scalars\n",
      "  ratio = np.sqrt(lp)/le\n"
     ]
    },
    {
     "name": "stdout",
     "output_type": "stream",
     "text": [
      "video_data[pos] [1115.29705166 1588.84075007    0.        ]\n",
      "frame_idx = 3\n",
      "Number of new plots 2\n",
      "Number of dynamic tracks before run() 3\n",
      "trk.kf.x = [[7.790556  ]\n",
      " [2.73384205]\n",
      " [1.05779826]\n",
      " [0.41331665]] age = 3 hits = 1\n",
      "trk.kf.x = [[7.790556  ]\n",
      " [2.73384205]\n",
      " [1.05779826]\n",
      " [0.41331665]] age = 3 hits = 1\n",
      "trk.kf.x = [[19.84295851]\n",
      " [ 2.32041895]\n",
      " [ 2.01191468]\n",
      " [ 0.24145128]] age = 2 hits = 2\n",
      "trk.kf.x = [[ 18.9445605 ]\n",
      " [-14.97486368]\n",
      " [  2.15739529]\n",
      " [ -1.70532858]] age = 1 hits = 1\n",
      "last_output [ 0.21054137 -0.10074053]\n"
     ]
    },
    {
     "name": "stderr",
     "output_type": "stream",
     "text": [
      "/home/kfir/.local/lib/python3.6/site-packages/nuscenes/map_expansion/map_api.py:1823: ShapelyDeprecationWarning: Iteration over multi-part geometries is deprecated and will be removed in Shapely 2.0. Use the `geoms` property to access the constituent parts of a multi-part geometry.\n",
      "  exteriors = [int_coords(poly.exterior.coords) for poly in polygons]\n",
      "/home/kfir/.local/lib/python3.6/site-packages/nuscenes/map_expansion/map_api.py:1824: ShapelyDeprecationWarning: Iteration over multi-part geometries is deprecated and will be removed in Shapely 2.0. Use the `geoms` property to access the constituent parts of a multi-part geometry.\n",
      "  interiors = [int_coords(pi.coords) for poly in polygons for pi in poly.interiors]\n"
     ]
    },
    {
     "name": "stdout",
     "output_type": "stream",
     "text": [
      "xlim [1118.8456230627937, 1205.0298324517128] self.first_pos[0] 1114.935313715233\n",
      "len(unique_polynoms) 0\n",
      "n_polynoms 1 cost_true [3.2645734596731013] cost_mean [1.3515411277347065]\n",
      "frame 3\n"
     ]
    },
    {
     "name": "stderr",
     "output_type": "stream",
     "text": [
      "/home/kfir/workspace/RadarLocalization/dataset.py:256: VisibleDeprecationWarning: Creating an ndarray from ragged nested sequences (which is a list-or-tuple of lists-or-tuples-or ndarrays with different lengths or shapes) is deprecated. If you meant to do this, you must specify 'dtype=object' when creating the ndarray\n",
      "  veh_speed = np.array([(m['utime'], m['vel']) for m in self.veh_pose])\n",
      "/home/kfir/workspace/RadarLocalization/dataset.py:261: VisibleDeprecationWarning: Creating an ndarray from ragged nested sequences (which is a list-or-tuple of lists-or-tuples-or ndarrays with different lengths or shapes) is deprecated. If you meant to do this, you must specify 'dtype=object' when creating the ndarray\n",
      "  rot_imu = np.array([(m['utime'], m['q']) for m in self.imu])\n"
     ]
    },
    {
     "name": "stdout",
     "output_type": "stream",
     "text": [
      "Number of point tracks before run() 79\n",
      "Number of extended tracks before run() 1\n",
      "Updating extended object track =  0\n",
      "Updating extended object track =  0\n",
      "Updating extended object track =  0\n",
      "Updating extended object track =  0\n",
      "Updating extended object track =  0\n",
      "Updating extended object track =  0\n",
      "Updating extended object track =  0\n",
      "Updating extended object track =  0\n"
     ]
    },
    {
     "name": "stderr",
     "output_type": "stream",
     "text": [
      "/home/kfir/workspace/RadarLocalization/tracker.py:96: VisibleDeprecationWarning: Creating an ndarray from ragged nested sequences (which is a list-or-tuple of lists-or-tuples-or ndarrays with different lengths or shapes) is deprecated. If you meant to do this, you must specify 'dtype=object' when creating the ndarray\n",
      "  Ha = np.array([1, z[0], z[0]**2])\n",
      "/home/kfir/workspace/RadarLocalization/tracker.py:120: RuntimeWarning: divide by zero encountered in double_scalars\n",
      "  ratio = np.sqrt(lp)/le\n"
     ]
    },
    {
     "name": "stdout",
     "output_type": "stream",
     "text": [
      "video_data[pos] [1115.49526454 1588.72898093    0.        ]\n",
      "frame_idx = 4\n",
      "Number of new plots 2\n",
      "Number of dynamic tracks before run() 4\n",
      "trk.kf.x = [[7.86524816]\n",
      " [2.76302485]\n",
      " [0.98823634]\n",
      " [0.41309108]] age = 4 hits = 1\n",
      "trk.kf.x = [[7.86524816]\n",
      " [2.76302485]\n",
      " [0.98823634]\n",
      " [0.41309108]] age = 4 hits = 1\n",
      "trk.kf.x = [[19.98906406]\n",
      " [ 2.33395298]\n",
      " [ 1.94231351]\n",
      " [ 0.24100793]] age = 3 hits = 2\n",
      "trk.kf.x = [[ 19.09758863]\n",
      " [-15.10703776]\n",
      " [  2.08734973]\n",
      " [ -1.70580509]] age = 2 hits = 1\n",
      "trk.kf.x = [[9.85640329]\n",
      " [9.66544544]\n",
      " [1.24948139]\n",
      " [1.22527395]] age = 1 hits = 1\n",
      "trk.kf.x = [[20.54856659]\n",
      " [ 0.58394886]\n",
      " [ 2.99878936]\n",
      " [ 0.08521955]] age = 1 hits = 1\n",
      "last_output [ 0.40004292 -0.21325144]\n"
     ]
    },
    {
     "name": "stderr",
     "output_type": "stream",
     "text": [
      "/home/kfir/.local/lib/python3.6/site-packages/nuscenes/map_expansion/map_api.py:1823: ShapelyDeprecationWarning: Iteration over multi-part geometries is deprecated and will be removed in Shapely 2.0. Use the `geoms` property to access the constituent parts of a multi-part geometry.\n",
      "  exteriors = [int_coords(poly.exterior.coords) for poly in polygons]\n",
      "/home/kfir/.local/lib/python3.6/site-packages/nuscenes/map_expansion/map_api.py:1824: ShapelyDeprecationWarning: Iteration over multi-part geometries is deprecated and will be removed in Shapely 2.0. Use the `geoms` property to access the constituent parts of a multi-part geometry.\n",
      "  interiors = [int_coords(pi.coords) for poly in polygons for pi in poly.interiors]\n"
     ]
    },
    {
     "name": "stdout",
     "output_type": "stream",
     "text": [
      "xlim [1118.5894775523313, 1205.0298324517128] self.first_pos[0] 1114.935313715233\n",
      "len(unique_polynoms) 1\n",
      "n_polynoms 1 cost_true [4.273943393947602] cost_mean [1.8063689051698466]\n",
      "frame 4\n"
     ]
    },
    {
     "name": "stderr",
     "output_type": "stream",
     "text": [
      "/home/kfir/workspace/RadarLocalization/dataset.py:256: VisibleDeprecationWarning: Creating an ndarray from ragged nested sequences (which is a list-or-tuple of lists-or-tuples-or ndarrays with different lengths or shapes) is deprecated. If you meant to do this, you must specify 'dtype=object' when creating the ndarray\n",
      "  veh_speed = np.array([(m['utime'], m['vel']) for m in self.veh_pose])\n",
      "/home/kfir/workspace/RadarLocalization/dataset.py:261: VisibleDeprecationWarning: Creating an ndarray from ragged nested sequences (which is a list-or-tuple of lists-or-tuples-or ndarrays with different lengths or shapes) is deprecated. If you meant to do this, you must specify 'dtype=object' when creating the ndarray\n",
      "  rot_imu = np.array([(m['utime'], m['q']) for m in self.imu])\n"
     ]
    },
    {
     "name": "stdout",
     "output_type": "stream",
     "text": [
      "Number of point tracks before run() 89\n",
      "Number of extended tracks before run() 1\n",
      "Updating extended object track =  0\n",
      "Updating extended object track =  0\n",
      "Updating extended object track =  0\n",
      "Updating extended object track =  0\n",
      "Updating extended object track =  0\n"
     ]
    },
    {
     "name": "stderr",
     "output_type": "stream",
     "text": [
      "/home/kfir/workspace/RadarLocalization/tracker.py:96: VisibleDeprecationWarning: Creating an ndarray from ragged nested sequences (which is a list-or-tuple of lists-or-tuples-or ndarrays with different lengths or shapes) is deprecated. If you meant to do this, you must specify 'dtype=object' when creating the ndarray\n",
      "  Ha = np.array([1, z[0], z[0]**2])\n",
      "/home/kfir/workspace/RadarLocalization/tracker.py:120: RuntimeWarning: divide by zero encountered in double_scalars\n",
      "  ratio = np.sqrt(lp)/le\n"
     ]
    },
    {
     "name": "stdout",
     "output_type": "stream",
     "text": [
      "Tracks are similar! do not open a new trk (0.8373928807050899, -0.8464994861568061, 0.009680788591780985) (0.0, -0.6251028300674177, -0.0007622677274035345)\n",
      "video_data[pos] [1115.70495316 1588.6101875     0.        ]\n",
      "frame_idx = 5\n",
      "Number of new plots 1\n",
      "Number of dynamic tracks before run() 6\n",
      "trk.kf.x = [[7.93534393]\n",
      " [2.79141011]\n",
      " [0.92190699]\n",
      " [0.41278722]] age = 5 hits = 1\n",
      "trk.kf.x = [[7.93534393]\n",
      " [2.79141011]\n",
      " [0.92190699]\n",
      " [0.41278722]] age = 5 hits = 1\n",
      "trk.kf.x = [[20.13061316]\n",
      " [ 2.34540416]\n",
      " [ 1.87592738]\n",
      " [ 0.24038958]] age = 4 hits = 2\n",
      "trk.kf.x = [[ 19.24422495]\n",
      " [-15.24139589]\n",
      " [  2.02032187]\n",
      " [ -1.70647114]] age = 3 hits = 1\n",
      "trk.kf.x = [[9.94839968]\n",
      " [9.7541186 ]\n",
      " [1.18341975]\n",
      " [1.22488393]] age = 2 hits = 1\n",
      "trk.kf.x = [[20.62216759]\n",
      " [ 0.44272923]\n",
      " [ 3.04002674]\n",
      " [ 0.08465312]] age = 2 hits = 2\n",
      "last_output [ 0.58552168 -0.32089515]\n"
     ]
    },
    {
     "name": "stderr",
     "output_type": "stream",
     "text": [
      "/home/kfir/.local/lib/python3.6/site-packages/nuscenes/map_expansion/map_api.py:1823: ShapelyDeprecationWarning: Iteration over multi-part geometries is deprecated and will be removed in Shapely 2.0. Use the `geoms` property to access the constituent parts of a multi-part geometry.\n",
      "  exteriors = [int_coords(poly.exterior.coords) for poly in polygons]\n",
      "/home/kfir/.local/lib/python3.6/site-packages/nuscenes/map_expansion/map_api.py:1824: ShapelyDeprecationWarning: Iteration over multi-part geometries is deprecated and will be removed in Shapely 2.0. Use the `geoms` property to access the constituent parts of a multi-part geometry.\n",
      "  interiors = [int_coords(pi.coords) for poly in polygons for pi in poly.interiors]\n"
     ]
    },
    {
     "name": "stdout",
     "output_type": "stream",
     "text": [
      "xlim [1118.5894775523313, 1205.041446459925] self.first_pos[0] 1114.935313715233\n",
      "len(unique_polynoms) 1\n",
      "n_polynoms 1 cost_true [5.944657653707355] cost_mean [2.7676661070369266]\n",
      "frame 5\n"
     ]
    },
    {
     "name": "stderr",
     "output_type": "stream",
     "text": [
      "/home/kfir/workspace/RadarLocalization/dataset.py:256: VisibleDeprecationWarning: Creating an ndarray from ragged nested sequences (which is a list-or-tuple of lists-or-tuples-or ndarrays with different lengths or shapes) is deprecated. If you meant to do this, you must specify 'dtype=object' when creating the ndarray\n",
      "  veh_speed = np.array([(m['utime'], m['vel']) for m in self.veh_pose])\n",
      "/home/kfir/workspace/RadarLocalization/dataset.py:261: VisibleDeprecationWarning: Creating an ndarray from ragged nested sequences (which is a list-or-tuple of lists-or-tuples-or ndarrays with different lengths or shapes) is deprecated. If you meant to do this, you must specify 'dtype=object' when creating the ndarray\n",
      "  rot_imu = np.array([(m['utime'], m['q']) for m in self.imu])\n"
     ]
    },
    {
     "name": "stdout",
     "output_type": "stream",
     "text": [
      "Number of point tracks before run() 94\n",
      "Number of extended tracks before run() 1\n",
      "Updating extended object track =  0\n"
     ]
    },
    {
     "name": "stderr",
     "output_type": "stream",
     "text": [
      "/home/kfir/workspace/RadarLocalization/tracker.py:96: VisibleDeprecationWarning: Creating an ndarray from ragged nested sequences (which is a list-or-tuple of lists-or-tuples-or ndarrays with different lengths or shapes) is deprecated. If you meant to do this, you must specify 'dtype=object' when creating the ndarray\n",
      "  Ha = np.array([1, z[0], z[0]**2])\n",
      "/home/kfir/workspace/RadarLocalization/tracker.py:120: RuntimeWarning: divide by zero encountered in double_scalars\n",
      "  ratio = np.sqrt(lp)/le\n"
     ]
    },
    {
     "name": "stdout",
     "output_type": "stream",
     "text": [
      "video_data[pos] [1115.90972548 1588.49370469    0.        ]\n",
      "frame_idx = 6\n",
      "Number of new plots 2\n",
      "Number of dynamic tracks before run() 6\n",
      "trk.kf.x = [[8.00165662]\n",
      " [2.81999318]\n",
      " [0.8736101 ]\n",
      " [0.41252944]] age = 6 hits = 1\n",
      "trk.kf.x = [[8.00165662]\n",
      " [2.81999318]\n",
      " [0.8736101 ]\n",
      " [0.41252944]] age = 6 hits = 1\n",
      "trk.kf.x = [[20.26830707]\n",
      " [ 2.35744377]\n",
      " [ 1.82757958]\n",
      " [ 0.23985028]] age = 5 hits = 2\n",
      "trk.kf.x = [[ 19.38751047]\n",
      " [-15.3750416 ]\n",
      " [  1.97139956]\n",
      " [ -1.70705296]] age = 4 hits = 1\n",
      "trk.kf.x = [[10.03638895]\n",
      " [ 9.84297955]\n",
      " [ 1.13536249]\n",
      " [ 1.22454894]] age = 3 hits = 1\n",
      "trk.kf.x = [[21.12158953]\n",
      " [ 0.3811342 ]\n",
      " [ 2.99847393]\n",
      " [ 0.0805817 ]] age = 3 hits = 3\n",
      "trk.kf.x = [[11.22276851]\n",
      " [ 2.25971825]\n",
      " [ 1.47048766]\n",
      " [ 0.2960845 ]] age = 1 hits = 1\n",
      "last_output [ 0.80954264 -0.44686529]\n"
     ]
    },
    {
     "name": "stderr",
     "output_type": "stream",
     "text": [
      "/home/kfir/.local/lib/python3.6/site-packages/nuscenes/map_expansion/map_api.py:1823: ShapelyDeprecationWarning: Iteration over multi-part geometries is deprecated and will be removed in Shapely 2.0. Use the `geoms` property to access the constituent parts of a multi-part geometry.\n",
      "  exteriors = [int_coords(poly.exterior.coords) for poly in polygons]\n",
      "/home/kfir/.local/lib/python3.6/site-packages/nuscenes/map_expansion/map_api.py:1824: ShapelyDeprecationWarning: Iteration over multi-part geometries is deprecated and will be removed in Shapely 2.0. Use the `geoms` property to access the constituent parts of a multi-part geometry.\n",
      "  interiors = [int_coords(pi.coords) for poly in polygons for pi in poly.interiors]\n"
     ]
    },
    {
     "name": "stdout",
     "output_type": "stream",
     "text": [
      "xlim [1118.5894775523313, 1205.0932127932058] self.first_pos[0] 1114.935313715233\n",
      "len(unique_polynoms) 1\n",
      "n_polynoms 1 cost_true [6.210445843742879] cost_mean [2.8903422442079534]\n",
      "frame 6\n"
     ]
    },
    {
     "name": "stderr",
     "output_type": "stream",
     "text": [
      "/home/kfir/workspace/RadarLocalization/dataset.py:256: VisibleDeprecationWarning: Creating an ndarray from ragged nested sequences (which is a list-or-tuple of lists-or-tuples-or ndarrays with different lengths or shapes) is deprecated. If you meant to do this, you must specify 'dtype=object' when creating the ndarray\n",
      "  veh_speed = np.array([(m['utime'], m['vel']) for m in self.veh_pose])\n",
      "/home/kfir/workspace/RadarLocalization/dataset.py:261: VisibleDeprecationWarning: Creating an ndarray from ragged nested sequences (which is a list-or-tuple of lists-or-tuples-or ndarrays with different lengths or shapes) is deprecated. If you meant to do this, you must specify 'dtype=object' when creating the ndarray\n",
      "  rot_imu = np.array([(m['utime'], m['q']) for m in self.imu])\n"
     ]
    },
    {
     "name": "stdout",
     "output_type": "stream",
     "text": [
      "Number of point tracks before run() 111\n",
      "Number of extended tracks before run() 1\n",
      "Updating extended object track =  0\n",
      "Updating extended object track =  0\n",
      "Updating extended object track =  0\n",
      "Updating extended object track =  0\n"
     ]
    },
    {
     "name": "stderr",
     "output_type": "stream",
     "text": [
      "/home/kfir/workspace/RadarLocalization/tracker.py:96: VisibleDeprecationWarning: Creating an ndarray from ragged nested sequences (which is a list-or-tuple of lists-or-tuples-or ndarrays with different lengths or shapes) is deprecated. If you meant to do this, you must specify 'dtype=object' when creating the ndarray\n",
      "  Ha = np.array([1, z[0], z[0]**2])\n",
      "/home/kfir/workspace/RadarLocalization/tracker.py:120: RuntimeWarning: divide by zero encountered in double_scalars\n",
      "  ratio = np.sqrt(lp)/le\n"
     ]
    },
    {
     "name": "stdout",
     "output_type": "stream",
     "text": [
      "video_data[pos] [1116.34017475 1588.2474085     0.        ]\n",
      "frame_idx = 7\n",
      "Number of new plots 2\n",
      "Number of dynamic tracks before run() 7\n",
      "trk.kf.x = [[8.40755879]\n",
      " [2.61208036]\n",
      " [1.25323259]\n",
      " [0.53837225]] age = 7 hits = 2\n",
      "trk.kf.x = [[8.11569459]\n",
      " [2.87585073]\n",
      " [0.74601406]\n",
      " [0.411974  ]] age = 7 hits = 1\n",
      "trk.kf.x = [[20.52512192]\n",
      " [ 2.37814929]\n",
      " [ 1.69985468]\n",
      " [ 0.23858448]] age = 6 hits = 2\n",
      "trk.kf.x = [[ 19.65248307]\n",
      " [-15.64582601]\n",
      " [  1.84222477]\n",
      " [ -1.70842533]] age = 5 hits = 1\n",
      "trk.kf.x = [[10.19502325]\n",
      " [10.01913496]\n",
      " [ 1.00837108]\n",
      " [ 1.22379836]] age = 4 hits = 1\n",
      "trk.kf.x = [[21.82695411]\n",
      " [ 0.52499411]\n",
      " [ 2.69760098]\n",
      " [ 0.09658782]] age = 4 hits = 4\n",
      "trk.kf.x = [[11.42593739]\n",
      " [ 2.29563785]\n",
      " [ 1.34280474]\n",
      " [ 0.29508461]] age = 2 hits = 1\n",
      "last_output [ 1.01151453 -0.56635652]\n"
     ]
    },
    {
     "name": "stderr",
     "output_type": "stream",
     "text": [
      "/home/kfir/.local/lib/python3.6/site-packages/nuscenes/map_expansion/map_api.py:1823: ShapelyDeprecationWarning: Iteration over multi-part geometries is deprecated and will be removed in Shapely 2.0. Use the `geoms` property to access the constituent parts of a multi-part geometry.\n",
      "  exteriors = [int_coords(poly.exterior.coords) for poly in polygons]\n",
      "/home/kfir/.local/lib/python3.6/site-packages/nuscenes/map_expansion/map_api.py:1824: ShapelyDeprecationWarning: Iteration over multi-part geometries is deprecated and will be removed in Shapely 2.0. Use the `geoms` property to access the constituent parts of a multi-part geometry.\n",
      "  interiors = [int_coords(pi.coords) for poly in polygons for pi in poly.interiors]\n"
     ]
    },
    {
     "name": "stdout",
     "output_type": "stream",
     "text": [
      "xlim [1118.5894775523313, 1205.0932127932058] self.first_pos[0] 1114.935313715233\n",
      "len(unique_polynoms) 1\n",
      "n_polynoms 1 cost_true [5.168587213736116] cost_mean [2.193890919649797]\n",
      "frame 7\n"
     ]
    },
    {
     "name": "stderr",
     "output_type": "stream",
     "text": [
      "/home/kfir/workspace/RadarLocalization/dataset.py:256: VisibleDeprecationWarning: Creating an ndarray from ragged nested sequences (which is a list-or-tuple of lists-or-tuples-or ndarrays with different lengths or shapes) is deprecated. If you meant to do this, you must specify 'dtype=object' when creating the ndarray\n",
      "  veh_speed = np.array([(m['utime'], m['vel']) for m in self.veh_pose])\n",
      "/home/kfir/workspace/RadarLocalization/dataset.py:261: VisibleDeprecationWarning: Creating an ndarray from ragged nested sequences (which is a list-or-tuple of lists-or-tuples-or ndarrays with different lengths or shapes) is deprecated. If you meant to do this, you must specify 'dtype=object' when creating the ndarray\n",
      "  rot_imu = np.array([(m['utime'], m['q']) for m in self.imu])\n"
     ]
    },
    {
     "name": "stdout",
     "output_type": "stream",
     "text": [
      "Number of point tracks before run() 130\n",
      "Number of extended tracks before run() 1\n",
      "Updating extended object track =  0\n",
      "Updating extended object track =  0\n",
      "Updating extended object track =  0\n"
     ]
    },
    {
     "name": "stderr",
     "output_type": "stream",
     "text": [
      "/home/kfir/workspace/RadarLocalization/tracker.py:96: VisibleDeprecationWarning: Creating an ndarray from ragged nested sequences (which is a list-or-tuple of lists-or-tuples-or ndarrays with different lengths or shapes) is deprecated. If you meant to do this, you must specify 'dtype=object' when creating the ndarray\n",
      "  Ha = np.array([1, z[0], z[0]**2])\n",
      "/home/kfir/workspace/RadarLocalization/tracker.py:120: RuntimeWarning: divide by zero encountered in double_scalars\n",
      "  ratio = np.sqrt(lp)/le\n"
     ]
    },
    {
     "name": "stdout",
     "output_type": "stream",
     "text": [
      "Tracks are similar! do not open a new trk (0.21677064679795177, -0.881842238927073, 0.009575804359079084) (0.0, -0.694470709339901, 0.00011318202592081525)\n",
      "video_data[pos] [1116.56311837 1588.11957897    0.        ]\n",
      "frame_idx = 8\n",
      "Number of new plots 2\n",
      "Number of dynamic tracks before run() 6\n",
      "trk.kf.x = [[8.47754922]\n",
      " [2.66706073]\n",
      " [1.2828979 ]\n",
      " [0.56140355]] age = 8 hits = 3\n",
      "trk.kf.x = [[20.64665798]\n",
      " [ 2.40688705]\n",
      " [ 1.63635098]\n",
      " [ 0.23944322]] age = 7 hits = 2\n",
      "trk.kf.x = [[ 19.7942374 ]\n",
      " [-15.76363585]\n",
      " [  1.77974278]\n",
      " [ -1.70749161]] age = 6 hits = 1\n",
      "trk.kf.x = [[10.26062532]\n",
      " [10.11635099]\n",
      " [ 0.94435046]\n",
      " [ 1.22429409]] age = 5 hits = 1\n",
      "trk.kf.x = [[21.9372719 ]\n",
      " [ 0.5067031 ]\n",
      " [ 2.67430905]\n",
      " [ 0.09326381]] age = 5 hits = 5\n",
      "trk.kf.x = [[11.52072382]\n",
      " [ 2.32382618]\n",
      " [ 1.27927144]\n",
      " [ 0.29575597]] age = 3 hits = 1\n",
      "last_output [ 1.43457862 -0.80582147]\n"
     ]
    },
    {
     "name": "stderr",
     "output_type": "stream",
     "text": [
      "/home/kfir/.local/lib/python3.6/site-packages/nuscenes/map_expansion/map_api.py:1823: ShapelyDeprecationWarning: Iteration over multi-part geometries is deprecated and will be removed in Shapely 2.0. Use the `geoms` property to access the constituent parts of a multi-part geometry.\n",
      "  exteriors = [int_coords(poly.exterior.coords) for poly in polygons]\n",
      "/home/kfir/.local/lib/python3.6/site-packages/nuscenes/map_expansion/map_api.py:1824: ShapelyDeprecationWarning: Iteration over multi-part geometries is deprecated and will be removed in Shapely 2.0. Use the `geoms` property to access the constituent parts of a multi-part geometry.\n",
      "  interiors = [int_coords(pi.coords) for poly in polygons for pi in poly.interiors]\n"
     ]
    },
    {
     "name": "stdout",
     "output_type": "stream",
     "text": [
      "xlim [1118.5894775523313, 1205.1504463846607] self.first_pos[0] 1114.935313715233\n",
      "len(unique_polynoms) 1\n",
      "n_polynoms 1 cost_true [4.668238887036708] cost_mean [1.931165135718732]\n",
      "frame 8\n"
     ]
    },
    {
     "name": "stderr",
     "output_type": "stream",
     "text": [
      "/home/kfir/workspace/RadarLocalization/dataset.py:256: VisibleDeprecationWarning: Creating an ndarray from ragged nested sequences (which is a list-or-tuple of lists-or-tuples-or ndarrays with different lengths or shapes) is deprecated. If you meant to do this, you must specify 'dtype=object' when creating the ndarray\n",
      "  veh_speed = np.array([(m['utime'], m['vel']) for m in self.veh_pose])\n",
      "/home/kfir/workspace/RadarLocalization/dataset.py:261: VisibleDeprecationWarning: Creating an ndarray from ragged nested sequences (which is a list-or-tuple of lists-or-tuples-or ndarrays with different lengths or shapes) is deprecated. If you meant to do this, you must specify 'dtype=object' when creating the ndarray\n",
      "  rot_imu = np.array([(m['utime'], m['q']) for m in self.imu])\n"
     ]
    },
    {
     "name": "stdout",
     "output_type": "stream",
     "text": [
      "Number of point tracks before run() 125\n",
      "Number of extended tracks before run() 1\n"
     ]
    },
    {
     "name": "stderr",
     "output_type": "stream",
     "text": [
      "/home/kfir/workspace/RadarLocalization/tracker.py:96: VisibleDeprecationWarning: Creating an ndarray from ragged nested sequences (which is a list-or-tuple of lists-or-tuples-or ndarrays with different lengths or shapes) is deprecated. If you meant to do this, you must specify 'dtype=object' when creating the ndarray\n",
      "  Ha = np.array([1, z[0], z[0]**2])\n",
      "/home/kfir/workspace/RadarLocalization/tracker.py:120: RuntimeWarning: divide by zero encountered in double_scalars\n",
      "  ratio = np.sqrt(lp)/le\n"
     ]
    },
    {
     "name": "stdout",
     "output_type": "stream",
     "text": [
      "created an extended object! [-5.47689694e+01  1.86188512e+00 -3.01506334e-02  2.64065263e+01\n",
      "  3.39310534e+01] static_cars_flag False\n",
      "video_data[pos] [1116.796688   1587.98595931    0.        ]\n",
      "frame_idx = 9\n",
      "Number of new plots 2\n",
      "Number of dynamic tracks before run() 6\n",
      "trk.kf.x = [[8.7151148 ]\n",
      " [2.92475099]\n",
      " [1.27531764]\n",
      " [0.63466544]] age = 9 hits = 4\n",
      "trk.kf.x = [[20.76658232]\n",
      " [ 2.41867553]\n",
      " [ 1.58903765]\n",
      " [ 0.23897075]] age = 8 hits = 2\n",
      "trk.kf.x = [[ 19.91947286]\n",
      " [-15.89765535]\n",
      " [  1.73185056]\n",
      " [ -1.70800662]] age = 7 hits = 1\n",
      "trk.kf.x = [[10.33095052]\n",
      " [10.20512622]\n",
      " [ 0.89733   ]\n",
      " [ 1.22402734]] age = 6 hits = 1\n",
      "trk.kf.x = [[22.07156438]\n",
      " [ 0.49378565]\n",
      " [ 2.66485744]\n",
      " [ 0.09066974]] age = 6 hits = 6\n",
      "trk.kf.x = [[11.61383703]\n",
      " [ 2.34256068]\n",
      " [ 1.23197487]\n",
      " [ 0.29538967]] age = 4 hits = 1\n",
      "last_output [ 1.67175906 -0.93731595]\n"
     ]
    },
    {
     "name": "stderr",
     "output_type": "stream",
     "text": [
      "/home/kfir/.local/lib/python3.6/site-packages/nuscenes/map_expansion/map_api.py:1823: ShapelyDeprecationWarning: Iteration over multi-part geometries is deprecated and will be removed in Shapely 2.0. Use the `geoms` property to access the constituent parts of a multi-part geometry.\n",
      "  exteriors = [int_coords(poly.exterior.coords) for poly in polygons]\n",
      "/home/kfir/.local/lib/python3.6/site-packages/nuscenes/map_expansion/map_api.py:1824: ShapelyDeprecationWarning: Iteration over multi-part geometries is deprecated and will be removed in Shapely 2.0. Use the `geoms` property to access the constituent parts of a multi-part geometry.\n",
      "  interiors = [int_coords(pi.coords) for poly in polygons for pi in poly.interiors]\n"
     ]
    },
    {
     "name": "stdout",
     "output_type": "stream",
     "text": [
      "xlim [1118.5894775523313, 1205.2745224131986] self.first_pos[0] 1114.935313715233\n",
      "len(unique_polynoms) 0\n",
      "n_polynoms 2 cost_true [3.480864669231718, 1.0511991130741936] cost_mean [1.3339705270924476, 1.0634940838196367]\n",
      "frame 9\n"
     ]
    },
    {
     "name": "stderr",
     "output_type": "stream",
     "text": [
      "/home/kfir/workspace/RadarLocalization/dataset.py:256: VisibleDeprecationWarning: Creating an ndarray from ragged nested sequences (which is a list-or-tuple of lists-or-tuples-or ndarrays with different lengths or shapes) is deprecated. If you meant to do this, you must specify 'dtype=object' when creating the ndarray\n",
      "  veh_speed = np.array([(m['utime'], m['vel']) for m in self.veh_pose])\n",
      "/home/kfir/workspace/RadarLocalization/dataset.py:261: VisibleDeprecationWarning: Creating an ndarray from ragged nested sequences (which is a list-or-tuple of lists-or-tuples-or ndarrays with different lengths or shapes) is deprecated. If you meant to do this, you must specify 'dtype=object' when creating the ndarray\n",
      "  rot_imu = np.array([(m['utime'], m['q']) for m in self.imu])\n"
     ]
    },
    {
     "name": "stdout",
     "output_type": "stream",
     "text": [
      "Number of point tracks before run() 130\n",
      "Number of extended tracks before run() 2\n",
      "Updating extended object track =  0\n",
      "Updating extended object track =  0\n",
      "Updating extended object track =  0\n",
      "Updating extended object track =  0\n",
      "Updating extended object track =  0\n",
      "Updating extended object track =  0\n"
     ]
    },
    {
     "name": "stderr",
     "output_type": "stream",
     "text": [
      "/home/kfir/workspace/RadarLocalization/tracker.py:96: VisibleDeprecationWarning: Creating an ndarray from ragged nested sequences (which is a list-or-tuple of lists-or-tuples-or ndarrays with different lengths or shapes) is deprecated. If you meant to do this, you must specify 'dtype=object' when creating the ndarray\n",
      "  Ha = np.array([1, z[0], z[0]**2])\n",
      "/home/kfir/workspace/RadarLocalization/tracker.py:120: RuntimeWarning: divide by zero encountered in double_scalars\n",
      "  ratio = np.sqrt(lp)/le\n"
     ]
    },
    {
     "name": "stdout",
     "output_type": "stream",
     "text": [
      "Tracks are similar! do not open a new trk (-0.4739686650079723, -0.8309384123921619, 0.00876307343945506) (0.0, -0.7984407617941403, 0.0052792225664345035)\n",
      "video_data[pos] [1117.03905857 1587.84778252    0.        ]\n",
      "frame_idx = 10\n",
      "Number of new plots 1\n",
      "Number of dynamic tracks before run() 4\n",
      "trk.kf.x = [[8.80517969]\n",
      " [2.97432149]\n",
      " [1.20919769]\n",
      " [0.63493424]] age = 10 hits = 4\n",
      "trk.kf.x = [[10.39103028]\n",
      " [10.29926392]\n",
      " [ 0.83107906]\n",
      " [ 1.2242121 ]] age = 7 hits = 1\n",
      "trk.kf.x = [[22.42041084]\n",
      " [ 0.43940471]\n",
      " [ 2.7329263 ]\n",
      " [ 0.07313062]] age = 7 hits = 7\n",
      "trk.kf.x = [[11.7007853 ]\n",
      " [ 2.36732199]\n",
      " [ 1.16593034]\n",
      " [ 0.29564884]] age = 5 hits = 1\n",
      "last_output [ 1.94834719 -1.10095365]\n"
     ]
    },
    {
     "name": "stderr",
     "output_type": "stream",
     "text": [
      "/home/kfir/.local/lib/python3.6/site-packages/nuscenes/map_expansion/map_api.py:1823: ShapelyDeprecationWarning: Iteration over multi-part geometries is deprecated and will be removed in Shapely 2.0. Use the `geoms` property to access the constituent parts of a multi-part geometry.\n",
      "  exteriors = [int_coords(poly.exterior.coords) for poly in polygons]\n",
      "/home/kfir/.local/lib/python3.6/site-packages/nuscenes/map_expansion/map_api.py:1824: ShapelyDeprecationWarning: Iteration over multi-part geometries is deprecated and will be removed in Shapely 2.0. Use the `geoms` property to access the constituent parts of a multi-part geometry.\n",
      "  interiors = [int_coords(pi.coords) for poly in polygons for pi in poly.interiors]\n"
     ]
    },
    {
     "name": "stdout",
     "output_type": "stream",
     "text": [
      "xlim [1118.5894775523313, 1205.2745224131986] self.first_pos[0] 1114.935313715233\n",
      "len(unique_polynoms) 1\n",
      "n_polynoms 2 cost_true [4.017013564853968, 1.0366995727512753] cost_mean [1.6767880719783208, 1.0483888095182285]\n",
      "frame 10\n"
     ]
    },
    {
     "name": "stderr",
     "output_type": "stream",
     "text": [
      "/home/kfir/workspace/RadarLocalization/dataset.py:256: VisibleDeprecationWarning: Creating an ndarray from ragged nested sequences (which is a list-or-tuple of lists-or-tuples-or ndarrays with different lengths or shapes) is deprecated. If you meant to do this, you must specify 'dtype=object' when creating the ndarray\n",
      "  veh_speed = np.array([(m['utime'], m['vel']) for m in self.veh_pose])\n",
      "/home/kfir/workspace/RadarLocalization/dataset.py:261: VisibleDeprecationWarning: Creating an ndarray from ragged nested sequences (which is a list-or-tuple of lists-or-tuples-or ndarrays with different lengths or shapes) is deprecated. If you meant to do this, you must specify 'dtype=object' when creating the ndarray\n",
      "  rot_imu = np.array([(m['utime'], m['q']) for m in self.imu])\n"
     ]
    },
    {
     "name": "stdout",
     "output_type": "stream",
     "text": [
      "Number of point tracks before run() 128\n",
      "Number of extended tracks before run() 2\n"
     ]
    },
    {
     "name": "stderr",
     "output_type": "stream",
     "text": [
      "/home/kfir/workspace/RadarLocalization/tracker.py:96: VisibleDeprecationWarning: Creating an ndarray from ragged nested sequences (which is a list-or-tuple of lists-or-tuples-or ndarrays with different lengths or shapes) is deprecated. If you meant to do this, you must specify 'dtype=object' when creating the ndarray\n",
      "  Ha = np.array([1, z[0], z[0]**2])\n",
      "/home/kfir/workspace/RadarLocalization/tracker.py:120: RuntimeWarning: divide by zero encountered in double_scalars\n",
      "  ratio = np.sqrt(lp)/le\n"
     ]
    },
    {
     "name": "stdout",
     "output_type": "stream",
     "text": [
      "video_data[pos] [1117.2879713  1587.70397448    0.        ]\n",
      "frame_idx = 11\n",
      "Number of new plots 2\n",
      "Number of dynamic tracks before run() 3\n",
      "trk.kf.x = [[8.93439432]\n",
      " [2.94671217]\n",
      " [1.24100311]\n",
      " [0.60719877]] age = 11 hits = 5\n",
      "trk.kf.x = [[22.5822288 ]\n",
      " [ 0.4297117 ]\n",
      " [ 2.69001519]\n",
      " [ 0.06436195]] age = 8 hits = 8\n",
      "trk.kf.x = [[11.78198232]\n",
      " [ 2.39618697]\n",
      " [ 1.10017532]\n",
      " [ 0.29627296]] age = 6 hits = 1\n",
      "last_output [ 2.12947447 -1.20921878]\n"
     ]
    },
    {
     "name": "stderr",
     "output_type": "stream",
     "text": [
      "/home/kfir/.local/lib/python3.6/site-packages/nuscenes/map_expansion/map_api.py:1823: ShapelyDeprecationWarning: Iteration over multi-part geometries is deprecated and will be removed in Shapely 2.0. Use the `geoms` property to access the constituent parts of a multi-part geometry.\n",
      "  exteriors = [int_coords(poly.exterior.coords) for poly in polygons]\n",
      "/home/kfir/.local/lib/python3.6/site-packages/nuscenes/map_expansion/map_api.py:1824: ShapelyDeprecationWarning: Iteration over multi-part geometries is deprecated and will be removed in Shapely 2.0. Use the `geoms` property to access the constituent parts of a multi-part geometry.\n",
      "  interiors = [int_coords(pi.coords) for poly in polygons for pi in poly.interiors]\n"
     ]
    },
    {
     "name": "stdout",
     "output_type": "stream",
     "text": [
      "xlim [1118.5894775523313, 1205.2745224131986] self.first_pos[0] 1114.935313715233\n",
      "len(unique_polynoms) 0\n",
      "n_polynoms 2 cost_true [3.755326957479986, 1.0458398322880829] cost_mean [1.5439059560881536, 1.008803352522159]\n",
      "frame 11\n"
     ]
    },
    {
     "name": "stderr",
     "output_type": "stream",
     "text": [
      "/home/kfir/workspace/RadarLocalization/dataset.py:256: VisibleDeprecationWarning: Creating an ndarray from ragged nested sequences (which is a list-or-tuple of lists-or-tuples-or ndarrays with different lengths or shapes) is deprecated. If you meant to do this, you must specify 'dtype=object' when creating the ndarray\n",
      "  veh_speed = np.array([(m['utime'], m['vel']) for m in self.veh_pose])\n",
      "/home/kfir/workspace/RadarLocalization/dataset.py:261: VisibleDeprecationWarning: Creating an ndarray from ragged nested sequences (which is a list-or-tuple of lists-or-tuples-or ndarrays with different lengths or shapes) is deprecated. If you meant to do this, you must specify 'dtype=object' when creating the ndarray\n",
      "  rot_imu = np.array([(m['utime'], m['q']) for m in self.imu])\n"
     ]
    },
    {
     "name": "stdout",
     "output_type": "stream",
     "text": [
      "Number of point tracks before run() 146\n",
      "Number of extended tracks before run() 2\n",
      "Updating extended object track =  0\n",
      "Updating extended object track =  0\n",
      "Updating extended object track =  1\n"
     ]
    },
    {
     "name": "stderr",
     "output_type": "stream",
     "text": [
      "/home/kfir/workspace/RadarLocalization/tracker.py:96: VisibleDeprecationWarning: Creating an ndarray from ragged nested sequences (which is a list-or-tuple of lists-or-tuples-or ndarrays with different lengths or shapes) is deprecated. If you meant to do this, you must specify 'dtype=object' when creating the ndarray\n",
      "  Ha = np.array([1, z[0], z[0]**2])\n",
      "/home/kfir/workspace/RadarLocalization/tracker.py:120: RuntimeWarning: divide by zero encountered in double_scalars\n",
      "  ratio = np.sqrt(lp)/le\n"
     ]
    },
    {
     "name": "stdout",
     "output_type": "stream",
     "text": [
      "video_data[pos] [1117.81298521 1587.40070318    0.        ]\n",
      "frame_idx = 12\n",
      "Number of new plots 1\n",
      "Number of dynamic tracks before run() 3\n",
      "trk.kf.x = [[9.09195099]\n",
      " [3.07427198]\n",
      " [1.12913763]\n",
      " [0.61172695]] age = 12 hits = 5\n",
      "trk.kf.x = [[22.91290839]\n",
      " [ 0.60042083]\n",
      " [ 2.53825228]\n",
      " [ 0.10921479]] age = 9 hits = 9\n",
      "trk.kf.x = [[11.92077668]\n",
      " [ 2.48841824]\n",
      " [ 0.98955652]\n",
      " [ 0.30023948]] age = 7 hits = 1\n",
      "last_output [ 2.37648585 -1.35587076]\n"
     ]
    },
    {
     "name": "stderr",
     "output_type": "stream",
     "text": [
      "/home/kfir/.local/lib/python3.6/site-packages/nuscenes/map_expansion/map_api.py:1823: ShapelyDeprecationWarning: Iteration over multi-part geometries is deprecated and will be removed in Shapely 2.0. Use the `geoms` property to access the constituent parts of a multi-part geometry.\n",
      "  exteriors = [int_coords(poly.exterior.coords) for poly in polygons]\n",
      "/home/kfir/.local/lib/python3.6/site-packages/nuscenes/map_expansion/map_api.py:1824: ShapelyDeprecationWarning: Iteration over multi-part geometries is deprecated and will be removed in Shapely 2.0. Use the `geoms` property to access the constituent parts of a multi-part geometry.\n",
      "  interiors = [int_coords(pi.coords) for poly in polygons for pi in poly.interiors]\n"
     ]
    },
    {
     "name": "stdout",
     "output_type": "stream",
     "text": [
      "xlim [1118.5894775523313, 1205.2745224131986] self.first_pos[0] 1114.935313715233\n",
      "len(unique_polynoms) 2\n",
      "n_polynoms 2 cost_true [4.260159829786115, 1.0500536257704078] cost_mean [1.6518594238492386, 1.1153541032982162]\n",
      "frame 12\n"
     ]
    },
    {
     "name": "stderr",
     "output_type": "stream",
     "text": [
      "/home/kfir/workspace/RadarLocalization/dataset.py:256: VisibleDeprecationWarning: Creating an ndarray from ragged nested sequences (which is a list-or-tuple of lists-or-tuples-or ndarrays with different lengths or shapes) is deprecated. If you meant to do this, you must specify 'dtype=object' when creating the ndarray\n",
      "  veh_speed = np.array([(m['utime'], m['vel']) for m in self.veh_pose])\n",
      "/home/kfir/workspace/RadarLocalization/dataset.py:261: VisibleDeprecationWarning: Creating an ndarray from ragged nested sequences (which is a list-or-tuple of lists-or-tuples-or ndarrays with different lengths or shapes) is deprecated. If you meant to do this, you must specify 'dtype=object' when creating the ndarray\n",
      "  rot_imu = np.array([(m['utime'], m['q']) for m in self.imu])\n"
     ]
    },
    {
     "name": "stdout",
     "output_type": "stream",
     "text": [
      "Number of point tracks before run() 161\n",
      "Number of extended tracks before run() 2\n",
      "Updating extended object track =  0\n",
      "Updating extended object track =  0\n",
      "Updating extended object track =  0\n"
     ]
    },
    {
     "name": "stderr",
     "output_type": "stream",
     "text": [
      "/home/kfir/workspace/RadarLocalization/tracker.py:96: VisibleDeprecationWarning: Creating an ndarray from ragged nested sequences (which is a list-or-tuple of lists-or-tuples-or ndarrays with different lengths or shapes) is deprecated. If you meant to do this, you must specify 'dtype=object' when creating the ndarray\n",
      "  Ha = np.array([1, z[0], z[0]**2])\n",
      "/home/kfir/workspace/RadarLocalization/tracker.py:120: RuntimeWarning: divide by zero encountered in double_scalars\n",
      "  ratio = np.sqrt(lp)/le\n"
     ]
    },
    {
     "name": "stdout",
     "output_type": "stream",
     "text": [
      "Tracks are similar! do not open a new trk (-0.0038334966075743715, -0.8199782306898723, 0.008083127017620437) (0.0, -0.7745313764501878, 0.005362584990820754)\n",
      "video_data[pos] [1118.06451708 1587.25413712    0.        ]\n",
      "frame_idx = 13\n",
      "Number of new plots 1\n",
      "Number of dynamic tracks before run() 2\n",
      "trk.kf.x = [[9.16537606]\n",
      " [3.14171963]\n",
      " [1.06627068]\n",
      " [0.614197  ]] age = 13 hits = 5\n",
      "trk.kf.x = [[23.08289701]\n",
      " [ 0.62667134]\n",
      " [ 2.57268071]\n",
      " [ 0.09747536]] age = 10 hits = 10\n",
      "last_output [ 2.8600355  -1.63433931]\n"
     ]
    },
    {
     "name": "stderr",
     "output_type": "stream",
     "text": [
      "/home/kfir/.local/lib/python3.6/site-packages/nuscenes/map_expansion/map_api.py:1823: ShapelyDeprecationWarning: Iteration over multi-part geometries is deprecated and will be removed in Shapely 2.0. Use the `geoms` property to access the constituent parts of a multi-part geometry.\n",
      "  exteriors = [int_coords(poly.exterior.coords) for poly in polygons]\n",
      "/home/kfir/.local/lib/python3.6/site-packages/nuscenes/map_expansion/map_api.py:1824: ShapelyDeprecationWarning: Iteration over multi-part geometries is deprecated and will be removed in Shapely 2.0. Use the `geoms` property to access the constituent parts of a multi-part geometry.\n",
      "  interiors = [int_coords(pi.coords) for poly in polygons for pi in poly.interiors]\n"
     ]
    },
    {
     "name": "stdout",
     "output_type": "stream",
     "text": [
      "xlim [1118.5894775523313, 1205.2745224131986] self.first_pos[0] 1114.935313715233\n",
      "len(unique_polynoms) 1\n",
      "n_polynoms 2 cost_true [6.795144122502549, 1.0721911217408975] cost_mean [3.27618399634559, 1.0416421551210768]\n",
      "frame 13\n"
     ]
    },
    {
     "name": "stderr",
     "output_type": "stream",
     "text": [
      "/home/kfir/workspace/RadarLocalization/dataset.py:256: VisibleDeprecationWarning: Creating an ndarray from ragged nested sequences (which is a list-or-tuple of lists-or-tuples-or ndarrays with different lengths or shapes) is deprecated. If you meant to do this, you must specify 'dtype=object' when creating the ndarray\n",
      "  veh_speed = np.array([(m['utime'], m['vel']) for m in self.veh_pose])\n",
      "/home/kfir/workspace/RadarLocalization/dataset.py:261: VisibleDeprecationWarning: Creating an ndarray from ragged nested sequences (which is a list-or-tuple of lists-or-tuples-or ndarrays with different lengths or shapes) is deprecated. If you meant to do this, you must specify 'dtype=object' when creating the ndarray\n",
      "  rot_imu = np.array([(m['utime'], m['q']) for m in self.imu])\n"
     ]
    },
    {
     "name": "stdout",
     "output_type": "stream",
     "text": [
      "Number of point tracks before run() 162\n",
      "Number of extended tracks before run() 2\n"
     ]
    },
    {
     "name": "stderr",
     "output_type": "stream",
     "text": [
      "/home/kfir/workspace/RadarLocalization/tracker.py:96: VisibleDeprecationWarning: Creating an ndarray from ragged nested sequences (which is a list-or-tuple of lists-or-tuples-or ndarrays with different lengths or shapes) is deprecated. If you meant to do this, you must specify 'dtype=object' when creating the ndarray\n",
      "  Ha = np.array([1, z[0], z[0]**2])\n",
      "/home/kfir/workspace/RadarLocalization/tracker.py:120: RuntimeWarning: divide by zero encountered in double_scalars\n",
      "  ratio = np.sqrt(lp)/le\n"
     ]
    },
    {
     "name": "stdout",
     "output_type": "stream",
     "text": [
      "video_data[pos] [1118.3272308  1587.10161028    0.        ]\n",
      "frame_idx = 14\n",
      "Number of new plots 1\n",
      "Number of dynamic tracks before run() 2\n",
      "trk.kf.x = [[9.23945028]\n",
      " [3.20697312]\n",
      " [1.00242221]\n",
      " [0.61598055]] age = 14 hits = 5\n",
      "trk.kf.x = [[23.28122848]\n",
      " [ 0.67582024]\n",
      " [ 2.50974874]\n",
      " [ 0.10193852]] age = 11 hits = 10\n",
      "trk.kf.x = [[23.20811561]\n",
      " [-0.79424108]\n",
      " [ 3.49795223]\n",
      " [-0.11970887]] age = 1 hits = 1\n",
      "last_output [ 3.09215781 -1.76699371]\n"
     ]
    },
    {
     "name": "stderr",
     "output_type": "stream",
     "text": [
      "/home/kfir/.local/lib/python3.6/site-packages/nuscenes/map_expansion/map_api.py:1823: ShapelyDeprecationWarning: Iteration over multi-part geometries is deprecated and will be removed in Shapely 2.0. Use the `geoms` property to access the constituent parts of a multi-part geometry.\n",
      "  exteriors = [int_coords(poly.exterior.coords) for poly in polygons]\n",
      "/home/kfir/.local/lib/python3.6/site-packages/nuscenes/map_expansion/map_api.py:1824: ShapelyDeprecationWarning: Iteration over multi-part geometries is deprecated and will be removed in Shapely 2.0. Use the `geoms` property to access the constituent parts of a multi-part geometry.\n",
      "  interiors = [int_coords(pi.coords) for poly in polygons for pi in poly.interiors]\n"
     ]
    },
    {
     "name": "stdout",
     "output_type": "stream",
     "text": [
      "xlim [1118.5894775523313, 1205.2745224131986] self.first_pos[0] 1114.935313715233\n",
      "len(unique_polynoms) 0\n",
      "n_polynoms 2 cost_true [3.295046060783871, 1.0565305454790288] cost_mean [1.294291261271793, 1.0569415626035528]\n",
      "frame 14\n"
     ]
    },
    {
     "name": "stderr",
     "output_type": "stream",
     "text": [
      "/home/kfir/workspace/RadarLocalization/dataset.py:256: VisibleDeprecationWarning: Creating an ndarray from ragged nested sequences (which is a list-or-tuple of lists-or-tuples-or ndarrays with different lengths or shapes) is deprecated. If you meant to do this, you must specify 'dtype=object' when creating the ndarray\n",
      "  veh_speed = np.array([(m['utime'], m['vel']) for m in self.veh_pose])\n",
      "/home/kfir/workspace/RadarLocalization/dataset.py:261: VisibleDeprecationWarning: Creating an ndarray from ragged nested sequences (which is a list-or-tuple of lists-or-tuples-or ndarrays with different lengths or shapes) is deprecated. If you meant to do this, you must specify 'dtype=object' when creating the ndarray\n",
      "  rot_imu = np.array([(m['utime'], m['q']) for m in self.imu])\n"
     ]
    },
    {
     "name": "stdout",
     "output_type": "stream",
     "text": [
      "Number of point tracks before run() 169\n",
      "Number of extended tracks before run() 2\n",
      "Updating extended object track =  1\n",
      "Updating extended object track =  0\n",
      "Updating extended object track =  0\n",
      "Updating extended object track =  0\n"
     ]
    },
    {
     "name": "stderr",
     "output_type": "stream",
     "text": [
      "/home/kfir/workspace/RadarLocalization/tracker.py:96: VisibleDeprecationWarning: Creating an ndarray from ragged nested sequences (which is a list-or-tuple of lists-or-tuples-or ndarrays with different lengths or shapes) is deprecated. If you meant to do this, you must specify 'dtype=object' when creating the ndarray\n",
      "  Ha = np.array([1, z[0], z[0]**2])\n",
      "/home/kfir/workspace/RadarLocalization/tracker.py:120: RuntimeWarning: divide by zero encountered in double_scalars\n",
      "  ratio = np.sqrt(lp)/le\n"
     ]
    },
    {
     "name": "stdout",
     "output_type": "stream",
     "text": [
      "video_data[pos] [1118.57059801 1586.95978858    0.        ]\n",
      "frame_idx = 15\n",
      "Number of new plots 1\n",
      "Number of dynamic tracks before run() 3\n",
      "trk.kf.x = [[9.30498132]\n",
      " [3.26740321]\n",
      " [0.93570363]\n",
      " [0.61739756]] age = 15 hits = 5\n",
      "trk.kf.x = [[23.45108195]\n",
      " [ 0.73150731]\n",
      " [ 2.55614589]\n",
      " [ 0.11515399]] age = 12 hits = 11\n",
      "trk.kf.x = [[23.46751678]\n",
      " [-0.76772692]\n",
      " [ 3.43234435]\n",
      " [-0.11451371]] age = 2 hits = 1\n",
      "last_output [ 3.35750913 -1.92759378]\n"
     ]
    },
    {
     "name": "stderr",
     "output_type": "stream",
     "text": [
      "/home/kfir/.local/lib/python3.6/site-packages/nuscenes/map_expansion/map_api.py:1823: ShapelyDeprecationWarning: Iteration over multi-part geometries is deprecated and will be removed in Shapely 2.0. Use the `geoms` property to access the constituent parts of a multi-part geometry.\n",
      "  exteriors = [int_coords(poly.exterior.coords) for poly in polygons]\n",
      "/home/kfir/.local/lib/python3.6/site-packages/nuscenes/map_expansion/map_api.py:1824: ShapelyDeprecationWarning: Iteration over multi-part geometries is deprecated and will be removed in Shapely 2.0. Use the `geoms` property to access the constituent parts of a multi-part geometry.\n",
      "  interiors = [int_coords(pi.coords) for poly in polygons for pi in poly.interiors]\n"
     ]
    },
    {
     "name": "stdout",
     "output_type": "stream",
     "text": [
      "xlim [1118.5894775523313, 1205.2745224131986] self.first_pos[0] 1114.935313715233\n",
      "len(unique_polynoms) 2\n",
      "n_polynoms 2 cost_true [2.526551537347248, 1.0439727772867595] cost_mean [1.1359103559982173, 1.0428933132843672]\n",
      "abs_vel =[6.11159991]\n",
      "frame 15\n"
     ]
    },
    {
     "name": "stderr",
     "output_type": "stream",
     "text": [
      "/home/kfir/workspace/RadarLocalization/dataset.py:256: VisibleDeprecationWarning: Creating an ndarray from ragged nested sequences (which is a list-or-tuple of lists-or-tuples-or ndarrays with different lengths or shapes) is deprecated. If you meant to do this, you must specify 'dtype=object' when creating the ndarray\n",
      "  veh_speed = np.array([(m['utime'], m['vel']) for m in self.veh_pose])\n",
      "/home/kfir/workspace/RadarLocalization/dataset.py:261: VisibleDeprecationWarning: Creating an ndarray from ragged nested sequences (which is a list-or-tuple of lists-or-tuples-or ndarrays with different lengths or shapes) is deprecated. If you meant to do this, you must specify 'dtype=object' when creating the ndarray\n",
      "  rot_imu = np.array([(m['utime'], m['q']) for m in self.imu])\n"
     ]
    },
    {
     "name": "stdout",
     "output_type": "stream",
     "text": [
      "Number of point tracks before run() 170\n",
      "Number of extended tracks before run() 2\n",
      "Updating extended object track =  0\n",
      "Updating extended object track =  1\n"
     ]
    },
    {
     "name": "stderr",
     "output_type": "stream",
     "text": [
      "/home/kfir/workspace/RadarLocalization/tracker.py:96: VisibleDeprecationWarning: Creating an ndarray from ragged nested sequences (which is a list-or-tuple of lists-or-tuples-or ndarrays with different lengths or shapes) is deprecated. If you meant to do this, you must specify 'dtype=object' when creating the ndarray\n",
      "  Ha = np.array([1, z[0], z[0]**2])\n",
      "/home/kfir/workspace/RadarLocalization/tracker.py:120: RuntimeWarning: divide by zero encountered in double_scalars\n",
      "  ratio = np.sqrt(lp)/le\n"
     ]
    },
    {
     "name": "stdout",
     "output_type": "stream",
     "text": [
      "video_data[pos] [1118.81884931 1586.81577536    0.        ]\n",
      "frame_idx = 16\n",
      "Number of new plots 2\n",
      "Number of dynamic tracks before run() 3\n",
      "trk.kf.x = [[9.61549022]\n",
      " [3.34526928]\n",
      " [1.30942708]\n",
      " [0.69634451]] age = 16 hits = 6\n",
      "trk.kf.x = [[23.61709538]\n",
      " [ 0.78051184]\n",
      " [ 2.59407237]\n",
      " [ 0.11019586]] age = 13 hits = 12\n",
      "trk.kf.x = [[23.72134935]\n",
      " [-0.71824163]\n",
      " [ 3.36831308]\n",
      " [-0.10627043]] age = 3 hits = 1\n",
      "last_output [ 3.59874117 -2.06785907]\n"
     ]
    },
    {
     "name": "stderr",
     "output_type": "stream",
     "text": [
      "/home/kfir/.local/lib/python3.6/site-packages/nuscenes/map_expansion/map_api.py:1823: ShapelyDeprecationWarning: Iteration over multi-part geometries is deprecated and will be removed in Shapely 2.0. Use the `geoms` property to access the constituent parts of a multi-part geometry.\n",
      "  exteriors = [int_coords(poly.exterior.coords) for poly in polygons]\n",
      "/home/kfir/.local/lib/python3.6/site-packages/nuscenes/map_expansion/map_api.py:1824: ShapelyDeprecationWarning: Iteration over multi-part geometries is deprecated and will be removed in Shapely 2.0. Use the `geoms` property to access the constituent parts of a multi-part geometry.\n",
      "  interiors = [int_coords(pi.coords) for poly in polygons for pi in poly.interiors]\n"
     ]
    },
    {
     "name": "stdout",
     "output_type": "stream",
     "text": [
      "xlim [1118.5894775523313, 1205.2745224131986] self.first_pos[0] 1114.935313715233\n",
      "len(unique_polynoms) 2\n",
      "n_polynoms 2 cost_true [4.30001377156227, 1.022275755305087] cost_mean [1.6574668971429392, 1.0382740532832941]\n",
      "abs_vel =[6.13661083]\n",
      "frame 16\n"
     ]
    },
    {
     "name": "stderr",
     "output_type": "stream",
     "text": [
      "/home/kfir/workspace/RadarLocalization/dataset.py:256: VisibleDeprecationWarning: Creating an ndarray from ragged nested sequences (which is a list-or-tuple of lists-or-tuples-or ndarrays with different lengths or shapes) is deprecated. If you meant to do this, you must specify 'dtype=object' when creating the ndarray\n",
      "  veh_speed = np.array([(m['utime'], m['vel']) for m in self.veh_pose])\n",
      "/home/kfir/workspace/RadarLocalization/dataset.py:261: VisibleDeprecationWarning: Creating an ndarray from ragged nested sequences (which is a list-or-tuple of lists-or-tuples-or ndarrays with different lengths or shapes) is deprecated. If you meant to do this, you must specify 'dtype=object' when creating the ndarray\n",
      "  rot_imu = np.array([(m['utime'], m['q']) for m in self.imu])\n"
     ]
    },
    {
     "name": "stdout",
     "output_type": "stream",
     "text": [
      "Number of point tracks before run() 180\n",
      "Number of extended tracks before run() 2\n",
      "Updating extended object track =  1\n",
      "Updating extended object track =  0\n",
      "Updating extended object track =  0\n"
     ]
    },
    {
     "name": "stderr",
     "output_type": "stream",
     "text": [
      "/home/kfir/workspace/RadarLocalization/tracker.py:96: VisibleDeprecationWarning: Creating an ndarray from ragged nested sequences (which is a list-or-tuple of lists-or-tuples-or ndarrays with different lengths or shapes) is deprecated. If you meant to do this, you must specify 'dtype=object' when creating the ndarray\n",
      "  Ha = np.array([1, z[0], z[0]**2])\n",
      "/home/kfir/workspace/RadarLocalization/tracker.py:120: RuntimeWarning: divide by zero encountered in double_scalars\n",
      "  ratio = np.sqrt(lp)/le\n"
     ]
    },
    {
     "name": "stdout",
     "output_type": "stream",
     "text": [
      "Tracks are similar! do not open a new trk (0.22562664284350586, -0.7800146623873611, 0.00786065303957331) (0.0, -0.559948588997824, -0.00601156513397047)\n",
      "video_data[pos] [1119.06940426 1586.66822155    0.        ]\n",
      "frame_idx = 17\n",
      "Number of new plots 2\n",
      "Number of dynamic tracks before run() 3\n",
      "trk.kf.x = [[9.80348196]\n",
      " [3.35150024]\n",
      " [1.42556948]\n",
      " [0.65815384]] age = 17 hits = 7\n",
      "trk.kf.x = [[23.79680197]\n",
      " [ 0.81353072]\n",
      " [ 2.6462645 ]\n",
      " [ 0.10731781]] age = 14 hits = 13\n",
      "trk.kf.x = [[23.97148762]\n",
      " [-0.69124867]\n",
      " [ 3.32158966]\n",
      " [-0.10142579]] age = 4 hits = 1\n",
      "last_output [ 3.8795257  -2.23862763]\n"
     ]
    },
    {
     "name": "stderr",
     "output_type": "stream",
     "text": [
      "/home/kfir/.local/lib/python3.6/site-packages/nuscenes/map_expansion/map_api.py:1823: ShapelyDeprecationWarning: Iteration over multi-part geometries is deprecated and will be removed in Shapely 2.0. Use the `geoms` property to access the constituent parts of a multi-part geometry.\n",
      "  exteriors = [int_coords(poly.exterior.coords) for poly in polygons]\n",
      "/home/kfir/.local/lib/python3.6/site-packages/nuscenes/map_expansion/map_api.py:1824: ShapelyDeprecationWarning: Iteration over multi-part geometries is deprecated and will be removed in Shapely 2.0. Use the `geoms` property to access the constituent parts of a multi-part geometry.\n",
      "  interiors = [int_coords(pi.coords) for poly in polygons for pi in poly.interiors]\n"
     ]
    },
    {
     "name": "stdout",
     "output_type": "stream",
     "text": [
      "xlim [1118.5894775523313, 1205.2745224131986] self.first_pos[0] 1114.935313715233\n",
      "len(unique_polynoms) 2\n",
      "n_polynoms 2 cost_true [5.169666726605914, 1.055782975957852] cost_mean [2.246247619531237, 1.0246726621428777]\n",
      "abs_vel =[6.16512053]\n",
      "frame 17\n"
     ]
    },
    {
     "name": "stderr",
     "output_type": "stream",
     "text": [
      "/home/kfir/workspace/RadarLocalization/dataset.py:256: VisibleDeprecationWarning: Creating an ndarray from ragged nested sequences (which is a list-or-tuple of lists-or-tuples-or ndarrays with different lengths or shapes) is deprecated. If you meant to do this, you must specify 'dtype=object' when creating the ndarray\n",
      "  veh_speed = np.array([(m['utime'], m['vel']) for m in self.veh_pose])\n",
      "/home/kfir/workspace/RadarLocalization/dataset.py:261: VisibleDeprecationWarning: Creating an ndarray from ragged nested sequences (which is a list-or-tuple of lists-or-tuples-or ndarrays with different lengths or shapes) is deprecated. If you meant to do this, you must specify 'dtype=object' when creating the ndarray\n",
      "  rot_imu = np.array([(m['utime'], m['q']) for m in self.imu])\n"
     ]
    },
    {
     "name": "stdout",
     "output_type": "stream",
     "text": [
      "Number of point tracks before run() 170\n",
      "Number of extended tracks before run() 2\n",
      "Updating extended object track =  1\n"
     ]
    },
    {
     "name": "stderr",
     "output_type": "stream",
     "text": [
      "/home/kfir/workspace/RadarLocalization/tracker.py:96: VisibleDeprecationWarning: Creating an ndarray from ragged nested sequences (which is a list-or-tuple of lists-or-tuples-or ndarrays with different lengths or shapes) is deprecated. If you meant to do this, you must specify 'dtype=object' when creating the ndarray\n",
      "  Ha = np.array([1, z[0], z[0]**2])\n",
      "/home/kfir/workspace/RadarLocalization/tracker.py:120: RuntimeWarning: divide by zero encountered in double_scalars\n",
      "  ratio = np.sqrt(lp)/le\n"
     ]
    },
    {
     "name": "stdout",
     "output_type": "stream",
     "text": [
      "video_data[pos] [1119.58251405 1586.36396304    0.        ]\n",
      "frame_idx = 18\n",
      "Number of new plots 3\n",
      "Number of dynamic tracks before run() 3\n",
      "trk.kf.x = [[10.08145998]\n",
      " [ 3.39876548]\n",
      " [ 1.47811282]\n",
      " [ 0.60976659]] age = 18 hits = 8\n",
      "trk.kf.x = [[24.17739902]\n",
      " [ 0.887692  ]\n",
      " [ 2.67619438]\n",
      " [ 0.11079703]] age = 15 hits = 14\n",
      "trk.kf.x = [[24.45312036]\n",
      " [-0.64022389]\n",
      " [ 3.19775038]\n",
      " [-0.09276299]] age = 5 hits = 1\n",
      "trk.kf.x = [[15.04708527]\n",
      " [ 7.84239032]\n",
      " [-1.34852484]\n",
      " [-0.70283765]] age = 1 hits = 1\n",
      "last_output [ 4.15483544 -2.4044038 ]\n"
     ]
    },
    {
     "name": "stderr",
     "output_type": "stream",
     "text": [
      "/home/kfir/.local/lib/python3.6/site-packages/nuscenes/map_expansion/map_api.py:1823: ShapelyDeprecationWarning: Iteration over multi-part geometries is deprecated and will be removed in Shapely 2.0. Use the `geoms` property to access the constituent parts of a multi-part geometry.\n",
      "  exteriors = [int_coords(poly.exterior.coords) for poly in polygons]\n",
      "/home/kfir/.local/lib/python3.6/site-packages/nuscenes/map_expansion/map_api.py:1824: ShapelyDeprecationWarning: Iteration over multi-part geometries is deprecated and will be removed in Shapely 2.0. Use the `geoms` property to access the constituent parts of a multi-part geometry.\n",
      "  interiors = [int_coords(pi.coords) for poly in polygons for pi in poly.interiors]\n"
     ]
    },
    {
     "name": "stdout",
     "output_type": "stream",
     "text": [
      "xlim [1118.5894775523313, 1205.2745224131986] self.first_pos[0] 1114.935313715233\n",
      "len(unique_polynoms) 1\n",
      "n_polynoms 2 cost_true [3.981319425291826, 1.0635273956383344] cost_mean [1.5951474752509822, 1.0526864671157015]\n",
      "abs_vel =[6.20010019]\n",
      "frame 18\n"
     ]
    },
    {
     "name": "stderr",
     "output_type": "stream",
     "text": [
      "/home/kfir/workspace/RadarLocalization/dataset.py:256: VisibleDeprecationWarning: Creating an ndarray from ragged nested sequences (which is a list-or-tuple of lists-or-tuples-or ndarrays with different lengths or shapes) is deprecated. If you meant to do this, you must specify 'dtype=object' when creating the ndarray\n",
      "  veh_speed = np.array([(m['utime'], m['vel']) for m in self.veh_pose])\n",
      "/home/kfir/workspace/RadarLocalization/dataset.py:261: VisibleDeprecationWarning: Creating an ndarray from ragged nested sequences (which is a list-or-tuple of lists-or-tuples-or ndarrays with different lengths or shapes) is deprecated. If you meant to do this, you must specify 'dtype=object' when creating the ndarray\n",
      "  rot_imu = np.array([(m['utime'], m['q']) for m in self.imu])\n"
     ]
    },
    {
     "name": "stdout",
     "output_type": "stream",
     "text": [
      "Number of point tracks before run() 176\n",
      "Number of extended tracks before run() 2\n",
      "Updating extended object track =  0\n",
      "Updating extended object track =  0\n",
      "Updating extended object track =  0\n"
     ]
    },
    {
     "name": "stderr",
     "output_type": "stream",
     "text": [
      "/home/kfir/workspace/RadarLocalization/tracker.py:96: VisibleDeprecationWarning: Creating an ndarray from ragged nested sequences (which is a list-or-tuple of lists-or-tuples-or ndarrays with different lengths or shapes) is deprecated. If you meant to do this, you must specify 'dtype=object' when creating the ndarray\n",
      "  Ha = np.array([1, z[0], z[0]**2])\n",
      "/home/kfir/workspace/RadarLocalization/tracker.py:120: RuntimeWarning: divide by zero encountered in double_scalars\n",
      "  ratio = np.sqrt(lp)/le\n"
     ]
    },
    {
     "name": "stdout",
     "output_type": "stream",
     "text": [
      "video_data[pos] [1119.85097248 1586.2015602     0.        ]\n",
      "frame_idx = 19\n",
      "Number of new plots 3\n",
      "Number of dynamic tracks before run() 4\n",
      "trk.kf.x = [[10.24177641]\n",
      " [ 3.39178751]\n",
      " [ 1.52376964]\n",
      " [ 0.55655275]] age = 19 hits = 9\n",
      "trk.kf.x = [[24.37324381]\n",
      " [ 0.93028656]\n",
      " [ 2.70718649]\n",
      " [ 0.11442223]] age = 16 hits = 15\n",
      "trk.kf.x = [[24.68950654]\n",
      " [-0.61103648]\n",
      " [ 3.13816057]\n",
      " [-0.08816841]] age = 6 hits = 1\n",
      "trk.kf.x = [[14.90580513]\n",
      " [ 7.91235185]\n",
      " [-1.37412797]\n",
      " [-0.68540674]] age = 2 hits = 2\n",
      "last_output [ 4.69555222 -2.72738261]\n"
     ]
    },
    {
     "name": "stderr",
     "output_type": "stream",
     "text": [
      "/home/kfir/.local/lib/python3.6/site-packages/nuscenes/map_expansion/map_api.py:1823: ShapelyDeprecationWarning: Iteration over multi-part geometries is deprecated and will be removed in Shapely 2.0. Use the `geoms` property to access the constituent parts of a multi-part geometry.\n",
      "  exteriors = [int_coords(poly.exterior.coords) for poly in polygons]\n",
      "/home/kfir/.local/lib/python3.6/site-packages/nuscenes/map_expansion/map_api.py:1824: ShapelyDeprecationWarning: Iteration over multi-part geometries is deprecated and will be removed in Shapely 2.0. Use the `geoms` property to access the constituent parts of a multi-part geometry.\n",
      "  interiors = [int_coords(pi.coords) for poly in polygons for pi in poly.interiors]\n"
     ]
    },
    {
     "name": "stdout",
     "output_type": "stream",
     "text": [
      "xlim [1118.5894775523313, 1205.2745224131986] self.first_pos[0] 1114.935313715233\n",
      "len(unique_polynoms) 1\n",
      "n_polynoms 2 cost_true [3.8314326114222412, 1.0611080485773856] cost_mean [1.5704202228848472, 1.0280370925062128]\n",
      "abs_vel =[6.23638003]\n",
      "frame 19\n"
     ]
    },
    {
     "name": "stderr",
     "output_type": "stream",
     "text": [
      "/home/kfir/workspace/RadarLocalization/dataset.py:256: VisibleDeprecationWarning: Creating an ndarray from ragged nested sequences (which is a list-or-tuple of lists-or-tuples-or ndarrays with different lengths or shapes) is deprecated. If you meant to do this, you must specify 'dtype=object' when creating the ndarray\n",
      "  veh_speed = np.array([(m['utime'], m['vel']) for m in self.veh_pose])\n",
      "/home/kfir/workspace/RadarLocalization/dataset.py:261: VisibleDeprecationWarning: Creating an ndarray from ragged nested sequences (which is a list-or-tuple of lists-or-tuples-or ndarrays with different lengths or shapes) is deprecated. If you meant to do this, you must specify 'dtype=object' when creating the ndarray\n",
      "  rot_imu = np.array([(m['utime'], m['q']) for m in self.imu])\n"
     ]
    },
    {
     "name": "stdout",
     "output_type": "stream",
     "text": [
      "Number of point tracks before run() 181\n",
      "Number of extended tracks before run() 2\n"
     ]
    },
    {
     "name": "stderr",
     "output_type": "stream",
     "text": [
      "/home/kfir/workspace/RadarLocalization/tracker.py:96: VisibleDeprecationWarning: Creating an ndarray from ragged nested sequences (which is a list-or-tuple of lists-or-tuples-or ndarrays with different lengths or shapes) is deprecated. If you meant to do this, you must specify 'dtype=object' when creating the ndarray\n",
      "  Ha = np.array([1, z[0], z[0]**2])\n",
      "/home/kfir/workspace/RadarLocalization/tracker.py:120: RuntimeWarning: divide by zero encountered in double_scalars\n",
      "  ratio = np.sqrt(lp)/le\n"
     ]
    },
    {
     "name": "stdout",
     "output_type": "stream",
     "text": [
      "created an extended object! [-6.57377776e+01  2.84377996e+00 -4.87829436e-02  2.68925886e+01\n",
      "  4.16474810e+01] static_cars_flag True\n",
      "video_data[pos] [1120.1493746  1586.02029652    0.        ]\n",
      "frame_idx = 20\n",
      "Number of new plots 3\n",
      "Number of dynamic tracks before run() 4\n",
      "trk.kf.x = [[10.40890862]\n",
      " [ 3.34707776]\n",
      " [ 1.57127761]\n",
      " [ 0.46578338]] age = 20 hits = 10\n",
      "trk.kf.x = [[24.58082459]\n",
      " [ 0.95928741]\n",
      " [ 2.76912864]\n",
      " [ 0.11088231]] age = 17 hits = 16\n",
      "trk.kf.x = [[24.92202608]\n",
      " [-0.58613934]\n",
      " [ 3.09092388]\n",
      " [-0.08426064]] age = 7 hits = 1\n",
      "trk.kf.x = [[14.96628224]\n",
      " [ 7.8950599 ]\n",
      " [-1.2854817 ]\n",
      " [-0.61698753]] age = 3 hits = 3\n",
      "last_output [ 4.95252105 -2.88154867]\n"
     ]
    },
    {
     "name": "stderr",
     "output_type": "stream",
     "text": [
      "/home/kfir/.local/lib/python3.6/site-packages/nuscenes/map_expansion/map_api.py:1823: ShapelyDeprecationWarning: Iteration over multi-part geometries is deprecated and will be removed in Shapely 2.0. Use the `geoms` property to access the constituent parts of a multi-part geometry.\n",
      "  exteriors = [int_coords(poly.exterior.coords) for poly in polygons]\n",
      "/home/kfir/.local/lib/python3.6/site-packages/nuscenes/map_expansion/map_api.py:1824: ShapelyDeprecationWarning: Iteration over multi-part geometries is deprecated and will be removed in Shapely 2.0. Use the `geoms` property to access the constituent parts of a multi-part geometry.\n",
      "  interiors = [int_coords(pi.coords) for poly in polygons for pi in poly.interiors]\n"
     ]
    },
    {
     "name": "stdout",
     "output_type": "stream",
     "text": [
      "xlim [1118.5894775523313, 1205.2745224131986] self.first_pos[0] 1114.935313715233\n",
      "len(unique_polynoms) 0\n",
      "n_polynoms 3 cost_true [3.033737163966321, 1.066827774539453, 6.192618881987489] cost_mean [1.300950569698024, 1.0683250486969371, 5.305886567619251]\n",
      "abs_vel =[6.27481604]\n",
      "frame 20\n"
     ]
    },
    {
     "name": "stderr",
     "output_type": "stream",
     "text": [
      "/home/kfir/workspace/RadarLocalization/dataset.py:256: VisibleDeprecationWarning: Creating an ndarray from ragged nested sequences (which is a list-or-tuple of lists-or-tuples-or ndarrays with different lengths or shapes) is deprecated. If you meant to do this, you must specify 'dtype=object' when creating the ndarray\n",
      "  veh_speed = np.array([(m['utime'], m['vel']) for m in self.veh_pose])\n",
      "/home/kfir/workspace/RadarLocalization/dataset.py:261: VisibleDeprecationWarning: Creating an ndarray from ragged nested sequences (which is a list-or-tuple of lists-or-tuples-or ndarrays with different lengths or shapes) is deprecated. If you meant to do this, you must specify 'dtype=object' when creating the ndarray\n",
      "  rot_imu = np.array([(m['utime'], m['q']) for m in self.imu])\n"
     ]
    },
    {
     "name": "stdout",
     "output_type": "stream",
     "text": [
      "Number of point tracks before run() 174\n",
      "Number of extended tracks before run() 3\n"
     ]
    },
    {
     "name": "stderr",
     "output_type": "stream",
     "text": [
      "/home/kfir/workspace/RadarLocalization/tracker.py:96: VisibleDeprecationWarning: Creating an ndarray from ragged nested sequences (which is a list-or-tuple of lists-or-tuples-or ndarrays with different lengths or shapes) is deprecated. If you meant to do this, you must specify 'dtype=object' when creating the ndarray\n",
      "  Ha = np.array([1, z[0], z[0]**2])\n",
      "/home/kfir/workspace/RadarLocalization/tracker.py:120: RuntimeWarning: divide by zero encountered in double_scalars\n",
      "  ratio = np.sqrt(lp)/le\n"
     ]
    },
    {
     "name": "stdout",
     "output_type": "stream",
     "text": [
      "Tracks are similar! do not open a new trk (-0.102448916417619, -0.8505316940589522, 0.008375957448208208) (0.0, -0.7611883888274831, 0.004837983705238629)\n",
      "video_data[pos] [1120.43533146 1585.8470435     0.        ]\n",
      "frame_idx = 21\n",
      "Number of new plots 3\n",
      "Number of dynamic tracks before run() 3\n",
      "trk.kf.x = [[10.58467633]\n",
      " [ 3.31527278]\n",
      " [ 1.60098198]\n",
      " [ 0.3817054 ]] age = 21 hits = 11\n",
      "trk.kf.x = [[24.80508355]\n",
      " [ 0.98585362]\n",
      " [ 2.80251742]\n",
      " [ 0.09295214]] age = 18 hits = 17\n",
      "trk.kf.x = [[15.14205698]\n",
      " [ 7.99977913]\n",
      " [-1.17948448]\n",
      " [-0.5375744 ]] age = 4 hits = 4\n",
      "last_output [ 5.25171424 -3.06157234]\n"
     ]
    },
    {
     "name": "stderr",
     "output_type": "stream",
     "text": [
      "/home/kfir/.local/lib/python3.6/site-packages/nuscenes/map_expansion/map_api.py:1823: ShapelyDeprecationWarning: Iteration over multi-part geometries is deprecated and will be removed in Shapely 2.0. Use the `geoms` property to access the constituent parts of a multi-part geometry.\n",
      "  exteriors = [int_coords(poly.exterior.coords) for poly in polygons]\n",
      "/home/kfir/.local/lib/python3.6/site-packages/nuscenes/map_expansion/map_api.py:1824: ShapelyDeprecationWarning: Iteration over multi-part geometries is deprecated and will be removed in Shapely 2.0. Use the `geoms` property to access the constituent parts of a multi-part geometry.\n",
      "  interiors = [int_coords(pi.coords) for poly in polygons for pi in poly.interiors]\n"
     ]
    },
    {
     "name": "stdout",
     "output_type": "stream",
     "text": [
      "xlim [1118.5894775523313, 1205.2745224131986] self.first_pos[0] 1114.935313715233\n",
      "len(unique_polynoms) 0\n",
      "n_polynoms 3 cost_true [3.158632034559096, 1.0642244403988874, 3.1461468210337817] cost_mean [1.2483473094151654, 1.0491670439252188, 1.95648899276151]\n",
      "abs_vel =[4.7362435]\n",
      "abs_vel =[6.31401922]\n",
      "frame 21\n"
     ]
    },
    {
     "name": "stderr",
     "output_type": "stream",
     "text": [
      "/home/kfir/workspace/RadarLocalization/dataset.py:256: VisibleDeprecationWarning: Creating an ndarray from ragged nested sequences (which is a list-or-tuple of lists-or-tuples-or ndarrays with different lengths or shapes) is deprecated. If you meant to do this, you must specify 'dtype=object' when creating the ndarray\n",
      "  veh_speed = np.array([(m['utime'], m['vel']) for m in self.veh_pose])\n",
      "/home/kfir/workspace/RadarLocalization/dataset.py:261: VisibleDeprecationWarning: Creating an ndarray from ragged nested sequences (which is a list-or-tuple of lists-or-tuples-or ndarrays with different lengths or shapes) is deprecated. If you meant to do this, you must specify 'dtype=object' when creating the ndarray\n",
      "  rot_imu = np.array([(m['utime'], m['q']) for m in self.imu])\n"
     ]
    },
    {
     "name": "stdout",
     "output_type": "stream",
     "text": [
      "Number of point tracks before run() 169\n",
      "Number of extended tracks before run() 3\n",
      "Updating extended object track =  1\n"
     ]
    },
    {
     "name": "stderr",
     "output_type": "stream",
     "text": [
      "/home/kfir/workspace/RadarLocalization/tracker.py:96: VisibleDeprecationWarning: Creating an ndarray from ragged nested sequences (which is a list-or-tuple of lists-or-tuples-or ndarrays with different lengths or shapes) is deprecated. If you meant to do this, you must specify 'dtype=object' when creating the ndarray\n",
      "  Ha = np.array([1, z[0], z[0]**2])\n",
      "/home/kfir/workspace/RadarLocalization/tracker.py:120: RuntimeWarning: divide by zero encountered in double_scalars\n",
      "  ratio = np.sqrt(lp)/le\n"
     ]
    },
    {
     "name": "stdout",
     "output_type": "stream",
     "text": [
      "video_data[pos] [1120.72447961 1585.67295092    0.        ]\n",
      "frame_idx = 22\n",
      "Number of new plots 3\n",
      "Number of dynamic tracks before run() 3\n",
      "trk.kf.x = [[10.80643527]\n",
      " [ 3.19606262]\n",
      " [ 1.65854437]\n",
      " [ 0.21460957]] age = 22 hits = 12\n",
      "trk.kf.x = [[25.00860549]\n",
      " [ 0.99783906]\n",
      " [ 2.82231798]\n",
      " [ 0.07448667]] age = 19 hits = 18\n",
      "trk.kf.x = [[14.88491968]\n",
      " [ 8.13920971]\n",
      " [-1.29841635]\n",
      " [-0.53311952]] age = 5 hits = 5\n",
      "last_output [ 5.51138525 -3.21740774]\n"
     ]
    },
    {
     "name": "stderr",
     "output_type": "stream",
     "text": [
      "/home/kfir/.local/lib/python3.6/site-packages/nuscenes/map_expansion/map_api.py:1823: ShapelyDeprecationWarning: Iteration over multi-part geometries is deprecated and will be removed in Shapely 2.0. Use the `geoms` property to access the constituent parts of a multi-part geometry.\n",
      "  exteriors = [int_coords(poly.exterior.coords) for poly in polygons]\n",
      "/home/kfir/.local/lib/python3.6/site-packages/nuscenes/map_expansion/map_api.py:1824: ShapelyDeprecationWarning: Iteration over multi-part geometries is deprecated and will be removed in Shapely 2.0. Use the `geoms` property to access the constituent parts of a multi-part geometry.\n",
      "  interiors = [int_coords(pi.coords) for poly in polygons for pi in poly.interiors]\n"
     ]
    },
    {
     "name": "stdout",
     "output_type": "stream",
     "text": [
      "xlim [1118.5894775523313, 1205.2745224131986] self.first_pos[0] 1114.935313715233\n",
      "len(unique_polynoms) 1\n",
      "n_polynoms 3 cost_true [5.634350452056095, 1.0958265940054905, 3.1769284816163075] cost_mean [2.549511706457679, 1.0377449967703567, 2.0733126618480244]\n",
      "abs_vel =[4.78887681]\n",
      "abs_vel =[6.35298846]\n",
      "frame 22\n"
     ]
    },
    {
     "name": "stderr",
     "output_type": "stream",
     "text": [
      "/home/kfir/workspace/RadarLocalization/dataset.py:256: VisibleDeprecationWarning: Creating an ndarray from ragged nested sequences (which is a list-or-tuple of lists-or-tuples-or ndarrays with different lengths or shapes) is deprecated. If you meant to do this, you must specify 'dtype=object' when creating the ndarray\n",
      "  veh_speed = np.array([(m['utime'], m['vel']) for m in self.veh_pose])\n",
      "/home/kfir/workspace/RadarLocalization/dataset.py:261: VisibleDeprecationWarning: Creating an ndarray from ragged nested sequences (which is a list-or-tuple of lists-or-tuples-or ndarrays with different lengths or shapes) is deprecated. If you meant to do this, you must specify 'dtype=object' when creating the ndarray\n",
      "  rot_imu = np.array([(m['utime'], m['q']) for m in self.imu])\n"
     ]
    },
    {
     "name": "stdout",
     "output_type": "stream",
     "text": [
      "Number of point tracks before run() 179\n",
      "Number of extended tracks before run() 3\n",
      "Updating extended object track =  2\n",
      "Updating extended object track =  0\n",
      "Updating extended object track =  1\n"
     ]
    },
    {
     "name": "stderr",
     "output_type": "stream",
     "text": [
      "/home/kfir/workspace/RadarLocalization/tracker.py:96: VisibleDeprecationWarning: Creating an ndarray from ragged nested sequences (which is a list-or-tuple of lists-or-tuples-or ndarrays with different lengths or shapes) is deprecated. If you meant to do this, you must specify 'dtype=object' when creating the ndarray\n",
      "  Ha = np.array([1, z[0], z[0]**2])\n",
      "/home/kfir/workspace/RadarLocalization/tracker.py:120: RuntimeWarning: divide by zero encountered in double_scalars\n",
      "  ratio = np.sqrt(lp)/le\n"
     ]
    },
    {
     "name": "stdout",
     "output_type": "stream",
     "text": [
      "Tracks are similar! do not open a new trk (0.08033700753529649, -0.803046296332345, 0.007921048099272555) (0.0, -0.6238409229149342, -0.0023177805788404024)\n",
      "video_data[pos] [1121.00597933 1585.50045994    0.        ]\n",
      "frame_idx = 23\n",
      "Number of new plots 3\n",
      "Number of dynamic tracks before run() 3\n",
      "trk.kf.x = [[10.91951886]\n",
      " [ 3.13614467]\n",
      " [ 1.67288788]\n",
      " [ 0.14414356]] age = 23 hits = 13\n",
      "trk.kf.x = [[25.21692065]\n",
      " [ 0.97214571]\n",
      " [ 2.84056856]\n",
      " [ 0.03465101]] age = 20 hits = 19\n",
      "trk.kf.x = [[14.80263329]\n",
      " [ 8.21228242]\n",
      " [-1.27108694]\n",
      " [-0.46426613]] age = 6 hits = 6\n",
      "last_output [ 5.82421788 -3.40289029]\n"
     ]
    },
    {
     "name": "stderr",
     "output_type": "stream",
     "text": [
      "/home/kfir/.local/lib/python3.6/site-packages/nuscenes/map_expansion/map_api.py:1823: ShapelyDeprecationWarning: Iteration over multi-part geometries is deprecated and will be removed in Shapely 2.0. Use the `geoms` property to access the constituent parts of a multi-part geometry.\n",
      "  exteriors = [int_coords(poly.exterior.coords) for poly in polygons]\n",
      "/home/kfir/.local/lib/python3.6/site-packages/nuscenes/map_expansion/map_api.py:1824: ShapelyDeprecationWarning: Iteration over multi-part geometries is deprecated and will be removed in Shapely 2.0. Use the `geoms` property to access the constituent parts of a multi-part geometry.\n",
      "  interiors = [int_coords(pi.coords) for poly in polygons for pi in poly.interiors]\n"
     ]
    },
    {
     "name": "stdout",
     "output_type": "stream",
     "text": [
      "xlim [1118.5894775523313, 1205.2745224131986] self.first_pos[0] 1114.935313715233\n",
      "len(unique_polynoms) 3\n",
      "n_polynoms 3 cost_true [5.6611770461420345, 1.0297863581131803, 1.7183385273936618] cost_mean [2.637692752594324, 1.031703182254058, 1.502746863552957]\n",
      "abs_vel =[4.83959055]\n",
      "abs_vel =[6.3914047]\n",
      "frame 23\n"
     ]
    },
    {
     "name": "stderr",
     "output_type": "stream",
     "text": [
      "/home/kfir/workspace/RadarLocalization/dataset.py:256: VisibleDeprecationWarning: Creating an ndarray from ragged nested sequences (which is a list-or-tuple of lists-or-tuples-or ndarrays with different lengths or shapes) is deprecated. If you meant to do this, you must specify 'dtype=object' when creating the ndarray\n",
      "  veh_speed = np.array([(m['utime'], m['vel']) for m in self.veh_pose])\n",
      "/home/kfir/workspace/RadarLocalization/dataset.py:261: VisibleDeprecationWarning: Creating an ndarray from ragged nested sequences (which is a list-or-tuple of lists-or-tuples-or ndarrays with different lengths or shapes) is deprecated. If you meant to do this, you must specify 'dtype=object' when creating the ndarray\n",
      "  rot_imu = np.array([(m['utime'], m['q']) for m in self.imu])\n"
     ]
    },
    {
     "name": "stdout",
     "output_type": "stream",
     "text": [
      "Number of point tracks before run() 171\n",
      "Number of extended tracks before run() 3\n"
     ]
    },
    {
     "name": "stderr",
     "output_type": "stream",
     "text": [
      "/home/kfir/workspace/RadarLocalization/tracker.py:96: VisibleDeprecationWarning: Creating an ndarray from ragged nested sequences (which is a list-or-tuple of lists-or-tuples-or ndarrays with different lengths or shapes) is deprecated. If you meant to do this, you must specify 'dtype=object' when creating the ndarray\n",
      "  Ha = np.array([1, z[0], z[0]**2])\n",
      "/home/kfir/workspace/RadarLocalization/tracker.py:120: RuntimeWarning: divide by zero encountered in double_scalars\n",
      "  ratio = np.sqrt(lp)/le\n"
     ]
    },
    {
     "name": "stdout",
     "output_type": "stream",
     "text": [
      "video_data[pos] [1121.59877381 1585.13572642    0.        ]\n",
      "frame_idx = 24\n",
      "Number of new plots 2\n",
      "Number of dynamic tracks before run() 3\n",
      "trk.kf.x = [[11.15015273]\n",
      " [ 3.10290233]\n",
      " [ 1.68663842]\n",
      " [ 0.08669743]] age = 24 hits = 14\n",
      "trk.kf.x = [[25.6886057 ]\n",
      " [ 1.05651314]\n",
      " [ 2.93100309]\n",
      " [ 0.05667141]] age = 21 hits = 20\n",
      "trk.kf.x = [[14.57911546]\n",
      " [ 8.17984275]\n",
      " [-1.34949166]\n",
      " [-0.4677114 ]] age = 7 hits = 6\n",
      "last_output [ 6.09754315 -3.56926984]\n"
     ]
    },
    {
     "name": "stderr",
     "output_type": "stream",
     "text": [
      "/home/kfir/.local/lib/python3.6/site-packages/nuscenes/map_expansion/map_api.py:1823: ShapelyDeprecationWarning: Iteration over multi-part geometries is deprecated and will be removed in Shapely 2.0. Use the `geoms` property to access the constituent parts of a multi-part geometry.\n",
      "  exteriors = [int_coords(poly.exterior.coords) for poly in polygons]\n",
      "/home/kfir/.local/lib/python3.6/site-packages/nuscenes/map_expansion/map_api.py:1824: ShapelyDeprecationWarning: Iteration over multi-part geometries is deprecated and will be removed in Shapely 2.0. Use the `geoms` property to access the constituent parts of a multi-part geometry.\n",
      "  interiors = [int_coords(pi.coords) for poly in polygons for pi in poly.interiors]\n"
     ]
    },
    {
     "name": "stdout",
     "output_type": "stream",
     "text": [
      "xlim [1118.5894775523313, 1205.2745224131986] self.first_pos[0] 1114.935313715233\n",
      "len(unique_polynoms) 0\n",
      "n_polynoms 3 cost_true [5.216060924137661, 1.1294411070115953, 2.264685101544347] cost_mean [2.365248065206954, 1.0773682946325733, 2.0903241086943822]\n",
      "abs_vel =[4.8899207]\n",
      "abs_vel =[6.43426531]\n",
      "frame 24\n"
     ]
    },
    {
     "name": "stderr",
     "output_type": "stream",
     "text": [
      "/home/kfir/workspace/RadarLocalization/dataset.py:256: VisibleDeprecationWarning: Creating an ndarray from ragged nested sequences (which is a list-or-tuple of lists-or-tuples-or ndarrays with different lengths or shapes) is deprecated. If you meant to do this, you must specify 'dtype=object' when creating the ndarray\n",
      "  veh_speed = np.array([(m['utime'], m['vel']) for m in self.veh_pose])\n",
      "/home/kfir/workspace/RadarLocalization/dataset.py:261: VisibleDeprecationWarning: Creating an ndarray from ragged nested sequences (which is a list-or-tuple of lists-or-tuples-or ndarrays with different lengths or shapes) is deprecated. If you meant to do this, you must specify 'dtype=object' when creating the ndarray\n",
      "  rot_imu = np.array([(m['utime'], m['q']) for m in self.imu])\n"
     ]
    },
    {
     "name": "stdout",
     "output_type": "stream",
     "text": [
      "Number of point tracks before run() 179\n",
      "Number of extended tracks before run() 3\n",
      "Updating extended object track =  2\n",
      "Updating extended object track =  2\n",
      "Updating extended object track =  2\n",
      "Updating extended object track =  0\n"
     ]
    },
    {
     "name": "stderr",
     "output_type": "stream",
     "text": [
      "/home/kfir/workspace/RadarLocalization/tracker.py:96: VisibleDeprecationWarning: Creating an ndarray from ragged nested sequences (which is a list-or-tuple of lists-or-tuples-or ndarrays with different lengths or shapes) is deprecated. If you meant to do this, you must specify 'dtype=object' when creating the ndarray\n",
      "  Ha = np.array([1, z[0], z[0]**2])\n",
      "/home/kfir/workspace/RadarLocalization/tracker.py:120: RuntimeWarning: divide by zero encountered in double_scalars\n",
      "  ratio = np.sqrt(lp)/le\n"
     ]
    },
    {
     "name": "stdout",
     "output_type": "stream",
     "text": [
      "video_data[pos] [1121.89222911 1584.95440207    0.        ]\n",
      "frame_idx = 25\n",
      "Number of new plots 3\n",
      "Number of dynamic tracks before run() 3\n",
      "trk.kf.x = [[11.271706  ]\n",
      " [ 3.0550146 ]\n",
      " [ 1.70559856]\n",
      " [ 0.03164396]] age = 25 hits = 15\n",
      "trk.kf.x = [[25.91540529]\n",
      " [ 1.09959042]\n",
      " [ 2.97031755]\n",
      " [ 0.06200757]] age = 22 hits = 21\n",
      "trk.kf.x = [[14.40686531]\n",
      " [ 8.43543891]\n",
      " [-1.37327368]\n",
      " [-0.30565926]] age = 8 hits = 7\n",
      "last_output [ 6.68967016 -3.92299995]\n"
     ]
    },
    {
     "name": "stderr",
     "output_type": "stream",
     "text": [
      "/home/kfir/.local/lib/python3.6/site-packages/nuscenes/map_expansion/map_api.py:1823: ShapelyDeprecationWarning: Iteration over multi-part geometries is deprecated and will be removed in Shapely 2.0. Use the `geoms` property to access the constituent parts of a multi-part geometry.\n",
      "  exteriors = [int_coords(poly.exterior.coords) for poly in polygons]\n",
      "/home/kfir/.local/lib/python3.6/site-packages/nuscenes/map_expansion/map_api.py:1824: ShapelyDeprecationWarning: Iteration over multi-part geometries is deprecated and will be removed in Shapely 2.0. Use the `geoms` property to access the constituent parts of a multi-part geometry.\n",
      "  interiors = [int_coords(pi.coords) for poly in polygons for pi in poly.interiors]\n"
     ]
    },
    {
     "name": "stdout",
     "output_type": "stream",
     "text": [
      "xlim [1118.5894775523313, 1205.2745224131986] self.first_pos[0] 1114.935313715233\n",
      "len(unique_polynoms) 2\n",
      "n_polynoms 3 cost_true [3.7164890188926756, 1.1186689737734963, 2.4571922770925068] cost_mean [1.4860447778710872, 1.0696714805215874, 2.17433266606257]\n",
      "abs_vel =[4.93885153]\n",
      "abs_vel =[6.47716638]\n",
      "frame 25\n"
     ]
    },
    {
     "name": "stderr",
     "output_type": "stream",
     "text": [
      "/home/kfir/workspace/RadarLocalization/dataset.py:256: VisibleDeprecationWarning: Creating an ndarray from ragged nested sequences (which is a list-or-tuple of lists-or-tuples-or ndarrays with different lengths or shapes) is deprecated. If you meant to do this, you must specify 'dtype=object' when creating the ndarray\n",
      "  veh_speed = np.array([(m['utime'], m['vel']) for m in self.veh_pose])\n",
      "/home/kfir/workspace/RadarLocalization/dataset.py:261: VisibleDeprecationWarning: Creating an ndarray from ragged nested sequences (which is a list-or-tuple of lists-or-tuples-or ndarrays with different lengths or shapes) is deprecated. If you meant to do this, you must specify 'dtype=object' when creating the ndarray\n",
      "  rot_imu = np.array([(m['utime'], m['q']) for m in self.imu])\n"
     ]
    },
    {
     "name": "stdout",
     "output_type": "stream",
     "text": [
      "Number of point tracks before run() 179\n",
      "Number of extended tracks before run() 3\n",
      "Updating extended object track =  2\n",
      "Updating extended object track =  1\n"
     ]
    },
    {
     "name": "stderr",
     "output_type": "stream",
     "text": [
      "/home/kfir/workspace/RadarLocalization/tracker.py:96: VisibleDeprecationWarning: Creating an ndarray from ragged nested sequences (which is a list-or-tuple of lists-or-tuples-or ndarrays with different lengths or shapes) is deprecated. If you meant to do this, you must specify 'dtype=object' when creating the ndarray\n",
      "  Ha = np.array([1, z[0], z[0]**2])\n",
      "/home/kfir/workspace/RadarLocalization/tracker.py:120: RuntimeWarning: divide by zero encountered in double_scalars\n",
      "  ratio = np.sqrt(lp)/le\n"
     ]
    },
    {
     "name": "stdout",
     "output_type": "stream",
     "text": [
      "video_data[pos] [1122.17495431 1584.77950386    0.        ]\n",
      "frame_idx = 26\n",
      "Number of new plots 3\n",
      "Number of dynamic tracks before run() 3\n",
      "trk.kf.x = [[ 1.13812486e+01]\n",
      " [ 3.01870634e+00]\n",
      " [ 1.72037842e+00]\n",
      " [-1.03550947e-02]] age = 26 hits = 16\n",
      "trk.kf.x = [[ 2.61677503e+01]\n",
      " [ 1.05032689e+00]\n",
      " [ 3.02823572e+00]\n",
      " [-2.62944543e-03]] age = 23 hits = 22\n",
      "trk.kf.x = [[14.29622068]\n",
      " [ 8.64207322]\n",
      " [-1.33826588]\n",
      " [-0.13734556]] age = 9 hits = 8\n",
      "last_output [ 7.01192678 -4.12249068]\n"
     ]
    },
    {
     "name": "stderr",
     "output_type": "stream",
     "text": [
      "/home/kfir/.local/lib/python3.6/site-packages/nuscenes/map_expansion/map_api.py:1823: ShapelyDeprecationWarning: Iteration over multi-part geometries is deprecated and will be removed in Shapely 2.0. Use the `geoms` property to access the constituent parts of a multi-part geometry.\n",
      "  exteriors = [int_coords(poly.exterior.coords) for poly in polygons]\n",
      "/home/kfir/.local/lib/python3.6/site-packages/nuscenes/map_expansion/map_api.py:1824: ShapelyDeprecationWarning: Iteration over multi-part geometries is deprecated and will be removed in Shapely 2.0. Use the `geoms` property to access the constituent parts of a multi-part geometry.\n",
      "  interiors = [int_coords(pi.coords) for poly in polygons for pi in poly.interiors]\n"
     ]
    },
    {
     "name": "stdout",
     "output_type": "stream",
     "text": [
      "xlim [1118.5894775523313, 1205.2745224131986] self.first_pos[0] 1114.935313715233\n",
      "len(unique_polynoms) 2\n",
      "n_polynoms 3 cost_true [4.116380565710859, 1.085417975758396, 1.800015635705956] cost_mean [1.7999221526706726, 1.0504993593148415, 1.5540566942348668]\n",
      "abs_vel =[4.98591346]\n",
      "abs_vel =[6.52034658]\n",
      "frame 26\n"
     ]
    },
    {
     "name": "stderr",
     "output_type": "stream",
     "text": [
      "/home/kfir/workspace/RadarLocalization/dataset.py:256: VisibleDeprecationWarning: Creating an ndarray from ragged nested sequences (which is a list-or-tuple of lists-or-tuples-or ndarrays with different lengths or shapes) is deprecated. If you meant to do this, you must specify 'dtype=object' when creating the ndarray\n",
      "  veh_speed = np.array([(m['utime'], m['vel']) for m in self.veh_pose])\n",
      "/home/kfir/workspace/RadarLocalization/dataset.py:261: VisibleDeprecationWarning: Creating an ndarray from ragged nested sequences (which is a list-or-tuple of lists-or-tuples-or ndarrays with different lengths or shapes) is deprecated. If you meant to do this, you must specify 'dtype=object' when creating the ndarray\n",
      "  rot_imu = np.array([(m['utime'], m['q']) for m in self.imu])\n"
     ]
    },
    {
     "name": "stdout",
     "output_type": "stream",
     "text": [
      "Number of point tracks before run() 176\n",
      "Number of extended tracks before run() 3\n",
      "Updating extended object track =  2\n",
      "Updating extended object track =  1\n"
     ]
    },
    {
     "name": "stderr",
     "output_type": "stream",
     "text": [
      "/home/kfir/workspace/RadarLocalization/tracker.py:96: VisibleDeprecationWarning: Creating an ndarray from ragged nested sequences (which is a list-or-tuple of lists-or-tuples-or ndarrays with different lengths or shapes) is deprecated. If you meant to do this, you must specify 'dtype=object' when creating the ndarray\n",
      "  Ha = np.array([1, z[0], z[0]**2])\n",
      "/home/kfir/workspace/RadarLocalization/tracker.py:120: RuntimeWarning: divide by zero encountered in double_scalars\n",
      "  ratio = np.sqrt(lp)/le\n"
     ]
    },
    {
     "name": "stdout",
     "output_type": "stream",
     "text": [
      "Tracks are similar! do not open a new trk (-0.5728923182624406, -0.8080354333555896, 0.007626320649697148) (0.0, -0.6729435568057656, 0.0005576645690145782)\n",
      "video_data[pos] [1122.45918703 1584.60421754    0.        ]\n",
      "frame_idx = 27\n",
      "Number of new plots 2\n",
      "Number of dynamic tracks before run() 3\n",
      "trk.kf.x = [[11.50059915]\n",
      " [ 2.97894102]\n",
      " [ 1.73665276]\n",
      " [-0.04933587]] age = 27 hits = 17\n",
      "trk.kf.x = [[ 2.64013975e+01]\n",
      " [ 1.05558342e+00]\n",
      " [ 3.04186157e+00]\n",
      " [-1.47723111e-02]] age = 24 hits = 23\n",
      "trk.kf.x = [[14.18527432]\n",
      " [ 8.64577818]\n",
      " [-1.36449026]\n",
      " [-0.13869312]] age = 10 hits = 8\n",
      "last_output [ 7.29372387 -4.29712658]\n"
     ]
    },
    {
     "name": "stderr",
     "output_type": "stream",
     "text": [
      "/home/kfir/.local/lib/python3.6/site-packages/nuscenes/map_expansion/map_api.py:1823: ShapelyDeprecationWarning: Iteration over multi-part geometries is deprecated and will be removed in Shapely 2.0. Use the `geoms` property to access the constituent parts of a multi-part geometry.\n",
      "  exteriors = [int_coords(poly.exterior.coords) for poly in polygons]\n",
      "/home/kfir/.local/lib/python3.6/site-packages/nuscenes/map_expansion/map_api.py:1824: ShapelyDeprecationWarning: Iteration over multi-part geometries is deprecated and will be removed in Shapely 2.0. Use the `geoms` property to access the constituent parts of a multi-part geometry.\n",
      "  interiors = [int_coords(pi.coords) for poly in polygons for pi in poly.interiors]\n"
     ]
    },
    {
     "name": "stdout",
     "output_type": "stream",
     "text": [
      "xlim [1118.5894775523313, 1205.2745224131986] self.first_pos[0] 1114.935313715233\n",
      "len(unique_polynoms) 2\n",
      "n_polynoms 3 cost_true [3.790344952745787, 1.1049325313534335, 1.9533566468404788] cost_mean [1.5534205298758723, 1.0685976470793404, 1.6899395046184795]\n",
      "abs_vel =[5.03107534]\n",
      "abs_vel =[6.56159512]\n",
      "frame 27\n"
     ]
    },
    {
     "name": "stderr",
     "output_type": "stream",
     "text": [
      "/home/kfir/workspace/RadarLocalization/dataset.py:256: VisibleDeprecationWarning: Creating an ndarray from ragged nested sequences (which is a list-or-tuple of lists-or-tuples-or ndarrays with different lengths or shapes) is deprecated. If you meant to do this, you must specify 'dtype=object' when creating the ndarray\n",
      "  veh_speed = np.array([(m['utime'], m['vel']) for m in self.veh_pose])\n",
      "/home/kfir/workspace/RadarLocalization/dataset.py:261: VisibleDeprecationWarning: Creating an ndarray from ragged nested sequences (which is a list-or-tuple of lists-or-tuples-or ndarrays with different lengths or shapes) is deprecated. If you meant to do this, you must specify 'dtype=object' when creating the ndarray\n",
      "  rot_imu = np.array([(m['utime'], m['q']) for m in self.imu])\n"
     ]
    },
    {
     "name": "stdout",
     "output_type": "stream",
     "text": [
      "Number of point tracks before run() 164\n",
      "Number of extended tracks before run() 3\n",
      "Updating extended object track =  2\n"
     ]
    },
    {
     "name": "stderr",
     "output_type": "stream",
     "text": [
      "/home/kfir/workspace/RadarLocalization/tracker.py:96: VisibleDeprecationWarning: Creating an ndarray from ragged nested sequences (which is a list-or-tuple of lists-or-tuples-or ndarrays with different lengths or shapes) is deprecated. If you meant to do this, you must specify 'dtype=object' when creating the ndarray\n",
      "  Ha = np.array([1, z[0], z[0]**2])\n",
      "/home/kfir/workspace/RadarLocalization/tracker.py:120: RuntimeWarning: divide by zero encountered in double_scalars\n",
      "  ratio = np.sqrt(lp)/le\n"
     ]
    },
    {
     "name": "stdout",
     "output_type": "stream",
     "text": [
      "video_data[pos] [1122.74934937 1584.42421968    0.        ]\n",
      "frame_idx = 28\n",
      "Number of new plots 3\n",
      "Number of dynamic tracks before run() 3\n",
      "trk.kf.x = [[11.62675662]\n",
      " [ 3.01592737]\n",
      " [ 1.72341517]\n",
      " [-0.01888532]] age = 28 hits = 18\n",
      "trk.kf.x = [[ 2.66392410e+01]\n",
      " [ 1.08430731e+00]\n",
      " [ 3.07420004e+00]\n",
      " [-1.93513190e-02]] age = 25 hits = 24\n",
      "trk.kf.x = [[14.062682  ]\n",
      " [ 8.9174433 ]\n",
      " [-1.39712611]\n",
      " [ 0.06107588]] age = 11 hits = 9\n",
      "last_output [ 7.61384827 -4.49546727]\n"
     ]
    },
    {
     "name": "stderr",
     "output_type": "stream",
     "text": [
      "/home/kfir/.local/lib/python3.6/site-packages/nuscenes/map_expansion/map_api.py:1823: ShapelyDeprecationWarning: Iteration over multi-part geometries is deprecated and will be removed in Shapely 2.0. Use the `geoms` property to access the constituent parts of a multi-part geometry.\n",
      "  exteriors = [int_coords(poly.exterior.coords) for poly in polygons]\n",
      "/home/kfir/.local/lib/python3.6/site-packages/nuscenes/map_expansion/map_api.py:1824: ShapelyDeprecationWarning: Iteration over multi-part geometries is deprecated and will be removed in Shapely 2.0. Use the `geoms` property to access the constituent parts of a multi-part geometry.\n",
      "  interiors = [int_coords(pi.coords) for poly in polygons for pi in poly.interiors]\n"
     ]
    },
    {
     "name": "stdout",
     "output_type": "stream",
     "text": [
      "xlim [1118.5894775523313, 1205.2745224131986] self.first_pos[0] 1114.935313715233\n",
      "len(unique_polynoms) 1\n",
      "n_polynoms 3 cost_true [6.443047616128118, 1.0467673864222178, 1.8360719833725612] cost_mean [3.3864302235758617, 1.0422043483532926, 1.635926389682698]\n",
      "abs_vel =[5.07418227]\n",
      "abs_vel =[6.60268532]\n",
      "frame 28\n"
     ]
    },
    {
     "name": "stderr",
     "output_type": "stream",
     "text": [
      "/home/kfir/workspace/RadarLocalization/dataset.py:256: VisibleDeprecationWarning: Creating an ndarray from ragged nested sequences (which is a list-or-tuple of lists-or-tuples-or ndarrays with different lengths or shapes) is deprecated. If you meant to do this, you must specify 'dtype=object' when creating the ndarray\n",
      "  veh_speed = np.array([(m['utime'], m['vel']) for m in self.veh_pose])\n",
      "/home/kfir/workspace/RadarLocalization/dataset.py:261: VisibleDeprecationWarning: Creating an ndarray from ragged nested sequences (which is a list-or-tuple of lists-or-tuples-or ndarrays with different lengths or shapes) is deprecated. If you meant to do this, you must specify 'dtype=object' when creating the ndarray\n",
      "  rot_imu = np.array([(m['utime'], m['q']) for m in self.imu])\n"
     ]
    },
    {
     "name": "stdout",
     "output_type": "stream",
     "text": [
      "Number of point tracks before run() 177\n",
      "Number of extended tracks before run() 3\n",
      "Updating extended object track =  2\n",
      "Updating extended object track =  2\n"
     ]
    },
    {
     "name": "stderr",
     "output_type": "stream",
     "text": [
      "/home/kfir/workspace/RadarLocalization/tracker.py:96: VisibleDeprecationWarning: Creating an ndarray from ragged nested sequences (which is a list-or-tuple of lists-or-tuples-or ndarrays with different lengths or shapes) is deprecated. If you meant to do this, you must specify 'dtype=object' when creating the ndarray\n",
      "  Ha = np.array([1, z[0], z[0]**2])\n",
      "/home/kfir/workspace/RadarLocalization/tracker.py:120: RuntimeWarning: divide by zero encountered in double_scalars\n",
      "  ratio = np.sqrt(lp)/le\n"
     ]
    },
    {
     "name": "stdout",
     "output_type": "stream",
     "text": [
      "video_data[pos] [1123.33753395 1584.05797841    0.        ]\n",
      "frame_idx = 29\n",
      "Number of new plots 3\n",
      "Number of dynamic tracks before run() 3\n",
      "trk.kf.x = [[11.86198271]\n",
      " [ 3.04683674]\n",
      " [ 1.62544367]\n",
      " [-0.01426333]] age = 29 hits = 18\n",
      "trk.kf.x = [[ 2.70996480e+01]\n",
      " [ 1.16168871e+00]\n",
      " [ 3.09894219e+00]\n",
      " [-7.25467221e-03]] age = 26 hits = 25\n",
      "trk.kf.x = [[13.73862359]\n",
      " [ 9.25353972]\n",
      " [-1.52674047]\n",
      " [ 0.30638435]] age = 12 hits = 10\n",
      "trk.kf.x = [[18.0771026 ]\n",
      " [-8.17095117]\n",
      " [ 0.        ]\n",
      " [-0.        ]] age = 1 hits = 1\n",
      "last_output [ 7.89849751 -4.67003651]\n"
     ]
    },
    {
     "name": "stderr",
     "output_type": "stream",
     "text": [
      "/home/kfir/.local/lib/python3.6/site-packages/nuscenes/map_expansion/map_api.py:1823: ShapelyDeprecationWarning: Iteration over multi-part geometries is deprecated and will be removed in Shapely 2.0. Use the `geoms` property to access the constituent parts of a multi-part geometry.\n",
      "  exteriors = [int_coords(poly.exterior.coords) for poly in polygons]\n",
      "/home/kfir/.local/lib/python3.6/site-packages/nuscenes/map_expansion/map_api.py:1824: ShapelyDeprecationWarning: Iteration over multi-part geometries is deprecated and will be removed in Shapely 2.0. Use the `geoms` property to access the constituent parts of a multi-part geometry.\n",
      "  interiors = [int_coords(pi.coords) for poly in polygons for pi in poly.interiors]\n"
     ]
    },
    {
     "name": "stdout",
     "output_type": "stream",
     "text": [
      "xlim [1118.5894775523313, 1205.2745224131986] self.first_pos[0] 1114.935313715233\n",
      "len(unique_polynoms) 1\n",
      "n_polynoms 3 cost_true [3.616251528860417, 1.1103001627717006, 2.501379781731165] cost_mean [1.5446849116196844, 1.068618259084063, 2.185488695686938]\n",
      "abs_vel =[5.1143175]\n",
      "abs_vel =[6.64533549]\n",
      "frame 29\n"
     ]
    },
    {
     "name": "stderr",
     "output_type": "stream",
     "text": [
      "/home/kfir/workspace/RadarLocalization/dataset.py:256: VisibleDeprecationWarning: Creating an ndarray from ragged nested sequences (which is a list-or-tuple of lists-or-tuples-or ndarrays with different lengths or shapes) is deprecated. If you meant to do this, you must specify 'dtype=object' when creating the ndarray\n",
      "  veh_speed = np.array([(m['utime'], m['vel']) for m in self.veh_pose])\n",
      "/home/kfir/workspace/RadarLocalization/dataset.py:261: VisibleDeprecationWarning: Creating an ndarray from ragged nested sequences (which is a list-or-tuple of lists-or-tuples-or ndarrays with different lengths or shapes) is deprecated. If you meant to do this, you must specify 'dtype=object' when creating the ndarray\n",
      "  rot_imu = np.array([(m['utime'], m['q']) for m in self.imu])\n"
     ]
    },
    {
     "name": "stdout",
     "output_type": "stream",
     "text": [
      "Number of point tracks before run() 173\n",
      "Number of extended tracks before run() 3\n",
      "Updating extended object track =  2\n"
     ]
    },
    {
     "name": "stderr",
     "output_type": "stream",
     "text": [
      "/home/kfir/workspace/RadarLocalization/tracker.py:96: VisibleDeprecationWarning: Creating an ndarray from ragged nested sequences (which is a list-or-tuple of lists-or-tuples-or ndarrays with different lengths or shapes) is deprecated. If you meant to do this, you must specify 'dtype=object' when creating the ndarray\n",
      "  Ha = np.array([1, z[0], z[0]**2])\n",
      "/home/kfir/workspace/RadarLocalization/tracker.py:120: RuntimeWarning: divide by zero encountered in double_scalars\n",
      "  ratio = np.sqrt(lp)/le\n"
     ]
    },
    {
     "name": "stdout",
     "output_type": "stream",
     "text": [
      "video_data[pos] [1123.63336215 1583.87446367    0.        ]\n",
      "frame_idx = 30\n",
      "Number of new plots 3\n",
      "Number of dynamic tracks before run() 4\n",
      "trk.kf.x = [[11.98772948]\n",
      " [ 3.06642052]\n",
      " [ 1.68358583]\n",
      " [ 0.01287911]] age = 30 hits = 19\n",
      "trk.kf.x = [[2.73326329e+01]\n",
      " [1.20577005e+00]\n",
      " [3.12663117e+00]\n",
      " [4.10783404e-03]] age = 27 hits = 26\n",
      "trk.kf.x = [[13.6094761 ]\n",
      " [ 9.29337844]\n",
      " [-1.56802752]\n",
      " [ 0.30444485]] age = 13 hits = 10\n",
      "trk.kf.x = [[ 1.80841262e+01]\n",
      " [-8.14858641e+00]\n",
      " [-4.09091971e-02]\n",
      " [-5.06068386e-05]] age = 2 hits = 1\n",
      "trk.kf.x = [[11.82906392]\n",
      " [ 3.05681609]\n",
      " [ 1.69434125]\n",
      " [ 0.43784442]] age = 1 hits = 1\n",
      "last_output [ 8.52326144 -5.05566625]\n"
     ]
    },
    {
     "name": "stderr",
     "output_type": "stream",
     "text": [
      "/home/kfir/.local/lib/python3.6/site-packages/nuscenes/map_expansion/map_api.py:1823: ShapelyDeprecationWarning: Iteration over multi-part geometries is deprecated and will be removed in Shapely 2.0. Use the `geoms` property to access the constituent parts of a multi-part geometry.\n",
      "  exteriors = [int_coords(poly.exterior.coords) for poly in polygons]\n",
      "/home/kfir/.local/lib/python3.6/site-packages/nuscenes/map_expansion/map_api.py:1824: ShapelyDeprecationWarning: Iteration over multi-part geometries is deprecated and will be removed in Shapely 2.0. Use the `geoms` property to access the constituent parts of a multi-part geometry.\n",
      "  interiors = [int_coords(pi.coords) for poly in polygons for pi in poly.interiors]\n"
     ]
    },
    {
     "name": "stdout",
     "output_type": "stream",
     "text": [
      "xlim [1118.5894775523313, 1205.2745224131986] self.first_pos[0] 1114.935313715233\n",
      "len(unique_polynoms) 1\n",
      "n_polynoms 3 cost_true [4.727996873944945, 1.0412731399402335, 1.7583174746076335] cost_mean [1.9955804845441476, 1.03387519920433, 1.5136322995758469]\n",
      "abs_vel =[5.15507866]\n",
      "abs_vel =[6.68736697]\n",
      "frame 30\n"
     ]
    },
    {
     "name": "stderr",
     "output_type": "stream",
     "text": [
      "/home/kfir/workspace/RadarLocalization/dataset.py:256: VisibleDeprecationWarning: Creating an ndarray from ragged nested sequences (which is a list-or-tuple of lists-or-tuples-or ndarrays with different lengths or shapes) is deprecated. If you meant to do this, you must specify 'dtype=object' when creating the ndarray\n",
      "  veh_speed = np.array([(m['utime'], m['vel']) for m in self.veh_pose])\n",
      "/home/kfir/workspace/RadarLocalization/dataset.py:261: VisibleDeprecationWarning: Creating an ndarray from ragged nested sequences (which is a list-or-tuple of lists-or-tuples-or ndarrays with different lengths or shapes) is deprecated. If you meant to do this, you must specify 'dtype=object' when creating the ndarray\n",
      "  rot_imu = np.array([(m['utime'], m['q']) for m in self.imu])\n"
     ]
    },
    {
     "name": "stdout",
     "output_type": "stream",
     "text": [
      "Number of point tracks before run() 172\n",
      "Number of extended tracks before run() 3\n",
      "Updating extended object track =  2\n",
      "Updating extended object track =  2\n"
     ]
    },
    {
     "name": "stderr",
     "output_type": "stream",
     "text": [
      "/home/kfir/workspace/RadarLocalization/tracker.py:96: VisibleDeprecationWarning: Creating an ndarray from ragged nested sequences (which is a list-or-tuple of lists-or-tuples-or ndarrays with different lengths or shapes) is deprecated. If you meant to do this, you must specify 'dtype=object' when creating the ndarray\n",
      "  Ha = np.array([1, z[0], z[0]**2])\n",
      "/home/kfir/workspace/RadarLocalization/tracker.py:120: RuntimeWarning: divide by zero encountered in double_scalars\n",
      "  ratio = np.sqrt(lp)/le\n"
     ]
    },
    {
     "name": "stdout",
     "output_type": "stream",
     "text": [
      "video_data[pos] [1123.9652574  1583.66993403    0.        ]\n",
      "frame_idx = 31\n",
      "Number of new plots 2\n",
      "Number of dynamic tracks before run() 5\n",
      "trk.kf.x = [[12.13116312]\n",
      " [ 3.08286595]\n",
      " [ 1.69569661]\n",
      " [ 0.02094016]] age = 31 hits = 20\n",
      "trk.kf.x = [[ 2.75860631e+01]\n",
      " [ 1.22564902e+00]\n",
      " [ 3.13396423e+00]\n",
      " [-9.44203089e-03]] age = 28 hits = 27\n",
      "trk.kf.x = [[13.46391183]\n",
      " [ 9.34062116]\n",
      " [-1.62108894]\n",
      " [ 0.30169303]] age = 14 hits = 10\n",
      "trk.kf.x = [[ 1.80904536e+01]\n",
      " [-8.11788855e+00]\n",
      " [-9.34558585e-02]\n",
      " [-2.09274593e-04]] age = 3 hits = 1\n",
      "trk.kf.x = [[11.95522137]\n",
      " [ 3.11216691]\n",
      " [ 1.64104864]\n",
      " [ 0.44063119]] age = 2 hits = 1\n",
      "last_output [ 8.85209381 -5.26321227]\n"
     ]
    },
    {
     "name": "stderr",
     "output_type": "stream",
     "text": [
      "/home/kfir/.local/lib/python3.6/site-packages/nuscenes/map_expansion/map_api.py:1823: ShapelyDeprecationWarning: Iteration over multi-part geometries is deprecated and will be removed in Shapely 2.0. Use the `geoms` property to access the constituent parts of a multi-part geometry.\n",
      "  exteriors = [int_coords(poly.exterior.coords) for poly in polygons]\n",
      "/home/kfir/.local/lib/python3.6/site-packages/nuscenes/map_expansion/map_api.py:1824: ShapelyDeprecationWarning: Iteration over multi-part geometries is deprecated and will be removed in Shapely 2.0. Use the `geoms` property to access the constituent parts of a multi-part geometry.\n",
      "  interiors = [int_coords(pi.coords) for poly in polygons for pi in poly.interiors]\n"
     ]
    },
    {
     "name": "stdout",
     "output_type": "stream",
     "text": [
      "xlim [1118.5894775523313, 1205.2745224131986] self.first_pos[0] 1114.935313715233\n",
      "len(unique_polynoms) 1\n",
      "n_polynoms 3 cost_true [5.173086350202172, 1.1204300178316644, 1.9579933831655532] cost_mean [2.372596837656184, 1.0593177635408528, 1.6555351495369262]\n",
      "abs_vel =[5.19529648]\n",
      "abs_vel =[6.72853494]\n",
      "frame 31\n"
     ]
    },
    {
     "name": "stderr",
     "output_type": "stream",
     "text": [
      "/home/kfir/workspace/RadarLocalization/dataset.py:256: VisibleDeprecationWarning: Creating an ndarray from ragged nested sequences (which is a list-or-tuple of lists-or-tuples-or ndarrays with different lengths or shapes) is deprecated. If you meant to do this, you must specify 'dtype=object' when creating the ndarray\n",
      "  veh_speed = np.array([(m['utime'], m['vel']) for m in self.veh_pose])\n",
      "/home/kfir/workspace/RadarLocalization/dataset.py:261: VisibleDeprecationWarning: Creating an ndarray from ragged nested sequences (which is a list-or-tuple of lists-or-tuples-or ndarrays with different lengths or shapes) is deprecated. If you meant to do this, you must specify 'dtype=object' when creating the ndarray\n",
      "  rot_imu = np.array([(m['utime'], m['q']) for m in self.imu])\n"
     ]
    },
    {
     "name": "stdout",
     "output_type": "stream",
     "text": [
      "Number of point tracks before run() 179\n",
      "Number of extended tracks before run() 3\n",
      "Updating extended object track =  2\n"
     ]
    },
    {
     "name": "stderr",
     "output_type": "stream",
     "text": [
      "/home/kfir/workspace/RadarLocalization/tracker.py:96: VisibleDeprecationWarning: Creating an ndarray from ragged nested sequences (which is a list-or-tuple of lists-or-tuples-or ndarrays with different lengths or shapes) is deprecated. If you meant to do this, you must specify 'dtype=object' when creating the ndarray\n",
      "  Ha = np.array([1, z[0], z[0]**2])\n",
      "/home/kfir/workspace/RadarLocalization/tracker.py:120: RuntimeWarning: divide by zero encountered in double_scalars\n",
      "  ratio = np.sqrt(lp)/le\n"
     ]
    },
    {
     "name": "stdout",
     "output_type": "stream",
     "text": [
      "video_data[pos] [1124.27370459 1583.47999435    0.        ]\n",
      "frame_idx = 32\n",
      "Number of new plots 3\n",
      "Number of dynamic tracks before run() 5\n",
      "trk.kf.x = [[12.27083544]\n",
      " [ 3.11621297]\n",
      " [ 1.69089755]\n",
      " [ 0.04948187]] age = 32 hits = 21\n",
      "trk.kf.x = [[27.827823  ]\n",
      " [ 1.21156007]\n",
      " [ 3.13500278]\n",
      " [-0.03231523]] age = 29 hits = 28\n",
      "trk.kf.x = [[13.15651581]\n",
      " [ 9.74406585]\n",
      " [-1.71478029]\n",
      " [ 0.69994293]] age = 15 hits = 11\n",
      "trk.kf.x = [[ 1.80863945e+01]\n",
      " [-8.10216297e+00]\n",
      " [-1.48272331e-01]\n",
      " [-3.38346929e-04]] age = 4 hits = 1\n",
      "trk.kf.x = [[12.0714304 ]\n",
      " [ 3.15571931]\n",
      " [ 1.58584775]\n",
      " [ 0.44201185]] age = 3 hits = 1\n",
      "last_output [ 9.19617521 -5.48134114]\n"
     ]
    },
    {
     "name": "stderr",
     "output_type": "stream",
     "text": [
      "/home/kfir/.local/lib/python3.6/site-packages/nuscenes/map_expansion/map_api.py:1823: ShapelyDeprecationWarning: Iteration over multi-part geometries is deprecated and will be removed in Shapely 2.0. Use the `geoms` property to access the constituent parts of a multi-part geometry.\n",
      "  exteriors = [int_coords(poly.exterior.coords) for poly in polygons]\n",
      "/home/kfir/.local/lib/python3.6/site-packages/nuscenes/map_expansion/map_api.py:1824: ShapelyDeprecationWarning: Iteration over multi-part geometries is deprecated and will be removed in Shapely 2.0. Use the `geoms` property to access the constituent parts of a multi-part geometry.\n",
      "  interiors = [int_coords(pi.coords) for poly in polygons for pi in poly.interiors]\n"
     ]
    },
    {
     "name": "stdout",
     "output_type": "stream",
     "text": [
      "xlim [1118.5894775523313, 1205.2745224131986] self.first_pos[0] 1114.935313715233\n",
      "len(unique_polynoms) 1\n",
      "n_polynoms 3 cost_true [4.826482248999546, 1.0523869125711738, 1.9351666984933436] cost_mean [1.9745179425873702, 1.0501702662429917, 1.6181106033357924]\n",
      "abs_vel =[5.2345686]\n",
      "abs_vel =[6.76879187]\n",
      "abs_vel =[3.02449813]\n",
      "frame 32\n"
     ]
    },
    {
     "name": "stderr",
     "output_type": "stream",
     "text": [
      "/home/kfir/workspace/RadarLocalization/dataset.py:256: VisibleDeprecationWarning: Creating an ndarray from ragged nested sequences (which is a list-or-tuple of lists-or-tuples-or ndarrays with different lengths or shapes) is deprecated. If you meant to do this, you must specify 'dtype=object' when creating the ndarray\n",
      "  veh_speed = np.array([(m['utime'], m['vel']) for m in self.veh_pose])\n",
      "/home/kfir/workspace/RadarLocalization/dataset.py:261: VisibleDeprecationWarning: Creating an ndarray from ragged nested sequences (which is a list-or-tuple of lists-or-tuples-or ndarrays with different lengths or shapes) is deprecated. If you meant to do this, you must specify 'dtype=object' when creating the ndarray\n",
      "  rot_imu = np.array([(m['utime'], m['q']) for m in self.imu])\n"
     ]
    },
    {
     "name": "stdout",
     "output_type": "stream",
     "text": [
      "Number of point tracks before run() 179\n",
      "Number of extended tracks before run() 3\n",
      "Updating extended object track =  2\n",
      "Updating extended object track =  1\n"
     ]
    },
    {
     "name": "stderr",
     "output_type": "stream",
     "text": [
      "/home/kfir/workspace/RadarLocalization/tracker.py:96: VisibleDeprecationWarning: Creating an ndarray from ragged nested sequences (which is a list-or-tuple of lists-or-tuples-or ndarrays with different lengths or shapes) is deprecated. If you meant to do this, you must specify 'dtype=object' when creating the ndarray\n",
      "  Ha = np.array([1, z[0], z[0]**2])\n",
      "/home/kfir/workspace/RadarLocalization/tracker.py:120: RuntimeWarning: divide by zero encountered in double_scalars\n",
      "  ratio = np.sqrt(lp)/le\n"
     ]
    },
    {
     "name": "stdout",
     "output_type": "stream",
     "text": [
      "video_data[pos] [1124.58784465 1583.28616087    0.        ]\n",
      "frame_idx = 33\n",
      "Number of new plots 2\n",
      "Number of dynamic tracks before run() 5\n",
      "trk.kf.x = [[12.38491431]\n",
      " [ 3.09563678]\n",
      " [ 1.68975559]\n",
      " [ 0.03165943]] age = 33 hits = 22\n",
      "trk.kf.x = [[ 2.80595639e+01]\n",
      " [ 1.23559600e+00]\n",
      " [ 3.13716023e+00]\n",
      " [-2.37337723e-02]] age = 30 hits = 29\n",
      "trk.kf.x = [[13.01906412]\n",
      " [ 9.80371404]\n",
      " [-1.76118565]\n",
      " [ 0.69897633]] age = 16 hits = 11\n",
      "trk.kf.x = [[ 1.80762656e+01]\n",
      " [-8.09226762e+00]\n",
      " [-1.94293556e-01]\n",
      " [-4.44993541e-04]] age = 5 hits = 1\n",
      "trk.kf.x = [[12.18517597]\n",
      " [ 3.19556215]\n",
      " [ 1.53958346]\n",
      " [ 0.44285699]] age = 4 hits = 1\n",
      "last_output [ 9.49793535 -5.67877912]\n"
     ]
    },
    {
     "name": "stderr",
     "output_type": "stream",
     "text": [
      "/home/kfir/.local/lib/python3.6/site-packages/nuscenes/map_expansion/map_api.py:1823: ShapelyDeprecationWarning: Iteration over multi-part geometries is deprecated and will be removed in Shapely 2.0. Use the `geoms` property to access the constituent parts of a multi-part geometry.\n",
      "  exteriors = [int_coords(poly.exterior.coords) for poly in polygons]\n",
      "/home/kfir/.local/lib/python3.6/site-packages/nuscenes/map_expansion/map_api.py:1824: ShapelyDeprecationWarning: Iteration over multi-part geometries is deprecated and will be removed in Shapely 2.0. Use the `geoms` property to access the constituent parts of a multi-part geometry.\n",
      "  interiors = [int_coords(pi.coords) for poly in polygons for pi in poly.interiors]\n"
     ]
    },
    {
     "name": "stdout",
     "output_type": "stream",
     "text": [
      "xlim [1118.5894775523313, 1205.2745224131986] self.first_pos[0] 1114.935313715233\n",
      "len(unique_polynoms) 2\n",
      "n_polynoms 3 cost_true [4.268640625929122, 1.0293417185978722, 2.0790472071192014] cost_mean [1.8195166932358195, 1.0190893974516664, 1.7467180503667417]\n",
      "abs_vel =[5.27281716]\n",
      "abs_vel =[6.80796994]\n",
      "abs_vel =[3.03077502]\n",
      "frame 33\n"
     ]
    },
    {
     "name": "stderr",
     "output_type": "stream",
     "text": [
      "/home/kfir/workspace/RadarLocalization/dataset.py:256: VisibleDeprecationWarning: Creating an ndarray from ragged nested sequences (which is a list-or-tuple of lists-or-tuples-or ndarrays with different lengths or shapes) is deprecated. If you meant to do this, you must specify 'dtype=object' when creating the ndarray\n",
      "  veh_speed = np.array([(m['utime'], m['vel']) for m in self.veh_pose])\n",
      "/home/kfir/workspace/RadarLocalization/dataset.py:261: VisibleDeprecationWarning: Creating an ndarray from ragged nested sequences (which is a list-or-tuple of lists-or-tuples-or ndarrays with different lengths or shapes) is deprecated. If you meant to do this, you must specify 'dtype=object' when creating the ndarray\n",
      "  rot_imu = np.array([(m['utime'], m['q']) for m in self.imu])\n"
     ]
    },
    {
     "name": "stdout",
     "output_type": "stream",
     "text": [
      "Number of point tracks before run() 178\n",
      "Number of extended tracks before run() 3\n",
      "Updating extended object track =  2\n"
     ]
    },
    {
     "name": "stderr",
     "output_type": "stream",
     "text": [
      "/home/kfir/workspace/RadarLocalization/tracker.py:96: VisibleDeprecationWarning: Creating an ndarray from ragged nested sequences (which is a list-or-tuple of lists-or-tuples-or ndarrays with different lengths or shapes) is deprecated. If you meant to do this, you must specify 'dtype=object' when creating the ndarray\n",
      "  Ha = np.array([1, z[0], z[0]**2])\n",
      "/home/kfir/workspace/RadarLocalization/tracker.py:120: RuntimeWarning: divide by zero encountered in double_scalars\n",
      "  ratio = np.sqrt(lp)/le\n"
     ]
    },
    {
     "name": "stdout",
     "output_type": "stream",
     "text": [
      "Tracks are similar! do not open a new trk (-0.07409630175092907, -0.8354178379145111, 0.007626320649697117) (0.0, -0.5266824186145928, -0.005104784080395572)\n",
      "video_data[pos] [1124.88190275 1583.10468502    0.        ]\n",
      "frame_idx = 34\n",
      "Number of new plots 3\n",
      "Number of dynamic tracks before run() 5\n",
      "trk.kf.x = [[12.49246787]\n",
      " [ 3.10156036]\n",
      " [ 1.6909019 ]\n",
      " [ 0.0410895 ]] age = 34 hits = 23\n",
      "trk.kf.x = [[ 2.82872906e+01]\n",
      " [ 1.23549804e+00]\n",
      " [ 3.14723894e+00]\n",
      " [-2.63421599e-02]] age = 31 hits = 30\n",
      "trk.kf.x = [[12.89052983]\n",
      " [ 9.85625988]\n",
      " [-1.79648205]\n",
      " [ 0.6984745 ]] age = 17 hits = 11\n",
      "trk.kf.x = [[ 1.80624626e+01]\n",
      " [-8.08725324e+00]\n",
      " [-2.29394622e-01]\n",
      " [-5.09076227e-04]] age = 6 hits = 1\n",
      "trk.kf.x = [[12.25762701]\n",
      " [ 3.13217602]\n",
      " [ 1.63688137]\n",
      " [ 0.47087538]] age = 5 hits = 2\n",
      "last_output [ 9.83652596 -5.89606233]\n"
     ]
    },
    {
     "name": "stderr",
     "output_type": "stream",
     "text": [
      "/home/kfir/.local/lib/python3.6/site-packages/nuscenes/map_expansion/map_api.py:1823: ShapelyDeprecationWarning: Iteration over multi-part geometries is deprecated and will be removed in Shapely 2.0. Use the `geoms` property to access the constituent parts of a multi-part geometry.\n",
      "  exteriors = [int_coords(poly.exterior.coords) for poly in polygons]\n",
      "/home/kfir/.local/lib/python3.6/site-packages/nuscenes/map_expansion/map_api.py:1824: ShapelyDeprecationWarning: Iteration over multi-part geometries is deprecated and will be removed in Shapely 2.0. Use the `geoms` property to access the constituent parts of a multi-part geometry.\n",
      "  interiors = [int_coords(pi.coords) for poly in polygons for pi in poly.interiors]\n"
     ]
    },
    {
     "name": "stdout",
     "output_type": "stream",
     "text": [
      "xlim [1118.5894775523313, 1205.2745224131986] self.first_pos[0] 1114.935313715233\n",
      "len(unique_polynoms) 1\n",
      "n_polynoms 3 cost_true [3.3122418170823797, 1.0786354146567319, 2.382393251593891] cost_mean [1.4457607484092887, 1.055564031451377, 1.9828548826038648]\n",
      "abs_vel =[5.30988344]\n",
      "abs_vel =[6.84607807]\n",
      "abs_vel =[3.03629566]\n",
      "frame 34\n"
     ]
    },
    {
     "name": "stderr",
     "output_type": "stream",
     "text": [
      "/home/kfir/workspace/RadarLocalization/dataset.py:256: VisibleDeprecationWarning: Creating an ndarray from ragged nested sequences (which is a list-or-tuple of lists-or-tuples-or ndarrays with different lengths or shapes) is deprecated. If you meant to do this, you must specify 'dtype=object' when creating the ndarray\n",
      "  veh_speed = np.array([(m['utime'], m['vel']) for m in self.veh_pose])\n",
      "/home/kfir/workspace/RadarLocalization/dataset.py:261: VisibleDeprecationWarning: Creating an ndarray from ragged nested sequences (which is a list-or-tuple of lists-or-tuples-or ndarrays with different lengths or shapes) is deprecated. If you meant to do this, you must specify 'dtype=object' when creating the ndarray\n",
      "  rot_imu = np.array([(m['utime'], m['q']) for m in self.imu])\n"
     ]
    },
    {
     "name": "stdout",
     "output_type": "stream",
     "text": [
      "Number of point tracks before run() 169\n",
      "Number of extended tracks before run() 3\n",
      "Updating extended object track =  2\n",
      "Updating extended object track =  2\n",
      "Updating extended object track =  2\n",
      "Updating extended object track =  1\n"
     ]
    },
    {
     "name": "stderr",
     "output_type": "stream",
     "text": [
      "/home/kfir/workspace/RadarLocalization/tracker.py:96: VisibleDeprecationWarning: Creating an ndarray from ragged nested sequences (which is a list-or-tuple of lists-or-tuples-or ndarrays with different lengths or shapes) is deprecated. If you meant to do this, you must specify 'dtype=object' when creating the ndarray\n",
      "  Ha = np.array([1, z[0], z[0]**2])\n",
      "/home/kfir/workspace/RadarLocalization/tracker.py:120: RuntimeWarning: divide by zero encountered in double_scalars\n",
      "  ratio = np.sqrt(lp)/le\n"
     ]
    },
    {
     "name": "stdout",
     "output_type": "stream",
     "text": [
      "video_data[pos] [1125.55350569 1582.68575351    0.        ]\n",
      "frame_idx = 35\n",
      "Number of new plots 2\n",
      "Number of dynamic tracks before run() 5\n",
      "trk.kf.x = [[ 1.28103386e+01]\n",
      " [ 3.05680848e+00]\n",
      " [ 1.71801528e+00]\n",
      " [-1.28756157e-03]] age = 35 hits = 24\n",
      "trk.kf.x = [[28.81497781]\n",
      " [ 1.21179949]\n",
      " [ 3.24066281]\n",
      " [-0.03810528]] age = 32 hits = 31\n",
      "trk.kf.x = [[12.59774163]\n",
      " [ 9.96866337]\n",
      " [-1.86775063]\n",
      " [ 0.69786456]] age = 18 hits = 11\n",
      "trk.kf.x = [[ 1.80185246e+01]\n",
      " [-8.08144798e+00]\n",
      " [-3.00435012e-01]\n",
      " [-6.07194513e-04]] age = 7 hits = 1\n",
      "trk.kf.x = [[12.49934127]\n",
      " [ 3.20926095]\n",
      " [ 1.56568694]\n",
      " [ 0.47138674]] age = 6 hits = 2\n",
      "last_output [10.14388556 -6.09057908]\n"
     ]
    },
    {
     "name": "stderr",
     "output_type": "stream",
     "text": [
      "/home/kfir/.local/lib/python3.6/site-packages/nuscenes/map_expansion/map_api.py:1823: ShapelyDeprecationWarning: Iteration over multi-part geometries is deprecated and will be removed in Shapely 2.0. Use the `geoms` property to access the constituent parts of a multi-part geometry.\n",
      "  exteriors = [int_coords(poly.exterior.coords) for poly in polygons]\n",
      "/home/kfir/.local/lib/python3.6/site-packages/nuscenes/map_expansion/map_api.py:1824: ShapelyDeprecationWarning: Iteration over multi-part geometries is deprecated and will be removed in Shapely 2.0. Use the `geoms` property to access the constituent parts of a multi-part geometry.\n",
      "  interiors = [int_coords(pi.coords) for poly in polygons for pi in poly.interiors]\n"
     ]
    },
    {
     "name": "stdout",
     "output_type": "stream",
     "text": [
      "xlim [1118.5894775523313, 1205.2745224131986] self.first_pos[0] 1114.935313715233\n",
      "len(unique_polynoms) 2\n",
      "n_polynoms 3 cost_true [3.4132956582248313, 1.0969691693914776, 1.9795517131538167] cost_mean [1.458089220667164, 1.0410223102943459, 1.6443582839115245]\n",
      "abs_vel =[5.34763235]\n",
      "abs_vel =[6.88694538]\n",
      "abs_vel =[3.04118298]\n",
      "frame 35\n"
     ]
    },
    {
     "name": "stderr",
     "output_type": "stream",
     "text": [
      "/home/kfir/workspace/RadarLocalization/dataset.py:256: VisibleDeprecationWarning: Creating an ndarray from ragged nested sequences (which is a list-or-tuple of lists-or-tuples-or ndarrays with different lengths or shapes) is deprecated. If you meant to do this, you must specify 'dtype=object' when creating the ndarray\n",
      "  veh_speed = np.array([(m['utime'], m['vel']) for m in self.veh_pose])\n",
      "/home/kfir/workspace/RadarLocalization/dataset.py:261: VisibleDeprecationWarning: Creating an ndarray from ragged nested sequences (which is a list-or-tuple of lists-or-tuples-or ndarrays with different lengths or shapes) is deprecated. If you meant to do this, you must specify 'dtype=object' when creating the ndarray\n",
      "  rot_imu = np.array([(m['utime'], m['q']) for m in self.imu])\n"
     ]
    },
    {
     "name": "stdout",
     "output_type": "stream",
     "text": [
      "Number of point tracks before run() 172\n",
      "Number of extended tracks before run() 3\n",
      "Updating extended object track =  1\n",
      "Updating extended object track =  1\n"
     ]
    },
    {
     "name": "stderr",
     "output_type": "stream",
     "text": [
      "/home/kfir/workspace/RadarLocalization/tracker.py:96: VisibleDeprecationWarning: Creating an ndarray from ragged nested sequences (which is a list-or-tuple of lists-or-tuples-or ndarrays with different lengths or shapes) is deprecated. If you meant to do this, you must specify 'dtype=object' when creating the ndarray\n",
      "  Ha = np.array([1, z[0], z[0]**2])\n",
      "/home/kfir/workspace/RadarLocalization/tracker.py:120: RuntimeWarning: divide by zero encountered in double_scalars\n",
      "  ratio = np.sqrt(lp)/le\n"
     ]
    },
    {
     "name": "stdout",
     "output_type": "stream",
     "text": [
      "Tracks are similar! do not open a new trk (-0.628600717905238, -0.8043470596676515, 0.007626320649697192) (0.0, -0.7508611366595094, 0.0033601953696935733)\n",
      "video_data[pos] [1125.88994758 1582.47362754    0.        ]\n",
      "frame_idx = 36\n",
      "Number of new plots 2\n",
      "Number of dynamic tracks before run() 4\n",
      "trk.kf.x = [[12.92050508]\n",
      " [ 3.09815188]\n",
      " [ 1.7218512 ]\n",
      " [ 0.04051737]] age = 36 hits = 25\n",
      "trk.kf.x = [[29.08956666]\n",
      " [ 1.20851118]\n",
      " [ 3.32838207]\n",
      " [-0.04195974]] age = 33 hits = 32\n",
      "trk.kf.x = [[12.451609  ]\n",
      " [10.0265498 ]\n",
      " [-1.88877818]\n",
      " [ 0.69702606]] age = 19 hits = 11\n",
      "trk.kf.x = [[12.61381081]\n",
      " [ 3.25022723]\n",
      " [ 1.5447596 ]\n",
      " [ 0.47207261]] age = 7 hits = 2\n",
      "last_output [10.81099805 -6.51338911]\n"
     ]
    },
    {
     "name": "stderr",
     "output_type": "stream",
     "text": [
      "/home/kfir/.local/lib/python3.6/site-packages/nuscenes/map_expansion/map_api.py:1823: ShapelyDeprecationWarning: Iteration over multi-part geometries is deprecated and will be removed in Shapely 2.0. Use the `geoms` property to access the constituent parts of a multi-part geometry.\n",
      "  exteriors = [int_coords(poly.exterior.coords) for poly in polygons]\n",
      "/home/kfir/.local/lib/python3.6/site-packages/nuscenes/map_expansion/map_api.py:1824: ShapelyDeprecationWarning: Iteration over multi-part geometries is deprecated and will be removed in Shapely 2.0. Use the `geoms` property to access the constituent parts of a multi-part geometry.\n",
      "  interiors = [int_coords(pi.coords) for poly in polygons for pi in poly.interiors]\n"
     ]
    },
    {
     "name": "stdout",
     "output_type": "stream",
     "text": [
      "xlim [1118.5894775523313, 1205.2745224131986] self.first_pos[0] 1114.935313715233\n",
      "len(unique_polynoms) 1\n",
      "n_polynoms 2 cost_true [1.048596189587926, 1.944709453725964] cost_mean [1.0482362326801504, 1.5999779670311327]\n",
      "abs_vel =[5.38396958]\n",
      "abs_vel =[6.92862239]\n",
      "abs_vel =[3.04553011]\n",
      "frame 36\n"
     ]
    },
    {
     "name": "stderr",
     "output_type": "stream",
     "text": [
      "/home/kfir/workspace/RadarLocalization/dataset.py:256: VisibleDeprecationWarning: Creating an ndarray from ragged nested sequences (which is a list-or-tuple of lists-or-tuples-or ndarrays with different lengths or shapes) is deprecated. If you meant to do this, you must specify 'dtype=object' when creating the ndarray\n",
      "  veh_speed = np.array([(m['utime'], m['vel']) for m in self.veh_pose])\n",
      "/home/kfir/workspace/RadarLocalization/dataset.py:261: VisibleDeprecationWarning: Creating an ndarray from ragged nested sequences (which is a list-or-tuple of lists-or-tuples-or ndarrays with different lengths or shapes) is deprecated. If you meant to do this, you must specify 'dtype=object' when creating the ndarray\n",
      "  rot_imu = np.array([(m['utime'], m['q']) for m in self.imu])\n"
     ]
    },
    {
     "name": "stdout",
     "output_type": "stream",
     "text": [
      "Number of point tracks before run() 159\n",
      "Number of extended tracks before run() 2\n",
      "Updating extended object track =  1\n",
      "Updating extended object track =  0\n"
     ]
    },
    {
     "name": "stderr",
     "output_type": "stream",
     "text": [
      "/home/kfir/workspace/RadarLocalization/tracker.py:96: VisibleDeprecationWarning: Creating an ndarray from ragged nested sequences (which is a list-or-tuple of lists-or-tuples-or ndarrays with different lengths or shapes) is deprecated. If you meant to do this, you must specify 'dtype=object' when creating the ndarray\n",
      "  Ha = np.array([1, z[0], z[0]**2])\n",
      "/home/kfir/workspace/RadarLocalization/tracker.py:120: RuntimeWarning: divide by zero encountered in double_scalars\n",
      "  ratio = np.sqrt(lp)/le\n"
     ]
    },
    {
     "name": "stdout",
     "output_type": "stream",
     "text": [
      "created an extended object! [-7.52824567e+01  3.33409730e+00 -5.53157169e-02  2.62072080e+01\n",
      "  3.80472011e+01] static_cars_flag True\n",
      "video_data[pos] [1126.21714686 1582.26747532    0.        ]\n",
      "frame_idx = 37\n",
      "Number of new plots 2\n",
      "Number of dynamic tracks before run() 4\n",
      "trk.kf.x = [[13.03472529]\n",
      " [ 3.15279761]\n",
      " [ 1.71566194]\n",
      " [ 0.0978672 ]] age = 37 hits = 26\n",
      "trk.kf.x = [[29.33266305]\n",
      " [ 1.2137086 ]\n",
      " [ 3.32793306]\n",
      " [-0.03129179]] age = 34 hits = 33\n",
      "trk.kf.x = [[12.31178045]\n",
      " [10.07461086]\n",
      " [-1.90970823]\n",
      " [ 0.69768283]] age = 20 hits = 11\n",
      "trk.kf.x = [[12.72924728]\n",
      " [ 3.28126719]\n",
      " [ 1.52375199]\n",
      " [ 0.47154863]] age = 8 hits = 2\n",
      "last_output [11.15884274 -6.7360885 ]\n"
     ]
    },
    {
     "name": "stderr",
     "output_type": "stream",
     "text": [
      "/home/kfir/.local/lib/python3.6/site-packages/nuscenes/map_expansion/map_api.py:1823: ShapelyDeprecationWarning: Iteration over multi-part geometries is deprecated and will be removed in Shapely 2.0. Use the `geoms` property to access the constituent parts of a multi-part geometry.\n",
      "  exteriors = [int_coords(poly.exterior.coords) for poly in polygons]\n",
      "/home/kfir/.local/lib/python3.6/site-packages/nuscenes/map_expansion/map_api.py:1824: ShapelyDeprecationWarning: Iteration over multi-part geometries is deprecated and will be removed in Shapely 2.0. Use the `geoms` property to access the constituent parts of a multi-part geometry.\n",
      "  interiors = [int_coords(pi.coords) for poly in polygons for pi in poly.interiors]\n"
     ]
    },
    {
     "name": "stdout",
     "output_type": "stream",
     "text": [
      "xlim [1118.5894775523313, 1205.2745224131986] self.first_pos[0] 1114.935313715233\n",
      "len(unique_polynoms) 2\n",
      "n_polynoms 3 cost_true [1.0613929007522416, 2.2311514631636435, 1.2133813359989787] cost_mean [1.036349704717326, 1.839818627138046, 1.1040370407004487]\n",
      "abs_vel =[5.41876359]\n",
      "abs_vel =[6.96845585]\n",
      "abs_vel =[3.04946154]\n",
      "frame 37\n"
     ]
    },
    {
     "name": "stderr",
     "output_type": "stream",
     "text": [
      "/home/kfir/workspace/RadarLocalization/dataset.py:256: VisibleDeprecationWarning: Creating an ndarray from ragged nested sequences (which is a list-or-tuple of lists-or-tuples-or ndarrays with different lengths or shapes) is deprecated. If you meant to do this, you must specify 'dtype=object' when creating the ndarray\n",
      "  veh_speed = np.array([(m['utime'], m['vel']) for m in self.veh_pose])\n",
      "/home/kfir/workspace/RadarLocalization/dataset.py:261: VisibleDeprecationWarning: Creating an ndarray from ragged nested sequences (which is a list-or-tuple of lists-or-tuples-or ndarrays with different lengths or shapes) is deprecated. If you meant to do this, you must specify 'dtype=object' when creating the ndarray\n",
      "  rot_imu = np.array([(m['utime'], m['q']) for m in self.imu])\n"
     ]
    },
    {
     "name": "stdout",
     "output_type": "stream",
     "text": [
      "Number of point tracks before run() 159\n",
      "Number of extended tracks before run() 3\n",
      "Updating extended object track =  1\n",
      "Updating extended object track =  1\n"
     ]
    },
    {
     "name": "stderr",
     "output_type": "stream",
     "text": [
      "/home/kfir/workspace/RadarLocalization/tracker.py:96: VisibleDeprecationWarning: Creating an ndarray from ragged nested sequences (which is a list-or-tuple of lists-or-tuples-or ndarrays with different lengths or shapes) is deprecated. If you meant to do this, you must specify 'dtype=object' when creating the ndarray\n",
      "  Ha = np.array([1, z[0], z[0]**2])\n",
      "/home/kfir/workspace/RadarLocalization/tracker.py:120: RuntimeWarning: divide by zero encountered in double_scalars\n",
      "  ratio = np.sqrt(lp)/le\n"
     ]
    },
    {
     "name": "stdout",
     "output_type": "stream",
     "text": [
      "video_data[pos] [1126.54293268 1582.06042376    0.        ]\n",
      "frame_idx = 38\n",
      "Number of new plots 2\n",
      "Number of dynamic tracks before run() 4\n",
      "trk.kf.x = [[13.16739102]\n",
      " [ 3.18890279]\n",
      " [ 1.71457816]\n",
      " [ 0.13751536]] age = 38 hits = 27\n",
      "trk.kf.x = [[29.57574354]\n",
      " [ 1.14451835]\n",
      " [ 3.32854754]\n",
      " [-0.06052782]] age = 35 hits = 34\n",
      "trk.kf.x = [[12.17634067]\n",
      " [10.11584487]\n",
      " [-1.92772367]\n",
      " [ 0.69944286]] age = 21 hits = 11\n",
      "trk.kf.x = [[12.8451926 ]\n",
      " [ 3.30492163]\n",
      " [ 1.50552869]\n",
      " [ 0.4701745 ]] age = 9 hits = 2\n",
      "last_output [11.47446558 -6.93701015]\n"
     ]
    },
    {
     "name": "stderr",
     "output_type": "stream",
     "text": [
      "/home/kfir/.local/lib/python3.6/site-packages/nuscenes/map_expansion/map_api.py:1823: ShapelyDeprecationWarning: Iteration over multi-part geometries is deprecated and will be removed in Shapely 2.0. Use the `geoms` property to access the constituent parts of a multi-part geometry.\n",
      "  exteriors = [int_coords(poly.exterior.coords) for poly in polygons]\n",
      "/home/kfir/.local/lib/python3.6/site-packages/nuscenes/map_expansion/map_api.py:1824: ShapelyDeprecationWarning: Iteration over multi-part geometries is deprecated and will be removed in Shapely 2.0. Use the `geoms` property to access the constituent parts of a multi-part geometry.\n",
      "  interiors = [int_coords(pi.coords) for poly in polygons for pi in poly.interiors]\n"
     ]
    },
    {
     "name": "stdout",
     "output_type": "stream",
     "text": [
      "xlim [1118.5894775523313, 1205.2745224131986] self.first_pos[0] 1114.935313715233\n",
      "len(unique_polynoms) 1\n",
      "n_polynoms 3 cost_true [1.0789753645271836, 2.3294200380429397, 1.222137147691664] cost_mean [1.034954973293676, 1.904556209302977, 1.0975272731731887]\n",
      "abs_vel =[5.45220699]\n",
      "abs_vel =[7.00656823]\n",
      "frame 38\n"
     ]
    },
    {
     "name": "stderr",
     "output_type": "stream",
     "text": [
      "/home/kfir/workspace/RadarLocalization/dataset.py:256: VisibleDeprecationWarning: Creating an ndarray from ragged nested sequences (which is a list-or-tuple of lists-or-tuples-or ndarrays with different lengths or shapes) is deprecated. If you meant to do this, you must specify 'dtype=object' when creating the ndarray\n",
      "  veh_speed = np.array([(m['utime'], m['vel']) for m in self.veh_pose])\n",
      "/home/kfir/workspace/RadarLocalization/dataset.py:261: VisibleDeprecationWarning: Creating an ndarray from ragged nested sequences (which is a list-or-tuple of lists-or-tuples-or ndarrays with different lengths or shapes) is deprecated. If you meant to do this, you must specify 'dtype=object' when creating the ndarray\n",
      "  rot_imu = np.array([(m['utime'], m['q']) for m in self.imu])\n"
     ]
    },
    {
     "name": "stdout",
     "output_type": "stream",
     "text": [
      "Number of point tracks before run() 163\n",
      "Number of extended tracks before run() 3\n",
      "Updating extended object track =  1\n",
      "Updating extended object track =  2\n",
      "Updating extended object track =  1\n",
      "Updating extended object track =  0\n",
      "Updating extended object track =  2\n"
     ]
    },
    {
     "name": "stderr",
     "output_type": "stream",
     "text": [
      "/home/kfir/workspace/RadarLocalization/tracker.py:96: VisibleDeprecationWarning: Creating an ndarray from ragged nested sequences (which is a list-or-tuple of lists-or-tuples-or ndarrays with different lengths or shapes) is deprecated. If you meant to do this, you must specify 'dtype=object' when creating the ndarray\n",
      "  Ha = np.array([1, z[0], z[0]**2])\n",
      "/home/kfir/workspace/RadarLocalization/tracker.py:120: RuntimeWarning: divide by zero encountered in double_scalars\n",
      "  ratio = np.sqrt(lp)/le\n"
     ]
    },
    {
     "name": "stdout",
     "output_type": "stream",
     "text": [
      "video_data[pos] [1126.84615394 1581.86897248    0.        ]\n",
      "frame_idx = 39\n",
      "Number of new plots 2\n",
      "Number of dynamic tracks before run() 3\n",
      "trk.kf.x = [[13.26224646]\n",
      " [ 3.23742148]\n",
      " [ 1.7075598 ]\n",
      " [ 0.18453455]] age = 39 hits = 28\n",
      "trk.kf.x = [[29.80874661]\n",
      " [ 1.13046085]\n",
      " [ 3.33497857]\n",
      " [-0.05903602]] age = 36 hits = 35\n",
      "trk.kf.x = [[12.95160688]\n",
      " [ 3.33171905]\n",
      " [ 1.49491077]\n",
      " [ 0.46946161]] age = 10 hits = 2\n",
      "last_output [11.82927523 -7.16532049]\n"
     ]
    },
    {
     "name": "stderr",
     "output_type": "stream",
     "text": [
      "/home/kfir/.local/lib/python3.6/site-packages/nuscenes/map_expansion/map_api.py:1823: ShapelyDeprecationWarning: Iteration over multi-part geometries is deprecated and will be removed in Shapely 2.0. Use the `geoms` property to access the constituent parts of a multi-part geometry.\n",
      "  exteriors = [int_coords(poly.exterior.coords) for poly in polygons]\n",
      "/home/kfir/.local/lib/python3.6/site-packages/nuscenes/map_expansion/map_api.py:1824: ShapelyDeprecationWarning: Iteration over multi-part geometries is deprecated and will be removed in Shapely 2.0. Use the `geoms` property to access the constituent parts of a multi-part geometry.\n",
      "  interiors = [int_coords(pi.coords) for poly in polygons for pi in poly.interiors]\n"
     ]
    },
    {
     "name": "stdout",
     "output_type": "stream",
     "text": [
      "xlim [1118.5894775523313, 1205.2745224131986] self.first_pos[0] 1114.935313715233\n",
      "len(unique_polynoms) 3\n",
      "n_polynoms 3 cost_true [1.0779545455841364, 1.8063477833463362, 1.485618995348549] cost_mean [1.0507747034591937, 1.514257614003317, 1.2967758144507813]\n",
      "abs_vel =[5.48406236]\n",
      "abs_vel =[7.04304276]\n",
      "frame 39\n"
     ]
    },
    {
     "name": "stderr",
     "output_type": "stream",
     "text": [
      "/home/kfir/workspace/RadarLocalization/dataset.py:256: VisibleDeprecationWarning: Creating an ndarray from ragged nested sequences (which is a list-or-tuple of lists-or-tuples-or ndarrays with different lengths or shapes) is deprecated. If you meant to do this, you must specify 'dtype=object' when creating the ndarray\n",
      "  veh_speed = np.array([(m['utime'], m['vel']) for m in self.veh_pose])\n",
      "/home/kfir/workspace/RadarLocalization/dataset.py:261: VisibleDeprecationWarning: Creating an ndarray from ragged nested sequences (which is a list-or-tuple of lists-or-tuples-or ndarrays with different lengths or shapes) is deprecated. If you meant to do this, you must specify 'dtype=object' when creating the ndarray\n",
      "  rot_imu = np.array([(m['utime'], m['q']) for m in self.imu])\n"
     ]
    },
    {
     "name": "stdout",
     "output_type": "stream",
     "text": [
      "Number of point tracks before run() 163\n",
      "Number of extended tracks before run() 3\n",
      "Updating extended object track =  1\n",
      "Updating extended object track =  2\n"
     ]
    },
    {
     "name": "stderr",
     "output_type": "stream",
     "text": [
      "/home/kfir/workspace/RadarLocalization/tracker.py:96: VisibleDeprecationWarning: Creating an ndarray from ragged nested sequences (which is a list-or-tuple of lists-or-tuples-or ndarrays with different lengths or shapes) is deprecated. If you meant to do this, you must specify 'dtype=object' when creating the ndarray\n",
      "  Ha = np.array([1, z[0], z[0]**2])\n",
      "/home/kfir/workspace/RadarLocalization/tracker.py:120: RuntimeWarning: divide by zero encountered in double_scalars\n",
      "  ratio = np.sqrt(lp)/le\n"
     ]
    },
    {
     "name": "stdout",
     "output_type": "stream",
     "text": [
      "created an extended object! [-2.65166046e+00 -6.24480602e-01 -2.02007205e-04  3.42719065e+01\n",
      "  5.43327898e+01] static_cars_flag True\n",
      "video_data[pos] [1127.17026109 1581.66549265    0.        ]\n",
      "frame_idx = 40\n",
      "Number of new plots 2\n",
      "Number of dynamic tracks before run() 3\n",
      "trk.kf.x = [[13.39549525]\n",
      " [ 3.1893124 ]\n",
      " [ 1.73244024]\n",
      " [ 0.14296053]] age = 40 hits = 29\n",
      "trk.kf.x = [[30.06148362]\n",
      " [ 1.06373277]\n",
      " [ 3.35262516]\n",
      " [-0.081908  ]] age = 37 hits = 36\n",
      "trk.kf.x = [[13.06768896]\n",
      " [ 3.35303777]\n",
      " [ 1.50177628]\n",
      " [ 0.46786814]] age = 11 hits = 2\n",
      "last_output [12.1251207  -7.34729582]\n"
     ]
    },
    {
     "name": "stderr",
     "output_type": "stream",
     "text": [
      "/home/kfir/.local/lib/python3.6/site-packages/nuscenes/map_expansion/map_api.py:1823: ShapelyDeprecationWarning: Iteration over multi-part geometries is deprecated and will be removed in Shapely 2.0. Use the `geoms` property to access the constituent parts of a multi-part geometry.\n",
      "  exteriors = [int_coords(poly.exterior.coords) for poly in polygons]\n",
      "/home/kfir/.local/lib/python3.6/site-packages/nuscenes/map_expansion/map_api.py:1824: ShapelyDeprecationWarning: Iteration over multi-part geometries is deprecated and will be removed in Shapely 2.0. Use the `geoms` property to access the constituent parts of a multi-part geometry.\n",
      "  interiors = [int_coords(pi.coords) for poly in polygons for pi in poly.interiors]\n"
     ]
    },
    {
     "name": "stdout",
     "output_type": "stream",
     "text": [
      "xlim [1118.5894775523313, 1205.2745224131986] self.first_pos[0] 1114.935313715233\n",
      "len(unique_polynoms) 2\n",
      "n_polynoms 4 cost_true [1.0491778882674236, 1.749106797859882, 1.3287409161276569, 16.63745540920328] cost_mean [1.0785418690811295, 1.4984230927871418, 1.1681588151509301, 12.512324573701406]\n",
      "abs_vel =[5.51476225]\n",
      "abs_vel =[7.07785573]\n",
      "frame 40\n"
     ]
    },
    {
     "name": "stderr",
     "output_type": "stream",
     "text": [
      "/home/kfir/workspace/RadarLocalization/dataset.py:256: VisibleDeprecationWarning: Creating an ndarray from ragged nested sequences (which is a list-or-tuple of lists-or-tuples-or ndarrays with different lengths or shapes) is deprecated. If you meant to do this, you must specify 'dtype=object' when creating the ndarray\n",
      "  veh_speed = np.array([(m['utime'], m['vel']) for m in self.veh_pose])\n",
      "/home/kfir/workspace/RadarLocalization/dataset.py:261: VisibleDeprecationWarning: Creating an ndarray from ragged nested sequences (which is a list-or-tuple of lists-or-tuples-or ndarrays with different lengths or shapes) is deprecated. If you meant to do this, you must specify 'dtype=object' when creating the ndarray\n",
      "  rot_imu = np.array([(m['utime'], m['q']) for m in self.imu])\n"
     ]
    },
    {
     "name": "stdout",
     "output_type": "stream",
     "text": [
      "Number of point tracks before run() 160\n",
      "Number of extended tracks before run() 4\n",
      "Updating extended object track =  3\n",
      "Updating extended object track =  0\n",
      "Updating extended object track =  0\n",
      "Updating extended object track =  2\n",
      "Updating extended object track =  2\n",
      "Updating extended object track =  3\n"
     ]
    },
    {
     "name": "stderr",
     "output_type": "stream",
     "text": [
      "/home/kfir/workspace/RadarLocalization/tracker.py:96: VisibleDeprecationWarning: Creating an ndarray from ragged nested sequences (which is a list-or-tuple of lists-or-tuples-or ndarrays with different lengths or shapes) is deprecated. If you meant to do this, you must specify 'dtype=object' when creating the ndarray\n",
      "  Ha = np.array([1, z[0], z[0]**2])\n",
      "/home/kfir/workspace/RadarLocalization/tracker.py:120: RuntimeWarning: divide by zero encountered in double_scalars\n",
      "  ratio = np.sqrt(lp)/le\n"
     ]
    },
    {
     "name": "stdout",
     "output_type": "stream",
     "text": [
      "created an extended object! [ 7.33094173e+01 -2.25500729e+00  1.39481931e-02  5.20111317e+01\n",
      "  6.08266067e+01] static_cars_flag True\n",
      "video_data[pos] [1127.8306326  1581.24393721    0.        ]\n",
      "frame_idx = 41\n",
      "Number of new plots 2\n",
      "Number of dynamic tracks before run() 2\n",
      "trk.kf.x = [[13.68465685]\n",
      " [ 3.2831519 ]\n",
      " [ 1.84101166]\n",
      " [ 0.24499395]] age = 41 hits = 30\n",
      "trk.kf.x = [[30.60002497]\n",
      " [ 1.02343324]\n",
      " [ 3.47296677]\n",
      " [-0.07481129]] age = 38 hits = 37\n",
      "last_output [12.43444361 -7.53638196]\n"
     ]
    },
    {
     "name": "stderr",
     "output_type": "stream",
     "text": [
      "/home/kfir/.local/lib/python3.6/site-packages/nuscenes/map_expansion/map_api.py:1823: ShapelyDeprecationWarning: Iteration over multi-part geometries is deprecated and will be removed in Shapely 2.0. Use the `geoms` property to access the constituent parts of a multi-part geometry.\n",
      "  exteriors = [int_coords(poly.exterior.coords) for poly in polygons]\n",
      "/home/kfir/.local/lib/python3.6/site-packages/nuscenes/map_expansion/map_api.py:1824: ShapelyDeprecationWarning: Iteration over multi-part geometries is deprecated and will be removed in Shapely 2.0. Use the `geoms` property to access the constituent parts of a multi-part geometry.\n",
      "  interiors = [int_coords(pi.coords) for poly in polygons for pi in poly.interiors]\n"
     ]
    },
    {
     "name": "stdout",
     "output_type": "stream",
     "text": [
      "xlim [1118.5894775523313, 1205.2745224131986] self.first_pos[0] 1114.935313715233\n",
      "len(unique_polynoms) 3\n",
      "n_polynoms 5 cost_true [1.0588668420384746, 2.2257041516783196, 1.2611752467426742, 16.114015998492413, 75.03180308376596] cost_mean [1.0430163411120226, 1.8600740309202364, 1.1690470634549899, 11.855202417314528, 65.65075349766404]\n",
      "abs_vel =[5.5468794]\n",
      "abs_vel =[7.11421366]\n",
      "frame 41\n"
     ]
    },
    {
     "name": "stderr",
     "output_type": "stream",
     "text": [
      "/home/kfir/workspace/RadarLocalization/dataset.py:256: VisibleDeprecationWarning: Creating an ndarray from ragged nested sequences (which is a list-or-tuple of lists-or-tuples-or ndarrays with different lengths or shapes) is deprecated. If you meant to do this, you must specify 'dtype=object' when creating the ndarray\n",
      "  veh_speed = np.array([(m['utime'], m['vel']) for m in self.veh_pose])\n",
      "/home/kfir/workspace/RadarLocalization/dataset.py:261: VisibleDeprecationWarning: Creating an ndarray from ragged nested sequences (which is a list-or-tuple of lists-or-tuples-or ndarrays with different lengths or shapes) is deprecated. If you meant to do this, you must specify 'dtype=object' when creating the ndarray\n",
      "  rot_imu = np.array([(m['utime'], m['q']) for m in self.imu])\n"
     ]
    },
    {
     "name": "stdout",
     "output_type": "stream",
     "text": [
      "Number of point tracks before run() 159\n",
      "Number of extended tracks before run() 5\n",
      "Updating extended object track =  1\n",
      "Updating extended object track =  0\n",
      "Updating extended object track =  2\n",
      "Updating extended object track =  1\n",
      "Updating extended object track =  3\n",
      "Updating extended object track =  2\n",
      "Updating extended object track =  3\n",
      "Updating extended object track =  4\n",
      "Updating extended object track =  3\n"
     ]
    },
    {
     "name": "stderr",
     "output_type": "stream",
     "text": [
      "/home/kfir/workspace/RadarLocalization/tracker.py:96: VisibleDeprecationWarning: Creating an ndarray from ragged nested sequences (which is a list-or-tuple of lists-or-tuples-or ndarrays with different lengths or shapes) is deprecated. If you meant to do this, you must specify 'dtype=object' when creating the ndarray\n",
      "  Ha = np.array([1, z[0], z[0]**2])\n",
      "/home/kfir/workspace/RadarLocalization/tracker.py:120: RuntimeWarning: divide by zero encountered in double_scalars\n",
      "  ratio = np.sqrt(lp)/le\n"
     ]
    },
    {
     "name": "stdout",
     "output_type": "stream",
     "text": [
      "Tracks are similar! do not open a new trk (-0.21925414213010297, -0.6881738458981477, 0.0027553045248617856) (0.0, -0.7558133955710524, 0.0024906117098063784)\n",
      "video_data[pos] [1128.12378242 1581.0607716     0.        ]\n",
      "frame_idx = 42\n",
      "Number of new plots 2\n",
      "Number of dynamic tracks before run() 2\n",
      "trk.kf.x = [[13.80958546]\n",
      " [ 3.27132614]\n",
      " [ 1.8876248 ]\n",
      " [ 0.2360494 ]] age = 42 hits = 31\n",
      "trk.kf.x = [[30.82671124]\n",
      " [ 1.07042383]\n",
      " [ 3.4723301 ]\n",
      " [-0.03679224]] age = 39 hits = 38\n",
      "last_output [13.12644597 -7.96427199]\n"
     ]
    },
    {
     "name": "stderr",
     "output_type": "stream",
     "text": [
      "/home/kfir/.local/lib/python3.6/site-packages/nuscenes/map_expansion/map_api.py:1823: ShapelyDeprecationWarning: Iteration over multi-part geometries is deprecated and will be removed in Shapely 2.0. Use the `geoms` property to access the constituent parts of a multi-part geometry.\n",
      "  exteriors = [int_coords(poly.exterior.coords) for poly in polygons]\n",
      "/home/kfir/.local/lib/python3.6/site-packages/nuscenes/map_expansion/map_api.py:1824: ShapelyDeprecationWarning: Iteration over multi-part geometries is deprecated and will be removed in Shapely 2.0. Use the `geoms` property to access the constituent parts of a multi-part geometry.\n",
      "  interiors = [int_coords(pi.coords) for poly in polygons for pi in poly.interiors]\n"
     ]
    },
    {
     "name": "stdout",
     "output_type": "stream",
     "text": [
      "xlim [1118.5894775523313, 1205.2745224131986] self.first_pos[0] 1114.935313715233\n",
      "len(unique_polynoms) 5\n",
      "n_polynoms 5 cost_true [1.0499584412555603, 1.6198838017291088, 1.245723293266615, 13.226697976780088, 69.51163607539571] cost_mean [1.031063919463831, 1.3817740153735667, 1.1132624904572763, 9.946576886174498, 58.99641878358971]\n",
      "abs_vel =[5.57877397]\n",
      "abs_vel =[7.14890535]\n",
      "frame 42\n"
     ]
    },
    {
     "name": "stderr",
     "output_type": "stream",
     "text": [
      "/home/kfir/workspace/RadarLocalization/dataset.py:256: VisibleDeprecationWarning: Creating an ndarray from ragged nested sequences (which is a list-or-tuple of lists-or-tuples-or ndarrays with different lengths or shapes) is deprecated. If you meant to do this, you must specify 'dtype=object' when creating the ndarray\n",
      "  veh_speed = np.array([(m['utime'], m['vel']) for m in self.veh_pose])\n",
      "/home/kfir/workspace/RadarLocalization/dataset.py:261: VisibleDeprecationWarning: Creating an ndarray from ragged nested sequences (which is a list-or-tuple of lists-or-tuples-or ndarrays with different lengths or shapes) is deprecated. If you meant to do this, you must specify 'dtype=object' when creating the ndarray\n",
      "  rot_imu = np.array([(m['utime'], m['q']) for m in self.imu])\n"
     ]
    },
    {
     "name": "stdout",
     "output_type": "stream",
     "text": [
      "Number of point tracks before run() 148\n",
      "Number of extended tracks before run() 5\n",
      "Updating extended object track =  0\n",
      "Updating extended object track =  1\n",
      "Updating extended object track =  0\n",
      "Updating extended object track =  3\n",
      "Updating extended object track =  0\n",
      "Updating extended object track =  2\n"
     ]
    },
    {
     "name": "stderr",
     "output_type": "stream",
     "text": [
      "/home/kfir/workspace/RadarLocalization/tracker.py:96: VisibleDeprecationWarning: Creating an ndarray from ragged nested sequences (which is a list-or-tuple of lists-or-tuples-or ndarrays with different lengths or shapes) is deprecated. If you meant to do this, you must specify 'dtype=object' when creating the ndarray\n",
      "  Ha = np.array([1, z[0], z[0]**2])\n",
      "/home/kfir/workspace/RadarLocalization/tracker.py:120: RuntimeWarning: divide by zero encountered in double_scalars\n",
      "  ratio = np.sqrt(lp)/le\n"
     ]
    },
    {
     "name": "stdout",
     "output_type": "stream",
     "text": [
      "Tracks are similar! do not open a new trk (-0.0117084182495234, -0.696129111194273, 0.0025596625267613744) (0.0, -0.617124039357474, -0.0005390066782090214)\n",
      "video_data[pos] [1128.47467572 1580.836461      0.        ]\n",
      "frame_idx = 43\n",
      "Number of new plots 2\n",
      "Number of dynamic tracks before run() 2\n",
      "trk.kf.x = [[13.95245968]\n",
      " [ 3.28827927]\n",
      " [ 1.91937954]\n",
      " [ 0.24575818]] age = 43 hits = 32\n",
      "trk.kf.x = [[31.14221929]\n",
      " [ 1.06383816]\n",
      " [ 3.57320335]\n",
      " [-0.03230861]] age = 40 hits = 39\n",
      "last_output [13.43800046 -8.15668067]\n"
     ]
    },
    {
     "name": "stderr",
     "output_type": "stream",
     "text": [
      "/home/kfir/.local/lib/python3.6/site-packages/nuscenes/map_expansion/map_api.py:1823: ShapelyDeprecationWarning: Iteration over multi-part geometries is deprecated and will be removed in Shapely 2.0. Use the `geoms` property to access the constituent parts of a multi-part geometry.\n",
      "  exteriors = [int_coords(poly.exterior.coords) for poly in polygons]\n",
      "/home/kfir/.local/lib/python3.6/site-packages/nuscenes/map_expansion/map_api.py:1824: ShapelyDeprecationWarning: Iteration over multi-part geometries is deprecated and will be removed in Shapely 2.0. Use the `geoms` property to access the constituent parts of a multi-part geometry.\n",
      "  interiors = [int_coords(pi.coords) for poly in polygons for pi in poly.interiors]\n"
     ]
    },
    {
     "name": "stdout",
     "output_type": "stream",
     "text": [
      "xlim [1118.5894775523313, 1205.2745224131986] self.first_pos[0] 1114.935313715233\n",
      "len(unique_polynoms) 4\n",
      "n_polynoms 5 cost_true [1.072547803337743, 1.8225383946749347, 1.2911700976290275, 14.04475543965564, 69.73123924881848] cost_mean [1.0490171057514885, 1.5191002836745056, 1.1566781433463342, 10.881177226363643, 59.975844839787115]\n",
      "abs_vel =[5.60988936]\n",
      "abs_vel =[7.18433905]\n",
      "frame 43\n"
     ]
    },
    {
     "name": "stderr",
     "output_type": "stream",
     "text": [
      "/home/kfir/workspace/RadarLocalization/dataset.py:256: VisibleDeprecationWarning: Creating an ndarray from ragged nested sequences (which is a list-or-tuple of lists-or-tuples-or ndarrays with different lengths or shapes) is deprecated. If you meant to do this, you must specify 'dtype=object' when creating the ndarray\n",
      "  veh_speed = np.array([(m['utime'], m['vel']) for m in self.veh_pose])\n",
      "/home/kfir/workspace/RadarLocalization/dataset.py:261: VisibleDeprecationWarning: Creating an ndarray from ragged nested sequences (which is a list-or-tuple of lists-or-tuples-or ndarrays with different lengths or shapes) is deprecated. If you meant to do this, you must specify 'dtype=object' when creating the ndarray\n",
      "  rot_imu = np.array([(m['utime'], m['q']) for m in self.imu])\n"
     ]
    },
    {
     "name": "stdout",
     "output_type": "stream",
     "text": [
      "Number of point tracks before run() 149\n",
      "Number of extended tracks before run() 5\n",
      "Updating extended object track =  0\n",
      "Updating extended object track =  1\n",
      "Updating extended object track =  1\n",
      "Updating extended object track =  4\n"
     ]
    },
    {
     "name": "stderr",
     "output_type": "stream",
     "text": [
      "/home/kfir/workspace/RadarLocalization/tracker.py:96: VisibleDeprecationWarning: Creating an ndarray from ragged nested sequences (which is a list-or-tuple of lists-or-tuples-or ndarrays with different lengths or shapes) is deprecated. If you meant to do this, you must specify 'dtype=object' when creating the ndarray\n",
      "  Ha = np.array([1, z[0], z[0]**2])\n",
      "/home/kfir/workspace/RadarLocalization/tracker.py:120: RuntimeWarning: divide by zero encountered in double_scalars\n",
      "  ratio = np.sqrt(lp)/le\n"
     ]
    },
    {
     "name": "stdout",
     "output_type": "stream",
     "text": [
      "video_data[pos] [1128.80696694 1580.6211474     0.        ]\n",
      "frame_idx = 44\n",
      "Number of new plots 2\n",
      "Number of dynamic tracks before run() 2\n",
      "trk.kf.x = [[14.09328724]\n",
      " [ 3.33350914]\n",
      " [ 1.93541746]\n",
      " [ 0.26791485]] age = 44 hits = 33\n",
      "trk.kf.x = [[ 3.14125136e+01]\n",
      " [ 1.09379553e+00]\n",
      " [ 3.62431027e+00]\n",
      " [-2.07475008e-02]] age = 41 hits = 40\n",
      "last_output [13.79260772 -8.3789043 ]\n"
     ]
    },
    {
     "name": "stderr",
     "output_type": "stream",
     "text": [
      "/home/kfir/.local/lib/python3.6/site-packages/nuscenes/map_expansion/map_api.py:1823: ShapelyDeprecationWarning: Iteration over multi-part geometries is deprecated and will be removed in Shapely 2.0. Use the `geoms` property to access the constituent parts of a multi-part geometry.\n",
      "  exteriors = [int_coords(poly.exterior.coords) for poly in polygons]\n",
      "/home/kfir/.local/lib/python3.6/site-packages/nuscenes/map_expansion/map_api.py:1824: ShapelyDeprecationWarning: Iteration over multi-part geometries is deprecated and will be removed in Shapely 2.0. Use the `geoms` property to access the constituent parts of a multi-part geometry.\n",
      "  interiors = [int_coords(pi.coords) for poly in polygons for pi in poly.interiors]\n"
     ]
    },
    {
     "name": "stdout",
     "output_type": "stream",
     "text": [
      "xlim [1118.5894775523313, 1205.2745224131986] self.first_pos[0] 1114.935313715233\n",
      "len(unique_polynoms) 3\n",
      "n_polynoms 5 cost_true [1.0386625112256247, 1.818196658455824, 1.4392724144638893, 18.01062471926661, 64.9155929138827] cost_mean [1.063944172530096, 1.5615288681297712, 1.2474292797709432, 13.782058060787866, 55.02608678048082]\n",
      "abs_vel =[5.64007229]\n",
      "abs_vel =[7.21939618]\n",
      "frame 44\n"
     ]
    },
    {
     "name": "stderr",
     "output_type": "stream",
     "text": [
      "/home/kfir/workspace/RadarLocalization/dataset.py:256: VisibleDeprecationWarning: Creating an ndarray from ragged nested sequences (which is a list-or-tuple of lists-or-tuples-or ndarrays with different lengths or shapes) is deprecated. If you meant to do this, you must specify 'dtype=object' when creating the ndarray\n",
      "  veh_speed = np.array([(m['utime'], m['vel']) for m in self.veh_pose])\n",
      "/home/kfir/workspace/RadarLocalization/dataset.py:261: VisibleDeprecationWarning: Creating an ndarray from ragged nested sequences (which is a list-or-tuple of lists-or-tuples-or ndarrays with different lengths or shapes) is deprecated. If you meant to do this, you must specify 'dtype=object' when creating the ndarray\n",
      "  rot_imu = np.array([(m['utime'], m['q']) for m in self.imu])\n"
     ]
    },
    {
     "name": "stdout",
     "output_type": "stream",
     "text": [
      "Number of point tracks before run() 162\n",
      "Number of extended tracks before run() 5\n",
      "Updating extended object track =  1\n",
      "Updating extended object track =  3\n",
      "Updating extended object track =  4\n",
      "Updating extended object track =  3\n",
      "Updating extended object track =  3\n",
      "Updating extended object track =  2\n",
      "Updating extended object track =  2\n"
     ]
    },
    {
     "name": "stderr",
     "output_type": "stream",
     "text": [
      "/home/kfir/workspace/RadarLocalization/tracker.py:96: VisibleDeprecationWarning: Creating an ndarray from ragged nested sequences (which is a list-or-tuple of lists-or-tuples-or ndarrays with different lengths or shapes) is deprecated. If you meant to do this, you must specify 'dtype=object' when creating the ndarray\n",
      "  Ha = np.array([1, z[0], z[0]**2])\n",
      "/home/kfir/workspace/RadarLocalization/tracker.py:120: RuntimeWarning: divide by zero encountered in double_scalars\n",
      "  ratio = np.sqrt(lp)/le\n"
     ]
    },
    {
     "name": "stdout",
     "output_type": "stream",
     "text": [
      "Tracks are similar! do not open a new trk (0.05446637843479629, -0.7018691149675338, 0.0031109104529816636) (0.0, -0.6711535017218383, 0.000564174327280688)\n",
      "video_data[pos] [1129.14333116 1580.40674376    0.        ]\n",
      "frame_idx = 45\n",
      "Number of new plots 2\n",
      "Number of dynamic tracks before run() 2\n",
      "trk.kf.x = [[14.24046743]\n",
      " [ 3.30449365]\n",
      " [ 1.93819778]\n",
      " [ 0.24174925]] age = 45 hits = 34\n",
      "trk.kf.x = [[31.69502462]\n",
      " [ 1.03979095]\n",
      " [ 3.64756013]\n",
      " [-0.03445232]] age = 42 hits = 41\n",
      "last_output [14.09596211 -8.56728274]\n"
     ]
    },
    {
     "name": "stderr",
     "output_type": "stream",
     "text": [
      "/home/kfir/.local/lib/python3.6/site-packages/nuscenes/map_expansion/map_api.py:1823: ShapelyDeprecationWarning: Iteration over multi-part geometries is deprecated and will be removed in Shapely 2.0. Use the `geoms` property to access the constituent parts of a multi-part geometry.\n",
      "  exteriors = [int_coords(poly.exterior.coords) for poly in polygons]\n",
      "/home/kfir/.local/lib/python3.6/site-packages/nuscenes/map_expansion/map_api.py:1824: ShapelyDeprecationWarning: Iteration over multi-part geometries is deprecated and will be removed in Shapely 2.0. Use the `geoms` property to access the constituent parts of a multi-part geometry.\n",
      "  interiors = [int_coords(pi.coords) for poly in polygons for pi in poly.interiors]\n"
     ]
    },
    {
     "name": "stdout",
     "output_type": "stream",
     "text": [
      "xlim [1118.5894775523313, 1205.2745224131986] self.first_pos[0] 1114.935313715233\n",
      "len(unique_polynoms) 4\n",
      "n_polynoms 5 cost_true [1.043638777418335, 2.081144286062754, 1.2350415090012903, 17.9824998318335, 80.44309301152492] cost_mean [1.051405283585436, 1.7572258793828457, 1.1235822514984242, 13.651525990907924, 68.69244845367126]\n",
      "abs_vel =[5.66948538]\n",
      "abs_vel =[7.25390804]\n",
      "frame 45\n"
     ]
    },
    {
     "name": "stderr",
     "output_type": "stream",
     "text": [
      "/home/kfir/workspace/RadarLocalization/dataset.py:256: VisibleDeprecationWarning: Creating an ndarray from ragged nested sequences (which is a list-or-tuple of lists-or-tuples-or ndarrays with different lengths or shapes) is deprecated. If you meant to do this, you must specify 'dtype=object' when creating the ndarray\n",
      "  veh_speed = np.array([(m['utime'], m['vel']) for m in self.veh_pose])\n",
      "/home/kfir/workspace/RadarLocalization/dataset.py:261: VisibleDeprecationWarning: Creating an ndarray from ragged nested sequences (which is a list-or-tuple of lists-or-tuples-or ndarrays with different lengths or shapes) is deprecated. If you meant to do this, you must specify 'dtype=object' when creating the ndarray\n",
      "  rot_imu = np.array([(m['utime'], m['q']) for m in self.imu])\n"
     ]
    },
    {
     "name": "stdout",
     "output_type": "stream",
     "text": [
      "Number of point tracks before run() 156\n",
      "Number of extended tracks before run() 5\n",
      "Updating extended object track =  3\n",
      "Updating extended object track =  1\n",
      "Updating extended object track =  3\n",
      "Updating extended object track =  2\n",
      "Updating extended object track =  3\n",
      "Updating extended object track =  4\n",
      "Updating extended object track =  2\n"
     ]
    },
    {
     "name": "stderr",
     "output_type": "stream",
     "text": [
      "/home/kfir/workspace/RadarLocalization/tracker.py:96: VisibleDeprecationWarning: Creating an ndarray from ragged nested sequences (which is a list-or-tuple of lists-or-tuples-or ndarrays with different lengths or shapes) is deprecated. If you meant to do this, you must specify 'dtype=object' when creating the ndarray\n",
      "  Ha = np.array([1, z[0], z[0]**2])\n",
      "/home/kfir/workspace/RadarLocalization/tracker.py:120: RuntimeWarning: divide by zero encountered in double_scalars\n",
      "  ratio = np.sqrt(lp)/le\n"
     ]
    },
    {
     "name": "stdout",
     "output_type": "stream",
     "text": [
      "video_data[pos] [1129.78607272 1579.99208573    0.        ]\n",
      "frame_idx = 46\n",
      "Number of new plots 2\n",
      "Number of dynamic tracks before run() 2\n",
      "trk.kf.x = [[14.51017595]\n",
      " [ 3.3246045 ]\n",
      " [ 1.91664735]\n",
      " [ 0.24821849]] age = 46 hits = 35\n",
      "trk.kf.x = [[ 3.22354516e+01]\n",
      " [ 1.05927707e+00]\n",
      " [ 3.65528049e+00]\n",
      " [-6.35475851e-03]] age = 43 hits = 42\n",
      "last_output [14.45059428 -8.7871383 ]\n"
     ]
    },
    {
     "name": "stderr",
     "output_type": "stream",
     "text": [
      "/home/kfir/.local/lib/python3.6/site-packages/nuscenes/map_expansion/map_api.py:1823: ShapelyDeprecationWarning: Iteration over multi-part geometries is deprecated and will be removed in Shapely 2.0. Use the `geoms` property to access the constituent parts of a multi-part geometry.\n",
      "  exteriors = [int_coords(poly.exterior.coords) for poly in polygons]\n",
      "/home/kfir/.local/lib/python3.6/site-packages/nuscenes/map_expansion/map_api.py:1824: ShapelyDeprecationWarning: Iteration over multi-part geometries is deprecated and will be removed in Shapely 2.0. Use the `geoms` property to access the constituent parts of a multi-part geometry.\n",
      "  interiors = [int_coords(pi.coords) for poly in polygons for pi in poly.interiors]\n"
     ]
    },
    {
     "name": "stdout",
     "output_type": "stream",
     "text": [
      "xlim [1118.5894775523313, 1205.2745224131986] self.first_pos[0] 1114.935313715233\n",
      "len(unique_polynoms) 4\n",
      "n_polynoms 5 cost_true [1.102717444267376, 2.585861984550384, 1.2151932757997077, 17.345656152837176, 79.29346026220497] cost_mean [1.037312638772327, 2.2415510881004495, 1.1137410742040417, 13.354987155927915, 71.08331531652851]\n",
      "abs_vel =[5.69873221]\n",
      "abs_vel =[7.28867952]\n",
      "frame 46\n"
     ]
    },
    {
     "name": "stderr",
     "output_type": "stream",
     "text": [
      "/home/kfir/workspace/RadarLocalization/dataset.py:256: VisibleDeprecationWarning: Creating an ndarray from ragged nested sequences (which is a list-or-tuple of lists-or-tuples-or ndarrays with different lengths or shapes) is deprecated. If you meant to do this, you must specify 'dtype=object' when creating the ndarray\n",
      "  veh_speed = np.array([(m['utime'], m['vel']) for m in self.veh_pose])\n",
      "/home/kfir/workspace/RadarLocalization/dataset.py:261: VisibleDeprecationWarning: Creating an ndarray from ragged nested sequences (which is a list-or-tuple of lists-or-tuples-or ndarrays with different lengths or shapes) is deprecated. If you meant to do this, you must specify 'dtype=object' when creating the ndarray\n",
      "  rot_imu = np.array([(m['utime'], m['q']) for m in self.imu])\n"
     ]
    },
    {
     "name": "stdout",
     "output_type": "stream",
     "text": [
      "Number of point tracks before run() 170\n",
      "Number of extended tracks before run() 5\n",
      "Updating extended object track =  1\n",
      "Updating extended object track =  4\n",
      "Updating extended object track =  3\n",
      "Updating extended object track =  3\n",
      "Updating extended object track =  2\n"
     ]
    },
    {
     "name": "stderr",
     "output_type": "stream",
     "text": [
      "/home/kfir/workspace/RadarLocalization/tracker.py:96: VisibleDeprecationWarning: Creating an ndarray from ragged nested sequences (which is a list-or-tuple of lists-or-tuples-or ndarrays with different lengths or shapes) is deprecated. If you meant to do this, you must specify 'dtype=object' when creating the ndarray\n",
      "  Ha = np.array([1, z[0], z[0]**2])\n",
      "/home/kfir/workspace/RadarLocalization/tracker.py:120: RuntimeWarning: divide by zero encountered in double_scalars\n",
      "  ratio = np.sqrt(lp)/le\n"
     ]
    },
    {
     "name": "stdout",
     "output_type": "stream",
     "text": [
      "video_data[pos] [1130.12862207 1579.77539866    0.        ]\n",
      "frame_idx = 47\n",
      "Number of new plots 2\n",
      "Number of dynamic tracks before run() 2\n",
      "trk.kf.x = [[14.65182367]\n",
      " [ 3.31794212]\n",
      " [ 1.93110256]\n",
      " [ 0.2251388 ]] age = 47 hits = 36\n",
      "trk.kf.x = [[3.25116228e+01]\n",
      " [1.09122432e+00]\n",
      " [3.67403286e+00]\n",
      " [2.28862772e-03]] age = 44 hits = 43\n",
      "last_output [15.06941913 -9.17356965]\n"
     ]
    },
    {
     "name": "stderr",
     "output_type": "stream",
     "text": [
      "/home/kfir/.local/lib/python3.6/site-packages/nuscenes/map_expansion/map_api.py:1823: ShapelyDeprecationWarning: Iteration over multi-part geometries is deprecated and will be removed in Shapely 2.0. Use the `geoms` property to access the constituent parts of a multi-part geometry.\n",
      "  exteriors = [int_coords(poly.exterior.coords) for poly in polygons]\n",
      "/home/kfir/.local/lib/python3.6/site-packages/nuscenes/map_expansion/map_api.py:1824: ShapelyDeprecationWarning: Iteration over multi-part geometries is deprecated and will be removed in Shapely 2.0. Use the `geoms` property to access the constituent parts of a multi-part geometry.\n",
      "  interiors = [int_coords(pi.coords) for poly in polygons for pi in poly.interiors]\n"
     ]
    },
    {
     "name": "stdout",
     "output_type": "stream",
     "text": [
      "xlim [1118.5894775523313, 1205.2745224131986] self.first_pos[0] 1114.935313715233\n",
      "len(unique_polynoms) 4\n",
      "n_polynoms 5 cost_true [1.1054605125377535, 1.8945485830953, 1.3699614912496376, 16.589340985990916, 75.72819148484311] cost_mean [1.0580384086071173, 1.6571377603503563, 1.2251818063814341, 12.970190593871305, 66.62841258521512]\n",
      "abs_vel =[5.72751348]\n",
      "abs_vel =[7.32281835]\n",
      "frame 47\n"
     ]
    },
    {
     "name": "stderr",
     "output_type": "stream",
     "text": [
      "/home/kfir/workspace/RadarLocalization/dataset.py:256: VisibleDeprecationWarning: Creating an ndarray from ragged nested sequences (which is a list-or-tuple of lists-or-tuples-or ndarrays with different lengths or shapes) is deprecated. If you meant to do this, you must specify 'dtype=object' when creating the ndarray\n",
      "  veh_speed = np.array([(m['utime'], m['vel']) for m in self.veh_pose])\n",
      "/home/kfir/workspace/RadarLocalization/dataset.py:261: VisibleDeprecationWarning: Creating an ndarray from ragged nested sequences (which is a list-or-tuple of lists-or-tuples-or ndarrays with different lengths or shapes) is deprecated. If you meant to do this, you must specify 'dtype=object' when creating the ndarray\n",
      "  rot_imu = np.array([(m['utime'], m['q']) for m in self.imu])\n"
     ]
    },
    {
     "name": "stdout",
     "output_type": "stream",
     "text": [
      "Number of point tracks before run() 170\n",
      "Number of extended tracks before run() 5\n",
      "Updating extended object track =  1\n",
      "Updating extended object track =  0\n",
      "Updating extended object track =  1\n",
      "Updating extended object track =  3\n",
      "Updating extended object track =  3\n",
      "Updating extended object track =  2\n",
      "Updating extended object track =  4\n",
      "Updating extended object track =  2\n",
      "Updating extended object track =  2\n"
     ]
    },
    {
     "name": "stderr",
     "output_type": "stream",
     "text": [
      "/home/kfir/workspace/RadarLocalization/tracker.py:96: VisibleDeprecationWarning: Creating an ndarray from ragged nested sequences (which is a list-or-tuple of lists-or-tuples-or ndarrays with different lengths or shapes) is deprecated. If you meant to do this, you must specify 'dtype=object' when creating the ndarray\n",
      "  Ha = np.array([1, z[0], z[0]**2])\n",
      "/home/kfir/workspace/RadarLocalization/tracker.py:120: RuntimeWarning: divide by zero encountered in double_scalars\n",
      "  ratio = np.sqrt(lp)/le\n"
     ]
    },
    {
     "name": "stdout",
     "output_type": "stream",
     "text": [
      "Tracks are similar! do not open a new trk (-0.36382952772452803, -0.6401739967987566, 0.0022256811560516635) (0.0, -0.6204026359351946, -0.001100919321447022)\n",
      "video_data[pos] [1130.4788176  1579.55156831    0.        ]\n",
      "frame_idx = 48\n",
      "Number of new plots 2\n",
      "Number of dynamic tracks before run() 2\n",
      "trk.kf.x = [[14.79200493]\n",
      " [ 3.37031494]\n",
      " [ 1.92735691]\n",
      " [ 0.25583572]] age = 48 hits = 37\n",
      "trk.kf.x = [[3.27886715e+01]\n",
      " [1.11443950e+00]\n",
      " [3.67929533e+00]\n",
      " [8.22531546e-03]] age = 45 hits = 44\n",
      "last_output [15.433603   -9.39695397]\n"
     ]
    },
    {
     "name": "stderr",
     "output_type": "stream",
     "text": [
      "/home/kfir/.local/lib/python3.6/site-packages/nuscenes/map_expansion/map_api.py:1823: ShapelyDeprecationWarning: Iteration over multi-part geometries is deprecated and will be removed in Shapely 2.0. Use the `geoms` property to access the constituent parts of a multi-part geometry.\n",
      "  exteriors = [int_coords(poly.exterior.coords) for poly in polygons]\n",
      "/home/kfir/.local/lib/python3.6/site-packages/nuscenes/map_expansion/map_api.py:1824: ShapelyDeprecationWarning: Iteration over multi-part geometries is deprecated and will be removed in Shapely 2.0. Use the `geoms` property to access the constituent parts of a multi-part geometry.\n",
      "  interiors = [int_coords(pi.coords) for poly in polygons for pi in poly.interiors]\n"
     ]
    },
    {
     "name": "stdout",
     "output_type": "stream",
     "text": [
      "xlim [1118.5894775523313, 1205.2745224131986] self.first_pos[0] 1114.935313715233\n",
      "len(unique_polynoms) 5\n",
      "n_polynoms 5 cost_true [1.0392956612729494, 1.7968979759932455, 1.2005773845253198, 16.811335831291405, 70.72704792128962] cost_mean [1.0536056421669067, 1.5564125941983682, 1.122365078878084, 13.47025956294505, 61.523768202116216]\n",
      "abs_vel =[5.75563248]\n",
      "abs_vel =[7.35618999]\n",
      "frame 48\n"
     ]
    },
    {
     "name": "stderr",
     "output_type": "stream",
     "text": [
      "/home/kfir/workspace/RadarLocalization/dataset.py:256: VisibleDeprecationWarning: Creating an ndarray from ragged nested sequences (which is a list-or-tuple of lists-or-tuples-or ndarrays with different lengths or shapes) is deprecated. If you meant to do this, you must specify 'dtype=object' when creating the ndarray\n",
      "  veh_speed = np.array([(m['utime'], m['vel']) for m in self.veh_pose])\n",
      "/home/kfir/workspace/RadarLocalization/dataset.py:261: VisibleDeprecationWarning: Creating an ndarray from ragged nested sequences (which is a list-or-tuple of lists-or-tuples-or ndarrays with different lengths or shapes) is deprecated. If you meant to do this, you must specify 'dtype=object' when creating the ndarray\n",
      "  rot_imu = np.array([(m['utime'], m['q']) for m in self.imu])\n"
     ]
    },
    {
     "name": "stdout",
     "output_type": "stream",
     "text": [
      "Number of point tracks before run() 163\n",
      "Number of extended tracks before run() 5\n",
      "Updating extended object track =  3\n",
      "Updating extended object track =  4\n",
      "Updating extended object track =  0\n",
      "Updating extended object track =  2\n"
     ]
    },
    {
     "name": "stderr",
     "output_type": "stream",
     "text": [
      "/home/kfir/workspace/RadarLocalization/tracker.py:96: VisibleDeprecationWarning: Creating an ndarray from ragged nested sequences (which is a list-or-tuple of lists-or-tuples-or ndarrays with different lengths or shapes) is deprecated. If you meant to do this, you must specify 'dtype=object' when creating the ndarray\n",
      "  Ha = np.array([1, z[0], z[0]**2])\n",
      "/home/kfir/workspace/RadarLocalization/tracker.py:120: RuntimeWarning: divide by zero encountered in double_scalars\n",
      "  ratio = np.sqrt(lp)/le\n"
     ]
    }
   ],
   "source": [
    "scene = 690 #365\n",
    "model = RadarLocalizer(scene_id=scene, mm=True)\n",
    "video_list={'video' : True, 'video_debug': True, 'video_pf': True, 'video_pf_xy': False, 'dynamic_tracker': True}\n",
    "sim = NuscenesSimulation(nusc=nusc, model=model, scene_id=scene, Nmax=1200, video_list=video_list)\n",
    "sim.run(start=0, N=50, generate_video=False, video_with_priors=True, debug=False)"
   ]
  },
  {
   "cell_type": "code",
   "execution_count": null,
   "metadata": {},
   "outputs": [],
   "source": [
    "sim.video.generate(name=f\"video\\scene6_wmap.avi\", fps=5)"
   ]
  },
  {
   "cell_type": "code",
   "execution_count": 131,
   "metadata": {},
   "outputs": [
    {
     "name": "stdout",
     "output_type": "stream",
     "text": [
      "scene_id=365 scene_name=scene-0451 map_name=boston-seaport\n",
      "odom_speed [[1.53728725e+15 1.20000000e+01]\n",
      " [1.53728725e+15 1.20000000e+01]\n",
      " [1.53728725e+15 1.30000000e+01]\n",
      " ...\n",
      " [1.53728977e+15 2.60000000e+01]\n",
      " [1.53728977e+15 2.60000000e+01]\n",
      " [1.53728977e+15 2.60000000e+01]]\n",
      "gt [1872.7430668711531, 1071.9499580039733, 0.0] ins [1872.7430668711531, 1071.9499580039733, 0.0]\n",
      "gt [1872.9656838675555, 1072.1147770276675, 0.0] ins [1872.98214266 1072.12762265    0.        ]\n",
      "gt [1873.197021748008, 1072.2744418932002, 0.0] ins [1873.26474338 1072.32249811    0.        ]\n",
      "gt [1873.441761401517, 1072.4343429220644, 0.0] ins [1873.5228249  1072.48639182    0.        ]\n",
      "gt [1873.702274610831, 1072.5903339908991, 0.0] ins [1873.82757276 1072.66387166    0.        ]\n",
      "gt [1874.2541783730942, 1072.8830707104162, 0.0] ins [1874.44362047 1072.96742662    0.        ]\n",
      "gt [1874.5465496397987, 1073.018591867703, 0.0] ins [1874.73675211 1073.09710368    0.        ]\n",
      "gt [1874.8365718455975, 1073.1359006706575, 0.0] ins [1875.08722093 1073.23492923    0.        ]\n",
      "gt [1875.1290434114976, 1073.241538716121, 0.0] ins [1875.41195243 1073.35095533    0.        ]\n",
      "gt [1875.4540560857401, 1073.345008285823, 0.0] ins [1875.78330953 1073.46469353    0.        ]\n",
      "gt [1875.7475879676822, 1073.4273235681053, 0.0] ins [1876.11275768 1073.55095529    0.        ]\n",
      "gt [1876.405472215612, 1073.5694132924084, 0.0] ins [1876.85919314 1073.68667648    0.        ]\n",
      "gt [1876.7434675072277, 1073.6204403002444, 0.0] ins [1877.27047738 1073.74359233    0.        ]\n",
      "gt [1877.084551367542, 1073.65750509979, 0.0] ins [1877.62173526 1073.77789495    0.        ]\n",
      "gt [1877.434484254528, 1073.6810514628166, 0.0] ins [1878.03249061 1073.80221247    0.        ]\n",
      "gt [1877.776785693885, 1073.6914065089945, 0.0] ins [1878.36695595 1073.81283484    0.        ]\n",
      "gt [1878.1331015523697, 1073.6883410054102, 0.0] ins [1878.83029512 1073.81172496    0.        ]\n",
      "gt [1878.5143728875537, 1073.6727528252309, 0.0] ins [1879.2598942  1073.79533433    0.        ]\n",
      "gt [1879.2351386754317, 1073.6166678516347, 0.0] ins [1880.01682054 1073.72967405    0.        ]\n",
      "gt [1879.6147770160223, 1073.5718671542295, 0.0] ins [1880.45371393 1073.67953418    0.        ]\n",
      "gt [1879.9942905123303, 1073.5156917511154, 0.0] ins [1880.8382354  1073.62500959    0.        ]\n",
      "gt [1880.375534839375, 1073.4499298295198, 0.0] ins [1881.2896203  1073.55005174    0.        ]\n",
      "gt [1880.7667717181143, 1073.374269406009, 0.0] ins [1881.68492441 1073.4763699     0.        ]\n",
      "gt [1881.171186389093, 1073.2866051246579, 0.0] ins [1882.13656107 1073.3812781     0.        ]\n",
      "gt [1881.9946051440825, 1073.083754278304, 0.0] ins [1882.98717507 1073.1641475     0.        ]\n",
      "gt [1882.4227784614127, 1072.964364955894, 0.0] ins [1883.40004052 1073.05099231    0.        ]\n",
      "gt [1882.8816503442422, 1072.8276607928274, 0.0] ins [1883.9226257  1072.89526678    0.        ]\n",
      "gt [1883.2805600272982, 1072.7002013829187, 0.0] ins [1884.27629315 1072.78278731    0.        ]\n",
      "gt [1883.7083900873731, 1072.5551469547959, 0.0] ins [1884.75031154 1072.62227346    0.        ]\n",
      "gt [1884.594431860672, 1072.234236083089, 0.0] ins [1885.65498283 1072.28410584    0.        ]\n",
      "gt [1885.0219339949354, 1072.0688023988646, 0.0] ins [1886.13997628 1072.09320304    0.        ]\n",
      "gt [1885.431975865668, 1071.901951943744, 0.0] ins [1886.56081993 1071.92056879    0.        ]\n",
      "gt [1885.8775541081247, 1071.7136051144912, 0.0] ins [1886.99312592 1071.73693133    0.        ]\n",
      "gt [1886.320205914743, 1071.5172758494668, 0.0] ins [1887.48378977 1071.5188803     0.        ]\n",
      "gt [1886.796606072798, 1071.2965242627433, 0.0] ins [1887.98125096 1071.2872282     0.        ]\n",
      "gt [1887.6617603488498, 1070.873374006555, 0.0] ins [1888.85844646 1070.85723334    0.        ]\n",
      "gt [1888.1357879236398, 1070.6307254247267, 0.0] ins [1889.35848963 1070.60616325    0.        ]\n",
      "gt [1888.5926555962642, 1070.398266033985, 0.0] ins [1889.86040465 1070.34882518    0.        ]\n",
      "gt [1889.0245402334558, 1070.171592695462, 0.0] ins [1890.30708479 1070.11589492    0.        ]\n",
      "gt [1889.485539705554, 1069.9249041596245, 0.0] ins [1890.76119234 1069.87578926    0.        ]\n",
      "gt [1889.9466848826557, 1069.6747858334024, 0.0] ins [1891.27906245 1069.597624      0.        ]\n",
      "gt [1890.9008394155067, 1069.1485137253117, 0.0] ins [1892.2541128  1069.06130653    0.        ]\n",
      "gt [1891.4179405947189, 1068.8561599009267, 0.0] ins [1892.78263844 1068.76743719    0.        ]\n",
      "gt [1891.8849298344612, 1068.5889651619793, 0.0] ins [1893.25535187 1068.50165895    0.        ]\n",
      "gt [1892.3813866613339, 1068.302192109321, 0.0] ins [1893.72962086 1068.23170403    0.        ]\n",
      "gt [1892.8862111935464, 1068.0065100920442, 0.0] ins [1894.28670044 1067.91096575    0.        ]\n",
      "gt [1893.3957880444018, 1067.708670004783, 0.0] ins [1894.74886043 1067.64230931    0.        ]\n",
      "gt [1894.4616260155371, 1067.075267098295, 0.0] ins [1895.84893077 1066.98815178    0.        ]\n",
      "gt [1894.9795411826153, 1066.7609028472662, 0.0] ins [1896.34231033 1066.69286301    0.        ]\n",
      "gt [1895.4931452466385, 1066.4467291233764, 0.0] ins [1896.88717522 1066.36528714    0.        ]\n",
      "gt [1896.0174382484834, 1066.123135876451, 0.0] ins [1897.38139221 1066.06708692    0.        ]\n",
      "gt [1896.5433199677977, 1065.8002340758258, 0.0] ins [1897.95185069 1065.72196239    0.        ]\n",
      "gt [1897.0735302734438, 1065.469248039983, 0.0] ins [1898.43751635 1065.42754096    0.        ]\n",
      "gt [1898.1278136448775, 1064.8181726660275, 0.0] ins [1899.51766833 1064.7696444     0.        ]\n",
      "gt [1898.6530866934604, 1064.4929113149433, 0.0] ins [1900.09775549 1064.41609675    0.        ]\n",
      "gt [1899.1887058605278, 1064.160948628807, 0.0] ins [1900.60882224 1064.10417302    0.        ]\n",
      "gt [1899.7256811852935, 1063.8273088187277, 0.0] ins [1901.18563711 1063.7515163     0.        ]\n",
      "gt [1900.2642572770994, 1063.4904779730755, 0.0] ins [1901.70761439 1063.4319728     0.        ]\n",
      "gt [1901.3470842766142, 1062.8084311409502, 0.0] ins [1902.80726836 1062.75641017    0.        ]\n",
      "gt [1901.9252911618319, 1062.442264990233, 0.0] ins [1903.39369708 1062.39602576    0.        ]\n",
      "gt [1902.4692390451394, 1062.0966226249864, 0.0] ins [1903.99149108 1062.02845527    0.        ]\n",
      "gt [1903.0130663093719, 1061.7494621884853, 0.0] ins [1904.5346351  1061.69436797    0.        ]\n",
      "gt [1903.5689467584302, 1061.3986883076814, 0.0] ins [1905.12741236 1061.32951367    0.        ]\n",
      "gt [1904.1318584724197, 1061.0413233144573, 0.0] ins [1905.6532071 1061.0057357    0.       ]\n",
      "gt [1905.268018881427, 1060.3188167603978, 0.0] ins [1906.80491308 1060.2966541     0.        ]\n",
      "gt [1905.8428512204257, 1059.9526799491373, 0.0] ins [1907.41548621 1059.920458      0.        ]\n",
      "gt [1906.4051994355175, 1059.5917612217168, 0.0] ins [1907.95061532 1059.59059519    0.        ]\n",
      "gt [1906.968683035555, 1059.2288347923036, 0.0] ins [1908.5651364 1059.2118062    0.       ]\n",
      "gt [1907.5304077263888, 1058.8685708110186, 0.0] ins [1909.11583985 1058.87230276    0.        ]\n",
      "gt [1908.66162111404, 1058.1424163937622, 0.0] ins [1910.29744776 1058.14335415    0.        ]\n",
      "gt [1909.818380177645, 1057.3949697840742, 0.0] ins [1911.44541984 1057.43479257    0.        ]\n",
      "gt [1910.3957331358606, 1057.0270094588705, 0.0] ins [1912.06671437 1057.05149116    0.        ]\n",
      "gt [1911.0196312345543, 1056.6331470102314, 0.0] ins [1912.69597968 1056.6633537     0.        ]\n",
      "gt [1911.5710398369838, 1056.2830700696777, 0.0] ins [1913.24758457 1056.32331868    0.        ]\n",
      "gt [1912.8176751989986, 1055.4884551894547, 0.0] ins [1914.50311102 1055.54995234    0.        ]\n",
      "gt [1913.3330210059798, 1055.1560205483875, 0.0] ins [1915.00737097 1055.23939824    0.        ]\n",
      "gt [1913.9561853271334, 1054.754806416435, 0.0] ins [1915.61087612 1054.86782229    0.        ]\n",
      "gt [1914.5128954096072, 1054.4004698288245, 0.0] ins [1916.17309203 1054.52164963    0.        ]\n",
      "gt [1915.1036469828286, 1054.0257666743587, 0.0] ins [1916.80985588 1054.12972983    0.        ]\n",
      "gt [1915.7192184226938, 1053.6362259385078, 0.0] ins [1917.44072146 1053.74152677    0.        ]\n",
      "gt [1916.9010549508112, 1052.883150173278, 0.0] ins [1918.63939588 1053.00392802    0.        ]\n",
      "gt [1917.4547466039826, 1052.530268474874, 0.0] ins [1919.20020971 1052.6589185     0.        ]\n",
      "gt [1918.0768104450794, 1052.138312959496, 0.0] ins [1919.84951504 1052.25951264    0.        ]\n",
      "gt [1918.6510125583213, 1051.776359142938, 0.0] ins [1920.40857233 1051.91566013    0.        ]\n"
     ]
    },
    {
     "name": "stdout",
     "output_type": "stream",
     "text": [
      "gt [1919.240768721885, 1051.3982299692614, 0.0] ins [1921.05246498 1051.51945754    0.        ]\n",
      "gt [1920.43550779341, 1050.6401859246007, 0.0] ins [1922.26522586 1050.77306746    0.        ]\n",
      "gt [1921.0387726742154, 1050.2578009934596, 0.0] ins [1922.83346561 1050.42338073    0.        ]\n",
      "gt [1921.6525444341269, 1049.868272389079, 0.0] ins [1923.48419476 1050.02292154    0.        ]\n",
      "gt [1922.263063608517, 1049.4769942121188, 0.0] ins [1924.07083828 1049.6619455     0.        ]\n",
      "gt [1922.8597750514552, 1049.0991385090683, 0.0] ins [1924.71711875 1049.26454964    0.        ]\n",
      "gt [1923.462421075392, 1048.7163832005515, 0.0] ins [1925.29258452 1048.9108101     0.        ]\n",
      "gt [1924.6715978329134, 1047.9457771198702, 0.0] ins [1926.5298465  1048.14940737    0.        ]\n",
      "gt [1925.2767122516616, 1047.5589263694637, 0.0] ins [1927.18888244 1047.74354935    0.        ]\n",
      "gt [1925.887104397188, 1047.1713267793093, 0.0] ins [1927.7645791  1047.38867673    0.        ]\n",
      "gt [1926.4990046782855, 1046.7797702323242, 0.0] ins [1928.42978349 1046.9784717     0.        ]\n",
      "gt [1927.1100131762519, 1046.3888900210522, 0.0] ins [1929.01717092 1046.61605888    0.        ]\n",
      "gt [1928.325521621076, 1045.6171931899255, 0.0] ins [1930.26612561 1045.84507821    0.        ]\n",
      "gt [1928.992191243245, 1045.191042918948, 0.0] ins [1930.93892943 1045.42965561    0.        ]\n",
      "gt [1929.576035628643, 1044.819937781489, 0.0] ins [1931.52930459 1045.06493281    0.        ]\n",
      "gt [1930.2530149215954, 1044.3890289407623, 0.0] ins [1932.2205477  1044.63760622    0.        ]\n",
      "gt [1930.8761740599693, 1043.9930787656906, 0.0] ins [1932.88147629 1044.22899262    0.        ]\n",
      "gt [1931.5121786119826, 1043.5872598479614, 0.0] ins [1933.46403596 1043.86891174    0.        ]\n",
      "gt [1932.7632436425984, 1042.7959465989074, 0.0] ins [1934.74940481 1043.07514391    0.        ]\n",
      "gt [1933.3902025918446, 1042.3971073390026, 0.0] ins [1935.42994999 1042.6548531     0.        ]\n",
      "gt [1934.0244211342092, 1041.992998449337, 0.0] ins [1936.01698696 1042.29244686    0.        ]\n",
      "gt [1934.666461206482, 1041.5880085610509, 0.0] ins [1936.7031945  1041.86915167    0.        ]\n",
      "gt [1935.309067881367, 1041.1812688822974, 0.0] ins [1937.30608977 1041.49761953    0.        ]\n",
      "gt [1936.555507841333, 1040.3997594399661, 0.0] ins [1938.59283962 1040.70673693    0.        ]\n",
      "gt [1937.209943387386, 1039.9890126083794, 0.0] ins [1939.20335689 1040.33181181    0.        ]\n",
      "gt [1937.905131911306, 1039.5494125146056, 0.0] ins [1939.98075556 1039.85451944    0.        ]\n",
      "gt [1938.5421018365146, 1039.1476533834661, 0.0] ins [1940.59797106 1039.4757732     0.        ]\n",
      "gt [1939.1809496764163, 1038.7470266531602, 0.0] ins [1941.19853363 1039.10744607    0.        ]\n",
      "gt [1939.8350573939017, 1038.3376837846326, 0.0] ins [1941.90645986 1038.6737126     0.        ]\n",
      "gt [1941.1391238067874, 1037.517979239285, 0.0] ins [1943.25855    1037.84588104    0.        ]\n",
      "gt [1941.78679380406, 1037.1165770752295, 0.0] ins [1943.82933615 1037.49642754    0.        ]\n",
      "gt [1942.4342265149564, 1036.7148229067127, 0.0] ins [1944.53857242 1037.06232008    0.        ]\n",
      "gt [1943.0792586422806, 1036.3130370439771, 0.0] ins [1945.16073578 1036.68127968    0.        ]\n",
      "gt [1943.7082657061433, 1035.9130961489248, 0.0] ins [1945.85957973 1036.25319872    0.        ]\n",
      "gt [1944.3503601535251, 1035.5122756896462, 0.0] ins [1946.49552585 1035.86368133    0.        ]\n",
      "gt [1945.6571555850055, 1034.6919664354227, 0.0] ins [1947.81519728 1035.05460524    0.        ]\n",
      "gt [1946.3223114855623, 1034.280020377606, 0.0] ins [1948.52339836 1034.62017825    0.        ]\n",
      "gt [1946.9872367292514, 1033.8640566377678, 0.0] ins [1949.13449771 1034.24520191    0.        ]\n",
      "gt [1947.6362069424044, 1033.4578876732844, 0.0] ins [1949.85055823 1033.80572545    0.        ]\n",
      "gt [1948.2856084961395, 1033.045834565078, 0.0] ins [1950.4777943  1033.42072278    0.        ]\n",
      "gt [1949.6109156094576, 1032.2162388665786, 0.0] ins [1951.80454915 1032.60577328    0.        ]\n",
      "gt [1950.260218974286, 1031.8089968690872, 0.0] ins [1952.51756489 1032.16762597    0.        ]\n",
      "gt [1950.9287178933837, 1031.3887890447122, 0.0] ins [1953.14324568 1031.78315869    0.        ]\n",
      "gt [1951.5877164148142, 1030.9766643417793, 0.0] ins [1953.85245504 1031.34733097    0.        ]\n",
      "gt [1952.2531288408697, 1030.5626267747516, 0.0] ins [1954.56636533 1030.90872805    0.        ]\n",
      "gt [1952.927595943761, 1030.1421877165628, 0.0] ins [1955.18289218 1030.52978512    0.        ]\n",
      "gt [1954.2657161156276, 1029.2932500222535, 0.0] ins [1956.52713765 1029.70382163    0.        ]\n",
      "gt [1954.9273955727906, 1028.875124899418, 0.0] ins [1957.14910634 1029.32181487    0.        ]\n",
      "gt [1955.5864941451314, 1028.4569465293653, 0.0] ins [1957.86463794 1028.88249659    0.        ]\n",
      "gt [1956.2280850638363, 1028.052960926298, 0.0] ins [1958.48926867 1028.49914138    0.        ]\n",
      "gt [1956.8890619260433, 1027.6394678965287, 0.0] ins [1959.20850348 1028.05794512    0.        ]\n",
      "gt [1957.5479959647405, 1027.2280515227717, 0.0] ins [1959.91916934 1027.62206711    0.        ]\n",
      "gt [1958.8407972837826, 1026.412565652076, 0.0] ins [1961.25164224 1026.80556248    0.        ]\n",
      "gt [1959.4849966068593, 1026.0035112060878, 0.0] ins [1961.88798979 1026.41560777    0.        ]\n",
      "gt [1960.1930200565826, 1025.5579687029208, 0.0] ins [1962.5994681  1025.97971743    0.        ]\n",
      "gt [1960.8558552261165, 1025.1469580053408, 0.0] ins [1963.21638839 1025.60188763    0.        ]\n",
      "gt [1961.4762024161064, 1024.7597661030024, 0.0] ins [1963.93077916 1025.16449159    0.        ]\n",
      "gt [1962.1434565815077, 1024.3448935788742, 0.0] ins [1964.56320851 1024.77744433    0.        ]\n",
      "gt [1963.499553190372, 1023.5008025291467, 0.0] ins [1965.98954055 1023.90528349    0.        ]\n",
      "gt [1964.1585437702724, 1023.0870884266633, 0.0] ins [1966.60524301 1023.52892112    0.        ]\n",
      "gt [1964.8090602535895, 1022.6814378043055, 0.0] ins [1967.31391057 1023.09585043    0.        ]\n",
      "gt [1965.4574732894916, 1022.2724692770689, 0.0] ins [1967.94647827 1022.70943073    0.        ]\n",
      "gt [1966.1035554041528, 1021.8671046508703, 0.0] ins [1968.65443034 1022.27710326    0.        ]\n",
      "gt [1966.7594073956516, 1021.4553951621257, 0.0] ins [1969.27880925 1021.89586332    0.        ]\n",
      "gt [1968.0723774738206, 1020.6368973870817, 0.0] ins [1970.60346554 1021.08746059    0.        ]\n",
      "gt [1968.7209459356807, 1020.2319653443575, 0.0] ins [1971.30705906 1020.65805561    0.        ]\n",
      "gt [1969.3684952600402, 1019.8238676660942, 0.0] ins [1971.92012104 1020.28389145    0.        ]\n",
      "gt [1970.0195726842244, 1019.4117863351792, 0.0] ins [1972.62557677 1019.85340795    0.        ]\n",
      "gt [1970.6569538915276, 1019.0103641928926, 0.0] ins [1973.24748997 1019.47396514    0.        ]\n",
      "gt [1971.9423667186552, 1018.2039250931437, 0.0] ins [1974.55687161 1018.67544586    0.        ]\n",
      "gt [1972.5971936912215, 1017.7905786564378, 0.0] ins [1975.25563857 1018.24949103    0.        ]\n",
      "gt [1973.2252418635217, 1017.3990129177776, 0.0] ins [1975.88017386 1017.86887545    0.        ]\n",
      "gt [1973.86673694284, 1016.995256658777, 0.0] ins [1976.58126332 1017.44162797    0.        ]\n",
      "gt [1974.5133478387618, 1016.5874565969043, 0.0] ins [1977.18864524 1017.07147916    0.        ]\n",
      "gt [1975.1500838146926, 1016.1863686176284, 0.0] ins [1977.88766191 1016.64555283    0.        ]\n",
      "gt [1976.4259362734065, 1015.3828358792423, 0.0] ins [1979.21575278 1015.83622483    0.        ]\n",
      "gt [1977.0639949779463, 1014.9816476747421, 0.0] ins [1979.81786177 1015.46932657    0.        ]\n",
      "gt [1977.7189591487802, 1014.5720712114963, 0.0] ins [1980.51070301 1015.04703138    0.        ]\n",
      "gt [1978.4190346189632, 1014.1354124996511, 0.0] ins [1981.20720769 1014.62258309    0.        ]\n",
      "gt [1979.069377126079, 1013.7246990535364, 0.0] ins [1981.8224954  1014.24754373    0.        ]\n",
      "gt [1979.6714040971176, 1013.3424496810352, 0.0] ins [1982.42662594 1013.87926409    0.        ]\n",
      "gt [1980.9904035060024, 1012.5141806296605, 0.0] ins [1983.82048445 1013.02922445    0.        ]\n",
      "gt [1981.6245253796792, 1012.1146133767852, 0.0] ins [1984.44109224 1012.65070365    0.        ]\n",
      "gt [1982.2550507952742, 1011.7168209318102, 0.0] ins [1985.12351464 1012.2344476     0.        ]\n",
      "gt [1982.89293908646, 1011.316812841036, 0.0] ins [1985.72880832 1011.86525973    0.        ]\n",
      "gt [1983.5299783068097, 1010.9157325397709, 0.0] ins [1986.41666749 1011.44569067    0.        ]\n"
     ]
    },
    {
     "name": "stdout",
     "output_type": "stream",
     "text": [
      "gt [1984.7812947425846, 1010.1274589418626, 0.0] ins [1987.72468557 1010.64821936    0.        ]\n",
      "gt [1985.3770450527695, 1009.7492021709702, 0.0] ins [1988.31806852 1010.28647794    0.        ]\n",
      "gt [1986.0421458036114, 1009.3326497257169, 0.0] ins [1989.00934133 1009.86508002    0.        ]\n",
      "gt [1986.6813547551, 1008.9350548715986, 0.0] ins [1989.6227099  1009.49110625    0.        ]\n",
      "gt [1987.3127648803172, 1008.541616152962, 0.0] ins [1990.30012483 1009.0779723     0.        ]\n",
      "gt [1987.9446914064695, 1008.146465483751, 0.0] ins [1990.89812482 1008.7133        0.        ]\n",
      "gt [1989.2040412244764, 1007.3608406166421, 0.0] ins [1992.1838297  1007.93023034    0.        ]\n",
      "gt [1989.8316612958643, 1006.9692993569337, 0.0] ins [1992.86416101 1007.51585843    0.        ]\n",
      "gt [1990.4722083851916, 1006.556223459935, 0.0] ins [1993.46268419 1007.15128169    0.        ]\n",
      "gt [1991.0901633709964, 1006.1716881471534, 0.0] ins [1994.13627415 1006.74117868    0.        ]\n",
      "gt [1991.7116995443985, 1005.7815883631848, 0.0] ins [1994.80895562 1006.33183107    0.        ]\n",
      "gt [1992.9473102125212, 1005.0126277005262, 0.0] ins [1995.99355771 1005.61138027    0.        ]\n",
      "gt [1993.5592595161606, 1004.6328651610604, 0.0] ins [1996.66568693 1005.20269683    0.        ]\n",
      "gt [1994.1716113167042, 1004.253437145263, 0.0] ins [1997.27097271 1004.83486721    0.        ]\n",
      "gt [1994.8050603944469, 1003.8645966491963, 0.0] ins [1997.92464875 1004.43788846    0.        ]\n",
      "gt [1995.424399524428, 1003.48752453249, 0.0] ins [1998.50869854 1004.08342431    0.        ]\n",
      "gt [1996.0866604821292, 1003.0757563127463, 0.0] ins [1999.17648631 1003.67796434    0.        ]\n",
      "gt [1997.3221806429144, 1002.3090543122385, 0.0] ins [2000.44530481 1002.9074989     0.        ]\n",
      "gt [1997.890830600392, 1001.9540864070381, 0.0] ins [2001.04422436 1002.54393123    0.        ]\n",
      "gt [1998.5294258741578, 1001.55717975483, 0.0] ins [2001.67528921 1002.16102411    0.        ]\n",
      "gt [1999.0878749008643, 1001.2087351133846, 0.0] ins [2002.26379476 1001.80417058    0.        ]\n",
      "gt [1999.7233145576538, 1000.8118003593672, 0.0] ins [2002.92559361 1001.40291975    0.        ]\n",
      "gt [2000.285412071025, 1000.4592716557802, 0.0] ins [2003.50486253 1001.05178376    0.        ]\n",
      "gt [2001.5307430344503, 999.6816128517214, 0.0] ins [2004.83167626 1000.24898427    0.        ]\n",
      "gt [2002.0890114832052, 999.3325944079617, 0.0] ins [2005.41737081  999.89481498    0.        ]\n",
      "gt [2002.7387336345123, 998.9288552419121, 0.0] ins [2006.07750941  999.4957798     0.        ]\n",
      "gt [2003.3025593982904, 998.5786967329632, 0.0] ins [2006.65335427  999.14784491    0.        ]\n",
      "gt [2003.9073582729268, 998.2024595598917, 0.0] ins [2007.23509871  998.79663187    0.        ]\n",
      "gt [2005.1271830057362, 997.4464049508967, 0.0] ins [2008.4642628   998.05565889    0.        ]\n",
      "gt [2005.7459052853123, 997.0630215205142, 0.0] ins [2009.12588775  997.65711549    0.        ]\n",
      "gt [2006.3685687878474, 996.6765050759459, 0.0] ins [2009.70668846  997.3074528     0.        ]\n",
      "gt [2006.977491141047, 996.2989195077284, 0.0] ins [2010.27826942  996.96343888    0.        ]\n",
      "gt [2007.6336439955205, 995.8940019933018, 0.0] ins [2011.02113212  996.51650155    0.        ]\n",
      "gt [2008.2438466185226, 995.5185785331236, 0.0] ins [2011.59335653  996.17243717    0.        ]\n",
      "gt [2009.408311023671, 994.798592759286, 0.0] ins [2012.82620936  995.43270208    0.        ]\n",
      "gt [2010.019844947442, 994.4242727235215, 0.0] ins [2013.39531276  995.0912506     0.        ]\n",
      "gt [2010.6357783392746, 994.0487547847241, 0.0] ins [2014.05135771  994.6979137     0.        ]\n",
      "gt [2011.2784894601132, 993.652779699999, 0.0] ins [2014.70995267  994.3033906     0.        ]\n",
      "gt [2011.8883490126336, 993.2777726032457, 0.0] ins [2015.28585259  993.95872194    0.        ]\n",
      "gt [2012.4941073897571, 992.9107283971173, 0.0] ins [2015.94620006  993.5636273     0.        ]\n",
      "gt [2013.6995269817262, 992.1745404437671, 0.0] ins [2017.17604229  992.82791293    0.        ]\n",
      "gt [2014.3018928126319, 991.8059420091961, 0.0] ins [2017.7616346   992.47759694    0.        ]\n",
      "gt [2014.9025000676415, 991.4418923989497, 0.0] ins [2018.43404452  992.07528671    0.        ]\n",
      "gt [2015.514093404795, 991.0668764440686, 0.0] ins [2018.99801355  991.73803423    0.        ]\n",
      "gt [2016.126376209504, 990.6896131571862, 0.0] ins [2019.66367025  991.34015244    0.        ]\n",
      "gt [2017.3633564138422, 989.9347334221752, 0.0] ins [2020.89846642  990.60174245    0.        ]\n",
      "gt [2017.9905023236706, 989.5533048674611, 0.0] ins [2021.50083995  990.24155997    0.        ]\n",
      "gt [2018.611740382895, 989.1722009515022, 0.0] ins [2022.17149524  989.84042916    0.        ]\n",
      "gt [2019.2302937077043, 988.7950972676535, 0.0] ins [2022.76442868  989.4856736     0.        ]\n",
      "gt [2019.8819419572355, 988.3942066460318, 0.0] ins [2023.44115629  989.08071958    0.        ]\n",
      "gt [2020.5010384229154, 988.0117560047136, 0.0] ins [2024.11641107  988.67638745    0.        ]\n",
      "gt [2025.5830582411852, 984.8915804495554, 0.0] ins [2029.25292514  985.57982198    0.        ]\n",
      "gt [2026.2207751271626, 984.4993703858376, 0.0] ins [2029.83492795  985.22878167    0.        ]\n",
      "gt [2026.8437237904195, 984.115980590629, 0.0] ins [2030.52073141  984.81501159    0.        ]\n",
      "gt [2027.4327799638622, 983.7498557887315, 0.0] ins [2031.127396    984.44889809    0.        ]\n",
      "gt [2028.0618752755338, 983.3650180375546, 0.0] ins [2031.72635904  984.08733774    0.        ]\n",
      "gt [2028.700697661749, 982.9757662743901, 0.0] ins [2032.41737642  983.66981498    0.        ]\n",
      "gt [2029.3449808944029, 982.5785633828629, 0.0] ins [2033.02550063  983.30223378    0.        ]\n",
      "gt [2029.977752946033, 982.1899006326115, 0.0] ins [2033.72203053  982.88119492    0.        ]\n",
      "gt [2031.2515264670485, 981.4132188480681, 0.0] ins [2035.01115554  982.10188057    0.        ]\n",
      "gt [2031.8975431194906, 981.0211159510228, 0.0] ins [2035.62010637  981.73356136    0.        ]\n",
      "gt [2032.5506341983105, 980.6182304250906, 0.0] ins [2036.32169574  981.30901693    0.        ]\n",
      "gt [2033.2415837412357, 980.1932109365428, 0.0] ins [2037.01430967  980.89008325    0.        ]\n",
      "gt [2033.8943194696622, 979.7891969480494, 0.0] ins [2037.61810104  980.52483299    0.        ]\n",
      "gt [2035.1297343561885, 979.0225269736976, 0.0] ins [2038.92857053  979.73225374    0.        ]\n",
      "gt [2035.7792782712918, 978.6194773593494, 0.0] ins [2039.5550172   979.35344133    0.        ]\n",
      "gt [2036.4194032051034, 978.224604618078, 0.0] ins [2040.2313511  978.9443908    0.       ]\n",
      "gt [2037.0856813992907, 977.8085951217716, 0.0] ins [2040.9275901  978.5231665    0.       ]\n",
      "gt [2037.6867454390313, 977.4294356801137, 0.0] ins [2041.54387519  978.15024793    0.        ]\n",
      "gt [2038.3243508511705, 977.0307370902635, 0.0] ins [2042.1503739   977.78326424    0.        ]\n",
      "gt [2039.6111927293728, 976.2288006900012, 0.0] ins [2043.46470453  976.98717785    0.        ]\n",
      "gt [2040.2911753891797, 975.8026358973237, 0.0] ins [2044.16497138  976.56289993    0.        ]\n",
      "gt [2040.889696292549, 975.4272478349029, 0.0] ins [2044.80228196  976.17675202    0.        ]\n",
      "gt [2041.5348592823957, 975.0240598715434, 0.0] ins [2045.48280862  975.76435425    0.        ]\n",
      "gt [2042.1859715894602, 974.6143754017014, 0.0] ins [2046.08853102  975.39711223    0.        ]\n",
      "gt [2042.8419339254951, 974.200635888674, 0.0] ins [2046.78468808  974.97483773    0.        ]\n",
      "gt [2044.136200913414, 973.396392140652, 0.0] ins [2048.09461406  974.17946906    0.        ]\n",
      "gt [2044.8233457103152, 972.9616626907481, 0.0] ins [2048.78686823  973.75903932    0.        ]\n",
      "gt [2045.4345516813185, 972.5832111485545, 0.0] ins [2049.40288562  973.38479212    0.        ]\n",
      "gt [2046.0713170200172, 972.1878073894297, 0.0] ins [2050.01357284  973.01362002    0.        ]\n",
      "gt [2046.7687538816654, 971.759693003957, 0.0] ins [2050.80876777  972.53005358    0.        ]\n",
      "gt [2048.0646766624927, 970.9476357253849, 0.0] ins [2052.01258178  971.79766627    0.        ]\n",
      "gt [2048.660897599456, 970.5693770423957, 0.0] ins [2052.61332776  971.43206939    0.        ]\n",
      "gt [2049.347591920986, 970.1419778177794, 0.0] ins [2053.31005812  971.00782916    0.        ]\n",
      "gt [2049.990385529194, 969.7358840680747, 0.0] ins [2054.00321249  970.58563225    0.        ]\n",
      "gt [2050.6301262501147, 969.3364104556056, 0.0] ins [2054.61767842  970.21131985    0.        ]\n"
     ]
    },
    {
     "name": "stdout",
     "output_type": "stream",
     "text": [
      "gt [2051.264122060744, 968.9419179144304, 0.0] ins [2055.31700827  969.7852148     0.        ]\n",
      "gt [2052.5233602892877, 968.1569606670542, 0.0] ins [2056.59147059  969.00798925    0.        ]\n",
      "gt [2053.1541172474635, 967.761067344367, 0.0] ins [2057.20492284  968.63391473    0.        ]\n",
      "gt [2053.7915617979447, 967.360229256698, 0.0] ins [2057.89089723  968.21580428    0.        ]\n",
      "gt [2054.421627001507, 966.9670874219858, 0.0] ins [2058.48758541  967.85238119    0.        ]\n",
      "gt [2055.052537702662, 966.5716693199514, 0.0] ins [2059.1770485   967.43269552    0.        ]\n",
      "gt [2055.6975527512996, 966.1672092492495, 0.0] ins [2059.77995386  967.06598601    0.        ]\n",
      "gt [2056.9670603489512, 965.365119365383, 0.0] ins [2061.0575252   966.28990103    0.        ]\n",
      "gt [2057.6015382733904, 964.9700612132848, 0.0] ins [2061.74572052  965.87213845    0.        ]\n",
      "gt [2058.235527483056, 964.5776241176768, 0.0] ins [2062.34482993  965.50865248    0.        ]\n",
      "gt [2058.8639462265737, 964.1937440580077, 0.0] ins [2063.03152031  965.09238021    0.        ]\n",
      "gt [2059.5008895468695, 963.801581124236, 0.0] ins [2063.62285945  964.7341847     0.        ]\n",
      "gt [2060.7451885439104, 963.0285356224698, 0.0] ins [2064.90898247  963.95572529    0.        ]\n",
      "gt [2061.3674491719107, 962.6414563424973, 0.0] ins [2065.56497348  963.55903217    0.        ]\n",
      "gt [2061.990245461293, 962.2579884182439, 0.0] ins [2066.15125124  963.20474483    0.        ]\n",
      "gt [2062.60094902876, 961.8794534073847, 0.0] ins [2066.81827103  962.80189312    0.        ]\n",
      "gt [2063.2217953836434, 961.4988497882284, 0.0] ins [2067.4078674   962.44594308    0.        ]\n",
      "gt [2063.8432317385214, 961.1123167796177, 0.0] ins [2068.07201793  962.04510502    0.        ]\n",
      "gt [2065.0732378956664, 960.3539653442335, 0.0] ins [2069.3061862   961.30078345    0.        ]\n",
      "gt [2065.6860636964207, 959.9733010838327, 0.0] ins [2069.89779002  960.94415181    0.        ]\n",
      "gt [2066.2927622049783, 959.59565356979, 0.0] ins [2070.53793528  960.55843928    0.        ]\n",
      "gt [2066.8919259570225, 959.2240960967408, 0.0] ins [2071.1021895   960.21849309    0.        ]\n",
      "gt [2067.487000310012, 958.8529495137607, 0.0] ins [2071.74652167  959.83031905    0.        ]\n",
      "gt [2068.1243717558564, 958.4615499370734, 0.0] ins [2072.39411021  959.44024129    0.        ]\n",
      "gt [2069.2663747440124, 957.7570006977453, 0.0] ins [2073.51126979  958.76756027    0.        ]\n",
      "gt [2069.851253310298, 957.3973777559168, 0.0] ins [2074.14898996  958.38362174    0.        ]\n",
      "gt [2070.4696149565725, 957.0173458158933, 0.0] ins [2074.78357669  958.0016093     0.        ]\n",
      "gt [2071.0037507583766, 956.6856630835858, 0.0] ins [2075.33533486  957.66941149    0.        ]\n",
      "gt [2071.610434825933, 956.3112175545532, 0.0] ins [2075.95861226  957.29380428    0.        ]\n",
      "gt [2072.7188756517703, 955.6287910498211, 0.0] ins [2077.0460339   956.63869009    0.        ]\n",
      "gt [2073.330768449656, 955.2496830436423, 0.0] ins [2077.73545805  956.22309811    0.        ]\n",
      "gt [2073.89251188458, 954.9032391504343, 0.0] ins [2078.28000189  955.89418989    0.        ]\n",
      "gt [2074.4441400964324, 954.5596908784586, 0.0] ins [2078.81691146  955.57005725    0.        ]\n",
      "gt [2074.960057331115, 954.2384591329555, 0.0] ins [2079.35524797  955.2453363     0.        ]\n",
      "gt [2075.540047003005, 953.8757680543825, 0.0] ins [2080.01584339  954.84659727    0.        ]\n",
      "gt [2076.6272665766414, 953.2033574432278, 0.0] ins [2081.06633951  954.21111504    0.        ]\n",
      "gt [2077.1725177975204, 952.8678730292484, 0.0] ins [2081.66623986  953.84799086    0.        ]\n",
      "gt [2077.7145990439567, 952.5297347325088, 0.0] ins [2082.18229768  953.53545499    0.        ]\n",
      "gt [2078.251120673192, 952.1979347367155, 0.0] ins [2082.76970661  953.17943818    0.        ]\n",
      "gt [2078.791542852279, 951.8608378308813, 0.0] ins [2083.27626713  952.87227199    0.        ]\n",
      "gt [2079.3318920389715, 951.526246843806, 0.0] ins [2083.87084752  952.51175021    0.        ]\n",
      "gt [2080.3981286572034, 950.8702277080661, 0.0] ins [2084.95693907  951.85372354    0.        ]\n",
      "gt [2080.9163539223914, 950.549935581801, 0.0] ins [2085.45788057  951.54999823    0.        ]\n",
      "gt [2081.4343098067898, 950.2306485920473, 0.0] ins [2086.03368807  951.20088441    0.        ]\n",
      "gt [2081.9567455659435, 949.9015612348994, 0.0] ins [2086.6003324   950.85741647    0.        ]\n",
      "gt [2082.4787971089113, 949.5755632528503, 0.0] ins [2087.10671974  950.55050405    0.        ]\n",
      "gt [2083.4994311852693, 948.9429995859143, 0.0] ins [2088.1082124   949.94237542    0.        ]\n",
      "gt [2084.057064058598, 948.5982438944625, 0.0] ins [2088.67348619  949.59924323    0.        ]\n",
      "gt [2084.580056952241, 948.2751618623518, 0.0] ins [2089.2261065   949.26386606    0.        ]\n",
      "gt [2085.0989111350987, 947.9531534576538, 0.0] ins [2089.78316516  948.92541811    0.        ]\n",
      "gt [2085.6214366127256, 947.6293895420731, 0.0] ins [2090.26816213  948.63068128    0.        ]\n",
      "gt [2086.1412781211766, 947.3070837473061, 0.0] ins [2090.81472972  948.29843668    0.        ]\n",
      "gt [2087.165045678919, 946.665433242634, 0.0] ins [2091.77777343  947.71274507    0.        ]\n",
      "gt [2087.681466551346, 946.3430295314758, 0.0] ins [2092.32898115  947.37752892    0.        ]\n",
      "gt [2088.1892563039164, 946.0260543894788, 0.0] ins [2092.87156269  947.04742453    0.        ]\n",
      "gt [2088.6911994391207, 945.7089044754898, 0.0] ins [2093.35022762  946.75614207    0.        ]\n",
      "gt [2089.1954491550323, 945.3898497518461, 0.0] ins [2093.89298593  946.42584507    0.        ]\n",
      "gt [2089.690700556328, 945.0734029885201, 0.0] ins [2094.35635374  946.14382246    0.        ]\n",
      "gt [2090.6899126624116, 944.45399407073, 0.0] ins [2095.36237139  945.53147731    0.        ]\n",
      "gt [2091.192290974527, 944.1395718081611, 0.0] ins [2095.89676778  945.20609981    0.        ]\n",
      "gt [2091.6758768628997, 943.8356740249912, 0.0] ins [2096.34964212  944.93023506    0.        ]\n",
      "gt [2092.184976941585, 943.5182482036846, 0.0] ins [2096.87482115  944.61040688    0.        ]\n",
      "gt [2092.628738085863, 943.2425796910948, 0.0] ins [2097.34955556  944.32128747    0.        ]\n",
      "gt [2093.5826982667013, 942.6480629066175, 0.0] ins [2098.31838423  943.73052187    0.        ]\n",
      "gt [2094.080341955504, 942.3389310356561, 0.0] ins [2098.82402276  943.42223061    0.        ]\n",
      "gt [2094.516929397898, 942.0654760396931, 0.0] ins [2099.27846029  943.14514449    0.        ]\n",
      "gt [2095.0233570198034, 941.751071045701, 0.0] ins [2099.78956822  942.8334514     0.        ]\n",
      "gt [2095.4613320916314, 941.480538805891, 0.0] ins [2100.22589378  942.56734543    0.        ]\n",
      "gt [2095.9345306934338, 941.1878289521969, 0.0] ins [2100.68408651  942.28783204    0.        ]\n",
      "gt [2096.9031852940866, 940.5821566649702, 0.0] ins [2101.67833194  941.6809583     0.        ]\n",
      "gt [2097.3650940946127, 940.2951467465878, 0.0] ins [2102.17974189  941.37481083    0.        ]\n",
      "gt [2097.819197815057, 940.0131273253642, 0.0] ins [2102.61509939  941.10888324    0.        ]\n",
      "gt [2098.2755761260237, 939.7276630213161, 0.0] ins [2103.10674734  940.80845044    0.        ]\n",
      "gt [2098.739276861811, 939.4390089511617, 0.0] ins [2103.5482174   940.53868105    0.        ]\n",
      "gt [2099.6533352837073, 938.874296667316, 0.0] ins [2104.46024527  939.98150102    0.        ]\n",
      "gt [2100.1112866735466, 938.5890511732189, 0.0] ins [2104.95086508  939.68183844    0.        ]\n",
      "gt [2100.559435225847, 938.3080079449458, 0.0] ins [2105.38522836  939.41665369    0.        ]\n",
      "gt [2101.002864783465, 938.032806400218, 0.0] ins [2105.8659725   939.12293078    0.        ]\n",
      "gt [2101.4307289436765, 937.7646880886043, 0.0] ins [2106.28656095  938.86560467    0.        ]\n",
      "gt [2101.8593597972367, 937.4952420100044, 0.0] ins [2106.76951536  938.56969956    0.        ]\n",
      "gt [2102.706581977912, 936.9655803274491, 0.0] ins [2107.59909338  938.06204964    0.        ]\n",
      "gt [2103.181942650625, 936.6686934213899, 0.0] ins [2108.06878365  937.77482096    0.        ]\n",
      "gt [2103.6221330821304, 936.3950621298364, 0.0] ins [2108.54658295  937.48264904    0.        ]\n",
      "gt [2104.0716266544187, 936.1146967110727, 0.0] ins [2108.96181622  937.22847714    0.        ]\n",
      "gt [2104.488903034056, 935.8500511713726, 0.0] ins [2109.36106439  936.98395598    0.        ]\n",
      "gt [2104.962619253592, 935.5489330829273, 0.0] ins [2109.8293875   936.69705215    0.        ]\n"
     ]
    },
    {
     "name": "stdout",
     "output_type": "stream",
     "text": [
      "gt [2105.8298358037023, 935.0039626178104, 0.0] ins [2110.69584933  936.165935      0.        ]\n",
      "gt [2106.2526677692085, 934.7381752529197, 0.0] ins [2111.0884378   935.92504859    0.        ]\n",
      "gt [2106.661951466421, 934.4819058275039, 0.0] ins [2111.54409149  935.64541736    0.        ]\n",
      "gt [2107.0780072294115, 934.2195096339517, 0.0] ins [2111.99704368  935.3674516     0.        ]\n",
      "gt [2107.4846907223337, 933.9662088847593, 0.0] ins [2112.39877     935.12059135    0.        ]\n",
      "gt [2108.2862358975626, 933.4610788508512, 0.0] ins [2113.22791549  934.61036066    0.        ]\n",
      "gt [2108.6844974690557, 933.2119856157867, 0.0] ins [2113.67174823  934.33725562    0.        ]\n",
      "gt [2109.076214074382, 932.9649753111619, 0.0] ins [2114.06130789  934.09732619    0.        ]\n",
      "gt [2109.4719559102787, 932.7149544329429, 0.0] ins [2114.49457975  933.83025175    0.        ]\n",
      "gt [2109.8636765578935, 932.4669655384389, 0.0] ins [2114.87421304  933.59615706    0.        ]\n",
      "gt [2110.2919939385392, 932.1963487182021, 0.0] ins [2115.30744025  933.32886491    0.        ]\n",
      "gt [2111.0537230307423, 931.7140841052017, 0.0] ins [2116.06804872  932.85908047    0.        ]\n",
      "gt [2111.4450690936465, 931.4649010481877, 0.0] ins [2116.47441747  932.60802042    0.        ]\n",
      "gt [2111.8557636879927, 931.2057695874149, 0.0] ins [2116.89200914  932.35003941    0.        ]\n",
      "gt [2112.2360541392136, 930.9617646680861, 0.0] ins [2117.3028724   932.09604774    0.        ]\n",
      "gt [2112.587115612423, 930.7376177952401, 0.0] ins [2117.6605011   931.87488287    0.        ]\n",
      "gt [2112.960563469406, 930.4982948948616, 0.0] ins [2118.01067133  931.65833681    0.        ]\n",
      "gt [2113.71494861467, 930.021210046481, 0.0] ins [2118.81057095  931.16362246    0.        ]\n",
      "gt [2114.0780104063106, 929.7923574479314, 0.0] ins [2119.15243279  930.95207206    0.        ]\n",
      "gt [2114.417784841862, 929.5751942716072, 0.0] ins [2119.48859417  930.74402869    0.        ]\n",
      "gt [2114.79985570447, 929.3321216832784, 0.0] ins [2119.87062426  930.50760232    0.        ]\n",
      "gt [2115.1658964791877, 929.1001554180239, 0.0] ins [2120.25034666  930.27244297    0.        ]\n",
      "gt [2115.878980800838, 928.6463028682218, 0.0] ins [2120.94199719  929.84378388    0.        ]\n",
      "gt [2116.2162133371385, 928.4290941217666, 0.0] ins [2121.257534    929.64824779    0.        ]\n",
      "gt [2116.5447950507114, 928.2170545536993, 0.0] ins [2121.61401774  929.42743061    0.        ]\n",
      "gt [2116.873440029296, 928.005249108692, 0.0] ins [2121.92164732  929.23687775    0.        ]\n",
      "gt [2117.1950529929436, 927.7967025757241, 0.0] ins [2122.26554554  929.02377958    0.        ]\n",
      "gt [2117.51160897659, 927.5929561053201, 0.0] ins [2122.56312478  928.83936835    0.        ]\n",
      "gt [2118.123240626149, 927.201731875136, 0.0] ins [2123.17860506  928.45834016    0.        ]\n",
      "gt [2118.4174962316056, 927.0111395618105, 0.0] ins [2123.49974682  928.25950384    0.        ]\n",
      "gt [2118.716903491998, 926.8188772029216, 0.0] ins [2123.81231767  928.06590859    0.        ]\n",
      "gt [2118.9745151044526, 926.6561684100046, 0.0] ins [2124.07451589  927.90355273    0.        ]\n",
      "gt [2119.235757422247, 926.4913264269148, 0.0] ins [2124.37492844  927.71758542    0.        ]\n",
      "gt [2119.492574518407, 926.3283631844665, 0.0] ins [2124.63385791  927.5572823     0.        ]\n",
      "gt [2119.989328521489, 926.0105083848193, 0.0] ins [2125.1610999   927.23121555    0.        ]\n",
      "gt [2120.235662305692, 925.8537556040869, 0.0] ins [2125.43400897  927.06232595    0.        ]\n",
      "gt [2120.470375307912, 925.7048821031517, 0.0] ins [2125.66716784  926.91794656    0.        ]\n",
      "gt [2120.72308388, 925.545226244762, 0.0] ins [2125.89018102  926.77982484    0.        ]\n",
      "gt [2120.968241388111, 925.3884374592935, 0.0] ins [2126.14019792  926.6251458     0.        ]\n",
      "gt [2121.399251386465, 925.1160379184444, 0.0] ins [2126.5882403   926.34797211    0.        ]\n",
      "gt [2121.6062925005303, 924.9845443728407, 0.0] ins [2126.81510836  926.20755552    0.        ]\n",
      "gt [2121.814389461039, 924.8523560852248, 0.0] ins [2127.00642563  926.08910422    0.        ]\n",
      "gt [2122.0123974021008, 924.7250105178902, 0.0] ins [2127.21798047  925.95816173    0.        ]\n",
      "gt [2122.1998191491643, 924.6055046552779, 0.0] ins [2127.39888739  925.8462741     0.        ]\n",
      "gt [2122.372793077702, 924.4941318011442, 0.0] ins [2127.59950441  925.72224794    0.        ]\n",
      "gt [2122.7160877183146, 924.2756035090679, 0.0] ins [2127.95737148  925.50078209    0.        ]\n",
      "gt [2122.8793414822194, 924.1722448725919, 0.0] ins [2128.13796836  925.3890437     0.        ]\n",
      "gt [2123.192010722054, 923.9731385164548, 0.0] ins [2128.43341851  925.206304      0.        ]\n",
      "gt [2123.3416666338617, 923.8771880867621, 0.0] ins [2128.59540842  925.10604986    0.        ]\n",
      "gt [2123.4822284799156, 923.7868789022334, 0.0] ins [2128.73098227  925.02212662    0.        ]\n",
      "gt [2123.745903387402, 923.6171214103842, 0.0] ins [2128.99370365  924.85979699    0.        ]\n",
      "gt [2123.864934669098, 923.5394985346222, 0.0] ins [2129.1001467   924.79400622    0.        ]\n",
      "gt [2124.067504747926, 923.4086208490094, 0.0] ins [2129.31032371  924.66402201    0.        ]\n",
      "gt [2124.1677447215047, 923.3435911841565, 0.0] ins [2129.40441689  924.60587219    0.        ]\n",
      "gt [2124.317577224841, 923.2448420707158, 0.0] ins [2129.55449507  924.5131472     0.        ]\n",
      "gt [2124.3673932755323, 923.2108796668572, 0.0] ins [2129.61111026  924.4781598     0.        ]\n",
      "gt [2124.417168324331, 923.1772564944324, 0.0] ins [2129.66778171  924.44314892    0.        ]\n",
      "gt [2124.462131773052, 923.1469308991875, 0.0] ins [2129.70983573  924.41718138    0.        ]\n",
      "gt [2124.5004153472146, 923.1211176832055, 0.0] ins [2129.75205781  924.39110967    0.        ]\n",
      "gt [2124.529660385257, 923.1014657061951, 0.0] ins [2129.77999454  924.37385177    0.        ]\n",
      "gt [2124.571695293991, 923.0718645744058, 0.0] ins [2129.83016029  924.34285093    0.        ]\n",
      "gt [2124.583508889123, 923.0621441220785, 0.0] ins [2129.85165976  924.329567      0.        ]\n",
      "gt [2124.5942812145395, 923.0532283872328, 0.0] ins [2129.86731666  924.31989274    0.        ]\n",
      "gt [2124.604042160075, 923.0450158211229, 0.0] ins [2129.88289876  924.3102603     0.        ]\n",
      "gt [2124.608310086532, 923.040810838005, 0.0] ins [2129.89603989  924.30213578    0.        ]\n",
      "gt [2124.6102235524127, 923.0383843034368, 0.0] ins [2129.90841278  924.2944884     0.        ]\n",
      "gt [2124.618552468544, 923.0309334118137, 0.0] ins [2129.92988095  924.28122322    0.        ]\n",
      "gt [2124.624276261382, 923.026313677561, 0.0] ins [2129.9389935   924.27559171    0.        ]\n",
      "gt [2124.6307422114933, 923.0212674201875, 0.0] ins [2129.94963996  924.26901199    0.        ]\n",
      "gt [2124.638249240456, 923.0156377715064, 0.0] ins [2129.95944508  924.26295366    0.        ]\n",
      "gt [2124.657859673334, 923.0007534497763, 0.0] ins [2130.00951833  924.23200762    0.        ]\n",
      "gt [2124.6710249076555, 922.9917408157831, 0.0] ins [2130.03307638  924.21744955    0.        ]\n",
      "gt [2124.6898021998636, 922.9792756238321, 0.0] ins [2130.06658211  924.19674618    0.        ]\n",
      "gt [2124.714175699341, 922.9633545052716, 0.0] ins [2130.10298082  924.17425407    0.        ]\n",
      "gt [2124.742207347469, 922.9449627656652, 0.0] ins [2130.15202489  924.14394353    0.        ]\n",
      "gt [2124.8189539958803, 922.8958955423063, 0.0] ins [2130.26839031  924.07202534    0.        ]\n",
      "gt [2124.871865562761, 922.8628675566843, 0.0] ins [2130.33541099  924.03060547    0.        ]\n",
      "gt [2124.9316262810507, 922.8255472187236, 0.0] ins [2130.42248679  923.97678089    0.        ]\n",
      "gt [2125.0002699370934, 922.7825758167055, 0.0] ins [2130.51534743  923.91935913    0.        ]\n",
      "gt [2125.075444186814, 922.7359098593884, 0.0] ins [2130.60582652  923.86338778    0.        ]\n",
      "gt [2125.2578066508154, 922.6214434493887, 0.0] ins [2130.82747593  923.72618809    0.        ]\n",
      "gt [2125.375235429146, 922.5470565087577, 0.0] ins [2130.94915785  923.65085058    0.        ]\n",
      "gt [2125.4995800560932, 922.4683198082575, 0.0] ins [2131.07830692  923.57086418    0.        ]\n",
      "gt [2125.6358568381293, 922.3819698335581, 0.0] ins [2131.21329194  923.48723093    0.        ]\n",
      "gt [2125.7819478635784, 922.2892357356432, 0.0] ins [2131.37468771  923.38707258    0.        ]\n",
      "gt [2125.9419271045376, 922.1877968286756, 0.0] ins [2131.50466765  923.30612393    0.        ]\n"
     ]
    },
    {
     "name": "stdout",
     "output_type": "stream",
     "text": [
      "gt [2126.296874696447, 921.9607020048984, 0.0] ins [2131.85920767  923.08172509    0.        ]\n",
      "gt [2126.4755723577937, 921.8446171964106, 0.0] ins [2132.0243902   922.97614611    0.        ]\n",
      "gt [2126.645987264742, 921.732740607203, 0.0] ins [2132.19343157  922.866455      0.        ]\n",
      "gt [2126.833096475495, 921.6083654634793, 0.0] ins [2132.39549702  922.73217837    0.        ]\n",
      "gt [2127.024170412872, 921.4790987537663, 0.0] ins [2132.57990377  922.60724239    0.        ]\n",
      "gt [2127.2248221234267, 921.3389413385714, 0.0] ins [2132.7939644   922.45864702    0.        ]\n",
      "gt [2127.6376692430326, 921.0413791000362, 0.0] ins [2133.20669611  922.15427792    0.        ]\n",
      "gt [2127.843848771591, 920.8857805949233, 0.0] ins [2133.40745034  922.00136616    0.        ]\n",
      "gt [2128.0704951481925, 920.7104658939124, 0.0] ins [2133.63760859  921.82056053    0.        ]\n",
      "gt [2128.2758745170786, 920.5465726111729, 0.0] ins [2133.84064461  921.65802065    0.        ]\n",
      "gt [2128.5116985444024, 920.3514670126651, 0.0] ins [2134.07534722  921.4631852     0.        ]\n",
      "gt [2130.011522296536, 918.9111821255883, 0.0] ins [2135.58554413  919.79280216    0.        ]\n",
      "gt [2130.222481426831, 918.6693307065696, 0.0] ins [2135.82168389  919.51451581    0.        ]\n",
      "gt [2130.4315774286956, 918.4167225568453, 0.0] ins [2136.02054132  919.26562209    0.        ]\n",
      "gt [2130.6309439642446, 918.1593265966901, 0.0] ins [2136.24446258  918.9716492     0.        ]\n",
      "gt [2130.8195955712545, 917.8972799322196, 0.0] ins [2136.43579749  918.70548615    0.        ]\n",
      "gt [2131.003814577966, 917.6250168825928, 0.0] ins [2136.64491117  918.39123024    0.        ]\n",
      "gt [2131.3369846484684, 917.0753394757495, 0.0] ins [2137.01094648  917.76729128    0.        ]\n",
      "gt [2131.496854672974, 916.7844373141301, 0.0] ins [2137.17218381  917.47334887    0.        ]\n",
      "gt [2131.6509507415085, 916.4799475271384, 0.0] ins [2137.3470446   917.12444896    0.        ]\n",
      "gt [2131.792466734536, 916.178903876124, 0.0] ins [2137.51027893  916.76981688    0.        ]\n",
      "gt [2131.9239487395034, 915.8761577089238, 0.0] ins [2137.64829117  916.44894175    0.        ]\n",
      "gt [2132.165881197253, 915.2396323052324, 0.0] ins [2137.89395125  915.75165337    0.        ]\n",
      "gt [2132.2721368670063, 914.9147314508461, 0.0] ins [2138.00070298  915.41288367    0.        ]\n",
      "gt [2132.370319891797, 914.578964520937, 0.0] ins [2138.11164181  915.02702845    0.        ]\n",
      "gt [2132.4597083248323, 914.2378427309841, 0.0] ins [2138.19797437  914.68928539    0.        ]\n",
      "gt [2132.536044563982, 913.8958998125536, 0.0] ins [2138.28364205  914.29376787    0.        ]\n",
      "gt [2132.610429680466, 913.5192098000201, 0.0] ins [2138.35844416  913.88849234    0.        ]\n",
      "gt [2132.7095425625566, 912.8268745478078, 0.0] ins [2138.4594187   913.13053514    0.        ]\n",
      "gt [2132.7456188682913, 912.4548239620525, 0.0] ins [2138.49916301  912.71866946    0.        ]\n",
      "gt [2132.770055249894, 912.1034331924097, 0.0] ins [2138.52271932  912.36009761    0.        ]\n",
      "gt [2132.78672123341, 911.7428126984205, 0.0] ins [2138.53806366  911.94695591    0.        ]\n",
      "gt [2132.7931407672945, 911.3751673916761, 0.0] ins [2138.54224995  911.57435945    0.        ]\n",
      "gt [2132.787404037807, 911.0112907404284, 0.0] ins [2138.53455893  911.21247413    0.        ]\n",
      "gt [2132.7372946847945, 910.2603454585808, 0.0] ins [2138.46503785  910.36796913    0.        ]\n",
      "gt [2132.6511830030113, 909.5712473203112, 0.0] ins [2138.36493526  909.63673997    0.        ]\n",
      "gt [2132.591652627638, 909.2125947150157, 0.0] ins [2138.29584232  909.22130808    0.        ]\n",
      "gt [2132.5219920896593, 908.8562340944453, 0.0] ins [2138.21894492  908.8119732     0.        ]\n",
      "gt [2132.3496557098597, 908.1136105142053, 0.0] ins [2138.02946216  908.03408463    0.        ]\n",
      "gt [2132.2508560747433, 907.7520691540058, 0.0] ins [2137.93608492  907.68916749    0.        ]\n",
      "gt [2132.148556268296, 907.4109264510585, 0.0] ins [2137.81735772  907.28884461    0.        ]\n",
      "gt [2132.040294671099, 907.0700685585989, 0.0] ins [2137.70545436  906.93309083    0.        ]\n",
      "gt [2131.9207204443874, 906.7181338208145, 0.0] ins [2137.57228346  906.53789796    0.        ]\n",
      "gt [2131.6642037262764, 906.0214325969212, 0.0] ins [2137.3004145   905.81721935    0.        ]\n",
      "gt [2131.5281697157784, 905.6743013644451, 0.0] ins [2137.16723835  905.4758649     0.        ]\n",
      "gt [2131.375872955071, 905.3074503139181, 0.0] ins [2137.00907218  905.08730011    0.        ]\n",
      "gt [2131.231711025929, 904.9681553164161, 0.0] ins [2136.85351941  904.72001235    0.        ]\n",
      "gt [2131.0875179104332, 904.6382389488855, 0.0] ins [2136.71021752  904.39199557    0.        ]\n",
      "gt [2130.800089294378, 904.0125082260016, 0.0] ins [2136.38906715  903.69605449    0.        ]\n",
      "gt [2130.643081761263, 903.6863454478657, 0.0] ins [2136.23660831  903.3741114     0.        ]\n",
      "gt [2130.4686852299837, 903.3295213769832, 0.0] ins [2136.06111812  903.01178907    0.        ]\n",
      "gt [2130.298647321506, 902.9870109491703, 0.0] ins [2135.88162879  902.64738818    0.        ]\n",
      "gt [2130.130954662582, 902.6575206758772, 0.0] ins [2135.71984359  902.32574284    0.        ]\n",
      "gt [2129.958964488286, 902.3310585606463, 0.0] ins [2135.53772068  901.97186434    0.        ]\n",
      "gt [2129.6023872881983, 901.6740166779198, 0.0] ins [2135.18216731  901.30379187    0.        ]\n",
      "gt [2129.4223260121134, 901.3476553889277, 0.0] ins [2135.01174566  900.98935054    0.        ]\n",
      "gt [2129.2521739368212, 901.0436378009601, 0.0] ins [2134.8447884   900.68742776    0.        ]\n",
      "gt [2129.0702177538924, 900.7257895890574, 0.0] ins [2134.64741267  900.3369925     0.        ]\n",
      "gt [2128.8882151978382, 900.4126284828887, 0.0] ins [2134.4731888   900.03227496    0.        ]\n",
      "gt [2128.7008177936136, 900.0956765668881, 0.0] ins [2134.27387949  899.6897119     0.        ]\n",
      "gt [2128.3191687722633, 899.4616790661271, 0.0] ins [2133.89738113  899.06139995    0.        ]\n",
      "gt [2127.9440888357212, 898.8514508482929, 0.0] ins [2133.51711481  898.43766702    0.        ]\n",
      "gt [2127.7438988624995, 898.5351842537729, 0.0] ins [2133.31686805  898.11232242    0.        ]\n",
      "gt [2127.563139132264, 898.2444980185237, 0.0] ins [2133.14330762  897.83215741    0.        ]\n",
      "gt [2127.2119786996154, 897.6906430592755, 0.0] ins [2132.79382336  897.27327674    0.        ]\n",
      "gt [2127.022006355907, 897.3910704026805, 0.0] ins [2132.57142174  896.91910137    0.        ]\n",
      "gt [2126.8467069479084, 897.1190073594926, 0.0] ins [2132.40530009  896.65531253    0.        ]\n",
      "gt [2126.6661531949594, 896.8352305593949, 0.0] ins [2132.23045294  896.37832572    0.        ]\n",
      "gt [2126.4814740084616, 896.5507596459152, 0.0] ins [2132.04993974  896.09288363    0.        ]\n",
      "gt [2126.2979166209543, 896.269668979171, 0.0] ins [2131.86616682  895.80281325    0.        ]\n",
      "gt [2125.9482652070587, 895.7318164288258, 0.0] ins [2131.53478021  895.28073145    0.        ]\n",
      "gt [2125.788651428512, 895.4836673572745, 0.0] ins [2131.37954079  895.03618019    0.        ]\n",
      "gt [2125.6330067919503, 895.2427341305793, 0.0] ins [2131.21512771  894.77699896    0.        ]\n",
      "gt [2125.479617709774, 895.0057126049926, 0.0] ins [2131.0743885   894.55491715    0.        ]\n",
      "gt [2125.326450159966, 894.769586304137, 0.0] ins [2130.91515128  894.30357784    0.        ]\n",
      "gt [2125.047759144187, 894.3395412898789, 0.0] ins [2130.6267851   893.84836786    0.        ]\n",
      "gt [2124.9080520750117, 894.1248398985894, 0.0] ins [2130.49900281  893.64648643    0.        ]\n",
      "gt [2124.7756577870487, 893.9200415646112, 0.0] ins [2130.35648007  893.42105097    0.        ]\n",
      "gt [2124.640215581451, 893.7110641916362, 0.0] ins [2130.21829413  893.20235109    0.        ]\n",
      "gt [2124.5157660329596, 893.5197081117858, 0.0] ins [2130.10042279  893.0157829     0.        ]\n",
      "gt [2124.391590211474, 893.3302625852582, 0.0] ins [2129.97061209  892.81024697    0.        ]\n",
      "gt [2124.163634073089, 892.9794826592242, 0.0] ins [2129.75259782  892.46471521    0.        ]\n",
      "gt [2124.041178345013, 892.7896236205643, 0.0] ins [2129.63249577  892.27424455    0.        ]\n",
      "gt [2123.935525249273, 892.6275836608866, 0.0] ins [2129.51667918  892.09050359    0.        ]\n",
      "gt [2123.8243574407807, 892.4587156585555, 0.0] ins [2129.41873706  891.93513693    0.        ]\n",
      "gt [2123.727830891232, 892.3128263738089, 0.0] ins [2129.3212994   891.78053274    0.        ]\n"
     ]
    },
    {
     "name": "stdout",
     "output_type": "stream",
     "text": [
      "gt [2123.6255902618013, 892.1561171083977, 0.0] ins [2129.21581494  891.61298712    0.        ]\n",
      "gt [2123.431316516151, 891.8597128545953, 0.0] ins [2129.02528059  891.31011669    0.        ]\n",
      "gt [2123.326658452318, 891.7000609543284, 0.0] ins [2128.92832381  891.15606424    0.        ]\n",
      "gt [2123.24382664237, 891.5705615922652, 0.0] ins [2128.84470498  891.02314164    0.        ]\n",
      "gt [2123.1514426177177, 891.4281705797891, 0.0] ins [2128.76662745  890.89891955    0.        ]\n",
      "gt [2123.069785005169, 891.3021813827646, 0.0] ins [2128.68077201  890.76226639    0.        ]\n",
      "gt [2122.9282215282938, 891.0835393409529, 0.0] ins [2128.53198313  890.52530139    0.        ]\n",
      "gt [2122.8673924994596, 890.9875887594233, 0.0] ins [2128.47106296  890.42823004    0.        ]\n",
      "gt [2122.8071747214035, 890.8927502325934, 0.0] ins [2128.40561992  890.32387185    0.        ]\n",
      "gt [2122.746736714577, 890.7987722737714, 0.0] ins [2128.35293216  890.23976492    0.        ]\n",
      "gt [2122.6890543088, 890.7105579433428, 0.0] ins [2128.2998935   890.15507103    0.        ]\n",
      "gt [2122.601847652259, 890.579954119955, 0.0] ins [2128.21668312  890.02211271    0.        ]\n",
      "gt [2122.5603803987833, 890.5191244964672, 0.0] ins [2128.18530592  889.97193878    0.        ]\n",
      "gt [2122.5322049758092, 890.4781438000696, 0.0] ins [2128.15579543  889.92474335    0.        ]\n",
      "gt [2122.5106619696044, 890.4470887362991, 0.0] ins [2128.132566    889.88760215    0.        ]\n",
      "gt [2122.495090066184, 890.4255959218835, 0.0] ins [2128.11173521  889.85429625    0.        ]\n",
      "gt [2122.4831699449614, 890.4097396769052, 0.0] ins [2128.09629094  889.82959432    0.        ]\n",
      "gt [2122.463137150757, 890.38368274181, 0.0] ins [2128.07201219  889.79075298    0.        ]\n",
      "gt [2122.4551190493326, 890.3735929143986, 0.0] ins [2128.06210514  889.77490402    0.        ]\n",
      "gt [2122.4478975552743, 890.3646757854418, 0.0] ins [2128.05555008  889.7644157     0.        ]\n",
      "gt [2122.441146225127, 890.356424276597, 0.0] ins [2128.04873269  889.75350611    0.        ]\n",
      "gt [2122.4352375731205, 890.349378660017, 0.0] ins [2128.04384557  889.74568648    0.        ]\n",
      "gt [2122.4351691612424, 890.351426778425, 0.0] ins [2128.04264851  889.74377195    0.        ]\n",
      "gt [2122.441700106828, 890.3657566559687, 0.0] ins [2128.04264851  889.74377195    0.        ]\n",
      "gt [2122.44441340544, 890.3719209706198, 0.0] ins [2128.04264851  889.74377195    0.        ]\n",
      "gt [2122.4464292116418, 890.3768921905852, 0.0] ins [2128.04264851  889.74377195    0.        ]\n",
      "gt [2122.4478091169035, 890.3807890142286, 0.0] ins [2128.04264851  889.74377195    0.        ]\n",
      "gt [2122.4486248539706, 890.3837560260231, 0.0] ins [2128.04264851  889.74377195    0.        ]\n",
      "gt [2122.448992182397, 890.387419090102, 0.0] ins [2128.04264851  889.74377195    0.        ]\n",
      "gt [2122.4487733294577, 890.388551560827, 0.0] ins [2128.04264851  889.74377195    0.        ]\n",
      "gt [2122.448395814376, 890.3893672310442, 0.0] ins [2128.04264851  889.74377195    0.        ]\n",
      "gt [2122.447935784026, 890.389966662902, 0.0] ins [2128.04264851  889.74377195    0.        ]\n",
      "gt [2122.4473990210126, 890.390449799158, 0.0] ins [2128.04264851  889.74377195    0.        ]\n",
      "gt [2122.4468554199334, 890.3908371602612, 0.0] ins [2128.04264851  889.74377195    0.        ]\n",
      "gt [2122.445743982727, 890.3914870037854, 0.0] ins [2128.04264851  889.74377195    0.        ]\n",
      "gt [2122.445207596963, 890.3917797934939, 0.0] ins [2128.04264851  889.74377195    0.        ]\n",
      "gt [2122.444731556992, 890.3920392433884, 0.0] ins [2128.04264851  889.74377195    0.        ]\n",
      "gt [2122.4442240701683, 890.3923198798459, 0.0] ins [2128.04264851  889.74377195    0.        ]\n",
      "gt [2122.44374592616, 890.3925906856294, 0.0] ins [2128.04264851  889.74377195    0.        ]\n",
      "gt [2122.443280495629, 890.3928603147251, 0.0] ins [2128.04264851  889.74377195    0.        ]\n",
      "gt [2122.4423779137255, 890.3934008773092, 0.0] ins [2128.04264851  889.74377195    0.        ]\n",
      "gt [2122.441989025994, 890.3936396047172, 0.0] ins [2128.04264851  889.74377195    0.        ]\n",
      "gt [2122.4415880163647, 890.3938877286798, 0.0] ins [2128.04264851  889.74377195    0.        ]\n",
      "gt [2122.4411987814387, 890.3941297038058, 0.0] ins [2128.04264851  889.74377195    0.        ]\n",
      "gt [2122.4408218307763, 890.3943650217615, 0.0] ins [2128.04264851  889.74377195    0.        ]\n",
      "gt [2122.4404554645344, 890.3945944518725, 0.0] ins [2128.04264851  889.74377195    0.        ]\n",
      "gt [2122.4397541443873, 890.3950344601512, 0.0] ins [2128.04264851  889.74377195    0.        ]\n",
      "gt [2122.439418490878, 890.3952454484228, 0.0] ins [2128.04264851  889.74377195    0.        ]\n",
      "gt [2122.439091518002, 890.3954502163047, 0.0] ins [2128.04264851  889.74377195    0.        ]\n",
      "gt [2122.438774478819, 890.3956482719971, 0.0] ins [2128.04264851  889.74377195    0.        ]\n",
      "gt [2122.43846531677, 890.3958415103626, 0.0] ins [2128.04264851  889.74377195    0.        ]\n",
      "gt [2122.4378731441093, 890.3962134060984, 0.0] ins [2128.04264851  889.74377195    0.        ]\n",
      "gt [2122.4375891322984, 890.3963921516802, 0.0] ins [2128.04264851  889.74377195    0.        ]\n",
      "gt [2122.4373062435584, 890.3965704901891, 0.0] ins [2128.04264851  889.74377195    0.        ]\n",
      "gt [2122.437043587032, 890.3967361024818, 0.0] ins [2128.04264851  889.74377195    0.        ]\n",
      "gt [2122.4367825716417, 890.3969005669162, 0.0] ins [2128.04264851  889.74377195    0.        ]\n",
      "gt [2122.4365265082292, 890.3970622233812, 0.0] ins [2128.04264851  889.74377195    0.        ]\n",
      "gt [2122.4360349263206, 890.3973713825328, 0.0] ins [2128.04264851  889.74377195    0.        ]\n",
      "gt [2122.435802383306, 890.3975174616291, 0.0] ins [2128.04264851  889.74377195    0.        ]\n",
      "gt [2122.435582731826, 890.3976555128185, 0.0] ins [2128.04264851  889.74377195    0.        ]\n",
      "gt [2122.4353586510456, 890.3977969987823, 0.0] ins [2128.04264851  889.74377195    0.        ]\n",
      "gt [2122.4351394540627, 890.397936022975, 0.0] ins [2128.04264851  889.74377195    0.        ]\n",
      "gt [2122.4349124892387, 890.3980797476637, 0.0] ins [2128.04264851  889.74377195    0.        ]\n",
      "gt [2122.4345151975367, 890.3983287036901, 0.0] ins [2128.04264851  889.74377195    0.        ]\n",
      "gt [2122.434315954201, 890.3984531699001, 0.0] ins [2128.04264851  889.74377195    0.        ]\n",
      "gt [2122.4341223457004, 890.3985747598228, 0.0] ins [2128.04264851  889.74377195    0.        ]\n",
      "gt [2122.4339350866317, 890.3986929822854, 0.0] ins [2128.04264851  889.74377195    0.        ]\n",
      "gt [2122.4337511814215, 890.3988092853053, 0.0] ins [2128.04264851  889.74377195    0.        ]\n",
      "gt [2122.43339765945, 890.3990339101306, 0.0] ins [2128.04264851  889.74377195    0.        ]\n",
      "gt [2122.4330609867243, 890.3992484740634, 0.0] ins [2128.04264851  889.74377195    0.        ]\n",
      "gt [2122.4328980123255, 890.3993520584037, 0.0] ins [2128.04264851  889.74377195    0.        ]\n",
      "gt [2122.43274046583, 890.3994518917136, 0.0] ins [2128.04264851  889.74377195    0.        ]\n",
      "gt [2122.4325853501955, 890.3995501239956, 0.0] ins [2128.04264851  889.74377195    0.        ]\n",
      "gt [2122.4322855765904, 890.399737898947, 0.0] ins [2128.04264851  889.74377195    0.        ]\n",
      "gt [2122.4321404247526, 890.3998276470156, 0.0] ins [2128.04264851  889.74377195    0.        ]\n",
      "gt [2122.432000073543, 890.3999150248619, 0.0] ins [2128.04264851  889.74377195    0.        ]\n",
      "gt [2122.431860162072, 890.4000030113318, 0.0] ins [2128.04264851  889.74377195    0.        ]\n",
      "gt [2122.431725616808, 890.4000879791291, 0.0] ins [2128.04264851  889.74377195    0.        ]\n",
      "gt [2122.4315953334417, 890.400170215018, 0.0] ins [2128.04264851  889.74377195    0.        ]\n",
      "gt [2122.4313413463333, 890.400331625193, 0.0] ins [2128.04264851  889.74377195    0.        ]\n",
      "gt [2122.431219562911, 890.4004087525402, 0.0] ins [2128.04264851  889.74377195    0.        ]\n",
      "gt [2122.4311005017043, 890.4004837245562, 0.0] ins [2128.04264851  889.74377195    0.        ]\n",
      "gt [2122.430982379132, 890.4005578075187, 0.0] ins [2128.04264851  889.74377195    0.        ]\n",
      "gt [2122.4308683371314, 890.4006285188151, 0.0] ins [2128.04264851  889.74377195    0.        ]\n",
      "gt [2122.4306459380477, 890.4007663067973, 0.0] ins [2128.04264851  889.74377195    0.        ]\n",
      "gt [2122.4305410744178, 890.4008313187553, 0.0] ins [2128.04264851  889.74377195    0.        ]\n"
     ]
    },
    {
     "name": "stdout",
     "output_type": "stream",
     "text": [
      "gt [2122.4304367263526, 890.4008962981343, 0.0] ins [2128.04264851  889.74377195    0.        ]\n",
      "gt [2122.430341124353, 890.4009554766068, 0.0] ins [2128.04264851  889.74377195    0.        ]\n",
      "gt [2122.4302414612393, 890.4010168997295, 0.0] ins [2128.04264851  889.74377195    0.        ]\n",
      "gt [2122.4301373514595, 890.4010809171303, 0.0] ins [2128.04264851  889.74377195    0.        ]\n",
      "gt [2122.4299497409543, 890.4011975093733, 0.0] ins [2128.04264851  889.74377195    0.        ]\n",
      "gt [2122.429865134025, 890.4012511885089, 0.0] ins [2128.04264851  889.74377195    0.        ]\n",
      "gt [2122.4297772910377, 890.401307467967, 0.0] ins [2128.04264851  889.74377195    0.        ]\n",
      "gt [2122.4296911676056, 890.4013622906396, 0.0] ins [2128.04264851  889.74377195    0.        ]\n",
      "gt [2122.429606093625, 890.4014152684771, 0.0] ins [2128.04264851  889.74377195    0.        ]\n",
      "gt [2122.4295202188223, 890.4014681944468, 0.0] ins [2128.04264851  889.74377195    0.        ]\n",
      "gt [2122.4293634903197, 890.4015653508387, 0.0] ins [2128.04264851  889.74377195    0.        ]\n",
      "gt [2122.4292860693863, 890.4016136610819, 0.0] ins [2128.04264851  889.74377195    0.        ]\n",
      "gt [2122.4292106812773, 890.4016606373325, 0.0] ins [2128.04264851  889.74377195    0.        ]\n",
      "gt [2122.4291371203176, 890.4017069493183, 0.0] ins [2128.04264851  889.74377195    0.        ]\n",
      "gt [2122.42906506875, 890.4017520531648, 0.0] ins [2128.04264851  889.74377195    0.        ]\n",
      "gt [2122.4289946154945, 890.4017960161505, 0.0] ins [2128.04264851  889.74377195    0.        ]\n",
      "gt [2122.4288588145228, 890.4018818772867, 0.0] ins [2128.04264851  889.74377195    0.        ]\n",
      "gt [2122.4287927784126, 890.4019232030735, 0.0] ins [2128.04264851  889.74377195    0.        ]\n",
      "gt [2122.428729338065, 890.4019638275372, 0.0] ins [2128.04264851  889.74377195    0.        ]\n",
      "gt [2122.4286675522085, 890.4020037439886, 0.0] ins [2128.04264851  889.74377195    0.        ]\n",
      "gt [2122.428605843305, 890.4020424639477, 0.0] ins [2128.04264851  889.74377195    0.        ]\n",
      "gt [2122.428546687543, 890.4020796356349, 0.0] ins [2128.04264851  889.74377195    0.        ]\n",
      "gt [2122.4284310580374, 890.402154415403, 0.0] ins [2128.04264851  889.74377195    0.        ]\n",
      "gt [2122.4283745956855, 890.4021900766263, 0.0] ins [2128.04264851  889.74377195    0.        ]\n",
      "gt [2122.428320232666, 890.4022235764792, 0.0] ins [2128.04264851  889.74377195    0.        ]\n",
      "gt [2122.4282668554056, 890.4022571454503, 0.0] ins [2128.04264851  889.74377195    0.        ]\n",
      "gt [2122.428214730304, 890.4022901823489, 0.0] ins [2128.04264851  889.74377195    0.        ]\n",
      "gt [2122.428114220438, 890.4023531259684, 0.0] ins [2128.04264851  889.74377195    0.        ]\n",
      "gt [2122.4280647209853, 890.4023838116807, 0.0] ins [2128.04264851  889.74377195    0.        ]\n",
      "gt [2122.4280150363993, 890.4024141153222, 0.0] ins [2128.04264851  889.74377195    0.        ]\n",
      "gt [2122.4279713450787, 890.402440477671, 0.0] ins [2128.04264851  889.74377195    0.        ]\n",
      "gt [2122.4279232931904, 890.4024697492405, 0.0] ins [2128.04264851  889.74377195    0.        ]\n",
      "gt [2122.427878616344, 890.40249705078, 0.0] ins [2128.04264851  889.74377195    0.        ]\n",
      "gt [2122.4277908827635, 890.4025498240674, 0.0] ins [2128.04264851  889.74377195    0.        ]\n",
      "gt [2122.4277493176205, 890.4025755304974, 0.0] ins [2128.04264851  889.74377195    0.        ]\n",
      "gt [2122.427707966251, 890.4026013110793, 0.0] ins [2128.04264851  889.74377195    0.        ]\n",
      "gt [2122.4276681308156, 890.4026258933806, 0.0] ins [2128.04264851  889.74377195    0.        ]\n",
      "gt [2122.4276291615083, 890.4026505281188, 0.0] ins [2128.04264851  889.74377195    0.        ]\n",
      "gt [2122.42759147389, 890.4026752105423, 0.0] ins [2128.04264851  889.74377195    0.        ]\n",
      "gt [2122.4275188389347, 890.4027230316167, 0.0] ins [2128.04264851  889.74377195    0.        ]\n",
      "gt [2122.427483757323, 890.4027459716104, 0.0] ins [2128.04264851  889.74377195    0.        ]\n",
      "gt [2122.427449417836, 890.4027684700927, 0.0] ins [2128.04264851  889.74377195    0.        ]\n",
      "gt [2122.427416481518, 890.40279082829, 0.0] ins [2128.04264851  889.74377195    0.        ]\n",
      "gt [2122.4270494656544, 890.402282192601, 0.0] ins [2128.0395212   889.73877876    0.        ]\n",
      "gt [2122.417686735675, 890.3875195152616, 0.0] ins [2128.02080869  889.70888541    0.        ]\n",
      "gt [2122.4088196313132, 890.3734696074287, 0.0] ins [2128.00523041  889.68399296    0.        ]\n",
      "gt [2122.3967342094898, 890.354289209131, 0.0] ins [2127.98820639  889.65678449    0.        ]\n",
      "gt [2122.3812191295474, 890.3296393543483, 0.0] ins [2127.96570096  889.62080521    0.        ]\n",
      "gt [2122.363319153038, 890.3011812125587, 0.0] ins [2127.94322911  889.58486256    0.        ]\n",
      "gt [2122.3452272471445, 890.2724141126866, 0.0] ins [2127.91402744  889.53813777    0.        ]\n",
      "gt [2122.2961462081994, 890.1940487580896, 0.0] ins [2127.84976076  889.4352841     0.        ]\n",
      "gt [2122.2682075236935, 890.1491559209371, 0.0] ins [2127.81117221  889.37349655    0.        ]\n",
      "gt [2122.2367617154846, 890.0989475734016, 0.0] ins [2127.77485811  889.31533261    0.        ]\n",
      "gt [2122.2016827885104, 890.0430383790685, 0.0] ins [2127.72935425  889.24241751    0.        ]\n",
      "gt [2122.164453466885, 889.983622154855, 0.0] ins [2127.6838246   889.16942774    0.        ]\n",
      "gt [2122.124125720287, 889.919254902528, 0.0] ins [2127.63544162  889.09180606    0.        ]\n",
      "gt [2122.0274684062488, 889.7661040558168, 0.0] ins [2127.53148931  888.92482849    0.        ]\n",
      "gt [2121.972582748286, 889.6790180626641, 0.0] ins [2127.47862984  888.8398477     0.        ]\n",
      "gt [2121.9140553987695, 889.5857151406349, 0.0] ins [2127.41630072  888.73947396    0.        ]\n",
      "gt [2121.8525694511163, 889.487532155653, 0.0] ins [2127.36085919  888.64999628    0.        ]\n",
      "gt [2121.788617569282, 889.3848360639106, 0.0] ins [2127.29428418  888.54223493    0.        ]\n",
      "gt [2121.523108305449, 888.956628124479, 0.0] ins [2127.02895907  888.09989898    0.        ]\n",
      "gt [2121.449862752746, 888.8347797699987, 0.0] ins [2126.962759    887.98838542    0.        ]\n",
      "gt [2121.3715576240816, 888.7031803138395, 0.0] ins [2126.88665065  887.85808117    0.        ]\n",
      "gt [2121.2900794508964, 888.565357061563, 0.0] ins [2126.81923023  887.74036788    0.        ]\n",
      "gt [2121.2096871955605, 888.4261959709535, 0.0] ins [2126.74078574  887.60036741    0.        ]\n",
      "gt [2121.0505191067055, 888.1398811787856, 0.0] ins [2126.58946494  887.3188973     0.        ]\n",
      "gt [2120.9679958236684, 887.9855610894883, 0.0] ins [2126.51803229  887.18225819    0.        ]\n",
      "gt [2120.885250023511, 887.8265560995711, 0.0] ins [2126.43597207  887.01982302    0.        ]\n",
      "gt [2120.8009441030986, 887.6594359871536, 0.0] ins [2126.36323571  886.87140428    0.        ]\n",
      "gt [2120.7136684766106, 887.4809525487785, 0.0] ins [2126.28195182  886.69771078    0.        ]\n",
      "gt [2120.6264442109377, 887.2943936468878, 0.0] ins [2126.21206881  886.54032808    0.        ]\n",
      "gt [2120.4568686514617, 886.9029435602232, 0.0] ins [2126.06728891  886.1776614     0.        ]\n",
      "gt [2120.37801242514, 886.7021120105785, 0.0] ins [2125.99135338  885.97412531    0.        ]\n",
      "gt [2120.2950295271, 886.4805636563119, 0.0] ins [2125.91864604  885.76155045    0.        ]\n",
      "gt [2120.229158729585, 886.2850553168164, 0.0] ins [2125.85910743  885.5741672     0.        ]\n",
      "gt [2120.161711329749, 886.0694987426695, 0.0] ins [2125.8012475   885.37594581    0.        ]\n",
      "gt [2120.093333533764, 885.8347155363057, 0.0] ins [2125.74076713  885.14215916    0.        ]\n",
      "gt [2119.980299970146, 885.3606019702431, 0.0] ins [2125.65470882  884.68807287    0.        ]\n",
      "gt [2119.9363337037976, 885.1194760059412, 0.0] ins [2125.61906253  884.46309125    0.        ]\n",
      "gt [2119.8988646950893, 884.8629302544548, 0.0] ins [2125.58874316  884.20791252    0.        ]\n",
      "gt [2119.8698349029964, 884.5975326529261, 0.0] ins [2125.57086948  883.97774135    0.        ]\n",
      "gt [2119.8504450399573, 884.328568556432, 0.0] ins [2125.56148454  883.71026598    0.        ]\n",
      "gt [2119.8443875083735, 883.7746218374879, 0.0] ins [2125.58379308  883.19009708    0.        ]\n",
      "gt [2119.857101790178, 883.5143580020797, 0.0] ins [2125.60392483  882.94718295    0.        ]\n",
      "gt [2119.882809812051, 883.2348360493311, 0.0] ins [2125.64023143  882.65958433    0.        ]\n"
     ]
    },
    {
     "name": "stdout",
     "output_type": "stream",
     "text": [
      "gt [2119.919350699114, 882.9547738499077, 0.0] ins [2125.68146391  882.40246118    0.        ]\n",
      "gt [2119.9732872933123, 882.6474983187818, 0.0] ins [2125.7428585   882.11189468    0.        ]\n",
      "gt [2120.035429170739, 882.361524915598, 0.0] ins [2125.82043608  881.81830184    0.        ]\n",
      "gt [2120.1957771006923, 881.8114001874578, 0.0] ins [2126.00023817  881.30057097    0.        ]\n",
      "gt [2120.300702974806, 881.5225225194172, 0.0] ins [2126.11774244  881.00608066    0.        ]\n",
      "gt [2120.425744726576, 881.219280137853, 0.0] ins [2126.25277452  880.71141657    0.        ]\n",
      "gt [2120.5565920132453, 880.9401914321568, 0.0] ins [2126.38219697  880.45613059    0.        ]\n",
      "gt [2120.700948074343, 880.6667430723462, 0.0] ins [2126.54456576  880.16528531    0.        ]\n",
      "gt [2121.0356541026863, 880.1136138125739, 0.0] ins [2126.90337768  879.64184764    0.        ]\n",
      "gt [2121.227557516346, 879.8383480392782, 0.0] ins [2127.08225712  879.40108619    0.        ]\n",
      "gt [2121.4326265129066, 879.5707423720257, 0.0] ins [2127.30404995  879.12721664    0.        ]\n",
      "gt [2121.6514407428385, 879.3084266629571, 0.0] ins [2127.51267217  878.89292546    0.        ]\n",
      "gt [2121.8837793788043, 879.0504420468114, 0.0] ins [2127.76476707  878.63543646    0.        ]\n",
      "gt [2122.13070843918, 878.8002006934851, 0.0] ins [2127.99389692  878.41743498    0.        ]\n",
      "gt [2122.6671736289723, 878.314181946608, 0.0] ins [2128.53563245  877.97943968    0.        ]\n",
      "gt [2122.940597941434, 878.096892295546, 0.0] ins [2128.83794595  877.755984      0.        ]\n",
      "gt [2123.23354775567, 877.8835951209667, 0.0] ins [2129.10910031  877.5698211     0.        ]\n",
      "gt [2123.5372721517397, 877.6778149992364, 0.0] ins [2129.43236778  877.36389441    0.        ]\n",
      "gt [2123.8452047155747, 877.4867384917845, 0.0] ins [2129.72521978  877.19207667    0.        ]\n",
      "gt [2124.172643763465, 877.3013071516939, 0.0] ins [2130.08436232  877.00029884    0.        ]\n",
      "gt [2124.5134885217226, 877.1221115051244, 0.0] ins [2130.38127606  876.85355053    0.        ]\n",
      "gt [2125.2201179590757, 876.7899612719584, 0.0] ins [2131.0874703   876.55267109    0.        ]\n",
      "gt [2125.6073186803656, 876.6276291665613, 0.0] ins [2131.47461982  876.39995377    0.        ]\n",
      "gt [2125.9781309753475, 876.4814323169498, 0.0] ins [2131.87094084  876.25295865    0.        ]\n",
      "gt [2126.3299653041004, 876.3506409442555, 0.0] ins [2132.22153038  876.12934162    0.        ]\n",
      "gt [2126.717861412523, 876.2159218834233, 0.0] ins [2132.58525487  876.00837048    0.        ]\n",
      "gt [2127.146222954529, 876.0773569572586, 0.0] ins [2133.00664677  875.87758046    0.        ]\n",
      "gt [2127.9385674867954, 875.8395346848105, 0.0] ins [2133.80482031  875.65746506    0.        ]\n",
      "gt [2128.339910607742, 875.7323809534655, 0.0] ins [2134.25141785  875.54198074    0.        ]\n",
      "gt [2128.7565161180723, 875.6280132811281, 0.0] ins [2134.64583535  875.44752243    0.        ]\n",
      "gt [2129.1811856432205, 875.5282156333187, 0.0] ins [2135.09804067  875.3467632     0.        ]\n",
      "gt [2129.6138218289125, 875.431490903354, 0.0] ins [2135.49531212  875.26322996    0.        ]\n",
      "gt [2130.925569111096, 875.1696723851032, 0.0] ins [2136.86241921  875.03577295    0.        ]\n",
      "gt [2131.379622885196, 875.0932795882255, 0.0] ins [2137.27965975  874.97087784    0.        ]\n",
      "gt [2131.837547989023, 875.0240911628432, 0.0] ins [2137.7741449   874.90111408    0.        ]\n",
      "gt [2132.304676431954, 874.9622943664252, 0.0] ins [2138.21397649  874.84556026    0.        ]\n",
      "gt [2132.8080406976187, 874.8985676096152, 0.0] ins [2138.71605224  874.78887647    0.        ]\n",
      "gt [2133.26278427021, 874.8469586661594, 0.0] ins [2139.15195411  874.74389952    0.        ]\n",
      "gt [2134.2461444370747, 874.7540006567576, 0.0] ins [2140.13357465  874.66554963    0.        ]\n",
      "gt [2134.7796650071173, 874.7113149253264, 0.0] ins [2140.65263764  874.62972847    0.        ]\n",
      "gt [2135.320595251228, 874.6721064213828, 0.0] ins [2141.18747694  874.59780632    0.        ]\n",
      "gt [2135.8081388545133, 874.6417913785515, 0.0] ins [2141.65262831  874.57391648    0.        ]\n",
      "gt [2136.32863819656, 874.616074415278, 0.0] ins [2142.19683356  874.55209946    0.        ]\n",
      "gt [2137.357613105237, 874.5790955271557, 0.0] ins [2143.2364893   874.52665094    0.        ]\n",
      "gt [2137.8831115470257, 874.5665652602676, 0.0] ins [2143.72345974  874.51797128    0.        ]\n",
      "gt [2138.4078298495547, 874.5585555329018, 0.0] ins [2144.29640614  874.51236832    0.        ]\n",
      "gt [2138.9650830634705, 874.5547504420998, 0.0] ins [2144.86034477  874.5098417     0.        ]\n",
      "gt [2139.4854872804335, 874.5541802890905, 0.0] ins [2145.36821702  874.50926155    0.        ]\n",
      "gt [2140.0162645808, 874.5554223000299, 0.0] ins [2145.9516802   874.51065619    0.        ]\n",
      "gt [2141.1104267025626, 874.5613419838809, 0.0] ins [2147.06009953  874.52204664    0.        ]\n",
      "gt [2141.6729532448653, 874.5687965952745, 0.0] ins [2147.58561428  874.52859985    0.        ]\n",
      "gt [2142.2496795187712, 874.5774135015276, 0.0] ins [2148.19049685  874.53775872    0.        ]\n",
      "gt [2142.818174807862, 874.5830741259738, 0.0] ins [2148.74910072  874.54783809    0.        ]\n",
      "gt [2143.384103856412, 874.593207537392, 0.0] ins [2149.32933264  874.55986387    0.        ]\n",
      "gt [2143.9566000552577, 874.6045849280894, 0.0] ins [2149.87677579  874.57223188    0.        ]\n",
      "gt [2144.569664199974, 874.6191651836859, 0.0] ins [2150.49811209  874.58792903    0.        ]\n",
      "gt [2145.748204054133, 874.6492195210353, 0.0] ins [2151.66815945  874.62178558    0.        ]\n",
      "gt [2146.3396523296183, 874.6628673194498, 0.0] ins [2152.2928068   874.64133766    0.        ]\n",
      "gt [2146.933023439077, 874.6779709806209, 0.0] ins [2152.85628727  874.65966209    0.        ]\n",
      "gt [2147.527888466709, 874.6949038581271, 0.0] ins [2153.51572427  874.6820169     0.        ]\n",
      "gt [2148.118451423643, 874.7090494416038, 0.0] ins [2154.05091889  874.70055584    0.        ]\n",
      "gt [2148.706690570102, 874.7262751252465, 0.0] ins [2154.69115091  874.72308452    0.        ]\n",
      "gt [2149.883281929883, 874.7626343682696, 0.0] ins [2155.91532469  874.76795666    0.        ]\n",
      "gt [2150.485207528062, 874.7797609608965, 0.0] ins [2156.47696116  874.78853755    0.        ]\n",
      "gt [2151.107682308771, 874.7961580003567, 0.0] ins [2157.13121703  874.81187344    0.        ]\n",
      "gt [2151.7153005233245, 874.8114447163193, 0.0] ins [2157.73059669  874.83272133    0.        ]\n",
      "gt [2152.9547882128113, 874.844941361372, 0.0] ins [2158.9416904   874.87311213    0.        ]\n",
      "gt [2153.6194974572054, 874.8633541658637, 0.0] ins [2159.59896296  874.89435019    0.        ]\n",
      "gt [2154.239636187133, 874.8776064602167, 0.0] ins [2160.26217193  874.91516926    0.        ]\n",
      "gt [2154.856922502816, 874.8941094440606, 0.0] ins [2160.85696034  874.93326899    0.        ]\n",
      "gt [2155.4614407503573, 874.909736562001, 0.0] ins [2161.52238239  874.95339557    0.        ]\n",
      "gt [2156.6840496350437, 874.9355240754263, 0.0] ins [2162.77370508  874.99081635    0.        ]\n",
      "gt [2157.298996197351, 874.9468632040866, 0.0] ins [2163.36938418  875.00852259    0.        ]\n",
      "gt [2157.9093536098626, 874.9598084381583, 0.0] ins [2164.04696535  875.02876694    0.        ]\n",
      "gt [2158.536422761181, 874.9739339859187, 0.0] ins [2164.66840508  875.04720302    0.        ]\n",
      "gt [2159.170029582353, 874.9901208234566, 0.0] ins [2165.32018798  875.06636743    0.        ]\n",
      "gt [2159.8118977191284, 875.0039400007028, 0.0] ins [2165.92028972  875.08393704    0.        ]\n",
      "gt [2161.1466293209637, 875.0282181551211, 0.0] ins [2167.29371307  875.12345091    0.        ]\n",
      "gt [2161.7472238374417, 875.0366638881138, 0.0] ins [2167.88250724  875.14051519    0.        ]\n",
      "gt [2162.38650150819, 875.047390751366, 0.0] ins [2168.50160259  875.15853038    0.        ]\n",
      "gt [2163.071951096659, 875.0573353066765, 0.0] ins [2169.18723676  875.17843171    0.        ]\n",
      "gt [2163.7133805618314, 875.0675324434496, 0.0] ins [2169.87438249  875.19825695    0.        ]\n",
      "gt [2164.353315597601, 875.0760487876046, 0.0] ins [2170.47892996  875.21550656    0.        ]\n",
      "gt [2165.6539902826703, 875.0958731712375, 0.0] ins [2171.78464234  875.2533472     0.        ]\n",
      "gt [2166.2958891348135, 875.1059884528925, 0.0] ins [2172.46947878  875.27309349    0.        ]\n",
      "gt [2166.923091214489, 875.1187241290054, 0.0] ins [2173.07212471  875.29044026    0.        ]\n"
     ]
    },
    {
     "name": "stdout",
     "output_type": "stream",
     "text": [
      "gt [2167.55785051683, 875.1257505826826, 0.0] ins [2173.76378313  875.31013101    0.        ]\n",
      "gt [2168.1907179037466, 875.1373154055002, 0.0] ins [2174.37279086  875.32742628    0.        ]\n",
      "gt [2169.460065510634, 875.1598513010081, 0.0] ins [2175.66252425  875.3635217     0.        ]\n",
      "gt [2170.0823113040474, 875.1687396408981, 0.0] ins [2176.3634515   875.38322992    0.        ]\n",
      "gt [2170.720662537157, 875.1803628545218, 0.0] ins [2177.04017069  875.40226155    0.        ]\n",
      "gt [2171.3496988648158, 875.188738671927, 0.0] ins [2177.63941129  875.41915666    0.        ]\n",
      "gt [2172.0236234931112, 875.2006525031728, 0.0] ins [2178.31940886  875.43854163    0.        ]\n",
      "gt [2172.6356118454737, 875.210212164053, 0.0] ins [2178.91319768  875.45563441    0.        ]\n",
      "gt [2173.953523509399, 875.2345465111464, 0.0] ins [2180.25912     875.49408611    0.        ]\n",
      "gt [2174.5857440788623, 875.2442237117139, 0.0] ins [2180.85244039  875.51107437    0.        ]\n",
      "gt [2175.168495784878, 875.2579985920689, 0.0] ins [2181.44234843  875.52815546    0.        ]\n",
      "gt [2175.8256929555614, 875.2741173901197, 0.0] ins [2182.09700098  875.54699229    0.        ]\n",
      "gt [2176.4426256112974, 875.2884158050404, 0.0] ins [2182.76284187  875.56604292    0.        ]\n",
      "gt [2177.0425767829483, 875.2988576678673, 0.0] ins [2183.34265707  875.58271466    0.        ]\n",
      "gt [2178.2756279413934, 875.3261950944708, 0.0] ins [2184.5806388   875.61934842    0.        ]\n",
      "gt [2178.8941596494974, 875.3372238438341, 0.0] ins [2185.23851165  875.63885766    0.        ]\n",
      "gt [2179.5193343216156, 875.349993072018, 0.0] ins [2185.81875041  875.65597515    0.        ]\n",
      "gt [2180.1193891356124, 875.3620241317799, 0.0] ins [2186.387739    875.67270729    0.        ]\n",
      "gt [2180.733754267125, 875.3729444619069, 0.0] ins [2187.0437489   875.69194698    0.        ]\n",
      "gt [2181.964295443167, 875.3932639000616, 0.0] ins [2188.2761568   875.72837967    0.        ]\n",
      "gt [2182.569707626146, 875.4028433334759, 0.0] ins [2188.93436151  875.74792959    0.        ]\n",
      "gt [2183.1816654365175, 875.4092796223862, 0.0] ins [2189.50011983  875.76482822    0.        ]\n",
      "gt [2183.7905432700286, 875.4181272349638, 0.0] ins [2190.14608928  875.78411812    0.        ]\n",
      "gt [2184.3987422208993, 875.424458916758, 0.0] ins [2190.72418232  875.80136995    0.        ]\n",
      "gt [2184.999736965005, 875.4306217398668, 0.0] ins [2191.29067585  875.81835751    0.        ]\n",
      "gt [2186.2569358489623, 875.4464614672501, 0.0] ins [2192.585653    875.85708542    0.        ]\n",
      "gt [2186.855919565877, 875.4567652345337, 0.0] ins [2193.15102652  875.87405025    0.        ]\n",
      "gt [2187.4698117156872, 875.4675320784008, 0.0] ins [2193.82344025  875.89441529    0.        ]\n"
     ]
    },
    {
     "data": {
      "text/plain": [
       "<matplotlib.collections.PathCollection at 0x7f4ac616bef0>"
      ]
     },
     "execution_count": 131,
     "metadata": {},
     "output_type": "execute_result"
    },
    {
     "data": {
      "image/png": "[encoded data removed]",
      "text/plain": [
       "<matplotlib.figure.Figure at 0x7f49fc213c88>"
      ]
     },
     "metadata": {},
     "output_type": "display_data"
    }
   ],
   "source": [
    "import scipy\n",
    "scene = 365\n",
    "dataset = NuscenesDataset(nusc=nusc, directory=directory,scene_id=scene)\n",
    "N = 800\n",
    "gt = np.zeros(N)\n",
    "imu = np.zeros(N)\n",
    "gt_pos = np.zeros((N,2))\n",
    "imu_pos = np.zeros((N,2))\n",
    "timestamp = np.zeros(N)\n",
    "for t in range(0,N):\n",
    "    trns, rot = dataset.getEgoInfo(dataset.first_idx + t, GT=True)\n",
    "    gt[t] = np.linalg.norm(trns[0:2]-gt_pos[t-1, :]) if t > 0 else 0\n",
    "    gt_pos[t, :] = trns[0:2]\n",
    "    trns1, rot1 = dataset.getEgoInfo(dataset.first_idx + t, GT=False)\n",
    "    print(\"gt\", trns, \"ins\", trns1)\n",
    "    imu[t] = np.linalg.norm(trns1[0:2]-imu_pos[t-1, :]) if t > 0 else 0\n",
    "    imu_pos[t, :] = trns1[0:2]\n",
    "    timestamp[t] = dataset.odometry['timestamp']\n",
    "    \n",
    "gt_int = np.cumsum(gt)\n",
    "imu_int = np.cumsum(imu)\n",
    "    \n",
    "fig, ax = plt.subplots(1,figsize=(10,5))\n",
    "ax.set_title(f\"INS position err Vs. distance travelled scene={scene}\", fontsize=20)\n",
    "ax.set(xlabel='s [m]', ylabel='err(s) [m]')\n",
    "ax.scatter(gt_int,gt_int-imu_int,color='blue',s=1)"
   ]
  },
  {
   "cell_type": "code",
   "execution_count": 134,
   "metadata": {},
   "outputs": [
    {
     "name": "stdout",
     "output_type": "stream",
     "text": [
      "scene_id=365 scene_name=scene-0451 map_name=boston-seaport\n",
      "odom_speed [[1.53728725e+15 1.20000000e+01]\n",
      " [1.53728725e+15 1.20000000e+01]\n",
      " [1.53728725e+15 1.30000000e+01]\n",
      " ...\n",
      " [1.53728977e+15 2.60000000e+01]\n",
      " [1.53728977e+15 2.60000000e+01]\n",
      " [1.53728977e+15 2.60000000e+01]]\n"
     ]
    },
    {
     "data": {
      "text/plain": [
       "<matplotlib.collections.PathCollection at 0x7f4b41569128>"
      ]
     },
     "execution_count": 134,
     "metadata": {},
     "output_type": "execute_result"
    },
    {
     "data": {
      "image/png": "[encoded data removed]",
      "text/plain": [
       "<matplotlib.figure.Figure at 0x7f4b3957fa58>"
      ]
     },
     "metadata": {},
     "output_type": "display_data"
    }
   ],
   "source": [
    "#draw the speed\n",
    "import scipy\n",
    "scene = 365\n",
    "dataset = NuscenesDataset(nusc=nusc, directory=directory,scene_id=scene)\n",
    "N = 800#800\n",
    "gt_speed = np.zeros(N)\n",
    "imu_speed = np.zeros(N)\n",
    "timestamp = np.zeros(N)\n",
    "for t in range(0,N):\n",
    "    trns, rot = dataset.getEgoInfo(dataset.first_idx + t, GT=True)\n",
    "    gt_speed[t] = np.linalg.norm(dataset.odometry['speed'])\n",
    "    trns1, rot1 = dataset.getEgoInfo(dataset.first_idx + t, GT=False)\n",
    "    imu_speed[t] = dataset.odometry['speed']\n",
    "    timestamp[t] = dataset.odometry['timestamp']\n",
    "    \n",
    "fig, ax = plt.subplots(1,figsize=(10,5))\n",
    "ax.set_title(f\"INS velocity err Vs. over time scene={scene}\", fontsize=20)\n",
    "ax.set(xlabel='t [s]', ylabel='err(v) [m/s]')\n",
    "ax.scatter(timestamp[:]-timestamp[0],gt_speed-imu_speed,color='blue',s=1)"
   ]
  },
  {
   "cell_type": "code",
   "execution_count": null,
   "metadata": {},
   "outputs": [],
   "source": [
    "from pyquaternion import Quaternion\n",
    "\n",
    "Quaternion.Inverse()"
   ]
  },
  {
   "cell_type": "code",
   "execution_count": null,
   "metadata": {},
   "outputs": [],
   "source": [
    "dataset = NuscenesDataset(nusc=nusc, directory=directory, scene_id=426)\n",
    "_, _, _, video_data, nusc_map = dataset.getData(700)\n",
    "map_matching = MapMatching(N=10)"
   ]
  },
  {
   "cell_type": "code",
   "execution_count": null,
   "metadata": {},
   "outputs": [],
   "source": [
    "edges1 = map_matching.getRoadBorders(nuscMap=nusc_map, worldRef=video_data['pos'], layer_names=['walkway'],blur_area=(3,3),threshold1=0.5, threshold2=0.9)\n",
    "edges2 = map_matching.getRoadBorders(nuscMap=nusc_map, worldRef=video_data['pos'], layer_names=['drivable_area'],blur_area=(3,3),threshold1=0.5, threshold2=0.9)\n",
    "edges = edges1 & edges2\n",
    "\n",
    "#road = map_matching.getDrivableArea(nuscMap=nusc_map, worldRef=[400,850],layer_names = ['drivable_area'], patch_size=200)\n",
    "plt.imshow(edges2, origin='lower')"
   ]
  },
  {
   "cell_type": "code",
   "execution_count": null,
   "metadata": {},
   "outputs": [],
   "source": [
    "a = np.array([[1, 2],[3,4],[5,6],[7,8]])\n",
    "print(a.shape)\n",
    "b = np.array([[11, 19],[7,28],[15,16]]).T\n",
    "print(b.shape)\n",
    "print(a[:,0].shape)\n",
    "k = a[:,0].reshape(-1,1)-b[0,:].reshape(1,-1)\n",
    "t = a[:,1].reshape(-1,1)-b[1,:].reshape(1,-1)\n",
    "norm = np.sqrt(k**2 + t**2)\n",
    "it = norm.argmin(axis=1)\n",
    "print(\"it\", it, \"norm\",norm)\n",
    "#print(np.amin(norm, axis=1))\n",
    "print(k.shape, t.shape)\n",
    "print(k)\n",
    "print(np.take_along_axis(k, np.expand_dims(it, axis=-1), axis=1))\n",
    "print(np.take_along_axis(t, np.expand_dims(it, axis=-1), axis=1))"
   ]
  },
  {
   "cell_type": "code",
   "execution_count": 30,
   "metadata": {},
   "outputs": [
    {
     "name": "stdout",
     "output_type": "stream",
     "text": [
      "[[0. 0. 0.]\n",
      " [1. 0. 0.]\n",
      " [1. 0. 0.]]\n"
     ]
    }
   ],
   "source": [
    "A = np.zeros((3,3))\n",
    "pnts = [[0,1],[3,3],[6,1]]\n",
    "dist = np.array([pnt[0]**2 for pnt in pnts])\n",
    "candidates = np.where(dist>5)[0]\n",
    "non_candidates = np.where(dist<=5)[0]\n",
    "\n",
    "A[candidates,0] = 1\n",
    "print(A)"
   ]
  },
  {
   "cell_type": "code",
   "execution_count": null,
   "metadata": {},
   "outputs": [],
   "source": []
  }
 ],
 "metadata": {
  "kernelspec": {
   "display_name": "Python 3",
   "language": "python",
   "name": "python3"
  },
  "language_info": {
   "codemirror_mode": {
    "name": "ipython",
    "version": 3
   },
   "file_extension": ".py",
   "mimetype": "text/x-python",
   "name": "python",
   "nbconvert_exporter": "python",
   "pygments_lexer": "ipython3",
   "version": "3.6.9"
  }
 },
 "nbformat": 4,
 "nbformat_minor": 4
}
