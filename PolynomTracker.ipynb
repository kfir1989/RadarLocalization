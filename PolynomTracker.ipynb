{
 "cells": [
  {
   "cell_type": "markdown",
   "metadata": {},
   "source": [
    "# Classes"
   ]
  },
  {
   "cell_type": "code",
   "execution_count": null,
   "metadata": {},
   "outputs": [],
   "source": [
    "class Dataset():\n",
    "    def __init__(self, **kwargs):\n",
    "        pass\n",
    "    \n",
    "    def getData(self, idx):\n",
    "        pass\n",
    "        "
   ]
  },
  {
   "cell_type": "code",
   "execution_count": null,
   "metadata": {},
   "outputs": [],
   "source": [
    "from utils import *\n",
    "from tools import *\n",
    "\n",
    "class DynamicSimulatedDataset(Dataset):\n",
    "    def __init__(self, **kwargs):\n",
    "        x0 = kwargs.pop('x0', (0,0))\n",
    "        v0 = kwargs.pop('v0', 5)\n",
    "        a0 = kwargs.pop('a0', 0)\n",
    "        N = kwargs.pop('N', 150)\n",
    "        prior = kwargs.pop('prior', (1, 0.009, -0.004))\n",
    "        dR = kwargs.pop('dR', 0.4)\n",
    "        dAz = kwargs.pop('dAz', 0.05)\n",
    "        polynom_noise_ratio = kwargs.pop('polynom_noise_ratio', 0.5)\n",
    "        seed = kwargs.pop('seed', None)\n",
    "        self.__generateEgoMotion(x0=np.asarray(x0), v0=v0, a0=a0, path=prior, N=N, dT=0.1)\n",
    "        self.prior, self.dR, self.dAz, self.polynom_noise_ratio = prior, dR, dAz, polynom_noise_ratio\n",
    "        x, y = createPolynom(a1=prior[0],a2=prior[1],a3=prior[2],xstart=0,xend=200)\n",
    "        self.N = N\n",
    "        \n",
    "    def getData(self, t):\n",
    "        pos = [self.t[0,t], self.t[1,t]]\n",
    "        heading = np.rad2deg(np.arccos(self.R[0,0,t]))\n",
    "        z,dz = self.__generateData(prior=self.prior, dR=self.dR, dAz=self.dAz, pos=pos, R=self.R[:,:,t], polynom_noise_ratio=self.polynom_noise_ratio, N=100)\n",
    "        zw, covw = self.__convert2WorldCoordinates(z, dz, self.R[:,:,t], self.t[:,t].reshape(2,1))\n",
    "        video_data = {\"polynom\":zw[0:50,:],\"dpolynom\":covw[0:50,:,:], \"other\":zw[50:100,:],\"dother\":covw[50:100,:,:]}\n",
    "        \n",
    "        return zw, covw, self.prior, video_data\n",
    "        \n",
    "    def __generateData(self, prior, dR, dAz, pos, R, polynom_noise_ratio=0.5, N=100):\n",
    "        [_,_,x_poly,y_poly,polynom_cov] = generatePolynomNoisyPoints(N=int(polynom_noise_ratio*N),a1=prior[0],a2=prior[1],a3=prior[2],dR=dR,dAz=dAz,pos=pos,R=np.linalg.inv(R))\n",
    "        [x_noise,y_noise,noise_cov] = generateRandomNoisyPoints(N=int((1-polynom_noise_ratio)*N),xRange=[3,100],yRange=[-40,40],dR=dR,dAz=dAz)\n",
    "        x_meas = np.concatenate([x_poly, x_noise])\n",
    "        y_meas = np.concatenate([y_poly, y_noise])\n",
    "        dz_meas = np.concatenate([polynom_cov, noise_cov])\n",
    "        z = np.array([x_meas, y_meas]).T\n",
    "        dz = np.array(dz_meas)\n",
    "        \n",
    "        return z,dz\n",
    "    \n",
    "     def __convert2WorldCoordinates(self, z, cov, R, t):\n",
    "        #print(z.shape, cov.shape, R.shape, t.shape)\n",
    "        zw = np.matmul(R,z.T) + t\n",
    "        covw = np.matmul(np.matmul(R, cov), R.T)\n",
    "        \n",
    "        return zw.T, covw\n",
    "    \n",
    "    def __generateEgoMotion(self, x0, v0, a0, path, N, dT):\n",
    "        dist = np.arange(0,N)*dT*(v0+a0*dT)\n",
    "        c,b,a = path[0],path[1],path[2]\n",
    "        x = (np.power(3*a*dist + np.power(b+1,3./2), 2./3)-b-1)/(2*a)\n",
    "        y = a*x**2+b*x+c - 5\n",
    "        self.path = np.array([x, y])\n",
    "        d0 = np.array([1,0]).reshape(1,2)\n",
    "        di = np.array([np.repeat(1,x.shape), 2*a*x])\n",
    "        \n",
    "        angle = np.arctan2(d0[:,0]*di[1,:]-d0[:,1]*di[0,:],d0[:,0]*di[0,:]+d0[:,1]*di[1,:])\n",
    "       \n",
    "        self.R = np.array([[np.cos(angle), -np.sin(angle)],[np.sin(angle), np.cos(angle)]])\n",
    "        self.t = self.path - x0.reshape(2,1)\n",
    "        \n",
    "        #self.generateData(prior, dR, dTheta, polynom_noise_ratio, seed):\n",
    "    "
   ]
  },
  {
   "cell_type": "code",
   "execution_count": null,
   "metadata": {},
   "outputs": [],
   "source": [
    "import numpy as np\n",
    "import pandas as pd\n",
    "import json\n",
    "from nuscenes.nuscenes import NuScenes\n",
    "from nuscenes.map_expansion.map_api import NuScenesMap\n",
    "from nuscenes.map_expansion import arcline_path_utils\n",
    "from nuscenes.map_expansion.bitmap import BitMap\n",
    "from pyquaternion import Quaternion\n",
    "\n",
    "class NuscenesDataset(Dataset):\n",
    "    def __init__(self, **kwargs):\n",
    "        directory = kwargs.pop('directory')\n",
    "        scene_id = kwargs.pop('scene', 5)\n",
    "        map_name = kwargs.pop('map_name', 'singapore-queenstown')\n",
    "        self.nusc = NuScenes(version=\"v1.0-mini\", dataroot=directory, verbose=False)\n",
    "        self.nusc_map = NuScenesMap(dataroot=directory, map_name=map_name)\n",
    "        #ego_poses = nusc_map_bos.render_egoposes_on_fancy_map(nusc, scene_tokens=[nusc.scene[5]['token']], verbose=False)\n",
    "        self.rpath = os.path.join(directory, 'sweeps', 'RADAR_FRONT')\n",
    "        self.cpath = os.path.join(directory, 'sweeps', 'CAM_FRONT')\n",
    "        self.ego = self.extractEgo(os.path.join(directory, 'v1.0-mini', 'ego_pose.json'))\n",
    "        self.radar_files = os.listdir(self.rpath)\n",
    "        self.camera_files = os.listdir(self.cpath)\n",
    "        self.radar_ts = self.extractTimestamps(self.radar_files)\n",
    "        self.camera_ts = self.extractTimestamps(self.camera_files)\n",
    "        \n",
    "        my_scene = nusc.scene[scene_id]\n",
    "        first_sample_token = my_scene['first_sample_token']\n",
    "        my_sample = nusc.get('sample', first_sample_token)\n",
    "        radar_front_data = nusc.get('sample_data', my_sample['data']['RADAR_FRONT'])\n",
    "        self.cs_record = nusc.get('calibrated_sensor', radar_front_data['calibrated_sensor_token'])\n",
    "        \n",
    "        \n",
    "    def getData(self, t):\n",
    "        zw, covw = self.__getTransformedRadarData(t)\n",
    "        prior = self.__getPrior(t)\n",
    "        img = self.__getSyncedImage(t)\n",
    "        trns,rot = self.__getEgoInfo(t)\n",
    "        video_data = {\"pc\": pc, \"img\": img, \"prior\": prior, \"pos\": trns}\n",
    "        return zw, covw, prior, video_data\n",
    "    \n",
    "    def __getTransformedRadarData(self, t):\n",
    "        f = os.path.join(self.rpath, self.radar_files[t])\n",
    "        pc = RadarPointCloud.from_file(f)\n",
    "        pc = self.__sensor2WorldCoordinates(t, pc)\n",
    "        return pc.points.T\n",
    "        \n",
    "    def __extractPolynomFromLane(self, lane):\n",
    "        lane_record = self.nusc_map.get_arcline_path(lane)\n",
    "        poses = arcline_path_utils.discretize_lane(lane_record, resolution_meters=0.5)\n",
    "        poses = np.asarray(poses)\n",
    "        lane = np.polyfit(poses[:,0], poses[:,1], 2)\n",
    "        poly = np.poly1d(lane) \n",
    "        return {\"x\":poses[:,0], \"poly\":poly}\n",
    "    \n",
    "    def __sensor2EgoCoordinates(self, pc):\n",
    "        pc.rotate(Quaternion(cs_record['rotation']).rotation_matrix)\n",
    "        pc.translate(np.array(cs_record['translation']))\n",
    "        \n",
    "        return pc\n",
    "    \n",
    "    def __sensor2WorldCoordinates(self, idx, pc):\n",
    "        # Stage1: Sensor -> Ego\n",
    "        pc = self.__sensor2EgoCoordinates(pc)\n",
    "        # Stage2: Ego -> World\n",
    "        trns,rot = self.__getEgoInfo(idx)\n",
    "        pc.rotate(Quaternion(rot).rotation_matrix)\n",
    "        pc.translate(np.array(trns))\n",
    "        \n",
    "        return pc\n",
    "        \n",
    "    def __extractEgo(self, file):\n",
    "        with open(file) as ego_file:\n",
    "            ego = pd.read_json(ego_file,convert_dates=False)\n",
    "\n",
    "        ego.reset_index(level=0, inplace=True)\n",
    "        return ego\n",
    "        \n",
    "    def __extractTimestamps(self, filenames):\n",
    "        ts = []\n",
    "        for filename in filenames:\n",
    "            ts.append(np.int64(filename.split('_')[-1].split('.')[0]))\n",
    "            \n",
    "        df = pd.DataFrame({'timestamp':ts})\n",
    "        return df\n",
    "    \n",
    "    def __getEgoInfo(self, i):\n",
    "        ts = self.radar_ts.iloc[i].values[0] #take timestamp from radar\n",
    "        eidx = (self.ego['timestamp']-ts).abs().argsort()[0]\n",
    "        trns = self.ego.iloc[eidx][\"translation\"]\n",
    "        rot = self.ego.iloc[eidx][\"rotation\"]\n",
    "        return trns,rot\n",
    " \n",
    "    def __getPrior(self, i):\n",
    "        ts = self.radar_ts.iloc[i].values[0] #take timestamp from radar\n",
    "        eidx = (self.ego['timestamp']-ts).abs().argsort()[0]\n",
    "        trns = self.ego.iloc[eidx][\"translation\"]\n",
    "        lanes = []\n",
    "        #closest_lane = self.nusc_map.get_closest_lane(trns[0], trns[1], radius=2)\n",
    "        #incoming_lane = self.nusc_map.get_incoming_lane_ids(closest_lane)\n",
    "        #outgoing_lane = self.nusc_map.get_outgoing_lane_ids(closest_lane)\n",
    "        lane_ids = self.nusc_map.get_records_in_radius(trns[0], trns[1], 20, ['lane', 'lane_connector'])\n",
    "        nearby_lanes = lane_ids['lane'] + lane_ids['lane_connector']\n",
    "\n",
    "        for lane in nearby_lanes:\n",
    "            lanes.append(self.extractPolynomFromLane(lane))\n",
    "            \n",
    "        return trns[0],lanes\n",
    "        \n",
    "    def __getRadarSweep(self, i):\n",
    "        f = os.path.join(self.rpath, self.radar_files[i])\n",
    "        pc = RadarPointCloud.from_file(f)\n",
    "        pc = pc.points.T\n",
    "        \n",
    "        return pc\n",
    "        \n",
    "    def __getSyncedImage(self, i):\n",
    "        ts = self.radar_ts.iloc[i].values[0] #take timestamp from radar\n",
    "        cidx = (self.camera_ts['timestamp']-ts).abs().argsort()[0]\n",
    "        img = mpimg.imread(os.path.join(self.cpath, self.camera_files[cidx]))\n",
    "        \n",
    "        return img"
   ]
  },
  {
   "cell_type": "code",
   "execution_count": 2,
   "metadata": {},
   "outputs": [],
   "source": [
    "from utils import *\n",
    "from tracker import Tracker\n",
    "from tools import *\n",
    "from video import TrackVideo\n",
    "\n",
    "class DynamicSimulation():\n",
    "    def __init__(self, x0=(0,0), v0=5, a0=0, N=150, prior=(1, 0.009, -0.004), dR=0.4, dAz=0.05, polynom_noise_ratio=0.5, seed=None):\n",
    "        self.generateEgoMotion(x0=np.asarray(x0), v0=v0, a0=a0, path=prior, N=N, dT=0.1)\n",
    "        self.prior, self.dR, self.dAz, self.polynom_noise_ratio = prior, dR, dAz, polynom_noise_ratio\n",
    "        x, y = createPolynom(a1=prior[0],a2=prior[1],a3=prior[2],xstart=0,xend=200)\n",
    "        self.video = TrackVideo(x,y)\n",
    "        self.N = N\n",
    "        \n",
    "    def run(self):\n",
    "        model = Tracker()\n",
    "        for t in range(0,self.N):\n",
    "            print(f\"frame {t}\")\n",
    "            pos = [self.t[0,t], self.t[1,t]]\n",
    "            heading = np.rad2deg(np.arccos(self.R[0,0,t]))\n",
    "            z,dz = self.generateData(prior=self.prior, dR=self.dR, dAz=self.dAz, pos=pos, R=self.R[:,:,t], polynom_noise_ratio=self.polynom_noise_ratio, N=100)\n",
    "            zw, covw = self.convert2WorldCoordinates(z, dz, self.R[:,:,t], self.t[:,t].reshape(2,1))\n",
    "            self.video_measurements = {\"polynom\":zw[0:50,:],\"dpolynom\":covw[0:50,:,:],\n",
    "                    \"other\":zw[50:100,:],\"dother\":covw[50:100,:,:]}\n",
    "            points, polynoms = model.run(zw,covw,self.prior)\n",
    "            self.video.save(t, self.video_measurements, points, polynoms, model.getDebugInfo(), pos=pos, heading=heading)\n",
    "        \n",
    "    def generateData(self, prior, dR, dAz, pos, R, polynom_noise_ratio=0.5, N=100):\n",
    "        [_,_,x_poly,y_poly,polynom_cov] = generatePolynomNoisyPoints(N=int(polynom_noise_ratio*N),a1=prior[0],a2=prior[1],a3=prior[2],dR=dR,dAz=dAz,pos=pos,R=np.linalg.inv(R))\n",
    "        [x_noise,y_noise,noise_cov] = generateRandomNoisyPoints(N=int((1-polynom_noise_ratio)*N),xRange=[3,100],yRange=[-40,40],dR=dR,dAz=dAz)\n",
    "        x_meas = np.concatenate([x_poly, x_noise])\n",
    "        y_meas = np.concatenate([y_poly, y_noise])\n",
    "        dz_meas = np.concatenate([polynom_cov, noise_cov])\n",
    "        z = np.array([x_meas, y_meas]).T\n",
    "        dz = np.array(dz_meas)\n",
    "        \n",
    "        return z,dz\n",
    "        \n",
    "    def convert2WorldCoordinates(self, z, cov, R, t):\n",
    "        #print(z.shape, cov.shape, R.shape, t.shape)\n",
    "        zw = np.matmul(R,z.T) + t\n",
    "        covw = np.matmul(np.matmul(R, cov), R.T)\n",
    "        \n",
    "        return zw.T, covw\n",
    "    \n",
    "    def generateEgoMotion(self, x0, v0, a0, path, N, dT):\n",
    "        dist = np.arange(0,N)*dT*(v0+a0*dT)\n",
    "        c,b,a = path[0],path[1],path[2]\n",
    "        x = (np.power(3*a*dist + np.power(b+1,3./2), 2./3)-b-1)/(2*a)\n",
    "        y = a*x**2+b*x+c - 5\n",
    "        self.path = np.array([x, y])\n",
    "        d0 = np.array([1,0]).reshape(1,2)\n",
    "        di = np.array([np.repeat(1,x.shape), 2*a*x])\n",
    "        \n",
    "        angle = np.arctan2(d0[:,0]*di[1,:]-d0[:,1]*di[0,:],d0[:,0]*di[0,:]+d0[:,1]*di[1,:])\n",
    "       \n",
    "        self.R = np.array([[np.cos(angle), -np.sin(angle)],[np.sin(angle), np.cos(angle)]])\n",
    "        self.t = self.path - x0.reshape(2,1)\n",
    "        \n",
    "        #self.generateData(prior, dR, dTheta, polynom_noise_ratio, seed):"
   ]
  },
  {
   "cell_type": "markdown",
   "metadata": {},
   "source": [
    "## Dynamic simulation"
   ]
  },
  {
   "cell_type": "code",
   "execution_count": 3,
   "metadata": {},
   "outputs": [
    {
     "name": "stdout",
     "output_type": "stream",
     "text": [
      "[ -4.          -3.99650872  -3.99500252  -3.99549327  -3.99799302\n",
      "  -4.00251395  -4.00906842  -4.01766893  -4.02832816  -4.04105895\n",
      "  -4.0558743   -4.0727874   -4.09181161  -4.11296046  -4.13624767\n",
      "  -4.16168717  -4.18929305  -4.2190796   -4.25106133  -4.28525294\n",
      "  -4.32166933  -4.36032563  -4.40123718  -4.44441952  -4.48988847\n",
      "  -4.53766002  -4.58775043  -4.64017621  -4.69495409  -4.75210107\n",
      "  -4.81163441  -4.87357163  -4.93793051  -5.00472913  -5.07398583\n",
      "  -5.14571925  -5.21994833  -5.29669232  -5.37597076  -5.45780352\n",
      "  -5.54221081  -5.62921315  -5.71883142  -5.81108685  -5.90600102\n",
      "  -6.00359589  -6.1038938   -6.20691747  -6.31269002  -6.421235\n",
      "  -6.53257635  -6.64673846  -6.76374617  -6.88362474  -7.00639995\n",
      "  -7.13209802  -7.26074568  -7.39237018  -7.52699926  -7.66466123\n",
      "  -7.80538495  -7.94919982  -8.09613588  -8.24622372  -8.39949458\n",
      "  -8.55598035  -8.71571356  -8.87872742  -9.04505588  -9.21473357\n",
      "  -9.3877959   -9.56427904  -9.74421995  -9.92765644 -10.11462715\n",
      " -10.30517161 -10.49933025 -10.69714447 -10.89865661 -11.10391005\n",
      " -11.3129492  -11.52581955 -11.74256773 -11.96324151 -12.18788991\n",
      " -12.41656315 -12.64931279 -12.88619173 -13.12725428 -13.3725562\n",
      " -13.62215479 -13.87610891 -14.13447908 -14.39732754 -14.66471831\n",
      " -14.93671728 -15.21339229 -15.49481321 -15.78105203 -16.07218298\n",
      " -16.36828259 -16.66942984 -16.97570626 -17.28719603 -17.60398615\n",
      " -17.92616657 -18.25383031 -18.58707364 -18.92599628 -19.27070151\n",
      " -19.62129643 -19.97789213 -20.34060395 -20.70955168 -21.08485983\n",
      " -21.46665793 -21.85508082 -22.25026897 -22.65236883 -23.06153322\n",
      " -23.47792173 -23.90170121 -24.3330462  -24.77213952 -25.21917282\n",
      " -25.67434724 -26.1378741  -26.60997569 -27.09088609 -27.58085217\n",
      " -28.08013456 -28.58900885 -29.10776688 -29.63671816 -30.17619148\n",
      " -30.72653673 -31.28812693 -31.86136049 -32.44666391 -33.04449465\n",
      " -33.6553446  -34.27974396 -34.91826572 -35.57153094 -36.24021481\n",
      " -36.9250538  -37.62685412 -38.34650171 -39.08497429 -39.84335582]\n",
      "frame 0\n",
      "1.3877787807814457e-14 100.00000000000001\n",
      "(50,) (50,)\n",
      "[[ 1.38777878e-14]\n",
      " [-4.00000000e+00]] [[ 1.00000000e+00  1.11022302e-16]\n",
      " [-1.11022302e-16  1.00000000e+00]]\n",
      "(100, 2) (100, 2, 2)\n",
      "Number of point tracks before run() 0\n",
      "Number of extended tracks before run() 0\n",
      "len(unique_polynoms) 0\n",
      "frame 1\n",
      "0.49825749119171425 100.49825749119171\n",
      "(50,) (50,)\n",
      "[[ 0.49825749]\n",
      " [-3.99650872]] [[ 0.99999206  0.00398603]\n",
      " [-0.00398603  0.99999206]]\n",
      "(100, 2) (100, 2, 2)\n",
      "Number of point tracks before run() 88\n",
      "Number of extended tracks before run() 1\n"
     ]
    },
    {
     "name": "stderr",
     "output_type": "stream",
     "text": [
      "C:\\Users\\gadli\\old_pc\\Tau\\Thesis\\polynoms\\tracker.py:52: VisibleDeprecationWarning: Creating an ndarray from ragged nested sequences (which is a list-or-tuple of lists-or-tuples-or ndarrays with different lengths or shapes) is deprecated. If you meant to do this, you must specify 'dtype=object' when creating the ndarray\n",
      "  Ha = np.array([1, z[0], z[0]**2])\n",
      "C:\\Users\\gadli\\old_pc\\Tau\\Thesis\\polynoms\\tracker.py:75: RuntimeWarning: divide by zero encountered in double_scalars\n",
      "  ratio = np.sqrt(lp)/le\n"
     ]
    },
    {
     "name": "stdout",
     "output_type": "stream",
     "text": [
      "len(unique_polynoms) 0\n",
      "frame 2\n",
      "0.9975050385239853 100.99750503852398\n",
      "(50,) (50,)\n",
      "[[ 0.99750504]\n",
      " [-3.99500252]] [[ 0.99996816  0.00797979]\n",
      " [-0.00797979  0.99996816]]\n",
      "(100, 2) (100, 2, 2)\n",
      "Number of point tracks before run() 182\n",
      "Number of extended tracks before run() 1\n"
     ]
    },
    {
     "name": "stderr",
     "output_type": "stream",
     "text": [
      "C:\\Users\\gadli\\old_pc\\Tau\\Thesis\\polynoms\\tracker.py:52: VisibleDeprecationWarning: Creating an ndarray from ragged nested sequences (which is a list-or-tuple of lists-or-tuples-or ndarrays with different lengths or shapes) is deprecated. If you meant to do this, you must specify 'dtype=object' when creating the ndarray\n",
      "  Ha = np.array([1, z[0], z[0]**2])\n",
      "C:\\Users\\gadli\\old_pc\\Tau\\Thesis\\polynoms\\tracker.py:75: RuntimeWarning: divide by zero encountered in double_scalars\n",
      "  ratio = np.sqrt(lp)/le\n"
     ]
    },
    {
     "name": "stdout",
     "output_type": "stream",
     "text": [
      "Updating extended object track =  0\n",
      "Updating extended object track =  0\n",
      "Updating extended object track =  0\n",
      "Updating extended object track =  0\n",
      "Updating extended object track =  0\n",
      "Updating extended object track =  0\n",
      "Updating extended object track =  0\n",
      "Updating extended object track =  0\n",
      "Updating extended object track =  0\n",
      "len(unique_polynoms) 1\n",
      "frame 3\n",
      "1.4977505583396167 101.49775055833962\n",
      "(50,) (50,)\n",
      "[[ 1.49775056]\n",
      " [-3.99549327]] [[ 0.99992822  0.01198114]\n",
      " [-0.01198114  0.99992822]]\n",
      "(100, 2) (100, 2, 2)\n",
      "Number of point tracks before run() 251\n",
      "Number of extended tracks before run() 2\n"
     ]
    },
    {
     "name": "stderr",
     "output_type": "stream",
     "text": [
      "C:\\Users\\gadli\\old_pc\\Tau\\Thesis\\polynoms\\tracker.py:52: VisibleDeprecationWarning: Creating an ndarray from ragged nested sequences (which is a list-or-tuple of lists-or-tuples-or ndarrays with different lengths or shapes) is deprecated. If you meant to do this, you must specify 'dtype=object' when creating the ndarray\n",
      "  Ha = np.array([1, z[0], z[0]**2])\n",
      "C:\\Users\\gadli\\old_pc\\Tau\\Thesis\\polynoms\\tracker.py:75: RuntimeWarning: divide by zero encountered in double_scalars\n",
      "  ratio = np.sqrt(lp)/le\n"
     ]
    },
    {
     "name": "stdout",
     "output_type": "stream",
     "text": [
      "Updating extended object track =  0\n",
      "Updating extended object track =  0\n",
      "len(unique_polynoms) 1\n",
      "frame 4\n",
      "1.999002078421616 101.99900207842161\n",
      "(50,) (50,)\n",
      "[[ 1.99900208]\n",
      " [-3.99799302]] [[ 0.99987215  0.01598997]\n",
      " [-0.01598997  0.99987215]]\n",
      "(100, 2) (100, 2, 2)\n",
      "Number of point tracks before run() 319\n",
      "Number of extended tracks before run() 2\n"
     ]
    },
    {
     "name": "stderr",
     "output_type": "stream",
     "text": [
      "C:\\Users\\gadli\\old_pc\\Tau\\Thesis\\polynoms\\tracker.py:52: VisibleDeprecationWarning: Creating an ndarray from ragged nested sequences (which is a list-or-tuple of lists-or-tuples-or ndarrays with different lengths or shapes) is deprecated. If you meant to do this, you must specify 'dtype=object' when creating the ndarray\n",
      "  Ha = np.array([1, z[0], z[0]**2])\n"
     ]
    },
    {
     "name": "stdout",
     "output_type": "stream",
     "text": [
      "Updating extended object track =  1\n",
      "Updating extended object track =  0\n",
      "Updating extended object track =  1\n",
      "Updating extended object track =  0\n"
     ]
    },
    {
     "name": "stderr",
     "output_type": "stream",
     "text": [
      "C:\\Users\\gadli\\old_pc\\Tau\\Thesis\\polynoms\\tracker.py:75: RuntimeWarning: divide by zero encountered in double_scalars\n",
      "  ratio = np.sqrt(lp)/le\n"
     ]
    },
    {
     "name": "stdout",
     "output_type": "stream",
     "text": [
      "len(unique_polynoms) 2\n",
      "frame 5\n",
      "2.5012677402478785 102.50126774024788\n",
      "(50,) (50,)\n",
      "[[ 2.50126774]\n",
      " [-4.00251395]] [[ 0.99979986  0.02000614]\n",
      " [-0.02000614  0.99979986]]\n",
      "(100, 2) (100, 2, 2)\n",
      "Number of point tracks before run() 310\n",
      "Number of extended tracks before run() 2\n"
     ]
    },
    {
     "name": "stderr",
     "output_type": "stream",
     "text": [
      "C:\\Users\\gadli\\old_pc\\Tau\\Thesis\\polynoms\\tracker.py:52: VisibleDeprecationWarning: Creating an ndarray from ragged nested sequences (which is a list-or-tuple of lists-or-tuples-or ndarrays with different lengths or shapes) is deprecated. If you meant to do this, you must specify 'dtype=object' when creating the ndarray\n",
      "  Ha = np.array([1, z[0], z[0]**2])\n",
      "C:\\Users\\gadli\\old_pc\\Tau\\Thesis\\polynoms\\tracker.py:75: RuntimeWarning: divide by zero encountered in double_scalars\n",
      "  ratio = np.sqrt(lp)/le\n"
     ]
    },
    {
     "name": "stdout",
     "output_type": "stream",
     "text": [
      "Updating extended object track =  0\n",
      "Updating extended object track =  0\n",
      "len(unique_polynoms) 1\n",
      "frame 6\n",
      "3.0045558013055973 103.0045558013056\n",
      "(50,) (50,)\n",
      "[[ 3.0045558 ]\n",
      " [-4.00906842]] [[ 0.99971125  0.02402951]\n",
      " [-0.02402951  0.99971125]]\n",
      "(100, 2) (100, 2, 2)\n",
      "Number of point tracks before run() 314\n",
      "Number of extended tracks before run() 2\n"
     ]
    },
    {
     "name": "stderr",
     "output_type": "stream",
     "text": [
      "C:\\Users\\gadli\\old_pc\\Tau\\Thesis\\polynoms\\tracker.py:52: VisibleDeprecationWarning: Creating an ndarray from ragged nested sequences (which is a list-or-tuple of lists-or-tuples-or ndarrays with different lengths or shapes) is deprecated. If you meant to do this, you must specify 'dtype=object' when creating the ndarray\n",
      "  Ha = np.array([1, z[0], z[0]**2])\n",
      "C:\\Users\\gadli\\old_pc\\Tau\\Thesis\\polynoms\\tracker.py:75: RuntimeWarning: divide by zero encountered in double_scalars\n",
      "  ratio = np.sqrt(lp)/le\n"
     ]
    },
    {
     "name": "stdout",
     "output_type": "stream",
     "text": [
      "Updating extended object track =  1\n",
      "Updating extended object track =  1\n",
      "Updating extended object track =  1\n",
      "len(unique_polynoms) 1\n",
      "frame 7\n",
      "3.508874637467241 103.50887463746724\n",
      "(50,) (50,)\n",
      "[[ 3.50887464]\n",
      " [-4.01766893]] [[ 0.99960624  0.02805994]\n",
      " [-0.02805994  0.99960624]]\n",
      "(100, 2) (100, 2, 2)\n",
      "Number of point tracks before run() 316\n",
      "Number of extended tracks before run() 3\n"
     ]
    },
    {
     "name": "stderr",
     "output_type": "stream",
     "text": [
      "C:\\Users\\gadli\\old_pc\\Tau\\Thesis\\polynoms\\tracker.py:52: VisibleDeprecationWarning: Creating an ndarray from ragged nested sequences (which is a list-or-tuple of lists-or-tuples-or ndarrays with different lengths or shapes) is deprecated. If you meant to do this, you must specify 'dtype=object' when creating the ndarray\n",
      "  Ha = np.array([1, z[0], z[0]**2])\n",
      "C:\\Users\\gadli\\old_pc\\Tau\\Thesis\\polynoms\\tracker.py:75: RuntimeWarning: divide by zero encountered in double_scalars\n",
      "  ratio = np.sqrt(lp)/le\n"
     ]
    },
    {
     "name": "stdout",
     "output_type": "stream",
     "text": [
      "Updating extended object track =  0\n",
      "Updating extended object track =  0\n",
      "Updating extended object track =  1\n",
      "Updating extended object track =  0\n",
      "len(unique_polynoms) 2\n",
      "frame 8\n",
      "4.0142327454302515 104.01423274543025\n",
      "(50,) (50,)\n",
      "[[ 4.01423275]\n",
      " [-4.02832816]] [[ 0.99948475  0.03209732]\n",
      " [-0.03209732  0.99948475]]\n",
      "(100, 2) (100, 2, 2)\n",
      "Number of point tracks before run() 307\n",
      "Number of extended tracks before run() 3\n"
     ]
    },
    {
     "name": "stderr",
     "output_type": "stream",
     "text": [
      "C:\\Users\\gadli\\old_pc\\Tau\\Thesis\\polynoms\\tracker.py:52: VisibleDeprecationWarning: Creating an ndarray from ragged nested sequences (which is a list-or-tuple of lists-or-tuples-or ndarrays with different lengths or shapes) is deprecated. If you meant to do this, you must specify 'dtype=object' when creating the ndarray\n",
      "  Ha = np.array([1, z[0], z[0]**2])\n",
      "C:\\Users\\gadli\\old_pc\\Tau\\Thesis\\polynoms\\tracker.py:75: RuntimeWarning: divide by zero encountered in double_scalars\n",
      "  ratio = np.sqrt(lp)/le\n"
     ]
    },
    {
     "name": "stdout",
     "output_type": "stream",
     "text": [
      "len(unique_polynoms) 0\n",
      "frame 9\n",
      "4.520638745222405 104.5206387452224\n",
      "(50,) (50,)\n",
      "[[ 4.52063875]\n",
      " [-4.04105895]] [[ 0.99934668  0.03614148]\n",
      " [-0.03614148  0.99934668]]\n",
      "(100, 2) (100, 2, 2)\n",
      "Number of point tracks before run() 330\n",
      "Number of extended tracks before run() 3\n"
     ]
    },
    {
     "name": "stderr",
     "output_type": "stream",
     "text": [
      "C:\\Users\\gadli\\old_pc\\Tau\\Thesis\\polynoms\\tracker.py:52: VisibleDeprecationWarning: Creating an ndarray from ragged nested sequences (which is a list-or-tuple of lists-or-tuples-or ndarrays with different lengths or shapes) is deprecated. If you meant to do this, you must specify 'dtype=object' when creating the ndarray\n",
      "  Ha = np.array([1, z[0], z[0]**2])\n",
      "C:\\Users\\gadli\\old_pc\\Tau\\Thesis\\polynoms\\tracker.py:75: RuntimeWarning: divide by zero encountered in double_scalars\n",
      "  ratio = np.sqrt(lp)/le\n"
     ]
    },
    {
     "name": "stdout",
     "output_type": "stream",
     "text": [
      "Updating extended object track =  0\n",
      "Updating extended object track =  1\n",
      "Updating extended object track =  1\n",
      "Updating extended object track =  2\n",
      "len(unique_polynoms) 3\n",
      "frame 10\n",
      "5.028101382775235 105.02810138277523\n",
      "(50,) (50,)\n",
      "[[ 5.02810138]\n",
      " [-4.0558743 ]] [[ 0.99919196  0.04019231]\n",
      " [-0.04019231  0.99919196]]\n",
      "(100, 2) (100, 2, 2)\n",
      "Number of point tracks before run() 328\n",
      "Number of extended tracks before run() 3\n"
     ]
    },
    {
     "name": "stderr",
     "output_type": "stream",
     "text": [
      "C:\\Users\\gadli\\old_pc\\Tau\\Thesis\\polynoms\\tracker.py:52: VisibleDeprecationWarning: Creating an ndarray from ragged nested sequences (which is a list-or-tuple of lists-or-tuples-or ndarrays with different lengths or shapes) is deprecated. If you meant to do this, you must specify 'dtype=object' when creating the ndarray\n",
      "  Ha = np.array([1, z[0], z[0]**2])\n",
      "C:\\Users\\gadli\\old_pc\\Tau\\Thesis\\polynoms\\tracker.py:75: RuntimeWarning: divide by zero encountered in double_scalars\n",
      "  ratio = np.sqrt(lp)/le\n"
     ]
    },
    {
     "name": "stdout",
     "output_type": "stream",
     "text": [
      "Updating extended object track =  1\n",
      "Updating extended object track =  2\n",
      "Updating extended object track =  2\n",
      "Updating extended object track =  0\n",
      "Updating extended object track =  0\n",
      "len(unique_polynoms) 3\n",
      "frame 11\n",
      "5.5366295325676855 105.53662953256769\n",
      "(50,) (50,)\n",
      "[[ 5.53662953]\n",
      " [-4.0727874 ]] [[ 0.9990205   0.04424965]\n",
      " [-0.04424965  0.9990205 ]]\n",
      "(100, 2) (100, 2, 2)\n",
      "Number of point tracks before run() 316\n",
      "Number of extended tracks before run() 3\n"
     ]
    },
    {
     "name": "stderr",
     "output_type": "stream",
     "text": [
      "C:\\Users\\gadli\\old_pc\\Tau\\Thesis\\polynoms\\tracker.py:52: VisibleDeprecationWarning: Creating an ndarray from ragged nested sequences (which is a list-or-tuple of lists-or-tuples-or ndarrays with different lengths or shapes) is deprecated. If you meant to do this, you must specify 'dtype=object' when creating the ndarray\n",
      "  Ha = np.array([1, z[0], z[0]**2])\n",
      "C:\\Users\\gadli\\old_pc\\Tau\\Thesis\\polynoms\\tracker.py:75: RuntimeWarning: divide by zero encountered in double_scalars\n",
      "  ratio = np.sqrt(lp)/le\n"
     ]
    },
    {
     "name": "stdout",
     "output_type": "stream",
     "text": [
      "Updating extended object track =  0\n",
      "Updating extended object track =  0\n",
      "Updating extended object track =  2\n",
      "Updating extended object track =  1\n",
      "len(unique_polynoms) 3\n",
      "frame 12\n",
      "6.046232200342296 106.0462322003423\n",
      "(50,) (50,)\n",
      "[[ 6.0462322 ]\n",
      " [-4.09181161]] [[ 0.99883223  0.04831337]\n",
      " [-0.04831337  0.99883223]]\n",
      "(100, 2) (100, 2, 2)\n",
      "Number of point tracks before run() 324\n",
      "Number of extended tracks before run() 3\n"
     ]
    },
    {
     "name": "stderr",
     "output_type": "stream",
     "text": [
      "C:\\Users\\gadli\\old_pc\\Tau\\Thesis\\polynoms\\tracker.py:52: VisibleDeprecationWarning: Creating an ndarray from ragged nested sequences (which is a list-or-tuple of lists-or-tuples-or ndarrays with different lengths or shapes) is deprecated. If you meant to do this, you must specify 'dtype=object' when creating the ndarray\n",
      "  Ha = np.array([1, z[0], z[0]**2])\n"
     ]
    },
    {
     "name": "stdout",
     "output_type": "stream",
     "text": [
      "Updating extended object track =  1\n",
      "Updating extended object track =  2\n",
      "Updating extended object track =  2\n",
      "Updating extended object track =  1\n",
      "Updating extended object track =  0\n"
     ]
    },
    {
     "name": "stderr",
     "output_type": "stream",
     "text": [
      "C:\\Users\\gadli\\old_pc\\Tau\\Thesis\\polynoms\\tracker.py:75: RuntimeWarning: divide by zero encountered in double_scalars\n",
      "  ratio = np.sqrt(lp)/le\n"
     ]
    },
    {
     "name": "stdout",
     "output_type": "stream",
     "text": [
      "len(unique_polynoms) 3\n",
      "frame 13\n",
      "6.5569185258965295 106.55691852589653\n",
      "(50,) (50,)\n",
      "[[ 6.55691853]\n",
      " [-4.11296046]] [[ 0.99862705  0.05238333]\n",
      " [-0.05238333  0.99862705]]\n",
      "(100, 2) (100, 2, 2)\n",
      "Number of point tracks before run() 318\n",
      "Number of extended tracks before run() 3\n"
     ]
    },
    {
     "name": "stderr",
     "output_type": "stream",
     "text": [
      "C:\\Users\\gadli\\old_pc\\Tau\\Thesis\\polynoms\\tracker.py:52: VisibleDeprecationWarning: Creating an ndarray from ragged nested sequences (which is a list-or-tuple of lists-or-tuples-or ndarrays with different lengths or shapes) is deprecated. If you meant to do this, you must specify 'dtype=object' when creating the ndarray\n",
      "  Ha = np.array([1, z[0], z[0]**2])\n",
      "C:\\Users\\gadli\\old_pc\\Tau\\Thesis\\polynoms\\tracker.py:75: RuntimeWarning: divide by zero encountered in double_scalars\n",
      "  ratio = np.sqrt(lp)/le\n"
     ]
    },
    {
     "name": "stdout",
     "output_type": "stream",
     "text": [
      "Updating extended object track =  0\n",
      "Updating extended object track =  2\n",
      "Updating extended object track =  2\n",
      "Updating extended object track =  0\n",
      "len(unique_polynoms) 2\n",
      "frame 14\n",
      "7.068697785951885 107.06869778595188\n",
      "(50,) (50,)\n",
      "[[ 7.06869779]\n",
      " [-4.13624767]] [[ 0.9984049   0.05645938]\n",
      " [-0.05645938  0.9984049 ]]\n",
      "(100, 2) (100, 2, 2)\n",
      "Number of point tracks before run() 311\n",
      "Number of extended tracks before run() 3\n"
     ]
    },
    {
     "name": "stderr",
     "output_type": "stream",
     "text": [
      "C:\\Users\\gadli\\old_pc\\Tau\\Thesis\\polynoms\\tracker.py:52: VisibleDeprecationWarning: Creating an ndarray from ragged nested sequences (which is a list-or-tuple of lists-or-tuples-or ndarrays with different lengths or shapes) is deprecated. If you meant to do this, you must specify 'dtype=object' when creating the ndarray\n",
      "  Ha = np.array([1, z[0], z[0]**2])\n",
      "C:\\Users\\gadli\\old_pc\\Tau\\Thesis\\polynoms\\tracker.py:75: RuntimeWarning: divide by zero encountered in double_scalars\n",
      "  ratio = np.sqrt(lp)/le\n"
     ]
    },
    {
     "name": "stdout",
     "output_type": "stream",
     "text": [
      "Updating extended object track =  0\n",
      "Updating extended object track =  1\n",
      "len(unique_polynoms) 2\n",
      "frame 15\n",
      "7.581579397103064 107.58157939710307\n",
      "(50,) (50,)\n",
      "[[ 7.5815794 ]\n",
      " [-4.16168717]] [[ 0.99816569  0.06054138]\n",
      " [-0.06054138  0.99816569]]\n",
      "(100, 2) (100, 2, 2)\n",
      "Number of point tracks before run() 306\n",
      "Number of extended tracks before run() 4\n"
     ]
    },
    {
     "name": "stderr",
     "output_type": "stream",
     "text": [
      "C:\\Users\\gadli\\old_pc\\Tau\\Thesis\\polynoms\\tracker.py:52: VisibleDeprecationWarning: Creating an ndarray from ragged nested sequences (which is a list-or-tuple of lists-or-tuples-or ndarrays with different lengths or shapes) is deprecated. If you meant to do this, you must specify 'dtype=object' when creating the ndarray\n",
      "  Ha = np.array([1, z[0], z[0]**2])\n",
      "C:\\Users\\gadli\\old_pc\\Tau\\Thesis\\polynoms\\tracker.py:75: RuntimeWarning: divide by zero encountered in double_scalars\n",
      "  ratio = np.sqrt(lp)/le\n"
     ]
    },
    {
     "name": "stdout",
     "output_type": "stream",
     "text": [
      "Updating extended object track =  1\n",
      "Updating extended object track =  0\n",
      "Updating extended object track =  1\n",
      "Updating extended object track =  2\n",
      "len(unique_polynoms) 3\n",
      "frame 16\n",
      "8.095572918850587 108.09557291885059\n",
      "(50,) (50,)\n",
      "[[ 8.09557292]\n",
      " [-4.18929305]] [[ 0.99790935  0.06462918]\n",
      " [-0.06462918  0.99790935]]\n",
      "(100, 2) (100, 2, 2)\n",
      "Number of point tracks before run() 304\n",
      "Number of extended tracks before run() 4\n"
     ]
    },
    {
     "name": "stderr",
     "output_type": "stream",
     "text": [
      "C:\\Users\\gadli\\old_pc\\Tau\\Thesis\\polynoms\\tracker.py:52: VisibleDeprecationWarning: Creating an ndarray from ragged nested sequences (which is a list-or-tuple of lists-or-tuples-or ndarrays with different lengths or shapes) is deprecated. If you meant to do this, you must specify 'dtype=object' when creating the ndarray\n",
      "  Ha = np.array([1, z[0], z[0]**2])\n",
      "C:\\Users\\gadli\\old_pc\\Tau\\Thesis\\polynoms\\tracker.py:75: RuntimeWarning: divide by zero encountered in double_scalars\n",
      "  ratio = np.sqrt(lp)/le\n"
     ]
    },
    {
     "name": "stdout",
     "output_type": "stream",
     "text": [
      "Updating extended object track =  2\n",
      "Updating extended object track =  1\n",
      "Updating extended object track =  3\n",
      "Updating extended object track =  2\n",
      "Updating extended object track =  1\n",
      "len(unique_polynoms) 3\n",
      "frame 17\n",
      "8.610688056719177 108.61068805671917\n",
      "(50,) (50,)\n",
      "[[ 8.61068806]\n",
      " [-4.2190796 ]] [[ 0.9976358   0.06872265]\n",
      " [-0.06872265  0.9976358 ]]\n",
      "(100, 2) (100, 2, 2)\n",
      "Number of point tracks before run() 297\n",
      "Number of extended tracks before run() 4\n"
     ]
    },
    {
     "name": "stderr",
     "output_type": "stream",
     "text": [
      "C:\\Users\\gadli\\old_pc\\Tau\\Thesis\\polynoms\\tracker.py:52: VisibleDeprecationWarning: Creating an ndarray from ragged nested sequences (which is a list-or-tuple of lists-or-tuples-or ndarrays with different lengths or shapes) is deprecated. If you meant to do this, you must specify 'dtype=object' when creating the ndarray\n",
      "  Ha = np.array([1, z[0], z[0]**2])\n",
      "C:\\Users\\gadli\\old_pc\\Tau\\Thesis\\polynoms\\tracker.py:75: RuntimeWarning: divide by zero encountered in double_scalars\n",
      "  ratio = np.sqrt(lp)/le\n"
     ]
    },
    {
     "name": "stdout",
     "output_type": "stream",
     "text": [
      "Updating extended object track =  2\n",
      "len(unique_polynoms) 1\n",
      "frame 18\n",
      "9.126934665465338 109.12693466546534\n",
      "(50,) (50,)\n",
      "[[ 9.12693467]\n",
      " [-4.25106133]] [[ 0.99734498  0.07282162]\n",
      " [-0.07282162  0.99734498]]\n",
      "(100, 2) (100, 2, 2)\n",
      "Number of point tracks before run() 303\n",
      "Number of extended tracks before run() 4\n"
     ]
    },
    {
     "name": "stderr",
     "output_type": "stream",
     "text": [
      "C:\\Users\\gadli\\old_pc\\Tau\\Thesis\\polynoms\\tracker.py:52: VisibleDeprecationWarning: Creating an ndarray from ragged nested sequences (which is a list-or-tuple of lists-or-tuples-or ndarrays with different lengths or shapes) is deprecated. If you meant to do this, you must specify 'dtype=object' when creating the ndarray\n",
      "  Ha = np.array([1, z[0], z[0]**2])\n"
     ]
    },
    {
     "name": "stdout",
     "output_type": "stream",
     "text": [
      "Updating extended object track =  2\n",
      "Updating extended object track =  3\n"
     ]
    },
    {
     "name": "stderr",
     "output_type": "stream",
     "text": [
      "C:\\Users\\gadli\\old_pc\\Tau\\Thesis\\polynoms\\tracker.py:75: RuntimeWarning: divide by zero encountered in double_scalars\n",
      "  ratio = np.sqrt(lp)/le\n"
     ]
    },
    {
     "name": "stdout",
     "output_type": "stream",
     "text": [
      "len(unique_polynoms) 2\n",
      "frame 19\n",
      "9.644322752377088 109.6443227523771\n",
      "(50,) (50,)\n",
      "[[ 9.64432275]\n",
      " [-4.28525294]] [[ 0.99703681  0.07692596]\n",
      " [-0.07692596  0.99703681]]\n",
      "(100, 2) (100, 2, 2)\n",
      "Number of point tracks before run() 289\n",
      "Number of extended tracks before run() 4\n"
     ]
    },
    {
     "name": "stderr",
     "output_type": "stream",
     "text": [
      "C:\\Users\\gadli\\old_pc\\Tau\\Thesis\\polynoms\\tracker.py:52: VisibleDeprecationWarning: Creating an ndarray from ragged nested sequences (which is a list-or-tuple of lists-or-tuples-or ndarrays with different lengths or shapes) is deprecated. If you meant to do this, you must specify 'dtype=object' when creating the ndarray\n",
      "  Ha = np.array([1, z[0], z[0]**2])\n",
      "C:\\Users\\gadli\\old_pc\\Tau\\Thesis\\polynoms\\tracker.py:75: RuntimeWarning: divide by zero encountered in double_scalars\n",
      "  ratio = np.sqrt(lp)/le\n"
     ]
    },
    {
     "name": "stdout",
     "output_type": "stream",
     "text": [
      "Updating extended object track =  2\n",
      "len(unique_polynoms) 1\n",
      "frame 20\n",
      "10.162862480669194 110.16286248066919\n",
      "(50,) (50,)\n",
      "[[10.16286248]\n",
      " [-4.32166933]] [[ 0.99671121  0.08103551]\n",
      " [-0.08103551  0.99671121]]\n",
      "(100, 2) (100, 2, 2)\n",
      "Number of point tracks before run() 303\n",
      "Number of extended tracks before run() 4\n"
     ]
    },
    {
     "name": "stderr",
     "output_type": "stream",
     "text": [
      "C:\\Users\\gadli\\old_pc\\Tau\\Thesis\\polynoms\\tracker.py:52: VisibleDeprecationWarning: Creating an ndarray from ragged nested sequences (which is a list-or-tuple of lists-or-tuples-or ndarrays with different lengths or shapes) is deprecated. If you meant to do this, you must specify 'dtype=object' when creating the ndarray\n",
      "  Ha = np.array([1, z[0], z[0]**2])\n",
      "C:\\Users\\gadli\\old_pc\\Tau\\Thesis\\polynoms\\tracker.py:75: RuntimeWarning: divide by zero encountered in double_scalars\n",
      "  ratio = np.sqrt(lp)/le\n"
     ]
    },
    {
     "name": "stdout",
     "output_type": "stream",
     "text": [
      "Updating extended object track =  1\n",
      "Updating extended object track =  3\n",
      "Updating extended object track =  2\n",
      "i_trk 0 self.frame_idx 21 trk.getLastUpdateFrameIdx() 16\n",
      "len(unique_polynoms) 3\n",
      "frame 21\n",
      "10.682564172977262 110.68256417297727\n",
      "(50,) (50,)\n",
      "[[10.68256417]\n",
      " [-4.36032563]] [[ 0.99636813  0.08515013]\n",
      " [-0.08515013  0.99636813]]\n",
      "(100, 2) (100, 2, 2)\n",
      "Number of point tracks before run() 326\n",
      "Number of extended tracks before run() 3\n"
     ]
    },
    {
     "name": "stderr",
     "output_type": "stream",
     "text": [
      "C:\\Users\\gadli\\old_pc\\Tau\\Thesis\\polynoms\\tracker.py:52: VisibleDeprecationWarning: Creating an ndarray from ragged nested sequences (which is a list-or-tuple of lists-or-tuples-or ndarrays with different lengths or shapes) is deprecated. If you meant to do this, you must specify 'dtype=object' when creating the ndarray\n",
      "  Ha = np.array([1, z[0], z[0]**2])\n",
      "C:\\Users\\gadli\\old_pc\\Tau\\Thesis\\polynoms\\tracker.py:75: RuntimeWarning: divide by zero encountered in double_scalars\n",
      "  ratio = np.sqrt(lp)/le\n"
     ]
    },
    {
     "name": "stdout",
     "output_type": "stream",
     "text": [
      "Updating extended object track =  0\n",
      "Updating extended object track =  2\n",
      "Updating extended object track =  2\n",
      "Updating extended object track =  2\n",
      "len(unique_polynoms) 2\n",
      "frame 22\n",
      "11.203438314954406 111.20343831495441\n",
      "(50,) (50,)\n",
      "[[11.20343831]\n",
      " [-4.40123718]] [[ 0.99600749  0.08926967]\n",
      " [-0.08926967  0.99600749]]\n",
      "(100, 2) (100, 2, 2)\n",
      "Number of point tracks before run() 332\n",
      "Number of extended tracks before run() 3\n"
     ]
    },
    {
     "name": "stderr",
     "output_type": "stream",
     "text": [
      "C:\\Users\\gadli\\old_pc\\Tau\\Thesis\\polynoms\\tracker.py:52: VisibleDeprecationWarning: Creating an ndarray from ragged nested sequences (which is a list-or-tuple of lists-or-tuples-or ndarrays with different lengths or shapes) is deprecated. If you meant to do this, you must specify 'dtype=object' when creating the ndarray\n",
      "  Ha = np.array([1, z[0], z[0]**2])\n",
      "C:\\Users\\gadli\\old_pc\\Tau\\Thesis\\polynoms\\tracker.py:75: RuntimeWarning: divide by zero encountered in double_scalars\n",
      "  ratio = np.sqrt(lp)/le\n"
     ]
    },
    {
     "name": "stdout",
     "output_type": "stream",
     "text": [
      "Updating extended object track =  0\n",
      "Updating extended object track =  2\n",
      "Updating extended object track =  2\n",
      "len(unique_polynoms) 2\n",
      "frame 23\n",
      "11.725495558974021 111.72549555897402\n",
      "(50,) (50,)\n",
      "[[11.72549556]\n",
      " [-4.44441952]] [[ 0.99562923  0.09339397]\n",
      " [-0.09339397  0.99562923]]\n",
      "(100, 2) (100, 2, 2)\n",
      "Number of point tracks before run() 328\n",
      "Number of extended tracks before run() 3\n"
     ]
    },
    {
     "name": "stderr",
     "output_type": "stream",
     "text": [
      "C:\\Users\\gadli\\old_pc\\Tau\\Thesis\\polynoms\\tracker.py:52: VisibleDeprecationWarning: Creating an ndarray from ragged nested sequences (which is a list-or-tuple of lists-or-tuples-or ndarrays with different lengths or shapes) is deprecated. If you meant to do this, you must specify 'dtype=object' when creating the ndarray\n",
      "  Ha = np.array([1, z[0], z[0]**2])\n",
      "C:\\Users\\gadli\\old_pc\\Tau\\Thesis\\polynoms\\tracker.py:75: RuntimeWarning: divide by zero encountered in double_scalars\n",
      "  ratio = np.sqrt(lp)/le\n"
     ]
    },
    {
     "name": "stdout",
     "output_type": "stream",
     "text": [
      "Updating extended object track =  0\n",
      "Updating extended object track =  2\n",
      "Updating extended object track =  2\n",
      "Updating extended object track =  2\n",
      "Updating extended object track =  0\n",
      "Updating extended object track =  0\n",
      "len(unique_polynoms) 2\n",
      "frame 24\n",
      "12.248746727942711 112.24874672794272\n",
      "(50,) (50,)\n",
      "[[12.24874673]\n",
      " [-4.48988847]] [[ 0.99523328  0.09752288]\n",
      " [-0.09752288  0.99523328]]\n",
      "(100, 2) (100, 2, 2)\n",
      "Number of point tracks before run() 321\n",
      "Number of extended tracks before run() 3\n"
     ]
    },
    {
     "name": "stderr",
     "output_type": "stream",
     "text": [
      "C:\\Users\\gadli\\old_pc\\Tau\\Thesis\\polynoms\\tracker.py:52: VisibleDeprecationWarning: Creating an ndarray from ragged nested sequences (which is a list-or-tuple of lists-or-tuples-or ndarrays with different lengths or shapes) is deprecated. If you meant to do this, you must specify 'dtype=object' when creating the ndarray\n",
      "  Ha = np.array([1, z[0], z[0]**2])\n",
      "C:\\Users\\gadli\\old_pc\\Tau\\Thesis\\polynoms\\tracker.py:75: RuntimeWarning: divide by zero encountered in double_scalars\n",
      "  ratio = np.sqrt(lp)/le\n"
     ]
    },
    {
     "name": "stdout",
     "output_type": "stream",
     "text": [
      "Updating extended object track =  2\n",
      "Updating extended object track =  1\n",
      "Updating extended object track =  2\n",
      "Updating extended object track =  2\n",
      "Updating extended object track =  0\n",
      "len(unique_polynoms) 3\n",
      "frame 25\n",
      "12.773202819227294 112.7732028192273\n",
      "(50,) (50,)\n",
      "[[12.77320282]\n",
      " [-4.53766002]] [[ 0.99481958  0.10165626]\n",
      " [-0.10165626  0.99481958]]\n",
      "(100, 2) (100, 2, 2)\n",
      "Number of point tracks before run() 313\n",
      "Number of extended tracks before run() 3\n"
     ]
    },
    {
     "name": "stderr",
     "output_type": "stream",
     "text": [
      "C:\\Users\\gadli\\old_pc\\Tau\\Thesis\\polynoms\\tracker.py:52: VisibleDeprecationWarning: Creating an ndarray from ragged nested sequences (which is a list-or-tuple of lists-or-tuples-or ndarrays with different lengths or shapes) is deprecated. If you meant to do this, you must specify 'dtype=object' when creating the ndarray\n",
      "  Ha = np.array([1, z[0], z[0]**2])\n",
      "C:\\Users\\gadli\\old_pc\\Tau\\Thesis\\polynoms\\tracker.py:75: RuntimeWarning: divide by zero encountered in double_scalars\n",
      "  ratio = np.sqrt(lp)/le\n"
     ]
    },
    {
     "name": "stdout",
     "output_type": "stream",
     "text": [
      "Updating extended object track =  2\n",
      "Updating extended object track =  0\n",
      "Updating extended object track =  0\n",
      "Updating extended object track =  2\n",
      "Updating extended object track =  0\n",
      "len(unique_polynoms) 2\n",
      "frame 26\n",
      "13.298875008700278 113.29887500870028\n",
      "(50,) (50,)\n",
      "[[13.29887501]\n",
      " [-4.58775043]] [[ 0.99438807  0.10579394]\n",
      " [-0.10579394  0.99438807]]\n",
      "(100, 2) (100, 2, 2)\n",
      "Number of point tracks before run() 311\n",
      "Number of extended tracks before run() 3\n"
     ]
    },
    {
     "name": "stderr",
     "output_type": "stream",
     "text": [
      "C:\\Users\\gadli\\old_pc\\Tau\\Thesis\\polynoms\\tracker.py:52: VisibleDeprecationWarning: Creating an ndarray from ragged nested sequences (which is a list-or-tuple of lists-or-tuples-or ndarrays with different lengths or shapes) is deprecated. If you meant to do this, you must specify 'dtype=object' when creating the ndarray\n",
      "  Ha = np.array([1, z[0], z[0]**2])\n",
      "C:\\Users\\gadli\\old_pc\\Tau\\Thesis\\polynoms\\tracker.py:75: RuntimeWarning: divide by zero encountered in double_scalars\n",
      "  ratio = np.sqrt(lp)/le\n"
     ]
    },
    {
     "name": "stdout",
     "output_type": "stream",
     "text": [
      "len(unique_polynoms) 0\n",
      "frame 27\n",
      "13.825774654908098 113.8257746549081\n",
      "(50,) (50,)\n",
      "[[13.82577465]\n",
      " [-4.64017621]] [[ 0.99393869  0.10993578]\n",
      " [-0.10993578  0.99393869]]\n",
      "(100, 2) (100, 2, 2)\n",
      "Number of point tracks before run() 314\n",
      "Number of extended tracks before run() 3\n"
     ]
    },
    {
     "name": "stderr",
     "output_type": "stream",
     "text": [
      "C:\\Users\\gadli\\old_pc\\Tau\\Thesis\\polynoms\\tracker.py:52: VisibleDeprecationWarning: Creating an ndarray from ragged nested sequences (which is a list-or-tuple of lists-or-tuples-or ndarrays with different lengths or shapes) is deprecated. If you meant to do this, you must specify 'dtype=object' when creating the ndarray\n",
      "  Ha = np.array([1, z[0], z[0]**2])\n",
      "C:\\Users\\gadli\\old_pc\\Tau\\Thesis\\polynoms\\tracker.py:75: RuntimeWarning: divide by zero encountered in double_scalars\n",
      "  ratio = np.sqrt(lp)/le\n"
     ]
    },
    {
     "name": "stdout",
     "output_type": "stream",
     "text": [
      "len(unique_polynoms) 0\n",
      "frame 28\n",
      "14.353913303366717 114.35391330336671\n",
      "(50,) (50,)\n",
      "[[14.3539133 ]\n",
      " [-4.69495409]] [[ 0.99347138  0.11408162]\n",
      " [-0.11408162  0.99347138]]\n",
      "(100, 2) (100, 2, 2)\n",
      "Number of point tracks before run() 311\n",
      "Number of extended tracks before run() 3\n"
     ]
    },
    {
     "name": "stderr",
     "output_type": "stream",
     "text": [
      "C:\\Users\\gadli\\old_pc\\Tau\\Thesis\\polynoms\\tracker.py:52: VisibleDeprecationWarning: Creating an ndarray from ragged nested sequences (which is a list-or-tuple of lists-or-tuples-or ndarrays with different lengths or shapes) is deprecated. If you meant to do this, you must specify 'dtype=object' when creating the ndarray\n",
      "  Ha = np.array([1, z[0], z[0]**2])\n",
      "C:\\Users\\gadli\\old_pc\\Tau\\Thesis\\polynoms\\tracker.py:75: RuntimeWarning: divide by zero encountered in double_scalars\n",
      "  ratio = np.sqrt(lp)/le\n"
     ]
    },
    {
     "name": "stdout",
     "output_type": "stream",
     "text": [
      "Updating extended object track =  1\n",
      "Updating extended object track =  2\n",
      "Updating extended object track =  1\n",
      "Updating extended object track =  2\n",
      "len(unique_polynoms) 2\n",
      "frame 29\n",
      "14.8833026909896 114.8833026909896\n",
      "(50,) (50,)\n",
      "[[14.88330269]\n",
      " [-4.75210107]] [[ 0.99298608  0.1182313 ]\n",
      " [-0.1182313   0.99298608]]\n",
      "(100, 2) (100, 2, 2)\n",
      "Number of point tracks before run() 313\n",
      "Number of extended tracks before run() 3\n"
     ]
    },
    {
     "name": "stderr",
     "output_type": "stream",
     "text": [
      "C:\\Users\\gadli\\old_pc\\Tau\\Thesis\\polynoms\\tracker.py:52: VisibleDeprecationWarning: Creating an ndarray from ragged nested sequences (which is a list-or-tuple of lists-or-tuples-or ndarrays with different lengths or shapes) is deprecated. If you meant to do this, you must specify 'dtype=object' when creating the ndarray\n",
      "  Ha = np.array([1, z[0], z[0]**2])\n",
      "C:\\Users\\gadli\\old_pc\\Tau\\Thesis\\polynoms\\tracker.py:75: RuntimeWarning: divide by zero encountered in double_scalars\n",
      "  ratio = np.sqrt(lp)/le\n"
     ]
    },
    {
     "name": "stdout",
     "output_type": "stream",
     "text": [
      "Updating extended object track =  2\n",
      "len(unique_polynoms) 1\n",
      "frame 30\n",
      "15.413954750652852 115.41395475065285\n",
      "(50,) (50,)\n",
      "[[15.41395475]\n",
      " [-4.81163441]] [[ 0.99248274  0.12238467]\n",
      " [-0.12238467  0.99248274]]\n",
      "(100, 2) (100, 2, 2)\n",
      "Number of point tracks before run() 314\n",
      "Number of extended tracks before run() 3\n"
     ]
    },
    {
     "name": "stderr",
     "output_type": "stream",
     "text": [
      "C:\\Users\\gadli\\old_pc\\Tau\\Thesis\\polynoms\\tracker.py:52: VisibleDeprecationWarning: Creating an ndarray from ragged nested sequences (which is a list-or-tuple of lists-or-tuples-or ndarrays with different lengths or shapes) is deprecated. If you meant to do this, you must specify 'dtype=object' when creating the ndarray\n",
      "  Ha = np.array([1, z[0], z[0]**2])\n",
      "C:\\Users\\gadli\\old_pc\\Tau\\Thesis\\polynoms\\tracker.py:75: RuntimeWarning: divide by zero encountered in double_scalars\n",
      "  ratio = np.sqrt(lp)/le\n"
     ]
    },
    {
     "name": "stdout",
     "output_type": "stream",
     "text": [
      "Updating extended object track =  0\n",
      "len(unique_polynoms) 1\n",
      "frame 31\n",
      "15.945881615903115 115.94588161590312\n",
      "(50,) (50,)\n",
      "[[15.94588162]\n",
      " [-4.87357163]] [[ 0.9919613   0.12654158]\n",
      " [-0.12654158  0.9919613 ]]\n",
      "(100, 2) (100, 2, 2)\n",
      "Number of point tracks before run() 317\n",
      "Number of extended tracks before run() 3\n"
     ]
    },
    {
     "name": "stderr",
     "output_type": "stream",
     "text": [
      "C:\\Users\\gadli\\old_pc\\Tau\\Thesis\\polynoms\\tracker.py:52: VisibleDeprecationWarning: Creating an ndarray from ragged nested sequences (which is a list-or-tuple of lists-or-tuples-or ndarrays with different lengths or shapes) is deprecated. If you meant to do this, you must specify 'dtype=object' when creating the ndarray\n",
      "  Ha = np.array([1, z[0], z[0]**2])\n"
     ]
    },
    {
     "name": "stdout",
     "output_type": "stream",
     "text": [
      "Updating extended object track =  1\n",
      "Updating extended object track =  2\n",
      "Updating extended object track =  1\n",
      "Updating extended object track =  1\n",
      "Updating extended object track =  2\n"
     ]
    },
    {
     "name": "stderr",
     "output_type": "stream",
     "text": [
      "C:\\Users\\gadli\\old_pc\\Tau\\Thesis\\polynoms\\tracker.py:75: RuntimeWarning: divide by zero encountered in double_scalars\n",
      "  ratio = np.sqrt(lp)/le\n"
     ]
    },
    {
     "name": "stdout",
     "output_type": "stream",
     "text": [
      "len(unique_polynoms) 2\n",
      "frame 32\n",
      "16.479095625813304 116.4790956258133\n",
      "(50,) (50,)\n",
      "[[16.47909563]\n",
      " [-4.93793051]] [[ 0.99142172  0.13070187]\n",
      " [-0.13070187  0.99142172]]\n",
      "(100, 2) (100, 2, 2)\n",
      "Number of point tracks before run() 310\n",
      "Number of extended tracks before run() 3\n"
     ]
    },
    {
     "name": "stderr",
     "output_type": "stream",
     "text": [
      "C:\\Users\\gadli\\old_pc\\Tau\\Thesis\\polynoms\\tracker.py:52: VisibleDeprecationWarning: Creating an ndarray from ragged nested sequences (which is a list-or-tuple of lists-or-tuples-or ndarrays with different lengths or shapes) is deprecated. If you meant to do this, you must specify 'dtype=object' when creating the ndarray\n",
      "  Ha = np.array([1, z[0], z[0]**2])\n",
      "C:\\Users\\gadli\\old_pc\\Tau\\Thesis\\polynoms\\tracker.py:75: RuntimeWarning: divide by zero encountered in double_scalars\n",
      "  ratio = np.sqrt(lp)/le\n"
     ]
    },
    {
     "name": "stdout",
     "output_type": "stream",
     "text": [
      "Updating extended object track =  1\n",
      "len(unique_polynoms) 1\n",
      "frame 33\n",
      "17.01360932999249 117.01360932999249\n",
      "(50,) (50,)\n",
      "[[17.01360933]\n",
      " [-5.00472913]] [[ 0.99086393  0.13486537]\n",
      " [-0.13486537  0.99086393]]\n",
      "(100, 2) (100, 2, 2)\n",
      "Number of point tracks before run() 316\n",
      "Number of extended tracks before run() 3\n"
     ]
    },
    {
     "name": "stderr",
     "output_type": "stream",
     "text": [
      "C:\\Users\\gadli\\old_pc\\Tau\\Thesis\\polynoms\\tracker.py:52: VisibleDeprecationWarning: Creating an ndarray from ragged nested sequences (which is a list-or-tuple of lists-or-tuples-or ndarrays with different lengths or shapes) is deprecated. If you meant to do this, you must specify 'dtype=object' when creating the ndarray\n",
      "  Ha = np.array([1, z[0], z[0]**2])\n",
      "C:\\Users\\gadli\\old_pc\\Tau\\Thesis\\polynoms\\tracker.py:75: RuntimeWarning: divide by zero encountered in double_scalars\n",
      "  ratio = np.sqrt(lp)/le\n"
     ]
    },
    {
     "name": "stdout",
     "output_type": "stream",
     "text": [
      "Updating extended object track =  2\n",
      "len(unique_polynoms) 1\n",
      "frame 34\n",
      "17.549435493755496 117.5494354937555\n",
      "(50,) (50,)\n",
      "[[17.54943549]\n",
      " [-5.07398583]] [[ 0.9902879   0.13903195]\n",
      " [-0.13903195  0.9902879 ]]\n",
      "(100, 2) (100, 2, 2)\n",
      "Number of point tracks before run() 321\n",
      "Number of extended tracks before run() 3\n"
     ]
    },
    {
     "name": "stderr",
     "output_type": "stream",
     "text": [
      "C:\\Users\\gadli\\old_pc\\Tau\\Thesis\\polynoms\\tracker.py:52: VisibleDeprecationWarning: Creating an ndarray from ragged nested sequences (which is a list-or-tuple of lists-or-tuples-or ndarrays with different lengths or shapes) is deprecated. If you meant to do this, you must specify 'dtype=object' when creating the ndarray\n",
      "  Ha = np.array([1, z[0], z[0]**2])\n",
      "C:\\Users\\gadli\\old_pc\\Tau\\Thesis\\polynoms\\tracker.py:75: RuntimeWarning: divide by zero encountered in double_scalars\n",
      "  ratio = np.sqrt(lp)/le\n"
     ]
    },
    {
     "name": "stdout",
     "output_type": "stream",
     "text": [
      "Updating extended object track =  2\n",
      "Updating extended object track =  2\n",
      "Updating extended object track =  2\n",
      "Updating extended object track =  1\n",
      "len(unique_polynoms) 2\n",
      "frame 35\n",
      "18.086587103458896 118.0865871034589\n",
      "(50,) (50,)\n",
      "[[18.0865871 ]\n",
      " [-5.14571925]] [[ 0.98969356  0.14320143]\n",
      " [-0.14320143  0.98969356]]\n",
      "(100, 2) (100, 2, 2)\n",
      "Number of point tracks before run() 317\n",
      "Number of extended tracks before run() 3\n"
     ]
    },
    {
     "name": "stderr",
     "output_type": "stream",
     "text": [
      "C:\\Users\\gadli\\old_pc\\Tau\\Thesis\\polynoms\\tracker.py:52: VisibleDeprecationWarning: Creating an ndarray from ragged nested sequences (which is a list-or-tuple of lists-or-tuples-or ndarrays with different lengths or shapes) is deprecated. If you meant to do this, you must specify 'dtype=object' when creating the ndarray\n",
      "  Ha = np.array([1, z[0], z[0]**2])\n",
      "C:\\Users\\gadli\\old_pc\\Tau\\Thesis\\polynoms\\tracker.py:75: RuntimeWarning: divide by zero encountered in double_scalars\n",
      "  ratio = np.sqrt(lp)/le\n"
     ]
    },
    {
     "name": "stdout",
     "output_type": "stream",
     "text": [
      "Updating extended object track =  1\n",
      "i_trk 0 self.frame_idx 36 trk.getLastUpdateFrameIdx() 31\n",
      "len(unique_polynoms) 1\n",
      "frame 36\n",
      "18.62507737200973 118.62507737200973\n",
      "(50,) (50,)\n",
      "[[18.62507737]\n",
      " [-5.21994833]] [[ 0.98908089  0.14737366]\n",
      " [-0.14737366  0.98908089]]\n",
      "(100, 2) (100, 2, 2)\n",
      "Number of point tracks before run() 319\n",
      "Number of extended tracks before run() 2\n"
     ]
    },
    {
     "name": "stderr",
     "output_type": "stream",
     "text": [
      "C:\\Users\\gadli\\old_pc\\Tau\\Thesis\\polynoms\\tracker.py:52: VisibleDeprecationWarning: Creating an ndarray from ragged nested sequences (which is a list-or-tuple of lists-or-tuples-or ndarrays with different lengths or shapes) is deprecated. If you meant to do this, you must specify 'dtype=object' when creating the ndarray\n",
      "  Ha = np.array([1, z[0], z[0]**2])\n",
      "C:\\Users\\gadli\\old_pc\\Tau\\Thesis\\polynoms\\tracker.py:75: RuntimeWarning: divide by zero encountered in double_scalars\n",
      "  ratio = np.sqrt(lp)/le\n"
     ]
    },
    {
     "name": "stdout",
     "output_type": "stream",
     "text": [
      "Updating extended object track =  1\n",
      "Updating extended object track =  1\n",
      "Updating extended object track =  1\n",
      "len(unique_polynoms) 1\n",
      "frame 37\n",
      "19.164919744554197 119.1649197445542\n",
      "(50,) (50,)\n",
      "[[19.16491974]\n",
      " [-5.29669232]] [[ 0.98844982  0.15154849]\n",
      " [-0.15154849  0.98844982]]\n",
      "(100, 2) (100, 2, 2)\n",
      "Number of point tracks before run() 329\n",
      "Number of extended tracks before run() 2\n"
     ]
    },
    {
     "name": "stderr",
     "output_type": "stream",
     "text": [
      "C:\\Users\\gadli\\old_pc\\Tau\\Thesis\\polynoms\\tracker.py:52: VisibleDeprecationWarning: Creating an ndarray from ragged nested sequences (which is a list-or-tuple of lists-or-tuples-or ndarrays with different lengths or shapes) is deprecated. If you meant to do this, you must specify 'dtype=object' when creating the ndarray\n",
      "  Ha = np.array([1, z[0], z[0]**2])\n",
      "C:\\Users\\gadli\\old_pc\\Tau\\Thesis\\polynoms\\tracker.py:75: RuntimeWarning: divide by zero encountered in double_scalars\n",
      "  ratio = np.sqrt(lp)/le\n"
     ]
    },
    {
     "name": "stdout",
     "output_type": "stream",
     "text": [
      "Updating extended object track =  1\n",
      "Updating extended object track =  0\n",
      "Updating extended object track =  0\n",
      "Updating extended object track =  1\n",
      "Updating extended object track =  1\n",
      "len(unique_polynoms) 2\n",
      "frame 38\n",
      "19.706127904353373 119.70612790435337\n",
      "(50,) (50,)\n",
      "[[19.7061279 ]\n",
      " [-5.37597076]] [[ 0.98780033  0.15572576]\n",
      " [-0.15572576  0.98780033]]\n",
      "(100, 2) (100, 2, 2)\n",
      "Number of point tracks before run() 316\n",
      "Number of extended tracks before run() 2\n"
     ]
    },
    {
     "name": "stderr",
     "output_type": "stream",
     "text": [
      "C:\\Users\\gadli\\old_pc\\Tau\\Thesis\\polynoms\\tracker.py:52: VisibleDeprecationWarning: Creating an ndarray from ragged nested sequences (which is a list-or-tuple of lists-or-tuples-or ndarrays with different lengths or shapes) is deprecated. If you meant to do this, you must specify 'dtype=object' when creating the ndarray\n",
      "  Ha = np.array([1, z[0], z[0]**2])\n",
      "C:\\Users\\gadli\\old_pc\\Tau\\Thesis\\polynoms\\tracker.py:75: RuntimeWarning: divide by zero encountered in double_scalars\n",
      "  ratio = np.sqrt(lp)/le\n"
     ]
    },
    {
     "name": "stdout",
     "output_type": "stream",
     "text": [
      "Updating extended object track =  1\n",
      "Updating extended object track =  1\n",
      "len(unique_polynoms) 1\n",
      "frame 39\n",
      "20.248715778853633 120.24871577885364\n",
      "(50,) (50,)\n",
      "[[20.24871578]\n",
      " [-5.45780352]] [[ 0.98713236  0.1599053 ]\n",
      " [-0.1599053   0.98713236]]\n",
      "(100, 2) (100, 2, 2)\n",
      "Number of point tracks before run() 323\n",
      "Number of extended tracks before run() 3\n"
     ]
    },
    {
     "name": "stderr",
     "output_type": "stream",
     "text": [
      "C:\\Users\\gadli\\old_pc\\Tau\\Thesis\\polynoms\\tracker.py:52: VisibleDeprecationWarning: Creating an ndarray from ragged nested sequences (which is a list-or-tuple of lists-or-tuples-or ndarrays with different lengths or shapes) is deprecated. If you meant to do this, you must specify 'dtype=object' when creating the ndarray\n",
      "  Ha = np.array([1, z[0], z[0]**2])\n",
      "C:\\Users\\gadli\\old_pc\\Tau\\Thesis\\polynoms\\tracker.py:75: RuntimeWarning: divide by zero encountered in double_scalars\n",
      "  ratio = np.sqrt(lp)/le\n"
     ]
    },
    {
     "name": "stdout",
     "output_type": "stream",
     "text": [
      "Updating extended object track =  0\n",
      "Updating extended object track =  2\n",
      "len(unique_polynoms) 2\n",
      "frame 40\n",
      "20.792697545959914 120.79269754595991\n",
      "(50,) (50,)\n",
      "[[20.79269755]\n",
      " [-5.54221081]] [[ 0.98644588  0.16408697]\n",
      " [-0.16408697  0.98644588]]\n",
      "(100, 2) (100, 2, 2)\n",
      "Number of point tracks before run() 320\n",
      "Number of extended tracks before run() 3\n"
     ]
    },
    {
     "name": "stderr",
     "output_type": "stream",
     "text": [
      "C:\\Users\\gadli\\old_pc\\Tau\\Thesis\\polynoms\\tracker.py:52: VisibleDeprecationWarning: Creating an ndarray from ragged nested sequences (which is a list-or-tuple of lists-or-tuples-or ndarrays with different lengths or shapes) is deprecated. If you meant to do this, you must specify 'dtype=object' when creating the ndarray\n",
      "  Ha = np.array([1, z[0], z[0]**2])\n",
      "C:\\Users\\gadli\\old_pc\\Tau\\Thesis\\polynoms\\tracker.py:75: RuntimeWarning: divide by zero encountered in double_scalars\n",
      "  ratio = np.sqrt(lp)/le\n"
     ]
    },
    {
     "name": "stdout",
     "output_type": "stream",
     "text": [
      "Updating extended object track =  2\n",
      "len(unique_polynoms) 1\n",
      "frame 41\n",
      "21.33808764051999 121.33808764051999\n",
      "(50,) (50,)\n",
      "[[21.33808764]\n",
      " [-5.62921315]] [[ 0.98574084  0.1682706 ]\n",
      " [-0.1682706   0.98574084]]\n",
      "(100, 2) (100, 2, 2)\n",
      "Number of point tracks before run() 319\n",
      "Number of extended tracks before run() 3\n"
     ]
    },
    {
     "name": "stderr",
     "output_type": "stream",
     "text": [
      "C:\\Users\\gadli\\old_pc\\Tau\\Thesis\\polynoms\\tracker.py:52: VisibleDeprecationWarning: Creating an ndarray from ragged nested sequences (which is a list-or-tuple of lists-or-tuples-or ndarrays with different lengths or shapes) is deprecated. If you meant to do this, you must specify 'dtype=object' when creating the ndarray\n",
      "  Ha = np.array([1, z[0], z[0]**2])\n",
      "C:\\Users\\gadli\\old_pc\\Tau\\Thesis\\polynoms\\tracker.py:75: RuntimeWarning: divide by zero encountered in double_scalars\n",
      "  ratio = np.sqrt(lp)/le\n"
     ]
    },
    {
     "name": "stdout",
     "output_type": "stream",
     "text": [
      "len(unique_polynoms) 0\n",
      "frame 42\n",
      "21.884900761028863 121.88490076102886\n",
      "(50,) (50,)\n",
      "[[21.88490076]\n",
      " [-5.71883142]] [[ 0.98501722  0.17245603]\n",
      " [-0.17245603  0.98501722]]\n",
      "(100, 2) (100, 2, 2)\n",
      "Number of point tracks before run() 314\n",
      "Number of extended tracks before run() 3\n"
     ]
    },
    {
     "name": "stderr",
     "output_type": "stream",
     "text": [
      "C:\\Users\\gadli\\old_pc\\Tau\\Thesis\\polynoms\\tracker.py:52: VisibleDeprecationWarning: Creating an ndarray from ragged nested sequences (which is a list-or-tuple of lists-or-tuples-or ndarrays with different lengths or shapes) is deprecated. If you meant to do this, you must specify 'dtype=object' when creating the ndarray\n",
      "  Ha = np.array([1, z[0], z[0]**2])\n"
     ]
    },
    {
     "name": "stdout",
     "output_type": "stream",
     "text": [
      "Updating extended object track =  1\n",
      "Updating extended object track =  2\n",
      "Updating extended object track =  2\n"
     ]
    },
    {
     "name": "stderr",
     "output_type": "stream",
     "text": [
      "C:\\Users\\gadli\\old_pc\\Tau\\Thesis\\polynoms\\tracker.py:75: RuntimeWarning: divide by zero encountered in double_scalars\n",
      "  ratio = np.sqrt(lp)/le\n"
     ]
    },
    {
     "name": "stdout",
     "output_type": "stream",
     "text": [
      "len(unique_polynoms) 2\n",
      "frame 43\n",
      "22.433151876562125 122.43315187656212\n",
      "(50,) (50,)\n",
      "[[22.43315188]\n",
      " [-5.81108685]] [[ 0.98427497  0.17664312]\n",
      " [-0.17664312  0.98427497]]\n",
      "(100, 2) (100, 2, 2)\n",
      "Number of point tracks before run() 324\n",
      "Number of extended tracks before run() 4\n"
     ]
    },
    {
     "name": "stderr",
     "output_type": "stream",
     "text": [
      "C:\\Users\\gadli\\old_pc\\Tau\\Thesis\\polynoms\\tracker.py:52: VisibleDeprecationWarning: Creating an ndarray from ragged nested sequences (which is a list-or-tuple of lists-or-tuples-or ndarrays with different lengths or shapes) is deprecated. If you meant to do this, you must specify 'dtype=object' when creating the ndarray\n",
      "  Ha = np.array([1, z[0], z[0]**2])\n",
      "C:\\Users\\gadli\\old_pc\\Tau\\Thesis\\polynoms\\tracker.py:75: RuntimeWarning: divide by zero encountered in double_scalars\n",
      "  ratio = np.sqrt(lp)/le\n"
     ]
    },
    {
     "name": "stdout",
     "output_type": "stream",
     "text": [
      "Updating extended object track =  0\n",
      "Updating extended object track =  2\n",
      "Updating extended object track =  0\n",
      "Updating extended object track =  1\n",
      "len(unique_polynoms) 3\n",
      "frame 44\n",
      "22.982856233948535 122.98285623394854\n",
      "(50,) (50,)\n",
      "[[22.98285623]\n",
      " [-5.90600102]] [[ 0.98351406  0.1808317 ]\n",
      " [-0.1808317   0.98351406]]\n",
      "(100, 2) (100, 2, 2)\n",
      "Number of point tracks before run() 325\n",
      "Number of extended tracks before run() 4\n"
     ]
    },
    {
     "name": "stderr",
     "output_type": "stream",
     "text": [
      "C:\\Users\\gadli\\old_pc\\Tau\\Thesis\\polynoms\\tracker.py:52: VisibleDeprecationWarning: Creating an ndarray from ragged nested sequences (which is a list-or-tuple of lists-or-tuples-or ndarrays with different lengths or shapes) is deprecated. If you meant to do this, you must specify 'dtype=object' when creating the ndarray\n",
      "  Ha = np.array([1, z[0], z[0]**2])\n",
      "C:\\Users\\gadli\\old_pc\\Tau\\Thesis\\polynoms\\tracker.py:75: RuntimeWarning: divide by zero encountered in double_scalars\n",
      "  ratio = np.sqrt(lp)/le\n"
     ]
    },
    {
     "name": "stdout",
     "output_type": "stream",
     "text": [
      "Updating extended object track =  2\n",
      "Updating extended object track =  3\n",
      "Updating extended object track =  2\n",
      "len(unique_polynoms) 2\n",
      "frame 45\n",
      "23.5340293651915 123.5340293651915\n",
      "(50,) (50,)\n",
      "[[23.53402937]\n",
      " [-6.00359589]] [[ 0.98273445  0.18502161]\n",
      " [-0.18502161  0.98273445]]\n",
      "(100, 2) (100, 2, 2)\n",
      "Number of point tracks before run() 314\n",
      "Number of extended tracks before run() 4\n"
     ]
    },
    {
     "name": "stderr",
     "output_type": "stream",
     "text": [
      "C:\\Users\\gadli\\old_pc\\Tau\\Thesis\\polynoms\\tracker.py:52: VisibleDeprecationWarning: Creating an ndarray from ragged nested sequences (which is a list-or-tuple of lists-or-tuples-or ndarrays with different lengths or shapes) is deprecated. If you meant to do this, you must specify 'dtype=object' when creating the ndarray\n",
      "  Ha = np.array([1, z[0], z[0]**2])\n"
     ]
    },
    {
     "name": "stdout",
     "output_type": "stream",
     "text": [
      "Updating extended object track =  3\n",
      "Updating extended object track =  3\n",
      "Updating extended object track =  1\n",
      "Updating extended object track =  3\n",
      "Updating extended object track =  1\n"
     ]
    },
    {
     "name": "stderr",
     "output_type": "stream",
     "text": [
      "C:\\Users\\gadli\\old_pc\\Tau\\Thesis\\polynoms\\tracker.py:75: RuntimeWarning: divide by zero encountered in double_scalars\n",
      "  ratio = np.sqrt(lp)/le\n"
     ]
    },
    {
     "name": "stdout",
     "output_type": "stream",
     "text": [
      "len(unique_polynoms) 2\n",
      "frame 46\n",
      "24.086687095150562 124.08668709515057\n",
      "(50,) (50,)\n",
      "[[24.0866871]\n",
      " [-6.1038938]] [[ 0.98193612  0.18921271]\n",
      " [-0.18921271  0.98193612]]\n",
      "(100, 2) (100, 2, 2)\n",
      "Number of point tracks before run() 311\n",
      "Number of extended tracks before run() 4\n"
     ]
    },
    {
     "name": "stderr",
     "output_type": "stream",
     "text": [
      "C:\\Users\\gadli\\old_pc\\Tau\\Thesis\\polynoms\\tracker.py:52: VisibleDeprecationWarning: Creating an ndarray from ragged nested sequences (which is a list-or-tuple of lists-or-tuples-or ndarrays with different lengths or shapes) is deprecated. If you meant to do this, you must specify 'dtype=object' when creating the ndarray\n",
      "  Ha = np.array([1, z[0], z[0]**2])\n",
      "C:\\Users\\gadli\\old_pc\\Tau\\Thesis\\polynoms\\tracker.py:75: RuntimeWarning: divide by zero encountered in double_scalars\n",
      "  ratio = np.sqrt(lp)/le\n"
     ]
    },
    {
     "name": "stdout",
     "output_type": "stream",
     "text": [
      "Updating extended object track =  3\n",
      "len(unique_polynoms) 1\n",
      "frame 47\n",
      "24.640845549494014 124.64084554949402\n",
      "(50,) (50,)\n",
      "[[24.64084555]\n",
      " [-6.20691747]] [[ 0.98111904  0.19340482]\n",
      " [-0.19340482  0.98111904]]\n",
      "(100, 2) (100, 2, 2)\n",
      "Number of point tracks before run() 313\n",
      "Number of extended tracks before run() 4\n"
     ]
    },
    {
     "name": "stderr",
     "output_type": "stream",
     "text": [
      "C:\\Users\\gadli\\old_pc\\Tau\\Thesis\\polynoms\\tracker.py:52: VisibleDeprecationWarning: Creating an ndarray from ragged nested sequences (which is a list-or-tuple of lists-or-tuples-or ndarrays with different lengths or shapes) is deprecated. If you meant to do this, you must specify 'dtype=object' when creating the ndarray\n",
      "  Ha = np.array([1, z[0], z[0]**2])\n",
      "C:\\Users\\gadli\\old_pc\\Tau\\Thesis\\polynoms\\tracker.py:75: RuntimeWarning: divide by zero encountered in double_scalars\n",
      "  ratio = np.sqrt(lp)/le\n"
     ]
    },
    {
     "name": "stdout",
     "output_type": "stream",
     "text": [
      "Updating extended object track =  1\n",
      "Updating extended object track =  3\n",
      "Updating extended object track =  3\n",
      "Updating extended object track =  1\n",
      "Updating extended object track =  1\n",
      "Updating extended object track =  2\n",
      "Updating extended object track =  0\n",
      "Updating extended object track =  0\n",
      "len(unique_polynoms) 4\n",
      "frame 48\n",
      "25.19652116293461 125.1965211629346\n",
      "(50,) (50,)\n",
      "[[25.19652116]\n",
      " [-6.31269002]] [[ 0.98028318  0.19759781]\n",
      " [-0.19759781  0.98028318]]\n",
      "(100, 2) (100, 2, 2)\n",
      "Number of point tracks before run() 307\n",
      "Number of extended tracks before run() 4\n"
     ]
    },
    {
     "name": "stderr",
     "output_type": "stream",
     "text": [
      "C:\\Users\\gadli\\old_pc\\Tau\\Thesis\\polynoms\\tracker.py:52: VisibleDeprecationWarning: Creating an ndarray from ragged nested sequences (which is a list-or-tuple of lists-or-tuples-or ndarrays with different lengths or shapes) is deprecated. If you meant to do this, you must specify 'dtype=object' when creating the ndarray\n",
      "  Ha = np.array([1, z[0], z[0]**2])\n",
      "C:\\Users\\gadli\\old_pc\\Tau\\Thesis\\polynoms\\tracker.py:75: RuntimeWarning: divide by zero encountered in double_scalars\n",
      "  ratio = np.sqrt(lp)/le\n"
     ]
    },
    {
     "name": "stdout",
     "output_type": "stream",
     "text": [
      "len(unique_polynoms) 0\n",
      "frame 49\n",
      "25.753730687760783 125.75373068776078\n",
      "(50,) (50,)\n",
      "[[25.75373069]\n",
      " [-6.421235  ]] [[ 0.9794285  0.2017915]\n",
      " [-0.2017915  0.9794285]]\n",
      "(100, 2) (100, 2, 2)\n",
      "Number of point tracks before run() 317\n",
      "Number of extended tracks before run() 4\n"
     ]
    },
    {
     "name": "stderr",
     "output_type": "stream",
     "text": [
      "C:\\Users\\gadli\\old_pc\\Tau\\Thesis\\polynoms\\tracker.py:52: VisibleDeprecationWarning: Creating an ndarray from ragged nested sequences (which is a list-or-tuple of lists-or-tuples-or ndarrays with different lengths or shapes) is deprecated. If you meant to do this, you must specify 'dtype=object' when creating the ndarray\n",
      "  Ha = np.array([1, z[0], z[0]**2])\n",
      "C:\\Users\\gadli\\old_pc\\Tau\\Thesis\\polynoms\\tracker.py:75: RuntimeWarning: divide by zero encountered in double_scalars\n",
      "  ratio = np.sqrt(lp)/le\n"
     ]
    },
    {
     "name": "stdout",
     "output_type": "stream",
     "text": [
      "Updating extended object track =  3\n",
      "len(unique_polynoms) 1\n",
      "frame 50\n",
      "26.31249120267659 126.3124912026766\n",
      "(50,) (50,)\n",
      "[[26.3124912 ]\n",
      " [-6.53257635]] [[ 0.97855499  0.20598576]\n",
      " [-0.20598576  0.97855499]]\n",
      "(100, 2) (100, 2, 2)\n",
      "Number of point tracks before run() 322\n",
      "Number of extended tracks before run() 4\n"
     ]
    },
    {
     "name": "stderr",
     "output_type": "stream",
     "text": [
      "C:\\Users\\gadli\\old_pc\\Tau\\Thesis\\polynoms\\tracker.py:52: VisibleDeprecationWarning: Creating an ndarray from ragged nested sequences (which is a list-or-tuple of lists-or-tuples-or ndarrays with different lengths or shapes) is deprecated. If you meant to do this, you must specify 'dtype=object' when creating the ndarray\n",
      "  Ha = np.array([1, z[0], z[0]**2])\n",
      "C:\\Users\\gadli\\old_pc\\Tau\\Thesis\\polynoms\\tracker.py:75: RuntimeWarning: divide by zero encountered in double_scalars\n",
      "  ratio = np.sqrt(lp)/le\n"
     ]
    },
    {
     "name": "stdout",
     "output_type": "stream",
     "text": [
      "Updating extended object track =  2\n",
      "len(unique_polynoms) 1\n",
      "frame 51\n",
      "26.872820121964306 126.87282012196431\n",
      "(50,) (50,)\n",
      "[[26.87282012]\n",
      " [-6.64673846]] [[ 0.97766262  0.21018041]\n",
      " [-0.21018041  0.97766262]]\n",
      "(100, 2) (100, 2, 2)\n",
      "Number of point tracks before run() 319\n",
      "Number of extended tracks before run() 4\n"
     ]
    },
    {
     "name": "stderr",
     "output_type": "stream",
     "text": [
      "C:\\Users\\gadli\\old_pc\\Tau\\Thesis\\polynoms\\tracker.py:52: VisibleDeprecationWarning: Creating an ndarray from ragged nested sequences (which is a list-or-tuple of lists-or-tuples-or ndarrays with different lengths or shapes) is deprecated. If you meant to do this, you must specify 'dtype=object' when creating the ndarray\n",
      "  Ha = np.array([1, z[0], z[0]**2])\n",
      "C:\\Users\\gadli\\old_pc\\Tau\\Thesis\\polynoms\\tracker.py:75: RuntimeWarning: divide by zero encountered in double_scalars\n",
      "  ratio = np.sqrt(lp)/le\n"
     ]
    },
    {
     "name": "stdout",
     "output_type": "stream",
     "text": [
      "Updating extended object track =  3\n",
      "len(unique_polynoms) 1\n",
      "frame 52\n",
      "27.434735204984072 127.43473520498407\n",
      "(50,) (50,)\n",
      "[[27.4347352 ]\n",
      " [-6.76374617]] [[ 0.97675136  0.21437532]\n",
      " [-0.21437532  0.97675136]]\n",
      "(100, 2) (100, 2, 2)\n",
      "Number of point tracks before run() 319\n",
      "Number of extended tracks before run() 4\n"
     ]
    },
    {
     "name": "stderr",
     "output_type": "stream",
     "text": [
      "C:\\Users\\gadli\\old_pc\\Tau\\Thesis\\polynoms\\tracker.py:52: VisibleDeprecationWarning: Creating an ndarray from ragged nested sequences (which is a list-or-tuple of lists-or-tuples-or ndarrays with different lengths or shapes) is deprecated. If you meant to do this, you must specify 'dtype=object' when creating the ndarray\n",
      "  Ha = np.array([1, z[0], z[0]**2])\n",
      "C:\\Users\\gadli\\old_pc\\Tau\\Thesis\\polynoms\\tracker.py:75: RuntimeWarning: divide by zero encountered in double_scalars\n",
      "  ratio = np.sqrt(lp)/le\n"
     ]
    },
    {
     "name": "stdout",
     "output_type": "stream",
     "text": [
      "i_trk 0 self.frame_idx 53 trk.getLastUpdateFrameIdx() 48\n",
      "i_trk 1 self.frame_idx 53 trk.getLastUpdateFrameIdx() 48\n",
      "len(unique_polynoms) 0\n",
      "frame 53\n",
      "27.998254566026322 127.99825456602632\n",
      "(50,) (50,)\n",
      "[[27.99825457]\n",
      " [-6.88362474]] [[ 0.9758212   0.21857032]\n",
      " [-0.21857032  0.9758212 ]]\n",
      "(100, 2) (100, 2, 2)\n",
      "Number of point tracks before run() 320\n",
      "Number of extended tracks before run() 2\n"
     ]
    },
    {
     "name": "stderr",
     "output_type": "stream",
     "text": [
      "C:\\Users\\gadli\\old_pc\\Tau\\Thesis\\polynoms\\tracker.py:52: VisibleDeprecationWarning: Creating an ndarray from ragged nested sequences (which is a list-or-tuple of lists-or-tuples-or ndarrays with different lengths or shapes) is deprecated. If you meant to do this, you must specify 'dtype=object' when creating the ndarray\n",
      "  Ha = np.array([1, z[0], z[0]**2])\n",
      "C:\\Users\\gadli\\old_pc\\Tau\\Thesis\\polynoms\\tracker.py:75: RuntimeWarning: divide by zero encountered in double_scalars\n",
      "  ratio = np.sqrt(lp)/le\n"
     ]
    },
    {
     "name": "stdout",
     "output_type": "stream",
     "text": [
      "Updating extended object track =  1\n",
      "Updating extended object track =  0\n",
      "Updating extended object track =  1\n",
      "len(unique_polynoms) 2\n",
      "frame 54\n",
      "28.56339668453288 128.56339668453288\n",
      "(50,) (50,)\n",
      "[[28.56339668]\n",
      " [-7.00639995]] [[ 0.97487211  0.22276527]\n",
      " [-0.22276527  0.97487211]]\n",
      "(100, 2) (100, 2, 2)\n",
      "Number of point tracks before run() 310\n",
      "Number of extended tracks before run() 3\n"
     ]
    },
    {
     "name": "stderr",
     "output_type": "stream",
     "text": [
      "C:\\Users\\gadli\\old_pc\\Tau\\Thesis\\polynoms\\tracker.py:52: VisibleDeprecationWarning: Creating an ndarray from ragged nested sequences (which is a list-or-tuple of lists-or-tuples-or ndarrays with different lengths or shapes) is deprecated. If you meant to do this, you must specify 'dtype=object' when creating the ndarray\n",
      "  Ha = np.array([1, z[0], z[0]**2])\n",
      "C:\\Users\\gadli\\old_pc\\Tau\\Thesis\\polynoms\\tracker.py:75: RuntimeWarning: divide by zero encountered in double_scalars\n",
      "  ratio = np.sqrt(lp)/le\n"
     ]
    },
    {
     "name": "stdout",
     "output_type": "stream",
     "text": [
      "Updating extended object track =  2\n",
      "Updating extended object track =  2\n",
      "Updating extended object track =  2\n",
      "Updating extended object track =  2\n",
      "len(unique_polynoms) 1\n",
      "frame 55\n",
      "29.130180415704185 129.1301804157042\n",
      "(50,) (50,)\n",
      "[[29.13018042]\n",
      " [-7.13209802]] [[ 0.97390408  0.22696001]\n",
      " [-0.22696001  0.97390408]]\n",
      "(100, 2) (100, 2, 2)\n",
      "Number of point tracks before run() 325\n",
      "Number of extended tracks before run() 3\n"
     ]
    },
    {
     "name": "stderr",
     "output_type": "stream",
     "text": [
      "C:\\Users\\gadli\\old_pc\\Tau\\Thesis\\polynoms\\tracker.py:52: VisibleDeprecationWarning: Creating an ndarray from ragged nested sequences (which is a list-or-tuple of lists-or-tuples-or ndarrays with different lengths or shapes) is deprecated. If you meant to do this, you must specify 'dtype=object' when creating the ndarray\n",
      "  Ha = np.array([1, z[0], z[0]**2])\n",
      "C:\\Users\\gadli\\old_pc\\Tau\\Thesis\\polynoms\\tracker.py:75: RuntimeWarning: divide by zero encountered in double_scalars\n",
      "  ratio = np.sqrt(lp)/le\n"
     ]
    },
    {
     "name": "stdout",
     "output_type": "stream",
     "text": [
      "Updating extended object track =  1\n",
      "Updating extended object track =  0\n",
      "Updating extended object track =  2\n",
      "Updating extended object track =  2\n",
      "len(unique_polynoms) 3\n",
      "frame 56\n",
      "29.698625001510532 129.69862500151052\n",
      "(50,) (50,)\n",
      "[[29.698625  ]\n",
      " [-7.26074568]] [[ 0.97291708  0.2311544 ]\n",
      " [-0.2311544   0.97291708]]\n",
      "(100, 2) (100, 2, 2)\n",
      "Number of point tracks before run() 314\n",
      "Number of extended tracks before run() 3\n"
     ]
    },
    {
     "name": "stderr",
     "output_type": "stream",
     "text": [
      "C:\\Users\\gadli\\old_pc\\Tau\\Thesis\\polynoms\\tracker.py:52: VisibleDeprecationWarning: Creating an ndarray from ragged nested sequences (which is a list-or-tuple of lists-or-tuples-or ndarrays with different lengths or shapes) is deprecated. If you meant to do this, you must specify 'dtype=object' when creating the ndarray\n",
      "  Ha = np.array([1, z[0], z[0]**2])\n",
      "C:\\Users\\gadli\\old_pc\\Tau\\Thesis\\polynoms\\tracker.py:75: RuntimeWarning: divide by zero encountered in double_scalars\n",
      "  ratio = np.sqrt(lp)/le\n"
     ]
    },
    {
     "name": "stdout",
     "output_type": "stream",
     "text": [
      "len(unique_polynoms) 0\n",
      "frame 57\n",
      "30.268750082126523 130.26875008212653\n",
      "(50,) (50,)\n",
      "[[30.26875008]\n",
      " [-7.39237018]] [[ 0.9719111   0.23534827]\n",
      " [-0.23534827  0.9719111 ]]\n",
      "(100, 2) (100, 2, 2)\n",
      "Number of point tracks before run() 318\n",
      "Number of extended tracks before run() 3\n"
     ]
    },
    {
     "name": "stderr",
     "output_type": "stream",
     "text": [
      "C:\\Users\\gadli\\old_pc\\Tau\\Thesis\\polynoms\\tracker.py:52: VisibleDeprecationWarning: Creating an ndarray from ragged nested sequences (which is a list-or-tuple of lists-or-tuples-or ndarrays with different lengths or shapes) is deprecated. If you meant to do this, you must specify 'dtype=object' when creating the ndarray\n",
      "  Ha = np.array([1, z[0], z[0]**2])\n",
      "C:\\Users\\gadli\\old_pc\\Tau\\Thesis\\polynoms\\tracker.py:75: RuntimeWarning: divide by zero encountered in double_scalars\n",
      "  ratio = np.sqrt(lp)/le\n"
     ]
    },
    {
     "name": "stdout",
     "output_type": "stream",
     "text": [
      "Updating extended object track =  2\n",
      "Updating extended object track =  0\n",
      "len(unique_polynoms) 2\n",
      "frame 58\n",
      "30.840575707808917 130.8405757078089\n",
      "(50,) (50,)\n",
      "[[30.84057571]\n",
      " [-7.52699926]] [[ 0.97088613  0.2395415 ]\n",
      " [-0.2395415   0.97088613]]\n",
      "(100, 2) (100, 2, 2)\n",
      "Number of point tracks before run() 315\n",
      "Number of extended tracks before run() 3\n"
     ]
    },
    {
     "name": "stderr",
     "output_type": "stream",
     "text": [
      "C:\\Users\\gadli\\old_pc\\Tau\\Thesis\\polynoms\\tracker.py:52: VisibleDeprecationWarning: Creating an ndarray from ragged nested sequences (which is a list-or-tuple of lists-or-tuples-or ndarrays with different lengths or shapes) is deprecated. If you meant to do this, you must specify 'dtype=object' when creating the ndarray\n",
      "  Ha = np.array([1, z[0], z[0]**2])\n",
      "C:\\Users\\gadli\\old_pc\\Tau\\Thesis\\polynoms\\tracker.py:75: RuntimeWarning: divide by zero encountered in double_scalars\n",
      "  ratio = np.sqrt(lp)/le\n"
     ]
    },
    {
     "name": "stdout",
     "output_type": "stream",
     "text": [
      "Updating extended object track =  2\n",
      "len(unique_polynoms) 1\n",
      "frame 59\n",
      "31.41412235123929 131.41412235123929\n",
      "(50,) (50,)\n",
      "[[31.41412235]\n",
      " [-7.66466123]] [[ 0.96984214  0.24373392]\n",
      " [-0.24373392  0.96984214]]\n",
      "(100, 2) (100, 2, 2)\n",
      "Number of point tracks before run() 322\n",
      "Number of extended tracks before run() 3\n"
     ]
    },
    {
     "name": "stderr",
     "output_type": "stream",
     "text": [
      "C:\\Users\\gadli\\old_pc\\Tau\\Thesis\\polynoms\\tracker.py:52: VisibleDeprecationWarning: Creating an ndarray from ragged nested sequences (which is a list-or-tuple of lists-or-tuples-or ndarrays with different lengths or shapes) is deprecated. If you meant to do this, you must specify 'dtype=object' when creating the ndarray\n",
      "  Ha = np.array([1, z[0], z[0]**2])\n",
      "C:\\Users\\gadli\\old_pc\\Tau\\Thesis\\polynoms\\tracker.py:75: RuntimeWarning: divide by zero encountered in double_scalars\n",
      "  ratio = np.sqrt(lp)/le\n"
     ]
    },
    {
     "name": "stdout",
     "output_type": "stream",
     "text": [
      "Updating extended object track =  2\n",
      "Updating extended object track =  0\n",
      "Updating extended object track =  2\n",
      "len(unique_polynoms) 2\n",
      "frame 60\n",
      "31.989410920353926 131.98941092035392\n",
      "(50,) (50,)\n",
      "[[31.98941092]\n",
      " [-7.80538495]] [[ 0.96877913  0.24792539]\n",
      " [-0.24792539  0.96877913]]\n",
      "(100, 2) (100, 2, 2)\n",
      "Number of point tracks before run() 324\n",
      "Number of extended tracks before run() 4\n"
     ]
    },
    {
     "name": "stderr",
     "output_type": "stream",
     "text": [
      "C:\\Users\\gadli\\old_pc\\Tau\\Thesis\\polynoms\\tracker.py:52: VisibleDeprecationWarning: Creating an ndarray from ragged nested sequences (which is a list-or-tuple of lists-or-tuples-or ndarrays with different lengths or shapes) is deprecated. If you meant to do this, you must specify 'dtype=object' when creating the ndarray\n",
      "  Ha = np.array([1, z[0], z[0]**2])\n",
      "C:\\Users\\gadli\\old_pc\\Tau\\Thesis\\polynoms\\tracker.py:75: RuntimeWarning: divide by zero encountered in double_scalars\n",
      "  ratio = np.sqrt(lp)/le\n"
     ]
    },
    {
     "name": "stdout",
     "output_type": "stream",
     "text": [
      "Updating extended object track =  1\n",
      "Updating extended object track =  3\n",
      "len(unique_polynoms) 2\n",
      "frame 61\n",
      "32.56646277168504 132.56646277168505\n",
      "(50,) (50,)\n",
      "[[32.56646277]\n",
      " [-7.94919982]] [[ 0.96769708  0.25211577]\n",
      " [-0.25211577  0.96769708]]\n",
      "(100, 2) (100, 2, 2)\n",
      "Number of point tracks before run() 316\n",
      "Number of extended tracks before run() 4\n"
     ]
    },
    {
     "name": "stderr",
     "output_type": "stream",
     "text": [
      "C:\\Users\\gadli\\old_pc\\Tau\\Thesis\\polynoms\\tracker.py:52: VisibleDeprecationWarning: Creating an ndarray from ragged nested sequences (which is a list-or-tuple of lists-or-tuples-or ndarrays with different lengths or shapes) is deprecated. If you meant to do this, you must specify 'dtype=object' when creating the ndarray\n",
      "  Ha = np.array([1, z[0], z[0]**2])\n",
      "C:\\Users\\gadli\\old_pc\\Tau\\Thesis\\polynoms\\tracker.py:75: RuntimeWarning: divide by zero encountered in double_scalars\n",
      "  ratio = np.sqrt(lp)/le\n"
     ]
    },
    {
     "name": "stdout",
     "output_type": "stream",
     "text": [
      "Updating extended object track =  3\n",
      "Updating extended object track =  3\n",
      "Updating extended object track =  0\n",
      "len(unique_polynoms) 2\n",
      "frame 62\n",
      "33.14529972423848 133.14529972423847\n",
      "(50,) (50,)\n",
      "[[33.14529972]\n",
      " [-8.09613588]] [[ 0.96659598  0.25630491]\n",
      " [-0.25630491  0.96659598]]\n",
      "(100, 2) (100, 2, 2)\n",
      "Number of point tracks before run() 307\n",
      "Number of extended tracks before run() 4\n"
     ]
    },
    {
     "name": "stderr",
     "output_type": "stream",
     "text": [
      "C:\\Users\\gadli\\old_pc\\Tau\\Thesis\\polynoms\\tracker.py:52: VisibleDeprecationWarning: Creating an ndarray from ragged nested sequences (which is a list-or-tuple of lists-or-tuples-or ndarrays with different lengths or shapes) is deprecated. If you meant to do this, you must specify 'dtype=object' when creating the ndarray\n",
      "  Ha = np.array([1, z[0], z[0]**2])\n",
      "C:\\Users\\gadli\\old_pc\\Tau\\Thesis\\polynoms\\tracker.py:75: RuntimeWarning: divide by zero encountered in double_scalars\n",
      "  ratio = np.sqrt(lp)/le\n"
     ]
    },
    {
     "name": "stdout",
     "output_type": "stream",
     "text": [
      "Updating extended object track =  2\n",
      "Updating extended object track =  3\n",
      "len(unique_polynoms) 2\n",
      "frame 63\n",
      "33.725944073934876 133.72594407393487\n",
      "(50,) (50,)\n",
      "[[33.72594407]\n",
      " [-8.24622372]] [[ 0.96547583  0.26049267]\n",
      " [-0.26049267  0.96547583]]\n",
      "(100, 2) (100, 2, 2)\n",
      "Number of point tracks before run() 319\n",
      "Number of extended tracks before run() 4\n"
     ]
    },
    {
     "name": "stderr",
     "output_type": "stream",
     "text": [
      "C:\\Users\\gadli\\old_pc\\Tau\\Thesis\\polynoms\\tracker.py:52: VisibleDeprecationWarning: Creating an ndarray from ragged nested sequences (which is a list-or-tuple of lists-or-tuples-or ndarrays with different lengths or shapes) is deprecated. If you meant to do this, you must specify 'dtype=object' when creating the ndarray\n",
      "  Ha = np.array([1, z[0], z[0]**2])\n",
      "C:\\Users\\gadli\\old_pc\\Tau\\Thesis\\polynoms\\tracker.py:75: RuntimeWarning: divide by zero encountered in double_scalars\n",
      "  ratio = np.sqrt(lp)/le\n"
     ]
    },
    {
     "name": "stdout",
     "output_type": "stream",
     "text": [
      "Updating extended object track =  2\n",
      "Updating extended object track =  2\n",
      "Updating extended object track =  0\n",
      "Updating extended object track =  0\n",
      "len(unique_polynoms) 2\n",
      "frame 64\n",
      "34.30841860864242 134.30841860864243\n",
      "(50,) (50,)\n",
      "[[34.30841861]\n",
      " [-8.39949458]] [[ 0.9643366   0.26467891]\n",
      " [-0.26467891  0.9643366 ]]\n",
      "(100, 2) (100, 2, 2)\n",
      "Number of point tracks before run() 321\n",
      "Number of extended tracks before run() 4\n"
     ]
    },
    {
     "name": "stderr",
     "output_type": "stream",
     "text": [
      "C:\\Users\\gadli\\old_pc\\Tau\\Thesis\\polynoms\\tracker.py:52: VisibleDeprecationWarning: Creating an ndarray from ragged nested sequences (which is a list-or-tuple of lists-or-tuples-or ndarrays with different lengths or shapes) is deprecated. If you meant to do this, you must specify 'dtype=object' when creating the ndarray\n",
      "  Ha = np.array([1, z[0], z[0]**2])\n",
      "C:\\Users\\gadli\\old_pc\\Tau\\Thesis\\polynoms\\tracker.py:75: RuntimeWarning: divide by zero encountered in double_scalars\n",
      "  ratio = np.sqrt(lp)/le\n"
     ]
    },
    {
     "name": "stdout",
     "output_type": "stream",
     "text": [
      "Updating extended object track =  2\n",
      "Updating extended object track =  2\n",
      "Updating extended object track =  0\n",
      "Updating extended object track =  2\n",
      "Updating extended object track =  0\n",
      "Updating extended object track =  1\n",
      "len(unique_polynoms) 3\n",
      "frame 65\n",
      "34.8927466238317 134.8927466238317\n",
      "(50,) (50,)\n",
      "[[34.89274662]\n",
      " [-8.55598035]] [[ 0.96317829  0.26886349]\n",
      " [-0.26886349  0.96317829]]\n",
      "(100, 2) (100, 2, 2)\n",
      "Number of point tracks before run() 318\n",
      "Number of extended tracks before run() 4\n"
     ]
    },
    {
     "name": "stderr",
     "output_type": "stream",
     "text": [
      "C:\\Users\\gadli\\old_pc\\Tau\\Thesis\\polynoms\\tracker.py:52: VisibleDeprecationWarning: Creating an ndarray from ragged nested sequences (which is a list-or-tuple of lists-or-tuples-or ndarrays with different lengths or shapes) is deprecated. If you meant to do this, you must specify 'dtype=object' when creating the ndarray\n",
      "  Ha = np.array([1, z[0], z[0]**2])\n",
      "C:\\Users\\gadli\\old_pc\\Tau\\Thesis\\polynoms\\tracker.py:75: RuntimeWarning: divide by zero encountered in double_scalars\n",
      "  ratio = np.sqrt(lp)/le\n"
     ]
    },
    {
     "name": "stdout",
     "output_type": "stream",
     "text": [
      "Updating extended object track =  1\n",
      "Updating extended object track =  3\n",
      "len(unique_polynoms) 2\n",
      "frame 66\n",
      "35.47895193888419 135.4789519388842\n",
      "(50,) (50,)\n",
      "[[35.47895194]\n",
      " [-8.71571356]] [[ 0.9620009   0.27304627]\n",
      " [-0.27304627  0.9620009 ]]\n",
      "(100, 2) (100, 2, 2)\n",
      "Number of point tracks before run() 319\n",
      "Number of extended tracks before run() 4\n"
     ]
    },
    {
     "name": "stderr",
     "output_type": "stream",
     "text": [
      "C:\\Users\\gadli\\old_pc\\Tau\\Thesis\\polynoms\\tracker.py:52: VisibleDeprecationWarning: Creating an ndarray from ragged nested sequences (which is a list-or-tuple of lists-or-tuples-or ndarrays with different lengths or shapes) is deprecated. If you meant to do this, you must specify 'dtype=object' when creating the ndarray\n",
      "  Ha = np.array([1, z[0], z[0]**2])\n",
      "C:\\Users\\gadli\\old_pc\\Tau\\Thesis\\polynoms\\tracker.py:75: RuntimeWarning: divide by zero encountered in double_scalars\n",
      "  ratio = np.sqrt(lp)/le\n"
     ]
    },
    {
     "name": "stdout",
     "output_type": "stream",
     "text": [
      "Updating extended object track =  3\n",
      "Updating extended object track =  0\n",
      "Updating extended object track =  0\n",
      "len(unique_polynoms) 2\n",
      "frame 67\n",
      "36.06705891408876 136.06705891408876\n",
      "(50,) (50,)\n",
      "[[36.06705891]\n",
      " [-8.87872742]] [[ 0.96080442  0.27722712]\n",
      " [-0.27722712  0.96080442]]\n",
      "(100, 2) (100, 2, 2)\n",
      "Number of point tracks before run() 317\n",
      "Number of extended tracks before run() 4\n"
     ]
    },
    {
     "name": "stderr",
     "output_type": "stream",
     "text": [
      "C:\\Users\\gadli\\old_pc\\Tau\\Thesis\\polynoms\\tracker.py:52: VisibleDeprecationWarning: Creating an ndarray from ragged nested sequences (which is a list-or-tuple of lists-or-tuples-or ndarrays with different lengths or shapes) is deprecated. If you meant to do this, you must specify 'dtype=object' when creating the ndarray\n",
      "  Ha = np.array([1, z[0], z[0]**2])\n",
      "C:\\Users\\gadli\\old_pc\\Tau\\Thesis\\polynoms\\tracker.py:75: RuntimeWarning: divide by zero encountered in double_scalars\n",
      "  ratio = np.sqrt(lp)/le\n"
     ]
    },
    {
     "name": "stdout",
     "output_type": "stream",
     "text": [
      "Updating extended object track =  1\n",
      "Updating extended object track =  2\n",
      "Updating extended object track =  0\n",
      "len(unique_polynoms) 3\n",
      "frame 68\n",
      "36.657092468361974 136.65709246836198\n",
      "(50,) (50,)\n",
      "[[36.65709247]\n",
      " [-9.04505588]] [[ 0.95958883  0.28140589]\n",
      " [-0.28140589  0.95958883]]\n",
      "(100, 2) (100, 2, 2)\n",
      "Number of point tracks before run() 304\n",
      "Number of extended tracks before run() 4\n"
     ]
    },
    {
     "name": "stderr",
     "output_type": "stream",
     "text": [
      "C:\\Users\\gadli\\old_pc\\Tau\\Thesis\\polynoms\\tracker.py:52: VisibleDeprecationWarning: Creating an ndarray from ragged nested sequences (which is a list-or-tuple of lists-or-tuples-or ndarrays with different lengths or shapes) is deprecated. If you meant to do this, you must specify 'dtype=object' when creating the ndarray\n",
      "  Ha = np.array([1, z[0], z[0]**2])\n",
      "C:\\Users\\gadli\\old_pc\\Tau\\Thesis\\polynoms\\tracker.py:75: RuntimeWarning: divide by zero encountered in double_scalars\n",
      "  ratio = np.sqrt(lp)/le\n"
     ]
    },
    {
     "name": "stdout",
     "output_type": "stream",
     "text": [
      "Updating extended object track =  0\n",
      "Updating extended object track =  0\n",
      "Updating extended object track =  2\n",
      "len(unique_polynoms) 2\n",
      "frame 69\n",
      "37.249078097730454 137.24907809773046\n",
      "(50,) (50,)\n",
      "[[37.2490781 ]\n",
      " [-9.21473357]] [[ 0.95835414  0.28558247]\n",
      " [-0.28558247  0.95835414]]\n",
      "(100, 2) (100, 2, 2)\n",
      "Number of point tracks before run() 300\n",
      "Number of extended tracks before run() 4\n"
     ]
    },
    {
     "name": "stderr",
     "output_type": "stream",
     "text": [
      "C:\\Users\\gadli\\old_pc\\Tau\\Thesis\\polynoms\\tracker.py:52: VisibleDeprecationWarning: Creating an ndarray from ragged nested sequences (which is a list-or-tuple of lists-or-tuples-or ndarrays with different lengths or shapes) is deprecated. If you meant to do this, you must specify 'dtype=object' when creating the ndarray\n",
      "  Ha = np.array([1, z[0], z[0]**2])\n",
      "C:\\Users\\gadli\\old_pc\\Tau\\Thesis\\polynoms\\tracker.py:75: RuntimeWarning: divide by zero encountered in double_scalars\n",
      "  ratio = np.sqrt(lp)/le\n"
     ]
    },
    {
     "name": "stdout",
     "output_type": "stream",
     "text": [
      "Updating extended object track =  3\n",
      "Updating extended object track =  2\n",
      "Updating extended object track =  0\n",
      "len(unique_polynoms) 3\n",
      "frame 70\n",
      "37.843041894616306 137.8430418946163\n",
      "(50,) (50,)\n",
      "[[37.84304189]\n",
      " [-9.3877959 ]] [[ 0.95710034  0.2897567 ]\n",
      " [-0.2897567   0.95710034]]\n",
      "(100, 2) (100, 2, 2)\n",
      "Number of point tracks before run() 294\n",
      "Number of extended tracks before run() 4\n"
     ]
    },
    {
     "name": "stderr",
     "output_type": "stream",
     "text": [
      "C:\\Users\\gadli\\old_pc\\Tau\\Thesis\\polynoms\\tracker.py:52: VisibleDeprecationWarning: Creating an ndarray from ragged nested sequences (which is a list-or-tuple of lists-or-tuples-or ndarrays with different lengths or shapes) is deprecated. If you meant to do this, you must specify 'dtype=object' when creating the ndarray\n",
      "  Ha = np.array([1, z[0], z[0]**2])\n",
      "C:\\Users\\gadli\\old_pc\\Tau\\Thesis\\polynoms\\tracker.py:75: RuntimeWarning: divide by zero encountered in double_scalars\n",
      "  ratio = np.sqrt(lp)/le\n"
     ]
    },
    {
     "name": "stdout",
     "output_type": "stream",
     "text": [
      "len(unique_polynoms) 0\n",
      "frame 71\n",
      "38.439010567968865 138.43901056796886\n",
      "(50,) (50,)\n",
      "[[38.43901057]\n",
      " [-9.56427904]] [[ 0.95582742  0.29392848]\n",
      " [-0.29392848  0.95582742]]\n",
      "(100, 2) (100, 2, 2)\n",
      "Number of point tracks before run() 307\n",
      "Number of extended tracks before run() 4\n"
     ]
    },
    {
     "name": "stderr",
     "output_type": "stream",
     "text": [
      "C:\\Users\\gadli\\old_pc\\Tau\\Thesis\\polynoms\\tracker.py:52: VisibleDeprecationWarning: Creating an ndarray from ragged nested sequences (which is a list-or-tuple of lists-or-tuples-or ndarrays with different lengths or shapes) is deprecated. If you meant to do this, you must specify 'dtype=object' when creating the ndarray\n",
      "  Ha = np.array([1, z[0], z[0]**2])\n",
      "C:\\Users\\gadli\\old_pc\\Tau\\Thesis\\polynoms\\tracker.py:75: RuntimeWarning: divide by zero encountered in double_scalars\n",
      "  ratio = np.sqrt(lp)/le\n"
     ]
    },
    {
     "name": "stdout",
     "output_type": "stream",
     "text": [
      "Updating extended object track =  0\n",
      "len(unique_polynoms) 1\n",
      "frame 72\n",
      "39.03701146428873 139.03701146428872\n",
      "(50,) (50,)\n",
      "[[39.03701146]\n",
      " [-9.74421995]] [[ 0.95453537  0.29809767]\n",
      " [-0.29809767  0.95453537]]\n",
      "(100, 2) (100, 2, 2)\n",
      "Number of point tracks before run() 302\n",
      "Number of extended tracks before run() 4\n"
     ]
    },
    {
     "name": "stderr",
     "output_type": "stream",
     "text": [
      "C:\\Users\\gadli\\old_pc\\Tau\\Thesis\\polynoms\\tracker.py:52: VisibleDeprecationWarning: Creating an ndarray from ragged nested sequences (which is a list-or-tuple of lists-or-tuples-or ndarrays with different lengths or shapes) is deprecated. If you meant to do this, you must specify 'dtype=object' when creating the ndarray\n",
      "  Ha = np.array([1, z[0], z[0]**2])\n",
      "C:\\Users\\gadli\\old_pc\\Tau\\Thesis\\polynoms\\tracker.py:75: RuntimeWarning: divide by zero encountered in double_scalars\n",
      "  ratio = np.sqrt(lp)/le\n"
     ]
    },
    {
     "name": "stdout",
     "output_type": "stream",
     "text": [
      "i_trk 1 self.frame_idx 73 trk.getLastUpdateFrameIdx() 68\n",
      "len(unique_polynoms) 0\n",
      "frame 73\n",
      "39.637072589593714 139.6370725895937\n",
      "(50,) (50,)\n",
      "[[39.63707259]\n",
      " [-9.92765644]] [[ 0.95322421  0.30226414]\n",
      " [-0.30226414  0.95322421]]\n",
      "(100, 2) (100, 2, 2)\n",
      "Number of point tracks before run() 311\n",
      "Number of extended tracks before run() 3\n"
     ]
    },
    {
     "name": "stderr",
     "output_type": "stream",
     "text": [
      "C:\\Users\\gadli\\old_pc\\Tau\\Thesis\\polynoms\\tracker.py:52: VisibleDeprecationWarning: Creating an ndarray from ragged nested sequences (which is a list-or-tuple of lists-or-tuples-or ndarrays with different lengths or shapes) is deprecated. If you meant to do this, you must specify 'dtype=object' when creating the ndarray\n",
      "  Ha = np.array([1, z[0], z[0]**2])\n",
      "C:\\Users\\gadli\\old_pc\\Tau\\Thesis\\polynoms\\tracker.py:75: RuntimeWarning: divide by zero encountered in double_scalars\n",
      "  ratio = np.sqrt(lp)/le\n"
     ]
    },
    {
     "name": "stdout",
     "output_type": "stream",
     "text": [
      "Updating extended object track =  0\n",
      "Updating extended object track =  1\n",
      "Updating extended object track =  1\n",
      "Updating extended object track =  2\n",
      "Updating extended object track =  0\n",
      "len(unique_polynoms) 3\n",
      "frame 74\n",
      "40.23922263237878 140.23922263237878\n",
      "(50,) (50,)\n",
      "[[ 40.23922263]\n",
      " [-10.11462715]] [[ 0.95189391  0.30642777]\n",
      " [-0.30642777  0.95189391]]\n",
      "(100, 2) (100, 2, 2)\n",
      "Number of point tracks before run() 312\n",
      "Number of extended tracks before run() 3\n"
     ]
    },
    {
     "name": "stderr",
     "output_type": "stream",
     "text": [
      "C:\\Users\\gadli\\old_pc\\Tau\\Thesis\\polynoms\\tracker.py:52: VisibleDeprecationWarning: Creating an ndarray from ragged nested sequences (which is a list-or-tuple of lists-or-tuples-or ndarrays with different lengths or shapes) is deprecated. If you meant to do this, you must specify 'dtype=object' when creating the ndarray\n",
      "  Ha = np.array([1, z[0], z[0]**2])\n",
      "C:\\Users\\gadli\\old_pc\\Tau\\Thesis\\polynoms\\tracker.py:75: RuntimeWarning: divide by zero encountered in double_scalars\n",
      "  ratio = np.sqrt(lp)/le\n"
     ]
    },
    {
     "name": "stdout",
     "output_type": "stream",
     "text": [
      "Updating extended object track =  2\n",
      "Updating extended object track =  1\n",
      "len(unique_polynoms) 2\n",
      "frame 75\n",
      "40.843490987626005 140.843490987626\n",
      "(50,) (50,)\n",
      "[[ 40.84349099]\n",
      " [-10.30517161]] [[ 0.95054449  0.31058844]\n",
      " [-0.31058844  0.95054449]]\n",
      "(100, 2) (100, 2, 2)\n",
      "Number of point tracks before run() 313\n",
      "Number of extended tracks before run() 4\n"
     ]
    },
    {
     "name": "stderr",
     "output_type": "stream",
     "text": [
      "C:\\Users\\gadli\\old_pc\\Tau\\Thesis\\polynoms\\tracker.py:52: VisibleDeprecationWarning: Creating an ndarray from ragged nested sequences (which is a list-or-tuple of lists-or-tuples-or ndarrays with different lengths or shapes) is deprecated. If you meant to do this, you must specify 'dtype=object' when creating the ndarray\n",
      "  Ha = np.array([1, z[0], z[0]**2])\n",
      "C:\\Users\\gadli\\old_pc\\Tau\\Thesis\\polynoms\\tracker.py:75: RuntimeWarning: divide by zero encountered in double_scalars\n",
      "  ratio = np.sqrt(lp)/le\n"
     ]
    },
    {
     "name": "stdout",
     "output_type": "stream",
     "text": [
      "Updating extended object track =  1\n",
      "len(unique_polynoms) 1\n",
      "frame 76\n",
      "41.4499077819246 141.4499077819246\n",
      "(50,) (50,)\n",
      "[[ 41.44990778]\n",
      " [-10.49933025]] [[ 0.94917592  0.31474604]\n",
      " [-0.31474604  0.94917592]]\n",
      "(100, 2) (100, 2, 2)\n",
      "Number of point tracks before run() 309\n",
      "Number of extended tracks before run() 4\n"
     ]
    },
    {
     "name": "stderr",
     "output_type": "stream",
     "text": [
      "C:\\Users\\gadli\\old_pc\\Tau\\Thesis\\polynoms\\tracker.py:52: VisibleDeprecationWarning: Creating an ndarray from ragged nested sequences (which is a list-or-tuple of lists-or-tuples-or ndarrays with different lengths or shapes) is deprecated. If you meant to do this, you must specify 'dtype=object' when creating the ndarray\n",
      "  Ha = np.array([1, z[0], z[0]**2])\n",
      "C:\\Users\\gadli\\old_pc\\Tau\\Thesis\\polynoms\\tracker.py:75: RuntimeWarning: divide by zero encountered in double_scalars\n",
      "  ratio = np.sqrt(lp)/le\n"
     ]
    },
    {
     "name": "stdout",
     "output_type": "stream",
     "text": [
      "Updating extended object track =  3\n",
      "len(unique_polynoms) 1\n",
      "frame 77\n",
      "42.05850389976434 142.05850389976433\n",
      "(50,) (50,)\n",
      "[[ 42.0585039 ]\n",
      " [-10.69714447]] [[ 0.94778822  0.31890044]\n",
      " [-0.31890044  0.94778822]]\n",
      "(100, 2) (100, 2, 2)\n",
      "Number of point tracks before run() 320\n",
      "Number of extended tracks before run() 4\n"
     ]
    },
    {
     "name": "stderr",
     "output_type": "stream",
     "text": [
      "C:\\Users\\gadli\\old_pc\\Tau\\Thesis\\polynoms\\tracker.py:52: VisibleDeprecationWarning: Creating an ndarray from ragged nested sequences (which is a list-or-tuple of lists-or-tuples-or ndarrays with different lengths or shapes) is deprecated. If you meant to do this, you must specify 'dtype=object' when creating the ndarray\n",
      "  Ha = np.array([1, z[0], z[0]**2])\n",
      "C:\\Users\\gadli\\old_pc\\Tau\\Thesis\\polynoms\\tracker.py:75: RuntimeWarning: divide by zero encountered in double_scalars\n",
      "  ratio = np.sqrt(lp)/le\n"
     ]
    },
    {
     "name": "stdout",
     "output_type": "stream",
     "text": [
      "Updating extended object track =  3\n",
      "Updating extended object track =  1\n",
      "Updating extended object track =  0\n",
      "len(unique_polynoms) 3\n",
      "frame 78\n",
      "42.66931101107098 142.669311011071\n",
      "(50,) (50,)\n",
      "[[ 42.66931101]\n",
      " [-10.89865661]] [[ 0.94638138  0.32305153]\n",
      " [-0.32305153  0.94638138]]\n",
      "(100, 2) (100, 2, 2)\n",
      "Number of point tracks before run() 316\n",
      "Number of extended tracks before run() 4\n"
     ]
    },
    {
     "name": "stderr",
     "output_type": "stream",
     "text": [
      "C:\\Users\\gadli\\old_pc\\Tau\\Thesis\\polynoms\\tracker.py:52: VisibleDeprecationWarning: Creating an ndarray from ragged nested sequences (which is a list-or-tuple of lists-or-tuples-or ndarrays with different lengths or shapes) is deprecated. If you meant to do this, you must specify 'dtype=object' when creating the ndarray\n",
      "  Ha = np.array([1, z[0], z[0]**2])\n",
      "C:\\Users\\gadli\\old_pc\\Tau\\Thesis\\polynoms\\tracker.py:75: RuntimeWarning: divide by zero encountered in double_scalars\n",
      "  ratio = np.sqrt(lp)/le\n"
     ]
    },
    {
     "name": "stdout",
     "output_type": "stream",
     "text": [
      "Updating extended object track =  1\n",
      "Updating extended object track =  2\n",
      "Updating extended object track =  3\n",
      "len(unique_polynoms) 3\n",
      "frame 79\n",
      "43.28236160005657 143.28236160005656\n",
      "(50,) (50,)\n",
      "[[ 43.2823616 ]\n",
      " [-11.10391005]] [[ 0.94495539  0.32719921]\n",
      " [-0.32719921  0.94495539]]\n",
      "(100, 2) (100, 2, 2)\n",
      "Number of point tracks before run() 309\n",
      "Number of extended tracks before run() 4\n"
     ]
    },
    {
     "name": "stderr",
     "output_type": "stream",
     "text": [
      "C:\\Users\\gadli\\old_pc\\Tau\\Thesis\\polynoms\\tracker.py:52: VisibleDeprecationWarning: Creating an ndarray from ragged nested sequences (which is a list-or-tuple of lists-or-tuples-or ndarrays with different lengths or shapes) is deprecated. If you meant to do this, you must specify 'dtype=object' when creating the ndarray\n",
      "  Ha = np.array([1, z[0], z[0]**2])\n",
      "C:\\Users\\gadli\\old_pc\\Tau\\Thesis\\polynoms\\tracker.py:75: RuntimeWarning: divide by zero encountered in double_scalars\n",
      "  ratio = np.sqrt(lp)/le\n"
     ]
    },
    {
     "name": "stdout",
     "output_type": "stream",
     "text": [
      "Updating extended object track =  3\n",
      "len(unique_polynoms) 1\n",
      "frame 80\n",
      "43.89768899546269 143.8976889954627\n",
      "(50,) (50,)\n",
      "[[ 43.897689 ]\n",
      " [-11.3129492]] [[ 0.94351024  0.33134335]\n",
      " [-0.33134335  0.94351024]]\n",
      "(100, 2) (100, 2, 2)\n",
      "Number of point tracks before run() 308\n",
      "Number of extended tracks before run() 4\n"
     ]
    },
    {
     "name": "stderr",
     "output_type": "stream",
     "text": [
      "C:\\Users\\gadli\\old_pc\\Tau\\Thesis\\polynoms\\tracker.py:52: VisibleDeprecationWarning: Creating an ndarray from ragged nested sequences (which is a list-or-tuple of lists-or-tuples-or ndarrays with different lengths or shapes) is deprecated. If you meant to do this, you must specify 'dtype=object' when creating the ndarray\n",
      "  Ha = np.array([1, z[0], z[0]**2])\n",
      "C:\\Users\\gadli\\old_pc\\Tau\\Thesis\\polynoms\\tracker.py:75: RuntimeWarning: divide by zero encountered in double_scalars\n",
      "  ratio = np.sqrt(lp)/le\n"
     ]
    },
    {
     "name": "stdout",
     "output_type": "stream",
     "text": [
      "Updating extended object track =  1\n",
      "Updating extended object track =  0\n",
      "Updating extended object track =  3\n",
      "Updating extended object track =  1\n",
      "len(unique_polynoms) 3\n",
      "frame 81\n",
      "44.51532740228046 144.51532740228046\n",
      "(50,) (50,)\n",
      "[[ 44.5153274 ]\n",
      " [-11.52581955]] [[ 0.94204595  0.33548387]\n",
      " [-0.33548387  0.94204595]]\n",
      "(100, 2) (100, 2, 2)\n",
      "Number of point tracks before run() 306\n",
      "Number of extended tracks before run() 4\n"
     ]
    },
    {
     "name": "stderr",
     "output_type": "stream",
     "text": [
      "C:\\Users\\gadli\\old_pc\\Tau\\Thesis\\polynoms\\tracker.py:52: VisibleDeprecationWarning: Creating an ndarray from ragged nested sequences (which is a list-or-tuple of lists-or-tuples-or ndarrays with different lengths or shapes) is deprecated. If you meant to do this, you must specify 'dtype=object' when creating the ndarray\n",
      "  Ha = np.array([1, z[0], z[0]**2])\n",
      "C:\\Users\\gadli\\old_pc\\Tau\\Thesis\\polynoms\\tracker.py:75: RuntimeWarning: divide by zero encountered in double_scalars\n",
      "  ratio = np.sqrt(lp)/le\n"
     ]
    },
    {
     "name": "stdout",
     "output_type": "stream",
     "text": [
      "Updating extended object track =  3\n",
      "len(unique_polynoms) 1\n",
      "frame 82\n",
      "45.13531193503703 145.13531193503704\n",
      "(50,) (50,)\n",
      "[[ 45.13531194]\n",
      " [-11.74256773]] [[ 0.9405625   0.33962065]\n",
      " [-0.33962065  0.9405625 ]]\n",
      "(100, 2) (100, 2, 2)\n",
      "Number of point tracks before run() 307\n",
      "Number of extended tracks before run() 4\n"
     ]
    },
    {
     "name": "stderr",
     "output_type": "stream",
     "text": [
      "C:\\Users\\gadli\\old_pc\\Tau\\Thesis\\polynoms\\tracker.py:52: VisibleDeprecationWarning: Creating an ndarray from ragged nested sequences (which is a list-or-tuple of lists-or-tuples-or ndarrays with different lengths or shapes) is deprecated. If you meant to do this, you must specify 'dtype=object' when creating the ndarray\n",
      "  Ha = np.array([1, z[0], z[0]**2])\n",
      "C:\\Users\\gadli\\old_pc\\Tau\\Thesis\\polynoms\\tracker.py:75: RuntimeWarning: divide by zero encountered in double_scalars\n",
      "  ratio = np.sqrt(lp)/le\n"
     ]
    },
    {
     "name": "stdout",
     "output_type": "stream",
     "text": [
      "Updating extended object track =  3\n",
      "len(unique_polynoms) 1\n",
      "frame 83\n",
      "45.75767865274473 145.75767865274474\n",
      "(50,) (50,)\n",
      "[[ 45.75767865]\n",
      " [-11.96324151]] [[ 0.93905988  0.3437536 ]\n",
      " [-0.3437536   0.93905988]]\n",
      "(100, 2) (100, 2, 2)\n",
      "Number of point tracks before run() 338\n",
      "Number of extended tracks before run() 4\n"
     ]
    },
    {
     "name": "stderr",
     "output_type": "stream",
     "text": [
      "C:\\Users\\gadli\\old_pc\\Tau\\Thesis\\polynoms\\tracker.py:52: VisibleDeprecationWarning: Creating an ndarray from ragged nested sequences (which is a list-or-tuple of lists-or-tuples-or ndarrays with different lengths or shapes) is deprecated. If you meant to do this, you must specify 'dtype=object' when creating the ndarray\n",
      "  Ha = np.array([1, z[0], z[0]**2])\n",
      "C:\\Users\\gadli\\old_pc\\Tau\\Thesis\\polynoms\\tracker.py:75: RuntimeWarning: divide by zero encountered in double_scalars\n",
      "  ratio = np.sqrt(lp)/le\n"
     ]
    },
    {
     "name": "stdout",
     "output_type": "stream",
     "text": [
      "Updating extended object track =  1\n",
      "Updating extended object track =  0\n",
      "Updating extended object track =  1\n",
      "i_trk 2 self.frame_idx 84 trk.getLastUpdateFrameIdx() 79\n",
      "len(unique_polynoms) 2\n",
      "frame 84\n",
      "46.38246459561672 146.3824645956167\n",
      "(50,) (50,)\n",
      "[[ 46.3824646 ]\n",
      " [-12.18788991]] [[ 0.9375381   0.34788262]\n",
      " [-0.34788262  0.9375381 ]]\n",
      "(100, 2) (100, 2, 2)\n",
      "Number of point tracks before run() 331\n",
      "Number of extended tracks before run() 3\n"
     ]
    },
    {
     "name": "stderr",
     "output_type": "stream",
     "text": [
      "C:\\Users\\gadli\\old_pc\\Tau\\Thesis\\polynoms\\tracker.py:52: VisibleDeprecationWarning: Creating an ndarray from ragged nested sequences (which is a list-or-tuple of lists-or-tuples-or ndarrays with different lengths or shapes) is deprecated. If you meant to do this, you must specify 'dtype=object' when creating the ndarray\n",
      "  Ha = np.array([1, z[0], z[0]**2])\n",
      "C:\\Users\\gadli\\old_pc\\Tau\\Thesis\\polynoms\\tracker.py:75: RuntimeWarning: divide by zero encountered in double_scalars\n",
      "  ratio = np.sqrt(lp)/le\n"
     ]
    },
    {
     "name": "stdout",
     "output_type": "stream",
     "text": [
      "len(unique_polynoms) 0\n",
      "frame 85\n",
      "47.00970782365967 147.00970782365965\n",
      "(50,) (50,)\n",
      "[[ 47.00970782]\n",
      " [-12.41656315]] [[ 0.93599714  0.35200762]\n",
      " [-0.35200762  0.93599714]]\n",
      "(100, 2) (100, 2, 2)\n",
      "Number of point tracks before run() 327\n",
      "Number of extended tracks before run() 4\n"
     ]
    },
    {
     "name": "stderr",
     "output_type": "stream",
     "text": [
      "C:\\Users\\gadli\\old_pc\\Tau\\Thesis\\polynoms\\tracker.py:52: VisibleDeprecationWarning: Creating an ndarray from ragged nested sequences (which is a list-or-tuple of lists-or-tuples-or ndarrays with different lengths or shapes) is deprecated. If you meant to do this, you must specify 'dtype=object' when creating the ndarray\n",
      "  Ha = np.array([1, z[0], z[0]**2])\n",
      "C:\\Users\\gadli\\old_pc\\Tau\\Thesis\\polynoms\\tracker.py:75: RuntimeWarning: divide by zero encountered in double_scalars\n",
      "  ratio = np.sqrt(lp)/le\n"
     ]
    },
    {
     "name": "stdout",
     "output_type": "stream",
     "text": [
      "Updating extended object track =  2\n",
      "Updating extended object track =  2\n",
      "Updating extended object track =  2\n",
      "len(unique_polynoms) 1\n",
      "frame 86\n",
      "47.63944745726357 147.63944745726357\n",
      "(50,) (50,)\n",
      "[[ 47.63944746]\n",
      " [-12.64931279]] [[ 0.93443699  0.3561285 ]\n",
      " [-0.3561285   0.93443699]]\n",
      "(100, 2) (100, 2, 2)\n",
      "Number of point tracks before run() 309\n",
      "Number of extended tracks before run() 4\n"
     ]
    },
    {
     "name": "stderr",
     "output_type": "stream",
     "text": [
      "C:\\Users\\gadli\\old_pc\\Tau\\Thesis\\polynoms\\tracker.py:52: VisibleDeprecationWarning: Creating an ndarray from ragged nested sequences (which is a list-or-tuple of lists-or-tuples-or ndarrays with different lengths or shapes) is deprecated. If you meant to do this, you must specify 'dtype=object' when creating the ndarray\n",
      "  Ha = np.array([1, z[0], z[0]**2])\n",
      "C:\\Users\\gadli\\old_pc\\Tau\\Thesis\\polynoms\\tracker.py:75: RuntimeWarning: divide by zero encountered in double_scalars\n",
      "  ratio = np.sqrt(lp)/le\n"
     ]
    },
    {
     "name": "stdout",
     "output_type": "stream",
     "text": [
      "len(unique_polynoms) 0\n",
      "frame 87\n",
      "48.27172371991718 148.2717237199172\n",
      "(50,) (50,)\n",
      "[[ 48.27172372]\n",
      " [-12.88619173]] [[ 0.93285766  0.36024518]\n",
      " [-0.36024518  0.93285766]]\n",
      "(100, 2) (100, 2, 2)\n",
      "Number of point tracks before run() 305\n",
      "Number of extended tracks before run() 4\n"
     ]
    },
    {
     "name": "stderr",
     "output_type": "stream",
     "text": [
      "C:\\Users\\gadli\\old_pc\\Tau\\Thesis\\polynoms\\tracker.py:52: VisibleDeprecationWarning: Creating an ndarray from ragged nested sequences (which is a list-or-tuple of lists-or-tuples-or ndarrays with different lengths or shapes) is deprecated. If you meant to do this, you must specify 'dtype=object' when creating the ndarray\n",
      "  Ha = np.array([1, z[0], z[0]**2])\n"
     ]
    },
    {
     "name": "stdout",
     "output_type": "stream",
     "text": [
      "Updating extended object track =  1\n"
     ]
    },
    {
     "name": "stderr",
     "output_type": "stream",
     "text": [
      "C:\\Users\\gadli\\old_pc\\Tau\\Thesis\\polynoms\\tracker.py:75: RuntimeWarning: divide by zero encountered in double_scalars\n",
      "  ratio = np.sqrt(lp)/le\n"
     ]
    },
    {
     "name": "stdout",
     "output_type": "stream",
     "text": [
      "len(unique_polynoms) 1\n",
      "frame 88\n",
      "48.90657798318769 148.90657798318767\n",
      "(50,) (50,)\n",
      "[[ 48.90657798]\n",
      " [-13.12725428]] [[ 0.93125912  0.36435758]\n",
      " [-0.36435758  0.93125912]]\n",
      "(100, 2) (100, 2, 2)\n",
      "Number of point tracks before run() 324\n",
      "Number of extended tracks before run() 4\n"
     ]
    },
    {
     "name": "stderr",
     "output_type": "stream",
     "text": [
      "C:\\Users\\gadli\\old_pc\\Tau\\Thesis\\polynoms\\tracker.py:52: VisibleDeprecationWarning: Creating an ndarray from ragged nested sequences (which is a list-or-tuple of lists-or-tuples-or ndarrays with different lengths or shapes) is deprecated. If you meant to do this, you must specify 'dtype=object' when creating the ndarray\n",
      "  Ha = np.array([1, z[0], z[0]**2])\n",
      "C:\\Users\\gadli\\old_pc\\Tau\\Thesis\\polynoms\\tracker.py:75: RuntimeWarning: divide by zero encountered in double_scalars\n",
      "  ratio = np.sqrt(lp)/le\n"
     ]
    },
    {
     "name": "stdout",
     "output_type": "stream",
     "text": [
      "Updating extended object track =  2\n",
      "i_trk 0 self.frame_idx 89 trk.getLastUpdateFrameIdx() 84\n",
      "len(unique_polynoms) 1\n",
      "frame 89\n",
      "49.544052814114394 149.5440528141144\n",
      "(50,) (50,)\n",
      "[[ 49.54405281]\n",
      " [-13.3725562 ]] [[ 0.92964138  0.36846561]\n",
      " [-0.36846561  0.92964138]]\n",
      "(100, 2) (100, 2, 2)\n",
      "Number of point tracks before run() 320\n",
      "Number of extended tracks before run() 3\n"
     ]
    },
    {
     "name": "stderr",
     "output_type": "stream",
     "text": [
      "C:\\Users\\gadli\\old_pc\\Tau\\Thesis\\polynoms\\tracker.py:52: VisibleDeprecationWarning: Creating an ndarray from ragged nested sequences (which is a list-or-tuple of lists-or-tuples-or ndarrays with different lengths or shapes) is deprecated. If you meant to do this, you must specify 'dtype=object' when creating the ndarray\n",
      "  Ha = np.array([1, z[0], z[0]**2])\n"
     ]
    },
    {
     "name": "stdout",
     "output_type": "stream",
     "text": [
      "Updating extended object track =  1\n",
      "Updating extended object track =  1\n"
     ]
    },
    {
     "name": "stderr",
     "output_type": "stream",
     "text": [
      "C:\\Users\\gadli\\old_pc\\Tau\\Thesis\\polynoms\\tracker.py:75: RuntimeWarning: divide by zero encountered in double_scalars\n",
      "  ratio = np.sqrt(lp)/le\n"
     ]
    },
    {
     "name": "stdout",
     "output_type": "stream",
     "text": [
      "i_trk 2 self.frame_idx 90 trk.getLastUpdateFrameIdx() 85\n",
      "len(unique_polynoms) 1\n",
      "frame 90\n",
      "50.184192025177595 150.1841920251776\n",
      "(50,) (50,)\n",
      "[[ 50.18419203]\n",
      " [-13.62215479]] [[ 0.92800441  0.37256921]\n",
      " [-0.37256921  0.92800441]]\n",
      "(100, 2) (100, 2, 2)\n",
      "Number of point tracks before run() 325\n",
      "Number of extended tracks before run() 2\n"
     ]
    },
    {
     "name": "stderr",
     "output_type": "stream",
     "text": [
      "C:\\Users\\gadli\\old_pc\\Tau\\Thesis\\polynoms\\tracker.py:52: VisibleDeprecationWarning: Creating an ndarray from ragged nested sequences (which is a list-or-tuple of lists-or-tuples-or ndarrays with different lengths or shapes) is deprecated. If you meant to do this, you must specify 'dtype=object' when creating the ndarray\n",
      "  Ha = np.array([1, z[0], z[0]**2])\n",
      "C:\\Users\\gadli\\old_pc\\Tau\\Thesis\\polynoms\\tracker.py:75: RuntimeWarning: divide by zero encountered in double_scalars\n",
      "  ratio = np.sqrt(lp)/le\n"
     ]
    },
    {
     "name": "stdout",
     "output_type": "stream",
     "text": [
      "Updating extended object track =  1\n",
      "Updating extended object track =  0\n",
      "Updating extended object track =  0\n",
      "Updating extended object track =  0\n",
      "Updating extended object track =  1\n",
      "Updating extended object track =  1\n",
      "Updating extended object track =  0\n",
      "len(unique_polynoms) 2\n",
      "frame 91\n",
      "50.82704072701739 150.8270407270174\n",
      "(50,) (50,)\n",
      "[[ 50.82704073]\n",
      " [-13.87610891]] [[ 0.9263482  0.3766683]\n",
      " [-0.3766683  0.9263482]]\n",
      "(100, 2) (100, 2, 2)\n",
      "Number of point tracks before run() 316\n",
      "Number of extended tracks before run() 2\n"
     ]
    },
    {
     "name": "stderr",
     "output_type": "stream",
     "text": [
      "C:\\Users\\gadli\\old_pc\\Tau\\Thesis\\polynoms\\tracker.py:52: VisibleDeprecationWarning: Creating an ndarray from ragged nested sequences (which is a list-or-tuple of lists-or-tuples-or ndarrays with different lengths or shapes) is deprecated. If you meant to do this, you must specify 'dtype=object' when creating the ndarray\n",
      "  Ha = np.array([1, z[0], z[0]**2])\n",
      "C:\\Users\\gadli\\old_pc\\Tau\\Thesis\\polynoms\\tracker.py:75: RuntimeWarning: divide by zero encountered in double_scalars\n",
      "  ratio = np.sqrt(lp)/le\n"
     ]
    },
    {
     "name": "stdout",
     "output_type": "stream",
     "text": [
      "len(unique_polynoms) 0\n",
      "frame 92\n",
      "51.47264538409068 151.4726453840907\n",
      "(50,) (50,)\n",
      "[[ 51.47264538]\n",
      " [-14.13447908]] [[ 0.92467274  0.38076282]\n",
      " [-0.38076282  0.92467274]]\n",
      "(100, 2) (100, 2, 2)\n",
      "Number of point tracks before run() 310\n",
      "Number of extended tracks before run() 2\n"
     ]
    },
    {
     "name": "stderr",
     "output_type": "stream",
     "text": [
      "C:\\Users\\gadli\\old_pc\\Tau\\Thesis\\polynoms\\tracker.py:52: VisibleDeprecationWarning: Creating an ndarray from ragged nested sequences (which is a list-or-tuple of lists-or-tuples-or ndarrays with different lengths or shapes) is deprecated. If you meant to do this, you must specify 'dtype=object' when creating the ndarray\n",
      "  Ha = np.array([1, z[0], z[0]**2])\n"
     ]
    },
    {
     "name": "stdout",
     "output_type": "stream",
     "text": [
      "Updating extended object track =  1\n",
      "Updating extended object track =  1\n",
      "Updating extended object track =  0\n",
      "Updating extended object track =  1\n"
     ]
    },
    {
     "name": "stderr",
     "output_type": "stream",
     "text": [
      "C:\\Users\\gadli\\old_pc\\Tau\\Thesis\\polynoms\\tracker.py:75: RuntimeWarning: divide by zero encountered in double_scalars\n",
      "  ratio = np.sqrt(lp)/le\n"
     ]
    },
    {
     "name": "stdout",
     "output_type": "stream",
     "text": [
      "len(unique_polynoms) 2\n",
      "frame 93\n",
      "52.12105387347092 152.1210538734709\n",
      "(50,) (50,)\n",
      "[[ 52.12105387]\n",
      " [-14.39732754]] [[ 0.92297801  0.38485269]\n",
      " [-0.38485269  0.92297801]]\n",
      "(100, 2) (100, 2, 2)\n",
      "Number of point tracks before run() 319\n",
      "Number of extended tracks before run() 2\n"
     ]
    },
    {
     "name": "stderr",
     "output_type": "stream",
     "text": [
      "C:\\Users\\gadli\\old_pc\\Tau\\Thesis\\polynoms\\tracker.py:52: VisibleDeprecationWarning: Creating an ndarray from ragged nested sequences (which is a list-or-tuple of lists-or-tuples-or ndarrays with different lengths or shapes) is deprecated. If you meant to do this, you must specify 'dtype=object' when creating the ndarray\n",
      "  Ha = np.array([1, z[0], z[0]**2])\n",
      "C:\\Users\\gadli\\old_pc\\Tau\\Thesis\\polynoms\\tracker.py:75: RuntimeWarning: divide by zero encountered in double_scalars\n",
      "  ratio = np.sqrt(lp)/le\n"
     ]
    },
    {
     "name": "stdout",
     "output_type": "stream",
     "text": [
      "len(unique_polynoms) 0\n",
      "frame 94\n",
      "52.77231554701169 152.7723155470117\n",
      "(50,) (50,)\n",
      "[[ 52.77231555]\n",
      " [-14.66471831]] [[ 0.92126399  0.38893787]\n",
      " [-0.38893787  0.92126399]]\n",
      "(100, 2) (100, 2, 2)\n",
      "Number of point tracks before run() 327\n",
      "Number of extended tracks before run() 2\n"
     ]
    },
    {
     "name": "stderr",
     "output_type": "stream",
     "text": [
      "C:\\Users\\gadli\\old_pc\\Tau\\Thesis\\polynoms\\tracker.py:52: VisibleDeprecationWarning: Creating an ndarray from ragged nested sequences (which is a list-or-tuple of lists-or-tuples-or ndarrays with different lengths or shapes) is deprecated. If you meant to do this, you must specify 'dtype=object' when creating the ndarray\n",
      "  Ha = np.array([1, z[0], z[0]**2])\n",
      "C:\\Users\\gadli\\old_pc\\Tau\\Thesis\\polynoms\\tracker.py:75: RuntimeWarning: divide by zero encountered in double_scalars\n",
      "  ratio = np.sqrt(lp)/le\n"
     ]
    },
    {
     "name": "stdout",
     "output_type": "stream",
     "text": [
      "Updating extended object track =  1\n",
      "len(unique_polynoms) 1\n",
      "frame 95\n",
      "53.42648129711415 153.42648129711415\n",
      "(50,) (50,)\n",
      "[[ 53.4264813 ]\n",
      " [-14.93671728]] [[ 0.91953065  0.3930183 ]\n",
      " [-0.3930183   0.91953065]]\n",
      "(100, 2) (100, 2, 2)\n",
      "Number of point tracks before run() 329\n",
      "Number of extended tracks before run() 2\n"
     ]
    },
    {
     "name": "stderr",
     "output_type": "stream",
     "text": [
      "C:\\Users\\gadli\\old_pc\\Tau\\Thesis\\polynoms\\tracker.py:52: VisibleDeprecationWarning: Creating an ndarray from ragged nested sequences (which is a list-or-tuple of lists-or-tuples-or ndarrays with different lengths or shapes) is deprecated. If you meant to do this, you must specify 'dtype=object' when creating the ndarray\n",
      "  Ha = np.array([1, z[0], z[0]**2])\n",
      "C:\\Users\\gadli\\old_pc\\Tau\\Thesis\\polynoms\\tracker.py:75: RuntimeWarning: divide by zero encountered in double_scalars\n",
      "  ratio = np.sqrt(lp)/le\n"
     ]
    },
    {
     "name": "stdout",
     "output_type": "stream",
     "text": [
      "Updating extended object track =  1\n",
      "Updating extended object track =  1\n",
      "Updating extended object track =  1\n",
      "Updating extended object track =  0\n",
      "Updating extended object track =  1\n",
      "len(unique_polynoms) 2\n",
      "frame 96\n",
      "54.083603626359135 154.08360362635915\n",
      "(50,) (50,)\n",
      "[[ 54.08360363]\n",
      " [-15.21339229]] [[ 0.91777798  0.39709392]\n",
      " [-0.39709392  0.91777798]]\n",
      "(100, 2) (100, 2, 2)\n",
      "Number of point tracks before run() 317\n",
      "Number of extended tracks before run() 2\n"
     ]
    },
    {
     "name": "stderr",
     "output_type": "stream",
     "text": [
      "C:\\Users\\gadli\\old_pc\\Tau\\Thesis\\polynoms\\tracker.py:52: VisibleDeprecationWarning: Creating an ndarray from ragged nested sequences (which is a list-or-tuple of lists-or-tuples-or ndarrays with different lengths or shapes) is deprecated. If you meant to do this, you must specify 'dtype=object' when creating the ndarray\n",
      "  Ha = np.array([1, z[0], z[0]**2])\n",
      "C:\\Users\\gadli\\old_pc\\Tau\\Thesis\\polynoms\\tracker.py:75: RuntimeWarning: divide by zero encountered in double_scalars\n",
      "  ratio = np.sqrt(lp)/le\n"
     ]
    },
    {
     "name": "stdout",
     "output_type": "stream",
     "text": [
      "Updating extended object track =  1\n",
      "len(unique_polynoms) 1\n",
      "frame 97\n",
      "54.74373672128703 154.74373672128704\n",
      "(50,) (50,)\n",
      "[[ 54.74373672]\n",
      " [-15.49481321]] [[ 0.91600594  0.4011647 ]\n",
      " [-0.4011647   0.91600594]]\n",
      "(100, 2) (100, 2, 2)\n",
      "Number of point tracks before run() 328\n",
      "Number of extended tracks before run() 2\n"
     ]
    },
    {
     "name": "stderr",
     "output_type": "stream",
     "text": [
      "C:\\Users\\gadli\\old_pc\\Tau\\Thesis\\polynoms\\tracker.py:52: VisibleDeprecationWarning: Creating an ndarray from ragged nested sequences (which is a list-or-tuple of lists-or-tuples-or ndarrays with different lengths or shapes) is deprecated. If you meant to do this, you must specify 'dtype=object' when creating the ndarray\n",
      "  Ha = np.array([1, z[0], z[0]**2])\n",
      "C:\\Users\\gadli\\old_pc\\Tau\\Thesis\\polynoms\\tracker.py:75: RuntimeWarning: divide by zero encountered in double_scalars\n",
      "  ratio = np.sqrt(lp)/le\n"
     ]
    },
    {
     "name": "stdout",
     "output_type": "stream",
     "text": [
      "Updating extended object track =  0\n",
      "Updating extended object track =  1\n",
      "Updating extended object track =  1\n",
      "len(unique_polynoms) 2\n",
      "frame 98\n",
      "55.40693653063394 155.40693653063394\n",
      "(50,) (50,)\n",
      "[[ 55.40693653]\n",
      " [-15.78105203]] [[ 0.9142145  0.4052306]\n",
      " [-0.4052306  0.9142145]]\n",
      "(100, 2) (100, 2, 2)\n",
      "Number of point tracks before run() 340\n",
      "Number of extended tracks before run() 2\n"
     ]
    },
    {
     "name": "stderr",
     "output_type": "stream",
     "text": [
      "C:\\Users\\gadli\\old_pc\\Tau\\Thesis\\polynoms\\tracker.py:52: VisibleDeprecationWarning: Creating an ndarray from ragged nested sequences (which is a list-or-tuple of lists-or-tuples-or ndarrays with different lengths or shapes) is deprecated. If you meant to do this, you must specify 'dtype=object' when creating the ndarray\n",
      "  Ha = np.array([1, z[0], z[0]**2])\n",
      "C:\\Users\\gadli\\old_pc\\Tau\\Thesis\\polynoms\\tracker.py:75: RuntimeWarning: divide by zero encountered in double_scalars\n",
      "  ratio = np.sqrt(lp)/le\n"
     ]
    },
    {
     "name": "stdout",
     "output_type": "stream",
     "text": [
      "Updating extended object track =  0\n",
      "Updating extended object track =  1\n",
      "len(unique_polynoms) 2\n",
      "frame 99\n",
      "56.073260848360064 156.07326084836006\n",
      "(50,) (50,)\n",
      "[[ 56.07326085]\n",
      " [-16.07218298]] [[ 0.91240364  0.40929158]\n",
      " [-0.40929158  0.91240364]]\n",
      "(100, 2) (100, 2, 2)\n",
      "Number of point tracks before run() 330\n",
      "Number of extended tracks before run() 2\n"
     ]
    },
    {
     "name": "stderr",
     "output_type": "stream",
     "text": [
      "C:\\Users\\gadli\\old_pc\\Tau\\Thesis\\polynoms\\tracker.py:52: VisibleDeprecationWarning: Creating an ndarray from ragged nested sequences (which is a list-or-tuple of lists-or-tuples-or ndarrays with different lengths or shapes) is deprecated. If you meant to do this, you must specify 'dtype=object' when creating the ndarray\n",
      "  Ha = np.array([1, z[0], z[0]**2])\n",
      "C:\\Users\\gadli\\old_pc\\Tau\\Thesis\\polynoms\\tracker.py:75: RuntimeWarning: divide by zero encountered in double_scalars\n",
      "  ratio = np.sqrt(lp)/le\n"
     ]
    },
    {
     "name": "stdout",
     "output_type": "stream",
     "text": [
      "Updating extended object track =  1\n",
      "Updating extended object track =  1\n",
      "len(unique_polynoms) 1\n",
      "frame 100\n",
      "56.74276940183666 156.74276940183665\n",
      "(50,) (50,)\n",
      "[[ 56.7427694 ]\n",
      " [-16.36828259]] [[ 0.91057331  0.41334761]\n",
      " [-0.41334761  0.91057331]]\n",
      "(100, 2) (100, 2, 2)\n",
      "Number of point tracks before run() 323\n",
      "Number of extended tracks before run() 2\n"
     ]
    },
    {
     "name": "stderr",
     "output_type": "stream",
     "text": [
      "C:\\Users\\gadli\\old_pc\\Tau\\Thesis\\polynoms\\tracker.py:52: VisibleDeprecationWarning: Creating an ndarray from ragged nested sequences (which is a list-or-tuple of lists-or-tuples-or ndarrays with different lengths or shapes) is deprecated. If you meant to do this, you must specify 'dtype=object' when creating the ndarray\n",
      "  Ha = np.array([1, z[0], z[0]**2])\n",
      "C:\\Users\\gadli\\old_pc\\Tau\\Thesis\\polynoms\\tracker.py:75: RuntimeWarning: divide by zero encountered in double_scalars\n",
      "  ratio = np.sqrt(lp)/le\n"
     ]
    },
    {
     "name": "stdout",
     "output_type": "stream",
     "text": [
      "Updating extended object track =  1\n",
      "Updating extended object track =  1\n",
      "len(unique_polynoms) 1\n",
      "frame 101\n",
      "57.41552394559206 157.41552394559204\n",
      "(50,) (50,)\n",
      "[[ 57.41552395]\n",
      " [-16.66942984]] [[ 0.90872347  0.41739867]\n",
      " [-0.41739867  0.90872347]]\n",
      "(100, 2) (100, 2, 2)\n",
      "Number of point tracks before run() 319\n",
      "Number of extended tracks before run() 3\n"
     ]
    },
    {
     "name": "stderr",
     "output_type": "stream",
     "text": [
      "C:\\Users\\gadli\\old_pc\\Tau\\Thesis\\polynoms\\tracker.py:52: VisibleDeprecationWarning: Creating an ndarray from ragged nested sequences (which is a list-or-tuple of lists-or-tuples-or ndarrays with different lengths or shapes) is deprecated. If you meant to do this, you must specify 'dtype=object' when creating the ndarray\n",
      "  Ha = np.array([1, z[0], z[0]**2])\n",
      "C:\\Users\\gadli\\old_pc\\Tau\\Thesis\\polynoms\\tracker.py:75: RuntimeWarning: divide by zero encountered in double_scalars\n",
      "  ratio = np.sqrt(lp)/le\n"
     ]
    },
    {
     "name": "stdout",
     "output_type": "stream",
     "text": [
      "Updating extended object track =  2\n",
      "len(unique_polynoms) 1\n",
      "frame 102\n",
      "58.09158836105395 158.09158836105394\n",
      "(50,) (50,)\n",
      "[[ 58.09158836]\n",
      " [-16.97570626]] [[ 0.90685408  0.42144475]\n",
      " [-0.42144475  0.90685408]]\n",
      "(100, 2) (100, 2, 2)\n",
      "Number of point tracks before run() 316\n",
      "Number of extended tracks before run() 3\n"
     ]
    },
    {
     "name": "stderr",
     "output_type": "stream",
     "text": [
      "C:\\Users\\gadli\\old_pc\\Tau\\Thesis\\polynoms\\tracker.py:52: VisibleDeprecationWarning: Creating an ndarray from ragged nested sequences (which is a list-or-tuple of lists-or-tuples-or ndarrays with different lengths or shapes) is deprecated. If you meant to do this, you must specify 'dtype=object' when creating the ndarray\n",
      "  Ha = np.array([1, z[0], z[0]**2])\n",
      "C:\\Users\\gadli\\old_pc\\Tau\\Thesis\\polynoms\\tracker.py:75: RuntimeWarning: divide by zero encountered in double_scalars\n",
      "  ratio = np.sqrt(lp)/le\n"
     ]
    },
    {
     "name": "stdout",
     "output_type": "stream",
     "text": [
      "len(unique_polynoms) 0\n",
      "frame 103\n",
      "58.77102876276773 158.77102876276774\n",
      "(50,) (50,)\n",
      "[[ 58.77102876]\n",
      " [-17.28719603]] [[ 0.90496509  0.42548583]\n",
      " [-0.42548583  0.90496509]]\n",
      "(100, 2) (100, 2, 2)\n",
      "Number of point tracks before run() 313\n",
      "Number of extended tracks before run() 3\n"
     ]
    },
    {
     "name": "stderr",
     "output_type": "stream",
     "text": [
      "C:\\Users\\gadli\\old_pc\\Tau\\Thesis\\polynoms\\tracker.py:52: VisibleDeprecationWarning: Creating an ndarray from ragged nested sequences (which is a list-or-tuple of lists-or-tuples-or ndarrays with different lengths or shapes) is deprecated. If you meant to do this, you must specify 'dtype=object' when creating the ndarray\n",
      "  Ha = np.array([1, z[0], z[0]**2])\n",
      "C:\\Users\\gadli\\old_pc\\Tau\\Thesis\\polynoms\\tracker.py:75: RuntimeWarning: divide by zero encountered in double_scalars\n",
      "  ratio = np.sqrt(lp)/le\n"
     ]
    },
    {
     "name": "stdout",
     "output_type": "stream",
     "text": [
      "Updating extended object track =  1\n",
      "Updating extended object track =  2\n",
      "i_trk 0 self.frame_idx 104 trk.getLastUpdateFrameIdx() 99\n",
      "len(unique_polynoms) 2\n",
      "frame 104\n",
      "59.45391361161562 159.45391361161563\n",
      "(50,) (50,)\n",
      "[[ 59.45391361]\n",
      " [-17.60398615]] [[ 0.90305644  0.42952191]\n",
      " [-0.42952191  0.90305644]]\n",
      "(100, 2) (100, 2, 2)\n",
      "Number of point tracks before run() 325\n",
      "Number of extended tracks before run() 2\n"
     ]
    },
    {
     "name": "stderr",
     "output_type": "stream",
     "text": [
      "C:\\Users\\gadli\\old_pc\\Tau\\Thesis\\polynoms\\tracker.py:52: VisibleDeprecationWarning: Creating an ndarray from ragged nested sequences (which is a list-or-tuple of lists-or-tuples-or ndarrays with different lengths or shapes) is deprecated. If you meant to do this, you must specify 'dtype=object' when creating the ndarray\n",
      "  Ha = np.array([1, z[0], z[0]**2])\n",
      "C:\\Users\\gadli\\old_pc\\Tau\\Thesis\\polynoms\\tracker.py:75: RuntimeWarning: divide by zero encountered in double_scalars\n",
      "  ratio = np.sqrt(lp)/le\n"
     ]
    },
    {
     "name": "stdout",
     "output_type": "stream",
     "text": [
      "Updating extended object track =  0\n",
      "Updating extended object track =  0\n",
      "Updating extended object track =  1\n",
      "Updating extended object track =  1\n",
      "len(unique_polynoms) 2\n",
      "frame 105\n",
      "60.140313835613675 160.14031383561368\n",
      "(50,) (50,)\n",
      "[[ 60.14031384]\n",
      " [-17.92616657]] [[ 0.90112807  0.433553  ]\n",
      " [-0.433553    0.90112807]]\n",
      "(100, 2) (100, 2, 2)\n",
      "Number of point tracks before run() 314\n",
      "Number of extended tracks before run() 2\n"
     ]
    },
    {
     "name": "stderr",
     "output_type": "stream",
     "text": [
      "C:\\Users\\gadli\\old_pc\\Tau\\Thesis\\polynoms\\tracker.py:52: VisibleDeprecationWarning: Creating an ndarray from ragged nested sequences (which is a list-or-tuple of lists-or-tuples-or ndarrays with different lengths or shapes) is deprecated. If you meant to do this, you must specify 'dtype=object' when creating the ndarray\n",
      "  Ha = np.array([1, z[0], z[0]**2])\n",
      "C:\\Users\\gadli\\old_pc\\Tau\\Thesis\\polynoms\\tracker.py:75: RuntimeWarning: divide by zero encountered in double_scalars\n",
      "  ratio = np.sqrt(lp)/le\n"
     ]
    },
    {
     "name": "stdout",
     "output_type": "stream",
     "text": [
      "Updating extended object track =  0\n",
      "len(unique_polynoms) 1\n",
      "frame 106\n",
      "60.83030295892075 160.83030295892075\n",
      "(50,) (50,)\n",
      "[[ 60.83030296]\n",
      " [-18.25383031]] [[ 0.89917992  0.4375791 ]\n",
      " [-0.4375791   0.89917992]]\n",
      "(100, 2) (100, 2, 2)\n",
      "Number of point tracks before run() 313\n",
      "Number of extended tracks before run() 3\n"
     ]
    },
    {
     "name": "stderr",
     "output_type": "stream",
     "text": [
      "C:\\Users\\gadli\\old_pc\\Tau\\Thesis\\polynoms\\tracker.py:52: VisibleDeprecationWarning: Creating an ndarray from ragged nested sequences (which is a list-or-tuple of lists-or-tuples-or ndarrays with different lengths or shapes) is deprecated. If you meant to do this, you must specify 'dtype=object' when creating the ndarray\n",
      "  Ha = np.array([1, z[0], z[0]**2])\n",
      "C:\\Users\\gadli\\old_pc\\Tau\\Thesis\\polynoms\\tracker.py:75: RuntimeWarning: divide by zero encountered in double_scalars\n",
      "  ratio = np.sqrt(lp)/le\n"
     ]
    },
    {
     "name": "stdout",
     "output_type": "stream",
     "text": [
      "Updating extended object track =  2\n",
      "len(unique_polynoms) 1\n",
      "frame 107\n",
      "61.52395723975708 161.52395723975707\n",
      "(50,) (50,)\n",
      "[[ 61.52395724]\n",
      " [-18.58707364]] [[ 0.89721193  0.44160023]\n",
      " [-0.44160023  0.89721193]]\n",
      "(100, 2) (100, 2, 2)\n",
      "Number of point tracks before run() 323\n",
      "Number of extended tracks before run() 3\n"
     ]
    },
    {
     "name": "stderr",
     "output_type": "stream",
     "text": [
      "C:\\Users\\gadli\\old_pc\\Tau\\Thesis\\polynoms\\tracker.py:52: VisibleDeprecationWarning: Creating an ndarray from ragged nested sequences (which is a list-or-tuple of lists-or-tuples-or ndarrays with different lengths or shapes) is deprecated. If you meant to do this, you must specify 'dtype=object' when creating the ndarray\n",
      "  Ha = np.array([1, z[0], z[0]**2])\n",
      "C:\\Users\\gadli\\old_pc\\Tau\\Thesis\\polynoms\\tracker.py:75: RuntimeWarning: divide by zero encountered in double_scalars\n",
      "  ratio = np.sqrt(lp)/le\n"
     ]
    },
    {
     "name": "stdout",
     "output_type": "stream",
     "text": [
      "len(unique_polynoms) 0\n",
      "frame 108\n",
      "62.22135581800267 162.22135581800268\n",
      "(50,) (50,)\n",
      "[[ 62.22135582]\n",
      " [-18.92599628]] [[ 0.895224    0.44561641]\n",
      " [-0.44561641  0.895224  ]]\n",
      "(100, 2) (100, 2, 2)\n",
      "Number of point tracks before run() 329\n",
      "Number of extended tracks before run() 3\n"
     ]
    },
    {
     "name": "stderr",
     "output_type": "stream",
     "text": [
      "C:\\Users\\gadli\\old_pc\\Tau\\Thesis\\polynoms\\tracker.py:52: VisibleDeprecationWarning: Creating an ndarray from ragged nested sequences (which is a list-or-tuple of lists-or-tuples-or ndarrays with different lengths or shapes) is deprecated. If you meant to do this, you must specify 'dtype=object' when creating the ndarray\n",
      "  Ha = np.array([1, z[0], z[0]**2])\n",
      "C:\\Users\\gadli\\old_pc\\Tau\\Thesis\\polynoms\\tracker.py:75: RuntimeWarning: divide by zero encountered in double_scalars\n",
      "  ratio = np.sqrt(lp)/le\n"
     ]
    },
    {
     "name": "stdout",
     "output_type": "stream",
     "text": [
      "len(unique_polynoms) 0\n",
      "frame 109\n",
      "62.92258087332504 162.92258087332505\n",
      "(50,) (50,)\n",
      "[[ 62.92258087]\n",
      " [-19.27070151]] [[ 0.89321607  0.44962768]\n",
      " [-0.44962768  0.89321607]]\n",
      "(100, 2) (100, 2, 2)\n",
      "Number of point tracks before run() 346\n",
      "Number of extended tracks before run() 3\n"
     ]
    },
    {
     "name": "stderr",
     "output_type": "stream",
     "text": [
      "C:\\Users\\gadli\\old_pc\\Tau\\Thesis\\polynoms\\tracker.py:52: VisibleDeprecationWarning: Creating an ndarray from ragged nested sequences (which is a list-or-tuple of lists-or-tuples-or ndarrays with different lengths or shapes) is deprecated. If you meant to do this, you must specify 'dtype=object' when creating the ndarray\n",
      "  Ha = np.array([1, z[0], z[0]**2])\n",
      "C:\\Users\\gadli\\old_pc\\Tau\\Thesis\\polynoms\\tracker.py:75: RuntimeWarning: divide by zero encountered in double_scalars\n",
      "  ratio = np.sqrt(lp)/le\n"
     ]
    },
    {
     "name": "stdout",
     "output_type": "stream",
     "text": [
      "Updating extended object track =  0\n",
      "i_trk 1 self.frame_idx 110 trk.getLastUpdateFrameIdx() 105\n",
      "len(unique_polynoms) 1\n",
      "frame 110\n",
      "63.62771779477623 163.62771779477623\n",
      "(50,) (50,)\n",
      "[[ 63.62771779]\n",
      " [-19.62129643]] [[ 0.89118804  0.45363409]\n",
      " [-0.45363409  0.89118804]]\n",
      "(100, 2) (100, 2, 2)\n",
      "Number of point tracks before run() 343\n",
      "Number of extended tracks before run() 2\n"
     ]
    },
    {
     "name": "stderr",
     "output_type": "stream",
     "text": [
      "C:\\Users\\gadli\\old_pc\\Tau\\Thesis\\polynoms\\tracker.py:52: VisibleDeprecationWarning: Creating an ndarray from ragged nested sequences (which is a list-or-tuple of lists-or-tuples-or ndarrays with different lengths or shapes) is deprecated. If you meant to do this, you must specify 'dtype=object' when creating the ndarray\n",
      "  Ha = np.array([1, z[0], z[0]**2])\n",
      "C:\\Users\\gadli\\old_pc\\Tau\\Thesis\\polynoms\\tracker.py:75: RuntimeWarning: divide by zero encountered in double_scalars\n",
      "  ratio = np.sqrt(lp)/le\n"
     ]
    },
    {
     "name": "stdout",
     "output_type": "stream",
     "text": [
      "Updating extended object track =  1\n",
      "Updating extended object track =  0\n",
      "Updating extended object track =  0\n",
      "Updating extended object track =  1\n",
      "len(unique_polynoms) 2\n",
      "frame 111\n",
      "64.3368553629009 164.3368553629009\n",
      "(50,) (50,)\n",
      "[[ 64.33685536]\n",
      " [-19.97789213]] [[ 0.8891398   0.45763567]\n",
      " [-0.45763567  0.8891398 ]]\n",
      "(100, 2) (100, 2, 2)\n",
      "Number of point tracks before run() 349\n",
      "Number of extended tracks before run() 2\n"
     ]
    },
    {
     "name": "stderr",
     "output_type": "stream",
     "text": [
      "C:\\Users\\gadli\\old_pc\\Tau\\Thesis\\polynoms\\tracker.py:52: VisibleDeprecationWarning: Creating an ndarray from ragged nested sequences (which is a list-or-tuple of lists-or-tuples-or ndarrays with different lengths or shapes) is deprecated. If you meant to do this, you must specify 'dtype=object' when creating the ndarray\n",
      "  Ha = np.array([1, z[0], z[0]**2])\n",
      "C:\\Users\\gadli\\old_pc\\Tau\\Thesis\\polynoms\\tracker.py:75: RuntimeWarning: divide by zero encountered in double_scalars\n",
      "  ratio = np.sqrt(lp)/le\n"
     ]
    },
    {
     "name": "stdout",
     "output_type": "stream",
     "text": [
      "Updating extended object track =  1\n",
      "Updating extended object track =  0\n",
      "Updating extended object track =  0\n",
      "Updating extended object track =  0\n",
      "len(unique_polynoms) 2\n",
      "frame 112\n",
      "65.05008594551062 165.0500859455106\n",
      "(50,) (50,)\n",
      "[[ 65.05008595]\n",
      " [-20.34060395]] [[ 0.88707127  0.4616325 ]\n",
      " [-0.4616325   0.88707127]]\n",
      "(100, 2) (100, 2, 2)\n",
      "Number of point tracks before run() 349\n",
      "Number of extended tracks before run() 2\n"
     ]
    },
    {
     "name": "stderr",
     "output_type": "stream",
     "text": [
      "C:\\Users\\gadli\\old_pc\\Tau\\Thesis\\polynoms\\tracker.py:52: VisibleDeprecationWarning: Creating an ndarray from ragged nested sequences (which is a list-or-tuple of lists-or-tuples-or ndarrays with different lengths or shapes) is deprecated. If you meant to do this, you must specify 'dtype=object' when creating the ndarray\n",
      "  Ha = np.array([1, z[0], z[0]**2])\n"
     ]
    },
    {
     "name": "stdout",
     "output_type": "stream",
     "text": [
      "Updating extended object track =  1\n",
      "Updating extended object track =  1\n",
      "Updating extended object track =  1\n",
      "Updating extended object track =  1\n",
      "Updating extended object track =  0\n",
      "Updating extended object track =  1\n"
     ]
    },
    {
     "name": "stderr",
     "output_type": "stream",
     "text": [
      "C:\\Users\\gadli\\old_pc\\Tau\\Thesis\\polynoms\\tracker.py:75: RuntimeWarning: divide by zero encountered in double_scalars\n",
      "  ratio = np.sqrt(lp)/le\n"
     ]
    },
    {
     "name": "stdout",
     "output_type": "stream",
     "text": [
      "len(unique_polynoms) 2\n",
      "frame 113\n",
      "65.76750570840923 165.76750570840923\n",
      "(50,) (50,)\n",
      "[[ 65.76750571]\n",
      " [-20.70955168]] [[ 0.88498232  0.46562464]\n",
      " [-0.46562464  0.88498232]]\n",
      "(100, 2) (100, 2, 2)\n",
      "Number of point tracks before run() 353\n",
      "Number of extended tracks before run() 2\n"
     ]
    },
    {
     "name": "stderr",
     "output_type": "stream",
     "text": [
      "C:\\Users\\gadli\\old_pc\\Tau\\Thesis\\polynoms\\tracker.py:52: VisibleDeprecationWarning: Creating an ndarray from ragged nested sequences (which is a list-or-tuple of lists-or-tuples-or ndarrays with different lengths or shapes) is deprecated. If you meant to do this, you must specify 'dtype=object' when creating the ndarray\n",
      "  Ha = np.array([1, z[0], z[0]**2])\n"
     ]
    },
    {
     "name": "stdout",
     "output_type": "stream",
     "text": [
      "Updating extended object track =  0\n",
      "Updating extended object track =  1\n",
      "Updating extended object track =  1\n",
      "Updating extended object track =  1\n"
     ]
    },
    {
     "name": "stderr",
     "output_type": "stream",
     "text": [
      "C:\\Users\\gadli\\old_pc\\Tau\\Thesis\\polynoms\\tracker.py:75: RuntimeWarning: divide by zero encountered in double_scalars\n",
      "  ratio = np.sqrt(lp)/le\n"
     ]
    },
    {
     "name": "stdout",
     "output_type": "stream",
     "text": [
      "len(unique_polynoms) 2\n",
      "frame 114\n",
      "66.48921484249978 166.4892148424998\n",
      "(50,) (50,)\n",
      "[[ 66.48921484]\n",
      " [-21.08485983]] [[ 0.88287282  0.46961216]\n",
      " [-0.46961216  0.88287282]]\n",
      "(100, 2) (100, 2, 2)\n",
      "Number of point tracks before run() 346\n",
      "Number of extended tracks before run() 2\n"
     ]
    },
    {
     "name": "stderr",
     "output_type": "stream",
     "text": [
      "C:\\Users\\gadli\\old_pc\\Tau\\Thesis\\polynoms\\tracker.py:52: VisibleDeprecationWarning: Creating an ndarray from ragged nested sequences (which is a list-or-tuple of lists-or-tuples-or ndarrays with different lengths or shapes) is deprecated. If you meant to do this, you must specify 'dtype=object' when creating the ndarray\n",
      "  Ha = np.array([1, z[0], z[0]**2])\n",
      "C:\\Users\\gadli\\old_pc\\Tau\\Thesis\\polynoms\\tracker.py:75: RuntimeWarning: divide by zero encountered in double_scalars\n",
      "  ratio = np.sqrt(lp)/le\n"
     ]
    },
    {
     "name": "stdout",
     "output_type": "stream",
     "text": [
      "Updating extended object track =  1\n",
      "Updating extended object track =  1\n",
      "Updating extended object track =  1\n",
      "len(unique_polynoms) 1\n",
      "frame 115\n",
      "67.21531780886882 167.2153178088688\n",
      "(50,) (50,)\n",
      "[[ 67.21531781]\n",
      " [-21.46665793]] [[ 0.88074265  0.47359518]\n",
      " [-0.47359518  0.88074265]]\n",
      "(100, 2) (100, 2, 2)\n",
      "Number of point tracks before run() 349\n",
      "Number of extended tracks before run() 2\n"
     ]
    },
    {
     "name": "stderr",
     "output_type": "stream",
     "text": [
      "C:\\Users\\gadli\\old_pc\\Tau\\Thesis\\polynoms\\tracker.py:52: VisibleDeprecationWarning: Creating an ndarray from ragged nested sequences (which is a list-or-tuple of lists-or-tuples-or ndarrays with different lengths or shapes) is deprecated. If you meant to do this, you must specify 'dtype=object' when creating the ndarray\n",
      "  Ha = np.array([1, z[0], z[0]**2])\n",
      "C:\\Users\\gadli\\old_pc\\Tau\\Thesis\\polynoms\\tracker.py:75: RuntimeWarning: divide by zero encountered in double_scalars\n",
      "  ratio = np.sqrt(lp)/le\n"
     ]
    },
    {
     "name": "stdout",
     "output_type": "stream",
     "text": [
      "Updating extended object track =  1\n",
      "Updating extended object track =  1\n",
      "len(unique_polynoms) 1\n",
      "frame 116\n",
      "67.94592360363279 167.9459236036328\n",
      "(50,) (50,)\n",
      "[[ 67.9459236 ]\n",
      " [-21.85508082]] [[ 0.87859165  0.47757377]\n",
      " [-0.47757377  0.87859165]]\n",
      "(100, 2) (100, 2, 2)\n",
      "Number of point tracks before run() 330\n",
      "Number of extended tracks before run() 2\n"
     ]
    },
    {
     "name": "stderr",
     "output_type": "stream",
     "text": [
      "C:\\Users\\gadli\\old_pc\\Tau\\Thesis\\polynoms\\tracker.py:52: VisibleDeprecationWarning: Creating an ndarray from ragged nested sequences (which is a list-or-tuple of lists-or-tuples-or ndarrays with different lengths or shapes) is deprecated. If you meant to do this, you must specify 'dtype=object' when creating the ndarray\n",
      "  Ha = np.array([1, z[0], z[0]**2])\n",
      "C:\\Users\\gadli\\old_pc\\Tau\\Thesis\\polynoms\\tracker.py:75: RuntimeWarning: divide by zero encountered in double_scalars\n",
      "  ratio = np.sqrt(lp)/le\n"
     ]
    },
    {
     "name": "stdout",
     "output_type": "stream",
     "text": [
      "Updating extended object track =  1\n",
      "len(unique_polynoms) 1\n",
      "frame 117\n",
      "68.68114604454433 168.68114604454433\n",
      "(50,) (50,)\n",
      "[[ 68.68114604]\n",
      " [-22.25026897]] [[ 0.87641968  0.48154807]\n",
      " [-0.48154807  0.87641968]]\n",
      "(100, 2) (100, 2, 2)\n",
      "Number of point tracks before run() 328\n",
      "Number of extended tracks before run() 2\n"
     ]
    },
    {
     "name": "stderr",
     "output_type": "stream",
     "text": [
      "C:\\Users\\gadli\\old_pc\\Tau\\Thesis\\polynoms\\tracker.py:52: VisibleDeprecationWarning: Creating an ndarray from ragged nested sequences (which is a list-or-tuple of lists-or-tuples-or ndarrays with different lengths or shapes) is deprecated. If you meant to do this, you must specify 'dtype=object' when creating the ndarray\n",
      "  Ha = np.array([1, z[0], z[0]**2])\n",
      "C:\\Users\\gadli\\old_pc\\Tau\\Thesis\\polynoms\\tracker.py:75: RuntimeWarning: divide by zero encountered in double_scalars\n",
      "  ratio = np.sqrt(lp)/le\n"
     ]
    },
    {
     "name": "stdout",
     "output_type": "stream",
     "text": [
      "Updating extended object track =  1\n",
      "Updating extended object track =  1\n",
      "Updating extended object track =  1\n",
      "len(unique_polynoms) 1\n",
      "frame 118\n",
      "69.42110408160201 169.421104081602\n",
      "(50,) (50,)\n",
      "[[ 69.42110408]\n",
      " [-22.65236883]] [[ 0.87422657  0.48551819]\n",
      " [-0.48551819  0.87422657]]\n",
      "(100, 2) (100, 2, 2)\n",
      "Number of point tracks before run() 324\n",
      "Number of extended tracks before run() 2\n"
     ]
    },
    {
     "name": "stderr",
     "output_type": "stream",
     "text": [
      "C:\\Users\\gadli\\old_pc\\Tau\\Thesis\\polynoms\\tracker.py:52: VisibleDeprecationWarning: Creating an ndarray from ragged nested sequences (which is a list-or-tuple of lists-or-tuples-or ndarrays with different lengths or shapes) is deprecated. If you meant to do this, you must specify 'dtype=object' when creating the ndarray\n",
      "  Ha = np.array([1, z[0], z[0]**2])\n",
      "C:\\Users\\gadli\\old_pc\\Tau\\Thesis\\polynoms\\tracker.py:75: RuntimeWarning: divide by zero encountered in double_scalars\n",
      "  ratio = np.sqrt(lp)/le\n"
     ]
    },
    {
     "name": "stdout",
     "output_type": "stream",
     "text": [
      "Updating extended object track =  0\n",
      "Updating extended object track =  1\n",
      "len(unique_polynoms) 2\n",
      "frame 119\n",
      "70.16592213418649 170.16592213418647\n",
      "(50,) (50,)\n",
      "[[ 70.16592213]\n",
      " [-23.06153322]] [[ 0.87201212  0.48948428]\n",
      " [-0.48948428  0.87201212]]\n",
      "(100, 2) (100, 2, 2)\n",
      "Number of point tracks before run() 323\n",
      "Number of extended tracks before run() 2\n"
     ]
    },
    {
     "name": "stderr",
     "output_type": "stream",
     "text": [
      "C:\\Users\\gadli\\old_pc\\Tau\\Thesis\\polynoms\\tracker.py:52: VisibleDeprecationWarning: Creating an ndarray from ragged nested sequences (which is a list-or-tuple of lists-or-tuples-or ndarrays with different lengths or shapes) is deprecated. If you meant to do this, you must specify 'dtype=object' when creating the ndarray\n",
      "  Ha = np.array([1, z[0], z[0]**2])\n",
      "C:\\Users\\gadli\\old_pc\\Tau\\Thesis\\polynoms\\tracker.py:75: RuntimeWarning: divide by zero encountered in double_scalars\n",
      "  ratio = np.sqrt(lp)/le\n"
     ]
    },
    {
     "name": "stdout",
     "output_type": "stream",
     "text": [
      "len(unique_polynoms) 0\n",
      "frame 120\n",
      "70.91573045756708 170.91573045756707\n",
      "(50,) (50,)\n",
      "[[ 70.91573046]\n",
      " [-23.47792173]] [[ 0.86977616  0.49344649]\n",
      " [-0.49344649  0.86977616]]\n",
      "(100, 2) (100, 2, 2)\n",
      "Number of point tracks before run() 312\n",
      "Number of extended tracks before run() 2\n"
     ]
    },
    {
     "name": "stderr",
     "output_type": "stream",
     "text": [
      "C:\\Users\\gadli\\old_pc\\Tau\\Thesis\\polynoms\\tracker.py:52: VisibleDeprecationWarning: Creating an ndarray from ragged nested sequences (which is a list-or-tuple of lists-or-tuples-or ndarrays with different lengths or shapes) is deprecated. If you meant to do this, you must specify 'dtype=object' when creating the ndarray\n",
      "  Ha = np.array([1, z[0], z[0]**2])\n",
      "C:\\Users\\gadli\\old_pc\\Tau\\Thesis\\polynoms\\tracker.py:75: RuntimeWarning: divide by zero encountered in double_scalars\n",
      "  ratio = np.sqrt(lp)/le\n"
     ]
    },
    {
     "name": "stdout",
     "output_type": "stream",
     "text": [
      "Updating extended object track =  1\n",
      "Updating extended object track =  1\n",
      "Updating extended object track =  1\n",
      "len(unique_polynoms) 1\n",
      "frame 121\n",
      "71.67066554199356 171.67066554199357\n",
      "(50,) (50,)\n",
      "[[ 71.67066554]\n",
      " [-23.90170121]] [[ 0.86751845  0.497405  ]\n",
      " [-0.497405    0.86751845]]\n",
      "(100, 2) (100, 2, 2)\n",
      "Number of point tracks before run() 315\n",
      "Number of extended tracks before run() 3\n"
     ]
    },
    {
     "name": "stderr",
     "output_type": "stream",
     "text": [
      "C:\\Users\\gadli\\old_pc\\Tau\\Thesis\\polynoms\\tracker.py:52: VisibleDeprecationWarning: Creating an ndarray from ragged nested sequences (which is a list-or-tuple of lists-or-tuples-or ndarrays with different lengths or shapes) is deprecated. If you meant to do this, you must specify 'dtype=object' when creating the ndarray\n",
      "  Ha = np.array([1, z[0], z[0]**2])\n"
     ]
    },
    {
     "name": "stdout",
     "output_type": "stream",
     "text": [
      "Updating extended object track =  1\n",
      "Updating extended object track =  1\n",
      "Updating extended object track =  1\n",
      "Updating extended object track =  0\n"
     ]
    },
    {
     "name": "stderr",
     "output_type": "stream",
     "text": [
      "C:\\Users\\gadli\\old_pc\\Tau\\Thesis\\polynoms\\tracker.py:75: RuntimeWarning: divide by zero encountered in double_scalars\n",
      "  ratio = np.sqrt(lp)/le\n"
     ]
    },
    {
     "name": "stdout",
     "output_type": "stream",
     "text": [
      "len(unique_polynoms) 2\n",
      "frame 122\n",
      "72.43087054801259 172.4308705480126\n",
      "(50,) (50,)\n",
      "[[ 72.43087055]\n",
      " [-24.3330462 ]] [[ 0.86523879  0.50135999]\n",
      " [-0.50135999  0.86523879]]\n",
      "(100, 2) (100, 2, 2)\n",
      "Number of point tracks before run() 313\n",
      "Number of extended tracks before run() 3\n"
     ]
    },
    {
     "name": "stderr",
     "output_type": "stream",
     "text": [
      "C:\\Users\\gadli\\old_pc\\Tau\\Thesis\\polynoms\\tracker.py:52: VisibleDeprecationWarning: Creating an ndarray from ragged nested sequences (which is a list-or-tuple of lists-or-tuples-or ndarrays with different lengths or shapes) is deprecated. If you meant to do this, you must specify 'dtype=object' when creating the ndarray\n",
      "  Ha = np.array([1, z[0], z[0]**2])\n",
      "C:\\Users\\gadli\\old_pc\\Tau\\Thesis\\polynoms\\tracker.py:75: RuntimeWarning: divide by zero encountered in double_scalars\n",
      "  ratio = np.sqrt(lp)/le\n"
     ]
    },
    {
     "name": "stdout",
     "output_type": "stream",
     "text": [
      "Updating extended object track =  1\n",
      "Updating extended object track =  2\n",
      "len(unique_polynoms) 2\n",
      "frame 123\n",
      "73.19649578214357 173.1964957821436\n",
      "(50,) (50,)\n",
      "[[ 73.19649578]\n",
      " [-24.77213952]] [[ 0.86293692  0.50531167]\n",
      " [-0.50531167  0.86293692]]\n",
      "(100, 2) (100, 2, 2)\n",
      "Number of point tracks before run() 318\n",
      "Number of extended tracks before run() 3\n"
     ]
    },
    {
     "name": "stderr",
     "output_type": "stream",
     "text": [
      "C:\\Users\\gadli\\old_pc\\Tau\\Thesis\\polynoms\\tracker.py:52: VisibleDeprecationWarning: Creating an ndarray from ragged nested sequences (which is a list-or-tuple of lists-or-tuples-or ndarrays with different lengths or shapes) is deprecated. If you meant to do this, you must specify 'dtype=object' when creating the ndarray\n",
      "  Ha = np.array([1, z[0], z[0]**2])\n",
      "C:\\Users\\gadli\\old_pc\\Tau\\Thesis\\polynoms\\tracker.py:75: RuntimeWarning: divide by zero encountered in double_scalars\n",
      "  ratio = np.sqrt(lp)/le\n"
     ]
    },
    {
     "name": "stdout",
     "output_type": "stream",
     "text": [
      "Updating extended object track =  0\n",
      "Updating extended object track =  2\n",
      "Updating extended object track =  1\n",
      "Updating extended object track =  0\n",
      "len(unique_polynoms) 3\n",
      "frame 124\n",
      "73.96769921761934 173.96769921761933\n",
      "(50,) (50,)\n",
      "[[ 73.96769922]\n",
      " [-25.21917282]] [[ 0.86061257  0.50926025]\n",
      " [-0.50926025  0.86061257]]\n",
      "(100, 2) (100, 2, 2)\n",
      "Number of point tracks before run() 313\n",
      "Number of extended tracks before run() 3\n"
     ]
    },
    {
     "name": "stderr",
     "output_type": "stream",
     "text": [
      "C:\\Users\\gadli\\old_pc\\Tau\\Thesis\\polynoms\\tracker.py:52: VisibleDeprecationWarning: Creating an ndarray from ragged nested sequences (which is a list-or-tuple of lists-or-tuples-or ndarrays with different lengths or shapes) is deprecated. If you meant to do this, you must specify 'dtype=object' when creating the ndarray\n",
      "  Ha = np.array([1, z[0], z[0]**2])\n"
     ]
    },
    {
     "name": "stdout",
     "output_type": "stream",
     "text": [
      "Updating extended object track =  0\n",
      "Updating extended object track =  0\n"
     ]
    },
    {
     "name": "stderr",
     "output_type": "stream",
     "text": [
      "C:\\Users\\gadli\\old_pc\\Tau\\Thesis\\polynoms\\tracker.py:75: RuntimeWarning: divide by zero encountered in double_scalars\n",
      "  ratio = np.sqrt(lp)/le\n"
     ]
    },
    {
     "name": "stdout",
     "output_type": "stream",
     "text": [
      "len(unique_polynoms) 1\n",
      "frame 125\n",
      "74.74464706556451 174.7446470655645\n",
      "(50,) (50,)\n",
      "[[ 74.74464707]\n",
      " [-25.67434724]] [[ 0.85826546  0.51320599]\n",
      " [-0.51320599  0.85826546]]\n",
      "(100, 2) (100, 2, 2)\n",
      "Number of point tracks before run() 311\n",
      "Number of extended tracks before run() 3\n"
     ]
    },
    {
     "name": "stderr",
     "output_type": "stream",
     "text": [
      "C:\\Users\\gadli\\old_pc\\Tau\\Thesis\\polynoms\\tracker.py:52: VisibleDeprecationWarning: Creating an ndarray from ragged nested sequences (which is a list-or-tuple of lists-or-tuples-or ndarrays with different lengths or shapes) is deprecated. If you meant to do this, you must specify 'dtype=object' when creating the ndarray\n",
      "  Ha = np.array([1, z[0], z[0]**2])\n",
      "C:\\Users\\gadli\\old_pc\\Tau\\Thesis\\polynoms\\tracker.py:75: RuntimeWarning: divide by zero encountered in double_scalars\n",
      "  ratio = np.sqrt(lp)/le\n"
     ]
    },
    {
     "name": "stdout",
     "output_type": "stream",
     "text": [
      "Updating extended object track =  0\n",
      "len(unique_polynoms) 1\n",
      "frame 126\n",
      "75.52751440276225 175.52751440276225\n",
      "(50,) (50,)\n",
      "[[ 75.5275144]\n",
      " [-26.1378741]] [[ 0.85589529  0.51714915]\n",
      " [-0.51714915  0.85589529]]\n",
      "(100, 2) (100, 2, 2)\n",
      "Number of point tracks before run() 316\n",
      "Number of extended tracks before run() 3\n"
     ]
    },
    {
     "name": "stderr",
     "output_type": "stream",
     "text": [
      "C:\\Users\\gadli\\old_pc\\Tau\\Thesis\\polynoms\\tracker.py:52: VisibleDeprecationWarning: Creating an ndarray from ragged nested sequences (which is a list-or-tuple of lists-or-tuples-or ndarrays with different lengths or shapes) is deprecated. If you meant to do this, you must specify 'dtype=object' when creating the ndarray\n",
      "  Ha = np.array([1, z[0], z[0]**2])\n",
      "C:\\Users\\gadli\\old_pc\\Tau\\Thesis\\polynoms\\tracker.py:75: RuntimeWarning: divide by zero encountered in double_scalars\n",
      "  ratio = np.sqrt(lp)/le\n"
     ]
    },
    {
     "name": "stdout",
     "output_type": "stream",
     "text": [
      "Updating extended object track =  0\n",
      "Updating extended object track =  0\n",
      "Updating extended object track =  0\n",
      "len(unique_polynoms) 1\n",
      "frame 127\n",
      "76.31648586307118 176.3164858630712\n",
      "(50,) (50,)\n",
      "[[ 76.31648586]\n",
      " [-26.60997569]] [[ 0.85350172  0.52109002]\n",
      " [-0.52109002  0.85350172]]\n",
      "(100, 2) (100, 2, 2)\n",
      "Number of point tracks before run() 312\n",
      "Number of extended tracks before run() 3\n"
     ]
    },
    {
     "name": "stderr",
     "output_type": "stream",
     "text": [
      "C:\\Users\\gadli\\old_pc\\Tau\\Thesis\\polynoms\\tracker.py:52: VisibleDeprecationWarning: Creating an ndarray from ragged nested sequences (which is a list-or-tuple of lists-or-tuples-or ndarrays with different lengths or shapes) is deprecated. If you meant to do this, you must specify 'dtype=object' when creating the ndarray\n",
      "  Ha = np.array([1, z[0], z[0]**2])\n",
      "C:\\Users\\gadli\\old_pc\\Tau\\Thesis\\polynoms\\tracker.py:75: RuntimeWarning: divide by zero encountered in double_scalars\n",
      "  ratio = np.sqrt(lp)/le\n"
     ]
    },
    {
     "name": "stdout",
     "output_type": "stream",
     "text": [
      "len(unique_polynoms) 0\n",
      "frame 128\n",
      "77.11175640062656 177.11175640062658\n",
      "(50,) (50,)\n",
      "[[ 77.1117564 ]\n",
      " [-27.09088609]] [[ 0.8510844  0.5250289]\n",
      " [-0.5250289  0.8510844]]\n",
      "(100, 2) (100, 2, 2)\n",
      "Number of point tracks before run() 312\n",
      "Number of extended tracks before run() 3\n"
     ]
    },
    {
     "name": "stderr",
     "output_type": "stream",
     "text": [
      "C:\\Users\\gadli\\old_pc\\Tau\\Thesis\\polynoms\\tracker.py:52: VisibleDeprecationWarning: Creating an ndarray from ragged nested sequences (which is a list-or-tuple of lists-or-tuples-or ndarrays with different lengths or shapes) is deprecated. If you meant to do this, you must specify 'dtype=object' when creating the ndarray\n",
      "  Ha = np.array([1, z[0], z[0]**2])\n",
      "C:\\Users\\gadli\\old_pc\\Tau\\Thesis\\polynoms\\tracker.py:75: RuntimeWarning: divide by zero encountered in double_scalars\n",
      "  ratio = np.sqrt(lp)/le\n"
     ]
    },
    {
     "name": "stdout",
     "output_type": "stream",
     "text": [
      "Updating extended object track =  2\n",
      "Updating extended object track =  0\n",
      "Updating extended object track =  0\n",
      "Updating extended object track =  0\n",
      "i_trk 1 self.frame_idx 129 trk.getLastUpdateFrameIdx() 124\n",
      "len(unique_polynoms) 2\n",
      "frame 129\n",
      "77.91353213422423 177.91353213422423\n",
      "(50,) (50,)\n",
      "[[ 77.91353213]\n",
      " [-27.58085217]] [[ 0.84864293  0.52896614]\n",
      " [-0.52896614  0.84864293]]\n",
      "(100, 2) (100, 2, 2)\n",
      "Number of point tracks before run() 309\n",
      "Number of extended tracks before run() 2\n"
     ]
    },
    {
     "name": "stderr",
     "output_type": "stream",
     "text": [
      "C:\\Users\\gadli\\old_pc\\Tau\\Thesis\\polynoms\\tracker.py:52: VisibleDeprecationWarning: Creating an ndarray from ragged nested sequences (which is a list-or-tuple of lists-or-tuples-or ndarrays with different lengths or shapes) is deprecated. If you meant to do this, you must specify 'dtype=object' when creating the ndarray\n",
      "  Ha = np.array([1, z[0], z[0]**2])\n",
      "C:\\Users\\gadli\\old_pc\\Tau\\Thesis\\polynoms\\tracker.py:75: RuntimeWarning: divide by zero encountered in double_scalars\n",
      "  ratio = np.sqrt(lp)/le\n"
     ]
    },
    {
     "name": "stdout",
     "output_type": "stream",
     "text": [
      "len(unique_polynoms) 0\n",
      "frame 130\n",
      "78.7220312837839 178.7220312837839\n",
      "(50,) (50,)\n",
      "[[ 78.72203128]\n",
      " [-28.08013456]] [[ 0.8461769   0.53290211]\n",
      " [-0.53290211  0.8461769 ]]\n",
      "(100, 2) (100, 2, 2)\n",
      "Number of point tracks before run() 316\n",
      "Number of extended tracks before run() 2\n"
     ]
    },
    {
     "name": "stderr",
     "output_type": "stream",
     "text": [
      "C:\\Users\\gadli\\old_pc\\Tau\\Thesis\\polynoms\\tracker.py:52: VisibleDeprecationWarning: Creating an ndarray from ragged nested sequences (which is a list-or-tuple of lists-or-tuples-or ndarrays with different lengths or shapes) is deprecated. If you meant to do this, you must specify 'dtype=object' when creating the ndarray\n",
      "  Ha = np.array([1, z[0], z[0]**2])\n",
      "C:\\Users\\gadli\\old_pc\\Tau\\Thesis\\polynoms\\tracker.py:75: RuntimeWarning: divide by zero encountered in double_scalars\n",
      "  ratio = np.sqrt(lp)/le\n"
     ]
    },
    {
     "name": "stdout",
     "output_type": "stream",
     "text": [
      "len(unique_polynoms) 0\n",
      "frame 131\n",
      "79.53748521157097 179.53748521157098\n",
      "(50,) (50,)\n",
      "[[ 79.53748521]\n",
      " [-28.58900885]] [[ 0.84368585  0.53683721]\n",
      " [-0.53683721  0.84368585]]\n",
      "(100, 2) (100, 2, 2)\n",
      "Number of point tracks before run() 322\n",
      "Number of extended tracks before run() 2\n"
     ]
    },
    {
     "name": "stderr",
     "output_type": "stream",
     "text": [
      "C:\\Users\\gadli\\old_pc\\Tau\\Thesis\\polynoms\\tracker.py:52: VisibleDeprecationWarning: Creating an ndarray from ragged nested sequences (which is a list-or-tuple of lists-or-tuples-or ndarrays with different lengths or shapes) is deprecated. If you meant to do this, you must specify 'dtype=object' when creating the ndarray\n",
      "  Ha = np.array([1, z[0], z[0]**2])\n",
      "C:\\Users\\gadli\\old_pc\\Tau\\Thesis\\polynoms\\tracker.py:75: RuntimeWarning: divide by zero encountered in double_scalars\n",
      "  ratio = np.sqrt(lp)/le\n"
     ]
    },
    {
     "name": "stdout",
     "output_type": "stream",
     "text": [
      "Updating extended object track =  0\n",
      "Updating extended object track =  0\n",
      "len(unique_polynoms) 1\n",
      "frame 132\n",
      "80.36013958298277 180.36013958298275\n",
      "(50,) (50,)\n",
      "[[ 80.36013958]\n",
      " [-29.10776688]] [[ 0.8411693   0.54077186]\n",
      " [-0.54077186  0.8411693 ]]\n",
      "(100, 2) (100, 2, 2)\n",
      "Number of point tracks before run() 318\n",
      "Number of extended tracks before run() 2\n"
     ]
    },
    {
     "name": "stderr",
     "output_type": "stream",
     "text": [
      "C:\\Users\\gadli\\old_pc\\Tau\\Thesis\\polynoms\\tracker.py:52: VisibleDeprecationWarning: Creating an ndarray from ragged nested sequences (which is a list-or-tuple of lists-or-tuples-or ndarrays with different lengths or shapes) is deprecated. If you meant to do this, you must specify 'dtype=object' when creating the ndarray\n",
      "  Ha = np.array([1, z[0], z[0]**2])\n",
      "C:\\Users\\gadli\\old_pc\\Tau\\Thesis\\polynoms\\tracker.py:75: RuntimeWarning: divide by zero encountered in double_scalars\n",
      "  ratio = np.sqrt(lp)/le\n"
     ]
    },
    {
     "name": "stdout",
     "output_type": "stream",
     "text": [
      "len(unique_polynoms) 0\n",
      "frame 133\n",
      "81.19025566426019 181.19025566426018\n",
      "(50,) (50,)\n",
      "[[ 81.19025566]\n",
      " [-29.63671816]] [[ 0.83862672  0.54470654]\n",
      " [-0.54470654  0.83862672]]\n",
      "(100, 2) (100, 2, 2)\n",
      "Number of point tracks before run() 316\n",
      "Number of extended tracks before run() 3\n"
     ]
    },
    {
     "name": "stderr",
     "output_type": "stream",
     "text": [
      "C:\\Users\\gadli\\old_pc\\Tau\\Thesis\\polynoms\\tracker.py:52: VisibleDeprecationWarning: Creating an ndarray from ragged nested sequences (which is a list-or-tuple of lists-or-tuples-or ndarrays with different lengths or shapes) is deprecated. If you meant to do this, you must specify 'dtype=object' when creating the ndarray\n",
      "  Ha = np.array([1, z[0], z[0]**2])\n"
     ]
    },
    {
     "name": "stdout",
     "output_type": "stream",
     "text": [
      "Updating extended object track =  2\n",
      "Updating extended object track =  2\n",
      "Updating extended object track =  1\n"
     ]
    },
    {
     "name": "stderr",
     "output_type": "stream",
     "text": [
      "C:\\Users\\gadli\\old_pc\\Tau\\Thesis\\polynoms\\tracker.py:75: RuntimeWarning: divide by zero encountered in double_scalars\n",
      "  ratio = np.sqrt(lp)/le\n"
     ]
    },
    {
     "name": "stdout",
     "output_type": "stream",
     "text": [
      "len(unique_polynoms) 2\n",
      "frame 134\n",
      "82.02811177756153 182.02811177756155\n",
      "(50,) (50,)\n",
      "[[ 82.02811178]\n",
      " [-30.17619148]] [[ 0.83605754  0.54864177]\n",
      " [-0.54864177  0.83605754]]\n",
      "(100, 2) (100, 2, 2)\n",
      "Number of point tracks before run() 318\n",
      "Number of extended tracks before run() 3\n"
     ]
    },
    {
     "name": "stderr",
     "output_type": "stream",
     "text": [
      "C:\\Users\\gadli\\old_pc\\Tau\\Thesis\\polynoms\\tracker.py:52: VisibleDeprecationWarning: Creating an ndarray from ragged nested sequences (which is a list-or-tuple of lists-or-tuples-or ndarrays with different lengths or shapes) is deprecated. If you meant to do this, you must specify 'dtype=object' when creating the ndarray\n",
      "  Ha = np.array([1, z[0], z[0]**2])\n",
      "C:\\Users\\gadli\\old_pc\\Tau\\Thesis\\polynoms\\tracker.py:75: RuntimeWarning: divide by zero encountered in double_scalars\n",
      "  ratio = np.sqrt(lp)/le\n"
     ]
    },
    {
     "name": "stdout",
     "output_type": "stream",
     "text": [
      "Updating extended object track =  1\n",
      "Updating extended object track =  2\n",
      "Updating extended object track =  0\n",
      "len(unique_polynoms) 3\n",
      "frame 135\n",
      "82.87400493756265 182.87400493756263\n",
      "(50,) (50,)\n",
      "[[ 82.87400494]\n",
      " [-30.72653673]] [[ 0.83346113  0.55257809]\n",
      " [-0.55257809  0.83346113]]\n",
      "(100, 2) (100, 2, 2)\n",
      "Number of point tracks before run() 324\n",
      "Number of extended tracks before run() 3\n"
     ]
    },
    {
     "name": "stderr",
     "output_type": "stream",
     "text": [
      "C:\\Users\\gadli\\old_pc\\Tau\\Thesis\\polynoms\\tracker.py:52: VisibleDeprecationWarning: Creating an ndarray from ragged nested sequences (which is a list-or-tuple of lists-or-tuples-or ndarrays with different lengths or shapes) is deprecated. If you meant to do this, you must specify 'dtype=object' when creating the ndarray\n",
      "  Ha = np.array([1, z[0], z[0]**2])\n",
      "C:\\Users\\gadli\\old_pc\\Tau\\Thesis\\polynoms\\tracker.py:75: RuntimeWarning: divide by zero encountered in double_scalars\n",
      "  ratio = np.sqrt(lp)/le\n"
     ]
    },
    {
     "name": "stdout",
     "output_type": "stream",
     "text": [
      "Updating extended object track =  2\n",
      "len(unique_polynoms) 1\n",
      "frame 136\n",
      "83.72825269828613 183.72825269828613\n",
      "(50,) (50,)\n",
      "[[ 83.7282527 ]\n",
      " [-31.28812693]] [[ 0.83083681  0.55651612]\n",
      " [-0.55651612  0.83083681]]\n",
      "(100, 2) (100, 2, 2)\n",
      "Number of point tracks before run() 345\n",
      "Number of extended tracks before run() 3\n"
     ]
    },
    {
     "name": "stderr",
     "output_type": "stream",
     "text": [
      "C:\\Users\\gadli\\old_pc\\Tau\\Thesis\\polynoms\\tracker.py:52: VisibleDeprecationWarning: Creating an ndarray from ragged nested sequences (which is a list-or-tuple of lists-or-tuples-or ndarrays with different lengths or shapes) is deprecated. If you meant to do this, you must specify 'dtype=object' when creating the ndarray\n",
      "  Ha = np.array([1, z[0], z[0]**2])\n",
      "C:\\Users\\gadli\\old_pc\\Tau\\Thesis\\polynoms\\tracker.py:75: RuntimeWarning: divide by zero encountered in double_scalars\n",
      "  ratio = np.sqrt(lp)/le\n"
     ]
    },
    {
     "name": "stdout",
     "output_type": "stream",
     "text": [
      "Updating extended object track =  0\n",
      "Updating extended object track =  1\n",
      "len(unique_polynoms) 2\n",
      "frame 137\n",
      "84.59119524441515 184.59119524441513\n",
      "(50,) (50,)\n",
      "[[ 84.59119524]\n",
      " [-31.86136049]] [[ 0.82818386  0.5604565 ]\n",
      " [-0.5604565   0.82818386]]\n",
      "(100, 2) (100, 2, 2)\n",
      "Number of point tracks before run() 341\n",
      "Number of extended tracks before run() 3\n"
     ]
    },
    {
     "name": "stderr",
     "output_type": "stream",
     "text": [
      "C:\\Users\\gadli\\old_pc\\Tau\\Thesis\\polynoms\\tracker.py:52: VisibleDeprecationWarning: Creating an ndarray from ragged nested sequences (which is a list-or-tuple of lists-or-tuples-or ndarrays with different lengths or shapes) is deprecated. If you meant to do this, you must specify 'dtype=object' when creating the ndarray\n",
      "  Ha = np.array([1, z[0], z[0]**2])\n",
      "C:\\Users\\gadli\\old_pc\\Tau\\Thesis\\polynoms\\tracker.py:75: RuntimeWarning: divide by zero encountered in double_scalars\n",
      "  ratio = np.sqrt(lp)/le\n"
     ]
    },
    {
     "name": "stdout",
     "output_type": "stream",
     "text": [
      "Updating extended object track =  2\n",
      "Updating extended object track =  2\n",
      "Updating extended object track =  2\n",
      "Updating extended object track =  2\n",
      "len(unique_polynoms) 1\n",
      "frame 138\n",
      "85.46319776818773 185.46319776818774\n",
      "(50,) (50,)\n",
      "[[ 85.46319777]\n",
      " [-32.44666391]] [[ 0.82550147  0.56439996]\n",
      " [-0.56439996  0.82550147]]\n",
      "(100, 2) (100, 2, 2)\n",
      "Number of point tracks before run() 327\n",
      "Number of extended tracks before run() 3\n"
     ]
    },
    {
     "name": "stderr",
     "output_type": "stream",
     "text": [
      "C:\\Users\\gadli\\old_pc\\Tau\\Thesis\\polynoms\\tracker.py:52: VisibleDeprecationWarning: Creating an ndarray from ragged nested sequences (which is a list-or-tuple of lists-or-tuples-or ndarrays with different lengths or shapes) is deprecated. If you meant to do this, you must specify 'dtype=object' when creating the ndarray\n",
      "  Ha = np.array([1, z[0], z[0]**2])\n",
      "C:\\Users\\gadli\\old_pc\\Tau\\Thesis\\polynoms\\tracker.py:75: RuntimeWarning: divide by zero encountered in double_scalars\n",
      "  ratio = np.sqrt(lp)/le\n"
     ]
    },
    {
     "name": "stdout",
     "output_type": "stream",
     "text": [
      "Updating extended object track =  1\n",
      "Updating extended object track =  2\n",
      "len(unique_polynoms) 2\n",
      "frame 139\n",
      "86.34465318143658 186.34465318143657\n",
      "(50,) (50,)\n",
      "[[ 86.34465318]\n",
      " [-33.04449465]] [[ 0.82278877  0.56834729]\n",
      " [-0.56834729  0.82278877]]\n",
      "(100, 2) (100, 2, 2)\n",
      "Number of point tracks before run() 311\n",
      "Number of extended tracks before run() 3\n"
     ]
    },
    {
     "name": "stderr",
     "output_type": "stream",
     "text": [
      "C:\\Users\\gadli\\old_pc\\Tau\\Thesis\\polynoms\\tracker.py:52: VisibleDeprecationWarning: Creating an ndarray from ragged nested sequences (which is a list-or-tuple of lists-or-tuples-or ndarrays with different lengths or shapes) is deprecated. If you meant to do this, you must specify 'dtype=object' when creating the ndarray\n",
      "  Ha = np.array([1, z[0], z[0]**2])\n"
     ]
    },
    {
     "name": "stdout",
     "output_type": "stream",
     "text": [
      "Updating extended object track =  0\n",
      "Updating extended object track =  1\n",
      "Updating extended object track =  2\n",
      "Updating extended object track =  1\n"
     ]
    },
    {
     "name": "stderr",
     "output_type": "stream",
     "text": [
      "C:\\Users\\gadli\\old_pc\\Tau\\Thesis\\polynoms\\tracker.py:75: RuntimeWarning: divide by zero encountered in double_scalars\n",
      "  ratio = np.sqrt(lp)/le\n"
     ]
    },
    {
     "name": "stdout",
     "output_type": "stream",
     "text": [
      "len(unique_polynoms) 3\n",
      "frame 140\n",
      "87.23598522290219 187.23598522290217\n",
      "(50,) (50,)\n",
      "[[ 87.23598522]\n",
      " [-33.6553446 ]] [[ 0.8200448   0.57229933]\n",
      " [-0.57229933  0.8200448 ]]\n",
      "(100, 2) (100, 2, 2)\n",
      "Number of point tracks before run() 311\n",
      "Number of extended tracks before run() 3\n"
     ]
    },
    {
     "name": "stderr",
     "output_type": "stream",
     "text": [
      "C:\\Users\\gadli\\old_pc\\Tau\\Thesis\\polynoms\\tracker.py:52: VisibleDeprecationWarning: Creating an ndarray from ragged nested sequences (which is a list-or-tuple of lists-or-tuples-or ndarrays with different lengths or shapes) is deprecated. If you meant to do this, you must specify 'dtype=object' when creating the ndarray\n",
      "  Ha = np.array([1, z[0], z[0]**2])\n",
      "C:\\Users\\gadli\\old_pc\\Tau\\Thesis\\polynoms\\tracker.py:75: RuntimeWarning: divide by zero encountered in double_scalars\n",
      "  ratio = np.sqrt(lp)/le\n"
     ]
    },
    {
     "name": "stdout",
     "output_type": "stream",
     "text": [
      "Updating extended object track =  1\n",
      "Updating extended object track =  1\n",
      "len(unique_polynoms) 1\n",
      "frame 141\n",
      "88.13765203420336 188.13765203420337\n",
      "(50,) (50,)\n",
      "[[ 88.13765203]\n",
      " [-34.27974396]] [[ 0.81726852  0.57625703]\n",
      " [-0.57625703  0.81726852]]\n",
      "(100, 2) (100, 2, 2)\n",
      "Number of point tracks before run() 312\n",
      "Number of extended tracks before run() 3\n"
     ]
    },
    {
     "name": "stderr",
     "output_type": "stream",
     "text": [
      "C:\\Users\\gadli\\old_pc\\Tau\\Thesis\\polynoms\\tracker.py:52: VisibleDeprecationWarning: Creating an ndarray from ragged nested sequences (which is a list-or-tuple of lists-or-tuples-or ndarrays with different lengths or shapes) is deprecated. If you meant to do this, you must specify 'dtype=object' when creating the ndarray\n",
      "  Ha = np.array([1, z[0], z[0]**2])\n",
      "C:\\Users\\gadli\\old_pc\\Tau\\Thesis\\polynoms\\tracker.py:75: RuntimeWarning: divide by zero encountered in double_scalars\n",
      "  ratio = np.sqrt(lp)/le\n"
     ]
    },
    {
     "name": "stdout",
     "output_type": "stream",
     "text": [
      "len(unique_polynoms) 0\n",
      "frame 142\n",
      "89.05015029461575 189.05015029461575\n",
      "(50,) (50,)\n",
      "[[ 89.05015029]\n",
      " [-34.91826572]] [[ 0.81445878  0.58022142]\n",
      " [-0.58022142  0.81445878]]\n",
      "(100, 2) (100, 2, 2)\n",
      "Number of point tracks before run() 308\n",
      "Number of extended tracks before run() 3\n"
     ]
    },
    {
     "name": "stderr",
     "output_type": "stream",
     "text": [
      "C:\\Users\\gadli\\old_pc\\Tau\\Thesis\\polynoms\\tracker.py:52: VisibleDeprecationWarning: Creating an ndarray from ragged nested sequences (which is a list-or-tuple of lists-or-tuples-or ndarrays with different lengths or shapes) is deprecated. If you meant to do this, you must specify 'dtype=object' when creating the ndarray\n",
      "  Ha = np.array([1, z[0], z[0]**2])\n",
      "C:\\Users\\gadli\\old_pc\\Tau\\Thesis\\polynoms\\tracker.py:75: RuntimeWarning: divide by zero encountered in double_scalars\n",
      "  ratio = np.sqrt(lp)/le\n"
     ]
    },
    {
     "name": "stdout",
     "output_type": "stream",
     "text": [
      "Updating extended object track =  2\n",
      "len(unique_polynoms) 1\n",
      "frame 143\n",
      "89.97402002617574 189.97402002617574\n",
      "(50,) (50,)\n",
      "[[ 89.97402003]\n",
      " [-35.57153094]] [[ 0.81161432  0.58419363]\n",
      " [-0.58419363  0.81161432]]\n",
      "(100, 2) (100, 2, 2)\n",
      "Number of point tracks before run() 310\n",
      "Number of extended tracks before run() 3\n"
     ]
    },
    {
     "name": "stderr",
     "output_type": "stream",
     "text": [
      "C:\\Users\\gadli\\old_pc\\Tau\\Thesis\\polynoms\\tracker.py:52: VisibleDeprecationWarning: Creating an ndarray from ragged nested sequences (which is a list-or-tuple of lists-or-tuples-or ndarrays with different lengths or shapes) is deprecated. If you meant to do this, you must specify 'dtype=object' when creating the ndarray\n",
      "  Ha = np.array([1, z[0], z[0]**2])\n",
      "C:\\Users\\gadli\\old_pc\\Tau\\Thesis\\polynoms\\tracker.py:75: RuntimeWarning: divide by zero encountered in double_scalars\n",
      "  ratio = np.sqrt(lp)/le\n"
     ]
    },
    {
     "name": "stdout",
     "output_type": "stream",
     "text": [
      "Updating extended object track =  0\n",
      "len(unique_polynoms) 1\n",
      "frame 144\n",
      "90.90985020808773 190.90985020808773\n",
      "(50,) (50,)\n",
      "[[ 90.90985021]\n",
      " [-36.24021481]] [[ 0.80873375  0.58817491]\n",
      " [-0.58817491  0.80873375]]\n",
      "(100, 2) (100, 2, 2)\n",
      "Number of point tracks before run() 329\n",
      "Number of extended tracks before run() 3\n"
     ]
    },
    {
     "name": "stderr",
     "output_type": "stream",
     "text": [
      "C:\\Users\\gadli\\old_pc\\Tau\\Thesis\\polynoms\\tracker.py:52: VisibleDeprecationWarning: Creating an ndarray from ragged nested sequences (which is a list-or-tuple of lists-or-tuples-or ndarrays with different lengths or shapes) is deprecated. If you meant to do this, you must specify 'dtype=object' when creating the ndarray\n",
      "  Ha = np.array([1, z[0], z[0]**2])\n",
      "C:\\Users\\gadli\\old_pc\\Tau\\Thesis\\polynoms\\tracker.py:75: RuntimeWarning: divide by zero encountered in double_scalars\n",
      "  ratio = np.sqrt(lp)/le\n"
     ]
    },
    {
     "name": "stdout",
     "output_type": "stream",
     "text": [
      "Updating extended object track =  1\n",
      "Updating extended object track =  1\n",
      "len(unique_polynoms) 1\n",
      "frame 145\n",
      "91.85828537502164 191.85828537502164\n",
      "(50,) (50,)\n",
      "[[ 91.85828538]\n",
      " [-36.9250538 ]] [[ 0.80581552  0.59216666]\n",
      " [-0.59216666  0.80581552]]\n",
      "(100, 2) (100, 2, 2)\n",
      "Number of point tracks before run() 317\n",
      "Number of extended tracks before run() 3\n"
     ]
    },
    {
     "name": "stderr",
     "output_type": "stream",
     "text": [
      "C:\\Users\\gadli\\old_pc\\Tau\\Thesis\\polynoms\\tracker.py:52: VisibleDeprecationWarning: Creating an ndarray from ragged nested sequences (which is a list-or-tuple of lists-or-tuples-or ndarrays with different lengths or shapes) is deprecated. If you meant to do this, you must specify 'dtype=object' when creating the ndarray\n",
      "  Ha = np.array([1, z[0], z[0]**2])\n",
      "C:\\Users\\gadli\\old_pc\\Tau\\Thesis\\polynoms\\tracker.py:75: RuntimeWarning: divide by zero encountered in double_scalars\n",
      "  ratio = np.sqrt(lp)/le\n"
     ]
    },
    {
     "name": "stdout",
     "output_type": "stream",
     "text": [
      "Updating extended object track =  0\n",
      "Updating extended object track =  2\n",
      "len(unique_polynoms) 2\n",
      "frame 146\n",
      "92.8200334205092 192.82003342050922\n",
      "(50,) (50,)\n",
      "[[ 92.82003342]\n",
      " [-37.62685412]] [[ 0.80285793  0.5961704 ]\n",
      " [-0.5961704   0.80285793]]\n",
      "(100, 2) (100, 2, 2)\n",
      "Number of point tracks before run() 325\n",
      "Number of extended tracks before run() 4\n"
     ]
    },
    {
     "name": "stderr",
     "output_type": "stream",
     "text": [
      "C:\\Users\\gadli\\old_pc\\Tau\\Thesis\\polynoms\\tracker.py:52: VisibleDeprecationWarning: Creating an ndarray from ragged nested sequences (which is a list-or-tuple of lists-or-tuples-or ndarrays with different lengths or shapes) is deprecated. If you meant to do this, you must specify 'dtype=object' when creating the ndarray\n",
      "  Ha = np.array([1, z[0], z[0]**2])\n",
      "C:\\Users\\gadli\\old_pc\\Tau\\Thesis\\polynoms\\tracker.py:75: RuntimeWarning: divide by zero encountered in double_scalars\n",
      "  ratio = np.sqrt(lp)/le\n"
     ]
    },
    {
     "name": "stdout",
     "output_type": "stream",
     "text": [
      "Updating extended object track =  2\n",
      "Updating extended object track =  3\n",
      "Updating extended object track =  1\n",
      "len(unique_polynoms) 3\n",
      "frame 147\n",
      "93.79587488832225 193.79587488832226\n",
      "(50,) (50,)\n",
      "[[ 93.79587489]\n",
      " [-38.34650171]] [[ 0.79985908  0.60018785]\n",
      " [-0.60018785  0.79985908]]\n",
      "(100, 2) (100, 2, 2)\n",
      "Number of point tracks before run() 322\n",
      "Number of extended tracks before run() 4\n"
     ]
    },
    {
     "name": "stderr",
     "output_type": "stream",
     "text": [
      "C:\\Users\\gadli\\old_pc\\Tau\\Thesis\\polynoms\\tracker.py:52: VisibleDeprecationWarning: Creating an ndarray from ragged nested sequences (which is a list-or-tuple of lists-or-tuples-or ndarrays with different lengths or shapes) is deprecated. If you meant to do this, you must specify 'dtype=object' when creating the ndarray\n",
      "  Ha = np.array([1, z[0], z[0]**2])\n",
      "C:\\Users\\gadli\\old_pc\\Tau\\Thesis\\polynoms\\tracker.py:75: RuntimeWarning: divide by zero encountered in double_scalars\n",
      "  ratio = np.sqrt(lp)/le\n"
     ]
    },
    {
     "name": "stdout",
     "output_type": "stream",
     "text": [
      "Updating extended object track =  0\n",
      "Updating extended object track =  2\n",
      "Updating extended object track =  3\n",
      "len(unique_polynoms) 3\n",
      "frame 148\n",
      "94.78667411722583 194.78667411722583\n",
      "(50,) (50,)\n",
      "[[ 94.78667412]\n",
      " [-39.08497429]] [[ 0.79681683  0.60422094]\n",
      " [-0.60422094  0.79681683]]\n",
      "(100, 2) (100, 2, 2)\n",
      "Number of point tracks before run() 313\n",
      "Number of extended tracks before run() 4\n"
     ]
    },
    {
     "name": "stderr",
     "output_type": "stream",
     "text": [
      "C:\\Users\\gadli\\old_pc\\Tau\\Thesis\\polynoms\\tracker.py:52: VisibleDeprecationWarning: Creating an ndarray from ragged nested sequences (which is a list-or-tuple of lists-or-tuples-or ndarrays with different lengths or shapes) is deprecated. If you meant to do this, you must specify 'dtype=object' when creating the ndarray\n",
      "  Ha = np.array([1, z[0], z[0]**2])\n",
      "C:\\Users\\gadli\\old_pc\\Tau\\Thesis\\polynoms\\tracker.py:75: RuntimeWarning: divide by zero encountered in double_scalars\n",
      "  ratio = np.sqrt(lp)/le\n"
     ]
    },
    {
     "name": "stdout",
     "output_type": "stream",
     "text": [
      "Updating extended object track =  3\n",
      "len(unique_polynoms) 1\n",
      "frame 149\n",
      "95.79339271622823 195.79339271622823\n",
      "(50,) (50,)\n",
      "[[ 95.79339272]\n",
      " [-39.84335582]] [[ 0.79372881  0.6082718 ]\n",
      " [-0.6082718   0.79372881]]\n",
      "(100, 2) (100, 2, 2)\n",
      "Number of point tracks before run() 319\n",
      "Number of extended tracks before run() 4\n"
     ]
    },
    {
     "name": "stderr",
     "output_type": "stream",
     "text": [
      "C:\\Users\\gadli\\old_pc\\Tau\\Thesis\\polynoms\\tracker.py:52: VisibleDeprecationWarning: Creating an ndarray from ragged nested sequences (which is a list-or-tuple of lists-or-tuples-or ndarrays with different lengths or shapes) is deprecated. If you meant to do this, you must specify 'dtype=object' when creating the ndarray\n",
      "  Ha = np.array([1, z[0], z[0]**2])\n",
      "C:\\Users\\gadli\\old_pc\\Tau\\Thesis\\polynoms\\tracker.py:75: RuntimeWarning: divide by zero encountered in double_scalars\n",
      "  ratio = np.sqrt(lp)/le\n"
     ]
    },
    {
     "name": "stdout",
     "output_type": "stream",
     "text": [
      "len(unique_polynoms) 0\n"
     ]
    },
    {
     "data": {
      "image/png": "[encoded data removed]",
      "text/plain": [
       "<Figure size 2880x1080 with 6 Axes>"
      ]
     },
     "metadata": {
      "needs_background": "light"
     },
     "output_type": "display_data"
    }
   ],
   "source": [
    "sim = DynamicSimulation()\n",
    "sim.run()"
   ]
  },
  {
   "cell_type": "code",
   "execution_count": 69,
   "metadata": {},
   "outputs": [
    {
     "name": "stdout",
     "output_type": "stream",
     "text": [
      "[ 2.23606798  3.16227766 17.8485791 ]\n",
      "(1, 2) (2, 3)\n",
      "[  63.43494882 -161.56505118    5.71059314]\n"
     ]
    }
   ],
   "source": [
    "a = np.array([1, 0])\n",
    "a.shape=(1,2)\n",
    "b = np.array([[1, 2], [-3, -1], [17.76,1.776]]).T\n",
    "b_norm = np.sum(np.abs(b)**2,axis=0)**(1./2)\n",
    "print(b_norm)\n",
    "print(a.shape, b.shape)\n",
    "c = np.arctan2(a[:,0]*b[1,:]-a[:,1]*b[0,:],a[:,0]*b[0,:]+a[:,1]*b[1,:])\n",
    "print(np.rad2deg(c))"
   ]
  },
  {
   "cell_type": "markdown",
   "metadata": {},
   "source": [
    "### Simple example"
   ]
  },
  {
   "cell_type": "code",
   "execution_count": 3,
   "metadata": {},
   "outputs": [
    {
     "name": "stdout",
     "output_type": "stream",
     "text": [
      "a1 error:0.12405672913285892\n",
      "a2 error:0.005081171692870597\n",
      "a3 error:2.7236179941667396e-06\n",
      "a1=3.124056729132859 a2=0.024918828307129402 a3=-0.003997276382005833\n"
     ]
    },
    {
     "name": "stderr",
     "output_type": "stream",
     "text": [
      "C:\\Users\\gadli\\old_pc\\Tau\\Thesis\\polynoms\\tools.py:83: RuntimeWarning: divide by zero encountered in true_divide\n",
      "  Az = np.arctan(y/x)\n"
     ]
    },
    {
     "data": {
      "text/plain": [
       "[<matplotlib.lines.Line2D at 0x2028de3e128>]"
      ]
     },
     "execution_count": 3,
     "metadata": {},
     "output_type": "execute_result"
    },
    {
     "data": {
      "image/png": "[encoded data removed]",
      "text/plain": [
       "<Figure size 432x288 with 1 Axes>"
      ]
     },
     "metadata": {
      "needs_background": "light"
     },
     "output_type": "display_data"
    }
   ],
   "source": [
    "a1, a2, a3 = 3, 0.03, -0.004\n",
    "dR, dAz = 0.4, 0.05 # [m,rad]\n",
    "model = ExtendedObjectTrack(gamma=0.99)\n",
    "\n",
    "for t in range(50):\n",
    "    [_,_,x_meas,y_meas,meas_cov] = generatePolynomNoisyPoints(N=20,a1=a1,a2=a2,a3=a3,dR=dR,dAz=dAz)\n",
    "    model.predict()\n",
    "    for x,y,cov in zip(x_meas,y_meas,meas_cov):\n",
    "        Hse = np.array([1 if x < model.getStateVector()[3] else 0, 1 if x > model.getStateVector()[4] else 0])\n",
    "        H = np.array([[0, 0, 0, Hse[0], Hse[1]],[1, x, x**2, 0, 0]])\n",
    "        R = np.diag([cov[0,0], cov[1,1]])\n",
    "        z = np.array([x, y]).T\n",
    "        model.update(z=z,current_frame_idx=t,H=H,R=R)\n",
    "    model.save() # save the filter's state\n",
    "states = model.getHistory()\n",
    "print(\"a1 error:{}\".format(np.abs(a1-states[-1,0,0])))\n",
    "print(\"a2 error:{}\".format(np.abs(a2-states[-1,1,0])))\n",
    "print(\"a3 error:{}\".format(np.abs(a3-states[-1,2,0])))\n",
    "plt.figure()\n",
    "x, y = createPolynom(a1=a1,a2=a2,a3=a3)\n",
    "plt.plot(y,x,label='true')\n",
    "print(\"a1={} a2={} a3={}\".format(states[-1,0,0],states[-1,1,0],states[-1,2,0]))\n",
    "x_est, y_est = createPolynom(a1=states[-1,0,0],a2=states[-1,1,0],a3=states[-1,2,0])\n",
    "plt.plot(y_est,x_est,label='estimated')"
   ]
  },
  {
   "cell_type": "markdown",
   "metadata": {},
   "source": [
    "### Tracker Example"
   ]
  },
  {
   "cell_type": "code",
   "execution_count": 5,
   "metadata": {},
   "outputs": [
    {
     "name": "stdout",
     "output_type": "stream",
     "text": [
      "t 0\n",
      "Number of point tracks before run() 0\n",
      "Number of extended tracks before run() 0\n",
      "len(unique_polynoms) 0\n"
     ]
    },
    {
     "name": "stderr",
     "output_type": "stream",
     "text": [
      "C:\\Users\\gadli\\old_pc\\Tau\\Thesis\\polynoms\\tools.py:83: RuntimeWarning: divide by zero encountered in true_divide\n",
      "  Az = np.arctan(y/x)\n",
      "C:\\Users\\gadli\\Anaconda3\\lib\\site-packages\\ipykernel_launcher.py:55: VisibleDeprecationWarning: Creating an ndarray from ragged nested sequences (which is a list-or-tuple of lists-or-tuples-or ndarrays with different lengths or shapes) is deprecated. If you meant to do this, you must specify 'dtype=object' when creating the ndarray\n",
      "C:\\Users\\gadli\\Anaconda3\\lib\\site-packages\\ipykernel_launcher.py:78: RuntimeWarning: divide by zero encountered in double_scalars\n"
     ]
    },
    {
     "name": "stdout",
     "output_type": "stream",
     "text": [
      "t 1\n",
      "Number of point tracks before run() 85\n",
      "Number of extended tracks before run() 1\n",
      "Updating extended object track =  0\n",
      "P after update [[ 5.57606933e-02 -1.02138660e-02  3.17076802e-04  0.00000000e+00\n",
      "   0.00000000e+00]\n",
      " [-1.02138660e-02  5.39467237e-03 -2.02368910e-04  0.00000000e+00\n",
      "   0.00000000e+00]\n",
      " [ 3.17076802e-04 -2.02368910e-04  8.19539977e-06  0.00000000e+00\n",
      "   0.00000000e+00]\n",
      " [ 0.00000000e+00  0.00000000e+00  0.00000000e+00  1.30306728e-01\n",
      "   4.81525615e-03]\n",
      " [ 0.00000000e+00  0.00000000e+00  0.00000000e+00  4.81525615e-03\n",
      "   5.29677496e+01]]\n",
      "Updating extended object track =  0\n",
      "P after update [[ 5.34854652e-02 -8.28067531e-03  2.18707607e-04  0.00000000e+00\n",
      "   0.00000000e+00]\n",
      " [-8.28067531e-03  3.75210016e-03 -1.18787655e-04  0.00000000e+00\n",
      "   0.00000000e+00]\n",
      " [ 2.18707607e-04 -1.18787655e-04  3.94242015e-06  0.00000000e+00\n",
      "   0.00000000e+00]\n",
      " [ 0.00000000e+00  0.00000000e+00  0.00000000e+00  1.30306309e-01\n",
      "   2.08966486e-04]\n",
      " [ 0.00000000e+00  0.00000000e+00  0.00000000e+00  2.08966486e-04\n",
      "   2.29862839e+00]]\n",
      "len(unique_polynoms) 1\n",
      "t 2\n",
      "Number of point tracks before run() 175\n",
      "Number of extended tracks before run() 1\n"
     ]
    },
    {
     "name": "stderr",
     "output_type": "stream",
     "text": [
      "C:\\Users\\gadli\\Anaconda3\\lib\\site-packages\\ipykernel_launcher.py:55: VisibleDeprecationWarning: Creating an ndarray from ragged nested sequences (which is a list-or-tuple of lists-or-tuples-or ndarrays with different lengths or shapes) is deprecated. If you meant to do this, you must specify 'dtype=object' when creating the ndarray\n"
     ]
    },
    {
     "name": "stdout",
     "output_type": "stream",
     "text": [
      "Updating extended object track =  0\n",
      "P after update [[ 5.09691509e-02 -6.52179384e-03  1.50629414e-04  0.00000000e+00\n",
      "   0.00000000e+00]\n",
      " [-6.52179384e-03  2.52265756e-03 -7.12016004e-05  0.00000000e+00\n",
      "   0.00000000e+00]\n",
      " [ 1.50629414e-04 -7.12016004e-05  2.10058333e-06  0.00000000e+00\n",
      "   0.00000000e+00]\n",
      " [ 0.00000000e+00  0.00000000e+00  0.00000000e+00  5.12585508e+00\n",
      "   1.48292181e-02]\n",
      " [ 0.00000000e+00  0.00000000e+00  0.00000000e+00  1.48292181e-02\n",
      "   2.23569783e+00]]\n",
      "Updating extended object track =  0\n",
      "P after update [[ 4.90836822e-02 -7.04153992e-03  1.68289526e-04  0.00000000e+00\n",
      "   0.00000000e+00]\n",
      " [-7.04153992e-03  2.37938497e-03 -6.63334347e-05  0.00000000e+00\n",
      "   0.00000000e+00]\n",
      " [ 1.68289526e-04 -6.63334347e-05  1.93517112e-06  0.00000000e+00\n",
      "   0.00000000e+00]\n",
      " [ 0.00000000e+00  0.00000000e+00  0.00000000e+00  5.12585508e+00\n",
      "   1.48292181e-02]\n",
      " [ 0.00000000e+00  0.00000000e+00  0.00000000e+00  1.48292181e-02\n",
      "   2.23569783e+00]]\n",
      "Updating extended object track =  0\n",
      "P after update [[ 4.87604688e-02 -6.62578719e-03  1.56068736e-04  0.00000000e+00\n",
      "   0.00000000e+00]\n",
      " [-6.62578719e-03  1.84459793e-03 -5.06137053e-05  0.00000000e+00\n",
      "   0.00000000e+00]\n",
      " [ 1.56068736e-04 -5.06137053e-05  1.47309954e-06  0.00000000e+00\n",
      "   0.00000000e+00]\n",
      " [ 0.00000000e+00  0.00000000e+00  0.00000000e+00  5.12585508e+00\n",
      "   1.48292181e-02]\n",
      " [ 0.00000000e+00  0.00000000e+00  0.00000000e+00  1.48292181e-02\n",
      "   2.23569783e+00]]\n",
      "Updating extended object track =  0\n",
      "P after update [[ 4.87561901e-02 -6.59606553e-03  1.55172445e-04  0.00000000e+00\n",
      "   0.00000000e+00]\n",
      " [-6.59606553e-03  1.63813819e-03 -4.43876760e-05  0.00000000e+00\n",
      "   0.00000000e+00]\n",
      " [ 1.55172445e-04 -4.43876760e-05  1.28534651e-06  0.00000000e+00\n",
      "   0.00000000e+00]\n",
      " [ 0.00000000e+00  0.00000000e+00  0.00000000e+00  5.12585508e+00\n",
      "   1.48292181e-02]\n",
      " [ 0.00000000e+00  0.00000000e+00  0.00000000e+00  1.48292181e-02\n",
      "   2.23569783e+00]]\n",
      "Updating extended object track =  0\n",
      "P after update [[ 4.56993495e-02 -6.58298462e-03  1.57843280e-04  0.00000000e+00\n",
      "   0.00000000e+00]\n",
      " [-6.58298462e-03  1.63808222e-03 -4.43991051e-05  0.00000000e+00\n",
      "   0.00000000e+00]\n",
      " [ 1.57843280e-04 -4.43991051e-05  1.28301293e-06  0.00000000e+00\n",
      "   0.00000000e+00]\n",
      " [ 0.00000000e+00  0.00000000e+00  0.00000000e+00  5.12585508e+00\n",
      "   1.48292181e-02]\n",
      " [ 0.00000000e+00  0.00000000e+00  0.00000000e+00  1.48292181e-02\n",
      "   2.23569783e+00]]\n"
     ]
    },
    {
     "name": "stderr",
     "output_type": "stream",
     "text": [
      "C:\\Users\\gadli\\Anaconda3\\lib\\site-packages\\ipykernel_launcher.py:78: RuntimeWarning: divide by zero encountered in double_scalars\n"
     ]
    },
    {
     "name": "stdout",
     "output_type": "stream",
     "text": [
      "len(unique_polynoms) 1\n",
      "t 3\n",
      "Number of point tracks before run() 241\n",
      "Number of extended tracks before run() 1\n"
     ]
    },
    {
     "name": "stderr",
     "output_type": "stream",
     "text": [
      "C:\\Users\\gadli\\Anaconda3\\lib\\site-packages\\ipykernel_launcher.py:55: VisibleDeprecationWarning: Creating an ndarray from ragged nested sequences (which is a list-or-tuple of lists-or-tuples-or ndarrays with different lengths or shapes) is deprecated. If you meant to do this, you must specify 'dtype=object' when creating the ndarray\n",
      "C:\\Users\\gadli\\Anaconda3\\lib\\site-packages\\ipykernel_launcher.py:78: RuntimeWarning: divide by zero encountered in double_scalars\n"
     ]
    },
    {
     "name": "stdout",
     "output_type": "stream",
     "text": [
      "Updating extended object track =  0\n",
      "P after update [[ 4.49560316e-02 -6.69840939e-03  1.62122613e-04  0.00000000e+00\n",
      "   0.00000000e+00]\n",
      " [-6.69840939e-03  1.62015869e-03 -4.37345966e-05  0.00000000e+00\n",
      "   0.00000000e+00]\n",
      " [ 1.62122613e-04 -4.37345966e-05  1.25837652e-06  0.00000000e+00\n",
      "   0.00000000e+00]\n",
      " [ 0.00000000e+00  0.00000000e+00  0.00000000e+00  9.92434680e+00\n",
      "   1.58534350e-01]\n",
      " [ 0.00000000e+00  0.00000000e+00  0.00000000e+00  1.58534350e-01\n",
      "   7.14979584e+00]]\n",
      "Updating extended object track =  0\n",
      "P after update [[ 4.40837370e-02 -6.26051310e-03  1.49870404e-04  0.00000000e+00\n",
      "   0.00000000e+00]\n",
      " [-6.26051310e-03  1.40033253e-03 -3.75839257e-05  0.00000000e+00\n",
      "   0.00000000e+00]\n",
      " [ 1.49870404e-04 -3.75839257e-05  1.08628256e-06  0.00000000e+00\n",
      "   0.00000000e+00]\n",
      " [ 0.00000000e+00  0.00000000e+00  0.00000000e+00  9.92434680e+00\n",
      "   1.58534350e-01]\n",
      " [ 0.00000000e+00  0.00000000e+00  0.00000000e+00  1.58534350e-01\n",
      "   7.14979584e+00]]\n",
      "Updating extended object track =  0\n",
      "P after update [[ 4.20018475e-02 -5.64770250e-03  1.35712435e-04  0.00000000e+00\n",
      "   0.00000000e+00]\n",
      " [-5.64770250e-03  1.21994984e-03 -3.34164839e-05  0.00000000e+00\n",
      "   0.00000000e+00]\n",
      " [ 1.35712435e-04 -3.34164839e-05  9.90000755e-07  0.00000000e+00\n",
      "   0.00000000e+00]\n",
      " [ 0.00000000e+00  0.00000000e+00  0.00000000e+00  9.92434680e+00\n",
      "   1.58534350e-01]\n",
      " [ 0.00000000e+00  0.00000000e+00  0.00000000e+00  1.58534350e-01\n",
      "   7.14979584e+00]]\n",
      "len(unique_polynoms) 1\n"
     ]
    },
    {
     "name": "stderr",
     "output_type": "stream",
     "text": [
      "C:\\Users\\gadli\\old_pc\\Tau\\Thesis\\polynoms\\tools.py:83: RuntimeWarning: divide by zero encountered in true_divide\n",
      "  Az = np.arctan(y/x)\n",
      "C:\\Users\\gadli\\Anaconda3\\lib\\site-packages\\ipykernel_launcher.py:55: VisibleDeprecationWarning: Creating an ndarray from ragged nested sequences (which is a list-or-tuple of lists-or-tuples-or ndarrays with different lengths or shapes) is deprecated. If you meant to do this, you must specify 'dtype=object' when creating the ndarray\n"
     ]
    },
    {
     "name": "stdout",
     "output_type": "stream",
     "text": [
      "t 4\n",
      "Number of point tracks before run() 296\n",
      "Number of extended tracks before run() 1\n"
     ]
    },
    {
     "name": "stderr",
     "output_type": "stream",
     "text": [
      "C:\\Users\\gadli\\Anaconda3\\lib\\site-packages\\ipykernel_launcher.py:78: RuntimeWarning: divide by zero encountered in double_scalars\n"
     ]
    },
    {
     "name": "stdout",
     "output_type": "stream",
     "text": [
      "Updating extended object track =  0\n",
      "P after update [[ 2.44085458e-02 -3.52562002e-03  8.68567582e-05  0.00000000e+00\n",
      "   0.00000000e+00]\n",
      " [-3.52562002e-03  9.63986857e-04 -2.75235720e-05  0.00000000e+00\n",
      "   0.00000000e+00]\n",
      " [ 8.68567582e-05 -2.75235720e-05  8.54331101e-07  0.00000000e+00\n",
      "   0.00000000e+00]\n",
      " [ 0.00000000e+00  0.00000000e+00  0.00000000e+00  1.29464570e-01\n",
      "   4.33589692e-03]\n",
      " [ 0.00000000e+00  0.00000000e+00  0.00000000e+00  4.33589692e-03\n",
      "   1.18606842e+01]]\n",
      "Updating extended object track =  0\n",
      "P after update [[ 2.37164469e-02 -3.23459860e-03  7.47432816e-05  0.00000000e+00\n",
      "   0.00000000e+00]\n",
      " [-3.23459860e-03  8.41614938e-04 -2.24299629e-05  0.00000000e+00\n",
      "   0.00000000e+00]\n",
      " [ 7.47432816e-05 -2.24299629e-05  6.42314695e-07  0.00000000e+00\n",
      "   0.00000000e+00]\n",
      " [ 0.00000000e+00  0.00000000e+00  0.00000000e+00  1.29463340e-01\n",
      "   9.71228494e-04]\n",
      " [ 0.00000000e+00  0.00000000e+00  0.00000000e+00  9.71228494e-04\n",
      "   2.65675930e+00]]\n",
      "len(unique_polynoms) 1\n",
      "t 5\n",
      "Number of point tracks before run() 295\n",
      "Number of extended tracks before run() 1\n"
     ]
    },
    {
     "name": "stderr",
     "output_type": "stream",
     "text": [
      "C:\\Users\\gadli\\Anaconda3\\lib\\site-packages\\ipykernel_launcher.py:55: VisibleDeprecationWarning: Creating an ndarray from ragged nested sequences (which is a list-or-tuple of lists-or-tuples-or ndarrays with different lengths or shapes) is deprecated. If you meant to do this, you must specify 'dtype=object' when creating the ndarray\n"
     ]
    },
    {
     "name": "stdout",
     "output_type": "stream",
     "text": [
      "Updating extended object track =  0\n",
      "P after update [[ 2.32517488e-02 -3.01143837e-03  6.88491515e-05  0.00000000e+00\n",
      "   0.00000000e+00]\n",
      " [-3.01143837e-03  7.34447539e-04 -1.95994469e-05  0.00000000e+00\n",
      "   0.00000000e+00]\n",
      " [ 6.88491515e-05 -1.95994469e-05  5.67554827e-07  0.00000000e+00\n",
      "   0.00000000e+00]\n",
      " [ 0.00000000e+00  0.00000000e+00  0.00000000e+00  5.12543737e+00\n",
      "   5.55431201e-02]\n",
      " [ 0.00000000e+00  0.00000000e+00  0.00000000e+00  5.55431201e-02\n",
      "   7.55164149e+00]]\n",
      "Updating extended object track =  0\n",
      "P after update [[ 2.27811380e-02 -2.82849440e-03  6.17009716e-05  0.00000000e+00\n",
      "   0.00000000e+00]\n",
      " [-2.82849440e-03  6.63330400e-04 -1.68206830e-05  0.00000000e+00\n",
      "   0.00000000e+00]\n",
      " [ 6.17009716e-05 -1.68206830e-05  4.58980030e-07  0.00000000e+00\n",
      "   0.00000000e+00]\n",
      " [ 0.00000000e+00  0.00000000e+00  0.00000000e+00  5.12517034e+00\n",
      "   1.92380570e-02]\n",
      " [ 0.00000000e+00  0.00000000e+00  0.00000000e+00  1.92380570e-02\n",
      "   2.61560585e+00]]\n"
     ]
    },
    {
     "name": "stderr",
     "output_type": "stream",
     "text": [
      "C:\\Users\\gadli\\Anaconda3\\lib\\site-packages\\ipykernel_launcher.py:78: RuntimeWarning: divide by zero encountered in double_scalars\n"
     ]
    },
    {
     "name": "stdout",
     "output_type": "stream",
     "text": [
      "len(unique_polynoms) 1\n",
      "t 6\n",
      "Number of point tracks before run() 293\n",
      "Number of extended tracks before run() 1\n"
     ]
    },
    {
     "name": "stderr",
     "output_type": "stream",
     "text": [
      "C:\\Users\\gadli\\Anaconda3\\lib\\site-packages\\ipykernel_launcher.py:55: VisibleDeprecationWarning: Creating an ndarray from ragged nested sequences (which is a list-or-tuple of lists-or-tuples-or ndarrays with different lengths or shapes) is deprecated. If you meant to do this, you must specify 'dtype=object' when creating the ndarray\n",
      "C:\\Users\\gadli\\Anaconda3\\lib\\site-packages\\ipykernel_launcher.py:78: RuntimeWarning: divide by zero encountered in double_scalars\n"
     ]
    },
    {
     "name": "stdout",
     "output_type": "stream",
     "text": [
      "Updating extended object track =  0\n",
      "P after update [[ 2.27389696e-02 -2.85476804e-03  6.24838994e-05  0.00000000e+00\n",
      "   0.00000000e+00]\n",
      " [-2.85476804e-03  6.46960235e-04 -1.63328686e-05  0.00000000e+00\n",
      "   0.00000000e+00]\n",
      " [ 6.24838994e-05 -1.63328686e-05  4.44443654e-07  0.00000000e+00\n",
      "   0.00000000e+00]\n",
      " [ 0.00000000e+00  0.00000000e+00  0.00000000e+00  9.92401397e+00\n",
      "   1.70203138e-01]\n",
      " [ 0.00000000e+00  0.00000000e+00  0.00000000e+00  1.70203138e-01\n",
      "   7.51483205e+00]]\n",
      "len(unique_polynoms) 1\n"
     ]
    },
    {
     "name": "stderr",
     "output_type": "stream",
     "text": [
      "C:\\Users\\gadli\\old_pc\\Tau\\Thesis\\polynoms\\tools.py:83: RuntimeWarning: divide by zero encountered in true_divide\n",
      "  Az = np.arctan(y/x)\n",
      "C:\\Users\\gadli\\Anaconda3\\lib\\site-packages\\ipykernel_launcher.py:55: VisibleDeprecationWarning: Creating an ndarray from ragged nested sequences (which is a list-or-tuple of lists-or-tuples-or ndarrays with different lengths or shapes) is deprecated. If you meant to do this, you must specify 'dtype=object' when creating the ndarray\n"
     ]
    },
    {
     "name": "stdout",
     "output_type": "stream",
     "text": [
      "t 7\n",
      "Number of point tracks before run() 300\n",
      "Number of extended tracks before run() 1\n"
     ]
    },
    {
     "name": "stderr",
     "output_type": "stream",
     "text": [
      "C:\\Users\\gadli\\Anaconda3\\lib\\site-packages\\ipykernel_launcher.py:78: RuntimeWarning: divide by zero encountered in double_scalars\n"
     ]
    },
    {
     "name": "stdout",
     "output_type": "stream",
     "text": [
      "len(unique_polynoms) 0\n",
      "t 8\n",
      "Number of point tracks before run() 306\n",
      "Number of extended tracks before run() 2\n"
     ]
    },
    {
     "name": "stderr",
     "output_type": "stream",
     "text": [
      "C:\\Users\\gadli\\Anaconda3\\lib\\site-packages\\ipykernel_launcher.py:55: VisibleDeprecationWarning: Creating an ndarray from ragged nested sequences (which is a list-or-tuple of lists-or-tuples-or ndarrays with different lengths or shapes) is deprecated. If you meant to do this, you must specify 'dtype=object' when creating the ndarray\n",
      "C:\\Users\\gadli\\Anaconda3\\lib\\site-packages\\ipykernel_launcher.py:78: RuntimeWarning: divide by zero encountered in double_scalars\n"
     ]
    },
    {
     "name": "stdout",
     "output_type": "stream",
     "text": [
      "Updating extended object track =  1\n",
      "P after update [[ 5.44528473e+00 -2.89629881e-01  3.53654786e-03  0.00000000e+00\n",
      "   0.00000000e+00]\n",
      " [-2.89629881e-01  1.58154763e-02 -1.96550526e-04  0.00000000e+00\n",
      "   0.00000000e+00]\n",
      " [ 3.53654786e-03 -1.96550526e-04  2.47955580e-06  0.00000000e+00\n",
      "   0.00000000e+00]\n",
      " [ 0.00000000e+00  0.00000000e+00  0.00000000e+00  1.29032936e+00\n",
      "   4.76818540e-02]\n",
      " [ 0.00000000e+00  0.00000000e+00  0.00000000e+00  4.76818540e-02\n",
      "   5.29693336e+01]]\n",
      "Updating extended object track =  1\n",
      "P after update [[ 3.64447545e+00 -2.05369371e-01  2.59402646e-03  0.00000000e+00\n",
      "   0.00000000e+00]\n",
      " [-2.05369371e-01  1.18728969e-02 -1.52449613e-04  0.00000000e+00\n",
      "   0.00000000e+00]\n",
      " [ 2.59402646e-03 -1.52449613e-04  1.98625170e-06  0.00000000e+00\n",
      "   0.00000000e+00]\n",
      " [ 0.00000000e+00  0.00000000e+00  0.00000000e+00  6.24443186e-01\n",
      "   2.30752007e-02]\n",
      " [ 0.00000000e+00  0.00000000e+00  0.00000000e+00  2.30752007e-02\n",
      "   5.29684243e+01]]\n",
      "Updating extended object track =  0\n",
      "P after update [[ 2.25225968e-02 -2.74480894e-03  5.96386588e-05  0.00000000e+00\n",
      "   0.00000000e+00]\n",
      " [-2.74480894e-03  5.91079788e-04 -1.48869373e-05  0.00000000e+00\n",
      "   0.00000000e+00]\n",
      " [ 5.96386588e-05 -1.48869373e-05  4.07029540e-07  0.00000000e+00\n",
      "   0.00000000e+00]\n",
      " [ 0.00000000e+00  0.00000000e+00  0.00000000e+00  1.89895893e+01\n",
      "   1.01018783e+00]\n",
      " [ 0.00000000e+00  0.00000000e+00  0.00000000e+00  1.01018783e+00\n",
      "   1.67692873e+01]]\n",
      "len(unique_polynoms) 2\n"
     ]
    },
    {
     "name": "stderr",
     "output_type": "stream",
     "text": [
      "C:\\Users\\gadli\\old_pc\\Tau\\Thesis\\polynoms\\tools.py:83: RuntimeWarning: divide by zero encountered in true_divide\n",
      "  Az = np.arctan(y/x)\n",
      "C:\\Users\\gadli\\Anaconda3\\lib\\site-packages\\ipykernel_launcher.py:55: VisibleDeprecationWarning: Creating an ndarray from ragged nested sequences (which is a list-or-tuple of lists-or-tuples-or ndarrays with different lengths or shapes) is deprecated. If you meant to do this, you must specify 'dtype=object' when creating the ndarray\n"
     ]
    },
    {
     "name": "stdout",
     "output_type": "stream",
     "text": [
      "t 9\n",
      "Number of point tracks before run() 299\n",
      "Number of extended tracks before run() 2\n"
     ]
    },
    {
     "name": "stderr",
     "output_type": "stream",
     "text": [
      "C:\\Users\\gadli\\Anaconda3\\lib\\site-packages\\ipykernel_launcher.py:78: RuntimeWarning: divide by zero encountered in double_scalars\n"
     ]
    },
    {
     "name": "stdout",
     "output_type": "stream",
     "text": [
      "Updating extended object track =  0\n",
      "P after update [[ 2.25049699e-02 -2.73540214e-03  5.91063383e-05  0.00000000e+00\n",
      "   0.00000000e+00]\n",
      " [-2.73540214e-03  5.86059752e-04 -1.46028587e-05  0.00000000e+00\n",
      "   0.00000000e+00]\n",
      " [ 5.91063383e-05 -1.46028587e-05  3.90953832e-07  0.00000000e+00\n",
      "   0.00000000e+00]\n",
      " [ 0.00000000e+00  0.00000000e+00  0.00000000e+00  2.31702295e+01\n",
      "   2.32848349e-01]\n",
      " [ 0.00000000e+00  0.00000000e+00  0.00000000e+00  2.32848349e-01\n",
      "   2.94670442e+00]]\n",
      "len(unique_polynoms) 1\n",
      "t 10\n",
      "Number of point tracks before run() 304\n",
      "Number of extended tracks before run() 2\n"
     ]
    },
    {
     "name": "stderr",
     "output_type": "stream",
     "text": [
      "C:\\Users\\gadli\\Anaconda3\\lib\\site-packages\\ipykernel_launcher.py:55: VisibleDeprecationWarning: Creating an ndarray from ragged nested sequences (which is a list-or-tuple of lists-or-tuples-or ndarrays with different lengths or shapes) is deprecated. If you meant to do this, you must specify 'dtype=object' when creating the ndarray\n",
      "C:\\Users\\gadli\\Anaconda3\\lib\\site-packages\\ipykernel_launcher.py:78: RuntimeWarning: divide by zero encountered in double_scalars\n"
     ]
    },
    {
     "name": "stdout",
     "output_type": "stream",
     "text": [
      "Updating extended object track =  0\n",
      "P after update [[ 2.24943845e-02 -2.71911274e-03  5.86592187e-05  0.00000000e+00\n",
      "   0.00000000e+00]\n",
      " [-2.71911274e-03  5.60992643e-04 -1.39148044e-05  0.00000000e+00\n",
      "   0.00000000e+00]\n",
      " [ 5.86592187e-05 -1.39148044e-05  3.72067783e-07  0.00000000e+00\n",
      "   0.00000000e+00]\n",
      " [ 0.00000000e+00  0.00000000e+00  0.00000000e+00  2.72629948e+01\n",
      "   7.35612599e-01]\n",
      " [ 0.00000000e+00  0.00000000e+00  0.00000000e+00  7.35612599e-01\n",
      "   7.84841067e+00]]\n",
      "Updating extended object track =  1\n",
      "P after update [[ 3.07805059e+00 -1.71246181e-01  2.16603572e-03  0.00000000e+00\n",
      "   0.00000000e+00]\n",
      " [-1.71246181e-01  9.81721021e-03 -1.26666124e-04  0.00000000e+00\n",
      "   0.00000000e+00]\n",
      " [ 2.16603572e-03 -1.26666124e-04  1.66286182e-06  0.00000000e+00\n",
      "   0.00000000e+00]\n",
      " [ 0.00000000e+00  0.00000000e+00  0.00000000e+00  1.04635780e+01\n",
      "   2.23582448e+00]\n",
      " [ 0.00000000e+00  0.00000000e+00  0.00000000e+00  2.23582448e+00\n",
      "   5.87037910e+01]]\n",
      "Updating extended object track =  1\n",
      "P after update [[ 2.85992893e+00 -1.58509026e-01  2.01311420e-03  0.00000000e+00\n",
      "   0.00000000e+00]\n",
      " [-1.58509026e-01  9.07342748e-03 -1.17736313e-04  0.00000000e+00\n",
      "   0.00000000e+00]\n",
      " [ 2.01311420e-03 -1.17736313e-04  1.55565104e-06  0.00000000e+00\n",
      "   0.00000000e+00]\n",
      " [ 0.00000000e+00  0.00000000e+00  0.00000000e+00  1.04635780e+01\n",
      "   2.23582448e+00]\n",
      " [ 0.00000000e+00  0.00000000e+00  0.00000000e+00  2.23582448e+00\n",
      "   5.87037910e+01]]\n",
      "len(unique_polynoms) 2\n",
      "t 11\n",
      "Number of point tracks before run() 297\n",
      "Number of extended tracks before run() 2\n"
     ]
    },
    {
     "name": "stderr",
     "output_type": "stream",
     "text": [
      "C:\\Users\\gadli\\Anaconda3\\lib\\site-packages\\ipykernel_launcher.py:55: VisibleDeprecationWarning: Creating an ndarray from ragged nested sequences (which is a list-or-tuple of lists-or-tuples-or ndarrays with different lengths or shapes) is deprecated. If you meant to do this, you must specify 'dtype=object' when creating the ndarray\n",
      "C:\\Users\\gadli\\Anaconda3\\lib\\site-packages\\ipykernel_launcher.py:78: RuntimeWarning: divide by zero encountered in double_scalars\n"
     ]
    },
    {
     "name": "stdout",
     "output_type": "stream",
     "text": [
      "len(unique_polynoms) 0\n"
     ]
    },
    {
     "name": "stderr",
     "output_type": "stream",
     "text": [
      "C:\\Users\\gadli\\old_pc\\Tau\\Thesis\\polynoms\\tools.py:83: RuntimeWarning: divide by zero encountered in true_divide\n",
      "  Az = np.arctan(y/x)\n",
      "C:\\Users\\gadli\\Anaconda3\\lib\\site-packages\\ipykernel_launcher.py:55: VisibleDeprecationWarning: Creating an ndarray from ragged nested sequences (which is a list-or-tuple of lists-or-tuples-or ndarrays with different lengths or shapes) is deprecated. If you meant to do this, you must specify 'dtype=object' when creating the ndarray\n"
     ]
    },
    {
     "name": "stdout",
     "output_type": "stream",
     "text": [
      "t 12\n",
      "Number of point tracks before run() 300\n",
      "Number of extended tracks before run() 2\n"
     ]
    },
    {
     "name": "stderr",
     "output_type": "stream",
     "text": [
      "C:\\Users\\gadli\\Anaconda3\\lib\\site-packages\\ipykernel_launcher.py:78: RuntimeWarning: divide by zero encountered in double_scalars\n"
     ]
    },
    {
     "name": "stdout",
     "output_type": "stream",
     "text": [
      "Updating extended object track =  0\n",
      "P after update [[ 2.23504443e-02 -2.74218783e-03  5.94402268e-05  0.00000000e+00\n",
      "   0.00000000e+00]\n",
      " [-2.74218783e-03  5.57293469e-04 -1.37896009e-05  0.00000000e+00\n",
      "   0.00000000e+00]\n",
      " [ 5.94402268e-05 -1.37896009e-05  3.67830097e-07  0.00000000e+00\n",
      "   0.00000000e+00]\n",
      " [ 0.00000000e+00  0.00000000e+00  0.00000000e+00  3.50389408e+01\n",
      "   2.19861482e+00]\n",
      " [ 0.00000000e+00  0.00000000e+00  0.00000000e+00  2.19861482e+00\n",
      "   1.71464601e+01]]\n",
      "Updating extended object track =  0\n",
      "P after update [[ 2.17975375e-02 -2.73375291e-03  5.96851599e-05  0.00000000e+00\n",
      "   0.00000000e+00]\n",
      " [-2.73375291e-03  5.57164789e-04 -1.37933375e-05  0.00000000e+00\n",
      "   0.00000000e+00]\n",
      " [ 5.96851599e-05 -1.37933375e-05  3.67721594e-07  0.00000000e+00\n",
      "   0.00000000e+00]\n",
      " [ 0.00000000e+00  0.00000000e+00  0.00000000e+00  8.33305490e-02\n",
      "   5.22880473e-03]\n",
      " [ 0.00000000e+00  0.00000000e+00  0.00000000e+00  5.22880473e-03\n",
      "   1.70088301e+01]]\n",
      "Updating extended object track =  0\n",
      "P after update [[ 2.17901273e-02 -2.74245329e-03  5.99371847e-05  0.00000000e+00\n",
      "   0.00000000e+00]\n",
      " [-2.74245329e-03  5.46949470e-04 -1.34974293e-05  0.00000000e+00\n",
      "   0.00000000e+00]\n",
      " [ 5.99371847e-05 -1.34974293e-05  3.59149992e-07  0.00000000e+00\n",
      "   0.00000000e+00]\n",
      " [ 0.00000000e+00  0.00000000e+00  0.00000000e+00  8.33305490e-02\n",
      "   5.22880473e-03]\n",
      " [ 0.00000000e+00  0.00000000e+00  0.00000000e+00  5.22880473e-03\n",
      "   1.70088301e+01]]\n",
      "Updating extended object track =  1\n",
      "P after update [[ 2.84346930e+00 -1.56700512e-01  1.98405693e-03  0.00000000e+00\n",
      "   0.00000000e+00]\n",
      " [-1.56700512e-01  8.87471566e-03 -1.14543624e-04  0.00000000e+00\n",
      "   0.00000000e+00]\n",
      " [ 1.98405693e-03 -1.14543624e-04  1.50435432e-06  0.00000000e+00\n",
      "   0.00000000e+00]\n",
      " [ 0.00000000e+00  0.00000000e+00  0.00000000e+00  1.97219361e+01\n",
      "   4.86848268e+00]\n",
      " [ 0.00000000e+00  0.00000000e+00  0.00000000e+00  4.86848268e+00\n",
      "   6.41801165e+01]]\n",
      "len(unique_polynoms) 2\n"
     ]
    },
    {
     "name": "stderr",
     "output_type": "stream",
     "text": [
      "C:\\Users\\gadli\\old_pc\\Tau\\Thesis\\polynoms\\tools.py:83: RuntimeWarning: divide by zero encountered in true_divide\n",
      "  Az = np.arctan(y/x)\n",
      "C:\\Users\\gadli\\Anaconda3\\lib\\site-packages\\ipykernel_launcher.py:55: VisibleDeprecationWarning: Creating an ndarray from ragged nested sequences (which is a list-or-tuple of lists-or-tuples-or ndarrays with different lengths or shapes) is deprecated. If you meant to do this, you must specify 'dtype=object' when creating the ndarray\n"
     ]
    },
    {
     "name": "stdout",
     "output_type": "stream",
     "text": [
      "t 13\n",
      "Number of point tracks before run() 301\n",
      "Number of extended tracks before run() 3\n"
     ]
    },
    {
     "name": "stderr",
     "output_type": "stream",
     "text": [
      "C:\\Users\\gadli\\Anaconda3\\lib\\site-packages\\ipykernel_launcher.py:78: RuntimeWarning: divide by zero encountered in double_scalars\n"
     ]
    },
    {
     "name": "stdout",
     "output_type": "stream",
     "text": [
      "Updating extended object track =  2\n",
      "P after update [[ 2.84363606e-01 -4.32879055e-02  1.33853000e-03  0.00000000e+00\n",
      "   0.00000000e+00]\n",
      " [-4.32879055e-02  7.83799950e-03 -2.61225276e-04  0.00000000e+00\n",
      "   0.00000000e+00]\n",
      " [ 1.33853000e-03 -2.61225276e-04  9.17191964e-06  0.00000000e+00\n",
      "   0.00000000e+00]\n",
      " [ 0.00000000e+00  0.00000000e+00  0.00000000e+00  5.30400000e+01\n",
      "   1.96000000e+00]\n",
      " [ 0.00000000e+00  0.00000000e+00  0.00000000e+00  1.96000000e+00\n",
      "   5.30400000e+01]]\n",
      "Updating extended object track =  1\n",
      "P after update [[ 2.66923905e+00 -1.45198048e-01  1.82814061e-03  0.00000000e+00\n",
      "   0.00000000e+00]\n",
      " [-1.45198048e-01  8.11533732e-03 -1.04250223e-04  0.00000000e+00\n",
      "   0.00000000e+00]\n",
      " [ 1.82814061e-03 -1.04250223e-04  1.36482688e-06  0.00000000e+00\n",
      "   0.00000000e+00]\n",
      " [ 0.00000000e+00  0.00000000e+00  0.00000000e+00  2.41574640e+01\n",
      "   6.32211839e+00]\n",
      " [ 0.00000000e+00  0.00000000e+00  0.00000000e+00  6.32211839e+00\n",
      "   6.68373171e+01]]\n",
      "Updating extended object track =  2\n",
      "P after update [[ 2.72698583e-01 -3.99709770e-02  1.22126875e-03  0.00000000e+00\n",
      "   0.00000000e+00]\n",
      " [-3.99709770e-02  6.89483679e-03 -2.27882247e-04  0.00000000e+00\n",
      "   0.00000000e+00]\n",
      " [ 1.22126875e-03 -2.27882247e-04  7.99316484e-06  0.00000000e+00\n",
      "   0.00000000e+00]\n",
      " [ 0.00000000e+00  0.00000000e+00  0.00000000e+00  5.30400000e+01\n",
      "   1.96000000e+00]\n",
      " [ 0.00000000e+00  0.00000000e+00  0.00000000e+00  1.96000000e+00\n",
      "   5.30400000e+01]]\n",
      "Updating extended object track =  2\n",
      "P after update [[ 2.56627782e-01 -3.60821707e-02  1.04325878e-03  0.00000000e+00\n",
      "   0.00000000e+00]\n",
      " [-3.60821707e-02  5.95382491e-03 -1.84807463e-04  0.00000000e+00\n",
      "   0.00000000e+00]\n",
      " [ 1.04325878e-03 -1.84807463e-04  6.02141820e-06  0.00000000e+00\n",
      "   0.00000000e+00]\n",
      " [ 0.00000000e+00  0.00000000e+00  0.00000000e+00  5.29698082e+01\n",
      "   6.05243793e-02]\n",
      " [ 0.00000000e+00  0.00000000e+00  0.00000000e+00  6.05243793e-02\n",
      "   1.63786382e+00]]\n",
      "Updating extended object track =  2\n",
      "P after update [[ 2.08091871e-01 -2.61135414e-02  6.69952632e-04  0.00000000e+00\n",
      "   0.00000000e+00]\n",
      " [-2.61135414e-02  3.90640133e-03 -1.08135356e-04  0.00000000e+00\n",
      "   0.00000000e+00]\n",
      " [ 6.69952632e-04 -1.08135356e-04  3.15019405e-06  0.00000000e+00\n",
      "   0.00000000e+00]\n",
      " [ 0.00000000e+00  0.00000000e+00  0.00000000e+00  5.29689357e+01\n",
      "   3.69126869e-02]\n",
      " [ 0.00000000e+00  0.00000000e+00  0.00000000e+00  3.69126869e-02\n",
      "   9.98902506e-01]]\n",
      "Updating extended object track =  2\n",
      "P after update [[ 1.98648950e-01 -2.44245447e-02  6.27979205e-04  0.00000000e+00\n",
      "   0.00000000e+00]\n",
      " [-2.44245447e-02  3.60430097e-03 -1.00627829e-04  0.00000000e+00\n",
      "   0.00000000e+00]\n",
      " [ 6.27979205e-04 -1.00627829e-04  2.96362375e-06  0.00000000e+00\n",
      "   0.00000000e+00]\n",
      " [ 0.00000000e+00  0.00000000e+00  0.00000000e+00  5.29689357e+01\n",
      "   3.69126869e-02]\n",
      " [ 0.00000000e+00  0.00000000e+00  0.00000000e+00  3.69126869e-02\n",
      "   9.98902506e-01]]\n",
      "len(unique_polynoms) 2\n"
     ]
    },
    {
     "name": "stderr",
     "output_type": "stream",
     "text": [
      "C:\\Users\\gadli\\old_pc\\Tau\\Thesis\\polynoms\\tools.py:83: RuntimeWarning: divide by zero encountered in true_divide\n",
      "  Az = np.arctan(y/x)\n",
      "C:\\Users\\gadli\\Anaconda3\\lib\\site-packages\\ipykernel_launcher.py:55: VisibleDeprecationWarning: Creating an ndarray from ragged nested sequences (which is a list-or-tuple of lists-or-tuples-or ndarrays with different lengths or shapes) is deprecated. If you meant to do this, you must specify 'dtype=object' when creating the ndarray\n"
     ]
    },
    {
     "name": "stdout",
     "output_type": "stream",
     "text": [
      "t 14\n",
      "Number of point tracks before run() 293\n",
      "Number of extended tracks before run() 3\n"
     ]
    },
    {
     "name": "stderr",
     "output_type": "stream",
     "text": [
      "C:\\Users\\gadli\\Anaconda3\\lib\\site-packages\\ipykernel_launcher.py:78: RuntimeWarning: divide by zero encountered in double_scalars\n"
     ]
    },
    {
     "name": "stdout",
     "output_type": "stream",
     "text": [
      "Updating extended object track =  2\n",
      "P after update [[ 9.74867642e-03 -1.25537158e-03  3.30272217e-05  0.00000000e+00\n",
      "   0.00000000e+00]\n",
      " [-1.25537158e-03  7.62533853e-04 -2.76552218e-05  0.00000000e+00\n",
      "   0.00000000e+00]\n",
      " [ 3.30272217e-05 -2.76552218e-05  1.08978918e-06  0.00000000e+00\n",
      "   0.00000000e+00]\n",
      " [ 0.00000000e+00  0.00000000e+00  0.00000000e+00  1.59543128e-01\n",
      "   3.12167814e-03]\n",
      " [ 0.00000000e+00  0.00000000e+00  0.00000000e+00  3.12167814e-03\n",
      "   5.96065096e+00]]\n",
      "Updating extended object track =  0\n",
      "P after update [[ 2.15248935e-02 -2.75182821e-03  6.04376170e-05  0.00000000e+00\n",
      "   0.00000000e+00]\n",
      " [-2.75182821e-03  5.46618105e-04 -1.34797411e-05  0.00000000e+00\n",
      "   0.00000000e+00]\n",
      " [ 6.04376170e-05 -1.34797411e-05  3.58205797e-07  0.00000000e+00\n",
      "   0.00000000e+00]\n",
      " [ 0.00000000e+00  0.00000000e+00  0.00000000e+00  1.03626582e-01\n",
      "   8.83387878e-03]\n",
      " [ 0.00000000e+00  0.00000000e+00  0.00000000e+00  8.83387878e-03\n",
      "   2.54347509e+01]]\n",
      "Updating extended object track =  1\n",
      "P after update [[ 2.65639867e+00 -1.45101652e-01  1.83141295e-03  0.00000000e+00\n",
      "   0.00000000e+00]\n",
      " [-1.45101652e-01  8.11461365e-03 -1.04274789e-04  0.00000000e+00\n",
      "   0.00000000e+00]\n",
      " [ 1.83141295e-03 -1.04274789e-04  1.36399293e-06  0.00000000e+00\n",
      "   0.00000000e+00]\n",
      " [ 0.00000000e+00  0.00000000e+00  0.00000000e+00  2.84753904e+01\n",
      "   7.85778906e+00]\n",
      " [ 0.00000000e+00  0.00000000e+00  0.00000000e+00  7.85778906e+00\n",
      "   6.94480494e+01]]\n",
      "len(unique_polynoms) 3\n",
      "t 15\n",
      "Number of point tracks before run() 303\n",
      "Number of extended tracks before run() 3\n"
     ]
    },
    {
     "name": "stderr",
     "output_type": "stream",
     "text": [
      "C:\\Users\\gadli\\Anaconda3\\lib\\site-packages\\ipykernel_launcher.py:55: VisibleDeprecationWarning: Creating an ndarray from ragged nested sequences (which is a list-or-tuple of lists-or-tuples-or ndarrays with different lengths or shapes) is deprecated. If you meant to do this, you must specify 'dtype=object' when creating the ndarray\n",
      "C:\\Users\\gadli\\Anaconda3\\lib\\site-packages\\ipykernel_launcher.py:78: RuntimeWarning: divide by zero encountered in double_scalars\n"
     ]
    },
    {
     "name": "stdout",
     "output_type": "stream",
     "text": [
      "Updating extended object track =  1\n",
      "P after update [[ 2.54822197e+00 -1.40729286e-01  1.78830704e-03  0.00000000e+00\n",
      "   0.00000000e+00]\n",
      " [-1.40729286e-01  7.93788807e-03 -1.02532502e-04  0.00000000e+00\n",
      "   0.00000000e+00]\n",
      " [ 1.78830704e-03 -1.02532502e-04  1.34681623e-06  0.00000000e+00\n",
      "   0.00000000e+00]\n",
      " [ 0.00000000e+00  0.00000000e+00  0.00000000e+00  1.60695725e+00\n",
      "   4.65566641e-01]\n",
      " [ 0.00000000e+00  0.00000000e+00  0.00000000e+00  4.65566641e-01\n",
      "   6.94088348e+01]]\n",
      "Updating extended object track =  1\n",
      "P after update [[ 2.21489295e+00 -1.19996189e-01  1.48692860e-03  0.00000000e+00\n",
      "   0.00000000e+00]\n",
      " [-1.19996189e-01  6.64828747e-03 -8.37867340e-05  0.00000000e+00\n",
      "   0.00000000e+00]\n",
      " [ 1.48692860e-03 -8.37867340e-05  1.07432580e-06  0.00000000e+00\n",
      "   0.00000000e+00]\n",
      " [ 0.00000000e+00  0.00000000e+00  0.00000000e+00  1.60418254e+00\n",
      "   5.18999320e-02]\n",
      " [ 0.00000000e+00  0.00000000e+00  0.00000000e+00  5.18999320e-02\n",
      "   7.73748264e+00]]\n",
      "Updating extended object track =  0\n",
      "P after update [[ 2.11008277e-02 -2.61846793e-03  5.72216362e-05  0.00000000e+00\n",
      "   0.00000000e+00]\n",
      " [-2.61846793e-03  5.04678947e-04 -1.24683790e-05  0.00000000e+00\n",
      "   0.00000000e+00]\n",
      " [ 5.72216362e-05 -1.24683790e-05  3.33816820e-07  0.00000000e+00\n",
      "   0.00000000e+00]\n",
      " [ 0.00000000e+00  0.00000000e+00  0.00000000e+00  5.11004316e+00\n",
      "   5.09039789e-01]\n",
      " [ 0.00000000e+00  0.00000000e+00  0.00000000e+00  5.09039789e-01\n",
      "   2.94279225e+01]]\n",
      "Updating extended object track =  2\n",
      "P after update [[ 9.53641249e-03 -1.29954511e-03  3.50593389e-05  0.00000000e+00\n",
      "   0.00000000e+00]\n",
      " [-1.29954511e-03  7.53341048e-04 -2.72323247e-05  0.00000000e+00\n",
      "   0.00000000e+00]\n",
      " [ 3.50593389e-05 -2.72323247e-05  1.07033463e-06  0.00000000e+00\n",
      "   0.00000000e+00]\n",
      " [ 0.00000000e+00  0.00000000e+00  0.00000000e+00  5.15573185e+00\n",
      "   1.22955113e-01]\n",
      " [ 0.00000000e+00  0.00000000e+00  0.00000000e+00  1.22955113e-01\n",
      "   1.07247954e+01]]\n",
      "Updating extended object track =  0\n",
      "P after update [[ 1.87336706e-02 -2.38160365e-03  5.24871396e-05  0.00000000e+00\n",
      "   0.00000000e+00]\n",
      " [-2.38160365e-03  4.80977652e-04 -1.19946322e-05  0.00000000e+00\n",
      "   0.00000000e+00]\n",
      " [ 5.24871396e-05 -1.19946322e-05  3.24347462e-07  0.00000000e+00\n",
      "   0.00000000e+00]\n",
      " [ 0.00000000e+00  0.00000000e+00  0.00000000e+00  8.85195356e-02\n",
      "   8.81792273e-03]\n",
      " [ 0.00000000e+00  0.00000000e+00  0.00000000e+00  8.81792273e-03\n",
      "   2.93780926e+01]]\n",
      "Updating extended object track =  2\n",
      "P after update [[ 9.53605585e-03 -1.30433747e-03  3.52380208e-05  0.00000000e+00\n",
      "   0.00000000e+00]\n",
      " [-1.30433747e-03  6.88942777e-04 -2.48312526e-05  0.00000000e+00\n",
      "   0.00000000e+00]\n",
      " [ 3.52380208e-05 -2.48312526e-05  9.80811299e-07  0.00000000e+00\n",
      "   0.00000000e+00]\n",
      " [ 0.00000000e+00  0.00000000e+00  0.00000000e+00  5.15573185e+00\n",
      "   1.22955113e-01]\n",
      " [ 0.00000000e+00  0.00000000e+00  0.00000000e+00  1.22955113e-01\n",
      "   1.07247954e+01]]\n",
      "len(unique_polynoms) 3\n"
     ]
    },
    {
     "name": "stderr",
     "output_type": "stream",
     "text": [
      "C:\\Users\\gadli\\old_pc\\Tau\\Thesis\\polynoms\\tools.py:83: RuntimeWarning: divide by zero encountered in true_divide\n",
      "  Az = np.arctan(y/x)\n",
      "C:\\Users\\gadli\\Anaconda3\\lib\\site-packages\\ipykernel_launcher.py:55: VisibleDeprecationWarning: Creating an ndarray from ragged nested sequences (which is a list-or-tuple of lists-or-tuples-or ndarrays with different lengths or shapes) is deprecated. If you meant to do this, you must specify 'dtype=object' when creating the ndarray\n"
     ]
    },
    {
     "name": "stdout",
     "output_type": "stream",
     "text": [
      "t 16\n",
      "Number of point tracks before run() 294\n",
      "Number of extended tracks before run() 3\n"
     ]
    },
    {
     "name": "stderr",
     "output_type": "stream",
     "text": [
      "C:\\Users\\gadli\\Anaconda3\\lib\\site-packages\\ipykernel_launcher.py:78: RuntimeWarning: divide by zero encountered in double_scalars\n"
     ]
    },
    {
     "name": "stdout",
     "output_type": "stream",
     "text": [
      "Updating extended object track =  2\n",
      "P after update [[ 9.52970576e-03 -1.30173211e-03  3.53866712e-05  0.00000000e+00\n",
      "   0.00000000e+00]\n",
      " [-1.30173211e-03  6.87873835e-04 -2.48922418e-05  0.00000000e+00\n",
      "   0.00000000e+00]\n",
      " [ 3.53866712e-05 -2.48922418e-05  9.77331514e-07  0.00000000e+00\n",
      "   0.00000000e+00]\n",
      " [ 0.00000000e+00  0.00000000e+00  0.00000000e+00  9.96067463e+00\n",
      "   4.29393606e-01]\n",
      " [ 0.00000000e+00  0.00000000e+00  0.00000000e+00  4.29393606e-01\n",
      "   1.53069756e+01]]\n",
      "Updating extended object track =  1\n",
      "P after update [[ 1.98161533e+00 -1.05685422e-01  1.28271939e-03  0.00000000e+00\n",
      "   0.00000000e+00]\n",
      " [-1.05685422e-01  5.77037193e-03 -7.12592129e-05  0.00000000e+00\n",
      "   0.00000000e+00]\n",
      " [ 1.28271939e-03 -7.12592129e-05  8.95562834e-07  0.00000000e+00\n",
      "   0.00000000e+00]\n",
      " [ 0.00000000e+00  0.00000000e+00  0.00000000e+00  6.54329029e+00\n",
      "   9.97396871e-02]\n",
      " [ 0.00000000e+00  0.00000000e+00  0.00000000e+00  9.97396871e-02\n",
      "   5.32335012e+00]]\n",
      "Updating extended object track =  2\n",
      "P after update [[ 9.51256549e-03 -1.27798041e-03  3.40411249e-05  0.00000000e+00\n",
      "   0.00000000e+00]\n",
      " [-1.27798041e-03  6.54960496e-04 -2.30276842e-05  0.00000000e+00\n",
      "   0.00000000e+00]\n",
      " [ 3.40411249e-05 -2.30276842e-05  8.71703373e-07  0.00000000e+00\n",
      "   0.00000000e+00]\n",
      " [ 0.00000000e+00  0.00000000e+00  0.00000000e+00  9.95017307e+00\n",
      "   5.50352822e-02]\n",
      " [ 0.00000000e+00  0.00000000e+00  0.00000000e+00  5.50352822e-02\n",
      "   1.96189163e+00]]\n",
      "Updating extended object track =  1\n",
      "P after update [[ 1.78470314e+00 -9.38340399e-02  1.11794275e-03  0.00000000e+00\n",
      "   0.00000000e+00]\n",
      " [-9.38340399e-02  5.05708316e-03 -6.13419453e-05  0.00000000e+00\n",
      "   0.00000000e+00]\n",
      " [ 1.11794275e-03 -6.13419453e-05  7.57677310e-07  0.00000000e+00\n",
      "   0.00000000e+00]\n",
      " [ 0.00000000e+00  0.00000000e+00  0.00000000e+00  6.54264065e+00\n",
      "   6.50666366e-02]\n",
      " [ 0.00000000e+00  0.00000000e+00  0.00000000e+00  6.50666366e-02\n",
      "   3.47276493e+00]]\n",
      "len(unique_polynoms) 2\n"
     ]
    },
    {
     "name": "stderr",
     "output_type": "stream",
     "text": [
      "C:\\Users\\gadli\\old_pc\\Tau\\Thesis\\polynoms\\tools.py:83: RuntimeWarning: divide by zero encountered in true_divide\n",
      "  Az = np.arctan(y/x)\n",
      "C:\\Users\\gadli\\Anaconda3\\lib\\site-packages\\ipykernel_launcher.py:55: VisibleDeprecationWarning: Creating an ndarray from ragged nested sequences (which is a list-or-tuple of lists-or-tuples-or ndarrays with different lengths or shapes) is deprecated. If you meant to do this, you must specify 'dtype=object' when creating the ndarray\n"
     ]
    },
    {
     "name": "stdout",
     "output_type": "stream",
     "text": [
      "t 17\n",
      "Number of point tracks before run() 313\n",
      "Number of extended tracks before run() 3\n"
     ]
    },
    {
     "name": "stderr",
     "output_type": "stream",
     "text": [
      "C:\\Users\\gadli\\Anaconda3\\lib\\site-packages\\ipykernel_launcher.py:78: RuntimeWarning: divide by zero encountered in double_scalars\n"
     ]
    },
    {
     "name": "stdout",
     "output_type": "stream",
     "text": [
      "Updating extended object track =  1\n",
      "P after update [[ 1.69245551e+00 -8.82033939e-02  1.03814487e-03  0.00000000e+00\n",
      "   0.00000000e+00]\n",
      " [-8.82033939e-02  4.71339764e-03 -5.64712116e-05  0.00000000e+00\n",
      "   0.00000000e+00]\n",
      " [ 1.03814487e-03 -5.64712116e-05  6.88648954e-07  0.00000000e+00\n",
      "   0.00000000e+00]\n",
      " [ 0.00000000e+00  0.00000000e+00  0.00000000e+00  1.12837614e+01\n",
      "   1.38605691e-01]\n",
      " [ 0.00000000e+00  0.00000000e+00  0.00000000e+00  1.38605691e-01\n",
      "   4.46656941e+00]]\n",
      "Updating extended object track =  0\n",
      "P after update [[ 1.67044673e-02 -2.16924735e-03  4.81545076e-05  0.00000000e+00\n",
      "   0.00000000e+00]\n",
      " [-2.16924735e-03  4.58754548e-04 -1.15412219e-05  0.00000000e+00\n",
      "   0.00000000e+00]\n",
      " [ 4.81545076e-05 -1.15412219e-05  3.15096688e-07  0.00000000e+00\n",
      "   0.00000000e+00]\n",
      " [ 0.00000000e+00  0.00000000e+00  0.00000000e+00  8.92702693e-02\n",
      "   1.18106793e-02]\n",
      " [ 0.00000000e+00  0.00000000e+00  0.00000000e+00  1.18106793e-02\n",
      "   3.67525156e+01]]\n",
      "Updating extended object track =  2\n",
      "P after update [[ 9.50351302e-03 -1.25466094e-03  3.32169473e-05  0.00000000e+00\n",
      "   0.00000000e+00]\n",
      " [-1.25466094e-03  5.94888728e-04 -2.09045742e-05  0.00000000e+00\n",
      "   0.00000000e+00]\n",
      " [ 3.32169473e-05 -2.09045742e-05  7.96666523e-07  0.00000000e+00\n",
      "   0.00000000e+00]\n",
      " [ 0.00000000e+00  0.00000000e+00  0.00000000e+00  1.45590884e+01\n",
      "   2.86354367e-01]\n",
      " [ 0.00000000e+00  0.00000000e+00  0.00000000e+00  2.86354367e-01\n",
      "   6.89033818e+00]]\n",
      "len(unique_polynoms) 3\n"
     ]
    },
    {
     "name": "stderr",
     "output_type": "stream",
     "text": [
      "C:\\Users\\gadli\\old_pc\\Tau\\Thesis\\polynoms\\tools.py:83: RuntimeWarning: divide by zero encountered in true_divide\n",
      "  Az = np.arctan(y/x)\n",
      "C:\\Users\\gadli\\Anaconda3\\lib\\site-packages\\ipykernel_launcher.py:55: VisibleDeprecationWarning: Creating an ndarray from ragged nested sequences (which is a list-or-tuple of lists-or-tuples-or ndarrays with different lengths or shapes) is deprecated. If you meant to do this, you must specify 'dtype=object' when creating the ndarray\n"
     ]
    },
    {
     "name": "stdout",
     "output_type": "stream",
     "text": [
      "t 18\n",
      "Number of point tracks before run() 309\n",
      "Number of extended tracks before run() 3\n"
     ]
    },
    {
     "name": "stderr",
     "output_type": "stream",
     "text": [
      "C:\\Users\\gadli\\Anaconda3\\lib\\site-packages\\ipykernel_launcher.py:78: RuntimeWarning: divide by zero encountered in double_scalars\n"
     ]
    },
    {
     "name": "stdout",
     "output_type": "stream",
     "text": [
      "Updating extended object track =  1\n",
      "P after update [[ 1.64242513e+00 -8.63383661e-02  1.02118496e-03  0.00000000e+00\n",
      "   0.00000000e+00]\n",
      " [-8.63383661e-02  4.64387330e-03 -5.58389816e-05  0.00000000e+00\n",
      "   0.00000000e+00]\n",
      " [ 1.02118496e-03 -5.58389816e-05  6.82899676e-07  0.00000000e+00\n",
      "   0.00000000e+00]\n",
      " [ 0.00000000e+00  0.00000000e+00  0.00000000e+00  1.63456988e+00\n",
      "   4.55866729e-02]\n",
      " [ 0.00000000e+00  0.00000000e+00  0.00000000e+00  4.55866729e-02\n",
      "   9.28858788e+00]]\n",
      "Updating extended object track =  0\n",
      "P after update [[ 1.67027442e-02 -2.16502378e-03  4.80362625e-05  0.00000000e+00\n",
      "   0.00000000e+00]\n",
      " [-2.16502378e-03  4.48401729e-04 -1.12513798e-05  0.00000000e+00\n",
      "   0.00000000e+00]\n",
      " [ 4.80362625e-05 -1.12513798e-05  3.06982141e-07  0.00000000e+00\n",
      "   0.00000000e+00]\n",
      " [ 0.00000000e+00  0.00000000e+00  0.00000000e+00  5.10089915e+00\n",
      "   7.33446704e-01]\n",
      " [ 0.00000000e+00  0.00000000e+00  0.00000000e+00  7.33446704e-01\n",
      "   4.02976147e+01]]\n",
      "Updating extended object track =  2\n",
      "P after update [[ 4.97435978e-03 -6.89374294e-04  1.86427071e-05  0.00000000e+00\n",
      "   0.00000000e+00]\n",
      " [-6.89374294e-04  5.24334924e-04 -1.90855535e-05  0.00000000e+00\n",
      "   0.00000000e+00]\n",
      " [ 1.86427071e-05 -1.90855535e-05  7.49768468e-07  0.00000000e+00\n",
      "   0.00000000e+00]\n",
      " [ 0.00000000e+00  0.00000000e+00  0.00000000e+00  1.58663641e-01\n",
      "   5.80930302e-03]\n",
      " [ 0.00000000e+00  0.00000000e+00  0.00000000e+00  5.80930302e-03\n",
      "   1.16092758e+01]]\n",
      "Updating extended object track =  0\n",
      "P after update [[ 1.66437478e-02 -2.14354817e-03  4.70312845e-05  0.00000000e+00\n",
      "   0.00000000e+00]\n",
      " [-2.14354817e-03  4.40584280e-04 -1.08855524e-05  0.00000000e+00\n",
      "   0.00000000e+00]\n",
      " [ 4.70312845e-05 -1.08855524e-05  2.89862786e-07  0.00000000e+00\n",
      "   0.00000000e+00]\n",
      " [ 0.00000000e+00  0.00000000e+00  0.00000000e+00  5.08864779e+00\n",
      "   6.03224525e-02]\n",
      " [ 0.00000000e+00  0.00000000e+00  0.00000000e+00  6.03224525e-02\n",
      "   3.31428437e+00]]\n",
      "Updating extended object track =  2\n",
      "P after update [[ 4.97098381e-03 -6.99173559e-04  1.90133941e-05  0.00000000e+00\n",
      "   0.00000000e+00]\n",
      " [-6.99173559e-04  4.95891075e-04 -1.80095784e-05  0.00000000e+00\n",
      "   0.00000000e+00]\n",
      " [ 1.90133941e-05 -1.80095784e-05  7.09066439e-07  0.00000000e+00\n",
      "   0.00000000e+00]\n",
      " [ 0.00000000e+00  0.00000000e+00  0.00000000e+00  1.58663641e-01\n",
      "   5.80930302e-03]\n",
      " [ 0.00000000e+00  0.00000000e+00  0.00000000e+00  5.80930302e-03\n",
      "   1.16092758e+01]]\n",
      "Updating extended object track =  0\n",
      "P after update [[ 1.66143571e-02 -2.15329075e-03  4.73317093e-05  0.00000000e+00\n",
      "   0.00000000e+00]\n",
      " [-2.15329075e-03  4.37354758e-04 -1.07859660e-05  0.00000000e+00\n",
      "   0.00000000e+00]\n",
      " [ 4.73317093e-05 -1.07859660e-05  2.86791912e-07  0.00000000e+00\n",
      "   0.00000000e+00]\n",
      " [ 0.00000000e+00  0.00000000e+00  0.00000000e+00  5.08864779e+00\n",
      "   6.03224525e-02]\n",
      " [ 0.00000000e+00  0.00000000e+00  0.00000000e+00  6.03224525e-02\n",
      "   3.31428437e+00]]\n",
      "Updating extended object track =  1\n",
      "P after update [[ 1.54560181e+00 -8.06062961e-02  9.51086431e-04  0.00000000e+00\n",
      "   0.00000000e+00]\n",
      " [-8.06062961e-02  4.30452711e-03 -5.16890552e-05  0.00000000e+00\n",
      "   0.00000000e+00]\n",
      " [ 9.51086431e-04 -5.16890552e-05  6.32149469e-07  0.00000000e+00\n",
      "   0.00000000e+00]\n",
      " [ 0.00000000e+00  0.00000000e+00  0.00000000e+00  1.63456988e+00\n",
      "   4.55866729e-02]\n",
      " [ 0.00000000e+00  0.00000000e+00  0.00000000e+00  4.55866729e-02\n",
      "   9.28858788e+00]]\n",
      "Updating extended object track =  1\n",
      "P after update [[ 1.32759425e+00 -6.79545878e-02  7.82911907e-04  0.00000000e+00\n",
      "   0.00000000e+00]\n",
      " [-6.79545878e-02  3.57030615e-03 -4.19293249e-05  0.00000000e+00\n",
      "   0.00000000e+00]\n",
      " [ 7.82911907e-04 -4.19293249e-05  5.02416949e-07  0.00000000e+00\n",
      "   0.00000000e+00]\n",
      " [ 0.00000000e+00  0.00000000e+00  0.00000000e+00  1.63447185e+00\n",
      "   2.56129707e-02]\n",
      " [ 0.00000000e+00  0.00000000e+00  0.00000000e+00  2.56129707e-02\n",
      "   5.21881317e+00]]\n",
      "len(unique_polynoms) 3\n"
     ]
    },
    {
     "name": "stderr",
     "output_type": "stream",
     "text": [
      "C:\\Users\\gadli\\old_pc\\Tau\\Thesis\\polynoms\\tools.py:83: RuntimeWarning: divide by zero encountered in true_divide\n",
      "  Az = np.arctan(y/x)\n",
      "C:\\Users\\gadli\\Anaconda3\\lib\\site-packages\\ipykernel_launcher.py:55: VisibleDeprecationWarning: Creating an ndarray from ragged nested sequences (which is a list-or-tuple of lists-or-tuples-or ndarrays with different lengths or shapes) is deprecated. If you meant to do this, you must specify 'dtype=object' when creating the ndarray\n"
     ]
    },
    {
     "name": "stdout",
     "output_type": "stream",
     "text": [
      "t 19\n",
      "Number of point tracks before run() 302\n",
      "Number of extended tracks before run() 4\n"
     ]
    },
    {
     "name": "stderr",
     "output_type": "stream",
     "text": [
      "C:\\Users\\gadli\\Anaconda3\\lib\\site-packages\\ipykernel_launcher.py:78: RuntimeWarning: divide by zero encountered in double_scalars\n"
     ]
    },
    {
     "name": "stdout",
     "output_type": "stream",
     "text": [
      "Updating extended object track =  2\n",
      "P after update [[ 4.95907957e-03 -6.80545039e-04  1.84420060e-05  0.00000000e+00\n",
      "   0.00000000e+00]\n",
      " [-6.80545039e-04  4.66739972e-04 -1.71154338e-05  0.00000000e+00\n",
      "   0.00000000e+00]\n",
      " [ 1.84420060e-05 -1.71154338e-05  6.81640559e-07  0.00000000e+00\n",
      "   0.00000000e+00]\n",
      " [ 0.00000000e+00  0.00000000e+00  0.00000000e+00  5.15725200e+00\n",
      "   2.36233192e-01]\n",
      " [ 0.00000000e+00  0.00000000e+00  0.00000000e+00  2.36233192e-01\n",
      "   1.61498397e+01]]\n",
      "Updating extended object track =  3\n",
      "P after update [[ 1.00044996e-01 -1.52000513e-02  4.34135549e-04  0.00000000e+00\n",
      "   0.00000000e+00]\n",
      " [-1.52000513e-02  3.35505980e-03 -1.07957242e-04  0.00000000e+00\n",
      "   0.00000000e+00]\n",
      " [ 4.34135549e-04 -1.07957242e-04  3.72710850e-06  0.00000000e+00\n",
      "   0.00000000e+00]\n",
      " [ 0.00000000e+00  0.00000000e+00  0.00000000e+00  5.29701529e+01\n",
      "   6.98527480e-02]\n",
      " [ 0.00000000e+00  0.00000000e+00  0.00000000e+00  6.98527480e-02\n",
      "   1.89030090e+00]]\n",
      "Updating extended object track =  1\n",
      "P after update [[ 1.32334768e+00 -6.76450919e-02  7.77541953e-04  0.00000000e+00\n",
      "   0.00000000e+00]\n",
      " [-6.76450919e-02  3.54774963e-03 -4.15379548e-05  0.00000000e+00\n",
      "   0.00000000e+00]\n",
      " [ 7.77541953e-04 -4.15379548e-05  4.95626428e-07  0.00000000e+00\n",
      "   0.00000000e+00]\n",
      " [ 0.00000000e+00  0.00000000e+00  0.00000000e+00  6.57283832e+00\n",
      "   1.58933329e-01]\n",
      " [ 0.00000000e+00  0.00000000e+00  0.00000000e+00  1.58933329e-01\n",
      "   1.00138060e+01]]\n",
      "Updating extended object track =  0\n",
      "P after update [[ 1.65917514e-02 -2.14998291e-03  4.74448513e-05  0.00000000e+00\n",
      "   0.00000000e+00]\n",
      " [-2.14998291e-03  4.36870728e-04 -1.08025218e-05  0.00000000e+00\n",
      "   0.00000000e+00]\n",
      " [ 4.74448513e-05 -1.08025218e-05  2.86225632e-07  0.00000000e+00\n",
      "   0.00000000e+00]\n",
      " [ 0.00000000e+00  0.00000000e+00  0.00000000e+00  9.89082769e+00\n",
      "   2.22655283e-01]\n",
      " [ 0.00000000e+00  0.00000000e+00  0.00000000e+00  2.22655283e-01\n",
      "   8.18743881e+00]]\n",
      "len(unique_polynoms) 4\n"
     ]
    },
    {
     "name": "stderr",
     "output_type": "stream",
     "text": [
      "C:\\Users\\gadli\\old_pc\\Tau\\Thesis\\polynoms\\tools.py:83: RuntimeWarning: divide by zero encountered in true_divide\n",
      "  Az = np.arctan(y/x)\n",
      "C:\\Users\\gadli\\Anaconda3\\lib\\site-packages\\ipykernel_launcher.py:55: VisibleDeprecationWarning: Creating an ndarray from ragged nested sequences (which is a list-or-tuple of lists-or-tuples-or ndarrays with different lengths or shapes) is deprecated. If you meant to do this, you must specify 'dtype=object' when creating the ndarray\n"
     ]
    },
    {
     "name": "stdout",
     "output_type": "stream",
     "text": [
      "t 20\n",
      "Number of point tracks before run() 297\n",
      "Number of extended tracks before run() 4\n",
      "Updating extended object track =  2\n",
      "P after update [[ 4.91084690e-03 -6.12299446e-04  1.51858387e-05  0.00000000e+00\n",
      "   0.00000000e+00]\n",
      " [-6.12299446e-04  3.70177618e-04 -1.25082032e-05  0.00000000e+00\n",
      "   0.00000000e+00]\n",
      " [ 1.51858387e-05 -1.25082032e-05  4.61818102e-07  0.00000000e+00\n",
      "   0.00000000e+00]\n",
      " [ 0.00000000e+00  0.00000000e+00  0.00000000e+00  9.95112802e+00\n",
      "   8.37236503e-02]\n",
      " [ 0.00000000e+00  0.00000000e+00  0.00000000e+00  8.37236503e-02\n",
      "   2.66547850e+00]]\n",
      "Updating extended object track =  3\n",
      "P after update [[ 9.07743109e-03 -1.37389861e-03  3.91795683e-05  0.00000000e+00\n",
      "   0.00000000e+00]\n",
      " [-1.37389861e-03  1.25362400e-03 -4.79279147e-05  0.00000000e+00\n",
      "   0.00000000e+00]\n",
      " [ 3.91795683e-05 -4.79279147e-05  2.01231898e-06  0.00000000e+00\n",
      "   0.00000000e+00]\n",
      " [ 0.00000000e+00  0.00000000e+00  0.00000000e+00  1.59543151e-01\n",
      "   3.26184259e-03]\n",
      " [ 0.00000000e+00  0.00000000e+00  0.00000000e+00  3.26184259e-03\n",
      "   6.81608213e+00]]\n",
      "Updating extended object track =  3\n",
      "P after update [[ 9.03584275e-03 -1.28552536e-03  3.63143939e-05  0.00000000e+00\n",
      "   0.00000000e+00]\n",
      " [-1.28552536e-03  1.06583508e-03 -4.18395564e-05  0.00000000e+00\n",
      "   0.00000000e+00]\n",
      " [ 3.63143939e-05 -4.18395564e-05  1.81492657e-06  0.00000000e+00\n",
      "   0.00000000e+00]\n",
      " [ 0.00000000e+00  0.00000000e+00  0.00000000e+00  1.59543151e-01\n",
      "   3.26184259e-03]\n",
      " [ 0.00000000e+00  0.00000000e+00  0.00000000e+00  3.26184259e-03\n",
      "   6.81608213e+00]]\n",
      "Updating extended object track =  1\n",
      "P after update [[ 1.28015409e+00 -6.54264018e-02  7.54764734e-04  0.00000000e+00\n",
      "   0.00000000e+00]\n",
      " [-6.54264018e-02  3.43378399e-03 -4.03679760e-05  0.00000000e+00\n",
      "   0.00000000e+00]\n",
      " [ 7.54764734e-04 -4.03679760e-05  4.83615348e-07  0.00000000e+00\n",
      "   0.00000000e+00]\n",
      " [ 0.00000000e+00  0.00000000e+00  0.00000000e+00  1.13227896e+01\n",
      "   4.77801371e-01]\n",
      " [ 0.00000000e+00  0.00000000e+00  0.00000000e+00  4.77801371e-01\n",
      "   1.46261186e+01]]\n",
      "Updating extended object track =  0\n",
      "P after update [[ 1.65789801e-02 -2.15724883e-03  4.76616587e-05  0.00000000e+00\n",
      "   0.00000000e+00]\n",
      " [-2.15724883e-03  4.32736994e-04 -1.06791755e-05  0.00000000e+00\n",
      "   0.00000000e+00]\n",
      " [ 4.76616587e-05 -1.06791755e-05  2.82545106e-07  0.00000000e+00\n",
      "   0.00000000e+00]\n",
      " [ 0.00000000e+00  0.00000000e+00  0.00000000e+00  1.45111540e+01\n",
      "   5.68261219e-01]\n",
      " [ 0.00000000e+00  0.00000000e+00  0.00000000e+00  5.68261219e-01\n",
      "   1.28759007e+01]]\n",
      "Updating extended object track =  2\n",
      "P after update [[ 4.90936550e-03 -6.11695586e-04  1.52330558e-05  0.00000000e+00\n",
      "   0.00000000e+00]\n",
      " [-6.11695586e-04  3.69931466e-04 -1.25274503e-05  0.00000000e+00\n",
      "   0.00000000e+00]\n",
      " [ 1.52330558e-05 -1.25274503e-05  4.60313128e-07  0.00000000e+00\n",
      "   0.00000000e+00]\n",
      " [ 0.00000000e+00  0.00000000e+00  0.00000000e+00  9.95112802e+00\n",
      "   8.37236503e-02]\n",
      " [ 0.00000000e+00  0.00000000e+00  0.00000000e+00  8.37236503e-02\n",
      "   2.66547850e+00]]\n",
      "Updating extended object track =  1\n",
      "P after update [[ 1.24797827e+00 -6.34725238e-02  7.27168385e-04  0.00000000e+00\n",
      "   0.00000000e+00]\n",
      " [-6.34725238e-02  3.31513467e-03 -3.86921866e-05  0.00000000e+00\n",
      "   0.00000000e+00]\n",
      " [ 7.27168385e-04 -3.86921866e-05  4.59946690e-07  0.00000000e+00\n",
      "   0.00000000e+00]\n",
      " [ 0.00000000e+00  0.00000000e+00  0.00000000e+00  1.13134925e+01\n",
      "   1.93205554e-01]\n",
      " [ 0.00000000e+00  0.00000000e+00  0.00000000e+00  1.93205554e-01\n",
      "   5.91427215e+00]]\n"
     ]
    },
    {
     "name": "stderr",
     "output_type": "stream",
     "text": [
      "C:\\Users\\gadli\\Anaconda3\\lib\\site-packages\\ipykernel_launcher.py:78: RuntimeWarning: divide by zero encountered in double_scalars\n"
     ]
    },
    {
     "name": "stdout",
     "output_type": "stream",
     "text": [
      "len(unique_polynoms) 4\n"
     ]
    },
    {
     "name": "stderr",
     "output_type": "stream",
     "text": [
      "C:\\Users\\gadli\\old_pc\\Tau\\Thesis\\polynoms\\tools.py:83: RuntimeWarning: divide by zero encountered in true_divide\n",
      "  Az = np.arctan(y/x)\n",
      "C:\\Users\\gadli\\Anaconda3\\lib\\site-packages\\ipykernel_launcher.py:55: VisibleDeprecationWarning: Creating an ndarray from ragged nested sequences (which is a list-or-tuple of lists-or-tuples-or ndarrays with different lengths or shapes) is deprecated. If you meant to do this, you must specify 'dtype=object' when creating the ndarray\n"
     ]
    },
    {
     "name": "stdout",
     "output_type": "stream",
     "text": [
      "t 21\n",
      "Number of point tracks before run() 304\n",
      "Number of extended tracks before run() 4\n"
     ]
    },
    {
     "name": "stderr",
     "output_type": "stream",
     "text": [
      "C:\\Users\\gadli\\Anaconda3\\lib\\site-packages\\ipykernel_launcher.py:78: RuntimeWarning: divide by zero encountered in double_scalars\n"
     ]
    },
    {
     "name": "stdout",
     "output_type": "stream",
     "text": [
      "Updating extended object track =  0\n",
      "P after update [[ 6.21111234e-03 -8.05694865e-04  1.77824616e-05  0.00000000e+00\n",
      "   0.00000000e+00]\n",
      " [-8.05694865e-04  2.56548585e-04 -6.78412705e-06  0.00000000e+00\n",
      "   0.00000000e+00]\n",
      " [ 1.77824616e-05 -6.78412705e-06  1.96436136e-07  0.00000000e+00\n",
      "   0.00000000e+00]\n",
      " [ 0.00000000e+00  0.00000000e+00  0.00000000e+00  1.58661364e-01\n",
      "   9.05898459e-03]\n",
      " [ 0.00000000e+00  0.00000000e+00  0.00000000e+00  9.05898459e-03\n",
      "   1.73327902e+01]]\n",
      "Updating extended object track =  1\n",
      "P after update [[ 1.21848881e+00 -6.15969113e-02  7.03830824e-04  0.00000000e+00\n",
      "   0.00000000e+00]\n",
      " [-6.15969113e-02  3.19584043e-03 -3.72078520e-05  0.00000000e+00\n",
      "   0.00000000e+00]\n",
      " [ 7.03830824e-04 -3.72078520e-05  4.41477658e-07  0.00000000e+00\n",
      "   0.00000000e+00]\n",
      " [ 0.00000000e+00  0.00000000e+00  0.00000000e+00  1.58754176e+01\n",
      "   5.23296084e-01]\n",
      " [ 0.00000000e+00  0.00000000e+00  0.00000000e+00  5.23296084e-01\n",
      "   1.06921660e+01]]\n",
      "Updating extended object track =  2\n",
      "P after update [[ 4.88745650e-03 -5.81698953e-04  1.38478793e-05  0.00000000e+00\n",
      "   0.00000000e+00]\n",
      " [-5.81698953e-04  3.28861675e-04 -1.06309404e-05  0.00000000e+00\n",
      "   0.00000000e+00]\n",
      " [ 1.38478793e-05 -1.06309404e-05  3.72736596e-07  0.00000000e+00\n",
      "   0.00000000e+00]\n",
      " [ 0.00000000e+00  0.00000000e+00  0.00000000e+00  1.45514741e+01\n",
      "   9.82740646e-02]\n",
      " [ 0.00000000e+00  0.00000000e+00  0.00000000e+00  9.82740646e-02\n",
      "   2.26913843e+00]]\n",
      "Updating extended object track =  1\n",
      "P after update [[ 1.20913301e+00 -6.13576355e-02  7.02588403e-04  0.00000000e+00\n",
      "   0.00000000e+00]\n",
      " [-6.13576355e-02  3.18972092e-03 -3.71760769e-05  0.00000000e+00\n",
      "   0.00000000e+00]\n",
      " [ 7.02588403e-04 -3.71760769e-05  4.41312668e-07  0.00000000e+00\n",
      "   0.00000000e+00]\n",
      " [ 0.00000000e+00  0.00000000e+00  0.00000000e+00  1.74473458e+00\n",
      "   5.75111027e-02]\n",
      " [ 0.00000000e+00  0.00000000e+00  0.00000000e+00  5.75111027e-02\n",
      "   1.06768125e+01]]\n",
      "Updating extended object track =  3\n",
      "P after update [[ 7.85152864e-03 -1.26233698e-03  3.75618805e-05  0.00000000e+00\n",
      "   0.00000000e+00]\n",
      " [-1.26233698e-03  1.06538106e-03 -4.18639817e-05  0.00000000e+00\n",
      "   0.00000000e+00]\n",
      " [ 3.75618805e-05 -4.18639817e-05  1.81361254e-06  0.00000000e+00\n",
      "   0.00000000e+00]\n",
      " [ 0.00000000e+00  0.00000000e+00  0.00000000e+00  5.15607954e+00\n",
      "   1.39856234e-01]\n",
      " [ 0.00000000e+00  0.00000000e+00  0.00000000e+00  1.39856234e-01\n",
      "   1.15463570e+01]]\n",
      "Updating extended object track =  3\n",
      "P after update [[ 7.83082794e-03 -1.30113096e-03  3.91590393e-05  0.00000000e+00\n",
      "   0.00000000e+00]\n",
      " [-1.30113096e-03  9.92679483e-04 -3.88708380e-05  0.00000000e+00\n",
      "   0.00000000e+00]\n",
      " [ 3.91590393e-05 -3.88708380e-05  1.69038401e-06  0.00000000e+00\n",
      "   0.00000000e+00]\n",
      " [ 0.00000000e+00  0.00000000e+00  0.00000000e+00  5.15607954e+00\n",
      "   1.39856234e-01]\n",
      " [ 0.00000000e+00  0.00000000e+00  0.00000000e+00  1.39856234e-01\n",
      "   1.15463570e+01]]\n",
      "Updating extended object track =  2\n",
      "P after update [[ 4.88720318e-03 -5.79466312e-04  1.37751805e-05  0.00000000e+00\n",
      "   0.00000000e+00]\n",
      " [-5.79466312e-04  3.09184707e-04 -9.99022325e-06  0.00000000e+00\n",
      "   0.00000000e+00]\n",
      " [ 1.37751805e-05 -9.99022325e-06  3.51873703e-07  0.00000000e+00\n",
      "   0.00000000e+00]\n",
      " [ 0.00000000e+00  0.00000000e+00  0.00000000e+00  1.45514741e+01\n",
      "   9.82740646e-02]\n",
      " [ 0.00000000e+00  0.00000000e+00  0.00000000e+00  9.82740646e-02\n",
      "   2.26913843e+00]]\n",
      "Updating extended object track =  0\n",
      "P after update [[ 6.18551245e-03 -8.11912284e-04  1.79838173e-05  0.00000000e+00\n",
      "   0.00000000e+00]\n",
      " [-8.11912284e-04  2.55038566e-04 -6.73522399e-06  0.00000000e+00\n",
      "   0.00000000e+00]\n",
      " [ 1.79838173e-05 -6.73522399e-06  1.94852374e-07  0.00000000e+00\n",
      "   0.00000000e+00]\n",
      " [ 0.00000000e+00  0.00000000e+00  0.00000000e+00  1.58661364e-01\n",
      "   9.05898459e-03]\n",
      " [ 0.00000000e+00  0.00000000e+00  0.00000000e+00  9.05898459e-03\n",
      "   1.73327902e+01]]\n",
      "len(unique_polynoms) 4\n"
     ]
    },
    {
     "name": "stderr",
     "output_type": "stream",
     "text": [
      "C:\\Users\\gadli\\old_pc\\Tau\\Thesis\\polynoms\\tools.py:83: RuntimeWarning: divide by zero encountered in true_divide\n",
      "  Az = np.arctan(y/x)\n",
      "C:\\Users\\gadli\\Anaconda3\\lib\\site-packages\\ipykernel_launcher.py:55: VisibleDeprecationWarning: Creating an ndarray from ragged nested sequences (which is a list-or-tuple of lists-or-tuples-or ndarrays with different lengths or shapes) is deprecated. If you meant to do this, you must specify 'dtype=object' when creating the ndarray\n"
     ]
    },
    {
     "name": "stdout",
     "output_type": "stream",
     "text": [
      "t 22\n",
      "Number of point tracks before run() 297\n",
      "Number of extended tracks before run() 4\n"
     ]
    },
    {
     "name": "stderr",
     "output_type": "stream",
     "text": [
      "C:\\Users\\gadli\\Anaconda3\\lib\\site-packages\\ipykernel_launcher.py:78: RuntimeWarning: divide by zero encountered in double_scalars\n"
     ]
    },
    {
     "name": "stdout",
     "output_type": "stream",
     "text": [
      "Updating extended object track =  2\n",
      "P after update [[ 4.88153699e-03 -5.74294864e-04  1.36842752e-05  0.00000000e+00\n",
      "   0.00000000e+00]\n",
      " [-5.74294864e-04  3.04464803e-04 -9.90725533e-06  0.00000000e+00\n",
      "   0.00000000e+00]\n",
      " [ 1.36842752e-05 -9.90725533e-06  3.50415267e-07  0.00000000e+00\n",
      "   0.00000000e+00]\n",
      " [ 0.00000000e+00  0.00000000e+00  0.00000000e+00  1.89799958e+01\n",
      "   4.24105727e-01]\n",
      " [ 0.00000000e+00  0.00000000e+00  0.00000000e+00  4.24105727e-01\n",
      "   7.18895348e+00]]\n",
      "Updating extended object track =  3\n",
      "P after update [[ 7.79716801e-03 -1.33975311e-03  4.07816151e-05  0.00000000e+00\n",
      "   0.00000000e+00]\n",
      " [-1.33975311e-03  9.48363589e-04 -3.70090591e-05  0.00000000e+00\n",
      "   0.00000000e+00]\n",
      " [ 4.07816151e-05 -3.70090591e-05  1.61216782e-06  0.00000000e+00\n",
      "   0.00000000e+00]\n",
      " [ 0.00000000e+00  0.00000000e+00  0.00000000e+00  9.96199970e+00\n",
      "   4.61741625e-01]\n",
      " [ 0.00000000e+00  0.00000000e+00  0.00000000e+00  4.61741625e-01\n",
      "   1.60966660e+01]]\n",
      "Updating extended object track =  1\n",
      "P after update [[ 1.13063372e+00 -5.68557395e-02  6.43255587e-04  0.00000000e+00\n",
      "   0.00000000e+00]\n",
      " [-5.68557395e-02  2.93153936e-03 -3.37733687e-05  0.00000000e+00\n",
      "   0.00000000e+00]\n",
      " [ 6.43255587e-04 -3.37733687e-05  3.96466617e-07  0.00000000e+00\n",
      "   0.00000000e+00]\n",
      " [ 0.00000000e+00  0.00000000e+00  0.00000000e+00  6.67888376e+00\n",
      "   1.30965100e-01]\n",
      " [ 0.00000000e+00  0.00000000e+00  0.00000000e+00  1.30965100e-01\n",
      "   6.68899455e+00]]\n",
      "Updating extended object track =  2\n",
      "P after update [[ 4.87992307e-03 -5.68980946e-04  1.35135715e-05  0.00000000e+00\n",
      "   0.00000000e+00]\n",
      " [-5.68980946e-04  2.86968368e-04 -9.34520199e-06  0.00000000e+00\n",
      "   0.00000000e+00]\n",
      " [ 1.35135715e-05 -9.34520199e-06  3.32359935e-07  0.00000000e+00\n",
      "   0.00000000e+00]\n",
      " [ 0.00000000e+00  0.00000000e+00  0.00000000e+00  1.89799958e+01\n",
      "   4.24105727e-01]\n",
      " [ 0.00000000e+00  0.00000000e+00  0.00000000e+00  4.24105727e-01\n",
      "   7.18895348e+00]]\n",
      "Updating extended object track =  3\n",
      "P after update [[ 7.71812161e-03 -1.23056445e-03  3.43154807e-05  0.00000000e+00\n",
      "   0.00000000e+00]\n",
      " [-1.23056445e-03  7.97538721e-04 -2.80772352e-05  0.00000000e+00\n",
      "   0.00000000e+00]\n",
      " [ 3.43154807e-05 -2.80772352e-05  1.08322667e-06  0.00000000e+00\n",
      "   0.00000000e+00]\n",
      " [ 0.00000000e+00  0.00000000e+00  0.00000000e+00  9.95047482e+00\n",
      "   5.99755507e-02]\n",
      " [ 0.00000000e+00  0.00000000e+00  0.00000000e+00  5.99755507e-02\n",
      "   2.09079354e+00]]\n",
      "len(unique_polynoms) 3\n"
     ]
    },
    {
     "name": "stderr",
     "output_type": "stream",
     "text": [
      "C:\\Users\\gadli\\old_pc\\Tau\\Thesis\\polynoms\\tools.py:83: RuntimeWarning: divide by zero encountered in true_divide\n",
      "  Az = np.arctan(y/x)\n",
      "C:\\Users\\gadli\\Anaconda3\\lib\\site-packages\\ipykernel_launcher.py:55: VisibleDeprecationWarning: Creating an ndarray from ragged nested sequences (which is a list-or-tuple of lists-or-tuples-or ndarrays with different lengths or shapes) is deprecated. If you meant to do this, you must specify 'dtype=object' when creating the ndarray\n"
     ]
    },
    {
     "name": "stdout",
     "output_type": "stream",
     "text": [
      "t 23\n",
      "Number of point tracks before run() 298\n",
      "Number of extended tracks before run() 4\n"
     ]
    },
    {
     "name": "stderr",
     "output_type": "stream",
     "text": [
      "C:\\Users\\gadli\\Anaconda3\\lib\\site-packages\\ipykernel_launcher.py:78: RuntimeWarning: divide by zero encountered in double_scalars\n"
     ]
    },
    {
     "name": "stdout",
     "output_type": "stream",
     "text": [
      "Updating extended object track =  1\n",
      "P after update [[ 1.08311304e+00 -5.43753470e-02  6.16614260e-04  0.00000000e+00\n",
      "   0.00000000e+00]\n",
      " [-5.43753470e-02  2.80207265e-03 -3.23827964e-05  0.00000000e+00\n",
      "   0.00000000e+00]\n",
      " [ 6.16614260e-04 -3.23827964e-05  3.81530799e-07  0.00000000e+00\n",
      "   0.00000000e+00]\n",
      " [ 0.00000000e+00  0.00000000e+00  0.00000000e+00  1.14222094e+01\n",
      "   3.87841683e-01]\n",
      " [ 0.00000000e+00  0.00000000e+00  0.00000000e+00  3.87841683e-01\n",
      "   1.14319158e+01]]\n",
      "Updating extended object track =  3\n",
      "P after update [[ 7.63412008e-03 -1.13028174e-03  2.92081029e-05  0.00000000e+00\n",
      "   0.00000000e+00]\n",
      " [-1.13028174e-03  6.77819209e-04 -2.19799449e-05  0.00000000e+00\n",
      "   0.00000000e+00]\n",
      " [ 2.92081029e-05 -2.19799449e-05  7.72692920e-07  0.00000000e+00\n",
      "   0.00000000e+00]\n",
      " [ 0.00000000e+00  0.00000000e+00  0.00000000e+00  1.45509187e+01\n",
      "   8.56952885e-02]\n",
      " [ 0.00000000e+00  0.00000000e+00  0.00000000e+00  8.56952885e-02\n",
      "   2.04709356e+00]]\n",
      "Updating extended object track =  3\n",
      "P after update [[ 7.59704815e-03 -1.15876028e-03  3.02191283e-05  0.00000000e+00\n",
      "   0.00000000e+00]\n",
      " [-1.15876028e-03  6.55942092e-04 -2.12032785e-05  0.00000000e+00\n",
      "   0.00000000e+00]\n",
      " [ 3.02191283e-05 -2.12032785e-05  7.45120242e-07  0.00000000e+00\n",
      "   0.00000000e+00]\n",
      " [ 0.00000000e+00  0.00000000e+00  0.00000000e+00  1.45509187e+01\n",
      "   8.56952885e-02]\n",
      " [ 0.00000000e+00  0.00000000e+00  0.00000000e+00  8.56952885e-02\n",
      "   2.04709356e+00]]\n",
      "Updating extended object track =  1\n",
      "P after update [[ 1.05503424e+00 -5.29493973e-02  6.02010845e-04  0.00000000e+00\n",
      "   0.00000000e+00]\n",
      " [-5.29493973e-02  2.72965744e-03 -3.16411788e-05  0.00000000e+00\n",
      "   0.00000000e+00]\n",
      " [ 6.02010845e-04 -3.16411788e-05  3.73935756e-07  0.00000000e+00\n",
      "   0.00000000e+00]\n",
      " [ 0.00000000e+00  0.00000000e+00  0.00000000e+00  1.14222094e+01\n",
      "   3.87841683e-01]\n",
      " [ 0.00000000e+00  0.00000000e+00  0.00000000e+00  3.87841683e-01\n",
      "   1.14319158e+01]]\n",
      "Updating extended object track =  2\n",
      "P after update [[ 4.86936427e-03 -5.77506559e-04  1.38181092e-05  0.00000000e+00\n",
      "   0.00000000e+00]\n",
      " [-5.77506559e-04  2.80084436e-04 -9.09930573e-06  0.00000000e+00\n",
      "   0.00000000e+00]\n",
      " [ 1.38181092e-05 -9.09930573e-06  3.23576441e-07  0.00000000e+00\n",
      "   0.00000000e+00]\n",
      " [ 0.00000000e+00  0.00000000e+00  0.00000000e+00  2.32478884e+01\n",
      "   9.20392188e-01]\n",
      " [ 0.00000000e+00  0.00000000e+00  0.00000000e+00  9.20392188e-01\n",
      "   1.19284879e+01]]\n",
      "Updating extended object track =  1\n",
      "P after update [[ 1.00613973e+00 -5.02898649e-02  5.71901332e-04  0.00000000e+00\n",
      "   0.00000000e+00]\n",
      " [-5.02898649e-02  2.58499675e-03 -3.00034236e-05  0.00000000e+00\n",
      "   0.00000000e+00]\n",
      " [ 5.71901332e-04 -3.00034236e-05  3.55394147e-07  0.00000000e+00\n",
      "   0.00000000e+00]\n",
      " [ 0.00000000e+00  0.00000000e+00  0.00000000e+00  1.14222094e+01\n",
      "   3.87841683e-01]\n",
      " [ 0.00000000e+00  0.00000000e+00  0.00000000e+00  3.87841683e-01\n",
      "   1.14319158e+01]]\n",
      "Updating extended object track =  0\n",
      "P after update [[ 6.16192659e-03 -8.17809186e-04  1.81741342e-05  0.00000000e+00\n",
      "   0.00000000e+00]\n",
      " [-8.17809186e-04  2.53564232e-04 -6.68764126e-06  0.00000000e+00\n",
      "   0.00000000e+00]\n",
      " [ 1.81741342e-05 -6.68764126e-06  1.93316687e-07  0.00000000e+00\n",
      "   0.00000000e+00]\n",
      " [ 0.00000000e+00  0.00000000e+00  0.00000000e+00  9.97778276e+00\n",
      "   8.63163439e-01]\n",
      " [ 0.00000000e+00  0.00000000e+00  0.00000000e+00  8.63163439e-01\n",
      "   2.58054599e+01]]\n",
      "Updating extended object track =  0\n",
      "P after update [[ 6.14920704e-03 -8.10283465e-04  1.78122387e-05  0.00000000e+00\n",
      "   0.00000000e+00]\n",
      " [-8.10283465e-04  2.49111522e-04 -6.47352016e-06  0.00000000e+00\n",
      "   0.00000000e+00]\n",
      " [ 1.78122387e-05 -6.47352016e-06  1.83020070e-07  0.00000000e+00\n",
      "   0.00000000e+00]\n",
      " [ 0.00000000e+00  0.00000000e+00  0.00000000e+00  9.95262012e+00\n",
      "   1.10891522e-01]\n",
      " [ 0.00000000e+00  0.00000000e+00  0.00000000e+00  1.10891522e-01\n",
      "   3.31525478e+00]]\n",
      "len(unique_polynoms) 4\n"
     ]
    },
    {
     "name": "stderr",
     "output_type": "stream",
     "text": [
      "C:\\Users\\gadli\\old_pc\\Tau\\Thesis\\polynoms\\tools.py:83: RuntimeWarning: divide by zero encountered in true_divide\n",
      "  Az = np.arctan(y/x)\n",
      "C:\\Users\\gadli\\Anaconda3\\lib\\site-packages\\ipykernel_launcher.py:55: VisibleDeprecationWarning: Creating an ndarray from ragged nested sequences (which is a list-or-tuple of lists-or-tuples-or ndarrays with different lengths or shapes) is deprecated. If you meant to do this, you must specify 'dtype=object' when creating the ndarray\n"
     ]
    },
    {
     "name": "stdout",
     "output_type": "stream",
     "text": [
      "t 24\n",
      "Number of point tracks before run() 299\n",
      "Number of extended tracks before run() 4\n"
     ]
    },
    {
     "name": "stderr",
     "output_type": "stream",
     "text": [
      "C:\\Users\\gadli\\Anaconda3\\lib\\site-packages\\ipykernel_launcher.py:78: RuntimeWarning: divide by zero encountered in double_scalars\n"
     ]
    },
    {
     "name": "stdout",
     "output_type": "stream",
     "text": [
      "Updating extended object track =  3\n",
      "P after update [[ 7.55878827e-03 -1.18435649e-03  3.11348597e-05  0.00000000e+00\n",
      "   0.00000000e+00]\n",
      " [-1.18435649e-03  6.38817993e-04 -2.05906458e-05  0.00000000e+00\n",
      "   0.00000000e+00]\n",
      " [ 3.11348597e-05 -2.05906458e-05  7.23202658e-07  0.00000000e+00\n",
      "   0.00000000e+00]\n",
      " [ 0.00000000e+00  0.00000000e+00  0.00000000e+00  1.89788804e+01\n",
      "   4.07657073e-01]\n",
      " [ 0.00000000e+00  0.00000000e+00  0.00000000e+00  4.07657073e-01\n",
      "   6.97520827e+00]]\n",
      "Updating extended object track =  1\n",
      "P after update [[ 9.70779502e-01 -4.84158862e-02  5.51310461e-04  0.00000000e+00\n",
      "   0.00000000e+00]\n",
      " [-4.84158862e-02  2.48568189e-03 -2.89121736e-05  0.00000000e+00\n",
      "   0.00000000e+00]\n",
      " [ 5.51310461e-04 -2.89121736e-05  3.43403728e-07  0.00000000e+00\n",
      "   0.00000000e+00]\n",
      " [ 0.00000000e+00  0.00000000e+00  0.00000000e+00  1.59896661e+01\n",
      "   8.20579142e-01]\n",
      " [ 0.00000000e+00  0.00000000e+00  0.00000000e+00  8.20579142e-01\n",
      "   1.59989842e+01]]\n",
      "Updating extended object track =  3\n",
      "P after update [[ 7.53866708e-03 -1.20414285e-03  3.18291078e-05  0.00000000e+00\n",
      "   0.00000000e+00]\n",
      " [-1.20414285e-03  6.19360892e-04 -1.99079506e-05  0.00000000e+00\n",
      "   0.00000000e+00]\n",
      " [ 3.18291078e-05 -1.99079506e-05  6.99248797e-07  0.00000000e+00\n",
      "   0.00000000e+00]\n",
      " [ 0.00000000e+00  0.00000000e+00  0.00000000e+00  1.89788804e+01\n",
      "   4.07657073e-01]\n",
      " [ 0.00000000e+00  0.00000000e+00  0.00000000e+00  4.07657073e-01\n",
      "   6.97520827e+00]]\n",
      "Updating extended object track =  1\n",
      "P after update [[ 9.43050324e-01 -4.69613418e-02  5.35553555e-04  0.00000000e+00\n",
      "   0.00000000e+00]\n",
      " [-4.69613418e-02  2.40938323e-03 -2.80856393e-05  0.00000000e+00\n",
      "   0.00000000e+00]\n",
      " [ 5.35553555e-04 -2.80856393e-05  3.34449980e-07  0.00000000e+00\n",
      "   0.00000000e+00]\n",
      " [ 0.00000000e+00  0.00000000e+00  0.00000000e+00  1.59896661e+01\n",
      "   8.20579142e-01]\n",
      " [ 0.00000000e+00  0.00000000e+00  0.00000000e+00  8.20579142e-01\n",
      "   1.59989842e+01]]\n",
      "len(unique_polynoms) 2\n",
      "t 25\n",
      "Number of point tracks before run() 292\n",
      "Number of extended tracks before run() 4\n"
     ]
    },
    {
     "name": "stderr",
     "output_type": "stream",
     "text": [
      "C:\\Users\\gadli\\Anaconda3\\lib\\site-packages\\ipykernel_launcher.py:55: VisibleDeprecationWarning: Creating an ndarray from ragged nested sequences (which is a list-or-tuple of lists-or-tuples-or ndarrays with different lengths or shapes) is deprecated. If you meant to do this, you must specify 'dtype=object' when creating the ndarray\n",
      "C:\\Users\\gadli\\Anaconda3\\lib\\site-packages\\ipykernel_launcher.py:78: RuntimeWarning: divide by zero encountered in double_scalars\n"
     ]
    },
    {
     "name": "stdout",
     "output_type": "stream",
     "text": [
      "Updating extended object track =  2\n",
      "P after update [[ 4.77435972e-03 -5.80226472e-04  1.40375868e-05  0.00000000e+00\n",
      "   0.00000000e+00]\n",
      " [-5.80226472e-04  2.80006567e-04 -9.09302225e-06  0.00000000e+00\n",
      "   0.00000000e+00]\n",
      " [ 1.40375868e-05 -9.09302225e-06  3.23069408e-07  0.00000000e+00\n",
      "   0.00000000e+00]\n",
      " [ 0.00000000e+00  0.00000000e+00  0.00000000e+00  7.12615263e-02\n",
      "   5.39115166e-03]\n",
      " [ 0.00000000e+00  0.00000000e+00  0.00000000e+00  5.39115166e-03\n",
      "   2.07416427e+01]]\n",
      "Updating extended object track =  1\n",
      "P after update [[ 8.44254790e-01 -4.13976430e-02  4.63671373e-04  0.00000000e+00\n",
      "   0.00000000e+00]\n",
      " [-4.13976430e-02  2.09606193e-03 -2.40375735e-05  0.00000000e+00\n",
      "   0.00000000e+00]\n",
      " [ 4.63671373e-04 -2.40375735e-05  2.82149558e-07  0.00000000e+00\n",
      "   0.00000000e+00]\n",
      " [ 0.00000000e+00  0.00000000e+00  0.00000000e+00  2.03356596e+01\n",
      "   5.59350658e-01]\n",
      " [ 0.00000000e+00  0.00000000e+00  0.00000000e+00  5.59350658e-01\n",
      "   8.06349039e+00]]\n",
      "len(unique_polynoms) 2\n"
     ]
    },
    {
     "name": "stderr",
     "output_type": "stream",
     "text": [
      "C:\\Users\\gadli\\old_pc\\Tau\\Thesis\\polynoms\\tools.py:83: RuntimeWarning: divide by zero encountered in true_divide\n",
      "  Az = np.arctan(y/x)\n",
      "C:\\Users\\gadli\\Anaconda3\\lib\\site-packages\\ipykernel_launcher.py:55: VisibleDeprecationWarning: Creating an ndarray from ragged nested sequences (which is a list-or-tuple of lists-or-tuples-or ndarrays with different lengths or shapes) is deprecated. If you meant to do this, you must specify 'dtype=object' when creating the ndarray\n"
     ]
    },
    {
     "name": "stdout",
     "output_type": "stream",
     "text": [
      "t 26\n",
      "Number of point tracks before run() 299\n",
      "Number of extended tracks before run() 4\n"
     ]
    },
    {
     "name": "stderr",
     "output_type": "stream",
     "text": [
      "C:\\Users\\gadli\\Anaconda3\\lib\\site-packages\\ipykernel_launcher.py:78: RuntimeWarning: divide by zero encountered in double_scalars\n"
     ]
    },
    {
     "name": "stdout",
     "output_type": "stream",
     "text": [
      "Updating extended object track =  2\n",
      "P after update [[ 4.72713577e-03 -5.88078314e-04  1.43711989e-05  0.00000000e+00\n",
      "   0.00000000e+00]\n",
      " [-5.88078314e-04  2.78701056e-04 -9.03755316e-06  0.00000000e+00\n",
      "   0.00000000e+00]\n",
      " [ 1.43711989e-05 -9.03755316e-06  3.20712616e-07  0.00000000e+00\n",
      "   0.00000000e+00]\n",
      " [ 0.00000000e+00  0.00000000e+00  0.00000000e+00  5.07694756e+00\n",
      "   4.13112740e-01]\n",
      " [ 0.00000000e+00  0.00000000e+00  0.00000000e+00  4.13112740e-01\n",
      "   2.49205134e+01]]\n",
      "Updating extended object track =  2\n",
      "P after update [[ 4.71604409e-03 -5.95529269e-04  1.46405835e-05  0.00000000e+00\n",
      "   0.00000000e+00]\n",
      " [-5.95529269e-04  2.73695797e-04 -8.85659122e-06  0.00000000e+00\n",
      "   0.00000000e+00]\n",
      " [ 1.46405835e-05 -8.85659122e-06  3.14170052e-07  0.00000000e+00\n",
      "   0.00000000e+00]\n",
      " [ 0.00000000e+00  0.00000000e+00  0.00000000e+00  5.07694756e+00\n",
      "   4.13112740e-01]\n",
      " [ 0.00000000e+00  0.00000000e+00  0.00000000e+00  4.13112740e-01\n",
      "   2.49205134e+01]]\n",
      "Updating extended object track =  2\n",
      "P after update [[ 4.71452192e-03 -5.95058985e-04  1.46747985e-05  0.00000000e+00\n",
      "   0.00000000e+00]\n",
      " [-5.95058985e-04  2.73550500e-04 -8.86716215e-06  0.00000000e+00\n",
      "   0.00000000e+00]\n",
      " [ 1.46747985e-05 -8.86716215e-06  3.13400974e-07  0.00000000e+00\n",
      "   0.00000000e+00]\n",
      " [ 0.00000000e+00  0.00000000e+00  0.00000000e+00  5.07694756e+00\n",
      "   4.13112740e-01]\n",
      " [ 0.00000000e+00  0.00000000e+00  0.00000000e+00  4.13112740e-01\n",
      "   2.49205134e+01]]\n",
      "Updating extended object track =  3\n",
      "P after update [[ 7.47012551e-03 -1.13545008e-03  2.97834949e-05  0.00000000e+00\n",
      "   0.00000000e+00]\n",
      " [-1.13545008e-03  5.50516587e-04 -1.78578250e-05  0.00000000e+00\n",
      "   0.00000000e+00]\n",
      " [ 2.97834949e-05 -1.78578250e-05  6.38197779e-07  0.00000000e+00\n",
      "   0.00000000e+00]\n",
      " [ 0.00000000e+00  0.00000000e+00  0.00000000e+00  2.73655257e+01\n",
      "   1.55046779e+00]\n",
      " [ 0.00000000e+00  0.00000000e+00  0.00000000e+00  1.55046779e+00\n",
      "   1.63029415e+01]]\n",
      "Updating extended object track =  1\n",
      "P after update [[ 8.27575154e-01 -4.03926640e-02  4.51606665e-04  0.00000000e+00\n",
      "   0.00000000e+00]\n",
      " [-4.03926640e-02  2.03551009e-03 -2.33106525e-05  0.00000000e+00\n",
      "   0.00000000e+00]\n",
      " [ 4.51606665e-04 -2.33106525e-05  2.73422918e-07  0.00000000e+00\n",
      "   0.00000000e+00]\n",
      " [ 0.00000000e+00  0.00000000e+00  0.00000000e+00  2.45555194e+01\n",
      "   1.09404745e+00]\n",
      " [ 0.00000000e+00  0.00000000e+00  0.00000000e+00  1.09404745e+00\n",
      "   1.27742370e+01]]\n",
      "Updating extended object track =  1\n",
      "P after update [[ 8.05104701e-01 -3.91975361e-02  4.38486037e-04  0.00000000e+00\n",
      "   0.00000000e+00]\n",
      " [-3.91975361e-02  1.97194525e-03 -2.26128104e-05  0.00000000e+00\n",
      "   0.00000000e+00]\n",
      " [ 4.38486037e-04 -2.26128104e-05  2.65761707e-07  0.00000000e+00\n",
      "   0.00000000e+00]\n",
      " [ 0.00000000e+00  0.00000000e+00  0.00000000e+00  2.45555194e+01\n",
      "   1.09404745e+00]\n",
      " [ 0.00000000e+00  0.00000000e+00  0.00000000e+00  1.09404745e+00\n",
      "   1.27742370e+01]]\n",
      "len(unique_polynoms) 3\n"
     ]
    },
    {
     "name": "stderr",
     "output_type": "stream",
     "text": [
      "C:\\Users\\gadli\\old_pc\\Tau\\Thesis\\polynoms\\tools.py:83: RuntimeWarning: divide by zero encountered in true_divide\n",
      "  Az = np.arctan(y/x)\n",
      "C:\\Users\\gadli\\Anaconda3\\lib\\site-packages\\ipykernel_launcher.py:55: VisibleDeprecationWarning: Creating an ndarray from ragged nested sequences (which is a list-or-tuple of lists-or-tuples-or ndarrays with different lengths or shapes) is deprecated. If you meant to do this, you must specify 'dtype=object' when creating the ndarray\n"
     ]
    },
    {
     "name": "stdout",
     "output_type": "stream",
     "text": [
      "t 27\n",
      "Number of point tracks before run() 309\n",
      "Number of extended tracks before run() 4\n"
     ]
    },
    {
     "name": "stderr",
     "output_type": "stream",
     "text": [
      "C:\\Users\\gadli\\Anaconda3\\lib\\site-packages\\ipykernel_launcher.py:78: RuntimeWarning: divide by zero encountered in double_scalars\n"
     ]
    },
    {
     "name": "stdout",
     "output_type": "stream",
     "text": [
      "Updating extended object track =  3\n",
      "P after update [[ 7.33231887e-03 -1.14962855e-03  3.04567065e-05  0.00000000e+00\n",
      "   0.00000000e+00]\n",
      " [-1.14962855e-03  5.49057812e-04 -1.77885605e-05  0.00000000e+00\n",
      "   0.00000000e+00]\n",
      " [ 3.04567065e-05 -1.77885605e-05  6.34909012e-07  0.00000000e+00\n",
      "   0.00000000e+00]\n",
      " [ 0.00000000e+00  0.00000000e+00  0.00000000e+00  7.12615083e-02\n",
      "   5.33189510e-03]\n",
      " [ 0.00000000e+00  0.00000000e+00  0.00000000e+00  5.33189510e-03\n",
      "   2.05539678e+01]]\n",
      "Updating extended object track =  2\n",
      "P after update [[ 4.68935841e-03 -6.02884824e-04  1.49782077e-05  0.00000000e+00\n",
      "   0.00000000e+00]\n",
      " [-6.02884824e-04  2.71116667e-04 -8.77280199e-06  0.00000000e+00\n",
      "   0.00000000e+00]\n",
      " [ 1.49782077e-05 -8.77280199e-06  3.09742613e-07  0.00000000e+00\n",
      "   0.00000000e+00]\n",
      " [ 0.00000000e+00  0.00000000e+00  0.00000000e+00  9.90206266e+00\n",
      "   9.84868957e-01]\n",
      " [ 0.00000000e+00  0.00000000e+00  0.00000000e+00  9.84868957e-01\n",
      "   2.89518859e+01]]\n",
      "Updating extended object track =  0\n",
      "P after update [[ 6.14846376e-03 -8.08027241e-04  1.77501862e-05  0.00000000e+00\n",
      "   0.00000000e+00]\n",
      " [-8.08027241e-04  2.42262696e-04 -6.28515836e-06  0.00000000e+00\n",
      "   0.00000000e+00]\n",
      " [ 1.77501862e-05 -6.28515836e-06  1.77839596e-07  0.00000000e+00\n",
      "   0.00000000e+00]\n",
      " [ 0.00000000e+00  0.00000000e+00  0.00000000e+00  2.74282157e+01\n",
      "   2.13532493e+00]\n",
      " [ 0.00000000e+00  0.00000000e+00  0.00000000e+00  2.13532493e+00\n",
      "   2.17907923e+01]]\n",
      "Updating extended object track =  2\n",
      "P after update [[ 4.67949084e-03 -5.92765935e-04  1.44779630e-05  0.00000000e+00\n",
      "   0.00000000e+00]\n",
      " [-5.92765935e-04  2.60740061e-04 -8.25981661e-06  0.00000000e+00\n",
      "   0.00000000e+00]\n",
      " [ 1.44779630e-05 -8.25981661e-06  2.84382299e-07  0.00000000e+00\n",
      "   0.00000000e+00]\n",
      " [ 0.00000000e+00  0.00000000e+00  0.00000000e+00  9.87160139e+00\n",
      "   8.94084651e-02]\n",
      " [ 0.00000000e+00  0.00000000e+00  0.00000000e+00  8.94084651e-02\n",
      "   2.62831280e+00]]\n",
      "Updating extended object track =  2\n",
      "P after update [[ 4.67487423e-03 -5.89946412e-04  1.44485344e-05  0.00000000e+00\n",
      "   0.00000000e+00]\n",
      " [-5.89946412e-04  2.59018081e-04 -8.24184350e-06  0.00000000e+00\n",
      "   0.00000000e+00]\n",
      " [ 1.44485344e-05 -8.24184350e-06  2.84194705e-07  0.00000000e+00\n",
      "   0.00000000e+00]\n",
      " [ 0.00000000e+00  0.00000000e+00  0.00000000e+00  9.87160139e+00\n",
      "   8.94084651e-02]\n",
      " [ 0.00000000e+00  0.00000000e+00  0.00000000e+00  8.94084651e-02\n",
      "   2.62831280e+00]]\n",
      "len(unique_polynoms) 3\n",
      "t 28\n",
      "Number of point tracks before run() 304\n",
      "Number of extended tracks before run() 4\n"
     ]
    },
    {
     "name": "stderr",
     "output_type": "stream",
     "text": [
      "C:\\Users\\gadli\\Anaconda3\\lib\\site-packages\\ipykernel_launcher.py:55: VisibleDeprecationWarning: Creating an ndarray from ragged nested sequences (which is a list-or-tuple of lists-or-tuples-or ndarrays with different lengths or shapes) is deprecated. If you meant to do this, you must specify 'dtype=object' when creating the ndarray\n",
      "C:\\Users\\gadli\\Anaconda3\\lib\\site-packages\\ipykernel_launcher.py:78: RuntimeWarning: divide by zero encountered in double_scalars\n"
     ]
    },
    {
     "name": "stdout",
     "output_type": "stream",
     "text": [
      "Updating extended object track =  0\n",
      "P after update [[ 6.10732023e-03 -7.90862016e-04  1.74261519e-05  0.00000000e+00\n",
      "   0.00000000e+00]\n",
      " [-7.90862016e-04  2.35101305e-04 -6.14997011e-06  0.00000000e+00\n",
      "   0.00000000e+00]\n",
      " [ 1.74261519e-05 -6.14997011e-06  1.75287597e-07  0.00000000e+00\n",
      "   0.00000000e+00]\n",
      " [ 0.00000000e+00  0.00000000e+00  0.00000000e+00  3.14344795e+01\n",
      "   3.01631275e+00]\n",
      " [ 0.00000000e+00  0.00000000e+00  0.00000000e+00  3.01631275e+00\n",
      "   2.60225530e+01]]\n",
      "Updating extended object track =  2\n",
      "P after update [[ 4.67286948e-03 -5.85211159e-04  1.42961068e-05  0.00000000e+00\n",
      "   0.00000000e+00]\n",
      " [-5.85211159e-04  2.47833355e-04 -7.88180769e-06  0.00000000e+00\n",
      "   0.00000000e+00]\n",
      " [ 1.42961068e-05 -7.88180769e-06  2.72605169e-07  0.00000000e+00\n",
      "   0.00000000e+00]\n",
      " [ 0.00000000e+00  0.00000000e+00  0.00000000e+00  1.44852421e+01\n",
      "   3.30901971e-01]\n",
      " [ 0.00000000e+00  0.00000000e+00  0.00000000e+00  3.30901971e-01\n",
      "   7.53168506e+00]]\n",
      "len(unique_polynoms) 2\n"
     ]
    },
    {
     "name": "stderr",
     "output_type": "stream",
     "text": [
      "C:\\Users\\gadli\\old_pc\\Tau\\Thesis\\polynoms\\tools.py:83: RuntimeWarning: divide by zero encountered in true_divide\n",
      "  Az = np.arctan(y/x)\n",
      "C:\\Users\\gadli\\Anaconda3\\lib\\site-packages\\ipykernel_launcher.py:55: VisibleDeprecationWarning: Creating an ndarray from ragged nested sequences (which is a list-or-tuple of lists-or-tuples-or ndarrays with different lengths or shapes) is deprecated. If you meant to do this, you must specify 'dtype=object' when creating the ndarray\n"
     ]
    },
    {
     "name": "stdout",
     "output_type": "stream",
     "text": [
      "t 29\n",
      "Number of point tracks before run() 305\n",
      "Number of extended tracks before run() 4\n"
     ]
    },
    {
     "name": "stderr",
     "output_type": "stream",
     "text": [
      "C:\\Users\\gadli\\Anaconda3\\lib\\site-packages\\ipykernel_launcher.py:78: RuntimeWarning: divide by zero encountered in double_scalars\n"
     ]
    },
    {
     "name": "stdout",
     "output_type": "stream",
     "text": [
      "Updating extended object track =  0\n",
      "P after update [[ 3.77142691e-03 -4.85627608e-04  1.06803930e-05  0.00000000e+00\n",
      "   0.00000000e+00]\n",
      " [-4.85627608e-04  1.95215903e-04 -5.26849248e-06  0.00000000e+00\n",
      "   0.00000000e+00]\n",
      " [ 1.06803930e-05 -5.26849248e-06  1.55806715e-07  0.00000000e+00\n",
      "   0.00000000e+00]\n",
      " [ 0.00000000e+00  0.00000000e+00  0.00000000e+00  1.59278433e-01\n",
      "   1.81484618e-02]\n",
      " [ 0.00000000e+00  0.00000000e+00  0.00000000e+00  1.81484618e-02\n",
      "   2.96664131e+01]]\n",
      "Updating extended object track =  1\n",
      "P after update [[ 7.58238106e-01 -3.65392907e-02  4.03640515e-04  0.00000000e+00\n",
      "   0.00000000e+00]\n",
      " [-3.65392907e-02  1.82117115e-03 -2.06363931e-05  0.00000000e+00\n",
      "   0.00000000e+00]\n",
      " [ 4.03640515e-04 -2.06363931e-05  2.39853905e-07  0.00000000e+00\n",
      "   0.00000000e+00]\n",
      " [ 0.00000000e+00  0.00000000e+00  0.00000000e+00  3.60670986e+01\n",
      "   1.19073744e+00]\n",
      " [ 0.00000000e+00  0.00000000e+00  0.00000000e+00  1.19073744e+00\n",
      "   8.64999837e+00]]\n",
      "Updating extended object track =  0\n",
      "P after update [[ 3.75330536e-03 -4.89359676e-04  1.08041015e-05  0.00000000e+00\n",
      "   0.00000000e+00]\n",
      " [-4.89359676e-04  1.94447297e-04 -5.24301516e-06  0.00000000e+00\n",
      "   0.00000000e+00]\n",
      " [ 1.08041015e-05 -5.24301516e-06  1.54962207e-07  0.00000000e+00\n",
      "   0.00000000e+00]\n",
      " [ 0.00000000e+00  0.00000000e+00  0.00000000e+00  1.59278433e-01\n",
      "   1.81484618e-02]\n",
      " [ 0.00000000e+00  0.00000000e+00  0.00000000e+00  1.81484618e-02\n",
      "   2.96664131e+01]]\n",
      "Updating extended object track =  3\n",
      "P after update [[ 7.06481674e-03 -1.14604262e-03  3.06872204e-05  0.00000000e+00\n",
      "   0.00000000e+00]\n",
      " [-1.14604262e-03  5.49009742e-04 -1.77916506e-05  0.00000000e+00\n",
      "   0.00000000e+00]\n",
      " [ 3.06872204e-05 -1.77916506e-05  6.34710372e-07  0.00000000e+00\n",
      "   0.00000000e+00]\n",
      " [ 0.00000000e+00  0.00000000e+00  0.00000000e+00  8.92678582e-02\n",
      "   8.81471353e-03]\n",
      " [ 0.00000000e+00  0.00000000e+00  0.00000000e+00  8.81471353e-03\n",
      "   2.86829552e+01]]\n",
      "Updating extended object track =  1\n",
      "P after update [[ 7.52822131e-01 -3.62943284e-02  4.01658664e-04  0.00000000e+00\n",
      "   0.00000000e+00]\n",
      " [-3.62943284e-02  1.81009161e-03 -2.05467548e-05  0.00000000e+00\n",
      "   0.00000000e+00]\n",
      " [ 4.01658664e-04 -2.05467548e-05  2.39128693e-07  0.00000000e+00\n",
      "   0.00000000e+00]\n",
      " [ 0.00000000e+00  0.00000000e+00  0.00000000e+00  3.60670986e+01\n",
      "   1.19073744e+00]\n",
      " [ 0.00000000e+00  0.00000000e+00  0.00000000e+00  1.19073744e+00\n",
      "   8.64999837e+00]]\n",
      "Updating extended object track =  0\n",
      "P after update [[ 3.74715874e-03 -4.92899789e-04  1.09107373e-05  0.00000000e+00\n",
      "   0.00000000e+00]\n",
      " [-4.92899789e-04  1.92408387e-04 -5.18159878e-06  0.00000000e+00\n",
      "   0.00000000e+00]\n",
      " [ 1.09107373e-05 -5.18159878e-06  1.53112213e-07  0.00000000e+00\n",
      "   0.00000000e+00]\n",
      " [ 0.00000000e+00  0.00000000e+00  0.00000000e+00  1.59278433e-01\n",
      "   1.81484618e-02]\n",
      " [ 0.00000000e+00  0.00000000e+00  0.00000000e+00  1.81484618e-02\n",
      "   2.96664131e+01]]\n",
      "len(unique_polynoms) 3\n",
      "t 30\n",
      "Number of point tracks before run() 299\n",
      "Number of extended tracks before run() 4\n"
     ]
    },
    {
     "name": "stderr",
     "output_type": "stream",
     "text": [
      "C:\\Users\\gadli\\Anaconda3\\lib\\site-packages\\ipykernel_launcher.py:55: VisibleDeprecationWarning: Creating an ndarray from ragged nested sequences (which is a list-or-tuple of lists-or-tuples-or ndarrays with different lengths or shapes) is deprecated. If you meant to do this, you must specify 'dtype=object' when creating the ndarray\n",
      "C:\\Users\\gadli\\Anaconda3\\lib\\site-packages\\ipykernel_launcher.py:78: RuntimeWarning: divide by zero encountered in double_scalars\n"
     ]
    },
    {
     "name": "stdout",
     "output_type": "stream",
     "text": [
      "Updating extended object track =  0\n",
      "P after update [[ 3.74705920e-03 -4.92976011e-04  1.09230334e-05  0.00000000e+00\n",
      "   0.00000000e+00]\n",
      " [-4.92976011e-04  1.92350025e-04 -5.17218390e-06  0.00000000e+00\n",
      "   0.00000000e+00]\n",
      " [ 1.09230334e-05 -5.17218390e-06  1.51593417e-07  0.00000000e+00\n",
      "   0.00000000e+00]\n",
      " [ 0.00000000e+00  0.00000000e+00  0.00000000e+00  5.15563458e+00\n",
      "   5.04492408e-02]\n",
      " [ 0.00000000e+00  0.00000000e+00  0.00000000e+00  5.04492408e-02\n",
      "   2.80665824e+00]]\n",
      "Updating extended object track =  2\n",
      "P after update [[ 4.67029608e-03 -5.83971125e-04  1.43031249e-05  0.00000000e+00\n",
      "   0.00000000e+00]\n",
      " [-5.83971125e-04  2.47235825e-04 -7.88518946e-06  0.00000000e+00\n",
      "   0.00000000e+00]\n",
      " [ 1.43031249e-05 -7.88518946e-06  2.72586030e-07  0.00000000e+00\n",
      "   0.00000000e+00]\n",
      " [ 0.00000000e+00  0.00000000e+00  0.00000000e+00  2.32123570e+01\n",
      "   1.33120767e+00]\n",
      " [ 0.00000000e+00  0.00000000e+00  0.00000000e+00  1.33120767e+00\n",
      "   1.68039588e+01]]\n",
      "Updating extended object track =  2\n",
      "P after update [[ 4.30088314e-03 -5.52688306e-04  1.36921437e-05  0.00000000e+00\n",
      "   0.00000000e+00]\n",
      " [-5.52688306e-04  2.44586717e-04 -7.83345004e-06  0.00000000e+00\n",
      "   0.00000000e+00]\n",
      " [ 1.36921437e-05 -7.83345004e-06  2.71575513e-07  0.00000000e+00\n",
      "   0.00000000e+00]\n",
      " [ 0.00000000e+00  0.00000000e+00  0.00000000e+00  1.29896655e-01\n",
      "   7.44945559e-03]\n",
      " [ 0.00000000e+00  0.00000000e+00  0.00000000e+00  7.44945559e-03\n",
      "   1.67280425e+01]]\n",
      "Updating extended object track =  1\n",
      "P after update [[ 7.46522122e-01 -3.59014648e-02  3.95912224e-04  0.00000000e+00\n",
      "   0.00000000e+00]\n",
      " [-3.59014648e-02  1.78559294e-03 -2.01884113e-05  0.00000000e+00\n",
      "   0.00000000e+00]\n",
      " [ 3.95912224e-04 -2.01884113e-05  2.33887181e-07  0.00000000e+00\n",
      "   0.00000000e+00]\n",
      " [ 0.00000000e+00  0.00000000e+00  0.00000000e+00  3.96889784e+01\n",
      "   2.02051563e+00]\n",
      " [ 0.00000000e+00  0.00000000e+00  0.00000000e+00  2.02051563e+00\n",
      "   1.33685622e+01]]\n",
      "len(unique_polynoms) 3\n"
     ]
    },
    {
     "name": "stderr",
     "output_type": "stream",
     "text": [
      "C:\\Users\\gadli\\old_pc\\Tau\\Thesis\\polynoms\\tools.py:83: RuntimeWarning: divide by zero encountered in true_divide\n",
      "  Az = np.arctan(y/x)\n",
      "C:\\Users\\gadli\\Anaconda3\\lib\\site-packages\\ipykernel_launcher.py:55: VisibleDeprecationWarning: Creating an ndarray from ragged nested sequences (which is a list-or-tuple of lists-or-tuples-or ndarrays with different lengths or shapes) is deprecated. If you meant to do this, you must specify 'dtype=object' when creating the ndarray\n"
     ]
    },
    {
     "name": "stdout",
     "output_type": "stream",
     "text": [
      "t 31\n",
      "Number of point tracks before run() 301\n",
      "Number of extended tracks before run() 5\n"
     ]
    },
    {
     "name": "stderr",
     "output_type": "stream",
     "text": [
      "C:\\Users\\gadli\\Anaconda3\\lib\\site-packages\\ipykernel_launcher.py:78: RuntimeWarning: divide by zero encountered in double_scalars\n"
     ]
    },
    {
     "name": "stdout",
     "output_type": "stream",
     "text": [
      "Updating extended object track =  0\n",
      "P after update [[ 3.74558772e-03 -4.95136615e-04  1.09857091e-05  0.00000000e+00\n",
      "   0.00000000e+00]\n",
      " [-4.95136615e-04  1.89177566e-04 -5.08015582e-06  0.00000000e+00\n",
      "   0.00000000e+00]\n",
      " [ 1.09857091e-05 -5.08015582e-06  1.48923826e-07  0.00000000e+00\n",
      "   0.00000000e+00]\n",
      " [ 0.00000000e+00  0.00000000e+00  0.00000000e+00  9.95457173e+00\n",
      "   2.04532570e-01]\n",
      " [ 0.00000000e+00  0.00000000e+00  0.00000000e+00  2.04532570e-01\n",
      "   7.69955443e+00]]\n",
      "Updating extended object track =  3\n",
      "P after update [[ 7.02081541e-03 -1.09919478e-03  2.92355580e-05  0.00000000e+00\n",
      "   0.00000000e+00]\n",
      " [-1.09919478e-03  4.99131249e-04 -1.62460781e-05  0.00000000e+00\n",
      "   0.00000000e+00]\n",
      " [ 2.92355580e-05 -1.62460781e-05  5.86818099e-07  0.00000000e+00\n",
      "   0.00000000e+00]\n",
      " [ 0.00000000e+00  0.00000000e+00  0.00000000e+00  9.93114579e+00\n",
      "   1.28780933e+00]\n",
      " [ 0.00000000e+00  0.00000000e+00  0.00000000e+00  1.28780933e+00\n",
      "   3.62830881e+01]]\n",
      "Updating extended object track =  2\n",
      "P after update [[ 4.29151005e-03 -5.43355891e-04  1.34199657e-05  0.00000000e+00\n",
      "   0.00000000e+00]\n",
      " [-5.43355891e-04  2.35294798e-04 -7.56245308e-06  0.00000000e+00\n",
      "   0.00000000e+00]\n",
      " [ 1.34199657e-05 -7.56245308e-06  2.63671941e-07  0.00000000e+00\n",
      "   0.00000000e+00]\n",
      " [ 0.00000000e+00  0.00000000e+00  0.00000000e+00  5.13173598e+00\n",
      "   3.37573044e-01]\n",
      " [ 0.00000000e+00  0.00000000e+00  0.00000000e+00  3.37573044e-01\n",
      "   2.10659560e+01]]\n",
      "Updating extended object track =  3\n",
      "P after update [[ 7.00471916e-03 -1.11171788e-03  2.96888146e-05  0.00000000e+00\n",
      "   0.00000000e+00]\n",
      " [-1.11171788e-03  4.89388109e-04 -1.58934383e-05  0.00000000e+00\n",
      "   0.00000000e+00]\n",
      " [ 2.96888146e-05 -1.58934383e-05  5.74054782e-07  0.00000000e+00\n",
      "   0.00000000e+00]\n",
      " [ 0.00000000e+00  0.00000000e+00  0.00000000e+00  9.93114579e+00\n",
      "   1.28780933e+00]\n",
      " [ 0.00000000e+00  0.00000000e+00  0.00000000e+00  1.28780933e+00\n",
      "   3.62830881e+01]]\n",
      "Updating extended object track =  1\n",
      "P after update [[ 7.37944469e-01 -3.54883358e-02  3.92023814e-04  0.00000000e+00\n",
      "   0.00000000e+00]\n",
      " [-3.54883358e-02  1.76569524e-03 -2.00011322e-05  0.00000000e+00\n",
      "   0.00000000e+00]\n",
      " [ 3.92023814e-04 -2.00011322e-05  2.32124493e-07  0.00000000e+00\n",
      "   0.00000000e+00]\n",
      " [ 0.00000000e+00  0.00000000e+00  0.00000000e+00  4.32018465e+01\n",
      "   2.98123922e+00]\n",
      " [ 0.00000000e+00  0.00000000e+00  0.00000000e+00  2.98123922e+00\n",
      "   1.79342469e+01]]\n",
      "Updating extended object track =  3\n",
      "P after update [[ 6.75451961e-03 -1.10246915e-03  2.97062805e-05  0.00000000e+00\n",
      "   0.00000000e+00]\n",
      " [-1.10246915e-03  4.89046225e-04 -1.58940840e-05  0.00000000e+00\n",
      "   0.00000000e+00]\n",
      " [ 2.97062805e-05 -1.58940840e-05  5.74053563e-07  0.00000000e+00\n",
      "   0.00000000e+00]\n",
      " [ 0.00000000e+00  0.00000000e+00  0.00000000e+00  8.92702388e-02\n",
      "   1.15760103e-02]\n",
      " [ 0.00000000e+00  0.00000000e+00  0.00000000e+00  1.15760103e-02\n",
      "   3.61175941e+01]]\n",
      "len(unique_polynoms) 4\n"
     ]
    },
    {
     "name": "stderr",
     "output_type": "stream",
     "text": [
      "C:\\Users\\gadli\\old_pc\\Tau\\Thesis\\polynoms\\tools.py:83: RuntimeWarning: divide by zero encountered in true_divide\n",
      "  Az = np.arctan(y/x)\n",
      "C:\\Users\\gadli\\Anaconda3\\lib\\site-packages\\ipykernel_launcher.py:55: VisibleDeprecationWarning: Creating an ndarray from ragged nested sequences (which is a list-or-tuple of lists-or-tuples-or ndarrays with different lengths or shapes) is deprecated. If you meant to do this, you must specify 'dtype=object' when creating the ndarray\n"
     ]
    },
    {
     "name": "stdout",
     "output_type": "stream",
     "text": [
      "t 32\n",
      "Number of point tracks before run() 300\n",
      "Number of extended tracks before run() 5\n"
     ]
    },
    {
     "name": "stderr",
     "output_type": "stream",
     "text": [
      "C:\\Users\\gadli\\Anaconda3\\lib\\site-packages\\ipykernel_launcher.py:78: RuntimeWarning: divide by zero encountered in double_scalars\n"
     ]
    },
    {
     "name": "stdout",
     "output_type": "stream",
     "text": [
      "Updating extended object track =  1\n",
      "P after update [[ 7.37921269e-01 -3.54839783e-02  3.91912867e-04  0.00000000e+00\n",
      "   0.00000000e+00]\n",
      " [-3.54839783e-02  1.76487680e-03 -1.99802937e-05  0.00000000e+00\n",
      "   0.00000000e+00]\n",
      " [ 3.91912867e-04 -1.99802937e-05  2.31593917e-07  0.00000000e+00\n",
      "   0.00000000e+00]\n",
      " [ 0.00000000e+00  0.00000000e+00  0.00000000e+00  4.66150916e+01\n",
      "   4.06264207e+00]\n",
      " [ 0.00000000e+00  0.00000000e+00  0.00000000e+00  4.06264207e+00\n",
      "   2.23581961e+01]]\n",
      "Updating extended object track =  1\n",
      "P after update [[ 7.21163209e-01 -3.45127542e-02  3.78865348e-04  0.00000000e+00\n",
      "   0.00000000e+00]\n",
      " [-3.45127542e-02  1.70858888e-03 -1.92241163e-05  0.00000000e+00\n",
      "   0.00000000e+00]\n",
      " [ 3.78865348e-04 -1.92241163e-05  2.21435358e-07  0.00000000e+00\n",
      "   0.00000000e+00]\n",
      " [ 0.00000000e+00  0.00000000e+00  0.00000000e+00  4.66150916e+01\n",
      "   4.06264207e+00]\n",
      " [ 0.00000000e+00  0.00000000e+00  0.00000000e+00  4.06264207e+00\n",
      "   2.23581961e+01]]\n",
      "Updating extended object track =  1\n",
      "P after update [[ 7.15796692e-01 -3.42620883e-02  3.76647990e-04  0.00000000e+00\n",
      "   0.00000000e+00]\n",
      " [-3.42620883e-02  1.69688046e-03 -1.91205452e-05  0.00000000e+00\n",
      "   0.00000000e+00]\n",
      " [ 3.76647990e-04 -1.91205452e-05  2.20519181e-07  0.00000000e+00\n",
      "   0.00000000e+00]\n",
      " [ 0.00000000e+00  0.00000000e+00  0.00000000e+00  4.66150916e+01\n",
      "   4.06264207e+00]\n",
      " [ 0.00000000e+00  0.00000000e+00  0.00000000e+00  4.06264207e+00\n",
      "   2.23581961e+01]]\n",
      "Updating extended object track =  4\n",
      "P after update [[ 9.74819638e-01 -6.29605740e-02  9.40567497e-04  0.00000000e+00\n",
      "   0.00000000e+00]\n",
      " [-6.29605740e-02  4.38634532e-03 -6.89515147e-05  0.00000000e+00\n",
      "   0.00000000e+00]\n",
      " [ 9.40567497e-04 -6.89515147e-05  1.12866039e-06  0.00000000e+00\n",
      "   0.00000000e+00]\n",
      " [ 0.00000000e+00  0.00000000e+00  0.00000000e+00  4.21251384e-01\n",
      "   2.97860297e-02]\n",
      " [ 0.00000000e+00  0.00000000e+00  0.00000000e+00  2.97860297e-02\n",
      "   5.57595995e+01]]\n",
      "Updating extended object track =  4\n",
      "P after update [[ 7.59138202e-01 -4.50056539e-02  6.12961829e-04  0.00000000e+00\n",
      "   0.00000000e+00]\n",
      " [-4.50056539e-02  2.89164481e-03 -4.16791927e-05  0.00000000e+00\n",
      "   0.00000000e+00]\n",
      " [ 6.12961829e-04 -4.16791927e-05  6.31049306e-07  0.00000000e+00\n",
      "   0.00000000e+00]\n",
      " [ 0.00000000e+00  0.00000000e+00  0.00000000e+00  4.21237559e-01\n",
      "   3.90594020e-03]\n",
      " [ 0.00000000e+00  0.00000000e+00  0.00000000e+00  3.90594020e-03\n",
      "   7.31193999e+00]]\n",
      "Updating extended object track =  0\n",
      "P after update [[ 3.72280317e-03 -4.98111088e-04  1.10919190e-05  0.00000000e+00\n",
      "   0.00000000e+00]\n",
      " [-4.98111088e-04  1.88789255e-04 -5.06629035e-06  0.00000000e+00\n",
      "   0.00000000e+00]\n",
      " [ 1.10919190e-05 -5.06629035e-06  1.48428730e-07  0.00000000e+00\n",
      "   0.00000000e+00]\n",
      " [ 0.00000000e+00  0.00000000e+00  0.00000000e+00  1.45714682e+01\n",
      "   5.42535766e-01]\n",
      " [ 0.00000000e+00  0.00000000e+00  0.00000000e+00  5.42535766e-01\n",
      "   1.24066516e+01]]\n",
      "len(unique_polynoms) 3\n"
     ]
    },
    {
     "name": "stderr",
     "output_type": "stream",
     "text": [
      "C:\\Users\\gadli\\old_pc\\Tau\\Thesis\\polynoms\\tools.py:83: RuntimeWarning: divide by zero encountered in true_divide\n",
      "  Az = np.arctan(y/x)\n",
      "C:\\Users\\gadli\\Anaconda3\\lib\\site-packages\\ipykernel_launcher.py:55: VisibleDeprecationWarning: Creating an ndarray from ragged nested sequences (which is a list-or-tuple of lists-or-tuples-or ndarrays with different lengths or shapes) is deprecated. If you meant to do this, you must specify 'dtype=object' when creating the ndarray\n"
     ]
    },
    {
     "name": "stdout",
     "output_type": "stream",
     "text": [
      "t 33\n",
      "Number of point tracks before run() 303\n",
      "Number of extended tracks before run() 5\n"
     ]
    },
    {
     "name": "stderr",
     "output_type": "stream",
     "text": [
      "C:\\Users\\gadli\\Anaconda3\\lib\\site-packages\\ipykernel_launcher.py:78: RuntimeWarning: divide by zero encountered in double_scalars\n"
     ]
    },
    {
     "name": "stdout",
     "output_type": "stream",
     "text": [
      "Updating extended object track =  4\n",
      "P after update [[ 4.77560890e-01 -3.02728500e-02  4.31074286e-04  0.00000000e+00\n",
      "   0.00000000e+00]\n",
      " [-3.02728500e-02  2.12078898e-03 -3.21623979e-05  0.00000000e+00\n",
      "   0.00000000e+00]\n",
      " [ 4.31074286e-04 -3.21623979e-05  5.13557319e-07  0.00000000e+00\n",
      "   0.00000000e+00]\n",
      " [ 0.00000000e+00  0.00000000e+00  0.00000000e+00  3.93552346e-01\n",
      "   1.13039766e-02]\n",
      " [ 0.00000000e+00  0.00000000e+00  0.00000000e+00  1.13039766e-02\n",
      "   1.20185721e+01]]\n",
      "Updating extended object track =  3\n",
      "P after update [[ 6.69063709e-03 -1.05338070e-03  2.83087859e-05  0.00000000e+00\n",
      "   0.00000000e+00]\n",
      " [-1.05338070e-03  4.51325800e-04 -1.48202246e-05  0.00000000e+00\n",
      "   0.00000000e+00]\n",
      " [ 2.83087859e-05 -1.48202246e-05  5.43481960e-07  0.00000000e+00\n",
      "   0.00000000e+00]\n",
      " [ 0.00000000e+00  0.00000000e+00  0.00000000e+00  9.94278035e+00\n",
      "   1.57037619e+00]\n",
      " [ 0.00000000e+00  0.00000000e+00  0.00000000e+00  1.57037619e+00\n",
      "   4.31464836e+01]]\n",
      "len(unique_polynoms) 2\n"
     ]
    },
    {
     "name": "stderr",
     "output_type": "stream",
     "text": [
      "C:\\Users\\gadli\\old_pc\\Tau\\Thesis\\polynoms\\tools.py:83: RuntimeWarning: divide by zero encountered in true_divide\n",
      "  Az = np.arctan(y/x)\n",
      "C:\\Users\\gadli\\Anaconda3\\lib\\site-packages\\ipykernel_launcher.py:55: VisibleDeprecationWarning: Creating an ndarray from ragged nested sequences (which is a list-or-tuple of lists-or-tuples-or ndarrays with different lengths or shapes) is deprecated. If you meant to do this, you must specify 'dtype=object' when creating the ndarray\n"
     ]
    },
    {
     "name": "stdout",
     "output_type": "stream",
     "text": [
      "t 34\n",
      "Number of point tracks before run() 294\n",
      "Number of extended tracks before run() 5\n"
     ]
    },
    {
     "name": "stderr",
     "output_type": "stream",
     "text": [
      "C:\\Users\\gadli\\Anaconda3\\lib\\site-packages\\ipykernel_launcher.py:78: RuntimeWarning: divide by zero encountered in double_scalars\n"
     ]
    },
    {
     "name": "stdout",
     "output_type": "stream",
     "text": [
      "Updating extended object track =  1\n",
      "P after update [[ 7.12105387e-01 -3.39949151e-02  3.73213146e-04  0.00000000e+00\n",
      "   0.00000000e+00]\n",
      " [-3.39949151e-02  1.67754273e-03 -1.88719345e-05  0.00000000e+00\n",
      "   0.00000000e+00]\n",
      " [ 3.73213146e-04 -1.88719345e-05  2.17322980e-07  0.00000000e+00\n",
      "   0.00000000e+00]\n",
      " [ 0.00000000e+00  0.00000000e+00  0.00000000e+00  2.89650729e+00\n",
      "   3.56797400e-01]\n",
      " [ 0.00000000e+00  0.00000000e+00  0.00000000e+00  3.56797400e-01\n",
      "   3.00583883e+01]]\n",
      "Updating extended object track =  2\n",
      "P after update [[ 4.25964215e-03 -5.16350032e-04  1.22629653e-05  0.00000000e+00\n",
      "   0.00000000e+00]\n",
      " [-5.16350032e-04  2.12409190e-04 -6.58197477e-06  0.00000000e+00\n",
      "   0.00000000e+00]\n",
      " [ 1.22629653e-05 -6.58197477e-06  2.21665728e-07  0.00000000e+00\n",
      "   0.00000000e+00]\n",
      " [ 0.00000000e+00  0.00000000e+00  0.00000000e+00  1.89475223e+01\n",
      "   2.18641354e-01]\n",
      " [ 0.00000000e+00  0.00000000e+00  0.00000000e+00  2.18641354e-01\n",
      "   3.15999571e+00]]\n",
      "Updating extended object track =  4\n",
      "P after update [[ 4.74206768e-01 -3.03431107e-02  4.34292476e-04  0.00000000e+00\n",
      "   0.00000000e+00]\n",
      " [-3.03431107e-02  2.11931719e-03 -3.20949846e-05  0.00000000e+00\n",
      "   0.00000000e+00]\n",
      " [ 4.34292476e-04 -3.20949846e-05  5.10469552e-07  0.00000000e+00\n",
      "   0.00000000e+00]\n",
      " [ 0.00000000e+00  0.00000000e+00  0.00000000e+00  5.38321822e+00\n",
      "   2.54138500e-01]\n",
      " [ 0.00000000e+00  0.00000000e+00  0.00000000e+00  2.54138500e-01\n",
      "   1.65432372e+01]]\n",
      "len(unique_polynoms) 3\n"
     ]
    },
    {
     "name": "stderr",
     "output_type": "stream",
     "text": [
      "C:\\Users\\gadli\\old_pc\\Tau\\Thesis\\polynoms\\tools.py:83: RuntimeWarning: divide by zero encountered in true_divide\n",
      "  Az = np.arctan(y/x)\n",
      "C:\\Users\\gadli\\Anaconda3\\lib\\site-packages\\ipykernel_launcher.py:55: VisibleDeprecationWarning: Creating an ndarray from ragged nested sequences (which is a list-or-tuple of lists-or-tuples-or ndarrays with different lengths or shapes) is deprecated. If you meant to do this, you must specify 'dtype=object' when creating the ndarray\n"
     ]
    },
    {
     "name": "stdout",
     "output_type": "stream",
     "text": [
      "t 35\n",
      "Number of point tracks before run() 290\n",
      "Number of extended tracks before run() 5\n"
     ]
    },
    {
     "name": "stderr",
     "output_type": "stream",
     "text": [
      "C:\\Users\\gadli\\Anaconda3\\lib\\site-packages\\ipykernel_launcher.py:78: RuntimeWarning: divide by zero encountered in double_scalars\n"
     ]
    },
    {
     "name": "stdout",
     "output_type": "stream",
     "text": [
      "Updating extended object track =  0\n",
      "P after update [[ 3.72252418e-03 -4.97745408e-04  1.10653715e-05  0.00000000e+00\n",
      "   0.00000000e+00]\n",
      " [-4.97745408e-04  1.88309953e-04 -5.03149412e-06  0.00000000e+00\n",
      "   0.00000000e+00]\n",
      " [ 1.10653715e-05 -5.03149412e-06  1.45902601e-07  0.00000000e+00\n",
      "   0.00000000e+00]\n",
      " [ 0.00000000e+00  0.00000000e+00  0.00000000e+00  2.72470052e+01\n",
      "   2.83813181e-01]\n",
      " [ 0.00000000e+00  0.00000000e+00  0.00000000e+00  2.83813181e-01\n",
      "   2.87619557e+00]]\n",
      "Updating extended object track =  4\n",
      "P after update [[ 3.30440025e-01 -2.22370879e-02  3.28318171e-04  0.00000000e+00\n",
      "   0.00000000e+00]\n",
      " [-2.22370879e-02  1.66227404e-03 -2.61198188e-05  0.00000000e+00\n",
      "   0.00000000e+00]\n",
      " [ 3.28318171e-04 -2.61198188e-05  4.32353062e-07  0.00000000e+00\n",
      "   0.00000000e+00]\n",
      " [ 0.00000000e+00  0.00000000e+00  0.00000000e+00  3.50104920e-01\n",
      "   2.31625245e-02]\n",
      " [ 0.00000000e+00  0.00000000e+00  0.00000000e+00  2.31625245e-02\n",
      "   2.08571862e+01]]\n",
      "Updating extended object track =  3\n",
      "P after update [[ 6.63681931e-03 -1.01571736e-03  2.73185490e-05  0.00000000e+00\n",
      "   0.00000000e+00]\n",
      " [-1.01571736e-03  4.24967838e-04 -1.41272264e-05  0.00000000e+00\n",
      "   0.00000000e+00]\n",
      " [ 2.73185490e-05 -1.41272264e-05  5.25261791e-07  0.00000000e+00\n",
      "   0.00000000e+00]\n",
      " [ 0.00000000e+00  0.00000000e+00  0.00000000e+00  1.91671367e+01\n",
      "   3.64760496e+00]\n",
      " [ 0.00000000e+00  0.00000000e+00  0.00000000e+00  3.64760496e+00\n",
      "   4.97676697e+01]]\n",
      "Updating extended object track =  0\n",
      "P after update [[ 3.70781777e-03 -5.00946973e-04  1.11700593e-05  0.00000000e+00\n",
      "   0.00000000e+00]\n",
      " [-5.00946973e-04  1.87612977e-04 -5.00870372e-06  0.00000000e+00\n",
      "   0.00000000e+00]\n",
      " [ 1.11700593e-05 -5.00870372e-06  1.45157378e-07  0.00000000e+00\n",
      "   0.00000000e+00]\n",
      " [ 0.00000000e+00  0.00000000e+00  0.00000000e+00  2.72470052e+01\n",
      "   2.83813181e-01]\n",
      " [ 0.00000000e+00  0.00000000e+00  0.00000000e+00  2.83813181e-01\n",
      "   2.87619557e+00]]\n",
      "Updating extended object track =  4\n",
      "P after update [[ 3.26942901e-01 -2.20015857e-02  3.26591454e-04  0.00000000e+00\n",
      "   0.00000000e+00]\n",
      " [-2.20015857e-02  1.64641491e-03 -2.60035387e-05  0.00000000e+00\n",
      "   0.00000000e+00]\n",
      " [ 3.26591454e-04 -2.60035387e-05  4.31500489e-07  0.00000000e+00\n",
      "   0.00000000e+00]\n",
      " [ 0.00000000e+00  0.00000000e+00  0.00000000e+00  3.50104920e-01\n",
      "   2.31625245e-02]\n",
      " [ 0.00000000e+00  0.00000000e+00  0.00000000e+00  2.31625245e-02\n",
      "   2.08571862e+01]]\n",
      "Updating extended object track =  4\n",
      "P after update [[ 2.84042610e-01 -1.80657094e-02  2.52177039e-04  0.00000000e+00\n",
      "   0.00000000e+00]\n",
      " [-1.80657094e-02  1.28531895e-03 -1.91764072e-05  0.00000000e+00\n",
      "   0.00000000e+00]\n",
      " [ 2.52177039e-04 -1.91764072e-05  3.02421993e-07  0.00000000e+00\n",
      "   0.00000000e+00]\n",
      " [ 0.00000000e+00  0.00000000e+00  0.00000000e+00  3.50087135e-01\n",
      "   7.14762225e-03]\n",
      " [ 0.00000000e+00  0.00000000e+00  0.00000000e+00  7.14762225e-03\n",
      "   6.43622798e+00]]\n",
      "Updating extended object track =  4\n",
      "P after update [[ 1.61952634e-01 -1.07714245e-02  1.54469592e-04  0.00000000e+00\n",
      "   0.00000000e+00]\n",
      " [-1.07714245e-02  8.49520738e-04 -1.33388603e-05  0.00000000e+00\n",
      "   0.00000000e+00]\n",
      " [ 1.54469592e-04 -1.33388603e-05  2.24227652e-07  0.00000000e+00\n",
      "   0.00000000e+00]\n",
      " [ 0.00000000e+00  0.00000000e+00  0.00000000e+00  8.06092040e-02\n",
      "   1.64577353e-03]\n",
      " [ 0.00000000e+00  0.00000000e+00  0.00000000e+00  1.64577353e-03\n",
      "   6.43611565e+00]]\n",
      "Updating extended object track =  3\n",
      "P after update [[ 6.63539127e-03 -1.01349618e-03  2.71317193e-05  0.00000000e+00\n",
      "   0.00000000e+00]\n",
      " [-1.01349618e-03  4.21512983e-04 -1.38366289e-05  0.00000000e+00\n",
      "   0.00000000e+00]\n",
      " [ 2.71317193e-05 -1.38366289e-05  5.00818826e-07  0.00000000e+00\n",
      "   0.00000000e+00]\n",
      " [ 0.00000000e+00  0.00000000e+00  0.00000000e+00  1.89113594e+01\n",
      "   1.57796505e-01]\n",
      " [ 0.00000000e+00  0.00000000e+00  0.00000000e+00  1.57796505e-01\n",
      "   2.15296459e+00]]\n",
      "Updating extended object track =  4\n",
      "P after update [[ 1.61600202e-01 -1.08119986e-02  1.55493889e-04  0.00000000e+00\n",
      "   0.00000000e+00]\n",
      " [-1.08119986e-02  8.44849579e-04 -1.32209367e-05  0.00000000e+00\n",
      "   0.00000000e+00]\n",
      " [ 1.55493889e-04 -1.32209367e-05  2.21250666e-07  0.00000000e+00\n",
      "   0.00000000e+00]\n",
      " [ 0.00000000e+00  0.00000000e+00  0.00000000e+00  8.06092040e-02\n",
      "   1.64577353e-03]\n",
      " [ 0.00000000e+00  0.00000000e+00  0.00000000e+00  1.64577353e-03\n",
      "   6.43611565e+00]]\n",
      "Updating extended object track =  4\n",
      "P after update [[ 1.51426314e-01 -9.75782973e-03  1.34349107e-04  0.00000000e+00\n",
      "   0.00000000e+00]\n",
      " [-9.75782973e-03  7.35621714e-04 -1.10300170e-05  0.00000000e+00\n",
      "   0.00000000e+00]\n",
      " [ 1.34349107e-04 -1.10300170e-05  1.77304652e-07  0.00000000e+00\n",
      "   0.00000000e+00]\n",
      " [ 0.00000000e+00  0.00000000e+00  0.00000000e+00  8.06090385e-02\n",
      "   9.98532662e-04]\n",
      " [ 0.00000000e+00  0.00000000e+00  0.00000000e+00  9.98532662e-04\n",
      "   3.90495508e+00]]\n",
      "len(unique_polynoms) 3\n",
      "t 36\n",
      "Number of point tracks before run() 291\n",
      "Number of extended tracks before run() 5\n"
     ]
    },
    {
     "name": "stderr",
     "output_type": "stream",
     "text": [
      "C:\\Users\\gadli\\Anaconda3\\lib\\site-packages\\ipykernel_launcher.py:55: VisibleDeprecationWarning: Creating an ndarray from ragged nested sequences (which is a list-or-tuple of lists-or-tuples-or ndarrays with different lengths or shapes) is deprecated. If you meant to do this, you must specify 'dtype=object' when creating the ndarray\n",
      "C:\\Users\\gadli\\Anaconda3\\lib\\site-packages\\ipykernel_launcher.py:78: RuntimeWarning: divide by zero encountered in double_scalars\n"
     ]
    },
    {
     "name": "stdout",
     "output_type": "stream",
     "text": [
      "Updating extended object track =  3\n",
      "P after update [[ 6.60018264e-03 -9.85757563e-04  2.56625029e-05  0.00000000e+00\n",
      "   0.00000000e+00]\n",
      " [-9.85757563e-04  3.99659507e-04 -1.26791278e-05  0.00000000e+00\n",
      "   0.00000000e+00]\n",
      " [ 2.56625029e-05 -1.26791278e-05  4.39510096e-07  0.00000000e+00\n",
      "   0.00000000e+00]\n",
      " [ 0.00000000e+00  0.00000000e+00  0.00000000e+00  2.31370185e+01\n",
      "   1.56776180e-01]\n",
      " [ 0.00000000e+00  0.00000000e+00  0.00000000e+00  1.56776180e-01\n",
      "   1.96680181e+00]]\n",
      "Updating extended object track =  2\n",
      "P after update [[ 4.25946176e-03 -5.17371886e-04  1.22964455e-05  0.00000000e+00\n",
      "   0.00000000e+00]\n",
      " [-5.17371886e-04  2.06620617e-04 -6.39231687e-06  0.00000000e+00\n",
      "   0.00000000e+00]\n",
      " [ 1.22964455e-05 -6.39231687e-06  2.15451741e-07  0.00000000e+00\n",
      "   0.00000000e+00]\n",
      " [ 0.00000000e+00  0.00000000e+00  0.00000000e+00  2.73164774e+01\n",
      "   1.23081523e+00]\n",
      " [ 0.00000000e+00  0.00000000e+00  0.00000000e+00  1.23081523e+00\n",
      "   1.27666929e+01]]\n",
      "Updating extended object track =  4\n",
      "P after update [[ 1.36792675e-01 -9.07761597e-03  1.26980280e-04  0.00000000e+00\n",
      "   0.00000000e+00]\n",
      " [-9.07761597e-03  7.04003415e-04 -1.06874927e-05  0.00000000e+00\n",
      "   0.00000000e+00]\n",
      " [ 1.26980280e-04 -1.06874927e-05  1.73594051e-07  0.00000000e+00\n",
      "   0.00000000e+00]\n",
      " [ 0.00000000e+00  0.00000000e+00  0.00000000e+00  5.07901805e+00\n",
      "   7.90764468e-02]\n",
      " [ 0.00000000e+00  0.00000000e+00  0.00000000e+00  7.90764468e-02\n",
      "   8.75039024e+00]]\n",
      "len(unique_polynoms) 3\n"
     ]
    },
    {
     "name": "stderr",
     "output_type": "stream",
     "text": [
      "C:\\Users\\gadli\\old_pc\\Tau\\Thesis\\polynoms\\tools.py:83: RuntimeWarning: divide by zero encountered in true_divide\n",
      "  Az = np.arctan(y/x)\n",
      "C:\\Users\\gadli\\Anaconda3\\lib\\site-packages\\ipykernel_launcher.py:55: VisibleDeprecationWarning: Creating an ndarray from ragged nested sequences (which is a list-or-tuple of lists-or-tuples-or ndarrays with different lengths or shapes) is deprecated. If you meant to do this, you must specify 'dtype=object' when creating the ndarray\n"
     ]
    },
    {
     "name": "stdout",
     "output_type": "stream",
     "text": [
      "t 37\n",
      "Number of point tracks before run() 297\n",
      "Number of extended tracks before run() 5\n"
     ]
    },
    {
     "name": "stderr",
     "output_type": "stream",
     "text": [
      "C:\\Users\\gadli\\Anaconda3\\lib\\site-packages\\ipykernel_launcher.py:78: RuntimeWarning: divide by zero encountered in double_scalars\n"
     ]
    },
    {
     "name": "stdout",
     "output_type": "stream",
     "text": [
      "Updating extended object track =  0\n",
      "P after update [[ 3.69176823e-03 -4.88876395e-04  1.08612749e-05  0.00000000e+00\n",
      "   0.00000000e+00]\n",
      " [-4.88876395e-04  1.78534907e-04 -4.77647236e-06  0.00000000e+00\n",
      "   0.00000000e+00]\n",
      " [ 1.08612749e-05 -4.77647236e-06  1.39216534e-07  0.00000000e+00\n",
      "   0.00000000e+00]\n",
      " [ 0.00000000e+00  0.00000000e+00  0.00000000e+00  3.49825072e+01\n",
      "   1.59297542e+00]\n",
      " [ 0.00000000e+00  0.00000000e+00  0.00000000e+00  1.59297542e+00\n",
      "   1.25223691e+01]]\n",
      "Updating extended object track =  4\n",
      "P after update [[ 1.34579846e-01 -8.89201359e-03  1.24950496e-04  0.00000000e+00\n",
      "   0.00000000e+00]\n",
      " [-8.89201359e-03  6.88435902e-04 -1.05172433e-05  0.00000000e+00\n",
      "   0.00000000e+00]\n",
      " [ 1.24950496e-04 -1.05172433e-05  1.71732169e-07  0.00000000e+00\n",
      "   0.00000000e+00]\n",
      " [ 0.00000000e+00  0.00000000e+00  0.00000000e+00  9.88448888e+00\n",
      "   3.47033053e-01]\n",
      " [ 0.00000000e+00  0.00000000e+00  0.00000000e+00  3.47033053e-01\n",
      "   1.34090062e+01]]\n",
      "Updating extended object track =  2\n",
      "P after update [[ 4.23933495e-03 -5.00918146e-04  1.15895731e-05  0.00000000e+00\n",
      "   0.00000000e+00]\n",
      " [-5.00918146e-04  1.93169623e-04 -5.81444608e-06  0.00000000e+00\n",
      "   0.00000000e+00]\n",
      " [ 1.15895731e-05 -5.81444608e-06  1.90625721e-07  0.00000000e+00\n",
      "   0.00000000e+00]\n",
      " [ 0.00000000e+00  0.00000000e+00  0.00000000e+00  3.11030300e+01\n",
      "   3.39569965e-01]\n",
      " [ 0.00000000e+00  0.00000000e+00  0.00000000e+00  3.39569965e-01\n",
      "   2.98824489e+00]]\n",
      "Updating extended object track =  2\n",
      "P after update [[ 4.23853750e-03 -4.99889948e-04  1.15303570e-05  0.00000000e+00\n",
      "   0.00000000e+00]\n",
      " [-4.99889948e-04  1.91843909e-04 -5.73809538e-06  0.00000000e+00\n",
      "   0.00000000e+00]\n",
      " [ 1.15303570e-05 -5.73809538e-06  1.86228520e-07  0.00000000e+00\n",
      "   0.00000000e+00]\n",
      " [ 0.00000000e+00  0.00000000e+00  0.00000000e+00  3.11030300e+01\n",
      "   3.39569965e-01]\n",
      " [ 0.00000000e+00  0.00000000e+00  0.00000000e+00  3.39569965e-01\n",
      "   2.98824489e+00]]\n",
      "Updating extended object track =  4\n",
      "P after update [[ 1.34177596e-01 -8.87070307e-03  1.25111978e-04  0.00000000e+00\n",
      "   0.00000000e+00]\n",
      " [-8.87070307e-03  6.87306908e-04 -1.05257983e-05  0.00000000e+00\n",
      "   0.00000000e+00]\n",
      " [ 1.25111978e-04 -1.05257983e-05  1.71667343e-07  0.00000000e+00\n",
      "   0.00000000e+00]\n",
      " [ 0.00000000e+00  0.00000000e+00  0.00000000e+00  9.88448888e+00\n",
      "   3.47033053e-01]\n",
      " [ 0.00000000e+00  0.00000000e+00  0.00000000e+00  3.47033053e-01\n",
      "   1.34090062e+01]]\n",
      "Updating extended object track =  2\n",
      "P after update [[ 4.23272375e-03 -5.03844097e-04  1.16633894e-05  0.00000000e+00\n",
      "   0.00000000e+00]\n",
      " [-5.03844097e-04  1.89154545e-04 -5.64761509e-06  0.00000000e+00\n",
      "   0.00000000e+00]\n",
      " [ 1.16633894e-05 -5.64761509e-06  1.83184425e-07  0.00000000e+00\n",
      "   0.00000000e+00]\n",
      " [ 0.00000000e+00  0.00000000e+00  0.00000000e+00  3.11030300e+01\n",
      "   3.39569965e-01]\n",
      " [ 0.00000000e+00  0.00000000e+00  0.00000000e+00  3.39569965e-01\n",
      "   2.98824489e+00]]\n",
      "Updating extended object track =  2\n",
      "P after update [[ 4.21421801e-03 -5.08184779e-04  1.18243079e-05  0.00000000e+00\n",
      "   0.00000000e+00]\n",
      " [-5.08184779e-04  1.88136400e-04 -5.60987027e-06  0.00000000e+00\n",
      "   0.00000000e+00]\n",
      " [ 1.18243079e-05 -5.60987027e-06  1.81785143e-07  0.00000000e+00\n",
      "   0.00000000e+00]\n",
      " [ 0.00000000e+00  0.00000000e+00  0.00000000e+00  1.04370507e-01\n",
      "   1.13947386e-03]\n",
      " [ 0.00000000e+00  0.00000000e+00  0.00000000e+00  1.13947386e-03\n",
      "   2.98455005e+00]]\n",
      "Updating extended object track =  4\n",
      "P after update [[ 1.31401899e-01 -8.56674518e-03  1.18734457e-04  0.00000000e+00\n",
      "   0.00000000e+00]\n",
      " [-8.56674518e-03  6.54021433e-04 -9.82741590e-06  0.00000000e+00\n",
      "   0.00000000e+00]\n",
      " [ 1.18734457e-04 -9.82741590e-06  1.57014166e-07  0.00000000e+00\n",
      "   0.00000000e+00]\n",
      " [ 0.00000000e+00  0.00000000e+00  0.00000000e+00  9.88448888e+00\n",
      "   3.47033053e-01]\n",
      " [ 0.00000000e+00  0.00000000e+00  0.00000000e+00  3.47033053e-01\n",
      "   1.34090062e+01]]\n",
      "Updating extended object track =  2\n",
      "P after update [[ 4.15048532e-03 -4.66326192e-04  1.02306809e-05  0.00000000e+00\n",
      "   0.00000000e+00]\n",
      " [-4.66326192e-04  1.60644370e-04 -4.56320231e-06  0.00000000e+00\n",
      "   0.00000000e+00]\n",
      " [ 1.02306809e-05 -4.56320231e-06  1.41936728e-07  0.00000000e+00\n",
      "   0.00000000e+00]\n",
      " [ 0.00000000e+00  0.00000000e+00  0.00000000e+00  1.04370337e-01\n",
      "   6.92538531e-04]\n",
      " [ 0.00000000e+00  0.00000000e+00  0.00000000e+00  6.92538531e-04\n",
      "   1.81392130e+00]]\n",
      "Updating extended object track =  4\n",
      "P after update [[ 1.21019160e-01 -8.09305659e-03  1.13643431e-04  0.00000000e+00\n",
      "   0.00000000e+00]\n",
      " [-8.09305659e-03  6.32410479e-04 -9.59514955e-06  0.00000000e+00\n",
      "   0.00000000e+00]\n",
      " [ 1.13643431e-04 -9.59514955e-06  1.54517855e-07  0.00000000e+00\n",
      "   0.00000000e+00]\n",
      " [ 0.00000000e+00  0.00000000e+00  0.00000000e+00  9.88448888e+00\n",
      "   3.47033053e-01]\n",
      " [ 0.00000000e+00  0.00000000e+00  0.00000000e+00  3.47033053e-01\n",
      "   1.34090062e+01]]\n",
      "len(unique_polynoms) 3\n",
      "t 38\n",
      "Number of point tracks before run() 291\n",
      "Number of extended tracks before run() 5\n"
     ]
    },
    {
     "name": "stderr",
     "output_type": "stream",
     "text": [
      "C:\\Users\\gadli\\Anaconda3\\lib\\site-packages\\ipykernel_launcher.py:55: VisibleDeprecationWarning: Creating an ndarray from ragged nested sequences (which is a list-or-tuple of lists-or-tuples-or ndarrays with different lengths or shapes) is deprecated. If you meant to do this, you must specify 'dtype=object' when creating the ndarray\n"
     ]
    },
    {
     "name": "stdout",
     "output_type": "stream",
     "text": [
      "Updating extended object track =  4\n",
      "P after update [[ 1.20515498e-01 -8.05914454e-03  1.13539655e-04  0.00000000e+00\n",
      "   0.00000000e+00]\n",
      " [-8.05914454e-03  6.30127148e-04 -9.58816220e-06  0.00000000e+00\n",
      "   0.00000000e+00]\n",
      " [ 1.13539655e-04 -9.58816220e-06  1.54496473e-07  0.00000000e+00\n",
      "   0.00000000e+00]\n",
      " [ 0.00000000e+00  0.00000000e+00  0.00000000e+00  1.45120304e+01\n",
      "   7.89981860e-01]\n",
      " [ 0.00000000e+00  0.00000000e+00  0.00000000e+00  7.89981860e-01\n",
      "   1.78955670e+01]]\n",
      "Updating extended object track =  0\n",
      "P after update [[ 3.69173443e-03 -4.88923039e-04  1.08675314e-05  0.00000000e+00\n",
      "   0.00000000e+00]\n",
      " [-4.88923039e-04  1.78470542e-04 -4.76783878e-06  0.00000000e+00\n",
      "   0.00000000e+00]\n",
      " [ 1.08675314e-05 -4.76783878e-06  1.38058480e-07  0.00000000e+00\n",
      "   0.00000000e+00]\n",
      " [ 0.00000000e+00  0.00000000e+00  0.00000000e+00  3.83641717e+01\n",
      "   3.73934319e-01]\n",
      " [ 0.00000000e+00  0.00000000e+00  0.00000000e+00  3.73934319e-01\n",
      "   2.59802592e+00]]\n",
      "Updating extended object track =  1\n",
      "P after update [[ 7.05707690e-01 -3.36876682e-02  3.70299458e-04  0.00000000e+00\n",
      "   0.00000000e+00]\n",
      " [-3.36876682e-02  1.66278732e-03 -1.87320058e-05  0.00000000e+00\n",
      "   0.00000000e+00]\n",
      " [ 3.70299458e-04 -1.87320058e-05  2.15996006e-07  0.00000000e+00\n",
      "   0.00000000e+00]\n",
      " [ 0.00000000e+00  0.00000000e+00  0.00000000e+00  2.15810930e+01\n",
      "   3.71822712e+00]\n",
      " [ 0.00000000e+00  0.00000000e+00  0.00000000e+00  3.71822712e+00\n",
      "   4.46509431e+01]]\n",
      "Updating extended object track =  2\n",
      "P after update [[ 4.14267308e-03 -4.61217250e-04  1.01143962e-05  0.00000000e+00\n",
      "   0.00000000e+00]\n",
      " [-4.61217250e-04  1.57303291e-04 -4.48715602e-06  0.00000000e+00\n",
      "   0.00000000e+00]\n",
      " [ 1.01143962e-05 -4.48715602e-06  1.40205839e-07  0.00000000e+00\n",
      "   0.00000000e+00]\n",
      " [ 0.00000000e+00  0.00000000e+00  0.00000000e+00  5.10098999e+00\n",
      "   3.82639072e-02]\n",
      " [ 0.00000000e+00  0.00000000e+00  0.00000000e+00  3.82639072e-02\n",
      "   6.74215892e+00]]\n"
     ]
    },
    {
     "name": "stderr",
     "output_type": "stream",
     "text": [
      "C:\\Users\\gadli\\Anaconda3\\lib\\site-packages\\ipykernel_launcher.py:78: RuntimeWarning: divide by zero encountered in double_scalars\n"
     ]
    },
    {
     "name": "stdout",
     "output_type": "stream",
     "text": [
      "len(unique_polynoms) 4\n"
     ]
    },
    {
     "name": "stderr",
     "output_type": "stream",
     "text": [
      "C:\\Users\\gadli\\old_pc\\Tau\\Thesis\\polynoms\\tools.py:83: RuntimeWarning: divide by zero encountered in true_divide\n",
      "  Az = np.arctan(y/x)\n",
      "C:\\Users\\gadli\\Anaconda3\\lib\\site-packages\\ipykernel_launcher.py:55: VisibleDeprecationWarning: Creating an ndarray from ragged nested sequences (which is a list-or-tuple of lists-or-tuples-or ndarrays with different lengths or shapes) is deprecated. If you meant to do this, you must specify 'dtype=object' when creating the ndarray\n"
     ]
    },
    {
     "name": "stdout",
     "output_type": "stream",
     "text": [
      "t 39\n",
      "Number of point tracks before run() 297\n",
      "Number of extended tracks before run() 5\n"
     ]
    },
    {
     "name": "stderr",
     "output_type": "stream",
     "text": [
      "C:\\Users\\gadli\\Anaconda3\\lib\\site-packages\\ipykernel_launcher.py:78: RuntimeWarning: divide by zero encountered in double_scalars\n"
     ]
    },
    {
     "name": "stdout",
     "output_type": "stream",
     "text": [
      "Updating extended object track =  4\n",
      "P after update [[ 6.18107200e-02 -4.25369872e-03  6.08518066e-05  0.00000000e+00\n",
      "   0.00000000e+00]\n",
      " [-4.25369872e-03  3.83445049e-04 -6.17275450e-06  0.00000000e+00\n",
      "   0.00000000e+00]\n",
      " [ 6.08518066e-05 -6.17275450e-06  1.07208851e-07  0.00000000e+00\n",
      "   0.00000000e+00]\n",
      " [ 0.00000000e+00  0.00000000e+00  0.00000000e+00  8.96543549e-02\n",
      "   6.58725981e-03]\n",
      " [ 0.00000000e+00  0.00000000e+00  0.00000000e+00  6.58725981e-03\n",
      "   2.21217210e+01]]\n",
      "Updating extended object track =  3\n",
      "P after update [[ 6.48591690e-03 -9.09313327e-04  2.23033526e-05  0.00000000e+00\n",
      "   0.00000000e+00]\n",
      " [-9.09313327e-04  3.48518005e-04 -1.04318427e-05  0.00000000e+00\n",
      "   0.00000000e+00]\n",
      " [ 2.23033526e-05 -1.04318427e-05  3.40758788e-07  0.00000000e+00\n",
      "   0.00000000e+00]\n",
      " [ 0.00000000e+00  0.00000000e+00  0.00000000e+00  3.47811766e+01\n",
      "   3.77091475e-01]\n",
      " [ 0.00000000e+00  0.00000000e+00  0.00000000e+00  3.77091475e-01\n",
      "   2.95525975e+00]]\n",
      "Updating extended object track =  4\n",
      "P after update [[ 6.12638052e-02 -4.17451555e-03  5.89890404e-05  0.00000000e+00\n",
      "   0.00000000e+00]\n",
      " [-4.17451555e-03  3.71980787e-04 -5.90306031e-06  0.00000000e+00\n",
      "   0.00000000e+00]\n",
      " [ 5.89890404e-05 -5.90306031e-06  1.00864356e-07  0.00000000e+00\n",
      "   0.00000000e+00]\n",
      " [ 0.00000000e+00  0.00000000e+00  0.00000000e+00  8.96529204e-02\n",
      "   1.76993268e-03]\n",
      " [ 0.00000000e+00  0.00000000e+00  0.00000000e+00  1.76993268e-03\n",
      "   5.94389142e+00]]\n",
      "Updating extended object track =  2\n",
      "P after update [[ 4.07599326e-03 -4.60359206e-04  1.01580823e-05  0.00000000e+00\n",
      "   0.00000000e+00]\n",
      " [-4.60359206e-04  1.57292250e-04 -4.48771818e-06  0.00000000e+00\n",
      "   0.00000000e+00]\n",
      " [ 1.01580823e-05 -4.48771818e-06  1.40177217e-07  0.00000000e+00\n",
      "   0.00000000e+00]\n",
      " [ 0.00000000e+00  0.00000000e+00  0.00000000e+00  7.09124306e-02\n",
      "   1.92540236e-03]\n",
      " [ 0.00000000e+00  0.00000000e+00  0.00000000e+00  1.92540236e-03\n",
      "   1.14714612e+01]]\n",
      "len(unique_polynoms) 3\n"
     ]
    },
    {
     "name": "stderr",
     "output_type": "stream",
     "text": [
      "C:\\Users\\gadli\\old_pc\\Tau\\Thesis\\polynoms\\tools.py:83: RuntimeWarning: divide by zero encountered in true_divide\n",
      "  Az = np.arctan(y/x)\n",
      "C:\\Users\\gadli\\Anaconda3\\lib\\site-packages\\ipykernel_launcher.py:55: VisibleDeprecationWarning: Creating an ndarray from ragged nested sequences (which is a list-or-tuple of lists-or-tuples-or ndarrays with different lengths or shapes) is deprecated. If you meant to do this, you must specify 'dtype=object' when creating the ndarray\n"
     ]
    },
    {
     "name": "stdout",
     "output_type": "stream",
     "text": [
      "t 40\n",
      "Number of point tracks before run() 307\n",
      "Number of extended tracks before run() 5\n"
     ]
    },
    {
     "name": "stderr",
     "output_type": "stream",
     "text": [
      "C:\\Users\\gadli\\Anaconda3\\lib\\site-packages\\ipykernel_launcher.py:78: RuntimeWarning: divide by zero encountered in double_scalars\n"
     ]
    },
    {
     "name": "stdout",
     "output_type": "stream",
     "text": [
      "Updating extended object track =  0\n",
      "P after update [[ 3.68379961e-03 -4.81382242e-04  1.06671111e-05  0.00000000e+00\n",
      "   0.00000000e+00]\n",
      " [-4.81382242e-04  1.71304203e-04 -4.57737085e-06  0.00000000e+00\n",
      "   0.00000000e+00]\n",
      " [ 1.06671111e-05 -4.57737085e-06  1.32996198e-07  0.00000000e+00\n",
      "   0.00000000e+00]\n",
      " [ 0.00000000e+00  0.00000000e+00  0.00000000e+00  4.52515320e+01\n",
      "   2.08454107e+00]\n",
      " [ 0.00000000e+00  0.00000000e+00  0.00000000e+00  2.08454107e+00\n",
      "   1.22894521e+01]]\n",
      "Updating extended object track =  3\n",
      "P after update [[ 6.45114903e-03 -8.89283171e-04  2.18702941e-05  0.00000000e+00\n",
      "   0.00000000e+00]\n",
      " [-8.89283171e-04  3.36978413e-04 -1.01823530e-05  0.00000000e+00\n",
      "   0.00000000e+00]\n",
      " [ 2.18702941e-05 -1.01823530e-05  3.35364738e-07  0.00000000e+00\n",
      "   0.00000000e+00]\n",
      " [ 0.00000000e+00  0.00000000e+00  0.00000000e+00  3.84198061e+01\n",
      "   1.10194364e+00]\n",
      " [ 0.00000000e+00  0.00000000e+00  0.00000000e+00  1.10194364e+00\n",
      "   7.86692592e+00]]\n",
      "Updating extended object track =  1\n",
      "P after update [[ 6.75555484e-01 -3.20060635e-02  3.48672077e-04  0.00000000e+00\n",
      "   0.00000000e+00]\n",
      " [-3.20060635e-02  1.56900332e-03 -1.75258351e-05  0.00000000e+00\n",
      "   0.00000000e+00]\n",
      " [ 3.48672077e-04 -1.75258351e-05  2.00483256e-07  0.00000000e+00\n",
      "   0.00000000e+00]\n",
      " [ 0.00000000e+00  0.00000000e+00  0.00000000e+00  2.94876298e+01\n",
      "   1.20868526e+00]\n",
      " [ 0.00000000e+00  0.00000000e+00  0.00000000e+00  1.20868526e+00\n",
      "   1.01244323e+01]]\n",
      "Updating extended object track =  3\n",
      "P after update [[ 6.44972816e-03 -8.84891822e-04  2.17320995e-05  0.00000000e+00\n",
      "   0.00000000e+00]\n",
      " [-8.84891822e-04  3.23406505e-04 -9.75524853e-06  0.00000000e+00\n",
      "   0.00000000e+00]\n",
      " [ 2.17320995e-05 -9.75524853e-06  3.21923872e-07  0.00000000e+00\n",
      "   0.00000000e+00]\n",
      " [ 0.00000000e+00  0.00000000e+00  0.00000000e+00  3.84198061e+01\n",
      "   1.10194364e+00]\n",
      " [ 0.00000000e+00  0.00000000e+00  0.00000000e+00  1.10194364e+00\n",
      "   7.86692592e+00]]\n",
      "Updating extended object track =  2\n",
      "P after update [[ 4.04748371e-03 -4.41478126e-04  9.42566751e-06  0.00000000e+00\n",
      "   0.00000000e+00]\n",
      " [-4.41478126e-04  1.44787836e-04 -4.00266024e-06  0.00000000e+00\n",
      "   0.00000000e+00]\n",
      " [ 9.42566751e-06 -4.00266024e-06  1.21361365e-07  0.00000000e+00\n",
      "   0.00000000e+00]\n",
      " [ 0.00000000e+00  0.00000000e+00  0.00000000e+00  5.07022198e+00\n",
      "   4.92569072e-02]\n",
      " [ 0.00000000e+00  0.00000000e+00  0.00000000e+00  4.92569072e-02\n",
      "   3.45914095e+00]]\n",
      "Updating extended object track =  1\n",
      "P after update [[ 6.75230518e-01 -3.19985301e-02  3.48765342e-04  0.00000000e+00\n",
      "   0.00000000e+00]\n",
      " [-3.19985301e-02  1.56882868e-03 -1.75279972e-05  0.00000000e+00\n",
      "   0.00000000e+00]\n",
      " [ 3.48765342e-04 -1.75279972e-05  2.00456489e-07  0.00000000e+00\n",
      "   0.00000000e+00]\n",
      " [ 0.00000000e+00  0.00000000e+00  0.00000000e+00  2.94876298e+01\n",
      "   1.20868526e+00]\n",
      " [ 0.00000000e+00  0.00000000e+00  0.00000000e+00  1.20868526e+00\n",
      "   1.01244323e+01]]\n",
      "len(unique_polynoms) 4\n"
     ]
    },
    {
     "name": "stderr",
     "output_type": "stream",
     "text": [
      "C:\\Users\\gadli\\old_pc\\Tau\\Thesis\\polynoms\\tools.py:83: RuntimeWarning: divide by zero encountered in true_divide\n",
      "  Az = np.arctan(y/x)\n",
      "C:\\Users\\gadli\\Anaconda3\\lib\\site-packages\\ipykernel_launcher.py:55: VisibleDeprecationWarning: Creating an ndarray from ragged nested sequences (which is a list-or-tuple of lists-or-tuples-or ndarrays with different lengths or shapes) is deprecated. If you meant to do this, you must specify 'dtype=object' when creating the ndarray\n"
     ]
    },
    {
     "name": "stdout",
     "output_type": "stream",
     "text": [
      "t 41\n",
      "Number of point tracks before run() 314\n",
      "Number of extended tracks before run() 5\n"
     ]
    },
    {
     "name": "stderr",
     "output_type": "stream",
     "text": [
      "C:\\Users\\gadli\\Anaconda3\\lib\\site-packages\\ipykernel_launcher.py:78: RuntimeWarning: divide by zero encountered in double_scalars\n"
     ]
    },
    {
     "name": "stdout",
     "output_type": "stream",
     "text": [
      "Updating extended object track =  0\n",
      "P after update [[ 2.70327803e-03 -3.54964527e-04  7.87811400e-06  0.00000000e+00\n",
      "   0.00000000e+00]\n",
      " [-3.54964527e-04  1.55005286e-04 -4.21778810e-06  0.00000000e+00\n",
      "   0.00000000e+00]\n",
      " [ 7.87811400e-06 -4.21778810e-06  1.25063170e-07  0.00000000e+00\n",
      "   0.00000000e+00]\n",
      " [ 0.00000000e+00  0.00000000e+00  0.00000000e+00  1.59474400e-01\n",
      "   1.02841290e-02]\n",
      " [ 0.00000000e+00  0.00000000e+00  0.00000000e+00  1.02841290e-02\n",
      "   1.67013806e+01]]\n",
      "Updating extended object track =  4\n",
      "P after update [[ 5.98374567e-02 -3.99059853e-03  5.51244443e-05  0.00000000e+00\n",
      "   0.00000000e+00]\n",
      " [-3.99059853e-03  3.48266057e-04 -5.40474941e-06  0.00000000e+00\n",
      "   0.00000000e+00]\n",
      " [ 5.51244443e-05 -5.40474941e-06  9.03934904e-08  0.00000000e+00\n",
      "   0.00000000e+00]\n",
      " [ 0.00000000e+00  0.00000000e+00  0.00000000e+00  9.88887108e+00\n",
      "   1.67274869e-01]\n",
      " [ 0.00000000e+00  0.00000000e+00  0.00000000e+00  1.67274869e-01\n",
      "   6.02016663e+00]]\n",
      "Updating extended object track =  4\n",
      "P after update [[ 5.34786174e-02 -3.66106560e-03  5.12243667e-05  0.00000000e+00\n",
      "   0.00000000e+00]\n",
      " [-3.66106560e-03  3.31188734e-04 -5.20263643e-06  0.00000000e+00\n",
      "   0.00000000e+00]\n",
      " [ 5.12243667e-05 -5.20263643e-06  8.80014494e-08  0.00000000e+00\n",
      "   0.00000000e+00]\n",
      " [ 0.00000000e+00  0.00000000e+00  0.00000000e+00  9.88887108e+00\n",
      "   1.67274869e-01]\n",
      " [ 0.00000000e+00  0.00000000e+00  0.00000000e+00  1.67274869e-01\n",
      "   6.02016663e+00]]\n",
      "Updating extended object track =  0\n",
      "P after update [[ 2.57652287e-03 -3.43836642e-04  7.67027072e-06  0.00000000e+00\n",
      "   0.00000000e+00]\n",
      " [-3.43836642e-04  1.54028365e-04 -4.19954146e-06  0.00000000e+00\n",
      "   0.00000000e+00]\n",
      " [ 7.67027072e-06 -4.19954146e-06  1.24722364e-07  0.00000000e+00\n",
      "   0.00000000e+00]\n",
      " [ 0.00000000e+00  0.00000000e+00  0.00000000e+00  1.59474400e-01\n",
      "   1.02841290e-02]\n",
      " [ 0.00000000e+00  0.00000000e+00  0.00000000e+00  1.02841290e-02\n",
      "   1.67013806e+01]]\n",
      "Updating extended object track =  2\n",
      "P after update [[ 4.04292731e-03 -4.36963840e-04  9.30508456e-06  0.00000000e+00\n",
      "   0.00000000e+00]\n",
      " [-4.36963840e-04  1.40315279e-04 -3.88319192e-06  0.00000000e+00\n",
      "   0.00000000e+00]\n",
      " [ 9.30508456e-06 -3.88319192e-06  1.18170197e-07  0.00000000e+00\n",
      "   0.00000000e+00]\n",
      " [ 0.00000000e+00  0.00000000e+00  0.00000000e+00  9.87275571e+00\n",
      "   2.14501550e-01]\n",
      " [ 0.00000000e+00  0.00000000e+00  0.00000000e+00  2.14501550e-01\n",
      "   8.32611792e+00]]\n",
      "Updating extended object track =  0\n",
      "P after update [[ 2.57651775e-03 -3.43964247e-04  7.67389102e-06  0.00000000e+00\n",
      "   0.00000000e+00]\n",
      " [-3.43964247e-04  1.50849115e-04 -4.10934311e-06  0.00000000e+00\n",
      "   0.00000000e+00]\n",
      " [ 7.67389102e-06 -4.10934311e-06  1.22163352e-07  0.00000000e+00\n",
      "   0.00000000e+00]\n",
      " [ 0.00000000e+00  0.00000000e+00  0.00000000e+00  1.59474400e-01\n",
      "   1.02841290e-02]\n",
      " [ 0.00000000e+00  0.00000000e+00  0.00000000e+00  1.02841290e-02\n",
      "   1.67013806e+01]]\n",
      "len(unique_polynoms) 3\n",
      "t 42\n",
      "Number of point tracks before run() 306\n",
      "Number of extended tracks before run() 5\n"
     ]
    },
    {
     "name": "stderr",
     "output_type": "stream",
     "text": [
      "C:\\Users\\gadli\\Anaconda3\\lib\\site-packages\\ipykernel_launcher.py:55: VisibleDeprecationWarning: Creating an ndarray from ragged nested sequences (which is a list-or-tuple of lists-or-tuples-or ndarrays with different lengths or shapes) is deprecated. If you meant to do this, you must specify 'dtype=object' when creating the ndarray\n",
      "C:\\Users\\gadli\\Anaconda3\\lib\\site-packages\\ipykernel_launcher.py:78: RuntimeWarning: divide by zero encountered in double_scalars\n"
     ]
    },
    {
     "name": "stdout",
     "output_type": "stream",
     "text": [
      "Updating extended object track =  2\n",
      "P after update [[ 4.04292674e-03 -4.36952801e-04  9.30422972e-06  0.00000000e+00\n",
      "   0.00000000e+00]\n",
      " [-4.36952801e-04  1.40103006e-04 -3.86675393e-06  0.00000000e+00\n",
      "   0.00000000e+00]\n",
      " [ 9.30422972e-06 -3.86675393e-06  1.16897270e-07  0.00000000e+00\n",
      "   0.00000000e+00]\n",
      " [ 0.00000000e+00  0.00000000e+00  0.00000000e+00  1.44935335e+01\n",
      "   5.62791012e-01]\n",
      " [ 0.00000000e+00  0.00000000e+00  0.00000000e+00  5.62791012e-01\n",
      "   1.30087612e+01]]\n",
      "Updating extended object track =  4\n",
      "P after update [[ 5.22056226e-02 -3.63838311e-03  5.13165755e-05  0.00000000e+00\n",
      "   0.00000000e+00]\n",
      " [-3.63838311e-03  3.30784573e-04 -5.20427942e-06  0.00000000e+00\n",
      "   0.00000000e+00]\n",
      " [ 5.13165755e-05 -5.20427942e-06  8.79947703e-08  0.00000000e+00\n",
      "   0.00000000e+00]\n",
      " [ 0.00000000e+00  0.00000000e+00  0.00000000e+00  1.45062370e+01\n",
      "   4.72534833e-01]\n",
      " [ 0.00000000e+00  0.00000000e+00  0.00000000e+00  4.72534833e-01\n",
      "   1.07922808e+01]]\n",
      "Updating extended object track =  3\n",
      "P after update [[ 6.44950759e-03 -8.85077491e-04  2.17608722e-05  0.00000000e+00\n",
      "   0.00000000e+00]\n",
      " [-8.85077491e-04  3.23250210e-04 -9.73102790e-06  0.00000000e+00\n",
      "   0.00000000e+00]\n",
      " [ 2.17608722e-05 -9.73102790e-06  3.18170466e-07  0.00000000e+00\n",
      "   0.00000000e+00]\n",
      " [ 0.00000000e+00  0.00000000e+00  0.00000000e+00  4.53658251e+01\n",
      "   2.95825169e+00]\n",
      " [ 0.00000000e+00  0.00000000e+00  0.00000000e+00  2.95825169e+00\n",
      "   1.72082908e+01]]\n",
      "len(unique_polynoms) 3\n"
     ]
    },
    {
     "name": "stderr",
     "output_type": "stream",
     "text": [
      "C:\\Users\\gadli\\old_pc\\Tau\\Thesis\\polynoms\\tools.py:83: RuntimeWarning: divide by zero encountered in true_divide\n",
      "  Az = np.arctan(y/x)\n",
      "C:\\Users\\gadli\\Anaconda3\\lib\\site-packages\\ipykernel_launcher.py:55: VisibleDeprecationWarning: Creating an ndarray from ragged nested sequences (which is a list-or-tuple of lists-or-tuples-or ndarrays with different lengths or shapes) is deprecated. If you meant to do this, you must specify 'dtype=object' when creating the ndarray\n"
     ]
    },
    {
     "name": "stdout",
     "output_type": "stream",
     "text": [
      "t 43\n",
      "Number of point tracks before run() 295\n",
      "Number of extended tracks before run() 5\n",
      "Updating extended object track =  3\n",
      "P after update [[ 6.21556012e-03 -8.72555285e-04  2.16218578e-05  0.00000000e+00\n",
      "   0.00000000e+00]\n",
      " [-8.72555285e-04  3.22579950e-04 -9.72358706e-06  0.00000000e+00\n",
      "   0.00000000e+00]\n",
      " [ 2.16218578e-05 -9.72358706e-06  3.18087862e-07  0.00000000e+00\n",
      "   0.00000000e+00]\n",
      " [ 0.00000000e+00  0.00000000e+00  0.00000000e+00  8.99136209e-02\n",
      "   7.51322260e-03]\n",
      " [ 0.00000000e+00  0.00000000e+00  0.00000000e+00  7.51322260e-03\n",
      "   2.13215942e+01]]\n",
      "Updating extended object track =  4\n",
      "P after update [[ 5.20382809e-02 -3.62389406e-03  5.12641392e-05  0.00000000e+00\n",
      "   0.00000000e+00]\n",
      " [-3.62389406e-03  3.29530058e-04 -5.19973930e-06  0.00000000e+00\n",
      "   0.00000000e+00]\n",
      " [ 5.12641392e-05 -5.19973930e-06  8.79783394e-08  0.00000000e+00\n",
      "   0.00000000e+00]\n",
      " [ 0.00000000e+00  0.00000000e+00  0.00000000e+00  1.89546303e+01\n",
      "   9.49862416e-01]\n",
      " [ 0.00000000e+00  0.00000000e+00  0.00000000e+00  9.49862416e-01\n",
      "   1.53892323e+01]]\n",
      "Updating extended object track =  4\n",
      "P after update [[ 5.20271703e-02 -3.62409778e-03  5.13179519e-05  0.00000000e+00\n",
      "   0.00000000e+00]\n",
      " [-3.62409778e-03  3.29526323e-04 -5.19875261e-06  0.00000000e+00\n",
      "   0.00000000e+00]\n",
      " [ 5.13179519e-05 -5.19875261e-06  8.77177052e-08  0.00000000e+00\n",
      "   0.00000000e+00]\n",
      " [ 0.00000000e+00  0.00000000e+00  0.00000000e+00  1.89546303e+01\n",
      "   9.49862416e-01]\n",
      " [ 0.00000000e+00  0.00000000e+00  0.00000000e+00  9.49862416e-01\n",
      "   1.53892323e+01]]\n"
     ]
    },
    {
     "name": "stderr",
     "output_type": "stream",
     "text": [
      "C:\\Users\\gadli\\Anaconda3\\lib\\site-packages\\ipykernel_launcher.py:78: RuntimeWarning: divide by zero encountered in double_scalars\n"
     ]
    },
    {
     "name": "stdout",
     "output_type": "stream",
     "text": [
      "len(unique_polynoms) 2\n"
     ]
    },
    {
     "name": "stderr",
     "output_type": "stream",
     "text": [
      "C:\\Users\\gadli\\old_pc\\Tau\\Thesis\\polynoms\\tools.py:83: RuntimeWarning: divide by zero encountered in true_divide\n",
      "  Az = np.arctan(y/x)\n",
      "C:\\Users\\gadli\\Anaconda3\\lib\\site-packages\\ipykernel_launcher.py:55: VisibleDeprecationWarning: Creating an ndarray from ragged nested sequences (which is a list-or-tuple of lists-or-tuples-or ndarrays with different lengths or shapes) is deprecated. If you meant to do this, you must specify 'dtype=object' when creating the ndarray\n"
     ]
    },
    {
     "name": "stdout",
     "output_type": "stream",
     "text": [
      "t 44\n",
      "Number of point tracks before run() 298\n",
      "Number of extended tracks before run() 5\n",
      "Updating extended object track =  4\n",
      "P after update [[ 5.16815355e-02 -3.58785667e-03  5.09250875e-05  0.00000000e+00\n",
      "   0.00000000e+00]\n",
      " [-3.58785667e-03  3.25726306e-04 -5.15755930e-06  0.00000000e+00\n",
      "   0.00000000e+00]\n",
      " [ 5.09250875e-05 -5.15755930e-06  8.72711573e-08  0.00000000e+00\n",
      "   0.00000000e+00]\n",
      " [ 0.00000000e+00  0.00000000e+00  0.00000000e+00  2.32474173e+01\n",
      "   1.58576752e+00]\n",
      " [ 0.00000000e+00  0.00000000e+00  0.00000000e+00  1.58576752e+00\n",
      "   1.98246352e+01]]\n",
      "Updating extended object track =  4\n",
      "P after update [[ 5.11064719e-02 -3.51972838e-03  4.99807299e-05  0.00000000e+00\n",
      "   0.00000000e+00]\n",
      " [-3.51972838e-03  3.17655087e-04 -5.04568042e-06  0.00000000e+00\n",
      "   0.00000000e+00]\n",
      " [ 4.99807299e-05 -5.04568042e-06  8.57203529e-08  0.00000000e+00\n",
      "   0.00000000e+00]\n",
      " [ 0.00000000e+00  0.00000000e+00  0.00000000e+00  2.32474173e+01\n",
      "   1.58576752e+00]\n",
      " [ 0.00000000e+00  0.00000000e+00  0.00000000e+00  1.58576752e+00\n",
      "   1.98246352e+01]]\n",
      "Updating extended object track =  3\n",
      "P after update [[ 6.17006743e-03 -8.79702309e-04  2.19088133e-05  0.00000000e+00\n",
      "   0.00000000e+00]\n",
      " [-8.79702309e-04  3.21457133e-04 -9.67850557e-06  0.00000000e+00\n",
      "   0.00000000e+00]\n",
      " [ 2.19088133e-05 -9.67850557e-06  3.16277824e-07  0.00000000e+00\n",
      "   0.00000000e+00]\n",
      " [ 0.00000000e+00  0.00000000e+00  0.00000000e+00  5.09517620e+00\n",
      "   4.26884258e-01]\n",
      " [ 0.00000000e+00  0.00000000e+00  0.00000000e+00  4.26884258e-01\n",
      "   2.54775896e+01]]\n",
      "Updating extended object track =  0\n",
      "P after update [[ 2.56699896e-03 -3.36990029e-04  7.51379021e-06  0.00000000e+00\n",
      "   0.00000000e+00]\n",
      " [-3.36990029e-04  1.45739249e-04 -3.99204056e-06  0.00000000e+00\n",
      "   0.00000000e+00]\n",
      " [ 7.51379021e-06 -3.99204056e-06  1.19470543e-07  0.00000000e+00\n",
      "   0.00000000e+00]\n",
      " [ 0.00000000e+00  0.00000000e+00  0.00000000e+00  1.46255787e+01\n",
      "   1.49752301e+00]\n",
      " [ 0.00000000e+00  0.00000000e+00  0.00000000e+00  1.49752301e+00\n",
      "   2.92607986e+01]]\n",
      "Updating extended object track =  4\n",
      "P after update [[ 5.04393243e-02 -3.43130783e-03  4.80951760e-05  0.00000000e+00\n",
      "   0.00000000e+00]\n",
      " [-3.43130783e-03  3.05936251e-04 -4.79577813e-06  0.00000000e+00\n",
      "   0.00000000e+00]\n",
      " [ 4.80951760e-05 -4.79577813e-06  8.03912269e-08  0.00000000e+00\n",
      "   0.00000000e+00]\n",
      " [ 0.00000000e+00  0.00000000e+00  0.00000000e+00  2.31601956e+01\n",
      "   4.95356420e-01]\n",
      " [ 0.00000000e+00  0.00000000e+00  0.00000000e+00  4.95356420e-01\n",
      "   6.19274906e+00]]\n",
      "Updating extended object track =  0\n",
      "P after update [[ 2.56615261e-03 -3.35131431e-04  7.46224544e-06  0.00000000e+00\n",
      "   0.00000000e+00]\n",
      " [-3.35131431e-04  1.41657762e-04 -3.87884805e-06  0.00000000e+00\n",
      "   0.00000000e+00]\n",
      " [ 7.46224544e-06 -3.87884805e-06  1.16331359e-07  0.00000000e+00\n",
      "   0.00000000e+00]\n",
      " [ 0.00000000e+00  0.00000000e+00  0.00000000e+00  1.46255787e+01\n",
      "   1.49752301e+00]\n",
      " [ 0.00000000e+00  0.00000000e+00  0.00000000e+00  1.49752301e+00\n",
      "   2.92607986e+01]]\n",
      "Updating extended object track =  3\n",
      "P after update [[ 6.15005965e-03 -8.69886593e-04  2.17470980e-05  0.00000000e+00\n",
      "   0.00000000e+00]\n",
      " [-8.69886593e-04  3.16641592e-04 -9.59916888e-06  0.00000000e+00\n",
      "   0.00000000e+00]\n",
      " [ 2.17470980e-05 -9.59916888e-06  3.14970741e-07  0.00000000e+00\n",
      "   0.00000000e+00]\n",
      " [ 0.00000000e+00  0.00000000e+00  0.00000000e+00  5.09517620e+00\n",
      "   4.26884258e-01]\n",
      " [ 0.00000000e+00  0.00000000e+00  0.00000000e+00  4.26884258e-01\n",
      "   2.54775896e+01]]\n"
     ]
    },
    {
     "name": "stderr",
     "output_type": "stream",
     "text": [
      "C:\\Users\\gadli\\Anaconda3\\lib\\site-packages\\ipykernel_launcher.py:78: RuntimeWarning: divide by zero encountered in double_scalars\n"
     ]
    },
    {
     "name": "stdout",
     "output_type": "stream",
     "text": [
      "len(unique_polynoms) 3\n",
      "t 45\n",
      "Number of point tracks before run() 285\n",
      "Number of extended tracks before run() 5\n"
     ]
    },
    {
     "name": "stderr",
     "output_type": "stream",
     "text": [
      "C:\\Users\\gadli\\Anaconda3\\lib\\site-packages\\ipykernel_launcher.py:55: VisibleDeprecationWarning: Creating an ndarray from ragged nested sequences (which is a list-or-tuple of lists-or-tuples-or ndarrays with different lengths or shapes) is deprecated. If you meant to do this, you must specify 'dtype=object' when creating the ndarray\n",
      "C:\\Users\\gadli\\Anaconda3\\lib\\site-packages\\ipykernel_launcher.py:78: RuntimeWarning: divide by zero encountered in double_scalars\n"
     ]
    },
    {
     "name": "stdout",
     "output_type": "stream",
     "text": [
      "Updating extended object track =  0\n",
      "P after update [[ 2.56171866e-03 -3.31538756e-04  7.30100949e-06  0.00000000e+00\n",
      "   0.00000000e+00]\n",
      " [-3.31538756e-04  1.38746740e-04 -3.74820407e-06  0.00000000e+00\n",
      "   0.00000000e+00]\n",
      " [ 7.30100949e-06 -3.74820407e-06  1.10468176e-07  0.00000000e+00\n",
      "   0.00000000e+00]\n",
      " [ 0.00000000e+00  0.00000000e+00  0.00000000e+00  1.89746117e+01\n",
      "   2.47514730e-01]\n",
      " [ 0.00000000e+00  0.00000000e+00  0.00000000e+00  2.47514730e-01\n",
      "   3.57079280e+00]]\n",
      "Updating extended object track =  4\n",
      "P after update [[ 5.01119527e-02 -3.37245719e-03  4.70963365e-05  0.00000000e+00\n",
      "   0.00000000e+00]\n",
      " [-3.37245719e-03  2.95356846e-04 -4.61621970e-06  0.00000000e+00\n",
      "   0.00000000e+00]\n",
      " [ 4.70963365e-05 -4.61621970e-06  7.73436804e-08  0.00000000e+00\n",
      "   0.00000000e+00]\n",
      " [ 0.00000000e+00  0.00000000e+00  0.00000000e+00  2.72649469e+01\n",
      "   1.05125616e+00]\n",
      " [ 0.00000000e+00  0.00000000e+00  0.00000000e+00  1.05125616e+00\n",
      "   1.09761982e+01]]\n",
      "Updating extended object track =  3\n",
      "P after update [[ 5.92722761e-03 -8.55136715e-04  2.15209197e-05  0.00000000e+00\n",
      "   0.00000000e+00]\n",
      " [-8.55136715e-04  3.15665256e-04 -9.58419750e-06  0.00000000e+00\n",
      "   0.00000000e+00]\n",
      " [ 2.15209197e-05 -9.58419750e-06  3.14741166e-07  0.00000000e+00\n",
      "   0.00000000e+00]\n",
      " [ 0.00000000e+00  0.00000000e+00  0.00000000e+00  8.92693641e-02\n",
      "   9.08300313e-03]\n",
      " [ 0.00000000e+00  0.00000000e+00  0.00000000e+00  9.08300313e-03\n",
      "   2.93856708e+01]]\n",
      "i_trk 1 self.frame_idx 46 trk.getLastUpdateFrameIdx() 41\n",
      "len(unique_polynoms) 3\n",
      "t 46\n",
      "Number of point tracks before run() 285\n",
      "Number of extended tracks before run() 4\n"
     ]
    },
    {
     "name": "stderr",
     "output_type": "stream",
     "text": [
      "C:\\Users\\gadli\\Anaconda3\\lib\\site-packages\\ipykernel_launcher.py:55: VisibleDeprecationWarning: Creating an ndarray from ragged nested sequences (which is a list-or-tuple of lists-or-tuples-or ndarrays with different lengths or shapes) is deprecated. If you meant to do this, you must specify 'dtype=object' when creating the ndarray\n",
      "C:\\Users\\gadli\\Anaconda3\\lib\\site-packages\\ipykernel_launcher.py:78: RuntimeWarning: divide by zero encountered in double_scalars\n"
     ]
    },
    {
     "name": "stdout",
     "output_type": "stream",
     "text": [
      "Updating extended object track =  3\n",
      "P after update [[ 4.53696303e-02 -3.11949388e-03  4.40198970e-05  0.00000000e+00\n",
      "   0.00000000e+00]\n",
      " [-3.11949388e-03  2.81863365e-04 -4.45211733e-06  0.00000000e+00\n",
      "   0.00000000e+00]\n",
      " [ 4.40198970e-05 -4.45211733e-06  7.53479324e-08  0.00000000e+00\n",
      "   0.00000000e+00]\n",
      " [ 0.00000000e+00  0.00000000e+00  0.00000000e+00  1.32560889e-01\n",
      "   7.46859514e-03]\n",
      " [ 0.00000000e+00  0.00000000e+00  0.00000000e+00  7.46859514e-03\n",
      "   1.54949409e+01]]\n",
      "Updating extended object track =  1\n",
      "P after update [[ 3.74291240e-03 -4.10606645e-04  8.80064611e-06  0.00000000e+00\n",
      "   0.00000000e+00]\n",
      " [-4.10606645e-04  1.37789384e-04 -3.82253107e-06  0.00000000e+00\n",
      "   0.00000000e+00]\n",
      " [ 8.80064611e-06 -3.82253107e-06  1.16051989e-07  0.00000000e+00\n",
      "   0.00000000e+00]\n",
      " [ 0.00000000e+00  0.00000000e+00  0.00000000e+00  1.30086967e-01\n",
      "   1.45520146e-02]\n",
      " [ 0.00000000e+00  0.00000000e+00  0.00000000e+00  1.45520146e-02\n",
      "   2.97760027e+01]]\n",
      "Updating extended object track =  1\n",
      "P after update [[ 3.73373404e-03 -4.03993596e-04  8.53111177e-06  0.00000000e+00\n",
      "   0.00000000e+00]\n",
      " [-4.03993596e-04  1.33024651e-04 -3.62833032e-06  0.00000000e+00\n",
      "   0.00000000e+00]\n",
      " [ 8.53111177e-06 -3.62833032e-06  1.08136764e-07  0.00000000e+00\n",
      "   0.00000000e+00]\n",
      " [ 0.00000000e+00  0.00000000e+00  0.00000000e+00  1.30080698e-01\n",
      "   1.72396908e-03]\n",
      " [ 0.00000000e+00  0.00000000e+00  0.00000000e+00  1.72396908e-03\n",
      "   3.52754649e+00]]\n",
      "len(unique_polynoms) 2\n",
      "t 47\n",
      "Number of point tracks before run() 290\n",
      "Number of extended tracks before run() 4\n"
     ]
    },
    {
     "name": "stderr",
     "output_type": "stream",
     "text": [
      "C:\\Users\\gadli\\Anaconda3\\lib\\site-packages\\ipykernel_launcher.py:55: VisibleDeprecationWarning: Creating an ndarray from ragged nested sequences (which is a list-or-tuple of lists-or-tuples-or ndarrays with different lengths or shapes) is deprecated. If you meant to do this, you must specify 'dtype=object' when creating the ndarray\n"
     ]
    },
    {
     "name": "stdout",
     "output_type": "stream",
     "text": [
      "Updating extended object track =  3\n",
      "P after update [[ 4.53685167e-02 -3.12140910e-03  4.40583885e-05  0.00000000e+00\n",
      "   0.00000000e+00]\n",
      " [-3.12140910e-03  2.78569408e-04 -4.38591639e-06  0.00000000e+00\n",
      "   0.00000000e+00]\n",
      " [ 4.40583885e-05 -4.38591639e-06  7.40174457e-08  0.00000000e+00\n",
      "   0.00000000e+00]\n",
      " [ 0.00000000e+00  0.00000000e+00  0.00000000e+00  5.13380222e+00\n",
      "   3.13474862e-01]\n",
      " [ 0.00000000e+00  0.00000000e+00  0.00000000e+00  3.13474862e-01\n",
      "   1.98816870e+01]]\n",
      "Updating extended object track =  3\n",
      "P after update [[ 4.53634969e-02 -3.11991002e-03  4.40036546e-05  0.00000000e+00\n",
      "   0.00000000e+00]\n",
      " [-3.11991002e-03  2.78121737e-04 -4.36957118e-06  0.00000000e+00\n",
      "   0.00000000e+00]\n",
      " [ 4.40036546e-05 -4.36957118e-06  7.34206556e-08  0.00000000e+00\n",
      "   0.00000000e+00]\n",
      " [ 0.00000000e+00  0.00000000e+00  0.00000000e+00  5.13380222e+00\n",
      "   3.13474862e-01]\n",
      " [ 0.00000000e+00  0.00000000e+00  0.00000000e+00  3.13474862e-01\n",
      "   1.98816870e+01]]\n"
     ]
    },
    {
     "name": "stderr",
     "output_type": "stream",
     "text": [
      "C:\\Users\\gadli\\Anaconda3\\lib\\site-packages\\ipykernel_launcher.py:78: RuntimeWarning: divide by zero encountered in double_scalars\n"
     ]
    },
    {
     "name": "stdout",
     "output_type": "stream",
     "text": [
      "len(unique_polynoms) 1\n"
     ]
    },
    {
     "name": "stderr",
     "output_type": "stream",
     "text": [
      "C:\\Users\\gadli\\old_pc\\Tau\\Thesis\\polynoms\\tools.py:83: RuntimeWarning: divide by zero encountered in true_divide\n",
      "  Az = np.arctan(y/x)\n",
      "C:\\Users\\gadli\\Anaconda3\\lib\\site-packages\\ipykernel_launcher.py:55: VisibleDeprecationWarning: Creating an ndarray from ragged nested sequences (which is a list-or-tuple of lists-or-tuples-or ndarrays with different lengths or shapes) is deprecated. If you meant to do this, you must specify 'dtype=object' when creating the ndarray\n"
     ]
    },
    {
     "name": "stdout",
     "output_type": "stream",
     "text": [
      "t 48\n",
      "Number of point tracks before run() 297\n",
      "Number of extended tracks before run() 4\n"
     ]
    },
    {
     "name": "stderr",
     "output_type": "stream",
     "text": [
      "C:\\Users\\gadli\\Anaconda3\\lib\\site-packages\\ipykernel_launcher.py:78: RuntimeWarning: divide by zero encountered in double_scalars\n"
     ]
    },
    {
     "name": "stdout",
     "output_type": "stream",
     "text": [
      "Updating extended object track =  3\n",
      "P after update [[ 4.19129687e-02 -2.93814760e-03  4.18127029e-05  0.00000000e+00\n",
      "   0.00000000e+00]\n",
      " [-2.93814760e-03  2.68547093e-04 -4.25415908e-06  0.00000000e+00\n",
      "   0.00000000e+00]\n",
      " [ 4.18127029e-05 -4.25415908e-06  7.20294861e-08  0.00000000e+00\n",
      "   0.00000000e+00]\n",
      " [ 0.00000000e+00  0.00000000e+00  0.00000000e+00  1.65056588e-01\n",
      "   1.31287339e-02]\n",
      " [ 0.00000000e+00  0.00000000e+00  0.00000000e+00  1.31287339e-02\n",
      "   2.40468025e+01]]\n",
      "Updating extended object track =  3\n",
      "P after update [[ 4.14668182e-02 -2.87302856e-03  4.07632087e-05  0.00000000e+00\n",
      "   0.00000000e+00]\n",
      " [-2.87302856e-03  2.59042476e-04 -4.10097745e-06  0.00000000e+00\n",
      "   0.00000000e+00]\n",
      " [ 4.07632087e-05 -4.10097745e-06  6.95607269e-08  0.00000000e+00\n",
      "   0.00000000e+00]\n",
      " [ 0.00000000e+00  0.00000000e+00  0.00000000e+00  1.65056588e-01\n",
      "   1.31287339e-02]\n",
      " [ 0.00000000e+00  0.00000000e+00  0.00000000e+00  1.31287339e-02\n",
      "   2.40468025e+01]]\n",
      "len(unique_polynoms) 1\n",
      "t 49\n",
      "Number of point tracks before run() 299\n",
      "Number of extended tracks before run() 4\n"
     ]
    },
    {
     "name": "stderr",
     "output_type": "stream",
     "text": [
      "C:\\Users\\gadli\\Anaconda3\\lib\\site-packages\\ipykernel_launcher.py:55: VisibleDeprecationWarning: Creating an ndarray from ragged nested sequences (which is a list-or-tuple of lists-or-tuples-or ndarrays with different lengths or shapes) is deprecated. If you meant to do this, you must specify 'dtype=object' when creating the ndarray\n",
      "C:\\Users\\gadli\\Anaconda3\\lib\\site-packages\\ipykernel_launcher.py:78: RuntimeWarning: divide by zero encountered in double_scalars\n"
     ]
    },
    {
     "name": "stdout",
     "output_type": "stream",
     "text": [
      "Updating extended object track =  0\n",
      "P after update [[ 2.55572388e-03 -3.26944274e-04  7.10763675e-06  0.00000000e+00\n",
      "   0.00000000e+00]\n",
      " [-3.26944274e-04  1.35225470e-04 -3.60000071e-06  0.00000000e+00\n",
      "   0.00000000e+00]\n",
      " [ 7.10763675e-06 -3.60000071e-06  1.04230587e-07  0.00000000e+00\n",
      "   0.00000000e+00]\n",
      " [ 0.00000000e+00  0.00000000e+00  0.00000000e+00  3.48429125e+01\n",
      "   4.63735473e-01]\n",
      " [ 0.00000000e+00  0.00000000e+00  0.00000000e+00  4.63735473e-01\n",
      "   3.53177887e+00]]\n",
      "Updating extended object track =  1\n",
      "P after update [[ 3.70887790e-03 -3.88359754e-04  7.95863889e-06  0.00000000e+00\n",
      "   0.00000000e+00]\n",
      " [-3.88359754e-04  1.23191384e-04 -3.26826024e-06  0.00000000e+00\n",
      "   0.00000000e+00]\n",
      " [ 7.95863889e-06 -3.26826024e-06  9.49518822e-08  0.00000000e+00\n",
      "   0.00000000e+00]\n",
      " [ 0.00000000e+00  0.00000000e+00  0.00000000e+00  1.45283924e+01\n",
      "   1.73004394e-01]\n",
      " [ 0.00000000e+00  0.00000000e+00  0.00000000e+00  1.73004394e-01\n",
      "   3.93115754e+00]]\n",
      "Updating extended object track =  3\n",
      "P after update [[ 3.86552971e-02 -2.72702167e-03  3.90207526e-05  0.00000000e+00\n",
      "   0.00000000e+00]\n",
      " [-2.72702167e-03  2.51460099e-04 -4.01048885e-06  0.00000000e+00\n",
      "   0.00000000e+00]\n",
      " [ 3.90207526e-05 -4.01048885e-06  6.84808298e-08  0.00000000e+00\n",
      "   0.00000000e+00]\n",
      " [ 0.00000000e+00  0.00000000e+00  0.00000000e+00  1.29783200e-01\n",
      "   1.22325917e-02]\n",
      " [ 0.00000000e+00  0.00000000e+00  0.00000000e+00  1.22325917e-02\n",
      "   2.80503653e+01]]\n",
      "Updating extended object track =  1\n",
      "P after update [[ 3.66213674e-03 -3.88679587e-04  8.01062904e-06  0.00000000e+00\n",
      "   0.00000000e+00]\n",
      " [-3.88679587e-04  1.23189195e-04 -3.26790449e-06  0.00000000e+00\n",
      "   0.00000000e+00]\n",
      " [ 8.01062904e-06 -3.26790449e-06  9.48940536e-08  0.00000000e+00\n",
      "   0.00000000e+00]\n",
      " [ 0.00000000e+00  0.00000000e+00  0.00000000e+00  1.45283924e+01\n",
      "   1.73004394e-01]\n",
      " [ 0.00000000e+00  0.00000000e+00  0.00000000e+00  1.73004394e-01\n",
      "   3.93115754e+00]]\n",
      "len(unique_polynoms) 3\n"
     ]
    },
    {
     "data": {
      "image/png": "[encoded data removed]",
      "text/plain": [
       "<Figure size 432x288 with 1 Axes>"
      ]
     },
     "metadata": {
      "needs_background": "light"
     },
     "output_type": "display_data"
    },
    {
     "data": {
      "image/png": "[encoded data removed]",
      "text/plain": [
       "<Figure size 2880x1080 with 6 Axes>"
      ]
     },
     "metadata": {
      "needs_background": "light"
     },
     "output_type": "display_data"
    }
   ],
   "source": [
    "np.random.seed(0)\n",
    "\n",
    "a1, a2, a3 = 2, 0.009, -0.004\n",
    "dR, dAz = 0.4, 0.05 # [m,rad]\n",
    "#prior = [a1+0.01,a2+0.0001,a3+0.0000001]\n",
    "prior = [a1,a2,a3]\n",
    "model = Tracker()\n",
    "\n",
    "x, y = createPolynom(a1=a1,a2=a2,a3=a3)\n",
    "plt.plot(y,x,label='true')\n",
    "\n",
    "video = TrackVideo(x,y)\n",
    "\n",
    "for t in range(50):\n",
    "    [_,_,x_poly,y_poly,polynom_cov] = generatePolynomNoisyPoints(N=60,a1=a1,a2=a2,a3=a3,dR=dR,dAz=dAz)\n",
    "    [x_noise,y_noise,noise_cov] = generateRandomNoisyPoints(N=40,xRange=[0,100],yRange=[-40,40],dR=dR,dAz=dAz)\n",
    "    x_meas = np.concatenate([x_poly, x_noise])\n",
    "    y_meas = np.concatenate([y_poly, y_noise])\n",
    "    dz_meas = np.concatenate([polynom_cov, noise_cov])\n",
    "    z = np.array([x_meas, y_meas]).T\n",
    "    dz = np.array(dz_meas)\n",
    "    print(\"t\",t)\n",
    "    measurements = {\"polynom\":np.array([x_poly, y_poly]).T,\"dpolynom\":polynom_cov,\n",
    "                    \"other\":np.array([x_noise, y_noise]).T,\"dother\":noise_cov}\n",
    "    points, polynoms = model.run(z,dz,prior)\n",
    "    video.save(t, measurements, points, polynoms, model.getDebugInfo())\n",
    "    \n",
    "#for polynom in polynoms:\n",
    "polynoms = model.getPolynoms()\n",
    "for polynom in polynoms:\n",
    "    x_plot = np.linspace(polynom[\"x_start\"], polynom[\"x_end\"], 100)\n",
    "    y_plot = polynom[\"f\"](x_plot)\n",
    "    plt.plot(y_plot,x_plot,label='estimated')"
   ]
  },
  {
   "cell_type": "markdown",
   "metadata": {},
   "source": [
    "model = Tracker()\n",
    "model.innerProductPolynoms((1,2,3),(1,2.01,3.01),10,23)"
   ]
  },
  {
   "cell_type": "code",
   "execution_count": 13,
   "metadata": {},
   "outputs": [
    {
     "name": "stdout",
     "output_type": "stream",
     "text": [
      "[[2. 2. 2.]\n",
      " [2. 2. 2.]\n",
      " [2. 2. 2.]]\n"
     ]
    }
   ],
   "source": [
    "A = np.zeros((3,3))\n",
    "A[:,1] = 1\n",
    "A[:,None] = 2\n",
    "print(A)"
   ]
  },
  {
   "cell_type": "code",
   "execution_count": 4,
   "metadata": {},
   "outputs": [
    {
     "name": "stdout",
     "output_type": "stream",
     "text": [
      "track_0.png\n",
      "track_1.png\n",
      "track_2.png\n",
      "track_3.png\n",
      "track_4.png\n",
      "track_5.png\n",
      "track_6.png\n",
      "track_7.png\n",
      "track_8.png\n",
      "track_9.png\n",
      "track_10.png\n",
      "track_11.png\n",
      "track_12.png\n",
      "track_13.png\n",
      "track_14.png\n",
      "track_15.png\n",
      "track_16.png\n",
      "track_17.png\n",
      "track_18.png\n",
      "track_19.png\n",
      "track_20.png\n",
      "track_21.png\n",
      "track_22.png\n",
      "track_23.png\n",
      "track_24.png\n",
      "track_25.png\n",
      "track_26.png\n",
      "track_27.png\n",
      "track_28.png\n",
      "track_29.png\n",
      "track_30.png\n",
      "track_31.png\n",
      "track_32.png\n",
      "track_33.png\n",
      "track_34.png\n",
      "track_35.png\n",
      "track_36.png\n",
      "track_37.png\n",
      "track_38.png\n",
      "track_39.png\n",
      "track_40.png\n",
      "track_41.png\n",
      "track_42.png\n",
      "track_43.png\n",
      "track_44.png\n",
      "track_45.png\n",
      "track_46.png\n",
      "track_47.png\n",
      "track_48.png\n",
      "track_49.png\n",
      "track_50.png\n",
      "track_51.png\n",
      "track_52.png\n",
      "track_53.png\n",
      "track_54.png\n",
      "track_55.png\n",
      "track_56.png\n",
      "track_57.png\n",
      "track_58.png\n",
      "track_59.png\n",
      "track_60.png\n",
      "track_61.png\n",
      "track_62.png\n",
      "track_63.png\n",
      "track_64.png\n",
      "track_65.png\n",
      "track_66.png\n",
      "track_67.png\n",
      "track_68.png\n",
      "track_69.png\n",
      "track_70.png\n",
      "track_71.png\n",
      "track_72.png\n",
      "track_73.png\n",
      "track_74.png\n",
      "track_75.png\n",
      "track_76.png\n",
      "track_77.png\n",
      "track_78.png\n",
      "track_79.png\n",
      "track_80.png\n",
      "track_81.png\n",
      "track_82.png\n",
      "track_83.png\n",
      "track_84.png\n",
      "track_85.png\n",
      "track_86.png\n",
      "track_87.png\n",
      "track_88.png\n",
      "track_89.png\n",
      "track_90.png\n",
      "track_91.png\n",
      "track_92.png\n",
      "track_93.png\n",
      "track_94.png\n",
      "track_95.png\n",
      "track_96.png\n",
      "track_97.png\n",
      "track_98.png\n",
      "track_99.png\n",
      "track_100.png\n",
      "track_101.png\n",
      "track_102.png\n",
      "track_103.png\n",
      "track_104.png\n",
      "track_105.png\n",
      "track_106.png\n",
      "track_107.png\n",
      "track_108.png\n",
      "track_109.png\n",
      "track_110.png\n",
      "track_111.png\n",
      "track_112.png\n",
      "track_113.png\n",
      "track_114.png\n",
      "track_115.png\n",
      "track_116.png\n",
      "track_117.png\n",
      "track_118.png\n",
      "track_119.png\n",
      "track_120.png\n",
      "track_121.png\n",
      "track_122.png\n",
      "track_123.png\n",
      "track_124.png\n",
      "track_125.png\n",
      "track_126.png\n",
      "track_127.png\n",
      "track_128.png\n",
      "track_129.png\n",
      "track_130.png\n",
      "track_131.png\n",
      "track_132.png\n",
      "track_133.png\n",
      "track_134.png\n",
      "track_135.png\n",
      "track_136.png\n",
      "track_137.png\n",
      "track_138.png\n",
      "track_139.png\n",
      "track_140.png\n",
      "track_141.png\n",
      "track_142.png\n",
      "track_143.png\n",
      "track_144.png\n",
      "track_145.png\n",
      "track_146.png\n",
      "track_147.png\n",
      "track_148.png\n",
      "track_149.png\n"
     ]
    },
    {
     "data": {
      "image/png": "[encoded data removed]",
      "text/plain": [
       "<Figure size 2880x1080 with 6 Axes>"
      ]
     },
     "metadata": {
      "needs_background": "light"
     },
     "output_type": "display_data"
    }
   ],
   "source": [
    "from video import TrackVideo\n",
    "video = TrackVideo(gtx=None,gty=None)\n",
    "video.generate(\"video/dynamic_150.avi\", fps=3)"
   ]
  },
  {
   "cell_type": "code",
   "execution_count": 21,
   "metadata": {},
   "outputs": [
    {
     "name": "stdout",
     "output_type": "stream",
     "text": [
      "J [[[ 0.]\n",
      "  [40.]]\n",
      "\n",
      " [[ 1.]\n",
      "  [-0.]]]\n",
      "(2, 2, 1)\n",
      "[[[4.   0.  ]\n",
      "  [0.   0.16]]]\n"
     ]
    }
   ],
   "source": [
    "def errorPropagation2(R,Az,dR,dAz):\n",
    "    J = np.array([[np.sin(Az), R*np.cos(Az)],[np.cos(Az), -R*np.sin(Az)]]) #x and y are opposite here!\n",
    "    print(\"J\",J)\n",
    "    print(J.shape)\n",
    "    orig_cov =  np.diag([dR*dR, dAz*dAz])\n",
    "\n",
    "    return np.matmul(np.matmul(np.transpose(J, (2,0,1)), orig_cov), np.transpose(J, (2,1,0)))\n",
    "\n",
    "cov = errorPropagation2(R=np.array([40]), Az=np.array([0]), dR=0.4, dAz=0.05)\n",
    "print(cov)"
   ]
  },
  {
   "cell_type": "code",
   "execution_count": 24,
   "metadata": {},
   "outputs": [
    {
     "data": {
      "text/plain": [
       "3.990407997333811"
      ]
     },
     "execution_count": 24,
     "metadata": {},
     "output_type": "execute_result"
    }
   ],
   "source": [
    "(np.sin(0.05)**2)*(0.4**2)+(40**2)*(np.cos(0.05)**2)*(0.05**2)"
   ]
  },
  {
   "cell_type": "code",
   "execution_count": 185,
   "metadata": {},
   "outputs": [
    {
     "name": "stdout",
     "output_type": "stream",
     "text": [
      "(1594,) 1594\n",
      "62\n"
     ]
    }
   ],
   "source": [
    "with open(r'C:\\Users\\gadli\\Desktop\\sensor2.txt', 'r') as f:\n",
    "    lines = f.readlines()\n",
    "    \n",
    "s1_t0 = 1641063513926\n",
    "s2_t0 = 1641063513941\n",
    "start = s1_t0\n",
    "step = 40\n",
    "end = start + step * 1594\n",
    "x = np.arange(start, end, step)\n",
    "print(x.shape,len(lines))\n",
    "lines = [str(x[i]) + \" \" + line for i,line in enumerate(lines)]\n",
    "print(len(lines[45::25]))\n",
    "with open(r'C:\\Users\\gadli\\Desktop\\sensor2_new.txt', 'w') as f:\n",
    "    f.writelines(lines[20::25])"
   ]
  },
  {
   "cell_type": "code",
   "execution_count": 45,
   "metadata": {},
   "outputs": [
    {
     "data": {
      "image/png": "[encoded data removed]",
      "text/plain": [
       "<Figure size 432x288 with 1 Axes>"
      ]
     },
     "metadata": {
      "needs_background": "light"
     },
     "output_type": "display_data"
    },
    {
     "name": "stdout",
     "output_type": "stream",
     "text": [
      "range(0, 1594)\n"
     ]
    }
   ],
   "source": [
    "import matplotlib.pyplot as plt\n",
    "import numpy as np\n",
    "with open(r'C:\\Users\\gadli\\Desktop\\SW Assignment Yann\\data\\sensor1_drive2.txt', 'r') as f:\n",
    "    lines = f.readlines()\n",
    "    \n",
    "xy = [line.split() for line in lines]\n",
    "xy = np.array(xy).astype(np.float32)\n",
    "x = xy[:,0]\n",
    "y = xy[:,1]\n",
    "\n",
    "#x_noisy = x + np.random.normal(0,4,x.shape[0])\n",
    "#y_noisy = y + np.random.normal(0,9,y.shape[0])\n",
    "\n",
    "fig, ax = plt.subplots()\n",
    "ax.scatter(x, y, s=1, label=\"GT\")\n",
    "ax.scatter(x, y, s=1, label=\"GT\")\n",
    "plt.show()\n",
    "print(range(x.shape[0]))\n",
    "\n",
    "#lines = [str(x_noisy[i]) + \" \" + str(y_noisy[i]) + \"\\n\" for i in range(x.shape[0])]\n",
    "#lines = [str(x[i]) + \" \" + str(y[i]) + \"\\n\" for i in range(x.shape[0])]\n",
    "#with open(r'C:\\Users\\gadli\\Desktop\\SW Assignment Yann\\data\\sensor2.txt', 'w') as f:\n",
    "    #f.writelines(lines)\n"
   ]
  },
  {
   "cell_type": "code",
   "execution_count": 53,
   "metadata": {},
   "outputs": [
    {
     "data": {
      "image/png": "[encoded data removed]",
      "text/plain": [
       "<Figure size 432x288 with 1 Axes>"
      ]
     },
     "metadata": {
      "needs_background": "light"
     },
     "output_type": "display_data"
    }
   ],
   "source": [
    "import matplotlib.pyplot as plt\n",
    "import numpy as np\n",
    "import os\n",
    "\n",
    "dir_path = r\"C:\\Users\\gadli\\Desktop\\SW Assignment Yann\\data\"\n",
    "with open(os.path.join(dir_path, 'sensor2.txt'), 'r') as f:\n",
    "    gt_lines = f.readlines()\n",
    "    \n",
    "with open(os.path.join(dir_path, 'sensor1_drive1.txt'), 'r') as f:\n",
    "    kf_lines = f.readlines()\n",
    "    \n",
    "xy = [line.split() for line in gt_lines]\n",
    "xy = np.array(xy).astype(np.float32)\n",
    "x_gt = xy[:,0]\n",
    "y_gt = xy[:,1]\n",
    "          \n",
    "xy = [line.split() for line in kf_lines]\n",
    "xy = np.array(xy).astype(np.float32)\n",
    "x_kf = xy[:,0]\n",
    "y_kf = xy[:,1]\n",
    "\n",
    "fig, ax = plt.subplots()\n",
    "ax.set_title(\"GT vs. KF\")\n",
    "ax.scatter(x_gt, y_gt, s=1, label=\"GT\")\n",
    "ax.scatter(x_kf, y_kf, s=1, label=\"KF\")\n",
    "ax.set_xlabel(\"x\")\n",
    "ax.set_ylabel(\"y\")\n",
    "plt.show()"
   ]
  },
  {
   "cell_type": "code",
   "execution_count": null,
   "metadata": {},
   "outputs": [],
   "source": []
  }
 ],
 "metadata": {
  "kernelspec": {
   "display_name": "Python 3",
   "language": "python",
   "name": "python3"
  },
  "language_info": {
   "codemirror_mode": {
    "name": "ipython",
    "version": 3
   },
   "file_extension": ".py",
   "mimetype": "text/x-python",
   "name": "python",
   "nbconvert_exporter": "python",
   "pygments_lexer": "ipython3",
   "version": "3.6.9"
  }
 },
 "nbformat": 4,
 "nbformat_minor": 4
}
